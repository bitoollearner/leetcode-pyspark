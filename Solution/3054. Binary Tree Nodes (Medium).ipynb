{
 "cells": [
  {
   "cell_type": "markdown",
   "metadata": {
    "application/vnd.databricks.v1+cell": {
     "cellMetadata": {},
     "inputWidgets": {},
     "nuid": "7d1791bd-9552-4116-90b2-daa678bbffb8",
     "showTitle": false,
     "tableResultSettingsMap": {},
     "title": ""
    }
   },
   "source": [
    "## Importing Libraries"
   ]
  },
  {
   "cell_type": "code",
   "execution_count": 0,
   "metadata": {
    "application/vnd.databricks.v1+cell": {
     "cellMetadata": {},
     "inputWidgets": {},
     "nuid": "2901fbc9-49db-4285-8b94-c460f34d4c4f",
     "showTitle": false,
     "tableResultSettingsMap": {},
     "title": ""
    }
   },
   "outputs": [],
   "source": [
    "from pyspark.sql.functions import *\n",
    "from pyspark.sql.types import *\n",
    "from pyspark.sql.window import Window"
   ]
  },
  {
   "cell_type": "markdown",
   "metadata": {
    "application/vnd.databricks.v1+cell": {
     "cellMetadata": {},
     "inputWidgets": {},
     "nuid": "655120e7-6b25-417c-a08a-c6925feaa425",
     "showTitle": false,
     "tableResultSettingsMap": {},
     "title": ""
    }
   },
   "source": [
    "**3054. Binary Tree Nodes (Medium)**\n",
    "\n",
    "**Table: Tree**\n",
    "\n",
    "| Column Name | Type | \n",
    "|-------------|------| \n",
    "| N           | int  | \n",
    "| P           | int  |\n",
    "\n",
    "N is the column of unique values for this table.\n",
    "Each row includes N and P, where N represents the value of a node in Binary Tree, and P is the parent of N.\n",
    "\n",
    "**Write a solution to find the node type of the Binary Tree. Output one of the following for each node:**\n",
    "- **Root:** if the node is the root node.\n",
    "- **Leaf:** if the node is the leaf node.\n",
    "- **Inner:** if the node is neither root nor leaf node.\n",
    "\n",
    "Return the result table ordered by node value in ascending order.\n",
    "\n",
    "The result format is in the following example.\n",
    "\n",
    "**Example 1:**\n",
    "\n",
    "**Input:**\n",
    "\n",
    "**Tree table:**\n",
    "\n",
    "| N | P    | \n",
    "|---|------|\n",
    "| 1 | 2    |\n",
    "| 3 | 2    | \n",
    "| 6 | 8    | \n",
    "| 9 | 8    | \n",
    "| 2 | 5    | \n",
    "| 8 | 5    | \n",
    "| 5 | null | \n",
    "\n",
    "**Output:**\n",
    "| N | Type  | \n",
    "|---|-------|\n",
    "| 1 | Leaf  | \n",
    "| 2 | Inner |\n",
    "| 3 | Leaf  |\n",
    "| 5 | Root  |\n",
    "| 6 | Leaf  |\n",
    "| 8 | Inner |\n",
    "| 9 | Leaf  |    \n",
    "\n",
    "**Explanation:** \n",
    "- Node 5 is the root node since it has no parent node.\n",
    "- Nodes 1, 3, 6, and 9 are leaf nodes because they don't have any child nodes.\n",
    "- Nodes 2, and 8 are inner nodes as they serve as parents to some of the nodes in the structure."
   ]
  },
  {
   "cell_type": "code",
   "execution_count": 0,
   "metadata": {
    "application/vnd.databricks.v1+cell": {
     "cellMetadata": {},
     "inputWidgets": {},
     "nuid": "a2368434-0191-416c-aa1d-12cd44cf48e6",
     "showTitle": false,
     "tableResultSettingsMap": {},
     "title": ""
    }
   },
   "outputs": [],
   "source": [
    "tree_data_3054 = [\n",
    "    (1, 2),\n",
    "    (3, 2),\n",
    "    (6, 8),\n",
    "    (9, 8),\n",
    "    (2, 5),\n",
    "    (8, 5),\n",
    "    (5, None)\n",
    "]\n",
    "\n",
    "tree_columns_3054 = [\"N\", \"P\"]\n",
    "tree_df_3054 = spark.createDataFrame(tree_data_3054, tree_columns_3054)\n",
    "tree_df_3054.show()"
   ]
  }
 ],
 "metadata": {
  "application/vnd.databricks.v1+notebook": {
   "computePreferences": null,
   "dashboards": [],
   "environmentMetadata": {
    "base_environment": "",
    "environment_version": "1"
   },
   "inputWidgetPreferences": null,
   "language": "python",
   "notebookMetadata": {
    "pythonIndentUnit": 4
   },
   "notebookName": "3054. Binary Tree Nodes (Medium)",
   "widgets": {}
  }
 },
 "nbformat": 4,
 "nbformat_minor": 0
}