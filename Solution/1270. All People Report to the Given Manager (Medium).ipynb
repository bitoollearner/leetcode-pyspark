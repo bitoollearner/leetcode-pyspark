{
 "cells": [
  {
   "cell_type": "markdown",
   "metadata": {
    "application/vnd.databricks.v1+cell": {
     "cellMetadata": {},
     "inputWidgets": {},
     "nuid": "82383caa-9b15-409a-9acb-968b851c477b",
     "showTitle": false,
     "tableResultSettingsMap": {},
     "title": ""
    }
   },
   "source": [
    "## Importing Libraries"
   ]
  },
  {
   "cell_type": "code",
   "execution_count": 0,
   "metadata": {
    "application/vnd.databricks.v1+cell": {
     "cellMetadata": {},
     "inputWidgets": {},
     "nuid": "83322872-9913-4063-98cf-4aaea5fd3337",
     "showTitle": false,
     "tableResultSettingsMap": {},
     "title": ""
    }
   },
   "outputs": [],
   "source": [
    "from pyspark.sql.functions import *\n",
    "from pyspark.sql.types import *\n",
    "from pyspark.sql.window import Window"
   ]
  },
  {
   "cell_type": "markdown",
   "metadata": {
    "application/vnd.databricks.v1+cell": {
     "cellMetadata": {},
     "inputWidgets": {},
     "nuid": "e475f002-2b95-4d27-958c-aeab86c066ed",
     "showTitle": false,
     "tableResultSettingsMap": {},
     "title": ""
    }
   },
   "source": [
    "**1270. All People Report to the Given Manager (Medium)**\n",
    "\n",
    "**Table: Employees**\n",
    "\n",
    "| Column Name   | Type    |\n",
    "|---------------|---------|\n",
    "| employee_id   | int     |\n",
    "| employee_name | varchar |\n",
    "| manager_id    | int     |\n",
    "\n",
    "employee_id is the column of unique values for this table.\n",
    "Each row of this table indicates that the employee with ID employee_id and name employee_name reports his work to his/her direct manager with manager_id\n",
    "The head of the company is the employee with employee_id = 1.\n",
    " \n",
    "**Write a solution to find employee_id of all employees that directly or indirectly report their work to the head of the company.**\n",
    "\n",
    "The indirect relation between managers will not exceed three managers as the company is small.\n",
    "\n",
    "Return the result table in any order.\n",
    "\n",
    "The result format is in the following example.\n",
    "\n",
    "**Example 1:**\n",
    "\n",
    "**Input:** \n",
    "\n",
    "**Employees table:**\n",
    "\n",
    "| employee_id | employee_name | manager_id |\n",
    "|-------------|---------------|------------|\n",
    "| 1           | Boss          | 1          |\n",
    "| 3           | Alice         | 3          |\n",
    "| 2           | Bob           | 1          |\n",
    "| 4           | Daniel        | 2          |\n",
    "| 7           | Luis          | 4          |\n",
    "| 8           | Jhon          | 3          |\n",
    "| 9           | Angela        | 8          |\n",
    "| 77          | Robert        | 1          |\n",
    "\n",
    "**Output:** \n",
    "| employee_id |\n",
    "|-------------|\n",
    "| 2           |\n",
    "| 77          |\n",
    "| 4           |\n",
    "| 7           |\n",
    "\n",
    "**Explanation:** \n",
    "- The head of the company is the employee with employee_id 1.\n",
    "- The employees with employee_id 2 and 77 report their work directly to the head of the company.\n",
    "- The employee with employee_id 4 reports their work indirectly to the head of the company 4 --> 2 --> 1. \n",
    "- The employee with employee_id 7 reports their work indirectly to the head of the company 7 --> 4 --> 2 --> 1.\n",
    "- The employees with employee_id 3, 8, and 9 do not report their work to the head of the company directly or indirectly."
   ]
  },
  {
   "cell_type": "code",
   "execution_count": 0,
   "metadata": {
    "application/vnd.databricks.v1+cell": {
     "cellMetadata": {},
     "inputWidgets": {},
     "nuid": "a073d765-b3a4-4bda-a02f-ac5e3671a222",
     "showTitle": false,
     "tableResultSettingsMap": {},
     "title": ""
    }
   },
   "outputs": [],
   "source": [
    "employees_data_1270 = [\n",
    "    (1, \"Boss\", 1), \n",
    "    (3, \"Alice\", 3), \n",
    "    (2, \"Bob\", 1), \n",
    "    (4, \"Daniel\", 2), \n",
    "    (7, \"Luis\", 4), \n",
    "    (8, \"Jhon\", 3), \n",
    "    (9, \"Angela\", 8), \n",
    "    (77, \"Robert\", 1)\n",
    "]\n",
    "employees_columns_1270 = [\"employee_id\", \"employee_name\", \"manager_id\"]\n",
    "employees_df_1270 = spark.createDataFrame(employees_data_1270, employees_columns_1270)\n",
    "employees_df_1270.show()"
   ]
  }
 ],
 "metadata": {
  "application/vnd.databricks.v1+notebook": {
   "computePreferences": null,
   "dashboards": [],
   "environmentMetadata": {
    "base_environment": "",
    "environment_version": "1"
   },
   "inputWidgetPreferences": null,
   "language": "python",
   "notebookMetadata": {
    "pythonIndentUnit": 4
   },
   "notebookName": "1270. All People Report to the Given Manager (Medium)",
   "widgets": {}
  }
 },
 "nbformat": 4,
 "nbformat_minor": 0
}