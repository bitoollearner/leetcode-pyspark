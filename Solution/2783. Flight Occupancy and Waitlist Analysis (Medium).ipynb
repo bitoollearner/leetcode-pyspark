{
 "cells": [
  {
   "cell_type": "markdown",
   "metadata": {
    "application/vnd.databricks.v1+cell": {
     "cellMetadata": {},
     "inputWidgets": {},
     "nuid": "4e9d71b1-88e9-445c-820a-b842e217a4e7",
     "showTitle": false,
     "tableResultSettingsMap": {},
     "title": ""
    }
   },
   "source": [
    "## Importing Libraries"
   ]
  },
  {
   "cell_type": "code",
   "execution_count": 0,
   "metadata": {
    "application/vnd.databricks.v1+cell": {
     "cellMetadata": {},
     "inputWidgets": {},
     "nuid": "e6624c4d-8cb8-4ac4-8c72-81d1b4ecdb57",
     "showTitle": false,
     "tableResultSettingsMap": {},
     "title": ""
    }
   },
   "outputs": [],
   "source": [
    "from pyspark.sql.functions import *\n",
    "from pyspark.sql.types import *\n",
    "from pyspark.sql.window import Window"
   ]
  },
  {
   "cell_type": "markdown",
   "metadata": {
    "application/vnd.databricks.v1+cell": {
     "cellMetadata": {},
     "inputWidgets": {},
     "nuid": "c3788fe5-f4c9-420f-ad72-ec1a39310a2a",
     "showTitle": false,
     "tableResultSettingsMap": {},
     "title": ""
    }
   },
   "source": [
    "**2783. Flight Occupancy and Waitlist Analysis (Medium)**\n",
    "\n",
    "**Table: Flights**\n",
    "\n",
    "| Column Name | Type |\n",
    "|-------------|------|\n",
    "| flight_id   | int  |\n",
    "| capacity    | int  |\n",
    "\n",
    "flight_id is the column with unique values for this table.\n",
    "Each row of this table contains flight id and its capacity.\n",
    "\n",
    "**Table: Passengers**\n",
    "\n",
    "| Column Name  | Type |\n",
    "|--------------|------|\n",
    "| passenger_id | int  |\n",
    "| flight_id    | int  |\n",
    "\n",
    "passenger_id is the column with unique values for this table.\n",
    "Each row of this table contains passenger id and flight id.\n",
    "\n",
    "Passengers book tickets for flights in advance. If a passenger books a ticket for a flight and there are still empty seats available on the flight, the passenger ticket will be confirmed. However, the passenger will be on a waitlist if the flight is already at full capacity.\n",
    "\n",
    "**Write a solution to report the number of passengers who successfully booked a flight (got a seat) and the number of passengers who are on the waitlist for each flight.**\n",
    "\n",
    "Return the result table ordered by flight_id in ascending order.\n",
    "\n",
    "The result format is in the following example.\n",
    "\n",
    "**Example 1:**\n",
    "\n",
    "**Input:** \n",
    "\n",
    "**Flights table:**\n",
    "| flight_id | capacity |\n",
    "|-----------|----------|\n",
    "| 1         | 2        |\n",
    "| 2         | 2        |\n",
    "| 3         | 1        |\n",
    "\n",
    "**Passengers table:**\n",
    "| passenger_id | flight_id |\n",
    "|--------------|-----------|\n",
    "| 101          | 1         |\n",
    "| 102          | 1         |\n",
    "| 103          | 1         |\n",
    "| 104          | 2         |\n",
    "| 105          | 2         |\n",
    "| 106          | 3         |\n",
    "| 107          | 3         |\n",
    "\n",
    "**Output:** \n",
    "| flight_id | booked_cnt | waitlist_cnt |\n",
    "|-----------|------------|--------------|\n",
    "| 1         | 2          | 1            |\n",
    "| 2         | 2          | 0            |\n",
    "| 3         | 1          | 1            |\n",
    "\n",
    "**Explanation:** \n",
    "- Flight 1 has a capacity of 2. As there are 3 passengers who have booked tickets, only 2 passengers can get a seat. Therefore, 2 passengers are successfully booked, and 1 passenger is on the waitlist.\n",
    "- Flight 2 has a capacity of 2. Since there are exactly 2 passengers who booked tickets, everyone can secure a seat. As a result, 2 passengers successfully booked their seats and there are no passengers on the waitlist.\n",
    "- Flight 3 has a capacity of 1. As there are 2 passengers who have booked tickets, only 1 passenger can get a seat. Therefore, 1 passenger is successfully booked, and 1 passenger is on the waitlist.\n"
   ]
  },
  {
   "cell_type": "code",
   "execution_count": 0,
   "metadata": {
    "application/vnd.databricks.v1+cell": {
     "cellMetadata": {},
     "inputWidgets": {},
     "nuid": "137536ea-9bec-4171-8dc2-4bf8b0d771b4",
     "showTitle": false,
     "tableResultSettingsMap": {},
     "title": ""
    }
   },
   "outputs": [],
   "source": [
    "flights_data_2783 = [\n",
    "    (1, 2),\n",
    "    (2, 2),\n",
    "    (3, 1)\n",
    "]\n",
    "\n",
    "flights_columns_2783 = [\"flight_id\", \"capacity\"]\n",
    "flights_df_2783 = spark.createDataFrame(flights_data_2783, flights_columns_2783)\n",
    "flights_df_2783.show()\n",
    "\n",
    "passengers_data_2783 = [\n",
    "    (101, 1),\n",
    "    (102, 1),\n",
    "    (103, 1),\n",
    "    (104, 2),\n",
    "    (105, 2),\n",
    "    (106, 3),\n",
    "    (107, 3)\n",
    "]\n",
    "\n",
    "passengers_columns_2783 = [\"passenger_id\", \"flight_id\"]\n",
    "passengers_df_2783 = spark.createDataFrame(passengers_data_2783, passengers_columns_2783)\n",
    "passengers_df_2783.show()"
   ]
  }
 ],
 "metadata": {
  "application/vnd.databricks.v1+notebook": {
   "computePreferences": null,
   "dashboards": [],
   "environmentMetadata": {
    "base_environment": "",
    "environment_version": "1"
   },
   "inputWidgetPreferences": null,
   "language": "python",
   "notebookMetadata": {
    "pythonIndentUnit": 4
   },
   "notebookName": "2783. Flight Occupancy and Waitlist Analysis (Medium)",
   "widgets": {}
  }
 },
 "nbformat": 4,
 "nbformat_minor": 0
}