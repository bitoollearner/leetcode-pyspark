{
 "cells": [
  {
   "cell_type": "markdown",
   "metadata": {
    "application/vnd.databricks.v1+cell": {
     "cellMetadata": {},
     "inputWidgets": {},
     "nuid": "db7ebec7-889d-4791-9b66-269554c0d581",
     "showTitle": false,
     "tableResultSettingsMap": {},
     "title": ""
    }
   },
   "source": [
    "## Importing Libraries"
   ]
  },
  {
   "cell_type": "code",
   "execution_count": 0,
   "metadata": {
    "application/vnd.databricks.v1+cell": {
     "cellMetadata": {},
     "inputWidgets": {},
     "nuid": "70352d4b-6bb2-42f3-8465-ba88ab41d730",
     "showTitle": false,
     "tableResultSettingsMap": {},
     "title": ""
    }
   },
   "outputs": [],
   "source": [
    "from pyspark.sql.functions import *\n",
    "from pyspark.sql.types import *\n",
    "from pyspark.sql.window import Window"
   ]
  },
  {
   "cell_type": "markdown",
   "metadata": {
    "application/vnd.databricks.v1+cell": {
     "cellMetadata": {},
     "inputWidgets": {},
     "nuid": "154313e3-f403-4508-a1d1-a93ae1e178d9",
     "showTitle": false,
     "tableResultSettingsMap": {},
     "title": ""
    }
   },
   "source": [
    "**585. Investments in 2016 (Medium)**\n",
    "\n",
    "**Table: Insurance**\n",
    "\n",
    "| Column Name | Type  |\n",
    "|-------------|-------|\n",
    "| pid         | int   |\n",
    "| tiv_2015    | float |\n",
    "| tiv_2016    | float |\n",
    "| lat         | float |\n",
    "| lon         | float |\n",
    "\n",
    "pid is the primary key (column with unique values) for this table.\n",
    "Each row of this table contains information about one policy where:\n",
    "pid is the policyholder's policy ID.\n",
    "tiv_2015 is the total investment value in 2015 and tiv_2016 is the total investment value in 2016.\n",
    "lat is the latitude of the policy holder's city. It's guaranteed that lat is not NULL.\n",
    "lon is the longitude of the policy holder's city. It's guaranteed that lon is not NULL.\n",
    " \n",
    "**Write a solution to report the sum of all total investment values in 2016 tiv_2016, for all policyholders who:**\n",
    "\n",
    "have the same tiv_2015 value as one or more other policyholders, and\n",
    "are not located in the same city as any other policyholder (i.e., the (lat, lon) attribute pairs must be unique).\n",
    "Round tiv_2016 to two decimal places.\n",
    "\n",
    "The result format is in the following example.\n",
    "\n",
    "**Example 1:**\n",
    "\n",
    "**Input:**\n",
    "**Insurance table:**\n",
    "| pid | tiv_2015 | tiv_2016 | lat | lon |\n",
    "|-----|----------|----------|-----|-----|\n",
    "| 1   | 10       | 5        | 10  | 10  |\n",
    "| 2   | 20       | 20       | 20  | 20  |\n",
    "| 3   | 10       | 30       | 20  | 20  |\n",
    "| 4   | 10       | 40       | 40  | 40  |\n",
    "\n",
    "**Output:**\n",
    "| tiv_2016 |\n",
    "|----------|\n",
    "| 45.00    |\n",
    "\n",
    "**Explanation:**\n",
    "The first record in the table, like the last record, meets both of the two criteria.\n",
    "The tiv_2015 value 10 is the same as the third and fourth records, and its location is unique.\n",
    "\n",
    "The second record does not meet any of the two criteria. Its tiv_2015 is not like any other policyholders and its location is the same as the third record, which makes the third record fail, too.\n",
    "So, the result is the sum of tiv_2016 of the first and last record, which is 45.\n"
   ]
  },
  {
   "cell_type": "code",
   "execution_count": 0,
   "metadata": {
    "application/vnd.databricks.v1+cell": {
     "cellMetadata": {},
     "inputWidgets": {},
     "nuid": "787ef081-e08b-4a47-9b9a-a1a07b8b2b93",
     "showTitle": false,
     "tableResultSettingsMap": {},
     "title": ""
    }
   },
   "outputs": [],
   "source": [
    "insurance_data_585 = [\n",
    "    (1, 10, 5, 10, 10),\n",
    "    (2, 20, 20, 20, 20),\n",
    "    (3, 10, 30, 20, 20),\n",
    "    (4, 10, 40, 40, 40)\n",
    "]\n",
    "\n",
    "insurance_columns_585 = [\"pid\", \"tiv_2015\", \"tiv_2016\", \"lat\", \"lon\"]\n",
    "insurance_df_585 = spark.createDataFrame(insurance_data_585, insurance_columns_585)\n",
    "insurance_df_585.show()"
   ]
  }
 ],
 "metadata": {
  "application/vnd.databricks.v1+notebook": {
   "computePreferences": null,
   "dashboards": [],
   "environmentMetadata": {
    "base_environment": "",
    "environment_version": "1"
   },
   "inputWidgetPreferences": null,
   "language": "python",
   "notebookMetadata": {
    "pythonIndentUnit": 4
   },
   "notebookName": "585. Investments in 2016 (Medium)",
   "widgets": {}
  }
 },
 "nbformat": 4,
 "nbformat_minor": 0
}