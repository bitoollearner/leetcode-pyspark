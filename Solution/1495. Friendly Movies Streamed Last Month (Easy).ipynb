{
 "cells": [
  {
   "cell_type": "markdown",
   "metadata": {
    "application/vnd.databricks.v1+cell": {
     "cellMetadata": {},
     "inputWidgets": {},
     "nuid": "24f8e8c0-d56b-4821-a900-bbe934dce4d7",
     "showTitle": false,
     "tableResultSettingsMap": {},
     "title": ""
    }
   },
   "source": [
    "## Importing Libraries"
   ]
  },
  {
   "cell_type": "code",
   "execution_count": 0,
   "metadata": {
    "application/vnd.databricks.v1+cell": {
     "cellMetadata": {},
     "inputWidgets": {},
     "nuid": "243b190c-af0b-4bd1-9507-8e2be2fceca3",
     "showTitle": false,
     "tableResultSettingsMap": {},
     "title": ""
    }
   },
   "outputs": [],
   "source": [
    "from pyspark.sql.functions import *\n",
    "from pyspark.sql.types import *\n",
    "from pyspark.sql.window import Window"
   ]
  },
  {
   "cell_type": "markdown",
   "metadata": {
    "application/vnd.databricks.v1+cell": {
     "cellMetadata": {},
     "inputWidgets": {},
     "nuid": "2d9dc49c-3f2c-4ff6-8e98-5e72a86b1bac",
     "showTitle": false,
     "tableResultSettingsMap": {},
     "title": ""
    }
   },
   "source": [
    "**1495. Friendly Movies Streamed Last Month (Easy)**\n",
    "\n",
    "**Table: TVProgram**\n",
    "\n",
    "| Column Name   | Type    |\n",
    "|---------------|---------|\n",
    "| program_date  | date    |\n",
    "| content_id    | int     |\n",
    "| channel       | varchar |\n",
    "\n",
    "(program_date, content_id) is the primary key (combination of columns with unique values) for this table.\n",
    "This table contains information of the programs on the TV.\n",
    "content_id is the id of the program in some channel on the TV.\n",
    " \n",
    "**Table: Content**\n",
    "\n",
    "| Column Name      | Type    |\n",
    "|------------------|---------|\n",
    "| content_id       | varchar |\n",
    "| title            | varchar |\n",
    "| Kids_content     | enum    |\n",
    "| content_type     | varchar |\n",
    "\n",
    "content_id is the primary key (column with unique values) for this table.\n",
    "Kids_content is an ENUM (category) of types ('Y', 'N') where: \n",
    "'Y' means is content for kids otherwise 'N' is not content for kids.\n",
    "content_type is the category of the content as movies, series, etc.\n",
    " \n",
    "**Write a solution to report the distinct titles of the kid-friendly movies streamed in June 2020.**\n",
    "\n",
    "Return the result table in any order.\n",
    "\n",
    "The result format is in the following example.\n",
    "\n",
    "**Example 1:**\n",
    "\n",
    "**Input:** \n",
    "\n",
    "**TVProgram table:**\n",
    "| program_date       | content_id   | channel     |\n",
    "|--------------------|--------------|-------------|\n",
    "| 2020-06-10 08:00   | 1            | LC-Channel  |\n",
    "| 2020-05-11 12:00   | 2            | LC-Channel  |\n",
    "| 2020-05-12 12:00   | 3            | LC-Channel  |\n",
    "| 2020-05-13 14:00   | 4            | Disney Ch   |\n",
    "| 2020-06-18 14:00   | 4            | Disney Ch   |\n",
    "| 2020-07-15 16:00   | 5            | Disney Ch   |\n",
    "\n",
    "**Content table:**\n",
    "| content_id | title          | Kids_content  | content_type  |\n",
    "|------------|----------------|---------------|---------------|\n",
    "| 1          | Leetcode Movie | N             | Movies        |\n",
    "| 2          | Alg. for Kids  | Y             | Series        |\n",
    "| 3          | Database Sols  | N             | Series        |\n",
    "| 4          | Aladdin        | Y             | Movies        |\n",
    "| 5          | Cinderella     | Y             | Movies        |\n",
    "\n",
    "**Output:** \n",
    "| title        |\n",
    "|--------------|\n",
    "| Aladdin      |\n",
    "\n",
    "**Explanation:** \n",
    "- \"Leetcode Movie\" is not a content for kids.\n",
    "- \"Alg. for Kids\" is not a movie.\n",
    "- \"Database Sols\" is not a movie\n",
    "- \"Alladin\" is a movie, content for kids and was streamed in June 2020.\n",
    "- \"Cinderella\" was not streamed in June 2020."
   ]
  },
  {
   "cell_type": "code",
   "execution_count": 0,
   "metadata": {
    "application/vnd.databricks.v1+cell": {
     "cellMetadata": {},
     "inputWidgets": {},
     "nuid": "5d66d20c-58e2-4ee9-8356-d736216372c3",
     "showTitle": false,
     "tableResultSettingsMap": {},
     "title": ""
    }
   },
   "outputs": [],
   "source": [
    "tvprogram_data_1495 = [\n",
    "    (\"2020-06-10 08:00\", 1, \"LC-Channel\"),\n",
    "    (\"2020-05-11 12:00\", 2, \"LC-Channel\"),\n",
    "    (\"2020-05-12 12:00\", 3, \"LC-Channel\"),\n",
    "    (\"2020-05-13 14:00\", 4, \"Disney Ch\"),\n",
    "    (\"2020-06-18 14:00\", 4, \"Disney Ch\"),\n",
    "    (\"2020-07-15 16:00\", 5, \"Disney Ch\"),\n",
    "]\n",
    "\n",
    "tvprogram_columns_1495 = [\"program_date\", \"content_id\", \"channel\"]\n",
    "tvprogram_df_1495 = spark.createDataFrame(tvprogram_data_1495, tvprogram_columns_1495 )\n",
    "tvprogram_df_1495.show()\n",
    "\n",
    "content_data_1495 = [\n",
    "    (1, \"Leetcode Movie\", \"N\", \"Movies\"),\n",
    "    (2, \"Alg. for Kids\", \"Y\", \"Series\"),\n",
    "    (3, \"Database Sols\", \"N\", \"Series\"),\n",
    "    (4, \"Aladdin\", \"Y\", \"Movies\"),\n",
    "    (5, \"Cinderella\", \"Y\", \"Movies\"),\n",
    "]\n",
    "\n",
    "content_columns_1495 = [\"content_id\", \"title\", \"Kids_content\", \"content_type\"]\n",
    "content_df_1495 = spark.createDataFrame(content_data_1495, content_columns_1495 )\n",
    "content_df_1495.show()"
   ]
  }
 ],
 "metadata": {
  "application/vnd.databricks.v1+notebook": {
   "computePreferences": null,
   "dashboards": [],
   "environmentMetadata": {
    "base_environment": "",
    "environment_version": "1"
   },
   "inputWidgetPreferences": null,
   "language": "python",
   "notebookMetadata": {
    "pythonIndentUnit": 4
   },
   "notebookName": "1495. Friendly Movies Streamed Last Month (Easy)",
   "widgets": {}
  }
 },
 "nbformat": 4,
 "nbformat_minor": 0
}