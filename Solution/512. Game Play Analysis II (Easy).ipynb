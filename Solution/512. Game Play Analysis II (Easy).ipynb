{
 "cells": [
  {
   "cell_type": "markdown",
   "metadata": {
    "application/vnd.databricks.v1+cell": {
     "cellMetadata": {},
     "inputWidgets": {},
     "nuid": "933f6fcf-3b7f-4e22-a9da-47224a7b1132",
     "showTitle": false,
     "tableResultSettingsMap": {},
     "title": ""
    }
   },
   "source": [
    "## Importing Libraries"
   ]
  },
  {
   "cell_type": "code",
   "execution_count": 0,
   "metadata": {
    "application/vnd.databricks.v1+cell": {
     "cellMetadata": {},
     "inputWidgets": {},
     "nuid": "0a044ca2-88c3-4a39-9ad3-12c7b6613c0b",
     "showTitle": false,
     "tableResultSettingsMap": {},
     "title": ""
    }
   },
   "outputs": [],
   "source": [
    "from pyspark.sql.functions import *\n",
    "from pyspark.sql.types import *\n",
    "from pyspark.sql.window import Window"
   ]
  },
  {
   "cell_type": "markdown",
   "metadata": {
    "application/vnd.databricks.v1+cell": {
     "cellMetadata": {},
     "inputWidgets": {},
     "nuid": "f16f61a0-1eda-4a08-9e41-e6bc4f90e5dc",
     "showTitle": false,
     "tableResultSettingsMap": {},
     "title": ""
    }
   },
   "source": [
    "\n",
    "**512. Game Play Analysis II (Easy)**  \n",
    "\n",
    "**Table: Activity**  \n",
    "\n",
    "| Column Name  | Type    |  \n",
    "|--------------|---------|  \n",
    "| player_id    | int     |  \n",
    "| device_id    | int     |  \n",
    "| event_date   | date    |  \n",
    "| games_played | int     |  \n",
    "\n",
    "(player_id, event_date) is the primary key of this table.  \n",
    "This table shows the activity of players of some games.  \n",
    "Each row is a record of a player who logged in and played a number of games (possibly 0) before logging out on some day using some device.  \n",
    "\n",
    "**Write a solution to find how many players first logged in using each device.**  \n",
    "\n",
    "Return the result table in any order.  \n",
    "\n",
    "The result format is in the following example.  \n",
    "\n",
    "**Example 1:**  \n",
    "\n",
    "**Input:**  \n",
    "**Activity table:**  \n",
    "\n",
    "| player_id | device_id | event_date | games_played |  \n",
    "|-----------|-----------|------------|--------------|  \n",
    "| 1         | 2         | 2016-03-01 | 5            |  \n",
    "| 1         | 3         | 2016-05-02 | 6            |  \n",
    "| 2         | 3         | 2017-06-25 | 1            |  \n",
    "| 3         | 1         | 2016-03-02 | 0            |  \n",
    "| 3         | 4         | 2018-07-03 | 5            |  \n",
    "\n",
    "**Output:**  \n",
    "\n",
    "| first_device | num_players |  \n",
    "|-------------|------------|  \n",
    "| 2           | 1          |  \n",
    "| 3           | 1          |  \n",
    "| 1           | 1          |  \n",
    "\n",
    "### Explanation:  \n",
    "- Player 1 first logged in using device 2.  \n",
    "- Player 2 first logged in using device 3.  \n",
    "- Player 3 first logged in using device 1.  \n",
    "- Although player 3 logged in again on 2018-07-03 using device 4, their first login was on 2016-03-02 with device 1, so device 4 is not counted.  \n",
    "- The output shows how many players first logged in using each device.\n"
   ]
  },
  {
   "cell_type": "code",
   "execution_count": 0,
   "metadata": {
    "application/vnd.databricks.v1+cell": {
     "cellMetadata": {},
     "inputWidgets": {},
     "nuid": "99062cca-ba5f-4f53-a7b7-0a79518c0bf0",
     "showTitle": false,
     "tableResultSettingsMap": {},
     "title": ""
    }
   },
   "outputs": [],
   "source": [
    "activity_data_512 = [\n",
    "    (1, 2, \"2016-03-01\", 5),\n",
    "    (1, 3, \"2016-05-02\", 6),\n",
    "    (2, 3, \"2017-06-25\", 1),\n",
    "    (3, 1, \"2016-03-02\", 0),\n",
    "    (3, 4, \"2018-07-03\", 5)\n",
    "]\n",
    "\n",
    "activity_columns_512 = [\"player_id\", \"device_id\", \"event_date\", \"games_played\"]\n",
    "activity_df_512 = spark.createDataFrame(activity_data_512, activity_columns_512)\n",
    "activity_df_512.show()"
   ]
  }
 ],
 "metadata": {
  "application/vnd.databricks.v1+notebook": {
   "computePreferences": null,
   "dashboards": [],
   "environmentMetadata": {
    "base_environment": "",
    "client": "1"
   },
   "language": "python",
   "notebookMetadata": {
    "pythonIndentUnit": 4
   },
   "notebookName": "512. Game Play Analysis II (Easy)",
   "widgets": {}
  }
 },
 "nbformat": 4,
 "nbformat_minor": 0
}
