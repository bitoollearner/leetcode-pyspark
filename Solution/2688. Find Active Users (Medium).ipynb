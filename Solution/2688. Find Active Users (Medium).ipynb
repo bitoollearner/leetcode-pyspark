{
 "cells": [
  {
   "cell_type": "markdown",
   "metadata": {
    "application/vnd.databricks.v1+cell": {
     "cellMetadata": {},
     "inputWidgets": {},
     "nuid": "4e9d71b1-88e9-445c-820a-b842e217a4e7",
     "showTitle": false,
     "tableResultSettingsMap": {},
     "title": ""
    }
   },
   "source": [
    "## Importing Libraries"
   ]
  },
  {
   "cell_type": "code",
   "execution_count": 0,
   "metadata": {
    "application/vnd.databricks.v1+cell": {
     "cellMetadata": {},
     "inputWidgets": {},
     "nuid": "e6624c4d-8cb8-4ac4-8c72-81d1b4ecdb57",
     "showTitle": false,
     "tableResultSettingsMap": {},
     "title": ""
    }
   },
   "outputs": [],
   "source": [
    "from pyspark.sql.functions import *\n",
    "from pyspark.sql.types import *\n",
    "from pyspark.sql.window import Window"
   ]
  },
  {
   "cell_type": "markdown",
   "metadata": {
    "application/vnd.databricks.v1+cell": {
     "cellMetadata": {},
     "inputWidgets": {},
     "nuid": "c3788fe5-f4c9-420f-ad72-ec1a39310a2a",
     "showTitle": false,
     "tableResultSettingsMap": {},
     "title": ""
    }
   },
   "source": [
    "**2688. Find Active Users (Medium)**\n",
    "\n",
    "**Table: Users**\n",
    "\n",
    "| Column Name | Type     | \n",
    "|-------------|----------| \n",
    "| user_id     | int      | \n",
    "| item        | varchar  |\n",
    "| created_at  | datetime |\n",
    "| amount      | int      |\n",
    "\n",
    "This table may contain duplicate records. \n",
    "Each row includes the user ID, the purchased item, the date of purchase, and the purchase amount.\n",
    "\n",
    "**Write a solution to identify active users. An active user is a user that has made a second purchase within 7 days of any other of their purchases.**\n",
    "\n",
    "For example, if the ending date is May 31, 2023. So any date between May 31, 2023, and June 7, 2023 (inclusive) would be considered \"within 7 days\" of May 31, 2023.\n",
    "\n",
    "Return a list of user_id which denotes the list of active users in any order.\n",
    "\n",
    "The result format is in the following example.\n",
    "\n",
    "**Example 1:**\n",
    "\n",
    "**Input:**\n",
    "\n",
    "**Users table:**\n",
    "\n",
    "| user_id | item              | created_at | amount |  \n",
    "|---------|-------------------|------------|--------|\n",
    "| 5       | Smart Crock Pot   | 2021-09-18 | 698882 |\n",
    "| 6       | Smart Lock        | 2021-09-14 | 11487  |\n",
    "| 6       | Smart Thermostat  | 2021-09-10 | 674762 |\n",
    "| 8       | Smart Light Strip | 2021-09-29 | 630773 |\n",
    "| 4       | Smart Cat Feeder  | 2021-09-02 | 693545 |\n",
    "| 4       | Smart Bed         | 2021-09-13 | 170249 |\n",
    "\n",
    "**Output:**\n",
    "| user_id | \n",
    "|---------|\n",
    "| 6       | \n",
    "\n",
    "**Explanation:** \n",
    "- User with user_id 5 has only one transaction, so he is not an active user.\n",
    "- User with user_id 6 has two transaction his first transaction was on 2021-09-10 and second transation was on 2021-09-14. The distance between the first and second transactions date is <= 7 days. So he is an active user. \n",
    "- User with user_id 8 has only one transaction, so he is not an active user.  \n",
    "- User with user_id 4 has two transaction his first transaction was on 2021-09-02 and second transation was on 2021-09-13. The distance between the first and second transactions date is > 7 days. So he is not an active user."
   ]
  },
  {
   "cell_type": "code",
   "execution_count": 0,
   "metadata": {
    "application/vnd.databricks.v1+cell": {
     "cellMetadata": {},
     "inputWidgets": {},
     "nuid": "137536ea-9bec-4171-8dc2-4bf8b0d771b4",
     "showTitle": false,
     "tableResultSettingsMap": {},
     "title": ""
    }
   },
   "outputs": [],
   "source": [
    "users_data_2688 = [\n",
    "    (5, \"Smart Crock Pot\", \"2021-09-18\", 698882),\n",
    "    (6, \"Smart Lock\", \"2021-09-14\", 11487),\n",
    "    (6, \"Smart Thermostat\", \"2021-09-10\", 674762),\n",
    "    (8, \"Smart Light Strip\", \"2021-09-29\", 630773),\n",
    "    (4, \"Smart Cat Feeder\", \"2021-09-02\", 693545),\n",
    "    (4, \"Smart Bed\", \"2021-09-13\", 170249),\n",
    "]\n",
    "\n",
    "users_columns_2688 = [\"user_id\", \"item\", \"created_at\", \"amount\"]\n",
    "users_df_2688 = spark.createDataFrame(users_data_2688, users_columns_2688)\n",
    "users_df_2688.show()"
   ]
  }
 ],
 "metadata": {
  "application/vnd.databricks.v1+notebook": {
   "computePreferences": null,
   "dashboards": [],
   "environmentMetadata": {
    "base_environment": "",
    "environment_version": "1"
   },
   "inputWidgetPreferences": null,
   "language": "python",
   "notebookMetadata": {
    "pythonIndentUnit": 4
   },
   "notebookName": "2688. Find Active Users (Medium)",
   "widgets": {}
  }
 },
 "nbformat": 4,
 "nbformat_minor": 0
}