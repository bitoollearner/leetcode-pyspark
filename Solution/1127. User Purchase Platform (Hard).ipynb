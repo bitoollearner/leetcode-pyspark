{
 "cells": [
  {
   "cell_type": "markdown",
   "metadata": {
    "application/vnd.databricks.v1+cell": {
     "cellMetadata": {},
     "inputWidgets": {},
     "nuid": "c8535576-d746-40ee-8199-8ccd3e39577f",
     "showTitle": false,
     "tableResultSettingsMap": {},
     "title": ""
    }
   },
   "source": [
    "## Importing Libraries"
   ]
  },
  {
   "cell_type": "code",
   "execution_count": 0,
   "metadata": {
    "application/vnd.databricks.v1+cell": {
     "cellMetadata": {},
     "inputWidgets": {},
     "nuid": "09da8fc1-d579-4949-bbc7-9132909993c8",
     "showTitle": false,
     "tableResultSettingsMap": {},
     "title": ""
    }
   },
   "outputs": [],
   "source": [
    "from pyspark.sql.functions import *\n",
    "from pyspark.sql.types import *\n",
    "from pyspark.sql.window import Window"
   ]
  },
  {
   "cell_type": "markdown",
   "metadata": {
    "application/vnd.databricks.v1+cell": {
     "cellMetadata": {},
     "inputWidgets": {},
     "nuid": "4567f050-e6f4-4b8b-b899-db2f17021c1d",
     "showTitle": false,
     "tableResultSettingsMap": {},
     "title": ""
    }
   },
   "source": [
    "**1127. User Purchase Platform (Hard)**\n",
    "\n",
    "**Table: Spending**\n",
    "\n",
    "| Column Name | Type    |\n",
    "|-------------|---------|\n",
    "| user_id     | int     |\n",
    "| spend_date  | date    |\n",
    "| platform    | enum    | \n",
    "| amount      | int     |\n",
    "\n",
    "The table logs the history of the spending of users that make purchases from an online shopping website that has a desktop and a mobile application.\n",
    "(user_id, spend_date, platform) is the primary key (combination of columns with unique values) of this table.\n",
    "The platform column is an ENUM (category) type of ('desktop', 'mobile').\n",
    " \n",
    "**Write a solution to find the total number of users and the total amount spent using the mobile only, the desktop only, and both mobile and desktop together for each date.**\n",
    "\n",
    "Return the result table in any order.\n",
    "\n",
    "The result format is in the following example.\n",
    "\n",
    "**Example 1:**\n",
    "\n",
    "**Input:**\n",
    "\n",
    "**Spending table:**\n",
    "\n",
    "| user_id | spend_date | platform | amount |\n",
    "|---------|------------|----------|--------|\n",
    "| 1       | 2019-07-01 | mobile   | 100    |\n",
    "| 1       | 2019-07-01 | desktop  | 100    |\n",
    "| 2       | 2019-07-01 | mobile   | 100    |\n",
    "| 2       | 2019-07-02 | mobile   | 100    |\n",
    "| 3       | 2019-07-01 | desktop  | 100    |\n",
    "| 3       | 2019-07-02 | desktop  | 100    |\n",
    "\n",
    "**Output:** \n",
    "| spend_date | platform | total_amount | total_users |\n",
    "|------------|----------|--------------|-------------|\n",
    "| 2019-07-01 | desktop  | 100          | 1           |\n",
    "| 2019-07-01 | mobile   | 100          | 1           |\n",
    "| 2019-07-01 | both     | 200          | 1           |\n",
    "| 2019-07-02 | desktop  | 100          | 1           |\n",
    "| 2019-07-02 | mobile   | 100          | 1           |\n",
    "| 2019-07-02 | both     | 0            | 0           |\n",
    "\n",
    "**Explanation:** \n",
    "- On 2019-07-01, user 1 purchased using both desktop and mobile, user 2 purchased using mobile only and user 3 purchased using desktop only.\n",
    "- On 2019-07-02, user 2 purchased using mobile only, user 3 purchased using desktop only and no one purchased using both platforms."
   ]
  },
  {
   "cell_type": "code",
   "execution_count": 0,
   "metadata": {
    "application/vnd.databricks.v1+cell": {
     "cellMetadata": {},
     "inputWidgets": {},
     "nuid": "9b14d03f-22ca-4fa2-b371-32a135a82877",
     "showTitle": false,
     "tableResultSettingsMap": {},
     "title": ""
    }
   },
   "outputs": [],
   "source": [
    "spending_data_1127 = [\n",
    "    (1, \"2019-07-01\", \"mobile\", 100),\n",
    "    (1, \"2019-07-01\", \"desktop\", 100),\n",
    "    (2, \"2019-07-01\", \"mobile\", 100),\n",
    "    (2, \"2019-07-02\", \"mobile\", 100),\n",
    "    (3, \"2019-07-01\", \"desktop\", 100),\n",
    "    (3, \"2019-07-02\", \"desktop\", 100),\n",
    "]\n",
    "\n",
    "spending_columns_1127 = [\"user_id\", \"spend_date\", \"platform\", \"amount\"]\n",
    "spending_df_1127 = spark.createDataFrame(spending_data_1127, spending_columns_1127)\n",
    "spending_df_1127.show()"
   ]
  }
 ],
 "metadata": {
  "application/vnd.databricks.v1+notebook": {
   "computePreferences": null,
   "dashboards": [],
   "environmentMetadata": {
    "base_environment": "",
    "environment_version": "1"
   },
   "inputWidgetPreferences": null,
   "language": "python",
   "notebookMetadata": {
    "pythonIndentUnit": 4
   },
   "notebookName": "1127. User Purchase Platform (Hard)",
   "widgets": {}
  }
 },
 "nbformat": 4,
 "nbformat_minor": 0
}