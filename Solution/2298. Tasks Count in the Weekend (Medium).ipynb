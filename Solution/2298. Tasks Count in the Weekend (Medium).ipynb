{
 "cells": [
  {
   "cell_type": "markdown",
   "metadata": {
    "application/vnd.databricks.v1+cell": {
     "cellMetadata": {},
     "inputWidgets": {},
     "nuid": "4e9d71b1-88e9-445c-820a-b842e217a4e7",
     "showTitle": false,
     "tableResultSettingsMap": {},
     "title": ""
    }
   },
   "source": [
    "## Importing Libraries"
   ]
  },
  {
   "cell_type": "code",
   "execution_count": 0,
   "metadata": {
    "application/vnd.databricks.v1+cell": {
     "cellMetadata": {},
     "inputWidgets": {},
     "nuid": "e6624c4d-8cb8-4ac4-8c72-81d1b4ecdb57",
     "showTitle": false,
     "tableResultSettingsMap": {},
     "title": ""
    }
   },
   "outputs": [],
   "source": [
    "from pyspark.sql.functions import *\n",
    "from pyspark.sql.types import *\n",
    "from pyspark.sql.window import Window"
   ]
  },
  {
   "cell_type": "markdown",
   "metadata": {
    "application/vnd.databricks.v1+cell": {
     "cellMetadata": {},
     "inputWidgets": {},
     "nuid": "c3788fe5-f4c9-420f-ad72-ec1a39310a2a",
     "showTitle": false,
     "tableResultSettingsMap": {},
     "title": ""
    }
   },
   "source": [
    "**2298. Tasks Count in the Weekend (Medium)**\n",
    "\n",
    "**Table: Tasks**\n",
    "\n",
    "| Column Name | Type |\n",
    "|-------------|------|\n",
    "| task_id     | int  |\n",
    "| assignee_id | int  |\n",
    "| submit_date | date |\n",
    "\n",
    "task_id is the primary key (column with unique values) for this table.\n",
    "Each row in this table contains the ID of a task, the id of the assignee, and the submission date.\n",
    " \n",
    "**Write a solution to report:**\n",
    "- the number of tasks that were submitted during the weekend (Saturday, Sunday) as weekend_cnt, and\n",
    "- the number of tasks that were submitted during the working days as working_cnt.\n",
    "\n",
    "Return the result table in any order.\n",
    "\n",
    "The result format is shown in the following example.\n",
    "\n",
    "**Example 1:**\n",
    "\n",
    "**Input:** \n",
    "\n",
    "**Tasks table:**\n",
    "\n",
    "| task_id | assignee_id | submit_date |\n",
    "|---------|-------------|-------------|\n",
    "| 1       | 1           | 2022-06-13  |\n",
    "| 2       | 6           | 2022-06-14  |\n",
    "| 3       | 6           | 2022-06-15  |\n",
    "| 4       | 3           | 2022-06-18  |\n",
    "| 5       | 5           | 2022-06-19  |\n",
    "| 6       | 7           | 2022-06-19  |\n",
    "\n",
    "**Output:** \n",
    "| weekend_cnt | working_cnt |\n",
    "|-------------|-------------|\n",
    "| 3           | 3           |\n",
    "\n",
    "**Explanation:** \n",
    "- Task 1 was submitted on Monday.\n",
    "- Task 2 was submitted on Tuesday.\n",
    "- Task 3 was submitted on Wednesday.\n",
    "- Task 4 was submitted on Saturday.\n",
    "- Task 5 was submitted on Sunday.\n",
    "- Task 6 was submitted on Sunday.\n",
    "- 3 tasks were submitted during the weekend.\n",
    "- 3 tasks were submitted during the working days."
   ]
  },
  {
   "cell_type": "code",
   "execution_count": 0,
   "metadata": {
    "application/vnd.databricks.v1+cell": {
     "cellMetadata": {},
     "inputWidgets": {},
     "nuid": "137536ea-9bec-4171-8dc2-4bf8b0d771b4",
     "showTitle": false,
     "tableResultSettingsMap": {},
     "title": ""
    }
   },
   "outputs": [],
   "source": [
    "task_data_2298 = [\n",
    "    (1, 1, \"2022-06-13\"),\n",
    "    (2, 6, \"2022-06-14\"),\n",
    "    (3, 6, \"2022-06-15\"),\n",
    "    (4, 3, \"2022-06-18\"),\n",
    "    (5, 5, \"2022-06-19\"),\n",
    "    (6, 7, \"2022-06-19\"),\n",
    "]\n",
    "\n",
    "task_columns_2298 = [\"task_id\", \"assignee_id\", \"submit_date\"]\n",
    "task_df_2298 = spark.createDataFrame(task_data_2298, task_columns_2298)\n",
    "task_df_2298.show()"
   ]
  }
 ],
 "metadata": {
  "application/vnd.databricks.v1+notebook": {
   "computePreferences": null,
   "dashboards": [],
   "environmentMetadata": {
    "base_environment": "",
    "environment_version": "1"
   },
   "inputWidgetPreferences": null,
   "language": "python",
   "notebookMetadata": {
    "pythonIndentUnit": 4
   },
   "notebookName": "2298. Tasks Count in the Weekend (Medium)",
   "widgets": {}
  }
 },
 "nbformat": 4,
 "nbformat_minor": 0
}