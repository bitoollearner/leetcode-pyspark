{
 "cells": [
  {
   "cell_type": "markdown",
   "metadata": {
    "application/vnd.databricks.v1+cell": {
     "cellMetadata": {},
     "inputWidgets": {},
     "nuid": "7d1791bd-9552-4116-90b2-daa678bbffb8",
     "showTitle": false,
     "tableResultSettingsMap": {},
     "title": ""
    }
   },
   "source": [
    "## Importing Libraries"
   ]
  },
  {
   "cell_type": "code",
   "execution_count": 0,
   "metadata": {
    "application/vnd.databricks.v1+cell": {
     "cellMetadata": {},
     "inputWidgets": {},
     "nuid": "2901fbc9-49db-4285-8b94-c460f34d4c4f",
     "showTitle": false,
     "tableResultSettingsMap": {},
     "title": ""
    }
   },
   "outputs": [],
   "source": [
    "from pyspark.sql.functions import *\n",
    "from pyspark.sql.types import *\n",
    "from pyspark.sql.window import Window"
   ]
  },
  {
   "cell_type": "markdown",
   "metadata": {
    "application/vnd.databricks.v1+cell": {
     "cellMetadata": {},
     "inputWidgets": {},
     "nuid": "655120e7-6b25-417c-a08a-c6925feaa425",
     "showTitle": false,
     "tableResultSettingsMap": {},
     "title": ""
    }
   },
   "source": [
    "**3060. User Activities within Time Bounds (Hard)**\n",
    "\n",
    "**Table: Sessions**\n",
    "\n",
    "| Column Name   | Type     |\n",
    "|---------------|----------|\n",
    "| user_id       | int      |\n",
    "| session_start | datetime |\n",
    "| session_end   | datetime |\n",
    "| session_id    | int      |\n",
    "| session_type  | enum     |\n",
    "\n",
    "session_id is column of unique values for this table.\n",
    "session_type is an ENUM (category) type of (Viewer, Streamer).\n",
    "This table contains user id, session start, session end, session id and session type.\n",
    "\n",
    "**Write a solution to find the the users who have had at least one consecutive session of the same type (either 'Viewer' or 'Streamer') with a maximum gap of 12 hours between sessions.**\n",
    "\n",
    "Return the result table ordered by user_id in ascending order.\n",
    "\n",
    "The result format is in the following example.\n",
    "\n",
    "**Example:**\n",
    "\n",
    "**Input:**\n",
    "**Sessions table:**\n",
    "| user_id | session_start       | session_end         | session_id | session_type | \n",
    "|---------|---------------------|---------------------|------------|--------------|\n",
    "| 101     | 2023-11-01 08:00:00 | 2023-11-01 09:00:00 | 1          | Viewer       |  \n",
    "| 101     | 2023-11-01 10:00:00 | 2023-11-01 11:00:00 | 2          | Streamer     |   \n",
    "| 102     | 2023-11-01 13:00:00 | 2023-11-01 14:00:00 | 3          | Viewer       | \n",
    "| 102     | 2023-11-01 15:00:00 | 2023-11-01 16:00:00 | 4          | Viewer       | \n",
    "| 101     | 2023-11-02 09:00:00 | 2023-11-02 10:00:00 | 5          | Viewer       | \n",
    "| 102     | 2023-11-02 12:00:00 | 2023-11-02 13:00:00 | 6          | Streamer     | \n",
    "| 101     | 2023-11-02 13:00:00 | 2023-11-02 14:00:00 | 7          | Streamer     | \n",
    "| 102     | 2023-11-02 16:00:00 | 2023-11-02 17:00:00 | 8          | Viewer       | \n",
    "| 103     | 2023-11-01 08:00:00 | 2023-11-01 09:00:00 | 9          | Viewer       | \n",
    "| 103     | 2023-11-02 20:00:00 | 2023-11-02 23:00:00 | 10         | Viewer       | \n",
    "| 103     | 2023-11-03 09:00:00 | 2023-11-03 10:00:00 | 11         | Viewer       | \n",
    "\n",
    "**Output:**\n",
    "| user_id |\n",
    "|---------|\n",
    "| 102     |\n",
    "| 103     |\n",
    "\n",
    "**Explanation:**\n",
    "- User ID 101 will not be included in the final output as they do not have any consecutive sessions of the same session type.\n",
    "- User ID 102 will be included in the final output as they had two viewer sessions with session IDs 3 and 4, respectively, and the time gap between them was less than 12 hours.\n",
    "- User ID 103 participated in two viewer sessions with a gap of less than 12 hours between them, identified by session IDs 10 and 11. Therefore, user 103 will be included in the final output.\n",
    "\n",
    "Output table is ordered by user_id in increasing order."
   ]
  },
  {
   "cell_type": "code",
   "execution_count": 0,
   "metadata": {
    "application/vnd.databricks.v1+cell": {
     "cellMetadata": {},
     "inputWidgets": {},
     "nuid": "a2368434-0191-416c-aa1d-12cd44cf48e6",
     "showTitle": false,
     "tableResultSettingsMap": {},
     "title": ""
    }
   },
   "outputs": [],
   "source": [
    "sessions_data_3060 = [\n",
    "    (101, \"2023-11-01 08:00:00\", \"2023-11-01 09:00:00\", 1, \"Viewer\"),\n",
    "    (101, \"2023-11-01 10:00:00\", \"2023-11-01 11:00:00\", 2, \"Streamer\"),\n",
    "    (102, \"2023-11-01 13:00:00\", \"2023-11-01 14:00:00\", 3, \"Viewer\"),\n",
    "    (102, \"2023-11-01 15:00:00\", \"2023-11-01 16:00:00\", 4, \"Viewer\"),\n",
    "    (101, \"2023-11-02 09:00:00\", \"2023-11-02 10:00:00\", 5, \"Viewer\"),\n",
    "    (102, \"2023-11-02 12:00:00\", \"2023-11-02 13:00:00\", 6, \"Streamer\"),\n",
    "    (101, \"2023-11-02 13:00:00\", \"2023-11-02 14:00:00\", 7, \"Streamer\"),\n",
    "    (102, \"2023-11-02 16:00:00\", \"2023-11-02 17:00:00\", 8, \"Viewer\"),\n",
    "    (103, \"2023-11-01 08:00:00\", \"2023-11-01 09:00:00\", 9, \"Viewer\"),\n",
    "    (103, \"2023-11-02 20:00:00\", \"2023-11-02 23:00:00\", 10, \"Viewer\"),\n",
    "    (103, \"2023-11-03 09:00:00\", \"2023-11-03 10:00:00\", 11, \"Viewer\"),\n",
    "]\n",
    "\n",
    "sessions_columns_3060 = [\"user_id\", \"session_start\", \"session_end\", \"session_id\", \"session_type\"]\n",
    "sessions_df_3060 = spark.createDataFrame(sessions_data_3060, sessions_columns_3060)\n",
    "sessions_df_3060.show()"
   ]
  }
 ],
 "metadata": {
  "application/vnd.databricks.v1+notebook": {
   "computePreferences": null,
   "dashboards": [],
   "environmentMetadata": {
    "base_environment": "",
    "environment_version": "1"
   },
   "inputWidgetPreferences": null,
   "language": "python",
   "notebookMetadata": {
    "pythonIndentUnit": 4
   },
   "notebookName": "3060. User Activities within Time Bounds (Hard)",
   "widgets": {}
  }
 },
 "nbformat": 4,
 "nbformat_minor": 0
}