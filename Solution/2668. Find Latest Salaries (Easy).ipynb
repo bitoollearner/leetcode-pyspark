{
 "cells": [
  {
   "cell_type": "markdown",
   "metadata": {
    "application/vnd.databricks.v1+cell": {
     "cellMetadata": {},
     "inputWidgets": {},
     "nuid": "4e9d71b1-88e9-445c-820a-b842e217a4e7",
     "showTitle": false,
     "tableResultSettingsMap": {},
     "title": ""
    }
   },
   "source": [
    "## Importing Libraries"
   ]
  },
  {
   "cell_type": "code",
   "execution_count": 0,
   "metadata": {
    "application/vnd.databricks.v1+cell": {
     "cellMetadata": {},
     "inputWidgets": {},
     "nuid": "e6624c4d-8cb8-4ac4-8c72-81d1b4ecdb57",
     "showTitle": false,
     "tableResultSettingsMap": {},
     "title": ""
    }
   },
   "outputs": [],
   "source": [
    "from pyspark.sql.functions import *\n",
    "from pyspark.sql.types import *\n",
    "from pyspark.sql.window import Window"
   ]
  },
  {
   "cell_type": "markdown",
   "metadata": {
    "application/vnd.databricks.v1+cell": {
     "cellMetadata": {},
     "inputWidgets": {},
     "nuid": "c3788fe5-f4c9-420f-ad72-ec1a39310a2a",
     "showTitle": false,
     "tableResultSettingsMap": {},
     "title": ""
    }
   },
   "source": [
    "**2668. Find Latest Salaries (Easy)**\n",
    "\n",
    "**Table: Salary**\n",
    "\n",
    "| Column Name   | Type    | \n",
    "|---------------|---------| \n",
    "| emp_id        | int     | \n",
    "| firstname     | varchar |\n",
    "| lastname      | varchar |\n",
    "| salary        | varchar |\n",
    "| department_id | varchar |\n",
    "\n",
    "(emp_id, salary) is the primary key (combination of columns with unique values) for this table.\n",
    "Each row contains employees details and their yearly salaries, however, some of the records are old and contain outdated salary information. \n",
    "\n",
    "**Write a solution to find the current salary of each employee assuming that salaries increase each year. Output their emp_id, firstname, lastname, salary, and department_id.**\n",
    "\n",
    "Return the result table ordered by emp_id in ascending order.\n",
    "\n",
    "The result format is in the following example.\n",
    "\n",
    "**Example 1:**\n",
    "\n",
    "**Input:**\n",
    "\n",
    "**Salary table:**\n",
    "| emp_id | firstname | lastname | salary | department_id |\n",
    "|--------|-----------|----------|--------|---------------| \n",
    "| 1      | Todd      | Wilson   | 110000 | D1006         |\n",
    "| 1      | Todd      | Wilson   | 106119 | D1006         | \n",
    "| 2      | Justin    | Simon    | 128922 | D1005         | \n",
    "| 2      | Justin    | Simon    | 130000 | D1005         | \n",
    "| 3      | Kelly     | Rosario  | 42689  | D1002         | \n",
    "| 4      | Patricia  | Powell   | 162825 | D1004         |\n",
    "| 4      | Patricia  | Powell   | 170000 | D1004         |\n",
    "| 5      | Sherry    | Golden   | 44101  | D1002         | \n",
    "| 6      | Natasha   | Swanson  | 79632  | D1005         | \n",
    "| 6      | Natasha   | Swanson  | 90000  | D1005         |\n",
    "\n",
    "**Output:**\n",
    "| emp_id | firstname | lastname | salary | department_id |\n",
    "|--------|-----------|----------|--------|---------------| \n",
    "| 1      | Todd      | Wilson   | 110000 | D1006         |\n",
    "| 2      | Justin    | Simon    | 130000 | D1005         | \n",
    "| 3      | Kelly     | Rosario  | 42689  | D1002         | \n",
    "| 4      | Patricia  | Powell   | 170000 | D1004         |\n",
    "| 5      | Sherry    | Golden   | 44101  | D1002         | \n",
    "| 6      | Natasha   | Swanson  | 90000  | D1005         |\n",
    "\n",
    "**Explanation:**\n",
    "- emp_id 1 has two records with a salary of 110000, 106119 out of these 110000 is an updated salary (Assuming salary is increasing each year)\n",
    "- emp_id 2 has two records with a salary of 128922, 130000 out of these 130000 is an updated salary.\n",
    "- emp_id 3 has only one salary record so that is already an updated salary.\n",
    "- emp_id 4 has two records with a salary of 162825, 170000 out of these 170000 is an updated salary.\n",
    "- emp_id 5 has only one salary record so that is already an updated salary.\n",
    "- emp_id 6 has two records with a salary of 79632, 90000 out of these 90000 is an updated salary."
   ]
  },
  {
   "cell_type": "code",
   "execution_count": 0,
   "metadata": {
    "application/vnd.databricks.v1+cell": {
     "cellMetadata": {},
     "inputWidgets": {},
     "nuid": "137536ea-9bec-4171-8dc2-4bf8b0d771b4",
     "showTitle": false,
     "tableResultSettingsMap": {},
     "title": ""
    }
   },
   "outputs": [],
   "source": [
    "salary_data_2668 = [\n",
    "    (1, \"Todd\", \"Wilson\", 110000, \"D1006\"),\n",
    "    (1, \"Todd\", \"Wilson\", 106119, \"D1006\"),\n",
    "    (2, \"Justin\", \"Simon\", 128922, \"D1005\"),\n",
    "    (2, \"Justin\", \"Simon\", 130000, \"D1005\"),\n",
    "    (3, \"Kelly\", \"Rosario\", 42689, \"D1002\"),\n",
    "    (4, \"Patricia\", \"Powell\", 162825, \"D1004\"),\n",
    "    (4, \"Patricia\", \"Powell\", 170000, \"D1004\"),\n",
    "    (5, \"Sherry\", \"Golden\", 44101, \"D1002\"),\n",
    "    (6, \"Natasha\", \"Swanson\", 79632, \"D1005\"),\n",
    "    (6, \"Natasha\", \"Swanson\", 90000, \"D1005\"),\n",
    "]\n",
    "\n",
    "salary_columns_2668 = [\"emp_id\", \"firstname\", \"lastname\", \"salary\", \"department_id\"]\n",
    "salary_df_2668 = spark.createDataFrame(salary_data_2668, salary_columns_2668)\n",
    "salary_df_2668.show()\n"
   ]
  }
 ],
 "metadata": {
  "application/vnd.databricks.v1+notebook": {
   "computePreferences": null,
   "dashboards": [],
   "environmentMetadata": {
    "base_environment": "",
    "environment_version": "1"
   },
   "inputWidgetPreferences": null,
   "language": "python",
   "notebookMetadata": {
    "pythonIndentUnit": 4
   },
   "notebookName": "2668. Find Latest Salaries (Easy)",
   "widgets": {}
  }
 },
 "nbformat": 4,
 "nbformat_minor": 0
}