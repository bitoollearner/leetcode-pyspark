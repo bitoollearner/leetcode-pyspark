{
 "cells": [
  {
   "cell_type": "markdown",
   "metadata": {
    "application/vnd.databricks.v1+cell": {
     "cellMetadata": {},
     "inputWidgets": {},
     "nuid": "5ab27f1b-7c08-44cb-8766-b16c3470b90d",
     "showTitle": false,
     "tableResultSettingsMap": {},
     "title": ""
    }
   },
   "source": [
    "## Importing Libraries"
   ]
  },
  {
   "cell_type": "code",
   "execution_count": 0,
   "metadata": {
    "application/vnd.databricks.v1+cell": {
     "cellMetadata": {},
     "inputWidgets": {},
     "nuid": "0d316502-e6b4-4432-b3fd-6159096e4951",
     "showTitle": false,
     "tableResultSettingsMap": {},
     "title": ""
    }
   },
   "outputs": [],
   "source": [
    "from pyspark.sql.functions import *\n",
    "from pyspark.sql.types import *\n",
    "from pyspark.sql.window import Window"
   ]
  },
  {
   "cell_type": "markdown",
   "metadata": {
    "application/vnd.databricks.v1+cell": {
     "cellMetadata": {},
     "inputWidgets": {},
     "nuid": "2e4d3e31-be24-427a-bc7e-362b6765c4fa",
     "showTitle": false,
     "tableResultSettingsMap": {},
     "title": ""
    }
   },
   "source": [
    "**612. Shortest Distance in a Plane (Medium)**\n",
    "\n",
    "**Table: Point2D**\n",
    "\n",
    "| Column Name | Type |\n",
    "|-------------|------|\n",
    "| x           | int  |\n",
    "| y           | int  |\n",
    "\n",
    "(x, y) is the primary key column (combination of columns with unique values) for this table.\n",
    "Each row of this table indicates the position of a point on the X-Y plane.\n",
    " \n",
    "The distance between two points p1(x1, y1) and p2(x2, y2) is sqrt((x2 - x1)2 + (y2 - y1)2).\n",
    "\n",
    "**Write a solution to report the shortest distance between any two points from the Point2D table. Round the distance to two decimal points.**\n",
    "\n",
    "The result format is in the following example.\n",
    "\n",
    "**Example 1:**\n",
    "\n",
    "**Input:** \n",
    "\n",
    "**Point2D table:**\n",
    "\n",
    "| x  | y  |\n",
    "|----|----|\n",
    "| -1 | -1 |\n",
    "| 0  | 0  |\n",
    "| -1 | -2 |\n",
    "\n",
    "**Output:** \n",
    "| shortest |\n",
    "|----------|\n",
    "| 1.00     |\n",
    "\n",
    "**Explanation:** The shortest distance is 1.00 from point (-1, -1) to (-1, 2)."
   ]
  },
  {
   "cell_type": "code",
   "execution_count": 0,
   "metadata": {
    "application/vnd.databricks.v1+cell": {
     "cellMetadata": {},
     "inputWidgets": {},
     "nuid": "f6f11a82-8828-41ca-828a-e88f8586b97a",
     "showTitle": false,
     "tableResultSettingsMap": {},
     "title": ""
    }
   },
   "outputs": [],
   "source": [
    "point2d_data_612 = [\n",
    "    (-1, -1),\n",
    "    (0, 0),\n",
    "    (-1, -2)\n",
    "]\n",
    "\n",
    "point2d_columns_612 = ['x', 'y']\n",
    "point2d_df_612 = spark.createDataFrame(point2d_data_612, point2d_columns_612)\n",
    "point2d_df_612.show()"
   ]
  }
 ],
 "metadata": {
  "application/vnd.databricks.v1+notebook": {
   "computePreferences": null,
   "dashboards": [],
   "environmentMetadata": {
    "base_environment": "",
    "environment_version": "1"
   },
   "inputWidgetPreferences": null,
   "language": "python",
   "notebookMetadata": {
    "pythonIndentUnit": 4
   },
   "notebookName": "612. Shortest Distance in a Plane (Medium)",
   "widgets": {}
  }
 },
 "nbformat": 4,
 "nbformat_minor": 0
}