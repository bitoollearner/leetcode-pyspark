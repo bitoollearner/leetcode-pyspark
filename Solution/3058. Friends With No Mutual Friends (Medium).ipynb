{
 "cells": [
  {
   "cell_type": "markdown",
   "metadata": {
    "application/vnd.databricks.v1+cell": {
     "cellMetadata": {},
     "inputWidgets": {},
     "nuid": "7d1791bd-9552-4116-90b2-daa678bbffb8",
     "showTitle": false,
     "tableResultSettingsMap": {},
     "title": ""
    }
   },
   "source": [
    "## Importing Libraries"
   ]
  },
  {
   "cell_type": "code",
   "execution_count": 0,
   "metadata": {
    "application/vnd.databricks.v1+cell": {
     "cellMetadata": {},
     "inputWidgets": {},
     "nuid": "2901fbc9-49db-4285-8b94-c460f34d4c4f",
     "showTitle": false,
     "tableResultSettingsMap": {},
     "title": ""
    }
   },
   "outputs": [],
   "source": [
    "from pyspark.sql.functions import *\n",
    "from pyspark.sql.types import *\n",
    "from pyspark.sql.window import Window"
   ]
  },
  {
   "cell_type": "markdown",
   "metadata": {
    "application/vnd.databricks.v1+cell": {
     "cellMetadata": {},
     "inputWidgets": {},
     "nuid": "655120e7-6b25-417c-a08a-c6925feaa425",
     "showTitle": false,
     "tableResultSettingsMap": {},
     "title": ""
    }
   },
   "source": [
    "**3058. Friends With No Mutual Friends (Medium)**\n",
    "\n",
    "**Table: Friends**\n",
    "\n",
    "| Column Name | Type |\n",
    "|-------------|------|\n",
    "| user_id1    | int  |\n",
    "| user_id2    | int  |\n",
    "\n",
    "(user_id1, user_id2) is the primary key (combination of columns with unique values) for this table.\n",
    "Each row contains user id1, user id2, both of whom are friends with each other.\n",
    "\n",
    "**Write a solution to find all pairs of users who are friends with each other and have no mutual friends.**\n",
    "\n",
    "Return the result table ordered by user_id1, user_id2 in ascending order.\n",
    "\n",
    "The result format is in the following example.\n",
    "\n",
    "**Example 1:**\n",
    "\n",
    "**Input:**\n",
    "**Friends table:**\n",
    "| user_id1 | user_id2 | \n",
    "|----------|----------|\n",
    "| 1        | 2        | \n",
    "| 2        | 3        | \n",
    "| 2        | 4        | \n",
    "| 1        | 5        | \n",
    "| 6        | 7        | \n",
    "| 3        | 4        | \n",
    "| 2        | 5        | \n",
    "| 8        | 9        | \n",
    "\n",
    "**Output:**\n",
    "| user_id1 | user_id2 | \n",
    "|----------|----------|\n",
    "| 6        | 7        | \n",
    "| 8        | 9        | \n",
    "\n",
    "**Explanation:** \n",
    "- Users 1 and 2 are friends with each other, but they share a mutual friend with user ID 5, so this pair is not included.\n",
    "- Users 2 and 3 are friends, they both share a mutual friend with user ID 4, resulting in exclusion, similarly for users 2 and 4 who share a mutual friend with user ID 3, hence not included.\n",
    "- Users 1 and 5 are friends with each other, but they share a mutual friend with user ID 2, so this pair is not included.\n",
    "- Users 6 and 7, as well as users 8 and 9, are friends with each other, and they don't have any mutual friends, hence included.\n",
    "- Users 3 and 4 are friends with each other, but their mutual connection with user ID 2 means they are not included, similarly for users 2 and 5 are friends but are excluded due to their mutual connection with user ID 1.\n",
    "\n",
    "Output table is ordered by user_id1 in ascending order."
   ]
  },
  {
   "cell_type": "code",
   "execution_count": 0,
   "metadata": {
    "application/vnd.databricks.v1+cell": {
     "cellMetadata": {},
     "inputWidgets": {},
     "nuid": "a2368434-0191-416c-aa1d-12cd44cf48e6",
     "showTitle": false,
     "tableResultSettingsMap": {},
     "title": ""
    }
   },
   "outputs": [],
   "source": [
    "friends_data_3058 = [\n",
    "    (1, 2),\n",
    "    (2, 3),\n",
    "    (2, 4),\n",
    "    (1, 5),\n",
    "    (6, 7),\n",
    "    (3, 4),\n",
    "    (2, 5),\n",
    "    (8, 9),\n",
    "]\n",
    "\n",
    "friends_columns_3058 = [\"user_id1\", \"user_id2\"]\n",
    "friends_df_3058 = spark.createDataFrame(friends_data_3058, friends_columns_3058)\n",
    "friends_df_3058.show()"
   ]
  }
 ],
 "metadata": {
  "application/vnd.databricks.v1+notebook": {
   "computePreferences": null,
   "dashboards": [],
   "environmentMetadata": {
    "base_environment": "",
    "environment_version": "1"
   },
   "inputWidgetPreferences": null,
   "language": "python",
   "notebookMetadata": {
    "pythonIndentUnit": 4
   },
   "notebookName": "3058. Friends With No Mutual Friends (Medium)",
   "widgets": {}
  }
 },
 "nbformat": 4,
 "nbformat_minor": 0
}