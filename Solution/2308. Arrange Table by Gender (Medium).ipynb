{
 "cells": [
  {
   "cell_type": "markdown",
   "metadata": {
    "application/vnd.databricks.v1+cell": {
     "cellMetadata": {},
     "inputWidgets": {},
     "nuid": "4e9d71b1-88e9-445c-820a-b842e217a4e7",
     "showTitle": false,
     "tableResultSettingsMap": {},
     "title": ""
    }
   },
   "source": [
    "## Importing Libraries"
   ]
  },
  {
   "cell_type": "code",
   "execution_count": 0,
   "metadata": {
    "application/vnd.databricks.v1+cell": {
     "cellMetadata": {},
     "inputWidgets": {},
     "nuid": "e6624c4d-8cb8-4ac4-8c72-81d1b4ecdb57",
     "showTitle": false,
     "tableResultSettingsMap": {},
     "title": ""
    }
   },
   "outputs": [],
   "source": [
    "from pyspark.sql.functions import *\n",
    "from pyspark.sql.types import *\n",
    "from pyspark.sql.window import Window"
   ]
  },
  {
   "cell_type": "markdown",
   "metadata": {
    "application/vnd.databricks.v1+cell": {
     "cellMetadata": {},
     "inputWidgets": {},
     "nuid": "c3788fe5-f4c9-420f-ad72-ec1a39310a2a",
     "showTitle": false,
     "tableResultSettingsMap": {},
     "title": ""
    }
   },
   "source": [
    "**2308. Arrange Table by Gender (Medium)**\n",
    "\n",
    "**Table: Genders**\n",
    "\n",
    "| Column Name | Type    |\n",
    "|-------------|---------|\n",
    "| user_id     | int     |\n",
    "| gender      | varchar |\n",
    "\n",
    "user_id is the primary key (column with unique values) for this table.\n",
    "gender is ENUM (category) of type 'female', 'male', or 'other'.\n",
    "Each row in this table contains the ID of a user and their gender.\n",
    "The table has an equal number of 'female', 'male', and 'other'.\n",
    " \n",
    "**Write a solution to rearrange the Genders table such that the rows alternate between 'female', 'other', and 'male' in order. The table should be rearranged such that the IDs of each gender are sorted in ascending order.**\n",
    "\n",
    "Return the result table in the mentioned order.\n",
    "\n",
    "The result format is shown in the following example.\n",
    "\n",
    "**Example 1:**\n",
    "\n",
    "**Input:** \n",
    "\n",
    "**Genders table:**\n",
    "\n",
    "| user_id | gender |\n",
    "|---------|--------|\n",
    "| 4       | male   |\n",
    "| 7       | female |\n",
    "| 2       | other  |\n",
    "| 5       | male   |\n",
    "| 3       | female |\n",
    "| 8       | male   |\n",
    "| 6       | other  |\n",
    "| 1       | other  |\n",
    "| 9       | female |\n",
    "\n",
    "**Output:** \n",
    "| user_id | gender |\n",
    "|---------|--------|\n",
    "| 3       | female |\n",
    "| 1       | other  |\n",
    "| 4       | male   |\n",
    "| 7       | female |\n",
    "| 2       | other  |\n",
    "| 5       | male   |\n",
    "| 9       | female |\n",
    "| 6       | other  |\n",
    "| 8       | male   |\n",
    "\n",
    "**Explanation:** \n",
    "- Female gender: IDs 3, 7, and 9.\n",
    "- Other gender: IDs 1, 2, and 6.\n",
    "- Male gender: IDs 4, 5, and 8.\n",
    "\n",
    "We arrange the table alternating between 'female', 'other', and 'male'.\n",
    "\n",
    "Note that the IDs of each gender are sorted in ascending order."
   ]
  },
  {
   "cell_type": "code",
   "execution_count": 0,
   "metadata": {
    "application/vnd.databricks.v1+cell": {
     "cellMetadata": {},
     "inputWidgets": {},
     "nuid": "137536ea-9bec-4171-8dc2-4bf8b0d771b4",
     "showTitle": false,
     "tableResultSettingsMap": {},
     "title": ""
    }
   },
   "outputs": [],
   "source": [
    "genders_data_2308 = [\n",
    "    (4, \"male\"),\n",
    "    (7, \"female\"),\n",
    "    (2, \"other\"),\n",
    "    (5, \"male\"),\n",
    "    (3, \"female\"),\n",
    "    (8, \"male\"),\n",
    "    (6, \"other\"),\n",
    "    (1, \"other\"),\n",
    "    (9, \"female\"),\n",
    "]\n",
    "\n",
    "genders_columns_2308 = [\"user_id\", \"gender\"]\n",
    "genders_df_2308 = spark.createDataFrame(genders_data_2308, genders_columns_2308)\n",
    "genders_df_2308.show()"
   ]
  }
 ],
 "metadata": {
  "application/vnd.databricks.v1+notebook": {
   "computePreferences": null,
   "dashboards": [],
   "environmentMetadata": {
    "base_environment": "",
    "environment_version": "1"
   },
   "inputWidgetPreferences": null,
   "language": "python",
   "notebookMetadata": {
    "pythonIndentUnit": 4
   },
   "notebookName": "2308. Arrange Table by Gender (Medium)",
   "widgets": {}
  }
 },
 "nbformat": 4,
 "nbformat_minor": 0
}