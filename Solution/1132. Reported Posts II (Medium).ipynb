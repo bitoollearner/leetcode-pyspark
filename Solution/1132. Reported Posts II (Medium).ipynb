{
 "cells": [
  {
   "cell_type": "markdown",
   "metadata": {
    "application/vnd.databricks.v1+cell": {
     "cellMetadata": {},
     "inputWidgets": {},
     "nuid": "c8535576-d746-40ee-8199-8ccd3e39577f",
     "showTitle": false,
     "tableResultSettingsMap": {},
     "title": ""
    }
   },
   "source": [
    "## Importing Libraries"
   ]
  },
  {
   "cell_type": "code",
   "execution_count": 0,
   "metadata": {
    "application/vnd.databricks.v1+cell": {
     "cellMetadata": {},
     "inputWidgets": {},
     "nuid": "09da8fc1-d579-4949-bbc7-9132909993c8",
     "showTitle": false,
     "tableResultSettingsMap": {},
     "title": ""
    }
   },
   "outputs": [],
   "source": [
    "from pyspark.sql.functions import *\n",
    "from pyspark.sql.types import *\n",
    "from pyspark.sql.window import Window"
   ]
  },
  {
   "cell_type": "markdown",
   "metadata": {
    "application/vnd.databricks.v1+cell": {
     "cellMetadata": {},
     "inputWidgets": {},
     "nuid": "4567f050-e6f4-4b8b-b899-db2f17021c1d",
     "showTitle": false,
     "tableResultSettingsMap": {},
     "title": ""
    }
   },
   "source": [
    "**1132. Reported Posts II (Medium)**\n",
    "\n",
    "**Table: Actions**\n",
    "\n",
    "| Column Name   | Type    |\n",
    "|---------------|---------|\n",
    "| user_id       | int     |\n",
    "| post_id       | int     |\n",
    "| action_date   | date    | \n",
    "| action        | enum    |\n",
    "| extra         | varchar |\n",
    "\n",
    "This table may have duplicate rows.\n",
    "The action column is an ENUM (category) type of ('view', 'like', 'reaction', 'comment', 'report', 'share').\n",
    "The extra column has optional information about the action, such as a reason for the report or a type of reaction.\n",
    " \n",
    "\n",
    "**Table: Removals**\n",
    "\n",
    "| Column Name   | Type    |\n",
    "|---------------|---------|\n",
    "| post_id       | int     |\n",
    "| remove_date   | date    | \n",
    "\n",
    "post_id is the primary key (column with unique values) of this table.\n",
    "Each row in this table indicates that some post was removed due to being reported or as a result of an admin review.\n",
    " \n",
    "**Write a solution to find the average daily percentage of posts that got removed after being reported as spam, rounded to 2 decimal places.**\n",
    "\n",
    "The result format is in the following example.\n",
    "\n",
    "**Example 1:**\n",
    "\n",
    "**Input:** \n",
    "\n",
    "**Actions table:**\n",
    "| user_id | post_id | action_date | action | extra  |\n",
    "|---------|---------|-------------|--------|--------|\n",
    "| 1       | 1       | 2019-07-01  | view   | null   |\n",
    "| 1       | 1       | 2019-07-01  | like   | null   |\n",
    "| 1       | 1       | 2019-07-01  | share  | null   |\n",
    "| 2       | 2       | 2019-07-04  | view   | null   |\n",
    "| 2       | 2       | 2019-07-04  | report | spam   |\n",
    "| 3       | 4       | 2019-07-04  | view   | null   |\n",
    "| 3       | 4       | 2019-07-04  | report | spam   |\n",
    "| 4       | 3       | 2019-07-02  | view   | null   |\n",
    "| 4       | 3       | 2019-07-02  | report | spam   |\n",
    "| 5       | 2       | 2019-07-03  | view   | null   |\n",
    "| 5       | 2       | 2019-07-03  | report | racism |\n",
    "| 5       | 5       | 2019-07-03  | view   | null   |\n",
    "| 5       | 5       | 2019-07-03  | report | racism |\n",
    "\n",
    "**Removals table:**\n",
    "| post_id | remove_date |\n",
    "|---------|-------------|\n",
    "| 2       | 2019-07-20  |\n",
    "| 3       | 2019-07-18  |\n",
    "\n",
    "**Output:** \n",
    "| average_daily_percent |\n",
    "|-----------------------|\n",
    "| 75.00                 |\n",
    "\n",
    "**Explanation:** \n",
    "- The percentage for 2019-07-04 is 50% because only one post of two spam reported posts were removed.\n",
    "- The percentage for 2019-07-02 is 100% because one post was reported as spam and it was removed.\n",
    "- The other days had no spam reports so the average is (50 + 100) / 2 = 75%\n",
    "\n",
    "**Note:** that the output is only one number and that we do not care about the remove dates."
   ]
  },
  {
   "cell_type": "code",
   "execution_count": 0,
   "metadata": {
    "application/vnd.databricks.v1+cell": {
     "cellMetadata": {},
     "inputWidgets": {},
     "nuid": "9b14d03f-22ca-4fa2-b371-32a135a82877",
     "showTitle": false,
     "tableResultSettingsMap": {},
     "title": ""
    }
   },
   "outputs": [],
   "source": [
    "actions_data_1132 = [\n",
    "    (1, 1, \"2019-07-01\", \"view\", None),\n",
    "    (1, 1, \"2019-07-01\", \"like\", None),\n",
    "    (1, 1, \"2019-07-01\", \"share\", None),\n",
    "    (2, 2, \"2019-07-04\", \"view\", None),\n",
    "    (2, 2, \"2019-07-04\", \"report\", \"spam\"),\n",
    "    (3, 4, \"2019-07-04\", \"view\", None),\n",
    "    (3, 4, \"2019-07-04\", \"report\", \"spam\"),\n",
    "    (4, 3, \"2019-07-02\", \"view\", None),\n",
    "    (4, 3, \"2019-07-02\", \"report\", \"spam\"),\n",
    "    (5, 2, \"2019-07-03\", \"view\", None),\n",
    "    (5, 2, \"2019-07-03\", \"report\", \"racism\"),\n",
    "    (5, 5, \"2019-07-03\", \"view\", None),\n",
    "    (5, 5, \"2019-07-03\", \"report\", \"racism\"),\n",
    "]\n",
    "\n",
    "actions_columns_1132 = [\"user_id\", \"post_id\", \"action_date\", \"action\", \"extra\"]\n",
    "actions_df_1132 = spark.createDataFrame(actions_data_1132, actions_columns_1132)\n",
    "actions_df_1132.show()\n",
    "\n",
    "removals_data_1132 = [\n",
    "    (2, \"2019-07-20\"),\n",
    "    (3, \"2019-07-18\"),\n",
    "]\n",
    "\n",
    "removals_columns_1132 = [\"post_id\", \"remove_date\"]\n",
    "removals_df_1132 = spark.createDataFrame(removals_data_1132, removals_columns_1132)\n",
    "removals_df_1132.show()"
   ]
  }
 ],
 "metadata": {
  "application/vnd.databricks.v1+notebook": {
   "computePreferences": null,
   "dashboards": [],
   "environmentMetadata": {
    "base_environment": "",
    "environment_version": "1"
   },
   "inputWidgetPreferences": null,
   "language": "python",
   "notebookMetadata": {
    "pythonIndentUnit": 4
   },
   "notebookName": "1132. Reported Posts II (Medium)",
   "widgets": {}
  }
 },
 "nbformat": 4,
 "nbformat_minor": 0
}