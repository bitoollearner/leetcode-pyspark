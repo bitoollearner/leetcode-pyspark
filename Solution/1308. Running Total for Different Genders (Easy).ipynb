{
 "cells": [
  {
   "cell_type": "markdown",
   "metadata": {
    "application/vnd.databricks.v1+cell": {
     "cellMetadata": {},
     "inputWidgets": {},
     "nuid": "516a210c-988a-43a8-9004-cb03ad7c2481",
     "showTitle": false,
     "tableResultSettingsMap": {},
     "title": ""
    }
   },
   "source": [
    "## Importing Libraries"
   ]
  },
  {
   "cell_type": "code",
   "execution_count": 0,
   "metadata": {
    "application/vnd.databricks.v1+cell": {
     "cellMetadata": {},
     "inputWidgets": {},
     "nuid": "9333a394-5bb0-4f1f-8f10-60b56c9fb68e",
     "showTitle": false,
     "tableResultSettingsMap": {},
     "title": ""
    }
   },
   "outputs": [],
   "source": [
    "from pyspark.sql.functions import *\n",
    "from pyspark.sql.types import *\n",
    "from pyspark.sql.window import Window"
   ]
  },
  {
   "cell_type": "markdown",
   "metadata": {
    "application/vnd.databricks.v1+cell": {
     "cellMetadata": {},
     "inputWidgets": {},
     "nuid": "b718c875-1030-4207-a68c-5fad8635212a",
     "showTitle": false,
     "tableResultSettingsMap": {},
     "title": ""
    }
   },
   "source": [
    "**1308. Running Total for Different Genders (Easy)**\n",
    "\n",
    "**Table: Scores**\n",
    "\n",
    "| Column Name   | Type    |\n",
    "|---------------|---------|\n",
    "| player_name   | varchar |\n",
    "| gender        | varchar |\n",
    "| day           | date    |\n",
    "| score_points  | int     |\n",
    "\n",
    "(gender, day) is the primary key (combination of columns with unique values) for this table.\n",
    "A competition is held between the female team and the male team.\n",
    "Each row of this table indicates that a player_name and with gender has scored score_point in someday.\n",
    "Gender is 'F' if the player is in the female team and 'M' if the player is in the male team.\n",
    " \n",
    "**Write a solution to find the total score for each gender on each day.**\n",
    "\n",
    "Return the result table ordered by gender and day in ascending order.\n",
    "\n",
    "The result format is in the following example.\n",
    "\n",
    "**Example 1:**\n",
    "\n",
    "**Input:** \n",
    "\n",
    "**Scores table:**\n",
    "| player_name | gender | day        | score_points |\n",
    "|-------------|--------|------------|--------------|\n",
    "| Aron        | F      | 2020-01-01 | 17           |\n",
    "| Alice       | F      | 2020-01-07 | 23           |\n",
    "| Bajrang     | M      | 2020-01-07 | 7            |\n",
    "| Khali       | M      | 2019-12-25 | 11           |\n",
    "| Slaman      | M      | 2019-12-30 | 13           |\n",
    "| Joe         | M      | 2019-12-31 | 3            |\n",
    "| Jose        | M      | 2019-12-18 | 2            |\n",
    "| Priya       | F      | 2019-12-31 | 23           |\n",
    "| Priyanka    | F      | 2019-12-30 | 17           |\n",
    "\n",
    "**Output:** \n",
    "| gender | day        | total |\n",
    "|--------|------------|-------|\n",
    "| F      | 2019-12-30 | 17    |\n",
    "| F      | 2019-12-31 | 40    |\n",
    "| F      | 2020-01-01 | 57    |\n",
    "| F      | 2020-01-07 | 80    |\n",
    "| M      | 2019-12-18 | 2     |\n",
    "| M      | 2019-12-25 | 13    |\n",
    "| M      | 2019-12-30 | 26    |\n",
    "| M      | 2019-12-31 | 29    |\n",
    "| M      | 2020-01-07 | 36    |\n",
    "\n",
    "**Explanation:** \n",
    "\n",
    "**For the female team:**\n",
    "- The first day is 2019-12-30, Priyanka scored 17 points and the total score for the team is 17.\n",
    "- The second day is 2019-12-31, Priya scored 23 points and the total score for the team is 40.\n",
    "- The third day is 2020-01-01, Aron scored 17 points and the total score for the team is 57.\n",
    "- The fourth day is 2020-01-07, Alice scored 23 points and the total score for the team is 80.\n",
    "\n",
    "**For the male team:**\n",
    "- The first day is 2019-12-18, Jose scored 2 points and the total score for the team is 2.\n",
    "- The second day is 2019-12-25, Khali scored 11 points and the total score for the team is 13.\n",
    "- The third day is 2019-12-30, Slaman scored 13 points and the total score for the team is 26.\n",
    "- The fourth day is 2019-12-31, Joe scored 3 points and the total score for the team is 29.\n",
    "- The fifth day is 2020-01-07, Bajrang scored 7 points and the total score for the team is 36."
   ]
  },
  {
   "cell_type": "code",
   "execution_count": 0,
   "metadata": {
    "application/vnd.databricks.v1+cell": {
     "cellMetadata": {},
     "inputWidgets": {},
     "nuid": "01e4d778-a8a5-48a7-8ebb-7033f0b84d62",
     "showTitle": false,
     "tableResultSettingsMap": {},
     "title": ""
    }
   },
   "outputs": [],
   "source": [
    "scores_data_1308 = [\n",
    "    (\"Aron\", \"F\", \"2020-01-01\", 17),\n",
    "    (\"Alice\", \"F\", \"2020-01-07\", 23),\n",
    "    (\"Bajrang\", \"M\", \"2020-01-07\", 7),\n",
    "    (\"Khali\", \"M\", \"2019-12-25\", 11),\n",
    "    (\"Slaman\", \"M\", \"2019-12-30\", 13),\n",
    "    (\"Joe\", \"M\", \"2019-12-31\", 3),\n",
    "    (\"Jose\", \"M\", \"2019-12-18\", 2),\n",
    "    (\"Priya\", \"F\", \"2019-12-31\", 23),\n",
    "    (\"Priyanka\", \"F\", \"2019-12-30\", 17)\n",
    "]\n",
    "\n",
    "scores_columns_1308 = [\"player_name\", \"gender\", \"day\", \"score_points\"]\n",
    "scores_df_1308 = spark.createDataFrame(scores_data_1308, scores_columns_1308)\n",
    "scores_df_1308.show()"
   ]
  }
 ],
 "metadata": {
  "application/vnd.databricks.v1+notebook": {
   "computePreferences": null,
   "dashboards": [],
   "environmentMetadata": {
    "base_environment": "",
    "environment_version": "1"
   },
   "inputWidgetPreferences": null,
   "language": "python",
   "notebookMetadata": {
    "pythonIndentUnit": 4
   },
   "notebookName": "1308. Running Total for Different Genders (Easy)",
   "widgets": {}
  }
 },
 "nbformat": 4,
 "nbformat_minor": 0
}