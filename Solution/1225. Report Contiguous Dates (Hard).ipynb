{
 "cells": [
  {
   "cell_type": "markdown",
   "metadata": {
    "application/vnd.databricks.v1+cell": {
     "cellMetadata": {},
     "inputWidgets": {},
     "nuid": "82383caa-9b15-409a-9acb-968b851c477b",
     "showTitle": false,
     "tableResultSettingsMap": {},
     "title": ""
    }
   },
   "source": [
    "## Importing Libraries"
   ]
  },
  {
   "cell_type": "code",
   "execution_count": 0,
   "metadata": {
    "application/vnd.databricks.v1+cell": {
     "cellMetadata": {},
     "inputWidgets": {},
     "nuid": "83322872-9913-4063-98cf-4aaea5fd3337",
     "showTitle": false,
     "tableResultSettingsMap": {},
     "title": ""
    }
   },
   "outputs": [],
   "source": [
    "from pyspark.sql.functions import *\n",
    "from pyspark.sql.types import *\n",
    "from pyspark.sql.window import Window"
   ]
  },
  {
   "cell_type": "markdown",
   "metadata": {
    "application/vnd.databricks.v1+cell": {
     "cellMetadata": {},
     "inputWidgets": {},
     "nuid": "e475f002-2b95-4d27-958c-aeab86c066ed",
     "showTitle": false,
     "tableResultSettingsMap": {},
     "title": ""
    }
   },
   "source": [
    "**1225. Report Contiguous Dates (Hard)**\n",
    "\n",
    "**Table: Failed**\n",
    "\n",
    "| Column Name  | Type    |\n",
    "|--------------|---------|\n",
    "| fail_date    | date    |\n",
    "\n",
    "fail_date is the primary key (column with unique values) for this table.\n",
    "This table contains the days of failed tasks.\n",
    " \n",
    "\n",
    "**Table: Succeeded**\n",
    "\n",
    "| Column Name  | Type    |\n",
    "|--------------|---------|\n",
    "| success_date | date    |\n",
    "\n",
    "success_date is the primary key (column with unique values) for this table.\n",
    "This table contains the days of succeeded tasks.\n",
    " \n",
    "A system is running one task every day. Every task is independent of the previous tasks. The tasks can fail or succeed.\n",
    "\n",
    "**Write a solution to report the period_state for each continuous interval of days in the period from 2019-01-01 to 2019-12-31.**\n",
    "\n",
    "period_state is 'failed' if tasks in this interval failed or 'succeeded' if tasks in this interval succeeded. Interval of days are retrieved as start_date and end_date.\n",
    "\n",
    "Return the result table ordered by start_date.\n",
    "\n",
    "The result format is in the following example.\n",
    "\n",
    "**Example 1:**\n",
    "\n",
    "**Input:** \n",
    "\n",
    "**Failed table:**\n",
    "\n",
    "| fail_date         |\n",
    "|-------------------|\n",
    "| 2018-12-28        |\n",
    "| 2018-12-29        |\n",
    "| 2019-01-04        |\n",
    "| 2019-01-05        |\n",
    "\n",
    "**Succeeded table:**\n",
    "| success_date      |\n",
    "|-------------------|\n",
    "| 2018-12-30        |\n",
    "| 2018-12-31        |\n",
    "| 2019-01-01        |\n",
    "| 2019-01-02        |\n",
    "| 2019-01-03        |\n",
    "| 2019-01-06        |\n",
    "\n",
    "**Output:** \n",
    "| period_state | start_date   | end_date     |\n",
    "|--------------|--------------|--------------|\n",
    "| succeeded    | 2019-01-01   | 2019-01-03   |\n",
    "| failed       | 2019-01-04   | 2019-01-05   |\n",
    "| succeeded    | 2019-01-06   | 2019-01-06   |\n",
    "\n",
    "**Explanation:** \n",
    "- The report ignored the system state in 2018 as we care about the system in the period 2019-01-01 to 2019-12-31.\n",
    "- From 2019-01-01 to 2019-01-03 all tasks succeeded and the system state was \"succeeded\".\n",
    "- From 2019-01-04 to 2019-01-05 all tasks failed and the system state was \"failed\".\n",
    "- From 2019-01-06 to 2019-01-06 all tasks succeeded and the system state was \"succeeded\"."
   ]
  },
  {
   "cell_type": "code",
   "execution_count": 0,
   "metadata": {
    "application/vnd.databricks.v1+cell": {
     "cellMetadata": {},
     "inputWidgets": {},
     "nuid": "a073d765-b3a4-4bda-a02f-ac5e3671a222",
     "showTitle": false,
     "tableResultSettingsMap": {},
     "title": ""
    }
   },
   "outputs": [],
   "source": [
    "failed_data_1225 = [\n",
    "    (\"2018-12-28\",), (\"2018-12-29\",), (\"2019-01-04\",), (\"2019-01-05\",)\n",
    "]\n",
    "failed_df_1225 = spark.createDataFrame(failed_data_1225, [\"date\"])\n",
    "failed_df_1225.show()\n",
    "\n",
    "succeeded_data_1225 = [\n",
    "    (\"2018-12-30\",), (\"2018-12-31\",), (\"2019-01-01\",), \n",
    "    (\"2019-01-02\",), (\"2019-01-03\",), (\"2019-01-06\",)\n",
    "]\n",
    "\n",
    "succeeded_df_1225 = spark.createDataFrame(succeeded_data_1225, [\"date\"])\n",
    "succeeded_df_1225.show()"
   ]
  }
 ],
 "metadata": {
  "application/vnd.databricks.v1+notebook": {
   "computePreferences": null,
   "dashboards": [],
   "environmentMetadata": {
    "base_environment": "",
    "environment_version": "1"
   },
   "inputWidgetPreferences": null,
   "language": "python",
   "notebookMetadata": {
    "pythonIndentUnit": 4
   },
   "notebookName": "1225. Report Contiguous Dates (Hard)",
   "widgets": {}
  }
 },
 "nbformat": 4,
 "nbformat_minor": 0
}