{
 "cells": [
  {
   "cell_type": "markdown",
   "metadata": {
    "application/vnd.databricks.v1+cell": {
     "cellMetadata": {
      "byteLimit": 2048000,
      "rowLimit": 10000
     },
     "inputWidgets": {},
     "nuid": "7d1791bd-9552-4116-90b2-daa678bbffb8",
     "showTitle": false,
     "tableResultSettingsMap": {},
     "title": ""
    }
   },
   "source": [
    "## Importing Libraries"
   ]
  },
  {
   "cell_type": "code",
   "execution_count": 0,
   "metadata": {
    "application/vnd.databricks.v1+cell": {
     "cellMetadata": {
      "byteLimit": 2048000,
      "rowLimit": 10000
     },
     "inputWidgets": {},
     "nuid": "2901fbc9-49db-4285-8b94-c460f34d4c4f",
     "showTitle": false,
     "tableResultSettingsMap": {},
     "title": ""
    }
   },
   "outputs": [],
   "source": [
    "from pyspark.sql.functions import *\n",
    "from pyspark.sql.types import *\n",
    "from pyspark.sql.window import Window"
   ]
  },
  {
   "cell_type": "markdown",
   "metadata": {
    "application/vnd.databricks.v1+cell": {
     "cellMetadata": {
      "byteLimit": 2048000,
      "rowLimit": 10000
     },
     "inputWidgets": {},
     "nuid": "655120e7-6b25-417c-a08a-c6925feaa425",
     "showTitle": false,
     "tableResultSettingsMap": {},
     "title": ""
    }
   },
   "source": [
    "**3053. Classifying Triangles by Lengths (Easy)**\n",
    "\n",
    "**Table: Triangles**\n",
    "\n",
    "| Column Name | Type | \n",
    "|-------------|------| \n",
    "| A           | int  | \n",
    "| B           | int  |\n",
    "| C           | int  |\n",
    "\n",
    "(A, B, C) is the primary key for this table.\n",
    "Each row include the lengths of each of a triangle's three sides.\n",
    "\n",
    "**Write a query to find the type of triangle. Output one of the following for each row:**\n",
    "- **Equilateral:** It's a triangle with 3 sides of equal length.\n",
    "- **Isosceles:** It's a triangle with 2 sides of equal length.\n",
    "- **Scalene:** It's a triangle with 3 sides of differing lengths.\n",
    "- **Not A Triangle:** The given values of A, B, and C don't form a triangle.\n",
    "\n",
    "Return the result table in any order.\n",
    "\n",
    "The result format is in the following example.\n",
    "\n",
    "**Example 1:**\n",
    "\n",
    "**Input:**\n",
    "\n",
    "**Triangles table:**\n",
    "\n",
    "| A  | B  | C  |\n",
    "|----|----|----|\n",
    "| 20 | 20 | 23 |\n",
    "| 20 | 20 | 20 |\n",
    "| 20 | 21 | 22 |\n",
    "| 13 | 14 | 30 |\n",
    "\n",
    "**Output:**\n",
    "| triangle_type  | \n",
    "|----------------|\n",
    "| Isosceles      | \n",
    "| Equilateral    |\n",
    "| Scalene        |\n",
    "| Not A Triangle |\n",
    "\n",
    "**Explanation:**\n",
    "- Values in the first row from an Isosceles triangle, because A = B.\n",
    "- Values in the second row from an Equilateral triangle, because A = B = C.\n",
    "- Values in the third row from an Scalene triangle, because A != B != C.\n",
    "- Values in the fourth row cannot form a triangle, because the combined value of sides A and B is not larger than that of side C."
   ]
  },
  {
   "cell_type": "code",
   "execution_count": 0,
   "metadata": {
    "application/vnd.databricks.v1+cell": {
     "cellMetadata": {
      "byteLimit": 2048000,
      "rowLimit": 10000
     },
     "inputWidgets": {},
     "nuid": "a2368434-0191-416c-aa1d-12cd44cf48e6",
     "showTitle": false,
     "tableResultSettingsMap": {},
     "title": ""
    }
   },
   "outputs": [
    {
     "output_type": "stream",
     "name": "stdout",
     "output_type": "stream",
     "text": [
      "+---+---+---+\n|  A|  B|  C|\n+---+---+---+\n| 20| 20| 23|\n| 20| 20| 20|\n| 20| 21| 22|\n| 13| 14| 30|\n+---+---+---+\n\n"
     ]
    }
   ],
   "source": [
    "triangles_data_3053 = [\n",
    "    (20, 20, 23),\n",
    "    (20, 20, 20),\n",
    "    (20, 21, 22),\n",
    "    (13, 14, 30)\n",
    "]\n",
    "\n",
    "triangles_columns_3053 = [\"A\", \"B\", \"C\"]\n",
    "triangles_df_3053 = spark.createDataFrame(triangles_data_3053, triangles_columns_3053)\n",
    "triangles_df_3053.show()"
   ]
  },
  {
   "cell_type": "code",
   "execution_count": 0,
   "metadata": {
    "application/vnd.databricks.v1+cell": {
     "cellMetadata": {
      "byteLimit": 2048000,
      "rowLimit": 10000
     },
     "inputWidgets": {},
     "nuid": "91eaf125-f6ae-45d5-83b0-4be331f23b27",
     "showTitle": false,
     "tableResultSettingsMap": {
      "0": {
       "dataGridStateBlob": "{\"version\":1,\"tableState\":{\"columnPinning\":{\"left\":[\"#row_number#\"],\"right\":[]},\"columnSizing\":{},\"columnVisibility\":{}},\"settings\":{\"columns\":{}},\"syncTimestamp\":1759424172361}",
       "filterBlob": null,
       "queryPlanFiltersBlob": null,
       "tableResultIndex": 0
      }
     },
     "title": ""
    }
   },
   "outputs": [
    {
     "output_type": "display_data",
     "data": {
      "text/html": [
       "<style scoped>\n",
       "  .table-result-container {\n",
       "    max-height: 300px;\n",
       "    overflow: auto;\n",
       "  }\n",
       "  table, th, td {\n",
       "    border: 1px solid black;\n",
       "    border-collapse: collapse;\n",
       "  }\n",
       "  th, td {\n",
       "    padding: 5px;\n",
       "  }\n",
       "  th {\n",
       "    text-align: left;\n",
       "  }\n",
       "</style><div class='table-result-container'><table class='table-result'><thead style='background-color: white'><tr><th>triangle_type</th></tr></thead><tbody><tr><td>Isosceles</td></tr><tr><td>Equilateral</td></tr><tr><td>Scalene</td></tr><tr><td>Not A Triangle</td></tr></tbody></table></div>"
      ]
     },
     "metadata": {
      "application/vnd.databricks.v1+output": {
       "addedWidgets": {},
       "aggData": [],
       "aggError": "",
       "aggOverflow": false,
       "aggSchema": [],
       "aggSeriesLimitReached": false,
       "aggType": "",
       "arguments": {},
       "columnCustomDisplayInfos": {},
       "data": [
        [
         "Isosceles"
        ],
        [
         "Equilateral"
        ],
        [
         "Scalene"
        ],
        [
         "Not A Triangle"
        ]
       ],
       "datasetInfos": [],
       "dbfsResultPath": null,
       "isJsonSchema": true,
       "metadata": {},
       "overflow": false,
       "plotOptions": {
        "customPlotOptions": {},
        "displayType": "table",
        "pivotAggregation": null,
        "pivotColumns": null,
        "xColumns": null,
        "yColumns": null
       },
       "removedWidgets": [],
       "schema": [
        {
         "metadata": "{}",
         "name": "triangle_type",
         "type": "\"string\""
        }
       ],
       "type": "table"
      }
     },
     "output_type": "display_data"
    }
   ],
   "source": [
    "triangles_df_3053\\\n",
    "    .withColumn( \"triangle_type\",\n",
    "                when(\n",
    "                    (col(\"A\") + col(\"B\") <= col(\"C\")) | (col(\"A\") + col(\"C\") <= col(\"B\")) | (col(\"B\") + col(\"C\") <= col(\"A\")), \"Not A Triangle\")\n",
    "                .when(\n",
    "                    (col(\"A\") == col(\"B\")) & (col(\"B\") == col(\"C\")), \"Equilateral\")\n",
    "                .when(\n",
    "                    (col(\"A\") == col(\"B\")) | (col(\"A\") == col(\"C\")) | (col(\"B\") == col(\"C\")), \"Isosceles\")\n",
    "                .otherwise(\"Scalene\")\n",
    "                ).select('triangle_type').display()"
   ]
  }
 ],
 "metadata": {
  "application/vnd.databricks.v1+notebook": {
   "computePreferences": {
    "hardware": {
     "accelerator": null,
     "gpuPoolId": null,
     "memory": null
    }
   },
   "dashboards": [],
   "environmentMetadata": {
    "base_environment": "",
    "environment_version": "2"
   },
   "inputWidgetPreferences": null,
   "language": "python",
   "notebookMetadata": {
    "pythonIndentUnit": 4
   },
   "notebookName": "3053. Classifying Triangles by Lengths (Easy)-(Solved)",
   "widgets": {}
  },
  "language_info": {
   "name": "python"
  }
 },
 "nbformat": 4,
 "nbformat_minor": 0
}
