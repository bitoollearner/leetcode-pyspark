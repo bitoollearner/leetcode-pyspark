{
 "cells": [
  {
   "cell_type": "markdown",
   "metadata": {
    "application/vnd.databricks.v1+cell": {
     "cellMetadata": {},
     "inputWidgets": {},
     "nuid": "7d1791bd-9552-4116-90b2-daa678bbffb8",
     "showTitle": false,
     "tableResultSettingsMap": {},
     "title": ""
    }
   },
   "source": [
    "## Importing Libraries"
   ]
  },
  {
   "cell_type": "code",
   "execution_count": 0,
   "metadata": {
    "application/vnd.databricks.v1+cell": {
     "cellMetadata": {},
     "inputWidgets": {},
     "nuid": "2901fbc9-49db-4285-8b94-c460f34d4c4f",
     "showTitle": false,
     "tableResultSettingsMap": {},
     "title": ""
    }
   },
   "outputs": [],
   "source": [
    "from pyspark.sql.functions import *\n",
    "from pyspark.sql.types import *\n",
    "from pyspark.sql.window import Window"
   ]
  },
  {
   "cell_type": "markdown",
   "metadata": {
    "application/vnd.databricks.v1+cell": {
     "cellMetadata": {},
     "inputWidgets": {},
     "nuid": "655120e7-6b25-417c-a08a-c6925feaa425",
     "showTitle": false,
     "tableResultSettingsMap": {},
     "title": ""
    }
   },
   "source": [
    "**3053. Classifying Triangles by Lengths (Easy)**\n",
    "\n",
    "**Table: Triangles**\n",
    "\n",
    "| Column Name | Type | \n",
    "|-------------|------| \n",
    "| A           | int  | \n",
    "| B           | int  |\n",
    "| C           | int  |\n",
    "\n",
    "(A, B, C) is the primary key for this table.\n",
    "Each row include the lengths of each of a triangle's three sides.\n",
    "\n",
    "**Write a query to find the type of triangle. Output one of the following for each row:**\n",
    "- **Equilateral:** It's a triangle with 3 sides of equal length.\n",
    "- **Isosceles:** It's a triangle with 2 sides of equal length.\n",
    "- **Scalene:** It's a triangle with 3 sides of differing lengths.\n",
    "- **Not A Triangle:** The given values of A, B, and C don't form a triangle.\n",
    "\n",
    "Return the result table in any order.\n",
    "\n",
    "The result format is in the following example.\n",
    "\n",
    "**Example 1:**\n",
    "\n",
    "**Input:**\n",
    "\n",
    "**Triangles table:**\n",
    "\n",
    "| A  | B  | C  |\n",
    "|----|----|----|\n",
    "| 20 | 20 | 23 |\n",
    "| 20 | 20 | 20 |\n",
    "| 20 | 21 | 22 |\n",
    "| 13 | 14 | 30 |\n",
    "\n",
    "**Output:**\n",
    "| triangle_type  | \n",
    "|----------------|\n",
    "| Isosceles      | \n",
    "| Equilateral    |\n",
    "| Scalene        |\n",
    "| Not A Triangle |\n",
    "\n",
    "**Explanation:**\n",
    "- Values in the first row from an Isosceles triangle, because A = B.\n",
    "- Values in the second row from an Equilateral triangle, because A = B = C.\n",
    "- Values in the third row from an Scalene triangle, because A != B != C.\n",
    "- Values in the fourth row cannot form a triangle, because the combined value of sides A and B is not larger than that of side C."
   ]
  },
  {
   "cell_type": "code",
   "execution_count": 0,
   "metadata": {
    "application/vnd.databricks.v1+cell": {
     "cellMetadata": {},
     "inputWidgets": {},
     "nuid": "a2368434-0191-416c-aa1d-12cd44cf48e6",
     "showTitle": false,
     "tableResultSettingsMap": {},
     "title": ""
    }
   },
   "outputs": [],
   "source": [
    "triangles_data_3053 = [\n",
    "    (20, 20, 23),\n",
    "    (20, 20, 20),\n",
    "    (20, 21, 22),\n",
    "    (13, 14, 30)\n",
    "]\n",
    "\n",
    "triangles_columns_3053 = [\"A\", \"B\", \"C\"]\n",
    "triangles_df_3053 = spark.createDataFrame(triangles_data_3053, triangles_columns_3053)\n",
    "triangles_df_3053.show()"
   ]
  }
 ],
 "metadata": {
  "application/vnd.databricks.v1+notebook": {
   "computePreferences": null,
   "dashboards": [],
   "environmentMetadata": {
    "base_environment": "",
    "environment_version": "1"
   },
   "inputWidgetPreferences": null,
   "language": "python",
   "notebookMetadata": {
    "pythonIndentUnit": 4
   },
   "notebookName": "3053. Classifying Triangles by Lengths (Easy)-(Solved)",
   "widgets": {}
  },
  "language_info": {
   "name": "python"
  }
 },
 "nbformat": 4,
 "nbformat_minor": 0
}
