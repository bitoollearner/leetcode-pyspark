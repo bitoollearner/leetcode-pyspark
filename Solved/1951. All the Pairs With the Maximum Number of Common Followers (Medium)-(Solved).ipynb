{
 "cells": [
  {
   "cell_type": "markdown",
   "metadata": {
    "application/vnd.databricks.v1+cell": {
     "cellMetadata": {
      "byteLimit": 2048000,
      "rowLimit": 10000
     },
     "inputWidgets": {},
     "nuid": "e405a61e-83e0-4a83-8234-4a55e28c9c87",
     "showTitle": false,
     "tableResultSettingsMap": {},
     "title": ""
    }
   },
   "source": [
    "## Importing Libraries"
   ]
  },
  {
   "cell_type": "code",
   "execution_count": 0,
   "metadata": {
    "application/vnd.databricks.v1+cell": {
     "cellMetadata": {
      "byteLimit": 2048000,
      "rowLimit": 10000
     },
     "inputWidgets": {},
     "nuid": "bb35cd35-f82a-443f-90d7-d161591cdb61",
     "showTitle": false,
     "tableResultSettingsMap": {},
     "title": ""
    }
   },
   "outputs": [],
   "source": [
    "from pyspark.sql.functions import *\n",
    "from pyspark.sql.types import *\n",
    "from pyspark.sql.window import Window"
   ]
  },
  {
   "cell_type": "markdown",
   "metadata": {
    "application/vnd.databricks.v1+cell": {
     "cellMetadata": {
      "byteLimit": 2048000,
      "rowLimit": 10000
     },
     "inputWidgets": {},
     "nuid": "29ed3054-4879-4c88-8f36-f775ffecdfe0",
     "showTitle": false,
     "tableResultSettingsMap": {},
     "title": ""
    }
   },
   "source": [
    "**1951. All the Pairs With the Maximum Number of Common Followers (Medium)**\n",
    "\n",
    "**Table: Relations**\n",
    "\n",
    "| Column Name | Type |\n",
    "|-------------|------|\n",
    "| user_id     | int  |\n",
    "| follower_id | int  |\n",
    "\n",
    "(user_id, follower_id) is the primary key (combination of columns with unique values) for this table.\n",
    "Each row of this table indicates that the user with ID follower_id is following the user with ID user_id.\n",
    " \n",
    "**Write a solution to find all the pairs of users with the maximum number of common followers. In other words, if the maximum number of common followers between any two users is maxCommon, then you have to return all pairs of users that have maxCommon common followers.**\n",
    "\n",
    "The result table should contain the pairs user1_id and user2_id where user1_id < user2_id.\n",
    "\n",
    "Return the result table in any order.\n",
    "\n",
    "The result format is in the following example.\n",
    "\n",
    "**Example 1:**\n",
    "\n",
    "**Input:** \n",
    "\n",
    "**Relations table:**\n",
    "\n",
    "| user_id | follower_id |\n",
    "|---------|-------------|\n",
    "| 1       | 3           |\n",
    "| 2       | 3           |\n",
    "| 7       | 3           |\n",
    "| 1       | 4           |\n",
    "| 2       | 4           |\n",
    "| 7       | 4           |\n",
    "| 1       | 5           |\n",
    "| 2       | 6           |\n",
    "| 7       | 5           |\n",
    "\n",
    "**Output:** \n",
    "| user1_id | user2_id |\n",
    "|----------|----------|\n",
    "| 1        | 7        |\n",
    "\n",
    "**Explanation:** \n",
    "- Users 1 and 2 have two common followers (3 and 4).\n",
    "- Users 1 and 7 have three common followers (3, 4, and 5).\n",
    "- Users 2 and 7 have two common followers (3 and 4).\n",
    "\n",
    "Since the maximum number of common followers between any two users is 3, we return all pairs of users with three common followers, which is only the pair (1, 7). We return the pair as (1, 7), not as (7, 1).\n",
    "\n",
    "**Note** that we do not have any information about the users that follow users 3, 4, and 5, so we consider them to have 0 followers."
   ]
  },
  {
   "cell_type": "code",
   "execution_count": 0,
   "metadata": {
    "application/vnd.databricks.v1+cell": {
     "cellMetadata": {
      "byteLimit": 2048000,
      "rowLimit": 10000
     },
     "inputWidgets": {},
     "nuid": "64a3f754-3c0a-4ca1-af02-4d6f736ea2e9",
     "showTitle": false,
     "tableResultSettingsMap": {},
     "title": ""
    }
   },
   "outputs": [
    {
     "output_type": "stream",
     "name": "stdout",
     "output_type": "stream",
     "text": [
      "+-------+-----------+\n|user_id|follower_id|\n+-------+-----------+\n|      1|          3|\n|      2|          3|\n|      7|          3|\n|      1|          4|\n|      2|          4|\n|      7|          4|\n|      1|          5|\n|      2|          6|\n|      7|          5|\n+-------+-----------+\n\n"
     ]
    }
   ],
   "source": [
    "relations_data_1951 = [\n",
    "    (1, 3), (2, 3), (7, 3), (1, 4), (2, 4),\n",
    "    (7, 4), (1, 5), (2, 6), (7, 5)\n",
    "]\n",
    "\n",
    "relations_columns_1951 = [\"user_id\", \"follower_id\"]\n",
    "relations_df_1951 = spark.createDataFrame(relations_data_1951, relations_columns_1951)\n",
    "relations_df_1951.show()"
   ]
  },
  {
   "cell_type": "code",
   "execution_count": 0,
   "metadata": {
    "application/vnd.databricks.v1+cell": {
     "cellMetadata": {
      "byteLimit": 2048000,
      "rowLimit": 10000
     },
     "inputWidgets": {},
     "nuid": "68464b69-0bc0-4372-a608-4462abf1eeba",
     "showTitle": false,
     "tableResultSettingsMap": {},
     "title": ""
    }
   },
   "outputs": [],
   "source": [
    "pairs_df_1951 = relations_df_1951.alias(\"a\")\\\n",
    "                    .join(relations_df_1951.alias(\"b\"), col(\"a.follower_id\") == col(\"b.follower_id\"))\\\n",
    "                        .filter(col(\"a.user_id\") < col(\"b.user_id\"))\\\n",
    "                            .select(\n",
    "                                col(\"a.user_id\").alias(\"user1_id\"),\n",
    "                                col(\"b.user_id\").alias(\"user2_id\"),\n",
    "                                col(\"a.follower_id\").alias(\"common_follower\")\n",
    "                                )"
   ]
  },
  {
   "cell_type": "code",
   "execution_count": 0,
   "metadata": {
    "application/vnd.databricks.v1+cell": {
     "cellMetadata": {
      "byteLimit": 2048000,
      "rowLimit": 10000
     },
     "inputWidgets": {},
     "nuid": "42cb3208-0303-4e25-bef4-9283c42c0d6b",
     "showTitle": false,
     "tableResultSettingsMap": {},
     "title": ""
    }
   },
   "outputs": [],
   "source": [
    "common_counts_df_1951 = pairs_df_1951\\\n",
    "                            .groupBy(\"user1_id\", \"user2_id\")\\\n",
    "                                .agg(countDistinct(\"common_follower\").alias(\"common_followers\")\n",
    "                                    )"
   ]
  },
  {
   "cell_type": "code",
   "execution_count": 0,
   "metadata": {
    "application/vnd.databricks.v1+cell": {
     "cellMetadata": {
      "byteLimit": 2048000,
      "rowLimit": 10000
     },
     "inputWidgets": {},
     "nuid": "440378ea-0160-4f65-a693-321c644459e2",
     "showTitle": false,
     "tableResultSettingsMap": {},
     "title": ""
    }
   },
   "outputs": [],
   "source": [
    "max_common_df_1951 = common_counts_df_1951\\\n",
    "                        .agg(max(\"common_followers\").alias(\"max_common\")).collect()[0][\"max_common\"]\n"
   ]
  },
  {
   "cell_type": "code",
   "execution_count": 0,
   "metadata": {
    "application/vnd.databricks.v1+cell": {
     "cellMetadata": {
      "byteLimit": 2048000,
      "rowLimit": 10000
     },
     "inputWidgets": {},
     "nuid": "520b0453-f264-48d2-bfa3-f4493dbf3b6a",
     "showTitle": false,
     "tableResultSettingsMap": {},
     "title": ""
    }
   },
   "outputs": [
    {
     "output_type": "stream",
     "name": "stdout",
     "output_type": "stream",
     "text": [
      "+--------+--------+\n|user1_id|user2_id|\n+--------+--------+\n|       1|       7|\n+--------+--------+\n\n"
     ]
    }
   ],
   "source": [
    "common_counts_df_1951\\\n",
    "    .filter(col(\"common_followers\") == max_common_df_1951)\\\n",
    "        .select(\"user1_id\", \"user2_id\").show()"
   ]
  }
 ],
 "metadata": {
  "application/vnd.databricks.v1+notebook": {
   "computePreferences": {
    "hardware": {
     "accelerator": null,
     "gpuPoolId": null,
     "memory": null
    }
   },
   "dashboards": [],
   "environmentMetadata": {
    "base_environment": "",
    "environment_version": "2"
   },
   "inputWidgetPreferences": null,
   "language": "python",
   "notebookMetadata": {
    "pythonIndentUnit": 4
   },
   "notebookName": "1951. All the Pairs With the Maximum Number of Common Followers (Medium)-(Solved)",
   "widgets": {}
  },
  "language_info": {
   "name": "python"
  }
 },
 "nbformat": 4,
 "nbformat_minor": 0
}
