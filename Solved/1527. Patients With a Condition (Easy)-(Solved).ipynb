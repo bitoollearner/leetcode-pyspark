{
 "cells": [
  {
   "cell_type": "markdown",
   "metadata": {
    "application/vnd.databricks.v1+cell": {
     "cellMetadata": {},
     "inputWidgets": {},
     "nuid": "44cd2565-3e27-417c-8c6c-7b2d8f1b94c5",
     "showTitle": false,
     "tableResultSettingsMap": {},
     "title": ""
    }
   },
   "source": [
    "## Importing Libraries"
   ]
  },
  {
   "cell_type": "code",
   "execution_count": 0,
   "metadata": {
    "application/vnd.databricks.v1+cell": {
     "cellMetadata": {},
     "inputWidgets": {},
     "nuid": "e6da106f-4e0b-41e0-9f75-6e329535d5c0",
     "showTitle": false,
     "tableResultSettingsMap": {},
     "title": ""
    }
   },
   "outputs": [],
   "source": [
    "from pyspark.sql.functions import *\n",
    "from pyspark.sql.types import *\n",
    "from pyspark.sql.window import Window"
   ]
  },
  {
   "cell_type": "markdown",
   "metadata": {
    "application/vnd.databricks.v1+cell": {
     "cellMetadata": {},
     "inputWidgets": {},
     "nuid": "f0267197-68d5-4180-8492-6999c905acb1",
     "showTitle": false,
     "tableResultSettingsMap": {},
     "title": ""
    }
   },
   "source": [
    "**1527. Patients With a Condition (Easy)**\n",
    "\n",
    "**Table: Patients**\n",
    "\n",
    "| Column Name  | Type    |\n",
    "|--------------|---------|\n",
    "| patient_id   | int     |\n",
    "| patient_name | varchar |\n",
    "| conditions   | varchar |\n",
    "\n",
    "patient_id is the primary key (column with unique values) for this table.\n",
    "'conditions' contains 0 or more code separated by spaces. \n",
    "This table contains information of the patients in the hospital.\n",
    " \n",
    "\n",
    "**Write a solution to find the patient_id, patient_name, and conditions of the patients who have Type I Diabetes. Type I Diabetes always starts with DIAB1 prefix.**\n",
    "\n",
    "Return the result table in any order.\n",
    "\n",
    "The result format is in the following example.\n",
    "\n",
    "**Example 1:**\n",
    "\n",
    "**Input:**\n",
    "**Patients table:**\n",
    "| patient_id | patient_name | conditions   |\n",
    "|------------|--------------|--------------|\n",
    "| 1          | Daniel       | YFEV COUGH   |\n",
    "| 2          | Alice        |              |\n",
    "| 3          | Bob          | DIAB100 MYOP |\n",
    "| 4          | George       | ACNE DIAB100 |\n",
    "| 5          | Alain        | DIAB201      |\n",
    "\n",
    "**Output:**\n",
    "| patient_id | patient_name | conditions   |\n",
    "|------------|--------------|--------------|\n",
    "| 3          | Bob          | DIAB100 MYOP |\n",
    "| 4          | George       | ACNE DIAB100 | \n",
    "\n",
    "**Explanation:** Bob and George both have a condition that starts with DIAB1.\n"
   ]
  },
  {
   "cell_type": "code",
   "execution_count": 0,
   "metadata": {
    "application/vnd.databricks.v1+cell": {
     "cellMetadata": {},
     "inputWidgets": {},
     "nuid": "e98c62a4-8cd4-48d6-9337-86cf54c19ddd",
     "showTitle": false,
     "tableResultSettingsMap": {},
     "title": ""
    }
   },
   "outputs": [],
   "source": [
    "patients_data_1527 = [\n",
    "    (1, \"Daniel\", \"YFEV COUGH\"),\n",
    "    (2, \"Alice\", \"\"),\n",
    "    (3, \"Bob\", \"DIAB100 MYOP\"),\n",
    "    (4, \"George\", \"ACNE DIAB100\"),\n",
    "    (5, \"Alain\", \"DIAB201\"),\n",
    "]\n",
    "\n",
    "patients_columns_1527 = [\"patient_id\", \"patient_name\", \"conditions\"]\n",
    "patients_df_1527 = spark.createDataFrame(patients_data_1527, patients_columns_1527)\n",
    "patients_df_1527.show()"
   ]
  }
 ],
 "metadata": {
  "application/vnd.databricks.v1+notebook": {
   "computePreferences": null,
   "dashboards": [],
   "environmentMetadata": {
    "base_environment": "",
    "environment_version": "1"
   },
   "inputWidgetPreferences": null,
   "language": "python",
   "notebookMetadata": {
    "pythonIndentUnit": 4
   },
   "notebookName": "1527. Patients With a Condition (Easy)-(Solved)",
   "widgets": {}
  },
  "language_info": {
   "name": "python"
  }
 },
 "nbformat": 4,
 "nbformat_minor": 0
}
