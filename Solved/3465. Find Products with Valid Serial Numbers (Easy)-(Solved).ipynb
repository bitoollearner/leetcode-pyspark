{
 "cells": [
  {
   "cell_type": "markdown",
   "metadata": {
    "application/vnd.databricks.v1+cell": {
     "cellMetadata": {},
     "inputWidgets": {},
     "nuid": "7d1791bd-9552-4116-90b2-daa678bbffb8",
     "showTitle": false,
     "tableResultSettingsMap": {},
     "title": ""
    }
   },
   "source": [
    "## Importing Libraries"
   ]
  },
  {
   "cell_type": "code",
   "execution_count": 0,
   "metadata": {
    "application/vnd.databricks.v1+cell": {
     "cellMetadata": {},
     "inputWidgets": {},
     "nuid": "2901fbc9-49db-4285-8b94-c460f34d4c4f",
     "showTitle": false,
     "tableResultSettingsMap": {},
     "title": ""
    }
   },
   "outputs": [],
   "source": [
    "from pyspark.sql.functions import *\n",
    "from pyspark.sql.types import *\n",
    "from pyspark.sql.window import Window"
   ]
  },
  {
   "cell_type": "markdown",
   "metadata": {
    "application/vnd.databricks.v1+cell": {
     "cellMetadata": {},
     "inputWidgets": {},
     "nuid": "655120e7-6b25-417c-a08a-c6925feaa425",
     "showTitle": false,
     "tableResultSettingsMap": {},
     "title": ""
    }
   },
   "source": [
    "**3465. Find Products with Valid Serial Numbers (Easy)**\n",
    "\n",
    "**Table: products**\n",
    "\n",
    "| Column Name  | Type       |\n",
    "|--------------|------------|\n",
    "| product_id   | int        |\n",
    "| product_name | varchar    |\n",
    "| description  | varchar    |\n",
    "\n",
    "(product_id) is the unique key for this table.\n",
    "Each row in the table represents a product with its unique ID, name, and description.\n",
    "\n",
    "**Write a solution to find all products whose description contains a valid serial number pattern. A valid serial number follows these rules:**\n",
    "- It starts with the letters SN (case-sensitive).\n",
    "- Followed by exactly 4 digits.\n",
    "- It must have a hyphen (-) followed by exactly 4 digits.\n",
    "- The serial number must be within the description (it may not necessarily start at the beginning).\n",
    "\n",
    "Return the result table ordered by product_id in ascending order.\n",
    "\n",
    "The result format is in the following example.\n",
    "\n",
    "**Example:**\n",
    "\n",
    "**Input:**\n",
    "\n",
    "**products table:**\n",
    "| product_id | product_name | description                                          |\n",
    "|------------|--------------|------------------------------------------------------|\n",
    "| 1          | Widget A     | This is a sample product with SN1234-5678            |\n",
    "| 2          | Widget B     | A product with serial SN9876-1234 in the description |\n",
    "| 3          | Widget C     | Product SN1234-56789 is available now                |\n",
    "| 4          | Widget D     | No serial number here                                |\n",
    "| 5          | Widget E     | Check out SN4321-8765 in this description            |\n",
    "    \n",
    "**Output:**\n",
    "| product_id | product_name | description                                          |\n",
    "|------------|--------------|------------------------------------------------------|\n",
    "| 1          | Widget A     | This is a sample product with SN1234-5678            |\n",
    "| 2          | Widget B     | A product with serial SN9876-1234 in the description |\n",
    "| 5          | Widget E     | Check out SN4321-8765 in this description            |\n",
    "    \n",
    "**Explanation:**\n",
    "- Product 1: Valid serial number SN1234-5678\n",
    "- Product 2: Valid serial number SN9876-1234\n",
    "- Product 3: Invalid serial number SN1234-56789 (contains 5 digits after the hyphen)\n",
    "- Product 4: No serial number in the description\n",
    "- Product 5: Valid serial number SN4321-8765\n",
    "\n",
    "The result table is ordered by product_id in ascending order."
   ]
  },
  {
   "cell_type": "code",
   "execution_count": 0,
   "metadata": {
    "application/vnd.databricks.v1+cell": {
     "cellMetadata": {},
     "inputWidgets": {},
     "nuid": "a2368434-0191-416c-aa1d-12cd44cf48e6",
     "showTitle": false,
     "tableResultSettingsMap": {},
     "title": ""
    }
   },
   "outputs": [],
   "source": [
    "products_data_3465 = [\n",
    "    (1, \"Widget A\", \"This is a sample product with SN1234-5678\"),\n",
    "    (2, \"Widget B\", \"A product with serial SN9876-1234 in the description\"),\n",
    "    (3, \"Widget C\", \"Product SN1234-56789 is available now\"),\n",
    "    (4, \"Widget D\", \"No serial number here\"),\n",
    "    (5, \"Widget E\", \"Check out SN4321-8765 in this description\"),\n",
    "]\n",
    "\n",
    "products_columns_3465 = [\"product_id\", \"product_name\", \"description\"]\n",
    "products_df_3465 = spark.createDataFrame(products_data_3465, products_columns_3465)\n",
    "products_df_3465.show()"
   ]
  }
 ],
 "metadata": {
  "application/vnd.databricks.v1+notebook": {
   "computePreferences": null,
   "dashboards": [],
   "environmentMetadata": {
    "base_environment": "",
    "environment_version": "1"
   },
   "inputWidgetPreferences": null,
   "language": "python",
   "notebookMetadata": {
    "pythonIndentUnit": 4
   },
   "notebookName": "3465. Find Products with Valid Serial Numbers (Easy)-(Solved)",
   "widgets": {}
  },
  "language_info": {
   "name": "python"
  }
 },
 "nbformat": 4,
 "nbformat_minor": 0
}
