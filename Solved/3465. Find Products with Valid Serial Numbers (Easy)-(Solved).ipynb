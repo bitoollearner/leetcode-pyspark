{
 "cells": [
  {
   "cell_type": "markdown",
   "metadata": {
    "application/vnd.databricks.v1+cell": {
     "cellMetadata": {
      "byteLimit": 2048000,
      "rowLimit": 10000
     },
     "inputWidgets": {},
     "nuid": "7d1791bd-9552-4116-90b2-daa678bbffb8",
     "showTitle": false,
     "tableResultSettingsMap": {},
     "title": ""
    }
   },
   "source": [
    "## Importing Libraries"
   ]
  },
  {
   "cell_type": "code",
   "execution_count": 0,
   "metadata": {
    "application/vnd.databricks.v1+cell": {
     "cellMetadata": {
      "byteLimit": 2048000,
      "rowLimit": 10000
     },
     "inputWidgets": {},
     "nuid": "2901fbc9-49db-4285-8b94-c460f34d4c4f",
     "showTitle": false,
     "tableResultSettingsMap": {},
     "title": ""
    }
   },
   "outputs": [],
   "source": [
    "from pyspark.sql.functions import *\n",
    "from pyspark.sql.types import *\n",
    "from pyspark.sql.window import Window"
   ]
  },
  {
   "cell_type": "markdown",
   "metadata": {
    "application/vnd.databricks.v1+cell": {
     "cellMetadata": {
      "byteLimit": 2048000,
      "rowLimit": 10000
     },
     "inputWidgets": {},
     "nuid": "655120e7-6b25-417c-a08a-c6925feaa425",
     "showTitle": false,
     "tableResultSettingsMap": {},
     "title": ""
    }
   },
   "source": [
    "**3465. Find Products with Valid Serial Numbers (Easy)**\n",
    "\n",
    "**Table: products**\n",
    "\n",
    "| Column Name  | Type       |\n",
    "|--------------|------------|\n",
    "| product_id   | int        |\n",
    "| product_name | varchar    |\n",
    "| description  | varchar    |\n",
    "\n",
    "(product_id) is the unique key for this table.\n",
    "Each row in the table represents a product with its unique ID, name, and description.\n",
    "\n",
    "**Write a solution to find all products whose description contains a valid serial number pattern. A valid serial number follows these rules:**\n",
    "- It starts with the letters SN (case-sensitive).\n",
    "- Followed by exactly 4 digits.\n",
    "- It must have a hyphen (-) followed by exactly 4 digits.\n",
    "- The serial number must be within the description (it may not necessarily start at the beginning).\n",
    "\n",
    "Return the result table ordered by product_id in ascending order.\n",
    "\n",
    "The result format is in the following example.\n",
    "\n",
    "**Example:**\n",
    "\n",
    "**Input:**\n",
    "\n",
    "**products table:**\n",
    "| product_id | product_name | description                                          |\n",
    "|------------|--------------|------------------------------------------------------|\n",
    "| 1          | Widget A     | This is a sample product with SN1234-5678            |\n",
    "| 2          | Widget B     | A product with serial SN9876-1234 in the description |\n",
    "| 3          | Widget C     | Product SN1234-56789 is available now                |\n",
    "| 4          | Widget D     | No serial number here                                |\n",
    "| 5          | Widget E     | Check out SN4321-8765 in this description            |\n",
    "    \n",
    "**Output:**\n",
    "| product_id | product_name | description                                          |\n",
    "|------------|--------------|------------------------------------------------------|\n",
    "| 1          | Widget A     | This is a sample product with SN1234-5678            |\n",
    "| 2          | Widget B     | A product with serial SN9876-1234 in the description |\n",
    "| 5          | Widget E     | Check out SN4321-8765 in this description            |\n",
    "    \n",
    "**Explanation:**\n",
    "- Product 1: Valid serial number SN1234-5678\n",
    "- Product 2: Valid serial number SN9876-1234\n",
    "- Product 3: Invalid serial number SN1234-56789 (contains 5 digits after the hyphen)\n",
    "- Product 4: No serial number in the description\n",
    "- Product 5: Valid serial number SN4321-8765\n",
    "\n",
    "The result table is ordered by product_id in ascending order."
   ]
  },
  {
   "cell_type": "code",
   "execution_count": 0,
   "metadata": {
    "application/vnd.databricks.v1+cell": {
     "cellMetadata": {
      "byteLimit": 2048000,
      "rowLimit": 10000
     },
     "inputWidgets": {},
     "nuid": "a2368434-0191-416c-aa1d-12cd44cf48e6",
     "showTitle": false,
     "tableResultSettingsMap": {},
     "title": ""
    }
   },
   "outputs": [
    {
     "output_type": "stream",
     "name": "stdout",
     "output_type": "stream",
     "text": [
      "+----------+------------+--------------------+\n|product_id|product_name|         description|\n+----------+------------+--------------------+\n|         1|    Widget A|This is a sample ...|\n|         2|    Widget B|A product with se...|\n|         3|    Widget C|Product SN1234-56...|\n|         4|    Widget D|No serial number ...|\n|         5|    Widget E|Check out SN4321-...|\n+----------+------------+--------------------+\n\n"
     ]
    }
   ],
   "source": [
    "products_data_3465 = [\n",
    "    (1, \"Widget A\", \"This is a sample product with SN1234-5678\"),\n",
    "    (2, \"Widget B\", \"A product with serial SN9876-1234 in the description\"),\n",
    "    (3, \"Widget C\", \"Product SN1234-56789 is available now\"),\n",
    "    (4, \"Widget D\", \"No serial number here\"),\n",
    "    (5, \"Widget E\", \"Check out SN4321-8765 in this description\"),\n",
    "]\n",
    "\n",
    "products_columns_3465 = [\"product_id\", \"product_name\", \"description\"]\n",
    "products_df_3465 = spark.createDataFrame(products_data_3465, products_columns_3465)\n",
    "products_df_3465.show()"
   ]
  },
  {
   "cell_type": "code",
   "execution_count": 0,
   "metadata": {
    "application/vnd.databricks.v1+cell": {
     "cellMetadata": {
      "byteLimit": 2048000,
      "rowLimit": 10000
     },
     "inputWidgets": {},
     "nuid": "b27db47e-b066-49d3-8c88-97b6f1b4416c",
     "showTitle": false,
     "tableResultSettingsMap": {},
     "title": ""
    }
   },
   "outputs": [],
   "source": [
    "pattern = r\"(SN\\d{4}-\\d{4})(\\D|$)\""
   ]
  },
  {
   "cell_type": "code",
   "execution_count": 0,
   "metadata": {
    "application/vnd.databricks.v1+cell": {
     "cellMetadata": {
      "byteLimit": 2048000,
      "rowLimit": 10000
     },
     "inputWidgets": {},
     "nuid": "946d22b5-1b21-4768-8271-ac000e3adb6d",
     "showTitle": false,
     "tableResultSettingsMap": {},
     "title": ""
    }
   },
   "outputs": [
    {
     "output_type": "display_data",
     "data": {
      "text/html": [
       "<style scoped>\n",
       "  .table-result-container {\n",
       "    max-height: 300px;\n",
       "    overflow: auto;\n",
       "  }\n",
       "  table, th, td {\n",
       "    border: 1px solid black;\n",
       "    border-collapse: collapse;\n",
       "  }\n",
       "  th, td {\n",
       "    padding: 5px;\n",
       "  }\n",
       "  th {\n",
       "    text-align: left;\n",
       "  }\n",
       "</style><div class='table-result-container'><table class='table-result'><thead style='background-color: white'><tr><th>product_id</th><th>product_name</th><th>description</th></tr></thead><tbody><tr><td>1</td><td>Widget A</td><td>This is a sample product with SN1234-5678</td></tr><tr><td>2</td><td>Widget B</td><td>A product with serial SN9876-1234 in the description</td></tr><tr><td>5</td><td>Widget E</td><td>Check out SN4321-8765 in this description</td></tr></tbody></table></div>"
      ]
     },
     "metadata": {
      "application/vnd.databricks.v1+output": {
       "addedWidgets": {},
       "aggData": [],
       "aggError": "",
       "aggOverflow": false,
       "aggSchema": [],
       "aggSeriesLimitReached": false,
       "aggType": "",
       "arguments": {},
       "columnCustomDisplayInfos": {},
       "data": [
        [
         1,
         "Widget A",
         "This is a sample product with SN1234-5678"
        ],
        [
         2,
         "Widget B",
         "A product with serial SN9876-1234 in the description"
        ],
        [
         5,
         "Widget E",
         "Check out SN4321-8765 in this description"
        ]
       ],
       "datasetInfos": [],
       "dbfsResultPath": null,
       "isJsonSchema": true,
       "metadata": {},
       "overflow": false,
       "plotOptions": {
        "customPlotOptions": {},
        "displayType": "table",
        "pivotAggregation": null,
        "pivotColumns": null,
        "xColumns": null,
        "yColumns": null
       },
       "removedWidgets": [],
       "schema": [
        {
         "metadata": "{}",
         "name": "product_id",
         "type": "\"long\""
        },
        {
         "metadata": "{}",
         "name": "product_name",
         "type": "\"string\""
        },
        {
         "metadata": "{}",
         "name": "description",
         "type": "\"string\""
        }
       ],
       "type": "table"
      }
     },
     "output_type": "display_data"
    }
   ],
   "source": [
    "products_df_3465\\\n",
    "    .withColumn(\"valid_sn\", regexp_extract(col(\"description\"), pattern, 0)) \\\n",
    "        .filter(col(\"valid_sn\") != \"\") \\\n",
    "            .drop(\"valid_sn\") \\\n",
    "                .orderBy(col(\"product_id\").asc()).display()"
   ]
  }
 ],
 "metadata": {
  "application/vnd.databricks.v1+notebook": {
   "computePreferences": {
    "hardware": {
     "accelerator": null,
     "gpuPoolId": null,
     "memory": null
    }
   },
   "dashboards": [],
   "environmentMetadata": {
    "base_environment": "",
    "environment_version": "2"
   },
   "inputWidgetPreferences": null,
   "language": "python",
   "notebookMetadata": {
    "pythonIndentUnit": 4
   },
   "notebookName": "3465. Find Products with Valid Serial Numbers (Easy)-(Solved)",
   "widgets": {}
  },
  "language_info": {
   "name": "python"
  }
 },
 "nbformat": 4,
 "nbformat_minor": 0
}
