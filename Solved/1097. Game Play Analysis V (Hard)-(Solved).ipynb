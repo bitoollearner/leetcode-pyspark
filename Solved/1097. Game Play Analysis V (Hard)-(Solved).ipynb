{
 "cells": [
  {
   "cell_type": "markdown",
   "metadata": {
    "application/vnd.databricks.v1+cell": {
     "cellMetadata": {
      "byteLimit": 2048000,
      "rowLimit": 10000
     },
     "inputWidgets": {},
     "nuid": "3f2ab884-5b2e-4c2a-b90f-eba6d7208edf",
     "showTitle": false,
     "tableResultSettingsMap": {},
     "title": ""
    }
   },
   "source": [
    "## Importing Libraries"
   ]
  },
  {
   "cell_type": "code",
   "execution_count": 0,
   "metadata": {
    "application/vnd.databricks.v1+cell": {
     "cellMetadata": {
      "byteLimit": 2048000,
      "rowLimit": 10000
     },
     "inputWidgets": {},
     "nuid": "26c9d69f-b471-43b4-aaee-40c41d01994e",
     "showTitle": false,
     "tableResultSettingsMap": {},
     "title": ""
    }
   },
   "outputs": [],
   "source": [
    "from pyspark.sql.functions import *\n",
    "from pyspark.sql.types import *\n",
    "from pyspark.sql.window import Window"
   ]
  },
  {
   "cell_type": "markdown",
   "metadata": {
    "application/vnd.databricks.v1+cell": {
     "cellMetadata": {
      "byteLimit": 2048000,
      "rowLimit": 10000
     },
     "inputWidgets": {},
     "nuid": "fa1c2280-e46c-403e-8996-25b01a84ec72",
     "showTitle": false,
     "tableResultSettingsMap": {},
     "title": ""
    }
   },
   "source": [
    "**1097. Game Play Analysis V (Hard)**\n",
    "\n",
    "**Table: Activity**\n",
    "\n",
    "| Column Name  | Type    |\n",
    "|--------------|---------|\n",
    "| player_id    | int     |\n",
    "| device_id    | int     |\n",
    "| event_date   | date    |\n",
    "| games_played | int     |\n",
    "\n",
    "(player_id, event_date) is the primary key (combination of columns with unique values) of this table.\n",
    "This table shows the activity of players of some games.\n",
    "Each row is a record of a player who logged in and played a number of games (possibly 0) before logging out on someday using some device.\n",
    " \n",
    "The install date of a player is the first login day of that player.\n",
    "\n",
    "We define day one retention of some date x to be the number of players whose install date is x and they logged back in on the day right after x, divided by the number of players whose install date is x, rounded to 2 decimal places.\n",
    "\n",
    "**Write a solution to report for each install date, the number of players that installed the game on that day, and the day one retention.**\n",
    "\n",
    "Return the result table in any order.\n",
    "\n",
    "The result format is in the following example.\n",
    "\n",
    "**Example 1:**\n",
    "\n",
    "**Input:** \n",
    "\n",
    "**Activity table:**\n",
    "\n",
    "| player_id | device_id | event_date | games_played |\n",
    "|-----------|-----------|------------|--------------|\n",
    "| 1         | 2         | 2016-03-01 | 5            |\n",
    "| 1         | 2         | 2016-03-02 | 6            |\n",
    "| 2         | 3         | 2017-06-25 | 1            |\n",
    "| 3         | 1         | 2016-03-01 | 0            |\n",
    "| 3         | 4         | 2016-07-03 | 5            |\n",
    "\n",
    "**Output:** \n",
    "| install_dt | installs | Day1_retention |\n",
    "|------------|----------|----------------|\n",
    "| 2016-03-01 | 2        | 0.50           |\n",
    "| 2017-06-25 | 1        | 0.00           |\n",
    "\n",
    "**Explanation:** \n",
    "- Player 1 and 3 installed the game on 2016-03-01 but only player 1 logged back in on 2016-03-02 so the day 1 retention of 2016-03-01 is 1 / 2 = 0.50\n",
    "- Player 2 installed the game on 2017-06-25 but didn't log back in on 2017-06-26 so the day 1 retention of 2017-06-25 is 0 / 1 = 0.00"
   ]
  },
  {
   "cell_type": "code",
   "execution_count": 0,
   "metadata": {
    "application/vnd.databricks.v1+cell": {
     "cellMetadata": {
      "byteLimit": 2048000,
      "rowLimit": 10000
     },
     "inputWidgets": {},
     "nuid": "dddf2382-d3f5-49ba-9108-34f298edfb81",
     "showTitle": false,
     "tableResultSettingsMap": {},
     "title": ""
    }
   },
   "outputs": [
    {
     "output_type": "stream",
     "name": "stdout",
     "output_type": "stream",
     "text": [
      "+---------+---------+----------+------------+\n|player_id|device_id|event_date|games_played|\n+---------+---------+----------+------------+\n|        1|        2|2016-03-01|           5|\n|        1|        2|2016-03-02|           6|\n|        2|        3|2017-06-25|           1|\n|        3|        1|2016-03-01|           0|\n|        3|        4|2016-07-03|           5|\n+---------+---------+----------+------------+\n\n"
     ]
    }
   ],
   "source": [
    "activity_data_1097 = [\n",
    "    (1, 2, \"2016-03-01\", 5),\n",
    "    (1, 2, \"2016-03-02\", 6),\n",
    "    (2, 3, \"2017-06-25\", 1),\n",
    "    (3, 1, \"2016-03-01\", 0),\n",
    "    (3, 4, \"2016-07-03\", 5),\n",
    "]\n",
    "activity_columns_1097 = [\"player_id\", \"device_id\", \"event_date\", \"games_played\"]\n",
    "activity_df_1097 = spark.createDataFrame(activity_data_1097, activity_columns_1097)\n",
    "activity_df_1097.show()"
   ]
  },
  {
   "cell_type": "code",
   "execution_count": 0,
   "metadata": {
    "application/vnd.databricks.v1+cell": {
     "cellMetadata": {
      "byteLimit": 2048000,
      "rowLimit": 10000
     },
     "inputWidgets": {},
     "nuid": "a91a239c-746c-40de-85cd-990968e169f8",
     "showTitle": false,
     "tableResultSettingsMap": {},
     "title": ""
    }
   },
   "outputs": [],
   "source": [
    "install_df_1097 = activity_df_1097.groupBy(\"player_id\") \\\n",
    "                        .agg(min(\"event_date\").alias(\"install_dt\"))"
   ]
  },
  {
   "cell_type": "code",
   "execution_count": 0,
   "metadata": {
    "application/vnd.databricks.v1+cell": {
     "cellMetadata": {
      "byteLimit": 2048000,
      "rowLimit": 10000
     },
     "inputWidgets": {},
     "nuid": "7f7d9ad3-cc54-4cec-aab9-5b738daae7eb",
     "showTitle": false,
     "tableResultSettingsMap": {},
     "title": ""
    }
   },
   "outputs": [],
   "source": [
    "joined_df_1097 = activity_df_1097.join(install_df_1097, on=\"player_id\")"
   ]
  },
  {
   "cell_type": "code",
   "execution_count": 0,
   "metadata": {
    "application/vnd.databricks.v1+cell": {
     "cellMetadata": {
      "byteLimit": 2048000,
      "rowLimit": 10000
     },
     "inputWidgets": {},
     "nuid": "64c871bf-0e0a-4f34-b83d-86aedf8ea13b",
     "showTitle": false,
     "tableResultSettingsMap": {},
     "title": ""
    }
   },
   "outputs": [
    {
     "output_type": "stream",
     "name": "stdout",
     "output_type": "stream",
     "text": [
      "+---------+---------+----------+------------+----------+\n|player_id|device_id|event_date|games_played|install_dt|\n+---------+---------+----------+------------+----------+\n|        1|        2|2016-03-02|           6|2016-03-01|\n|        2|        3|2017-06-25|           1|2017-06-25|\n|        3|        4|2016-07-03|           5|2016-03-01|\n|        1|        2|2016-03-01|           5|2016-03-01|\n|        3|        1|2016-03-01|           0|2016-03-01|\n+---------+---------+----------+------------+----------+\n\n"
     ]
    }
   ],
   "source": [
    "joined_df_1097.show()"
   ]
  },
  {
   "cell_type": "code",
   "execution_count": 0,
   "metadata": {
    "application/vnd.databricks.v1+cell": {
     "cellMetadata": {
      "byteLimit": 2048000,
      "rowLimit": 10000
     },
     "inputWidgets": {},
     "nuid": "db130834-3807-4593-8086-43a5138b9218",
     "showTitle": false,
     "tableResultSettingsMap": {},
     "title": ""
    }
   },
   "outputs": [],
   "source": [
    "day_after_df_1097 = joined_df_1097.withColumn(\"next_day\", date_add(col(\"install_dt\"), 1))"
   ]
  },
  {
   "cell_type": "code",
   "execution_count": 0,
   "metadata": {
    "application/vnd.databricks.v1+cell": {
     "cellMetadata": {
      "byteLimit": 2048000,
      "rowLimit": 10000
     },
     "inputWidgets": {},
     "nuid": "2745f0e1-2dd3-477d-96d6-80dee7da8b61",
     "showTitle": false,
     "tableResultSettingsMap": {},
     "title": ""
    }
   },
   "outputs": [
    {
     "output_type": "stream",
     "name": "stdout",
     "output_type": "stream",
     "text": [
      "+---------+---------+----------+------------+----------+----------+\n|player_id|device_id|event_date|games_played|install_dt|  next_day|\n+---------+---------+----------+------------+----------+----------+\n|        1|        2|2016-03-02|           6|2016-03-01|2016-03-02|\n|        2|        3|2017-06-25|           1|2017-06-25|2017-06-26|\n|        3|        4|2016-07-03|           5|2016-03-01|2016-03-02|\n|        1|        2|2016-03-01|           5|2016-03-01|2016-03-02|\n|        3|        1|2016-03-01|           0|2016-03-01|2016-03-02|\n+---------+---------+----------+------------+----------+----------+\n\n"
     ]
    }
   ],
   "source": [
    "day_after_df_1097.show()"
   ]
  },
  {
   "cell_type": "code",
   "execution_count": 0,
   "metadata": {
    "application/vnd.databricks.v1+cell": {
     "cellMetadata": {
      "byteLimit": 2048000,
      "rowLimit": 10000
     },
     "inputWidgets": {},
     "nuid": "2e319b26-6ae3-4d2a-8d90-f40e186cf36b",
     "showTitle": false,
     "tableResultSettingsMap": {},
     "title": ""
    }
   },
   "outputs": [],
   "source": [
    "retention_df_1097 = day_after_df_1097.filter(col(\"event_date\") == col(\"next_day\")) \\\n",
    "                           .select(\"player_id\", \"install_dt\").distinct()"
   ]
  },
  {
   "cell_type": "code",
   "execution_count": 0,
   "metadata": {
    "application/vnd.databricks.v1+cell": {
     "cellMetadata": {
      "byteLimit": 2048000,
      "rowLimit": 10000
     },
     "inputWidgets": {},
     "nuid": "e7a39a4b-665d-48eb-963c-73849609e6ec",
     "showTitle": false,
     "tableResultSettingsMap": {},
     "title": ""
    }
   },
   "outputs": [
    {
     "output_type": "stream",
     "name": "stdout",
     "output_type": "stream",
     "text": [
      "+---------+----------+\n|player_id|install_dt|\n+---------+----------+\n|        1|2016-03-01|\n+---------+----------+\n\n"
     ]
    }
   ],
   "source": [
    "retention_df_1097.show()"
   ]
  },
  {
   "cell_type": "code",
   "execution_count": 0,
   "metadata": {
    "application/vnd.databricks.v1+cell": {
     "cellMetadata": {
      "byteLimit": 2048000,
      "rowLimit": 10000
     },
     "inputWidgets": {},
     "nuid": "39b7dbe0-0ef5-4f04-874f-a34b1627fdc7",
     "showTitle": false,
     "tableResultSettingsMap": {},
     "title": ""
    }
   },
   "outputs": [],
   "source": [
    "installs_df_1097 = install_df_1097.groupBy(\"install_dt\").agg(countDistinct(\"player_id\").alias(\"installs\"))\n",
    "returned_df_1097 = retention_df_1097.groupBy(\"install_dt\").agg(countDistinct(\"player_id\").alias(\"returns\"))\n"
   ]
  },
  {
   "cell_type": "code",
   "execution_count": 0,
   "metadata": {
    "application/vnd.databricks.v1+cell": {
     "cellMetadata": {
      "byteLimit": 2048000,
      "rowLimit": 10000
     },
     "inputWidgets": {},
     "nuid": "d1c3fa36-531a-4295-9ed6-f1992ec79fa4",
     "showTitle": false,
     "tableResultSettingsMap": {},
     "title": ""
    }
   },
   "outputs": [
    {
     "output_type": "stream",
     "name": "stdout",
     "output_type": "stream",
     "text": [
      "+----------+--------+--------------+\n|install_dt|installs|Day1_retention|\n+----------+--------+--------------+\n|2016-03-01|       2|           0.5|\n|2017-06-25|       1|           0.0|\n+----------+--------+--------------+\n\n"
     ]
    }
   ],
   "source": [
    "installs_df_1097.join(returned_df_1097, on=\"install_dt\", how=\"left\") \\\n",
    "                    .na.fill(0) \\\n",
    "                    .withColumn(\"Day1_retention\", round(col(\"returns\") / col(\"installs\"), 2)) \\\n",
    "                    .select(\"install_dt\", \"installs\", \"Day1_retention\").show()"
   ]
  }
 ],
 "metadata": {
  "application/vnd.databricks.v1+notebook": {
   "computePreferences": {
    "hardware": {
     "accelerator": null,
     "gpuPoolId": null,
     "memory": null
    }
   },
   "dashboards": [],
   "environmentMetadata": {
    "base_environment": "",
    "environment_version": "2"
   },
   "inputWidgetPreferences": null,
   "language": "python",
   "notebookMetadata": {
    "pythonIndentUnit": 4
   },
   "notebookName": "1097. Game Play Analysis V (Hard)-(Solved)",
   "widgets": {}
  },
  "language_info": {
   "name": "python"
  }
 },
 "nbformat": 4,
 "nbformat_minor": 0
}
