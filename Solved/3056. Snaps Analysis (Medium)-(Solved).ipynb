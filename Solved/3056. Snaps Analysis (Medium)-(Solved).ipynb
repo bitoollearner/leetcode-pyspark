{
 "cells": [
  {
   "cell_type": "markdown",
   "metadata": {
    "application/vnd.databricks.v1+cell": {
     "cellMetadata": {},
     "inputWidgets": {},
     "nuid": "7d1791bd-9552-4116-90b2-daa678bbffb8",
     "showTitle": false,
     "tableResultSettingsMap": {},
     "title": ""
    }
   },
   "source": [
    "## Importing Libraries"
   ]
  },
  {
   "cell_type": "code",
   "execution_count": 0,
   "metadata": {
    "application/vnd.databricks.v1+cell": {
     "cellMetadata": {},
     "inputWidgets": {},
     "nuid": "2901fbc9-49db-4285-8b94-c460f34d4c4f",
     "showTitle": false,
     "tableResultSettingsMap": {},
     "title": ""
    }
   },
   "outputs": [],
   "source": [
    "from pyspark.sql.functions import *\n",
    "from pyspark.sql.types import *\n",
    "from pyspark.sql.window import Window"
   ]
  },
  {
   "cell_type": "markdown",
   "metadata": {
    "application/vnd.databricks.v1+cell": {
     "cellMetadata": {},
     "inputWidgets": {},
     "nuid": "655120e7-6b25-417c-a08a-c6925feaa425",
     "showTitle": false,
     "tableResultSettingsMap": {},
     "title": ""
    }
   },
   "source": [
    "**3056. Snaps Analysis (Medium)**\n",
    "\n",
    "**Table: Activities**\n",
    "\n",
    "| Column Name   | Type    |\n",
    "|---------------|---------|\n",
    "| activity_id   | int     |\n",
    "| user_id       | int     |\n",
    "| activity_type | enum    |\n",
    "| time_spent    | decimal |\n",
    "\n",
    "activity_id is column of unique values for this table.\n",
    "activity_type is an ENUM (category) type of ('send', 'open'). \n",
    "This table contains activity id, user id, activity type and time spent.\n",
    "\n",
    "**Table: Age**\n",
    "\n",
    "| Column Name | Type |\n",
    "|-------------|------|\n",
    "| user_id     | int  |\n",
    "| age_bucket  | enum |\n",
    "\n",
    "user_id is the column of unique values for this table.\n",
    "age_bucket is an ENUM (category) type of ('21-25', '26-30', '31-35'). \n",
    "This table contains user id and age group.\n",
    "\n",
    "**Write a solution to calculate the percentage of the total time spent on sending and opening snaps for each age group. Precentage should be rounded to 2 decimal places.**\n",
    "\n",
    "Return the result table in any order.\n",
    "\n",
    "The result format is in the following example.\n",
    "\n",
    "**Example 1:**\n",
    "\n",
    "**Input:**\n",
    "**Activities table:**\n",
    "| activity_id | user_id | activity_type | time_spent |\n",
    "|-------------|---------|---------------|------------|\n",
    "| 7274        | 123     | open          | 4.50       | \n",
    "| 2425        | 123     | send          | 3.50       | \n",
    "| 1413        | 456     | send          | 5.67       | \n",
    "| 2536        | 456     | open          | 3.00       | \n",
    "| 8564        | 456     | send          | 8.24       | \n",
    "| 5235        | 789     | send          | 6.24       | \n",
    "| 4251        | 123     | open          | 1.25       | \n",
    "| 1435        | 789     | open          | 5.25       | \n",
    "\n",
    "**Age table:**\n",
    "| user_id | age_bucket | \n",
    "|---------|------------|\n",
    "| 123     | 31-35      | \n",
    "| 789     | 21-25      | \n",
    "| 456     | 26-30      | \n",
    "\n",
    "**Output:**\n",
    "| age_bucket | send_perc | open_perc |\n",
    "|------------|-----------|-----------|\n",
    "| 31-35      | 37.84     | 62.16     |\n",
    "| 26-30      | 82.26     | 17.74     |\n",
    "| 21-25      | 54.31     | 45.69     |\n",
    "\n",
    "**Explanation:**\n",
    "\n",
    "- For age group 31-35:\n",
    "  - There is only one user belonging to this group with the user ID 123.\n",
    "  - The total time spent on sending snaps by this user is 3.50, and the time spent on opening snaps is 4.50 + 1.25 = 5.75.\n",
    "  - The overall time spent by this user is 3.50 + 5.75 = 9.25.\n",
    "  - Therefore, the sending snap percentage will be (3.50 / 9.25) * 100 = 37.84, and the opening snap percentage will be (5.75 / 9.25) * 100 = 62.16.\n",
    "- For age group 26-30: \n",
    "  - There is only one user belonging to this group with the user ID 456. \n",
    "  - The total time spent on sending snaps by this user is 5.67 + 8.24 = 13.91, and the time spent on opening snaps is 3.00. \n",
    "  - The overall time spent by this user is 13.91 + 3.00 = 16.91. \n",
    "  - Therefore, the sending snap percentage will be (13.91 / 16.91) * 100 = 82.26, and the opening snap percentage will be (3.00 / 16.91) * 100 = 17.74.\n",
    "- For age group 21-25: \n",
    "  - There is only one user belonging to this group with the user ID 789. \n",
    "  - The total time spent on sending snaps by this user is 6.24, and the time spent on opening snaps is 5.25. \n",
    "  - The overall time spent by this user is 6.24 + 5.25 = 11.49. \n",
    "  - Therefore, the sending snap percentage will be (6.24 / 11.49) * 100 = 54.31, and the opening snap percentage will be (5.25 / 11.49) * 100 = 45.69.\n",
    "\n",
    "All percentages in output table rounded to the two decimal places."
   ]
  },
  {
   "cell_type": "code",
   "execution_count": 0,
   "metadata": {
    "application/vnd.databricks.v1+cell": {
     "cellMetadata": {},
     "inputWidgets": {},
     "nuid": "a2368434-0191-416c-aa1d-12cd44cf48e6",
     "showTitle": false,
     "tableResultSettingsMap": {},
     "title": ""
    }
   },
   "outputs": [],
   "source": [
    "activities_data_3056 = [\n",
    "    (7274, 123, \"open\", 4.50),\n",
    "    (2425, 123, \"send\", 3.50),\n",
    "    (1413, 456, \"send\", 5.67),\n",
    "    (2536, 456, \"open\", 3.00),\n",
    "    (8564, 456, \"send\", 8.24),\n",
    "    (5235, 789, \"send\", 6.24),\n",
    "    (4251, 123, \"open\", 1.25),\n",
    "    (1435, 789, \"open\", 5.25),\n",
    "]\n",
    "\n",
    "activities_columns_3056 = [\"activity_id\", \"user_id\", \"activity_type\", \"time_spent\"]\n",
    "df_activities_3056 = spark.createDataFrame(activities_data_3056, activities_columns_3056)\n",
    "df_activities_3056.show()\n",
    "\n",
    "age_data_3056 = [\n",
    "    (123, \"31-35\"),\n",
    "    (789, \"21-25\"),\n",
    "    (456, \"26-30\"),\n",
    "]\n",
    "\n",
    "age_columns_3056 = [\"user_id\", \"age_bucket\"]\n",
    "df_age_3056 = spark.createDataFrame(age_data_3056, age_columns_3056)\n",
    "df_age_3056.show()"
   ]
  }
 ],
 "metadata": {
  "application/vnd.databricks.v1+notebook": {
   "computePreferences": null,
   "dashboards": [],
   "environmentMetadata": {
    "base_environment": "",
    "environment_version": "1"
   },
   "inputWidgetPreferences": null,
   "language": "python",
   "notebookMetadata": {
    "pythonIndentUnit": 4
   },
   "notebookName": "3056. Snaps Analysis (Medium)",
   "widgets": {}
  }
 },
 "nbformat": 4,
 "nbformat_minor": 0
}