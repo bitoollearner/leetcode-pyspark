{
 "cells": [
  {
   "cell_type": "markdown",
   "metadata": {
    "application/vnd.databricks.v1+cell": {
     "cellMetadata": {},
     "inputWidgets": {},
     "nuid": "fadf709d-de3d-4bfc-b69f-3b489de68bef",
     "showTitle": false,
     "tableResultSettingsMap": {},
     "title": ""
    }
   },
   "source": [
    "## Importing Libraries"
   ]
  },
  {
   "cell_type": "code",
   "execution_count": 0,
   "metadata": {
    "application/vnd.databricks.v1+cell": {
     "cellMetadata": {},
     "inputWidgets": {},
     "nuid": "d4a1fef1-aa99-469c-b35f-9b3f3e81c9f7",
     "showTitle": false,
     "tableResultSettingsMap": {},
     "title": ""
    }
   },
   "outputs": [],
   "source": [
    "from pyspark.sql.functions import *\n",
    "from pyspark.sql.types import *\n",
    "from pyspark.sql.window import Window"
   ]
  },
  {
   "cell_type": "markdown",
   "metadata": {
    "application/vnd.databricks.v1+cell": {
     "cellMetadata": {},
     "inputWidgets": {},
     "nuid": "78daa073-80d8-4f7e-9cfa-10f6eb568909",
     "showTitle": false,
     "tableResultSettingsMap": {},
     "title": ""
    }
   },
   "source": [
    "**1747. Leetflex Banned Accounts (Medium)**\n",
    "\n",
    "**Table: LogInfo**\n",
    "\n",
    "| Column Name | Type     |\n",
    "|-------------|----------|\n",
    "| account_id  | int      |\n",
    "| ip_address  | int      |\n",
    "| login       | datetime |\n",
    "| logout      | datetime |\n",
    "\n",
    "This table may contain duplicate rows.\n",
    "The table contains information about the login and logout dates of Leetflex accounts. It also contains the IP address from which the account was logged in and out.\n",
    "It is guaranteed that the logout time is after the login time.\n",
    " \n",
    "**Write a solution to find the account_id of the accounts that should be banned from Leetflex. An account should be banned if it was logged in at some moment from two different IP addresses.**\n",
    "\n",
    "Return the result table in any order.\n",
    "\n",
    "The result format is in the following example.\n",
    "\n",
    "**Example 1:**\n",
    "\n",
    "**Input:** \n",
    "\n",
    "**LogInfo table:**\n",
    "\n",
    "| account_id | ip_address | login               | logout              |\n",
    "|------------|------------|---------------------|---------------------|\n",
    "| 1          | 1          | 2021-02-01 09:00:00 | 2021-02-01 09:30:00 |\n",
    "| 1          | 2          | 2021-02-01 08:00:00 | 2021-02-01 11:30:00 |\n",
    "| 2          | 6          | 2021-02-01 20:30:00 | 2021-02-01 22:00:00 |\n",
    "| 2          | 7          | 2021-02-02 20:30:00 | 2021-02-02 22:00:00 |\n",
    "| 3          | 9          | 2021-02-01 16:00:00 | 2021-02-01 16:59:59 |\n",
    "| 3          | 13         | 2021-02-01 17:00:00 | 2021-02-01 17:59:59 |\n",
    "| 4          | 10         | 2021-02-01 16:00:00 | 2021-02-01 17:00:00 |\n",
    "| 4          | 11         | 2021-02-01 17:00:00 | 2021-02-01 17:59:59 |\n",
    "\n",
    "**Output:** \n",
    "| account_id |\n",
    "|------------|\n",
    "| 1          |\n",
    "| 4          |\n",
    "\n",
    "**Explanation:** \n",
    "- Account ID 1 --> The account was active from \"2021-02-01 09:00:00\" to \"2021-02-01 09:30:00\" with two different IP addresses (1 and 2). It should be banned.\n",
    "- Account ID 2 --> The account was active from two different addresses (6, 7) but in two different times.\n",
    "- Account ID 3 --> The account was active from two different addresses (9, 13) on the same day but they do not intersect at any moment.\n",
    "- Account ID 4 --> The account was active from \"2021-02-01 17:00:00\" to \"2021-02-01 17:00:00\" with two different IP addresses (10 and 11). It should be banned."
   ]
  },
  {
   "cell_type": "code",
   "execution_count": 0,
   "metadata": {
    "application/vnd.databricks.v1+cell": {
     "cellMetadata": {},
     "inputWidgets": {},
     "nuid": "7b78bc27-26cd-4523-8646-7369baf68fcb",
     "showTitle": false,
     "tableResultSettingsMap": {},
     "title": ""
    }
   },
   "outputs": [],
   "source": [
    "log_data_1747 = [\n",
    "    (1, 1, \"2021-02-01 09:00:00\", \"2021-02-01 09:30:00\"),\n",
    "    (1, 2, \"2021-02-01 08:00:00\", \"2021-02-01 11:30:00\"),\n",
    "    (2, 6, \"2021-02-01 20:30:00\", \"2021-02-01 22:00:00\"),\n",
    "    (2, 7, \"2021-02-02 20:30:00\", \"2021-02-02 22:00:00\"),\n",
    "    (3, 9, \"2021-02-01 16:00:00\", \"2021-02-01 16:59:59\"),\n",
    "    (3, 13, \"2021-02-01 17:00:00\", \"2021-02-01 17:59:59\"),\n",
    "    (4, 10, \"2021-02-01 16:00:00\", \"2021-02-01 17:00:00\"),\n",
    "    (4, 11, \"2021-02-01 17:00:00\", \"2021-02-01 17:59:59\"),\n",
    "]\n",
    "\n",
    "columns_1747 = [\"account_id\", \"ip_address\", \"login\", \"logout\"]\n",
    "log_df_1747 = spark.createDataFrame(log_data_1747, columns_1747)\n",
    "log_df_1747.show()"
   ]
  }
 ],
 "metadata": {
  "application/vnd.databricks.v1+notebook": {
   "computePreferences": null,
   "dashboards": [],
   "environmentMetadata": {
    "base_environment": "",
    "environment_version": "1"
   },
   "inputWidgetPreferences": null,
   "language": "python",
   "notebookMetadata": {
    "pythonIndentUnit": 4
   },
   "notebookName": "1747. Leetflex Banned Accounts (Medium)",
   "widgets": {}
  }
 },
 "nbformat": 4,
 "nbformat_minor": 0
}