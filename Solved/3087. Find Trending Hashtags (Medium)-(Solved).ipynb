{
 "cells": [
  {
   "cell_type": "markdown",
   "metadata": {
    "application/vnd.databricks.v1+cell": {
     "cellMetadata": {
      "byteLimit": 2048000,
      "rowLimit": 10000
     },
     "inputWidgets": {},
     "nuid": "7d1791bd-9552-4116-90b2-daa678bbffb8",
     "showTitle": false,
     "tableResultSettingsMap": {},
     "title": ""
    }
   },
   "source": [
    "## Importing Libraries"
   ]
  },
  {
   "cell_type": "code",
   "execution_count": 0,
   "metadata": {
    "application/vnd.databricks.v1+cell": {
     "cellMetadata": {
      "byteLimit": 2048000,
      "rowLimit": 10000
     },
     "inputWidgets": {},
     "nuid": "2901fbc9-49db-4285-8b94-c460f34d4c4f",
     "showTitle": false,
     "tableResultSettingsMap": {},
     "title": ""
    }
   },
   "outputs": [],
   "source": [
    "from pyspark.sql.functions import *\n",
    "from pyspark.sql.types import *\n",
    "from pyspark.sql.window import Window"
   ]
  },
  {
   "cell_type": "markdown",
   "metadata": {
    "application/vnd.databricks.v1+cell": {
     "cellMetadata": {
      "byteLimit": 2048000,
      "rowLimit": 10000
     },
     "inputWidgets": {},
     "nuid": "655120e7-6b25-417c-a08a-c6925feaa425",
     "showTitle": false,
     "tableResultSettingsMap": {},
     "title": ""
    }
   },
   "source": [
    "**3087. Find Trending Hashtags (Medium)**\n",
    "\n",
    "**Table: Tweets**\n",
    "\n",
    "| Column Name | Type    |\n",
    "|-------------|---------|\n",
    "| user_id     | int     |\n",
    "| tweet_id    | int     |\n",
    "| tweet_date  | date    |\n",
    "| tweet       | varchar |\n",
    "\n",
    "tweet_id is the primary key (column with unique values) for this table.\n",
    "Each row of this table contains user_id, tweet_id, tweet_date and tweet.\n",
    "\n",
    "**Write a solution to find the top 3 trending hashtags in February 2024. Each tweet only contains one hashtag.**\n",
    "\n",
    "Return the result table orderd by count of hashtag, hashtag in descending order.\n",
    "\n",
    "The result format is in the following example.\n",
    "\n",
    "**Example 1:**\n",
    "\n",
    "**Input:**\n",
    "\n",
    "**Tweets table:**\n",
    "\n",
    "| user_id | tweet_id | tweet                                        | tweet_date |\n",
    "|---------|----------|----------------------------------------------|------------|\n",
    "| 135     | 13       | Enjoying a great start to the day! #HappyDay | 2024-02-01 |\n",
    "| 136     | 14       | Another #HappyDay with good vibes!           | 2024-02-03 |\n",
    "| 137     | 15       | Productivity peaks! #WorkLife                | 2024-02-04 |\n",
    "| 138     | 16       | Exploring new tech frontiers. #TechLife      | 2024-02-04 |\n",
    "| 139     | 17       | Gratitude for today's moments. #HappyDay     | 2024-02-05 |\n",
    "| 140     | 18       | Innovation drives us. #TechLife              | 2024-02-07 |\n",
    "| 141     | 19       | Connecting with nature's serenity. #Nature   | 2024-02-09 |\n",
    "\n",
    " \n",
    "**Output:**\n",
    "| hashtag   | hashtag_count|\n",
    "|-----------|--------------|\n",
    "| #HappyDay | 3            |\n",
    "| #TechLife | 2            |\n",
    "| #WorkLife | 1            |\n",
    "\n",
    "**Explanation:**\n",
    "- **#HappyDay:** Appeared in tweet IDs 13, 14, and 17, with a total count of 3 mentions.\n",
    "- **#TechLife:** Appeared in tweet IDs 16 and 18, with a total count of 2 mentions.\n",
    "- **#WorkLife:** Appeared in tweet ID 15, with a total count of 1 mention.\n",
    "\n",
    "**Note:** Output table is sorted in descending order by hashtag_count and hashtag respectively."
   ]
  },
  {
   "cell_type": "code",
   "execution_count": 0,
   "metadata": {
    "application/vnd.databricks.v1+cell": {
     "cellMetadata": {
      "byteLimit": 2048000,
      "rowLimit": 10000
     },
     "inputWidgets": {},
     "nuid": "a2368434-0191-416c-aa1d-12cd44cf48e6",
     "showTitle": false,
     "tableResultSettingsMap": {},
     "title": ""
    }
   },
   "outputs": [
    {
     "output_type": "stream",
     "name": "stdout",
     "output_type": "stream",
     "text": [
      "+-------+--------+--------------------+----------+\n|user_id|tweet_id|               tweet|tweet_date|\n+-------+--------+--------------------+----------+\n|    135|      13|Enjoying a great ...|2024-02-01|\n|    136|      14|Another #HappyDay...|2024-02-03|\n|    137|      15|Productivity peak...|2024-02-04|\n|    138|      16|Exploring new tec...|2024-02-04|\n|    139|      17|Gratitude for tod...|2024-02-05|\n|    140|      18|Innovation drives...|2024-02-07|\n|    141|      19|Connecting with n...|2024-02-09|\n+-------+--------+--------------------+----------+\n\n"
     ]
    }
   ],
   "source": [
    "tweets_data_3087 = [\n",
    "    (135, 13, \"Enjoying a great start to the day! #HappyDay\", \"2024-02-01\"),\n",
    "    (136, 14, \"Another #HappyDay with good vibes!\", \"2024-02-03\"),\n",
    "    (137, 15, \"Productivity peaks! #WorkLife\", \"2024-02-04\"),\n",
    "    (138, 16, \"Exploring new tech frontiers. #TechLife\", \"2024-02-04\"),\n",
    "    (139, 17, \"Gratitude for today's moments. #HappyDay\", \"2024-02-05\"),\n",
    "    (140, 18, \"Innovation drives us. #TechLife\", \"2024-02-07\"),\n",
    "    (141, 19, \"Connecting with nature's serenity. #Nature\", \"2024-02-09\"),\n",
    "]\n",
    "\n",
    "tweets_columns_3087 = [\"user_id\", \"tweet_id\", \"tweet\", \"tweet_date\"]\n",
    "tweets_df_3087 = spark.createDataFrame(tweets_data_3087, tweets_columns_3087)\n",
    "tweets_df_3087.show()"
   ]
  },
  {
   "cell_type": "code",
   "execution_count": 0,
   "metadata": {
    "application/vnd.databricks.v1+cell": {
     "cellMetadata": {
      "byteLimit": 2048000,
      "rowLimit": 10000
     },
     "inputWidgets": {},
     "nuid": "c800d2bc-c2f5-4ff9-925e-c913b8ee98b9",
     "showTitle": false,
     "tableResultSettingsMap": {},
     "title": ""
    }
   },
   "outputs": [],
   "source": [
    "tweets_df_3087 = tweets_df_3087\\\n",
    "                    .filter(\n",
    "                        (col(\"tweet_date\") >= \"2024-02-01\") & \n",
    "                        (col(\"tweet_date\") <= \"2024-02-29\")\n",
    "                        )"
   ]
  },
  {
   "cell_type": "code",
   "execution_count": 0,
   "metadata": {
    "application/vnd.databricks.v1+cell": {
     "cellMetadata": {
      "byteLimit": 2048000,
      "rowLimit": 10000
     },
     "inputWidgets": {},
     "nuid": "12df9e12-dbe4-4013-86d2-0196ba7f770f",
     "showTitle": false,
     "tableResultSettingsMap": {},
     "title": ""
    }
   },
   "outputs": [],
   "source": [
    "tweets_df_3087 = tweets_df_3087\\\n",
    "                    .withColumn(\"hashtag\", regexp_extract(\"tweet\", r\"(#\\w+)\", 1))"
   ]
  },
  {
   "cell_type": "code",
   "execution_count": 0,
   "metadata": {
    "application/vnd.databricks.v1+cell": {
     "cellMetadata": {
      "byteLimit": 2048000,
      "rowLimit": 10000
     },
     "inputWidgets": {},
     "nuid": "87b3bb55-45f9-446d-b37e-b5d46ff2b430",
     "showTitle": false,
     "tableResultSettingsMap": {},
     "title": ""
    }
   },
   "outputs": [
    {
     "output_type": "display_data",
     "data": {
      "text/html": [
       "<style scoped>\n",
       "  .table-result-container {\n",
       "    max-height: 300px;\n",
       "    overflow: auto;\n",
       "  }\n",
       "  table, th, td {\n",
       "    border: 1px solid black;\n",
       "    border-collapse: collapse;\n",
       "  }\n",
       "  th, td {\n",
       "    padding: 5px;\n",
       "  }\n",
       "  th {\n",
       "    text-align: left;\n",
       "  }\n",
       "</style><div class='table-result-container'><table class='table-result'><thead style='background-color: white'><tr><th>hashtag</th><th>hashtag_count</th></tr></thead><tbody><tr><td>#HappyDay</td><td>3</td></tr><tr><td>#TechLife</td><td>2</td></tr><tr><td>#WorkLife</td><td>1</td></tr></tbody></table></div>"
      ]
     },
     "metadata": {
      "application/vnd.databricks.v1+output": {
       "addedWidgets": {},
       "aggData": [],
       "aggError": "",
       "aggOverflow": false,
       "aggSchema": [],
       "aggSeriesLimitReached": false,
       "aggType": "",
       "arguments": {},
       "columnCustomDisplayInfos": {},
       "data": [
        [
         "#HappyDay",
         3
        ],
        [
         "#TechLife",
         2
        ],
        [
         "#WorkLife",
         1
        ]
       ],
       "datasetInfos": [],
       "dbfsResultPath": null,
       "isJsonSchema": true,
       "metadata": {},
       "overflow": false,
       "plotOptions": {
        "customPlotOptions": {},
        "displayType": "table",
        "pivotAggregation": null,
        "pivotColumns": null,
        "xColumns": null,
        "yColumns": null
       },
       "removedWidgets": [],
       "schema": [
        {
         "metadata": "{}",
         "name": "hashtag",
         "type": "\"string\""
        },
        {
         "metadata": "{}",
         "name": "hashtag_count",
         "type": "\"long\""
        }
       ],
       "type": "table"
      }
     },
     "output_type": "display_data"
    }
   ],
   "source": [
    "tweets_df_3087\\\n",
    "    .groupBy(\"hashtag\").agg(count(\"*\").alias(\"hashtag_count\"))\\\n",
    "        .orderBy(desc(\"hashtag_count\"), desc(\"hashtag\")).limit(3).display()"
   ]
  }
 ],
 "metadata": {
  "application/vnd.databricks.v1+notebook": {
   "computePreferences": {
    "hardware": {
     "accelerator": null,
     "gpuPoolId": null,
     "memory": null
    }
   },
   "dashboards": [],
   "environmentMetadata": {
    "base_environment": "",
    "environment_version": "2"
   },
   "inputWidgetPreferences": null,
   "language": "python",
   "notebookMetadata": {
    "pythonIndentUnit": 4
   },
   "notebookName": "3087. Find Trending Hashtags (Medium)-(Solved)",
   "widgets": {}
  },
  "language_info": {
   "name": "python"
  }
 },
 "nbformat": 4,
 "nbformat_minor": 0
}
