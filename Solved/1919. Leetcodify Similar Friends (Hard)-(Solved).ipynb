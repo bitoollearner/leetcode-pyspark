{
 "cells": [
  {
   "cell_type": "markdown",
   "metadata": {
    "application/vnd.databricks.v1+cell": {
     "cellMetadata": {
      "byteLimit": 2048000,
      "rowLimit": 10000
     },
     "inputWidgets": {},
     "nuid": "e405a61e-83e0-4a83-8234-4a55e28c9c87",
     "showTitle": false,
     "tableResultSettingsMap": {},
     "title": ""
    }
   },
   "source": [
    "## Importing Libraries"
   ]
  },
  {
   "cell_type": "code",
   "execution_count": 0,
   "metadata": {
    "application/vnd.databricks.v1+cell": {
     "cellMetadata": {
      "byteLimit": 2048000,
      "rowLimit": 10000
     },
     "inputWidgets": {},
     "nuid": "bb35cd35-f82a-443f-90d7-d161591cdb61",
     "showTitle": false,
     "tableResultSettingsMap": {},
     "title": ""
    }
   },
   "outputs": [],
   "source": [
    "from pyspark.sql.functions import *\n",
    "from pyspark.sql.types import *\n",
    "from pyspark.sql.window import Window"
   ]
  },
  {
   "cell_type": "markdown",
   "metadata": {
    "application/vnd.databricks.v1+cell": {
     "cellMetadata": {
      "byteLimit": 2048000,
      "rowLimit": 10000
     },
     "inputWidgets": {},
     "nuid": "29ed3054-4879-4c88-8f36-f775ffecdfe0",
     "showTitle": false,
     "tableResultSettingsMap": {},
     "title": ""
    }
   },
   "source": [
    "**1919. Leetcodify Similar Friends (Hard)**\n",
    "\n",
    "**Table: Listens**\n",
    "\n",
    "| Column Name | Type    |\n",
    "|-------------|---------|\n",
    "| user_id     | int     |\n",
    "| song_id     | int     |\n",
    "| day         | date    |\n",
    "\n",
    "This table may contain duplicate rows.\n",
    "Each row of this table indicates that the user user_id listened to the song song_id on the day day.\n",
    " \n",
    "**Table: Friendship**\n",
    "\n",
    "| Column Name   | Type    |\n",
    "|---------------|---------|\n",
    "| user1_id      | int     |\n",
    "| user2_id      | int     |\n",
    "\n",
    "(user1_id, user2_id) is the primary key (combination of columns with unique values) for this table.\n",
    "Each row of this table indicates that the users user1_id and user2_id are friends.\n",
    "Note that user1_id < user2_id.\n",
    " \n",
    "**Write a solution to report the similar friends of Leetcodify users. A user x and user y are similar friends if:**\n",
    "- Users x and y are friends, and\n",
    "- Users x and y listened to the same three or more different songs on the same day.\n",
    "\n",
    "Return the result table in any order. Note that you must return the similar pairs of friends the same way they were represented in the input (i.e., always user1_id < user2_id).\n",
    "\n",
    "The result format is in the following example.\n",
    "\n",
    "**Example 1:**\n",
    "\n",
    "**Input:** \n",
    "\n",
    "**Listens table:**\n",
    "\n",
    "| user_id | song_id | day        |\n",
    "|---------|---------|------------|\n",
    "| 1       | 10      | 2021-03-15 |\n",
    "| 1       | 11      | 2021-03-15 |\n",
    "| 1       | 12      | 2021-03-15 |\n",
    "| 2       | 10      | 2021-03-15 |\n",
    "| 2       | 11      | 2021-03-15 |\n",
    "| 2       | 12      | 2021-03-15 |\n",
    "| 3       | 10      | 2021-03-15 |\n",
    "| 3       | 11      | 2021-03-15 |\n",
    "| 3       | 12      | 2021-03-15 |\n",
    "| 4       | 10      | 2021-03-15 |\n",
    "| 4       | 11      | 2021-03-15 |\n",
    "| 4       | 13      | 2021-03-15 |\n",
    "| 5       | 10      | 2021-03-16 |\n",
    "| 5       | 11      | 2021-03-16 |\n",
    "| 5       | 12      | 2021-03-16 |\n",
    "\n",
    "**Friendship table:**\n",
    "| user1_id | user2_id |\n",
    "|----------|----------|\n",
    "| 1        | 2        |\n",
    "| 2        | 4        |\n",
    "| 2        | 5        |\n",
    "\n",
    "**Output:** \n",
    "| user1_id | user2_id |\n",
    "|----------|----------|\n",
    "| 1        | 2        |\n",
    "\n",
    "**Explanation:** \n",
    "- Users 1 and 2 are friends, and they listened to songs 10, 11, and 12 on the same day. They are similar friends.\n",
    "- Users 1 and 3 listened to songs 10, 11, and 12 on the same day, but they are not friends.\n",
    "- Users 2 and 4 are friends, but they did not listen to the same three different songs.\n",
    "- Users 2 and 5 are friends and listened to songs 10, 11, and 12, but they did not listen to them on the same day."
   ]
  },
  {
   "cell_type": "code",
   "execution_count": 0,
   "metadata": {
    "application/vnd.databricks.v1+cell": {
     "cellMetadata": {
      "byteLimit": 2048000,
      "rowLimit": 10000
     },
     "inputWidgets": {},
     "nuid": "64a3f754-3c0a-4ca1-af02-4d6f736ea2e9",
     "showTitle": false,
     "tableResultSettingsMap": {},
     "title": ""
    }
   },
   "outputs": [
    {
     "output_type": "stream",
     "name": "stdout",
     "output_type": "stream",
     "text": [
      "+-------+-------+----------+\n|user_id|song_id|       day|\n+-------+-------+----------+\n|      1|     10|2021-03-15|\n|      1|     11|2021-03-15|\n|      1|     12|2021-03-15|\n|      2|     10|2021-03-15|\n|      2|     11|2021-03-15|\n|      2|     12|2021-03-15|\n|      3|     10|2021-03-15|\n|      3|     11|2021-03-15|\n|      3|     12|2021-03-15|\n|      4|     10|2021-03-15|\n|      4|     11|2021-03-15|\n|      4|     13|2021-03-15|\n|      5|     10|2021-03-16|\n|      5|     11|2021-03-16|\n|      5|     12|2021-03-16|\n+-------+-------+----------+\n\n+--------+--------+\n|user1_id|user2_id|\n+--------+--------+\n|       1|       2|\n|       2|       4|\n|       2|       5|\n+--------+--------+\n\n"
     ]
    }
   ],
   "source": [
    "listens_data_1919 = [\n",
    "    (1, 10, \"2021-03-15\"), (1, 11, \"2021-03-15\"), (1, 12, \"2021-03-15\"),\n",
    "    (2, 10, \"2021-03-15\"), (2, 11, \"2021-03-15\"), (2, 12, \"2021-03-15\"),\n",
    "    (3, 10, \"2021-03-15\"), (3, 11, \"2021-03-15\"), (3, 12, \"2021-03-15\"),\n",
    "    (4, 10, \"2021-03-15\"), (4, 11, \"2021-03-15\"), (4, 13, \"2021-03-15\"),\n",
    "    (5, 10, \"2021-03-16\"), (5, 11, \"2021-03-16\"), (5, 12, \"2021-03-16\")\n",
    "]\n",
    "\n",
    "listens_columns_1919 = [\"user_id\", \"song_id\", \"day\"]\n",
    "listens_df_1919 = spark.createDataFrame(listens_data_1919, listens_columns_1919)\n",
    "listens_df_1919.show()\n",
    "\n",
    "friendship_data_1919 = [(1, 2), (2, 4), (2, 5)]\n",
    "\n",
    "friendship_columns_1919 = [\"user1_id\", \"user2_id\"]\n",
    "friendship_df_1919 = spark.createDataFrame(friendship_data_1919, friendship_columns_1919)\n",
    "friendship_df_1919.show()"
   ]
  },
  {
   "cell_type": "code",
   "execution_count": 0,
   "metadata": {
    "application/vnd.databricks.v1+cell": {
     "cellMetadata": {
      "byteLimit": 2048000,
      "rowLimit": 10000
     },
     "inputWidgets": {},
     "nuid": "126e09a0-ca3a-42ca-b712-ce033474f36b",
     "showTitle": false,
     "tableResultSettingsMap": {},
     "title": ""
    }
   },
   "outputs": [],
   "source": [
    "listens_clean_df_1919 = listens_df_1919.dropDuplicates()"
   ]
  },
  {
   "cell_type": "code",
   "execution_count": 0,
   "metadata": {
    "application/vnd.databricks.v1+cell": {
     "cellMetadata": {
      "byteLimit": 2048000,
      "rowLimit": 10000
     },
     "inputWidgets": {},
     "nuid": "3771bd46-d0bf-48f5-a3e4-30d34af69c4f",
     "showTitle": false,
     "tableResultSettingsMap": {},
     "title": ""
    }
   },
   "outputs": [],
   "source": [
    "pairs_df_1919 = listens_clean_df_1919.alias(\"a\")\\\n",
    "                    .join(\n",
    "                        listens_clean_df_1919.alias(\"b\"),\n",
    "                        (col(\"a.song_id\") == col(\"b.song_id\")) &\n",
    "                        (col(\"a.day\") == col(\"b.day\")) &\n",
    "                        (col(\"a.user_id\") < col(\"b.user_id\")),\"inner\"\n",
    "                        )"
   ]
  },
  {
   "cell_type": "code",
   "execution_count": 0,
   "metadata": {
    "application/vnd.databricks.v1+cell": {
     "cellMetadata": {
      "byteLimit": 2048000,
      "rowLimit": 10000
     },
     "inputWidgets": {},
     "nuid": "843df8f4-abcd-42f5-9798-4888818a550d",
     "showTitle": false,
     "tableResultSettingsMap": {},
     "title": ""
    }
   },
   "outputs": [],
   "source": [
    "pair_song_counts_df_1919 = pairs_df_1919\\\n",
    "                                .groupBy(\n",
    "                                    col(\"a.user_id\").alias(\"user1_id\"),\n",
    "                                    col(\"b.user_id\").alias(\"user2_id\"),\n",
    "                                    col(\"a.day\")\n",
    "                                    ).agg(\n",
    "                                        countDistinct(\"a.song_id\").alias(\"common_songs\")\n",
    "                                        )"
   ]
  },
  {
   "cell_type": "code",
   "execution_count": 0,
   "metadata": {
    "application/vnd.databricks.v1+cell": {
     "cellMetadata": {
      "byteLimit": 2048000,
      "rowLimit": 10000
     },
     "inputWidgets": {},
     "nuid": "e529ac70-7228-4495-849b-8f7ff17b7aa8",
     "showTitle": false,
     "tableResultSettingsMap": {},
     "title": ""
    }
   },
   "outputs": [],
   "source": [
    "similar_candidates_df_1919 = pair_song_counts_df_1919\\\n",
    "                                    .filter(col(\"common_songs\") >= 3)"
   ]
  },
  {
   "cell_type": "code",
   "execution_count": 0,
   "metadata": {
    "application/vnd.databricks.v1+cell": {
     "cellMetadata": {
      "byteLimit": 2048000,
      "rowLimit": 10000
     },
     "inputWidgets": {},
     "nuid": "d90741a1-07e7-4ebf-aa5a-28e6496863b5",
     "showTitle": false,
     "tableResultSettingsMap": {},
     "title": ""
    }
   },
   "outputs": [
    {
     "output_type": "stream",
     "name": "stdout",
     "output_type": "stream",
     "text": [
      "+--------+--------+\n|user1_id|user2_id|\n+--------+--------+\n|       1|       2|\n+--------+--------+\n\n"
     ]
    }
   ],
   "source": [
    "sc = similar_candidates_df_1919.alias(\"sc\")\n",
    "fr = friendship_df_1919.alias(\"fr\")\n",
    "\n",
    "sc.join(fr,\n",
    "        (sc.user1_id == fr.user1_id) & (sc.user2_id == fr.user2_id),\n",
    "        \"inner\"\n",
    "        )\\\n",
    "            .select(\"fr.user1_id\", \"fr.user2_id\").distinct().show()\n"
   ]
  }
 ],
 "metadata": {
  "application/vnd.databricks.v1+notebook": {
   "computePreferences": {
    "hardware": {
     "accelerator": null,
     "gpuPoolId": null,
     "memory": null
    }
   },
   "dashboards": [],
   "environmentMetadata": {
    "base_environment": "",
    "environment_version": "2"
   },
   "inputWidgetPreferences": null,
   "language": "python",
   "notebookMetadata": {
    "pythonIndentUnit": 4
   },
   "notebookName": "1919. Leetcodify Similar Friends (Hard)-(Solved)",
   "widgets": {}
  },
  "language_info": {
   "name": "python"
  }
 },
 "nbformat": 4,
 "nbformat_minor": 0
}
