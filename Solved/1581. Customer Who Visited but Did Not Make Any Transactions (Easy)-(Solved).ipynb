{
 "cells": [
  {
   "cell_type": "markdown",
   "metadata": {
    "application/vnd.databricks.v1+cell": {
     "cellMetadata": {},
     "inputWidgets": {},
     "nuid": "44cd2565-3e27-417c-8c6c-7b2d8f1b94c5",
     "showTitle": false,
     "tableResultSettingsMap": {},
     "title": ""
    }
   },
   "source": [
    "## Importing Libraries"
   ]
  },
  {
   "cell_type": "code",
   "execution_count": 0,
   "metadata": {
    "application/vnd.databricks.v1+cell": {
     "cellMetadata": {},
     "inputWidgets": {},
     "nuid": "e6da106f-4e0b-41e0-9f75-6e329535d5c0",
     "showTitle": false,
     "tableResultSettingsMap": {},
     "title": ""
    }
   },
   "outputs": [],
   "source": [
    "from pyspark.sql.functions import *\n",
    "from pyspark.sql.types import *\n",
    "from pyspark.sql.window import Window"
   ]
  },
  {
   "cell_type": "markdown",
   "metadata": {
    "application/vnd.databricks.v1+cell": {
     "cellMetadata": {},
     "inputWidgets": {},
     "nuid": "f0267197-68d5-4180-8492-6999c905acb1",
     "showTitle": false,
     "tableResultSettingsMap": {},
     "title": ""
    }
   },
   "source": [
    "**1581. Customer Who Visited but Did Not Make Any Transactions (Easy)**\n",
    "\n",
    "**Table: Visits**\n",
    "\n",
    "| Column Name | Type    |\n",
    "|-------------|---------|\n",
    "| visit_id    | int     |\n",
    "| customer_id | int     |\n",
    "\n",
    "visit_id is the column with unique values for this table.\n",
    "This table contains information about the customers who visited the mall.\n",
    " \n",
    "\n",
    "**Table: Transactions**\n",
    "\n",
    "| Column Name    | Type    |\n",
    "|----------------|---------|\n",
    "| transaction_id | int     |\n",
    "| visit_id       | int     |\n",
    "| amount         | int     |\n",
    "\n",
    "transaction_id is column with unique values for this table.\n",
    "This table contains information about the transactions made during the visit_id.\n",
    " \n",
    "**Write a solution to find the IDs of the users who visited without making any transactions and the number of times they made these types of visits.**\n",
    "\n",
    "Return the result table sorted in any order.\n",
    "\n",
    "The result format is in the following example.\n",
    "\n",
    "**Example 1:**\n",
    "\n",
    "**Input:**\n",
    "**Visits**\n",
    "| visit_id | customer_id |\n",
    "|----------|-------------|\n",
    "| 1        | 23          |\n",
    "| 2        | 9           |\n",
    "| 4        | 30          |\n",
    "| 5        | 54          |\n",
    "| 6        | 96          |\n",
    "| 7        | 54          |\n",
    "| 8        | 54          |\n",
    "\n",
    "**Transactions**\n",
    "| transaction_id | visit_id | amount |\n",
    "|----------------|----------|--------|\n",
    "| 2              | 5        | 310    |\n",
    "| 3              | 5        | 300    |\n",
    "| 9              | 5        | 200    |\n",
    "| 12             | 1        | 910    |\n",
    "| 13             | 2        | 970    |\n",
    "\n",
    "**Output:**\n",
    "| customer_id | count_no_trans |\n",
    "|-------------|----------------|\n",
    "| 54          | 2              |\n",
    "| 30          | 1              |\n",
    "| 96          | 1              |\n",
    "\n",
    "**Explanation:**\n",
    "- Customer with id = 23 visited the mall once and made one transaction during the visit with id = 12.\n",
    "- Customer with id = 9 visited the mall once and made one transaction during the visit with id = 13.\n",
    "- Customer with id = 30 visited the mall once and did not make any transactions.\n",
    "- Customer with id = 54 visited the mall three times. During 2 visits they did not make any transactions, and during one visit they made 3 transactions.\n",
    "- Customer with id = 96 visited the mall once and did not make any transactions.\n",
    "- As we can see, users with IDs 30 and 96 visited the mall one time without making any transactions. Also, user 54 visited the mall twice and did not make any transactions."
   ]
  },
  {
   "cell_type": "code",
   "execution_count": 0,
   "metadata": {
    "application/vnd.databricks.v1+cell": {
     "cellMetadata": {},
     "inputWidgets": {},
     "nuid": "e98c62a4-8cd4-48d6-9337-86cf54c19ddd",
     "showTitle": false,
     "tableResultSettingsMap": {},
     "title": ""
    }
   },
   "outputs": [],
   "source": [
    "visits_data_1581 = [\n",
    "    (1, 23), (2, 9), (4, 30), (5, 54), (6, 96), (7, 54), (8, 54)\n",
    "]\n",
    "visits_columns_1581 = [\"visit_id\", \"customer_id\"]\n",
    "visits_df_1581 = spark.createDataFrame(visits_data_1581, visits_columns_1581)\n",
    "visits_df_1581.show()\n",
    "\n",
    "transactions_data_1581 = [\n",
    "    (2, 5, 310), (3, 5, 300), (9, 5, 200),\n",
    "    (12, 1, 910), (13, 2, 970)\n",
    "]\n",
    "\n",
    "transactions_columns_1581 = [\"transaction_id\", \"visit_id\", \"amount\"]\n",
    "transactions_df_1581 = spark.createDataFrame(transactions_data_1581, transactions_columns_1581)\n",
    "transactions_df_1581.show()"
   ]
  }
 ],
 "metadata": {
  "application/vnd.databricks.v1+notebook": {
   "computePreferences": null,
   "dashboards": [],
   "environmentMetadata": {
    "base_environment": "",
    "environment_version": "1"
   },
   "inputWidgetPreferences": null,
   "language": "python",
   "notebookMetadata": {
    "pythonIndentUnit": 4
   },
   "notebookName": "1581. Customer Who Visited but Did Not Make Any Transactions (Easy)-(Solved)",
   "widgets": {}
  },
  "language_info": {
   "name": "python"
  }
 },
 "nbformat": 4,
 "nbformat_minor": 0
}
