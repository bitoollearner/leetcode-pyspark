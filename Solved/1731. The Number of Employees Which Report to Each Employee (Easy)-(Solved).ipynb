{
 "cells": [
  {
   "cell_type": "markdown",
   "metadata": {
    "application/vnd.databricks.v1+cell": {
     "cellMetadata": {},
     "inputWidgets": {},
     "nuid": "fadf709d-de3d-4bfc-b69f-3b489de68bef",
     "showTitle": false,
     "tableResultSettingsMap": {},
     "title": ""
    }
   },
   "source": [
    "## Importing Libraries"
   ]
  },
  {
   "cell_type": "code",
   "execution_count": 0,
   "metadata": {
    "application/vnd.databricks.v1+cell": {
     "cellMetadata": {},
     "inputWidgets": {},
     "nuid": "d4a1fef1-aa99-469c-b35f-9b3f3e81c9f7",
     "showTitle": false,
     "tableResultSettingsMap": {},
     "title": ""
    }
   },
   "outputs": [],
   "source": [
    "from pyspark.sql.functions import *\n",
    "from pyspark.sql.types import *\n",
    "from pyspark.sql.window import Window"
   ]
  },
  {
   "cell_type": "markdown",
   "metadata": {
    "application/vnd.databricks.v1+cell": {
     "cellMetadata": {},
     "inputWidgets": {},
     "nuid": "78daa073-80d8-4f7e-9cfa-10f6eb568909",
     "showTitle": false,
     "tableResultSettingsMap": {},
     "title": ""
    }
   },
   "source": [
    "**1731. The Number of Employees Which Report to Each Employee (Easy)**\n",
    "\n",
    "**Table: Employees**\n",
    "\n",
    "| Column Name | Type     |\n",
    "|-------------|----------|\n",
    "| employee_id | int      |\n",
    "| name        | varchar  |\n",
    "| reports_to  | int      |\n",
    "| age         | int      |\n",
    "\n",
    "employee_id is the column with unique values for this table.\n",
    "This table contains information about the employees and the id of the manager they report to. Some employees do not report to anyone (reports_to is null). \n",
    " \n",
    "For this problem, we will consider a manager an employee who has at least 1 other employee reporting to them.\n",
    "\n",
    "**Write a solution to report the ids and the names of all managers, the number of employees who report directly to them, and the average age of the reports rounded to the nearest integer.**\n",
    "\n",
    "Return the result table ordered by employee_id.\n",
    "\n",
    "The result format is in the following example.\n",
    "\n",
    "**Example 1:**\n",
    "\n",
    "**Input:**\n",
    "**Employees table:**\n",
    "\n",
    "| employee_id | name    | reports_to | age |\n",
    "|-------------|---------|------------|-----|\n",
    "| 9           | Hercy   | null       | 43  |\n",
    "| 6           | Alice   | 9          | 41  |\n",
    "| 4           | Bob     | 9          | 36  |\n",
    "| 2           | Winston | null       | 37  |\n",
    "\n",
    "**Output:**\n",
    "| employee_id | name  | reports_count | average_age |\n",
    "|-------------|-------|---------------|-------------|\n",
    "| 9           | Hercy | 2             | 39          |\n",
    "\n",
    "**Explanation:** Hercy has 2 people report directly to him, Alice and Bob. Their average age is (41+36)/2 = 38.5, which is 39 after rounding it to the nearest integer.\n",
    "\n",
    "**Example 2:**\n",
    "\n",
    "**Input:**\n",
    "**Employees table:**\n",
    "| employee_id | name    | reports_to | age |\n",
    "|-------------|---------|------------|-----|\n",
    "| 1           | Michael | null       | 45  |\n",
    "| 2           | Alice   | 1          | 38  |\n",
    "| 3           | Bob     | 1          | 42  |\n",
    "| 4           | Charlie | 2          | 34  |\n",
    "| 5           | David   | 2          | 40  |\n",
    "| 6           | Eve     | 3          | 37  |\n",
    "| 7           | Frank   | null       | 50  |\n",
    "| 8           | Grace   | null       | 48  |\n",
    "\n",
    "**Output:**\n",
    "| employee_id | name    | reports_count | average_age |\n",
    "| ----------- | ------- | ------------- | ----------- |\n",
    "| 1           | Michael | 2             | 40          |\n",
    "| 2           | Alice   | 2             | 37          |\n",
    "| 3           | Bob     | 1             | 37          |\n"
   ]
  },
  {
   "cell_type": "code",
   "execution_count": 0,
   "metadata": {
    "application/vnd.databricks.v1+cell": {
     "cellMetadata": {},
     "inputWidgets": {},
     "nuid": "7b78bc27-26cd-4523-8646-7369baf68fcb",
     "showTitle": false,
     "tableResultSettingsMap": {},
     "title": ""
    }
   },
   "outputs": [],
   "source": [
    "employees_data_1731 = [\n",
    "    (1, \"Michael\", None, 45),\n",
    "    (2, \"Alice\", 1, 38),\n",
    "    (3, \"Bob\", 1, 42),\n",
    "    (4, \"Charlie\", 2, 34),\n",
    "    (5, \"David\", 2, 40),\n",
    "    (6, \"Eve\", 3, 37),\n",
    "    (7, \"Frank\", None, 50),\n",
    "    (8, \"Grace\", None, 48)\n",
    "]\n",
    "\n",
    "employees_columns_1731 = [\"employee_id\", \"name\", \"reports_to\", \"age\"]\n",
    "employees_df_1731 = spark.createDataFrame(employees_data_1731, employees_columns_1731)\n",
    "employees_df_1731.show()"
   ]
  }
 ],
 "metadata": {
  "application/vnd.databricks.v1+notebook": {
   "computePreferences": null,
   "dashboards": [],
   "environmentMetadata": {
    "base_environment": "",
    "environment_version": "1"
   },
   "inputWidgetPreferences": null,
   "language": "python",
   "notebookMetadata": {
    "pythonIndentUnit": 4
   },
   "notebookName": "1731. The Number of Employees Which Report to Each Employee (Easy)-(Solved)",
   "widgets": {}
  },
  "language_info": {
   "name": "python"
  }
 },
 "nbformat": 4,
 "nbformat_minor": 0
}
