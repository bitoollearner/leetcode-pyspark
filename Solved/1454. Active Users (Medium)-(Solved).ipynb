{
 "cells": [
  {
   "cell_type": "markdown",
   "metadata": {
    "application/vnd.databricks.v1+cell": {
     "cellMetadata": {},
     "inputWidgets": {},
     "nuid": "24f8e8c0-d56b-4821-a900-bbe934dce4d7",
     "showTitle": false,
     "tableResultSettingsMap": {},
     "title": ""
    }
   },
   "source": [
    "## Importing Libraries"
   ]
  },
  {
   "cell_type": "code",
   "execution_count": 0,
   "metadata": {
    "application/vnd.databricks.v1+cell": {
     "cellMetadata": {},
     "inputWidgets": {},
     "nuid": "243b190c-af0b-4bd1-9507-8e2be2fceca3",
     "showTitle": false,
     "tableResultSettingsMap": {},
     "title": ""
    }
   },
   "outputs": [],
   "source": [
    "from pyspark.sql.functions import *\n",
    "from pyspark.sql.types import *\n",
    "from pyspark.sql.window import Window"
   ]
  },
  {
   "cell_type": "markdown",
   "metadata": {
    "application/vnd.databricks.v1+cell": {
     "cellMetadata": {},
     "inputWidgets": {},
     "nuid": "2d9dc49c-3f2c-4ff6-8e98-5e72a86b1bac",
     "showTitle": false,
     "tableResultSettingsMap": {},
     "title": ""
    }
   },
   "source": [
    "**1454. Active Users (Medium)**\n",
    "\n",
    "**Table: Accounts**\n",
    "\n",
    "| Column Name   | Type    |\n",
    "|---------------|---------|\n",
    "| id            | int     |\n",
    "| name          | varchar |\n",
    "\n",
    "id is the primary key (column with unique values) for this table.\n",
    "This table contains the account id and the user name of each account.\n",
    " \n",
    "**Table: Logins**\n",
    "\n",
    "| Column Name   | Type    |\n",
    "|---------------|---------|\n",
    "| id            | int     |\n",
    "| login_date    | date    |\n",
    "\n",
    "This table may contain duplicate rows.\n",
    "This table contains the account id of the user who logged in and the login date. A user may log in multiple times in the day.\n",
    " \n",
    "Active users are those who logged in to their accounts for five or more consecutive days.\n",
    "\n",
    "**Write a solution to find the id and the name of active users.**\n",
    "\n",
    "Return the result table ordered by id.\n",
    "\n",
    "The result format is in the following example.\n",
    "\n",
    "**Example 1:**\n",
    "\n",
    "**Input:** \n",
    "\n",
    "**Accounts table:**\n",
    "| id | name     |\n",
    "|----|----------|\n",
    "| 1  | Winston  |\n",
    "| 7  | Jonathan |\n",
    "\n",
    "**Logins table:**\n",
    "| id | login_date |\n",
    "|----|------------|\n",
    "| 7  | 2020-05-30 |\n",
    "| 1  | 2020-05-30 |\n",
    "| 7  | 2020-05-31 |\n",
    "| 7  | 2020-06-01 |\n",
    "| 7  | 2020-06-02 |\n",
    "| 7  | 2020-06-02 |\n",
    "| 7  | 2020-06-03 |\n",
    "| 1  | 2020-06-07 |\n",
    "| 7  | 2020-06-10 |\n",
    "\n",
    "**Output:** \n",
    "| id | name     |\n",
    "|----|----------|\n",
    "| 7  | Jonathan |\n",
    "\n",
    "**Explanation:** \n",
    "- User Winston with id = 1 logged in 2 times only in 2 different days, so, Winston is not an active user.\n",
    "- User Jonathan with id = 7 logged in 7 times in 6 different days, five of them were consecutive days, so, Jonathan is an active user.\n",
    " \n",
    "**Follow up:** Could you write a general solution if the active users are those who logged in to their accounts for n or more consecutive days?"
   ]
  },
  {
   "cell_type": "code",
   "execution_count": 0,
   "metadata": {
    "application/vnd.databricks.v1+cell": {
     "cellMetadata": {},
     "inputWidgets": {},
     "nuid": "5d66d20c-58e2-4ee9-8356-d736216372c3",
     "showTitle": false,
     "tableResultSettingsMap": {},
     "title": ""
    }
   },
   "outputs": [],
   "source": [
    "accounts_data_1454 = [\n",
    "    (1, \"Winston\"),\n",
    "    (7, \"Jonathan\")\n",
    "]\n",
    "\n",
    "accounts_columns_1454 = [\"id\", \"name\"]\n",
    "accounts_df_1454 = spark.createDataFrame(accounts_data_1454, accounts_columns_1454)\n",
    "accounts_df_1454.show()\n",
    "\n",
    "logins_data_1454 = [\n",
    "    (7, \"2020-05-30\"),\n",
    "    (1, \"2020-05-30\"),\n",
    "    (7, \"2020-05-31\"),\n",
    "    (7, \"2020-06-01\"),\n",
    "    (7, \"2020-06-02\"),\n",
    "    (7, \"2020-06-02\"),\n",
    "    (7, \"2020-06-03\"),\n",
    "    (1, \"2020-06-07\"),\n",
    "    (7, \"2020-06-10\")\n",
    "]\n",
    "\n",
    "logins_columns_1454 = [\"id\", \"login_date\"]\n",
    "logins_df_1454 = spark.createDataFrame(logins_data_1454, logins_columns_1454)\n",
    "logins_df_1454.show()"
   ]
  }
 ],
 "metadata": {
  "application/vnd.databricks.v1+notebook": {
   "computePreferences": null,
   "dashboards": [],
   "environmentMetadata": {
    "base_environment": "",
    "environment_version": "1"
   },
   "inputWidgetPreferences": null,
   "language": "python",
   "notebookMetadata": {
    "pythonIndentUnit": 4
   },
   "notebookName": "1454. Active Users (Medium)-(Solved)",
   "widgets": {}
  },
  "language_info": {
   "name": "python"
  }
 },
 "nbformat": 4,
 "nbformat_minor": 0
}
