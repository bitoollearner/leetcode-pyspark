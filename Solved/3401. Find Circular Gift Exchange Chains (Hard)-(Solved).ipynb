{
 "cells": [
  {
   "cell_type": "markdown",
   "metadata": {
    "application/vnd.databricks.v1+cell": {
     "cellMetadata": {
      "byteLimit": 2048000,
      "rowLimit": 10000
     },
     "inputWidgets": {},
     "nuid": "7d1791bd-9552-4116-90b2-daa678bbffb8",
     "showTitle": false,
     "tableResultSettingsMap": {},
     "title": ""
    }
   },
   "source": [
    "## Importing Libraries"
   ]
  },
  {
   "cell_type": "code",
   "execution_count": 0,
   "metadata": {
    "application/vnd.databricks.v1+cell": {
     "cellMetadata": {
      "byteLimit": 2048000,
      "rowLimit": 10000
     },
     "inputWidgets": {},
     "nuid": "2901fbc9-49db-4285-8b94-c460f34d4c4f",
     "showTitle": false,
     "tableResultSettingsMap": {},
     "title": ""
    }
   },
   "outputs": [],
   "source": [
    "from pyspark.sql.functions import *\n",
    "from pyspark.sql.types import *\n",
    "from pyspark.sql.window import Window"
   ]
  },
  {
   "cell_type": "markdown",
   "metadata": {
    "application/vnd.databricks.v1+cell": {
     "cellMetadata": {
      "byteLimit": 2048000,
      "rowLimit": 10000
     },
     "inputWidgets": {},
     "nuid": "655120e7-6b25-417c-a08a-c6925feaa425",
     "showTitle": false,
     "tableResultSettingsMap": {},
     "title": ""
    }
   },
   "source": [
    "**3401. Find Circular Gift Exchange Chains (Hard)**\n",
    "\n",
    "**Table: SecretSanta**\n",
    "\n",
    "| Column Name | Type |\n",
    "|-------------|------|\n",
    "| giver_id    | int  |\n",
    "| receiver_id | int  |\n",
    "| gift_value  | int  |\n",
    "\n",
    "(giver_id, receiver_id) is the unique key for this table.   \n",
    "Each row represents a record of a gift exchange between two employees, giver_id represents the employee who gives a gift, receiver_id represents the employee who receives the gift and gift_value represents the value of the gift given.  \n",
    "\n",
    "**Write a solution to find the total gift value and length of circular chains of Secret Santa gift exchanges:**\n",
    "\n",
    "A circular chain is defined as a series of exchanges where:\n",
    "- Each employee gives a gift to exactly one other employee.\n",
    "- Each employee receives a gift from exactly one other employee.\n",
    "- The exchanges form a continuous loop (e.g., employee A gives a gift to B, B gives to C, and C gives back to A).\n",
    "\n",
    "Return the result ordered by the chain length and total gift value of the chain in descending order. \n",
    "\n",
    "The result format is in the following example.\n",
    "\n",
    "**Example:**\n",
    "\n",
    "**Input:**\n",
    "\n",
    "**SecretSanta table:**\n",
    "\n",
    "| giver_id | receiver_id | gift_value |\n",
    "|----------|-------------|------------|\n",
    "| 1        | 2           | 20         |\n",
    "| 2        | 3           | 30         |\n",
    "| 3        | 1           | 40         |\n",
    "| 4        | 5           | 25         |\n",
    "| 5        | 4           | 35         |\n",
    "\n",
    "\n",
    "**Output:**\n",
    "\n",
    "| chain_id | chain_length | total_gift_value |\n",
    "|----------|--------------|------------------|\n",
    "| 1        | 3            | 90               |\n",
    "| 2        | 2            | 60               |\n",
    "\n",
    "**Explanation:**\n",
    "\n",
    "- Chain 1 involves employees 1, 2, and 3:\n",
    "  - Employee 1 gives a gift to 2, employee 2 gives a gift to 3, and employee 3 gives a gift to 1.\n",
    "  - Total gift value for this chain = 20 + 30 + 40 = 90.\n",
    "- Chain 2 involves employees 4 and 5:\n",
    "  - Employee 4 gives a gift to 5, and employee 5 gives a gift to 4.\n",
    "  - Total gift value for this chain = 25 + 35 = 60.\n",
    "\n",
    "The result table is ordered by the chain length and total gift value of the chain in descending order."
   ]
  },
  {
   "cell_type": "code",
   "execution_count": 0,
   "metadata": {
    "application/vnd.databricks.v1+cell": {
     "cellMetadata": {
      "byteLimit": 2048000,
      "rowLimit": 10000
     },
     "inputWidgets": {},
     "nuid": "a2368434-0191-416c-aa1d-12cd44cf48e6",
     "showTitle": false,
     "tableResultSettingsMap": {},
     "title": ""
    }
   },
   "outputs": [
    {
     "output_type": "stream",
     "name": "stdout",
     "output_type": "stream",
     "text": [
      "+--------+-----------+----------+\n|giver_id|receiver_id|gift_value|\n+--------+-----------+----------+\n|       1|          2|        20|\n|       2|          3|        30|\n|       3|          1|        40|\n|       4|          5|        25|\n|       5|          4|        35|\n+--------+-----------+----------+\n\n"
     ]
    }
   ],
   "source": [
    "secretsanta_data_3401 = [\n",
    "    (1, 2, 20),\n",
    "    (2, 3, 30),\n",
    "    (3, 1, 40),\n",
    "    (4, 5, 25),\n",
    "    (5, 4, 35)\n",
    "]\n",
    "\n",
    "secretsanta_columns_3401 = [\"giver_id\", \"receiver_id\", \"gift_value\"]\n",
    "secretsanta_df_3401 = spark.createDataFrame(secretsanta_data_3401, secretsanta_columns_3401)\n",
    "secretsanta_df_3401.show()"
   ]
  },
  {
   "cell_type": "code",
   "execution_count": 0,
   "metadata": {
    "application/vnd.databricks.v1+cell": {
     "cellMetadata": {
      "byteLimit": 2048000,
      "rowLimit": 10000
     },
     "inputWidgets": {},
     "nuid": "a5e18991-d8b8-4261-bb19-781cb5371fa9",
     "showTitle": false,
     "tableResultSettingsMap": {},
     "title": ""
    }
   },
   "outputs": [],
   "source": [
    "edges = {row[\"giver_id\"]: row[\"receiver_id\"] for row in secretsanta_df_3401.collect()}\n",
    "gift_values = {(row[\"giver_id\"], row[\"receiver_id\"]): row[\"gift_value\"] for row in secretsanta_df_3401.collect()}"
   ]
  },
  {
   "cell_type": "code",
   "execution_count": 0,
   "metadata": {
    "application/vnd.databricks.v1+cell": {
     "cellMetadata": {
      "byteLimit": 2048000,
      "rowLimit": 10000
     },
     "inputWidgets": {},
     "nuid": "b0aa07c6-062c-4c15-8c7b-cf48e7260b7b",
     "showTitle": false,
     "tableResultSettingsMap": {},
     "title": ""
    }
   },
   "outputs": [],
   "source": [
    "visited = set()\n",
    "chains = []\n",
    "\n",
    "for giver in edges:\n",
    "    if giver not in visited:\n",
    "        cycle = []\n",
    "        current = giver\n",
    "        total_value = 0\n",
    "        while current not in cycle:\n",
    "            cycle.append(current)\n",
    "            next_person = edges[current]\n",
    "            total_value += gift_values[(current, next_person)]\n",
    "            current = next_person\n",
    "\n",
    "        if current == cycle[0]:\n",
    "            visited.update(cycle)\n",
    "            chains.append((len(cycle), total_value))\n"
   ]
  },
  {
   "cell_type": "code",
   "execution_count": 0,
   "metadata": {
    "application/vnd.databricks.v1+cell": {
     "cellMetadata": {
      "byteLimit": 2048000,
      "rowLimit": 10000
     },
     "inputWidgets": {},
     "nuid": "0ede84bb-aaab-40df-ae15-61f3563a5fa6",
     "showTitle": false,
     "tableResultSettingsMap": {},
     "title": ""
    }
   },
   "outputs": [],
   "source": [
    "chains_df_3401 = spark.createDataFrame(\n",
    "    [(i+1, length, total) for i, (length, total) in enumerate(chains)],\n",
    "    [\"chain_id\", \"chain_length\", \"total_gift_value\"]\n",
    ")"
   ]
  },
  {
   "cell_type": "code",
   "execution_count": 0,
   "metadata": {
    "application/vnd.databricks.v1+cell": {
     "cellMetadata": {
      "byteLimit": 2048000,
      "rowLimit": 10000
     },
     "inputWidgets": {},
     "nuid": "70ad0a12-65c9-4513-902c-58a62bd8c0d2",
     "showTitle": false,
     "tableResultSettingsMap": {},
     "title": ""
    }
   },
   "outputs": [
    {
     "output_type": "display_data",
     "data": {
      "text/html": [
       "<style scoped>\n",
       "  .table-result-container {\n",
       "    max-height: 300px;\n",
       "    overflow: auto;\n",
       "  }\n",
       "  table, th, td {\n",
       "    border: 1px solid black;\n",
       "    border-collapse: collapse;\n",
       "  }\n",
       "  th, td {\n",
       "    padding: 5px;\n",
       "  }\n",
       "  th {\n",
       "    text-align: left;\n",
       "  }\n",
       "</style><div class='table-result-container'><table class='table-result'><thead style='background-color: white'><tr><th>chain_id</th><th>chain_length</th><th>total_gift_value</th></tr></thead><tbody><tr><td>1</td><td>3</td><td>90</td></tr><tr><td>2</td><td>2</td><td>60</td></tr></tbody></table></div>"
      ]
     },
     "metadata": {
      "application/vnd.databricks.v1+output": {
       "addedWidgets": {},
       "aggData": [],
       "aggError": "",
       "aggOverflow": false,
       "aggSchema": [],
       "aggSeriesLimitReached": false,
       "aggType": "",
       "arguments": {},
       "columnCustomDisplayInfos": {},
       "data": [
        [
         1,
         3,
         90
        ],
        [
         2,
         2,
         60
        ]
       ],
       "datasetInfos": [],
       "dbfsResultPath": null,
       "isJsonSchema": true,
       "metadata": {},
       "overflow": false,
       "plotOptions": {
        "customPlotOptions": {},
        "displayType": "table",
        "pivotAggregation": null,
        "pivotColumns": null,
        "xColumns": null,
        "yColumns": null
       },
       "removedWidgets": [],
       "schema": [
        {
         "metadata": "{}",
         "name": "chain_id",
         "type": "\"long\""
        },
        {
         "metadata": "{}",
         "name": "chain_length",
         "type": "\"long\""
        },
        {
         "metadata": "{}",
         "name": "total_gift_value",
         "type": "\"long\""
        }
       ],
       "type": "table"
      }
     },
     "output_type": "display_data"
    }
   ],
   "source": [
    "chains_df_3401\\\n",
    "    .orderBy(col(\"chain_length\").desc(), col(\"total_gift_value\").desc()).display()"
   ]
  }
 ],
 "metadata": {
  "application/vnd.databricks.v1+notebook": {
   "computePreferences": {
    "hardware": {
     "accelerator": null,
     "gpuPoolId": null,
     "memory": null
    }
   },
   "dashboards": [],
   "environmentMetadata": {
    "base_environment": "",
    "environment_version": "2"
   },
   "inputWidgetPreferences": null,
   "language": "python",
   "notebookMetadata": {
    "pythonIndentUnit": 4
   },
   "notebookName": "3401. Find Circular Gift Exchange Chains (Hard)-(Solved)",
   "widgets": {}
  },
  "language_info": {
   "name": "python"
  }
 },
 "nbformat": 4,
 "nbformat_minor": 0
}
