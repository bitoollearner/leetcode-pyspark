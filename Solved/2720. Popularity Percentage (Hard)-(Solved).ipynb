{
 "cells": [
  {
   "cell_type": "markdown",
   "metadata": {
    "application/vnd.databricks.v1+cell": {
     "cellMetadata": {
      "byteLimit": 2048000,
      "rowLimit": 10000
     },
     "inputWidgets": {},
     "nuid": "4e9d71b1-88e9-445c-820a-b842e217a4e7",
     "showTitle": false,
     "tableResultSettingsMap": {},
     "title": ""
    }
   },
   "source": [
    "## Importing Libraries"
   ]
  },
  {
   "cell_type": "code",
   "execution_count": 0,
   "metadata": {
    "application/vnd.databricks.v1+cell": {
     "cellMetadata": {
      "byteLimit": 2048000,
      "rowLimit": 10000
     },
     "inputWidgets": {},
     "nuid": "e6624c4d-8cb8-4ac4-8c72-81d1b4ecdb57",
     "showTitle": false,
     "tableResultSettingsMap": {},
     "title": ""
    }
   },
   "outputs": [],
   "source": [
    "from pyspark.sql.functions import *\n",
    "from pyspark.sql.types import *\n",
    "from pyspark.sql.window import Window"
   ]
  },
  {
   "cell_type": "markdown",
   "metadata": {
    "application/vnd.databricks.v1+cell": {
     "cellMetadata": {
      "byteLimit": 2048000,
      "rowLimit": 10000
     },
     "inputWidgets": {},
     "nuid": "c3788fe5-f4c9-420f-ad72-ec1a39310a2a",
     "showTitle": false,
     "tableResultSettingsMap": {},
     "title": ""
    }
   },
   "source": [
    "**2720. Popularity Percentage (Hard)**\n",
    "\n",
    "**Table: Friends**\n",
    "\n",
    "| Column Name | Type |\n",
    "|-------------|------|\n",
    "| user1       | int  |\n",
    "| user2       | int  |\n",
    "\n",
    "(user1, user2) is the primary key (combination of unique values) of this table.\n",
    "Each row contains information about friendship where user1 and user2 are friends.\n",
    "\n",
    "**Write a solution to find the popularity percentage for each user on Meta/Facebook. The popularity percentage is defined as the total number of friends the user has divided by the total number of users on the platform, then converted into a percentage by multiplying by 100, rounded to 2 decimal places.**\n",
    "\n",
    "Return the result table ordered by user1 in ascending order.\n",
    "\n",
    "The result format is in the following example.\n",
    "\n",
    "**Example 1:**\n",
    "\n",
    "**Input:** \n",
    "\n",
    "**Friends table:**\n",
    "\n",
    "| user1 | user2 | \n",
    "|-------|-------|\n",
    "| 2     | 1     | \n",
    "| 1     | 3     | \n",
    "| 4     | 1     | \n",
    "| 1     | 5     | \n",
    "| 1     | 6     |\n",
    "| 2     | 6     | \n",
    "| 7     | 2     | \n",
    "| 8     | 3     | \n",
    "| 3     | 9     |  \n",
    "\n",
    "**Output:** \n",
    "| user1 | percentage_popularity |\n",
    "|-------|-----------------------|\n",
    "| 1     | 55.56                 |\n",
    "| 2     | 33.33                 |\n",
    "| 3     | 33.33                 |\n",
    "| 4     | 11.11                 |\n",
    "| 5     | 11.11                 |\n",
    "| 6     | 22.22                 |\n",
    "| 7     | 11.11                 |\n",
    "| 8     | 11.11                 |\n",
    "| 9     | 11.11                 |\n",
    "\n",
    "**Explanation:** \n",
    "\n",
    "There are total 9 users on the platform.\n",
    "- User \"1\" has friendships with 2, 3, 4, 5 and 6. Therefore, the percentage popularity for user 1 would be calculated as (5/9) * 100 = 55.56.\n",
    "- User \"2\" has friendships with 1, 6 and 7. Therefore, the percentage popularity for user 2 would be calculated as (3/9) * 100 = 33.33.\n",
    "- User \"3\" has friendships with 1, 8 and 9. Therefore, the percentage popularity for user 3 would be calculated as (3/9) * 100 = 33.33.\n",
    "- User \"4\" has friendships with 1. Therefore, the percentage popularity for user 4 would be calculated as (1/9) * 100 = 11.11.\n",
    "- User \"5\" has friendships with 1. Therefore, the percentage popularity for user 5 would be calculated as (1/9) * 100 = 11.11.\n",
    "- User \"6\" has friendships with 1 and 2. Therefore, the percentage popularity for user 6 would be calculated as (2/9) * 100 = 22.22.\n",
    "- User \"7\" has friendships with 2. Therefore, the percentage popularity for user 7 would be calculated as (1/9) * 100 = 11.11.\n",
    "- User \"8\" has friendships with 3. Therefore, the percentage popularity for user 8 would be calculated as (1/9) * 100 = 11.11.\n",
    "- User \"9\" has friendships with 3. Therefore, the percentage popularity for user 9 would be calculated as (1/9) * 100 = 11.11.\n",
    "\n",
    "user1 is sorted in ascending order."
   ]
  },
  {
   "cell_type": "code",
   "execution_count": 0,
   "metadata": {
    "application/vnd.databricks.v1+cell": {
     "cellMetadata": {
      "byteLimit": 2048000,
      "rowLimit": 10000
     },
     "inputWidgets": {},
     "nuid": "137536ea-9bec-4171-8dc2-4bf8b0d771b4",
     "showTitle": false,
     "tableResultSettingsMap": {},
     "title": ""
    }
   },
   "outputs": [
    {
     "output_type": "stream",
     "name": "stdout",
     "output_type": "stream",
     "text": [
      "+-----+-----+\n|user1|user2|\n+-----+-----+\n|    2|    1|\n|    1|    3|\n|    4|    1|\n|    1|    5|\n|    1|    6|\n|    2|    6|\n|    7|    2|\n|    8|    3|\n|    3|    9|\n+-----+-----+\n\n"
     ]
    }
   ],
   "source": [
    "friends_data_2720 = [\n",
    "    (2, 1), (1, 3), (4, 1), (1, 5), (1, 6), \n",
    "    (2, 6), (7, 2), (8, 3), (3, 9)\n",
    "]\n",
    "\n",
    "friends_columns_2720 = [\"user1\", \"user2\"]\n",
    "friends_df_2720 = spark.createDataFrame(friends_data_2720, friends_columns_2720)\n",
    "friends_df_2720.show()\n"
   ]
  },
  {
   "cell_type": "code",
   "execution_count": 0,
   "metadata": {
    "application/vnd.databricks.v1+cell": {
     "cellMetadata": {
      "byteLimit": 2048000,
      "rowLimit": 10000
     },
     "inputWidgets": {},
     "nuid": "390d4a81-84c3-4ed6-86ac-47c9ff1df69a",
     "showTitle": false,
     "tableResultSettingsMap": {},
     "title": ""
    }
   },
   "outputs": [],
   "source": [
    "users_df_2720 = friends_df_2720.select(\"user1\")\\\n",
    "                            .union(\n",
    "                                friends_df_2720.select(col(\"user2\").alias(\"user1\"))\n",
    "                                ).distinct()"
   ]
  },
  {
   "cell_type": "code",
   "execution_count": 0,
   "metadata": {
    "application/vnd.databricks.v1+cell": {
     "cellMetadata": {
      "byteLimit": 2048000,
      "rowLimit": 10000
     },
     "inputWidgets": {},
     "nuid": "117683a5-eec4-4537-ad88-f4149342ec77",
     "showTitle": false,
     "tableResultSettingsMap": {},
     "title": ""
    }
   },
   "outputs": [],
   "source": [
    "friends_count_df_2720 = friends_df_2720\\\n",
    "                            .select(\"user1\", \"user2\") \\\n",
    "                                .union(\n",
    "                                    friends_df_2720.select(col(\"user2\").alias(\"user1\"), col(\"user1\").alias(\"user2\"))\n",
    "                                    ) \\\n",
    "                                        .groupBy(\"user1\") \\\n",
    "                                            .agg(countDistinct(\"user2\").alias(\"num_friends\"))"
   ]
  },
  {
   "cell_type": "code",
   "execution_count": 0,
   "metadata": {
    "application/vnd.databricks.v1+cell": {
     "cellMetadata": {
      "byteLimit": 2048000,
      "rowLimit": 10000
     },
     "inputWidgets": {},
     "nuid": "8497637a-500e-4363-b76e-72b2a67513d4",
     "showTitle": false,
     "tableResultSettingsMap": {},
     "title": ""
    }
   },
   "outputs": [],
   "source": [
    "total_users = users_df_2720.count()"
   ]
  },
  {
   "cell_type": "code",
   "execution_count": 0,
   "metadata": {
    "application/vnd.databricks.v1+cell": {
     "cellMetadata": {
      "byteLimit": 2048000,
      "rowLimit": 10000
     },
     "inputWidgets": {},
     "nuid": "74752cd3-0dfd-45fc-a908-d5190211b57b",
     "showTitle": false,
     "tableResultSettingsMap": {},
     "title": ""
    }
   },
   "outputs": [
    {
     "output_type": "display_data",
     "data": {
      "text/html": [
       "<style scoped>\n",
       "  .table-result-container {\n",
       "    max-height: 300px;\n",
       "    overflow: auto;\n",
       "  }\n",
       "  table, th, td {\n",
       "    border: 1px solid black;\n",
       "    border-collapse: collapse;\n",
       "  }\n",
       "  th, td {\n",
       "    padding: 5px;\n",
       "  }\n",
       "  th {\n",
       "    text-align: left;\n",
       "  }\n",
       "</style><div class='table-result-container'><table class='table-result'><thead style='background-color: white'><tr><th>user1</th><th>percentage_popularity</th></tr></thead><tbody><tr><td>1</td><td>55.56</td></tr><tr><td>2</td><td>33.33</td></tr><tr><td>3</td><td>33.33</td></tr><tr><td>4</td><td>11.11</td></tr><tr><td>5</td><td>11.11</td></tr><tr><td>6</td><td>22.22</td></tr><tr><td>7</td><td>11.11</td></tr><tr><td>8</td><td>11.11</td></tr><tr><td>9</td><td>11.11</td></tr></tbody></table></div>"
      ]
     },
     "metadata": {
      "application/vnd.databricks.v1+output": {
       "addedWidgets": {},
       "aggData": [],
       "aggError": "",
       "aggOverflow": false,
       "aggSchema": [],
       "aggSeriesLimitReached": false,
       "aggType": "",
       "arguments": {},
       "columnCustomDisplayInfos": {},
       "data": [
        [
         1,
         55.56
        ],
        [
         2,
         33.33
        ],
        [
         3,
         33.33
        ],
        [
         4,
         11.11
        ],
        [
         5,
         11.11
        ],
        [
         6,
         22.22
        ],
        [
         7,
         11.11
        ],
        [
         8,
         11.11
        ],
        [
         9,
         11.11
        ]
       ],
       "datasetInfos": [],
       "dbfsResultPath": null,
       "isJsonSchema": true,
       "metadata": {},
       "overflow": false,
       "plotOptions": {
        "customPlotOptions": {},
        "displayType": "table",
        "pivotAggregation": null,
        "pivotColumns": null,
        "xColumns": null,
        "yColumns": null
       },
       "removedWidgets": [],
       "schema": [
        {
         "metadata": "{}",
         "name": "user1",
         "type": "\"long\""
        },
        {
         "metadata": "{}",
         "name": "percentage_popularity",
         "type": "\"double\""
        }
       ],
       "type": "table"
      }
     },
     "output_type": "display_data"
    }
   ],
   "source": [
    "friends_count_df_2720\\\n",
    "    .withColumn(\n",
    "        \"percentage_popularity\",\n",
    "        round((col(\"num_friends\") / total_users) * 100, 2))\\\n",
    "            .select(\"user1\", \"percentage_popularity\").orderBy(\"user1\").display()"
   ]
  }
 ],
 "metadata": {
  "application/vnd.databricks.v1+notebook": {
   "computePreferences": {
    "hardware": {
     "accelerator": null,
     "gpuPoolId": null,
     "memory": null
    }
   },
   "dashboards": [],
   "environmentMetadata": {
    "base_environment": "",
    "environment_version": "2"
   },
   "inputWidgetPreferences": null,
   "language": "python",
   "notebookMetadata": {
    "pythonIndentUnit": 4
   },
   "notebookName": "2720. Popularity Percentage (Hard)-(Solved)",
   "widgets": {}
  },
  "language_info": {
   "name": "python"
  }
 },
 "nbformat": 4,
 "nbformat_minor": 0
}
