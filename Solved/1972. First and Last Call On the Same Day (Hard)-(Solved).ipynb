{
 "cells": [
  {
   "cell_type": "markdown",
   "metadata": {
    "application/vnd.databricks.v1+cell": {
     "cellMetadata": {
      "byteLimit": 2048000,
      "rowLimit": 10000
     },
     "inputWidgets": {},
     "nuid": "e405a61e-83e0-4a83-8234-4a55e28c9c87",
     "showTitle": false,
     "tableResultSettingsMap": {},
     "title": ""
    }
   },
   "source": [
    "## Importing Libraries"
   ]
  },
  {
   "cell_type": "code",
   "execution_count": 0,
   "metadata": {
    "application/vnd.databricks.v1+cell": {
     "cellMetadata": {
      "byteLimit": 2048000,
      "rowLimit": 10000
     },
     "inputWidgets": {},
     "nuid": "bb35cd35-f82a-443f-90d7-d161591cdb61",
     "showTitle": false,
     "tableResultSettingsMap": {},
     "title": ""
    }
   },
   "outputs": [],
   "source": [
    "from pyspark.sql.functions import *\n",
    "from pyspark.sql.types import *\n",
    "from pyspark.sql.window import Window"
   ]
  },
  {
   "cell_type": "markdown",
   "metadata": {
    "application/vnd.databricks.v1+cell": {
     "cellMetadata": {
      "byteLimit": 2048000,
      "rowLimit": 10000
     },
     "inputWidgets": {},
     "nuid": "29ed3054-4879-4c88-8f36-f775ffecdfe0",
     "showTitle": false,
     "tableResultSettingsMap": {},
     "title": ""
    }
   },
   "source": [
    "**1972. First and Last Call On the Same Day (Hard)**\n",
    "\n",
    "**Table: Calls**\n",
    "\n",
    "| Column Name  | Type     |\n",
    "|--------------|----------|\n",
    "| caller_id    | int      |\n",
    "| recipient_id | int      |\n",
    "| call_time    | datetime |\n",
    "\n",
    "(caller_id, recipient_id, call_time) is the primary key (combination of columns with unique values) for this table.\n",
    "Each row contains information about the time of a phone call between caller_id and recipient_id.\n",
    " \n",
    "**Write a solution to report the IDs of the users whose first and last calls on any day were with the same person. Calls are counted regardless of being the caller or the recipient.**\n",
    "\n",
    "Return the result table in any order.\n",
    "\n",
    "The result format is in the following example.\n",
    "\n",
    "**Example 1:**\n",
    "\n",
    "**Input:** \n",
    "\n",
    "**Calls table:**\n",
    "\n",
    "| caller_id | recipient_id | call_time           |\n",
    "|-----------|--------------|---------------------|\n",
    "| 8         | 4            | 2021-08-24 17:46:07 |\n",
    "| 4         | 8            | 2021-08-24 19:57:13 |\n",
    "| 5         | 1            | 2021-08-11 05:28:44 |\n",
    "| 8         | 3            | 2021-08-17 04:04:15 |\n",
    "| 11        | 3            | 2021-08-17 13:07:00 |\n",
    "| 8         | 11           | 2021-08-17 22:22:22 |\n",
    "\n",
    "**Output:** \n",
    "| user_id |\n",
    "|---------|\n",
    "| 1       |\n",
    "| 4       |\n",
    "| 5       |\n",
    "| 8       |\n",
    "\n",
    "**Explanation:** \n",
    "On 2021-08-24, the first and last call of this day for user 8 was with user 4. User 8 should be included in the answer.\n",
    "Similarly, user 4 on 2021-08-24 had their first and last call with user 8. User 4 should be included in the answer.\n",
    "On 2021-08-11, user 1 and 5 had a call. This call was the only call for both of them on this day. Since this call is the first and last call of the day for both of them, they should both be included in the answer."
   ]
  },
  {
   "cell_type": "code",
   "execution_count": 0,
   "metadata": {
    "application/vnd.databricks.v1+cell": {
     "cellMetadata": {
      "byteLimit": 2048000,
      "rowLimit": 10000
     },
     "inputWidgets": {},
     "nuid": "64a3f754-3c0a-4ca1-af02-4d6f736ea2e9",
     "showTitle": false,
     "tableResultSettingsMap": {},
     "title": ""
    }
   },
   "outputs": [
    {
     "output_type": "stream",
     "name": "stdout",
     "output_type": "stream",
     "text": [
      "+---------+------------+-------------------+\n|caller_id|recipient_id|          call_time|\n+---------+------------+-------------------+\n|        8|           4|2021-08-24 17:46:07|\n|        4|           8|2021-08-24 19:57:13|\n|        5|           1|2021-08-11 05:28:44|\n|        8|           3|2021-08-17 04:04:15|\n|       11|           3|2021-08-17 13:07:00|\n|        8|          11|2021-08-17 22:22:22|\n+---------+------------+-------------------+\n\n"
     ]
    }
   ],
   "source": [
    "calls_data_1972 = [\n",
    "    (8, 4, \"2021-08-24 17:46:07\"),\n",
    "    (4, 8, \"2021-08-24 19:57:13\"),\n",
    "    (5, 1, \"2021-08-11 05:28:44\"),\n",
    "    (8, 3, \"2021-08-17 04:04:15\"),\n",
    "    (11, 3, \"2021-08-17 13:07:00\"),\n",
    "    (8, 11, \"2021-08-17 22:22:22\"),\n",
    "]\n",
    "\n",
    "calls_columns_1972 = [\"caller_id\", \"recipient_id\", \"call_time\"]\n",
    "calls_df_1972 = spark.createDataFrame(calls_data_1972, calls_columns_1972)\n",
    "calls_df_1972.show()"
   ]
  },
  {
   "cell_type": "code",
   "execution_count": 0,
   "metadata": {
    "application/vnd.databricks.v1+cell": {
     "cellMetadata": {
      "byteLimit": 2048000,
      "rowLimit": 10000
     },
     "inputWidgets": {},
     "nuid": "cd61061b-a289-4582-b3f9-8bd3ecdbfeaf",
     "showTitle": false,
     "tableResultSettingsMap": {},
     "title": ""
    }
   },
   "outputs": [],
   "source": [
    "calls_normalized_df_1972 = calls_df_1972\\\n",
    "                                .select(\n",
    "                                    col(\"caller_id\").alias(\"user_id\"),\n",
    "                                    col(\"recipient_id\").alias(\"other_id\"),\"call_time\"\n",
    "                                    )\\\n",
    "                            .union(calls_df_1972\\\n",
    "                                .select(\n",
    "                                    col(\"recipient_id\").alias(\"user_id\"),\n",
    "                                    col(\"caller_id\").alias(\"other_id\"),\"call_time\")\n",
    "                                )\\\n",
    "                                    .withColumn(\"call_date\", to_date(\"call_time\"))"
   ]
  },
  {
   "cell_type": "code",
   "execution_count": 0,
   "metadata": {
    "application/vnd.databricks.v1+cell": {
     "cellMetadata": {
      "byteLimit": 2048000,
      "rowLimit": 10000
     },
     "inputWidgets": {},
     "nuid": "c7eddc3a-9b5e-4eee-904c-41880bf05fb8",
     "showTitle": false,
     "tableResultSettingsMap": {},
     "title": ""
    }
   },
   "outputs": [],
   "source": [
    "windowSpec = Window.partitionBy(\"user_id\", \"call_date\").orderBy(\"call_time\")\\\n",
    "                .rowsBetween(Window.unboundedPreceding, Window.unboundedFollowing)"
   ]
  },
  {
   "cell_type": "code",
   "execution_count": 0,
   "metadata": {
    "application/vnd.databricks.v1+cell": {
     "cellMetadata": {
      "byteLimit": 2048000,
      "rowLimit": 10000
     },
     "inputWidgets": {},
     "nuid": "58a3acfd-d6fe-499a-a974-4308f574f057",
     "showTitle": false,
     "tableResultSettingsMap": {},
     "title": ""
    }
   },
   "outputs": [],
   "source": [
    "calls_with_ranks_df_1972 = calls_normalized_df_1972\\\n",
    "                                .withColumn(\"first_other\", first(\"other_id\").over(windowSpec))\\\n",
    "                                    .withColumn(\"last_other\", last(\"other_id\").over(windowSpec))"
   ]
  },
  {
   "cell_type": "code",
   "execution_count": 0,
   "metadata": {
    "application/vnd.databricks.v1+cell": {
     "cellMetadata": {
      "byteLimit": 2048000,
      "rowLimit": 10000
     },
     "inputWidgets": {},
     "nuid": "add815a5-2b9c-4550-a7f5-4e392e300242",
     "showTitle": false,
     "tableResultSettingsMap": {},
     "title": ""
    }
   },
   "outputs": [
    {
     "output_type": "stream",
     "name": "stdout",
     "output_type": "stream",
     "text": [
      "+-------+\n|user_id|\n+-------+\n|      8|\n|      1|\n|      5|\n|      4|\n+-------+\n\n"
     ]
    }
   ],
   "source": [
    "calls_with_ranks_df_1972\\\n",
    "    .filter(col(\"first_other\") == col(\"last_other\"))\\\n",
    "        .select(\"user_id\")\\\n",
    "            .distinct().show()"
   ]
  }
 ],
 "metadata": {
  "application/vnd.databricks.v1+notebook": {
   "computePreferences": {
    "hardware": {
     "accelerator": null,
     "gpuPoolId": null,
     "memory": null
    }
   },
   "dashboards": [],
   "environmentMetadata": {
    "base_environment": "",
    "environment_version": "2"
   },
   "inputWidgetPreferences": null,
   "language": "python",
   "notebookMetadata": {
    "pythonIndentUnit": 4
   },
   "notebookName": "1972. First and Last Call On the Same Day (Hard)-(Solved)",
   "widgets": {}
  },
  "language_info": {
   "name": "python"
  }
 },
 "nbformat": 4,
 "nbformat_minor": 0
}
