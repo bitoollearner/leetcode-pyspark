{
 "cells": [
  {
   "cell_type": "markdown",
   "metadata": {
    "application/vnd.databricks.v1+cell": {
     "cellMetadata": {
      "byteLimit": 2048000,
      "rowLimit": 10000
     },
     "inputWidgets": {},
     "nuid": "516a210c-988a-43a8-9004-cb03ad7c2481",
     "showTitle": false,
     "tableResultSettingsMap": {},
     "title": ""
    }
   },
   "source": [
    "## Importing Libraries"
   ]
  },
  {
   "cell_type": "code",
   "execution_count": 0,
   "metadata": {
    "application/vnd.databricks.v1+cell": {
     "cellMetadata": {
      "byteLimit": 2048000,
      "rowLimit": 10000
     },
     "inputWidgets": {},
     "nuid": "9333a394-5bb0-4f1f-8f10-60b56c9fb68e",
     "showTitle": false,
     "tableResultSettingsMap": {},
     "title": ""
    }
   },
   "outputs": [],
   "source": [
    "from pyspark.sql.functions import *\n",
    "from pyspark.sql.types import *\n",
    "from pyspark.sql.window import Window"
   ]
  },
  {
   "cell_type": "markdown",
   "metadata": {
    "application/vnd.databricks.v1+cell": {
     "cellMetadata": {
      "byteLimit": 2048000,
      "rowLimit": 10000
     },
     "inputWidgets": {},
     "nuid": "b718c875-1030-4207-a68c-5fad8635212a",
     "showTitle": false,
     "tableResultSettingsMap": {},
     "title": ""
    }
   },
   "source": [
    "**1303. Find the Team Size (Easy)**\n",
    "\n",
    "**Table: Employee**\n",
    "\n",
    "| Column Name   | Type    |\n",
    "|---------------|---------|\n",
    "| employee_id   | int     |\n",
    "| team_id       | int     |\n",
    "\n",
    "employee_id is the primary key (column with unique values) for this table.\n",
    "Each row of this table contains the ID of each employee and their respective team.\n",
    " \n",
    "**Write a solution to find the team size of each of the employees.**\n",
    "\n",
    "Return the result table in any order.\n",
    "\n",
    "The result format is in the following example.\n",
    "\n",
    "**Example 1:**\n",
    "\n",
    "**Input:** \n",
    "\n",
    "**Employee Table:**\n",
    "\n",
    "| employee_id | team_id    |\n",
    "|-------------|------------|\n",
    "|     1       |     8      |\n",
    "|     2       |     8      |\n",
    "|     3       |     8      |\n",
    "|     4       |     7      |\n",
    "|     5       |     9      |\n",
    "|     6       |     9      |\n",
    "\n",
    "**Output:** \n",
    "| employee_id | team_size  |\n",
    "|-------------|------------|\n",
    "|     1       |     3      |\n",
    "|     2       |     3      |\n",
    "|     3       |     3      |\n",
    "|     4       |     1      |\n",
    "|     5       |     2      |\n",
    "|     6       |     2      |\n",
    "\n",
    "**Explanation:** \n",
    "- Employees with Id 1,2,3 are part of a team with team_id = 8.\n",
    "- Employee with Id 4 is part of a team with team_id = 7.\n",
    "- Employees with Id 5,6 are part of a team with team_id = 9."
   ]
  },
  {
   "cell_type": "code",
   "execution_count": 0,
   "metadata": {
    "application/vnd.databricks.v1+cell": {
     "cellMetadata": {
      "byteLimit": 2048000,
      "rowLimit": 10000
     },
     "inputWidgets": {},
     "nuid": "01e4d778-a8a5-48a7-8ebb-7033f0b84d62",
     "showTitle": false,
     "tableResultSettingsMap": {},
     "title": ""
    }
   },
   "outputs": [
    {
     "output_type": "stream",
     "name": "stdout",
     "output_type": "stream",
     "text": [
      "+-----------+-------+\n|employee_id|team_id|\n+-----------+-------+\n|          1|      8|\n|          2|      8|\n|          3|      8|\n|          4|      7|\n|          5|      9|\n|          6|      9|\n+-----------+-------+\n\n"
     ]
    }
   ],
   "source": [
    "employee_data_1303 = [\n",
    "    (1, 8),\n",
    "    (2, 8),\n",
    "    (3, 8),\n",
    "    (4, 7),\n",
    "    (5, 9),\n",
    "    (6, 9)\n",
    "]\n",
    "employee_columns_1303 = [\"employee_id\", \"team_id\"]\n",
    "employee_df_1303 = spark.createDataFrame(employee_data_1303, employee_columns_1303)\n",
    "employee_df_1303.show()"
   ]
  },
  {
   "cell_type": "code",
   "execution_count": 0,
   "metadata": {
    "application/vnd.databricks.v1+cell": {
     "cellMetadata": {
      "byteLimit": 2048000,
      "rowLimit": 10000
     },
     "inputWidgets": {},
     "nuid": "ad8a4850-cc5c-4e86-bf0f-a224dc87dd69",
     "showTitle": false,
     "tableResultSettingsMap": {},
     "title": ""
    }
   },
   "outputs": [],
   "source": [
    "team_sizes_df_1303 = employee_df_1303\\\n",
    "                    .groupBy(\"team_id\") \\\n",
    "                        .agg(count(\"employee_id\").alias(\"team_size\"))"
   ]
  },
  {
   "cell_type": "code",
   "execution_count": 0,
   "metadata": {
    "application/vnd.databricks.v1+cell": {
     "cellMetadata": {
      "byteLimit": 2048000,
      "rowLimit": 10000
     },
     "inputWidgets": {},
     "nuid": "0a7a810b-031a-4b88-8c8c-d2cff62e8273",
     "showTitle": false,
     "tableResultSettingsMap": {},
     "title": ""
    }
   },
   "outputs": [
    {
     "output_type": "stream",
     "name": "stdout",
     "output_type": "stream",
     "text": [
      "+-----------+---------+\n|employee_id|team_size|\n+-----------+---------+\n|          3|        3|\n|          4|        1|\n|          6|        2|\n|          2|        3|\n|          5|        2|\n|          1|        3|\n+-----------+---------+\n\n"
     ]
    }
   ],
   "source": [
    "employee_df_1303\\\n",
    "    .join(team_sizes_df_1303, on=\"team_id\", how=\"inner\") \\\n",
    "    .select(\"employee_id\", \"team_size\").show()"
   ]
  }
 ],
 "metadata": {
  "application/vnd.databricks.v1+notebook": {
   "computePreferences": {
    "hardware": {
     "accelerator": null,
     "gpuPoolId": null,
     "memory": null
    }
   },
   "dashboards": [],
   "environmentMetadata": {
    "base_environment": "",
    "environment_version": "2"
   },
   "inputWidgetPreferences": null,
   "language": "python",
   "notebookMetadata": {
    "pythonIndentUnit": 4
   },
   "notebookName": "1303. Find the Team Size (Easy)-(Solved)",
   "widgets": {}
  },
  "language_info": {
   "name": "python"
  }
 },
 "nbformat": 4,
 "nbformat_minor": 0
}
