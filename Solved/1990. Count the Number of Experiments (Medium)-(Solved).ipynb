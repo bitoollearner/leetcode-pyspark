{
 "cells": [
  {
   "cell_type": "markdown",
   "metadata": {
    "application/vnd.databricks.v1+cell": {
     "cellMetadata": {
      "byteLimit": 2048000,
      "rowLimit": 10000
     },
     "inputWidgets": {},
     "nuid": "e405a61e-83e0-4a83-8234-4a55e28c9c87",
     "showTitle": false,
     "tableResultSettingsMap": {},
     "title": ""
    }
   },
   "source": [
    "## Importing Libraries"
   ]
  },
  {
   "cell_type": "code",
   "execution_count": 0,
   "metadata": {
    "application/vnd.databricks.v1+cell": {
     "cellMetadata": {
      "byteLimit": 2048000,
      "rowLimit": 10000
     },
     "inputWidgets": {},
     "nuid": "bb35cd35-f82a-443f-90d7-d161591cdb61",
     "showTitle": false,
     "tableResultSettingsMap": {},
     "title": ""
    }
   },
   "outputs": [],
   "source": [
    "from pyspark.sql.functions import *\n",
    "from pyspark.sql.types import *\n",
    "from pyspark.sql.window import Window"
   ]
  },
  {
   "cell_type": "markdown",
   "metadata": {
    "application/vnd.databricks.v1+cell": {
     "cellMetadata": {
      "byteLimit": 2048000,
      "rowLimit": 10000
     },
     "inputWidgets": {},
     "nuid": "29ed3054-4879-4c88-8f36-f775ffecdfe0",
     "showTitle": false,
     "tableResultSettingsMap": {},
     "title": ""
    }
   },
   "source": [
    "**1990. Count the Number of Experiments (Medium)**\n",
    "\n",
    "**Table: Experiments**\n",
    "\n",
    "| Column Name     | Type |\n",
    "|-----------------|------|\n",
    "| experiment_id   | int  |\n",
    "| platform        | enum |\n",
    "| experiment_name | enum |\n",
    "\n",
    "experiment_id is the column with unique values for this table.\n",
    "platform is an enum (category) type of values ('Android', 'IOS', 'Web').\n",
    "experiment_name is an enum (category) type of values ('Reading', 'Sports', 'Programming').\n",
    "This table contains information about the ID of an experiment done with a random person, the platform used to do the experiment, and the name of the experiment.\n",
    " \n",
    "**Write a solution to report the number of experiments done on each of the three platforms for each of the three given experiments. Notice that all the pairs of (platform, experiment) should be included in the output including the pairs with zero experiments.**\n",
    "\n",
    "Return the result table in any order.\n",
    "\n",
    "The result format is in the following example.\n",
    "\n",
    "**Example 1:**\n",
    "\n",
    "**Input:**\n",
    "\n",
    "**Experiments table:**\n",
    "\n",
    "| experiment_id | platform | experiment_name |\n",
    "|---------------|----------|-----------------|\n",
    "| 4             | IOS      | Programming     |\n",
    "| 13            | IOS      | Sports          |\n",
    "| 14            | Android  | Reading         |\n",
    "| 8             | Web      | Reading         |\n",
    "| 12            | Web      | Reading         |\n",
    "| 18            | Web      | Programming     |\n",
    "\n",
    "**Output:** \n",
    "| platform | experiment_name | num_experiments |\n",
    "|----------|-----------------|-----------------|\n",
    "| Android  | Reading         | 1               |\n",
    "| Android  | Sports          | 0               |\n",
    "| Android  | Programming     | 0               |\n",
    "| IOS      | Reading         | 0               |\n",
    "| IOS      | Sports          | 1               |\n",
    "| IOS      | Programming     | 1               |\n",
    "| Web      | Reading         | 2               |\n",
    "| Web      | Sports          | 0               |\n",
    "| Web      | Programming     | 1               |\n",
    "\n",
    "**Explanation:** \n",
    "- On the platform \"Android\", we had only one \"Reading\" experiment.\n",
    "- On the platform \"IOS\", we had one \"Sports\" experiment and one \"Programming\" experiment.\n",
    "- On the platform \"Web\", we had two \"Reading\" experiments and one \"Programming\" experiment."
   ]
  },
  {
   "cell_type": "code",
   "execution_count": 0,
   "metadata": {
    "application/vnd.databricks.v1+cell": {
     "cellMetadata": {
      "byteLimit": 2048000,
      "rowLimit": 10000
     },
     "inputWidgets": {},
     "nuid": "64a3f754-3c0a-4ca1-af02-4d6f736ea2e9",
     "showTitle": false,
     "tableResultSettingsMap": {},
     "title": ""
    }
   },
   "outputs": [
    {
     "output_type": "stream",
     "name": "stdout",
     "output_type": "stream",
     "text": [
      "+-------------+--------+---------------+\n|experiment_id|platform|experiment_name|\n+-------------+--------+---------------+\n|            4|     IOS|    Programming|\n|           13|     IOS|         Sports|\n|           14| Android|        Reading|\n|            8|     Web|        Reading|\n|           12|     Web|        Reading|\n|           18|     Web|    Programming|\n+-------------+--------+---------------+\n\n"
     ]
    }
   ],
   "source": [
    "experiments_data_1990 = [\n",
    "    (4, \"IOS\", \"Programming\"),\n",
    "    (13, \"IOS\", \"Sports\"),\n",
    "    (14, \"Android\", \"Reading\"),\n",
    "    (8, \"Web\", \"Reading\"),\n",
    "    (12, \"Web\", \"Reading\"),\n",
    "    (18, \"Web\", \"Programming\"),\n",
    "]\n",
    "\n",
    "experiments_columns_1990 = [\"experiment_id\", \"platform\", \"experiment_name\"]\n",
    "experiments_df_1990 = spark.createDataFrame(experiments_data_1990, experiments_columns_1990)\n",
    "experiments_df_1990.show()\n"
   ]
  },
  {
   "cell_type": "code",
   "execution_count": 0,
   "metadata": {
    "application/vnd.databricks.v1+cell": {
     "cellMetadata": {
      "byteLimit": 2048000,
      "rowLimit": 10000
     },
     "inputWidgets": {},
     "nuid": "19ed123f-db98-4f73-9d35-fdf91afcbf52",
     "showTitle": false,
     "tableResultSettingsMap": {},
     "title": ""
    }
   },
   "outputs": [],
   "source": [
    "platforms_df_1990 = experiments_df_1990.select(\"platform\").distinct()"
   ]
  },
  {
   "cell_type": "code",
   "execution_count": 0,
   "metadata": {
    "application/vnd.databricks.v1+cell": {
     "cellMetadata": {
      "byteLimit": 2048000,
      "rowLimit": 10000
     },
     "inputWidgets": {},
     "nuid": "f13776e5-f270-4185-99e7-ea135b0972f4",
     "showTitle": false,
     "tableResultSettingsMap": {},
     "title": ""
    }
   },
   "outputs": [],
   "source": [
    "experiments_name_df_1990 = experiments_df_1990.select(\"experiment_name\").distinct()"
   ]
  },
  {
   "cell_type": "code",
   "execution_count": 0,
   "metadata": {
    "application/vnd.databricks.v1+cell": {
     "cellMetadata": {
      "byteLimit": 2048000,
      "rowLimit": 10000
     },
     "inputWidgets": {},
     "nuid": "3faff4b1-c637-4f46-81d9-4c16c0624d9c",
     "showTitle": false,
     "tableResultSettingsMap": {},
     "title": ""
    }
   },
   "outputs": [],
   "source": [
    "all_combinations_1990 = platforms_df_1990.crossJoin(experiments_name_df_1990)"
   ]
  },
  {
   "cell_type": "code",
   "execution_count": 0,
   "metadata": {
    "application/vnd.databricks.v1+cell": {
     "cellMetadata": {
      "byteLimit": 2048000,
      "rowLimit": 10000
     },
     "inputWidgets": {},
     "nuid": "9440f0f6-709e-455e-a64e-6c1e6a1ac5f3",
     "showTitle": false,
     "tableResultSettingsMap": {},
     "title": ""
    }
   },
   "outputs": [],
   "source": [
    "counts_df_1990 = experiments_df_1990\\\n",
    "                        .groupBy(\"platform\", \"experiment_name\") \\\n",
    "                            .count() \\\n",
    "                                .withColumnRenamed(\"count\", \"num_experiments\")"
   ]
  },
  {
   "cell_type": "code",
   "execution_count": 0,
   "metadata": {
    "application/vnd.databricks.v1+cell": {
     "cellMetadata": {
      "byteLimit": 2048000,
      "rowLimit": 10000
     },
     "inputWidgets": {},
     "nuid": "3e5da8c4-a7f6-46e2-a03e-0cece1a8724f",
     "showTitle": false,
     "tableResultSettingsMap": {},
     "title": ""
    }
   },
   "outputs": [
    {
     "output_type": "stream",
     "name": "stdout",
     "output_type": "stream",
     "text": [
      "+--------+---------------+---------------+\n|platform|experiment_name|num_experiments|\n+--------+---------------+---------------+\n|     IOS|    Programming|              1|\n| Android|         Sports|              0|\n|     Web|        Reading|              2|\n| Android|    Programming|              0|\n|     Web|         Sports|              0|\n|     IOS|        Reading|              0|\n|     Web|    Programming|              1|\n|     IOS|         Sports|              1|\n| Android|        Reading|              1|\n+--------+---------------+---------------+\n\n"
     ]
    }
   ],
   "source": [
    "all_combinations_1990\\\n",
    "    .join(counts_df_1990, on=[\"platform\", \"experiment_name\"], how=\"left\") \\\n",
    "        .fillna(0, subset=[\"num_experiments\"]).show()"
   ]
  }
 ],
 "metadata": {
  "application/vnd.databricks.v1+notebook": {
   "computePreferences": {
    "hardware": {
     "accelerator": null,
     "gpuPoolId": null,
     "memory": null
    }
   },
   "dashboards": [],
   "environmentMetadata": {
    "base_environment": "",
    "environment_version": "2"
   },
   "inputWidgetPreferences": null,
   "language": "python",
   "notebookMetadata": {
    "pythonIndentUnit": 4
   },
   "notebookName": "1990. Count the Number of Experiments (Medium)-(Solved)",
   "widgets": {}
  },
  "language_info": {
   "name": "python"
  }
 },
 "nbformat": 4,
 "nbformat_minor": 0
}
