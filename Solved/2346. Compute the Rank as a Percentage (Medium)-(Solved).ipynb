{
 "cells": [
  {
   "cell_type": "markdown",
   "metadata": {
    "application/vnd.databricks.v1+cell": {
     "cellMetadata": {},
     "inputWidgets": {},
     "nuid": "4e9d71b1-88e9-445c-820a-b842e217a4e7",
     "showTitle": false,
     "tableResultSettingsMap": {},
     "title": ""
    }
   },
   "source": [
    "## Importing Libraries"
   ]
  },
  {
   "cell_type": "code",
   "execution_count": 0,
   "metadata": {
    "application/vnd.databricks.v1+cell": {
     "cellMetadata": {},
     "inputWidgets": {},
     "nuid": "e6624c4d-8cb8-4ac4-8c72-81d1b4ecdb57",
     "showTitle": false,
     "tableResultSettingsMap": {},
     "title": ""
    }
   },
   "outputs": [],
   "source": [
    "from pyspark.sql.functions import *\n",
    "from pyspark.sql.types import *\n",
    "from pyspark.sql.window import Window"
   ]
  },
  {
   "cell_type": "markdown",
   "metadata": {
    "application/vnd.databricks.v1+cell": {
     "cellMetadata": {},
     "inputWidgets": {},
     "nuid": "c3788fe5-f4c9-420f-ad72-ec1a39310a2a",
     "showTitle": false,
     "tableResultSettingsMap": {},
     "title": ""
    }
   },
   "source": [
    "**2346. Compute the Rank as a Percentage (Medium)**\n",
    "\n",
    "**Table: Students**\n",
    "\n",
    "| Column Name   | Type |\n",
    "|---------------|------|\n",
    "| student_id    | int  |\n",
    "| department_id | int  |\n",
    "| mark          | int  |\n",
    "\n",
    "student_id contains unique values.\n",
    "Each row of this table indicates a student's ID, the ID of the department in which the student enrolled, and their mark in the exam.\n",
    " \n",
    "**Write a solution to report the rank of each student in their department as a percentage, where the rank as a percentage is computed using the following formula: (student_rank_in_the_department - 1) * 100 / (the_number_of_students_in_the_department - 1). The percentage should be rounded to 2 decimal places. student_rank_in_the_department is determined by descending mark, such that the student with the highest mark is rank 1. If two students get the same mark, they also get the same rank.**\n",
    "\n",
    "Return the result table in any order.\n",
    "\n",
    "The result format is in the following example.\n",
    "\n",
    "**Example 1:**\n",
    "\n",
    "**Input:** \n",
    "\n",
    "**Students table:**\n",
    "\n",
    "| student_id | department_id | mark |\n",
    "|------------|---------------|------|\n",
    "| 2          | 2             | 650  |\n",
    "| 8          | 2             | 650  |\n",
    "| 7          | 1             | 920  |\n",
    "| 1          | 1             | 610  |\n",
    "| 3          | 1             | 530  |\n",
    "\n",
    "**Output:** \n",
    "| student_id | department_id | percentage |\n",
    "|------------|---------------|------------|\n",
    "| 7          | 1             | 0.0        |\n",
    "| 1          | 1             | 50.0       |\n",
    "| 3          | 1             | 100.0      |\n",
    "| 2          | 2             | 0.0        |\n",
    "| 8          | 2             | 0.0        |\n",
    "\n",
    "**Explanation:** \n",
    "- For Department 1:\n",
    "  - Student 7: percentage = (1 - 1) * 100 / (3 - 1) = 0.0\n",
    "  - Student 1: percentage = (2 - 1) * 100 / (3 - 1) = 50.0\n",
    "  - Student 3: percentage = (3 - 1) * 100 / (3 - 1) = 100.0\n",
    "- For Department 2:\n",
    "  - Student 2: percentage = (1 - 1) * 100 / (2 - 1) = 0.0\n",
    "  - Student 8: percentage = (1 - 1) * 100 / (2 - 1) = 0.0"
   ]
  },
  {
   "cell_type": "code",
   "execution_count": 0,
   "metadata": {
    "application/vnd.databricks.v1+cell": {
     "cellMetadata": {},
     "inputWidgets": {},
     "nuid": "137536ea-9bec-4171-8dc2-4bf8b0d771b4",
     "showTitle": false,
     "tableResultSettingsMap": {},
     "title": ""
    }
   },
   "outputs": [],
   "source": [
    "students_data_2346 = [\n",
    "    (2, 2, 650),\n",
    "    (8, 2, 650),\n",
    "    (7, 1, 920),\n",
    "    (1, 1, 610),\n",
    "    (3, 1, 530),\n",
    "]\n",
    "\n",
    "students_columns_2346 = [\"student_id\", \"department_id\", \"mark\"]\n",
    "students_df_2346 = spark.createDataFrame(students_data_2346, students_columns_2346)\n",
    "students_df_2346.show()\n"
   ]
  }
 ],
 "metadata": {
  "application/vnd.databricks.v1+notebook": {
   "computePreferences": null,
   "dashboards": [],
   "environmentMetadata": {
    "base_environment": "",
    "environment_version": "1"
   },
   "inputWidgetPreferences": null,
   "language": "python",
   "notebookMetadata": {
    "pythonIndentUnit": 4
   },
   "notebookName": "2346. Compute the Rank as a Percentage (Medium)-(Solved)",
   "widgets": {}
  },
  "language_info": {
   "name": "python"
  }
 },
 "nbformat": 4,
 "nbformat_minor": 0
}
