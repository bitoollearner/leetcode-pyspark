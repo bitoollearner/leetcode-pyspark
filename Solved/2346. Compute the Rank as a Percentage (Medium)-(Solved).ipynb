{
 "cells": [
  {
   "cell_type": "markdown",
   "metadata": {
    "application/vnd.databricks.v1+cell": {
     "cellMetadata": {
      "byteLimit": 2048000,
      "rowLimit": 10000
     },
     "inputWidgets": {},
     "nuid": "4e9d71b1-88e9-445c-820a-b842e217a4e7",
     "showTitle": false,
     "tableResultSettingsMap": {},
     "title": ""
    }
   },
   "source": [
    "## Importing Libraries"
   ]
  },
  {
   "cell_type": "code",
   "execution_count": 0,
   "metadata": {
    "application/vnd.databricks.v1+cell": {
     "cellMetadata": {
      "byteLimit": 2048000,
      "rowLimit": 10000
     },
     "inputWidgets": {},
     "nuid": "e6624c4d-8cb8-4ac4-8c72-81d1b4ecdb57",
     "showTitle": false,
     "tableResultSettingsMap": {},
     "title": ""
    }
   },
   "outputs": [],
   "source": [
    "from pyspark.sql.functions import *\n",
    "from pyspark.sql.types import *\n",
    "from pyspark.sql.window import Window"
   ]
  },
  {
   "cell_type": "markdown",
   "metadata": {
    "application/vnd.databricks.v1+cell": {
     "cellMetadata": {
      "byteLimit": 2048000,
      "rowLimit": 10000
     },
     "inputWidgets": {},
     "nuid": "c3788fe5-f4c9-420f-ad72-ec1a39310a2a",
     "showTitle": false,
     "tableResultSettingsMap": {},
     "title": ""
    }
   },
   "source": [
    "**2346. Compute the Rank as a Percentage (Medium)**\n",
    "\n",
    "**Table: Students**\n",
    "\n",
    "| Column Name   | Type |\n",
    "|---------------|------|\n",
    "| student_id    | int  |\n",
    "| department_id | int  |\n",
    "| mark          | int  |\n",
    "\n",
    "student_id contains unique values.\n",
    "Each row of this table indicates a student's ID, the ID of the department in which the student enrolled, and their mark in the exam.\n",
    " \n",
    "**Write a solution to report the rank of each student in their department as a percentage, where the rank as a percentage is computed using the following formula: (student_rank_in_the_department - 1) * 100 / (the_number_of_students_in_the_department - 1). The percentage should be rounded to 2 decimal places. student_rank_in_the_department is determined by descending mark, such that the student with the highest mark is rank 1. If two students get the same mark, they also get the same rank.**\n",
    "\n",
    "Return the result table in any order.\n",
    "\n",
    "The result format is in the following example.\n",
    "\n",
    "**Example 1:**\n",
    "\n",
    "**Input:** \n",
    "\n",
    "**Students table:**\n",
    "\n",
    "| student_id | department_id | mark |\n",
    "|------------|---------------|------|\n",
    "| 2          | 2             | 650  |\n",
    "| 8          | 2             | 650  |\n",
    "| 7          | 1             | 920  |\n",
    "| 1          | 1             | 610  |\n",
    "| 3          | 1             | 530  |\n",
    "\n",
    "**Output:** \n",
    "| student_id | department_id | percentage |\n",
    "|------------|---------------|------------|\n",
    "| 7          | 1             | 0.0        |\n",
    "| 1          | 1             | 50.0       |\n",
    "| 3          | 1             | 100.0      |\n",
    "| 2          | 2             | 0.0        |\n",
    "| 8          | 2             | 0.0        |\n",
    "\n",
    "**Explanation:** \n",
    "- For Department 1:\n",
    "  - Student 7: percentage = (1 - 1) * 100 / (3 - 1) = 0.0\n",
    "  - Student 1: percentage = (2 - 1) * 100 / (3 - 1) = 50.0\n",
    "  - Student 3: percentage = (3 - 1) * 100 / (3 - 1) = 100.0\n",
    "- For Department 2:\n",
    "  - Student 2: percentage = (1 - 1) * 100 / (2 - 1) = 0.0\n",
    "  - Student 8: percentage = (1 - 1) * 100 / (2 - 1) = 0.0"
   ]
  },
  {
   "cell_type": "code",
   "execution_count": 0,
   "metadata": {
    "application/vnd.databricks.v1+cell": {
     "cellMetadata": {
      "byteLimit": 2048000,
      "rowLimit": 10000
     },
     "inputWidgets": {},
     "nuid": "137536ea-9bec-4171-8dc2-4bf8b0d771b4",
     "showTitle": false,
     "tableResultSettingsMap": {},
     "title": ""
    }
   },
   "outputs": [
    {
     "output_type": "stream",
     "name": "stdout",
     "output_type": "stream",
     "text": [
      "+----------+-------------+----+\n|student_id|department_id|mark|\n+----------+-------------+----+\n|         2|            2| 650|\n|         8|            2| 650|\n|         7|            1| 920|\n|         1|            1| 610|\n|         3|            1| 530|\n+----------+-------------+----+\n\n"
     ]
    }
   ],
   "source": [
    "students_data_2346 = [\n",
    "    (2, 2, 650),\n",
    "    (8, 2, 650),\n",
    "    (7, 1, 920),\n",
    "    (1, 1, 610),\n",
    "    (3, 1, 530),\n",
    "]\n",
    "\n",
    "students_columns_2346 = [\"student_id\", \"department_id\", \"mark\"]\n",
    "students_df_2346 = spark.createDataFrame(students_data_2346, students_columns_2346)\n",
    "students_df_2346.show()\n"
   ]
  },
  {
   "cell_type": "code",
   "execution_count": 0,
   "metadata": {
    "application/vnd.databricks.v1+cell": {
     "cellMetadata": {
      "byteLimit": 2048000,
      "rowLimit": 10000
     },
     "inputWidgets": {},
     "nuid": "f40e0a6f-b8ee-4284-9872-59fe84272bff",
     "showTitle": false,
     "tableResultSettingsMap": {},
     "title": ""
    }
   },
   "outputs": [],
   "source": [
    "rank_window = Window.partitionBy(\"department_id\").orderBy(desc(\"mark\"))"
   ]
  },
  {
   "cell_type": "code",
   "execution_count": 0,
   "metadata": {
    "application/vnd.databricks.v1+cell": {
     "cellMetadata": {
      "byteLimit": 2048000,
      "rowLimit": 10000
     },
     "inputWidgets": {},
     "nuid": "5ddd4f39-978d-400f-95eb-0fd81b58f84b",
     "showTitle": false,
     "tableResultSettingsMap": {},
     "title": ""
    }
   },
   "outputs": [],
   "source": [
    "count_window = Window.partitionBy(\"department_id\")"
   ]
  },
  {
   "cell_type": "code",
   "execution_count": 0,
   "metadata": {
    "application/vnd.databricks.v1+cell": {
     "cellMetadata": {
      "byteLimit": 2048000,
      "rowLimit": 10000
     },
     "inputWidgets": {},
     "nuid": "70ae19ea-8ad4-4f09-bf63-8d4c3b11e999",
     "showTitle": false,
     "tableResultSettingsMap": {},
     "title": ""
    }
   },
   "outputs": [
    {
     "output_type": "stream",
     "name": "stdout",
     "output_type": "stream",
     "text": [
      "+----------+-------------+----------+\n|student_id|department_id|percentage|\n+----------+-------------+----------+\n|         7|            1|       0.0|\n|         1|            1|      50.0|\n|         3|            1|     100.0|\n|         2|            2|       0.0|\n|         8|            2|       0.0|\n+----------+-------------+----------+\n\n"
     ]
    }
   ],
   "source": [
    "students_df_2346\\\n",
    "    .withColumn(\"student_rank\", rank().over(rank_window))\\\n",
    "        .withColumn(\"dept_count\", count(\"student_id\").over(count_window))\\\n",
    "            .withColumn(\n",
    "                \"percentage\",\n",
    "                when(col(\"dept_count\") == 1, lit(0.0))\n",
    "                .otherwise(\n",
    "                    round((col(\"student_rank\") - 1) * 100.0 / (col(\"dept_count\") - 1), 2)\n",
    "                    )\n",
    "                ).select(\"student_id\", \"department_id\", \"percentage\").show()"
   ]
  }
 ],
 "metadata": {
  "application/vnd.databricks.v1+notebook": {
   "computePreferences": {
    "hardware": {
     "accelerator": null,
     "gpuPoolId": null,
     "memory": null
    }
   },
   "dashboards": [],
   "environmentMetadata": {
    "base_environment": "",
    "environment_version": "2"
   },
   "inputWidgetPreferences": null,
   "language": "python",
   "notebookMetadata": {
    "pythonIndentUnit": 4
   },
   "notebookName": "2346. Compute the Rank as a Percentage (Medium)-(Solved)",
   "widgets": {}
  },
  "language_info": {
   "name": "python"
  }
 },
 "nbformat": 4,
 "nbformat_minor": 0
}
