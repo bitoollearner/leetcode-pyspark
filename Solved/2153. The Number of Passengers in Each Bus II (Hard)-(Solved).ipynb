{
 "cells": [
  {
   "cell_type": "markdown",
   "metadata": {
    "application/vnd.databricks.v1+cell": {
     "cellMetadata": {
      "byteLimit": 2048000,
      "rowLimit": 10000
     },
     "inputWidgets": {},
     "nuid": "a23f6d56-6d8d-44bc-b796-cedda9e17c21",
     "showTitle": false,
     "tableResultSettingsMap": {},
     "title": ""
    }
   },
   "source": [
    "## Importing Libraries"
   ]
  },
  {
   "cell_type": "code",
   "execution_count": 0,
   "metadata": {
    "application/vnd.databricks.v1+cell": {
     "cellMetadata": {
      "byteLimit": 2048000,
      "rowLimit": 10000
     },
     "inputWidgets": {},
     "nuid": "0a69d78b-43d7-4f9e-a05d-026985c2539f",
     "showTitle": false,
     "tableResultSettingsMap": {},
     "title": ""
    }
   },
   "outputs": [],
   "source": [
    "from pyspark.sql.functions import *\n",
    "from pyspark.sql.types import *\n",
    "from pyspark.sql.window import Window"
   ]
  },
  {
   "cell_type": "markdown",
   "metadata": {
    "application/vnd.databricks.v1+cell": {
     "cellMetadata": {
      "byteLimit": 2048000,
      "rowLimit": 10000
     },
     "inputWidgets": {},
     "nuid": "2a54b88b-06bd-43e4-978a-c0c5d33ca5bb",
     "showTitle": false,
     "tableResultSettingsMap": {},
     "title": ""
    }
   },
   "source": [
    "**2153. The Number of Passengers in Each Bus II (Hard)**\n",
    "\n",
    "**Table: Buses**\n",
    "\n",
    "| Column Name  | Type |\n",
    "|--------------|------|\n",
    "| bus_id       | int  |\n",
    "| arrival_time | int  |\n",
    "| capacity     | int  |\n",
    "\n",
    "bus_id contains unique values.\n",
    "Each row of this table contains information about the arrival time of a bus at the LeetCode station and its capacity (the number of empty seats it has).\n",
    "No two buses will arrive at the same time and all bus capacities will be positive integers.\n",
    " \n",
    "**Table: Passengers**\n",
    "\n",
    "| Column Name  | Type |\n",
    "|--------------|------|\n",
    "| passenger_id | int  |\n",
    "| arrival_time | int  |\n",
    "\n",
    "passenger_id contains unique values.\n",
    "Each row of this table contains information about the arrival time of a passenger at the LeetCode station.\n",
    " \n",
    "Buses and passengers arrive at the LeetCode station. If a bus arrives at the station at a time tbus and a passenger arrived at a time tpassenger where tpassenger <= tbus and the passenger did not catch any bus, the passenger will use that bus. In addition, each bus has a capacity. If at the moment the bus arrives at the station there are more passengers waiting than its capacity capacity, only capacity passengers will use the bus.\n",
    "\n",
    "**Write a solution to report the number of users that used each bus.**\n",
    "\n",
    "Return the result table ordered by bus_id in ascending order.\n",
    "\n",
    "The result format is in the following example.\n",
    "\n",
    "**Example 1:**\n",
    "\n",
    "**Input:** \n",
    "\n",
    "**Buses table:**\n",
    "\n",
    "| bus_id | arrival_time | capacity |\n",
    "|--------|--------------|----------|\n",
    "| 1      | 2            | 1        |\n",
    "| 2      | 4            | 10       |\n",
    "| 3      | 7            | 2        |\n",
    "\n",
    "**Passengers table:**\n",
    "| passenger_id | arrival_time |\n",
    "|--------------|--------------|\n",
    "| 11           | 1            |\n",
    "| 12           | 1            |\n",
    "| 13           | 5            |\n",
    "| 14           | 6            |\n",
    "| 15           | 7            |\n",
    "\n",
    "**Output:** \n",
    "| bus_id | passengers_cnt |\n",
    "|--------|----------------|\n",
    "| 1      | 1              |\n",
    "| 2      | 1              |\n",
    "| 3      | 2              |\n",
    "\n",
    "**Explanation:** \n",
    "- Passenger 11 arrives at time 1.\n",
    "- Passenger 12 arrives at time 1.\n",
    "- Bus 1 arrives at time 2 and collects passenger 11 as it has one empty seat.\n",
    "- Bus 2 arrives at time 4 and collects passenger 12 as it has ten empty seats.\n",
    "- Passenger 12 arrives at time 5.\n",
    "- Passenger 13 arrives at time 6.\n",
    "- Passenger 14 arrives at time 7.\n",
    "- Bus 3 arrives at time 7 and collects passengers 12 and 13 as it has two empty seats."
   ]
  },
  {
   "cell_type": "code",
   "execution_count": 0,
   "metadata": {
    "application/vnd.databricks.v1+cell": {
     "cellMetadata": {
      "byteLimit": 2048000,
      "rowLimit": 10000
     },
     "inputWidgets": {},
     "nuid": "c260f510-542b-4067-a6f4-ffed86995056",
     "showTitle": false,
     "tableResultSettingsMap": {},
     "title": ""
    }
   },
   "outputs": [
    {
     "output_type": "stream",
     "name": "stdout",
     "output_type": "stream",
     "text": [
      "+------+------------+--------+\n|bus_id|arrival_time|capacity|\n+------+------------+--------+\n|     1|           2|       1|\n|     2|           4|      10|\n|     3|           7|       2|\n+------+------------+--------+\n\n+------------+------------+\n|passenger_id|arrival_time|\n+------------+------------+\n|          11|           1|\n|          12|           1|\n|          13|           5|\n|          14|           6|\n|          15|           7|\n+------------+------------+\n\n"
     ]
    }
   ],
   "source": [
    "buses_data_2153 = [\n",
    "    (1, 2, 1),\n",
    "    (2, 4, 10),\n",
    "    (3, 7, 2)\n",
    "]\n",
    "\n",
    "buses_columns_2153 = [\"bus_id\", \"arrival_time\", \"capacity\"]\n",
    "buses_df_2153 = spark.createDataFrame(buses_data_2153, buses_columns_2153)\n",
    "buses_df_2153.show()\n",
    "\n",
    "passengers_data_2153 = [\n",
    "    (11, 1),\n",
    "    (12, 1),\n",
    "    (13, 5),\n",
    "    (14, 6),\n",
    "    (15, 7)\n",
    "]\n",
    "\n",
    "passengers_columns_2153 = [\"passenger_id\", \"arrival_time\"]\n",
    "passengers_df_2153 = spark.createDataFrame(passengers_data_2153, passengers_columns_2153)\n",
    "passengers_df_2153.show()"
   ]
  },
  {
   "cell_type": "code",
   "execution_count": 0,
   "metadata": {
    "application/vnd.databricks.v1+cell": {
     "cellMetadata": {
      "byteLimit": 2048000,
      "rowLimit": 10000
     },
     "inputWidgets": {},
     "nuid": "473dd0f5-0d70-45bd-a030-8d3417d82e74",
     "showTitle": false,
     "tableResultSettingsMap": {},
     "title": ""
    }
   },
   "outputs": [],
   "source": [
    "w_pass = Window.orderBy(col(\"arrival_time\"), col(\"passenger_id\"))"
   ]
  },
  {
   "cell_type": "code",
   "execution_count": 0,
   "metadata": {
    "application/vnd.databricks.v1+cell": {
     "cellMetadata": {
      "byteLimit": 2048000,
      "rowLimit": 10000
     },
     "inputWidgets": {},
     "nuid": "11f92cb7-9ed7-466f-a5b4-2d6b73d7618b",
     "showTitle": false,
     "tableResultSettingsMap": {},
     "title": ""
    }
   },
   "outputs": [
    {
     "output_type": "stream",
     "name": "stderr",
     "output_type": "stream",
     "text": [
      "/databricks/python/lib/python3.11/site-packages/pyspark/sql/connect/expressions.py:1017: UserWarning: WARN WindowExpression: No Partition Defined for Window operation! Moving all data to a single partition, this can cause serious performance degradation.\n  warnings.warn(\n"
     ]
    }
   ],
   "source": [
    "passengers_ranked_df_2153 = passengers_df_2153\\\n",
    "                                .withColumn(\"passenger_rank\", row_number().over(w_pass)) \\\n",
    "                                    .withColumnRenamed(\"arrival_time\", \"passenger_arrival_time\")"
   ]
  },
  {
   "cell_type": "code",
   "execution_count": 0,
   "metadata": {
    "application/vnd.databricks.v1+cell": {
     "cellMetadata": {
      "byteLimit": 2048000,
      "rowLimit": 10000
     },
     "inputWidgets": {},
     "nuid": "ffa0f713-1c17-48a3-b9da-8fde46ce2438",
     "showTitle": false,
     "tableResultSettingsMap": {},
     "title": ""
    }
   },
   "outputs": [],
   "source": [
    "w_bus = Window.orderBy(\"arrival_time\").rowsBetween(Window.unboundedPreceding, 0)"
   ]
  },
  {
   "cell_type": "code",
   "execution_count": 0,
   "metadata": {
    "application/vnd.databricks.v1+cell": {
     "cellMetadata": {
      "byteLimit": 2048000,
      "rowLimit": 10000
     },
     "inputWidgets": {},
     "nuid": "88023a7a-5d66-4c28-9b10-4e60190f9061",
     "showTitle": false,
     "tableResultSettingsMap": {},
     "title": ""
    }
   },
   "outputs": [
    {
     "output_type": "stream",
     "name": "stderr",
     "output_type": "stream",
     "text": [
      "/databricks/python/lib/python3.11/site-packages/pyspark/sql/connect/expressions.py:1017: UserWarning: WARN WindowExpression: No Partition Defined for Window operation! Moving all data to a single partition, this can cause serious performance degradation.\n  warnings.warn(\n"
     ]
    }
   ],
   "source": [
    "buses_cumulative_df_2153 = buses_df_2153\\\n",
    "                                .withColumn(\"cum_capacity\", sum(\"capacity\").over(w_bus))"
   ]
  },
  {
   "cell_type": "code",
   "execution_count": 0,
   "metadata": {
    "application/vnd.databricks.v1+cell": {
     "cellMetadata": {
      "byteLimit": 2048000,
      "rowLimit": 10000
     },
     "inputWidgets": {},
     "nuid": "000cc9d7-4d6e-46ba-b334-d774826c2bf5",
     "showTitle": false,
     "tableResultSettingsMap": {},
     "title": ""
    }
   },
   "outputs": [
    {
     "output_type": "stream",
     "name": "stderr",
     "output_type": "stream",
     "text": [
      "/databricks/python/lib/python3.11/site-packages/pyspark/sql/connect/expressions.py:1017: UserWarning: WARN WindowExpression: No Partition Defined for Window operation! Moving all data to a single partition, this can cause serious performance degradation.\n  warnings.warn(\n"
     ]
    }
   ],
   "source": [
    "joined_df_2153 = passengers_ranked_df_2153.crossJoin(buses_cumulative_df_2153) \\\n",
    "    .where(\n",
    "        (col(\"passenger_rank\") <= col(\"cum_capacity\")) & \n",
    "        (col(\"arrival_time\") >= col(\"passenger_arrival_time\"))\n",
    "    )"
   ]
  },
  {
   "cell_type": "code",
   "execution_count": 0,
   "metadata": {
    "application/vnd.databricks.v1+cell": {
     "cellMetadata": {
      "byteLimit": 2048000,
      "rowLimit": 10000
     },
     "inputWidgets": {},
     "nuid": "93f13641-673f-4419-ac39-bca03a65a4bd",
     "showTitle": false,
     "tableResultSettingsMap": {},
     "title": ""
    }
   },
   "outputs": [],
   "source": [
    "w_bus_assign = Window.partitionBy(\"bus_id\").orderBy(\"passenger_rank\")"
   ]
  },
  {
   "cell_type": "code",
   "execution_count": 0,
   "metadata": {
    "application/vnd.databricks.v1+cell": {
     "cellMetadata": {
      "byteLimit": 2048000,
      "rowLimit": 10000
     },
     "inputWidgets": {},
     "nuid": "6d15a6da-a74d-43bf-a0d0-e4e273b6bccc",
     "showTitle": false,
     "tableResultSettingsMap": {},
     "title": ""
    }
   },
   "outputs": [
    {
     "output_type": "stream",
     "name": "stderr",
     "output_type": "stream",
     "text": [
      "/databricks/python/lib/python3.11/site-packages/pyspark/sql/connect/expressions.py:1017: UserWarning: WARN WindowExpression: No Partition Defined for Window operation! Moving all data to a single partition, this can cause serious performance degradation.\n  warnings.warn(\n"
     ]
    }
   ],
   "source": [
    "assigned_df_2153 = joined_df_2153\\\n",
    "                        .withColumn(\"rn\", row_number().over(w_bus_assign)) \\\n",
    "                            .where(col(\"rn\") <= col(\"capacity\")) \\\n",
    "                                .select(\"bus_id\", \"passenger_id\")"
   ]
  },
  {
   "cell_type": "code",
   "execution_count": 0,
   "metadata": {
    "application/vnd.databricks.v1+cell": {
     "cellMetadata": {
      "byteLimit": 2048000,
      "rowLimit": 10000
     },
     "inputWidgets": {},
     "nuid": "7c507696-fc89-4337-a633-41c38aa08bfe",
     "showTitle": false,
     "tableResultSettingsMap": {},
     "title": ""
    }
   },
   "outputs": [
    {
     "output_type": "stream",
     "name": "stderr",
     "output_type": "stream",
     "text": [
      "/databricks/python/lib/python3.11/site-packages/pyspark/sql/connect/expressions.py:1017: UserWarning: WARN WindowExpression: No Partition Defined for Window operation! Moving all data to a single partition, this can cause serious performance degradation.\n  warnings.warn(\n"
     ]
    }
   ],
   "source": [
    "bus_counts_df_2153 = assigned_df_2153\\\n",
    "                            .groupBy(\"bus_id\")\\\n",
    "                                .agg(\n",
    "                                    count(\"passenger_id\").alias(\"passengers_cnt\")\n",
    "                                    )"
   ]
  },
  {
   "cell_type": "code",
   "execution_count": 0,
   "metadata": {
    "application/vnd.databricks.v1+cell": {
     "cellMetadata": {
      "byteLimit": 2048000,
      "rowLimit": 10000
     },
     "inputWidgets": {},
     "nuid": "1171a7a3-f85f-412b-b479-62b6f7b4c47d",
     "showTitle": false,
     "tableResultSettingsMap": {},
     "title": ""
    }
   },
   "outputs": [
    {
     "output_type": "stream",
     "name": "stderr",
     "output_type": "stream",
     "text": [
      "/databricks/python/lib/python3.11/site-packages/pyspark/sql/connect/expressions.py:1017: UserWarning: WARN WindowExpression: No Partition Defined for Window operation! Moving all data to a single partition, this can cause serious performance degradation.\n  warnings.warn(\n"
     ]
    },
    {
     "output_type": "stream",
     "name": "stdout",
     "output_type": "stream",
     "text": [
      "+------+--------------+\n|bus_id|passengers_cnt|\n+------+--------------+\n|     1|             1|\n|     2|             2|\n|     3|             2|\n+------+--------------+\n\n"
     ]
    }
   ],
   "source": [
    "buses_df_2153\\\n",
    "    .join(bus_counts_df_2153, \"bus_id\", \"left\").fillna(0).orderBy(\"bus_id\")\\\n",
    "        .select(\"bus_id\",\"passengers_cnt\").show()"
   ]
  }
 ],
 "metadata": {
  "application/vnd.databricks.v1+notebook": {
   "computePreferences": {
    "hardware": {
     "accelerator": null,
     "gpuPoolId": null,
     "memory": null
    }
   },
   "dashboards": [],
   "environmentMetadata": {
    "base_environment": "",
    "environment_version": "2"
   },
   "inputWidgetPreferences": null,
   "language": "python",
   "notebookMetadata": {
    "pythonIndentUnit": 4
   },
   "notebookName": "2153. The Number of Passengers in Each Bus II (Hard)-(Solved)",
   "widgets": {}
  },
  "language_info": {
   "name": "python"
  }
 },
 "nbformat": 4,
 "nbformat_minor": 0
}
