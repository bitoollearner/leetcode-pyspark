{
 "cells": [
  {
   "cell_type": "markdown",
   "metadata": {
    "application/vnd.databricks.v1+cell": {
     "cellMetadata": {},
     "inputWidgets": {},
     "nuid": "a23f6d56-6d8d-44bc-b796-cedda9e17c21",
     "showTitle": false,
     "tableResultSettingsMap": {},
     "title": ""
    }
   },
   "source": [
    "## Importing Libraries"
   ]
  },
  {
   "cell_type": "code",
   "execution_count": 0,
   "metadata": {
    "application/vnd.databricks.v1+cell": {
     "cellMetadata": {},
     "inputWidgets": {},
     "nuid": "0a69d78b-43d7-4f9e-a05d-026985c2539f",
     "showTitle": false,
     "tableResultSettingsMap": {},
     "title": ""
    }
   },
   "outputs": [],
   "source": [
    "from pyspark.sql.functions import *\n",
    "from pyspark.sql.types import *\n",
    "from pyspark.sql.window import Window"
   ]
  },
  {
   "cell_type": "markdown",
   "metadata": {
    "application/vnd.databricks.v1+cell": {
     "cellMetadata": {},
     "inputWidgets": {},
     "nuid": "2a54b88b-06bd-43e4-978a-c0c5d33ca5bb",
     "showTitle": false,
     "tableResultSettingsMap": {},
     "title": ""
    }
   },
   "source": [
    "**2153. The Number of Passengers in Each Bus II (Hard)**\n",
    "\n",
    "**Table: Buses**\n",
    "\n",
    "| Column Name  | Type |\n",
    "|--------------|------|\n",
    "| bus_id       | int  |\n",
    "| arrival_time | int  |\n",
    "| capacity     | int  |\n",
    "\n",
    "bus_id contains unique values.\n",
    "Each row of this table contains information about the arrival time of a bus at the LeetCode station and its capacity (the number of empty seats it has).\n",
    "No two buses will arrive at the same time and all bus capacities will be positive integers.\n",
    " \n",
    "**Table: Passengers**\n",
    "\n",
    "| Column Name  | Type |\n",
    "|--------------|------|\n",
    "| passenger_id | int  |\n",
    "| arrival_time | int  |\n",
    "\n",
    "passenger_id contains unique values.\n",
    "Each row of this table contains information about the arrival time of a passenger at the LeetCode station.\n",
    " \n",
    "Buses and passengers arrive at the LeetCode station. If a bus arrives at the station at a time tbus and a passenger arrived at a time tpassenger where tpassenger <= tbus and the passenger did not catch any bus, the passenger will use that bus. In addition, each bus has a capacity. If at the moment the bus arrives at the station there are more passengers waiting than its capacity capacity, only capacity passengers will use the bus.\n",
    "\n",
    "**Write a solution to report the number of users that used each bus.**\n",
    "\n",
    "Return the result table ordered by bus_id in ascending order.\n",
    "\n",
    "The result format is in the following example.\n",
    "\n",
    "**Example 1:**\n",
    "\n",
    "**Input:** \n",
    "\n",
    "**Buses table:**\n",
    "\n",
    "| bus_id | arrival_time | capacity |\n",
    "|--------|--------------|----------|\n",
    "| 1      | 2            | 1        |\n",
    "| 2      | 4            | 10       |\n",
    "| 3      | 7            | 2        |\n",
    "\n",
    "**Passengers table:**\n",
    "| passenger_id | arrival_time |\n",
    "|--------------|--------------|\n",
    "| 11           | 1            |\n",
    "| 12           | 1            |\n",
    "| 13           | 5            |\n",
    "| 14           | 6            |\n",
    "| 15           | 7            |\n",
    "\n",
    "**Output:** \n",
    "| bus_id | passengers_cnt |\n",
    "|--------|----------------|\n",
    "| 1      | 1              |\n",
    "| 2      | 1              |\n",
    "| 3      | 2              |\n",
    "\n",
    "**Explanation:** \n",
    "- Passenger 11 arrives at time 1.\n",
    "- Passenger 12 arrives at time 1.\n",
    "- Bus 1 arrives at time 2 and collects passenger 11 as it has one empty seat.\n",
    "- Bus 2 arrives at time 4 and collects passenger 12 as it has ten empty seats.\n",
    "- Passenger 12 arrives at time 5.\n",
    "- Passenger 13 arrives at time 6.\n",
    "- Passenger 14 arrives at time 7.\n",
    "- Bus 3 arrives at time 7 and collects passengers 12 and 13 as it has two empty seats."
   ]
  },
  {
   "cell_type": "code",
   "execution_count": 0,
   "metadata": {
    "application/vnd.databricks.v1+cell": {
     "cellMetadata": {},
     "inputWidgets": {},
     "nuid": "c260f510-542b-4067-a6f4-ffed86995056",
     "showTitle": false,
     "tableResultSettingsMap": {},
     "title": ""
    }
   },
   "outputs": [],
   "source": [
    "buses_data_2153 = [\n",
    "    (1, 2, 1),\n",
    "    (2, 4, 10),\n",
    "    (3, 7, 2)\n",
    "]\n",
    "\n",
    "buses_columns_2153 = [\"bus_id\", \"arrival_time\", \"capacity\"]\n",
    "buses_df_2153 = spark.createDataFrame(buses_data_2153, buses_columns_2153)\n",
    "buses_df_2153.show()\n",
    "\n",
    "passengers_data_2153 = [\n",
    "    (11, 1),\n",
    "    (12, 1),\n",
    "    (13, 5),\n",
    "    (14, 6),\n",
    "    (15, 7)\n",
    "]\n",
    "\n",
    "passengers_columns_2153 = [\"passenger_id\", \"arrival_time\"]\n",
    "passengers_df_2153 = spark.createDataFrame(passengers_data_2153, passengers_columns_2153)\n",
    "passengers_df_2153.show()"
   ]
  }
 ],
 "metadata": {
  "application/vnd.databricks.v1+notebook": {
   "computePreferences": null,
   "dashboards": [],
   "environmentMetadata": {
    "base_environment": "",
    "environment_version": "1"
   },
   "inputWidgetPreferences": null,
   "language": "python",
   "notebookMetadata": {
    "pythonIndentUnit": 4
   },
   "notebookName": "2153. The Number of Passengers in Each Bus II (Hard)-(Solved)",
   "widgets": {}
  },
  "language_info": {
   "name": "python"
  }
 },
 "nbformat": 4,
 "nbformat_minor": 0
}
