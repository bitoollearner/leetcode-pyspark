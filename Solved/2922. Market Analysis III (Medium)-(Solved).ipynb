{
 "cells": [
  {
   "cell_type": "markdown",
   "metadata": {
    "application/vnd.databricks.v1+cell": {
     "cellMetadata": {},
     "inputWidgets": {},
     "nuid": "4e9d71b1-88e9-445c-820a-b842e217a4e7",
     "showTitle": false,
     "tableResultSettingsMap": {},
     "title": ""
    }
   },
   "source": [
    "## Importing Libraries"
   ]
  },
  {
   "cell_type": "code",
   "execution_count": 0,
   "metadata": {
    "application/vnd.databricks.v1+cell": {
     "cellMetadata": {},
     "inputWidgets": {},
     "nuid": "e6624c4d-8cb8-4ac4-8c72-81d1b4ecdb57",
     "showTitle": false,
     "tableResultSettingsMap": {},
     "title": ""
    }
   },
   "outputs": [],
   "source": [
    "from pyspark.sql.functions import *\n",
    "from pyspark.sql.types import *\n",
    "from pyspark.sql.window import Window"
   ]
  },
  {
   "cell_type": "markdown",
   "metadata": {
    "application/vnd.databricks.v1+cell": {
     "cellMetadata": {},
     "inputWidgets": {},
     "nuid": "c3788fe5-f4c9-420f-ad72-ec1a39310a2a",
     "showTitle": false,
     "tableResultSettingsMap": {},
     "title": ""
    }
   },
   "source": [
    "**2922. Market Analysis III (Medium)**\n",
    "\n",
    "**Table: Users**\n",
    "| Column Name    | Type    |\n",
    "|----------------|---------|\n",
    "| seller_id      | int     |\n",
    "| join_date      | date    |\n",
    "| favorite_brand | varchar |\n",
    "\n",
    "seller_id is column of unique values for this table.\n",
    "This table contains seller id, join date, and favorite brand of sellers.\n",
    "\n",
    "**Table: Items**\n",
    "| Column Name   | Type    |\n",
    "|---------------|---------|\n",
    "| item_id       | int     |\n",
    "| item_brand    | varchar |\n",
    "\n",
    "item_id is the column of unique values for this table.\n",
    "This table contains item id and item brand.\n",
    "\n",
    "**Table: Orders**\n",
    "\n",
    "| Column Name   | Type    |\n",
    "|---------------|---------|\n",
    "| order_id      | int     |\n",
    "| order_date    | date    |\n",
    "| item_id       | int     |\n",
    "| seller_id     | int     |\n",
    "\n",
    "order_id is the column of unique values for this table.\n",
    "item_id is a foreign key to the Items table.\n",
    "seller_id is a foreign key to the Users table.\n",
    "This table contains order id, order date, item id and seller id.\n",
    "\n",
    "**Write a solution to find the top seller who has sold the highest number of unique items with a different brand than their favorite brand. If there are multiple sellers with the same highest count, return all of them.**\n",
    "\n",
    "Return the result table ordered by seller_id in ascending order.\n",
    "\n",
    "The result format is in the following example.\n",
    "\n",
    "**Example 1:**\n",
    "\n",
    "**Input:** \n",
    "\n",
    "**Users table:**\n",
    "| seller_id | join_date  | favorite_brand |\n",
    "|-----------|------------|----------------|\n",
    "| 1         | 2019-01-01 | Lenovo         |\n",
    "| 2         | 2019-02-09 | Samsung        |\n",
    "| 3         | 2019-01-19 | LG             |\n",
    "\n",
    "**Orders table:**\n",
    "| order_id | order_date | item_id | seller_id |\n",
    "|----------|------------|---------|-----------|\n",
    "| 1        | 2019-08-01 | 4       | 2         |\n",
    "| 2        | 2019-08-02 | 2       | 3         |\n",
    "| 3        | 2019-08-03 | 3       | 3         |\n",
    "| 4        | 2019-08-04 | 1       | 2         |\n",
    "| 5        | 2019-08-04 | 4       | 2         |\n",
    "\n",
    "**Items table:**\n",
    "| item_id | item_brand |\n",
    "|---------|------------|\n",
    "| 1       | Samsung    |\n",
    "| 2       | Lenovo     |\n",
    "| 3       | LG         |\n",
    "| 4       | HP         |\n",
    "\n",
    "**Output:** \n",
    "| seller_id | num_items |\n",
    "|-----------|-----------|\n",
    "| 2         | 1         |\n",
    "| 3         | 1         |\n",
    "\n",
    "**Explanation:** \n",
    "- The user with seller_id 2 has sold three items, but only two of them are not marked as a favorite. We will include a unique count of 1 because both of these items are identical.\n",
    "- The user with seller_id 3 has sold two items, but only one of them is not marked as a favorite. We will include just that non-favorite item in our count.\n",
    "\n",
    "Since seller_ids 2 and 3 have the same count of one item each, they both will be displayed in the output."
   ]
  },
  {
   "cell_type": "code",
   "execution_count": 0,
   "metadata": {
    "application/vnd.databricks.v1+cell": {
     "cellMetadata": {},
     "inputWidgets": {},
     "nuid": "137536ea-9bec-4171-8dc2-4bf8b0d771b4",
     "showTitle": false,
     "tableResultSettingsMap": {},
     "title": ""
    }
   },
   "outputs": [],
   "source": [
    "users_data_2922 = [(1, \"2019-01-01\", \"Lenovo\"), (2, \"2019-02-09\", \"Samsung\"), (3, \"2019-01-19\", \"LG\")]\n",
    "\n",
    "users_columns_2922 = [\"seller_id\", \"join_date\", \"favorite_brand\"]\n",
    "users_df_2922 = spark.createDataFrame(users_data_2922, users_columns_2922)\n",
    "users_df_2922.show()\n",
    "\n",
    "orders_data_2922 = [(1, \"2019-08-01\", 4, 2), (2, \"2019-08-02\", 2, 3), (3, \"2019-08-03\", 3, 3),\n",
    "               (4, \"2019-08-04\", 1, 2), (5, \"2019-08-04\", 4, 2)]\n",
    "\n",
    "orders_columns_2922 = [\"order_id\", \"order_date\", \"item_id\", \"seller_id\"]\n",
    "orders_df_2922 = spark.createDataFrame(orders_data_2922, orders_columns_2922)\n",
    "orders_df_2922.show()\n",
    "\n",
    "items_data_2922 = [(1, \"Samsung\"), (2, \"Lenovo\"), (3, \"LG\"), (4, \"HP\")]\n",
    "\n",
    "items_columns_2922 = [\"item_id\", \"item_brand\"]\n",
    "items_df_2922 = spark.createDataFrame(items_data_2922, items_columns_2922)\n",
    "items_df_2922.show()"
   ]
  }
 ],
 "metadata": {
  "application/vnd.databricks.v1+notebook": {
   "computePreferences": null,
   "dashboards": [],
   "environmentMetadata": {
    "base_environment": "",
    "environment_version": "1"
   },
   "inputWidgetPreferences": null,
   "language": "python",
   "notebookMetadata": {
    "pythonIndentUnit": 4
   },
   "notebookName": "2922. Market Analysis III (Medium)",
   "widgets": {}
  }
 },
 "nbformat": 4,
 "nbformat_minor": 0
}