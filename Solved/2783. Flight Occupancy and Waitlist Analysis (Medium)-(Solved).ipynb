{
 "cells": [
  {
   "cell_type": "markdown",
   "metadata": {
    "application/vnd.databricks.v1+cell": {
     "cellMetadata": {
      "byteLimit": 2048000,
      "rowLimit": 10000
     },
     "inputWidgets": {},
     "nuid": "4e9d71b1-88e9-445c-820a-b842e217a4e7",
     "showTitle": false,
     "tableResultSettingsMap": {},
     "title": ""
    }
   },
   "source": [
    "## Importing Libraries"
   ]
  },
  {
   "cell_type": "code",
   "execution_count": 0,
   "metadata": {
    "application/vnd.databricks.v1+cell": {
     "cellMetadata": {
      "byteLimit": 2048000,
      "rowLimit": 10000
     },
     "inputWidgets": {},
     "nuid": "e6624c4d-8cb8-4ac4-8c72-81d1b4ecdb57",
     "showTitle": false,
     "tableResultSettingsMap": {},
     "title": ""
    }
   },
   "outputs": [],
   "source": [
    "from pyspark.sql.functions import *\n",
    "from pyspark.sql.types import *\n",
    "from pyspark.sql.window import Window"
   ]
  },
  {
   "cell_type": "markdown",
   "metadata": {
    "application/vnd.databricks.v1+cell": {
     "cellMetadata": {
      "byteLimit": 2048000,
      "rowLimit": 10000
     },
     "inputWidgets": {},
     "nuid": "c3788fe5-f4c9-420f-ad72-ec1a39310a2a",
     "showTitle": false,
     "tableResultSettingsMap": {},
     "title": ""
    }
   },
   "source": [
    "**2783. Flight Occupancy and Waitlist Analysis (Medium)**\n",
    "\n",
    "**Table: Flights**\n",
    "\n",
    "| Column Name | Type |\n",
    "|-------------|------|\n",
    "| flight_id   | int  |\n",
    "| capacity    | int  |\n",
    "\n",
    "flight_id is the column with unique values for this table.\n",
    "Each row of this table contains flight id and its capacity.\n",
    "\n",
    "**Table: Passengers**\n",
    "\n",
    "| Column Name  | Type |\n",
    "|--------------|------|\n",
    "| passenger_id | int  |\n",
    "| flight_id    | int  |\n",
    "\n",
    "passenger_id is the column with unique values for this table.\n",
    "Each row of this table contains passenger id and flight id.\n",
    "\n",
    "Passengers book tickets for flights in advance. If a passenger books a ticket for a flight and there are still empty seats available on the flight, the passenger ticket will be confirmed. However, the passenger will be on a waitlist if the flight is already at full capacity.\n",
    "\n",
    "**Write a solution to report the number of passengers who successfully booked a flight (got a seat) and the number of passengers who are on the waitlist for each flight.**\n",
    "\n",
    "Return the result table ordered by flight_id in ascending order.\n",
    "\n",
    "The result format is in the following example.\n",
    "\n",
    "**Example 1:**\n",
    "\n",
    "**Input:** \n",
    "\n",
    "**Flights table:**\n",
    "| flight_id | capacity |\n",
    "|-----------|----------|\n",
    "| 1         | 2        |\n",
    "| 2         | 2        |\n",
    "| 3         | 1        |\n",
    "\n",
    "**Passengers table:**\n",
    "| passenger_id | flight_id |\n",
    "|--------------|-----------|\n",
    "| 101          | 1         |\n",
    "| 102          | 1         |\n",
    "| 103          | 1         |\n",
    "| 104          | 2         |\n",
    "| 105          | 2         |\n",
    "| 106          | 3         |\n",
    "| 107          | 3         |\n",
    "\n",
    "**Output:** \n",
    "| flight_id | booked_cnt | waitlist_cnt |\n",
    "|-----------|------------|--------------|\n",
    "| 1         | 2          | 1            |\n",
    "| 2         | 2          | 0            |\n",
    "| 3         | 1          | 1            |\n",
    "\n",
    "**Explanation:** \n",
    "- Flight 1 has a capacity of 2. As there are 3 passengers who have booked tickets, only 2 passengers can get a seat. Therefore, 2 passengers are successfully booked, and 1 passenger is on the waitlist.\n",
    "- Flight 2 has a capacity of 2. Since there are exactly 2 passengers who booked tickets, everyone can secure a seat. As a result, 2 passengers successfully booked their seats and there are no passengers on the waitlist.\n",
    "- Flight 3 has a capacity of 1. As there are 2 passengers who have booked tickets, only 1 passenger can get a seat. Therefore, 1 passenger is successfully booked, and 1 passenger is on the waitlist.\n"
   ]
  },
  {
   "cell_type": "code",
   "execution_count": 0,
   "metadata": {
    "application/vnd.databricks.v1+cell": {
     "cellMetadata": {
      "byteLimit": 2048000,
      "rowLimit": 10000
     },
     "inputWidgets": {},
     "nuid": "137536ea-9bec-4171-8dc2-4bf8b0d771b4",
     "showTitle": false,
     "tableResultSettingsMap": {},
     "title": ""
    }
   },
   "outputs": [
    {
     "output_type": "stream",
     "name": "stdout",
     "output_type": "stream",
     "text": [
      "+---------+--------+\n|flight_id|capacity|\n+---------+--------+\n|        1|       2|\n|        2|       2|\n|        3|       1|\n+---------+--------+\n\n+------------+---------+\n|passenger_id|flight_id|\n+------------+---------+\n|         101|        1|\n|         102|        1|\n|         103|        1|\n|         104|        2|\n|         105|        2|\n|         106|        3|\n|         107|        3|\n+------------+---------+\n\n"
     ]
    }
   ],
   "source": [
    "flights_data_2783 = [\n",
    "    (1, 2),\n",
    "    (2, 2),\n",
    "    (3, 1)\n",
    "]\n",
    "\n",
    "flights_columns_2783 = [\"flight_id\", \"capacity\"]\n",
    "flights_df_2783 = spark.createDataFrame(flights_data_2783, flights_columns_2783)\n",
    "flights_df_2783.show()\n",
    "\n",
    "passengers_data_2783 = [\n",
    "    (101, 1),\n",
    "    (102, 1),\n",
    "    (103, 1),\n",
    "    (104, 2),\n",
    "    (105, 2),\n",
    "    (106, 3),\n",
    "    (107, 3)\n",
    "]\n",
    "\n",
    "passengers_columns_2783 = [\"passenger_id\", \"flight_id\"]\n",
    "passengers_df_2783 = spark.createDataFrame(passengers_data_2783, passengers_columns_2783)\n",
    "passengers_df_2783.show()"
   ]
  },
  {
   "cell_type": "code",
   "execution_count": 0,
   "metadata": {
    "application/vnd.databricks.v1+cell": {
     "cellMetadata": {
      "byteLimit": 2048000,
      "rowLimit": 10000
     },
     "inputWidgets": {},
     "nuid": "5a3664ae-85a0-4249-97b4-7d057e2b85a0",
     "showTitle": false,
     "tableResultSettingsMap": {},
     "title": ""
    }
   },
   "outputs": [],
   "source": [
    "passengers_df_2783 = passengers_df_2783\\\n",
    "                            .groupBy(\"flight_id\")\\\n",
    "                                .agg(count(\"*\").alias(\"total_passengers\"))\n"
   ]
  },
  {
   "cell_type": "code",
   "execution_count": 0,
   "metadata": {
    "application/vnd.databricks.v1+cell": {
     "cellMetadata": {
      "byteLimit": 2048000,
      "rowLimit": 10000
     },
     "inputWidgets": {},
     "nuid": "340e6fb3-0242-4966-bdfc-bd00884c03d2",
     "showTitle": false,
     "tableResultSettingsMap": {},
     "title": ""
    }
   },
   "outputs": [],
   "source": [
    "joined_df_2783 = flights_df_2783\\\n",
    "                        .join(\n",
    "                            passengers_df_2783, on=\"flight_id\", how=\"left\"\n",
    "                            ).fillna(0)"
   ]
  },
  {
   "cell_type": "code",
   "execution_count": 0,
   "metadata": {
    "application/vnd.databricks.v1+cell": {
     "cellMetadata": {
      "byteLimit": 2048000,
      "rowLimit": 10000
     },
     "inputWidgets": {},
     "nuid": "74cba37a-1f47-4b7d-b25f-15fe3c73e16e",
     "showTitle": false,
     "tableResultSettingsMap": {},
     "title": ""
    }
   },
   "outputs": [
    {
     "output_type": "display_data",
     "data": {
      "text/html": [
       "<style scoped>\n",
       "  .table-result-container {\n",
       "    max-height: 300px;\n",
       "    overflow: auto;\n",
       "  }\n",
       "  table, th, td {\n",
       "    border: 1px solid black;\n",
       "    border-collapse: collapse;\n",
       "  }\n",
       "  th, td {\n",
       "    padding: 5px;\n",
       "  }\n",
       "  th {\n",
       "    text-align: left;\n",
       "  }\n",
       "</style><div class='table-result-container'><table class='table-result'><thead style='background-color: white'><tr><th>flight_id</th><th>booked_cnt</th><th>waitlist_cnt</th></tr></thead><tbody><tr><td>1</td><td>2</td><td>1</td></tr><tr><td>2</td><td>2</td><td>0</td></tr><tr><td>3</td><td>1</td><td>1</td></tr></tbody></table></div>"
      ]
     },
     "metadata": {
      "application/vnd.databricks.v1+output": {
       "addedWidgets": {},
       "aggData": [],
       "aggError": "",
       "aggOverflow": false,
       "aggSchema": [],
       "aggSeriesLimitReached": false,
       "aggType": "",
       "arguments": {},
       "columnCustomDisplayInfos": {},
       "data": [
        [
         1,
         2,
         1
        ],
        [
         2,
         2,
         0
        ],
        [
         3,
         1,
         1
        ]
       ],
       "datasetInfos": [],
       "dbfsResultPath": null,
       "isJsonSchema": true,
       "metadata": {},
       "overflow": false,
       "plotOptions": {
        "customPlotOptions": {},
        "displayType": "table",
        "pivotAggregation": null,
        "pivotColumns": null,
        "xColumns": null,
        "yColumns": null
       },
       "removedWidgets": [],
       "schema": [
        {
         "metadata": "{}",
         "name": "flight_id",
         "type": "\"long\""
        },
        {
         "metadata": "{}",
         "name": "booked_cnt",
         "type": "\"long\""
        },
        {
         "metadata": "{}",
         "name": "waitlist_cnt",
         "type": "\"long\""
        }
       ],
       "type": "table"
      }
     },
     "output_type": "display_data"
    }
   ],
   "source": [
    "joined_df_2783\\\n",
    "    .withColumn(\n",
    "        \"booked_cnt\",\n",
    "        least(col(\"capacity\"), col(\"total_passengers\")))\\\n",
    "    .withColumn(\n",
    "        \"waitlist_cnt\",\n",
    "        greatest(col(\"total_passengers\") - col(\"capacity\"), lit(0)))\\\n",
    "            .select(\"flight_id\", \"booked_cnt\", \"waitlist_cnt\").orderBy(\"flight_id\").display()"
   ]
  }
 ],
 "metadata": {
  "application/vnd.databricks.v1+notebook": {
   "computePreferences": {
    "hardware": {
     "accelerator": null,
     "gpuPoolId": null,
     "memory": null
    }
   },
   "dashboards": [],
   "environmentMetadata": {
    "base_environment": "",
    "environment_version": "2"
   },
   "inputWidgetPreferences": null,
   "language": "python",
   "notebookMetadata": {
    "pythonIndentUnit": 4
   },
   "notebookName": "2783. Flight Occupancy and Waitlist Analysis (Medium)-(Solved)",
   "widgets": {}
  },
  "language_info": {
   "name": "python"
  }
 },
 "nbformat": 4,
 "nbformat_minor": 0
}
