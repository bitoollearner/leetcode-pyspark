{
 "cells": [
  {
   "cell_type": "markdown",
   "metadata": {
    "application/vnd.databricks.v1+cell": {
     "cellMetadata": {},
     "inputWidgets": {},
     "nuid": "516a210c-988a-43a8-9004-cb03ad7c2481",
     "showTitle": false,
     "tableResultSettingsMap": {},
     "title": ""
    }
   },
   "source": [
    "## Importing Libraries"
   ]
  },
  {
   "cell_type": "code",
   "execution_count": 0,
   "metadata": {
    "application/vnd.databricks.v1+cell": {
     "cellMetadata": {},
     "inputWidgets": {},
     "nuid": "9333a394-5bb0-4f1f-8f10-60b56c9fb68e",
     "showTitle": false,
     "tableResultSettingsMap": {},
     "title": ""
    }
   },
   "outputs": [],
   "source": [
    "from pyspark.sql.functions import *\n",
    "from pyspark.sql.types import *\n",
    "from pyspark.sql.window import Window"
   ]
  },
  {
   "cell_type": "markdown",
   "metadata": {
    "application/vnd.databricks.v1+cell": {
     "cellMetadata": {},
     "inputWidgets": {},
     "nuid": "b718c875-1030-4207-a68c-5fad8635212a",
     "showTitle": false,
     "tableResultSettingsMap": {},
     "title": ""
    }
   },
   "source": [
    "**1384. Total Sales Amount by Year (Hard)**\n",
    "\n",
    "**Table: Product**\n",
    "\n",
    "| Column Name   | Type    |\n",
    "|---------------|---------|\n",
    "| product_id    | int     |\n",
    "| product_name  | varchar |\n",
    "\n",
    "product_id is the primary key (column with unique values) for this table.\n",
    "product_name is the name of the product.\n",
    " \n",
    "**Table: Sales**\n",
    "\n",
    "| Column Name         | Type    |\n",
    "|---------------------|---------|\n",
    "| product_id          | int     |\n",
    "| period_start        | date    |\n",
    "| period_end          | date    |\n",
    "| average_daily_sales | int     |\n",
    "\n",
    "product_id is the primary key (column with unique values) for this table. \n",
    "period_start and period_end indicate the start and end date for the sales period, and both dates are inclusive.\n",
    "The average_daily_sales column holds the average daily sales amount of the items for the period.\n",
    "The dates of the sales years are between 2018 to 2020.\n",
    " \n",
    "**Write a solution to report the total sales amount of each item for each year, with corresponding product_name, product_id, report_year, and total_amount.**\n",
    "\n",
    "Return the result table ordered by product_id and report_year.\n",
    "\n",
    "The result format is in the following example.\n",
    "\n",
    "**Example 1:**\n",
    "\n",
    "**Input:** \n",
    "\n",
    "**Product table:**\n",
    "\n",
    "| product_id | product_name |\n",
    "|------------|--------------|\n",
    "| 1          | LC Phone     |\n",
    "| 2          | LC T-Shirt   |\n",
    "| 3          | LC Keychain  |\n",
    "\n",
    "**Sales table:**\n",
    "| product_id | period_start | period_end  | average_daily_sales |\n",
    "|------------|--------------|-------------|---------------------|\n",
    "| 1          | 2019-01-25   | 2019-02-28  | 100                 |\n",
    "| 2          | 2018-12-01   | 2020-01-01  | 10                  |\n",
    "| 3          | 2019-12-01   | 2020-01-31  | 1                   |\n",
    "\n",
    "**Output:** \n",
    "| product_id | product_name | report_year | total_amount |\n",
    "|------------|--------------|-------------|--------------|\n",
    "| 1          | LC Phone     |    2019     | 3500         |\n",
    "| 2          | LC T-Shirt   |    2018     | 310          |\n",
    "| 2          | LC T-Shirt   |    2019     | 3650         |\n",
    "| 2          | LC T-Shirt   |    2020     | 10           |\n",
    "| 3          | LC Keychain  |    2019     | 31           |\n",
    "| 3          | LC Keychain  |    2020     | 31           |\n",
    "\n",
    "**Explanation:** \n",
    "- LC Phone was sold for the period of 2019-01-25 to 2019-02-28, and there are 35 days for this period. Total amount 35*100 = 3500. \n",
    "- LC T-shirt was sold for the period of 2018-12-01 to 2020-01-01, and there are 31, 365, 1 days for years 2018, 2019 and 2020 respectively.\n",
    "- LC Keychain was sold for the period of 2019-12-01 to 2020-01-31, and there are 31, 31 days for years 2019 and 2020 respectively."
   ]
  },
  {
   "cell_type": "code",
   "execution_count": 0,
   "metadata": {
    "application/vnd.databricks.v1+cell": {
     "cellMetadata": {},
     "inputWidgets": {},
     "nuid": "01e4d778-a8a5-48a7-8ebb-7033f0b84d62",
     "showTitle": false,
     "tableResultSettingsMap": {},
     "title": ""
    }
   },
   "outputs": [],
   "source": [
    "product_data_1384 = [\n",
    "    (1, \"LC Phone\"),\n",
    "    (2, \"LC T-Shirt\"),\n",
    "    (3, \"LC Keychain\")\n",
    "]\n",
    "product_columns_1384 = [\"product_id\", \"product_name\"]\n",
    "product_df_1384 = spark.createDataFrame(product_data_1384, product_columns_1384)\n",
    "product_df_1384.show()\n",
    "\n",
    "sales_data_1384 = [\n",
    "    (1, \"2019-01-25\", \"2019-02-28\", 100),\n",
    "    (2, \"2018-12-01\", \"2020-01-01\", 10),\n",
    "    (3, \"2019-12-01\", \"2020-01-31\", 1)\n",
    "]\n",
    "sales_columns_1384 = [\"product_id\", \"period_start\", \"period_end\", \"average_daily_sales\"]\n",
    "sales_df_1384 = spark.createDataFrame(sales_data_1384, sales_columns_1384)\n",
    "sales_df_1384.show()"
   ]
  }
 ],
 "metadata": {
  "application/vnd.databricks.v1+notebook": {
   "computePreferences": null,
   "dashboards": [],
   "environmentMetadata": {
    "base_environment": "",
    "environment_version": "1"
   },
   "inputWidgetPreferences": null,
   "language": "python",
   "notebookMetadata": {
    "pythonIndentUnit": 4
   },
   "notebookName": "1384. Total Sales Amount by Year (Hard)-(Solved)",
   "widgets": {}
  },
  "language_info": {
   "name": "python"
  }
 },
 "nbformat": 4,
 "nbformat_minor": 0
}
