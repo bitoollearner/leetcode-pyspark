{
 "cells": [
  {
   "cell_type": "markdown",
   "metadata": {
    "application/vnd.databricks.v1+cell": {
     "cellMetadata": {
      "byteLimit": 2048000,
      "rowLimit": 10000
     },
     "inputWidgets": {},
     "nuid": "4e9d71b1-88e9-445c-820a-b842e217a4e7",
     "showTitle": false,
     "tableResultSettingsMap": {},
     "title": ""
    }
   },
   "source": [
    "## Importing Libraries"
   ]
  },
  {
   "cell_type": "code",
   "execution_count": 0,
   "metadata": {
    "application/vnd.databricks.v1+cell": {
     "cellMetadata": {
      "byteLimit": 2048000,
      "rowLimit": 10000
     },
     "inputWidgets": {},
     "nuid": "e6624c4d-8cb8-4ac4-8c72-81d1b4ecdb57",
     "showTitle": false,
     "tableResultSettingsMap": {},
     "title": ""
    }
   },
   "outputs": [],
   "source": [
    "from pyspark.sql.functions import *\n",
    "from pyspark.sql.types import *\n",
    "from pyspark.sql.window import Window"
   ]
  },
  {
   "cell_type": "markdown",
   "metadata": {
    "application/vnd.databricks.v1+cell": {
     "cellMetadata": {
      "byteLimit": 2048000,
      "rowLimit": 10000
     },
     "inputWidgets": {},
     "nuid": "c3788fe5-f4c9-420f-ad72-ec1a39310a2a",
     "showTitle": false,
     "tableResultSettingsMap": {},
     "title": ""
    }
   },
   "source": [
    "**2292. Products With Three or More Orders in Two Consecutive Years (Medium)**\n",
    "\n",
    "**Table: Orders**\n",
    "\n",
    "| Column Name   | Type |\n",
    "|---------------|------|\n",
    "| order_id      | int  |\n",
    "| product_id    | int  |\n",
    "| quantity      | int  |\n",
    "| purchase_date | date |\n",
    "\n",
    "order_id contains unique values.\n",
    "Each row in this table contains the ID of an order, the id of the product purchased, the quantity, and the purchase date.\n",
    " \n",
    "**Write a solution to report the IDs of all the products that were ordered three or more times in two consecutive years.**\n",
    "\n",
    "Return the result table in any order.\n",
    "\n",
    "The result format is shown in the following example.\n",
    "\n",
    "**Example 1:**\n",
    "\n",
    "**Input:** \n",
    "\n",
    "**Orders table:**\n",
    "\n",
    "| order_id | product_id | quantity | purchase_date |\n",
    "|----------|------------|----------|---------------|\n",
    "| 1        | 1          | 7        | 2020-03-16    |\n",
    "| 2        | 1          | 4        | 2020-12-02    |\n",
    "| 3        | 1          | 7        | 2020-05-10    |\n",
    "| 4        | 1          | 6        | 2021-12-23    |\n",
    "| 5        | 1          | 5        | 2021-05-21    |\n",
    "| 6        | 1          | 6        | 2021-10-11    |\n",
    "| 7        | 2          | 6        | 2022-10-11    |\n",
    "\n",
    "**Output:** \n",
    "| product_id |\n",
    "|------------|\n",
    "| 1          |\n",
    "\n",
    "**Explanation:** \n",
    "- Product 1 was ordered in 2020 three times and in 2021 three times. Since it was ordered three times in two consecutive years, we include it in the answer.\n",
    "- Product 2 was ordered one time in 2022. We do not include it in the answer."
   ]
  },
  {
   "cell_type": "code",
   "execution_count": 0,
   "metadata": {
    "application/vnd.databricks.v1+cell": {
     "cellMetadata": {
      "byteLimit": 2048000,
      "rowLimit": 10000
     },
     "inputWidgets": {},
     "nuid": "137536ea-9bec-4171-8dc2-4bf8b0d771b4",
     "showTitle": false,
     "tableResultSettingsMap": {},
     "title": ""
    }
   },
   "outputs": [
    {
     "output_type": "stream",
     "name": "stdout",
     "output_type": "stream",
     "text": [
      "+--------+----------+--------+-------------+\n|order_id|product_id|quantity|purchase_date|\n+--------+----------+--------+-------------+\n|       1|         1|       7|   2020-03-16|\n|       2|         1|       4|   2020-12-02|\n|       3|         1|       7|   2020-05-10|\n|       4|         1|       6|   2021-12-23|\n|       5|         1|       5|   2021-05-21|\n|       6|         1|       6|   2021-10-11|\n|       7|         2|       6|   2022-10-11|\n+--------+----------+--------+-------------+\n\n"
     ]
    }
   ],
   "source": [
    "orders_data_2292 = [\n",
    "    (1, 1, 7, \"2020-03-16\"),\n",
    "    (2, 1, 4, \"2020-12-02\"),\n",
    "    (3, 1, 7, \"2020-05-10\"),\n",
    "    (4, 1, 6, \"2021-12-23\"),\n",
    "    (5, 1, 5, \"2021-05-21\"),\n",
    "    (6, 1, 6, \"2021-10-11\"),\n",
    "    (7, 2, 6, \"2022-10-11\"),\n",
    "]\n",
    "\n",
    "orders_columns_2292 = [\"order_id\", \"product_id\", \"quantity\", \"purchase_date\"]\n",
    "orders_df_2292 = spark.createDataFrame(orders_data_2292,orders_columns_2292)\n",
    "orders_df_2292.show()"
   ]
  },
  {
   "cell_type": "code",
   "execution_count": 0,
   "metadata": {
    "application/vnd.databricks.v1+cell": {
     "cellMetadata": {
      "byteLimit": 2048000,
      "rowLimit": 10000
     },
     "inputWidgets": {},
     "nuid": "980ccb24-4c15-4b0f-992d-327aed696469",
     "showTitle": false,
     "tableResultSettingsMap": {},
     "title": ""
    }
   },
   "outputs": [],
   "source": [
    "orders_df_2292 = orders_df_2292\\\n",
    "                    .withColumn( \"purchase_date\", to_date(\"purchase_date\"))"
   ]
  },
  {
   "cell_type": "code",
   "execution_count": 0,
   "metadata": {
    "application/vnd.databricks.v1+cell": {
     "cellMetadata": {
      "byteLimit": 2048000,
      "rowLimit": 10000
     },
     "inputWidgets": {},
     "nuid": "577e768b-3731-4c68-9a50-6e5f9f40f092",
     "showTitle": false,
     "tableResultSettingsMap": {},
     "title": ""
    }
   },
   "outputs": [],
   "source": [
    "df_year_2292 = orders_df_2292.withColumn(\"year\", year(\"purchase_date\"))"
   ]
  },
  {
   "cell_type": "code",
   "execution_count": 0,
   "metadata": {
    "application/vnd.databricks.v1+cell": {
     "cellMetadata": {
      "byteLimit": 2048000,
      "rowLimit": 10000
     },
     "inputWidgets": {},
     "nuid": "d31fd472-0b74-41c5-be80-4fe9c1c9b9a0",
     "showTitle": false,
     "tableResultSettingsMap": {},
     "title": ""
    }
   },
   "outputs": [],
   "source": [
    "df_counts_2292 = df_year_2292\\\n",
    "                    .groupBy(\"product_id\", \"year\")\\\n",
    "                        .agg(countDistinct(\"order_id\").alias(\"order_count\")\n",
    "                             )"
   ]
  },
  {
   "cell_type": "code",
   "execution_count": 0,
   "metadata": {
    "application/vnd.databricks.v1+cell": {
     "cellMetadata": {
      "byteLimit": 2048000,
      "rowLimit": 10000
     },
     "inputWidgets": {},
     "nuid": "82dc42d3-3760-4b22-b888-6351aadf274d",
     "showTitle": false,
     "tableResultSettingsMap": {},
     "title": ""
    }
   },
   "outputs": [],
   "source": [
    "df_filtered_2292 = df_counts_2292.filter(\"order_count >= 3\")"
   ]
  },
  {
   "cell_type": "code",
   "execution_count": 0,
   "metadata": {
    "application/vnd.databricks.v1+cell": {
     "cellMetadata": {
      "byteLimit": 2048000,
      "rowLimit": 10000
     },
     "inputWidgets": {},
     "nuid": "9668ba17-abb3-4683-8379-d3ddf34b4787",
     "showTitle": false,
     "tableResultSettingsMap": {},
     "title": ""
    }
   },
   "outputs": [],
   "source": [
    "windowSpec = Window.partitionBy(\"product_id\").orderBy(\"year\")"
   ]
  },
  {
   "cell_type": "code",
   "execution_count": 0,
   "metadata": {
    "application/vnd.databricks.v1+cell": {
     "cellMetadata": {
      "byteLimit": 2048000,
      "rowLimit": 10000
     },
     "inputWidgets": {},
     "nuid": "a54e1196-f5bc-426f-89da-b35c3226287c",
     "showTitle": false,
     "tableResultSettingsMap": {},
     "title": ""
    }
   },
   "outputs": [],
   "source": [
    "df_consec_2292 = df_filtered_2292.withColumn(\"prev_year\", lag(\"year\").over(windowSpec))"
   ]
  },
  {
   "cell_type": "code",
   "execution_count": 0,
   "metadata": {
    "application/vnd.databricks.v1+cell": {
     "cellMetadata": {
      "byteLimit": 2048000,
      "rowLimit": 10000
     },
     "inputWidgets": {},
     "nuid": "3f54f385-cf6b-49c7-8ae8-fe7eb63481c8",
     "showTitle": false,
     "tableResultSettingsMap": {},
     "title": ""
    }
   },
   "outputs": [
    {
     "output_type": "stream",
     "name": "stdout",
     "output_type": "stream",
     "text": [
      "+----------+\n|product_id|\n+----------+\n|         1|\n+----------+\n\n"
     ]
    }
   ],
   "source": [
    "df_consec_2292\\\n",
    "    .filter(col(\"year\") - col(\"prev_year\") == 1)\\\n",
    "        .select(\"product_id\")\\\n",
    "            .distinct().show()"
   ]
  }
 ],
 "metadata": {
  "application/vnd.databricks.v1+notebook": {
   "computePreferences": {
    "hardware": {
     "accelerator": null,
     "gpuPoolId": null,
     "memory": null
    }
   },
   "dashboards": [],
   "environmentMetadata": {
    "base_environment": "",
    "environment_version": "2"
   },
   "inputWidgetPreferences": null,
   "language": "python",
   "notebookMetadata": {
    "pythonIndentUnit": 4
   },
   "notebookName": "2292. Products With Three or More Orders in Two Consecutive Years (Medium)-(Solved)",
   "widgets": {}
  },
  "language_info": {
   "name": "python"
  }
 },
 "nbformat": 4,
 "nbformat_minor": 0
}
