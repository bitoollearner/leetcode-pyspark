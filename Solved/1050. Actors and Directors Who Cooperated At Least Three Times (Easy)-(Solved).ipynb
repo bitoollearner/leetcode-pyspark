{
 "cells": [
  {
   "cell_type": "markdown",
   "metadata": {
    "application/vnd.databricks.v1+cell": {
     "cellMetadata": {
      "byteLimit": 2048000,
      "rowLimit": 10000
     },
     "inputWidgets": {},
     "nuid": "4cd0cff4-1b3d-443e-8f60-5eaa3c44b351",
     "showTitle": false,
     "tableResultSettingsMap": {},
     "title": ""
    }
   },
   "source": [
    "## Importing Libraries"
   ]
  },
  {
   "cell_type": "code",
   "execution_count": 0,
   "metadata": {
    "application/vnd.databricks.v1+cell": {
     "cellMetadata": {
      "byteLimit": 2048000,
      "rowLimit": 10000
     },
     "inputWidgets": {},
     "nuid": "97710283-7ef7-4994-bdf7-ab35e4e4acd8",
     "showTitle": false,
     "tableResultSettingsMap": {},
     "title": ""
    }
   },
   "outputs": [],
   "source": [
    "from pyspark.sql.functions import *\n",
    "from pyspark.sql.types import *\n",
    "from pyspark.sql.window import Window"
   ]
  },
  {
   "cell_type": "markdown",
   "metadata": {
    "application/vnd.databricks.v1+cell": {
     "cellMetadata": {
      "byteLimit": 2048000,
      "rowLimit": 10000
     },
     "inputWidgets": {},
     "nuid": "d438d974-0dc5-432f-af61-ceb185a0700c",
     "showTitle": false,
     "tableResultSettingsMap": {},
     "title": ""
    }
   },
   "source": [
    "**1050. Actors and Directors Who Cooperated At Least Three Times (Easy)**\n",
    "\n",
    "**Table: ActorDirector**\n",
    "\n",
    "| Column Name | Type    |\n",
    "|-------------|---------|\n",
    "| actor_id    | int     |\n",
    "| director_id | int     |\n",
    "| timestamp   | int     |\n",
    "\n",
    "timestamp is the primary key (column with unique values) for this table.\n",
    " \n",
    "**Write a solution to find all the pairs (actor_id, director_id) where the actor has cooperated with the director at least three times.**\n",
    "\n",
    "Return the result table in any order.\n",
    "\n",
    "The result format is in the following example.\n",
    "\n",
    "**Example 1:**\n",
    "\n",
    "**Input:**\n",
    "**ActorDirector table:**\n",
    "\n",
    "| actor_id    | director_id | timestamp   |\n",
    "|-------------|-------------|-------------|\n",
    "| 1           | 1           | 0           |\n",
    "| 1           | 1           | 1           |\n",
    "| 1           | 1           | 2           |\n",
    "| 1           | 2           | 3           |\n",
    "| 1           | 2           | 4           |\n",
    "| 2           | 1           | 5           |\n",
    "| 2           | 1           | 6           |\n",
    "\n",
    "**Output:**\n",
    "| actor_id    | director_id |\n",
    "|-------------|-------------|\n",
    "| 1           | 1           |\n",
    "\n",
    "**Explanation:** The only pair is (1, 1) where they cooperated exactly 3 times."
   ]
  },
  {
   "cell_type": "code",
   "execution_count": 0,
   "metadata": {
    "application/vnd.databricks.v1+cell": {
     "cellMetadata": {
      "byteLimit": 2048000,
      "rowLimit": 10000
     },
     "inputWidgets": {},
     "nuid": "c899699d-2ed8-4227-ba6f-ca46f3f95a7f",
     "showTitle": false,
     "tableResultSettingsMap": {},
     "title": ""
    }
   },
   "outputs": [],
   "source": [
    "actor_director_data_1050 = [\n",
    "    (1, 1, 0),\n",
    "    (1, 1, 1),\n",
    "    (1, 1, 2),\n",
    "    (1, 2, 3),\n",
    "    (1, 2, 4),\n",
    "    (2, 1, 5),\n",
    "    (2, 1, 6)\n",
    "]\n",
    "\n",
    "actor_director_columns_1050 = [\"actor_id\", \"director_id\", \"timestamp\"]\n",
    "actor_director_df_1050 = spark.createDataFrame(actor_director_data_1050, actor_director_columns_1050)\n",
    "actor_director_df_1050.show()"
   ]
  },
  {
   "cell_type": "code",
   "execution_count": 0,
   "metadata": {
    "application/vnd.databricks.v1+cell": {
     "cellMetadata": {
      "byteLimit": 2048000,
      "rowLimit": 10000
     },
     "inputWidgets": {},
     "nuid": "034b4770-8582-4619-ae18-b0aaeb1d5115",
     "showTitle": false,
     "tableResultSettingsMap": {},
     "title": ""
    }
   },
   "outputs": [],
   "source": [
    "actor_director_df_1050\\\n",
    "    .groupBy(\"actor_id\", \"director_id\")\\\n",
    "    .agg(count(\"*\").alias(\"cooperations\"))\\\n",
    "    .filter(col(\"cooperations\") >= 3)\\\n",
    "    .select(\"actor_id\", \"director_id\").show()"
   ]
  }
 ],
 "metadata": {
  "application/vnd.databricks.v1+notebook": {
   "computePreferences": {
    "hardware": {
     "accelerator": null,
     "gpuPoolId": null,
     "memory": null
    }
   },
   "dashboards": [],
   "environmentMetadata": {
    "base_environment": "",
    "environment_version": "2"
   },
   "inputWidgetPreferences": null,
   "language": "python",
   "notebookMetadata": {
    "pythonIndentUnit": 4
   },
   "notebookName": "1050. Actors and Directors Who Cooperated At Least Three Times (Easy)-(Solved)",
   "widgets": {}
  },
  "language_info": {
   "name": "python"
  }
 },
 "nbformat": 4,
 "nbformat_minor": 0
}
