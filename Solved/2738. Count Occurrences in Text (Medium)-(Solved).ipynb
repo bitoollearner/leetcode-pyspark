{
 "cells": [
  {
   "cell_type": "markdown",
   "metadata": {
    "application/vnd.databricks.v1+cell": {
     "cellMetadata": {
      "byteLimit": 2048000,
      "rowLimit": 10000
     },
     "inputWidgets": {},
     "nuid": "4e9d71b1-88e9-445c-820a-b842e217a4e7",
     "showTitle": false,
     "tableResultSettingsMap": {},
     "title": ""
    }
   },
   "source": [
    "## Importing Libraries"
   ]
  },
  {
   "cell_type": "code",
   "execution_count": 0,
   "metadata": {
    "application/vnd.databricks.v1+cell": {
     "cellMetadata": {
      "byteLimit": 2048000,
      "rowLimit": 10000
     },
     "inputWidgets": {},
     "nuid": "e6624c4d-8cb8-4ac4-8c72-81d1b4ecdb57",
     "showTitle": false,
     "tableResultSettingsMap": {},
     "title": ""
    }
   },
   "outputs": [],
   "source": [
    "from pyspark.sql.functions import *\n",
    "from pyspark.sql.types import *\n",
    "from pyspark.sql.window import Window"
   ]
  },
  {
   "cell_type": "markdown",
   "metadata": {
    "application/vnd.databricks.v1+cell": {
     "cellMetadata": {
      "byteLimit": 2048000,
      "rowLimit": 10000
     },
     "inputWidgets": {},
     "nuid": "c3788fe5-f4c9-420f-ad72-ec1a39310a2a",
     "showTitle": false,
     "tableResultSettingsMap": {},
     "title": ""
    }
   },
   "source": [
    "**2738. Count Occurrences in Text (Medium)**\n",
    "\n",
    "**Table: Files**\n",
    "\n",
    "| Column Name | Type    |\n",
    "|-------------|---------|\n",
    "| file_name   | varchar |\n",
    "| content     | text    |\n",
    "\n",
    "file_name is the column with unique values of this table. \n",
    "Each row contains file_name and the content of that file.\n",
    "\n",
    "**Write a solution to find the number of files that have at least one occurrence of the words 'bull' and 'bear' as a standalone word, respectively, disregarding any instances where it appears without space on either side (e.g. 'bullet', 'bears', 'bull.', or 'bear' at the beginning or end of a sentence will not be considered)** \n",
    "\n",
    "Return the word 'bull' and 'bear' along with the corresponding number of occurrences in any order.\n",
    "\n",
    "The result format is in the following example.\n",
    "\n",
    "**Example 1:**\n",
    "\n",
    "**Input:** \n",
    "\n",
    "**Files table:**\n",
    "| file_name  | content                                                                         | \n",
    "|------------|----------------------------------------------------------------------------------|\n",
    "| draft1.txt | The stock exchange predicts a bull market which would make many investors happy. | \n",
    "| draft2.txt | The stock exchange predicts a bull market which would make many investors happy, |\n",
    "|            | but analysts warn of possibility of too much optimism and that in fact we are    |\n",
    "|            | awaiting a bear market.                                                          | \n",
    "| draft3.txt | The stock exchange predicts a bull market which would make many investors happy, |\n",
    "|            | but analysts warn of possibility of too much optimism and that in fact we are    |\n",
    "|            | awaiting a bear market. As always predicting the future market is an uncertain   |\n",
    "|            | game and all investors should follow their instincts and best practices.         | \n",
    "\n",
    "**Output:** \n",
    "| word | count |  \n",
    "|------|-------|\n",
    "| bull | 3     | \n",
    "| bear | 2     | \n",
    "\n",
    "**Explanation:** \n",
    "- The word \"bull\" appears 1 time in \"draft1.txt\", 1 time in \"draft2.txt\", and 1 time in \"draft3.txt\". Therefore, the total number of occurrences for the word \"bull\" is 3.\n",
    "- The word \"bear\" appears 1 time in \"draft2.txt\", and 1 time in \"draft3.txt\". Therefore, the total number of occurrences for the word \"bear\" is 2."
   ]
  },
  {
   "cell_type": "code",
   "execution_count": 0,
   "metadata": {
    "application/vnd.databricks.v1+cell": {
     "cellMetadata": {
      "byteLimit": 2048000,
      "rowLimit": 10000
     },
     "inputWidgets": {},
     "nuid": "137536ea-9bec-4171-8dc2-4bf8b0d771b4",
     "showTitle": false,
     "tableResultSettingsMap": {},
     "title": ""
    }
   },
   "outputs": [
    {
     "output_type": "stream",
     "name": "stdout",
     "output_type": "stream",
     "text": [
      "+----------+--------------------+\n| file_name|             content|\n+----------+--------------------+\n|draft1.txt|The stock exchang...|\n|draft2.txt|The stock exchang...|\n|draft3.txt|The stock exchang...|\n+----------+--------------------+\n\n"
     ]
    }
   ],
   "source": [
    "files_data_2738 = [\n",
    "    (\"draft1.txt\", \"The stock exchange predicts a bull market which would make many investors happy.\"),\n",
    "    (\"draft2.txt\", \"The stock exchange predicts a bull market which would make many investors happy, but analysts warn of possibility of too much optimism and that in fact we are awaiting a bear market.\"),\n",
    "    (\"draft3.txt\", \"The stock exchange predicts a bull market which would make many investors happy, but analysts warn of possibility of too much optimism and that in fact we are awaiting a bear market. As always predicting the future market is an uncertain game and all investors should follow their instincts and best practices.\")\n",
    "]\n",
    "\n",
    "files_columns_2738 = [\"file_name\", \"content\"]\n",
    "files_df_2738 = spark.createDataFrame(files_data_2738, files_columns_2738)\n",
    "files_df_2738.show()"
   ]
  },
  {
   "cell_type": "code",
   "execution_count": 0,
   "metadata": {
    "application/vnd.databricks.v1+cell": {
     "cellMetadata": {
      "byteLimit": 2048000,
      "rowLimit": 10000
     },
     "inputWidgets": {},
     "nuid": "479a92af-5e25-4391-8155-7efd5f87130f",
     "showTitle": false,
     "tableResultSettingsMap": {},
     "title": ""
    }
   },
   "outputs": [],
   "source": [
    "files_df_2738 = files_df_2738\\\n",
    "                    .withColumn(\"has_bull\", when(col(\"content\").rlike(r\"\\bbull\\b\"), 1).otherwise(0))\\\n",
    "                        .withColumn(\"has_bear\", when(col(\"content\").rlike(r\"\\bbear\\b\"), 1).otherwise(0))"
   ]
  },
  {
   "cell_type": "code",
   "execution_count": 0,
   "metadata": {
    "application/vnd.databricks.v1+cell": {
     "cellMetadata": {
      "byteLimit": 2048000,
      "rowLimit": 10000
     },
     "inputWidgets": {},
     "nuid": "da71edc6-2bfb-45d8-91a4-a60cb7d1c7c5",
     "showTitle": false,
     "tableResultSettingsMap": {},
     "title": ""
    }
   },
   "outputs": [],
   "source": [
    "bull_count = files_df_2738.agg({\"has_bull\": \"sum\"}).collect()[0][0]\n",
    "bear_count = files_df_2738.agg({\"has_bear\": \"sum\"}).collect()[0][0]"
   ]
  },
  {
   "cell_type": "code",
   "execution_count": 0,
   "metadata": {
    "application/vnd.databricks.v1+cell": {
     "cellMetadata": {
      "byteLimit": 2048000,
      "rowLimit": 10000
     },
     "inputWidgets": {},
     "nuid": "6cff0641-5abc-4527-8e27-9ea2c5e4b833",
     "showTitle": false,
     "tableResultSettingsMap": {},
     "title": ""
    }
   },
   "outputs": [],
   "source": [
    "result = spark.createDataFrame([\n",
    "                            (\"bull\", bull_count),\n",
    "                            (\"bear\", bear_count)\n",
    "                            ], [\"word\", \"count\"]\n",
    "                               )"
   ]
  },
  {
   "cell_type": "code",
   "execution_count": 0,
   "metadata": {
    "application/vnd.databricks.v1+cell": {
     "cellMetadata": {
      "byteLimit": 2048000,
      "rowLimit": 10000
     },
     "inputWidgets": {},
     "nuid": "3756c29d-e3f7-4a29-b5b7-0ba492d5a696",
     "showTitle": false,
     "tableResultSettingsMap": {},
     "title": ""
    }
   },
   "outputs": [
    {
     "output_type": "display_data",
     "data": {
      "text/html": [
       "<style scoped>\n",
       "  .table-result-container {\n",
       "    max-height: 300px;\n",
       "    overflow: auto;\n",
       "  }\n",
       "  table, th, td {\n",
       "    border: 1px solid black;\n",
       "    border-collapse: collapse;\n",
       "  }\n",
       "  th, td {\n",
       "    padding: 5px;\n",
       "  }\n",
       "  th {\n",
       "    text-align: left;\n",
       "  }\n",
       "</style><div class='table-result-container'><table class='table-result'><thead style='background-color: white'><tr><th>word</th><th>count</th></tr></thead><tbody><tr><td>bull</td><td>3</td></tr><tr><td>bear</td><td>2</td></tr></tbody></table></div>"
      ]
     },
     "metadata": {
      "application/vnd.databricks.v1+output": {
       "addedWidgets": {},
       "aggData": [],
       "aggError": "",
       "aggOverflow": false,
       "aggSchema": [],
       "aggSeriesLimitReached": false,
       "aggType": "",
       "arguments": {},
       "columnCustomDisplayInfos": {},
       "data": [
        [
         "bull",
         3
        ],
        [
         "bear",
         2
        ]
       ],
       "datasetInfos": [],
       "dbfsResultPath": null,
       "isJsonSchema": true,
       "metadata": {},
       "overflow": false,
       "plotOptions": {
        "customPlotOptions": {},
        "displayType": "table",
        "pivotAggregation": null,
        "pivotColumns": null,
        "xColumns": null,
        "yColumns": null
       },
       "removedWidgets": [],
       "schema": [
        {
         "metadata": "{}",
         "name": "word",
         "type": "\"string\""
        },
        {
         "metadata": "{}",
         "name": "count",
         "type": "\"long\""
        }
       ],
       "type": "table"
      }
     },
     "output_type": "display_data"
    }
   ],
   "source": [
    "result.display()"
   ]
  }
 ],
 "metadata": {
  "application/vnd.databricks.v1+notebook": {
   "computePreferences": {
    "hardware": {
     "accelerator": null,
     "gpuPoolId": null,
     "memory": null
    }
   },
   "dashboards": [],
   "environmentMetadata": {
    "base_environment": "",
    "environment_version": "2"
   },
   "inputWidgetPreferences": null,
   "language": "python",
   "notebookMetadata": {
    "pythonIndentUnit": 4
   },
   "notebookName": "2738. Count Occurrences in Text (Medium)-(Solved)",
   "widgets": {}
  },
  "language_info": {
   "name": "python"
  }
 },
 "nbformat": 4,
 "nbformat_minor": 0
}
