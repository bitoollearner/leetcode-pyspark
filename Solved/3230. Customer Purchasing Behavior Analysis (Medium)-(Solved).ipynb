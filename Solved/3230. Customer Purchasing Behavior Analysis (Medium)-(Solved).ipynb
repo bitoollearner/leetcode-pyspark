{
 "cells": [
  {
   "cell_type": "markdown",
   "metadata": {
    "application/vnd.databricks.v1+cell": {
     "cellMetadata": {
      "byteLimit": 2048000,
      "rowLimit": 10000
     },
     "inputWidgets": {},
     "nuid": "7d1791bd-9552-4116-90b2-daa678bbffb8",
     "showTitle": false,
     "tableResultSettingsMap": {},
     "title": ""
    }
   },
   "source": [
    "## Importing Libraries"
   ]
  },
  {
   "cell_type": "code",
   "execution_count": 0,
   "metadata": {
    "application/vnd.databricks.v1+cell": {
     "cellMetadata": {
      "byteLimit": 2048000,
      "rowLimit": 10000
     },
     "inputWidgets": {},
     "nuid": "2901fbc9-49db-4285-8b94-c460f34d4c4f",
     "showTitle": false,
     "tableResultSettingsMap": {},
     "title": ""
    }
   },
   "outputs": [],
   "source": [
    "from pyspark.sql.functions import *\n",
    "from pyspark.sql.types import *\n",
    "from pyspark.sql.window import Window"
   ]
  },
  {
   "cell_type": "markdown",
   "metadata": {
    "application/vnd.databricks.v1+cell": {
     "cellMetadata": {
      "byteLimit": 2048000,
      "rowLimit": 10000
     },
     "inputWidgets": {},
     "nuid": "655120e7-6b25-417c-a08a-c6925feaa425",
     "showTitle": false,
     "tableResultSettingsMap": {},
     "title": ""
    }
   },
   "source": [
    "**3230. Customer Purchasing Behavior Analysis (Medium)**\n",
    "\n",
    "**Table: Transactions**\n",
    "\n",
    "| Column Name      | Type    |\n",
    "|------------------|---------|\n",
    "| transaction_id   | int     |\n",
    "| customer_id      | int     |\n",
    "| product_id       | int     |\n",
    "| transaction_date | date    |\n",
    "| amount           | decimal |\n",
    "\n",
    "transaction_id is the unique identifier for this table.\n",
    "Each row of this table contains information about a transaction, including the customer ID, product ID, date, and amount spent.\n",
    "\n",
    "**Table: Products**\n",
    "\n",
    "| Column Name | Type    |\n",
    "|-------------|---------|\n",
    "| product_id  | int     |\n",
    "| category    | varchar |\n",
    "| price       | decimal |\n",
    "\n",
    "product_id is the unique identifier for this table.\n",
    "Each row of this table contains information about a product, including its category and price.\n",
    "\n",
    "**Write a solution to analyze customer purchasing behavior. For each customer, calculate:**\n",
    "- The total amount spent.\n",
    "- The number of transactions.\n",
    "- The number of unique product categories purchased.\n",
    "- The average amount spent. \n",
    "- The most frequently purchased product category (if there is a tie, choose the one with the most recent transaction).\n",
    "- A loyalty score defined as: (Number of transactions * 10) + (Total amount spent / 100).\n",
    "\n",
    "Round total_amount, avg_transaction_amount, and loyalty_score to 2 decimal places.\n",
    "\n",
    "Return the result table ordered by loyalty_score in descending order, then by customer_id in ascending order.\n",
    "\n",
    "The query result format is in the following example.\n",
    "\n",
    "**Example:**\n",
    "\n",
    "**Input:**\n",
    "\n",
    "**Transactions table:**\n",
    "\n",
    "| transaction_id | customer_id | product_id | transaction_date | amount |\n",
    "|----------------|-------------|------------|------------------|--------|\n",
    "| 1              | 101         | 1          | 2023-01-01       | 100.00 |\n",
    "| 2              | 101         | 2          | 2023-01-15       | 150.00 |\n",
    "| 3              | 102         | 1          | 2023-01-01       | 100.00 |\n",
    "| 4              | 102         | 3          | 2023-01-22       | 200.00 |\n",
    "| 5              | 101         | 3          | 2023-02-10       | 200.00 |\n",
    "\n",
    "**Products table:**\n",
    "\n",
    "| product_id | category | price  |\n",
    "|------------|----------|--------|\n",
    "| 1          | A        | 100.00 |\n",
    "| 2          | B        | 150.00 |\n",
    "| 3          | C        | 200.00 |\n",
    "\n",
    "**Output:**\n",
    "\n",
    "| customer_id | total_amount | transaction_count | unique_categories | avg_transaction_amount | top_category | loyalty_score |\n",
    "|-------------|--------------|-------------------|-------------------|------------------------|--------------|---------------|\n",
    "| 101         | 450.00       | 3                 | 3                 | 150.00                 | C            | 34.50         |\n",
    "| 102         | 300.00       | 2                 | 2                 | 150.00                 | C            | 23.00         |\n",
    "\n",
    "**Explanation:**\n",
    "- For customer 101:\n",
    "  - Total amount spent: 100.00 + 150.00 + 200.00 = 450.00\n",
    "  - Number of transactions: 3\n",
    "  - Unique categories: A, B, C (3 categories)\n",
    "  - Average transaction amount: 450.00 / 3 = 150.00\n",
    "  - Top category: C (Customer 101 made 1 purchase each in categories A, B, and C. Since the count is the same for all categories, we choose the most recent transaction, which is category C on 2023-02-10)\n",
    "  - Loyalty score: (3 * 10) + (450.00 / 100) = 34.50\n",
    "\n",
    "- For customer 102:\n",
    "  - Total amount spent: 100.00 + 200.00 = 300.00\n",
    "  - Number of transactions: 2\n",
    "  - Unique categories: A, C (2 categories)\n",
    "  - Average transaction amount: 300.00 / 2 = 150.00\n",
    "  - Top category: C (Customer 102 made 1 purchase each in categories A and C. Since the count is the same for both categories, we choose the most recent transaction, which is category C on 2023-01-22)\n",
    "  - Loyalty score: (2 * 10) + (300.00 / 100) = 23.00\n",
    "\n",
    "**Note:** The output is ordered by loyalty_score in descending order, then by customer_id in ascending order.\n"
   ]
  },
  {
   "cell_type": "code",
   "execution_count": 0,
   "metadata": {
    "application/vnd.databricks.v1+cell": {
     "cellMetadata": {
      "byteLimit": 2048000,
      "rowLimit": 10000
     },
     "inputWidgets": {},
     "nuid": "a2368434-0191-416c-aa1d-12cd44cf48e6",
     "showTitle": false,
     "tableResultSettingsMap": {},
     "title": ""
    }
   },
   "outputs": [
    {
     "output_type": "stream",
     "name": "stdout",
     "output_type": "stream",
     "text": [
      "+--------------+-----------+----------+----------------+------+\n|transaction_id|customer_id|product_id|transaction_date|amount|\n+--------------+-----------+----------+----------------+------+\n|             1|        101|         1|      2023-01-01| 100.0|\n|             2|        101|         2|      2023-01-15| 150.0|\n|             3|        102|         1|      2023-01-01| 100.0|\n|             4|        102|         3|      2023-01-22| 200.0|\n|             5|        101|         3|      2023-02-10| 200.0|\n+--------------+-----------+----------+----------------+------+\n\n+----------+--------+-----+\n|product_id|category|price|\n+----------+--------+-----+\n|         1|       A|100.0|\n|         2|       B|150.0|\n|         3|       C|200.0|\n+----------+--------+-----+\n\n"
     ]
    }
   ],
   "source": [
    "transactions_data_3230 = [\n",
    "    (1, 101, 1, \"2023-01-01\", 100.00),\n",
    "    (2, 101, 2, \"2023-01-15\", 150.00),\n",
    "    (3, 102, 1, \"2023-01-01\", 100.00),\n",
    "    (4, 102, 3, \"2023-01-22\", 200.00),\n",
    "    (5, 101, 3, \"2023-02-10\", 200.00)\n",
    "]\n",
    "\n",
    "transactions_columns_3230 = [\"transaction_id\", \"customer_id\", \"product_id\", \"transaction_date\", \"amount\"]\n",
    "transactions_df_3230 = spark.createDataFrame(transactions_data_3230, transactions_columns_3230)\n",
    "transactions_df_3230.show()\n",
    "\n",
    "products_data_3230 = [\n",
    "    (1, \"A\", 100.00),\n",
    "    (2, \"B\", 150.00),\n",
    "    (3, \"C\", 200.00)\n",
    "]\n",
    "\n",
    "products_columns_3230 = [\"product_id\", \"category\", \"price\"]\n",
    "products_df_3230 = spark.createDataFrame(products_data_3230, products_columns_3230)\n",
    "products_df_3230.show()"
   ]
  },
  {
   "cell_type": "code",
   "execution_count": 0,
   "metadata": {
    "application/vnd.databricks.v1+cell": {
     "cellMetadata": {
      "byteLimit": 2048000,
      "rowLimit": 10000
     },
     "inputWidgets": {},
     "nuid": "d6895ce2-01a7-4356-b30d-74aa6336e84b",
     "showTitle": false,
     "tableResultSettingsMap": {},
     "title": ""
    }
   },
   "outputs": [],
   "source": [
    "trans_with_cat_3230 = transactions_df_3230\\\n",
    "                            .join(products_df_3230, on=\"product_id\", how=\"left\")"
   ]
  },
  {
   "cell_type": "code",
   "execution_count": 0,
   "metadata": {
    "application/vnd.databricks.v1+cell": {
     "cellMetadata": {
      "byteLimit": 2048000,
      "rowLimit": 10000
     },
     "inputWidgets": {},
     "nuid": "59ad9e82-5dd2-4a6f-8b54-2cde71eed3ea",
     "showTitle": false,
     "tableResultSettingsMap": {},
     "title": ""
    }
   },
   "outputs": [],
   "source": [
    "agg_metrics_3230 = trans_with_cat_3230\\\n",
    "                        .groupBy(\"customer_id\")\\\n",
    "                            .agg(\n",
    "                                round(sum(\"amount\"), 2).alias(\"total_amount\"),\n",
    "                                count(\"transaction_id\").alias(\"transaction_count\"),\n",
    "                                countDistinct(\"category\").alias(\"unique_categories\"),\n",
    "                                round(avg(\"amount\"), 2).alias(\"avg_transaction_amount\")\n",
    "                                )"
   ]
  },
  {
   "cell_type": "code",
   "execution_count": 0,
   "metadata": {
    "application/vnd.databricks.v1+cell": {
     "cellMetadata": {
      "byteLimit": 2048000,
      "rowLimit": 10000
     },
     "inputWidgets": {},
     "nuid": "9cee97e5-5315-48f3-bd0a-6bb7f5de78f7",
     "showTitle": false,
     "tableResultSettingsMap": {},
     "title": ""
    }
   },
   "outputs": [],
   "source": [
    "window_spec = Window.partitionBy(\"customer_id\").orderBy(col(\"category_count\").desc(), col(\"latest_date\").desc())"
   ]
  },
  {
   "cell_type": "code",
   "execution_count": 0,
   "metadata": {
    "application/vnd.databricks.v1+cell": {
     "cellMetadata": {
      "byteLimit": 2048000,
      "rowLimit": 10000
     },
     "inputWidgets": {},
     "nuid": "ef463274-f9ca-4e6e-aa0f-40a4cca362f2",
     "showTitle": false,
     "tableResultSettingsMap": {},
     "title": ""
    }
   },
   "outputs": [],
   "source": [
    "cat_stats_3230 = trans_with_cat_3230\\\n",
    "                    .groupBy(\"customer_id\", \"category\")\\\n",
    "                        .agg(\n",
    "                            count(\"transaction_id\").alias(\"category_count\"),\n",
    "                            sum(\"amount\").alias(\"total_category_amount\"),\n",
    "                            sum(\"amount\").alias(\"latest_date\")\n",
    "                            )"
   ]
  },
  {
   "cell_type": "code",
   "execution_count": 0,
   "metadata": {
    "application/vnd.databricks.v1+cell": {
     "cellMetadata": {
      "byteLimit": 2048000,
      "rowLimit": 10000
     },
     "inputWidgets": {},
     "nuid": "55370f9f-c1fa-4cb6-9733-af32dcc60b6c",
     "showTitle": false,
     "tableResultSettingsMap": {},
     "title": ""
    }
   },
   "outputs": [],
   "source": [
    "cat_stats_3230 = trans_with_cat_3230\\\n",
    "                    .groupBy(\"customer_id\", \"category\")\\\n",
    "                        .agg(\n",
    "                            count(\"transaction_id\").alias(\"category_count\"),\n",
    "                            sum(\"amount\").alias(\"total_category_amount\"),\n",
    "                            sum(col(\"transaction_date\")).alias(\"latest_date\")\n",
    "                            )"
   ]
  },
  {
   "cell_type": "code",
   "execution_count": 0,
   "metadata": {
    "application/vnd.databricks.v1+cell": {
     "cellMetadata": {
      "byteLimit": 2048000,
      "rowLimit": 10000
     },
     "inputWidgets": {},
     "nuid": "0097c13c-1199-42d3-b85f-304c4f5e286d",
     "showTitle": false,
     "tableResultSettingsMap": {},
     "title": ""
    }
   },
   "outputs": [],
   "source": [
    "cat_stats_3230 = trans_with_cat_3230\\\n",
    "                    .groupBy(\"customer_id\", \"category\")\\\n",
    "                        .agg(\n",
    "                            count(\"transaction_id\").alias(\"category_count\"),\n",
    "                            max(\"transaction_date\").alias(\"latest_date\")\n",
    "                            )"
   ]
  },
  {
   "cell_type": "code",
   "execution_count": 0,
   "metadata": {
    "application/vnd.databricks.v1+cell": {
     "cellMetadata": {
      "byteLimit": 2048000,
      "rowLimit": 10000
     },
     "inputWidgets": {},
     "nuid": "32540c4d-a7b5-4dcd-9486-1b5741dea6a8",
     "showTitle": false,
     "tableResultSettingsMap": {},
     "title": ""
    }
   },
   "outputs": [],
   "source": [
    "top_cat_ranked_3230 = cat_stats_3230\\\n",
    "                        .withColumn(\"rank\", row_number().over(window_spec))"
   ]
  },
  {
   "cell_type": "code",
   "execution_count": 0,
   "metadata": {
    "application/vnd.databricks.v1+cell": {
     "cellMetadata": {
      "byteLimit": 2048000,
      "rowLimit": 10000
     },
     "inputWidgets": {},
     "nuid": "89fe9593-065f-44ec-a59a-375576049ca9",
     "showTitle": false,
     "tableResultSettingsMap": {},
     "title": ""
    }
   },
   "outputs": [],
   "source": [
    "top_category_3230 = top_cat_ranked_3230\\\n",
    "                        .filter(col(\"rank\") == 1).select(\"customer_id\", col(\"category\").alias(\"top_category\"))"
   ]
  },
  {
   "cell_type": "code",
   "execution_count": 0,
   "metadata": {
    "application/vnd.databricks.v1+cell": {
     "cellMetadata": {
      "byteLimit": 2048000,
      "rowLimit": 10000
     },
     "inputWidgets": {},
     "nuid": "8ba0c87b-4156-4b94-b8fc-be9e75d6b9a9",
     "showTitle": false,
     "tableResultSettingsMap": {},
     "title": ""
    }
   },
   "outputs": [
    {
     "output_type": "display_data",
     "data": {
      "text/html": [
       "<style scoped>\n",
       "  .table-result-container {\n",
       "    max-height: 300px;\n",
       "    overflow: auto;\n",
       "  }\n",
       "  table, th, td {\n",
       "    border: 1px solid black;\n",
       "    border-collapse: collapse;\n",
       "  }\n",
       "  th, td {\n",
       "    padding: 5px;\n",
       "  }\n",
       "  th {\n",
       "    text-align: left;\n",
       "  }\n",
       "</style><div class='table-result-container'><table class='table-result'><thead style='background-color: white'><tr><th>customer_id</th><th>total_amount</th><th>transaction_count</th><th>unique_categories</th><th>avg_transaction_amount</th><th>top_category</th><th>loyalty_score</th></tr></thead><tbody><tr><td>101</td><td>450.0</td><td>3</td><td>3</td><td>150.0</td><td>C</td><td>34.5</td></tr><tr><td>102</td><td>300.0</td><td>2</td><td>2</td><td>150.0</td><td>C</td><td>23.0</td></tr></tbody></table></div>"
      ]
     },
     "metadata": {
      "application/vnd.databricks.v1+output": {
       "addedWidgets": {},
       "aggData": [],
       "aggError": "",
       "aggOverflow": false,
       "aggSchema": [],
       "aggSeriesLimitReached": false,
       "aggType": "",
       "arguments": {},
       "columnCustomDisplayInfos": {},
       "data": [
        [
         101,
         450.0,
         3,
         3,
         150.0,
         "C",
         34.5
        ],
        [
         102,
         300.0,
         2,
         2,
         150.0,
         "C",
         23.0
        ]
       ],
       "datasetInfos": [],
       "dbfsResultPath": null,
       "isJsonSchema": true,
       "metadata": {},
       "overflow": false,
       "plotOptions": {
        "customPlotOptions": {},
        "displayType": "table",
        "pivotAggregation": null,
        "pivotColumns": null,
        "xColumns": null,
        "yColumns": null
       },
       "removedWidgets": [],
       "schema": [
        {
         "metadata": "{}",
         "name": "customer_id",
         "type": "\"long\""
        },
        {
         "metadata": "{}",
         "name": "total_amount",
         "type": "\"double\""
        },
        {
         "metadata": "{}",
         "name": "transaction_count",
         "type": "\"long\""
        },
        {
         "metadata": "{}",
         "name": "unique_categories",
         "type": "\"long\""
        },
        {
         "metadata": "{}",
         "name": "avg_transaction_amount",
         "type": "\"double\""
        },
        {
         "metadata": "{}",
         "name": "top_category",
         "type": "\"string\""
        },
        {
         "metadata": "{}",
         "name": "loyalty_score",
         "type": "\"double\""
        }
       ],
       "type": "table"
      }
     },
     "output_type": "display_data"
    }
   ],
   "source": [
    "agg_metrics_3230\\\n",
    "    .join(top_category_3230, on=\"customer_id\", how=\"left\")\\\n",
    "        .withColumn(\"loyalty_score\", round(col(\"transaction_count\") * 10 + col(\"total_amount\") / 100, 2))\\\n",
    "            .orderBy(col(\"loyalty_score\").desc(), col(\"customer_id\").asc()).display()"
   ]
  }
 ],
 "metadata": {
  "application/vnd.databricks.v1+notebook": {
   "computePreferences": {
    "hardware": {
     "accelerator": null,
     "gpuPoolId": null,
     "memory": null
    }
   },
   "dashboards": [],
   "environmentMetadata": {
    "base_environment": "",
    "environment_version": "2"
   },
   "inputWidgetPreferences": null,
   "language": "python",
   "notebookMetadata": {
    "pythonIndentUnit": 4
   },
   "notebookName": "3230. Customer Purchasing Behavior Analysis (Medium)-(Solved)",
   "widgets": {}
  },
  "language_info": {
   "name": "python"
  }
 },
 "nbformat": 4,
 "nbformat_minor": 0
}
