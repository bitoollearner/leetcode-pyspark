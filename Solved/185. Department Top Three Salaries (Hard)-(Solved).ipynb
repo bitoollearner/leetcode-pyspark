{
 "cells": [
  {
   "cell_type": "markdown",
   "metadata": {
    "application/vnd.databricks.v1+cell": {
     "cellMetadata": {},
     "inputWidgets": {},
     "nuid": "6f777171-c429-41a4-a87e-c3b59b17ffc6",
     "showTitle": false,
     "tableResultSettingsMap": {},
     "title": ""
    }
   },
   "source": [
    "## Importing Libraries"
   ]
  },
  {
   "cell_type": "code",
   "execution_count": 0,
   "metadata": {
    "application/vnd.databricks.v1+cell": {
     "cellMetadata": {},
     "inputWidgets": {},
     "nuid": "fed5c8e8-f253-49cf-9a35-28d3ceccb997",
     "showTitle": false,
     "tableResultSettingsMap": {},
     "title": ""
    }
   },
   "outputs": [],
   "source": [
    "from pyspark.sql.functions import *\n",
    "from pyspark.sql.types import *\n",
    "from pyspark.sql.window import Window"
   ]
  },
  {
   "cell_type": "markdown",
   "metadata": {
    "application/vnd.databricks.v1+cell": {
     "cellMetadata": {},
     "inputWidgets": {},
     "nuid": "fd175d0e-ad5f-4fd8-bb83-10ff38d1c77f",
     "showTitle": false,
     "tableResultSettingsMap": {},
     "title": ""
    }
   },
   "source": [
    "**185. Department Top Three Salaries (Hard)**\n",
    "\n",
    "**Table: Employee**\n",
    "\n",
    "| Column Name  | Type    |\n",
    "|--------------|---------|\n",
    "| id           | int     |\n",
    "| name         | varchar |\n",
    "| salary       | int     |\n",
    "| departmentId | int     |\n",
    "\n",
    "id is the primary key (column with unique values) for this table.\n",
    "departmentId is a foreign key (reference column) of the ID from the Department table.\n",
    "Each row of this table indicates the ID, name, and salary of an employee. It also contains the ID of their department.\n",
    " \n",
    "**Table: Department**\n",
    "\n",
    "| Column Name | Type    |\n",
    "|-------------|---------|\n",
    "| id          | int     |\n",
    "| name        | varchar |\n",
    "\n",
    "id is the primary key (column with unique values) for this table.\n",
    "Each row of this table indicates the ID of a department and its name.\n",
    " \n",
    "A company's executives are interested in seeing who earns the most money in each of the company's departments. A high earner in a department is an employee who has a salary in the top three unique salaries for that department.\n",
    "\n",
    "**Write a solution to find the employees who are high earners in each of the departments.**\n",
    "\n",
    "Return the result table in any order.\n",
    "\n",
    "The result format is in the following example.\n",
    "\n",
    "**Example 1:**\n",
    "\n",
    "**Input:**\n",
    "**Employee table:**\n",
    "| id | name  | salary | departmentId |\n",
    "|----|-------|--------|--------------|\n",
    "| 1  | Joe   | 85000  | 1            |\n",
    "| 2  | Henry | 80000  | 2            |\n",
    "| 3  | Sam   | 60000  | 2            |\n",
    "| 4  | Max   | 90000  | 1            |\n",
    "| 5  | Janet | 69000  | 1            |\n",
    "| 6  | Randy | 85000  | 1            |\n",
    "| 7  | Will  | 70000  | 1            |\n",
    "\n",
    "**Department table:**\n",
    "\n",
    "| id | name  |\n",
    "|----|-------|\n",
    "| 1  | IT    |\n",
    "| 2  | Sales |\n",
    "\n",
    "**Output:**\n",
    "\n",
    "| Department | Employee | Salary |\n",
    "|------------|----------|--------|\n",
    "| IT         | Max      | 90000  |\n",
    "| IT         | Joe      | 85000  |\n",
    "| IT         | Randy    | 85000  |\n",
    "| IT         | Will     | 70000  |\n",
    "| Sales      | Henry    | 80000  |\n",
    "| Sales      | Sam      | 60000  |\n",
    "\n",
    "**Explanation:**\n",
    "\n",
    "In the IT department:\n",
    "- Max earns the highest unique salary\n",
    "- Both Randy and Joe earn the second-highest unique salary\n",
    "- Will earns the third-highest unique salary\n",
    "\n",
    "In the Sales department:\n",
    "- Henry earns the highest salary\n",
    "- Sam earns the second-highest salary\n",
    "- There is no third-highest salary as there are only two employees\n",
    " \n",
    "**Constraints:**\n",
    "- There are no employees with the **exact** same name, salary and department."
   ]
  },
  {
   "cell_type": "code",
   "execution_count": 0,
   "metadata": {
    "application/vnd.databricks.v1+cell": {
     "cellMetadata": {},
     "inputWidgets": {},
     "nuid": "3fdaae3e-f641-41d8-9a39-afa1e3cb2eca",
     "showTitle": false,
     "tableResultSettingsMap": {},
     "title": ""
    }
   },
   "outputs": [],
   "source": [
    "employee_data_185 = [\n",
    "    (1, \"Joe\", 85000, 1),\n",
    "    (2, \"Henry\", 80000, 2),\n",
    "    (3, \"Sam\", 60000, 2),\n",
    "    (4, \"Max\", 90000, 1),\n",
    "    (5, \"Janet\", 69000, 1),\n",
    "    (6, \"Randy\", 85000, 1),\n",
    "    (7, \"Will\", 70000, 1)\n",
    "]\n",
    "\n",
    "department_data_185 = [\n",
    "    (1, \"IT\"),\n",
    "    (2, \"Sales\")\n",
    "]\n",
    "\n",
    "employee_columns_185 = [\"id\", \"name\", \"salary\", \"departmentId\"]\n",
    "employee_df_185 = spark.createDataFrame(employee_data_185, employee_columns_185)\n",
    "employee_df_185.show()\n",
    "\n",
    "department_columns_185 = [\"id\", \"name\"]\n",
    "department_df_185 = spark.createDataFrame(department_data_185, department_columns_185)\n",
    "department_df_185.show()\n"
   ]
  }
 ],
 "metadata": {
  "application/vnd.databricks.v1+notebook": {
   "computePreferences": null,
   "dashboards": [],
   "environmentMetadata": {
    "base_environment": "",
    "client": "1"
   },
   "language": "python",
   "notebookMetadata": {
    "pythonIndentUnit": 4
   },
   "notebookName": "185. Department Top Three Salaries (Hard)",
   "widgets": {}
  }
 },
 "nbformat": 4,
 "nbformat_minor": 0
}
