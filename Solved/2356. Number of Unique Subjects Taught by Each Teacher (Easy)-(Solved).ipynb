{
 "cells": [
  {
   "cell_type": "markdown",
   "metadata": {
    "application/vnd.databricks.v1+cell": {
     "cellMetadata": {
      "byteLimit": 2048000,
      "rowLimit": 10000
     },
     "inputWidgets": {},
     "nuid": "4e9d71b1-88e9-445c-820a-b842e217a4e7",
     "showTitle": false,
     "tableResultSettingsMap": {},
     "title": ""
    }
   },
   "source": [
    "## Importing Libraries"
   ]
  },
  {
   "cell_type": "code",
   "execution_count": 0,
   "metadata": {
    "application/vnd.databricks.v1+cell": {
     "cellMetadata": {
      "byteLimit": 2048000,
      "rowLimit": 10000
     },
     "inputWidgets": {},
     "nuid": "e6624c4d-8cb8-4ac4-8c72-81d1b4ecdb57",
     "showTitle": false,
     "tableResultSettingsMap": {},
     "title": ""
    }
   },
   "outputs": [],
   "source": [
    "from pyspark.sql.functions import *\n",
    "from pyspark.sql.types import *\n",
    "from pyspark.sql.window import Window"
   ]
  },
  {
   "cell_type": "markdown",
   "metadata": {
    "application/vnd.databricks.v1+cell": {
     "cellMetadata": {
      "byteLimit": 2048000,
      "rowLimit": 10000
     },
     "inputWidgets": {},
     "nuid": "c3788fe5-f4c9-420f-ad72-ec1a39310a2a",
     "showTitle": false,
     "tableResultSettingsMap": {},
     "title": ""
    }
   },
   "source": [
    "**2356. Number of Unique Subjects Taught by Each Teacher (Easy)**\n",
    "\n",
    "**Table: Teacher**\n",
    "\n",
    "| Column Name | Type |\n",
    "|-------------|------|\n",
    "| teacher_id  | int  |\n",
    "| subject_id  | int  |\n",
    "| dept_id     | int  |\n",
    "\n",
    "(subject_id, dept_id) is the primary key (combinations of columns with unique values) of this table.\n",
    "Each row in this table indicates that the teacher with teacher_id teaches the subject subject_id in the department dept_id.\n",
    " \n",
    "**Write a solution to calculate the number of unique subjects each teacher teaches in the university.**\n",
    "\n",
    "Return the result table in any order.\n",
    "\n",
    "The result format is shown in the following example.\n",
    "\n",
    "**Example 1:**\n",
    "\n",
    "**Input:**\n",
    "**Teacher table:**\n",
    "| teacher_id | subject_id | dept_id |\n",
    "|------------|------------|---------|\n",
    "| 1          | 2          | 3       |\n",
    "| 1          | 2          | 4       |\n",
    "| 1          | 3          | 3       |\n",
    "| 2          | 1          | 1       |\n",
    "| 2          | 2          | 1       |\n",
    "| 2          | 3          | 1       |\n",
    "| 2          | 4          | 1       |\n",
    "\n",
    "**Output:**\n",
    "| teacher_id | cnt |\n",
    "|------------|-----|\n",
    "| 1          | 2   |\n",
    "| 2          | 4   |\n",
    "\n",
    "**Explanation:**\n",
    "- **Teacher 1:**\n",
    "    - They teach subject 2 in departments 3 and 4.\n",
    "    - They teach subject 3 in department 3.\n",
    "- **Teacher 2:**\n",
    "    - They teach subject 1 in department 1.\n",
    "    - They teach subject 2 in department 1.\n",
    "    - They teach subject 3 in department 1.\n",
    "    - They teach subject 4 in department 1."
   ]
  },
  {
   "cell_type": "code",
   "execution_count": 0,
   "metadata": {
    "application/vnd.databricks.v1+cell": {
     "cellMetadata": {
      "byteLimit": 2048000,
      "rowLimit": 10000
     },
     "inputWidgets": {},
     "nuid": "137536ea-9bec-4171-8dc2-4bf8b0d771b4",
     "showTitle": false,
     "tableResultSettingsMap": {},
     "title": ""
    }
   },
   "outputs": [
    {
     "output_type": "stream",
     "name": "stdout",
     "output_type": "stream",
     "text": [
      "+----------+----------+-------+\n|teacher_id|subject_id|dept_id|\n+----------+----------+-------+\n|         1|         2|      3|\n|         1|         2|      4|\n|         1|         3|      3|\n|         2|         1|      1|\n|         2|         2|      1|\n|         2|         3|      1|\n|         2|         4|      1|\n+----------+----------+-------+\n\n"
     ]
    }
   ],
   "source": [
    "teacher_data_2356 = [\n",
    "    (1, 2, 3),\n",
    "    (1, 2, 4),\n",
    "    (1, 3, 3),\n",
    "    (2, 1, 1),\n",
    "    (2, 2, 1),\n",
    "    (2, 3, 1),\n",
    "    (2, 4, 1)\n",
    "]\n",
    "\n",
    "teacher_columns_2356 = [\"teacher_id\", \"subject_id\", \"dept_id\"]\n",
    "teacher_df_2356 = spark.createDataFrame(teacher_data_2356, teacher_columns_2356)\n",
    "teacher_df_2356.show()"
   ]
  },
  {
   "cell_type": "code",
   "execution_count": 0,
   "metadata": {
    "application/vnd.databricks.v1+cell": {
     "cellMetadata": {
      "byteLimit": 2048000,
      "rowLimit": 10000
     },
     "inputWidgets": {},
     "nuid": "1798f8a5-b0db-45f7-8e38-5d0daf9909af",
     "showTitle": false,
     "tableResultSettingsMap": {},
     "title": ""
    }
   },
   "outputs": [
    {
     "output_type": "stream",
     "name": "stdout",
     "output_type": "stream",
     "text": [
      "+----------+---+\n|teacher_id|cnt|\n+----------+---+\n|         2|  4|\n|         1|  2|\n+----------+---+\n\n"
     ]
    }
   ],
   "source": [
    "teacher_df_2356\\\n",
    "    .groupBy(\"teacher_id\")\\\n",
    "        .agg(countDistinct(\"subject_id\").alias(\"cnt\")).show()"
   ]
  }
 ],
 "metadata": {
  "application/vnd.databricks.v1+notebook": {
   "computePreferences": {
    "hardware": {
     "accelerator": null,
     "gpuPoolId": null,
     "memory": null
    }
   },
   "dashboards": [],
   "environmentMetadata": {
    "base_environment": "",
    "environment_version": "2"
   },
   "inputWidgetPreferences": null,
   "language": "python",
   "notebookMetadata": {
    "pythonIndentUnit": 4
   },
   "notebookName": "2356. Number of Unique Subjects Taught by Each Teacher (Easy)-(Solved)",
   "widgets": {}
  },
  "language_info": {
   "name": "python"
  }
 },
 "nbformat": 4,
 "nbformat_minor": 0
}
