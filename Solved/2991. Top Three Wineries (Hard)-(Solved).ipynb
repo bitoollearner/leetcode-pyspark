{
 "cells": [
  {
   "cell_type": "markdown",
   "metadata": {
    "application/vnd.databricks.v1+cell": {
     "cellMetadata": {
      "byteLimit": 2048000,
      "rowLimit": 10000
     },
     "inputWidgets": {},
     "nuid": "4e9d71b1-88e9-445c-820a-b842e217a4e7",
     "showTitle": false,
     "tableResultSettingsMap": {},
     "title": ""
    }
   },
   "source": [
    "## Importing Libraries"
   ]
  },
  {
   "cell_type": "code",
   "execution_count": 0,
   "metadata": {
    "application/vnd.databricks.v1+cell": {
     "cellMetadata": {
      "byteLimit": 2048000,
      "rowLimit": 10000
     },
     "inputWidgets": {},
     "nuid": "e6624c4d-8cb8-4ac4-8c72-81d1b4ecdb57",
     "showTitle": false,
     "tableResultSettingsMap": {},
     "title": ""
    }
   },
   "outputs": [],
   "source": [
    "from pyspark.sql.functions import *\n",
    "from pyspark.sql.types import *\n",
    "from pyspark.sql.window import Window"
   ]
  },
  {
   "cell_type": "markdown",
   "metadata": {
    "application/vnd.databricks.v1+cell": {
     "cellMetadata": {
      "byteLimit": 2048000,
      "rowLimit": 10000
     },
     "inputWidgets": {},
     "nuid": "c3788fe5-f4c9-420f-ad72-ec1a39310a2a",
     "showTitle": false,
     "tableResultSettingsMap": {},
     "title": ""
    }
   },
   "source": [
    "**2991. Top Three Wineries (Hard)**\n",
    "\n",
    "**Table: Wineries**\n",
    "\n",
    "| Column Name | Type     |\n",
    "|-------------|----------|\n",
    "| id          | int      |\n",
    "| country     | varchar  |\n",
    "| points      | int      |\n",
    "| winery      | varchar  |\n",
    "\n",
    "id is column of unique values for this table.\n",
    "This table contains id, country, points, and winery.\n",
    "\n",
    "**Write a solution to find the top three wineries in each country based on their total points. If multiple wineries have the same total points, order them by winery name in ascending order. If there's no second winery, output 'No second winery,' and if there's no third winery, output 'No third winery.'**\n",
    "\n",
    "Return the result table ordered by country in ascending order.\n",
    "\n",
    "The result format is in the following example.\n",
    "\n",
    "**Example 1:**\n",
    "\n",
    "**Input:** \n",
    "**Wineries table:**\n",
    "\n",
    "| id  | country   | points | winery          | \n",
    "|-----|-----------|--------|-----------------|\n",
    "| 103 | Australia | 84     | WhisperingPines | \n",
    "| 737 | Australia | 85     | GrapesGalore    |    \n",
    "| 848 | Australia | 100    | HarmonyHill     | \n",
    "| 222 | Hungary   | 60     | MoonlitCellars  | \n",
    "| 116 | USA       | 47     | RoyalVines      | \n",
    "| 124 | USA       | 45     | Eagle'sNest     | \n",
    "| 648 | India     | 69     | SunsetVines     | \n",
    "| 894 | USA       | 39     | RoyalVines      |  \n",
    "| 677 | USA       | 9      | PacificCrest    |  \n",
    "\n",
    "**Output:**\n",
    "| country   | top_winery          | second_winery     | third_winery         |\n",
    "|-----------|---------------------|-------------------|----------------------|\n",
    "| Australia | HarmonyHill (100)   | GrapesGalore (85) | WhisperingPines (84) |\n",
    "| Hungary   | MoonlitCellars (60) | No second winery  | No third winery      | \n",
    "| India     | SunsetVines (69)    | No second winery  | No third winery      |  \n",
    "| USA       | RoyalVines (86)     | Eagle'sNest (45)  | PacificCrest (9)     | \n",
    "\n",
    "**Explanation**\n",
    "\n",
    "- For Australia\n",
    "  - HarmonyHill Winery accumulates the highest score of 100 points in Australia.\n",
    "  - GrapesGalore Winery has a total of 85 points, securing the second-highest position in Australia.\n",
    "  - WhisperingPines Winery has a total of 80 points, ranking as the third-highest.\n",
    "- For Hungary\n",
    "  - MoonlitCellars is the sole winery, accruing 60 points, automatically making it the highest. There is no second or third winery.\n",
    "- For India\n",
    "  - SunsetVines is the sole winery, earning 69 points, making it the top winery. There is no second or third winery.\n",
    "- For the USA\n",
    "  - RoyalVines Wines accumulates a total of 47 + 39 = 86 points, claiming the highest position in the USA.\n",
    "  - Eagle'sNest has a total of 45 points, securing the second-highest position in the USA.\n",
    "  - PacificCrest accumulates 9 points, ranking as the third-highest winery in the USA\n",
    "\n",
    "Output table is ordered by country in ascending order."
   ]
  },
  {
   "cell_type": "code",
   "execution_count": 0,
   "metadata": {
    "application/vnd.databricks.v1+cell": {
     "cellMetadata": {
      "byteLimit": 2048000,
      "rowLimit": 10000
     },
     "inputWidgets": {},
     "nuid": "137536ea-9bec-4171-8dc2-4bf8b0d771b4",
     "showTitle": false,
     "tableResultSettingsMap": {},
     "title": ""
    }
   },
   "outputs": [
    {
     "output_type": "stream",
     "name": "stdout",
     "output_type": "stream",
     "text": [
      "+---+---------+------+---------------+\n| id|  country|points|         winery|\n+---+---------+------+---------------+\n|103|Australia|    84|WhisperingPines|\n|737|Australia|    85|   GrapesGalore|\n|848|Australia|   100|    HarmonyHill|\n|222|  Hungary|    60| MoonlitCellars|\n|116|      USA|    47|     RoyalVines|\n|124|      USA|    45|    Eagle'sNest|\n|648|    India|    69|    SunsetVines|\n|894|      USA|    39|     RoyalVines|\n|677|      USA|     9|   PacificCrest|\n+---+---------+------+---------------+\n\n"
     ]
    }
   ],
   "source": [
    "wineries_data_2991 = [\n",
    "    (103, \"Australia\", 84, \"WhisperingPines\"),\n",
    "    (737, \"Australia\", 85, \"GrapesGalore\"),\n",
    "    (848, \"Australia\", 100, \"HarmonyHill\"),\n",
    "    (222, \"Hungary\", 60, \"MoonlitCellars\"),\n",
    "    (116, \"USA\", 47, \"RoyalVines\"),\n",
    "    (124, \"USA\", 45, \"Eagle'sNest\"),\n",
    "    (648, \"India\", 69, \"SunsetVines\"),\n",
    "    (894, \"USA\", 39, \"RoyalVines\"),\n",
    "    (677, \"USA\", 9, \"PacificCrest\")\n",
    "]\n",
    "\n",
    "wineries_columns_2991 = [\"id\", \"country\", \"points\", \"winery\"]\n",
    "wineries_df_2991 = spark.createDataFrame(wineries_data_2991, wineries_columns_2991)\n",
    "wineries_df_2991.show()\n"
   ]
  },
  {
   "cell_type": "code",
   "execution_count": 0,
   "metadata": {
    "application/vnd.databricks.v1+cell": {
     "cellMetadata": {
      "byteLimit": 2048000,
      "rowLimit": 10000
     },
     "inputWidgets": {},
     "nuid": "146be19d-e607-4f7d-8d37-19dd3db0776e",
     "showTitle": false,
     "tableResultSettingsMap": {},
     "title": ""
    }
   },
   "outputs": [],
   "source": [
    "df_total_2991 = wineries_df_2991\\\n",
    "                    .groupBy(\"country\", \"winery\") \\\n",
    "                        .agg(sum(\"points\").alias(\"total_points\"))"
   ]
  },
  {
   "cell_type": "code",
   "execution_count": 0,
   "metadata": {
    "application/vnd.databricks.v1+cell": {
     "cellMetadata": {
      "byteLimit": 2048000,
      "rowLimit": 10000
     },
     "inputWidgets": {},
     "nuid": "bed45217-5f37-4638-ba6e-d53b26163918",
     "showTitle": false,
     "tableResultSettingsMap": {},
     "title": ""
    }
   },
   "outputs": [],
   "source": [
    "window_spec = Window.partitionBy(\"country\") \\\n",
    "                    .orderBy(desc(\"total_points\"), asc(\"winery\"))"
   ]
  },
  {
   "cell_type": "code",
   "execution_count": 0,
   "metadata": {
    "application/vnd.databricks.v1+cell": {
     "cellMetadata": {
      "byteLimit": 2048000,
      "rowLimit": 10000
     },
     "inputWidgets": {},
     "nuid": "941980d5-c458-4f98-ba0a-964973e891c0",
     "showTitle": false,
     "tableResultSettingsMap": {},
     "title": ""
    }
   },
   "outputs": [],
   "source": [
    "df_ranked_2991 = df_total_2991.withColumn(\"rank\", row_number().over(window_spec))"
   ]
  },
  {
   "cell_type": "code",
   "execution_count": 0,
   "metadata": {
    "application/vnd.databricks.v1+cell": {
     "cellMetadata": {
      "byteLimit": 2048000,
      "rowLimit": 10000
     },
     "inputWidgets": {},
     "nuid": "e2f66543-3375-4f54-89a5-ad295fe71c8f",
     "showTitle": false,
     "tableResultSettingsMap": {},
     "title": ""
    }
   },
   "outputs": [],
   "source": [
    "df_pivot_2991 = df_ranked_2991\\\n",
    "                    .groupBy(\"country\")\\\n",
    "                        .agg(\n",
    "                            max( when(col(\"rank\") == 1, concat(col(\"winery\"), lit(\" (\"), col(\"total_points\").cast(\"string\"), lit(\")\")))).alias(\"top_winery\"),\n",
    "                            max(\n",
    "                                when(col(\"rank\") == 2, concat(col(\"winery\"), lit(\" (\"), col(\"total_points\").cast(\"string\"), lit(\")\")))).alias(\"second_winery\"),\n",
    "                            max(\n",
    "                                when(col(\"rank\") == 3, concat(col(\"winery\"), lit(\" (\"), col(\"total_points\").cast(\"string\"), lit(\")\")))).alias(\"third_winery\")\n",
    "                            )\n"
   ]
  },
  {
   "cell_type": "code",
   "execution_count": 0,
   "metadata": {
    "application/vnd.databricks.v1+cell": {
     "cellMetadata": {
      "byteLimit": 2048000,
      "rowLimit": 10000
     },
     "inputWidgets": {},
     "nuid": "52e86cf9-2bf2-43c5-bece-526e446a006d",
     "showTitle": false,
     "tableResultSettingsMap": {},
     "title": ""
    }
   },
   "outputs": [
    {
     "output_type": "display_data",
     "data": {
      "text/html": [
       "<style scoped>\n",
       "  .table-result-container {\n",
       "    max-height: 300px;\n",
       "    overflow: auto;\n",
       "  }\n",
       "  table, th, td {\n",
       "    border: 1px solid black;\n",
       "    border-collapse: collapse;\n",
       "  }\n",
       "  th, td {\n",
       "    padding: 5px;\n",
       "  }\n",
       "  th {\n",
       "    text-align: left;\n",
       "  }\n",
       "</style><div class='table-result-container'><table class='table-result'><thead style='background-color: white'><tr><th>country</th><th>top_winery</th><th>second_winery</th><th>third_winery</th></tr></thead><tbody><tr><td>Australia</td><td>HarmonyHill (100)</td><td>GrapesGalore (85)</td><td>WhisperingPines (84)</td></tr><tr><td>Hungary</td><td>MoonlitCellars (60)</td><td>No second winery</td><td>No third winery</td></tr><tr><td>India</td><td>SunsetVines (69)</td><td>No second winery</td><td>No third winery</td></tr><tr><td>USA</td><td>RoyalVines (86)</td><td>Eagle'sNest (45)</td><td>PacificCrest (9)</td></tr></tbody></table></div>"
      ]
     },
     "metadata": {
      "application/vnd.databricks.v1+output": {
       "addedWidgets": {},
       "aggData": [],
       "aggError": "",
       "aggOverflow": false,
       "aggSchema": [],
       "aggSeriesLimitReached": false,
       "aggType": "",
       "arguments": {},
       "columnCustomDisplayInfos": {},
       "data": [
        [
         "Australia",
         "HarmonyHill (100)",
         "GrapesGalore (85)",
         "WhisperingPines (84)"
        ],
        [
         "Hungary",
         "MoonlitCellars (60)",
         "No second winery",
         "No third winery"
        ],
        [
         "India",
         "SunsetVines (69)",
         "No second winery",
         "No third winery"
        ],
        [
         "USA",
         "RoyalVines (86)",
         "Eagle'sNest (45)",
         "PacificCrest (9)"
        ]
       ],
       "datasetInfos": [],
       "dbfsResultPath": null,
       "isJsonSchema": true,
       "metadata": {},
       "overflow": false,
       "plotOptions": {
        "customPlotOptions": {},
        "displayType": "table",
        "pivotAggregation": null,
        "pivotColumns": null,
        "xColumns": null,
        "yColumns": null
       },
       "removedWidgets": [],
       "schema": [
        {
         "metadata": "{}",
         "name": "country",
         "type": "\"string\""
        },
        {
         "metadata": "{}",
         "name": "top_winery",
         "type": "\"string\""
        },
        {
         "metadata": "{}",
         "name": "second_winery",
         "type": "\"string\""
        },
        {
         "metadata": "{}",
         "name": "third_winery",
         "type": "\"string\""
        }
       ],
       "type": "table"
      }
     },
     "output_type": "display_data"
    }
   ],
   "source": [
    "df_pivot_2991\\\n",
    "    .fillna({\"second_winery\": \"No second winery\", \"third_winery\": \"No third winery\"}) \\\n",
    "        .orderBy(\"country\").display()"
   ]
  }
 ],
 "metadata": {
  "application/vnd.databricks.v1+notebook": {
   "computePreferences": {
    "hardware": {
     "accelerator": null,
     "gpuPoolId": null,
     "memory": null
    }
   },
   "dashboards": [],
   "environmentMetadata": {
    "base_environment": "",
    "environment_version": "2"
   },
   "inputWidgetPreferences": null,
   "language": "python",
   "notebookMetadata": {
    "pythonIndentUnit": 4
   },
   "notebookName": "2991. Top Three Wineries (Hard)-(Solved)",
   "widgets": {}
  },
  "language_info": {
   "name": "python"
  }
 },
 "nbformat": 4,
 "nbformat_minor": 0
}
