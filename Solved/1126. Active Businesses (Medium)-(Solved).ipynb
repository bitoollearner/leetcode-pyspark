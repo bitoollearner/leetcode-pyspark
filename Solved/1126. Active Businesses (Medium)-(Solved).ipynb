{
 "cells": [
  {
   "cell_type": "markdown",
   "metadata": {
    "application/vnd.databricks.v1+cell": {
     "cellMetadata": {
      "byteLimit": 2048000,
      "rowLimit": 10000
     },
     "inputWidgets": {},
     "nuid": "c8535576-d746-40ee-8199-8ccd3e39577f",
     "showTitle": false,
     "tableResultSettingsMap": {},
     "title": ""
    }
   },
   "source": [
    "## Importing Libraries"
   ]
  },
  {
   "cell_type": "code",
   "execution_count": 0,
   "metadata": {
    "application/vnd.databricks.v1+cell": {
     "cellMetadata": {
      "byteLimit": 2048000,
      "rowLimit": 10000
     },
     "inputWidgets": {},
     "nuid": "09da8fc1-d579-4949-bbc7-9132909993c8",
     "showTitle": false,
     "tableResultSettingsMap": {},
     "title": ""
    }
   },
   "outputs": [],
   "source": [
    "from pyspark.sql.functions import *\n",
    "from pyspark.sql.types import *\n",
    "from pyspark.sql.window import Window"
   ]
  },
  {
   "cell_type": "markdown",
   "metadata": {
    "application/vnd.databricks.v1+cell": {
     "cellMetadata": {
      "byteLimit": 2048000,
      "rowLimit": 10000
     },
     "inputWidgets": {},
     "nuid": "4567f050-e6f4-4b8b-b899-db2f17021c1d",
     "showTitle": false,
     "tableResultSettingsMap": {},
     "title": ""
    }
   },
   "source": [
    "**1126. Active Businesses (Medium)**\n",
    "\n",
    "**Table: Events**\n",
    "\n",
    "| Column Name   | Type    |\n",
    "|---------------|---------|\n",
    "| business_id   | int     |\n",
    "| event_type    | varchar |\n",
    "| occurrences   | int     | \n",
    "\n",
    "(business_id, event_type) is the primary key (combination of columns with unique values) of this table.\n",
    "Each row in the table logs the info that an event of some type occurred at some business for a number of times.\n",
    "The average activity for a particular event_type is the average occurrences across all companies that have this event.\n",
    "\n",
    "An active business is a business that has more than one event_type such that their occurrences is strictly greater than the average activity for that event.\n",
    "\n",
    "**Write a solution to find all active businesses.**\n",
    "\n",
    "Return the result table in any order.\n",
    "\n",
    "The result format is in the following example.\n",
    "\n",
    "**Example 1:**\n",
    "\n",
    "**Input:** \n",
    "\n",
    "**Events table:**\n",
    "\n",
    "| business_id | event_type | occurrences |\n",
    "|-------------|------------|-------------|\n",
    "| 1           | reviews    | 7           |\n",
    "| 3           | reviews    | 3           |\n",
    "| 1           | ads        | 11          |\n",
    "| 2           | ads        | 7           |\n",
    "| 3           | ads        | 6           |\n",
    "| 1           | page views | 3           |\n",
    "| 2           | page views | 12          |\n",
    "\n",
    "**Output:** \n",
    "| business_id |\n",
    "|-------------|\n",
    "| 1           |\n",
    "\n",
    "**Explanation:**  \n",
    "The average activity for each event can be calculated as follows:\n",
    "- 'reviews': (7+3)/2 = 5\n",
    "- 'ads': (11+7+6)/3 = 8\n",
    "- 'page views': (3+12)/2 = 7.5\n",
    "\n",
    "The business with id=1 has 7 'reviews' events (more than 5) and 11 'ads' events (more than 8), so it is an active business."
   ]
  },
  {
   "cell_type": "code",
   "execution_count": 0,
   "metadata": {
    "application/vnd.databricks.v1+cell": {
     "cellMetadata": {
      "byteLimit": 2048000,
      "rowLimit": 10000
     },
     "inputWidgets": {},
     "nuid": "9b14d03f-22ca-4fa2-b371-32a135a82877",
     "showTitle": false,
     "tableResultSettingsMap": {},
     "title": ""
    }
   },
   "outputs": [
    {
     "output_type": "stream",
     "name": "stdout",
     "output_type": "stream",
     "text": [
      "+-----------+----------+-----------+\n|business_id|event_type|occurrences|\n+-----------+----------+-----------+\n|          1|   reviews|          7|\n|          3|   reviews|          3|\n|          1|       ads|         11|\n|          2|       ads|          7|\n|          3|       ads|          6|\n|          1|page views|          3|\n|          2|page views|         12|\n+-----------+----------+-----------+\n\n"
     ]
    }
   ],
   "source": [
    "events_data_1126 = [\n",
    "    (1, \"reviews\", 7),\n",
    "    (3, \"reviews\", 3),\n",
    "    (1, \"ads\", 11),\n",
    "    (2, \"ads\", 7),\n",
    "    (3, \"ads\", 6),\n",
    "    (1, \"page views\", 3),\n",
    "    (2, \"page views\", 12),\n",
    "]\n",
    "\n",
    "events_columns_1126 = [\"business_id\", \"event_type\", \"occurrences\"]\n",
    "events_df_1126 = spark.createDataFrame(events_data_1126, events_columns_1126)\n",
    "events_df_1126.show()"
   ]
  },
  {
   "cell_type": "code",
   "execution_count": 0,
   "metadata": {
    "application/vnd.databricks.v1+cell": {
     "cellMetadata": {
      "byteLimit": 2048000,
      "rowLimit": 10000
     },
     "inputWidgets": {},
     "nuid": "957f76e9-2230-4664-9ab1-06f50b7a2b79",
     "showTitle": false,
     "tableResultSettingsMap": {},
     "title": ""
    }
   },
   "outputs": [],
   "source": [
    "event_avg_df_1126 = events_df_1126.groupBy(\"event_type\").agg(avg(\"occurrences\").alias(\"avg_occurrences\"))"
   ]
  },
  {
   "cell_type": "code",
   "execution_count": 0,
   "metadata": {
    "application/vnd.databricks.v1+cell": {
     "cellMetadata": {
      "byteLimit": 2048000,
      "rowLimit": 10000
     },
     "inputWidgets": {},
     "nuid": "b0a7ff12-c4dd-4b8b-a28d-f8145c8b8050",
     "showTitle": false,
     "tableResultSettingsMap": {},
     "title": ""
    }
   },
   "outputs": [],
   "source": [
    "above_avg_df_1126 = events_df_1126\\\n",
    "                        .join(event_avg_df_1126, on=\"event_type\", how=\"inner\")\\\n",
    "                            .filter(col(\"occurrences\") > col(\"avg_occurrences\"))"
   ]
  },
  {
   "cell_type": "code",
   "execution_count": 0,
   "metadata": {
    "application/vnd.databricks.v1+cell": {
     "cellMetadata": {
      "byteLimit": 2048000,
      "rowLimit": 10000
     },
     "inputWidgets": {},
     "nuid": "5649412d-d9fb-4d68-b279-2855ad7071f3",
     "showTitle": false,
     "tableResultSettingsMap": {},
     "title": ""
    }
   },
   "outputs": [
    {
     "output_type": "stream",
     "name": "stdout",
     "output_type": "stream",
     "text": [
      "+-----------+\n|business_id|\n+-----------+\n|          1|\n+-----------+\n\n"
     ]
    }
   ],
   "source": [
    "above_avg_df_1126.groupBy(\"business_id\") \\\n",
    "                            .agg(countDistinct(\"event_type\").alias(\"above_avg_event_count\")) \\\n",
    "                            .filter(col(\"above_avg_event_count\") > 1) \\\n",
    "                            .select(\"business_id\").show()"
   ]
  }
 ],
 "metadata": {
  "application/vnd.databricks.v1+notebook": {
   "computePreferences": {
    "hardware": {
     "accelerator": null,
     "gpuPoolId": null,
     "memory": null
    }
   },
   "dashboards": [],
   "environmentMetadata": {
    "base_environment": "",
    "environment_version": "2"
   },
   "inputWidgetPreferences": null,
   "language": "python",
   "notebookMetadata": {
    "pythonIndentUnit": 4
   },
   "notebookName": "1126. Active Businesses (Medium)-(Solved)",
   "widgets": {}
  },
  "language_info": {
   "name": "python"
  }
 },
 "nbformat": 4,
 "nbformat_minor": 0
}
