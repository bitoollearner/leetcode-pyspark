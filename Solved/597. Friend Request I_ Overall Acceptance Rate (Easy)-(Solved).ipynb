{
 "cells": [
  {
   "cell_type": "markdown",
   "metadata": {
    "application/vnd.databricks.v1+cell": {
     "cellMetadata": {
      "byteLimit": 2048000,
      "rowLimit": 10000
     },
     "inputWidgets": {},
     "nuid": "5ab27f1b-7c08-44cb-8766-b16c3470b90d",
     "showTitle": false,
     "tableResultSettingsMap": {},
     "title": ""
    }
   },
   "source": [
    "## Importing Libraries"
   ]
  },
  {
   "cell_type": "code",
   "execution_count": 0,
   "metadata": {
    "application/vnd.databricks.v1+cell": {
     "cellMetadata": {
      "byteLimit": 2048000,
      "rowLimit": 10000
     },
     "inputWidgets": {},
     "nuid": "0d316502-e6b4-4432-b3fd-6159096e4951",
     "showTitle": false,
     "tableResultSettingsMap": {},
     "title": ""
    }
   },
   "outputs": [],
   "source": [
    "from pyspark.sql.functions import *\n",
    "from pyspark.sql.types import *\n",
    "from pyspark.sql.window import Window"
   ]
  },
  {
   "cell_type": "markdown",
   "metadata": {
    "application/vnd.databricks.v1+cell": {
     "cellMetadata": {
      "byteLimit": 2048000,
      "rowLimit": 10000
     },
     "inputWidgets": {},
     "nuid": "2e4d3e31-be24-427a-bc7e-362b6765c4fa",
     "showTitle": false,
     "tableResultSettingsMap": {},
     "title": ""
    }
   },
   "source": [
    "**597. Friend Request I: Overall Acceptance Rate (Easy)**\n",
    "\n",
    "In social network like Facebook or Twitter, people send friend requests and accept others’ requests as well. Now given two tables as below:\n",
    " \n",
    "\n",
    "**Table: friend_request**\n",
    "| sender_id | send_to_id |request_date|\n",
    "|-----------|------------|------------|\n",
    "| 1         | 2          | 2016-06-01 |\n",
    "| 1         | 3          | 2016-06-01 |\n",
    "| 1         | 4          | 2016-06-01 |\n",
    "| 2         | 3          | 2016-06-02 |\n",
    "| 3         | 4          | 2016-06-09 |\n",
    " \n",
    "\n",
    "**Table: request_accepted**\n",
    "| requester_id | accepter_id |accept_date |\n",
    "|--------------|-------------|------------|\n",
    "| 1            | 2           | 2016-06-03 |\n",
    "| 1            | 3           | 2016-06-08 |\n",
    "| 2            | 3           | 2016-06-08 |\n",
    "| 3            | 4           | 2016-06-09 |\n",
    "| 3            | 4           | 2016-06-10 |\n",
    " \n",
    "\n",
    "**Write a query to find the overall acceptance rate of requests rounded to 2 decimals, which is the number of acceptance divide the number of requests.**\n",
    " \n",
    "For the sample data above, your query should return the following result.\n",
    " \n",
    "|accept_rate|\n",
    "|-----------|\n",
    "|       0.80|\n",
    " \n",
    "**Note:**\n",
    "- The accepted requests are not necessarily from the table friend_request. In this case, you just need to simply count the total accepted requests (no matter whether they are in the original requests), and divide it by the number of requests to get the acceptance rate.\n",
    "- It is possible that a sender sends multiple requests to the same receiver, and a request could be accepted more than once. In this case, the ‘duplicated’ requests or acceptances are only counted once.\n",
    "- If there is no requests at all, you should return 0.00 as the accept_rate.\n",
    " \n",
    "**Explanation:** There are 4 unique accepted requests, and there are 5 requests in total. So the rate is 0.80.\n",
    " \n",
    "**Follow-up:**\n",
    "- Can you write a query to return the accept rate but for every month?\n",
    "- How about the cumulative accept rate for every day?"
   ]
  },
  {
   "cell_type": "code",
   "execution_count": 0,
   "metadata": {
    "application/vnd.databricks.v1+cell": {
     "cellMetadata": {
      "byteLimit": 2048000,
      "rowLimit": 10000
     },
     "inputWidgets": {},
     "nuid": "f6f11a82-8828-41ca-828a-e88f8586b97a",
     "showTitle": false,
     "tableResultSettingsMap": {},
     "title": ""
    }
   },
   "outputs": [],
   "source": [
    "friend_request_data_597 = [\n",
    "    (1, 2, \"2016-06-01\"),\n",
    "    (1, 3, \"2016-06-01\"),\n",
    "    (1, 4, \"2016-06-01\"),\n",
    "    (2, 3, \"2016-06-02\"),\n",
    "    (3, 4, \"2016-06-09\")\n",
    "]\n",
    "\n",
    "friend_request_columns_597 = [\"sender_id\", \"send_to_id\", \"request_date\"]\n",
    "friend_request_df_597 = spark.createDataFrame(friend_request_data_597, friend_request_columns_597)\n",
    "friend_request_df_597.show()\n",
    "\n",
    "request_accepted_data_597 = [\n",
    "    (1, 2, \"2016-06-03\"),\n",
    "    (1, 3, \"2016-06-08\"),\n",
    "    (2, 3, \"2016-06-08\"),\n",
    "    (3, 4, \"2016-06-09\"),\n",
    "    (3, 4, \"2016-06-10\")\n",
    "]\n",
    "\n",
    "request_accepted_columns_597 = [\"requester_id\", \"accepter_id\", \"accept_date\"]\n",
    "request_accepted_df_597 = spark.createDataFrame(request_accepted_data_597, request_accepted_columns_597)\n",
    "request_accepted_df_597.show()"
   ]
  },
  {
   "cell_type": "code",
   "execution_count": 0,
   "metadata": {
    "application/vnd.databricks.v1+cell": {
     "cellMetadata": {
      "byteLimit": 2048000,
      "rowLimit": 10000
     },
     "inputWidgets": {},
     "nuid": "83cda7d5-b2a8-4aa8-a1eb-38cdaffbf9fe",
     "showTitle": false,
     "tableResultSettingsMap": {},
     "title": ""
    }
   },
   "outputs": [],
   "source": [
    "unique__request_df_597 = friend_request_df_597.select('sender_id','send_to_id').distinct()\n",
    "total_request_df_597 = unique__request_df_597.count()\n"
   ]
  },
  {
   "cell_type": "code",
   "execution_count": 0,
   "metadata": {
    "application/vnd.databricks.v1+cell": {
     "cellMetadata": {
      "byteLimit": 2048000,
      "rowLimit": 10000
     },
     "inputWidgets": {},
     "nuid": "0306f5d0-9bad-4c8d-af14-7247736928c5",
     "showTitle": false,
     "tableResultSettingsMap": {},
     "title": ""
    }
   },
   "outputs": [],
   "source": [
    "unique_request_accepted_df_597 = request_accepted_df_597.select(col(\"requester_id\").alias('sender_id'),col('accepter_id').alias('send_to_id')).distinct()\n",
    "total_request_accepted_df_597 = unique_request_accepted_df_597.count()"
   ]
  },
  {
   "cell_type": "code",
   "execution_count": 0,
   "metadata": {
    "application/vnd.databricks.v1+cell": {
     "cellMetadata": {
      "byteLimit": 2048000,
      "rowLimit": 10000
     },
     "inputWidgets": {},
     "nuid": "f70ae013-77e2-4741-80a2-399b5fb2af42",
     "showTitle": false,
     "tableResultSettingsMap": {
      "0": {
       "dataGridStateBlob": "{\"version\":1,\"tableState\":{\"columnPinning\":{\"left\":[\"#row_number#\"],\"right\":[]},\"columnSizing\":{},\"columnVisibility\":{}},\"settings\":{\"columns\":{}},\"syncTimestamp\":1752083300954}",
       "filterBlob": null,
       "queryPlanFiltersBlob": null,
       "tableResultIndex": 0
      }
     },
     "title": ""
    }
   },
   "outputs": [],
   "source": [
    "if total_request_df_597 == 0:\n",
    "    accept_rate = 0.00\n",
    "else:\n",
    "    accept_rate = total_request_accepted_df_597 / total_request_df_597\n",
    "    accept_rate_str = \"{:.2f}\".format(accept_rate)\n",
    "\n",
    "result_df_597 = spark.createDataFrame([(accept_rate_str,)],['accept_rate'])\n",
    "display(result_df_597)"
   ]
  }
 ],
 "metadata": {
  "application/vnd.databricks.v1+notebook": {
   "computePreferences": {
    "hardware": {
     "accelerator": null,
     "gpuPoolId": null,
     "memory": null
    }
   },
   "dashboards": [],
   "environmentMetadata": {
    "base_environment": "",
    "environment_version": "2"
   },
   "inputWidgetPreferences": null,
   "language": "python",
   "notebookMetadata": {
    "pythonIndentUnit": 4
   },
   "notebookName": "597. Friend Request I_ Overall Acceptance Rate (Easy)-(Solved)",
   "widgets": {}
  },
  "language_info": {
   "name": "python"
  }
 },
 "nbformat": 4,
 "nbformat_minor": 0
}
