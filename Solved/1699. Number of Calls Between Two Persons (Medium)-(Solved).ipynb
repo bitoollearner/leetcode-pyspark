{
 "cells": [
  {
   "cell_type": "markdown",
   "metadata": {
    "application/vnd.databricks.v1+cell": {
     "cellMetadata": {},
     "inputWidgets": {},
     "nuid": "f6ac9266-658c-4507-8a37-ecc81334b06d",
     "showTitle": false,
     "tableResultSettingsMap": {},
     "title": ""
    }
   },
   "source": [
    "## Importing Libraries"
   ]
  },
  {
   "cell_type": "code",
   "execution_count": 0,
   "metadata": {
    "application/vnd.databricks.v1+cell": {
     "cellMetadata": {},
     "inputWidgets": {},
     "nuid": "d6194993-9312-4b46-8365-d6a73d8cb0b0",
     "showTitle": false,
     "tableResultSettingsMap": {},
     "title": ""
    }
   },
   "outputs": [],
   "source": [
    "from pyspark.sql.functions import *\n",
    "from pyspark.sql.types import *\n",
    "from pyspark.sql.window import Window"
   ]
  },
  {
   "cell_type": "markdown",
   "metadata": {
    "application/vnd.databricks.v1+cell": {
     "cellMetadata": {},
     "inputWidgets": {},
     "nuid": "23f6a680-8f01-4976-83fa-88103e49c6b8",
     "showTitle": false,
     "tableResultSettingsMap": {},
     "title": ""
    }
   },
   "source": [
    "**1699. Number of Calls Between Two Persons (Medium)**\n",
    "\n",
    "**Table: Calls**\n",
    "\n",
    "| Column Name | Type    |\n",
    "|-------------|---------|\n",
    "| from_id     | int     |\n",
    "| to_id       | int     |\n",
    "| duration    | int     |\n",
    "\n",
    "This table does not have a primary key (column with unique values), it may contain duplicates.\n",
    "This table contains the duration of a phone call between from_id and to_id.\n",
    "from_id != to_id\n",
    " \n",
    "**Write a solution to report the number of calls and the total call duration between each pair of distinct persons (person1, person2) where person1 < person2.**\n",
    "\n",
    "Return the result table in any order.\n",
    "\n",
    "The result format is in the following example.\n",
    "\n",
    "**Example 1:**\n",
    "\n",
    "**Input:** \n",
    "\n",
    "**Calls table:**\n",
    "| from_id | to_id | duration |\n",
    "|---------|-------|----------|\n",
    "| 1       | 2     | 59       |\n",
    "| 2       | 1     | 11       |\n",
    "| 1       | 3     | 20       |\n",
    "| 3       | 4     | 100      |\n",
    "| 3       | 4     | 200      |\n",
    "| 3       | 4     | 200      |\n",
    "| 4       | 3     | 499      |\n",
    "\n",
    "**Output:** \n",
    "| person1 | person2 | call_count | total_duration |\n",
    "|---------|---------|------------|----------------|\n",
    "| 1       | 2       | 2          | 70             |\n",
    "| 1       | 3       | 1          | 20             |\n",
    "| 3       | 4       | 4          | 999            |\n",
    "\n",
    "**Explanation:** \n",
    "- Users 1 and 2 had 2 calls and the total duration is 70 (59 + 11).\n",
    "- Users 1 and 3 had 1 call and the total duration is 20.\n",
    "- Users 3 and 4 had 4 calls and the total duration is 999 (100 + 200 + 200 + 499)."
   ]
  },
  {
   "cell_type": "code",
   "execution_count": 0,
   "metadata": {
    "application/vnd.databricks.v1+cell": {
     "cellMetadata": {},
     "inputWidgets": {},
     "nuid": "a762f84d-f622-4403-b695-4066e5bdbaf0",
     "showTitle": false,
     "tableResultSettingsMap": {},
     "title": ""
    }
   },
   "outputs": [],
   "source": [
    "data_1699 = [\n",
    "    (1, 2, 59),\n",
    "    (2, 1, 11),\n",
    "    (1, 3, 20),\n",
    "    (3, 4, 100),\n",
    "    (3, 4, 200),\n",
    "    (3, 4, 200),\n",
    "    (4, 3, 499)\n",
    "]\n",
    "\n",
    "columns_1699 = [\"from_id\", \"to_id\", \"duration\"]\n",
    "calls_df_1699 = spark.createDataFrame(data_1699, columns_1699)\n",
    "calls_df_1699.show()"
   ]
  }
 ],
 "metadata": {
  "application/vnd.databricks.v1+notebook": {
   "computePreferences": null,
   "dashboards": [],
   "environmentMetadata": {
    "base_environment": "",
    "environment_version": "1"
   },
   "inputWidgetPreferences": null,
   "language": "python",
   "notebookMetadata": {
    "pythonIndentUnit": 4
   },
   "notebookName": "1699. Number of Calls Between Two Persons (Medium)",
   "widgets": {}
  }
 },
 "nbformat": 4,
 "nbformat_minor": 0
}