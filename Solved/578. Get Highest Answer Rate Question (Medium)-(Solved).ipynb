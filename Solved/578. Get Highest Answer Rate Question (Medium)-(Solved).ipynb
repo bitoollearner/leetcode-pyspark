{
 "cells": [
  {
   "cell_type": "markdown",
   "metadata": {
    "application/vnd.databricks.v1+cell": {
     "cellMetadata": {
      "byteLimit": 2048000,
      "rowLimit": 10000
     },
     "inputWidgets": {},
     "nuid": "db7ebec7-889d-4791-9b66-269554c0d581",
     "showTitle": false,
     "tableResultSettingsMap": {},
     "title": ""
    }
   },
   "source": [
    "## Importing Libraries"
   ]
  },
  {
   "cell_type": "code",
   "execution_count": 0,
   "metadata": {
    "application/vnd.databricks.v1+cell": {
     "cellMetadata": {
      "byteLimit": 2048000,
      "rowLimit": 10000
     },
     "inputWidgets": {},
     "nuid": "70352d4b-6bb2-42f3-8465-ba88ab41d730",
     "showTitle": false,
     "tableResultSettingsMap": {},
     "title": ""
    }
   },
   "outputs": [],
   "source": [
    "from pyspark.sql.functions import *\n",
    "from pyspark.sql.types import *\n",
    "from pyspark.sql.window import Window"
   ]
  },
  {
   "cell_type": "markdown",
   "metadata": {
    "application/vnd.databricks.v1+cell": {
     "cellMetadata": {
      "byteLimit": 2048000,
      "rowLimit": 10000
     },
     "inputWidgets": {},
     "nuid": "154313e3-f403-4508-a1d1-a93ae1e178d9",
     "showTitle": false,
     "tableResultSettingsMap": {},
     "title": ""
    }
   },
   "source": [
    "**578. Get Highest Answer Rate Question (Medium)**\n",
    "\n",
    "**Table: SurveyLog**\n",
    "\n",
    "| Column Name | Type |\n",
    "|-------------|------|\n",
    "| id          | int  |\n",
    "| action      | ENUM |\n",
    "| question_id | int  |\n",
    "| answer_id   | int  |\n",
    "| q_num       | int  |\n",
    "| timestamp   | int  |\n",
    "\n",
    "This table may contain duplicate rows.\n",
    "action is an ENUM (category) of the type: \"show\", \"answer\", or \"skip\".\n",
    "Each row of this table indicates the user with ID = id has taken an action with the question question_id at time timestamp.\n",
    "If the action taken by the user is \"answer\", answer_id will contain the id of that answer, otherwise, it will be null.\n",
    "q_num is the numeral order of the question in the current session.\n",
    " \n",
    "The answer rate for a question is the number of times a user answered the question by the number of times a user showed the question.\n",
    "\n",
    "**Write a solution to report the question that has the highest answer rate. If multiple questions have the same maximum answer rate, report the question with the smallest question_id.**\n",
    "\n",
    "The result format is in the following example.\n",
    "\n",
    "Example 1:\n",
    "\n",
    "**Input:**\n",
    "**SurveyLog table:**\n",
    "\n",
    "| id | action | question_id | answer_id | q_num | timestamp |\n",
    "|----|--------|-------------|-----------|-------|-----------|\n",
    "| 5  | show   | 285         | null      | 1     | 123       |\n",
    "| 5  | answer | 285         | 124124    | 1     | 124       |\n",
    "| 5  | show   | 369         | null      | 2     | 125       |\n",
    "| 5  | skip   | 369         | null      | 2     | 126       |\n",
    "\n",
    "**Output:**\n",
    "| survey_log |\n",
    "|------------|\n",
    "| 285        |\n",
    "\n",
    "**Explanation:**\n",
    "- Question 285 was showed 1 time and answered 1 time. The answer rate of question 285 is 1.0\n",
    "- Question 369 was showed 1 time and was not answered. The answer rate of question 369 is 0.0\n",
    "- Question 285 has the highest answer rate."
   ]
  },
  {
   "cell_type": "code",
   "execution_count": 0,
   "metadata": {
    "application/vnd.databricks.v1+cell": {
     "cellMetadata": {
      "byteLimit": 2048000,
      "rowLimit": 10000
     },
     "inputWidgets": {},
     "nuid": "787ef081-e08b-4a47-9b9a-a1a07b8b2b93",
     "showTitle": false,
     "tableResultSettingsMap": {},
     "title": ""
    }
   },
   "outputs": [],
   "source": [
    "survey_log_data_578 = [\n",
    "    (5, \"show\", 285, None, 1, 123),\n",
    "    (5, \"answer\", 285, 124124, 1, 124),\n",
    "    (5, \"show\", 369, None, 2, 125),\n",
    "    (5, \"skip\", 369, None, 2, 126)\n",
    "]\n",
    "\n",
    "survey_log_columns_578 = [\"id\", \"action\", \"question_id\", \"answer_id\", \"q_num\", \"timestamp\"]\n",
    "survey_log_df_578 = spark.createDataFrame(survey_log_data_578, survey_log_columns_578)\n",
    "survey_log_df_578.show()\n"
   ]
  },
  {
   "cell_type": "code",
   "execution_count": 0,
   "metadata": {
    "application/vnd.databricks.v1+cell": {
     "cellMetadata": {
      "byteLimit": 2048000,
      "rowLimit": 10000
     },
     "inputWidgets": {},
     "nuid": "8448776c-e90d-429d-ba0d-00c46d06099f",
     "showTitle": false,
     "tableResultSettingsMap": {},
     "title": ""
    }
   },
   "outputs": [],
   "source": [
    "answer_counts_df_578 = survey_log_df_578\\\n",
    "                        .filter(col(\"action\") == 'answer')\\\n",
    "                            .groupBy(\"question_id\")\\\n",
    "                                .agg(count('action').alias(\"answer_count\"))\n",
    "\n",
    "show_counts_df_578 = survey_log_df_578\\\n",
    "                        .filter(col(\"action\") == \"show\")\\\n",
    "                            .groupBy(\"question_id\")\\\n",
    "                                .agg(count('action').alias(\"show_count\"))\n",
    "\n",
    "answer_rates_df_578 = show_counts_df_578\\\n",
    "                .join(answer_counts_df_578, show_counts_df_578.question_id == answer_counts_df_578.question_id, 'left')\\\n",
    "                    .withColumn(\"answer_rate\", when(col(\"answer_count\").isNull(),0.0)\\\n",
    "                                                .otherwise(col('answer_count')/col('show_count')))\\\n",
    "                    .select(show_counts_df_578[\"question_id\"], \"answer_rate\")\n",
    "\n",
    "window_spec = Window.orderBy(col(\"answer_rate\").desc(), col(\"question_id\").asc())\n",
    "ranked_df_578 = answer_rates_df_578.withColumn(\"rank\", rank().over(window_spec))\n",
    "\n",
    "ranked_df_578\\\n",
    "    .filter(col(\"rank\") == 1)\\\n",
    "        .select(\"question_id\").show()"
   ]
  }
 ],
 "metadata": {
  "application/vnd.databricks.v1+notebook": {
   "computePreferences": {
    "hardware": {
     "accelerator": null,
     "gpuPoolId": null,
     "memory": null
    }
   },
   "dashboards": [],
   "environmentMetadata": {
    "base_environment": "",
    "environment_version": "2"
   },
   "inputWidgetPreferences": null,
   "language": "python",
   "notebookMetadata": {
    "pythonIndentUnit": 4
   },
   "notebookName": "578. Get Highest Answer Rate Question (Medium)-(Solved)",
   "widgets": {}
  },
  "language_info": {
   "name": "python"
  }
 },
 "nbformat": 4,
 "nbformat_minor": 0
}
