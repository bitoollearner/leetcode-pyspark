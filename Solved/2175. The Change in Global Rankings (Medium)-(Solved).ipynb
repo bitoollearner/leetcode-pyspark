{
 "cells": [
  {
   "cell_type": "markdown",
   "metadata": {
    "application/vnd.databricks.v1+cell": {
     "cellMetadata": {
      "byteLimit": 2048000,
      "rowLimit": 10000
     },
     "inputWidgets": {},
     "nuid": "a23f6d56-6d8d-44bc-b796-cedda9e17c21",
     "showTitle": false,
     "tableResultSettingsMap": {},
     "title": ""
    }
   },
   "source": [
    "## Importing Libraries"
   ]
  },
  {
   "cell_type": "code",
   "execution_count": 0,
   "metadata": {
    "application/vnd.databricks.v1+cell": {
     "cellMetadata": {
      "byteLimit": 2048000,
      "rowLimit": 10000
     },
     "inputWidgets": {},
     "nuid": "0a69d78b-43d7-4f9e-a05d-026985c2539f",
     "showTitle": false,
     "tableResultSettingsMap": {},
     "title": ""
    }
   },
   "outputs": [],
   "source": [
    "from pyspark.sql.functions import *\n",
    "from pyspark.sql.types import *\n",
    "from pyspark.sql.window import Window"
   ]
  },
  {
   "cell_type": "markdown",
   "metadata": {
    "application/vnd.databricks.v1+cell": {
     "cellMetadata": {
      "byteLimit": 2048000,
      "rowLimit": 10000
     },
     "inputWidgets": {},
     "nuid": "2a54b88b-06bd-43e4-978a-c0c5d33ca5bb",
     "showTitle": false,
     "tableResultSettingsMap": {},
     "title": ""
    }
   },
   "source": [
    "**2175. The Change in Global Rankings (Medium)**\n",
    "\n",
    "**Table: TeamPoints**\n",
    "\n",
    "| Column Name | Type    |\n",
    "|-------------|---------|\n",
    "| team_id     | int     |\n",
    "| name        | varchar |\n",
    "| points      | int     |\n",
    "\n",
    "team_id contains unique values.\n",
    "Each row of this table contains the ID of a national team, the name of the country it represents, and the points it has in the global rankings. No two teams will represent the same country.\n",
    " \n",
    "**Table: PointsChange**\n",
    "\n",
    "| Column Name   | Type |\n",
    "|---------------|------|\n",
    "| team_id       | int  |\n",
    "| points_change | int  |\n",
    "\n",
    "team_id contains unique values.\n",
    "Each row of this table contains the ID of a national team and the change in its points in the global rankings.\n",
    "points_change can be:\n",
    "- 0: indicates no change in points.\n",
    "- positive: indicates an increase in points.\n",
    "- negative: indicates a decrease in points.\n",
    "\n",
    "Each team_id that appears in TeamPoints will also appear in this table.\n",
    " \n",
    "The global ranking of a national team is its rank after sorting all the teams by their points in descending order. If two teams have the same points, we break the tie by sorting them by their name in lexicographical order.\n",
    "\n",
    "The points of each national team should be updated based on its corresponding points_change value.\n",
    "\n",
    "**Write a solution to calculate the change in the global rankings after updating each team's points.**\n",
    "\n",
    "Return the result table in any order.\n",
    "\n",
    "The result format is in the following example.\n",
    "\n",
    "**Example 1:**\n",
    "\n",
    "**Input:** \n",
    "\n",
    "**TeamPoints table:**\n",
    "\n",
    "| team_id | name        | points |\n",
    "|---------|-------------|--------|\n",
    "| 3       | Algeria     | 1431   |\n",
    "| 1       | Senegal     | 2132   |\n",
    "| 2       | New Zealand | 1402   |\n",
    "| 4       | Croatia     | 1817   |\n",
    "\n",
    "**PointsChange table:**\n",
    "| team_id | points_change |\n",
    "|---------|---------------|\n",
    "| 3       | 399           |\n",
    "| 2       | 0             |\n",
    "| 4       | 13            |\n",
    "| 1       | -22           |\n",
    "\n",
    "**Output:** \n",
    "| team_id | name        | rank_diff |\n",
    "|---------|-------------|-----------|\n",
    "| 1       | Senegal     | 0         |\n",
    "| 4       | Croatia     | -1        |\n",
    "| 3       | Algeria     | 1         |\n",
    "| 2       | New Zealand | 0         |\n",
    "\n",
    "**Explanation:** \n",
    "The global rankings were as follows:\n",
    "| team_id | name        | points | rank |\n",
    "|---------|-------------|--------|------|\n",
    "| 1       | Senegal     | 2132   | 1    |\n",
    "| 4       | Croatia     | 1817   | 2    |\n",
    "| 3       | Algeria     | 1431   | 3    |\n",
    "| 2       | New Zealand | 1402   | 4    |\n",
    "\n",
    "After updating the points of each team, the rankings became the following:\n",
    "| team_id | name        | points | rank |\n",
    "|---------|-------------|--------|------|\n",
    "| 1       | Senegal     | 2110   | 1    |\n",
    "| 3       | Algeria     | 1830   | 2    |\n",
    "| 4       | Croatia     | 1830   | 3    |\n",
    "| 2       | New Zealand | 1402   | 4    |\n",
    "\n",
    "- Since after updating the points Algeria and Croatia have the same points, they are ranked according to their lexicographic order.\n",
    "- Senegal lost 22 points but their rank did not change.\n",
    "- Croatia gained 13 points but their rank decreased by one.\n",
    "- Algeria gained 399 points and their rank increased by one.\n",
    "- New Zealand did not gain or lose points and their rank did not change."
   ]
  },
  {
   "cell_type": "code",
   "execution_count": 0,
   "metadata": {
    "application/vnd.databricks.v1+cell": {
     "cellMetadata": {
      "byteLimit": 2048000,
      "rowLimit": 10000
     },
     "inputWidgets": {},
     "nuid": "c260f510-542b-4067-a6f4-ffed86995056",
     "showTitle": false,
     "tableResultSettingsMap": {},
     "title": ""
    }
   },
   "outputs": [
    {
     "output_type": "stream",
     "name": "stdout",
     "output_type": "stream",
     "text": [
      "+-------+-----------+------+\n|team_id|       name|points|\n+-------+-----------+------+\n|      3|    Algeria|  1431|\n|      1|    Senegal|  2132|\n|      2|New Zealand|  1402|\n|      4|    Croatia|  1817|\n+-------+-----------+------+\n\n+-------+-------------+\n|team_id|points_change|\n+-------+-------------+\n|      3|          399|\n|      2|            0|\n|      4|           13|\n|      1|          -22|\n+-------+-------------+\n\n"
     ]
    }
   ],
   "source": [
    "team_points_data_2175 = [\n",
    "    (3, \"Algeria\", 1431),\n",
    "    (1, \"Senegal\", 2132),\n",
    "    (2, \"New Zealand\", 1402),\n",
    "    (4, \"Croatia\", 1817),\n",
    "]\n",
    "\n",
    "team_points_columns_2175 = [\"team_id\", \"name\", \"points\"]\n",
    "df_teams_2175 = spark.createDataFrame(team_points_data_2175, team_points_columns_2175)\n",
    "df_teams_2175.show()\n",
    "\n",
    "points_change_data_2175 = [\n",
    "    (3, 399),\n",
    "    (2, 0),\n",
    "    (4, 13),\n",
    "    (1, -22),\n",
    "]\n",
    "\n",
    "points_change_columns_2175 = [\"team_id\", \"points_change\"]\n",
    "df_changes_2175 = spark.createDataFrame(points_change_data_2175, points_change_columns_2175)\n",
    "df_changes_2175.show()"
   ]
  },
  {
   "cell_type": "code",
   "execution_count": 0,
   "metadata": {
    "application/vnd.databricks.v1+cell": {
     "cellMetadata": {
      "byteLimit": 2048000,
      "rowLimit": 10000
     },
     "inputWidgets": {},
     "nuid": "d37e0836-3b83-4930-8e4a-04452a19296d",
     "showTitle": false,
     "tableResultSettingsMap": {},
     "title": ""
    }
   },
   "outputs": [],
   "source": [
    "df_2175 = df_teams_2175.join(df_changes_2175, \"team_id\")"
   ]
  },
  {
   "cell_type": "code",
   "execution_count": 0,
   "metadata": {
    "application/vnd.databricks.v1+cell": {
     "cellMetadata": {
      "byteLimit": 2048000,
      "rowLimit": 10000
     },
     "inputWidgets": {},
     "nuid": "bac4c3a7-3b60-4abf-b961-a337ad0d0f70",
     "showTitle": false,
     "tableResultSettingsMap": {},
     "title": ""
    }
   },
   "outputs": [],
   "source": [
    "w_rank = Window.orderBy(desc(\"points\"), \"name\")"
   ]
  },
  {
   "cell_type": "code",
   "execution_count": 0,
   "metadata": {
    "application/vnd.databricks.v1+cell": {
     "cellMetadata": {
      "byteLimit": 2048000,
      "rowLimit": 10000
     },
     "inputWidgets": {},
     "nuid": "abe46bad-9939-4f67-a192-a665582f127f",
     "showTitle": false,
     "tableResultSettingsMap": {},
     "title": ""
    }
   },
   "outputs": [
    {
     "output_type": "stream",
     "name": "stderr",
     "output_type": "stream",
     "text": [
      "/databricks/python/lib/python3.11/site-packages/pyspark/sql/connect/expressions.py:1017: UserWarning: WARN WindowExpression: No Partition Defined for Window operation! Moving all data to a single partition, this can cause serious performance degradation.\n  warnings.warn(\n"
     ]
    }
   ],
   "source": [
    "df_2175 = df_2175\\\n",
    "            .withColumn(\"original_rank\", rank().over(w_rank))\\\n",
    "                .withColumn(\"updated_points\", col(\"points\") + col(\"points_change\"))"
   ]
  },
  {
   "cell_type": "code",
   "execution_count": 0,
   "metadata": {
    "application/vnd.databricks.v1+cell": {
     "cellMetadata": {
      "byteLimit": 2048000,
      "rowLimit": 10000
     },
     "inputWidgets": {},
     "nuid": "b09d1b2d-587a-4719-9fc6-97144819570b",
     "showTitle": false,
     "tableResultSettingsMap": {},
     "title": ""
    }
   },
   "outputs": [],
   "source": [
    "w_rank_new = Window.orderBy(desc(\"updated_points\"), \"name\")"
   ]
  },
  {
   "cell_type": "code",
   "execution_count": 0,
   "metadata": {
    "application/vnd.databricks.v1+cell": {
     "cellMetadata": {
      "byteLimit": 2048000,
      "rowLimit": 10000
     },
     "inputWidgets": {},
     "nuid": "4e4aa0a4-a1ab-4923-890b-57582449fa7d",
     "showTitle": false,
     "tableResultSettingsMap": {},
     "title": ""
    }
   },
   "outputs": [
    {
     "output_type": "stream",
     "name": "stderr",
     "output_type": "stream",
     "text": [
      "/databricks/python/lib/python3.11/site-packages/pyspark/sql/connect/expressions.py:1017: UserWarning: WARN WindowExpression: No Partition Defined for Window operation! Moving all data to a single partition, this can cause serious performance degradation.\n  warnings.warn(\n"
     ]
    }
   ],
   "source": [
    "df_2175 = df_2175\\\n",
    "            .withColumn(\"new_rank\", rank().over(w_rank_new))"
   ]
  },
  {
   "cell_type": "code",
   "execution_count": 0,
   "metadata": {
    "application/vnd.databricks.v1+cell": {
     "cellMetadata": {
      "byteLimit": 2048000,
      "rowLimit": 10000
     },
     "inputWidgets": {},
     "nuid": "e3c1343d-df5f-4c8e-a3de-0ae202fbc692",
     "showTitle": false,
     "tableResultSettingsMap": {},
     "title": ""
    }
   },
   "outputs": [
    {
     "output_type": "stream",
     "name": "stderr",
     "output_type": "stream",
     "text": [
      "/databricks/python/lib/python3.11/site-packages/pyspark/sql/connect/expressions.py:1017: UserWarning: WARN WindowExpression: No Partition Defined for Window operation! Moving all data to a single partition, this can cause serious performance degradation.\n  warnings.warn(\n"
     ]
    },
    {
     "output_type": "stream",
     "name": "stdout",
     "output_type": "stream",
     "text": [
      "+-------+-----------+---------+\n|team_id|       name|rank_diff|\n+-------+-----------+---------+\n|      1|    Senegal|        0|\n|      3|    Algeria|        1|\n|      4|    Croatia|       -1|\n|      2|New Zealand|        0|\n+-------+-----------+---------+\n\n"
     ]
    }
   ],
   "source": [
    "df_2175\\\n",
    "    .select( \"team_id\", \"name\", (col(\"original_rank\") - col(\"new_rank\")).alias(\"rank_diff\")).show()"
   ]
  }
 ],
 "metadata": {
  "application/vnd.databricks.v1+notebook": {
   "computePreferences": {
    "hardware": {
     "accelerator": null,
     "gpuPoolId": null,
     "memory": null
    }
   },
   "dashboards": [],
   "environmentMetadata": {
    "base_environment": "",
    "environment_version": "2"
   },
   "inputWidgetPreferences": null,
   "language": "python",
   "notebookMetadata": {
    "pythonIndentUnit": 4
   },
   "notebookName": "2175. The Change in Global Rankings (Medium)-(Solved)",
   "widgets": {}
  },
  "language_info": {
   "name": "python"
  }
 },
 "nbformat": 4,
 "nbformat_minor": 0
}
