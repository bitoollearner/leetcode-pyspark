{
 "cells": [
  {
   "cell_type": "markdown",
   "metadata": {
    "application/vnd.databricks.v1+cell": {
     "cellMetadata": {},
     "inputWidgets": {},
     "nuid": "fadf709d-de3d-4bfc-b69f-3b489de68bef",
     "showTitle": false,
     "tableResultSettingsMap": {},
     "title": ""
    }
   },
   "source": [
    "## Importing Libraries"
   ]
  },
  {
   "cell_type": "code",
   "execution_count": 0,
   "metadata": {
    "application/vnd.databricks.v1+cell": {
     "cellMetadata": {},
     "inputWidgets": {},
     "nuid": "d4a1fef1-aa99-469c-b35f-9b3f3e81c9f7",
     "showTitle": false,
     "tableResultSettingsMap": {},
     "title": ""
    }
   },
   "outputs": [],
   "source": [
    "from pyspark.sql.functions import *\n",
    "from pyspark.sql.types import *\n",
    "from pyspark.sql.window import Window"
   ]
  },
  {
   "cell_type": "markdown",
   "metadata": {
    "application/vnd.databricks.v1+cell": {
     "cellMetadata": {},
     "inputWidgets": {},
     "nuid": "78daa073-80d8-4f7e-9cfa-10f6eb568909",
     "showTitle": false,
     "tableResultSettingsMap": {},
     "title": ""
    }
   },
   "source": [
    "**1777. Product's Price for Each Store (Easy)**\n",
    "\n",
    "**Table: Products**\n",
    "\n",
    "| Column Name | Type    |\n",
    "|-------------|---------|\n",
    "| product_id  | int     |\n",
    "| store       | enum    |\n",
    "| price       | int     |\n",
    "\n",
    "In SQL, (product_id, store) is the primary key for this table.\n",
    "store is a category of type ('store1', 'store2', 'store3') where each represents the store this product is available at.\n",
    "price is the price of the product at this store.\n",
    " \n",
    "**Find the price of each product in each store.**\n",
    "\n",
    "Return the result table in any order.\n",
    "\n",
    "The result format is in the following example.\n",
    "\n",
    "**Example 1:**\n",
    "\n",
    "**Input:** \n",
    "\n",
    "**Products table:**\n",
    "\n",
    "| product_id  | store  | price |\n",
    "|-------------|--------|-------|\n",
    "| 0           | store1 | 95    |\n",
    "| 0           | store3 | 105   |\n",
    "| 0           | store2 | 100   |\n",
    "| 1           | store1 | 70    |\n",
    "| 1           | store3 | 80    |\n",
    "\n",
    "**Output:** \n",
    "| product_id  | store1 | store2 | store3 |\n",
    "|-------------|--------|--------|--------|\n",
    "| 0           | 95     | 100    | 105    |\n",
    "| 1           | 70     | null   | 80     |\n",
    "\n",
    "**Explanation:** \n",
    "- Product 0 price's are 95 for store1, 100 for store2 and, 105 for store3.\n",
    "- Product 1 price's are 70 for store1, 80 for store3 and, it's not sold in store2."
   ]
  },
  {
   "cell_type": "code",
   "execution_count": 0,
   "metadata": {
    "application/vnd.databricks.v1+cell": {
     "cellMetadata": {},
     "inputWidgets": {},
     "nuid": "7b78bc27-26cd-4523-8646-7369baf68fcb",
     "showTitle": false,
     "tableResultSettingsMap": {},
     "title": ""
    }
   },
   "outputs": [],
   "source": [
    "products_data_1777 = [\n",
    "    (0, \"store1\", 95),\n",
    "    (0, \"store3\", 105),\n",
    "    (0, \"store2\", 100),\n",
    "    (1, \"store1\", 70),\n",
    "    (1, \"store3\", 80),\n",
    "]\n",
    "\n",
    "products_columns_1777 = [\"product_id\", \"store\", \"price\"]\n",
    "products_df_1777 = spark.createDataFrame(products_data_1777, products_columns_1777)\n",
    "products_df_1777.show()"
   ]
  }
 ],
 "metadata": {
  "application/vnd.databricks.v1+notebook": {
   "computePreferences": null,
   "dashboards": [],
   "environmentMetadata": {
    "base_environment": "",
    "environment_version": "1"
   },
   "inputWidgetPreferences": null,
   "language": "python",
   "notebookMetadata": {
    "pythonIndentUnit": 4
   },
   "notebookName": "1777. Product's Price for Each Store (Easy)-(Solved)",
   "widgets": {}
  },
  "language_info": {
   "name": "python"
  }
 },
 "nbformat": 4,
 "nbformat_minor": 0
}
