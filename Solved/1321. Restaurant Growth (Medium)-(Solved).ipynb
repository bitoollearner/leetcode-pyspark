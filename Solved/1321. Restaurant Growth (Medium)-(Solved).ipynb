{
 "cells": [
  {
   "cell_type": "markdown",
   "metadata": {
    "application/vnd.databricks.v1+cell": {
     "cellMetadata": {
      "byteLimit": 2048000,
      "rowLimit": 10000
     },
     "inputWidgets": {},
     "nuid": "516a210c-988a-43a8-9004-cb03ad7c2481",
     "showTitle": false,
     "tableResultSettingsMap": {},
     "title": ""
    }
   },
   "source": [
    "## Importing Libraries"
   ]
  },
  {
   "cell_type": "code",
   "execution_count": 0,
   "metadata": {
    "application/vnd.databricks.v1+cell": {
     "cellMetadata": {
      "byteLimit": 2048000,
      "rowLimit": 10000
     },
     "inputWidgets": {},
     "nuid": "9333a394-5bb0-4f1f-8f10-60b56c9fb68e",
     "showTitle": false,
     "tableResultSettingsMap": {},
     "title": ""
    }
   },
   "outputs": [],
   "source": [
    "from pyspark.sql.functions import *\n",
    "from pyspark.sql.types import *\n",
    "from pyspark.sql.window import Window"
   ]
  },
  {
   "cell_type": "markdown",
   "metadata": {
    "application/vnd.databricks.v1+cell": {
     "cellMetadata": {
      "byteLimit": 2048000,
      "rowLimit": 10000
     },
     "inputWidgets": {},
     "nuid": "b718c875-1030-4207-a68c-5fad8635212a",
     "showTitle": false,
     "tableResultSettingsMap": {},
     "title": ""
    }
   },
   "source": [
    "**1321. Restaurant Growth (Medium)**\n",
    "\n",
    "**Table: Customer**\n",
    "\n",
    "| Column Name   | Type    |\n",
    "|---------------|---------|\n",
    "| customer_id   | int     |\n",
    "| name          | varchar |\n",
    "| visited_on    | date    |\n",
    "| amount        | int     |\n",
    "\n",
    "In SQL,(customer_id, visited_on) is the primary key for this table.\n",
    "This table contains data about customer transactions in a restaurant.\n",
    "visited_on is the date on which the customer with ID (customer_id) has visited the restaurant.\n",
    "amount is the total paid by a customer.\n",
    " \n",
    "You are the restaurant owner and you want to analyze a possible expansion (there will be at least one customer every day).\n",
    "\n",
    "**Compute the moving average of how much the customer paid in a seven days window (i.e., current day + 6 days before). average_amount should be rounded to two decimal places.**\n",
    "\n",
    "Return the result table ordered by visited_on in ascending order.\n",
    "\n",
    "The result format is in the following example.\n",
    "\n",
    "**Example 1:**\n",
    "\n",
    "**Input:**\n",
    "**Customer table:**\n",
    "| customer_id | name         | visited_on   | amount      |\n",
    "|-------------|--------------|--------------|-------------|\n",
    "| 1           | Jhon         | 2019-01-01   | 100         |\n",
    "| 2           | Daniel       | 2019-01-02   | 110         |\n",
    "| 3           | Jade         | 2019-01-03   | 120         |\n",
    "| 4           | Khaled       | 2019-01-04   | 130         |\n",
    "| 5           | Winston      | 2019-01-05   | 110         | \n",
    "| 6           | Elvis        | 2019-01-06   | 140         | \n",
    "| 7           | Anna         | 2019-01-07   | 150         |\n",
    "| 8           | Maria        | 2019-01-08   | 80          |\n",
    "| 9           | Jaze         | 2019-01-09   | 110         | \n",
    "| 1           | Jhon         | 2019-01-10   | 130         | \n",
    "| 3           | Jade         | 2019-01-10   | 150         | \n",
    "\n",
    "**Output:**\n",
    "| visited_on   | amount       | average_amount |\n",
    "|--------------|--------------|----------------|\n",
    "| 2019-01-07   | 860          | 122.86         |\n",
    "| 2019-01-08   | 840          | 120            |\n",
    "| 2019-01-09   | 840          | 120            |\n",
    "| 2019-01-10   | 1000         | 142.86         |\n",
    "\n",
    "**Explanation:**\n",
    "- 1st moving average from 2019-01-01 to 2019-01-07 has an average_amount of (100 + 110 + 120 + 130 + 110 + 140 + 150)/7 = 122.86\n",
    "- 2nd moving average from 2019-01-02 to 2019-01-08 has an average_amount of (110 + 120 + 130 + 110 + 140 + 150 + 80)/7 = 120\n",
    "- 3rd moving average from 2019-01-03 to 2019-01-09 has an average_amount of (120 + 130 + 110 + 140 + 150 + 80 + 110)/7 = 120\n",
    "- 4th moving average from 2019-01-04 to 2019-01-10 has an average_amount of (130 + 110 + 140 + 150 + 80 + 110 + 130 + 150)/7 = 142.86"
   ]
  },
  {
   "cell_type": "code",
   "execution_count": 0,
   "metadata": {
    "application/vnd.databricks.v1+cell": {
     "cellMetadata": {
      "byteLimit": 2048000,
      "rowLimit": 10000
     },
     "inputWidgets": {},
     "nuid": "01e4d778-a8a5-48a7-8ebb-7033f0b84d62",
     "showTitle": false,
     "tableResultSettingsMap": {},
     "title": ""
    }
   },
   "outputs": [
    {
     "output_type": "stream",
     "name": "stdout",
     "output_type": "stream",
     "text": [
      "+-----------+-------+----------+------+\n|customer_id|   name|visited_on|amount|\n+-----------+-------+----------+------+\n|          1|   Jhon|2019-01-01|   100|\n|          2| Daniel|2019-01-02|   110|\n|          3|   Jade|2019-01-03|   120|\n|          4| Khaled|2019-01-04|   130|\n|          5|Winston|2019-01-05|   110|\n|          6|  Elvis|2019-01-06|   140|\n|          7|   Anna|2019-01-07|   150|\n|          8|  Maria|2019-01-08|    80|\n|          9|   Jaze|2019-01-09|   110|\n|          1|   Jhon|2019-01-10|   130|\n|          3|   Jade|2019-01-10|   150|\n+-----------+-------+----------+------+\n\n"
     ]
    }
   ],
   "source": [
    "customer_data_1321 = [\n",
    "    (1, \"Jhon\", \"2019-01-01\", 100),\n",
    "    (2, \"Daniel\", \"2019-01-02\", 110),\n",
    "    (3, \"Jade\", \"2019-01-03\", 120),\n",
    "    (4, \"Khaled\", \"2019-01-04\", 130),\n",
    "    (5, \"Winston\", \"2019-01-05\", 110),\n",
    "    (6, \"Elvis\", \"2019-01-06\", 140),\n",
    "    (7, \"Anna\", \"2019-01-07\", 150),\n",
    "    (8, \"Maria\", \"2019-01-08\", 80),\n",
    "    (9, \"Jaze\", \"2019-01-09\", 110),\n",
    "    (1, \"Jhon\", \"2019-01-10\", 130),\n",
    "    (3, \"Jade\", \"2019-01-10\", 150),\n",
    "]\n",
    "\n",
    "customer_columns_1321 = [\"customer_id\", \"name\", \"visited_on\", \"amount\"]\n",
    "customer_df_1321 = spark.createDataFrame(customer_data_1321, customer_columns_1321)\n",
    "customer_df_1321.show()"
   ]
  },
  {
   "cell_type": "code",
   "execution_count": 0,
   "metadata": {
    "application/vnd.databricks.v1+cell": {
     "cellMetadata": {
      "byteLimit": 2048000,
      "rowLimit": 10000
     },
     "inputWidgets": {},
     "nuid": "b5d05d9e-b0f2-422d-ae02-2019653913da",
     "showTitle": false,
     "tableResultSettingsMap": {},
     "title": ""
    }
   },
   "outputs": [],
   "source": [
    "customer_df_1321 = customer_df_1321.withColumn(\"visited_on\", to_date(\"visited_on\"))"
   ]
  },
  {
   "cell_type": "code",
   "execution_count": 0,
   "metadata": {
    "application/vnd.databricks.v1+cell": {
     "cellMetadata": {
      "byteLimit": 2048000,
      "rowLimit": 10000
     },
     "inputWidgets": {},
     "nuid": "f464d496-c081-4d9b-a3ee-e450e4189a08",
     "showTitle": false,
     "tableResultSettingsMap": {},
     "title": ""
    }
   },
   "outputs": [],
   "source": [
    "daily_totals_df_1321 = customer_df_1321.\\\n",
    "                            groupBy(\"visited_on\").agg(sum(\"amount\").alias(\"amount\"))"
   ]
  },
  {
   "cell_type": "code",
   "execution_count": 0,
   "metadata": {
    "application/vnd.databricks.v1+cell": {
     "cellMetadata": {
      "byteLimit": 2048000,
      "rowLimit": 10000
     },
     "inputWidgets": {},
     "nuid": "b9fee2a8-75e1-41ea-982d-cb875f14afb8",
     "showTitle": false,
     "tableResultSettingsMap": {},
     "title": ""
    }
   },
   "outputs": [],
   "source": [
    "moving_avg_df_1321 = daily_totals_df_1321.alias(\"a\")\\\n",
    "    .join(daily_totals_df_1321.alias(\"b\"),(col(\"b.visited_on\") <= col(\"a.visited_on\")) &(col(\"b.visited_on\") >= expr(\"date_sub(a.visited_on, 6)\")))\\\n",
    "        .groupBy(\"a.visited_on\").agg(sum(\"b.amount\").alias(\"total_amount\"))\n"
   ]
  },
  {
   "cell_type": "code",
   "execution_count": 0,
   "metadata": {
    "application/vnd.databricks.v1+cell": {
     "cellMetadata": {
      "byteLimit": 2048000,
      "rowLimit": 10000
     },
     "inputWidgets": {},
     "nuid": "defc8f13-423e-4ba3-981b-d1386f574d09",
     "showTitle": false,
     "tableResultSettingsMap": {},
     "title": ""
    }
   },
   "outputs": [],
   "source": [
    "min_date = customer_df_1321.selectExpr(\"MIN(visited_on) as min_date\").collect()[0][\"min_date\"]\n",
    "min_date_plus_6 = spark.sql(f\"SELECT date_add('{min_date}', 6) as cutoff\").collect()[0][\"cutoff\"]\n"
   ]
  },
  {
   "cell_type": "code",
   "execution_count": 0,
   "metadata": {
    "application/vnd.databricks.v1+cell": {
     "cellMetadata": {
      "byteLimit": 2048000,
      "rowLimit": 10000
     },
     "inputWidgets": {},
     "nuid": "fdd01443-644d-47ae-a322-634cba4442a9",
     "showTitle": false,
     "tableResultSettingsMap": {},
     "title": ""
    }
   },
   "outputs": [
    {
     "output_type": "stream",
     "name": "stdout",
     "output_type": "stream",
     "text": [
      "+----------+------+--------------+\n|visited_on|amount|average_amount|\n+----------+------+--------------+\n|2019-01-07|   860|        122.86|\n|2019-01-08|   840|         120.0|\n|2019-01-09|   840|         120.0|\n|2019-01-10|  1000|        142.86|\n+----------+------+--------------+\n\n"
     ]
    }
   ],
   "source": [
    "moving_avg_df_1321 \\\n",
    "    .filter(col(\"visited_on\") >= min_date_plus_6) \\\n",
    "    .select(\n",
    "        col(\"visited_on\"),\n",
    "        col(\"total_amount\").alias(\"amount\"),\n",
    "        round((col(\"total_amount\") / 7), 2).alias(\"average_amount\")\n",
    "    ) \\\n",
    "    .orderBy(\"visited_on\").show()\n"
   ]
  }
 ],
 "metadata": {
  "application/vnd.databricks.v1+notebook": {
   "computePreferences": {
    "hardware": {
     "accelerator": null,
     "gpuPoolId": null,
     "memory": null
    }
   },
   "dashboards": [],
   "environmentMetadata": {
    "base_environment": "",
    "environment_version": "2"
   },
   "inputWidgetPreferences": null,
   "language": "python",
   "notebookMetadata": {
    "pythonIndentUnit": 4
   },
   "notebookName": "1321. Restaurant Growth (Medium)-(Solved)",
   "widgets": {}
  },
  "language_info": {
   "name": "python"
  }
 },
 "nbformat": 4,
 "nbformat_minor": 0
}
