{
 "cells": [
  {
   "cell_type": "markdown",
   "metadata": {
    "application/vnd.databricks.v1+cell": {
     "cellMetadata": {
      "byteLimit": 2048000,
      "rowLimit": 10000
     },
     "inputWidgets": {},
     "nuid": "4e9d71b1-88e9-445c-820a-b842e217a4e7",
     "showTitle": false,
     "tableResultSettingsMap": {},
     "title": ""
    }
   },
   "source": [
    "## Importing Libraries"
   ]
  },
  {
   "cell_type": "code",
   "execution_count": 0,
   "metadata": {
    "application/vnd.databricks.v1+cell": {
     "cellMetadata": {
      "byteLimit": 2048000,
      "rowLimit": 10000
     },
     "inputWidgets": {},
     "nuid": "e6624c4d-8cb8-4ac4-8c72-81d1b4ecdb57",
     "showTitle": false,
     "tableResultSettingsMap": {},
     "title": ""
    }
   },
   "outputs": [],
   "source": [
    "from pyspark.sql.functions import *\n",
    "from pyspark.sql.types import *\n",
    "from pyspark.sql.window import Window"
   ]
  },
  {
   "cell_type": "markdown",
   "metadata": {
    "application/vnd.databricks.v1+cell": {
     "cellMetadata": {
      "byteLimit": 2048000,
      "rowLimit": 10000
     },
     "inputWidgets": {},
     "nuid": "c3788fe5-f4c9-420f-ad72-ec1a39310a2a",
     "showTitle": false,
     "tableResultSettingsMap": {},
     "title": ""
    }
   },
   "source": [
    "**2854. Rolling Average Steps (Medium)**\n",
    "\n",
    "**Table: Steps**\n",
    "\n",
    "| Column Name | Type | \n",
    "|-------------|------| \n",
    "| user_id     | int  | \n",
    "| steps_count | int  |\n",
    "| steps_date  | date |\n",
    "\n",
    "(user_id, steps_date) is the primary key for this table.\n",
    "Each row of this table contains user_id, steps_count, and steps_date.\n",
    "\n",
    "**Write a solution to calculate 3-day rolling averages of steps for each user.**\n",
    "\n",
    "We calculate the n-day rolling average this way:\n",
    "\n",
    "For each day, we calculate the average of n consecutive days of step counts ending on that day if available, otherwise, n-day rolling average is not defined for it.\n",
    "Output the user_id, steps_date, and rolling average. Round the rolling average to two decimal places.\n",
    "\n",
    "Return the result table ordered by user_id, steps_date in ascending order.\n",
    "\n",
    "The result format is in the following example.\n",
    "\n",
    "**Example 1:**\n",
    "\n",
    "**Input:** \n",
    "\n",
    "**Steps table:**\n",
    "\n",
    "| user_id | steps_count | steps_date |\n",
    "|---------|-------------|------------|\n",
    "| 1       | 687         | 2021-09-02 |\n",
    "| 1       | 395         | 2021-09-04 |\n",
    "| 1       | 499         | 2021-09-05 |\n",
    "| 1       | 712         | 2021-09-06 |\n",
    "| 1       | 576         | 2021-09-07 |\n",
    "| 2       | 153         | 2021-09-06 |\n",
    "| 2       | 171         | 2021-09-07 |\n",
    "| 2       | 530         | 2021-09-08 |\n",
    "| 3       | 945         | 2021-09-04 |\n",
    "| 3       | 120         | 2021-09-07 |\n",
    "| 3       | 557         | 2021-09-08 |\n",
    "| 3       | 840         | 2021-09-09 |\n",
    "| 3       | 627         | 2021-09-10 |\n",
    "| 5       | 382         | 2021-09-05 |\n",
    "| 6       | 480         | 2021-09-01 |\n",
    "| 6       | 191         | 2021-09-02 |\n",
    "| 6       | 303         | 2021-09-05 |\n",
    "\n",
    "**Output:** \n",
    "| user_id | steps_date | rolling_average | \n",
    "|---------|------------|-----------------|\n",
    "| 1       | 2021-09-06 | 535.33          | \n",
    "| 1       | 2021-09-07 | 595.67          | \n",
    "| 2       | 2021-09-08 | 284.67          |\n",
    "| 3       | 2021-09-09 | 505.67          |\n",
    "| 3       | 2021-09-10 | 674.67          |    \n",
    "\n",
    "**Explanation:** \n",
    "- For user id 1, the step counts for the three consecutive days up to 2021-09-06 are available. Consequently, the rolling average for this particular date is computed as (395 + 499 + 712) / 3 = 535.33.\n",
    "- For user id 1, the step counts for the three consecutive days up to 2021-09-07 are available. Consequently, the rolling average for this particular date is computed as (499 + 712 + 576) / 3 = 595.67.\n",
    "- For user id 2, the step counts for the three consecutive days up to 2021-09-08 are available. Consequently, the rolling average for this particular date is computed as (153 + 171 + 530) / 3 = 284.67.\n",
    "- For user id 3, the step counts for the three consecutive days up to 2021-09-09 are available. Consequently, the rolling average for this particular date is computed as (120 + 557 + 840) / 3 = 505.67.\n",
    "- For user id 3, the step counts for the three consecutive days up to 2021-09-10 are available. Consequently, the rolling average for this particular date is computed as (557 + 840 + 627) / 3 = 674.67.\n",
    "- For user id 4 and 5, the calculation of the rolling average is not viable as there is insufficient data for the consecutive three days. Output table ordered by user_id and steps_date in ascending order."
   ]
  },
  {
   "cell_type": "code",
   "execution_count": 0,
   "metadata": {
    "application/vnd.databricks.v1+cell": {
     "cellMetadata": {
      "byteLimit": 2048000,
      "rowLimit": 10000
     },
     "inputWidgets": {},
     "nuid": "137536ea-9bec-4171-8dc2-4bf8b0d771b4",
     "showTitle": false,
     "tableResultSettingsMap": {},
     "title": ""
    }
   },
   "outputs": [
    {
     "output_type": "stream",
     "name": "stdout",
     "output_type": "stream",
     "text": [
      "+-------+-----------+----------+\n|user_id|steps_count|steps_date|\n+-------+-----------+----------+\n|      1|        687|2021-09-02|\n|      1|        395|2021-09-04|\n|      1|        499|2021-09-05|\n|      1|        712|2021-09-06|\n|      1|        576|2021-09-07|\n|      2|        153|2021-09-06|\n|      2|        171|2021-09-07|\n|      2|        530|2021-09-08|\n|      3|        945|2021-09-04|\n|      3|        120|2021-09-07|\n|      3|        557|2021-09-08|\n|      3|        840|2021-09-09|\n|      3|        627|2021-09-10|\n|      5|        382|2021-09-05|\n|      6|        480|2021-09-01|\n|      6|        191|2021-09-02|\n|      6|        303|2021-09-05|\n+-------+-----------+----------+\n\n"
     ]
    }
   ],
   "source": [
    "steps_data_2854 = [\n",
    "    (1, 687, \"2021-09-02\"),\n",
    "    (1, 395, \"2021-09-04\"),\n",
    "    (1, 499, \"2021-09-05\"),\n",
    "    (1, 712, \"2021-09-06\"),\n",
    "    (1, 576, \"2021-09-07\"),\n",
    "    (2, 153, \"2021-09-06\"),\n",
    "    (2, 171, \"2021-09-07\"),\n",
    "    (2, 530, \"2021-09-08\"),\n",
    "    (3, 945, \"2021-09-04\"),\n",
    "    (3, 120, \"2021-09-07\"),\n",
    "    (3, 557, \"2021-09-08\"),\n",
    "    (3, 840, \"2021-09-09\"),\n",
    "    (3, 627, \"2021-09-10\"),\n",
    "    (5, 382, \"2021-09-05\"),\n",
    "    (6, 480, \"2021-09-01\"),\n",
    "    (6, 191, \"2021-09-02\"),\n",
    "    (6, 303, \"2021-09-05\"),\n",
    "]\n",
    "\n",
    "steps_columns_2854 = [\"user_id\", \"steps_count\", \"steps_date\"]\n",
    "steps_df_2854 = spark.createDataFrame(steps_data_2854, steps_columns_2854)\n",
    "steps_df_2854.show()"
   ]
  },
  {
   "cell_type": "code",
   "execution_count": 0,
   "metadata": {
    "application/vnd.databricks.v1+cell": {
     "cellMetadata": {
      "byteLimit": 2048000,
      "rowLimit": 10000
     },
     "inputWidgets": {},
     "nuid": "81afef34-0739-408f-9a44-0fd5a19e703a",
     "showTitle": false,
     "tableResultSettingsMap": {},
     "title": ""
    }
   },
   "outputs": [],
   "source": [
    "window_spec = Window.partitionBy(\"user_id\").orderBy(\"steps_date\")"
   ]
  },
  {
   "cell_type": "code",
   "execution_count": 0,
   "metadata": {
    "application/vnd.databricks.v1+cell": {
     "cellMetadata": {
      "byteLimit": 2048000,
      "rowLimit": 10000
     },
     "inputWidgets": {},
     "nuid": "f8e9839f-6864-48c9-bc61-824466b9c44c",
     "showTitle": false,
     "tableResultSettingsMap": {},
     "title": ""
    }
   },
   "outputs": [],
   "source": [
    "steps_df_2854 = steps_df_2854\\\n",
    "                    .withColumn(\"steps_lag1\", lag(\"steps_count\", 1).over(window_spec))\\\n",
    "                        .withColumn(\"steps_lag2\", lag(\"steps_count\", 2).over(window_spec))\\\n",
    "                            .withColumn(\"date_lag1\", lag(\"steps_date\", 1).over(window_spec))\\\n",
    "                                .withColumn(\"date_lag2\", lag(\"steps_date\", 2).over(window_spec))"
   ]
  },
  {
   "cell_type": "code",
   "execution_count": 0,
   "metadata": {
    "application/vnd.databricks.v1+cell": {
     "cellMetadata": {
      "byteLimit": 2048000,
      "rowLimit": 10000
     },
     "inputWidgets": {},
     "nuid": "28326f5b-5468-4bab-b730-d778dd6ccaee",
     "showTitle": false,
     "tableResultSettingsMap": {},
     "title": ""
    }
   },
   "outputs": [],
   "source": [
    "steps_df_2854 = steps_df_2854\\\n",
    "                    .withColumn( \"rolling_average\", \n",
    "                                when(\n",
    "                                    (datediff(\"steps_date\", \"date_lag1\") == 1) &\n",
    "                                    (datediff(\"date_lag1\", \"date_lag2\") == 1),\n",
    "                                    round((col(\"steps_count\") + col(\"steps_lag1\") + col(\"steps_lag2\")) / 3.0, 2)\n",
    "                                    )\n",
    "                                )"
   ]
  },
  {
   "cell_type": "code",
   "execution_count": 0,
   "metadata": {
    "application/vnd.databricks.v1+cell": {
     "cellMetadata": {
      "byteLimit": 2048000,
      "rowLimit": 10000
     },
     "inputWidgets": {},
     "nuid": "3b553c5e-1612-4c74-8d6b-50a9e8690290",
     "showTitle": false,
     "tableResultSettingsMap": {},
     "title": ""
    }
   },
   "outputs": [
    {
     "output_type": "display_data",
     "data": {
      "text/html": [
       "<style scoped>\n",
       "  .table-result-container {\n",
       "    max-height: 300px;\n",
       "    overflow: auto;\n",
       "  }\n",
       "  table, th, td {\n",
       "    border: 1px solid black;\n",
       "    border-collapse: collapse;\n",
       "  }\n",
       "  th, td {\n",
       "    padding: 5px;\n",
       "  }\n",
       "  th {\n",
       "    text-align: left;\n",
       "  }\n",
       "</style><div class='table-result-container'><table class='table-result'><thead style='background-color: white'><tr><th>user_id</th><th>steps_date</th><th>rolling_average</th></tr></thead><tbody><tr><td>1</td><td>2021-09-06</td><td>535.33</td></tr><tr><td>1</td><td>2021-09-07</td><td>595.67</td></tr><tr><td>2</td><td>2021-09-08</td><td>284.67</td></tr><tr><td>3</td><td>2021-09-09</td><td>505.67</td></tr><tr><td>3</td><td>2021-09-10</td><td>674.67</td></tr></tbody></table></div>"
      ]
     },
     "metadata": {
      "application/vnd.databricks.v1+output": {
       "addedWidgets": {},
       "aggData": [],
       "aggError": "",
       "aggOverflow": false,
       "aggSchema": [],
       "aggSeriesLimitReached": false,
       "aggType": "",
       "arguments": {},
       "columnCustomDisplayInfos": {},
       "data": [
        [
         1,
         "2021-09-06",
         535.33
        ],
        [
         1,
         "2021-09-07",
         595.67
        ],
        [
         2,
         "2021-09-08",
         284.67
        ],
        [
         3,
         "2021-09-09",
         505.67
        ],
        [
         3,
         "2021-09-10",
         674.67
        ]
       ],
       "datasetInfos": [],
       "dbfsResultPath": null,
       "isJsonSchema": true,
       "metadata": {},
       "overflow": false,
       "plotOptions": {
        "customPlotOptions": {},
        "displayType": "table",
        "pivotAggregation": null,
        "pivotColumns": null,
        "xColumns": null,
        "yColumns": null
       },
       "removedWidgets": [],
       "schema": [
        {
         "metadata": "{}",
         "name": "user_id",
         "type": "\"long\""
        },
        {
         "metadata": "{}",
         "name": "steps_date",
         "type": "\"string\""
        },
        {
         "metadata": "{}",
         "name": "rolling_average",
         "type": "\"double\""
        }
       ],
       "type": "table"
      }
     },
     "output_type": "display_data"
    }
   ],
   "source": [
    "steps_df_2854\\\n",
    "    .filter(col(\"rolling_average\").isNotNull()) \\\n",
    "        .select(\"user_id\", \"steps_date\", \"rolling_average\") \\\n",
    "            .orderBy(\"user_id\", \"steps_date\").display()"
   ]
  }
 ],
 "metadata": {
  "application/vnd.databricks.v1+notebook": {
   "computePreferences": {
    "hardware": {
     "accelerator": null,
     "gpuPoolId": null,
     "memory": null
    }
   },
   "dashboards": [],
   "environmentMetadata": {
    "base_environment": "",
    "environment_version": "2"
   },
   "inputWidgetPreferences": null,
   "language": "python",
   "notebookMetadata": {
    "pythonIndentUnit": 4
   },
   "notebookName": "2854. Rolling Average Steps (Medium)-(Solved)",
   "widgets": {}
  },
  "language_info": {
   "name": "python"
  }
 },
 "nbformat": 4,
 "nbformat_minor": 0
}
