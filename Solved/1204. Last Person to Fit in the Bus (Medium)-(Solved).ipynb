{
 "cells": [
  {
   "cell_type": "markdown",
   "metadata": {
    "application/vnd.databricks.v1+cell": {
     "cellMetadata": {
      "byteLimit": 2048000,
      "rowLimit": 10000
     },
     "inputWidgets": {},
     "nuid": "82383caa-9b15-409a-9acb-968b851c477b",
     "showTitle": false,
     "tableResultSettingsMap": {},
     "title": ""
    }
   },
   "source": [
    "## Importing Libraries"
   ]
  },
  {
   "cell_type": "code",
   "execution_count": 0,
   "metadata": {
    "application/vnd.databricks.v1+cell": {
     "cellMetadata": {
      "byteLimit": 2048000,
      "rowLimit": 10000
     },
     "inputWidgets": {},
     "nuid": "83322872-9913-4063-98cf-4aaea5fd3337",
     "showTitle": false,
     "tableResultSettingsMap": {},
     "title": ""
    }
   },
   "outputs": [],
   "source": [
    "from pyspark.sql.functions import *\n",
    "from pyspark.sql.types import *\n",
    "from pyspark.sql.window import Window"
   ]
  },
  {
   "cell_type": "markdown",
   "metadata": {
    "application/vnd.databricks.v1+cell": {
     "cellMetadata": {
      "byteLimit": 2048000,
      "rowLimit": 10000
     },
     "inputWidgets": {},
     "nuid": "e475f002-2b95-4d27-958c-aeab86c066ed",
     "showTitle": false,
     "tableResultSettingsMap": {},
     "title": ""
    }
   },
   "source": [
    "**1204. Last Person to Fit in the Bus (Medium)**\n",
    "\n",
    "**Table: Queue**\n",
    "\n",
    "| Column Name | Type    |\n",
    "|-------------|---------|\n",
    "| person_id   | int     |\n",
    "| person_name | varchar |\n",
    "| weight      | int     |\n",
    "| turn        | int     |\n",
    "\n",
    "person_id column contains unique values.\n",
    "This table has the information about all people waiting for a bus.\n",
    "The person_id and turn columns will contain all numbers from 1 to n, where n is the number of rows in the table.\n",
    "turn determines the order of which the people will board the bus, where turn=1 denotes the first person to board and turn=n denotes the last person to board.\n",
    "weight is the weight of the person in kilograms.\n",
    " \n",
    "\n",
    "There is a queue of people waiting to board a bus. However, the bus has a weight limit of 1000 kilograms, so there may be some people who cannot board.\n",
    "\n",
    "**Write a solution to find the person_name of the last person that can fit on the bus without exceeding the weight limit. The test cases are generated such that the first person does not exceed the weight limit.**\n",
    "\n",
    "Note that only one person can board the bus at any given turn.\n",
    "\n",
    "The result format is in the following example.\n",
    "\n",
    "**Example 1:**\n",
    "\n",
    "**Input:**\n",
    "**Queue table:**\n",
    "\n",
    "| person_id | person_name | weight | turn |\n",
    "|-----------|-------------|--------|------|\n",
    "| 5         | Alice       | 250    | 1    |\n",
    "| 4         | Bob         | 175    | 5    |\n",
    "| 3         | Alex        | 350    | 2    |\n",
    "| 6         | John Cena   | 400    | 3    |\n",
    "| 1         | Winston     | 500    | 6    |\n",
    "| 2         | Marie       | 200    | 4    |\n",
    "\n",
    "**Output:**\n",
    "| person_name |\n",
    "|-------------|\n",
    "| John Cena   |\n",
    "\n",
    "**Explanation:** The folowing table is ordered by the turn for simplicity.\n",
    "| Turn | ID | Name      | Weight | Total Weight |\n",
    "|------|----|-----------|--------|--------------|\n",
    "| 1    | 5  | Alice     | 250    | 250          |\n",
    "| 2    | 3  | Alex      | 350    | 600          |\n",
    "| 3    | 6  | John Cena | 400    | 1000         | (last person to board)\n",
    "| 4    | 2  | Marie     | 200    | 1200         | (cannot board)\n",
    "| 5    | 4  | Bob       | 175    | ___          |\n",
    "| 6    | 1  | Winston   | 500    | ___          |\n"
   ]
  },
  {
   "cell_type": "code",
   "execution_count": 0,
   "metadata": {
    "application/vnd.databricks.v1+cell": {
     "cellMetadata": {
      "byteLimit": 2048000,
      "rowLimit": 10000
     },
     "inputWidgets": {},
     "nuid": "a073d765-b3a4-4bda-a02f-ac5e3671a222",
     "showTitle": false,
     "tableResultSettingsMap": {},
     "title": ""
    }
   },
   "outputs": [],
   "source": [
    "queue_data_1204 = [\n",
    "    (5, \"Alice\", 250, 1),\n",
    "    (4, \"Bob\", 175, 5),\n",
    "    (3, \"Alex\", 350, 2),\n",
    "    (6, \"John Cena\", 400, 3),\n",
    "    (1, \"Winston\", 500, 6),\n",
    "    (2, \"Marie\", 200, 4),\n",
    "]\n",
    "\n",
    "queue_columns_1204 = [\"person_id\", \"person_name\", \"weight\", \"turn\"]\n",
    "queue_df_1204 = spark.createDataFrame(queue_data_1204, queue_columns_1204)\n",
    "queue_df_1204.show()"
   ]
  },
  {
   "cell_type": "code",
   "execution_count": 0,
   "metadata": {
    "application/vnd.databricks.v1+cell": {
     "cellMetadata": {
      "byteLimit": 2048000,
      "rowLimit": 10000
     },
     "inputWidgets": {},
     "nuid": "7b7259e1-ba28-4e10-a7c7-baf6e5bd7f12",
     "showTitle": false,
     "tableResultSettingsMap": {},
     "title": ""
    }
   },
   "outputs": [],
   "source": [
    "ordered_df = queue_df_1204.orderBy(\"turn\")\n",
    "people = ordered_df.collect()"
   ]
  },
  {
   "cell_type": "code",
   "execution_count": 0,
   "metadata": {
    "application/vnd.databricks.v1+cell": {
     "cellMetadata": {
      "byteLimit": 2048000,
      "rowLimit": 10000
     },
     "inputWidgets": {},
     "nuid": "793b3b72-8916-4091-b2e5-6a66cf8d0094",
     "showTitle": false,
     "tableResultSettingsMap": {},
     "title": ""
    }
   },
   "outputs": [],
   "source": [
    "total_weight = 0\n",
    "last_person = None"
   ]
  },
  {
   "cell_type": "code",
   "execution_count": 0,
   "metadata": {
    "application/vnd.databricks.v1+cell": {
     "cellMetadata": {
      "byteLimit": 2048000,
      "rowLimit": 10000
     },
     "inputWidgets": {},
     "nuid": "37a63620-5595-4fca-b30d-51391d6c883c",
     "showTitle": false,
     "tableResultSettingsMap": {},
     "title": ""
    }
   },
   "outputs": [],
   "source": [
    "for row in people:\n",
    "    if total_weight + row[\"weight\"] > 1000:\n",
    "        break\n",
    "    total_weight += row[\"weight\"]\n",
    "    last_person = row[\"person_name\"]"
   ]
  },
  {
   "cell_type": "code",
   "execution_count": 0,
   "metadata": {
    "application/vnd.databricks.v1+cell": {
     "cellMetadata": {
      "byteLimit": 2048000,
      "rowLimit": 10000
     },
     "inputWidgets": {},
     "nuid": "061755c5-ca98-480f-bb89-751d115ee2f5",
     "showTitle": false,
     "tableResultSettingsMap": {},
     "title": ""
    }
   },
   "outputs": [],
   "source": [
    "result_df = spark.createDataFrame([(last_person,)], [\"person_name\"])\n",
    "result_df.show()"
   ]
  }
 ],
 "metadata": {
  "application/vnd.databricks.v1+notebook": {
   "computePreferences": {
    "hardware": {
     "accelerator": null,
     "gpuPoolId": null,
     "memory": null
    }
   },
   "dashboards": [],
   "environmentMetadata": {
    "base_environment": "",
    "environment_version": "2"
   },
   "inputWidgetPreferences": null,
   "language": "python",
   "notebookMetadata": {
    "pythonIndentUnit": 4
   },
   "notebookName": "1204. Last Person to Fit in the Bus (Medium)-(Solved)",
   "widgets": {}
  },
  "language_info": {
   "name": "python"
  }
 },
 "nbformat": 4,
 "nbformat_minor": 0
}
