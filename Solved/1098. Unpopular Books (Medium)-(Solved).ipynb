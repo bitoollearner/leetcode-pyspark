{
 "cells": [
  {
   "cell_type": "markdown",
   "metadata": {
    "application/vnd.databricks.v1+cell": {
     "cellMetadata": {
      "byteLimit": 2048000,
      "rowLimit": 10000
     },
     "inputWidgets": {},
     "nuid": "3f2ab884-5b2e-4c2a-b90f-eba6d7208edf",
     "showTitle": false,
     "tableResultSettingsMap": {},
     "title": ""
    }
   },
   "source": [
    "## Importing Libraries"
   ]
  },
  {
   "cell_type": "code",
   "execution_count": 0,
   "metadata": {
    "application/vnd.databricks.v1+cell": {
     "cellMetadata": {
      "byteLimit": 2048000,
      "rowLimit": 10000
     },
     "inputWidgets": {},
     "nuid": "26c9d69f-b471-43b4-aaee-40c41d01994e",
     "showTitle": false,
     "tableResultSettingsMap": {},
     "title": ""
    }
   },
   "outputs": [],
   "source": [
    "from pyspark.sql.functions import *\n",
    "from pyspark.sql.types import *\n",
    "from pyspark.sql.window import Window"
   ]
  },
  {
   "cell_type": "markdown",
   "metadata": {
    "application/vnd.databricks.v1+cell": {
     "cellMetadata": {
      "byteLimit": 2048000,
      "rowLimit": 10000
     },
     "inputWidgets": {},
     "nuid": "fa1c2280-e46c-403e-8996-25b01a84ec72",
     "showTitle": false,
     "tableResultSettingsMap": {},
     "title": ""
    }
   },
   "source": [
    "**1098. Unpopular Books (Medium)**\n",
    "\n",
    "**Table: Books**\n",
    "\n",
    "| Column Name    | Type    |\n",
    "|----------------|---------|\n",
    "| book_id        | int     |\n",
    "| name           | varchar |\n",
    "| available_from | date    |\n",
    "\n",
    "book_id is the primary key (column with unique values) of this table.\n",
    " \n",
    "**Table: Orders**\n",
    "\n",
    "| Column Name    | Type    |\n",
    "|----------------|---------|\n",
    "| order_id       | int     |\n",
    "| book_id        | int     |\n",
    "| quantity       | int     |\n",
    "| dispatch_date  | date    |\n",
    "\n",
    "order_id is the primary key (column with unique values) of this table.\n",
    "book_id is a foreign key (reference column) to the Books table.\n",
    " \n",
    "**Write a solution to report the books that have sold less than 10 copies in the last year, excluding books that have been available for less than one month from today. Assume today is 2019-06-23.**\n",
    "\n",
    "Return the result table in any order.\n",
    "\n",
    "The result format is in the following example.\n",
    "\n",
    "**Example 1:**\n",
    "\n",
    "**Input:** \n",
    "\n",
    "**Books table:**\n",
    "\n",
    "| book_id | name               | available_from |\n",
    "|---------|--------------------|----------------|\n",
    "| 1       | \"Kalila And Demna\" | 2010-01-01     |\n",
    "| 2       | \"28 Letters\"       | 2012-05-12     |\n",
    "| 3       | \"The Hobbit\"       | 2019-06-10     |\n",
    "| 4       | \"13 Reasons Why\"   | 2019-06-01     |\n",
    "| 5       | \"The Hunger Games\" | 2008-09-21     |\n",
    "\n",
    "**Orders table:**\n",
    "\n",
    "| order_id | book_id | quantity | dispatch_date |\n",
    "|----------|---------|----------|---------------|\n",
    "| 1        | 1       | 2        | 2018-07-26    |\n",
    "| 2        | 1       | 1        | 2018-11-05    |\n",
    "| 3        | 3       | 8        | 2019-06-11    |\n",
    "| 4        | 4       | 6        | 2019-06-05    |\n",
    "| 5        | 4       | 5        | 2019-06-20    |\n",
    "| 6        | 5       | 9        | 2009-02-02    |\n",
    "| 7        | 5       | 8        | 2010-04-13    |\n",
    "\n",
    "**Output:** \n",
    "| book_id   | name               |\n",
    "|-----------|--------------------|\n",
    "| 1         | \"Kalila And Demna\" |\n",
    "| 2         | \"28 Letters\"       |\n",
    "| 5         | \"The Hunger Games\" |\n"
   ]
  },
  {
   "cell_type": "code",
   "execution_count": 0,
   "metadata": {
    "application/vnd.databricks.v1+cell": {
     "cellMetadata": {
      "byteLimit": 2048000,
      "rowLimit": 10000
     },
     "inputWidgets": {},
     "nuid": "dddf2382-d3f5-49ba-9108-34f298edfb81",
     "showTitle": false,
     "tableResultSettingsMap": {},
     "title": ""
    }
   },
   "outputs": [
    {
     "output_type": "stream",
     "name": "stdout",
     "output_type": "stream",
     "text": [
      "+-------+----------------+--------------+\n|book_id|            name|available_from|\n+-------+----------------+--------------+\n|      1|Kalila And Demna|    2010-01-01|\n|      2|      28 Letters|    2012-05-12|\n|      3|      The Hobbit|    2019-06-10|\n|      4|  13 Reasons Why|    2019-06-01|\n|      5|The Hunger Games|    2008-09-21|\n+-------+----------------+--------------+\n\n+--------+-------+--------+-------------+\n|order_id|book_id|quantity|dispatch_date|\n+--------+-------+--------+-------------+\n|       1|      1|       2|   2018-07-26|\n|       2|      1|       1|   2018-11-05|\n|       3|      3|       8|   2019-06-11|\n|       4|      4|       6|   2019-06-05|\n|       5|      4|       5|   2019-06-20|\n|       6|      5|       9|   2009-02-02|\n|       7|      5|       8|   2010-04-13|\n+--------+-------+--------+-------------+\n\n"
     ]
    }
   ],
   "source": [
    "books_data_1098 = [\n",
    "    (1, \"Kalila And Demna\", \"2010-01-01\"),\n",
    "    (2, \"28 Letters\", \"2012-05-12\"),\n",
    "    (3, \"The Hobbit\", \"2019-06-10\"),\n",
    "    (4, \"13 Reasons Why\", \"2019-06-01\"),\n",
    "    (5, \"The Hunger Games\", \"2008-09-21\"),\n",
    "]\n",
    "\n",
    "books_columns_1098 = [\"book_id\", \"name\", \"available_from\"]\n",
    "books_df_1098 = spark.createDataFrame(books_data_1098, books_columns_1098)\n",
    "books_df_1098.show()\n",
    "\n",
    "orders_data_1098 = [\n",
    "    (1, 1, 2, \"2018-07-26\"),\n",
    "    (2, 1, 1, \"2018-11-05\"),\n",
    "    (3, 3, 8, \"2019-06-11\"),\n",
    "    (4, 4, 6, \"2019-06-05\"),\n",
    "    (5, 4, 5, \"2019-06-20\"),\n",
    "    (6, 5, 9, \"2009-02-02\"),\n",
    "    (7, 5, 8, \"2010-04-13\"),\n",
    "]\n",
    "\n",
    "orders_columns_1098 = [\"order_id\", \"book_id\", \"quantity\", \"dispatch_date\"]\n",
    "orders_df_1098 = spark.createDataFrame(orders_data_1098, orders_columns_1098)\n",
    "orders_df_1098.show()"
   ]
  },
  {
   "cell_type": "code",
   "execution_count": 0,
   "metadata": {
    "application/vnd.databricks.v1+cell": {
     "cellMetadata": {
      "byteLimit": 2048000,
      "rowLimit": 10000
     },
     "inputWidgets": {},
     "nuid": "600d81b9-de7d-4999-9152-6ef567a65d4c",
     "showTitle": false,
     "tableResultSettingsMap": {},
     "title": ""
    }
   },
   "outputs": [
    {
     "output_type": "stream",
     "name": "stdout",
     "output_type": "stream",
     "text": [
      "+-------+----------------+--------------+\n|book_id|            name|available_from|\n+-------+----------------+--------------+\n|      1|Kalila And Demna|    2010-01-01|\n|      2|      28 Letters|    2012-05-12|\n|      5|The Hunger Games|    2008-09-21|\n+-------+----------------+--------------+\n\n"
     ]
    }
   ],
   "source": [
    "eligible_books_df_1098 = books_df_1098.filter(col(\"available_from\") <= to_date(lit('2019-05-23')))\n",
    "eligible_books_df_1098.show()"
   ]
  },
  {
   "cell_type": "code",
   "execution_count": 0,
   "metadata": {
    "application/vnd.databricks.v1+cell": {
     "cellMetadata": {
      "byteLimit": 2048000,
      "rowLimit": 10000
     },
     "inputWidgets": {},
     "nuid": "9e7da6b1-9733-48c8-b60e-514f7fe055e3",
     "showTitle": false,
     "tableResultSettingsMap": {},
     "title": ""
    }
   },
   "outputs": [
    {
     "output_type": "stream",
     "name": "stdout",
     "output_type": "stream",
     "text": [
      "+--------+-------+--------+-------------+\n|order_id|book_id|quantity|dispatch_date|\n+--------+-------+--------+-------------+\n|       1|      1|       2|   2018-07-26|\n|       2|      1|       1|   2018-11-05|\n|       3|      3|       8|   2019-06-11|\n|       4|      4|       6|   2019-06-05|\n|       5|      4|       5|   2019-06-20|\n+--------+-------+--------+-------------+\n\n"
     ]
    }
   ],
   "source": [
    "recent_orders_df_1098 = orders_df_1098.filter(col(\"dispatch_date\") > to_date(lit('2018-06-23')))\n",
    "recent_orders_df_1098.show()"
   ]
  },
  {
   "cell_type": "code",
   "execution_count": 0,
   "metadata": {
    "application/vnd.databricks.v1+cell": {
     "cellMetadata": {
      "byteLimit": 2048000,
      "rowLimit": 10000
     },
     "inputWidgets": {},
     "nuid": "89c67858-93a5-4e00-aa1f-7e36e3aa4d74",
     "showTitle": false,
     "tableResultSettingsMap": {},
     "title": ""
    }
   },
   "outputs": [
    {
     "output_type": "stream",
     "name": "stdout",
     "output_type": "stream",
     "text": [
      "+-------+----------+\n|book_id|total_sold|\n+-------+----------+\n|      1|         3|\n|      3|         8|\n|      4|        11|\n+-------+----------+\n\n"
     ]
    }
   ],
   "source": [
    "sales_df_1098 = recent_orders_df_1098\\\n",
    "                .groupBy(\"book_id\") \\\n",
    "                .agg(sum(\"quantity\").alias(\"total_sold\"))\n",
    "sales_df_1098.show()                "
   ]
  },
  {
   "cell_type": "code",
   "execution_count": 0,
   "metadata": {
    "application/vnd.databricks.v1+cell": {
     "cellMetadata": {
      "byteLimit": 2048000,
      "rowLimit": 10000
     },
     "inputWidgets": {},
     "nuid": "f82cd2fe-dfcf-4c34-8bed-0bfbdb793ef2",
     "showTitle": false,
     "tableResultSettingsMap": {},
     "title": ""
    }
   },
   "outputs": [
    {
     "output_type": "stream",
     "name": "stdout",
     "output_type": "stream",
     "text": [
      "+-------+----------------+\n|book_id|            name|\n+-------+----------------+\n|      1|Kalila And Demna|\n|      2|      28 Letters|\n|      5|The Hunger Games|\n+-------+----------------+\n\n"
     ]
    }
   ],
   "source": [
    "eligible_books_df_1098.join(sales_df_1098, on=\"book_id\", how=\"left\").fillna(0)\\\n",
    "                        .filter(col(\"total_sold\") < 10) \\\n",
    "                        .select(\"book_id\", \"name\").show()"
   ]
  }
 ],
 "metadata": {
  "application/vnd.databricks.v1+notebook": {
   "computePreferences": {
    "hardware": {
     "accelerator": null,
     "gpuPoolId": null,
     "memory": null
    }
   },
   "dashboards": [],
   "environmentMetadata": {
    "base_environment": "",
    "environment_version": "2"
   },
   "inputWidgetPreferences": null,
   "language": "python",
   "notebookMetadata": {
    "pythonIndentUnit": 4
   },
   "notebookName": "1098. Unpopular Books (Medium)-(Solved)",
   "widgets": {}
  },
  "language_info": {
   "name": "python"
  }
 },
 "nbformat": 4,
 "nbformat_minor": 0
}
