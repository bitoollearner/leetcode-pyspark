{
 "cells": [
  {
   "cell_type": "markdown",
   "metadata": {
    "application/vnd.databricks.v1+cell": {
     "cellMetadata": {},
     "inputWidgets": {},
     "nuid": "d9696288-a832-439b-a62b-3edf679fd9b7",
     "showTitle": false,
     "tableResultSettingsMap": {},
     "title": ""
    }
   },
   "source": [
    "## Importing Libraries"
   ]
  },
  {
   "cell_type": "code",
   "execution_count": 0,
   "metadata": {
    "application/vnd.databricks.v1+cell": {
     "cellMetadata": {},
     "inputWidgets": {},
     "nuid": "a6a331ef-c3c7-4c95-b4ce-ae12f0267eac",
     "showTitle": false,
     "tableResultSettingsMap": {},
     "title": ""
    }
   },
   "outputs": [],
   "source": [
    "from pyspark.sql.functions import *\n",
    "from pyspark.sql.types import *\n",
    "from pyspark.sql.window import Window"
   ]
  },
  {
   "cell_type": "markdown",
   "metadata": {
    "application/vnd.databricks.v1+cell": {
     "cellMetadata": {},
     "inputWidgets": {},
     "nuid": "0ef35d1c-e93e-4d25-83ff-5b5ff25a032c",
     "showTitle": false,
     "tableResultSettingsMap": {},
     "title": ""
    }
   },
   "source": [
    "**183. Customers Who Never Order (Easy)**\n",
    "\n",
    "**Table: Customers**\n",
    "\n",
    "| Column Name | Type    |\n",
    "|-------------|---------|\n",
    "| id          | int     |\n",
    "| name        | varchar |\n",
    "\n",
    "id is the primary key (column with unique values) for this table.\n",
    "Each row of this table indicates the ID and name of a customer.\n",
    " \n",
    "**Table: Orders**\n",
    "\n",
    "| Column Name | Type |\n",
    "|-------------|------|\n",
    "| id          | int  |\n",
    "| customerId  | int  |\n",
    "\n",
    "\n",
    "id is the primary key (column with unique values) for this table.\n",
    "customerId is a foreign key (reference columns) of the ID from the Customers table.\n",
    "Each row of this table indicates the ID of an order and the ID of the customer who ordered it.\n",
    " \n",
    "**Write a solution to find all customers who never order anything.**\n",
    "\n",
    "Return the result table in any order.\n",
    "\n",
    "The result format is in the following example.\n",
    "\n",
    "**Example 1:**\n",
    "\n",
    "**Input:**\n",
    "**Customers table:**\n",
    "| id | name  |\n",
    "|----|-------|\n",
    "| 1  | Joe   |\n",
    "| 2  | Henry |\n",
    "| 3  | Sam   |\n",
    "| 4  | Max   |\n",
    "\n",
    "**Orders table:**\n",
    "| id | customerId |\n",
    "|----|------------|\n",
    "| 1  | 3          |\n",
    "| 2  | 1          |\n",
    "\n",
    "**Output:**\n",
    "| Customers |\n",
    "|-----------|\n",
    "| Henry     |\n",
    "| Max       |\n"
   ]
  },
  {
   "cell_type": "code",
   "execution_count": 0,
   "metadata": {
    "application/vnd.databricks.v1+cell": {
     "cellMetadata": {},
     "inputWidgets": {},
     "nuid": "5ac28b2c-7005-42ec-a252-c508f5fe397d",
     "showTitle": false,
     "tableResultSettingsMap": {},
     "title": ""
    }
   },
   "outputs": [],
   "source": [
    "data_customers_183 = [\n",
    "    (1, \"Joe\"),\n",
    "    (2, \"Henry\"),\n",
    "    (3, \"Sam\"),\n",
    "    (4, \"Max\")\n",
    "]\n",
    "\n",
    "data_orders_183 = [\n",
    "    (1, 3),\n",
    "    (2, 1)\n",
    "]\n",
    "\n",
    "columns_customers_183 = [\"id\", \"name\"]\n",
    "df_customers_183 = spark.createDataFrame(data_customers_183, columns_customers_183)\n",
    "df_customers_183.show()\n",
    "\n",
    "columns_orders_183 = [\"id\", \"customerId\"]\n",
    "df_orders_183 = spark.createDataFrame(data_orders_183, columns_orders_183)\n",
    "df_orders_183.show()"
   ]
  }
 ],
 "metadata": {
  "application/vnd.databricks.v1+notebook": {
   "computePreferences": null,
   "dashboards": [],
   "environmentMetadata": {
    "base_environment": "",
    "client": "1"
   },
   "language": "python",
   "notebookMetadata": {
    "pythonIndentUnit": 4
   },
   "notebookName": "183. Customers Who Never Order (Easy)",
   "widgets": {}
  }
 },
 "nbformat": 4,
 "nbformat_minor": 0
}
