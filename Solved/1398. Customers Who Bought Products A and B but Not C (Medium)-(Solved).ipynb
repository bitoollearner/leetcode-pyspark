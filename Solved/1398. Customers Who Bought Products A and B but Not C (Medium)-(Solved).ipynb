{
 "cells": [
  {
   "cell_type": "markdown",
   "metadata": {
    "application/vnd.databricks.v1+cell": {
     "cellMetadata": {
      "byteLimit": 2048000,
      "rowLimit": 10000
     },
     "inputWidgets": {},
     "nuid": "516a210c-988a-43a8-9004-cb03ad7c2481",
     "showTitle": false,
     "tableResultSettingsMap": {},
     "title": ""
    }
   },
   "source": [
    "## Importing Libraries"
   ]
  },
  {
   "cell_type": "code",
   "execution_count": 0,
   "metadata": {
    "application/vnd.databricks.v1+cell": {
     "cellMetadata": {
      "byteLimit": 2048000,
      "rowLimit": 10000
     },
     "inputWidgets": {},
     "nuid": "9333a394-5bb0-4f1f-8f10-60b56c9fb68e",
     "showTitle": false,
     "tableResultSettingsMap": {},
     "title": ""
    }
   },
   "outputs": [],
   "source": [
    "from pyspark.sql.functions import *\n",
    "from pyspark.sql.types import *\n",
    "from pyspark.sql.window import Window"
   ]
  },
  {
   "cell_type": "markdown",
   "metadata": {
    "application/vnd.databricks.v1+cell": {
     "cellMetadata": {
      "byteLimit": 2048000,
      "rowLimit": 10000
     },
     "inputWidgets": {},
     "nuid": "b718c875-1030-4207-a68c-5fad8635212a",
     "showTitle": false,
     "tableResultSettingsMap": {},
     "title": ""
    }
   },
   "source": [
    "**1398. Customers Who Bought Products A and B but Not C (Medium)**\n",
    "\n",
    "**Table: Customers**\n",
    "\n",
    "| Column Name         | Type    |\n",
    "|---------------------|---------|\n",
    "| customer_id         | int     |\n",
    "| customer_name       | varchar |\n",
    "\n",
    "customer_id is the column with unique values for this table.\n",
    "customer_name is the name of the customer.\n",
    " \n",
    "**Table: Orders**\n",
    "\n",
    "| Column Name   | Type    |\n",
    "|---------------|---------|\n",
    "| order_id      | int     |\n",
    "| customer_id   | int     |\n",
    "| product_name  | varchar |\n",
    "\n",
    "order_id is the column with unique values for this table.\n",
    "customer_id is the id of the customer who bought the product \"product_name\".\n",
    " \n",
    "**Write a solution to report the customer_id and customer_name of customers who bought products \"A\", \"B\" but did not buy the product \"C\" since we want to recommend them to purchase this product.**\n",
    "\n",
    "Return the result table ordered by customer_id.\n",
    "\n",
    "The result format is in the following example.\n",
    "\n",
    "**Example 1:**\n",
    "\n",
    "**Input:** \n",
    "\n",
    "**Customers table:**\n",
    "\n",
    "| customer_id | customer_name |\n",
    "|-------------|---------------|\n",
    "| 1           | Daniel        |\n",
    "| 2           | Diana         |\n",
    "| 3           | Elizabeth     |\n",
    "| 4           | Jhon          |\n",
    "\n",
    "**Orders table:**\n",
    "| order_id   | customer_id  | product_name  |\n",
    "|------------|--------------|---------------|\n",
    "| 10         |     1        |     A         |\n",
    "| 20         |     1        |     B         |\n",
    "| 30         |     1        |     D         |\n",
    "| 40         |     1        |     C         |\n",
    "| 50         |     2        |     A         |\n",
    "| 60         |     3        |     A         |\n",
    "| 70         |     3        |     B         |\n",
    "| 80         |     3        |     D         |\n",
    "| 90         |     4        |     C         |\n",
    "\n",
    "**Output:** \n",
    "| customer_id | customer_name |\n",
    "|-------------|---------------|\n",
    "| 3           | Elizabeth     |\n",
    "\n",
    "**Explanation:** Only the customer_id with id 3 bought the product A and B but not the product C."
   ]
  },
  {
   "cell_type": "code",
   "execution_count": 0,
   "metadata": {
    "application/vnd.databricks.v1+cell": {
     "cellMetadata": {
      "byteLimit": 2048000,
      "rowLimit": 10000
     },
     "inputWidgets": {},
     "nuid": "01e4d778-a8a5-48a7-8ebb-7033f0b84d62",
     "showTitle": false,
     "tableResultSettingsMap": {},
     "title": ""
    }
   },
   "outputs": [
    {
     "output_type": "stream",
     "name": "stdout",
     "output_type": "stream",
     "text": [
      "+-----------+-------------+\n|customer_id|customer_name|\n+-----------+-------------+\n|          1|       Daniel|\n|          2|        Diana|\n|          3|    Elizabeth|\n|          4|         Jhon|\n+-----------+-------------+\n\n+--------+-----------+------------+\n|order_id|customer_id|product_name|\n+--------+-----------+------------+\n|      10|          1|           A|\n|      20|          1|           B|\n|      30|          1|           D|\n|      40|          1|           C|\n|      50|          2|           A|\n|      60|          3|           A|\n|      70|          3|           B|\n|      80|          3|           D|\n|      90|          4|           C|\n+--------+-----------+------------+\n\n"
     ]
    }
   ],
   "source": [
    "customers_data_1398 = [\n",
    "    (1, \"Daniel\"),\n",
    "    (2, \"Diana\"),\n",
    "    (3, \"Elizabeth\"),\n",
    "    (4, \"Jhon\")\n",
    "]\n",
    "\n",
    "customers_columns_1398 = [\"customer_id\", \"customer_name\"]\n",
    "customers_df_1398 = spark.createDataFrame(customers_data_1398, customers_columns_1398)\n",
    "customers_df_1398.show()\n",
    "\n",
    "orders_data_1398 = [\n",
    "    (10, 1, \"A\"),\n",
    "    (20, 1, \"B\"),\n",
    "    (30, 1, \"D\"),\n",
    "    (40, 1, \"C\"),\n",
    "    (50, 2, \"A\"),\n",
    "    (60, 3, \"A\"),\n",
    "    (70, 3, \"B\"),\n",
    "    (80, 3, \"D\"),\n",
    "    (90, 4, \"C\")\n",
    "]\n",
    "\n",
    "orders_columns_1398 = [\"order_id\", \"customer_id\", \"product_name\"]\n",
    "orders_df_1398 = spark.createDataFrame(orders_data_1398, orders_columns_1398)\n",
    "orders_df_1398.show()\n"
   ]
  },
  {
   "cell_type": "code",
   "execution_count": 0,
   "metadata": {
    "application/vnd.databricks.v1+cell": {
     "cellMetadata": {
      "byteLimit": 2048000,
      "rowLimit": 10000
     },
     "inputWidgets": {},
     "nuid": "1ec508c1-0e8e-4620-ab52-65c2ac7ce0a1",
     "showTitle": false,
     "tableResultSettingsMap": {},
     "title": ""
    }
   },
   "outputs": [],
   "source": [
    "customer_products_df_1398 = orders_df_1398\\\n",
    "                                .groupBy(\"customer_id\") \\\n",
    "                                    .agg(collect_set(\"product_name\").alias(\"products\"))"
   ]
  },
  {
   "cell_type": "code",
   "execution_count": 0,
   "metadata": {
    "application/vnd.databricks.v1+cell": {
     "cellMetadata": {
      "byteLimit": 2048000,
      "rowLimit": 10000
     },
     "inputWidgets": {},
     "nuid": "c47fb174-e4cb-4d58-b910-869a2c1c497a",
     "showTitle": false,
     "tableResultSettingsMap": {},
     "title": ""
    }
   },
   "outputs": [
    {
     "output_type": "stream",
     "name": "stdout",
     "output_type": "stream",
     "text": [
      "+-----------+-------------+\n|customer_id|customer_name|\n+-----------+-------------+\n|          3|    Elizabeth|\n+-----------+-------------+\n\n"
     ]
    }
   ],
   "source": [
    "customer_products_df_1398\\\n",
    "                .filter(\n",
    "                    array_contains(col(\"products\"),\"A\") &\n",
    "                    array_contains(col(\"products\"),\"B\") &\n",
    "                    (~array_contains(col(\"products\"),\"C\"))\n",
    "                )\\\n",
    "                .join(customers_df_1398, on=\"customer_id\") \\\n",
    "                    .select(\"customer_id\", \"customer_name\") \\\n",
    "                        .orderBy(\"customer_id\").show()"
   ]
  }
 ],
 "metadata": {
  "application/vnd.databricks.v1+notebook": {
   "computePreferences": {
    "hardware": {
     "accelerator": null,
     "gpuPoolId": null,
     "memory": null
    }
   },
   "dashboards": [],
   "environmentMetadata": {
    "base_environment": "",
    "environment_version": "2"
   },
   "inputWidgetPreferences": null,
   "language": "python",
   "notebookMetadata": {
    "pythonIndentUnit": 4
   },
   "notebookName": "1398. Customers Who Bought Products A and B but Not C (Medium)-(Solved)",
   "widgets": {}
  },
  "language_info": {
   "name": "python"
  }
 },
 "nbformat": 4,
 "nbformat_minor": 0
}
