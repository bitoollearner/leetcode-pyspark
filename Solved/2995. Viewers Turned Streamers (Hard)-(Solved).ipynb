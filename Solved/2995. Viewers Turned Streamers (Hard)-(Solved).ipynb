{
 "cells": [
  {
   "cell_type": "markdown",
   "metadata": {
    "application/vnd.databricks.v1+cell": {
     "cellMetadata": {
      "byteLimit": 2048000,
      "rowLimit": 10000
     },
     "inputWidgets": {},
     "nuid": "4e9d71b1-88e9-445c-820a-b842e217a4e7",
     "showTitle": false,
     "tableResultSettingsMap": {},
     "title": ""
    }
   },
   "source": [
    "## Importing Libraries"
   ]
  },
  {
   "cell_type": "code",
   "execution_count": 0,
   "metadata": {
    "application/vnd.databricks.v1+cell": {
     "cellMetadata": {
      "byteLimit": 2048000,
      "rowLimit": 10000
     },
     "inputWidgets": {},
     "nuid": "e6624c4d-8cb8-4ac4-8c72-81d1b4ecdb57",
     "showTitle": false,
     "tableResultSettingsMap": {},
     "title": ""
    }
   },
   "outputs": [],
   "source": [
    "from pyspark.sql.functions import *\n",
    "from pyspark.sql.types import *\n",
    "from pyspark.sql.window import Window"
   ]
  },
  {
   "cell_type": "markdown",
   "metadata": {
    "application/vnd.databricks.v1+cell": {
     "cellMetadata": {
      "byteLimit": 2048000,
      "rowLimit": 10000
     },
     "inputWidgets": {},
     "nuid": "c3788fe5-f4c9-420f-ad72-ec1a39310a2a",
     "showTitle": false,
     "tableResultSettingsMap": {},
     "title": ""
    }
   },
   "source": [
    "**2995. Viewers Turned Streamers (Hard)**\n",
    "\n",
    "**Table: Sessions**\n",
    "\n",
    "| Column Name   | Type     |\n",
    "|---------------|----------|\n",
    "| user_id       | int      |\n",
    "| session_start | datetime |\n",
    "| session_end   | datetime |\n",
    "| session_id    | int      |\n",
    "| session_type  | enum     |\n",
    "\n",
    "session_id is column of unique values for this table.\n",
    "session_type is an ENUM (category) type of (Viewer, Streamer).\n",
    "This table contains user id, session start, session end, session id and session type.\n",
    "\n",
    "**Write a solution to find the number of streaming sessions for users whose first session was as a viewer.**\n",
    "\n",
    "Return the result table ordered by count of streaming sessions, user_id in descending order.\n",
    "\n",
    "The result format is in the following example.\n",
    "\n",
    "**Example 1:**\n",
    "\n",
    "**Input:** \n",
    "**Sessions table:**\n",
    "\n",
    "| user_id | session_start       | session_end         | session_id | session_type | \n",
    "|---------|---------------------|---------------------|------------|--------------|\n",
    "| 101     | 2023-11-06 13:53:42 | 2023-11-06 14:05:42 | 375        | Viewer       |  \n",
    "| 101     | 2023-11-22 16:45:21 | 2023-11-22 20:39:21 | 594        | Streamer     |   \n",
    "| 102     | 2023-11-16 13:23:09 | 2023-11-16 16:10:09 | 777        | Streamer     | \n",
    "| 102     | 2023-11-17 13:23:09 | 2023-11-17 16:10:09 | 778        | Streamer     | \n",
    "| 101     | 2023-11-20 07:16:06 | 2023-11-20 08:33:06 | 315        | Streamer     | \n",
    "| 104     | 2023-11-27 03:10:49 | 2023-11-27 03:30:49 | 797        | Viewer       | \n",
    "| 103     | 2023-11-27 03:10:49 | 2023-11-27 03:30:49 | 798        | Streamer     |  \n",
    "\n",
    "**Output:**\n",
    "| user_id | sessions_count | \n",
    "|---------|----------------|\n",
    "| 101     | 2              | \n",
    "\n",
    "**Explanation**\n",
    "- user_id 101, initiated their initial session as a viewer on 2023-11-06 at 13:53:42, followed by two subsequent sessions as a Streamer, the count will be 2.\n",
    "- user_id 102, although there are two sessions, the initial session was as a Streamer, so this user will be excluded.\n",
    "- user_id 103 participated in only one session, which was as a Streamer, hence, it won't be considered.\n",
    "- User_id 104 commenced their first session as a viewer but didn't have any subsequent sessions, therefore, they won't be included in the final count. \n",
    "\n",
    "Output table is ordered by sessions count and user_id in descending order."
   ]
  },
  {
   "cell_type": "code",
   "execution_count": 0,
   "metadata": {
    "application/vnd.databricks.v1+cell": {
     "cellMetadata": {
      "byteLimit": 2048000,
      "rowLimit": 10000
     },
     "inputWidgets": {},
     "nuid": "137536ea-9bec-4171-8dc2-4bf8b0d771b4",
     "showTitle": false,
     "tableResultSettingsMap": {},
     "title": ""
    }
   },
   "outputs": [
    {
     "output_type": "stream",
     "name": "stdout",
     "output_type": "stream",
     "text": [
      "+-------+-------------------+-------------------+----------+------------+\n|user_id|      session_start|        session_end|session_id|session_type|\n+-------+-------------------+-------------------+----------+------------+\n|    101|2023-11-06 13:53:42|2023-11-06 14:05:42|       375|      Viewer|\n|    101|2023-11-22 16:45:21|2023-11-22 20:39:21|       594|    Streamer|\n|    102|2023-11-16 13:23:09|2023-11-16 16:10:09|       777|    Streamer|\n|    102|2023-11-17 13:23:09|2023-11-17 16:10:09|       778|    Streamer|\n|    101|2023-11-20 07:16:06|2023-11-20 08:33:06|       315|    Streamer|\n|    104|2023-11-27 03:10:49|2023-11-27 03:30:49|       797|      Viewer|\n|    103|2023-11-27 03:10:49|2023-11-27 03:30:49|       798|    Streamer|\n+-------+-------------------+-------------------+----------+------------+\n\n"
     ]
    }
   ],
   "source": [
    "sessions_data_2995 = [\n",
    "    (101, \"2023-11-06 13:53:42\", \"2023-11-06 14:05:42\", 375, \"Viewer\"),\n",
    "    (101, \"2023-11-22 16:45:21\", \"2023-11-22 20:39:21\", 594, \"Streamer\"),\n",
    "    (102, \"2023-11-16 13:23:09\", \"2023-11-16 16:10:09\", 777, \"Streamer\"),\n",
    "    (102, \"2023-11-17 13:23:09\", \"2023-11-17 16:10:09\", 778, \"Streamer\"),\n",
    "    (101, \"2023-11-20 07:16:06\", \"2023-11-20 08:33:06\", 315, \"Streamer\"),\n",
    "    (104, \"2023-11-27 03:10:49\", \"2023-11-27 03:30:49\", 797, \"Viewer\"),\n",
    "    (103, \"2023-11-27 03:10:49\", \"2023-11-27 03:30:49\", 798, \"Streamer\"),\n",
    "]\n",
    "\n",
    "sessions_columns_2995 = [\"user_id\", \"session_start\", \"session_end\", \"session_id\", \"session_type\"]\n",
    "sessions_df_2995 = spark.createDataFrame(sessions_data_2995, sessions_columns_2995)\n",
    "sessions_df_2995.show()"
   ]
  },
  {
   "cell_type": "code",
   "execution_count": 0,
   "metadata": {
    "application/vnd.databricks.v1+cell": {
     "cellMetadata": {
      "byteLimit": 2048000,
      "rowLimit": 10000
     },
     "inputWidgets": {},
     "nuid": "54dfd489-1fae-45a4-aa20-0b73988836e8",
     "showTitle": false,
     "tableResultSettingsMap": {},
     "title": ""
    }
   },
   "outputs": [],
   "source": [
    "window_spec = Window.partitionBy(\"user_id\").orderBy(\"session_start\")"
   ]
  },
  {
   "cell_type": "code",
   "execution_count": 0,
   "metadata": {
    "application/vnd.databricks.v1+cell": {
     "cellMetadata": {
      "byteLimit": 2048000,
      "rowLimit": 10000
     },
     "inputWidgets": {},
     "nuid": "171acf35-5dcf-46f1-8c84-aebdd5b73768",
     "showTitle": false,
     "tableResultSettingsMap": {},
     "title": ""
    }
   },
   "outputs": [],
   "source": [
    "df_first_2995 = sessions_df_2995\\\n",
    "                    .withColumn(\"rn\", row_number().over(window_spec))"
   ]
  },
  {
   "cell_type": "code",
   "execution_count": 0,
   "metadata": {
    "application/vnd.databricks.v1+cell": {
     "cellMetadata": {
      "byteLimit": 2048000,
      "rowLimit": 10000
     },
     "inputWidgets": {},
     "nuid": "b4480e5e-c911-4be7-ac46-502a8e08c04d",
     "showTitle": false,
     "tableResultSettingsMap": {},
     "title": ""
    }
   },
   "outputs": [],
   "source": [
    "viewers_2995 = df_first_2995\\\n",
    "                    .filter(col(\"rn\") == 1).filter(col(\"session_type\") == \"Viewer\")\\\n",
    "                        .select(\"user_id\")"
   ]
  },
  {
   "cell_type": "code",
   "execution_count": 0,
   "metadata": {
    "application/vnd.databricks.v1+cell": {
     "cellMetadata": {
      "byteLimit": 2048000,
      "rowLimit": 10000
     },
     "inputWidgets": {},
     "nuid": "49acf652-cda8-41ac-a379-f93b808bb167",
     "showTitle": false,
     "tableResultSettingsMap": {},
     "title": ""
    }
   },
   "outputs": [
    {
     "output_type": "display_data",
     "data": {
      "text/html": [
       "<style scoped>\n",
       "  .table-result-container {\n",
       "    max-height: 300px;\n",
       "    overflow: auto;\n",
       "  }\n",
       "  table, th, td {\n",
       "    border: 1px solid black;\n",
       "    border-collapse: collapse;\n",
       "  }\n",
       "  th, td {\n",
       "    padding: 5px;\n",
       "  }\n",
       "  th {\n",
       "    text-align: left;\n",
       "  }\n",
       "</style><div class='table-result-container'><table class='table-result'><thead style='background-color: white'><tr><th>user_id</th><th>sessions_count</th></tr></thead><tbody><tr><td>101</td><td>2</td></tr></tbody></table></div>"
      ]
     },
     "metadata": {
      "application/vnd.databricks.v1+output": {
       "addedWidgets": {},
       "aggData": [],
       "aggError": "",
       "aggOverflow": false,
       "aggSchema": [],
       "aggSeriesLimitReached": false,
       "aggType": "",
       "arguments": {},
       "columnCustomDisplayInfos": {},
       "data": [
        [
         101,
         2
        ]
       ],
       "datasetInfos": [],
       "dbfsResultPath": null,
       "isJsonSchema": true,
       "metadata": {},
       "overflow": false,
       "plotOptions": {
        "customPlotOptions": {},
        "displayType": "table",
        "pivotAggregation": null,
        "pivotColumns": null,
        "xColumns": null,
        "yColumns": null
       },
       "removedWidgets": [],
       "schema": [
        {
         "metadata": "{}",
         "name": "user_id",
         "type": "\"long\""
        },
        {
         "metadata": "{}",
         "name": "sessions_count",
         "type": "\"long\""
        }
       ],
       "type": "table"
      }
     },
     "output_type": "display_data"
    }
   ],
   "source": [
    "sessions_df_2995\\\n",
    "    .join(viewers_2995, \"user_id\") \\\n",
    "        .filter(col(\"session_type\") == \"Streamer\") \\\n",
    "            .groupBy(\"user_id\") \\\n",
    "                .agg(count(\"*\").alias(\"sessions_count\")) \\\n",
    "                    .orderBy(col(\"sessions_count\").desc(), col(\"user_id\").desc()).display()"
   ]
  }
 ],
 "metadata": {
  "application/vnd.databricks.v1+notebook": {
   "computePreferences": {
    "hardware": {
     "accelerator": null,
     "gpuPoolId": null,
     "memory": null
    }
   },
   "dashboards": [],
   "environmentMetadata": {
    "base_environment": "",
    "environment_version": "2"
   },
   "inputWidgetPreferences": null,
   "language": "python",
   "notebookMetadata": {
    "pythonIndentUnit": 4
   },
   "notebookName": "2995. Viewers Turned Streamers (Hard)-(Solved)",
   "widgets": {}
  },
  "language_info": {
   "name": "python"
  }
 },
 "nbformat": 4,
 "nbformat_minor": 0
}
