{
 "cells": [
  {
   "cell_type": "markdown",
   "metadata": {
    "application/vnd.databricks.v1+cell": {
     "cellMetadata": {},
     "inputWidgets": {},
     "nuid": "83d38679-f742-44bb-952b-b541e178ddc8",
     "showTitle": false,
     "tableResultSettingsMap": {},
     "title": ""
    }
   },
   "source": [
    "## Importing Libraries"
   ]
  },
  {
   "cell_type": "code",
   "execution_count": 0,
   "metadata": {
    "application/vnd.databricks.v1+cell": {
     "cellMetadata": {},
     "inputWidgets": {},
     "nuid": "1daf4387-60f2-4c66-b119-d9ce2cd54aa2",
     "showTitle": false,
     "tableResultSettingsMap": {},
     "title": ""
    }
   },
   "outputs": [],
   "source": [
    "from pyspark.sql.functions import *\n",
    "from pyspark.sql.types import *\n",
    "from pyspark.sql.window import Window"
   ]
  },
  {
   "cell_type": "markdown",
   "metadata": {
    "application/vnd.databricks.v1+cell": {
     "cellMetadata": {},
     "inputWidgets": {},
     "nuid": "83ab9b20-fd4f-4392-ae0c-ff0580c3c7c1",
     "showTitle": false,
     "tableResultSettingsMap": {},
     "title": ""
    }
   },
   "source": [
    "**2041. Accepted Candidates From the Interviews (Medium)**\n",
    "\n",
    "**Table: Candidates**\n",
    "\n",
    "| Column Name  | Type     |\n",
    "|--------------|----------|\n",
    "| candidate_id | int      |\n",
    "| name         | varchar  |\n",
    "| years_of_exp | int      |\n",
    "| interview_id | int      |\n",
    "\n",
    "candidate_id is the primary key (column with unique values) for this table.\n",
    "Each row of this table indicates the name of a candidate, their number of years of experience, and their interview ID.\n",
    " \n",
    "**Table: Rounds**\n",
    "\n",
    "| Column Name  | Type |\n",
    "|--------------|------|\n",
    "| interview_id | int  |\n",
    "| round_id     | int  |\n",
    "| score        | int  |\n",
    "\n",
    "(interview_id, round_id) is the primary key (combination of columns with unique values) for this table.\n",
    "Each row of this table indicates the score of one round of an interview.\n",
    " \n",
    "**Write a solution to report the IDs of the candidates who have at least two years of experience and the sum of the score of their interview rounds is strictly greater than 15.**\n",
    "\n",
    "Return the result table in any order.\n",
    "\n",
    "The result format is in the following example.\n",
    "\n",
    "**Example 1:**\n",
    "\n",
    "**Input:** \n",
    "\n",
    "**Candidates table:**\n",
    "\n",
    "| candidate_id | name    | years_of_exp | interview_id |\n",
    "|--------------|---------|--------------|--------------|\n",
    "| 11           | Atticus | 1            | 101          |\n",
    "| 9            | Ruben   | 6            | 104          |\n",
    "| 6            | Aliza   | 10           | 109          |\n",
    "| 8            | Alfredo | 0            | 107          |\n",
    "\n",
    "**Rounds table:**\n",
    "| interview_id | round_id | score |\n",
    "|--------------|----------|-------|\n",
    "| 109          | 3        | 4     |\n",
    "| 101          | 2        | 8     |\n",
    "| 109          | 4        | 1     |\n",
    "| 107          | 1        | 3     |\n",
    "| 104          | 3        | 6     |\n",
    "| 109          | 1        | 4     |\n",
    "| 104          | 4        | 7     |\n",
    "| 104          | 1        | 2     |\n",
    "| 109          | 2        | 1     |\n",
    "| 104          | 2        | 7     |\n",
    "| 107          | 2        | 3     |\n",
    "| 101          | 1        | 8     |\n",
    "\n",
    "**Output:** \n",
    "| candidate_id |\n",
    "|--------------|\n",
    "| 9            |\n",
    "\n",
    "**Explanation:** \n",
    "- Candidate 11: The total score is 16, and they have one year of experience. We do not include them in the result table because of their years of experience.\n",
    "- Candidate 9: The total score is 22, and they have six years of experience. We include them in the result table.\n",
    "- Candidate 6: The total score is 10, and they have ten years of experience. We do not include them in the result table because the score is not good enough.\n",
    "- Candidate 8: The total score is 6, and they have zero years of experience. We do not include them in the result table because of their years of experience and the score."
   ]
  },
  {
   "cell_type": "code",
   "execution_count": 0,
   "metadata": {
    "application/vnd.databricks.v1+cell": {
     "cellMetadata": {},
     "inputWidgets": {},
     "nuid": "e39af07f-85df-4e21-8a5f-c65604a811f3",
     "showTitle": false,
     "tableResultSettingsMap": {},
     "title": ""
    }
   },
   "outputs": [],
   "source": [
    "candidates_data_2041 = [\n",
    "    (11, \"Atticus\", 1, 101),\n",
    "    (9, \"Ruben\", 6, 104),\n",
    "    (6, \"Aliza\", 10, 109),\n",
    "    (8, \"Alfredo\", 0, 107),\n",
    "]\n",
    "\n",
    "candidates_columns_2041 = [\"candidate_id\", \"name\", \"years_of_exp\", \"interview_id\"]\n",
    "candidates_df_2041 = spark.createDataFrame(candidates_data_2041, candidates_columns_2041)\n",
    "candidates_df_2041.show()\n",
    "\n",
    "rounds_data_2041 = [\n",
    "    (109, 3, 4),\n",
    "    (101, 2, 8),\n",
    "    (109, 4, 1),\n",
    "    (107, 1, 3),\n",
    "    (104, 3, 6),\n",
    "    (109, 1, 4),\n",
    "    (104, 4, 7),\n",
    "    (104, 1, 2),\n",
    "    (109, 2, 1),\n",
    "    (104, 2, 7),\n",
    "    (107, 2, 3),\n",
    "    (101, 1, 8),\n",
    "]\n",
    "\n",
    "rounds_columns_2041 = [\"interview_id\", \"round_id\", \"score\"]\n",
    "rounds_df_2041 = spark.createDataFrame(rounds_data_2041, rounds_columns_2041)\n",
    "rounds_df_2041.show()"
   ]
  }
 ],
 "metadata": {
  "application/vnd.databricks.v1+notebook": {
   "computePreferences": null,
   "dashboards": [],
   "environmentMetadata": {
    "base_environment": "",
    "environment_version": "1"
   },
   "inputWidgetPreferences": null,
   "language": "python",
   "notebookMetadata": {
    "pythonIndentUnit": 4
   },
   "notebookName": "2041. Accepted Candidates From the Interviews (Medium)-(Solved)",
   "widgets": {}
  },
  "language_info": {
   "name": "python"
  }
 },
 "nbformat": 4,
 "nbformat_minor": 0
}
