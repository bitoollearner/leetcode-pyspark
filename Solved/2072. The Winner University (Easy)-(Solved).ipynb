{
 "cells": [
  {
   "cell_type": "markdown",
   "metadata": {
    "application/vnd.databricks.v1+cell": {
     "cellMetadata": {
      "byteLimit": 2048000,
      "rowLimit": 10000
     },
     "inputWidgets": {},
     "nuid": "83d38679-f742-44bb-952b-b541e178ddc8",
     "showTitle": false,
     "tableResultSettingsMap": {},
     "title": ""
    }
   },
   "source": [
    "## Importing Libraries"
   ]
  },
  {
   "cell_type": "code",
   "execution_count": 0,
   "metadata": {
    "application/vnd.databricks.v1+cell": {
     "cellMetadata": {
      "byteLimit": 2048000,
      "rowLimit": 10000
     },
     "inputWidgets": {},
     "nuid": "1daf4387-60f2-4c66-b119-d9ce2cd54aa2",
     "showTitle": false,
     "tableResultSettingsMap": {},
     "title": ""
    }
   },
   "outputs": [],
   "source": [
    "from pyspark.sql.functions import *\n",
    "from pyspark.sql.types import *\n",
    "from pyspark.sql.window import Window"
   ]
  },
  {
   "cell_type": "markdown",
   "metadata": {
    "application/vnd.databricks.v1+cell": {
     "cellMetadata": {
      "byteLimit": 2048000,
      "rowLimit": 10000
     },
     "inputWidgets": {},
     "nuid": "83ab9b20-fd4f-4392-ae0c-ff0580c3c7c1",
     "showTitle": false,
     "tableResultSettingsMap": {},
     "title": ""
    }
   },
   "source": [
    "**2072. The Winner University (Easy)**\n",
    "\n",
    "**Table: NewYork**\n",
    "\n",
    "| Column Name | Type |\n",
    "|-------------|------|\n",
    "| student_id  | int  |\n",
    "| score       | int  |\n",
    "\n",
    "In SQL, student_id is the primary key for this table.\n",
    "Each row contains information about the score of one student from New York University in an exam.\n",
    " \n",
    "**Table: California**\n",
    "\n",
    "| Column Name | Type |\n",
    "|-------------|------|\n",
    "| student_id  | int  |\n",
    "| score       | int  |\n",
    "\n",
    "In SQL, student_id is the primary key for this table.\n",
    "Each row contains information about the score of one student from California University in an exam.\n",
    " \n",
    "There is a competition between New York University and California University. The competition is held between the same number of students from both universities. The university that has more excellent students wins the competition. If the two universities have the same number of excellent students, the competition ends in a draw.\n",
    "\n",
    "An excellent student is a student that scored 90% or more in the exam.\n",
    "\n",
    "Return:\n",
    "- **\"New York University\"** if New York University wins the competition.\n",
    "- **\"California University\"** if California University wins the competition.\n",
    "- **\"No Winner\"** if the competition ends in a draw.\n",
    "\n",
    "The result format is in the following example.\n",
    "\n",
    "**Example 1:**\n",
    "\n",
    "**Input:** \n",
    "\n",
    "**NewYork table:**\n",
    "\n",
    "| student_id | score |\n",
    "|------------|-------|\n",
    "| 1          | 90    |\n",
    "| 2          | 87    |\n",
    "\n",
    "**California table:**\n",
    "| student_id | score |\n",
    "|------------|-------|\n",
    "| 2          | 89    |\n",
    "| 3          | 88    |\n",
    "\n",
    "**Output:** \n",
    "| winner              |\n",
    "|---------------------|\n",
    "| New York University |\n",
    "\n",
    "**Explanation:**\n",
    "New York University has 1 excellent student, and California University has 0 excellent students.\n"
   ]
  },
  {
   "cell_type": "code",
   "execution_count": 0,
   "metadata": {
    "application/vnd.databricks.v1+cell": {
     "cellMetadata": {
      "byteLimit": 2048000,
      "rowLimit": 10000
     },
     "inputWidgets": {},
     "nuid": "e39af07f-85df-4e21-8a5f-c65604a811f3",
     "showTitle": false,
     "tableResultSettingsMap": {},
     "title": ""
    }
   },
   "outputs": [
    {
     "output_type": "stream",
     "name": "stdout",
     "output_type": "stream",
     "text": [
      "+----------+-----+\n|student_id|score|\n+----------+-----+\n|         1|   90|\n|         2|   87|\n+----------+-----+\n\n+----------+-----+\n|student_id|score|\n+----------+-----+\n|         2|   89|\n|         3|   88|\n+----------+-----+\n\n"
     ]
    }
   ],
   "source": [
    "newyork_data_2072 = [(1, 90), (2, 87)]\n",
    "\n",
    "newyork_columns_2072 = [\"student_id\", \"score\"]\n",
    "newyork_df_2072 = spark.createDataFrame(newyork_data_2072, newyork_columns_2072)\n",
    "newyork_df_2072.show()\n",
    "\n",
    "california_data_2072 = [(2, 89), (3, 88)]\n",
    "\n",
    "california_columns_2072 = [\"student_id\", \"score\"]\n",
    "california_df_2072 = spark.createDataFrame(california_data_2072, california_columns_2072)\n",
    "california_df_2072.show()"
   ]
  },
  {
   "cell_type": "code",
   "execution_count": 0,
   "metadata": {
    "application/vnd.databricks.v1+cell": {
     "cellMetadata": {
      "byteLimit": 2048000,
      "rowLimit": 10000
     },
     "inputWidgets": {},
     "nuid": "91cc9094-df38-4dca-8f3e-dc52411ed221",
     "showTitle": false,
     "tableResultSettingsMap": {},
     "title": ""
    }
   },
   "outputs": [],
   "source": [
    "ny_df_2072 = newyork_df_2072.\\\n",
    "                        filter(col(\"score\") >= 90).agg(count(\"*\").alias(\"excellent\")) \\\n",
    "                            .withColumn(\"university\", lit(\"New York University\"))"
   ]
  },
  {
   "cell_type": "code",
   "execution_count": 0,
   "metadata": {
    "application/vnd.databricks.v1+cell": {
     "cellMetadata": {
      "byteLimit": 2048000,
      "rowLimit": 10000
     },
     "inputWidgets": {},
     "nuid": "9c738bde-0adc-4d61-96d3-99705667130a",
     "showTitle": false,
     "tableResultSettingsMap": {},
     "title": ""
    }
   },
   "outputs": [],
   "source": [
    "ca_df_2072 = california_df_2072\\\n",
    "                        .filter(col(\"score\") >= 90).agg(count(\"*\").alias(\"excellent\")) \\\n",
    "                            .withColumn(\"university\", lit(\"California University\"))"
   ]
  },
  {
   "cell_type": "code",
   "execution_count": 0,
   "metadata": {
    "application/vnd.databricks.v1+cell": {
     "cellMetadata": {
      "byteLimit": 2048000,
      "rowLimit": 10000
     },
     "inputWidgets": {},
     "nuid": "7a75a926-7619-4000-899e-6f336a052a20",
     "showTitle": false,
     "tableResultSettingsMap": {},
     "title": ""
    }
   },
   "outputs": [],
   "source": [
    "df_2072 = ny_df_2072.union(ca_df_2072)"
   ]
  },
  {
   "cell_type": "code",
   "execution_count": 0,
   "metadata": {
    "application/vnd.databricks.v1+cell": {
     "cellMetadata": {
      "byteLimit": 2048000,
      "rowLimit": 10000
     },
     "inputWidgets": {},
     "nuid": "d9623e1a-9b91-40aa-beb6-bfca8f4007e8",
     "showTitle": false,
     "tableResultSettingsMap": {},
     "title": ""
    }
   },
   "outputs": [],
   "source": [
    "windowSpec = Window.orderBy(col(\"excellent\").desc())"
   ]
  },
  {
   "cell_type": "code",
   "execution_count": 0,
   "metadata": {
    "application/vnd.databricks.v1+cell": {
     "cellMetadata": {
      "byteLimit": 2048000,
      "rowLimit": 10000
     },
     "inputWidgets": {},
     "nuid": "a583504d-043b-4743-8290-8130dcb6f241",
     "showTitle": false,
     "tableResultSettingsMap": {},
     "title": ""
    }
   },
   "outputs": [],
   "source": [
    "ranked_df_2072 = df_2072\\\n",
    "                    .withColumn(\"rnk\", \n",
    "                                when(col(\"excellent\") == df_2072.agg({\"excellent\":\"max\"}).collect()[0][0], 1)\n",
    "                                .otherwise(2)\n",
    "                                )"
   ]
  },
  {
   "cell_type": "code",
   "execution_count": 0,
   "metadata": {
    "application/vnd.databricks.v1+cell": {
     "cellMetadata": {
      "byteLimit": 2048000,
      "rowLimit": 10000
     },
     "inputWidgets": {},
     "nuid": "4999481a-ff1e-442a-9316-f3e9cc2cf155",
     "showTitle": false,
     "tableResultSettingsMap": {},
     "title": ""
    }
   },
   "outputs": [],
   "source": [
    "winner_df_2072 = ranked_df_2072\\\n",
    "                    .filter(col(\"rnk\") == 1)"
   ]
  },
  {
   "cell_type": "code",
   "execution_count": 0,
   "metadata": {
    "application/vnd.databricks.v1+cell": {
     "cellMetadata": {
      "byteLimit": 2048000,
      "rowLimit": 10000
     },
     "inputWidgets": {},
     "nuid": "1f02c2bf-bb14-4442-824e-cb58a31f0e4a",
     "showTitle": false,
     "tableResultSettingsMap": {},
     "title": ""
    }
   },
   "outputs": [
    {
     "output_type": "stream",
     "name": "stdout",
     "output_type": "stream",
     "text": [
      "+-------------------+\n|             winner|\n+-------------------+\n|New York University|\n+-------------------+\n\n"
     ]
    }
   ],
   "source": [
    "winner_df_2072\\\n",
    "    .groupBy().agg(\n",
    "        when(count(\"*\") > 1, lit(\"No Winner\"))\n",
    "        .otherwise(winner_df_2072.first()[\"university\"]).alias(\"winner\")\n",
    "    ).show()"
   ]
  }
 ],
 "metadata": {
  "application/vnd.databricks.v1+notebook": {
   "computePreferences": {
    "hardware": {
     "accelerator": null,
     "gpuPoolId": null,
     "memory": null
    }
   },
   "dashboards": [],
   "environmentMetadata": {
    "base_environment": "",
    "environment_version": "2"
   },
   "inputWidgetPreferences": null,
   "language": "python",
   "notebookMetadata": {
    "pythonIndentUnit": 4
   },
   "notebookName": "2072. The Winner University (Easy)-(Solved)",
   "widgets": {}
  },
  "language_info": {
   "name": "python"
  }
 },
 "nbformat": 4,
 "nbformat_minor": 0
}
