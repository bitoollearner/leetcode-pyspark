{
 "cells": [
  {
   "cell_type": "markdown",
   "metadata": {
    "application/vnd.databricks.v1+cell": {
     "cellMetadata": {},
     "inputWidgets": {},
     "nuid": "83d38679-f742-44bb-952b-b541e178ddc8",
     "showTitle": false,
     "tableResultSettingsMap": {},
     "title": ""
    }
   },
   "source": [
    "## Importing Libraries"
   ]
  },
  {
   "cell_type": "code",
   "execution_count": 0,
   "metadata": {
    "application/vnd.databricks.v1+cell": {
     "cellMetadata": {},
     "inputWidgets": {},
     "nuid": "1daf4387-60f2-4c66-b119-d9ce2cd54aa2",
     "showTitle": false,
     "tableResultSettingsMap": {},
     "title": ""
    }
   },
   "outputs": [],
   "source": [
    "from pyspark.sql.functions import *\n",
    "from pyspark.sql.types import *\n",
    "from pyspark.sql.window import Window"
   ]
  },
  {
   "cell_type": "markdown",
   "metadata": {
    "application/vnd.databricks.v1+cell": {
     "cellMetadata": {},
     "inputWidgets": {},
     "nuid": "83ab9b20-fd4f-4392-ae0c-ff0580c3c7c1",
     "showTitle": false,
     "tableResultSettingsMap": {},
     "title": ""
    }
   },
   "source": [
    "**2072. The Winner University (Easy)**\n",
    "\n",
    "**Table: NewYork**\n",
    "\n",
    "| Column Name | Type |\n",
    "|-------------|------|\n",
    "| student_id  | int  |\n",
    "| score       | int  |\n",
    "\n",
    "In SQL, student_id is the primary key for this table.\n",
    "Each row contains information about the score of one student from New York University in an exam.\n",
    " \n",
    "**Table: California**\n",
    "\n",
    "| Column Name | Type |\n",
    "|-------------|------|\n",
    "| student_id  | int  |\n",
    "| score       | int  |\n",
    "\n",
    "In SQL, student_id is the primary key for this table.\n",
    "Each row contains information about the score of one student from California University in an exam.\n",
    " \n",
    "There is a competition between New York University and California University. The competition is held between the same number of students from both universities. The university that has more excellent students wins the competition. If the two universities have the same number of excellent students, the competition ends in a draw.\n",
    "\n",
    "An excellent student is a student that scored 90% or more in the exam.\n",
    "\n",
    "Return:\n",
    "- **\"New York University\"** if New York University wins the competition.\n",
    "- **\"California University\"** if California University wins the competition.\n",
    "- **\"No Winner\"** if the competition ends in a draw.\n",
    "\n",
    "The result format is in the following example.\n",
    "\n",
    "**Example 1:**\n",
    "\n",
    "**Input:** \n",
    "\n",
    "**NewYork table:**\n",
    "\n",
    "| student_id | score |\n",
    "|------------|-------|\n",
    "| 1          | 90    |\n",
    "| 2          | 87    |\n",
    "\n",
    "**California table:**\n",
    "| student_id | score |\n",
    "|------------|-------|\n",
    "| 2          | 89    |\n",
    "| 3          | 88    |\n",
    "\n",
    "**Output:** \n",
    "| winner              |\n",
    "|---------------------|\n",
    "| New York University |\n",
    "\n",
    "**Explanation:**\n",
    "New York University has 1 excellent student, and California University has 0 excellent students.\n"
   ]
  },
  {
   "cell_type": "code",
   "execution_count": 0,
   "metadata": {
    "application/vnd.databricks.v1+cell": {
     "cellMetadata": {},
     "inputWidgets": {},
     "nuid": "e39af07f-85df-4e21-8a5f-c65604a811f3",
     "showTitle": false,
     "tableResultSettingsMap": {},
     "title": ""
    }
   },
   "outputs": [],
   "source": [
    "newyork_data_2072 = [(1, 90), (2, 87)]\n",
    "\n",
    "newyork_columns_2072 = [\"student_id\", \"score\"]\n",
    "newyork_df_2072 = spark.createDataFrame(newyork_data_2072, newyork_columns_2072)\n",
    "newyork_df_2072.show()\n",
    "\n",
    "california_data_2072 = [(2, 89), (3, 88)]\n",
    "\n",
    "california_columns_2072 = [\"student_id\", \"score\"]\n",
    "california_df_2072 = spark.createDataFrame(california_data_2072, california_columns_2072)\n",
    "california_df_2072.show()"
   ]
  }
 ],
 "metadata": {
  "application/vnd.databricks.v1+notebook": {
   "computePreferences": null,
   "dashboards": [],
   "environmentMetadata": {
    "base_environment": "",
    "environment_version": "1"
   },
   "inputWidgetPreferences": null,
   "language": "python",
   "notebookMetadata": {
    "pythonIndentUnit": 4
   },
   "notebookName": "2072. The Winner University (Easy)-(Solved)",
   "widgets": {}
  },
  "language_info": {
   "name": "python"
  }
 },
 "nbformat": 4,
 "nbformat_minor": 0
}
