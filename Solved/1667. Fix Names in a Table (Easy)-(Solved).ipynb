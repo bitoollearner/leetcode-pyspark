{
 "cells": [
  {
   "cell_type": "markdown",
   "metadata": {
    "application/vnd.databricks.v1+cell": {
     "cellMetadata": {
      "byteLimit": 2048000,
      "rowLimit": 10000
     },
     "inputWidgets": {},
     "nuid": "f6ac9266-658c-4507-8a37-ecc81334b06d",
     "showTitle": false,
     "tableResultSettingsMap": {},
     "title": ""
    }
   },
   "source": [
    "## Importing Libraries"
   ]
  },
  {
   "cell_type": "code",
   "execution_count": 0,
   "metadata": {
    "application/vnd.databricks.v1+cell": {
     "cellMetadata": {
      "byteLimit": 2048000,
      "rowLimit": 10000
     },
     "inputWidgets": {},
     "nuid": "d6194993-9312-4b46-8365-d6a73d8cb0b0",
     "showTitle": false,
     "tableResultSettingsMap": {},
     "title": ""
    }
   },
   "outputs": [],
   "source": [
    "from pyspark.sql.functions import *\n",
    "from pyspark.sql.types import *\n",
    "from pyspark.sql.window import Window"
   ]
  },
  {
   "cell_type": "markdown",
   "metadata": {
    "application/vnd.databricks.v1+cell": {
     "cellMetadata": {
      "byteLimit": 2048000,
      "rowLimit": 10000
     },
     "inputWidgets": {},
     "nuid": "23f6a680-8f01-4976-83fa-88103e49c6b8",
     "showTitle": false,
     "tableResultSettingsMap": {},
     "title": ""
    }
   },
   "source": [
    "**1667. Fix Names in a Table (Easy)**\n",
    "\n",
    "**Table: Users**\n",
    "\n",
    "| Column Name    | Type    |\n",
    "|----------------|---------|\n",
    "| user_id        | int     |\n",
    "| name           | varchar |\n",
    "\n",
    "user_id is the primary key (column with unique values) for this table.\n",
    "This table contains the ID and the name of the user. The name consists of only lowercase and uppercase characters.\n",
    " \n",
    "**Write a solution to fix the names so that only the first character is uppercase and the rest are lowercase.**\n",
    "\n",
    "Return the result table ordered by user_id.\n",
    "\n",
    "The result format is in the following example.\n",
    "\n",
    "**Example 1:**\n",
    "\n",
    "**Input:**\n",
    "**Users table:**\n",
    "| user_id | name  |\n",
    "|---------|-------|\n",
    "| 1       | aLice |\n",
    "| 2       | bOB   |\n",
    "\n",
    "**Output:**\n",
    "| user_id | name  |\n",
    "|---------|-------|\n",
    "| 1       | Alice |\n",
    "| 2       | Bob   |\n"
   ]
  },
  {
   "cell_type": "code",
   "execution_count": 0,
   "metadata": {
    "application/vnd.databricks.v1+cell": {
     "cellMetadata": {
      "byteLimit": 2048000,
      "rowLimit": 10000
     },
     "inputWidgets": {},
     "nuid": "a762f84d-f622-4403-b695-4066e5bdbaf0",
     "showTitle": false,
     "tableResultSettingsMap": {},
     "title": ""
    }
   },
   "outputs": [
    {
     "output_type": "stream",
     "name": "stdout",
     "output_type": "stream",
     "text": [
      "+-------+-----+\n|user_id| name|\n+-------+-----+\n|      1|aLice|\n|      2|  bOB|\n+-------+-----+\n\n"
     ]
    }
   ],
   "source": [
    "users_data_1667 = [(1, \"aLice\"), (2, \"bOB\")]\n",
    "\n",
    "users_columns_1667 = [\"user_id\", \"name\"]\n",
    "users_df_1667 = spark.createDataFrame(users_data_1667, users_columns_1667)\n",
    "users_df_1667.show()"
   ]
  },
  {
   "cell_type": "code",
   "execution_count": 0,
   "metadata": {
    "application/vnd.databricks.v1+cell": {
     "cellMetadata": {
      "byteLimit": 2048000,
      "rowLimit": 10000
     },
     "inputWidgets": {},
     "nuid": "2893aed5-f911-438b-a842-6d8bec0a14ed",
     "showTitle": false,
     "tableResultSettingsMap": {},
     "title": ""
    }
   },
   "outputs": [
    {
     "output_type": "stream",
     "name": "stdout",
     "output_type": "stream",
     "text": [
      "+-------+-----+\n|user_id| name|\n+-------+-----+\n|      1|Alice|\n|      2|  Bob|\n+-------+-----+\n\n"
     ]
    }
   ],
   "source": [
    "users_df_1667\\\n",
    "    .withColumn( \"name\", expr(\"concat(upper(substr(name, 1, 1)), lower(substr(name, 2)))\"))\\\n",
    "        .orderBy(\"user_id\").show()"
   ]
  }
 ],
 "metadata": {
  "application/vnd.databricks.v1+notebook": {
   "computePreferences": {
    "hardware": {
     "accelerator": null,
     "gpuPoolId": null,
     "memory": null
    }
   },
   "dashboards": [],
   "environmentMetadata": {
    "base_environment": "",
    "environment_version": "2"
   },
   "inputWidgetPreferences": null,
   "language": "python",
   "notebookMetadata": {
    "pythonIndentUnit": 4
   },
   "notebookName": "1667. Fix Names in a Table (Easy)-(Solved)",
   "widgets": {}
  },
  "language_info": {
   "name": "python"
  }
 },
 "nbformat": 4,
 "nbformat_minor": 0
}
