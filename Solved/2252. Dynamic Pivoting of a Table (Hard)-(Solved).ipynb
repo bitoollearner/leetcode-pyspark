{
 "cells": [
  {
   "cell_type": "markdown",
   "metadata": {
    "application/vnd.databricks.v1+cell": {
     "cellMetadata": {
      "byteLimit": 2048000,
      "rowLimit": 10000
     },
     "inputWidgets": {},
     "nuid": "4e9d71b1-88e9-445c-820a-b842e217a4e7",
     "showTitle": false,
     "tableResultSettingsMap": {},
     "title": ""
    }
   },
   "source": [
    "## Importing Libraries"
   ]
  },
  {
   "cell_type": "code",
   "execution_count": 0,
   "metadata": {
    "application/vnd.databricks.v1+cell": {
     "cellMetadata": {
      "byteLimit": 2048000,
      "rowLimit": 10000
     },
     "inputWidgets": {},
     "nuid": "e6624c4d-8cb8-4ac4-8c72-81d1b4ecdb57",
     "showTitle": false,
     "tableResultSettingsMap": {},
     "title": ""
    }
   },
   "outputs": [],
   "source": [
    "from pyspark.sql.functions import *\n",
    "from pyspark.sql.types import *\n",
    "from pyspark.sql.window import Window"
   ]
  },
  {
   "cell_type": "markdown",
   "metadata": {
    "application/vnd.databricks.v1+cell": {
     "cellMetadata": {
      "byteLimit": 2048000,
      "rowLimit": 10000
     },
     "inputWidgets": {},
     "nuid": "c3788fe5-f4c9-420f-ad72-ec1a39310a2a",
     "showTitle": false,
     "tableResultSettingsMap": {},
     "title": ""
    }
   },
   "source": [
    "**2252. Dynamic Pivoting of a Table (Hard)**\n",
    "\n",
    "**Table: Products**\n",
    "\n",
    "| Column Name | Type    |\n",
    "|-------------|---------|\n",
    "| product_id  | int     |\n",
    "| store       | varchar |\n",
    "| price       | int     |\n",
    "\n",
    "(product_id, store) is the primary key (combination of columns with unique values) for this table.\n",
    "Each row of this table indicates the price of product_id in store.\n",
    "There will be at most 30 different stores in the table.\n",
    "price is the price of the product at this store.\n",
    " \n",
    "**Important note:** This problem targets those who have a good experience with SQL. If you are a beginner, we recommend that you skip it for now.\n",
    "\n",
    "Implement the procedure PivotProducts to reorganize the Products table so that each row has the id of one product and its price in each store. The price should be null if the product is not sold in a store. The columns of the table should contain each store and they should be sorted in lexicographical order.\n",
    "\n",
    "The procedure should return the table after reorganizing it.\n",
    "\n",
    "Return the result table in any order.\n",
    "\n",
    "The result format is in the following example.\n",
    "\n",
    "**Example 1:**\n",
    "\n",
    "**Input:** \n",
    "\n",
    "**Products table:**\n",
    "\n",
    "| product_id | store    | price |\n",
    "|------------|----------|-------|\n",
    "| 1          | Shop     | 110   |\n",
    "| 1          | LC_Store | 100   |\n",
    "| 2          | Nozama   | 200   |\n",
    "| 2          | Souq     | 190   |\n",
    "| 3          | Shop     | 1000  |\n",
    "| 3          | Souq     | 1900  |\n",
    "\n",
    "**Output:** \n",
    "| product_id | LC_Store | Nozama | Shop | Souq |\n",
    "|------------|----------|--------|------|------|\n",
    "| 1          | 100      | null   | 110  | null |\n",
    "| 2          | null     | 200    | null | 190  |\n",
    "| 3          | null     | null   | 1000 | 1900 |\n",
    "\n",
    "**Explanation:** \n",
    "- We have 4 stores: Shop, LC_Store, Nozama, and Souq. We first order them lexicographically to be: LC_Store, Nozama, Shop, and Souq.\n",
    "- Now, for product 1, the price in LC_Store is 100 and in Shop is 110. For the other two stores, the product is not sold so we set the price as null.\n",
    "- Similarly, product 2 has a price of 200 in Nozama and 190 in Souq. It is not sold in the other two stores.\n",
    "- For product 3, the price is 1000 in Shop and 1900 in Souq. It is not sold in the other two stores."
   ]
  },
  {
   "cell_type": "code",
   "execution_count": 0,
   "metadata": {
    "application/vnd.databricks.v1+cell": {
     "cellMetadata": {
      "byteLimit": 2048000,
      "rowLimit": 10000
     },
     "inputWidgets": {},
     "nuid": "137536ea-9bec-4171-8dc2-4bf8b0d771b4",
     "showTitle": false,
     "tableResultSettingsMap": {},
     "title": ""
    }
   },
   "outputs": [
    {
     "output_type": "stream",
     "name": "stdout",
     "output_type": "stream",
     "text": [
      "+----------+--------+-----+\n|product_id|   store|price|\n+----------+--------+-----+\n|         1|    Shop|  110|\n|         1|LC_Store|  100|\n|         2|  Nozama|  200|\n|         2|    Souq|  190|\n|         3|    Shop| 1000|\n|         3|    Souq| 1900|\n+----------+--------+-----+\n\n"
     ]
    }
   ],
   "source": [
    "products_data_2252 = [\n",
    "    (1, \"Shop\", 110),\n",
    "    (1, \"LC_Store\", 100),\n",
    "    (2, \"Nozama\", 200),\n",
    "    (2, \"Souq\", 190),\n",
    "    (3, \"Shop\", 1000),\n",
    "    (3, \"Souq\", 1900),\n",
    "]\n",
    "\n",
    "products_columns_2252 = [\"product_id\", \"store\", \"price\"]\n",
    "products_df_2252 = spark.createDataFrame(products_data_2252, products_columns_2252)\n",
    "products_df_2252.show()"
   ]
  },
  {
   "cell_type": "code",
   "execution_count": 0,
   "metadata": {
    "application/vnd.databricks.v1+cell": {
     "cellMetadata": {
      "byteLimit": 2048000,
      "rowLimit": 10000
     },
     "inputWidgets": {},
     "nuid": "0266c271-77e9-4d66-b3f5-827cead97c65",
     "showTitle": false,
     "tableResultSettingsMap": {},
     "title": ""
    }
   },
   "outputs": [],
   "source": [
    "stores_df_2252 =  products_df_2252\\\n",
    "                    .select(\"store\").distinct().orderBy(\"store\").agg(collect_list(\"store\").alias(\"stores\"))"
   ]
  },
  {
   "cell_type": "code",
   "execution_count": 0,
   "metadata": {
    "application/vnd.databricks.v1+cell": {
     "cellMetadata": {
      "byteLimit": 2048000,
      "rowLimit": 10000
     },
     "inputWidgets": {},
     "nuid": "86d816f4-0f9c-48e4-b961-09370d2770e2",
     "showTitle": false,
     "tableResultSettingsMap": {},
     "title": ""
    }
   },
   "outputs": [],
   "source": [
    "stores = stores_df_2252.first()[\"stores\"]"
   ]
  },
  {
   "cell_type": "code",
   "execution_count": 0,
   "metadata": {
    "application/vnd.databricks.v1+cell": {
     "cellMetadata": {
      "byteLimit": 2048000,
      "rowLimit": 10000
     },
     "inputWidgets": {},
     "nuid": "7753be8a-8b8d-4328-ba2f-3aafb8dbcbe1",
     "showTitle": false,
     "tableResultSettingsMap": {},
     "title": ""
    }
   },
   "outputs": [
    {
     "output_type": "stream",
     "name": "stdout",
     "output_type": "stream",
     "text": [
      "+----------+----+--------+------+----+\n|product_id|Shop|LC_Store|Nozama|Souq|\n+----------+----+--------+------+----+\n|         1| 110|     100|  NULL|NULL|\n|         2|NULL|    NULL|   200| 190|\n|         3|1000|    NULL|  NULL|1900|\n+----------+----+--------+------+----+\n\n"
     ]
    }
   ],
   "source": [
    "products_df_2252\\\n",
    "    .groupBy(\"product_id\")\\\n",
    "        .pivot(\"store\", stores)\\\n",
    "            .agg(first(\"price\"))\\\n",
    "                .orderBy(\"product_id\").show()"
   ]
  }
 ],
 "metadata": {
  "application/vnd.databricks.v1+notebook": {
   "computePreferences": {
    "hardware": {
     "accelerator": null,
     "gpuPoolId": null,
     "memory": null
    }
   },
   "dashboards": [],
   "environmentMetadata": {
    "base_environment": "",
    "environment_version": "2"
   },
   "inputWidgetPreferences": null,
   "language": "python",
   "notebookMetadata": {
    "pythonIndentUnit": 4
   },
   "notebookName": "2252. Dynamic Pivoting of a Table (Hard)-(Solved)",
   "widgets": {}
  },
  "language_info": {
   "name": "python"
  }
 },
 "nbformat": 4,
 "nbformat_minor": 0
}
