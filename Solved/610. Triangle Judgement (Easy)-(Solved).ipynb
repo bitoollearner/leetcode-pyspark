{
 "cells": [
  {
   "cell_type": "markdown",
   "metadata": {
    "application/vnd.databricks.v1+cell": {
     "cellMetadata": {
      "byteLimit": 2048000,
      "rowLimit": 10000
     },
     "inputWidgets": {},
     "nuid": "5ab27f1b-7c08-44cb-8766-b16c3470b90d",
     "showTitle": false,
     "tableResultSettingsMap": {},
     "title": ""
    }
   },
   "source": [
    "## Importing Libraries"
   ]
  },
  {
   "cell_type": "code",
   "execution_count": 0,
   "metadata": {
    "application/vnd.databricks.v1+cell": {
     "cellMetadata": {
      "byteLimit": 2048000,
      "rowLimit": 10000
     },
     "inputWidgets": {},
     "nuid": "0d316502-e6b4-4432-b3fd-6159096e4951",
     "showTitle": false,
     "tableResultSettingsMap": {},
     "title": ""
    }
   },
   "outputs": [],
   "source": [
    "from pyspark.sql.functions import *\n",
    "from pyspark.sql.types import *\n",
    "from pyspark.sql.window import Window"
   ]
  },
  {
   "cell_type": "markdown",
   "metadata": {
    "application/vnd.databricks.v1+cell": {
     "cellMetadata": {
      "byteLimit": 2048000,
      "rowLimit": 10000
     },
     "inputWidgets": {},
     "nuid": "2e4d3e31-be24-427a-bc7e-362b6765c4fa",
     "showTitle": false,
     "tableResultSettingsMap": {},
     "title": ""
    }
   },
   "source": [
    "**610. Triangle Judgement (Easy)**\n",
    "\n",
    "**Table: Triangle**\n",
    "\n",
    "| Column Name | Type |\n",
    "|-------------|------|\n",
    "| x           | int  |\n",
    "| y           | int  |\n",
    "| z           | int  |\n",
    "\n",
    "In SQL, (x, y, z) is the primary key column for this table.\n",
    "Each row of this table contains the lengths of three line segments.\n",
    " \n",
    "**Report for every three line segments whether they can form a triangle.**\n",
    "\n",
    "Return the result table in any order.\n",
    "\n",
    "The result format is in the following example.\n",
    "\n",
    "**Example 1:**\n",
    "\n",
    "**Input:**\n",
    "**Triangle table:**\n",
    "| x  | y  | z  |\n",
    "|----|----|----|\n",
    "| 13 | 15 | 30 |\n",
    "| 10 | 20 | 15 |\n",
    "\n",
    "**Output:**\n",
    "| x  | y  | z  | triangle |\n",
    "|----|----|----|----------|\n",
    "| 13 | 15 | 30 | No       |\n",
    "| 10 | 20 | 15 | Yes      |\n"
   ]
  },
  {
   "cell_type": "code",
   "execution_count": 0,
   "metadata": {
    "application/vnd.databricks.v1+cell": {
     "cellMetadata": {
      "byteLimit": 2048000,
      "rowLimit": 10000
     },
     "inputWidgets": {},
     "nuid": "f6f11a82-8828-41ca-828a-e88f8586b97a",
     "showTitle": false,
     "tableResultSettingsMap": {},
     "title": ""
    }
   },
   "outputs": [],
   "source": [
    "triangle_data_610 = [\n",
    "    (13, 15, 30),\n",
    "    (10, 20, 15)\n",
    "]\n",
    "\n",
    "triangle_columns_610 = [\"x\", \"y\", \"z\"]\n",
    "triangle_df_610 = spark.createDataFrame(triangle_data_610, triangle_columns_610)\n",
    "triangle_df_610.show()"
   ]
  },
  {
   "cell_type": "code",
   "execution_count": 0,
   "metadata": {
    "application/vnd.databricks.v1+cell": {
     "cellMetadata": {
      "byteLimit": 2048000,
      "rowLimit": 10000
     },
     "inputWidgets": {},
     "nuid": "888d7aff-cfb9-40a8-a904-8f6bf2634ed1",
     "showTitle": false,
     "tableResultSettingsMap": {},
     "title": ""
    }
   },
   "outputs": [],
   "source": [
    "triangle_df_610\\\n",
    "    .withColumn(\"triangle\",\n",
    "            when(\n",
    "                (col(\"x\") + col(\"y\") > col(\"z\")) &\n",
    "                (col(\"y\") + col(\"z\") > col(\"x\")) &\n",
    "                (col(\"x\") + col(\"z\") > col(\"y\")),\n",
    "                \"Yes\"\n",
    "            ).otherwise(\"No\")\n",
    ").show()"
   ]
  }
 ],
 "metadata": {
  "application/vnd.databricks.v1+notebook": {
   "computePreferences": {
    "hardware": {
     "accelerator": null,
     "gpuPoolId": null,
     "memory": null
    }
   },
   "dashboards": [],
   "environmentMetadata": {
    "base_environment": "",
    "environment_version": "2"
   },
   "inputWidgetPreferences": null,
   "language": "python",
   "notebookMetadata": {
    "pythonIndentUnit": 4
   },
   "notebookName": "610. Triangle Judgement (Easy)-(Solved)",
   "widgets": {}
  },
  "language_info": {
   "name": "python"
  }
 },
 "nbformat": 4,
 "nbformat_minor": 0
}
