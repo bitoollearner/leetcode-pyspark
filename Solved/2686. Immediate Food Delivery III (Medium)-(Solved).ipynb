{
 "cells": [
  {
   "cell_type": "markdown",
   "metadata": {
    "application/vnd.databricks.v1+cell": {
     "cellMetadata": {},
     "inputWidgets": {},
     "nuid": "4e9d71b1-88e9-445c-820a-b842e217a4e7",
     "showTitle": false,
     "tableResultSettingsMap": {},
     "title": ""
    }
   },
   "source": [
    "## Importing Libraries"
   ]
  },
  {
   "cell_type": "code",
   "execution_count": 0,
   "metadata": {
    "application/vnd.databricks.v1+cell": {
     "cellMetadata": {},
     "inputWidgets": {},
     "nuid": "e6624c4d-8cb8-4ac4-8c72-81d1b4ecdb57",
     "showTitle": false,
     "tableResultSettingsMap": {},
     "title": ""
    }
   },
   "outputs": [],
   "source": [
    "from pyspark.sql.functions import *\n",
    "from pyspark.sql.types import *\n",
    "from pyspark.sql.window import Window"
   ]
  },
  {
   "cell_type": "markdown",
   "metadata": {
    "application/vnd.databricks.v1+cell": {
     "cellMetadata": {},
     "inputWidgets": {},
     "nuid": "c3788fe5-f4c9-420f-ad72-ec1a39310a2a",
     "showTitle": false,
     "tableResultSettingsMap": {},
     "title": ""
    }
   },
   "source": [
    "**2686. Immediate Food Delivery III (Medium)**\n",
    "\n",
    "**Table: Delivery**\n",
    "\n",
    "| Column Name                 | Type    |\n",
    "|-----------------------------|---------|\n",
    "| delivery_id                 | int     |\n",
    "| customer_id                 | int     |\n",
    "| order_date                  | date    |\n",
    "| customer_pref_delivery_date | date    |\n",
    "\n",
    "delivery_id is the column with unique values of this table.\n",
    "Each row contains information about food delivery to a customer that makes an order at some date and specifies a preferred delivery date (on the order date or after it).\n",
    "If the customer's preferred delivery date is the same as the order date, then the order is called immediate, otherwise, it is scheduled.\n",
    "\n",
    "**Write a solution to find the percentage of immediate orders on each unique order_date, rounded to 2 decimal places.** \n",
    "\n",
    "Return the result table ordered by order_date in ascending order.\n",
    "\n",
    "The result format is in the following example.\n",
    "\n",
    "**Example 1:**\n",
    "\n",
    "**Input:** \n",
    "\n",
    "**Delivery table:**\n",
    "\n",
    "| delivery_id | customer_id | order_date | customer_pref_delivery_date |\n",
    "|-------------|-------------|------------|-----------------------------|\n",
    "| 1           | 1           | 2019-08-01 | 2019-08-02                  |\n",
    "| 2           | 2           | 2019-08-01 | 2019-08-01                  |\n",
    "| 3           | 1           | 2019-08-01 | 2019-08-01                  |\n",
    "| 4           | 3           | 2019-08-02 | 2019-08-13                  |\n",
    "| 5           | 3           | 2019-08-02 | 2019-08-02                  |\n",
    "| 6           | 2           | 2019-08-02 | 2019-08-02                  |\n",
    "| 7           | 4           | 2019-08-03 | 2019-08-03                  |\n",
    "| 8           | 1           | 2019-08-03 | 2019-08-03                  |\n",
    "| 9           | 5           | 2019-08-04 | 2019-08-08                  |\n",
    "| 10          | 2           | 2019-08-04 | 2019-08-18                  |\n",
    "\n",
    "**Output:** \n",
    "| order_date | immediate_percentage |\n",
    "|------------|----------------------|\n",
    "| 2019-08-01 | 66.67                |\n",
    "| 2019-08-02 | 66.67                |\n",
    "| 2019-08-03 | 100.00               |\n",
    "| 2019-08-04 | 0.00                 |\n",
    "\n",
    "**Explanation:** \n",
    "- On 2019-08-01 there were three orders, out of those, two were immediate and one was scheduled. So, immediate percentage for that date was 66.67.\n",
    "- On 2019-08-02 there were three orders, out of those, two were immediate and one was scheduled. So, immediate percentage for that date was 66.67.\n",
    "- On 2019-08-03 there were two orders, both were immediate. So, the immediate percentage for that date was 100.00.\n",
    "- On 2019-08-04 there were two orders, both were scheduled. So, the immediate percentage for that date was 0.00.\n",
    "\n",
    "order_date is sorted in ascending order."
   ]
  },
  {
   "cell_type": "code",
   "execution_count": 0,
   "metadata": {
    "application/vnd.databricks.v1+cell": {
     "cellMetadata": {},
     "inputWidgets": {},
     "nuid": "137536ea-9bec-4171-8dc2-4bf8b0d771b4",
     "showTitle": false,
     "tableResultSettingsMap": {},
     "title": ""
    }
   },
   "outputs": [],
   "source": [
    "delivery_data_2686 = [\n",
    "    (1, 1, \"2019-08-01\", \"2019-08-02\"),\n",
    "    (2, 2, \"2019-08-01\", \"2019-08-01\"),\n",
    "    (3, 1, \"2019-08-01\", \"2019-08-01\"),\n",
    "    (4, 3, \"2019-08-02\", \"2019-08-13\"),\n",
    "    (5, 3, \"2019-08-02\", \"2019-08-02\"),\n",
    "    (6, 2, \"2019-08-02\", \"2019-08-02\"),\n",
    "    (7, 4, \"2019-08-03\", \"2019-08-03\"),\n",
    "    (8, 1, \"2019-08-03\", \"2019-08-03\"),\n",
    "    (9, 5, \"2019-08-04\", \"2019-08-08\"),\n",
    "    (10, 2, \"2019-08-04\", \"2019-08-18\"),\n",
    "]\n",
    "\n",
    "delivery_columns_2686 = [\"delivery_id\", \"customer_id\", \"order_date\", \"customer_pref_delivery_date\"]\n",
    "delivery_df_2686 = spark.createDataFrame(delivery_data_2686, delivery_columns_2686)\n",
    "delivery_df_2686.show()"
   ]
  }
 ],
 "metadata": {
  "application/vnd.databricks.v1+notebook": {
   "computePreferences": null,
   "dashboards": [],
   "environmentMetadata": {
    "base_environment": "",
    "environment_version": "1"
   },
   "inputWidgetPreferences": null,
   "language": "python",
   "notebookMetadata": {
    "pythonIndentUnit": 4
   },
   "notebookName": "2686. Immediate Food Delivery III (Medium)-(Solved)",
   "widgets": {}
  },
  "language_info": {
   "name": "python"
  }
 },
 "nbformat": 4,
 "nbformat_minor": 0
}
