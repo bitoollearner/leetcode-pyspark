{
 "cells": [
  {
   "cell_type": "markdown",
   "metadata": {
    "application/vnd.databricks.v1+cell": {
     "cellMetadata": {
      "byteLimit": 2048000,
      "rowLimit": 10000
     },
     "inputWidgets": {},
     "nuid": "4e9d71b1-88e9-445c-820a-b842e217a4e7",
     "showTitle": false,
     "tableResultSettingsMap": {},
     "title": ""
    }
   },
   "source": [
    "## Importing Libraries"
   ]
  },
  {
   "cell_type": "code",
   "execution_count": 0,
   "metadata": {
    "application/vnd.databricks.v1+cell": {
     "cellMetadata": {
      "byteLimit": 2048000,
      "rowLimit": 10000
     },
     "inputWidgets": {},
     "nuid": "e6624c4d-8cb8-4ac4-8c72-81d1b4ecdb57",
     "showTitle": false,
     "tableResultSettingsMap": {},
     "title": ""
    }
   },
   "outputs": [],
   "source": [
    "from pyspark.sql.functions import *\n",
    "from pyspark.sql.types import *\n",
    "from pyspark.sql.window import Window"
   ]
  },
  {
   "cell_type": "markdown",
   "metadata": {
    "application/vnd.databricks.v1+cell": {
     "cellMetadata": {
      "byteLimit": 2048000,
      "rowLimit": 10000
     },
     "inputWidgets": {},
     "nuid": "c3788fe5-f4c9-420f-ad72-ec1a39310a2a",
     "showTitle": false,
     "tableResultSettingsMap": {},
     "title": ""
    }
   },
   "source": [
    "**2686. Immediate Food Delivery III (Medium)**\n",
    "\n",
    "**Table: Delivery**\n",
    "\n",
    "| Column Name                 | Type    |\n",
    "|-----------------------------|---------|\n",
    "| delivery_id                 | int     |\n",
    "| customer_id                 | int     |\n",
    "| order_date                  | date    |\n",
    "| customer_pref_delivery_date | date    |\n",
    "\n",
    "delivery_id is the column with unique values of this table.\n",
    "Each row contains information about food delivery to a customer that makes an order at some date and specifies a preferred delivery date (on the order date or after it).\n",
    "If the customer's preferred delivery date is the same as the order date, then the order is called immediate, otherwise, it is scheduled.\n",
    "\n",
    "**Write a solution to find the percentage of immediate orders on each unique order_date, rounded to 2 decimal places.** \n",
    "\n",
    "Return the result table ordered by order_date in ascending order.\n",
    "\n",
    "The result format is in the following example.\n",
    "\n",
    "**Example 1:**\n",
    "\n",
    "**Input:** \n",
    "\n",
    "**Delivery table:**\n",
    "\n",
    "| delivery_id | customer_id | order_date | customer_pref_delivery_date |\n",
    "|-------------|-------------|------------|-----------------------------|\n",
    "| 1           | 1           | 2019-08-01 | 2019-08-02                  |\n",
    "| 2           | 2           | 2019-08-01 | 2019-08-01                  |\n",
    "| 3           | 1           | 2019-08-01 | 2019-08-01                  |\n",
    "| 4           | 3           | 2019-08-02 | 2019-08-13                  |\n",
    "| 5           | 3           | 2019-08-02 | 2019-08-02                  |\n",
    "| 6           | 2           | 2019-08-02 | 2019-08-02                  |\n",
    "| 7           | 4           | 2019-08-03 | 2019-08-03                  |\n",
    "| 8           | 1           | 2019-08-03 | 2019-08-03                  |\n",
    "| 9           | 5           | 2019-08-04 | 2019-08-08                  |\n",
    "| 10          | 2           | 2019-08-04 | 2019-08-18                  |\n",
    "\n",
    "**Output:** \n",
    "| order_date | immediate_percentage |\n",
    "|------------|----------------------|\n",
    "| 2019-08-01 | 66.67                |\n",
    "| 2019-08-02 | 66.67                |\n",
    "| 2019-08-03 | 100.00               |\n",
    "| 2019-08-04 | 0.00                 |\n",
    "\n",
    "**Explanation:** \n",
    "- On 2019-08-01 there were three orders, out of those, two were immediate and one was scheduled. So, immediate percentage for that date was 66.67.\n",
    "- On 2019-08-02 there were three orders, out of those, two were immediate and one was scheduled. So, immediate percentage for that date was 66.67.\n",
    "- On 2019-08-03 there were two orders, both were immediate. So, the immediate percentage for that date was 100.00.\n",
    "- On 2019-08-04 there were two orders, both were scheduled. So, the immediate percentage for that date was 0.00.\n",
    "\n",
    "order_date is sorted in ascending order."
   ]
  },
  {
   "cell_type": "code",
   "execution_count": 0,
   "metadata": {
    "application/vnd.databricks.v1+cell": {
     "cellMetadata": {
      "byteLimit": 2048000,
      "rowLimit": 10000
     },
     "inputWidgets": {},
     "nuid": "137536ea-9bec-4171-8dc2-4bf8b0d771b4",
     "showTitle": false,
     "tableResultSettingsMap": {},
     "title": ""
    }
   },
   "outputs": [
    {
     "output_type": "stream",
     "name": "stdout",
     "output_type": "stream",
     "text": [
      "+-----------+-----------+----------+---------------------------+\n|delivery_id|customer_id|order_date|customer_pref_delivery_date|\n+-----------+-----------+----------+---------------------------+\n|          1|          1|2019-08-01|                 2019-08-02|\n|          2|          2|2019-08-01|                 2019-08-01|\n|          3|          1|2019-08-01|                 2019-08-01|\n|          4|          3|2019-08-02|                 2019-08-13|\n|          5|          3|2019-08-02|                 2019-08-02|\n|          6|          2|2019-08-02|                 2019-08-02|\n|          7|          4|2019-08-03|                 2019-08-03|\n|          8|          1|2019-08-03|                 2019-08-03|\n|          9|          5|2019-08-04|                 2019-08-08|\n|         10|          2|2019-08-04|                 2019-08-18|\n+-----------+-----------+----------+---------------------------+\n\n"
     ]
    }
   ],
   "source": [
    "delivery_data_2686 = [\n",
    "    (1, 1, \"2019-08-01\", \"2019-08-02\"),\n",
    "    (2, 2, \"2019-08-01\", \"2019-08-01\"),\n",
    "    (3, 1, \"2019-08-01\", \"2019-08-01\"),\n",
    "    (4, 3, \"2019-08-02\", \"2019-08-13\"),\n",
    "    (5, 3, \"2019-08-02\", \"2019-08-02\"),\n",
    "    (6, 2, \"2019-08-02\", \"2019-08-02\"),\n",
    "    (7, 4, \"2019-08-03\", \"2019-08-03\"),\n",
    "    (8, 1, \"2019-08-03\", \"2019-08-03\"),\n",
    "    (9, 5, \"2019-08-04\", \"2019-08-08\"),\n",
    "    (10, 2, \"2019-08-04\", \"2019-08-18\"),\n",
    "]\n",
    "\n",
    "delivery_columns_2686 = [\"delivery_id\", \"customer_id\", \"order_date\", \"customer_pref_delivery_date\"]\n",
    "delivery_df_2686 = spark.createDataFrame(delivery_data_2686, delivery_columns_2686)\n",
    "delivery_df_2686.show()"
   ]
  },
  {
   "cell_type": "code",
   "execution_count": 0,
   "metadata": {
    "application/vnd.databricks.v1+cell": {
     "cellMetadata": {
      "byteLimit": 2048000,
      "rowLimit": 10000
     },
     "inputWidgets": {},
     "nuid": "757bb1a6-e7b0-4c87-b612-35ca5fee764c",
     "showTitle": false,
     "tableResultSettingsMap": {},
     "title": ""
    }
   },
   "outputs": [],
   "source": [
    "delivery_df_2686 = delivery_df_2686\\\n",
    "                        .withColumn( \n",
    "                                    \"is_immediate\",\n",
    "                                    when(col(\"order_date\") == col(\"customer_pref_delivery_date\"), 1).otherwise(0)\n",
    "                                    )"
   ]
  },
  {
   "cell_type": "code",
   "execution_count": 0,
   "metadata": {
    "application/vnd.databricks.v1+cell": {
     "cellMetadata": {
      "byteLimit": 2048000,
      "rowLimit": 10000
     },
     "inputWidgets": {},
     "nuid": "dcb2041d-054c-4817-a9b7-9029d56251ae",
     "showTitle": false,
     "tableResultSettingsMap": {},
     "title": ""
    }
   },
   "outputs": [
    {
     "output_type": "display_data",
     "data": {
      "text/html": [
       "<style scoped>\n",
       "  .table-result-container {\n",
       "    max-height: 300px;\n",
       "    overflow: auto;\n",
       "  }\n",
       "  table, th, td {\n",
       "    border: 1px solid black;\n",
       "    border-collapse: collapse;\n",
       "  }\n",
       "  th, td {\n",
       "    padding: 5px;\n",
       "  }\n",
       "  th {\n",
       "    text-align: left;\n",
       "  }\n",
       "</style><div class='table-result-container'><table class='table-result'><thead style='background-color: white'><tr><th>order_date</th><th>immediate_percentage</th></tr></thead><tbody><tr><td>2019-08-01</td><td>66.67</td></tr><tr><td>2019-08-02</td><td>66.67</td></tr><tr><td>2019-08-03</td><td>100.0</td></tr><tr><td>2019-08-04</td><td>0.0</td></tr></tbody></table></div>"
      ]
     },
     "metadata": {
      "application/vnd.databricks.v1+output": {
       "addedWidgets": {},
       "aggData": [],
       "aggError": "",
       "aggOverflow": false,
       "aggSchema": [],
       "aggSeriesLimitReached": false,
       "aggType": "",
       "arguments": {},
       "columnCustomDisplayInfos": {},
       "data": [
        [
         "2019-08-01",
         66.67
        ],
        [
         "2019-08-02",
         66.67
        ],
        [
         "2019-08-03",
         100.0
        ],
        [
         "2019-08-04",
         0.0
        ]
       ],
       "datasetInfos": [],
       "dbfsResultPath": null,
       "isJsonSchema": true,
       "metadata": {},
       "overflow": false,
       "plotOptions": {
        "customPlotOptions": {},
        "displayType": "table",
        "pivotAggregation": null,
        "pivotColumns": null,
        "xColumns": null,
        "yColumns": null
       },
       "removedWidgets": [],
       "schema": [
        {
         "metadata": "{}",
         "name": "order_date",
         "type": "\"string\""
        },
        {
         "metadata": "{}",
         "name": "immediate_percentage",
         "type": "\"double\""
        }
       ],
       "type": "table"
      }
     },
     "output_type": "display_data"
    }
   ],
   "source": [
    "delivery_df_2686\\\n",
    "    .groupBy(\"order_date\")\\\n",
    "        .agg(\n",
    "            (round((100 * count(when(col(\"is_immediate\") == 1, True))) / count(\"*\"), 2)).alias(\"immediate_percentage\")\n",
    "            ).orderBy(\"order_date\").display()"
   ]
  }
 ],
 "metadata": {
  "application/vnd.databricks.v1+notebook": {
   "computePreferences": {
    "hardware": {
     "accelerator": null,
     "gpuPoolId": null,
     "memory": null
    }
   },
   "dashboards": [],
   "environmentMetadata": {
    "base_environment": "",
    "environment_version": "2"
   },
   "inputWidgetPreferences": null,
   "language": "python",
   "notebookMetadata": {
    "pythonIndentUnit": 4
   },
   "notebookName": "2686. Immediate Food Delivery III (Medium)-(Solved)",
   "widgets": {}
  },
  "language_info": {
   "name": "python"
  }
 },
 "nbformat": 4,
 "nbformat_minor": 0
}
