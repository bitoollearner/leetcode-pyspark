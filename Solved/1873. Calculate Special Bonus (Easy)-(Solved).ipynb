{
 "cells": [
  {
   "cell_type": "markdown",
   "metadata": {
    "application/vnd.databricks.v1+cell": {
     "cellMetadata": {
      "byteLimit": 2048000,
      "rowLimit": 10000
     },
     "inputWidgets": {},
     "nuid": "fadf709d-de3d-4bfc-b69f-3b489de68bef",
     "showTitle": false,
     "tableResultSettingsMap": {},
     "title": ""
    }
   },
   "source": [
    "## Importing Libraries"
   ]
  },
  {
   "cell_type": "code",
   "execution_count": 0,
   "metadata": {
    "application/vnd.databricks.v1+cell": {
     "cellMetadata": {
      "byteLimit": 2048000,
      "rowLimit": 10000
     },
     "inputWidgets": {},
     "nuid": "d4a1fef1-aa99-469c-b35f-9b3f3e81c9f7",
     "showTitle": false,
     "tableResultSettingsMap": {},
     "title": ""
    }
   },
   "outputs": [],
   "source": [
    "from pyspark.sql.functions import *\n",
    "from pyspark.sql.types import *\n",
    "from pyspark.sql.window import Window"
   ]
  },
  {
   "cell_type": "markdown",
   "metadata": {
    "application/vnd.databricks.v1+cell": {
     "cellMetadata": {
      "byteLimit": 2048000,
      "rowLimit": 10000
     },
     "inputWidgets": {},
     "nuid": "78daa073-80d8-4f7e-9cfa-10f6eb568909",
     "showTitle": false,
     "tableResultSettingsMap": {},
     "title": ""
    }
   },
   "source": [
    "**1873. Calculate Special Bonus (Easy)**\n",
    "\n",
    "**Table: Employees**\n",
    "\n",
    "| Column Name | Type    |\n",
    "|-------------|---------|\n",
    "| employee_id | int     |\n",
    "| name        | varchar |\n",
    "| salary      | int     |\n",
    "\n",
    "employee_id is the primary key (column with unique values) for this table.\n",
    "Each row of this table indicates the employee ID, employee name, and salary.\n",
    " \n",
    "**Write a solution to calculate the bonus of each employee. The bonus of an employee is 100% of their salary if the ID of the employee is an odd number and the employee's name does not start with the character 'M'. The bonus of an employee is 0 otherwise.**\n",
    "\n",
    "Return the result table ordered by employee_id.\n",
    "\n",
    "The result format is in the following example.\n",
    "\n",
    "**Example 1:**\n",
    "\n",
    "**Input:**\n",
    "**Employees table:**\n",
    "| employee_id | name    | salary |\n",
    "|-------------|---------|--------|\n",
    "| 2           | Meir    | 3000   |\n",
    "| 3           | Michael | 3800   |\n",
    "| 7           | Addilyn | 7400   |\n",
    "| 8           | Juan    | 6100   |\n",
    "| 9           | Kannon  | 7700   |\n",
    "\n",
    "**Output:**\n",
    "| employee_id | bonus |\n",
    "|-------------|-------|\n",
    "| 2           | 0     |\n",
    "| 3           | 0     |\n",
    "| 7           | 7400  |\n",
    "| 8           | 0     |\n",
    "| 9           | 7700  |\n",
    "\n",
    "**Explanation:**\n",
    "- The employees with IDs 2 and 8 get 0 bonus because they have an even employee_id.\n",
    "- The employee with ID 3 gets 0 bonus because their name starts with 'M'.\n",
    "- The rest of the employees get a 100% bonus."
   ]
  },
  {
   "cell_type": "code",
   "execution_count": 0,
   "metadata": {
    "application/vnd.databricks.v1+cell": {
     "cellMetadata": {
      "byteLimit": 2048000,
      "rowLimit": 10000
     },
     "inputWidgets": {},
     "nuid": "7b78bc27-26cd-4523-8646-7369baf68fcb",
     "showTitle": false,
     "tableResultSettingsMap": {},
     "title": ""
    }
   },
   "outputs": [
    {
     "output_type": "stream",
     "name": "stdout",
     "output_type": "stream",
     "text": [
      "+-----------+-------+------+\n|employee_id|   name|salary|\n+-----------+-------+------+\n|          2|   Meir|  3000|\n|          3|Michael|  3800|\n|          7|Addilyn|  7400|\n|          8|   Juan|  6100|\n|          9| Kannon|  7700|\n+-----------+-------+------+\n\n"
     ]
    }
   ],
   "source": [
    "employees_data_1873 = [\n",
    "    (2, 'Meir', 3000),\n",
    "    (3, 'Michael', 3800),\n",
    "    (7, 'Addilyn', 7400),\n",
    "    (8, 'Juan', 6100),\n",
    "    (9, 'Kannon', 7700)\n",
    "]\n",
    "\n",
    "employees_columns_1873 = ['employee_id', 'name', 'salary']\n",
    "employees_df_1873 = spark.createDataFrame(employees_data_1873, schema=employees_columns_1873)\n",
    "employees_df_1873.show()"
   ]
  },
  {
   "cell_type": "code",
   "execution_count": 0,
   "metadata": {
    "application/vnd.databricks.v1+cell": {
     "cellMetadata": {
      "byteLimit": 2048000,
      "rowLimit": 10000
     },
     "inputWidgets": {},
     "nuid": "ffa6099e-3411-419c-b37f-67619f0a40e4",
     "showTitle": false,
     "tableResultSettingsMap": {},
     "title": ""
    }
   },
   "outputs": [
    {
     "output_type": "stream",
     "name": "stdout",
     "output_type": "stream",
     "text": [
      "+-----------+-----+\n|employee_id|bonus|\n+-----------+-----+\n|          2|    0|\n|          3|    0|\n|          7| 7400|\n|          8|    0|\n|          9| 7700|\n+-----------+-----+\n\n"
     ]
    }
   ],
   "source": [
    "employees_df_1873\\\n",
    "    .withColumn(\"bonus\",\n",
    "                when(\n",
    "                    (col(\"employee_id\") % 2 == 1) & (~col(\"name\").startswith(\"M\")),col(\"salary\")).otherwise(0)\n",
    "                )\\\n",
    "                    .select(\"employee_id\", \"bonus\").orderBy(\"employee_id\").show()"
   ]
  }
 ],
 "metadata": {
  "application/vnd.databricks.v1+notebook": {
   "computePreferences": {
    "hardware": {
     "accelerator": null,
     "gpuPoolId": null,
     "memory": null
    }
   },
   "dashboards": [],
   "environmentMetadata": {
    "base_environment": "",
    "environment_version": "2"
   },
   "inputWidgetPreferences": null,
   "language": "python",
   "notebookMetadata": {
    "pythonIndentUnit": 4
   },
   "notebookName": "1873. Calculate Special Bonus (Easy)-(Solved)",
   "widgets": {}
  },
  "language_info": {
   "name": "python"
  }
 },
 "nbformat": 4,
 "nbformat_minor": 0
}
