{
 "cells": [
  {
   "cell_type": "markdown",
   "metadata": {
    "application/vnd.databricks.v1+cell": {
     "cellMetadata": {
      "byteLimit": 2048000,
      "rowLimit": 10000
     },
     "inputWidgets": {},
     "nuid": "4e9d71b1-88e9-445c-820a-b842e217a4e7",
     "showTitle": false,
     "tableResultSettingsMap": {},
     "title": ""
    }
   },
   "source": [
    "## Importing Libraries"
   ]
  },
  {
   "cell_type": "code",
   "execution_count": 0,
   "metadata": {
    "application/vnd.databricks.v1+cell": {
     "cellMetadata": {
      "byteLimit": 2048000,
      "rowLimit": 10000
     },
     "inputWidgets": {},
     "nuid": "e6624c4d-8cb8-4ac4-8c72-81d1b4ecdb57",
     "showTitle": false,
     "tableResultSettingsMap": {},
     "title": ""
    }
   },
   "outputs": [],
   "source": [
    "from pyspark.sql.functions import *\n",
    "from pyspark.sql.types import *\n",
    "from pyspark.sql.window import Window"
   ]
  },
  {
   "cell_type": "markdown",
   "metadata": {
    "application/vnd.databricks.v1+cell": {
     "cellMetadata": {
      "byteLimit": 2048000,
      "rowLimit": 10000
     },
     "inputWidgets": {},
     "nuid": "c3788fe5-f4c9-420f-ad72-ec1a39310a2a",
     "showTitle": false,
     "tableResultSettingsMap": {},
     "title": ""
    }
   },
   "source": [
    "**2480. Form a Chemical Bond (Easy)**\n",
    "\n",
    "**Table: Elements**\n",
    "\n",
    "| Column Name | Type    |\n",
    "|-------------|---------|\n",
    "| symbol      | varchar |\n",
    "| type        | enum    |\n",
    "| electrons   | int     |\n",
    "\n",
    "symbol is the primary key (column with unique values) for this table.\n",
    "Each row of this table contains information of one element.\n",
    "type is an ENUM (category) of type ('Metal', 'Nonmetal', 'Noble')\n",
    " - If type is Noble, electrons is 0.\n",
    " - If type is Metal, electrons is the number of electrons that one atom of this element can give.\n",
    " - If type is Nonmetal, electrons is the number of electrons that one atom of this element needs.\n",
    " \n",
    "Two elements can form a bond if one of them is 'Metal' and the other is 'Nonmetal'.\n",
    "\n",
    "**Write a solution to find all the pairs of elements that can form a bond.**\n",
    "\n",
    "Return the result table in any order.\n",
    "\n",
    "The result format is in the following example.\n",
    "\n",
    "**Example 1:**\n",
    "\n",
    "**Input:** \n",
    "\n",
    "**Elements table:**\n",
    "| symbol | type     | electrons |\n",
    "|--------|----------|-----------|\n",
    "| He     | Noble    | 0         |\n",
    "| Na     | Metal    | 1         |\n",
    "| Ca     | Metal    | 2         |\n",
    "| La     | Metal    | 3         |\n",
    "| Cl     | Nonmetal | 1         |\n",
    "| O      | Nonmetal | 2         |\n",
    "| N      | Nonmetal | 3         |\n",
    "\n",
    "**Output:** \n",
    "| metal | nonmetal |\n",
    "|-------|----------|\n",
    "| La    | Cl       |\n",
    "| Ca    | Cl       |\n",
    "| Na    | Cl       |\n",
    "| La    | O        |\n",
    "| Ca    | O        |\n",
    "| Na    | O        |\n",
    "| La    | N        |\n",
    "| Ca    | N        |\n",
    "| Na    | N        |\n",
    "\n",
    "**Explanation:** \n",
    "- Metal elements are La, Ca, and Na.\n",
    "- Nonmeal elements are Cl, O, and N.\n",
    "- Each Metal element pairs with a Nonmetal element in the output table."
   ]
  },
  {
   "cell_type": "code",
   "execution_count": 0,
   "metadata": {
    "application/vnd.databricks.v1+cell": {
     "cellMetadata": {
      "byteLimit": 2048000,
      "rowLimit": 10000
     },
     "inputWidgets": {},
     "nuid": "137536ea-9bec-4171-8dc2-4bf8b0d771b4",
     "showTitle": false,
     "tableResultSettingsMap": {},
     "title": ""
    }
   },
   "outputs": [
    {
     "output_type": "stream",
     "name": "stdout",
     "output_type": "stream",
     "text": [
      "+------+--------+---------+\n|symbol|    type|electrons|\n+------+--------+---------+\n|    He|   Noble|        0|\n|    Na|   Metal|        1|\n|    Ca|   Metal|        2|\n|    La|   Metal|        3|\n|    Cl|Nonmetal|        1|\n|     O|Nonmetal|        2|\n|     N|Nonmetal|        3|\n+------+--------+---------+\n\n"
     ]
    }
   ],
   "source": [
    "elements_data_2480 = [\n",
    "    (\"He\", \"Noble\", 0),\n",
    "    (\"Na\", \"Metal\", 1),\n",
    "    (\"Ca\", \"Metal\", 2),\n",
    "    (\"La\", \"Metal\", 3),\n",
    "    (\"Cl\", \"Nonmetal\", 1),\n",
    "    (\"O\", \"Nonmetal\", 2),\n",
    "    (\"N\", \"Nonmetal\", 3)\n",
    "]\n",
    "\n",
    "elements_columns_2480 = [\"symbol\", \"type\", \"electrons\"]\n",
    "elements_df_2480 = spark.createDataFrame(elements_data_2480, elements_columns_2480)\n",
    "elements_df_2480.show()"
   ]
  },
  {
   "cell_type": "code",
   "execution_count": 0,
   "metadata": {
    "application/vnd.databricks.v1+cell": {
     "cellMetadata": {
      "byteLimit": 2048000,
      "rowLimit": 10000
     },
     "inputWidgets": {},
     "nuid": "acaaa3db-70fe-4838-91d7-87718587b63e",
     "showTitle": false,
     "tableResultSettingsMap": {},
     "title": ""
    }
   },
   "outputs": [],
   "source": [
    "metals_df_2480 = elements_df_2480\\\n",
    "                    .filter(col(\"type\") == \"Metal\")\\\n",
    "                        .select(col(\"symbol\").alias(\"metal\"))"
   ]
  },
  {
   "cell_type": "code",
   "execution_count": 0,
   "metadata": {
    "application/vnd.databricks.v1+cell": {
     "cellMetadata": {
      "byteLimit": 2048000,
      "rowLimit": 10000
     },
     "inputWidgets": {},
     "nuid": "b2afdcf1-ddac-4e15-81dd-d9efeb92e5c6",
     "showTitle": false,
     "tableResultSettingsMap": {},
     "title": ""
    }
   },
   "outputs": [],
   "source": [
    "nonmetals_df_2480 = elements_df_2480\\\n",
    "                        .filter(col(\"type\") == \"Nonmetal\")\\\n",
    "                            .select(col(\"symbol\").alias(\"nonmetal\"))"
   ]
  },
  {
   "cell_type": "code",
   "execution_count": 0,
   "metadata": {
    "application/vnd.databricks.v1+cell": {
     "cellMetadata": {
      "byteLimit": 2048000,
      "rowLimit": 10000
     },
     "inputWidgets": {},
     "nuid": "78480f2f-ab5c-4785-b29d-a3232473e5d0",
     "showTitle": false,
     "tableResultSettingsMap": {},
     "title": ""
    }
   },
   "outputs": [
    {
     "output_type": "display_data",
     "data": {
      "text/html": [
       "<style scoped>\n",
       "  .table-result-container {\n",
       "    max-height: 300px;\n",
       "    overflow: auto;\n",
       "  }\n",
       "  table, th, td {\n",
       "    border: 1px solid black;\n",
       "    border-collapse: collapse;\n",
       "  }\n",
       "  th, td {\n",
       "    padding: 5px;\n",
       "  }\n",
       "  th {\n",
       "    text-align: left;\n",
       "  }\n",
       "</style><div class='table-result-container'><table class='table-result'><thead style='background-color: white'><tr><th>metal</th><th>nonmetal</th></tr></thead><tbody><tr><td>Na</td><td>Cl</td></tr><tr><td>Na</td><td>O</td></tr><tr><td>Na</td><td>N</td></tr><tr><td>Ca</td><td>Cl</td></tr><tr><td>Ca</td><td>O</td></tr><tr><td>Ca</td><td>N</td></tr><tr><td>La</td><td>Cl</td></tr><tr><td>La</td><td>O</td></tr><tr><td>La</td><td>N</td></tr></tbody></table></div>"
      ]
     },
     "metadata": {
      "application/vnd.databricks.v1+output": {
       "addedWidgets": {},
       "aggData": [],
       "aggError": "",
       "aggOverflow": false,
       "aggSchema": [],
       "aggSeriesLimitReached": false,
       "aggType": "",
       "arguments": {},
       "columnCustomDisplayInfos": {},
       "data": [
        [
         "Na",
         "Cl"
        ],
        [
         "Na",
         "O"
        ],
        [
         "Na",
         "N"
        ],
        [
         "Ca",
         "Cl"
        ],
        [
         "Ca",
         "O"
        ],
        [
         "Ca",
         "N"
        ],
        [
         "La",
         "Cl"
        ],
        [
         "La",
         "O"
        ],
        [
         "La",
         "N"
        ]
       ],
       "datasetInfos": [],
       "dbfsResultPath": null,
       "isJsonSchema": true,
       "metadata": {},
       "overflow": false,
       "plotOptions": {
        "customPlotOptions": {},
        "displayType": "table",
        "pivotAggregation": null,
        "pivotColumns": null,
        "xColumns": null,
        "yColumns": null
       },
       "removedWidgets": [],
       "schema": [
        {
         "metadata": "{}",
         "name": "metal",
         "type": "\"string\""
        },
        {
         "metadata": "{}",
         "name": "nonmetal",
         "type": "\"string\""
        }
       ],
       "type": "table"
      }
     },
     "output_type": "display_data"
    }
   ],
   "source": [
    "metals_df_2480.crossJoin(nonmetals_df_2480).display()"
   ]
  }
 ],
 "metadata": {
  "application/vnd.databricks.v1+notebook": {
   "computePreferences": {
    "hardware": {
     "accelerator": null,
     "gpuPoolId": null,
     "memory": null
    }
   },
   "dashboards": [],
   "environmentMetadata": {
    "base_environment": "",
    "environment_version": "2"
   },
   "inputWidgetPreferences": null,
   "language": "python",
   "notebookMetadata": {
    "pythonIndentUnit": 4
   },
   "notebookName": "2480. Form a Chemical Bond (Easy)-(Solved)",
   "widgets": {}
  },
  "language_info": {
   "name": "python"
  }
 },
 "nbformat": 4,
 "nbformat_minor": 0
}
