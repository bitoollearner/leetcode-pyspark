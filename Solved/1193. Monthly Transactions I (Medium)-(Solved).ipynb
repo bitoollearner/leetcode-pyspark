{
 "cells": [
  {
   "cell_type": "markdown",
   "metadata": {
    "application/vnd.databricks.v1+cell": {
     "cellMetadata": {
      "byteLimit": 2048000,
      "rowLimit": 10000
     },
     "inputWidgets": {},
     "nuid": "c8535576-d746-40ee-8199-8ccd3e39577f",
     "showTitle": false,
     "tableResultSettingsMap": {},
     "title": ""
    }
   },
   "source": [
    "## Importing Libraries"
   ]
  },
  {
   "cell_type": "code",
   "execution_count": 0,
   "metadata": {
    "application/vnd.databricks.v1+cell": {
     "cellMetadata": {
      "byteLimit": 2048000,
      "rowLimit": 10000
     },
     "inputWidgets": {},
     "nuid": "09da8fc1-d579-4949-bbc7-9132909993c8",
     "showTitle": false,
     "tableResultSettingsMap": {},
     "title": ""
    }
   },
   "outputs": [],
   "source": [
    "from pyspark.sql.functions import *\n",
    "from pyspark.sql.types import *\n",
    "from pyspark.sql.window import Window"
   ]
  },
  {
   "cell_type": "markdown",
   "metadata": {
    "application/vnd.databricks.v1+cell": {
     "cellMetadata": {
      "byteLimit": 2048000,
      "rowLimit": 10000
     },
     "inputWidgets": {},
     "nuid": "4567f050-e6f4-4b8b-b899-db2f17021c1d",
     "showTitle": false,
     "tableResultSettingsMap": {},
     "title": ""
    }
   },
   "source": [
    "**1193. Monthly Transactions I (Medium)**\n",
    "\n",
    "**Table: Transactions**\n",
    "\n",
    "| Column Name   | Type    |\n",
    "|---------------|---------|\n",
    "| id            | int     |\n",
    "| country       | varchar |\n",
    "| state         | enum    |\n",
    "| amount        | int     |\n",
    "| trans_date    | date    |\n",
    "\n",
    "id is the primary key of this table.\n",
    "The table has information about incoming transactions.\n",
    "The state column is an enum of type [\"approved\", \"declined\"].\n",
    " \n",
    "**Write an solution to find for each month and country, the number of transactions and their total amount, the number of approved transactions and their total amount.**\n",
    "\n",
    "Return the result table in any order.\n",
    "\n",
    "The query result format is in the following example.\n",
    "\n",
    "**Example 1:**\n",
    "\n",
    "**Input:**\n",
    "**Transactions table:**\n",
    "| id   | country | state    | amount | trans_date |\n",
    "|------|---------|----------|--------|------------|\n",
    "| 121  | US      | approved | 1000   | 2018-12-18 |\n",
    "| 122  | US      | declined | 2000   | 2018-12-19 |\n",
    "| 123  | US      | approved | 2000   | 2019-01-01 |\n",
    "| 124  | DE      | approved | 2000   | 2019-01-07 |\n",
    "\n",
    "**Output:**\n",
    "| month    | country | trans_count | approved_count | trans_total_amount | approved_total_amount |\n",
    "|----------|---------|-------------|----------------|--------------------|-----------------------|\n",
    "| 2018-12  | US      | 2           | 1              | 3000               | 1000                  |\n",
    "| 2019-01  | US      | 1           | 1              | 2000               | 2000                  |\n",
    "| 2019-01  | DE      | 1           | 1              | 2000               | 2000                  |\n"
   ]
  },
  {
   "cell_type": "code",
   "execution_count": 0,
   "metadata": {
    "application/vnd.databricks.v1+cell": {
     "cellMetadata": {
      "byteLimit": 2048000,
      "rowLimit": 10000
     },
     "inputWidgets": {},
     "nuid": "9b14d03f-22ca-4fa2-b371-32a135a82877",
     "showTitle": false,
     "tableResultSettingsMap": {},
     "title": ""
    }
   },
   "outputs": [
    {
     "output_type": "stream",
     "name": "stdout",
     "output_type": "stream",
     "text": [
      "+---+-------+--------+------+----------+\n| id|country|   state|amount|trans_date|\n+---+-------+--------+------+----------+\n|121|     US|approved|  1000|2018-12-18|\n|122|     US|declined|  2000|2018-12-19|\n|123|     US|approved|  2000|2019-01-01|\n|124|     DE|approved|  2000|2019-01-07|\n+---+-------+--------+------+----------+\n\n"
     ]
    }
   ],
   "source": [
    "transactions_data_1193 = [\n",
    "    (121, \"US\", \"approved\", 1000, \"2018-12-18\"),\n",
    "    (122, \"US\", \"declined\", 2000, \"2018-12-19\"),\n",
    "    (123, \"US\", \"approved\", 2000, \"2019-01-01\"),\n",
    "    (124, \"DE\", \"approved\", 2000, \"2019-01-07\")\n",
    "]\n",
    "\n",
    "transactions_columns_1193 = [\"id\", \"country\", \"state\", \"amount\", \"trans_date\"]\n",
    "transactions_df_1193 = spark.createDataFrame(transactions_data_1193, transactions_columns_1193)\n",
    "transactions_df_1193.show()"
   ]
  },
  {
   "cell_type": "code",
   "execution_count": 0,
   "metadata": {
    "application/vnd.databricks.v1+cell": {
     "cellMetadata": {
      "byteLimit": 2048000,
      "rowLimit": 10000
     },
     "inputWidgets": {},
     "nuid": "ec6eb157-bab1-45f7-bfed-26f946552421",
     "showTitle": false,
     "tableResultSettingsMap": {},
     "title": ""
    }
   },
   "outputs": [],
   "source": [
    "df_with_month_1193 = transactions_df_1193.withColumn(\"month\", date_format(to_date(\"trans_date\", \"yyyy-MM-dd\"), \"yyyy-MM\"))"
   ]
  },
  {
   "cell_type": "code",
   "execution_count": 0,
   "metadata": {
    "application/vnd.databricks.v1+cell": {
     "cellMetadata": {
      "byteLimit": 2048000,
      "rowLimit": 10000
     },
     "inputWidgets": {},
     "nuid": "8ecb3907-cd5c-4037-ba8b-6594c2c0aa40",
     "showTitle": false,
     "tableResultSettingsMap": {},
     "title": ""
    }
   },
   "outputs": [
    {
     "output_type": "stream",
     "name": "stdout",
     "output_type": "stream",
     "text": [
      "+-------+-------+-----------+--------------+------------------+---------------------+\n|  month|country|trans_count|approved_count|trans_total_amount|approved_total_amount|\n+-------+-------+-----------+--------------+------------------+---------------------+\n|2018-12|     US|          2|             1|              3000|                 1000|\n|2019-01|     US|          1|             1|              2000|                 2000|\n|2019-01|     DE|          1|             1|              2000|                 2000|\n+-------+-------+-----------+--------------+------------------+---------------------+\n\n"
     ]
    }
   ],
   "source": [
    "df_with_month_1193\\\n",
    "    .groupBy(\"month\", \"country\").agg(\n",
    "    count(\"*\").alias(\"trans_count\"),\n",
    "    sum(when(col(\"state\") == \"approved\", 1).otherwise(0)).alias(\"approved_count\"),    \n",
    "    sum(\"amount\").alias(\"trans_total_amount\"),\n",
    "    sum(when(col(\"state\") == \"approved\", col(\"amount\")).otherwise(0)).alias(\"approved_total_amount\")\n",
    ").show()"
   ]
  }
 ],
 "metadata": {
  "application/vnd.databricks.v1+notebook": {
   "computePreferences": {
    "hardware": {
     "accelerator": null,
     "gpuPoolId": null,
     "memory": null
    }
   },
   "dashboards": [],
   "environmentMetadata": {
    "base_environment": "",
    "environment_version": "2"
   },
   "inputWidgetPreferences": null,
   "language": "python",
   "notebookMetadata": {
    "pythonIndentUnit": 4
   },
   "notebookName": "1193. Monthly Transactions I (Medium)-(Solved)",
   "widgets": {}
  },
  "language_info": {
   "name": "python"
  }
 },
 "nbformat": 4,
 "nbformat_minor": 0
}
