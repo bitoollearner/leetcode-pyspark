{
 "cells": [
  {
   "cell_type": "markdown",
   "metadata": {
    "application/vnd.databricks.v1+cell": {
     "cellMetadata": {
      "byteLimit": 2048000,
      "rowLimit": 10000
     },
     "inputWidgets": {},
     "nuid": "fadf709d-de3d-4bfc-b69f-3b489de68bef",
     "showTitle": false,
     "tableResultSettingsMap": {},
     "title": ""
    }
   },
   "source": [
    "## Importing Libraries"
   ]
  },
  {
   "cell_type": "code",
   "execution_count": 0,
   "metadata": {
    "application/vnd.databricks.v1+cell": {
     "cellMetadata": {
      "byteLimit": 2048000,
      "rowLimit": 10000
     },
     "inputWidgets": {},
     "nuid": "d4a1fef1-aa99-469c-b35f-9b3f3e81c9f7",
     "showTitle": false,
     "tableResultSettingsMap": {},
     "title": ""
    }
   },
   "outputs": [],
   "source": [
    "from pyspark.sql.functions import *\n",
    "from pyspark.sql.types import *\n",
    "from pyspark.sql.window import Window"
   ]
  },
  {
   "cell_type": "markdown",
   "metadata": {
    "application/vnd.databricks.v1+cell": {
     "cellMetadata": {
      "byteLimit": 2048000,
      "rowLimit": 10000
     },
     "inputWidgets": {},
     "nuid": "78daa073-80d8-4f7e-9cfa-10f6eb568909",
     "showTitle": false,
     "tableResultSettingsMap": {},
     "title": ""
    }
   },
   "source": [
    "**1767. Find the Subtasks That Did Not Execute (Hard)**\n",
    "\n",
    "**Table: Tasks**\n",
    "\n",
    "| Column Name    | Type    |\n",
    "|----------------|---------|\n",
    "| task_id        | int     |\n",
    "| subtasks_count | int     |\n",
    "\n",
    "task_id is the column with unique values for this table.\n",
    "Each row in this table indicates that task_id was divided into subtasks_count subtasks labeled from 1 to subtasks_count.\n",
    "It is guaranteed that 2 <= subtasks_count <= 20.\n",
    " \n",
    "**Table: Executed**\n",
    "\n",
    "| Column Name   | Type    |\n",
    "|---------------|---------|\n",
    "| task_id       | int     |\n",
    "| subtask_id    | int     |\n",
    "\n",
    "(task_id, subtask_id) is the combination of columns with unique values for this table.\n",
    "Each row in this table indicates that for the task task_id, the subtask with ID subtask_id was executed successfully.\n",
    "It is guaranteed that subtask_id <= subtasks_count for each task_id.\n",
    " \n",
    "**Write a solution to report the IDs of the missing subtasks for each task_id.**\n",
    "\n",
    "Return the result table in any order.\n",
    "\n",
    "The result format is in the following example.\n",
    "\n",
    "**Example 1:**\n",
    "\n",
    "**Input:** \n",
    "\n",
    "**Tasks table:**\n",
    "\n",
    "| task_id | subtasks_count |\n",
    "|---------|----------------|\n",
    "| 1       | 3              |\n",
    "| 2       | 2              |\n",
    "| 3       | 4              |\n",
    "\n",
    "**Executed table:**\n",
    "| task_id | subtask_id |\n",
    "|---------|------------|\n",
    "| 1       | 2          |\n",
    "| 3       | 1          |\n",
    "| 3       | 2          |\n",
    "| 3       | 3          |\n",
    "| 3       | 4          |\n",
    "\n",
    "**Output:** \n",
    "| task_id | subtask_id |\n",
    "|---------|------------|\n",
    "| 1       | 1          |\n",
    "| 1       | 3          |\n",
    "| 2       | 1          |\n",
    "| 2       | 2          |\n",
    "\n",
    "**Explanation:** \n",
    "- Task 1 was divided into 3 subtasks (1, 2, 3). Only subtask 2 was executed successfully, so we include (1, 1) and (1, 3) in the answer.\n",
    "- Task 2 was divided into 2 subtasks (1, 2). No subtask was executed successfully, so we include (2, 1) and (2, 2) in the answer.\n",
    "- Task 3 was divided into 4 subtasks (1, 2, 3, 4). All of the subtasks were executed successfully."
   ]
  },
  {
   "cell_type": "code",
   "execution_count": 0,
   "metadata": {
    "application/vnd.databricks.v1+cell": {
     "cellMetadata": {
      "byteLimit": 2048000,
      "rowLimit": 10000
     },
     "inputWidgets": {},
     "nuid": "7b78bc27-26cd-4523-8646-7369baf68fcb",
     "showTitle": false,
     "tableResultSettingsMap": {},
     "title": ""
    }
   },
   "outputs": [
    {
     "output_type": "stream",
     "name": "stdout",
     "output_type": "stream",
     "text": [
      "+-------+--------------+\n|task_id|subtasks_count|\n+-------+--------------+\n|      1|             3|\n|      2|             2|\n|      3|             4|\n+-------+--------------+\n\n+-------+----------+\n|task_id|subtask_id|\n+-------+----------+\n|      1|         2|\n|      3|         1|\n|      3|         2|\n|      3|         3|\n|      3|         4|\n+-------+----------+\n\n"
     ]
    }
   ],
   "source": [
    "tasks_data_1767 = [\n",
    "    (1, 3),\n",
    "    (2, 2),\n",
    "    (3, 4),\n",
    "]\n",
    "\n",
    "tasks_columns_1767 = [\"task_id\", \"subtasks_count\"]\n",
    "tasks_df_1767 = spark.createDataFrame(tasks_data_1767, tasks_columns_1767)\n",
    "tasks_df_1767.show()\n",
    "\n",
    "executed_data_1767 = [\n",
    "    (1, 2),\n",
    "    (3, 1),\n",
    "    (3, 2),\n",
    "    (3, 3),\n",
    "    (3, 4),\n",
    "]\n",
    "\n",
    "executed_columns_1767 = [\"task_id\", \"subtask_id\"]\n",
    "executed_df_1767 = spark.createDataFrame(executed_data_1767, executed_columns_1767)\n",
    "executed_df_1767.show()"
   ]
  },
  {
   "cell_type": "code",
   "execution_count": 0,
   "metadata": {
    "application/vnd.databricks.v1+cell": {
     "cellMetadata": {
      "byteLimit": 2048000,
      "rowLimit": 10000
     },
     "inputWidgets": {},
     "nuid": "ad906f3b-90f6-4f7a-8a3b-b0dde2c474ad",
     "showTitle": false,
     "tableResultSettingsMap": {},
     "title": ""
    }
   },
   "outputs": [],
   "source": [
    "all_subtasks_df_1767 = tasks_df_1767\\\n",
    "                            .withColumn(\n",
    "                                \"subtask_id\", explode(sequence(lit(1), col(\"subtasks_count\"))))\\\n",
    "                                    .select(\"task_id\", \"subtask_id\")"
   ]
  },
  {
   "cell_type": "code",
   "execution_count": 0,
   "metadata": {
    "application/vnd.databricks.v1+cell": {
     "cellMetadata": {
      "byteLimit": 2048000,
      "rowLimit": 10000
     },
     "inputWidgets": {},
     "nuid": "94a4af60-be1f-4f85-83f2-25377b26ffd3",
     "showTitle": false,
     "tableResultSettingsMap": {},
     "title": ""
    }
   },
   "outputs": [
    {
     "output_type": "stream",
     "name": "stdout",
     "output_type": "stream",
     "text": [
      "+-------+----------+\n|task_id|subtask_id|\n+-------+----------+\n|      1|         3|\n|      1|         1|\n|      2|         2|\n|      2|         1|\n+-------+----------+\n\n"
     ]
    }
   ],
   "source": [
    "all_subtasks_df_1767\\\n",
    "    .join( executed_df_1767, on=[\"task_id\", \"subtask_id\"], how=\"left_anti\").show()"
   ]
  }
 ],
 "metadata": {
  "application/vnd.databricks.v1+notebook": {
   "computePreferences": {
    "hardware": {
     "accelerator": null,
     "gpuPoolId": null,
     "memory": null
    }
   },
   "dashboards": [],
   "environmentMetadata": {
    "base_environment": "",
    "environment_version": "2"
   },
   "inputWidgetPreferences": null,
   "language": "python",
   "notebookMetadata": {
    "pythonIndentUnit": 4
   },
   "notebookName": "1767. Find the Subtasks That Did Not Execute (Hard)-(Solved)",
   "widgets": {}
  },
  "language_info": {
   "name": "python"
  }
 },
 "nbformat": 4,
 "nbformat_minor": 0
}
