{
 "cells": [
  {
   "cell_type": "markdown",
   "metadata": {
    "application/vnd.databricks.v1+cell": {
     "cellMetadata": {
      "byteLimit": 2048000,
      "rowLimit": 10000
     },
     "inputWidgets": {},
     "nuid": "c8535576-d746-40ee-8199-8ccd3e39577f",
     "showTitle": false,
     "tableResultSettingsMap": {},
     "title": ""
    }
   },
   "source": [
    "## Importing Libraries"
   ]
  },
  {
   "cell_type": "code",
   "execution_count": 0,
   "metadata": {
    "application/vnd.databricks.v1+cell": {
     "cellMetadata": {
      "byteLimit": 2048000,
      "rowLimit": 10000
     },
     "inputWidgets": {},
     "nuid": "09da8fc1-d579-4949-bbc7-9132909993c8",
     "showTitle": false,
     "tableResultSettingsMap": {},
     "title": ""
    }
   },
   "outputs": [],
   "source": [
    "from pyspark.sql.functions import *\n",
    "from pyspark.sql.types import *\n",
    "from pyspark.sql.window import Window"
   ]
  },
  {
   "cell_type": "markdown",
   "metadata": {
    "application/vnd.databricks.v1+cell": {
     "cellMetadata": {
      "byteLimit": 2048000,
      "rowLimit": 10000
     },
     "inputWidgets": {},
     "nuid": "4567f050-e6f4-4b8b-b899-db2f17021c1d",
     "showTitle": false,
     "tableResultSettingsMap": {},
     "title": ""
    }
   },
   "source": [
    "**1159. Market Analysis II (Hard)**\n",
    "\n",
    "**Table: Users**\n",
    "\n",
    "| Column Name    | Type    |\n",
    "|----------------|---------|\n",
    "| user_id        | int     |\n",
    "| join_date      | date    |\n",
    "| favorite_brand | varchar |\n",
    "\n",
    "user_id is the primary key (column with unique values) of this table.\n",
    "This table has the info of the users of an online shopping website where users can sell and buy items.\n",
    " \n",
    "**Table: Orders**\n",
    "\n",
    "| Column Name   | Type    |\n",
    "|---------------|---------|\n",
    "| order_id      | int     |\n",
    "| order_date    | date    |\n",
    "| item_id       | int     |\n",
    "| buyer_id      | int     |\n",
    "| seller_id     | int     |\n",
    "\n",
    "order_id is the primary key (column with unique values) of this table.\n",
    "item_id is a foreign key (reference column) to the Items table.\n",
    "buyer_id and seller_id are foreign keys to the Users table.\n",
    " \n",
    "\n",
    "**Table: Items**\n",
    "\n",
    "| Column Name   | Type    |\n",
    "|---------------|---------|\n",
    "| item_id       | int     |\n",
    "| item_brand    | varchar |\n",
    "\n",
    "item_id is the primary key (column with unique values) of this table.\n",
    " \n",
    "**Write a solution to find for each user whether the brand of the second item (by date) they sold is their favorite brand. If a user sold less than two items, report the answer for that user as no. It is guaranteed that no seller sells more than one item in a day.**\n",
    "\n",
    "Return the result table in any order.\n",
    "\n",
    "The result format is in the following example.\n",
    "\n",
    "**Example 1:**\n",
    "\n",
    "**Input:** \n",
    "\n",
    "**Users table:**\n",
    "\n",
    "| user_id | join_date  | favorite_brand |\n",
    "|---------|------------|----------------|\n",
    "| 1       | 2019-01-01 | Lenovo         |\n",
    "| 2       | 2019-02-09 | Samsung        |\n",
    "| 3       | 2019-01-19 | LG             |\n",
    "| 4       | 2019-05-21 | HP             |\n",
    "\n",
    "**Orders table:**\n",
    "| order_id | order_date | item_id | buyer_id | seller_id |\n",
    "|----------|------------|---------|----------|-----------|\n",
    "| 1        | 2019-08-01 | 4       | 1        | 2         |\n",
    "| 2        | 2019-08-02 | 2       | 1        | 3         |\n",
    "| 3        | 2019-08-03 | 3       | 2        | 3         |\n",
    "| 4        | 2019-08-04 | 1       | 4        | 2         |\n",
    "| 5        | 2019-08-04 | 1       | 3        | 4         |\n",
    "| 6        | 2019-08-05 | 2       | 2        | 4         |\n",
    "\n",
    "**Items table:**\n",
    "| item_id | item_brand |\n",
    "|---------|------------|\n",
    "| 1       | Samsung    |\n",
    "| 2       | Lenovo     |\n",
    "| 3       | LG         |\n",
    "| 4       | HP         |\n",
    "\n",
    "**Output:** \n",
    "| seller_id | 2nd_item_fav_brand |\n",
    "|-----------|--------------------|\n",
    "| 1         | no                 |\n",
    "| 2         | yes                |\n",
    "| 3         | yes                |\n",
    "| 4         | no                 |\n",
    "\n",
    "**Explanation:** \n",
    "- The answer for the user with id 1 is no because they sold nothing.\n",
    "- The answer for the users with id 2 and 3 is yes because the brands of their second sold items are their favorite brands.\n",
    "- The answer for the user with id 4 is no because the brand of their second sold item is not their favorite brand."
   ]
  },
  {
   "cell_type": "code",
   "execution_count": 0,
   "metadata": {
    "application/vnd.databricks.v1+cell": {
     "cellMetadata": {
      "byteLimit": 2048000,
      "rowLimit": 10000
     },
     "inputWidgets": {},
     "nuid": "9b14d03f-22ca-4fa2-b371-32a135a82877",
     "showTitle": false,
     "tableResultSettingsMap": {},
     "title": ""
    }
   },
   "outputs": [
    {
     "output_type": "stream",
     "name": "stdout",
     "output_type": "stream",
     "text": [
      "+-------+----------+--------------+\n|user_id| join_date|favorite_brand|\n+-------+----------+--------------+\n|      1|2019-01-01|        Lenovo|\n|      2|2019-02-09|       Samsung|\n|      3|2019-01-19|            LG|\n|      4|2019-05-21|            HP|\n+-------+----------+--------------+\n\n+--------+----------+-------+--------+---------+\n|order_id|order_date|item_id|buyer_id|seller_id|\n+--------+----------+-------+--------+---------+\n|       1|2019-08-01|      4|       1|        2|\n|       2|2019-08-02|      2|       1|        3|\n|       3|2019-08-03|      3|       2|        3|\n|       4|2019-08-04|      1|       4|        2|\n|       5|2019-08-04|      1|       3|        4|\n|       6|2019-08-05|      2|       2|        4|\n+--------+----------+-------+--------+---------+\n\n+-------+----------+\n|item_id|item_brand|\n+-------+----------+\n|      1|   Samsung|\n|      2|    Lenovo|\n|      3|        LG|\n|      4|        HP|\n+-------+----------+\n\n"
     ]
    }
   ],
   "source": [
    "users_data_1159 = [\n",
    "    (1, \"2019-01-01\", \"Lenovo\"),\n",
    "    (2, \"2019-02-09\", \"Samsung\"),\n",
    "    (3, \"2019-01-19\", \"LG\"),\n",
    "    (4, \"2019-05-21\", \"HP\"),\n",
    "]\n",
    "\n",
    "users_columns_1159 = [\"user_id\", \"join_date\", \"favorite_brand\"]\n",
    "users_df_1159 = spark.createDataFrame(users_data_1159, users_columns_1159)\n",
    "users_df_1159.show()\n",
    "\n",
    "orders_data_1159 = [\n",
    "    (1, \"2019-08-01\", 4, 1, 2),\n",
    "    (2, \"2019-08-02\", 2, 1, 3),\n",
    "    (3, \"2019-08-03\", 3, 2, 3),\n",
    "    (4, \"2019-08-04\", 1, 4, 2),\n",
    "    (5, \"2019-08-04\", 1, 3, 4),\n",
    "    (6, \"2019-08-05\", 2, 2, 4),\n",
    "]\n",
    "\n",
    "orders_columns_1159 = [\"order_id\", \"order_date\", \"item_id\", \"buyer_id\", \"seller_id\"]\n",
    "orders_df_1159 = spark.createDataFrame(orders_data_1159, orders_columns_1159)\n",
    "orders_df_1159.show()\n",
    "\n",
    "items_data_1159 = [\n",
    "    (1, \"Samsung\"),\n",
    "    (2, \"Lenovo\"),\n",
    "    (3, \"LG\"),\n",
    "    (4, \"HP\"),\n",
    "]\n",
    "\n",
    "items_columns_1159 = [\"item_id\", \"item_brand\"]\n",
    "items_df_1159 = spark.createDataFrame(items_data_1159, items_columns_1159)\n",
    "items_df_1159.show()"
   ]
  },
  {
   "cell_type": "code",
   "execution_count": 0,
   "metadata": {
    "application/vnd.databricks.v1+cell": {
     "cellMetadata": {
      "byteLimit": 2048000,
      "rowLimit": 10000
     },
     "inputWidgets": {},
     "nuid": "51d9e878-d549-4bef-9d69-44228bc697e0",
     "showTitle": false,
     "tableResultSettingsMap": {},
     "title": ""
    }
   },
   "outputs": [],
   "source": [
    "orders_with_brand_df_1159 = orders_df_1159.join(items_df_1159, on=\"item_id\")"
   ]
  },
  {
   "cell_type": "code",
   "execution_count": 0,
   "metadata": {
    "application/vnd.databricks.v1+cell": {
     "cellMetadata": {
      "byteLimit": 2048000,
      "rowLimit": 10000
     },
     "inputWidgets": {},
     "nuid": "5e2a0a40-556e-413b-8181-f8fd009cf719",
     "showTitle": false,
     "tableResultSettingsMap": {},
     "title": ""
    }
   },
   "outputs": [],
   "source": [
    "window_spec = Window.partitionBy(\"seller_id\").orderBy(\"order_date\")"
   ]
  },
  {
   "cell_type": "code",
   "execution_count": 0,
   "metadata": {
    "application/vnd.databricks.v1+cell": {
     "cellMetadata": {
      "byteLimit": 2048000,
      "rowLimit": 10000
     },
     "inputWidgets": {},
     "nuid": "721b4e45-4a84-491c-a669-241815ea3244",
     "showTitle": false,
     "tableResultSettingsMap": {},
     "title": ""
    }
   },
   "outputs": [],
   "source": [
    "ranked_sales_df_1159 = orders_with_brand_df_1159.withColumn(\"rank\", row_number().over(window_spec))"
   ]
  },
  {
   "cell_type": "code",
   "execution_count": 0,
   "metadata": {
    "application/vnd.databricks.v1+cell": {
     "cellMetadata": {
      "byteLimit": 2048000,
      "rowLimit": 10000
     },
     "inputWidgets": {},
     "nuid": "c251ebc8-4789-455a-bdd4-e0c8c54853c0",
     "showTitle": false,
     "tableResultSettingsMap": {},
     "title": ""
    }
   },
   "outputs": [],
   "source": [
    "second_sales_df_1159 = ranked_sales_df_1159.filter(col(\"rank\") == 2) \\\n",
    "    .select(\"seller_id\", col(\"item_brand\").alias(\"second_item_brand\"))"
   ]
  },
  {
   "cell_type": "code",
   "execution_count": 0,
   "metadata": {
    "application/vnd.databricks.v1+cell": {
     "cellMetadata": {
      "byteLimit": 2048000,
      "rowLimit": 10000
     },
     "inputWidgets": {},
     "nuid": "93d78ec5-f160-4531-9556-d483ff229fad",
     "showTitle": false,
     "tableResultSettingsMap": {},
     "title": ""
    }
   },
   "outputs": [
    {
     "output_type": "stream",
     "name": "stdout",
     "output_type": "stream",
     "text": [
      "+---------+------------------+\n|seller_id|2nd_item_fav_brand|\n+---------+------------------+\n|        1|                no|\n|        2|               yes|\n|        3|               yes|\n|        4|                no|\n+---------+------------------+\n\n"
     ]
    }
   ],
   "source": [
    "users_df_1159\\\n",
    "    .join(second_sales_df_1159, users_df_1159.user_id == second_sales_df_1159.seller_id, how=\"left\") \\\n",
    "    .withColumn(\"2nd_item_fav_brand\", when(col(\"second_item_brand\") == col(\"favorite_brand\"), \"yes\").otherwise(\"no\")) \\\n",
    "    .select(col(\"user_id\").alias(\"seller_id\"), \"2nd_item_fav_brand\").show()"
   ]
  }
 ],
 "metadata": {
  "application/vnd.databricks.v1+notebook": {
   "computePreferences": {
    "hardware": {
     "accelerator": null,
     "gpuPoolId": null,
     "memory": null
    }
   },
   "dashboards": [],
   "environmentMetadata": {
    "base_environment": "",
    "environment_version": "2"
   },
   "inputWidgetPreferences": null,
   "language": "python",
   "notebookMetadata": {
    "pythonIndentUnit": 4
   },
   "notebookName": "1159. Market Analysis II (Hard)-(Solved)",
   "widgets": {}
  },
  "language_info": {
   "name": "python"
  }
 },
 "nbformat": 4,
 "nbformat_minor": 0
}
