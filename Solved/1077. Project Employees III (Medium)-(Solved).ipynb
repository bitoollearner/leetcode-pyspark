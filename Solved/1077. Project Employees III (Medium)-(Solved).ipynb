{
 "cells": [
  {
   "cell_type": "markdown",
   "metadata": {
    "application/vnd.databricks.v1+cell": {
     "cellMetadata": {
      "byteLimit": 2048000,
      "rowLimit": 10000
     },
     "inputWidgets": {},
     "nuid": "3f2ab884-5b2e-4c2a-b90f-eba6d7208edf",
     "showTitle": false,
     "tableResultSettingsMap": {},
     "title": ""
    }
   },
   "source": [
    "## Importing Libraries"
   ]
  },
  {
   "cell_type": "code",
   "execution_count": 0,
   "metadata": {
    "application/vnd.databricks.v1+cell": {
     "cellMetadata": {
      "byteLimit": 2048000,
      "rowLimit": 10000
     },
     "inputWidgets": {},
     "nuid": "26c9d69f-b471-43b4-aaee-40c41d01994e",
     "showTitle": false,
     "tableResultSettingsMap": {},
     "title": ""
    }
   },
   "outputs": [],
   "source": [
    "from pyspark.sql.functions import *\n",
    "from pyspark.sql.types import *\n",
    "from pyspark.sql.window import Window"
   ]
  },
  {
   "cell_type": "markdown",
   "metadata": {
    "application/vnd.databricks.v1+cell": {
     "cellMetadata": {
      "byteLimit": 2048000,
      "rowLimit": 10000
     },
     "inputWidgets": {},
     "nuid": "fa1c2280-e46c-403e-8996-25b01a84ec72",
     "showTitle": false,
     "tableResultSettingsMap": {},
     "title": ""
    }
   },
   "source": [
    "**1077. Project Employees III (Medium)**\n",
    "\n",
    "**Table: Project**\n",
    "\n",
    "| Column Name | Type    |\n",
    "|-------------|---------|\n",
    "| project_id  | int     |\n",
    "| employee_id | int     |\n",
    "\n",
    "(project_id, employee_id) is the primary key (combination of columns with unique values) of this table.\n",
    "employee_id is a foreign key (reference column) to Employee table.\n",
    "Each row of this table indicates that the employee with employee_id is working on the project with project_id.\n",
    " \n",
    "**Table: Employee**\n",
    "\n",
    "| Column Name      | Type    |\n",
    "|------------------|---------|\n",
    "| employee_id      | int     |\n",
    "| name             | varchar |\n",
    "| experience_years | int     |\n",
    "\n",
    "employee_id is the primary key (column with unique values) of this table.\n",
    "Each row of this table contains information about one employee.\n",
    " \n",
    "**Write a solution to report the most experienced employees in each project. In case of a tie, report all employees with the maximum number of experience years.**\n",
    "\n",
    "Return the result table in any order.\n",
    "\n",
    "The result format is in the following example.\n",
    "\n",
    "**Example 1:**\n",
    "\n",
    "**Input:** \n",
    "\n",
    "**Project table:**\n",
    "\n",
    "| project_id  | employee_id |\n",
    "|-------------|-------------|\n",
    "| 1           | 1           |\n",
    "| 1           | 2           |\n",
    "| 1           | 3           |\n",
    "| 2           | 1           |\n",
    "| 2           | 4           |\n",
    "\n",
    "**Employee table:**\n",
    "| employee_id | name   | experience_years |\n",
    "|-------------|--------|------------------|\n",
    "| 1           | Khaled | 3                |\n",
    "| 2           | Ali    | 2                |\n",
    "| 3           | John   | 3                |\n",
    "| 4           | Doe    | 2                |\n",
    "\n",
    "**Output:** \n",
    "| project_id  | employee_id   |\n",
    "|-------------|---------------|\n",
    "| 1           | 1             |\n",
    "| 1           | 3             |\n",
    "| 2           | 1             |\n",
    "\n",
    "**Explanation:** Both employees with id 1 and 3 have the most experience among the employees of the first project. For the second project, the employee with id 1 has the most experience."
   ]
  },
  {
   "cell_type": "code",
   "execution_count": 0,
   "metadata": {
    "application/vnd.databricks.v1+cell": {
     "cellMetadata": {
      "byteLimit": 2048000,
      "rowLimit": 10000
     },
     "inputWidgets": {},
     "nuid": "dddf2382-d3f5-49ba-9108-34f298edfb81",
     "showTitle": false,
     "tableResultSettingsMap": {},
     "title": ""
    }
   },
   "outputs": [
    {
     "output_type": "stream",
     "name": "stdout",
     "output_type": "stream",
     "text": [
      "+----------+-----------+\n|project_id|employee_id|\n+----------+-----------+\n|         1|          1|\n|         1|          2|\n|         1|          3|\n|         2|          1|\n|         2|          4|\n+----------+-----------+\n\n+-----------+------+----------------+\n|employee_id|  name|experience_years|\n+-----------+------+----------------+\n|          1|Khaled|               3|\n|          2|   Ali|               2|\n|          3|  John|               3|\n|          4|   Doe|               2|\n+-----------+------+----------------+\n\n"
     ]
    }
   ],
   "source": [
    "project_data_1077 = [\n",
    "    (1, 1),\n",
    "    (1, 2),\n",
    "    (1, 3),\n",
    "    (2, 1),\n",
    "    (2, 4),\n",
    "]\n",
    "project_columns_1077 = [\"project_id\", \"employee_id\"]\n",
    "project_df_1077 = spark.createDataFrame(project_data_1077, project_columns_1077)\n",
    "project_df_1077.show()\n",
    "\n",
    "employee_data_1077 = [\n",
    "    (1, \"Khaled\", 3),\n",
    "    (2, \"Ali\", 2),\n",
    "    (3, \"John\", 3),\n",
    "    (4, \"Doe\", 2),\n",
    "]\n",
    "\n",
    "employee_columns_1077 = [\"employee_id\", \"name\", \"experience_years\"]\n",
    "employee_df_1077 = spark.createDataFrame(employee_data_1077, employee_columns_1077)\n",
    "employee_df_1077.show()"
   ]
  },
  {
   "cell_type": "code",
   "execution_count": 0,
   "metadata": {
    "application/vnd.databricks.v1+cell": {
     "cellMetadata": {
      "byteLimit": 2048000,
      "rowLimit": 10000
     },
     "inputWidgets": {},
     "nuid": "ee491645-245c-41ca-8364-b7ef2783e1c7",
     "showTitle": false,
     "tableResultSettingsMap": {},
     "title": ""
    }
   },
   "outputs": [],
   "source": [
    "joined_df_1077 = project_df_1077.join(employee_df_1077, on=\"employee_id\", how=\"inner\")"
   ]
  },
  {
   "cell_type": "code",
   "execution_count": 0,
   "metadata": {
    "application/vnd.databricks.v1+cell": {
     "cellMetadata": {
      "byteLimit": 2048000,
      "rowLimit": 10000
     },
     "inputWidgets": {},
     "nuid": "6108e077-1e57-4ae3-a341-3008581b0f03",
     "showTitle": false,
     "tableResultSettingsMap": {},
     "title": ""
    }
   },
   "outputs": [],
   "source": [
    "windowSpec = Window.partitionBy(\"project_id\").orderBy(col(\"experience_years\").desc())"
   ]
  },
  {
   "cell_type": "code",
   "execution_count": 0,
   "metadata": {
    "application/vnd.databricks.v1+cell": {
     "cellMetadata": {
      "byteLimit": 2048000,
      "rowLimit": 10000
     },
     "inputWidgets": {},
     "nuid": "ae4e4823-8ec9-4282-b28b-452f291310bc",
     "showTitle": false,
     "tableResultSettingsMap": {},
     "title": ""
    }
   },
   "outputs": [
    {
     "output_type": "stream",
     "name": "stdout",
     "output_type": "stream",
     "text": [
      "+----------+-----------+\n|project_id|employee_id|\n+----------+-----------+\n|         1|          1|\n|         1|          3|\n|         2|          1|\n+----------+-----------+\n\n"
     ]
    }
   ],
   "source": [
    "joined_df_1077\\\n",
    "    .withColumn(\"rnk\", rank().over(windowSpec))\\\n",
    "        .filter(col(\"rnk\") == 1).select(\"project_id\", \"employee_id\").show()"
   ]
  }
 ],
 "metadata": {
  "application/vnd.databricks.v1+notebook": {
   "computePreferences": {
    "hardware": {
     "accelerator": null,
     "gpuPoolId": null,
     "memory": null
    }
   },
   "dashboards": [],
   "environmentMetadata": {
    "base_environment": "",
    "environment_version": "2"
   },
   "inputWidgetPreferences": null,
   "language": "python",
   "notebookMetadata": {
    "pythonIndentUnit": 4
   },
   "notebookName": "1077. Project Employees III (Medium)-(Solved)",
   "widgets": {}
  },
  "language_info": {
   "name": "python"
  }
 },
 "nbformat": 4,
 "nbformat_minor": 0
}
