{
 "cells": [
  {
   "cell_type": "markdown",
   "metadata": {
    "application/vnd.databricks.v1+cell": {
     "cellMetadata": {
      "byteLimit": 2048000,
      "rowLimit": 10000
     },
     "inputWidgets": {},
     "nuid": "4cd0cff4-1b3d-443e-8f60-5eaa3c44b351",
     "showTitle": false,
     "tableResultSettingsMap": {},
     "title": ""
    }
   },
   "source": [
    "## Importing Libraries"
   ]
  },
  {
   "cell_type": "code",
   "execution_count": 0,
   "metadata": {
    "application/vnd.databricks.v1+cell": {
     "cellMetadata": {
      "byteLimit": 2048000,
      "rowLimit": 10000
     },
     "inputWidgets": {},
     "nuid": "97710283-7ef7-4994-bdf7-ab35e4e4acd8",
     "showTitle": false,
     "tableResultSettingsMap": {},
     "title": ""
    }
   },
   "outputs": [],
   "source": [
    "from pyspark.sql.functions import *\n",
    "from pyspark.sql.types import *\n",
    "from pyspark.sql.window import Window"
   ]
  },
  {
   "cell_type": "markdown",
   "metadata": {
    "application/vnd.databricks.v1+cell": {
     "cellMetadata": {
      "byteLimit": 2048000,
      "rowLimit": 10000
     },
     "inputWidgets": {},
     "nuid": "d438d974-0dc5-432f-af61-ceb185a0700c",
     "showTitle": false,
     "tableResultSettingsMap": {},
     "title": ""
    }
   },
   "source": [
    "**618. Student Report By Geography (Hard)**\n",
    "\n",
    "**Table: Student**\n",
    "\n",
    "| Column Name | Type    |\n",
    "|-------------|---------|\n",
    "| name        | varchar |\n",
    "| continent   | varchar |\n",
    "\n",
    "This table may contain duplicate rows.\n",
    "Each row of this table indicates the name of a student and the continent they came from.\n",
    " \n",
    "A school has students from Asia, Europe, and America.\n",
    "\n",
    "**Write a solution to pivot the continent column in the Student table so that each name is sorted alphabetically and displayed underneath its corresponding continent. The output headers should be America, Asia, and Europe, respectively.**\n",
    "\n",
    "The test cases are generated so that the student number from America is not less than either Asia or Europe.\n",
    "\n",
    "The result format is in the following example.\n",
    "\n",
    "**Example 1:**\n",
    "\n",
    "**Input:** \n",
    "\n",
    "**Student table:**\n",
    "\n",
    "| name   | continent |\n",
    "|--------|-----------|\n",
    "| Jane   | America   |\n",
    "| Pascal | Europe    |\n",
    "| Xi     | Asia      |\n",
    "| Jack   | America   |\n",
    "\n",
    "**Output:** \n",
    "| America | Asia | Europe |\n",
    "|---------|------|--------|\n",
    "| Jack    | Xi   | Pascal |\n",
    "| Jane    | null | null   |\n",
    " \n",
    "\n",
    "**Follow up:** If it is unknown which continent has the most students, could you write a solution to generate the student report?"
   ]
  },
  {
   "cell_type": "code",
   "execution_count": 0,
   "metadata": {
    "application/vnd.databricks.v1+cell": {
     "cellMetadata": {
      "byteLimit": 2048000,
      "rowLimit": 10000
     },
     "inputWidgets": {},
     "nuid": "c899699d-2ed8-4227-ba6f-ca46f3f95a7f",
     "showTitle": false,
     "tableResultSettingsMap": {},
     "title": ""
    }
   },
   "outputs": [
    {
     "output_type": "stream",
     "name": "stdout",
     "output_type": "stream",
     "text": [
      "+------+---------+\n|  name|continent|\n+------+---------+\n|  Jane|  America|\n|Pascal|   Europe|\n|    Xi|     Asia|\n|  Jack|  America|\n+------+---------+\n\n"
     ]
    }
   ],
   "source": [
    "student_data_618 = [\n",
    "    (\"Jane\", \"America\"),\n",
    "    (\"Pascal\", \"Europe\"),\n",
    "    (\"Xi\", \"Asia\"),\n",
    "    (\"Jack\", \"America\"),\n",
    "]\n",
    "\n",
    "student_columns_618 = [\"name\", \"continent\"]\n",
    "student_df_618 = spark.createDataFrame(student_data_618, student_columns_618)\n",
    "student_df_618.show()"
   ]
  },
  {
   "cell_type": "code",
   "execution_count": 0,
   "metadata": {
    "application/vnd.databricks.v1+cell": {
     "cellMetadata": {
      "byteLimit": 2048000,
      "rowLimit": 10000
     },
     "inputWidgets": {},
     "nuid": "be13deb4-9c23-4b97-9abf-60476de88a8e",
     "showTitle": false,
     "tableResultSettingsMap": {},
     "title": ""
    }
   },
   "outputs": [],
   "source": [
    "student_df_618 = student_df_618.dropDuplicates()"
   ]
  },
  {
   "cell_type": "code",
   "execution_count": 0,
   "metadata": {
    "application/vnd.databricks.v1+cell": {
     "cellMetadata": {
      "byteLimit": 2048000,
      "rowLimit": 10000
     },
     "inputWidgets": {},
     "nuid": "690a200d-ebcd-4b6b-a8e2-884d79dd1612",
     "showTitle": false,
     "tableResultSettingsMap": {},
     "title": ""
    }
   },
   "outputs": [],
   "source": [
    "window_spec = Window.partitionBy(\"continent\").orderBy(\"name\")\n",
    "\n",
    "student_ranked_df_618 = student_df_618.withColumn(\n",
    "    \"rn\", \n",
    "    row_number().over(window_spec)\n",
    ")"
   ]
  },
  {
   "cell_type": "code",
   "execution_count": 0,
   "metadata": {
    "application/vnd.databricks.v1+cell": {
     "cellMetadata": {
      "byteLimit": 2048000,
      "rowLimit": 10000
     },
     "inputWidgets": {},
     "nuid": "bc9d0b66-6f57-4950-bc2b-debfa5c36ae7",
     "showTitle": false,
     "tableResultSettingsMap": {},
     "title": ""
    }
   },
   "outputs": [],
   "source": [
    "america_df_618 = student_ranked_df_618.filter(col(\"continent\") == \"America\") \\\n",
    "    .select(col(\"rn\"), col(\"name\").alias(\"America\"))\n",
    "\n",
    "asia_df_618 = student_ranked_df_618.filter(col(\"continent\") == \"Asia\") \\\n",
    "    .select(col(\"rn\"), col(\"name\").alias(\"Asia\"))\n",
    "\n",
    "europe_df_618 = student_ranked_df_618.filter(col(\"continent\") == \"Europe\") \\\n",
    "    .select(col(\"rn\"), col(\"name\").alias(\"Europe\"))\n"
   ]
  },
  {
   "cell_type": "code",
   "execution_count": 0,
   "metadata": {
    "application/vnd.databricks.v1+cell": {
     "cellMetadata": {
      "byteLimit": 2048000,
      "rowLimit": 10000
     },
     "inputWidgets": {},
     "nuid": "8942bc5e-539e-42e9-ac19-b77f39190d02",
     "showTitle": false,
     "tableResultSettingsMap": {},
     "title": ""
    }
   },
   "outputs": [
    {
     "output_type": "stream",
     "name": "stdout",
     "output_type": "stream",
     "text": [
      "+-------+----+------+\n|America|Asia|Europe|\n+-------+----+------+\n|   Jack|  Xi|Pascal|\n|   Jane|NULL|  NULL|\n+-------+----+------+\n\n"
     ]
    }
   ],
   "source": [
    "america_df_618 \\\n",
    "    .join(asia_df_618, on=\"rn\", how=\"left\") \\\n",
    "    .join(europe_df_618, on=\"rn\", how=\"left\").drop('rn').show()\n"
   ]
  }
 ],
 "metadata": {
  "application/vnd.databricks.v1+notebook": {
   "computePreferences": {
    "hardware": {
     "accelerator": null,
     "gpuPoolId": null,
     "memory": null
    }
   },
   "dashboards": [],
   "environmentMetadata": {
    "base_environment": "",
    "environment_version": "2"
   },
   "inputWidgetPreferences": null,
   "language": "python",
   "notebookMetadata": {
    "pythonIndentUnit": 4
   },
   "notebookName": "618. Student Report By Geography (Hard)-(Solved)",
   "widgets": {}
  },
  "language_info": {
   "name": "python"
  }
 },
 "nbformat": 4,
 "nbformat_minor": 0
}
