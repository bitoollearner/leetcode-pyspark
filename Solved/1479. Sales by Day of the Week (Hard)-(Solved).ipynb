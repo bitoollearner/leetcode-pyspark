{
 "cells": [
  {
   "cell_type": "markdown",
   "metadata": {
    "application/vnd.databricks.v1+cell": {
     "cellMetadata": {
      "byteLimit": 2048000,
      "rowLimit": 10000
     },
     "inputWidgets": {},
     "nuid": "24f8e8c0-d56b-4821-a900-bbe934dce4d7",
     "showTitle": false,
     "tableResultSettingsMap": {},
     "title": ""
    }
   },
   "source": [
    "## Importing Libraries"
   ]
  },
  {
   "cell_type": "code",
   "execution_count": 0,
   "metadata": {
    "application/vnd.databricks.v1+cell": {
     "cellMetadata": {
      "byteLimit": 2048000,
      "rowLimit": 10000
     },
     "inputWidgets": {},
     "nuid": "243b190c-af0b-4bd1-9507-8e2be2fceca3",
     "showTitle": false,
     "tableResultSettingsMap": {},
     "title": ""
    }
   },
   "outputs": [],
   "source": [
    "from pyspark.sql.functions import *\n",
    "from pyspark.sql.types import *\n",
    "from pyspark.sql.window import Window"
   ]
  },
  {
   "cell_type": "markdown",
   "metadata": {
    "application/vnd.databricks.v1+cell": {
     "cellMetadata": {
      "byteLimit": 2048000,
      "rowLimit": 10000
     },
     "inputWidgets": {},
     "nuid": "2d9dc49c-3f2c-4ff6-8e98-5e72a86b1bac",
     "showTitle": false,
     "tableResultSettingsMap": {},
     "title": ""
    }
   },
   "source": [
    "**1479. Sales by Day of the Week (Hard)**\n",
    "\n",
    "**Table: Orders**\n",
    "\n",
    "| Column Name   | Type    |\n",
    "|---------------|---------|\n",
    "| order_id      | int     |\n",
    "| customer_id   | int     |\n",
    "| order_date    | date    | \n",
    "| item_id       | varchar |\n",
    "| quantity      | int     |\n",
    "\n",
    "(ordered_id, item_id) is the primary key (combination of columns with unique values) for this table.\n",
    "This table contains information on the orders placed.\n",
    "order_date is the date item_id was ordered by the customer with id customer_id.\n",
    " \n",
    "\n",
    "**Table: Items**\n",
    "\n",
    "| Column Name         | Type    |\n",
    "|---------------------|---------|\n",
    "| item_id             | varchar |\n",
    "| item_name           | varchar |\n",
    "| item_category       | varchar |\n",
    "\n",
    "item_id is the primary key (column with unique values) for this table.\n",
    "item_name is the name of the item.\n",
    "item_category is the category of the item.\n",
    " \n",
    "You are the business owner and would like to obtain a sales report for category items and the day of the week.\n",
    "\n",
    "**Write a solution to report how many units in each category have been ordered on each day of the week.**\n",
    "\n",
    "Return the result table ordered by category.\n",
    "\n",
    "The result format is in the following example.\n",
    "\n",
    "**Example 1:**\n",
    "\n",
    "**Input:** \n",
    "\n",
    "**Orders table:**\n",
    "| order_id   | customer_id  | order_date  | item_id      | quantity    |\n",
    "|------------|--------------|-------------|--------------|-------------|\n",
    "| 1          | 1            | 2020-06-01  | 1            | 10          |\n",
    "| 2          | 1            | 2020-06-08  | 2            | 10          |\n",
    "| 3          | 2            | 2020-06-02  | 1            | 5           |\n",
    "| 4          | 3            | 2020-06-03  | 3            | 5           |\n",
    "| 5          | 4            | 2020-06-04  | 4            | 1           |\n",
    "| 6          | 4            | 2020-06-05  | 5            | 5           |\n",
    "| 7          | 5            | 2020-06-05  | 1            | 10          |\n",
    "| 8          | 5            | 2020-06-14  | 4            | 5           |\n",
    "| 9          | 5            | 2020-06-21  | 3            | 5           |\n",
    "\n",
    "**Items table:**\n",
    "| item_id    | item_name      | item_category |\n",
    "|------------|----------------|---------------|\n",
    "| 1          | LC Alg. Book   | Book          |\n",
    "| 2          | LC DB. Book    | Book          |\n",
    "| 3          | LC SmarthPhone | Phone         |\n",
    "| 4          | LC Phone 2020  | Phone         |\n",
    "| 5          | LC SmartGlass  | Glasses       |\n",
    "| 6          | LC T-Shirt XL  | T-Shirt       |\n",
    "\n",
    "**Output:** \n",
    "| Category   | Monday    | Tuesday   | Wednesday | Thursday  | Friday    | Saturday  | Sunday    |\n",
    "|------------|-----------|-----------|-----------|-----------|-----------|-----------|-----------|\n",
    "| Book       | 20        | 5         | 0         | 0         | 10        | 0         | 0         |\n",
    "| Glasses    | 0         | 0         | 0         | 0         | 5         | 0         | 0         |\n",
    "| Phone      | 0         | 0         | 5         | 1         | 0         | 0         | 10        |\n",
    "| T-Shirt    | 0         | 0         | 0         | 0         | 0         | 0         | 0         |\n",
    "\n",
    "**Explanation:** \n",
    "- On Monday (2020-06-01, 2020-06-08) were sold a total of 20 units (10 + 10) in the category Book (ids: 1, 2).\n",
    "- On Tuesday (2020-06-02) were sold a total of 5 units in the category Book (ids: 1, 2).\n",
    "- On Wednesday (2020-06-03) were sold a total of 5 units in the category Phone (ids: 3, 4).\n",
    "- On Thursday (2020-06-04) were sold a total of 1 unit in the category Phone (ids: 3, 4).\n",
    "- On Friday (2020-06-05) were sold 10 units in the category Book (ids: 1, 2) and 5 units in Glasses (ids: 5).\n",
    "- On Saturday there are no items sold.\n",
    "- On Sunday (2020-06-14, 2020-06-21) were sold a total of 10 units (5 +5) in the category Phone (ids: 3, 4). There are no sales of T-shirts."
   ]
  },
  {
   "cell_type": "code",
   "execution_count": 0,
   "metadata": {
    "application/vnd.databricks.v1+cell": {
     "cellMetadata": {
      "byteLimit": 2048000,
      "rowLimit": 10000
     },
     "inputWidgets": {},
     "nuid": "5d66d20c-58e2-4ee9-8356-d736216372c3",
     "showTitle": false,
     "tableResultSettingsMap": {},
     "title": ""
    }
   },
   "outputs": [
    {
     "output_type": "stream",
     "name": "stdout",
     "output_type": "stream",
     "text": [
      "+--------+-----------+----------+-------+--------+\n|order_id|customer_id|order_date|item_id|quantity|\n+--------+-----------+----------+-------+--------+\n|       1|          1|2020-06-01|      1|      10|\n|       2|          1|2020-06-08|      2|      10|\n|       3|          2|2020-06-02|      1|       5|\n|       4|          3|2020-06-03|      3|       5|\n|       5|          4|2020-06-04|      4|       1|\n|       6|          4|2020-06-05|      5|       5|\n|       7|          5|2020-06-05|      1|      10|\n|       8|          5|2020-06-14|      4|       5|\n|       9|          5|2020-06-21|      3|       5|\n+--------+-----------+----------+-------+--------+\n\n+-------+--------------+-------------+\n|item_id|     item_name|item_category|\n+-------+--------------+-------------+\n|      1|  LC Alg. Book|         Book|\n|      2|   LC DB. Book|         Book|\n|      3|LC SmarthPhone|        Phone|\n|      4| LC Phone 2020|        Phone|\n|      5| LC SmartGlass|      Glasses|\n|      6| LC T-Shirt XL|      T-Shirt|\n+-------+--------------+-------------+\n\n"
     ]
    }
   ],
   "source": [
    "orders_data_1479 = [\n",
    "    (1, 1, \"2020-06-01\", \"1\", 10),\n",
    "    (2, 1, \"2020-06-08\", \"2\", 10),\n",
    "    (3, 2, \"2020-06-02\", \"1\", 5),\n",
    "    (4, 3, \"2020-06-03\", \"3\", 5),\n",
    "    (5, 4, \"2020-06-04\", \"4\", 1),\n",
    "    (6, 4, \"2020-06-05\", \"5\", 5),\n",
    "    (7, 5, \"2020-06-05\", \"1\", 10),\n",
    "    (8, 5, \"2020-06-14\", \"4\", 5),\n",
    "    (9, 5, \"2020-06-21\", \"3\", 5),\n",
    "]\n",
    "\n",
    "orders_columns_1479 = [\"order_id\", \"customer_id\", \"order_date\", \"item_id\", \"quantity\"]\n",
    "orders_df_1479 = spark.createDataFrame(orders_data_1479, orders_columns_1479)\n",
    "orders_df_1479.show()\n",
    "\n",
    "items_data_1479 = [\n",
    "    (\"1\", \"LC Alg. Book\", \"Book\"),\n",
    "    (\"2\", \"LC DB. Book\", \"Book\"),\n",
    "    (\"3\", \"LC SmarthPhone\", \"Phone\"),\n",
    "    (\"4\", \"LC Phone 2020\", \"Phone\"),\n",
    "    (\"5\", \"LC SmartGlass\", \"Glasses\"),\n",
    "    (\"6\", \"LC T-Shirt XL\", \"T-Shirt\"),\n",
    "]\n",
    "\n",
    "items_columns_1479 = [\"item_id\", \"item_name\", \"item_category\"]\n",
    "items_df_1479 = spark.createDataFrame(items_data_1479, items_columns_1479)\n",
    "items_df_1479.show()\n"
   ]
  },
  {
   "cell_type": "code",
   "execution_count": 0,
   "metadata": {
    "application/vnd.databricks.v1+cell": {
     "cellMetadata": {
      "byteLimit": 2048000,
      "rowLimit": 10000
     },
     "inputWidgets": {},
     "nuid": "b663cf4c-b239-4526-a06c-6a40d77216fd",
     "showTitle": false,
     "tableResultSettingsMap": {},
     "title": ""
    }
   },
   "outputs": [],
   "source": [
    "pivot_df_1479 = orders_df_1479\\\n",
    "                    .join(items_df_1479, \"item_id\", \"right\")\\\n",
    "                    .withColumn(\"day_of_week\", date_format(col(\"order_date\"), \"EEEE\"))"
   ]
  },
  {
   "cell_type": "code",
   "execution_count": 0,
   "metadata": {
    "application/vnd.databricks.v1+cell": {
     "cellMetadata": {
      "byteLimit": 2048000,
      "rowLimit": 10000
     },
     "inputWidgets": {},
     "nuid": "97c431c2-8199-4928-ad84-9e845c54248f",
     "showTitle": false,
     "tableResultSettingsMap": {},
     "title": ""
    }
   },
   "outputs": [
    {
     "output_type": "stream",
     "name": "stdout",
     "output_type": "stream",
     "text": [
      "+-------------+------+-------+---------+--------+------+--------+------+\n|item_category|Monday|Tuesday|Wednesday|Thursday|Friday|Saturday|Sunday|\n+-------------+------+-------+---------+--------+------+--------+------+\n|         Book|    20|      5|        0|       0|    10|       0|     0|\n|      Glasses|     0|      0|        0|       0|     5|       0|     0|\n|        Phone|     0|      0|        5|       1|     0|       0|    10|\n|      T-Shirt|     0|      0|        0|       0|     0|       0|     0|\n+-------------+------+-------+---------+--------+------+--------+------+\n\n"
     ]
    }
   ],
   "source": [
    "pivot_df_1479\\\n",
    "    .groupBy(\"item_category\")\\\n",
    "        .pivot(\"day_of_week\", [\"Monday\", \"Tuesday\", \"Wednesday\", \"Thursday\", \"Friday\", \"Saturday\", \"Sunday\"])\\\n",
    "            .sum(\"quantity\").na.fill(0)\\\n",
    "                .orderBy(\"item_category\").show()"
   ]
  }
 ],
 "metadata": {
  "application/vnd.databricks.v1+notebook": {
   "computePreferences": {
    "hardware": {
     "accelerator": null,
     "gpuPoolId": null,
     "memory": null
    }
   },
   "dashboards": [],
   "environmentMetadata": {
    "base_environment": "",
    "environment_version": "2"
   },
   "inputWidgetPreferences": null,
   "language": "python",
   "notebookMetadata": {
    "pythonIndentUnit": 4
   },
   "notebookName": "1479. Sales by Day of the Week (Hard)-(Solved)",
   "widgets": {}
  },
  "language_info": {
   "name": "python"
  }
 },
 "nbformat": 4,
 "nbformat_minor": 0
}
