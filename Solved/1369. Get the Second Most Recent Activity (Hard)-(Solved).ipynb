{
 "cells": [
  {
   "cell_type": "markdown",
   "metadata": {
    "application/vnd.databricks.v1+cell": {
     "cellMetadata": {
      "byteLimit": 2048000,
      "rowLimit": 10000
     },
     "inputWidgets": {},
     "nuid": "516a210c-988a-43a8-9004-cb03ad7c2481",
     "showTitle": false,
     "tableResultSettingsMap": {},
     "title": ""
    }
   },
   "source": [
    "## Importing Libraries"
   ]
  },
  {
   "cell_type": "code",
   "execution_count": 0,
   "metadata": {
    "application/vnd.databricks.v1+cell": {
     "cellMetadata": {
      "byteLimit": 2048000,
      "rowLimit": 10000
     },
     "inputWidgets": {},
     "nuid": "9333a394-5bb0-4f1f-8f10-60b56c9fb68e",
     "showTitle": false,
     "tableResultSettingsMap": {},
     "title": ""
    }
   },
   "outputs": [],
   "source": [
    "from pyspark.sql.functions import *\n",
    "from pyspark.sql.types import *\n",
    "from pyspark.sql.window import Window"
   ]
  },
  {
   "cell_type": "markdown",
   "metadata": {
    "application/vnd.databricks.v1+cell": {
     "cellMetadata": {
      "byteLimit": 2048000,
      "rowLimit": 10000
     },
     "inputWidgets": {},
     "nuid": "b718c875-1030-4207-a68c-5fad8635212a",
     "showTitle": false,
     "tableResultSettingsMap": {},
     "title": ""
    }
   },
   "source": [
    "**1369. Get the Second Most Recent Activity (Hard)**\n",
    "\n",
    "**Table: UserActivity**\n",
    "\n",
    "| Column Name   | Type    |\n",
    "|---------------|---------|\n",
    "| username      | varchar |\n",
    "| activity      | varchar |\n",
    "| startDate     | Date    |\n",
    "| endDate       | Date    |\n",
    "\n",
    "This table may contain duplicates rows.\n",
    "This table contains information about the activity performed by each user in a period of time.\n",
    "A person with username performed an activity from startDate to endDate.\n",
    " \n",
    "**Write a solution to show the second most recent activity of each user.**\n",
    "\n",
    "If the user only has one activity, return that one. A user cannot perform more than one activity at the same time.\n",
    "\n",
    "Return the result table in any order.\n",
    "\n",
    "The result format is in the following example.\n",
    "\n",
    "**Example 1:**\n",
    "\n",
    "**Input:** \n",
    "\n",
    "**UserActivity table:**\n",
    "\n",
    "| username   | activity     | startDate   | endDate     |\n",
    "|------------|--------------|-------------|-------------|\n",
    "| Alice      | Travel       | 2020-02-12  | 2020-02-20  |\n",
    "| Alice      | Dancing      | 2020-02-21  | 2020-02-23  |\n",
    "| Alice      | Travel       | 2020-02-24  | 2020-02-28  |\n",
    "| Bob        | Travel       | 2020-02-11  | 2020-02-18  |\n",
    "\n",
    "**Output:** \n",
    "| username   | activity     | startDate   | endDate     |\n",
    "|------------|--------------|-------------|-------------|\n",
    "| Alice      | Dancing      | 2020-02-21  | 2020-02-23  |\n",
    "| Bob        | Travel       | 2020-02-11  | 2020-02-18  |\n",
    "\n",
    "**Explanation:** \n",
    "The most recent activity of Alice is Travel from 2020-02-24 to 2020-02-28, before that she was dancing from 2020-02-21 to 2020-02-23.\n",
    "Bob only has one record, we just take that one."
   ]
  },
  {
   "cell_type": "code",
   "execution_count": 0,
   "metadata": {
    "application/vnd.databricks.v1+cell": {
     "cellMetadata": {
      "byteLimit": 2048000,
      "rowLimit": 10000
     },
     "inputWidgets": {},
     "nuid": "01e4d778-a8a5-48a7-8ebb-7033f0b84d62",
     "showTitle": false,
     "tableResultSettingsMap": {},
     "title": ""
    }
   },
   "outputs": [
    {
     "output_type": "stream",
     "name": "stdout",
     "output_type": "stream",
     "text": [
      "+--------+--------+----------+----------+\n|username|activity| startDate|   endDate|\n+--------+--------+----------+----------+\n|   Alice|  Travel|2020-02-12|2020-02-20|\n|   Alice| Dancing|2020-02-21|2020-02-23|\n|   Alice|  Travel|2020-02-24|2020-02-28|\n|     Bob|  Travel|2020-02-11|2020-02-18|\n+--------+--------+----------+----------+\n\n"
     ]
    }
   ],
   "source": [
    "user_activity_data_1369 = [\n",
    "    (\"Alice\", \"Travel\", \"2020-02-12\", \"2020-02-20\"),\n",
    "    (\"Alice\", \"Dancing\", \"2020-02-21\", \"2020-02-23\"),\n",
    "    (\"Alice\", \"Travel\", \"2020-02-24\", \"2020-02-28\"),\n",
    "    (\"Bob\", \"Travel\", \"2020-02-11\", \"2020-02-18\")\n",
    "]\n",
    "\n",
    "user_activity_columns_1369 = [\"username\", \"activity\", \"startDate\", \"endDate\"]\n",
    "user_activity_df_1369 = spark.createDataFrame(user_activity_data_1369, user_activity_columns_1369)\n",
    "user_activity_df_1369.show()"
   ]
  },
  {
   "cell_type": "code",
   "execution_count": 0,
   "metadata": {
    "application/vnd.databricks.v1+cell": {
     "cellMetadata": {
      "byteLimit": 2048000,
      "rowLimit": 10000
     },
     "inputWidgets": {},
     "nuid": "b7b6dec1-7e74-4494-a8e3-e0a4fa3cb898",
     "showTitle": false,
     "tableResultSettingsMap": {},
     "title": ""
    }
   },
   "outputs": [],
   "source": [
    "user_activity_df_1369 = user_activity_df_1369\\\n",
    "                                .withColumn(\"startDate\", to_date(col(\"startDate\"), \"yyyy-MM-dd\")) \\\n",
    "                                .withColumn(\"endDate\", to_date(col(\"endDate\"), \"yyyy-MM-dd\"))"
   ]
  },
  {
   "cell_type": "code",
   "execution_count": 0,
   "metadata": {
    "application/vnd.databricks.v1+cell": {
     "cellMetadata": {
      "byteLimit": 2048000,
      "rowLimit": 10000
     },
     "inputWidgets": {},
     "nuid": "8e09f6e6-e74f-4031-af95-318792ccae97",
     "showTitle": false,
     "tableResultSettingsMap": {},
     "title": ""
    }
   },
   "outputs": [],
   "source": [
    "rank_window = Window.partitionBy(\"username\").orderBy(col(\"startDate\").desc())\n",
    "count_window = Window.partitionBy(\"username\")"
   ]
  },
  {
   "cell_type": "code",
   "execution_count": 0,
   "metadata": {
    "application/vnd.databricks.v1+cell": {
     "cellMetadata": {
      "byteLimit": 2048000,
      "rowLimit": 10000
     },
     "inputWidgets": {},
     "nuid": "fe6f9fef-6c45-43bb-8d9b-44f1d6f53fe9",
     "showTitle": false,
     "tableResultSettingsMap": {},
     "title": ""
    }
   },
   "outputs": [],
   "source": [
    "df_ranked_1369 = user_activity_df_1369\\\n",
    "                .withColumn(\"row_num\", row_number().over(rank_window)) \\\n",
    "                .withColumn(\"activity_count\", count(\"*\").over(count_window))"
   ]
  },
  {
   "cell_type": "code",
   "execution_count": 0,
   "metadata": {
    "application/vnd.databricks.v1+cell": {
     "cellMetadata": {
      "byteLimit": 2048000,
      "rowLimit": 10000
     },
     "inputWidgets": {},
     "nuid": "1edf36a1-da7d-4205-a056-39d6e805a7d6",
     "showTitle": false,
     "tableResultSettingsMap": {},
     "title": ""
    }
   },
   "outputs": [
    {
     "output_type": "stream",
     "name": "stdout",
     "output_type": "stream",
     "text": [
      "+--------+--------+----------+----------+\n|username|activity| startDate|   endDate|\n+--------+--------+----------+----------+\n|   Alice| Dancing|2020-02-21|2020-02-23|\n|     Bob|  Travel|2020-02-11|2020-02-18|\n+--------+--------+----------+----------+\n\n"
     ]
    }
   ],
   "source": [
    "df_ranked_1369\\\n",
    "    .filter(\n",
    "    (col(\"row_num\") == 2) | ((col(\"row_num\") == 1) & (col(\"activity_count\") == 1)))\\\n",
    "        .select(\"username\", \"activity\", \"startDate\", \"endDate\").show()"
   ]
  }
 ],
 "metadata": {
  "application/vnd.databricks.v1+notebook": {
   "computePreferences": {
    "hardware": {
     "accelerator": null,
     "gpuPoolId": null,
     "memory": null
    }
   },
   "dashboards": [],
   "environmentMetadata": {
    "base_environment": "",
    "environment_version": "2"
   },
   "inputWidgetPreferences": null,
   "language": "python",
   "notebookMetadata": {
    "pythonIndentUnit": 4
   },
   "notebookName": "1369. Get the Second Most Recent Activity (Hard)-(Solved)",
   "widgets": {}
  },
  "language_info": {
   "name": "python"
  }
 },
 "nbformat": 4,
 "nbformat_minor": 0
}
