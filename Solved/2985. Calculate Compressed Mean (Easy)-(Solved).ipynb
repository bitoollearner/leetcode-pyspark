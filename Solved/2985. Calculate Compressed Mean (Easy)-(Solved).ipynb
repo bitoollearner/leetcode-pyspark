{
 "cells": [
  {
   "cell_type": "markdown",
   "metadata": {
    "application/vnd.databricks.v1+cell": {
     "cellMetadata": {
      "byteLimit": 2048000,
      "rowLimit": 10000
     },
     "inputWidgets": {},
     "nuid": "4e9d71b1-88e9-445c-820a-b842e217a4e7",
     "showTitle": false,
     "tableResultSettingsMap": {},
     "title": ""
    }
   },
   "source": [
    "## Importing Libraries"
   ]
  },
  {
   "cell_type": "code",
   "execution_count": 0,
   "metadata": {
    "application/vnd.databricks.v1+cell": {
     "cellMetadata": {
      "byteLimit": 2048000,
      "rowLimit": 10000
     },
     "inputWidgets": {},
     "nuid": "e6624c4d-8cb8-4ac4-8c72-81d1b4ecdb57",
     "showTitle": false,
     "tableResultSettingsMap": {},
     "title": ""
    }
   },
   "outputs": [],
   "source": [
    "from pyspark.sql.functions import *\n",
    "from pyspark.sql.types import *\n",
    "from pyspark.sql.window import Window"
   ]
  },
  {
   "cell_type": "markdown",
   "metadata": {
    "application/vnd.databricks.v1+cell": {
     "cellMetadata": {
      "byteLimit": 2048000,
      "rowLimit": 10000
     },
     "inputWidgets": {},
     "nuid": "c3788fe5-f4c9-420f-ad72-ec1a39310a2a",
     "showTitle": false,
     "tableResultSettingsMap": {},
     "title": ""
    }
   },
   "source": [
    "**2985. Calculate Compressed Mean (Easy)**\n",
    "\n",
    "**Table: Orders**\n",
    "\n",
    "| Column Name       | Type |\n",
    "|-------------------|------|\n",
    "| order_id          | int  |\n",
    "| item_count        | int  |\n",
    "| order_occurrences | int  |\n",
    "\n",
    "order_id is column of unique values for this table.\n",
    "This table contains order_id, item_count, and order_occurrences.\n",
    "\n",
    "**Write a solution to calculate the average number of items per order, rounded to 2 decimal places.**\n",
    "\n",
    "Return the result table in any order.\n",
    "\n",
    "The result format is in the following example.\n",
    "\n",
    "**Example 1:**\n",
    "\n",
    "**Input:** \n",
    "**Orders table:**\n",
    "| order_id | item_count | order_occurrences | \n",
    "|----------|------------|-------------------|\n",
    "| 10       | 1          | 500               | \n",
    "| 11       | 2          | 1000              |     \n",
    "| 12       | 3          | 800               |  \n",
    "| 13       | 4          | 1000              | \n",
    "\n",
    "**Output**\n",
    "| average_items_per_order | \n",
    "|-------------------------|\n",
    "| 2.70                    |\n",
    "\n",
    "**Explanation**\n",
    "\n",
    "The calculation is as follows:\n",
    " - Total items: (1 * 500) + (2 * 1000) + (3 * 800) + (4 * 1000) = 8900 \n",
    " - Total orders: 500 + 1000 + 800 + 1000 = 3300 \n",
    " - Therefore, the average items per order is 8900 / 3300 = 2.70\n"
   ]
  },
  {
   "cell_type": "code",
   "execution_count": 0,
   "metadata": {
    "application/vnd.databricks.v1+cell": {
     "cellMetadata": {
      "byteLimit": 2048000,
      "rowLimit": 10000
     },
     "inputWidgets": {},
     "nuid": "137536ea-9bec-4171-8dc2-4bf8b0d771b4",
     "showTitle": false,
     "tableResultSettingsMap": {},
     "title": ""
    }
   },
   "outputs": [
    {
     "output_type": "stream",
     "name": "stdout",
     "output_type": "stream",
     "text": [
      "+--------+----------+-----------------+\n|order_id|item_count|order_occurrences|\n+--------+----------+-----------------+\n|      10|         1|              500|\n|      11|         2|             1000|\n|      12|         3|              800|\n|      13|         4|             1000|\n+--------+----------+-----------------+\n\n"
     ]
    }
   ],
   "source": [
    "orders_data_2985 = [\n",
    "    (10, 1, 500),\n",
    "    (11, 2, 1000),\n",
    "    (12, 3, 800),\n",
    "    (13, 4, 1000)\n",
    "]\n",
    "\n",
    "orders_columns_2985 = [\"order_id\", \"item_count\", \"order_occurrences\"]\n",
    "orders_df_2985 = spark.createDataFrame(orders_data_2985, orders_columns_2985)\n",
    "orders_df_2985.show()\n"
   ]
  },
  {
   "cell_type": "code",
   "execution_count": 0,
   "metadata": {
    "application/vnd.databricks.v1+cell": {
     "cellMetadata": {
      "byteLimit": 2048000,
      "rowLimit": 10000
     },
     "inputWidgets": {},
     "nuid": "c1cbcc80-c33e-4184-be55-881422ad894e",
     "showTitle": false,
     "tableResultSettingsMap": {},
     "title": ""
    }
   },
   "outputs": [],
   "source": [
    "orders_df_2985 = orders_df_2985\\\n",
    "                    .withColumn(\"total_items\", col(\"item_count\") * col(\"order_occurrences\"))"
   ]
  },
  {
   "cell_type": "code",
   "execution_count": 0,
   "metadata": {
    "application/vnd.databricks.v1+cell": {
     "cellMetadata": {
      "byteLimit": 2048000,
      "rowLimit": 10000
     },
     "inputWidgets": {},
     "nuid": "0da3bc60-0762-4150-bf37-73f11feb30e0",
     "showTitle": false,
     "tableResultSettingsMap": {},
     "title": ""
    }
   },
   "outputs": [],
   "source": [
    "agg_df_2985 = orders_df_2985\\\n",
    "                    .agg(\n",
    "                        sum(\"total_items\").alias(\"total_items\"),\n",
    "                        sum(\"order_occurrences\").alias(\"total_orders\")\n",
    "                        )"
   ]
  },
  {
   "cell_type": "code",
   "execution_count": 0,
   "metadata": {
    "application/vnd.databricks.v1+cell": {
     "cellMetadata": {
      "byteLimit": 2048000,
      "rowLimit": 10000
     },
     "inputWidgets": {},
     "nuid": "168215b8-5fe5-4f6e-a18d-995dc9f87bf5",
     "showTitle": false,
     "tableResultSettingsMap": {},
     "title": ""
    }
   },
   "outputs": [
    {
     "output_type": "display_data",
     "data": {
      "text/html": [
       "<style scoped>\n",
       "  .table-result-container {\n",
       "    max-height: 300px;\n",
       "    overflow: auto;\n",
       "  }\n",
       "  table, th, td {\n",
       "    border: 1px solid black;\n",
       "    border-collapse: collapse;\n",
       "  }\n",
       "  th, td {\n",
       "    padding: 5px;\n",
       "  }\n",
       "  th {\n",
       "    text-align: left;\n",
       "  }\n",
       "</style><div class='table-result-container'><table class='table-result'><thead style='background-color: white'><tr><th>average_items_per_order</th></tr></thead><tbody><tr><td>2.7</td></tr></tbody></table></div>"
      ]
     },
     "metadata": {
      "application/vnd.databricks.v1+output": {
       "addedWidgets": {},
       "aggData": [],
       "aggError": "",
       "aggOverflow": false,
       "aggSchema": [],
       "aggSeriesLimitReached": false,
       "aggType": "",
       "arguments": {},
       "columnCustomDisplayInfos": {},
       "data": [
        [
         2.7
        ]
       ],
       "datasetInfos": [],
       "dbfsResultPath": null,
       "isJsonSchema": true,
       "metadata": {},
       "overflow": false,
       "plotOptions": {
        "customPlotOptions": {},
        "displayType": "table",
        "pivotAggregation": null,
        "pivotColumns": null,
        "xColumns": null,
        "yColumns": null
       },
       "removedWidgets": [],
       "schema": [
        {
         "metadata": "{}",
         "name": "average_items_per_order",
         "type": "\"double\""
        }
       ],
       "type": "table"
      }
     },
     "output_type": "display_data"
    }
   ],
   "source": [
    "agg_df_2985\\\n",
    "    .withColumn(\"average_items_per_order\",\n",
    "                round(col(\"total_items\") / col(\"total_orders\"), 2))\\\n",
    "                    .select(\"average_items_per_order\").display()"
   ]
  }
 ],
 "metadata": {
  "application/vnd.databricks.v1+notebook": {
   "computePreferences": {
    "hardware": {
     "accelerator": null,
     "gpuPoolId": null,
     "memory": null
    }
   },
   "dashboards": [],
   "environmentMetadata": {
    "base_environment": "",
    "environment_version": "2"
   },
   "inputWidgetPreferences": null,
   "language": "python",
   "notebookMetadata": {
    "pythonIndentUnit": 4
   },
   "notebookName": "2985. Calculate Compressed Mean (Easy)-(Solved)",
   "widgets": {}
  },
  "language_info": {
   "name": "python"
  }
 },
 "nbformat": 4,
 "nbformat_minor": 0
}
