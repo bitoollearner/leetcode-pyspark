{
 "cells": [
  {
   "cell_type": "markdown",
   "metadata": {
    "application/vnd.databricks.v1+cell": {
     "cellMetadata": {
      "byteLimit": 2048000,
      "rowLimit": 10000
     },
     "inputWidgets": {},
     "nuid": "4cd0cff4-1b3d-443e-8f60-5eaa3c44b351",
     "showTitle": false,
     "tableResultSettingsMap": {},
     "title": ""
    }
   },
   "source": [
    "## Importing Libraries"
   ]
  },
  {
   "cell_type": "code",
   "execution_count": 0,
   "metadata": {
    "application/vnd.databricks.v1+cell": {
     "cellMetadata": {
      "byteLimit": 2048000,
      "rowLimit": 10000
     },
     "inputWidgets": {},
     "nuid": "97710283-7ef7-4994-bdf7-ab35e4e4acd8",
     "showTitle": false,
     "tableResultSettingsMap": {},
     "title": ""
    }
   },
   "outputs": [],
   "source": [
    "from pyspark.sql.functions import *\n",
    "from pyspark.sql.types import *\n",
    "from pyspark.sql.window import Window"
   ]
  },
  {
   "cell_type": "markdown",
   "metadata": {
    "application/vnd.databricks.v1+cell": {
     "cellMetadata": {
      "byteLimit": 2048000,
      "rowLimit": 10000
     },
     "inputWidgets": {},
     "nuid": "d438d974-0dc5-432f-af61-ceb185a0700c",
     "showTitle": false,
     "tableResultSettingsMap": {},
     "title": ""
    }
   },
   "source": [
    "**1045. Customers Who Bought All Products (Medium)**\n",
    "\n",
    "**Table: Customer**\n",
    "\n",
    "| Column Name | Type    |\n",
    "|-------------|---------|\n",
    "| customer_id | int     |\n",
    "| product_key | int     |\n",
    "\n",
    "This table may contain duplicates rows. \n",
    "customer_id is not NULL.\n",
    "product_key is a foreign key (reference column) to Product table.\n",
    " \n",
    "\n",
    "**Table: Product**\n",
    "\n",
    "| Column Name | Type    |\n",
    "|-------------|---------|\n",
    "| product_key | int     |\n",
    "\n",
    "product_key is the primary key (column with unique values) for this table.\n",
    " \n",
    "**Write a solution to report the customer ids from the Customer table that bought all the products in the Product table.**\n",
    "\n",
    "Return the result table in any order.\n",
    "\n",
    "The result format is in the following example.\n",
    "\n",
    "**Example 1:**\n",
    "\n",
    "**Input:**\n",
    "**Customer table:**\n",
    "| customer_id | product_key |\n",
    "|-------------|-------------|\n",
    "| 1           | 5           |\n",
    "| 2           | 6           |\n",
    "| 3           | 5           |\n",
    "| 3           | 6           |\n",
    "| 1           | 6           |\n",
    "\n",
    "**Product table:**\n",
    "| product_key |\n",
    "|-------------|\n",
    "| 5           |\n",
    "| 6           |\n",
    "\n",
    "**Output:**\n",
    "| customer_id |\n",
    "|-------------|\n",
    "| 1           |\n",
    "| 3           |\n",
    "\n",
    "**Explanation:**\n",
    "The customers who bought all the products (5 and 6) are customers with IDs 1 and 3.\n"
   ]
  },
  {
   "cell_type": "code",
   "execution_count": 0,
   "metadata": {
    "application/vnd.databricks.v1+cell": {
     "cellMetadata": {
      "byteLimit": 2048000,
      "rowLimit": 10000
     },
     "inputWidgets": {},
     "nuid": "c899699d-2ed8-4227-ba6f-ca46f3f95a7f",
     "showTitle": false,
     "tableResultSettingsMap": {},
     "title": ""
    }
   },
   "outputs": [],
   "source": [
    "customer_data_1045 = [\n",
    "    (1, 5),\n",
    "    (2, 6),\n",
    "    (3, 5),\n",
    "    (3, 6),\n",
    "    (1, 6)\n",
    "]\n",
    "\n",
    "customer_columns_1045 = [\"customer_id\", \"product_key\"]\n",
    "customer_df_1045 = spark.createDataFrame(customer_data_1045, customer_columns_1045)\n",
    "customer_df_1045.show()\n",
    "\n",
    "\n",
    "product_data_1045 = [\n",
    "    (5,),\n",
    "    (6,)\n",
    "]\n",
    "product_columns_1045 = [\"product_key\"]\n",
    "product_df_1045 = spark.createDataFrame(product_data_1045, product_columns_1045)\n",
    "product_df_1045.show()\n"
   ]
  },
  {
   "cell_type": "code",
   "execution_count": 0,
   "metadata": {
    "application/vnd.databricks.v1+cell": {
     "cellMetadata": {
      "byteLimit": 2048000,
      "rowLimit": 10000
     },
     "inputWidgets": {},
     "nuid": "959c580f-e9fe-4952-b46c-43e04e49b28e",
     "showTitle": false,
     "tableResultSettingsMap": {},
     "title": ""
    }
   },
   "outputs": [],
   "source": [
    "total_products_1045 = product_df_1045.select(countDistinct(\"product_key\")).collect()[0][0]\n"
   ]
  },
  {
   "cell_type": "code",
   "execution_count": 0,
   "metadata": {
    "application/vnd.databricks.v1+cell": {
     "cellMetadata": {
      "byteLimit": 2048000,
      "rowLimit": 10000
     },
     "inputWidgets": {},
     "nuid": "e115017a-7d4f-4798-968b-73babdfb4b1d",
     "showTitle": false,
     "tableResultSettingsMap": {},
     "title": ""
    }
   },
   "outputs": [],
   "source": [
    "customer_df_1045\\\n",
    "    .groupBy(\"customer_id\").agg(\n",
    "    countDistinct(\"product_key\").alias(\"num_products_bought\"))\\\n",
    "    .filter(\n",
    "        col(\"num_products_bought\") == total_products_1045\n",
    "    ).select(\"customer_id\").show()\n"
   ]
  }
 ],
 "metadata": {
  "application/vnd.databricks.v1+notebook": {
   "computePreferences": {
    "hardware": {
     "accelerator": null,
     "gpuPoolId": null,
     "memory": null
    }
   },
   "dashboards": [],
   "environmentMetadata": {
    "base_environment": "",
    "environment_version": "2"
   },
   "inputWidgetPreferences": null,
   "language": "python",
   "notebookMetadata": {
    "pythonIndentUnit": 4
   },
   "notebookName": "1045. Customers Who Bought All Products (Medium)-(Solved)",
   "widgets": {}
  },
  "language_info": {
   "name": "python"
  }
 },
 "nbformat": 4,
 "nbformat_minor": 0
}
