{
 "cells": [
  {
   "cell_type": "markdown",
   "metadata": {
    "application/vnd.databricks.v1+cell": {
     "cellMetadata": {
      "byteLimit": 2048000,
      "rowLimit": 10000
     },
     "inputWidgets": {},
     "nuid": "c8535576-d746-40ee-8199-8ccd3e39577f",
     "showTitle": false,
     "tableResultSettingsMap": {},
     "title": ""
    }
   },
   "source": [
    "## Importing Libraries"
   ]
  },
  {
   "cell_type": "code",
   "execution_count": 0,
   "metadata": {
    "application/vnd.databricks.v1+cell": {
     "cellMetadata": {
      "byteLimit": 2048000,
      "rowLimit": 10000
     },
     "inputWidgets": {},
     "nuid": "09da8fc1-d579-4949-bbc7-9132909993c8",
     "showTitle": false,
     "tableResultSettingsMap": {},
     "title": ""
    }
   },
   "outputs": [],
   "source": [
    "from pyspark.sql.functions import *\n",
    "from pyspark.sql.types import *\n",
    "from pyspark.sql.window import Window"
   ]
  },
  {
   "cell_type": "markdown",
   "metadata": {
    "application/vnd.databricks.v1+cell": {
     "cellMetadata": {
      "byteLimit": 2048000,
      "rowLimit": 10000
     },
     "inputWidgets": {},
     "nuid": "4567f050-e6f4-4b8b-b899-db2f17021c1d",
     "showTitle": false,
     "tableResultSettingsMap": {},
     "title": ""
    }
   },
   "source": [
    "**1158. Market Analysis I (Medium)**\n",
    "\n",
    "**Table: Users**\n",
    "\n",
    "| Column Name    | Type    |\n",
    "|----------------|---------|\n",
    "| user_id        | int     |\n",
    "| join_date      | date    |\n",
    "| favorite_brand | varchar |\n",
    "\n",
    "user_id is the primary key (column with unique values) of this table.\n",
    "This table has the info of the users of an online shopping website where users can sell and buy items.\n",
    " \n",
    "**Table: Orders**\n",
    "\n",
    "| Column Name   | Type    |\n",
    "|---------------|---------|\n",
    "| order_id      | int     |\n",
    "| order_date    | date    |\n",
    "| item_id       | int     |\n",
    "| buyer_id      | int     |\n",
    "| seller_id     | int     |\n",
    "\n",
    "order_id is the primary key (column with unique values) of this table.\n",
    "item_id is a foreign key (reference column) to the Items table.\n",
    "buyer_id and seller_id are foreign keys to the Users table.\n",
    " \n",
    "**Table: Items**\n",
    "\n",
    "| Column Name   | Type    |\n",
    "|---------------|---------|\n",
    "| item_id       | int     |\n",
    "| item_brand    | varchar |\n",
    "\n",
    "item_id is the primary key (column with unique values) of this table.\n",
    " \n",
    "**Write a solution to find for each user, the join date and the number of orders they made as a buyer in 2019.**\n",
    "\n",
    "Return the result table in any order.\n",
    "\n",
    "The result format is in the following example.\n",
    "\n",
    "**Example 1:**\n",
    "\n",
    "**Input:**\n",
    "**Users table:**\n",
    "| user_id | join_date  | favorite_brand |\n",
    "|---------|------------|----------------|\n",
    "| 1       | 2018-01-01 | Lenovo         |\n",
    "| 2       | 2018-02-09 | Samsung        |\n",
    "| 3       | 2018-01-19 | LG             |\n",
    "| 4       | 2018-05-21 | HP             |\n",
    "\n",
    "**Orders table:**\n",
    "| order_id | order_date | item_id | buyer_id | seller_id |\n",
    "|----------|------------|---------|----------|-----------|\n",
    "| 1        | 2019-08-01 | 4       | 1        | 2         |\n",
    "| 2        | 2018-08-02 | 2       | 1        | 3         |\n",
    "| 3        | 2019-08-03 | 3       | 2        | 3         |\n",
    "| 4        | 2018-08-04 | 1       | 4        | 2         |\n",
    "| 5        | 2018-08-04 | 1       | 3        | 4         |\n",
    "| 6        | 2019-08-05 | 2       | 2        | 4         |\n",
    "\n",
    "**Items table:**\n",
    "| item_id | item_brand |\n",
    "|---------|------------|\n",
    "| 1       | Samsung    |\n",
    "| 2       | Lenovo     |\n",
    "| 3       | LG         |\n",
    "| 4       | HP         |\n",
    "\n",
    "**Output:**\n",
    "| buyer_id  | join_date  | orders_in_2019 |\n",
    "|-----------|------------|----------------|\n",
    "| 1         | 2018-01-01 | 1              |\n",
    "| 2         | 2018-02-09 | 2              |\n",
    "| 3         | 2018-01-19 | 0              |\n",
    "| 4         | 2018-05-21 | 0              |\n"
   ]
  },
  {
   "cell_type": "code",
   "execution_count": 0,
   "metadata": {
    "application/vnd.databricks.v1+cell": {
     "cellMetadata": {
      "byteLimit": 2048000,
      "rowLimit": 10000
     },
     "inputWidgets": {},
     "nuid": "9b14d03f-22ca-4fa2-b371-32a135a82877",
     "showTitle": false,
     "tableResultSettingsMap": {},
     "title": ""
    }
   },
   "outputs": [],
   "source": [
    "users_data_1158 = [\n",
    "    (1, \"2018-01-01\", \"Lenovo\"),\n",
    "    (2, \"2018-02-09\", \"Samsung\"),\n",
    "    (3, \"2018-01-19\", \"LG\"),\n",
    "    (4, \"2018-05-21\", \"HP\"),\n",
    "]\n",
    "users_columns_1158 = [\"user_id\", \"join_date\", \"favorite_brand\"]\n",
    "users_df_1158 = spark.createDataFrame(users_data_1158, users_columns_1158)\n",
    "users_df_1158.show()\n",
    "\n",
    "orders_data_1158 = [\n",
    "    (1, \"2019-08-01\", 4, 1, 2),\n",
    "    (2, \"2018-08-02\", 2, 1, 3),\n",
    "    (3, \"2019-08-03\", 3, 2, 3),\n",
    "    (4, \"2018-08-04\", 1, 4, 2),\n",
    "    (5, \"2018-08-04\", 1, 3, 4),\n",
    "    (6, \"2019-08-05\", 2, 2, 4),\n",
    "]\n",
    "orders_columns_1158 = [\"order_id\", \"order_date\", \"item_id\", \"buyer_id\", \"seller_id\"]\n",
    "orders_df_1158 = spark.createDataFrame(orders_data_1158, orders_columns_1158)\n",
    "orders_df_1158.show()"
   ]
  },
  {
   "cell_type": "code",
   "execution_count": 0,
   "metadata": {
    "application/vnd.databricks.v1+cell": {
     "cellMetadata": {
      "byteLimit": 2048000,
      "rowLimit": 10000
     },
     "inputWidgets": {},
     "nuid": "9bce7244-1407-46a0-ba5f-611dcc455862",
     "showTitle": false,
     "tableResultSettingsMap": {},
     "title": ""
    }
   },
   "outputs": [],
   "source": [
    "orders_count_df_1158 = orders_df_1158\\\n",
    "                    .filter(year(\"order_date\") == 2019)\\\n",
    "                        .groupBy(\"buyer_id\") \\\n",
    "                          .agg(count(\"*\").alias(\"orders_in_2019\"))\n",
    "\n",
    "users_df_1158.join(orders_count_df_1158, users_df_1158.user_id == orders_count_df_1158.buyer_id, \"left\") \\\n",
    "                 .select(\n",
    "                     users_df_1158.user_id.alias(\"buyer_id\"),\n",
    "                     \"join_date\",\n",
    "                     coalesce(col(\"orders_in_2019\"), lit(0)).alias(\"orders_in_2019\")\n",
    "                 ).show()"
   ]
  }
 ],
 "metadata": {
  "application/vnd.databricks.v1+notebook": {
   "computePreferences": {
    "hardware": {
     "accelerator": null,
     "gpuPoolId": null,
     "memory": null
    }
   },
   "dashboards": [],
   "environmentMetadata": {
    "base_environment": "",
    "environment_version": "2"
   },
   "inputWidgetPreferences": null,
   "language": "python",
   "notebookMetadata": {
    "pythonIndentUnit": 4
   },
   "notebookName": "1158. Market Analysis I (Medium)-(Solved)",
   "widgets": {}
  },
  "language_info": {
   "name": "python"
  }
 },
 "nbformat": 4,
 "nbformat_minor": 0
}
