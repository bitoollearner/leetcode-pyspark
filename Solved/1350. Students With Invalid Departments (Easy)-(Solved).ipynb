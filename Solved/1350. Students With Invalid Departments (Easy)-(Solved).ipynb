{
 "cells": [
  {
   "cell_type": "markdown",
   "metadata": {
    "application/vnd.databricks.v1+cell": {
     "cellMetadata": {},
     "inputWidgets": {},
     "nuid": "516a210c-988a-43a8-9004-cb03ad7c2481",
     "showTitle": false,
     "tableResultSettingsMap": {},
     "title": ""
    }
   },
   "source": [
    "## Importing Libraries"
   ]
  },
  {
   "cell_type": "code",
   "execution_count": 0,
   "metadata": {
    "application/vnd.databricks.v1+cell": {
     "cellMetadata": {},
     "inputWidgets": {},
     "nuid": "9333a394-5bb0-4f1f-8f10-60b56c9fb68e",
     "showTitle": false,
     "tableResultSettingsMap": {},
     "title": ""
    }
   },
   "outputs": [],
   "source": [
    "from pyspark.sql.functions import *\n",
    "from pyspark.sql.types import *\n",
    "from pyspark.sql.window import Window"
   ]
  },
  {
   "cell_type": "markdown",
   "metadata": {
    "application/vnd.databricks.v1+cell": {
     "cellMetadata": {},
     "inputWidgets": {},
     "nuid": "b718c875-1030-4207-a68c-5fad8635212a",
     "showTitle": false,
     "tableResultSettingsMap": {},
     "title": ""
    }
   },
   "source": [
    "**1350. Students With Invalid Departments (Easy)**\n",
    "\n",
    "**Table: Departments**\n",
    "\n",
    "| Column Name   | Type    |\n",
    "|---------------|---------|\n",
    "| id            | int     |\n",
    "| name          | varchar |\n",
    "\n",
    "In SQL, id is the primary key of this table.\n",
    "The table has information about the id of each department of a university.\n",
    " \n",
    "**Table: Students**\n",
    "\n",
    "| Column Name   | Type    |\n",
    "|---------------|---------|\n",
    "| id            | int     |\n",
    "| name          | varchar |\n",
    "| department_id | int     |\n",
    "\n",
    "In SQL, id is the primary key of this table.\n",
    "The table has information about the id of each student at a university and the id of the department he/she studies at.\n",
    " \n",
    "**Find the id and the name of all students who are enrolled in departments that no longer exist.**\n",
    "\n",
    "Return the result table in any order.\n",
    "\n",
    "The result format is in the following example.\n",
    "\n",
    "**Example 1:**\n",
    "\n",
    "**Input:** \n",
    "\n",
    "**Departments table:**\n",
    "\n",
    "| id   | name                     |\n",
    "|------|--------------------------|\n",
    "| 1    | Electrical Engineering   |\n",
    "| 7    | Computer Engineering     |\n",
    "| 13   | Bussiness Administration |\n",
    "\n",
    "**Students table:**\n",
    "| id   | name     | department_id |\n",
    "|------|----------|---------------|\n",
    "| 23   | Alice    | 1             |\n",
    "| 1    | Bob      | 7             |\n",
    "| 5    | Jennifer | 13            |\n",
    "| 2    | John     | 14            |\n",
    "| 4    | Jasmine  | 77            |\n",
    "| 3    | Steve    | 74            |\n",
    "| 6    | Luis     | 1             |\n",
    "| 8    | Jonathan | 7             |\n",
    "| 7    | Daiana   | 33            |\n",
    "| 11   | Madelynn | 1             |\n",
    "\n",
    "**Output:** \n",
    "| id   | name     |\n",
    "|------|----------|\n",
    "| 2    | John     |\n",
    "| 7    | Daiana   |\n",
    "| 4    | Jasmine  |\n",
    "| 3    | Steve    |\n",
    "\n",
    "**Explanation:** \n",
    "John, Daiana, Steve, and Jasmine are enrolled in departments 14, 33, 74, and 77 respectively. department 14, 33, 74, and 77 do not exist in the Departments table."
   ]
  },
  {
   "cell_type": "code",
   "execution_count": 0,
   "metadata": {
    "application/vnd.databricks.v1+cell": {
     "cellMetadata": {},
     "inputWidgets": {},
     "nuid": "01e4d778-a8a5-48a7-8ebb-7033f0b84d62",
     "showTitle": false,
     "tableResultSettingsMap": {},
     "title": ""
    }
   },
   "outputs": [],
   "source": [
    "departments_data_1350 = [\n",
    "    (1, \"Electrical Engineering\"),\n",
    "    (7, \"Computer Engineering\"),\n",
    "    (13, \"Business Administration\")\n",
    "]\n",
    "departments_columns_1350 = [\"id\", \"name\"]\n",
    "departments_df_1350 = spark.createDataFrame(departments_data_1350, departments_columns_1350)\n",
    "departments_df_1350.show()\n",
    "\n",
    "students_data_1350 = [\n",
    "    (23, \"Alice\", 1), (1, \"Bob\", 7), (5, \"Jennifer\", 13),\n",
    "    (2, \"John\", 14), (4, \"Jasmine\", 77), (3, \"Steve\", 74),\n",
    "    (6, \"Luis\", 1), (8, \"Jonathan\", 7), (7, \"Daiana\", 33),\n",
    "    (11, \"Madelynn\", 1)\n",
    "]\n",
    "\n",
    "students_columns_1350 = [\"id\", \"name\", \"department_id\"]\n",
    "students_df_1350 = spark.createDataFrame(students_data_1350, students_columns_1350)\n",
    "students_df_1350.show()"
   ]
  }
 ],
 "metadata": {
  "application/vnd.databricks.v1+notebook": {
   "computePreferences": null,
   "dashboards": [],
   "environmentMetadata": {
    "base_environment": "",
    "environment_version": "1"
   },
   "inputWidgetPreferences": null,
   "language": "python",
   "notebookMetadata": {
    "pythonIndentUnit": 4
   },
   "notebookName": "1350. Students With Invalid Departments (Easy)-(Solved)",
   "widgets": {}
  },
  "language_info": {
   "name": "python"
  }
 },
 "nbformat": 4,
 "nbformat_minor": 0
}
