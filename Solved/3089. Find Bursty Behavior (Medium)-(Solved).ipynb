{
 "cells": [
  {
   "cell_type": "markdown",
   "metadata": {
    "application/vnd.databricks.v1+cell": {
     "cellMetadata": {
      "byteLimit": 2048000,
      "rowLimit": 10000
     },
     "inputWidgets": {},
     "nuid": "7d1791bd-9552-4116-90b2-daa678bbffb8",
     "showTitle": false,
     "tableResultSettingsMap": {},
     "title": ""
    }
   },
   "source": [
    "## Importing Libraries"
   ]
  },
  {
   "cell_type": "code",
   "execution_count": 0,
   "metadata": {
    "application/vnd.databricks.v1+cell": {
     "cellMetadata": {
      "byteLimit": 2048000,
      "rowLimit": 10000
     },
     "inputWidgets": {},
     "nuid": "2901fbc9-49db-4285-8b94-c460f34d4c4f",
     "showTitle": false,
     "tableResultSettingsMap": {},
     "title": ""
    }
   },
   "outputs": [],
   "source": [
    "from pyspark.sql.functions import *\n",
    "from pyspark.sql.types import *\n",
    "from pyspark.sql.window import Window"
   ]
  },
  {
   "cell_type": "markdown",
   "metadata": {
    "application/vnd.databricks.v1+cell": {
     "cellMetadata": {
      "byteLimit": 2048000,
      "rowLimit": 10000
     },
     "inputWidgets": {},
     "nuid": "655120e7-6b25-417c-a08a-c6925feaa425",
     "showTitle": false,
     "tableResultSettingsMap": {},
     "title": ""
    }
   },
   "source": [
    "**3089. Find Bursty Behavior (Medium)**\n",
    "\n",
    "**Table: Posts**\n",
    "\n",
    "| Column Name | Type    |\n",
    "|-------------|---------|\n",
    "| post_id     | int     |\n",
    "| user_id     | int     |\n",
    "| post_date   | date    |\n",
    "\n",
    "post_id is the primary key (column with unique values) for this table.\n",
    "Each row of this table contains post_id, user_id, and post_date.\n",
    "\n",
    "**Write a solution to find users who demonstrate bursty behavior in their posting patterns during February 2024. Bursty behavior is defined as any period of 7 consecutive days where a user's posting frequency is at least twice to their average weekly posting frequency for February 2024.**\n",
    "\n",
    "**Note:** Only include the dates from February 1 to February 28 in your analysis, which means you should count February as having exactly 4 weeks.\n",
    "\n",
    "Return the result table orderd by user_id in ascending order.\n",
    "\n",
    "The result format is in the following example.\n",
    "\n",
    "**Example:**\n",
    "\n",
    "**Input:**\n",
    "\n",
    "**Posts table:**\n",
    "\n",
    "| post_id | user_id | post_date  |\n",
    "|---------|---------|------------|\n",
    "| 1       | 1       | 2024-02-27 |\n",
    "| 2       | 5       | 2024-02-06 |\n",
    "| 3       | 3       | 2024-02-25 |\n",
    "| 4       | 3       | 2024-02-14 |\n",
    "| 5       | 3       | 2024-02-06 |\n",
    "| 6       | 2       | 2024-02-25 |\n",
    "\n",
    "**Output:**\n",
    "\n",
    "| user_id | max_7day_posts | avg_weekly_posts |\n",
    "|---------|----------------|------------------|\n",
    "| 1       | 1              | 0.2500           |\n",
    "| 2       | 1              | 0.2500           |\n",
    "| 5       | 1              | 0.2500           |\n",
    "\n",
    "**Explanation:**\n",
    "- **User 1:** Made only 1 post in February, resulting in an average of 0.25 posts per week and a max of 1 post in any 7-day period.\n",
    "- **User 2:** Also made just 1 post, with the same average and max 7-day posting frequency as User 1.\n",
    "- **User 5:** Like Users 1 and 2, User 5 made only 1 post throughout February, leading to the same average and max 7-day posting metrics.\n",
    "- **User 3:** Although User 3 made more posts than the others (3 posts), they did not reach twice the average weekly posts in their consecutive 7-day window, so they are not listed in the output.\n",
    "\n",
    "**Note:** Output table is ordered by user_id in ascending order."
   ]
  },
  {
   "cell_type": "code",
   "execution_count": 0,
   "metadata": {
    "application/vnd.databricks.v1+cell": {
     "cellMetadata": {
      "byteLimit": 2048000,
      "rowLimit": 10000
     },
     "inputWidgets": {},
     "nuid": "a2368434-0191-416c-aa1d-12cd44cf48e6",
     "showTitle": false,
     "tableResultSettingsMap": {},
     "title": ""
    }
   },
   "outputs": [
    {
     "output_type": "stream",
     "name": "stdout",
     "output_type": "stream",
     "text": [
      "+-------+-------+----------+\n|post_id|user_id| post_date|\n+-------+-------+----------+\n|      1|      1|2024-02-27|\n|      2|      5|2024-02-06|\n|      3|      3|2024-02-25|\n|      4|      3|2024-02-14|\n|      5|      3|2024-02-06|\n|      6|      2|2024-02-25|\n+-------+-------+----------+\n\n"
     ]
    }
   ],
   "source": [
    "posts_data_3089 = [\n",
    "    (1, 1, \"2024-02-27\"),\n",
    "    (2, 5, \"2024-02-06\"),\n",
    "    (3, 3, \"2024-02-25\"),\n",
    "    (4, 3, \"2024-02-14\"),\n",
    "    (5, 3, \"2024-02-06\"),\n",
    "    (6, 2, \"2024-02-25\"),\n",
    "]\n",
    "\n",
    "post_columns_3089 = [\"post_id\", \"user_id\", \"post_date\"]\n",
    "post_df_3089 = spark.createDataFrame(posts_data_3089, post_columns_3089)\n",
    "post_df_3089.show()"
   ]
  },
  {
   "cell_type": "code",
   "execution_count": 0,
   "metadata": {
    "application/vnd.databricks.v1+cell": {
     "cellMetadata": {
      "byteLimit": 2048000,
      "rowLimit": 10000
     },
     "inputWidgets": {},
     "nuid": "1b997d62-bc93-419a-8247-39e74020096b",
     "showTitle": false,
     "tableResultSettingsMap": {},
     "title": ""
    }
   },
   "outputs": [],
   "source": [
    "post_df_3089 = post_df_3089\\\n",
    "                    .withColumn(\"post_date\", to_timestamp(\"post_date\"))"
   ]
  },
  {
   "cell_type": "code",
   "execution_count": 0,
   "metadata": {
    "application/vnd.databricks.v1+cell": {
     "cellMetadata": {
      "byteLimit": 2048000,
      "rowLimit": 10000
     },
     "inputWidgets": {},
     "nuid": "c7d784f9-297b-4fc8-87c8-825a61b9049d",
     "showTitle": false,
     "tableResultSettingsMap": {},
     "title": ""
    }
   },
   "outputs": [],
   "source": [
    "post_df_3089 = post_df_3089\\\n",
    "                    .filter(\n",
    "                        (col(\"post_date\") >= \"2024-02-01\") & \n",
    "                        (col(\"post_date\") <= \"2024-02-28\")\n",
    "                        )"
   ]
  },
  {
   "cell_type": "code",
   "execution_count": 0,
   "metadata": {
    "application/vnd.databricks.v1+cell": {
     "cellMetadata": {
      "byteLimit": 2048000,
      "rowLimit": 10000
     },
     "inputWidgets": {},
     "nuid": "2bf27651-b302-4c09-848e-4233ce673456",
     "showTitle": false,
     "tableResultSettingsMap": {},
     "title": ""
    }
   },
   "outputs": [],
   "source": [
    "daily_posts_3089 = post_df_3089\\\n",
    "                        .groupBy(\"user_id\", \"post_date\")\\\n",
    "                            .agg(count(\"*\").alias(\"daily_posts\"))"
   ]
  },
  {
   "cell_type": "code",
   "execution_count": 0,
   "metadata": {
    "application/vnd.databricks.v1+cell": {
     "cellMetadata": {
      "byteLimit": 2048000,
      "rowLimit": 10000
     },
     "inputWidgets": {},
     "nuid": "b9e23a0c-6c64-47bb-b88d-13f2d14136af",
     "showTitle": false,
     "tableResultSettingsMap": {},
     "title": ""
    }
   },
   "outputs": [],
   "source": [
    "daily_posts_3089 = daily_posts_3089\\\n",
    "                        .withColumn(\"post_ts\", unix_timestamp(\"post_date\"))"
   ]
  },
  {
   "cell_type": "code",
   "execution_count": 0,
   "metadata": {
    "application/vnd.databricks.v1+cell": {
     "cellMetadata": {
      "byteLimit": 2048000,
      "rowLimit": 10000
     },
     "inputWidgets": {},
     "nuid": "0ab7a796-1271-46bf-959f-fa7a23b81167",
     "showTitle": false,
     "tableResultSettingsMap": {},
     "title": ""
    }
   },
   "outputs": [],
   "source": [
    "seven_days = 7 * 24 * 3600"
   ]
  },
  {
   "cell_type": "code",
   "execution_count": 0,
   "metadata": {
    "application/vnd.databricks.v1+cell": {
     "cellMetadata": {
      "byteLimit": 2048000,
      "rowLimit": 10000
     },
     "inputWidgets": {},
     "nuid": "b195d3ef-c123-4888-92a4-f1b33b462ee9",
     "showTitle": false,
     "tableResultSettingsMap": {},
     "title": ""
    }
   },
   "outputs": [],
   "source": [
    "windowSpec = Window.partitionBy(\"user_id\").orderBy(\"post_ts\").rangeBetween(-seven_days+1, 0)"
   ]
  },
  {
   "cell_type": "code",
   "execution_count": 0,
   "metadata": {
    "application/vnd.databricks.v1+cell": {
     "cellMetadata": {
      "byteLimit": 2048000,
      "rowLimit": 10000
     },
     "inputWidgets": {},
     "nuid": "9db09248-68e3-414d-8f46-6ab2b0191392",
     "showTitle": false,
     "tableResultSettingsMap": {},
     "title": ""
    }
   },
   "outputs": [],
   "source": [
    "daily_posts_3089 = daily_posts_3089\\\n",
    "                        .withColumn(\"rolling_7day\", sum(\"daily_posts\").over(windowSpec))"
   ]
  },
  {
   "cell_type": "code",
   "execution_count": 0,
   "metadata": {
    "application/vnd.databricks.v1+cell": {
     "cellMetadata": {
      "byteLimit": 2048000,
      "rowLimit": 10000
     },
     "inputWidgets": {},
     "nuid": "f8b4cf5c-4694-4bd8-b66f-901da55bfe14",
     "showTitle": false,
     "tableResultSettingsMap": {},
     "title": ""
    }
   },
   "outputs": [],
   "source": [
    "max_7day_3089 = daily_posts_3089\\\n",
    "                    .groupBy(\"user_id\")\\\n",
    "                        .agg(max(\"rolling_7day\").alias(\"max_7day_posts\"))"
   ]
  },
  {
   "cell_type": "code",
   "execution_count": 0,
   "metadata": {
    "application/vnd.databricks.v1+cell": {
     "cellMetadata": {
      "byteLimit": 2048000,
      "rowLimit": 10000
     },
     "inputWidgets": {},
     "nuid": "a5178b56-187a-4bb0-a418-01db29d98a81",
     "showTitle": false,
     "tableResultSettingsMap": {},
     "title": ""
    }
   },
   "outputs": [],
   "source": [
    "avg_weekly_3089 = daily_posts_3089\\\n",
    "                    .groupBy(\"user_id\")\\\n",
    "                        .agg((count(\"*\") / lit(4)).alias(\"avg_weekly_posts\"))"
   ]
  },
  {
   "cell_type": "code",
   "execution_count": 0,
   "metadata": {
    "application/vnd.databricks.v1+cell": {
     "cellMetadata": {
      "byteLimit": 2048000,
      "rowLimit": 10000
     },
     "inputWidgets": {},
     "nuid": "be9b53f4-952f-44b7-b71f-6d6409ae6f8e",
     "showTitle": false,
     "tableResultSettingsMap": {},
     "title": ""
    }
   },
   "outputs": [
    {
     "output_type": "display_data",
     "data": {
      "text/html": [
       "<style scoped>\n",
       "  .table-result-container {\n",
       "    max-height: 300px;\n",
       "    overflow: auto;\n",
       "  }\n",
       "  table, th, td {\n",
       "    border: 1px solid black;\n",
       "    border-collapse: collapse;\n",
       "  }\n",
       "  th, td {\n",
       "    padding: 5px;\n",
       "  }\n",
       "  th {\n",
       "    text-align: left;\n",
       "  }\n",
       "</style><div class='table-result-container'><table class='table-result'><thead style='background-color: white'><tr><th>user_id</th><th>max_7day_posts</th><th>avg_weekly_posts</th></tr></thead><tbody><tr><td>1</td><td>1</td><td>0.25</td></tr><tr><td>2</td><td>1</td><td>0.25</td></tr><tr><td>5</td><td>1</td><td>0.25</td></tr></tbody></table></div>"
      ]
     },
     "metadata": {
      "application/vnd.databricks.v1+output": {
       "addedWidgets": {},
       "aggData": [],
       "aggError": "",
       "aggOverflow": false,
       "aggSchema": [],
       "aggSeriesLimitReached": false,
       "aggType": "",
       "arguments": {},
       "columnCustomDisplayInfos": {},
       "data": [
        [
         1,
         1,
         0.25
        ],
        [
         2,
         1,
         0.25
        ],
        [
         5,
         1,
         0.25
        ]
       ],
       "datasetInfos": [],
       "dbfsResultPath": null,
       "isJsonSchema": true,
       "metadata": {},
       "overflow": false,
       "plotOptions": {
        "customPlotOptions": {},
        "displayType": "table",
        "pivotAggregation": null,
        "pivotColumns": null,
        "xColumns": null,
        "yColumns": null
       },
       "removedWidgets": [],
       "schema": [
        {
         "metadata": "{}",
         "name": "user_id",
         "type": "\"long\""
        },
        {
         "metadata": "{}",
         "name": "max_7day_posts",
         "type": "\"long\""
        },
        {
         "metadata": "{}",
         "name": "avg_weekly_posts",
         "type": "\"double\""
        }
       ],
       "type": "table"
      }
     },
     "output_type": "display_data"
    }
   ],
   "source": [
    "max_7day_3089\\\n",
    "    .join(avg_weekly_3089, \"user_id\")\\\n",
    "        .filter(col(\"max_7day_posts\") >= 2 * col(\"avg_weekly_posts\"))\\\n",
    "            .orderBy(\"user_id\").display()"
   ]
  }
 ],
 "metadata": {
  "application/vnd.databricks.v1+notebook": {
   "computePreferences": {
    "hardware": {
     "accelerator": null,
     "gpuPoolId": null,
     "memory": null
    }
   },
   "dashboards": [],
   "environmentMetadata": {
    "base_environment": "",
    "environment_version": "2"
   },
   "inputWidgetPreferences": null,
   "language": "python",
   "notebookMetadata": {
    "pythonIndentUnit": 4
   },
   "notebookName": "3089. Find Bursty Behavior (Medium)-(Solved)",
   "widgets": {}
  },
  "language_info": {
   "name": "python"
  }
 },
 "nbformat": 4,
 "nbformat_minor": 0
}
