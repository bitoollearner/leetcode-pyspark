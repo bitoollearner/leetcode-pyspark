{
 "cells": [
  {
   "cell_type": "markdown",
   "metadata": {
    "application/vnd.databricks.v1+cell": {
     "cellMetadata": {},
     "inputWidgets": {},
     "nuid": "7d1791bd-9552-4116-90b2-daa678bbffb8",
     "showTitle": false,
     "tableResultSettingsMap": {},
     "title": ""
    }
   },
   "source": [
    "## Importing Libraries"
   ]
  },
  {
   "cell_type": "code",
   "execution_count": 0,
   "metadata": {
    "application/vnd.databricks.v1+cell": {
     "cellMetadata": {},
     "inputWidgets": {},
     "nuid": "2901fbc9-49db-4285-8b94-c460f34d4c4f",
     "showTitle": false,
     "tableResultSettingsMap": {},
     "title": ""
    }
   },
   "outputs": [],
   "source": [
    "from pyspark.sql.functions import *\n",
    "from pyspark.sql.types import *\n",
    "from pyspark.sql.window import Window"
   ]
  },
  {
   "cell_type": "markdown",
   "metadata": {
    "application/vnd.databricks.v1+cell": {
     "cellMetadata": {},
     "inputWidgets": {},
     "nuid": "655120e7-6b25-417c-a08a-c6925feaa425",
     "showTitle": false,
     "tableResultSettingsMap": {},
     "title": ""
    }
   },
   "source": [
    "**3089. Find Bursty Behavior (Medium)**\n",
    "\n",
    "**Table: Posts**\n",
    "\n",
    "| Column Name | Type    |\n",
    "|-------------|---------|\n",
    "| post_id     | int     |\n",
    "| user_id     | int     |\n",
    "| post_date   | date    |\n",
    "\n",
    "post_id is the primary key (column with unique values) for this table.\n",
    "Each row of this table contains post_id, user_id, and post_date.\n",
    "\n",
    "**Write a solution to find users who demonstrate bursty behavior in their posting patterns during February 2024. Bursty behavior is defined as any period of 7 consecutive days where a user's posting frequency is at least twice to their average weekly posting frequency for February 2024.**\n",
    "\n",
    "**Note:** Only include the dates from February 1 to February 28 in your analysis, which means you should count February as having exactly 4 weeks.\n",
    "\n",
    "Return the result table orderd by user_id in ascending order.\n",
    "\n",
    "The result format is in the following example.\n",
    "\n",
    "**Example:**\n",
    "\n",
    "**Input:**\n",
    "\n",
    "**Posts table:**\n",
    "\n",
    "| post_id | user_id | post_date  |\n",
    "|---------|---------|------------|\n",
    "| 1       | 1       | 2024-02-27 |\n",
    "| 2       | 5       | 2024-02-06 |\n",
    "| 3       | 3       | 2024-02-25 |\n",
    "| 4       | 3       | 2024-02-14 |\n",
    "| 5       | 3       | 2024-02-06 |\n",
    "| 6       | 2       | 2024-02-25 |\n",
    "\n",
    "**Output:**\n",
    "\n",
    "| user_id | max_7day_posts | avg_weekly_posts |\n",
    "|---------|----------------|------------------|\n",
    "| 1       | 1              | 0.2500           |\n",
    "| 2       | 1              | 0.2500           |\n",
    "| 5       | 1              | 0.2500           |\n",
    "\n",
    "**Explanation:**\n",
    "- **User 1:** Made only 1 post in February, resulting in an average of 0.25 posts per week and a max of 1 post in any 7-day period.\n",
    "- **User 2:** Also made just 1 post, with the same average and max 7-day posting frequency as User 1.\n",
    "- **User 5:** Like Users 1 and 2, User 5 made only 1 post throughout February, leading to the same average and max 7-day posting metrics.\n",
    "- **User 3:** Although User 3 made more posts than the others (3 posts), they did not reach twice the average weekly posts in their consecutive 7-day window, so they are not listed in the output.\n",
    "\n",
    "**Note:** Output table is ordered by user_id in ascending order."
   ]
  },
  {
   "cell_type": "code",
   "execution_count": 0,
   "metadata": {
    "application/vnd.databricks.v1+cell": {
     "cellMetadata": {},
     "inputWidgets": {},
     "nuid": "a2368434-0191-416c-aa1d-12cd44cf48e6",
     "showTitle": false,
     "tableResultSettingsMap": {},
     "title": ""
    }
   },
   "outputs": [],
   "source": [
    "posts_data_3089 = [\n",
    "    (1, 1, \"2024-02-27\"),\n",
    "    (2, 5, \"2024-02-06\"),\n",
    "    (3, 3, \"2024-02-25\"),\n",
    "    (4, 3, \"2024-02-14\"),\n",
    "    (5, 3, \"2024-02-06\"),\n",
    "    (6, 2, \"2024-02-25\"),\n",
    "]\n",
    "\n",
    "post_columns_3089 = [\"post_id\", \"user_id\", \"post_date\"]\n",
    "post_df_3089 = spark.createDataFrame(posts_data_3089, post_columns_3089)\n",
    "post_df_3089.show()"
   ]
  }
 ],
 "metadata": {
  "application/vnd.databricks.v1+notebook": {
   "computePreferences": null,
   "dashboards": [],
   "environmentMetadata": {
    "base_environment": "",
    "environment_version": "1"
   },
   "inputWidgetPreferences": null,
   "language": "python",
   "notebookMetadata": {
    "pythonIndentUnit": 4
   },
   "notebookName": "3089. Find Bursty Behavior (Medium)-(Solved)",
   "widgets": {}
  },
  "language_info": {
   "name": "python"
  }
 },
 "nbformat": 4,
 "nbformat_minor": 0
}
