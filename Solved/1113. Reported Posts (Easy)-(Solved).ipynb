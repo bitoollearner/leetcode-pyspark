{
 "cells": [
  {
   "cell_type": "markdown",
   "metadata": {
    "application/vnd.databricks.v1+cell": {
     "cellMetadata": {
      "byteLimit": 2048000,
      "rowLimit": 10000
     },
     "inputWidgets": {},
     "nuid": "3f2ab884-5b2e-4c2a-b90f-eba6d7208edf",
     "showTitle": false,
     "tableResultSettingsMap": {},
     "title": ""
    }
   },
   "source": [
    "## Importing Libraries"
   ]
  },
  {
   "cell_type": "code",
   "execution_count": 0,
   "metadata": {
    "application/vnd.databricks.v1+cell": {
     "cellMetadata": {
      "byteLimit": 2048000,
      "rowLimit": 10000
     },
     "inputWidgets": {},
     "nuid": "26c9d69f-b471-43b4-aaee-40c41d01994e",
     "showTitle": false,
     "tableResultSettingsMap": {},
     "title": ""
    }
   },
   "outputs": [],
   "source": [
    "from pyspark.sql.functions import *\n",
    "from pyspark.sql.types import *\n",
    "from pyspark.sql.window import Window"
   ]
  },
  {
   "cell_type": "markdown",
   "metadata": {
    "application/vnd.databricks.v1+cell": {
     "cellMetadata": {
      "byteLimit": 2048000,
      "rowLimit": 10000
     },
     "inputWidgets": {},
     "nuid": "fa1c2280-e46c-403e-8996-25b01a84ec72",
     "showTitle": false,
     "tableResultSettingsMap": {},
     "title": ""
    }
   },
   "source": [
    "**1113. Reported Posts (Easy)**\n",
    "\n",
    "**Table: Actions**\n",
    "\n",
    "| Column Name   | Type    |\n",
    "|---------------|---------|\n",
    "| user_id       | int     |\n",
    "| post_id       | int     |\n",
    "| action_date   | date    | \n",
    "| action        | enum    |\n",
    "| extra         | varchar |\n",
    "\n",
    "This table may have duplicate rows.\n",
    "The action column is an ENUM (category) type of ('view', 'like', 'reaction', 'comment', 'report', 'share').\n",
    "The extra column has optional information about the action, such as a reason for the report or a type of reaction.\n",
    "extra is never NULL.\n",
    " \n",
    "**Write a solution to report the number of posts reported yesterday for each report reason. Assume today is 2019-07-05.**\n",
    "\n",
    "Return the result table in any order.\n",
    "\n",
    "The result format is in the following example.\n",
    "\n",
    "**Example 1:**\n",
    "\n",
    "**Input:** \n",
    "\n",
    "**Actions table:**\n",
    "\n",
    "| user_id | post_id | action_date | action | extra  |\n",
    "|---------|---------|-------------|--------|--------|\n",
    "| 1       | 1       | 2019-07-01  | view   | null   |\n",
    "| 1       | 1       | 2019-07-01  | like   | null   |\n",
    "| 1       | 1       | 2019-07-01  | share  | null   |\n",
    "| 2       | 4       | 2019-07-04  | view   | null   |\n",
    "| 2       | 4       | 2019-07-04  | report | spam   |\n",
    "| 3       | 4       | 2019-07-04  | view   | null   |\n",
    "| 3       | 4       | 2019-07-04  | report | spam   |\n",
    "| 4       | 3       | 2019-07-02  | view   | null   |\n",
    "| 4       | 3       | 2019-07-02  | report | spam   |\n",
    "| 5       | 2       | 2019-07-04  | view   | null   |\n",
    "| 5       | 2       | 2019-07-04  | report | racism |\n",
    "| 5       | 5       | 2019-07-04  | view   | null   |\n",
    "| 5       | 5       | 2019-07-04  | report | racism |\n",
    "\n",
    "**Output:** \n",
    "| report_reason | report_count |\n",
    "|---------------|--------------|\n",
    "| spam          | 1            |\n",
    "| racism        | 2            |\n",
    "\n",
    "**Explanation:** Note that we only care about report reasons with non-zero number of reports."
   ]
  },
  {
   "cell_type": "code",
   "execution_count": 0,
   "metadata": {
    "application/vnd.databricks.v1+cell": {
     "cellMetadata": {
      "byteLimit": 2048000,
      "rowLimit": 10000
     },
     "inputWidgets": {},
     "nuid": "dddf2382-d3f5-49ba-9108-34f298edfb81",
     "showTitle": false,
     "tableResultSettingsMap": {},
     "title": ""
    }
   },
   "outputs": [
    {
     "output_type": "stream",
     "name": "stdout",
     "output_type": "stream",
     "text": [
      "+-------+-------+-----------+------+------+\n|user_id|post_id|action_date|action| extra|\n+-------+-------+-----------+------+------+\n|      1|      1| 2019-07-01|  view|  NULL|\n|      1|      1| 2019-07-01|  like|  NULL|\n|      1|      1| 2019-07-01| share|  NULL|\n|      2|      4| 2019-07-04|  view|  NULL|\n|      2|      4| 2019-07-04|report|  spam|\n|      3|      4| 2019-07-04|  view|  NULL|\n|      3|      4| 2019-07-04|report|  spam|\n|      4|      3| 2019-07-02|  view|  NULL|\n|      4|      3| 2019-07-02|report|  spam|\n|      5|      2| 2019-07-04|  view|  NULL|\n|      5|      2| 2019-07-04|report|racism|\n|      5|      5| 2019-07-04|  view|  NULL|\n|      5|      5| 2019-07-04|report|racism|\n+-------+-------+-----------+------+------+\n\n"
     ]
    }
   ],
   "source": [
    "actions_data_1113 = [\n",
    "    (1, 1, \"2019-07-01\", \"view\", None),\n",
    "    (1, 1, \"2019-07-01\", \"like\", None),\n",
    "    (1, 1, \"2019-07-01\", \"share\", None),\n",
    "    (2, 4, \"2019-07-04\", \"view\", None),\n",
    "    (2, 4, \"2019-07-04\", \"report\", \"spam\"),\n",
    "    (3, 4, \"2019-07-04\", \"view\", None),\n",
    "    (3, 4, \"2019-07-04\", \"report\", \"spam\"),\n",
    "    (4, 3, \"2019-07-02\", \"view\", None),\n",
    "    (4, 3, \"2019-07-02\", \"report\", \"spam\"),\n",
    "    (5, 2, \"2019-07-04\", \"view\", None),\n",
    "    (5, 2, \"2019-07-04\", \"report\", \"racism\"),\n",
    "    (5, 5, \"2019-07-04\", \"view\", None),\n",
    "    (5, 5, \"2019-07-04\", \"report\", \"racism\"),\n",
    "]\n",
    "\n",
    "actions_columns_1113 = [\"user_id\", \"post_id\", \"action_date\", \"action\", \"extra\"]\n",
    "actions_df_1113 = spark.createDataFrame(actions_data_1113, actions_columns_1113)\n",
    "actions_df_1113.show()"
   ]
  },
  {
   "cell_type": "code",
   "execution_count": 0,
   "metadata": {
    "application/vnd.databricks.v1+cell": {
     "cellMetadata": {
      "byteLimit": 2048000,
      "rowLimit": 10000
     },
     "inputWidgets": {},
     "nuid": "522c3e29-6c1b-456c-b4f8-a72d4ec94acf",
     "showTitle": false,
     "tableResultSettingsMap": {},
     "title": ""
    }
   },
   "outputs": [
    {
     "output_type": "stream",
     "name": "stdout",
     "output_type": "stream",
     "text": [
      "+-------------+------------+\n|report_reason|report_count|\n+-------------+------------+\n|       racism|           2|\n|         spam|           1|\n+-------------+------------+\n\n"
     ]
    }
   ],
   "source": [
    "actions_df_1113\\\n",
    "            .filter(\n",
    "                (col(\"action\") == \"report\") & \n",
    "                (col(\"action_date\") == \"2019-07-04\"))\\\n",
    "            .groupBy(\"extra\").agg(countDistinct(\"post_id\").alias(\"report_count\")) \\\n",
    "                .withColumnRenamed(\"extra\", \"report_reason\").show()"
   ]
  }
 ],
 "metadata": {
  "application/vnd.databricks.v1+notebook": {
   "computePreferences": {
    "hardware": {
     "accelerator": null,
     "gpuPoolId": null,
     "memory": null
    }
   },
   "dashboards": [],
   "environmentMetadata": {
    "base_environment": "",
    "environment_version": "2"
   },
   "inputWidgetPreferences": null,
   "language": "python",
   "notebookMetadata": {
    "pythonIndentUnit": 4
   },
   "notebookName": "1113. Reported Posts (Easy)-(Solved)",
   "widgets": {}
  },
  "language_info": {
   "name": "python"
  }
 },
 "nbformat": 4,
 "nbformat_minor": 0
}
