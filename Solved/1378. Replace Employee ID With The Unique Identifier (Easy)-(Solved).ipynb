{
 "cells": [
  {
   "cell_type": "markdown",
   "metadata": {
    "application/vnd.databricks.v1+cell": {
     "cellMetadata": {
      "byteLimit": 2048000,
      "rowLimit": 10000
     },
     "inputWidgets": {},
     "nuid": "516a210c-988a-43a8-9004-cb03ad7c2481",
     "showTitle": false,
     "tableResultSettingsMap": {},
     "title": ""
    }
   },
   "source": [
    "## Importing Libraries"
   ]
  },
  {
   "cell_type": "code",
   "execution_count": 0,
   "metadata": {
    "application/vnd.databricks.v1+cell": {
     "cellMetadata": {
      "byteLimit": 2048000,
      "rowLimit": 10000
     },
     "inputWidgets": {},
     "nuid": "9333a394-5bb0-4f1f-8f10-60b56c9fb68e",
     "showTitle": false,
     "tableResultSettingsMap": {},
     "title": ""
    }
   },
   "outputs": [],
   "source": [
    "from pyspark.sql.functions import *\n",
    "from pyspark.sql.types import *\n",
    "from pyspark.sql.window import Window"
   ]
  },
  {
   "cell_type": "markdown",
   "metadata": {
    "application/vnd.databricks.v1+cell": {
     "cellMetadata": {
      "byteLimit": 2048000,
      "rowLimit": 10000
     },
     "inputWidgets": {},
     "nuid": "b718c875-1030-4207-a68c-5fad8635212a",
     "showTitle": false,
     "tableResultSettingsMap": {},
     "title": ""
    }
   },
   "source": [
    "**1378. Replace Employee ID With The Unique Identifier (Easy)**\n",
    "\n",
    "**Table: Employees**\n",
    "\n",
    "| Column Name   | Type    |\n",
    "|---------------|---------|\n",
    "| id            | int     |\n",
    "| name          | varchar |\n",
    "\n",
    "id is the primary key (column with unique values) for this table.\n",
    "Each row of this table contains the id and the name of an employee in a company.\n",
    " \n",
    "\n",
    "**Table: EmployeeUNI**\n",
    "\n",
    "| Column Name   | Type    |\n",
    "|---------------|---------|\n",
    "| id            | int     |\n",
    "| unique_id     | int     |\n",
    "\n",
    "(id, unique_id) is the primary key (combination of columns with unique values) for this table.\n",
    "Each row of this table contains the id and the corresponding unique id of an employee in the company.\n",
    " \n",
    "**Write a solution to show the unique ID of each user, If a user does not have a unique ID replace just show null.**\n",
    "\n",
    "Return the result table in any order.\n",
    "\n",
    "The result format is in the following example.\n",
    "\n",
    "**Example 1:**\n",
    "\n",
    "**Input:**\n",
    "**Employees table:**\n",
    "| id | name     |\n",
    "|----|----------|\n",
    "| 1  | Alice    |\n",
    "| 7  | Bob      |\n",
    "| 11 | Meir     |\n",
    "| 90 | Winston  |\n",
    "| 3  | Jonathan |\n",
    "\n",
    "**EmployeeUNI table:**\n",
    "| id | unique_id |\n",
    "|----|-----------|\n",
    "| 3  | 1         |\n",
    "| 11 | 2         |\n",
    "| 90 | 3         |\n",
    "\n",
    "**Output:**\n",
    "| unique_id | name     |\n",
    "|-----------|----------|\n",
    "| null      | Alice    |\n",
    "| null      | Bob      |\n",
    "| 2         | Meir     |\n",
    "| 3         | Winston  |\n",
    "| 1         | Jonathan |\n",
    "\n",
    "**Explanation:**\n",
    "- Alice and Bob do not have a unique ID, We will show null instead.\n",
    "- The unique ID of Meir is 2.\n",
    "- The unique ID of Winston is 3.\n",
    "- The unique ID of Jonathan is 1."
   ]
  },
  {
   "cell_type": "code",
   "execution_count": 0,
   "metadata": {
    "application/vnd.databricks.v1+cell": {
     "cellMetadata": {
      "byteLimit": 2048000,
      "rowLimit": 10000
     },
     "inputWidgets": {},
     "nuid": "01e4d778-a8a5-48a7-8ebb-7033f0b84d62",
     "showTitle": false,
     "tableResultSettingsMap": {},
     "title": ""
    }
   },
   "outputs": [
    {
     "output_type": "stream",
     "name": "stdout",
     "output_type": "stream",
     "text": [
      "+---+--------+\n| id|    name|\n+---+--------+\n|  1|   Alice|\n|  7|     Bob|\n| 11|    Meir|\n| 90| Winston|\n|  3|Jonathan|\n+---+--------+\n\n+---+---------+\n| id|unique_id|\n+---+---------+\n|  3|        1|\n| 11|        2|\n| 90|        3|\n+---+---------+\n\n"
     ]
    }
   ],
   "source": [
    "employees_data_1378 = [\n",
    "    (1, \"Alice\"),\n",
    "    (7, \"Bob\"),\n",
    "    (11, \"Meir\"),\n",
    "    (90, \"Winston\"),\n",
    "    (3, \"Jonathan\"),\n",
    "]\n",
    "\n",
    "employees_columns_1378 = [\"id\", \"name\"]\n",
    "employees_df_1378 = spark.createDataFrame(employees_data_1378, employees_columns_1378)\n",
    "employees_df_1378.show()\n",
    "\n",
    "employee_uni_data_1378 = [\n",
    "    (3, 1),\n",
    "    (11, 2),\n",
    "    (90, 3),\n",
    "]\n",
    "\n",
    "employee_uni_columns_1378 = [\"id\", \"unique_id\"]\n",
    "employee_uni_df_1378 = spark.createDataFrame(employee_uni_data_1378, employee_uni_columns_1378)\n",
    "employee_uni_df_1378.show()"
   ]
  },
  {
   "cell_type": "code",
   "execution_count": 0,
   "metadata": {
    "application/vnd.databricks.v1+cell": {
     "cellMetadata": {
      "byteLimit": 2048000,
      "rowLimit": 10000
     },
     "inputWidgets": {},
     "nuid": "599a10a9-50ac-4053-97f7-89bce90ce713",
     "showTitle": false,
     "tableResultSettingsMap": {},
     "title": ""
    }
   },
   "outputs": [
    {
     "output_type": "stream",
     "name": "stdout",
     "output_type": "stream",
     "text": [
      "+---------+--------+\n|unique_id|    name|\n+---------+--------+\n|     NULL|   Alice|\n|     NULL|     Bob|\n|        2|    Meir|\n|        3| Winston|\n|        1|Jonathan|\n+---------+--------+\n\n"
     ]
    }
   ],
   "source": [
    "employees_df_1378\\\n",
    "    .join(employee_uni_df_1378, on=\"id\", how=\"left\") \\\n",
    "                        .select(\"unique_id\", \"name\").show()"
   ]
  }
 ],
 "metadata": {
  "application/vnd.databricks.v1+notebook": {
   "computePreferences": {
    "hardware": {
     "accelerator": null,
     "gpuPoolId": null,
     "memory": null
    }
   },
   "dashboards": [],
   "environmentMetadata": {
    "base_environment": "",
    "environment_version": "2"
   },
   "inputWidgetPreferences": null,
   "language": "python",
   "notebookMetadata": {
    "pythonIndentUnit": 4
   },
   "notebookName": "1378. Replace Employee ID With The Unique Identifier (Easy)-(Solved)",
   "widgets": {}
  },
  "language_info": {
   "name": "python"
  }
 },
 "nbformat": 4,
 "nbformat_minor": 0
}
