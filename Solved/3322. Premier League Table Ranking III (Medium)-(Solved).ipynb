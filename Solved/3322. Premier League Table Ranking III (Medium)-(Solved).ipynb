{
 "cells": [
  {
   "cell_type": "markdown",
   "metadata": {
    "application/vnd.databricks.v1+cell": {
     "cellMetadata": {
      "byteLimit": 2048000,
      "rowLimit": 10000
     },
     "inputWidgets": {},
     "nuid": "7d1791bd-9552-4116-90b2-daa678bbffb8",
     "showTitle": false,
     "tableResultSettingsMap": {},
     "title": ""
    }
   },
   "source": [
    "## Importing Libraries"
   ]
  },
  {
   "cell_type": "code",
   "execution_count": 0,
   "metadata": {
    "application/vnd.databricks.v1+cell": {
     "cellMetadata": {
      "byteLimit": 2048000,
      "rowLimit": 10000
     },
     "inputWidgets": {},
     "nuid": "2901fbc9-49db-4285-8b94-c460f34d4c4f",
     "showTitle": false,
     "tableResultSettingsMap": {},
     "title": ""
    }
   },
   "outputs": [],
   "source": [
    "from pyspark.sql.functions import *\n",
    "from pyspark.sql.types import *\n",
    "from pyspark.sql.window import Window"
   ]
  },
  {
   "cell_type": "markdown",
   "metadata": {
    "application/vnd.databricks.v1+cell": {
     "cellMetadata": {
      "byteLimit": 2048000,
      "rowLimit": 10000
     },
     "inputWidgets": {},
     "nuid": "655120e7-6b25-417c-a08a-c6925feaa425",
     "showTitle": false,
     "tableResultSettingsMap": {},
     "title": ""
    }
   },
   "source": [
    "**3322. Premier League Table Ranking III (Medium)**\n",
    "\n",
    "**Table: SeasonStats**\n",
    "\n",
    "| Column Name      | Type    |\n",
    "|------------------|---------|\n",
    "| season_id        | int     |\n",
    "| team_id          | int     |\n",
    "| team_name        | varchar |\n",
    "| matches_played   | int     |\n",
    "| wins             | int     |\n",
    "| draws            | int     |\n",
    "| losses           | int     |\n",
    "| goals_for        | int     |\n",
    "| goals_against    | int     |\n",
    "\n",
    "(season_id, team_id) is the unique key for this table.\n",
    "This table contains season id, team id, team name, matches played, wins, draws, losses, goals scored (goals_for), and goals conceded (goals_against) for each team in each season.\n",
    "\n",
    "**Write a solution to calculate the points, goal difference, and position for each team in each season. The position ranking should be determined as follows:**\n",
    "- Teams are first ranked by their total points (highest to lowest)\n",
    "- If points are tied, teams are then ranked by their goal difference (highest to lowest)\n",
    "- If goal difference is also tied, teams are then ranked alphabetically by team name\n",
    "\n",
    "Points are calculated as follows:\n",
    "- 3 points for a **win**\n",
    "- 1 point for a **draw**\n",
    "- 0 points for a **loss**\n",
    "\n",
    "Goal difference is calculated as: goals_for - goals_against\n",
    "\n",
    "Return the result table ordered by season_id in ascending order, then by position in ascending order, and finally by team_name in ascending order.\n",
    "\n",
    "The query result format is in the following example.\n",
    "\n",
    "**Example:**\n",
    "\n",
    "**Input:**\n",
    "\n",
    "**SeasonStats table:**\n",
    "\n",
    "| season_id  | team_id | team_name         | matches_played | wins | draws | losses | goals_for | goals_against |\n",
    "|------------|---------|-------------------|----------------|------|-------|--------|-----------|---------------|\n",
    "| 2021       | 1       | Manchester City   | 38             | 29   | 6     | 3      | 99        | 26            |\n",
    "| 2021       | 2       | Liverpool         | 38             | 28   | 8     | 2      | 94        | 26            |\n",
    "| 2021       | 3       | Chelsea           | 38             | 21   | 11    | 6      | 76        | 33            |\n",
    "| 2021       | 4       | Tottenham         | 38             | 22   | 5     | 11     | 69        | 40            |\n",
    "| 2021       | 5       | Arsenal           | 38             | 22   | 3     | 13     | 61        | 48            |\n",
    "| 2022       | 1       | Manchester City   | 38             | 28   | 5     | 5      | 94        | 33            |\n",
    "| 2022       | 2       | Arsenal           | 38             | 26   | 6     | 6      | 88        | 43            |\n",
    "| 2022       | 3       | Manchester United | 38             | 23   | 6     | 9      | 58        | 43            |\n",
    "| 2022       | 4       | Newcastle         | 38             | 19   | 14    | 5      | 68        | 33            |\n",
    "| 2022       | 5       | Liverpool         | 38             | 19   | 10    | 9      | 75        | 47            |\n",
    "\n",
    "**Output:**\n",
    "\n",
    "| season_id  | team_id | team_name         | points | goal_difference | position |\n",
    "|------------|---------|-------------------|--------|-----------------|----------|\n",
    "| 2021       | 1       | Manchester City   | 93     | 73              | 1        |\n",
    "| 2021       | 2       | Liverpool         | 92     | 68              | 2        |\n",
    "| 2021       | 3       | Chelsea           | 74     | 43              | 3        |\n",
    "| 2021       | 4       | Tottenham         | 71     | 29              | 4        |\n",
    "| 2021       | 5       | Arsenal           | 69     | 13              | 5        |\n",
    "| 2022       | 1       | Manchester City   | 89     | 61              | 1        |\n",
    "| 2022       | 2       | Arsenal           | 84     | 45              | 2        |\n",
    "| 2022       | 3       | Manchester United | 75     | 15              | 3        |\n",
    "| 2022       | 4       | Newcastle         | 71     | 35              | 4        |\n",
    "| 2022       | 5       | Liverpool         | 67     | 28              | 5        | \n",
    "\n",
    "\n",
    "**Explanation:**\n",
    "- For the 2021 season:\n",
    "  - Manchester City has 93 points (29 * 3 + 6 * 1) and a goal difference of 73 (99 - 26).\n",
    "  - Liverpool has 92 points (28 * 3 + 8 * 1) and a goal difference of 68 (94 - 26).\n",
    "  - Chelsea has 74 points (21 * 3 + 11 * 1) and a goal difference of 43 (76 - 33).\n",
    "  - Tottenham has 71 points (22 * 3 + 5 * 1) and a goal difference of 29 (69 - 40).\n",
    "  - Arsenal has 69 points (22 * 3 + 3 * 1) and a goal difference of 13 (61 - 48).\n",
    "- For the 2022 season:\n",
    "  - Manchester City has 89 points (28 * 3 + 5 * 1) and a goal difference of 61 (94 - 33).\n",
    "  - Arsenal has 84 points (26 * 3 + 6 * 1) and a goal difference of 45 (88 - 43).\n",
    "  - Manchester United has 75 points (23 * 3 + 6 * 1) and a goal difference of 15 (58 - 43).\n",
    "  - Newcastle has 71 points (19 * 3 + 14 * 1) and a goal difference of 35 (68 - 33).\n",
    "  - Liverpool has 67 points (19 * 3 + 10 * 1) and a goal difference of 28 (75 - 47).\n",
    "- The teams are ranked first by points, then by goal difference, and finally by team name.\n",
    "- The output is ordered by season_id ascending, then by rank ascending, and finally by team_name ascending."
   ]
  },
  {
   "cell_type": "code",
   "execution_count": 0,
   "metadata": {
    "application/vnd.databricks.v1+cell": {
     "cellMetadata": {
      "byteLimit": 2048000,
      "rowLimit": 10000
     },
     "inputWidgets": {},
     "nuid": "a2368434-0191-416c-aa1d-12cd44cf48e6",
     "showTitle": false,
     "tableResultSettingsMap": {},
     "title": ""
    }
   },
   "outputs": [
    {
     "output_type": "stream",
     "name": "stdout",
     "output_type": "stream",
     "text": [
      "+---------+-------+-----------------+--------------+----+-----+------+---------+-------------+\n|season_id|team_id|        team_name|matches_played|wins|draws|losses|goals_for|goals_against|\n+---------+-------+-----------------+--------------+----+-----+------+---------+-------------+\n|     2021|      1|  Manchester City|            38|  29|    6|     3|       99|           26|\n|     2021|      2|        Liverpool|            38|  28|    8|     2|       94|           26|\n|     2021|      3|          Chelsea|            38|  21|   11|     6|       76|           33|\n|     2021|      4|        Tottenham|            38|  22|    5|    11|       69|           40|\n|     2021|      5|          Arsenal|            38|  22|    3|    13|       61|           48|\n|     2022|      1|  Manchester City|            38|  28|    5|     5|       94|           33|\n|     2022|      2|          Arsenal|            38|  26|    6|     6|       88|           43|\n|     2022|      3|Manchester United|            38|  23|    6|     9|       58|           43|\n|     2022|      4|        Newcastle|            38|  19|   14|     5|       68|           33|\n|     2022|      5|        Liverpool|            38|  19|   10|     9|       75|           47|\n+---------+-------+-----------------+--------------+----+-----+------+---------+-------------+\n\n"
     ]
    }
   ],
   "source": [
    "season_stats_data_3322 = [\n",
    "    (2021, 1, \"Manchester City\", 38, 29, 6, 3, 99, 26),\n",
    "    (2021, 2, \"Liverpool\", 38, 28, 8, 2, 94, 26),\n",
    "    (2021, 3, \"Chelsea\", 38, 21, 11, 6, 76, 33),\n",
    "    (2021, 4, \"Tottenham\", 38, 22, 5, 11, 69, 40),\n",
    "    (2021, 5, \"Arsenal\", 38, 22, 3, 13, 61, 48),\n",
    "    (2022, 1, \"Manchester City\", 38, 28, 5, 5, 94, 33),\n",
    "    (2022, 2, \"Arsenal\", 38, 26, 6, 6, 88, 43),\n",
    "    (2022, 3, \"Manchester United\", 38, 23, 6, 9, 58, 43),\n",
    "    (2022, 4, \"Newcastle\", 38, 19, 14, 5, 68, 33),\n",
    "    (2022, 5, \"Liverpool\", 38, 19, 10, 9, 75, 47)\n",
    "]\n",
    "\n",
    "season_stats_columns_3322 = [\"season_id\", \"team_id\", \"team_name\", \"matches_played\", \"wins\", \"draws\", \"losses\", \"goals_for\", \"goals_against\"]\n",
    "season_stats_df_3322 = spark.createDataFrame(season_stats_data_3322, season_stats_columns_3322)\n",
    "season_stats_df_3322.show()"
   ]
  },
  {
   "cell_type": "code",
   "execution_count": 0,
   "metadata": {
    "application/vnd.databricks.v1+cell": {
     "cellMetadata": {
      "byteLimit": 2048000,
      "rowLimit": 10000
     },
     "inputWidgets": {},
     "nuid": "c7ea5944-c23e-425b-9f95-68ae61acbda4",
     "showTitle": false,
     "tableResultSettingsMap": {},
     "title": ""
    }
   },
   "outputs": [],
   "source": [
    "season_stats_df_3322 = season_stats_df_3322\\\n",
    "                            .withColumn(\"points\", col(\"wins\")*3 + col(\"draws\")*1)\\\n",
    "                                .withColumn(\"goal_difference\", col(\"goals_for\") - col(\"goals_against\"))"
   ]
  },
  {
   "cell_type": "code",
   "execution_count": 0,
   "metadata": {
    "application/vnd.databricks.v1+cell": {
     "cellMetadata": {
      "byteLimit": 2048000,
      "rowLimit": 10000
     },
     "inputWidgets": {},
     "nuid": "acb028fd-24bc-4614-9c89-bee8f2c9e106",
     "showTitle": false,
     "tableResultSettingsMap": {},
     "title": ""
    }
   },
   "outputs": [],
   "source": [
    "window = Window.partitionBy(\"season_id\")\\\n",
    "               .orderBy(col(\"points\").desc(), col(\"goal_difference\").desc(), col(\"team_name\").asc())"
   ]
  },
  {
   "cell_type": "code",
   "execution_count": 0,
   "metadata": {
    "application/vnd.databricks.v1+cell": {
     "cellMetadata": {
      "byteLimit": 2048000,
      "rowLimit": 10000
     },
     "inputWidgets": {},
     "nuid": "f3d97a97-6f8b-46d1-b29f-f29c3c273d27",
     "showTitle": false,
     "tableResultSettingsMap": {},
     "title": ""
    }
   },
   "outputs": [
    {
     "output_type": "display_data",
     "data": {
      "text/html": [
       "<style scoped>\n",
       "  .table-result-container {\n",
       "    max-height: 300px;\n",
       "    overflow: auto;\n",
       "  }\n",
       "  table, th, td {\n",
       "    border: 1px solid black;\n",
       "    border-collapse: collapse;\n",
       "  }\n",
       "  th, td {\n",
       "    padding: 5px;\n",
       "  }\n",
       "  th {\n",
       "    text-align: left;\n",
       "  }\n",
       "</style><div class='table-result-container'><table class='table-result'><thead style='background-color: white'><tr><th>season_id</th><th>team_id</th><th>team_name</th><th>points</th><th>goal_difference</th><th>position</th></tr></thead><tbody><tr><td>2021</td><td>1</td><td>Manchester City</td><td>93</td><td>73</td><td>1</td></tr><tr><td>2021</td><td>2</td><td>Liverpool</td><td>92</td><td>68</td><td>2</td></tr><tr><td>2021</td><td>3</td><td>Chelsea</td><td>74</td><td>43</td><td>3</td></tr><tr><td>2021</td><td>4</td><td>Tottenham</td><td>71</td><td>29</td><td>4</td></tr><tr><td>2021</td><td>5</td><td>Arsenal</td><td>69</td><td>13</td><td>5</td></tr><tr><td>2022</td><td>1</td><td>Manchester City</td><td>89</td><td>61</td><td>1</td></tr><tr><td>2022</td><td>2</td><td>Arsenal</td><td>84</td><td>45</td><td>2</td></tr><tr><td>2022</td><td>3</td><td>Manchester United</td><td>75</td><td>15</td><td>3</td></tr><tr><td>2022</td><td>4</td><td>Newcastle</td><td>71</td><td>35</td><td>4</td></tr><tr><td>2022</td><td>5</td><td>Liverpool</td><td>67</td><td>28</td><td>5</td></tr></tbody></table></div>"
      ]
     },
     "metadata": {
      "application/vnd.databricks.v1+output": {
       "addedWidgets": {},
       "aggData": [],
       "aggError": "",
       "aggOverflow": false,
       "aggSchema": [],
       "aggSeriesLimitReached": false,
       "aggType": "",
       "arguments": {},
       "columnCustomDisplayInfos": {},
       "data": [
        [
         2021,
         1,
         "Manchester City",
         93,
         73,
         1
        ],
        [
         2021,
         2,
         "Liverpool",
         92,
         68,
         2
        ],
        [
         2021,
         3,
         "Chelsea",
         74,
         43,
         3
        ],
        [
         2021,
         4,
         "Tottenham",
         71,
         29,
         4
        ],
        [
         2021,
         5,
         "Arsenal",
         69,
         13,
         5
        ],
        [
         2022,
         1,
         "Manchester City",
         89,
         61,
         1
        ],
        [
         2022,
         2,
         "Arsenal",
         84,
         45,
         2
        ],
        [
         2022,
         3,
         "Manchester United",
         75,
         15,
         3
        ],
        [
         2022,
         4,
         "Newcastle",
         71,
         35,
         4
        ],
        [
         2022,
         5,
         "Liverpool",
         67,
         28,
         5
        ]
       ],
       "datasetInfos": [],
       "dbfsResultPath": null,
       "isJsonSchema": true,
       "metadata": {},
       "overflow": false,
       "plotOptions": {
        "customPlotOptions": {},
        "displayType": "table",
        "pivotAggregation": null,
        "pivotColumns": null,
        "xColumns": null,
        "yColumns": null
       },
       "removedWidgets": [],
       "schema": [
        {
         "metadata": "{}",
         "name": "season_id",
         "type": "\"long\""
        },
        {
         "metadata": "{}",
         "name": "team_id",
         "type": "\"long\""
        },
        {
         "metadata": "{}",
         "name": "team_name",
         "type": "\"string\""
        },
        {
         "metadata": "{}",
         "name": "points",
         "type": "\"long\""
        },
        {
         "metadata": "{}",
         "name": "goal_difference",
         "type": "\"long\""
        },
        {
         "metadata": "{}",
         "name": "position",
         "type": "\"integer\""
        }
       ],
       "type": "table"
      }
     },
     "output_type": "display_data"
    }
   ],
   "source": [
    "season_stats_df_3322\\\n",
    "    .withColumn(\"position\", row_number().over(window))\\\n",
    "        .select(\"season_id\", \"team_id\", \"team_name\", \"points\", \"goal_difference\", \"position\")\\\n",
    "            .orderBy(\"season_id\", \"position\", \"team_name\").display()"
   ]
  }
 ],
 "metadata": {
  "application/vnd.databricks.v1+notebook": {
   "computePreferences": {
    "hardware": {
     "accelerator": null,
     "gpuPoolId": null,
     "memory": null
    }
   },
   "dashboards": [],
   "environmentMetadata": {
    "base_environment": "",
    "environment_version": "2"
   },
   "inputWidgetPreferences": null,
   "language": "python",
   "notebookMetadata": {
    "pythonIndentUnit": 4
   },
   "notebookName": "3322. Premier League Table Ranking III (Medium)-(Solved)",
   "widgets": {}
  },
  "language_info": {
   "name": "python"
  }
 },
 "nbformat": 4,
 "nbformat_minor": 0
}
