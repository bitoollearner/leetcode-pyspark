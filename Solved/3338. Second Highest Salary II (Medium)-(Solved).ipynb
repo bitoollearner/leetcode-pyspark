{
 "cells": [
  {
   "cell_type": "markdown",
   "metadata": {
    "application/vnd.databricks.v1+cell": {
     "cellMetadata": {
      "byteLimit": 2048000,
      "rowLimit": 10000
     },
     "inputWidgets": {},
     "nuid": "7d1791bd-9552-4116-90b2-daa678bbffb8",
     "showTitle": false,
     "tableResultSettingsMap": {},
     "title": ""
    }
   },
   "source": [
    "## Importing Libraries"
   ]
  },
  {
   "cell_type": "code",
   "execution_count": 0,
   "metadata": {
    "application/vnd.databricks.v1+cell": {
     "cellMetadata": {
      "byteLimit": 2048000,
      "rowLimit": 10000
     },
     "inputWidgets": {},
     "nuid": "2901fbc9-49db-4285-8b94-c460f34d4c4f",
     "showTitle": false,
     "tableResultSettingsMap": {},
     "title": ""
    }
   },
   "outputs": [],
   "source": [
    "from pyspark.sql.functions import *\n",
    "from pyspark.sql.types import *\n",
    "from pyspark.sql.window import Window"
   ]
  },
  {
   "cell_type": "markdown",
   "metadata": {
    "application/vnd.databricks.v1+cell": {
     "cellMetadata": {
      "byteLimit": 2048000,
      "rowLimit": 10000
     },
     "inputWidgets": {},
     "nuid": "655120e7-6b25-417c-a08a-c6925feaa425",
     "showTitle": false,
     "tableResultSettingsMap": {},
     "title": ""
    }
   },
   "source": [
    "**3338. Second Highest Salary II (Medium)**\n",
    "\n",
    "**Table: employees**\n",
    "\n",
    "| Column Name      | Type    |\n",
    "|------------------|---------|\n",
    "| emp_id           | int     |\n",
    "| salary           | int     |\n",
    "| dept             | varchar |\n",
    "\n",
    "emp_id is the unique key for this table.\n",
    "Each row of this table contains information about an employee including their ID, salary, and department.\n",
    "\n",
    "**Write a solution to find the employees who earn the second-highest salary in each department. If multiple employees have the second-highest salary, include all employees with that salary.**\n",
    "\n",
    "Return the result table ordered by emp_id in ascending order.\n",
    "\n",
    "The result format is in the following example.\n",
    "\n",
    "**Example:**\n",
    "\n",
    "**Input:**\n",
    "\n",
    "**employees table:**\n",
    "\n",
    "| emp_id | salary | dept      |\n",
    "|--------|--------|-----------|\n",
    "| 1      | 70000  | Sales     |\n",
    "| 2      | 80000  | Sales     |\n",
    "| 3      | 80000  | Sales     |\n",
    "| 4      | 90000  | Sales     |\n",
    "| 5      | 55000  | IT        |\n",
    "| 6      | 65000  | IT        |\n",
    "| 7      | 65000  | IT        |\n",
    "| 8      | 50000  | Marketing |\n",
    "| 9      | 55000  | Marketing |\n",
    "| 10     | 55000  | HR        |\n",
    "\n",
    "**Output:**\n",
    "\n",
    "| emp_id | dept      |\n",
    "|--------|-----------|\n",
    "| 2      | Sales     |\n",
    "| 3      | Sales     |\n",
    "| 5      | IT        |\n",
    "| 8      | Marketing |\n",
    "\n",
    "**Explanation:**\n",
    "\n",
    "- **Sales Department:**\n",
    "  - Highest salary is 90000 (emp_id: 4)\n",
    "  - Second-highest salary is 80000 (emp_id: 2, 3)\n",
    "  - Both employees with salary 80000 are included\n",
    "- **IT Department:**\n",
    "  - Highest salary is 65000 (emp_id: 6, 7)\n",
    "  - Second-highest salary is 55000 (emp_id: 5)\n",
    "  - Only emp_id 5 is included as they have the second-highest salary\n",
    "- **Marketing Department:**\n",
    "  - Highest salary is 55000 (emp_id: 9)\n",
    "  - Second-highest salary is 50000 (emp_id: 8)\n",
    "  - Employee 8 is included\n",
    "- **HR Department:**\n",
    "  - Only has one employee\n",
    "  - Not included in the result as it has fewer than 2 employees"
   ]
  },
  {
   "cell_type": "code",
   "execution_count": 0,
   "metadata": {
    "application/vnd.databricks.v1+cell": {
     "cellMetadata": {
      "byteLimit": 2048000,
      "rowLimit": 10000
     },
     "inputWidgets": {},
     "nuid": "a2368434-0191-416c-aa1d-12cd44cf48e6",
     "showTitle": false,
     "tableResultSettingsMap": {},
     "title": ""
    }
   },
   "outputs": [
    {
     "output_type": "stream",
     "name": "stdout",
     "output_type": "stream",
     "text": [
      "+------+------+---------+\n|emp_id|salary|     dept|\n+------+------+---------+\n|     1| 70000|    Sales|\n|     2| 80000|    Sales|\n|     3| 80000|    Sales|\n|     4| 90000|    Sales|\n|     5| 55000|       IT|\n|     6| 65000|       IT|\n|     7| 65000|       IT|\n|     8| 50000|Marketing|\n|     9| 55000|Marketing|\n|    10| 55000|       HR|\n+------+------+---------+\n\n"
     ]
    }
   ],
   "source": [
    "employees_data_3338 = [\n",
    "    (1, 70000, \"Sales\"),\n",
    "    (2, 80000, \"Sales\"),\n",
    "    (3, 80000, \"Sales\"),\n",
    "    (4, 90000, \"Sales\"),\n",
    "    (5, 55000, \"IT\"),\n",
    "    (6, 65000, \"IT\"),\n",
    "    (7, 65000, \"IT\"),\n",
    "    (8, 50000, \"Marketing\"),\n",
    "    (9, 55000, \"Marketing\"),\n",
    "    (10, 55000, \"HR\"),\n",
    "]\n",
    "\n",
    "employees_columns_3338 = [\"emp_id\", \"salary\", \"dept\"]\n",
    "employees_df_3338 = spark.createDataFrame(employees_data_3338, employees_columns_3338)\n",
    "employees_df_3338.show()"
   ]
  },
  {
   "cell_type": "code",
   "execution_count": 0,
   "metadata": {
    "application/vnd.databricks.v1+cell": {
     "cellMetadata": {
      "byteLimit": 2048000,
      "rowLimit": 10000
     },
     "inputWidgets": {},
     "nuid": "5709e41e-abdf-46c6-b066-c5a0224e0039",
     "showTitle": false,
     "tableResultSettingsMap": {},
     "title": ""
    }
   },
   "outputs": [],
   "source": [
    "window_spec = Window.partitionBy(\"dept\").orderBy(col(\"salary\").desc())"
   ]
  },
  {
   "cell_type": "code",
   "execution_count": 0,
   "metadata": {
    "application/vnd.databricks.v1+cell": {
     "cellMetadata": {
      "byteLimit": 2048000,
      "rowLimit": 10000
     },
     "inputWidgets": {},
     "nuid": "64c6dba8-22c5-43ec-9e9d-9defaeede2af",
     "showTitle": false,
     "tableResultSettingsMap": {},
     "title": ""
    }
   },
   "outputs": [
    {
     "output_type": "display_data",
     "data": {
      "text/html": [
       "<style scoped>\n",
       "  .table-result-container {\n",
       "    max-height: 300px;\n",
       "    overflow: auto;\n",
       "  }\n",
       "  table, th, td {\n",
       "    border: 1px solid black;\n",
       "    border-collapse: collapse;\n",
       "  }\n",
       "  th, td {\n",
       "    padding: 5px;\n",
       "  }\n",
       "  th {\n",
       "    text-align: left;\n",
       "  }\n",
       "</style><div class='table-result-container'><table class='table-result'><thead style='background-color: white'><tr><th>emp_id</th><th>dept</th></tr></thead><tbody><tr><td>2</td><td>Sales</td></tr><tr><td>3</td><td>Sales</td></tr><tr><td>5</td><td>IT</td></tr><tr><td>8</td><td>Marketing</td></tr></tbody></table></div>"
      ]
     },
     "metadata": {
      "application/vnd.databricks.v1+output": {
       "addedWidgets": {},
       "aggData": [],
       "aggError": "",
       "aggOverflow": false,
       "aggSchema": [],
       "aggSeriesLimitReached": false,
       "aggType": "",
       "arguments": {},
       "columnCustomDisplayInfos": {},
       "data": [
        [
         2,
         "Sales"
        ],
        [
         3,
         "Sales"
        ],
        [
         5,
         "IT"
        ],
        [
         8,
         "Marketing"
        ]
       ],
       "datasetInfos": [],
       "dbfsResultPath": null,
       "isJsonSchema": true,
       "metadata": {},
       "overflow": false,
       "plotOptions": {
        "customPlotOptions": {},
        "displayType": "table",
        "pivotAggregation": null,
        "pivotColumns": null,
        "xColumns": null,
        "yColumns": null
       },
       "removedWidgets": [],
       "schema": [
        {
         "metadata": "{}",
         "name": "emp_id",
         "type": "\"long\""
        },
        {
         "metadata": "{}",
         "name": "dept",
         "type": "\"string\""
        }
       ],
       "type": "table"
      }
     },
     "output_type": "display_data"
    }
   ],
   "source": [
    "employees_df_3338\\\n",
    "    .withColumn(\"salary_rank\", dense_rank().over(window_spec))\\\n",
    "        .filter(col(\"salary_rank\") == 2)\\\n",
    "            .select(\"emp_id\", \"dept\").orderBy(\"emp_id\").display()"
   ]
  }
 ],
 "metadata": {
  "application/vnd.databricks.v1+notebook": {
   "computePreferences": {
    "hardware": {
     "accelerator": null,
     "gpuPoolId": null,
     "memory": null
    }
   },
   "dashboards": [],
   "environmentMetadata": {
    "base_environment": "",
    "environment_version": "2"
   },
   "inputWidgetPreferences": null,
   "language": "python",
   "notebookMetadata": {
    "pythonIndentUnit": 4
   },
   "notebookName": "3338. Second Highest Salary II (Medium)-(Solved)",
   "widgets": {}
  },
  "language_info": {
   "name": "python"
  }
 },
 "nbformat": 4,
 "nbformat_minor": 0
}
