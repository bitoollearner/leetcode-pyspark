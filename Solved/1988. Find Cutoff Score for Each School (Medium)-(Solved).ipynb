{
 "cells": [
  {
   "cell_type": "markdown",
   "metadata": {
    "application/vnd.databricks.v1+cell": {
     "cellMetadata": {
      "byteLimit": 2048000,
      "rowLimit": 10000
     },
     "inputWidgets": {},
     "nuid": "e405a61e-83e0-4a83-8234-4a55e28c9c87",
     "showTitle": false,
     "tableResultSettingsMap": {},
     "title": ""
    }
   },
   "source": [
    "## Importing Libraries"
   ]
  },
  {
   "cell_type": "code",
   "execution_count": 0,
   "metadata": {
    "application/vnd.databricks.v1+cell": {
     "cellMetadata": {
      "byteLimit": 2048000,
      "rowLimit": 10000
     },
     "inputWidgets": {},
     "nuid": "bb35cd35-f82a-443f-90d7-d161591cdb61",
     "showTitle": false,
     "tableResultSettingsMap": {},
     "title": ""
    }
   },
   "outputs": [],
   "source": [
    "from pyspark.sql.functions import *\n",
    "from pyspark.sql.types import *\n",
    "from pyspark.sql.window import Window"
   ]
  },
  {
   "cell_type": "markdown",
   "metadata": {
    "application/vnd.databricks.v1+cell": {
     "cellMetadata": {
      "byteLimit": 2048000,
      "rowLimit": 10000
     },
     "inputWidgets": {},
     "nuid": "29ed3054-4879-4c88-8f36-f775ffecdfe0",
     "showTitle": false,
     "tableResultSettingsMap": {},
     "title": ""
    }
   },
   "source": [
    "**1988. Find Cutoff Score for Each School (Medium)**\n",
    "\n",
    "**Table: Schools**\n",
    "\n",
    "| Column Name | Type |\n",
    "|-------------|------|\n",
    "| school_id   | int  |\n",
    "| capacity    | int  |\n",
    "\n",
    "school_id is the column with unique values for this table.\n",
    "This table contains information about the capacity of some schools. The capacity is the maximum number of students the school can accept.\n",
    " \n",
    "**Table: Exam**\n",
    "\n",
    "| Column Name   | Type |\n",
    "|---------------|------|\n",
    "| score         | int  |\n",
    "| student_count | int  |\n",
    "\n",
    "score is the column with unique values for this table.\n",
    "Each row in this table indicates that there are student_count students that got at least score points in the exam.\n",
    "The data in this table will be logically correct, meaning a row recording a higher score will have the same or smaller student_count compared to a row recording a lower score. More formally, for every two rows i and j in the table, if scorei > scorej then student_counti <= student_countj.\n",
    " \n",
    "Every year, each school announces a minimum score requirement that a student needs to apply to it. The school chooses the minimum score requirement based on the exam results of all the students:\n",
    "- They want to ensure that even if every student meeting the requirement applies, the school can accept everyone.\n",
    "- They also want to maximize the possible number of students that can apply.\n",
    "- They must use a score that is in the Exam table.\n",
    "\n",
    "**Write a solution to report the minimum score requirement for each school. If there are multiple score values satisfying the above conditions, choose the smallest one. If the input data is not enough to determine the score, report -1.**\n",
    "\n",
    "Return the result table in any order.\n",
    "\n",
    "The result format is in the following example.\n",
    "\n",
    "**Example 1:**\n",
    "\n",
    "**Input:**\n",
    "\n",
    "**Schools table:**\n",
    "\n",
    "| school_id | capacity |\n",
    "|-----------|----------|\n",
    "| 11        | 151      |\n",
    "| 5         | 48       |\n",
    "| 9         | 9        |\n",
    "| 10        | 99       |\n",
    "\n",
    "**Exam table:**\n",
    "| score | student_count |\n",
    "|-------|---------------|\n",
    "| 975   | 10            |\n",
    "| 966   | 60            |\n",
    "| 844   | 76            |\n",
    "| 749   | 76            |\n",
    "| 744   | 100           |\n",
    "\n",
    "**Output:**\n",
    "| school_id | score |\n",
    "|-----------|-------|\n",
    "| 5         | 975   |\n",
    "| 9         | -1    |\n",
    "| 10        | 749   |\n",
    "| 11        | 744   |\n",
    "\n",
    "**Explanation:** \n",
    "- School 5: The school's capacity is 48. Choosing 975 as the min score requirement, the school will get at most 10 applications, which is within capacity.\n",
    "- School 10: The school's capacity is 99. Choosing 844 or 749 as the min score requirement, the school will get at most 76 applications, which is within capacity. We choose the smallest of them, which is 749.\n",
    "- School 11: The school's capacity is 151. Choosing 744 as the min score requirement, the school will get at most 100 applications, which is within capacity.\n",
    "- School 9: The data given is not enough to determine the min score requirement. Choosing 975 as the min score, the school may get 10 requests while its capacity is 9. We do not have information about higher scores, hence we report -1."
   ]
  },
  {
   "cell_type": "code",
   "execution_count": 0,
   "metadata": {
    "application/vnd.databricks.v1+cell": {
     "cellMetadata": {
      "byteLimit": 2048000,
      "rowLimit": 10000
     },
     "inputWidgets": {},
     "nuid": "64a3f754-3c0a-4ca1-af02-4d6f736ea2e9",
     "showTitle": false,
     "tableResultSettingsMap": {},
     "title": ""
    }
   },
   "outputs": [
    {
     "output_type": "stream",
     "name": "stdout",
     "output_type": "stream",
     "text": [
      "+---------+--------+\n|school_id|capacity|\n+---------+--------+\n|       11|     151|\n|        5|      48|\n|        9|       9|\n|       10|      99|\n+---------+--------+\n\n+-----+-------------+\n|score|student_count|\n+-----+-------------+\n|  975|           10|\n|  966|           60|\n|  844|           76|\n|  749|           76|\n|  744|          100|\n+-----+-------------+\n\n"
     ]
    }
   ],
   "source": [
    "schools_data_1988 = [\n",
    "    (11, 151),\n",
    "    (5, 48),\n",
    "    (9, 9),\n",
    "    (10, 99),\n",
    "]\n",
    "\n",
    "schools_columns_1988 = [\"school_id\", \"capacity\"]\n",
    "schools_df_1988 = spark.createDataFrame(schools_data_1988, schools_columns_1988)\n",
    "schools_df_1988.show()\n",
    "\n",
    "exam_data_1988 = [\n",
    "    (975, 10),\n",
    "    (966, 60),\n",
    "    (844, 76),\n",
    "    (749, 76),\n",
    "    (744, 100),\n",
    "]\n",
    "\n",
    "exam_columns_1988 = [\"score\", \"student_count\"]\n",
    "exam_df_1988 = spark.createDataFrame(exam_data_1988, exam_columns_1988)\n",
    "exam_df_1988.show()"
   ]
  },
  {
   "cell_type": "code",
   "execution_count": 0,
   "metadata": {
    "application/vnd.databricks.v1+cell": {
     "cellMetadata": {
      "byteLimit": 2048000,
      "rowLimit": 10000
     },
     "inputWidgets": {},
     "nuid": "782befa1-5458-41db-a244-198b9dbb62aa",
     "showTitle": false,
     "tableResultSettingsMap": {},
     "title": ""
    }
   },
   "outputs": [],
   "source": [
    "eligible_df_df_1988 = schools_df_1988\\\n",
    "                        .crossJoin(exam_df_1988) \\\n",
    "                            .filter(col(\"student_count\") <= col(\"capacity\"))"
   ]
  },
  {
   "cell_type": "code",
   "execution_count": 0,
   "metadata": {
    "application/vnd.databricks.v1+cell": {
     "cellMetadata": {
      "byteLimit": 2048000,
      "rowLimit": 10000
     },
     "inputWidgets": {},
     "nuid": "df4ec4b7-d413-4d52-839d-67392b0113cc",
     "showTitle": false,
     "tableResultSettingsMap": {},
     "title": ""
    }
   },
   "outputs": [],
   "source": [
    "cutoff_df_1988 = eligible_df_df_1988\\\n",
    "                    .groupBy(\"school_id\") \\\n",
    "                        .agg(min(\"score\").alias(\"score\"))"
   ]
  },
  {
   "cell_type": "code",
   "execution_count": 0,
   "metadata": {
    "application/vnd.databricks.v1+cell": {
     "cellMetadata": {
      "byteLimit": 2048000,
      "rowLimit": 10000
     },
     "inputWidgets": {},
     "nuid": "229abb38-e52c-45a3-87e3-05027d5b0983",
     "showTitle": false,
     "tableResultSettingsMap": {},
     "title": ""
    }
   },
   "outputs": [
    {
     "output_type": "stream",
     "name": "stdout",
     "output_type": "stream",
     "text": [
      "+---------+-----+\n|school_id|score|\n+---------+-----+\n|       11|  744|\n|       10|  749|\n|        5|  975|\n|        9|   -1|\n+---------+-----+\n\n"
     ]
    }
   ],
   "source": [
    "schools_df_1988.join(cutoff_df_1988, \"school_id\", \"left\") \\\n",
    "    .withColumn(\"score\", coalesce(col(\"score\"), lit(-1))) \\\n",
    "        .select(\"school_id\", \"score\").show()"
   ]
  }
 ],
 "metadata": {
  "application/vnd.databricks.v1+notebook": {
   "computePreferences": {
    "hardware": {
     "accelerator": null,
     "gpuPoolId": null,
     "memory": null
    }
   },
   "dashboards": [],
   "environmentMetadata": {
    "base_environment": "",
    "environment_version": "2"
   },
   "inputWidgetPreferences": null,
   "language": "python",
   "notebookMetadata": {
    "pythonIndentUnit": 4
   },
   "notebookName": "1988. Find Cutoff Score for Each School (Medium)-(Solved)",
   "widgets": {}
  },
  "language_info": {
   "name": "python"
  }
 },
 "nbformat": 4,
 "nbformat_minor": 0
}
