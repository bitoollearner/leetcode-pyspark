{
 "cells": [
  {
   "cell_type": "markdown",
   "metadata": {
    "application/vnd.databricks.v1+cell": {
     "cellMetadata": {
      "byteLimit": 2048000,
      "rowLimit": 10000
     },
     "inputWidgets": {},
     "nuid": "7d1791bd-9552-4116-90b2-daa678bbffb8",
     "showTitle": false,
     "tableResultSettingsMap": {},
     "title": ""
    }
   },
   "source": [
    "## Importing Libraries"
   ]
  },
  {
   "cell_type": "code",
   "execution_count": 0,
   "metadata": {
    "application/vnd.databricks.v1+cell": {
     "cellMetadata": {
      "byteLimit": 2048000,
      "rowLimit": 10000
     },
     "inputWidgets": {},
     "nuid": "2901fbc9-49db-4285-8b94-c460f34d4c4f",
     "showTitle": false,
     "tableResultSettingsMap": {},
     "title": ""
    }
   },
   "outputs": [],
   "source": [
    "from pyspark.sql.functions import *\n",
    "from pyspark.sql.types import *\n",
    "from pyspark.sql.window import Window"
   ]
  },
  {
   "cell_type": "markdown",
   "metadata": {
    "application/vnd.databricks.v1+cell": {
     "cellMetadata": {
      "byteLimit": 2048000,
      "rowLimit": 10000
     },
     "inputWidgets": {},
     "nuid": "655120e7-6b25-417c-a08a-c6925feaa425",
     "showTitle": false,
     "tableResultSettingsMap": {},
     "title": ""
    }
   },
   "source": [
    "**3126. Server Utilization Time (Medium)**\n",
    "\n",
    "**Table: Servers**\n",
    "\n",
    "| Column Name    | Type     |\n",
    "|----------------|----------|\n",
    "| server_id      | int      |\n",
    "| status_time    | datetime |\n",
    "| session_status | enum     |\n",
    "\n",
    "(server_id, status_time, session_status) is the primary key (combination of columns with unique values) for this table.\n",
    "session_status is an ENUM (category) type of ('start', 'stop').\n",
    "Each row of this table contains server_id, status_time, and session_status.\n",
    "\n",
    "**Write a solution to find the total time when servers were running. The output should be rounded down to the nearest number of full days.**\n",
    "\n",
    "Return the result table in any order.\n",
    "\n",
    "The result format is in the following example.\n",
    "\n",
    "**Example:**\n",
    "\n",
    "**Input:**\n",
    "\n",
    "**Servers table:**\n",
    "\n",
    "| server_id | status_time         | session_status |\n",
    "|-----------|---------------------|----------------|\n",
    "| 3         | 2023-11-04 16:29:47 | start          |\n",
    "| 3         | 2023-11-05 01:49:47 | stop           |\n",
    "| 3         | 2023-11-25 01:37:08 | start          |\n",
    "| 3         | 2023-11-25 03:50:08 | stop           |\n",
    "| 1         | 2023-11-13 03:05:31 | start          |\n",
    "| 1         | 2023-11-13 11:10:31 | stop           |\n",
    "| 4         | 2023-11-29 15:11:17 | start          |\n",
    "| 4         | 2023-11-29 15:42:17 | stop           |\n",
    "| 4         | 2023-11-20 00:31:44 | start          |\n",
    "| 4         | 2023-11-20 07:03:44 | stop           |\n",
    "| 1         | 2023-11-20 00:27:11 | start          |\n",
    "| 1         | 2023-11-20 01:41:11 | stop           |\n",
    "| 3         | 2023-11-04 23:16:48 | start          |\n",
    "| 3         | 2023-11-05 01:15:48 | stop           |\n",
    "| 4         | 2023-11-30 15:09:18 | start          |\n",
    "| 4         | 2023-11-30 20:48:18 | stop           |\n",
    "| 4         | 2023-11-25 21:09:06 | start          |\n",
    "| 4         | 2023-11-26 04:58:06 | stop           |\n",
    "| 5         | 2023-11-16 19:42:22 | start          |\n",
    "| 5         | 2023-11-16 21:08:22 | stop           |\n",
    "\n",
    "**Output:**\n",
    "\n",
    "| total_uptime_days |\n",
    "|-------------------|\n",
    "| 1                 |\n",
    "\n",
    "**Explanation:**\n",
    "- For server ID 3:\n",
    "- From 2023-11-04 16:29:47 to 2023-11-05 01:49:47: ~9.3 hours\n",
    "- From 2023-11-25 01:37:08 to 2023-11-25 03:50:08: ~2.2 hours\n",
    "- From 2023-11-04 23:16:48 to 2023-11-05 01:15:48: ~1.98 hours\n",
    "\n",
    "Total for server 3: ~13.48 hours\n",
    "- For server ID 1:\n",
    "- From 2023-11-13 03:05:31 to 2023-11-13 11:10:31: ~8 hours\n",
    "- From 2023-11-20 00:27:11 to 2023-11-20 01:41:11: ~1.23 hours\n",
    "\n",
    "Total for server 1: ~9.23 hours\n",
    "- For server ID 4:\n",
    "- From 2023-11-29 15:11:17 to 2023-11-29 15:42:17: ~0.52 hours\n",
    "- From 2023-11-20 00:31:44 to 2023-11-20 07:03:44: ~6.53 hours\n",
    "- From 2023-11-30 15:09:18 to 2023-11-30 20:48:18: ~5.65 hours\n",
    "- From 2023-11-25 21:09:06 to 2023-11-26 04:58:06: ~7.82 hours\n",
    "\n",
    "Total for server 4: ~20.52 hours\n",
    "- For server ID 5:\n",
    "- From 2023-11-16 19:42:22 to 2023-11-16 21:08:22: ~1.43 hours\n",
    "\n",
    "Total for server 5: ~1.43 hours\n",
    "\n",
    "The accumulated runtime for all servers totals approximately 44.46 hours, equivalent to one full day plus some additional hours. However, since we consider only full days, the final output is rounded to 1 full day."
   ]
  },
  {
   "cell_type": "code",
   "execution_count": 0,
   "metadata": {
    "application/vnd.databricks.v1+cell": {
     "cellMetadata": {
      "byteLimit": 2048000,
      "rowLimit": 10000
     },
     "inputWidgets": {},
     "nuid": "a2368434-0191-416c-aa1d-12cd44cf48e6",
     "showTitle": false,
     "tableResultSettingsMap": {},
     "title": ""
    }
   },
   "outputs": [
    {
     "output_type": "stream",
     "name": "stdout",
     "output_type": "stream",
     "text": [
      "+---------+-------------------+--------------+\n|server_id|        status_time|session_status|\n+---------+-------------------+--------------+\n|        3|2023-11-04 16:29:47|         start|\n|        3|2023-11-05 01:49:47|          stop|\n|        3|2023-11-25 01:37:08|         start|\n|        3|2023-11-25 03:50:08|          stop|\n|        1|2023-11-13 03:05:31|         start|\n|        1|2023-11-13 11:10:31|          stop|\n|        4|2023-11-29 15:11:17|         start|\n|        4|2023-11-29 15:42:17|          stop|\n|        4|2023-11-20 00:31:44|         start|\n|        4|2023-11-20 07:03:44|          stop|\n|        1|2023-11-20 00:27:11|         start|\n|        1|2023-11-20 01:41:11|          stop|\n|        3|2023-11-04 23:16:48|         start|\n|        3|2023-11-05 01:15:48|          stop|\n|        4|2023-11-30 15:09:18|         start|\n|        4|2023-11-30 20:48:18|          stop|\n|        4|2023-11-25 21:09:06|         start|\n|        4|2023-11-26 04:58:06|          stop|\n|        5|2023-11-16 19:42:22|         start|\n|        5|2023-11-16 21:08:22|          stop|\n+---------+-------------------+--------------+\n\n"
     ]
    }
   ],
   "source": [
    "servers_data_3126 = [\n",
    "    (3, \"2023-11-04 16:29:47\", \"start\"),\n",
    "    (3, \"2023-11-05 01:49:47\", \"stop\"),\n",
    "    (3, \"2023-11-25 01:37:08\", \"start\"),\n",
    "    (3, \"2023-11-25 03:50:08\", \"stop\"),\n",
    "    (1, \"2023-11-13 03:05:31\", \"start\"),\n",
    "    (1, \"2023-11-13 11:10:31\", \"stop\"),\n",
    "    (4, \"2023-11-29 15:11:17\", \"start\"),\n",
    "    (4, \"2023-11-29 15:42:17\", \"stop\"),\n",
    "    (4, \"2023-11-20 00:31:44\", \"start\"),\n",
    "    (4, \"2023-11-20 07:03:44\", \"stop\"),\n",
    "    (1, \"2023-11-20 00:27:11\", \"start\"),\n",
    "    (1, \"2023-11-20 01:41:11\", \"stop\"),\n",
    "    (3, \"2023-11-04 23:16:48\", \"start\"),\n",
    "    (3, \"2023-11-05 01:15:48\", \"stop\"),\n",
    "    (4, \"2023-11-30 15:09:18\", \"start\"),\n",
    "    (4, \"2023-11-30 20:48:18\", \"stop\"),\n",
    "    (4, \"2023-11-25 21:09:06\", \"start\"),\n",
    "    (4, \"2023-11-26 04:58:06\", \"stop\"),\n",
    "    (5, \"2023-11-16 19:42:22\", \"start\"),\n",
    "    (5, \"2023-11-16 21:08:22\", \"stop\"),\n",
    "]\n",
    "\n",
    "servers_columns_3126 = [\"server_id\", \"status_time\", \"session_status\"]\n",
    "servers_df_3126 = spark.createDataFrame(servers_data_3126, servers_columns_3126)\n",
    "servers_df_3126.show()\n"
   ]
  },
  {
   "cell_type": "code",
   "execution_count": 0,
   "metadata": {
    "application/vnd.databricks.v1+cell": {
     "cellMetadata": {
      "byteLimit": 2048000,
      "rowLimit": 10000
     },
     "inputWidgets": {},
     "nuid": "fcb0d387-8f16-4268-baa8-c558e33d23a9",
     "showTitle": false,
     "tableResultSettingsMap": {},
     "title": ""
    }
   },
   "outputs": [],
   "source": [
    "servers_df_3126 = servers_df_3126\\\n",
    "                    .withColumn(\"status_time\", col(\"status_time\").cast(\"timestamp\"))"
   ]
  },
  {
   "cell_type": "code",
   "execution_count": 0,
   "metadata": {
    "application/vnd.databricks.v1+cell": {
     "cellMetadata": {
      "byteLimit": 2048000,
      "rowLimit": 10000
     },
     "inputWidgets": {},
     "nuid": "e0e75e74-c064-47dd-91f7-c74fb8aceed7",
     "showTitle": false,
     "tableResultSettingsMap": {},
     "title": ""
    }
   },
   "outputs": [],
   "source": [
    "window_spec = Window.partitionBy(\"server_id\").orderBy(\"status_time\")"
   ]
  },
  {
   "cell_type": "code",
   "execution_count": 0,
   "metadata": {
    "application/vnd.databricks.v1+cell": {
     "cellMetadata": {
      "byteLimit": 2048000,
      "rowLimit": 10000
     },
     "inputWidgets": {},
     "nuid": "f0c3fc73-691b-404a-8811-84a13c17399b",
     "showTitle": false,
     "tableResultSettingsMap": {},
     "title": ""
    }
   },
   "outputs": [],
   "source": [
    "servers_with_lag_3126 = servers_df_3126\\\n",
    "                            .withColumn( \"prev_status\", lag(\"session_status\").over(window_spec))\\\n",
    "                                .withColumn( \"prev_time\", lag(\"status_time\").over(window_spec))"
   ]
  },
  {
   "cell_type": "code",
   "execution_count": 0,
   "metadata": {
    "application/vnd.databricks.v1+cell": {
     "cellMetadata": {
      "byteLimit": 2048000,
      "rowLimit": 10000
     },
     "inputWidgets": {},
     "nuid": "1c18c46a-459e-44dd-8c8b-0463d9ba597f",
     "showTitle": false,
     "tableResultSettingsMap": {},
     "title": ""
    }
   },
   "outputs": [],
   "source": [
    "durations_3126 = servers_with_lag_3126\\\n",
    "                        .filter( (col(\"session_status\") == \"stop\") & (col(\"prev_status\") == \"start\"))\\\n",
    "                            .withColumn( \"session_seconds\", unix_timestamp(\"status_time\") - unix_timestamp(\"prev_time\"))"
   ]
  },
  {
   "cell_type": "code",
   "execution_count": 0,
   "metadata": {
    "application/vnd.databricks.v1+cell": {
     "cellMetadata": {
      "byteLimit": 2048000,
      "rowLimit": 10000
     },
     "inputWidgets": {},
     "nuid": "9b51a8b9-29f6-496c-b73a-946e907f64f4",
     "showTitle": false,
     "tableResultSettingsMap": {},
     "title": ""
    }
   },
   "outputs": [],
   "source": [
    "total_seconds_3126 = durations_3126\\\n",
    "                        .agg(sum(\"session_seconds\").alias(\"total_seconds\")).collect()[0][\"total_seconds\"]"
   ]
  },
  {
   "cell_type": "code",
   "execution_count": 0,
   "metadata": {
    "application/vnd.databricks.v1+cell": {
     "cellMetadata": {
      "byteLimit": 2048000,
      "rowLimit": 10000
     },
     "inputWidgets": {},
     "nuid": "f8822ca1-2194-4a64-adaa-411dc0b4914d",
     "showTitle": false,
     "tableResultSettingsMap": {},
     "title": ""
    }
   },
   "outputs": [],
   "source": [
    "total_days_3126 = int(total_seconds_3126 // (24 * 3600))"
   ]
  },
  {
   "cell_type": "code",
   "execution_count": 0,
   "metadata": {
    "application/vnd.databricks.v1+cell": {
     "cellMetadata": {
      "byteLimit": 2048000,
      "rowLimit": 10000
     },
     "inputWidgets": {},
     "nuid": "61c19077-4364-46f8-b20c-2d0bacc3d499",
     "showTitle": false,
     "tableResultSettingsMap": {},
     "title": ""
    }
   },
   "outputs": [
    {
     "output_type": "display_data",
     "data": {
      "text/html": [
       "<style scoped>\n",
       "  .table-result-container {\n",
       "    max-height: 300px;\n",
       "    overflow: auto;\n",
       "  }\n",
       "  table, th, td {\n",
       "    border: 1px solid black;\n",
       "    border-collapse: collapse;\n",
       "  }\n",
       "  th, td {\n",
       "    padding: 5px;\n",
       "  }\n",
       "  th {\n",
       "    text-align: left;\n",
       "  }\n",
       "</style><div class='table-result-container'><table class='table-result'><thead style='background-color: white'><tr><th>total_uptime_days</th></tr></thead><tbody><tr><td>1</td></tr></tbody></table></div>"
      ]
     },
     "metadata": {
      "application/vnd.databricks.v1+output": {
       "addedWidgets": {},
       "aggData": [],
       "aggError": "",
       "aggOverflow": false,
       "aggSchema": [],
       "aggSeriesLimitReached": false,
       "aggType": "",
       "arguments": {},
       "columnCustomDisplayInfos": {},
       "data": [
        [
         1
        ]
       ],
       "datasetInfos": [],
       "dbfsResultPath": null,
       "isJsonSchema": true,
       "metadata": {},
       "overflow": false,
       "plotOptions": {
        "customPlotOptions": {},
        "displayType": "table",
        "pivotAggregation": null,
        "pivotColumns": null,
        "xColumns": null,
        "yColumns": null
       },
       "removedWidgets": [],
       "schema": [
        {
         "metadata": "{}",
         "name": "total_uptime_days",
         "type": "\"long\""
        }
       ],
       "type": "table"
      }
     },
     "output_type": "display_data"
    }
   ],
   "source": [
    "result = spark.createDataFrame([(total_days_3126,)], [\"total_uptime_days\"])\n",
    "result.display()\n"
   ]
  }
 ],
 "metadata": {
  "application/vnd.databricks.v1+notebook": {
   "computePreferences": {
    "hardware": {
     "accelerator": null,
     "gpuPoolId": null,
     "memory": null
    }
   },
   "dashboards": [],
   "environmentMetadata": {
    "base_environment": "",
    "environment_version": "2"
   },
   "inputWidgetPreferences": null,
   "language": "python",
   "notebookMetadata": {
    "pythonIndentUnit": 4
   },
   "notebookName": "3126. Server Utilization Time (Medium)-(Solved)",
   "widgets": {}
  },
  "language_info": {
   "name": "python"
  }
 },
 "nbformat": 4,
 "nbformat_minor": 0
}
