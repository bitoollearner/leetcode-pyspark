{
 "cells": [
  {
   "cell_type": "markdown",
   "metadata": {
    "application/vnd.databricks.v1+cell": {
     "cellMetadata": {},
     "inputWidgets": {},
     "nuid": "4e9d71b1-88e9-445c-820a-b842e217a4e7",
     "showTitle": false,
     "tableResultSettingsMap": {},
     "title": ""
    }
   },
   "source": [
    "## Importing Libraries"
   ]
  },
  {
   "cell_type": "code",
   "execution_count": 0,
   "metadata": {
    "application/vnd.databricks.v1+cell": {
     "cellMetadata": {},
     "inputWidgets": {},
     "nuid": "e6624c4d-8cb8-4ac4-8c72-81d1b4ecdb57",
     "showTitle": false,
     "tableResultSettingsMap": {},
     "title": ""
    }
   },
   "outputs": [],
   "source": [
    "from pyspark.sql.functions import *\n",
    "from pyspark.sql.types import *\n",
    "from pyspark.sql.window import Window"
   ]
  },
  {
   "cell_type": "markdown",
   "metadata": {
    "application/vnd.databricks.v1+cell": {
     "cellMetadata": {},
     "inputWidgets": {},
     "nuid": "c3788fe5-f4c9-420f-ad72-ec1a39310a2a",
     "showTitle": false,
     "tableResultSettingsMap": {},
     "title": ""
    }
   },
   "source": [
    "**2504. Concatenate the Name and the Profession (Easy)**\n",
    "\n",
    "**Table: Person**\n",
    "\n",
    "| Column Name | Type    |\n",
    "|-------------|---------|\n",
    "| person_id   | int     |\n",
    "| name        | varchar |\n",
    "| profession  | ENUM    |\n",
    "\n",
    "person_id is the primary key (column with a unique value) for this table.\n",
    "Each row in this table contains a person's ID, name, and profession.\n",
    "The profession column in an enum of the type ('Doctor', 'Singer', 'Actor', 'Player', 'Engineer', or 'Lawyer')\n",
    " \n",
    "**Write a solution to report each person's name followed by the first letter of their profession enclosed in parentheses.**\n",
    "\n",
    "Return the result table ordered by person_id in descending order.\n",
    "\n",
    "The result format is shown in the following example.\n",
    "\n",
    "**Example 1:**\n",
    "\n",
    "**Input:** \n",
    "\n",
    "**Person table:**\n",
    "\n",
    "| person_id | name  | profession |\n",
    "|-----------|-------|------------|\n",
    "| 1         | Alex  | Singer     |\n",
    "| 3         | Alice | Actor      |\n",
    "| 2         | Bob   | Player     |\n",
    "| 4         | Messi | Doctor     |\n",
    "| 6         | Tyson | Engineer   |\n",
    "| 5         | Meir  | Lawyer     |\n",
    "\n",
    "**Output:** \n",
    "| person_id | name     |\n",
    "|-----------|----------|\n",
    "| 6         | Tyson(E) |\n",
    "| 5         | Meir(L)  |\n",
    "| 4         | Messi(D) |\n",
    "| 3         | Alice(A) |\n",
    "| 2         | Bob(P)   |\n",
    "| 1         | Alex(S)  |\n",
    "\n",
    "**Explanation:** Note that there should not be any white space between the name and the first letter of the profession."
   ]
  },
  {
   "cell_type": "code",
   "execution_count": 0,
   "metadata": {
    "application/vnd.databricks.v1+cell": {
     "cellMetadata": {},
     "inputWidgets": {},
     "nuid": "137536ea-9bec-4171-8dc2-4bf8b0d771b4",
     "showTitle": false,
     "tableResultSettingsMap": {},
     "title": ""
    }
   },
   "outputs": [],
   "source": [
    "person_data_2504 = [\n",
    "    (1, \"Alex\", \"Singer\"),\n",
    "    (3, \"Alice\", \"Actor\"),\n",
    "    (2, \"Bob\", \"Player\"),\n",
    "    (4, \"Messi\", \"Doctor\"),\n",
    "    (6, \"Tyson\", \"Engineer\"),\n",
    "    (5, \"Meir\", \"Lawyer\"),\n",
    "]\n",
    "\n",
    "person_columns_2504 = [\"person_id\", \"name\", \"profession\"]\n",
    "person_df_2504 = spark.createDataFrame(person_data_2504, person_columns_2504)\n",
    "person_df_2504.show()"
   ]
  }
 ],
 "metadata": {
  "application/vnd.databricks.v1+notebook": {
   "computePreferences": null,
   "dashboards": [],
   "environmentMetadata": {
    "base_environment": "",
    "environment_version": "1"
   },
   "inputWidgetPreferences": null,
   "language": "python",
   "notebookMetadata": {
    "pythonIndentUnit": 4
   },
   "notebookName": "2504. Concatenate the Name and the Profession (Easy)-(Solved)",
   "widgets": {}
  },
  "language_info": {
   "name": "python"
  }
 },
 "nbformat": 4,
 "nbformat_minor": 0
}
