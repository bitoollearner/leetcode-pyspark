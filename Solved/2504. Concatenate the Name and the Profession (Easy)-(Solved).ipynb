{
 "cells": [
  {
   "cell_type": "markdown",
   "metadata": {
    "application/vnd.databricks.v1+cell": {
     "cellMetadata": {
      "byteLimit": 2048000,
      "rowLimit": 10000
     },
     "inputWidgets": {},
     "nuid": "4e9d71b1-88e9-445c-820a-b842e217a4e7",
     "showTitle": false,
     "tableResultSettingsMap": {},
     "title": ""
    }
   },
   "source": [
    "## Importing Libraries"
   ]
  },
  {
   "cell_type": "code",
   "execution_count": 0,
   "metadata": {
    "application/vnd.databricks.v1+cell": {
     "cellMetadata": {
      "byteLimit": 2048000,
      "rowLimit": 10000
     },
     "inputWidgets": {},
     "nuid": "e6624c4d-8cb8-4ac4-8c72-81d1b4ecdb57",
     "showTitle": false,
     "tableResultSettingsMap": {},
     "title": ""
    }
   },
   "outputs": [],
   "source": [
    "from pyspark.sql.functions import *\n",
    "from pyspark.sql.types import *\n",
    "from pyspark.sql.window import Window"
   ]
  },
  {
   "cell_type": "markdown",
   "metadata": {
    "application/vnd.databricks.v1+cell": {
     "cellMetadata": {
      "byteLimit": 2048000,
      "rowLimit": 10000
     },
     "inputWidgets": {},
     "nuid": "c3788fe5-f4c9-420f-ad72-ec1a39310a2a",
     "showTitle": false,
     "tableResultSettingsMap": {},
     "title": ""
    }
   },
   "source": [
    "**2504. Concatenate the Name and the Profession (Easy)**\n",
    "\n",
    "**Table: Person**\n",
    "\n",
    "| Column Name | Type    |\n",
    "|-------------|---------|\n",
    "| person_id   | int     |\n",
    "| name        | varchar |\n",
    "| profession  | ENUM    |\n",
    "\n",
    "person_id is the primary key (column with a unique value) for this table.\n",
    "Each row in this table contains a person's ID, name, and profession.\n",
    "The profession column in an enum of the type ('Doctor', 'Singer', 'Actor', 'Player', 'Engineer', or 'Lawyer')\n",
    " \n",
    "**Write a solution to report each person's name followed by the first letter of their profession enclosed in parentheses.**\n",
    "\n",
    "Return the result table ordered by person_id in descending order.\n",
    "\n",
    "The result format is shown in the following example.\n",
    "\n",
    "**Example 1:**\n",
    "\n",
    "**Input:** \n",
    "\n",
    "**Person table:**\n",
    "\n",
    "| person_id | name  | profession |\n",
    "|-----------|-------|------------|\n",
    "| 1         | Alex  | Singer     |\n",
    "| 3         | Alice | Actor      |\n",
    "| 2         | Bob   | Player     |\n",
    "| 4         | Messi | Doctor     |\n",
    "| 6         | Tyson | Engineer   |\n",
    "| 5         | Meir  | Lawyer     |\n",
    "\n",
    "**Output:** \n",
    "| person_id | name     |\n",
    "|-----------|----------|\n",
    "| 6         | Tyson(E) |\n",
    "| 5         | Meir(L)  |\n",
    "| 4         | Messi(D) |\n",
    "| 3         | Alice(A) |\n",
    "| 2         | Bob(P)   |\n",
    "| 1         | Alex(S)  |\n",
    "\n",
    "**Explanation:** Note that there should not be any white space between the name and the first letter of the profession."
   ]
  },
  {
   "cell_type": "code",
   "execution_count": 0,
   "metadata": {
    "application/vnd.databricks.v1+cell": {
     "cellMetadata": {
      "byteLimit": 2048000,
      "rowLimit": 10000
     },
     "inputWidgets": {},
     "nuid": "137536ea-9bec-4171-8dc2-4bf8b0d771b4",
     "showTitle": false,
     "tableResultSettingsMap": {},
     "title": ""
    }
   },
   "outputs": [
    {
     "output_type": "stream",
     "name": "stdout",
     "output_type": "stream",
     "text": [
      "+---------+-----+----------+\n|person_id| name|profession|\n+---------+-----+----------+\n|        1| Alex|    Singer|\n|        3|Alice|     Actor|\n|        2|  Bob|    Player|\n|        4|Messi|    Doctor|\n|        6|Tyson|  Engineer|\n|        5| Meir|    Lawyer|\n+---------+-----+----------+\n\n"
     ]
    }
   ],
   "source": [
    "person_data_2504 = [\n",
    "    (1, \"Alex\", \"Singer\"),\n",
    "    (3, \"Alice\", \"Actor\"),\n",
    "    (2, \"Bob\", \"Player\"),\n",
    "    (4, \"Messi\", \"Doctor\"),\n",
    "    (6, \"Tyson\", \"Engineer\"),\n",
    "    (5, \"Meir\", \"Lawyer\"),\n",
    "]\n",
    "\n",
    "person_columns_2504 = [\"person_id\", \"name\", \"profession\"]\n",
    "person_df_2504 = spark.createDataFrame(person_data_2504, person_columns_2504)\n",
    "person_df_2504.show()"
   ]
  },
  {
   "cell_type": "code",
   "execution_count": 0,
   "metadata": {
    "application/vnd.databricks.v1+cell": {
     "cellMetadata": {
      "byteLimit": 2048000,
      "rowLimit": 10000
     },
     "inputWidgets": {},
     "nuid": "17c315fb-9f1d-498f-93f8-a578e85131b9",
     "showTitle": false,
     "tableResultSettingsMap": {},
     "title": ""
    }
   },
   "outputs": [
    {
     "output_type": "display_data",
     "data": {
      "text/html": [
       "<style scoped>\n",
       "  .table-result-container {\n",
       "    max-height: 300px;\n",
       "    overflow: auto;\n",
       "  }\n",
       "  table, th, td {\n",
       "    border: 1px solid black;\n",
       "    border-collapse: collapse;\n",
       "  }\n",
       "  th, td {\n",
       "    padding: 5px;\n",
       "  }\n",
       "  th {\n",
       "    text-align: left;\n",
       "  }\n",
       "</style><div class='table-result-container'><table class='table-result'><thead style='background-color: white'><tr><th>person_id</th><th>name</th></tr></thead><tbody><tr><td>6</td><td>Tyson(E)</td></tr><tr><td>5</td><td>Meir(L)</td></tr><tr><td>4</td><td>Messi(D)</td></tr><tr><td>3</td><td>Alice(A)</td></tr><tr><td>2</td><td>Bob(P)</td></tr><tr><td>1</td><td>Alex(S)</td></tr></tbody></table></div>"
      ]
     },
     "metadata": {
      "application/vnd.databricks.v1+output": {
       "addedWidgets": {},
       "aggData": [],
       "aggError": "",
       "aggOverflow": false,
       "aggSchema": [],
       "aggSeriesLimitReached": false,
       "aggType": "",
       "arguments": {},
       "columnCustomDisplayInfos": {},
       "data": [
        [
         6,
         "Tyson(E)"
        ],
        [
         5,
         "Meir(L)"
        ],
        [
         4,
         "Messi(D)"
        ],
        [
         3,
         "Alice(A)"
        ],
        [
         2,
         "Bob(P)"
        ],
        [
         1,
         "Alex(S)"
        ]
       ],
       "datasetInfos": [],
       "dbfsResultPath": null,
       "isJsonSchema": true,
       "metadata": {},
       "overflow": false,
       "plotOptions": {
        "customPlotOptions": {},
        "displayType": "table",
        "pivotAggregation": null,
        "pivotColumns": null,
        "xColumns": null,
        "yColumns": null
       },
       "removedWidgets": [],
       "schema": [
        {
         "metadata": "{}",
         "name": "person_id",
         "type": "\"long\""
        },
        {
         "metadata": "{}",
         "name": "name",
         "type": "\"string\""
        }
       ],
       "type": "table"
      }
     },
     "output_type": "display_data"
    }
   ],
   "source": [
    "person_df_2504\\\n",
    "    .withColumn( \"name\", concat(col(\"name\"), lit(\"(\"), substring(col(\"profession\"), 1, 1), lit(\")\")))\\\n",
    "        .select(\"person_id\", \"name\") \\\n",
    "            .orderBy(col(\"person_id\").desc()).display()"
   ]
  }
 ],
 "metadata": {
  "application/vnd.databricks.v1+notebook": {
   "computePreferences": {
    "hardware": {
     "accelerator": null,
     "gpuPoolId": null,
     "memory": null
    }
   },
   "dashboards": [],
   "environmentMetadata": {
    "base_environment": "",
    "environment_version": "2"
   },
   "inputWidgetPreferences": null,
   "language": "python",
   "notebookMetadata": {
    "pythonIndentUnit": 4
   },
   "notebookName": "2504. Concatenate the Name and the Profession (Easy)-(Solved)",
   "widgets": {}
  },
  "language_info": {
   "name": "python"
  }
 },
 "nbformat": 4,
 "nbformat_minor": 0
}
