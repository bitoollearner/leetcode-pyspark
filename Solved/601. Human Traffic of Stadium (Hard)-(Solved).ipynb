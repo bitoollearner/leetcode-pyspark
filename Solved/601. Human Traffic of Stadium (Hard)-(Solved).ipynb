{
 "cells": [
  {
   "cell_type": "markdown",
   "metadata": {
    "application/vnd.databricks.v1+cell": {
     "cellMetadata": {
      "byteLimit": 2048000,
      "rowLimit": 10000
     },
     "inputWidgets": {},
     "nuid": "5ab27f1b-7c08-44cb-8766-b16c3470b90d",
     "showTitle": false,
     "tableResultSettingsMap": {},
     "title": ""
    }
   },
   "source": [
    "## Importing Libraries"
   ]
  },
  {
   "cell_type": "code",
   "execution_count": 0,
   "metadata": {
    "application/vnd.databricks.v1+cell": {
     "cellMetadata": {
      "byteLimit": 2048000,
      "rowLimit": 10000
     },
     "inputWidgets": {},
     "nuid": "0d316502-e6b4-4432-b3fd-6159096e4951",
     "showTitle": false,
     "tableResultSettingsMap": {},
     "title": ""
    }
   },
   "outputs": [],
   "source": [
    "from pyspark.sql.functions import *\n",
    "from pyspark.sql.types import *\n",
    "from pyspark.sql.window import Window"
   ]
  },
  {
   "cell_type": "markdown",
   "metadata": {
    "application/vnd.databricks.v1+cell": {
     "cellMetadata": {
      "byteLimit": 2048000,
      "rowLimit": 10000
     },
     "inputWidgets": {},
     "nuid": "2e4d3e31-be24-427a-bc7e-362b6765c4fa",
     "showTitle": false,
     "tableResultSettingsMap": {},
     "title": ""
    }
   },
   "source": [
    "**601. Human Traffic of Stadium (Hard)**\n",
    "\n",
    "**Table: Stadium**\n",
    "\n",
    "| Column Name   | Type    |\n",
    "|---------------|---------|\n",
    "| id            | int     |\n",
    "| visit_date    | date    |\n",
    "| people        | int     |\n",
    "\n",
    "visit_date is the column with unique values for this table.\n",
    "Each row of this table contains the visit date and visit id to the stadium with the number of people during the visit.\n",
    "As the id increases, the date increases as well.\n",
    " \n",
    "**Write a solution to display the records with three or more rows with consecutive id's, and the number of people is greater than or equal to 100 for each.**\n",
    "\n",
    "Return the result table ordered by visit_date in ascending order.\n",
    "\n",
    "The result format is in the following example.\n",
    "\n",
    "**Example 1:**\n",
    "\n",
    "**Input:**\n",
    "**Stadium table:**\n",
    "| id   | visit_date | people    |\n",
    "|------|------------|-----------|\n",
    "| 1    | 2017-01-01 | 10        |\n",
    "| 2    | 2017-01-02 | 109       |\n",
    "| 3    | 2017-01-03 | 150       |\n",
    "| 4    | 2017-01-04 | 99        |\n",
    "| 5    | 2017-01-05 | 145       |\n",
    "| 6    | 2017-01-06 | 1455      |\n",
    "| 7    | 2017-01-07 | 199       |\n",
    "| 8    | 2017-01-09 | 188       |\n",
    "\n",
    "**Output:**\n",
    "| id   | visit_date | people    |\n",
    "|------|------------|-----------|\n",
    "| 5    | 2017-01-05 | 145       |\n",
    "| 6    | 2017-01-06 | 1455      |\n",
    "| 7    | 2017-01-07 | 199       |\n",
    "| 8    | 2017-01-09 | 188       |\n",
    "\n",
    "**Explanation:**\n",
    "The four rows with ids 5, 6, 7, and 8 have consecutive ids and each of them has >= 100 people attended. Note that row 8 was included even though the visit_date was not the next day after row 7.\n",
    "The rows with ids 2 and 3 are not included because we need at least three consecutive ids."
   ]
  },
  {
   "cell_type": "code",
   "execution_count": 0,
   "metadata": {
    "application/vnd.databricks.v1+cell": {
     "cellMetadata": {
      "byteLimit": 2048000,
      "rowLimit": 10000
     },
     "inputWidgets": {},
     "nuid": "f6f11a82-8828-41ca-828a-e88f8586b97a",
     "showTitle": false,
     "tableResultSettingsMap": {},
     "title": ""
    }
   },
   "outputs": [],
   "source": [
    "stadium_data_601 = [\n",
    "    (1, '2017-01-01', 10),\n",
    "    (2, '2017-01-02', 109),\n",
    "    (3, '2017-01-03', 150),\n",
    "    (4, '2017-01-04', 99),\n",
    "    (5, '2017-01-05', 145),\n",
    "    (6, '2017-01-06', 1455),\n",
    "    (7, '2017-01-07', 199),\n",
    "    (8, '2017-01-09', 188)\n",
    "]\n",
    "\n",
    "stadium_columns_601 = [\"id\", \"visit_date\", \"people\"]\n",
    "stadium_df_601 = spark.createDataFrame(stadium_data_601, stadium_columns_601)\n",
    "stadium_df_601.show()"
   ]
  },
  {
   "cell_type": "code",
   "execution_count": 0,
   "metadata": {
    "application/vnd.databricks.v1+cell": {
     "cellMetadata": {
      "byteLimit": 2048000,
      "rowLimit": 10000
     },
     "inputWidgets": {},
     "nuid": "3782a28a-5f25-4030-97c5-84c6d999d2c2",
     "showTitle": false,
     "tableResultSettingsMap": {},
     "title": ""
    }
   },
   "outputs": [],
   "source": [
    "windowSpec = Window.orderBy(\"id\")\n",
    "\n",
    "stadium_df_601 = stadium_df_601.withColumn(\"prev_id\", lag(\"id\", 1).over(windowSpec))\n",
    "stadium_df_601 = stadium_df_601.withColumn(\"next_id\", lead(\"id\", 1).over(windowSpec))"
   ]
  },
  {
   "cell_type": "code",
   "execution_count": 0,
   "metadata": {
    "application/vnd.databricks.v1+cell": {
     "cellMetadata": {
      "byteLimit": 2048000,
      "rowLimit": 10000
     },
     "inputWidgets": {},
     "nuid": "48279fbe-7227-4057-9509-07c44ba86d85",
     "showTitle": false,
     "tableResultSettingsMap": {},
     "title": ""
    }
   },
   "outputs": [],
   "source": [
    "stadium_df_601 = stadium_df_601.withColumn(\"consecutive_group\", \n",
    "                   when((col(\"people\") >= 100) & \n",
    "                        (col(\"prev_id\") == col(\"id\") - 1) & \n",
    "                        (col(\"next_id\") == col(\"id\") + 1), 1).otherwise(0))"
   ]
  },
  {
   "cell_type": "code",
   "execution_count": 0,
   "metadata": {
    "application/vnd.databricks.v1+cell": {
     "cellMetadata": {
      "byteLimit": 2048000,
      "rowLimit": 10000
     },
     "inputWidgets": {},
     "nuid": "b3ee790b-06dc-4ce5-983f-8ed3dae2b8b4",
     "showTitle": false,
     "tableResultSettingsMap": {},
     "title": ""
    }
   },
   "outputs": [],
   "source": [
    "stadium_df_601\\\n",
    "        .withColumn(\"group_sum\", sum(\"consecutive_group\").over(windowSpec))\\\n",
    "            .filter(col(\"group_sum\") >= 3).select(\"id\", \"visit_date\", \"people\").orderBy(\"visit_date\").show()"
   ]
  }
 ],
 "metadata": {
  "application/vnd.databricks.v1+notebook": {
   "computePreferences": {
    "hardware": {
     "accelerator": null,
     "gpuPoolId": null,
     "memory": null
    }
   },
   "dashboards": [],
   "environmentMetadata": {
    "base_environment": "",
    "environment_version": "2"
   },
   "inputWidgetPreferences": null,
   "language": "python",
   "notebookMetadata": {
    "pythonIndentUnit": 4
   },
   "notebookName": "601. Human Traffic of Stadium (Hard)-(Solved)",
   "widgets": {}
  },
  "language_info": {
   "name": "python"
  }
 },
 "nbformat": 4,
 "nbformat_minor": 0
}
