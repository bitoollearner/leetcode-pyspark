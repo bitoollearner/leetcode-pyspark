{
 "cells": [
  {
   "cell_type": "markdown",
   "metadata": {
    "application/vnd.databricks.v1+cell": {
     "cellMetadata": {
      "byteLimit": 2048000,
      "rowLimit": 10000
     },
     "inputWidgets": {},
     "nuid": "4e9d71b1-88e9-445c-820a-b842e217a4e7",
     "showTitle": false,
     "tableResultSettingsMap": {},
     "title": ""
    }
   },
   "source": [
    "## Importing Libraries"
   ]
  },
  {
   "cell_type": "code",
   "execution_count": 0,
   "metadata": {
    "application/vnd.databricks.v1+cell": {
     "cellMetadata": {
      "byteLimit": 2048000,
      "rowLimit": 10000
     },
     "inputWidgets": {},
     "nuid": "e6624c4d-8cb8-4ac4-8c72-81d1b4ecdb57",
     "showTitle": false,
     "tableResultSettingsMap": {},
     "title": ""
    }
   },
   "outputs": [],
   "source": [
    "from pyspark.sql.functions import *\n",
    "from pyspark.sql.types import *\n",
    "from pyspark.sql.window import Window"
   ]
  },
  {
   "cell_type": "markdown",
   "metadata": {
    "application/vnd.databricks.v1+cell": {
     "cellMetadata": {
      "byteLimit": 2048000,
      "rowLimit": 10000
     },
     "inputWidgets": {},
     "nuid": "c3788fe5-f4c9-420f-ad72-ec1a39310a2a",
     "showTitle": false,
     "tableResultSettingsMap": {},
     "title": ""
    }
   },
   "source": [
    "**2308. Arrange Table by Gender (Medium)**\n",
    "\n",
    "**Table: Genders**\n",
    "\n",
    "| Column Name | Type    |\n",
    "|-------------|---------|\n",
    "| user_id     | int     |\n",
    "| gender      | varchar |\n",
    "\n",
    "user_id is the primary key (column with unique values) for this table.\n",
    "gender is ENUM (category) of type 'female', 'male', or 'other'.\n",
    "Each row in this table contains the ID of a user and their gender.\n",
    "The table has an equal number of 'female', 'male', and 'other'.\n",
    " \n",
    "**Write a solution to rearrange the Genders table such that the rows alternate between 'female', 'other', and 'male' in order. The table should be rearranged such that the IDs of each gender are sorted in ascending order.**\n",
    "\n",
    "Return the result table in the mentioned order.\n",
    "\n",
    "The result format is shown in the following example.\n",
    "\n",
    "**Example 1:**\n",
    "\n",
    "**Input:** \n",
    "\n",
    "**Genders table:**\n",
    "\n",
    "| user_id | gender |\n",
    "|---------|--------|\n",
    "| 4       | male   |\n",
    "| 7       | female |\n",
    "| 2       | other  |\n",
    "| 5       | male   |\n",
    "| 3       | female |\n",
    "| 8       | male   |\n",
    "| 6       | other  |\n",
    "| 1       | other  |\n",
    "| 9       | female |\n",
    "\n",
    "**Output:** \n",
    "| user_id | gender |\n",
    "|---------|--------|\n",
    "| 3       | female |\n",
    "| 1       | other  |\n",
    "| 4       | male   |\n",
    "| 7       | female |\n",
    "| 2       | other  |\n",
    "| 5       | male   |\n",
    "| 9       | female |\n",
    "| 6       | other  |\n",
    "| 8       | male   |\n",
    "\n",
    "**Explanation:** \n",
    "- Female gender: IDs 3, 7, and 9.\n",
    "- Other gender: IDs 1, 2, and 6.\n",
    "- Male gender: IDs 4, 5, and 8.\n",
    "\n",
    "We arrange the table alternating between 'female', 'other', and 'male'.\n",
    "\n",
    "Note that the IDs of each gender are sorted in ascending order."
   ]
  },
  {
   "cell_type": "code",
   "execution_count": 0,
   "metadata": {
    "application/vnd.databricks.v1+cell": {
     "cellMetadata": {
      "byteLimit": 2048000,
      "rowLimit": 10000
     },
     "inputWidgets": {},
     "nuid": "137536ea-9bec-4171-8dc2-4bf8b0d771b4",
     "showTitle": false,
     "tableResultSettingsMap": {},
     "title": ""
    }
   },
   "outputs": [
    {
     "output_type": "stream",
     "name": "stdout",
     "output_type": "stream",
     "text": [
      "+-------+------+\n|user_id|gender|\n+-------+------+\n|      4|  male|\n|      7|female|\n|      2| other|\n|      5|  male|\n|      3|female|\n|      8|  male|\n|      6| other|\n|      1| other|\n|      9|female|\n+-------+------+\n\n"
     ]
    }
   ],
   "source": [
    "genders_data_2308 = [\n",
    "    (4, \"male\"),\n",
    "    (7, \"female\"),\n",
    "    (2, \"other\"),\n",
    "    (5, \"male\"),\n",
    "    (3, \"female\"),\n",
    "    (8, \"male\"),\n",
    "    (6, \"other\"),\n",
    "    (1, \"other\"),\n",
    "    (9, \"female\"),\n",
    "]\n",
    "\n",
    "genders_columns_2308 = [\"user_id\", \"gender\"]\n",
    "genders_df_2308 = spark.createDataFrame(genders_data_2308, genders_columns_2308)\n",
    "genders_df_2308.show()"
   ]
  },
  {
   "cell_type": "code",
   "execution_count": 0,
   "metadata": {
    "application/vnd.databricks.v1+cell": {
     "cellMetadata": {
      "byteLimit": 2048000,
      "rowLimit": 10000
     },
     "inputWidgets": {},
     "nuid": "c5275c39-6caa-459b-8fe3-e473e41bb3ac",
     "showTitle": false,
     "tableResultSettingsMap": {},
     "title": ""
    }
   },
   "outputs": [],
   "source": [
    "window_spec = Window.partitionBy(\"gender\").orderBy(\"user_id\")"
   ]
  },
  {
   "cell_type": "code",
   "execution_count": 0,
   "metadata": {
    "application/vnd.databricks.v1+cell": {
     "cellMetadata": {
      "byteLimit": 2048000,
      "rowLimit": 10000
     },
     "inputWidgets": {},
     "nuid": "71904db0-8e59-41db-971d-9c4993144c10",
     "showTitle": false,
     "tableResultSettingsMap": {},
     "title": ""
    }
   },
   "outputs": [],
   "source": [
    "df_ranked_2308 = genders_df_2308\\\n",
    "                    .withColumn(\"rn\", row_number().over(window_spec))"
   ]
  },
  {
   "cell_type": "code",
   "execution_count": 0,
   "metadata": {
    "application/vnd.databricks.v1+cell": {
     "cellMetadata": {
      "byteLimit": 2048000,
      "rowLimit": 10000
     },
     "inputWidgets": {},
     "nuid": "c27f0f51-9b4d-49f4-af4b-5f6690fbdc4a",
     "showTitle": false,
     "tableResultSettingsMap": {},
     "title": ""
    }
   },
   "outputs": [],
   "source": [
    "df_pivoted_2308 = df_ranked_2308\\\n",
    "                    .groupBy(\"rn\")\\\n",
    "                        .pivot(\"gender\", [\"female\", \"other\", \"male\"])\\\n",
    "                            .agg(first(\"user_id\"))"
   ]
  },
  {
   "cell_type": "code",
   "execution_count": 0,
   "metadata": {
    "application/vnd.databricks.v1+cell": {
     "cellMetadata": {
      "byteLimit": 2048000,
      "rowLimit": 10000
     },
     "inputWidgets": {},
     "nuid": "43091996-11ae-4de8-a802-b19be7e41c94",
     "showTitle": false,
     "tableResultSettingsMap": {},
     "title": ""
    }
   },
   "outputs": [],
   "source": [
    "female_df_2308 = df_pivoted_2308\\\n",
    "                    .select(\n",
    "                        col(\"rn\"),\n",
    "                        col(\"female\").alias(\"user_id\"),\n",
    "                        lit(\"female\").alias(\"gender\")\n",
    "                        )\\\n",
    "                            .where(col(\"female\").isNotNull())"
   ]
  },
  {
   "cell_type": "code",
   "execution_count": 0,
   "metadata": {
    "application/vnd.databricks.v1+cell": {
     "cellMetadata": {
      "byteLimit": 2048000,
      "rowLimit": 10000
     },
     "inputWidgets": {},
     "nuid": "7d778d3d-80d9-4f3a-a4bf-81950250cad0",
     "showTitle": false,
     "tableResultSettingsMap": {},
     "title": ""
    }
   },
   "outputs": [],
   "source": [
    "other_df_2308 = df_pivoted_2308\\\n",
    "                    .select(\n",
    "                        col(\"rn\"),\n",
    "                        col(\"other\").alias(\"user_id\"),\n",
    "                        lit(\"other\").alias(\"gender\")\n",
    "                        )\\\n",
    "                            .where(col(\"other\").isNotNull())"
   ]
  },
  {
   "cell_type": "code",
   "execution_count": 0,
   "metadata": {
    "application/vnd.databricks.v1+cell": {
     "cellMetadata": {
      "byteLimit": 2048000,
      "rowLimit": 10000
     },
     "inputWidgets": {},
     "nuid": "06d14253-cb60-42f5-9b41-fc291f8823ba",
     "showTitle": false,
     "tableResultSettingsMap": {},
     "title": ""
    }
   },
   "outputs": [],
   "source": [
    "male_df_2308 = df_pivoted_2308\\\n",
    "                    .select(\n",
    "                        col(\"rn\"),\n",
    "                        col(\"male\").alias(\"user_id\"),\n",
    "                        lit(\"male\").alias(\"gender\")\n",
    "                        )\\\n",
    "                            .where(col(\"male\").isNotNull())"
   ]
  },
  {
   "cell_type": "code",
   "execution_count": 0,
   "metadata": {
    "application/vnd.databricks.v1+cell": {
     "cellMetadata": {
      "byteLimit": 2048000,
      "rowLimit": 10000
     },
     "inputWidgets": {},
     "nuid": "9655d70d-6c88-4911-96e7-b10946f193ac",
     "showTitle": false,
     "tableResultSettingsMap": {},
     "title": ""
    }
   },
   "outputs": [
    {
     "output_type": "stream",
     "name": "stdout",
     "output_type": "stream",
     "text": [
      "+-------+------+\n|user_id|gender|\n+-------+------+\n|      1| other|\n|      4|  male|\n|      3|female|\n|      5|  male|\n|      2| other|\n|      7|female|\n|      8|  male|\n|      6| other|\n|      9|female|\n+-------+------+\n\n"
     ]
    }
   ],
   "source": [
    "female_df_2308\\\n",
    "    .unionByName(other_df_2308)\\\n",
    "        .unionByName(male_df_2308).orderBy(\"rn\").drop(\"rn\").show()"
   ]
  }
 ],
 "metadata": {
  "application/vnd.databricks.v1+notebook": {
   "computePreferences": {
    "hardware": {
     "accelerator": null,
     "gpuPoolId": null,
     "memory": null
    }
   },
   "dashboards": [],
   "environmentMetadata": {
    "base_environment": "",
    "environment_version": "2"
   },
   "inputWidgetPreferences": null,
   "language": "python",
   "notebookMetadata": {
    "pythonIndentUnit": 4
   },
   "notebookName": "2308. Arrange Table by Gender (Medium)-(Solved)",
   "widgets": {}
  },
  "language_info": {
   "name": "python"
  }
 },
 "nbformat": 4,
 "nbformat_minor": 0
}
