{
 "cells": [
  {
   "cell_type": "markdown",
   "metadata": {
    "application/vnd.databricks.v1+cell": {
     "cellMetadata": {
      "byteLimit": 2048000,
      "rowLimit": 10000
     },
     "inputWidgets": {},
     "nuid": "7d1791bd-9552-4116-90b2-daa678bbffb8",
     "showTitle": false,
     "tableResultSettingsMap": {},
     "title": ""
    }
   },
   "source": [
    "## Importing Libraries"
   ]
  },
  {
   "cell_type": "code",
   "execution_count": 0,
   "metadata": {
    "application/vnd.databricks.v1+cell": {
     "cellMetadata": {
      "byteLimit": 2048000,
      "rowLimit": 10000
     },
     "inputWidgets": {},
     "nuid": "2901fbc9-49db-4285-8b94-c460f34d4c4f",
     "showTitle": false,
     "tableResultSettingsMap": {},
     "title": ""
    }
   },
   "outputs": [],
   "source": [
    "from pyspark.sql.functions import *\n",
    "from pyspark.sql.types import *\n",
    "from pyspark.sql.window import Window"
   ]
  },
  {
   "cell_type": "markdown",
   "metadata": {
    "application/vnd.databricks.v1+cell": {
     "cellMetadata": {
      "byteLimit": 2048000,
      "rowLimit": 10000
     },
     "inputWidgets": {},
     "nuid": "655120e7-6b25-417c-a08a-c6925feaa425",
     "showTitle": false,
     "tableResultSettingsMap": {},
     "title": ""
    }
   },
   "source": [
    "**3390. Longest Team Pass Streak (Hard)**\n",
    "\n",
    "**Table: Teams**\n",
    "\n",
    "| Column Name | Type    |\n",
    "|-------------|---------|\n",
    "| player_id   | int     |\n",
    "| team_name   | varchar | \n",
    "\n",
    "player_id is the unique key for this table.\n",
    "Each row contains the unique identifier for player and the name of one of the teams participating in that match.\n",
    "\n",
    "**Table: Passes**\n",
    "\n",
    "| Column Name | Type    |\n",
    "|-------------|---------|\n",
    "| pass_from   | int     |\n",
    "| time_stamp  | varchar |\n",
    "| pass_to     | int     |\n",
    "\n",
    "(pass_from, time_stamp) is the unique key for this table.\n",
    "pass_from is a foreign key to player_id from Teams table.\n",
    "Each row represents a pass made during a match, time_stamp represents the time in minutes (00:00-90:00) when the pass was made,\n",
    "pass_to is the player_id of the player receiving the pass.\n",
    "\n",
    "**Write a solution to find the longest successful pass streak for each team during the match. The rules are as follows:**\n",
    "\n",
    "- A successful pass streak is defined as consecutive passes where:\n",
    "  - Both the pass_from and pass_to players belong to the same team\n",
    "- A streak breaks when either:\n",
    "  - The pass is intercepted (received by a player from the opposing team)\n",
    "\n",
    "Return the result table ordered by team_name in ascending order.\n",
    "\n",
    "The result format is in the following example.\n",
    "\n",
    "**Example:**\n",
    "\n",
    "**Input:**\n",
    "\n",
    "**Teams table:**\n",
    "\n",
    "| player_id | team_name |\n",
    "|-----------|-----------|\n",
    "| 1         | Arsenal   |\n",
    "| 2         | Arsenal   |\n",
    "| 3         | Arsenal   |\n",
    "| 4         | Arsenal   |\n",
    "| 5         | Chelsea   |\n",
    "| 6         | Chelsea   |\n",
    "| 7         | Chelsea   |\n",
    "| 8         | Chelsea   |\n",
    "\n",
    "**Passes table:**\n",
    "\n",
    "| pass_from | time_stamp | pass_to |\n",
    "|-----------|------------|---------|\n",
    "| 1         | 00:05      | 2       |\n",
    "| 2         | 00:07      | 3       |\n",
    "| 3         | 00:08      | 4       |\n",
    "| 4         | 00:10      | 5       |\n",
    "| 6         | 00:15      | 7       |\n",
    "| 7         | 00:17      | 8       |\n",
    "| 8         | 00:20      | 6       |\n",
    "| 6         | 00:22      | 5       |\n",
    "| 1         | 00:25      | 2       |\n",
    "| 2         | 00:27      | 3       |\n",
    "\n",
    "**Output:**\n",
    "\n",
    "| team_name | longest_streak |\n",
    "|-----------|----------------|\n",
    "| Arsenal   | 3              |\n",
    "| Chelsea   | 4              |\n",
    "\n",
    "\n",
    "**Explanation:**\n",
    "- Arsenal's streaks:\n",
    "  - First streak: 3 passes (1→2→3→4) ended when player 4 passed to Chelsea's player 5\n",
    "  - Second streak: 2 passes (1→2→3)\n",
    "  - Longest streak = 3\n",
    "- Chelsea's streaks:\n",
    "  - First streak: 3 passes (6→7→8→6→5)\n",
    "  - Longest streak = 4"
   ]
  },
  {
   "cell_type": "code",
   "execution_count": 0,
   "metadata": {
    "application/vnd.databricks.v1+cell": {
     "cellMetadata": {
      "byteLimit": 2048000,
      "rowLimit": 10000
     },
     "inputWidgets": {},
     "nuid": "a2368434-0191-416c-aa1d-12cd44cf48e6",
     "showTitle": false,
     "tableResultSettingsMap": {},
     "title": ""
    }
   },
   "outputs": [
    {
     "output_type": "stream",
     "name": "stdout",
     "output_type": "stream",
     "text": [
      "+---------+---------+\n|player_id|team_name|\n+---------+---------+\n|        1|  Arsenal|\n|        2|  Arsenal|\n|        3|  Arsenal|\n|        4|  Arsenal|\n|        5|  Chelsea|\n|        6|  Chelsea|\n|        7|  Chelsea|\n|        8|  Chelsea|\n+---------+---------+\n\n+---------+----------+-------+\n|pass_from|time_stamp|pass_to|\n+---------+----------+-------+\n|        1|     00:05|      2|\n|        2|     00:07|      3|\n|        3|     00:08|      4|\n|        4|     00:10|      5|\n|        6|     00:15|      7|\n|        7|     00:17|      8|\n|        8|     00:20|      6|\n|        6|     00:22|      5|\n|        1|     00:25|      2|\n|        2|     00:27|      3|\n+---------+----------+-------+\n\n"
     ]
    }
   ],
   "source": [
    "teams_data_3390 = [\n",
    "    (1, \"Arsenal\"),\n",
    "    (2, \"Arsenal\"),\n",
    "    (3, \"Arsenal\"),\n",
    "    (4, \"Arsenal\"),\n",
    "    (5, \"Chelsea\"),\n",
    "    (6, \"Chelsea\"),\n",
    "    (7, \"Chelsea\"),\n",
    "    (8, \"Chelsea\")\n",
    "]\n",
    "\n",
    "teams_columns_3390 = [\"player_id\", \"team_name\"]\n",
    "teams_df_3390 = spark.createDataFrame(teams_data_3390, teams_columns_3390)\n",
    "teams_df_3390.show()\n",
    "\n",
    "passes_data_3390 = [\n",
    "    (1, \"00:05\", 2),  \n",
    "    (2, \"00:07\", 3),  \n",
    "    (3, \"00:08\", 4),  \n",
    "    (4, \"00:10\", 5),  \n",
    "    (6, \"00:15\", 7),  \n",
    "    (7, \"00:17\", 8),  \n",
    "    (8, \"00:20\", 6),  \n",
    "    (6, \"00:22\", 5),  \n",
    "    (1, \"00:25\", 2),  \n",
    "    (2, \"00:27\", 3)   \n",
    "]\n",
    "\n",
    "passes_columns_3390 = [\"pass_from\", \"time_stamp\", \"pass_to\"]\n",
    "passes_df_3390 = spark.createDataFrame(passes_data_3390, passes_columns_3390)\n",
    "passes_df_3390.show()"
   ]
  },
  {
   "cell_type": "code",
   "execution_count": 0,
   "metadata": {
    "application/vnd.databricks.v1+cell": {
     "cellMetadata": {
      "byteLimit": 2048000,
      "rowLimit": 10000
     },
     "inputWidgets": {},
     "nuid": "f34a3e57-1762-4b3c-a070-3323e2b9c4e3",
     "showTitle": false,
     "tableResultSettingsMap": {},
     "title": ""
    }
   },
   "outputs": [],
   "source": [
    "passes_df_3390 = passes_df_3390 \\\n",
    "                    .join(teams_df_3390\\\n",
    "                        .withColumnRenamed(\"player_id\", \"pass_from\"), on=\"pass_from\") \\\n",
    "                        .withColumnRenamed(\"team_name\", \"from_team\") \\\n",
    "                    .join(teams_df_3390\\\n",
    "                        .withColumnRenamed(\"player_id\", \"pass_to\"), on=\"pass_to\") \\\n",
    "                        .withColumnRenamed(\"team_name\", \"to_team\")"
   ]
  },
  {
   "cell_type": "code",
   "execution_count": 0,
   "metadata": {
    "application/vnd.databricks.v1+cell": {
     "cellMetadata": {
      "byteLimit": 2048000,
      "rowLimit": 10000
     },
     "inputWidgets": {},
     "nuid": "b6ddfad4-59be-42db-a04b-9a1836e76650",
     "showTitle": false,
     "tableResultSettingsMap": {},
     "title": ""
    }
   },
   "outputs": [],
   "source": [
    "passes_df_3390 = passes_df_3390\\\n",
    "                    .withColumn( \"total_seconds\", \n",
    "                                col(\"time_stamp\").substr(1,2).cast(\"int\")*60 + col(\"time_stamp\").substr(4,2).cast(\"int\")\n",
    "                                ).orderBy(\"total_seconds\")"
   ]
  },
  {
   "cell_type": "code",
   "execution_count": 0,
   "metadata": {
    "application/vnd.databricks.v1+cell": {
     "cellMetadata": {
      "byteLimit": 2048000,
      "rowLimit": 10000
     },
     "inputWidgets": {},
     "nuid": "3b574916-19f3-4e9a-8dcc-9fb47993b8fd",
     "showTitle": false,
     "tableResultSettingsMap": {},
     "title": ""
    }
   },
   "outputs": [],
   "source": [
    "passes_df_3390 = passes_df_3390\\\n",
    "                    .withColumn( \"successful\", when(col(\"from_team\") == col(\"to_team\"), 1).otherwise(0))"
   ]
  },
  {
   "cell_type": "code",
   "execution_count": 0,
   "metadata": {
    "application/vnd.databricks.v1+cell": {
     "cellMetadata": {
      "byteLimit": 2048000,
      "rowLimit": 10000
     },
     "inputWidgets": {},
     "nuid": "25bfec11-9821-42d6-b309-6798bb6e47c4",
     "showTitle": false,
     "tableResultSettingsMap": {},
     "title": ""
    }
   },
   "outputs": [],
   "source": [
    "window_spec = Window.orderBy(\"total_seconds\")"
   ]
  },
  {
   "cell_type": "code",
   "execution_count": 0,
   "metadata": {
    "application/vnd.databricks.v1+cell": {
     "cellMetadata": {
      "byteLimit": 2048000,
      "rowLimit": 10000
     },
     "inputWidgets": {},
     "nuid": "f1e97c18-b861-4e13-8ddc-bf9d3a53ff78",
     "showTitle": false,
     "tableResultSettingsMap": {},
     "title": ""
    }
   },
   "outputs": [
    {
     "output_type": "stream",
     "name": "stderr",
     "output_type": "stream",
     "text": [
      "/databricks/python/lib/python3.11/site-packages/pyspark/sql/connect/expressions.py:1017: UserWarning: WARN WindowExpression: No Partition Defined for Window operation! Moving all data to a single partition, this can cause serious performance degradation.\n  warnings.warn(\n"
     ]
    }
   ],
   "source": [
    "passes_df_3390 = passes_df_3390\\\n",
    "                    .withColumn( \"streak_group\", sum(when(col(\"successful\") == 0, 1).otherwise(0)).over(window_spec))"
   ]
  },
  {
   "cell_type": "code",
   "execution_count": 0,
   "metadata": {
    "application/vnd.databricks.v1+cell": {
     "cellMetadata": {
      "byteLimit": 2048000,
      "rowLimit": 10000
     },
     "inputWidgets": {},
     "nuid": "5b877e9c-1c72-441c-84cf-2dd89d2cde6f",
     "showTitle": false,
     "tableResultSettingsMap": {},
     "title": ""
    }
   },
   "outputs": [
    {
     "output_type": "stream",
     "name": "stderr",
     "output_type": "stream",
     "text": [
      "/databricks/python/lib/python3.11/site-packages/pyspark/sql/connect/expressions.py:1017: UserWarning: WARN WindowExpression: No Partition Defined for Window operation! Moving all data to a single partition, this can cause serious performance degradation.\n  warnings.warn(\n"
     ]
    }
   ],
   "source": [
    "streaks_df_3390 = passes_df_3390\\\n",
    "                    .filter(col(\"successful\") == 1) \\\n",
    "                        .groupBy(\"from_team\", \"streak_group\") \\\n",
    "                            .count() \\\n",
    "                                .withColumnRenamed(\"count\", \"streak_length\")"
   ]
  },
  {
   "cell_type": "code",
   "execution_count": 0,
   "metadata": {
    "application/vnd.databricks.v1+cell": {
     "cellMetadata": {
      "byteLimit": 2048000,
      "rowLimit": 10000
     },
     "inputWidgets": {},
     "nuid": "2acc5073-8c5f-4efd-95e8-80ded5ad5031",
     "showTitle": false,
     "tableResultSettingsMap": {},
     "title": ""
    }
   },
   "outputs": [
    {
     "output_type": "stream",
     "name": "stderr",
     "output_type": "stream",
     "text": [
      "/databricks/python/lib/python3.11/site-packages/pyspark/sql/connect/expressions.py:1017: UserWarning: WARN WindowExpression: No Partition Defined for Window operation! Moving all data to a single partition, this can cause serious performance degradation.\n  warnings.warn(\n"
     ]
    },
    {
     "output_type": "display_data",
     "data": {
      "text/html": [
       "<style scoped>\n",
       "  .table-result-container {\n",
       "    max-height: 300px;\n",
       "    overflow: auto;\n",
       "  }\n",
       "  table, th, td {\n",
       "    border: 1px solid black;\n",
       "    border-collapse: collapse;\n",
       "  }\n",
       "  th, td {\n",
       "    padding: 5px;\n",
       "  }\n",
       "  th {\n",
       "    text-align: left;\n",
       "  }\n",
       "</style><div class='table-result-container'><table class='table-result'><thead style='background-color: white'><tr><th>team_name</th><th>longest_streak</th></tr></thead><tbody><tr><td>Arsenal</td><td>3</td></tr><tr><td>Chelsea</td><td>4</td></tr></tbody></table></div>"
      ]
     },
     "metadata": {
      "application/vnd.databricks.v1+output": {
       "addedWidgets": {},
       "aggData": [],
       "aggError": "",
       "aggOverflow": false,
       "aggSchema": [],
       "aggSeriesLimitReached": false,
       "aggType": "",
       "arguments": {},
       "columnCustomDisplayInfos": {},
       "data": [
        [
         "Arsenal",
         3
        ],
        [
         "Chelsea",
         4
        ]
       ],
       "datasetInfos": [],
       "dbfsResultPath": null,
       "isJsonSchema": true,
       "metadata": {},
       "overflow": false,
       "plotOptions": {
        "customPlotOptions": {},
        "displayType": "table",
        "pivotAggregation": null,
        "pivotColumns": null,
        "xColumns": null,
        "yColumns": null
       },
       "removedWidgets": [],
       "schema": [
        {
         "metadata": "{}",
         "name": "team_name",
         "type": "\"string\""
        },
        {
         "metadata": "{}",
         "name": "longest_streak",
         "type": "\"long\""
        }
       ],
       "type": "table"
      }
     },
     "output_type": "display_data"
    }
   ],
   "source": [
    "streaks_df_3390\\\n",
    "    .groupBy(\"from_team\") \\\n",
    "        .agg(max(\"streak_length\").alias(\"longest_streak\")) \\\n",
    "            .withColumnRenamed(\"from_team\", \"team_name\") \\\n",
    "                .orderBy(\"team_name\").display()"
   ]
  }
 ],
 "metadata": {
  "application/vnd.databricks.v1+notebook": {
   "computePreferences": {
    "hardware": {
     "accelerator": null,
     "gpuPoolId": null,
     "memory": null
    }
   },
   "dashboards": [],
   "environmentMetadata": {
    "base_environment": "",
    "environment_version": "2"
   },
   "inputWidgetPreferences": null,
   "language": "python",
   "notebookMetadata": {
    "pythonIndentUnit": 4
   },
   "notebookName": "3390. Longest Team Pass Streak (Hard)-(Solved)",
   "widgets": {}
  },
  "language_info": {
   "name": "python"
  }
 },
 "nbformat": 4,
 "nbformat_minor": 0
}
