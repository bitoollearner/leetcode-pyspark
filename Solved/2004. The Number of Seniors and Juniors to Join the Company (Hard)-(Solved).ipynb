{
 "cells": [
  {
   "cell_type": "markdown",
   "metadata": {
    "application/vnd.databricks.v1+cell": {
     "cellMetadata": {
      "byteLimit": 2048000,
      "rowLimit": 10000
     },
     "inputWidgets": {},
     "nuid": "83d38679-f742-44bb-952b-b541e178ddc8",
     "showTitle": false,
     "tableResultSettingsMap": {},
     "title": ""
    }
   },
   "source": [
    "## Importing Libraries"
   ]
  },
  {
   "cell_type": "code",
   "execution_count": 0,
   "metadata": {
    "application/vnd.databricks.v1+cell": {
     "cellMetadata": {
      "byteLimit": 2048000,
      "rowLimit": 10000
     },
     "inputWidgets": {},
     "nuid": "1daf4387-60f2-4c66-b119-d9ce2cd54aa2",
     "showTitle": false,
     "tableResultSettingsMap": {},
     "title": ""
    }
   },
   "outputs": [],
   "source": [
    "from pyspark.sql.functions import *\n",
    "from pyspark.sql.types import *\n",
    "from pyspark.sql.window import Window"
   ]
  },
  {
   "cell_type": "markdown",
   "metadata": {
    "application/vnd.databricks.v1+cell": {
     "cellMetadata": {
      "byteLimit": 2048000,
      "rowLimit": 10000
     },
     "inputWidgets": {},
     "nuid": "83ab9b20-fd4f-4392-ae0c-ff0580c3c7c1",
     "showTitle": false,
     "tableResultSettingsMap": {},
     "title": ""
    }
   },
   "source": [
    "**2004. The Number of Seniors and Juniors to Join the Company (Hard)**\n",
    "\n",
    "**Table: Candidates**\n",
    "\n",
    "| Column Name | Type |\n",
    "|-------------|------|\n",
    "| employee_id | int  |\n",
    "| experience  | enum |\n",
    "| salary      | int  |\n",
    "\n",
    "employee_id is the column with unique values for this table.\n",
    "experience is an ENUM (category) type of values ('Senior', 'Junior').\n",
    "Each row of this table indicates the id of a candidate, their monthly salary, and their experience.\n",
    " \n",
    "A company wants to hire new employees. The budget of the company for the salaries is $70000. The company's criteria for hiring are:\n",
    "- Hiring the largest number of seniors.\n",
    "- After hiring the maximum number of seniors, use the remaining budget to hire the largest number of juniors.\n",
    "\n",
    "**Write a solution to find the number of seniors and juniors hired under the mentioned criteria.**\n",
    "\n",
    "Return the result table in any order.\n",
    "\n",
    "The result format is in the following example.\n",
    "\n",
    "**Example 1:**\n",
    "\n",
    "**Input:** \n",
    "\n",
    "**Candidates table:**\n",
    "\n",
    "| employee_id | experience | salary |\n",
    "|-------------|------------|--------|\n",
    "| 1           | Junior     | 10000  |\n",
    "| 9           | Junior     | 10000  |\n",
    "| 2           | Senior     | 20000  |\n",
    "| 11          | Senior     | 20000  |\n",
    "| 13          | Senior     | 50000  |\n",
    "| 4           | Junior     | 40000  |\n",
    "\n",
    "**Output:** \n",
    "| experience | accepted_candidates |\n",
    "|------------|---------------------|\n",
    "| Senior     | 2                   |\n",
    "| Junior     | 2                   |\n",
    "\n",
    "**Explanation:** \n",
    "- We can hire 2 seniors with IDs (2, 11). Since the budget is $70000 and the sum of their salaries is $40000, we still have $30000 but they are not enough to hire the senior candidate with ID 13.\n",
    "- We can hire 2 juniors with IDs (1, 9). Since the remaining budget is $30000 and the sum of their salaries is $20000, we still have $10000 but they are not enough to hire the junior candidate with ID 4.\n",
    "\n",
    "**Example 2:**\n",
    "\n",
    "**Input:** \n",
    "\n",
    "**Candidates table:**\n",
    "\n",
    "| employee_id | experience | salary |\n",
    "|-------------|------------|--------|\n",
    "| 1           | Junior     | 10000  |\n",
    "| 9           | Junior     | 10000  |\n",
    "| 2           | Senior     | 80000  |\n",
    "| 11          | Senior     | 80000  |\n",
    "| 13          | Senior     | 80000  |\n",
    "| 4           | Junior     | 40000  |\n",
    "\n",
    "**Output:** \n",
    "| experience | accepted_candidates |\n",
    "|------------|---------------------|\n",
    "| Senior     | 0                   |\n",
    "| Junior     | 3                   |\n",
    "\n",
    "**Explanation:** \n",
    "- We cannot hire any seniors with the current budget as we need at least $80000 to hire one senior.\n",
    "- We can hire all three juniors with the remaining budget."
   ]
  },
  {
   "cell_type": "code",
   "execution_count": 0,
   "metadata": {
    "application/vnd.databricks.v1+cell": {
     "cellMetadata": {
      "byteLimit": 2048000,
      "rowLimit": 10000
     },
     "inputWidgets": {},
     "nuid": "e39af07f-85df-4e21-8a5f-c65604a811f3",
     "showTitle": false,
     "tableResultSettingsMap": {},
     "title": ""
    }
   },
   "outputs": [
    {
     "output_type": "stream",
     "name": "stdout",
     "output_type": "stream",
     "text": [
      "+-----------+----------+------+\n|employee_id|experience|salary|\n+-----------+----------+------+\n|          1|    Junior| 10000|\n|          9|    Junior| 10000|\n|          2|    Senior| 20000|\n|         11|    Senior| 20000|\n|         13|    Senior| 50000|\n|          4|    Junior| 40000|\n+-----------+----------+------+\n\n"
     ]
    }
   ],
   "source": [
    "candidates_data_2004 = [\n",
    "    (1, \"Junior\", 10000),\n",
    "    (9, \"Junior\", 10000),\n",
    "    (2, \"Senior\", 20000),\n",
    "    (11, \"Senior\", 20000),\n",
    "    (13, \"Senior\", 50000),\n",
    "    (4, \"Junior\", 40000),\n",
    "]\n",
    "\n",
    "candidates_columns_2004 = [\"employee_id\", \"experience\", \"salary\"]\n",
    "candidates_df_2004 = spark.createDataFrame(candidates_data_2004, candidates_columns_2004)\n",
    "candidates_df_2004.show()"
   ]
  },
  {
   "cell_type": "code",
   "execution_count": 0,
   "metadata": {
    "application/vnd.databricks.v1+cell": {
     "cellMetadata": {
      "byteLimit": 2048000,
      "rowLimit": 10000
     },
     "inputWidgets": {},
     "nuid": "c18b4637-1773-4831-b322-4d5e00622fe3",
     "showTitle": false,
     "tableResultSettingsMap": {},
     "title": ""
    }
   },
   "outputs": [],
   "source": [
    "budget = 70000"
   ]
  },
  {
   "cell_type": "code",
   "execution_count": 0,
   "metadata": {
    "application/vnd.databricks.v1+cell": {
     "cellMetadata": {
      "byteLimit": 2048000,
      "rowLimit": 10000
     },
     "inputWidgets": {},
     "nuid": "69c8f732-e17f-4aa1-9b1c-1b18fa3a0785",
     "showTitle": false,
     "tableResultSettingsMap": {},
     "title": ""
    }
   },
   "outputs": [],
   "source": [
    "senior_df_2004 = candidates_df_2004.filter(\"experience = 'Senior'\").orderBy(\"salary\", \"employee_id\")\n",
    "junior_df_2004 = candidates_df_2004.filter(\"experience = 'Junior'\").orderBy(\"salary\", \"employee_id\")"
   ]
  },
  {
   "cell_type": "code",
   "execution_count": 0,
   "metadata": {
    "application/vnd.databricks.v1+cell": {
     "cellMetadata": {
      "byteLimit": 2048000,
      "rowLimit": 10000
     },
     "inputWidgets": {},
     "nuid": "5c66becf-1ce4-4d27-9f3f-a47c74e47c70",
     "showTitle": false,
     "tableResultSettingsMap": {},
     "title": ""
    }
   },
   "outputs": [],
   "source": [
    "windowSpec = Window.orderBy(\"salary\", \"employee_id\")"
   ]
  },
  {
   "cell_type": "code",
   "execution_count": 0,
   "metadata": {
    "application/vnd.databricks.v1+cell": {
     "cellMetadata": {
      "byteLimit": 2048000,
      "rowLimit": 10000
     },
     "inputWidgets": {},
     "nuid": "8ff15266-8b97-4a8e-8a33-3011c37bb773",
     "showTitle": false,
     "tableResultSettingsMap": {},
     "title": ""
    }
   },
   "outputs": [
    {
     "output_type": "stream",
     "name": "stderr",
     "output_type": "stream",
     "text": [
      "/databricks/python/lib/python3.11/site-packages/pyspark/sql/connect/expressions.py:1017: UserWarning: WARN WindowExpression: No Partition Defined for Window operation! Moving all data to a single partition, this can cause serious performance degradation.\n  warnings.warn(\n"
     ]
    }
   ],
   "source": [
    "seniors_hired_df_2004 = senior_df_2004\\\n",
    "                            .withColumn( \"cumulative_salary\", sum(\"salary\").over(windowSpec))\\\n",
    "                                .withColumn( \"accepted\", when(col(\"cumulative_salary\") <= budget, 1).otherwise(0))\\\n",
    "                                    .filter(\"accepted = 1\")"
   ]
  },
  {
   "cell_type": "code",
   "execution_count": 0,
   "metadata": {
    "application/vnd.databricks.v1+cell": {
     "cellMetadata": {
      "byteLimit": 2048000,
      "rowLimit": 10000
     },
     "inputWidgets": {},
     "nuid": "ec8511e5-0a13-4cc2-86e9-0224bae2e818",
     "showTitle": false,
     "tableResultSettingsMap": {},
     "title": ""
    }
   },
   "outputs": [
    {
     "output_type": "stream",
     "name": "stderr",
     "output_type": "stream",
     "text": [
      "/databricks/python/lib/python3.11/site-packages/pyspark/sql/connect/expressions.py:1017: UserWarning: WARN WindowExpression: No Partition Defined for Window operation! Moving all data to a single partition, this can cause serious performance degradation.\n  warnings.warn(\n"
     ]
    }
   ],
   "source": [
    "spent_on_seniors = seniors_hired_df_2004.agg(sum(\"salary\")).collect()[0][0] or 0\n",
    "remaining_budget = budget - spent_on_seniors"
   ]
  },
  {
   "cell_type": "code",
   "execution_count": 0,
   "metadata": {
    "application/vnd.databricks.v1+cell": {
     "cellMetadata": {
      "byteLimit": 2048000,
      "rowLimit": 10000
     },
     "inputWidgets": {},
     "nuid": "61ab12cf-d445-4ea1-ad4c-3fc3ec98baa1",
     "showTitle": false,
     "tableResultSettingsMap": {},
     "title": ""
    }
   },
   "outputs": [
    {
     "output_type": "stream",
     "name": "stderr",
     "output_type": "stream",
     "text": [
      "/databricks/python/lib/python3.11/site-packages/pyspark/sql/connect/expressions.py:1017: UserWarning: WARN WindowExpression: No Partition Defined for Window operation! Moving all data to a single partition, this can cause serious performance degradation.\n  warnings.warn(\n"
     ]
    }
   ],
   "source": [
    "juniors_hired_df_2004 = junior_df_2004\\\n",
    "                            .withColumn( \"cumulative_salary\", sum(\"salary\").over(windowSpec))\\\n",
    "                                .withColumn( \"accepted\", when(col(\"cumulative_salary\") <= remaining_budget, 1).otherwise(0))\\\n",
    "                                    .filter(\"accepted = 1\")\n"
   ]
  },
  {
   "cell_type": "code",
   "execution_count": 0,
   "metadata": {
    "application/vnd.databricks.v1+cell": {
     "cellMetadata": {
      "byteLimit": 2048000,
      "rowLimit": 10000
     },
     "inputWidgets": {},
     "nuid": "7e429780-00e5-4250-9c13-f24fa48bdae1",
     "showTitle": false,
     "tableResultSettingsMap": {},
     "title": ""
    }
   },
   "outputs": [],
   "source": [
    "final_hired_df_2004 = seniors_hired_df_2004.unionByName(juniors_hired_df_2004)"
   ]
  },
  {
   "cell_type": "code",
   "execution_count": 0,
   "metadata": {
    "application/vnd.databricks.v1+cell": {
     "cellMetadata": {
      "byteLimit": 2048000,
      "rowLimit": 10000
     },
     "inputWidgets": {},
     "nuid": "e3a0c923-e0c3-45bd-bf0c-26c052762219",
     "showTitle": false,
     "tableResultSettingsMap": {},
     "title": ""
    }
   },
   "outputs": [
    {
     "output_type": "stream",
     "name": "stderr",
     "output_type": "stream",
     "text": [
      "/databricks/python/lib/python3.11/site-packages/pyspark/sql/connect/expressions.py:1017: UserWarning: WARN WindowExpression: No Partition Defined for Window operation! Moving all data to a single partition, this can cause serious performance degradation.\n  warnings.warn(\n"
     ]
    },
    {
     "output_type": "stream",
     "name": "stdout",
     "output_type": "stream",
     "text": [
      "+----------+-------------------+\n|experience|accepted_candidates|\n+----------+-------------------+\n|    Junior|                  2|\n|    Senior|                  2|\n+----------+-------------------+\n\n"
     ]
    }
   ],
   "source": [
    "final_hired_df_2004\\\n",
    "    .groupBy(\"experience\")\\\n",
    "        .agg(count(\"employee_id\").alias(\"accepted_candidates\"))\\\n",
    "            .orderBy(\"experience\")\\\n",
    "                .show()"
   ]
  }
 ],
 "metadata": {
  "application/vnd.databricks.v1+notebook": {
   "computePreferences": {
    "hardware": {
     "accelerator": null,
     "gpuPoolId": null,
     "memory": null
    }
   },
   "dashboards": [],
   "environmentMetadata": {
    "base_environment": "",
    "environment_version": "2"
   },
   "inputWidgetPreferences": null,
   "language": "python",
   "notebookMetadata": {
    "pythonIndentUnit": 4
   },
   "notebookName": "2004. The Number of Seniors and Juniors to Join the Company (Hard)-(Solved)",
   "widgets": {}
  },
  "language_info": {
   "name": "python"
  }
 },
 "nbformat": 4,
 "nbformat_minor": 0
}
