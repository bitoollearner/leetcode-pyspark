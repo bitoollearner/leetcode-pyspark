{
 "cells": [
  {
   "cell_type": "markdown",
   "metadata": {
    "application/vnd.databricks.v1+cell": {
     "cellMetadata": {
      "byteLimit": 2048000,
      "rowLimit": 10000
     },
     "inputWidgets": {},
     "nuid": "4e9d71b1-88e9-445c-820a-b842e217a4e7",
     "showTitle": false,
     "tableResultSettingsMap": {},
     "title": ""
    }
   },
   "source": [
    "## Importing Libraries"
   ]
  },
  {
   "cell_type": "code",
   "execution_count": 0,
   "metadata": {
    "application/vnd.databricks.v1+cell": {
     "cellMetadata": {
      "byteLimit": 2048000,
      "rowLimit": 10000
     },
     "inputWidgets": {},
     "nuid": "e6624c4d-8cb8-4ac4-8c72-81d1b4ecdb57",
     "showTitle": false,
     "tableResultSettingsMap": {},
     "title": ""
    }
   },
   "outputs": [],
   "source": [
    "from pyspark.sql.functions import *\n",
    "from pyspark.sql.types import *\n",
    "from pyspark.sql.window import Window"
   ]
  },
  {
   "cell_type": "markdown",
   "metadata": {
    "application/vnd.databricks.v1+cell": {
     "cellMetadata": {
      "byteLimit": 2048000,
      "rowLimit": 10000
     },
     "inputWidgets": {},
     "nuid": "c3788fe5-f4c9-420f-ad72-ec1a39310a2a",
     "showTitle": false,
     "tableResultSettingsMap": {},
     "title": ""
    }
   },
   "source": [
    "**2474. Customers With Strictly Increasing Purchases (Hard)**\n",
    "\n",
    "**Table: Orders**\n",
    "\n",
    "| Column Name  | Type |\n",
    "|--------------|------|\n",
    "| order_id     | int  |\n",
    "| customer_id  | int  |\n",
    "| order_date   | date |\n",
    "| price        | int  |\n",
    "\n",
    "order_id is the column with unique values for this table.\n",
    "Each row contains the id of an order, the id of customer that ordered it, the date of the order, and its price.\n",
    " \n",
    "**Write a solution to report the IDs of the customers with the total purchases strictly increasing yearly.**\n",
    "\n",
    "The total purchases of a customer in one year is the sum of the prices of their orders in that year. If for some year the customer did not make any order, we consider the total purchases 0.\n",
    "The first year to consider for each customer is the year of their first order.\n",
    "The last year to consider for each customer is the year of their last order.\n",
    "Return the result table in any order.\n",
    "\n",
    "The result format is in the following example.\n",
    "\n",
    "**Example 1:**\n",
    "\n",
    "**Input:** \n",
    "\n",
    "**Orders table:**\n",
    "\n",
    "| order_id | customer_id | order_date | price |\n",
    "|----------|-------------|------------|-------|\n",
    "| 1        | 1           | 2019-07-01 | 1100  |\n",
    "| 2        | 1           | 2019-11-01 | 1200  |\n",
    "| 3        | 1           | 2020-05-26 | 3000  |\n",
    "| 4        | 1           | 2021-08-31 | 3100  |\n",
    "| 5        | 1           | 2022-12-07 | 4700  |\n",
    "| 6        | 2           | 2015-01-01 | 700   |\n",
    "| 7        | 2           | 2017-11-07 | 1000  |\n",
    "| 8        | 3           | 2017-01-01 | 900   |\n",
    "| 9        | 3           | 2018-11-07 | 900   |\n",
    "\n",
    "**Output:** \n",
    "| customer_id |\n",
    "|-------------|\n",
    "| 1           |\n",
    "\n",
    "**Explanation:** \n",
    "- Customer 1: The first year is 2019 and the last year is 2022\n",
    "  - 2019: 1100 + 1200 = 2300\n",
    "  - 2020: 3000\n",
    "  - 2021: 3100\n",
    "  - 2022: 4700\n",
    "\n",
    "  We can see that the total purchases are strictly increasing yearly, so we include customer 1 in the answer.\n",
    "\n",
    "- Customer 2: The first year is 2015 and the last year is 2017\n",
    "  - 2015: 700\n",
    "  - 2016: 0\n",
    "  - 2017: 1000\n",
    "\n",
    "  We do not include customer 2 in the answer because the total purchases are not strictly increasing. Note that customer 2 did not make any purchases in 2016.\n",
    "\n",
    "- Customer 3: The first year is 2017, and the last year is 2018\n",
    "  - 2017: 900\n",
    "  - 2018: 900\n",
    "\n",
    " We do not include customer 3 in the answer because the total purchases are not strictly increasing."
   ]
  },
  {
   "cell_type": "code",
   "execution_count": 0,
   "metadata": {
    "application/vnd.databricks.v1+cell": {
     "cellMetadata": {
      "byteLimit": 2048000,
      "rowLimit": 10000
     },
     "inputWidgets": {},
     "nuid": "137536ea-9bec-4171-8dc2-4bf8b0d771b4",
     "showTitle": false,
     "tableResultSettingsMap": {},
     "title": ""
    }
   },
   "outputs": [
    {
     "output_type": "stream",
     "name": "stdout",
     "output_type": "stream",
     "text": [
      "+--------+-----------+----------+-----+\n|order_id|customer_id|order_date|price|\n+--------+-----------+----------+-----+\n|       1|          1|2019-07-01| 1100|\n|       2|          1|2019-11-01| 1200|\n|       3|          1|2020-05-26| 3000|\n|       4|          1|2021-08-31| 3100|\n|       5|          1|2022-12-07| 4700|\n|       6|          2|2015-01-01|  700|\n|       7|          2|2017-11-07| 1000|\n|       8|          3|2017-01-01|  900|\n|       9|          3|2018-11-07|  900|\n+--------+-----------+----------+-----+\n\n"
     ]
    }
   ],
   "source": [
    "orders_data_2474 = [\n",
    "    (1, 1, \"2019-07-01\", 1100),\n",
    "    (2, 1, \"2019-11-01\", 1200),\n",
    "    (3, 1, \"2020-05-26\", 3000),\n",
    "    (4, 1, \"2021-08-31\", 3100),\n",
    "    (5, 1, \"2022-12-07\", 4700),\n",
    "    (6, 2, \"2015-01-01\", 700),\n",
    "    (7, 2, \"2017-11-07\", 1000),\n",
    "    (8, 3, \"2017-01-01\", 900),\n",
    "    (9, 3, \"2018-11-07\", 900)\n",
    "]\n",
    "\n",
    "orders_columns_2474 = [\"order_id\", \"customer_id\", \"order_date\", \"price\"]\n",
    "orders_df_2474 = spark.createDataFrame(orders_data_2474, orders_columns_2474)\n",
    "orders_df_2474.show()\n"
   ]
  },
  {
   "cell_type": "code",
   "execution_count": 0,
   "metadata": {
    "application/vnd.databricks.v1+cell": {
     "cellMetadata": {
      "byteLimit": 2048000,
      "rowLimit": 10000
     },
     "inputWidgets": {},
     "nuid": "70345096-632c-4877-b2c7-5c1201038e22",
     "showTitle": false,
     "tableResultSettingsMap": {},
     "title": ""
    }
   },
   "outputs": [],
   "source": [
    "orders_df_2474 = orders_df_2474\\\n",
    "                    .withColumn(\"order_date\", col(\"order_date\").cast(\"date\")) \\\n",
    "                        .withColumn(\"year\", year(\"order_date\"))"
   ]
  },
  {
   "cell_type": "code",
   "execution_count": 0,
   "metadata": {
    "application/vnd.databricks.v1+cell": {
     "cellMetadata": {
      "byteLimit": 2048000,
      "rowLimit": 10000
     },
     "inputWidgets": {},
     "nuid": "c49911f8-12df-4d20-82d9-e6810f036889",
     "showTitle": false,
     "tableResultSettingsMap": {},
     "title": ""
    }
   },
   "outputs": [],
   "source": [
    "yearly_df_2474 = orders_df_2474\\\n",
    "                    .groupBy(\"customer_id\", \"year\") \\\n",
    "                        .agg(sum(\"price\").alias(\"total_price\"))"
   ]
  },
  {
   "cell_type": "code",
   "execution_count": 0,
   "metadata": {
    "application/vnd.databricks.v1+cell": {
     "cellMetadata": {
      "byteLimit": 2048000,
      "rowLimit": 10000
     },
     "inputWidgets": {},
     "nuid": "fe161f4d-c2df-4dfb-82a7-f452a933be86",
     "showTitle": false,
     "tableResultSettingsMap": {},
     "title": ""
    }
   },
   "outputs": [],
   "source": [
    "years_df_2474 = yearly_df_2474\\\n",
    "                    .groupBy(\"customer_id\") \\\n",
    "                        .agg(\n",
    "                            min(\"year\").alias(\"start_year\"),\n",
    "                            max(\"year\").alias(\"end_year\")\n",
    "                            )"
   ]
  },
  {
   "cell_type": "code",
   "execution_count": 0,
   "metadata": {
    "application/vnd.databricks.v1+cell": {
     "cellMetadata": {
      "byteLimit": 2048000,
      "rowLimit": 10000
     },
     "inputWidgets": {},
     "nuid": "86dcbf3b-6a1d-4884-8c81-ee8ad83729e8",
     "showTitle": false,
     "tableResultSettingsMap": {},
     "title": ""
    }
   },
   "outputs": [],
   "source": [
    "full_years_df_2474 = years_df_2474\\\n",
    "                        .withColumn( \"year\", explode(sequence(col(\"start_year\"), col(\"end_year\"))))\\\n",
    "                            .select(\"customer_id\", \"year\")"
   ]
  },
  {
   "cell_type": "code",
   "execution_count": 0,
   "metadata": {
    "application/vnd.databricks.v1+cell": {
     "cellMetadata": {
      "byteLimit": 2048000,
      "rowLimit": 10000
     },
     "inputWidgets": {},
     "nuid": "9f2c6994-869d-43a3-a90c-b99530459321",
     "showTitle": false,
     "tableResultSettingsMap": {},
     "title": ""
    }
   },
   "outputs": [],
   "source": [
    "full_df_2474 = full_years_df_2474\\\n",
    "                    .join( yearly_df_2474, [\"customer_id\", \"year\"], \"left\")\\\n",
    "                        .fillna(0, subset=[\"total_price\"])\\\n",
    "                            .orderBy(\"customer_id\", \"year\")"
   ]
  },
  {
   "cell_type": "code",
   "execution_count": 0,
   "metadata": {
    "application/vnd.databricks.v1+cell": {
     "cellMetadata": {
      "byteLimit": 2048000,
      "rowLimit": 10000
     },
     "inputWidgets": {},
     "nuid": "269efdab-1bb7-4b02-91d1-593f1d31d438",
     "showTitle": false,
     "tableResultSettingsMap": {},
     "title": ""
    }
   },
   "outputs": [],
   "source": [
    "window_spec = Window.partitionBy(\"customer_id\").orderBy(\"year\")"
   ]
  },
  {
   "cell_type": "code",
   "execution_count": 0,
   "metadata": {
    "application/vnd.databricks.v1+cell": {
     "cellMetadata": {
      "byteLimit": 2048000,
      "rowLimit": 10000
     },
     "inputWidgets": {},
     "nuid": "aea2eee7-cca2-44ca-87d3-3291d857e6a2",
     "showTitle": false,
     "tableResultSettingsMap": {},
     "title": ""
    }
   },
   "outputs": [],
   "source": [
    "full_df_2474 = full_df_2474\\\n",
    "                    .withColumn(\"prev_total\", lag(\"total_price\").over(window_spec))"
   ]
  },
  {
   "cell_type": "code",
   "execution_count": 0,
   "metadata": {
    "application/vnd.databricks.v1+cell": {
     "cellMetadata": {
      "byteLimit": 2048000,
      "rowLimit": 10000
     },
     "inputWidgets": {},
     "nuid": "28440f09-b692-484e-a3a4-b4b504f3d5f7",
     "showTitle": false,
     "tableResultSettingsMap": {},
     "title": ""
    }
   },
   "outputs": [],
   "source": [
    "violations_df_2474 = full_df_2474\\\n",
    "                        .filter(col(\"prev_total\").isNotNull() & (col(\"total_price\") <= col(\"prev_total\"))) \\\n",
    "                            .select(\"customer_id\").distinct()"
   ]
  },
  {
   "cell_type": "code",
   "execution_count": 0,
   "metadata": {
    "application/vnd.databricks.v1+cell": {
     "cellMetadata": {
      "byteLimit": 2048000,
      "rowLimit": 10000
     },
     "inputWidgets": {},
     "nuid": "c214b7a6-8e24-4d24-9e1b-80e20de90789",
     "showTitle": false,
     "tableResultSettingsMap": {},
     "title": ""
    }
   },
   "outputs": [
    {
     "output_type": "display_data",
     "data": {
      "text/html": [
       "<style scoped>\n",
       "  .table-result-container {\n",
       "    max-height: 300px;\n",
       "    overflow: auto;\n",
       "  }\n",
       "  table, th, td {\n",
       "    border: 1px solid black;\n",
       "    border-collapse: collapse;\n",
       "  }\n",
       "  th, td {\n",
       "    padding: 5px;\n",
       "  }\n",
       "  th {\n",
       "    text-align: left;\n",
       "  }\n",
       "</style><div class='table-result-container'><table class='table-result'><thead style='background-color: white'><tr><th>customer_id</th></tr></thead><tbody><tr><td>1</td></tr></tbody></table></div>"
      ]
     },
     "metadata": {
      "application/vnd.databricks.v1+output": {
       "addedWidgets": {},
       "aggData": [],
       "aggError": "",
       "aggOverflow": false,
       "aggSchema": [],
       "aggSeriesLimitReached": false,
       "aggType": "",
       "arguments": {},
       "columnCustomDisplayInfos": {},
       "data": [
        [
         1
        ]
       ],
       "datasetInfos": [],
       "dbfsResultPath": null,
       "isJsonSchema": true,
       "metadata": {},
       "overflow": false,
       "plotOptions": {
        "customPlotOptions": {},
        "displayType": "table",
        "pivotAggregation": null,
        "pivotColumns": null,
        "xColumns": null,
        "yColumns": null
       },
       "removedWidgets": [],
       "schema": [
        {
         "metadata": "{}",
         "name": "customer_id",
         "type": "\"long\""
        }
       ],
       "type": "table"
      }
     },
     "output_type": "display_data"
    }
   ],
   "source": [
    "full_df_2474\\\n",
    "    .select(\"customer_id\").distinct() \\\n",
    "        .join(violations_df_2474, \"customer_id\", \"left_anti\").display()"
   ]
  }
 ],
 "metadata": {
  "application/vnd.databricks.v1+notebook": {
   "computePreferences": {
    "hardware": {
     "accelerator": null,
     "gpuPoolId": null,
     "memory": null
    }
   },
   "dashboards": [],
   "environmentMetadata": {
    "base_environment": "",
    "environment_version": "2"
   },
   "inputWidgetPreferences": null,
   "language": "python",
   "notebookMetadata": {
    "pythonIndentUnit": 4
   },
   "notebookName": "2474. Customers With Strictly Increasing Purchases (Hard)-(Solved)",
   "widgets": {}
  },
  "language_info": {
   "name": "python"
  }
 },
 "nbformat": 4,
 "nbformat_minor": 0
}
