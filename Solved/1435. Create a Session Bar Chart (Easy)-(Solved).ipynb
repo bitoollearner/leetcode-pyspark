{
 "cells": [
  {
   "cell_type": "markdown",
   "metadata": {
    "application/vnd.databricks.v1+cell": {
     "cellMetadata": {},
     "inputWidgets": {},
     "nuid": "24f8e8c0-d56b-4821-a900-bbe934dce4d7",
     "showTitle": false,
     "tableResultSettingsMap": {},
     "title": ""
    }
   },
   "source": [
    "## Importing Libraries"
   ]
  },
  {
   "cell_type": "code",
   "execution_count": 0,
   "metadata": {
    "application/vnd.databricks.v1+cell": {
     "cellMetadata": {},
     "inputWidgets": {},
     "nuid": "243b190c-af0b-4bd1-9507-8e2be2fceca3",
     "showTitle": false,
     "tableResultSettingsMap": {},
     "title": ""
    }
   },
   "outputs": [],
   "source": [
    "from pyspark.sql.functions import *\n",
    "from pyspark.sql.types import *\n",
    "from pyspark.sql.window import Window"
   ]
  },
  {
   "cell_type": "markdown",
   "metadata": {
    "application/vnd.databricks.v1+cell": {
     "cellMetadata": {},
     "inputWidgets": {},
     "nuid": "2d9dc49c-3f2c-4ff6-8e98-5e72a86b1bac",
     "showTitle": false,
     "tableResultSettingsMap": {},
     "title": ""
    }
   },
   "source": [
    "**1435. Create a Session Bar Chart (Easy)**\n",
    "\n",
    "**Table: Sessions**\n",
    "\n",
    "| Column Name         | Type    |\n",
    "|---------------------|---------|\n",
    "| session_id          | int     |\n",
    "| duration            | int     |\n",
    "\n",
    "session_id is the column of unique values for this table.\n",
    "duration is the time in seconds that a user has visited the application.\n",
    " \n",
    "You want to know how long a user visits your application. You decided to create bins of \"[0-5>\", \"[5-10>\", \"[10-15>\", and \"15 minutes or more\" and count the number of sessions on it.\n",
    "\n",
    "**Write a solution to report the (bin, total).**\n",
    "\n",
    "Return the result table in any order.\n",
    "\n",
    "The result format is in the following example.\n",
    "\n",
    "**Example 1:**\n",
    "\n",
    "**Input:** \n",
    "\n",
    "**Sessions table:**\n",
    "| session_id  | duration      |\n",
    "|-------------|---------------|\n",
    "| 1           | 30            |\n",
    "| 2           | 199           |\n",
    "| 3           | 299           |\n",
    "| 4           | 580           |\n",
    "| 5           | 1000          |\n",
    "\n",
    "**Output:** \n",
    "| bin          | total        |\n",
    "|--------------|--------------|\n",
    "| [0-5>        | 3            |\n",
    "| [5-10>       | 1            |\n",
    "| [10-15>      | 0            |\n",
    "| 15 or more   | 1            |\n",
    "\n",
    "**Explanation:** \n",
    "- For session_id 1, 2, and 3 have a duration greater or equal than 0 minutes and less than 5 minutes.\n",
    "- For session_id 4 has a duration greater or equal than 5 minutes and less than 10 minutes.\n",
    "- There is no session with a duration greater than or equal to 10 minutes and less than 15 minutes.\n",
    "- For session_id 5 has a duration greater than or equal to 15 minutes."
   ]
  },
  {
   "cell_type": "code",
   "execution_count": 0,
   "metadata": {
    "application/vnd.databricks.v1+cell": {
     "cellMetadata": {},
     "inputWidgets": {},
     "nuid": "5d66d20c-58e2-4ee9-8356-d736216372c3",
     "showTitle": false,
     "tableResultSettingsMap": {},
     "title": ""
    }
   },
   "outputs": [],
   "source": [
    "session_data_1435 = [\n",
    "    (1, 30),\n",
    "    (2, 199),\n",
    "    (3, 299),\n",
    "    (4, 580),\n",
    "    (5, 1000)\n",
    "]\n",
    "sessions_columns_1435 = [\"session_id\", \"duration\"]\n",
    "sessions_df_1435 = spark.createDataFrame(session_data_1435, sessions_columns_1435)\n",
    "sessions_df_1435.show()"
   ]
  }
 ],
 "metadata": {
  "application/vnd.databricks.v1+notebook": {
   "computePreferences": null,
   "dashboards": [],
   "environmentMetadata": {
    "base_environment": "",
    "environment_version": "1"
   },
   "inputWidgetPreferences": null,
   "language": "python",
   "notebookMetadata": {
    "pythonIndentUnit": 4
   },
   "notebookName": "1435. Create a Session Bar Chart (Easy)-(Solved)",
   "widgets": {}
  },
  "language_info": {
   "name": "python"
  }
 },
 "nbformat": 4,
 "nbformat_minor": 0
}
