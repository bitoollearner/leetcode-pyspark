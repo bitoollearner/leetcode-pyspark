{
 "cells": [
  {
   "cell_type": "markdown",
   "metadata": {
    "application/vnd.databricks.v1+cell": {
     "cellMetadata": {
      "byteLimit": 2048000,
      "rowLimit": 10000
     },
     "inputWidgets": {},
     "nuid": "5ab27f1b-7c08-44cb-8766-b16c3470b90d",
     "showTitle": false,
     "tableResultSettingsMap": {},
     "title": ""
    }
   },
   "source": [
    "## Importing Libraries"
   ]
  },
  {
   "cell_type": "code",
   "execution_count": 0,
   "metadata": {
    "application/vnd.databricks.v1+cell": {
     "cellMetadata": {
      "byteLimit": 2048000,
      "rowLimit": 10000
     },
     "inputWidgets": {},
     "nuid": "0d316502-e6b4-4432-b3fd-6159096e4951",
     "showTitle": false,
     "tableResultSettingsMap": {},
     "title": ""
    }
   },
   "outputs": [],
   "source": [
    "from pyspark.sql.functions import *\n",
    "from pyspark.sql.types import *\n",
    "from pyspark.sql.window import Window"
   ]
  },
  {
   "cell_type": "markdown",
   "metadata": {
    "application/vnd.databricks.v1+cell": {
     "cellMetadata": {
      "byteLimit": 2048000,
      "rowLimit": 10000
     },
     "inputWidgets": {},
     "nuid": "2e4d3e31-be24-427a-bc7e-362b6765c4fa",
     "showTitle": false,
     "tableResultSettingsMap": {},
     "title": ""
    }
   },
   "source": [
    "**614. Second Degree Follower (Medium)**\n",
    "\n",
    "**Table: Follow**\n",
    "\n",
    "| Column Name | Type    |\n",
    "|-------------|---------|\n",
    "| followee    | varchar |\n",
    "| follower    | varchar |\n",
    "\n",
    "(followee, follower) is the primary key (combination of columns with unique values) for this table.\n",
    "Each row of this table indicates that the user follower follows the user followee on a social network.\n",
    "There will not be a user following themself.\n",
    " \n",
    "A second-degree follower is a user who:\n",
    "- follows at least one user, and\n",
    "- is followed by at least one user.\n",
    "\n",
    "**Write a solution to report the second-degree users and the number of their followers.**\n",
    "\n",
    "Return the result table ordered by follower in alphabetical order.\n",
    "\n",
    "The result format is in the following example.\n",
    "\n",
    "**Example 1:**\n",
    "\n",
    "**Input:** \n",
    "\n",
    "**Follow table:**\n",
    "\n",
    "| followee | follower |\n",
    "|----------|----------|\n",
    "| Alice    | Bob      |\n",
    "| Bob      | Cena     |\n",
    "| Bob      | Donald   |\n",
    "| Donald   | Edward   |\n",
    "\n",
    "**Output:** \n",
    "| follower | num |\n",
    "|----------|-----|\n",
    "| Bob      | 2   |\n",
    "| Donald   | 1   |\n",
    "\n",
    "**Explanation:** \n",
    "- User Bob has 2 followers. Bob is a second-degree follower because he follows Alice, so we include him in the result table.\n",
    "- User Donald has 1 follower. Donald is a second-degree follower because he follows Bob, so we include him in the result table.\n",
    "- User Alice has 1 follower. Alice is not a second-degree follower because she does not follow anyone, so we don not include her in the result table."
   ]
  },
  {
   "cell_type": "code",
   "execution_count": 0,
   "metadata": {
    "application/vnd.databricks.v1+cell": {
     "cellMetadata": {
      "byteLimit": 2048000,
      "rowLimit": 10000
     },
     "inputWidgets": {},
     "nuid": "f6f11a82-8828-41ca-828a-e88f8586b97a",
     "showTitle": false,
     "tableResultSettingsMap": {},
     "title": ""
    }
   },
   "outputs": [
    {
     "output_type": "stream",
     "name": "stdout",
     "output_type": "stream",
     "text": [
      "+--------+--------+\n|followee|follower|\n+--------+--------+\n|   Alice|     Bob|\n|     Bob|    Cena|\n|     Bob|  Donald|\n|  Donald|  Edward|\n+--------+--------+\n\n"
     ]
    }
   ],
   "source": [
    "follow_data_614 = [\n",
    "    (\"Alice\", \"Bob\"),\n",
    "    (\"Bob\", \"Cena\"),\n",
    "    (\"Bob\", \"Donald\"),\n",
    "    (\"Donald\", \"Edward\")\n",
    "]\n",
    "\n",
    "follow_columns_614 = ['followee', 'follower']\n",
    "follow_df_614 = spark.createDataFrame(follow_data_614, follow_columns_614)\n",
    "follow_df_614.show()"
   ]
  },
  {
   "cell_type": "code",
   "execution_count": 0,
   "metadata": {
    "application/vnd.databricks.v1+cell": {
     "cellMetadata": {
      "byteLimit": 2048000,
      "rowLimit": 10000
     },
     "inputWidgets": {},
     "nuid": "1ef23584-e45f-4c18-b1b6-66dca26c061b",
     "showTitle": false,
     "tableResultSettingsMap": {},
     "title": ""
    }
   },
   "outputs": [],
   "source": [
    "distinct_followers_df_614 = follow_df_614.select(\"follower\").distinct()"
   ]
  },
  {
   "cell_type": "code",
   "execution_count": 0,
   "metadata": {
    "application/vnd.databricks.v1+cell": {
     "cellMetadata": {
      "byteLimit": 2048000,
      "rowLimit": 10000
     },
     "inputWidgets": {},
     "nuid": "ee3f6be7-e0e4-4616-b458-202b9454907e",
     "showTitle": false,
     "tableResultSettingsMap": {},
     "title": ""
    }
   },
   "outputs": [],
   "source": [
    "total_followee_count_df_614 = follow_df_614.groupBy(\"followee\").agg(count(\"*\").alias(\"num\"))"
   ]
  },
  {
   "cell_type": "code",
   "execution_count": 0,
   "metadata": {
    "application/vnd.databricks.v1+cell": {
     "cellMetadata": {
      "byteLimit": 2048000,
      "rowLimit": 10000
     },
     "inputWidgets": {},
     "nuid": "a8ecccc0-589f-4fd6-bb6b-5f1bd8046368",
     "showTitle": false,
     "tableResultSettingsMap": {},
     "title": ""
    }
   },
   "outputs": [
    {
     "output_type": "stream",
     "name": "stdout",
     "output_type": "stream",
     "text": [
      "+--------+---+\n|follower|num|\n+--------+---+\n|     Bob|  2|\n|  Donald|  1|\n+--------+---+\n\n"
     ]
    }
   ],
   "source": [
    "distinct_followers_df_614\\\n",
    "    .join(\n",
    "    total_followee_count_df_614,\n",
    "    distinct_followers_df_614.follower == total_followee_count_df_614.followee,how=\"inner\")\\\n",
    "        .select(distinct_followers_df_614.follower,\"num\").orderBy(\"follower\").show()"
   ]
  }
 ],
 "metadata": {
  "application/vnd.databricks.v1+notebook": {
   "computePreferences": {
    "hardware": {
     "accelerator": null,
     "gpuPoolId": null,
     "memory": null
    }
   },
   "dashboards": [],
   "environmentMetadata": {
    "base_environment": "",
    "environment_version": "2"
   },
   "inputWidgetPreferences": null,
   "language": "python",
   "notebookMetadata": {
    "pythonIndentUnit": 4
   },
   "notebookName": "614. Second Degree Follower (Medium)-(Solved)",
   "widgets": {}
  },
  "language_info": {
   "name": "python"
  }
 },
 "nbformat": 4,
 "nbformat_minor": 0
}
