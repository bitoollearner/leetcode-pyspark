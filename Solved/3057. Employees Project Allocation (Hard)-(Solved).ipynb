{
 "cells": [
  {
   "cell_type": "markdown",
   "metadata": {
    "application/vnd.databricks.v1+cell": {
     "cellMetadata": {
      "byteLimit": 2048000,
      "rowLimit": 10000
     },
     "inputWidgets": {},
     "nuid": "7d1791bd-9552-4116-90b2-daa678bbffb8",
     "showTitle": false,
     "tableResultSettingsMap": {},
     "title": ""
    }
   },
   "source": [
    "## Importing Libraries"
   ]
  },
  {
   "cell_type": "code",
   "execution_count": 0,
   "metadata": {
    "application/vnd.databricks.v1+cell": {
     "cellMetadata": {
      "byteLimit": 2048000,
      "rowLimit": 10000
     },
     "inputWidgets": {},
     "nuid": "2901fbc9-49db-4285-8b94-c460f34d4c4f",
     "showTitle": false,
     "tableResultSettingsMap": {},
     "title": ""
    }
   },
   "outputs": [],
   "source": [
    "from pyspark.sql.functions import *\n",
    "from pyspark.sql.types import *\n",
    "from pyspark.sql.window import Window"
   ]
  },
  {
   "cell_type": "markdown",
   "metadata": {
    "application/vnd.databricks.v1+cell": {
     "cellMetadata": {
      "byteLimit": 2048000,
      "rowLimit": 10000
     },
     "inputWidgets": {},
     "nuid": "655120e7-6b25-417c-a08a-c6925feaa425",
     "showTitle": false,
     "tableResultSettingsMap": {},
     "title": ""
    }
   },
   "source": [
    "**3057. Employees Project Allocation (Hard)**\n",
    "\n",
    "**Table: Project**\n",
    "\n",
    "| Column Name | Type    |\n",
    "|-------------|---------|\n",
    "| project_id  | int     |\n",
    "| employee_id | int     |\n",
    "| workload    | int     |\n",
    "\n",
    "employee_id is the primary key (column with unique values) of this table.\n",
    "employee_id is a foreign key (reference column) to Employee table.\n",
    "Each row of this table indicates that the employee with employee_id is working on the project with project_id and the workload of the project.\n",
    "\n",
    "**Table: Employees**\n",
    "\n",
    "| Column Name      | Type    |\n",
    "|------------------|---------|\n",
    "| employee_id      | int     |\n",
    "| name             | varchar |\n",
    "| team             | varchar |\n",
    "\n",
    "employee_id is the primary key (column with unique values) of this table.\n",
    "Each row of this table contains information about one employee.\n",
    "\n",
    "**Write a solution to find the employees who are allocated to projects with a workload that exceeds the average workload of all employees for their respective teams.**\n",
    "\n",
    "Return the result table ordered by employee_id, project_id in ascending order.\n",
    "\n",
    "The result format is in the following example.\n",
    "\n",
    "**Example 1:**\n",
    "\n",
    "**Input:**\n",
    "**Project table:**\n",
    "| project_id  | employee_id | workload |\n",
    "|-------------|-------------|----------|\n",
    "| 1           | 1           |  45      |\n",
    "| 1           | 2           |  90      | \n",
    "| 2           | 3           |  12      |\n",
    "| 2           | 4           |  68      |\n",
    "\n",
    "**Employees table:**\n",
    "| employee_id | name   | team |\n",
    "|-------------|--------|------|\n",
    "| 1           | Khaled | A    |\n",
    "| 2           | Ali    | B    |\n",
    "| 3           | John   | B    |\n",
    "| 4           | Doe    | A    |\n",
    "\n",
    "**Output:**\n",
    "| employee_id | project_id | employee_name | project_workload |\n",
    "|-------------|------------|---------------|------------------|  \n",
    "| 2           | 1          | Ali           | 90               | \n",
    "| 4           | 2          | Doe           | 68               | \n",
    "\n",
    "**Explanation:**\n",
    "- Employee with ID 1 has a project workload of 45 and belongs to Team A, where the average workload is 56.50. Since his project workload does not exceed the team's average workload, he will be excluded.\n",
    "- Employee with ID 2 has a project workload of 90 and belongs to Team B, where the average workload is 51.00. Since his project workload does exceed the team's average workload, he will be included.\n",
    "- Employee with ID 3 has a project workload of 12 and belongs to Team B, where the average workload is 51.00. Since his project workload does not exceed the team's average workload, he will be excluded.\n",
    "- Employee with ID 4 has a project workload of 68 and belongs to Team A, where the average workload is 56.50. Since his project workload does exceed the team's average workload, he will be included.\n",
    "\n",
    "Result table orderd by employee_id, project_id in ascending order."
   ]
  },
  {
   "cell_type": "code",
   "execution_count": 0,
   "metadata": {
    "application/vnd.databricks.v1+cell": {
     "cellMetadata": {
      "byteLimit": 2048000,
      "rowLimit": 10000
     },
     "inputWidgets": {},
     "nuid": "a2368434-0191-416c-aa1d-12cd44cf48e6",
     "showTitle": false,
     "tableResultSettingsMap": {},
     "title": ""
    }
   },
   "outputs": [
    {
     "output_type": "stream",
     "name": "stdout",
     "output_type": "stream",
     "text": [
      "+----------+-----------+--------+\n|project_id|employee_id|workload|\n+----------+-----------+--------+\n|         1|          1|      45|\n|         1|          2|      90|\n|         2|          3|      12|\n|         2|          4|      68|\n+----------+-----------+--------+\n\n+-----------+------+----+\n|employee_id|  name|team|\n+-----------+------+----+\n|          1|Khaled|   A|\n|          2|   Ali|   B|\n|          3|  John|   B|\n|          4|   Doe|   A|\n+-----------+------+----+\n\n"
     ]
    }
   ],
   "source": [
    "project_data_3057 = [\n",
    "    (1, 1, 45),\n",
    "    (1, 2, 90),\n",
    "    (2, 3, 12),\n",
    "    (2, 4, 68),\n",
    "]\n",
    "\n",
    "project_columns_3057 = [\"project_id\", \"employee_id\", \"workload\"]\n",
    "project_df_3057 = spark.createDataFrame(project_data_3057, project_columns_3057)\n",
    "project_df_3057.show()\n",
    "\n",
    "employees_data_3057 = [\n",
    "    (1, \"Khaled\", \"A\"),\n",
    "    (2, \"Ali\", \"B\"),\n",
    "    (3, \"John\", \"B\"),\n",
    "    (4, \"Doe\", \"A\"),\n",
    "]\n",
    "\n",
    "employees_columns_3057 = [\"employee_id\", \"name\", \"team\"]\n",
    "employees_df_3057 = spark.createDataFrame(employees_data_3057, employees_columns_3057)\n",
    "employees_df_3057.show()"
   ]
  },
  {
   "cell_type": "code",
   "execution_count": 0,
   "metadata": {
    "application/vnd.databricks.v1+cell": {
     "cellMetadata": {
      "byteLimit": 2048000,
      "rowLimit": 10000
     },
     "inputWidgets": {},
     "nuid": "aa8ecb80-35ea-4b39-aa8e-297374f6b1c7",
     "showTitle": false,
     "tableResultSettingsMap": {},
     "title": ""
    }
   },
   "outputs": [],
   "source": [
    "joined_df_3057 = project_df_3057\\\n",
    "                    .join(employees_df_3057, on=\"employee_id\", how=\"inner\")"
   ]
  },
  {
   "cell_type": "code",
   "execution_count": 0,
   "metadata": {
    "application/vnd.databricks.v1+cell": {
     "cellMetadata": {
      "byteLimit": 2048000,
      "rowLimit": 10000
     },
     "inputWidgets": {},
     "nuid": "a17ef06a-7a78-49c1-8b6e-4988e96eca5c",
     "showTitle": false,
     "tableResultSettingsMap": {},
     "title": ""
    }
   },
   "outputs": [],
   "source": [
    "team_avg_df_3057 = joined_df_3057\\\n",
    "                        .groupBy(\"team\")\\\n",
    "                            .agg(avg(\"workload\").alias(\"avg_workload\"))"
   ]
  },
  {
   "cell_type": "code",
   "execution_count": 0,
   "metadata": {
    "application/vnd.databricks.v1+cell": {
     "cellMetadata": {
      "byteLimit": 2048000,
      "rowLimit": 10000
     },
     "inputWidgets": {},
     "nuid": "299fed86-aa51-4f57-b5c6-5b45b5ca5012",
     "showTitle": false,
     "tableResultSettingsMap": {},
     "title": ""
    }
   },
   "outputs": [],
   "source": [
    "comparison_df_3057 = joined_df_3057\\\n",
    "                        .join(team_avg_df_3057, on=\"team\", how=\"inner\") \\\n",
    "                            .filter(col(\"workload\") > col(\"avg_workload\"))"
   ]
  },
  {
   "cell_type": "code",
   "execution_count": 0,
   "metadata": {
    "application/vnd.databricks.v1+cell": {
     "cellMetadata": {
      "byteLimit": 2048000,
      "rowLimit": 10000
     },
     "inputWidgets": {},
     "nuid": "5f48f620-3053-49b1-bc25-3da26cf130bc",
     "showTitle": false,
     "tableResultSettingsMap": {},
     "title": ""
    }
   },
   "outputs": [
    {
     "output_type": "display_data",
     "data": {
      "text/html": [
       "<style scoped>\n",
       "  .table-result-container {\n",
       "    max-height: 300px;\n",
       "    overflow: auto;\n",
       "  }\n",
       "  table, th, td {\n",
       "    border: 1px solid black;\n",
       "    border-collapse: collapse;\n",
       "  }\n",
       "  th, td {\n",
       "    padding: 5px;\n",
       "  }\n",
       "  th {\n",
       "    text-align: left;\n",
       "  }\n",
       "</style><div class='table-result-container'><table class='table-result'><thead style='background-color: white'><tr><th>employee_id</th><th>project_id</th><th>employee_name</th><th>project_workload</th></tr></thead><tbody><tr><td>2</td><td>1</td><td>Ali</td><td>90</td></tr><tr><td>4</td><td>2</td><td>Doe</td><td>68</td></tr></tbody></table></div>"
      ]
     },
     "metadata": {
      "application/vnd.databricks.v1+output": {
       "addedWidgets": {},
       "aggData": [],
       "aggError": "",
       "aggOverflow": false,
       "aggSchema": [],
       "aggSeriesLimitReached": false,
       "aggType": "",
       "arguments": {},
       "columnCustomDisplayInfos": {},
       "data": [
        [
         2,
         1,
         "Ali",
         90
        ],
        [
         4,
         2,
         "Doe",
         68
        ]
       ],
       "datasetInfos": [],
       "dbfsResultPath": null,
       "isJsonSchema": true,
       "metadata": {},
       "overflow": false,
       "plotOptions": {
        "customPlotOptions": {},
        "displayType": "table",
        "pivotAggregation": null,
        "pivotColumns": null,
        "xColumns": null,
        "yColumns": null
       },
       "removedWidgets": [],
       "schema": [
        {
         "metadata": "{}",
         "name": "employee_id",
         "type": "\"long\""
        },
        {
         "metadata": "{}",
         "name": "project_id",
         "type": "\"long\""
        },
        {
         "metadata": "{}",
         "name": "employee_name",
         "type": "\"string\""
        },
        {
         "metadata": "{}",
         "name": "project_workload",
         "type": "\"long\""
        }
       ],
       "type": "table"
      }
     },
     "output_type": "display_data"
    }
   ],
   "source": [
    "comparison_df_3057\\\n",
    "    .select( \"employee_id\", \"project_id\", col(\"name\").alias(\"employee_name\"), col(\"workload\").alias(\"project_workload\"))\\\n",
    "        .orderBy(\"employee_id\", \"project_id\").display()"
   ]
  }
 ],
 "metadata": {
  "application/vnd.databricks.v1+notebook": {
   "computePreferences": {
    "hardware": {
     "accelerator": null,
     "gpuPoolId": null,
     "memory": null
    }
   },
   "dashboards": [],
   "environmentMetadata": {
    "base_environment": "",
    "environment_version": "2"
   },
   "inputWidgetPreferences": null,
   "language": "python",
   "notebookMetadata": {
    "pythonIndentUnit": 4
   },
   "notebookName": "3057. Employees Project Allocation (Hard)-(Solved)",
   "widgets": {}
  },
  "language_info": {
   "name": "python"
  }
 },
 "nbformat": 4,
 "nbformat_minor": 0
}
