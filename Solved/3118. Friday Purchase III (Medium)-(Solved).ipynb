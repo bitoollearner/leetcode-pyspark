{
 "cells": [
  {
   "cell_type": "markdown",
   "metadata": {
    "application/vnd.databricks.v1+cell": {
     "cellMetadata": {
      "byteLimit": 2048000,
      "rowLimit": 10000
     },
     "inputWidgets": {},
     "nuid": "7d1791bd-9552-4116-90b2-daa678bbffb8",
     "showTitle": false,
     "tableResultSettingsMap": {},
     "title": ""
    }
   },
   "source": [
    "## Importing Libraries"
   ]
  },
  {
   "cell_type": "code",
   "execution_count": 0,
   "metadata": {
    "application/vnd.databricks.v1+cell": {
     "cellMetadata": {
      "byteLimit": 2048000,
      "rowLimit": 10000
     },
     "inputWidgets": {},
     "nuid": "2901fbc9-49db-4285-8b94-c460f34d4c4f",
     "showTitle": false,
     "tableResultSettingsMap": {},
     "title": ""
    }
   },
   "outputs": [],
   "source": [
    "from pyspark.sql.functions import *\n",
    "from pyspark.sql.types import *\n",
    "from pyspark.sql.window import Window"
   ]
  },
  {
   "cell_type": "markdown",
   "metadata": {
    "application/vnd.databricks.v1+cell": {
     "cellMetadata": {
      "byteLimit": 2048000,
      "rowLimit": 10000
     },
     "inputWidgets": {},
     "nuid": "655120e7-6b25-417c-a08a-c6925feaa425",
     "showTitle": false,
     "tableResultSettingsMap": {},
     "title": ""
    }
   },
   "source": [
    "**3118. Friday Purchase III (Medium)**\n",
    "\n",
    "**Table: Purchases**\n",
    "\n",
    "| Column Name   | Type |\n",
    "|---------------|------|\n",
    "| user_id       | int  |\n",
    "| purchase_date | date |\n",
    "| amount_spend  | int  |\n",
    "\n",
    "(user_id, purchase_date, amount_spend) is the primary key (combination of columns with unique values) for this table.\n",
    "purchase_date will range from November 1, 2023, to November 30, 2023, inclusive of both dates.\n",
    "Each row contains user_id, purchase_date, and amount_spend.\n",
    "\n",
    "**Table: Users**\n",
    "\n",
    "| Column Name | Type |\n",
    "|-------------|------|\n",
    "| user_id     | int  |\n",
    "| membership  | enum |\n",
    "\n",
    "user_id is the primary key for this table.\n",
    "membership is an ENUM (category) type of ('Standard', 'Premium', 'VIP').\n",
    "Each row of this table indicates the user_id, membership type.\n",
    "\n",
    "**Write a solution to calculate the total spending by Premium and VIP members on each Friday of every week in November 2023.  If there are no purchases on a particular Friday by Premium or VIP members, it should be considered as 0.**\n",
    "\n",
    "Return the result table ordered by week of the month,  and membership in ascending order.\n",
    "\n",
    "The result format is in the following example.\n",
    "\n",
    "**Example:**\n",
    "\n",
    "**Input:**\n",
    "\n",
    "**Purchases table:**\n",
    "\n",
    "| user_id | purchase_date | amount_spend |\n",
    "|---------|---------------|--------------|\n",
    "| 11      | 2023-11-03    | 1126         |\n",
    "| 15      | 2023-11-10    | 7473         |\n",
    "| 17      | 2023-11-17    | 2414         |\n",
    "| 12      | 2023-11-24    | 9692         |\n",
    "| 8       | 2023-11-24    | 5117         |\n",
    "| 1       | 2023-11-24    | 5241         |\n",
    "| 10      | 2023-11-22    | 8266         |\n",
    "| 13      | 2023-11-21    | 12000        |\n",
    "\n",
    "**Users table:**\n",
    "\n",
    "| user_id | membership |\n",
    "|---------|------------|\n",
    "| 11      | Premium    |\n",
    "| 15      | VIP        |\n",
    "| 17      | Standard   |\n",
    "| 12      | VIP        |\n",
    "| 8       | Premium    |\n",
    "| 1       | VIP        |\n",
    "| 10      | Standard   |\n",
    "| 13      | Premium    |\n",
    "\n",
    "**Output:**\n",
    "\n",
    "| week_of_month | membership  | total_amount |\n",
    "|---------------|-------------|--------------|\n",
    "| 1             | Premium     | 1126         |\n",
    "| 1             | VIP         | 0            |\n",
    "| 2             | Premium     | 0            |\n",
    "| 2             | VIP         | 7473         |\n",
    "| 3             | Premium     | 0            |\n",
    "| 3             | VIP         | 0            |\n",
    "| 4             | Premium     | 5117         |\n",
    "| 4             | VIP         | 14933        |\n",
    "        \n",
    "**Explanation:**\n",
    "- During the first week of November 2023, a transaction occurred on Friday, 2023-11-03, by a Premium member amounting to $1,126. No transactions were made by VIP members on this day, resulting in a value of 0.\n",
    "- For the second week of November 2023, there was a transaction on Friday, 2023-11-10, and it was made by a VIP member, amounting to $7,473. Since there were no purchases by Premium members that Friday, the output shows 0 for Premium members.\n",
    "- Similarly, during the third week of November 2023, no transactions by Premium or VIP members occurred on Friday, 2023-11-17, which shows 0 for both categories in this week.\n",
    "- In the fourth week of November 2023, transactions occurred on Friday, 2023-11-24, involving one Premium member purchase of $5,117 and VIP member purchases totaling $14,933 ($9,692 from one and $5,241 from another).\n",
    "\n",
    "**Note:** The output table is ordered by week_of_month and membership in ascending order."
   ]
  },
  {
   "cell_type": "code",
   "execution_count": 0,
   "metadata": {
    "application/vnd.databricks.v1+cell": {
     "cellMetadata": {
      "byteLimit": 2048000,
      "rowLimit": 10000
     },
     "inputWidgets": {},
     "nuid": "a2368434-0191-416c-aa1d-12cd44cf48e6",
     "showTitle": false,
     "tableResultSettingsMap": {},
     "title": ""
    }
   },
   "outputs": [
    {
     "output_type": "stream",
     "name": "stdout",
     "output_type": "stream",
     "text": [
      "+-------+-------------+------------+\n|user_id|purchase_date|amount_spend|\n+-------+-------------+------------+\n|     11|   2023-11-03|        1126|\n|     15|   2023-11-10|        7473|\n|     17|   2023-11-17|        2414|\n|     12|   2023-11-24|        9692|\n|      8|   2023-11-24|        5117|\n|      1|   2023-11-24|        5241|\n|     10|   2023-11-22|        8266|\n|     13|   2023-11-21|       12000|\n+-------+-------------+------------+\n\n+-------+----------+\n|user_id|membership|\n+-------+----------+\n|     11|   Premium|\n|     15|       VIP|\n|     17|  Standard|\n|     12|       VIP|\n|      8|   Premium|\n|      1|       VIP|\n|     10|  Standard|\n|     13|   Premium|\n+-------+----------+\n\n"
     ]
    }
   ],
   "source": [
    "purchases_data_3118 = [\n",
    "    (11, \"2023-11-03\", 1126),\n",
    "    (15, \"2023-11-10\", 7473),\n",
    "    (17, \"2023-11-17\", 2414),\n",
    "    (12, \"2023-11-24\", 9692),\n",
    "    (8, \"2023-11-24\", 5117),\n",
    "    (1, \"2023-11-24\", 5241),\n",
    "    (10, \"2023-11-22\", 8266),\n",
    "    (13, \"2023-11-21\", 12000),\n",
    "]\n",
    "\n",
    "purchases_columns_3118 = [\"user_id\", \"purchase_date\", \"amount_spend\"]\n",
    "purchases_df_3118 = spark.createDataFrame(purchases_data_3118, purchases_columns_3118)\n",
    "purchases_df_3118.show()\n",
    "\n",
    "users_data_3118 = [\n",
    "    (11, \"Premium\"),\n",
    "    (15, \"VIP\"),\n",
    "    (17, \"Standard\"),\n",
    "    (12, \"VIP\"),\n",
    "    (8, \"Premium\"),\n",
    "    (1, \"VIP\"),\n",
    "    (10, \"Standard\"),\n",
    "    (13, \"Premium\"),\n",
    "]\n",
    "\n",
    "users_columns_3118 = [\"user_id\", \"membership\"]\n",
    "users_df_3118 = spark.createDataFrame(users_data_3118, users_columns_3118)\n",
    "users_df_3118.show()\n"
   ]
  },
  {
   "cell_type": "code",
   "execution_count": 0,
   "metadata": {
    "application/vnd.databricks.v1+cell": {
     "cellMetadata": {
      "byteLimit": 2048000,
      "rowLimit": 10000
     },
     "inputWidgets": {},
     "nuid": "ea9b4523-50e1-4a9c-83a8-9b13ae08b26d",
     "showTitle": false,
     "tableResultSettingsMap": {},
     "title": ""
    }
   },
   "outputs": [],
   "source": [
    "fridays = [\"2023-11-03\", \"2023-11-10\", \"2023-11-17\", \"2023-11-24\"]"
   ]
  },
  {
   "cell_type": "code",
   "execution_count": 0,
   "metadata": {
    "application/vnd.databricks.v1+cell": {
     "cellMetadata": {
      "byteLimit": 2048000,
      "rowLimit": 10000
     },
     "inputWidgets": {},
     "nuid": "2d7dda90-54a0-4868-b8f3-90c539c43509",
     "showTitle": false,
     "tableResultSettingsMap": {},
     "title": ""
    }
   },
   "outputs": [],
   "source": [
    "fridays_df_3118 = spark.createDataFrame( [(d,) for d in fridays], [\"purchase_date\"])\\\n",
    "                    .withColumn(\"purchase_date\", col(\"purchase_date\").cast(DateType()))"
   ]
  },
  {
   "cell_type": "code",
   "execution_count": 0,
   "metadata": {
    "application/vnd.databricks.v1+cell": {
     "cellMetadata": {
      "byteLimit": 2048000,
      "rowLimit": 10000
     },
     "inputWidgets": {},
     "nuid": "f0db9753-fccc-4d25-af15-d33e61c268a1",
     "showTitle": false,
     "tableResultSettingsMap": {},
     "title": ""
    }
   },
   "outputs": [
    {
     "output_type": "stream",
     "name": "stderr",
     "output_type": "stream",
     "text": [
      "/databricks/python/lib/python3.11/site-packages/pyspark/sql/connect/expressions.py:1017: UserWarning: WARN WindowExpression: No Partition Defined for Window operation! Moving all data to a single partition, this can cause serious performance degradation.\n  warnings.warn(\n"
     ]
    }
   ],
   "source": [
    "fridays_df_3118 = fridays_df_3118\\\n",
    "                    .withColumn( \"week_of_month\", row_number().over(Window.orderBy(\"purchase_date\")))"
   ]
  },
  {
   "cell_type": "code",
   "execution_count": 0,
   "metadata": {
    "application/vnd.databricks.v1+cell": {
     "cellMetadata": {
      "byteLimit": 2048000,
      "rowLimit": 10000
     },
     "inputWidgets": {},
     "nuid": "e446eea5-642f-4a8b-a269-083e9f005f31",
     "showTitle": false,
     "tableResultSettingsMap": {},
     "title": ""
    }
   },
   "outputs": [
    {
     "output_type": "stream",
     "name": "stderr",
     "output_type": "stream",
     "text": [
      "/databricks/python/lib/python3.11/site-packages/pyspark/sql/connect/expressions.py:1017: UserWarning: WARN WindowExpression: No Partition Defined for Window operation! Moving all data to a single partition, this can cause serious performance degradation.\n  warnings.warn(\n"
     ]
    }
   ],
   "source": [
    "purchases_friday_3118 = purchases_df_3118.join(fridays_df_3118, \"purchase_date\", \"inner\")"
   ]
  },
  {
   "cell_type": "code",
   "execution_count": 0,
   "metadata": {
    "application/vnd.databricks.v1+cell": {
     "cellMetadata": {
      "byteLimit": 2048000,
      "rowLimit": 10000
     },
     "inputWidgets": {},
     "nuid": "a3d23429-6eb1-47c3-b4b1-6cb3a69d8af8",
     "showTitle": false,
     "tableResultSettingsMap": {},
     "title": ""
    }
   },
   "outputs": [
    {
     "output_type": "stream",
     "name": "stderr",
     "output_type": "stream",
     "text": [
      "/databricks/python/lib/python3.11/site-packages/pyspark/sql/connect/expressions.py:1017: UserWarning: WARN WindowExpression: No Partition Defined for Window operation! Moving all data to a single partition, this can cause serious performance degradation.\n  warnings.warn(\n"
     ]
    }
   ],
   "source": [
    "purchases_users_3118 = purchases_friday_3118\\\n",
    "                            .join(users_df_3118, \"user_id\", \"inner\") \\\n",
    "                                .filter(col(\"membership\").isin(\"Premium\", \"VIP\"))"
   ]
  },
  {
   "cell_type": "code",
   "execution_count": 0,
   "metadata": {
    "application/vnd.databricks.v1+cell": {
     "cellMetadata": {
      "byteLimit": 2048000,
      "rowLimit": 10000
     },
     "inputWidgets": {},
     "nuid": "8786deb3-d9f6-4802-b134-70275ebecd9d",
     "showTitle": false,
     "tableResultSettingsMap": {},
     "title": ""
    }
   },
   "outputs": [
    {
     "output_type": "stream",
     "name": "stderr",
     "output_type": "stream",
     "text": [
      "/databricks/python/lib/python3.11/site-packages/pyspark/sql/connect/expressions.py:1017: UserWarning: WARN WindowExpression: No Partition Defined for Window operation! Moving all data to a single partition, this can cause serious performance degradation.\n  warnings.warn(\n"
     ]
    }
   ],
   "source": [
    "agg_spend_3118 = purchases_users_3118\\\n",
    "                    .groupBy(\"week_of_month\", \"membership\") \\\n",
    "                        .agg(sum(\"amount_spend\").alias(\"total_amount\"))"
   ]
  },
  {
   "cell_type": "code",
   "execution_count": 0,
   "metadata": {
    "application/vnd.databricks.v1+cell": {
     "cellMetadata": {
      "byteLimit": 2048000,
      "rowLimit": 10000
     },
     "inputWidgets": {},
     "nuid": "2f102207-7129-4b89-add7-c4095386895a",
     "showTitle": false,
     "tableResultSettingsMap": {},
     "title": ""
    }
   },
   "outputs": [],
   "source": [
    "memberships = spark.createDataFrame([(\"Premium\",), (\"VIP\",)], [\"membership\"])"
   ]
  },
  {
   "cell_type": "code",
   "execution_count": 0,
   "metadata": {
    "application/vnd.databricks.v1+cell": {
     "cellMetadata": {
      "byteLimit": 2048000,
      "rowLimit": 10000
     },
     "inputWidgets": {},
     "nuid": "4666d715-3061-442e-939d-a6e1ca126729",
     "showTitle": false,
     "tableResultSettingsMap": {},
     "title": ""
    }
   },
   "outputs": [
    {
     "output_type": "stream",
     "name": "stderr",
     "output_type": "stream",
     "text": [
      "/databricks/python/lib/python3.11/site-packages/pyspark/sql/connect/expressions.py:1017: UserWarning: WARN WindowExpression: No Partition Defined for Window operation! Moving all data to a single partition, this can cause serious performance degradation.\n  warnings.warn(\n"
     ]
    }
   ],
   "source": [
    "all_combinations_3118 = fridays_df_3118.select(\"week_of_month\").distinct().crossJoin(memberships)"
   ]
  },
  {
   "cell_type": "code",
   "execution_count": 0,
   "metadata": {
    "application/vnd.databricks.v1+cell": {
     "cellMetadata": {
      "byteLimit": 2048000,
      "rowLimit": 10000
     },
     "inputWidgets": {},
     "nuid": "59eadca1-4704-4aad-86d1-3324d1aa9351",
     "showTitle": false,
     "tableResultSettingsMap": {},
     "title": ""
    }
   },
   "outputs": [
    {
     "output_type": "stream",
     "name": "stderr",
     "output_type": "stream",
     "text": [
      "/databricks/python/lib/python3.11/site-packages/pyspark/sql/connect/expressions.py:1017: UserWarning: WARN WindowExpression: No Partition Defined for Window operation! Moving all data to a single partition, this can cause serious performance degradation.\n  warnings.warn(\n"
     ]
    },
    {
     "output_type": "display_data",
     "data": {
      "text/html": [
       "<style scoped>\n",
       "  .table-result-container {\n",
       "    max-height: 300px;\n",
       "    overflow: auto;\n",
       "  }\n",
       "  table, th, td {\n",
       "    border: 1px solid black;\n",
       "    border-collapse: collapse;\n",
       "  }\n",
       "  th, td {\n",
       "    padding: 5px;\n",
       "  }\n",
       "  th {\n",
       "    text-align: left;\n",
       "  }\n",
       "</style><div class='table-result-container'><table class='table-result'><thead style='background-color: white'><tr><th>week_of_month</th><th>membership</th><th>total_amount</th></tr></thead><tbody><tr><td>1</td><td>Premium</td><td>1126</td></tr><tr><td>1</td><td>VIP</td><td>0</td></tr><tr><td>2</td><td>Premium</td><td>0</td></tr><tr><td>2</td><td>VIP</td><td>7473</td></tr><tr><td>3</td><td>Premium</td><td>0</td></tr><tr><td>3</td><td>VIP</td><td>0</td></tr><tr><td>4</td><td>Premium</td><td>5117</td></tr><tr><td>4</td><td>VIP</td><td>14933</td></tr></tbody></table></div>"
      ]
     },
     "metadata": {
      "application/vnd.databricks.v1+output": {
       "addedWidgets": {},
       "aggData": [],
       "aggError": "",
       "aggOverflow": false,
       "aggSchema": [],
       "aggSeriesLimitReached": false,
       "aggType": "",
       "arguments": {},
       "columnCustomDisplayInfos": {},
       "data": [
        [
         1,
         "Premium",
         1126
        ],
        [
         1,
         "VIP",
         0
        ],
        [
         2,
         "Premium",
         0
        ],
        [
         2,
         "VIP",
         7473
        ],
        [
         3,
         "Premium",
         0
        ],
        [
         3,
         "VIP",
         0
        ],
        [
         4,
         "Premium",
         5117
        ],
        [
         4,
         "VIP",
         14933
        ]
       ],
       "datasetInfos": [],
       "dbfsResultPath": null,
       "isJsonSchema": true,
       "metadata": {},
       "overflow": false,
       "plotOptions": {
        "customPlotOptions": {},
        "displayType": "table",
        "pivotAggregation": null,
        "pivotColumns": null,
        "xColumns": null,
        "yColumns": null
       },
       "removedWidgets": [],
       "schema": [
        {
         "metadata": "{}",
         "name": "week_of_month",
         "type": "\"integer\""
        },
        {
         "metadata": "{}",
         "name": "membership",
         "type": "\"string\""
        },
        {
         "metadata": "{}",
         "name": "total_amount",
         "type": "\"long\""
        }
       ],
       "type": "table"
      }
     },
     "output_type": "display_data"
    }
   ],
   "source": [
    "all_combinations_3118\\\n",
    "    .join( agg_spend_3118, [\"week_of_month\", \"membership\"], \"left\")\\\n",
    "        .fillna(0, subset=[\"total_amount\"])\\\n",
    "            .orderBy(\"week_of_month\", \"membership\").display()"
   ]
  }
 ],
 "metadata": {
  "application/vnd.databricks.v1+notebook": {
   "computePreferences": {
    "hardware": {
     "accelerator": null,
     "gpuPoolId": null,
     "memory": null
    }
   },
   "dashboards": [],
   "environmentMetadata": {
    "base_environment": "",
    "environment_version": "2"
   },
   "inputWidgetPreferences": null,
   "language": "python",
   "notebookMetadata": {
    "pythonIndentUnit": 4
   },
   "notebookName": "3118. Friday Purchase III (Medium)-(Solved)",
   "widgets": {}
  },
  "language_info": {
   "name": "python"
  }
 },
 "nbformat": 4,
 "nbformat_minor": 0
}
