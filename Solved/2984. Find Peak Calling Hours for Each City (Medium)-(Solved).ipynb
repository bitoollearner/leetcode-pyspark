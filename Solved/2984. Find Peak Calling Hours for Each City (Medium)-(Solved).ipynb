{
 "cells": [
  {
   "cell_type": "markdown",
   "metadata": {
    "application/vnd.databricks.v1+cell": {
     "cellMetadata": {
      "byteLimit": 2048000,
      "rowLimit": 10000
     },
     "inputWidgets": {},
     "nuid": "4e9d71b1-88e9-445c-820a-b842e217a4e7",
     "showTitle": false,
     "tableResultSettingsMap": {},
     "title": ""
    }
   },
   "source": [
    "## Importing Libraries"
   ]
  },
  {
   "cell_type": "code",
   "execution_count": 0,
   "metadata": {
    "application/vnd.databricks.v1+cell": {
     "cellMetadata": {
      "byteLimit": 2048000,
      "rowLimit": 10000
     },
     "inputWidgets": {},
     "nuid": "e6624c4d-8cb8-4ac4-8c72-81d1b4ecdb57",
     "showTitle": false,
     "tableResultSettingsMap": {},
     "title": ""
    }
   },
   "outputs": [],
   "source": [
    "from pyspark.sql.functions import *\n",
    "from pyspark.sql.types import *\n",
    "from pyspark.sql.window import Window"
   ]
  },
  {
   "cell_type": "markdown",
   "metadata": {
    "application/vnd.databricks.v1+cell": {
     "cellMetadata": {
      "byteLimit": 2048000,
      "rowLimit": 10000
     },
     "inputWidgets": {},
     "nuid": "c3788fe5-f4c9-420f-ad72-ec1a39310a2a",
     "showTitle": false,
     "tableResultSettingsMap": {},
     "title": ""
    }
   },
   "source": [
    "**2984. Find Peak Calling Hours for Each City (Medium)**\n",
    "\n",
    "**Table: Calls**\n",
    "\n",
    "| Column Name  | Type     |\n",
    "|--------------|----------|\n",
    "| caller_id    | int      |\n",
    "| recipient_id | int      |\n",
    "| call_time    | datetime |\n",
    "| city         | varchar  |\n",
    "\n",
    "(caller_id, recipient_id, call_time) is the primary key (combination of columns with unique values) for this table.\n",
    "Each row contains caller id, recipient id, call time, and city.\n",
    "\n",
    "**Write a solution to find the peak calling hour for each city. If multiple hours have the same number of calls, all of those hours will be recognized as peak hours for that specific city.**\n",
    "\n",
    "Return the result table ordered by peak calling hour and city in descending order.\n",
    "\n",
    "The result format is in the following example.\n",
    "\n",
    "**Example 1:**\n",
    "\n",
    "**Input:**\n",
    "**Calls table:**\n",
    "| caller_id | recipient_id | call_time           | city     |\n",
    "|-----------|--------------|---------------------|----------|\n",
    "| 8         | 4            | 2021-08-24 22:46:07 | Houston  |\n",
    "| 4         | 8            | 2021-08-24 22:57:13 | Houston  |  \n",
    "| 5         | 1            | 2021-08-11 21:28:44 | Houston  |  \n",
    "| 8         | 3            | 2021-08-17 22:04:15 | Houston  |\n",
    "| 11        | 3            | 2021-08-17 13:07:00 | New York |\n",
    "| 8         | 11           | 2021-08-17 14:22:22 | New York |\n",
    "\n",
    "**Output:** \n",
    "| city     | peak_calling_hour | number_of_calls |\n",
    "|----------|-------------------|-----------------|\n",
    "| Houston  | 22                | 3               |\n",
    "| New York | 14                | 1               |\n",
    "| New York | 13                | 1               |\n",
    "\n",
    "**Explanation:** \n",
    "\n",
    "- For Houston:\n",
    "  - The peak time is 22:00, with a total of 3 calls recorded. \n",
    "- For New York:\n",
    "  - Both 13:00 and 14:00 hours have equal call counts of 1, so both times are considered peak hours.\n",
    "\n",
    "Output table is ordered by peak_calling_hour and city in descending order."
   ]
  },
  {
   "cell_type": "code",
   "execution_count": 0,
   "metadata": {
    "application/vnd.databricks.v1+cell": {
     "cellMetadata": {
      "byteLimit": 2048000,
      "rowLimit": 10000
     },
     "inputWidgets": {},
     "nuid": "137536ea-9bec-4171-8dc2-4bf8b0d771b4",
     "showTitle": false,
     "tableResultSettingsMap": {},
     "title": ""
    }
   },
   "outputs": [
    {
     "output_type": "stream",
     "name": "stdout",
     "output_type": "stream",
     "text": [
      "+---------+------------+-------------------+--------+\n|caller_id|recipient_id|          call_time|    city|\n+---------+------------+-------------------+--------+\n|        8|           4|2021-08-24 22:46:07| Houston|\n|        4|           8|2021-08-24 22:57:13| Houston|\n|        5|           1|2021-08-11 21:28:44| Houston|\n|        8|           3|2021-08-17 22:04:15| Houston|\n|       11|           3|2021-08-17 13:07:00|New York|\n|        8|          11|2021-08-17 14:22:22|New York|\n+---------+------------+-------------------+--------+\n\n"
     ]
    }
   ],
   "source": [
    "calls_data_2984 = [\n",
    "    (8, 4, \"2021-08-24 22:46:07\", \"Houston\"),\n",
    "    (4, 8, \"2021-08-24 22:57:13\", \"Houston\"),\n",
    "    (5, 1, \"2021-08-11 21:28:44\", \"Houston\"),\n",
    "    (8, 3, \"2021-08-17 22:04:15\", \"Houston\"),\n",
    "    (11, 3, \"2021-08-17 13:07:00\", \"New York\"),\n",
    "    (8, 11, \"2021-08-17 14:22:22\", \"New York\")\n",
    "]\n",
    "\n",
    "calls_columns_2984 = [\"caller_id\", \"recipient_id\", \"call_time\", \"city\"]\n",
    "calls_df_2984 = spark.createDataFrame(calls_data_2984, calls_columns_2984)\n",
    "calls_df_2984.show()"
   ]
  },
  {
   "cell_type": "code",
   "execution_count": 0,
   "metadata": {
    "application/vnd.databricks.v1+cell": {
     "cellMetadata": {
      "byteLimit": 2048000,
      "rowLimit": 10000
     },
     "inputWidgets": {},
     "nuid": "bd3781c0-944d-4ce4-9704-13a48b402967",
     "showTitle": false,
     "tableResultSettingsMap": {},
     "title": ""
    }
   },
   "outputs": [],
   "source": [
    "calls_df_2984 = calls_df_2984\\\n",
    "                    .withColumn(\"call_time\", to_timestamp(\"call_time\"))\\\n",
    "                        .withColumn(\"hour\", hour(\"call_time\"))"
   ]
  },
  {
   "cell_type": "code",
   "execution_count": 0,
   "metadata": {
    "application/vnd.databricks.v1+cell": {
     "cellMetadata": {
      "byteLimit": 2048000,
      "rowLimit": 10000
     },
     "inputWidgets": {},
     "nuid": "5ed99ef9-62b1-48a8-8afe-608e18a24809",
     "showTitle": false,
     "tableResultSettingsMap": {},
     "title": ""
    }
   },
   "outputs": [],
   "source": [
    "calls_per_hour_2984 = calls_df_2984\\\n",
    "                        .groupBy(\"city\", \"hour\")\\\n",
    "                            .agg(count(\"*\").alias(\"number_of_calls\"))"
   ]
  },
  {
   "cell_type": "code",
   "execution_count": 0,
   "metadata": {
    "application/vnd.databricks.v1+cell": {
     "cellMetadata": {
      "byteLimit": 2048000,
      "rowLimit": 10000
     },
     "inputWidgets": {},
     "nuid": "a8aa658b-cf0c-49de-9d9e-ee03fc8688d5",
     "showTitle": false,
     "tableResultSettingsMap": {},
     "title": ""
    }
   },
   "outputs": [],
   "source": [
    "window_spec = Window.partitionBy(\"city\")"
   ]
  },
  {
   "cell_type": "code",
   "execution_count": 0,
   "metadata": {
    "application/vnd.databricks.v1+cell": {
     "cellMetadata": {
      "byteLimit": 2048000,
      "rowLimit": 10000
     },
     "inputWidgets": {},
     "nuid": "610bcb0c-fc7d-4b7e-a366-1b33d96a4f16",
     "showTitle": false,
     "tableResultSettingsMap": {},
     "title": ""
    }
   },
   "outputs": [],
   "source": [
    "calls_per_hour_2984 = calls_per_hour_2984\\\n",
    "                            .withColumn(\"max_calls\", max(\"number_of_calls\").over(window_spec))"
   ]
  },
  {
   "cell_type": "code",
   "execution_count": 0,
   "metadata": {
    "application/vnd.databricks.v1+cell": {
     "cellMetadata": {
      "byteLimit": 2048000,
      "rowLimit": 10000
     },
     "inputWidgets": {},
     "nuid": "6c109531-b321-4058-9276-d017d03d0f7f",
     "showTitle": false,
     "tableResultSettingsMap": {},
     "title": ""
    }
   },
   "outputs": [
    {
     "output_type": "display_data",
     "data": {
      "text/html": [
       "<style scoped>\n",
       "  .table-result-container {\n",
       "    max-height: 300px;\n",
       "    overflow: auto;\n",
       "  }\n",
       "  table, th, td {\n",
       "    border: 1px solid black;\n",
       "    border-collapse: collapse;\n",
       "  }\n",
       "  th, td {\n",
       "    padding: 5px;\n",
       "  }\n",
       "  th {\n",
       "    text-align: left;\n",
       "  }\n",
       "</style><div class='table-result-container'><table class='table-result'><thead style='background-color: white'><tr><th>city</th><th>peak_calling_hour</th><th>number_of_calls</th></tr></thead><tbody><tr><td>Houston</td><td>22</td><td>3</td></tr><tr><td>New York</td><td>14</td><td>1</td></tr><tr><td>New York</td><td>13</td><td>1</td></tr></tbody></table></div>"
      ]
     },
     "metadata": {
      "application/vnd.databricks.v1+output": {
       "addedWidgets": {},
       "aggData": [],
       "aggError": "",
       "aggOverflow": false,
       "aggSchema": [],
       "aggSeriesLimitReached": false,
       "aggType": "",
       "arguments": {},
       "columnCustomDisplayInfos": {},
       "data": [
        [
         "Houston",
         22,
         3
        ],
        [
         "New York",
         14,
         1
        ],
        [
         "New York",
         13,
         1
        ]
       ],
       "datasetInfos": [],
       "dbfsResultPath": null,
       "isJsonSchema": true,
       "metadata": {},
       "overflow": false,
       "plotOptions": {
        "customPlotOptions": {},
        "displayType": "table",
        "pivotAggregation": null,
        "pivotColumns": null,
        "xColumns": null,
        "yColumns": null
       },
       "removedWidgets": [],
       "schema": [
        {
         "metadata": "{}",
         "name": "city",
         "type": "\"string\""
        },
        {
         "metadata": "{}",
         "name": "peak_calling_hour",
         "type": "\"integer\""
        },
        {
         "metadata": "{}",
         "name": "number_of_calls",
         "type": "\"long\""
        }
       ],
       "type": "table"
      }
     },
     "output_type": "display_data"
    }
   ],
   "source": [
    "calls_per_hour_2984\\\n",
    "    .filter(col(\"number_of_calls\") == col(\"max_calls\")) \\\n",
    "        .select(\"city\", col(\"hour\").alias(\"peak_calling_hour\"), \"number_of_calls\") \\\n",
    "            .orderBy(desc(\"peak_calling_hour\"), desc(\"city\")).display()"
   ]
  }
 ],
 "metadata": {
  "application/vnd.databricks.v1+notebook": {
   "computePreferences": {
    "hardware": {
     "accelerator": null,
     "gpuPoolId": null,
     "memory": null
    }
   },
   "dashboards": [],
   "environmentMetadata": {
    "base_environment": "",
    "environment_version": "2"
   },
   "inputWidgetPreferences": null,
   "language": "python",
   "notebookMetadata": {
    "pythonIndentUnit": 4
   },
   "notebookName": "2984. Find Peak Calling Hours for Each City (Medium)-(Solved)",
   "widgets": {}
  },
  "language_info": {
   "name": "python"
  }
 },
 "nbformat": 4,
 "nbformat_minor": 0
}
