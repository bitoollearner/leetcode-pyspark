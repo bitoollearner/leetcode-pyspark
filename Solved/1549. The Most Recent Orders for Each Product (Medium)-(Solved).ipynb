{
 "cells": [
  {
   "cell_type": "markdown",
   "metadata": {
    "application/vnd.databricks.v1+cell": {
     "cellMetadata": {
      "byteLimit": 2048000,
      "rowLimit": 10000
     },
     "inputWidgets": {},
     "nuid": "44cd2565-3e27-417c-8c6c-7b2d8f1b94c5",
     "showTitle": false,
     "tableResultSettingsMap": {},
     "title": ""
    }
   },
   "source": [
    "## Importing Libraries"
   ]
  },
  {
   "cell_type": "code",
   "execution_count": 0,
   "metadata": {
    "application/vnd.databricks.v1+cell": {
     "cellMetadata": {
      "byteLimit": 2048000,
      "rowLimit": 10000
     },
     "inputWidgets": {},
     "nuid": "e6da106f-4e0b-41e0-9f75-6e329535d5c0",
     "showTitle": false,
     "tableResultSettingsMap": {},
     "title": ""
    }
   },
   "outputs": [],
   "source": [
    "from pyspark.sql.functions import *\n",
    "from pyspark.sql.types import *\n",
    "from pyspark.sql.window import Window"
   ]
  },
  {
   "cell_type": "markdown",
   "metadata": {
    "application/vnd.databricks.v1+cell": {
     "cellMetadata": {
      "byteLimit": 2048000,
      "rowLimit": 10000
     },
     "inputWidgets": {},
     "nuid": "f0267197-68d5-4180-8492-6999c905acb1",
     "showTitle": false,
     "tableResultSettingsMap": {},
     "title": ""
    }
   },
   "source": [
    "**1549. The Most Recent Orders for Each Product (Medium)**\n",
    "\n",
    "**Table: Customers**\n",
    "\n",
    "| Column Name   | Type    |\n",
    "|---------------|---------|\n",
    "| customer_id   | int     |\n",
    "| name          | varchar |\n",
    "\n",
    "customer_id is the column with unique values for this table.\n",
    "This table contains information about the customers.\n",
    " \n",
    "**Table: Orders**\n",
    "\n",
    "| Column Name   | Type    |\n",
    "|---------------|---------|\n",
    "| order_id      | int     |\n",
    "| order_date    | date    |\n",
    "| customer_id   | int     |\n",
    "| product_id    | int     |\n",
    "\n",
    "order_id is the column with unique values for this table.\n",
    "This table contains information about the orders made by customer_id.\n",
    "There will be no product ordered by the same user more than once in one day.\n",
    " \n",
    "**Table: Products**\n",
    "\n",
    "| Column Name   | Type    |\n",
    "|---------------|---------|\n",
    "| product_id    | int     |\n",
    "| product_name  | varchar |\n",
    "| price         | int     |\n",
    "\n",
    "product_id is the column with unique values for this table.\n",
    "This table contains information about the Products.\n",
    " \n",
    "**Write a solution to find the most recent order(s) of each product.**\n",
    "\n",
    "Return the result table ordered by product_name in ascending order and in case of a tie by the product_id in ascending order. If there still a tie, order them by order_id in ascending order.\n",
    "\n",
    "The result format is in the following example.\n",
    "\n",
    "**Example 1:**\n",
    "\n",
    "**Input:** \n",
    "\n",
    "**Customers table:**\n",
    "\n",
    "| customer_id | name      |\n",
    "|-------------|-----------|\n",
    "| 1           | Winston   |\n",
    "| 2           | Jonathan  |\n",
    "| 3           | Annabelle |\n",
    "| 4           | Marwan    |\n",
    "| 5           | Khaled    |\n",
    "\n",
    "**Orders table:**\n",
    "| order_id | order_date | customer_id | product_id |\n",
    "|----------|------------|-------------|------------|\n",
    "| 1        | 2020-07-31 | 1           | 1          |\n",
    "| 2        | 2020-07-30 | 2           | 2          |\n",
    "| 3        | 2020-08-29 | 3           | 3          |\n",
    "| 4        | 2020-07-29 | 4           | 1          |\n",
    "| 5        | 2020-06-10 | 1           | 2          |\n",
    "| 6        | 2020-08-01 | 2           | 1          |\n",
    "| 7        | 2020-08-01 | 3           | 1          |\n",
    "| 8        | 2020-08-03 | 1           | 2          |\n",
    "| 9        | 2020-08-07 | 2           | 3          |\n",
    "| 10       | 2020-07-15 | 1           | 2          |\n",
    "\n",
    "**Products table:**\n",
    "| product_id | product_name | price |\n",
    "|------------|--------------|-------|\n",
    "| 1          | keyboard     | 120   |\n",
    "| 2          | mouse        | 80    |\n",
    "| 3          | screen       | 600   |\n",
    "| 4          | hard disk    | 450   |\n",
    "\n",
    "**Output:** \n",
    "| product_name | product_id | order_id | order_date |\n",
    "|--------------|------------|----------|------------|\n",
    "| keyboard     | 1          | 6        | 2020-08-01 |\n",
    "| keyboard     | 1          | 7        | 2020-08-01 |\n",
    "| mouse        | 2          | 8        | 2020-08-03 |\n",
    "| screen       | 3          | 3        | 2020-08-29 |\n",
    "\n",
    "**Explanation:** \n",
    "- keyboard's most recent order is in 2020-08-01, it was ordered two times this day.\n",
    "- mouse's most recent order is in 2020-08-03, it was ordered only once this day.\n",
    "- screen's most recent order is in 2020-08-29, it was ordered only once this day.\n",
    "- The hard disk was never ordered and we do not include it in the result table."
   ]
  },
  {
   "cell_type": "code",
   "execution_count": 0,
   "metadata": {
    "application/vnd.databricks.v1+cell": {
     "cellMetadata": {
      "byteLimit": 2048000,
      "rowLimit": 10000
     },
     "inputWidgets": {},
     "nuid": "e98c62a4-8cd4-48d6-9337-86cf54c19ddd",
     "showTitle": false,
     "tableResultSettingsMap": {},
     "title": ""
    }
   },
   "outputs": [
    {
     "output_type": "stream",
     "name": "stdout",
     "output_type": "stream",
     "text": [
      "+-----------+---------+\n|customer_id|     name|\n+-----------+---------+\n|          1|  Winston|\n|          2| Jonathan|\n|          3|Annabelle|\n|          4|   Marwan|\n|          5|   Khaled|\n+-----------+---------+\n\n+--------+----------+-----------+----------+\n|order_id|order_date|customer_id|product_id|\n+--------+----------+-----------+----------+\n|       1|2020-07-31|          1|         1|\n|       2|2020-07-30|          2|         2|\n|       3|2020-08-29|          3|         3|\n|       4|2020-07-29|          4|         1|\n|       5|2020-06-10|          1|         2|\n|       6|2020-08-01|          2|         1|\n|       7|2020-08-01|          3|         1|\n|       8|2020-08-03|          1|         2|\n|       9|2020-08-07|          2|         3|\n|      10|2020-07-15|          1|         2|\n+--------+----------+-----------+----------+\n\n+----------+------------+-----+\n|product_id|product_name|price|\n+----------+------------+-----+\n|         1|    keyboard|  120|\n|         2|       mouse|   80|\n|         3|      screen|  600|\n|         4|   hard disk|  450|\n+----------+------------+-----+\n\n"
     ]
    }
   ],
   "source": [
    "customers_data_1549 = [\n",
    "    (1, \"Winston\"),\n",
    "    (2, \"Jonathan\"),\n",
    "    (3, \"Annabelle\"),\n",
    "    (4, \"Marwan\"),\n",
    "    (5, \"Khaled\"),\n",
    "]\n",
    "\n",
    "customers_columns_1549 = [\"customer_id\", \"name\"]\n",
    "customers_df_1549 = spark.createDataFrame(customers_data_1549, customers_columns_1549)\n",
    "customers_df_1549.show()\n",
    "\n",
    "orders_data_1549 = [\n",
    "    (1, \"2020-07-31\", 1, 1),\n",
    "    (2, \"2020-07-30\", 2, 2),\n",
    "    (3, \"2020-08-29\", 3, 3),\n",
    "    (4, \"2020-07-29\", 4, 1),\n",
    "    (5, \"2020-06-10\", 1, 2),\n",
    "    (6, \"2020-08-01\", 2, 1),\n",
    "    (7, \"2020-08-01\", 3, 1),\n",
    "    (8, \"2020-08-03\", 1, 2),\n",
    "    (9, \"2020-08-07\", 2, 3),\n",
    "    (10, \"2020-07-15\", 1, 2),\n",
    "]\n",
    "\n",
    "orders_columns_1549 = [\"order_id\", \"order_date\", \"customer_id\", \"product_id\"]\n",
    "orders_df_1549 = spark.createDataFrame(orders_data_1549, orders_columns_1549)\n",
    "orders_df_1549.show()\n",
    "\n",
    "products_data_1549 = [\n",
    "    (1, \"keyboard\", 120),\n",
    "    (2, \"mouse\", 80),\n",
    "    (3, \"screen\", 600),\n",
    "    (4, \"hard disk\", 450),\n",
    "]\n",
    "\n",
    "products_columns_1549 = [\"product_id\", \"product_name\", \"price\"]\n",
    "products_df_1549 = spark.createDataFrame(products_data_1549, products_columns_1549)\n",
    "products_df_1549.show()\n"
   ]
  },
  {
   "cell_type": "code",
   "execution_count": 0,
   "metadata": {
    "application/vnd.databricks.v1+cell": {
     "cellMetadata": {
      "byteLimit": 2048000,
      "rowLimit": 10000
     },
     "inputWidgets": {},
     "nuid": "459edc62-748d-4ab4-8862-fa51df668c8d",
     "showTitle": false,
     "tableResultSettingsMap": {},
     "title": ""
    }
   },
   "outputs": [],
   "source": [
    "orders_df_1549 = orders_df_1549\\\n",
    "                    .withColumn(\"order_date\", to_date(\"order_date\"))"
   ]
  },
  {
   "cell_type": "code",
   "execution_count": 0,
   "metadata": {
    "application/vnd.databricks.v1+cell": {
     "cellMetadata": {
      "byteLimit": 2048000,
      "rowLimit": 10000
     },
     "inputWidgets": {},
     "nuid": "fed62281-2b78-47ce-9024-420aa61db7a8",
     "showTitle": false,
     "tableResultSettingsMap": {},
     "title": ""
    }
   },
   "outputs": [],
   "source": [
    "df_1549 = orders_df_1549\\\n",
    "                .join(products_df_1549, on=\"product_id\", how=\"inner\")"
   ]
  },
  {
   "cell_type": "code",
   "execution_count": 0,
   "metadata": {
    "application/vnd.databricks.v1+cell": {
     "cellMetadata": {
      "byteLimit": 2048000,
      "rowLimit": 10000
     },
     "inputWidgets": {},
     "nuid": "97ce0d44-8e37-4256-8e7c-1c63bf2aad3f",
     "showTitle": false,
     "tableResultSettingsMap": {},
     "title": ""
    }
   },
   "outputs": [],
   "source": [
    "window_spec = Window.partitionBy(\"product_id\").orderBy(col(\"order_date\").desc())"
   ]
  },
  {
   "cell_type": "code",
   "execution_count": 0,
   "metadata": {
    "application/vnd.databricks.v1+cell": {
     "cellMetadata": {
      "byteLimit": 2048000,
      "rowLimit": 10000
     },
     "inputWidgets": {},
     "nuid": "58ec02ec-d6ff-46de-b096-0f596807b965",
     "showTitle": false,
     "tableResultSettingsMap": {},
     "title": ""
    }
   },
   "outputs": [],
   "source": [
    "latest_date_df_1549 = df_1549\\\n",
    "                        .withColumn(\"max_date\", max(\"order_date\").over(Window.partitionBy(\"product_id\"))) \\\n",
    "                            .filter(col(\"order_date\") == col(\"max_date\"))"
   ]
  },
  {
   "cell_type": "code",
   "execution_count": 0,
   "metadata": {
    "application/vnd.databricks.v1+cell": {
     "cellMetadata": {
      "byteLimit": 2048000,
      "rowLimit": 10000
     },
     "inputWidgets": {},
     "nuid": "dafdf0ec-f564-43ad-a9c9-22494485fb4f",
     "showTitle": false,
     "tableResultSettingsMap": {},
     "title": ""
    }
   },
   "outputs": [
    {
     "output_type": "stream",
     "name": "stdout",
     "output_type": "stream",
     "text": [
      "+------------+----------+--------+----------+\n|product_name|product_id|order_id|order_date|\n+------------+----------+--------+----------+\n|    keyboard|         1|       6|2020-08-01|\n|    keyboard|         1|       7|2020-08-01|\n|       mouse|         2|       8|2020-08-03|\n|      screen|         3|       3|2020-08-29|\n+------------+----------+--------+----------+\n\n"
     ]
    }
   ],
   "source": [
    "latest_date_df_1549\\\n",
    "    .select(\n",
    "        \"product_name\",\n",
    "        \"product_id\",\n",
    "        \"order_id\",\n",
    "        \"order_date\"\n",
    ").orderBy(\n",
    "    col(\"product_name\").asc(),\n",
    "    col(\"product_id\").asc(),\n",
    "    col(\"order_id\").asc()\n",
    ").show()"
   ]
  }
 ],
 "metadata": {
  "application/vnd.databricks.v1+notebook": {
   "computePreferences": {
    "hardware": {
     "accelerator": null,
     "gpuPoolId": null,
     "memory": null
    }
   },
   "dashboards": [],
   "environmentMetadata": {
    "base_environment": "",
    "environment_version": "2"
   },
   "inputWidgetPreferences": null,
   "language": "python",
   "notebookMetadata": {
    "pythonIndentUnit": 4
   },
   "notebookName": "1549. The Most Recent Orders for Each Product (Medium)-(Solved)",
   "widgets": {}
  },
  "language_info": {
   "name": "python"
  }
 },
 "nbformat": 4,
 "nbformat_minor": 0
}
