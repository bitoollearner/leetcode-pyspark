{
 "cells": [
  {
   "cell_type": "markdown",
   "metadata": {
    "application/vnd.databricks.v1+cell": {
     "cellMetadata": {},
     "inputWidgets": {},
     "nuid": "24f8e8c0-d56b-4821-a900-bbe934dce4d7",
     "showTitle": false,
     "tableResultSettingsMap": {},
     "title": ""
    }
   },
   "source": [
    "## Importing Libraries"
   ]
  },
  {
   "cell_type": "code",
   "execution_count": 0,
   "metadata": {
    "application/vnd.databricks.v1+cell": {
     "cellMetadata": {},
     "inputWidgets": {},
     "nuid": "243b190c-af0b-4bd1-9507-8e2be2fceca3",
     "showTitle": false,
     "tableResultSettingsMap": {},
     "title": ""
    }
   },
   "outputs": [],
   "source": [
    "from pyspark.sql.functions import *\n",
    "from pyspark.sql.types import *\n",
    "from pyspark.sql.window import Window"
   ]
  },
  {
   "cell_type": "markdown",
   "metadata": {
    "application/vnd.databricks.v1+cell": {
     "cellMetadata": {},
     "inputWidgets": {},
     "nuid": "2d9dc49c-3f2c-4ff6-8e98-5e72a86b1bac",
     "showTitle": false,
     "tableResultSettingsMap": {},
     "title": ""
    }
   },
   "source": [
    "**1440. Evaluate Boolean Expression (Medium)**\n",
    "\n",
    "**Table Variables:**\n",
    "\n",
    "| Column Name   | Type    |\n",
    "|---------------|---------|\n",
    "| name          | varchar |\n",
    "| value         | int     |\n",
    "\n",
    "In SQL, name is the primary key for this table.\n",
    "This table contains the stored variables and their values.\n",
    " \n",
    "**Table Expressions:**\n",
    "\n",
    "| Column Name   | Type    |\n",
    "|---------------|---------|\n",
    "| left_operand  | varchar |\n",
    "| operator      | enum    |\n",
    "| right_operand | varchar |\n",
    "\n",
    "In SQL, (left_operand, operator, right_operand) is the primary key for this table.\n",
    "This table contains a boolean expression that should be evaluated.\n",
    "operator is an enum that takes one of the values ('<', '>', '=')\n",
    "The values of left_operand and right_operand are guaranteed to be in the Variables table.\n",
    " \n",
    "Evaluate the boolean expressions in Expressions table.\n",
    "\n",
    "**Return the result table in any order.**\n",
    "\n",
    "The result format is in the following example.\n",
    "\n",
    "**Example 1:**\n",
    "\n",
    "**Input:** \n",
    "\n",
    "**Variables table:**\n",
    "\n",
    "| name | value |\n",
    "|------|-------|\n",
    "| x    | 66    |\n",
    "| y    | 77    |\n",
    "\n",
    "**Expressions table:**\n",
    "| left_operand | operator | right_operand |\n",
    "|--------------|----------|---------------|\n",
    "| x            | >        | y             |\n",
    "| x            | <        | y             |\n",
    "| x            | =        | y             |\n",
    "| y            | >        | x             |\n",
    "| y            | <        | x             |\n",
    "| x            | =        | x             |\n",
    "\n",
    "**Output:** \n",
    "| left_operand | operator | right_operand | value |\n",
    "|--------------|----------|---------------|-------|\n",
    "| x            | >        | y             | false |\n",
    "| x            | <        | y             | true  |\n",
    "| x            | =        | y             | false |\n",
    "| y            | >        | x             | true  |\n",
    "| y            | <        | x             | false |\n",
    "| x            | =        | x             | true  |\n",
    "\n",
    "**Explanation:** \n",
    "As shown, you need to find the value of each boolean expression in the table using the variables table."
   ]
  },
  {
   "cell_type": "code",
   "execution_count": 0,
   "metadata": {
    "application/vnd.databricks.v1+cell": {
     "cellMetadata": {},
     "inputWidgets": {},
     "nuid": "5d66d20c-58e2-4ee9-8356-d736216372c3",
     "showTitle": false,
     "tableResultSettingsMap": {},
     "title": ""
    }
   },
   "outputs": [],
   "source": [
    "variables_data_1440 = [\n",
    "    (\"x\", 66),\n",
    "    (\"y\", 77)\n",
    "]\n",
    "\n",
    "variables_columns_1440 = [\"name\", \"value\"]\n",
    "variables_df_1440 = spark.createDataFrame(variables_data_1440, variables_columns_1440)\n",
    "variables_df_1440.show()\n",
    "\n",
    "expressions_data_1440 = [\n",
    "    (\"x\", \">\", \"y\"),\n",
    "    (\"x\", \"<\", \"y\"),\n",
    "    (\"x\", \"=\", \"y\"),\n",
    "    (\"y\", \">\", \"x\"),\n",
    "    (\"y\", \"<\", \"x\"),\n",
    "    (\"x\", \"=\", \"x\")\n",
    "]\n",
    "\n",
    "expressions_columns_1440 = [\"left_operand\", \"operator\", \"right_operand\"]\n",
    "expressions_df_1440 = spark.createDataFrame(expressions_data_1440, expressions_columns_1440)\n",
    "expressions_df_1440.show()"
   ]
  }
 ],
 "metadata": {
  "application/vnd.databricks.v1+notebook": {
   "computePreferences": null,
   "dashboards": [],
   "environmentMetadata": {
    "base_environment": "",
    "environment_version": "1"
   },
   "inputWidgetPreferences": null,
   "language": "python",
   "notebookMetadata": {
    "pythonIndentUnit": 4
   },
   "notebookName": "1440. Evaluate Boolean Expression (Medium)-(Solved)",
   "widgets": {}
  },
  "language_info": {
   "name": "python"
  }
 },
 "nbformat": 4,
 "nbformat_minor": 0
}
