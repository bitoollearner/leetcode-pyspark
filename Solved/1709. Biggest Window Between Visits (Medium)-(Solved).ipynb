{
 "cells": [
  {
   "cell_type": "markdown",
   "metadata": {
    "application/vnd.databricks.v1+cell": {
     "cellMetadata": {
      "byteLimit": 2048000,
      "rowLimit": 10000
     },
     "inputWidgets": {},
     "nuid": "fadf709d-de3d-4bfc-b69f-3b489de68bef",
     "showTitle": false,
     "tableResultSettingsMap": {},
     "title": ""
    }
   },
   "source": [
    "## Importing Libraries"
   ]
  },
  {
   "cell_type": "code",
   "execution_count": 0,
   "metadata": {
    "application/vnd.databricks.v1+cell": {
     "cellMetadata": {
      "byteLimit": 2048000,
      "rowLimit": 10000
     },
     "inputWidgets": {},
     "nuid": "d4a1fef1-aa99-469c-b35f-9b3f3e81c9f7",
     "showTitle": false,
     "tableResultSettingsMap": {},
     "title": ""
    }
   },
   "outputs": [],
   "source": [
    "from pyspark.sql.functions import *\n",
    "from pyspark.sql.types import *\n",
    "from pyspark.sql.window import Window"
   ]
  },
  {
   "cell_type": "markdown",
   "metadata": {
    "application/vnd.databricks.v1+cell": {
     "cellMetadata": {
      "byteLimit": 2048000,
      "rowLimit": 10000
     },
     "inputWidgets": {},
     "nuid": "78daa073-80d8-4f7e-9cfa-10f6eb568909",
     "showTitle": false,
     "tableResultSettingsMap": {},
     "title": ""
    }
   },
   "source": [
    "**1709. Biggest Window Between Visits (Medium)**\n",
    "\n",
    "**Table: UserVisits**\n",
    "\n",
    "| Column Name | Type |\n",
    "|-------------|------|\n",
    "| user_id     | int  |\n",
    "| visit_date  | date |\n",
    "\n",
    "This table does not have a primary key, it might contain duplicate rows.\n",
    "This table contains logs of the dates that users visited a certain retailer.\n",
    " \n",
    "Assume today's date is '2021-1-1'.\n",
    "\n",
    "**Write a solution that will, for each user_id, find out the largest window of days between each visit and the one right after it (or today if you are considering the last visit).**\n",
    "\n",
    "Return the result table ordered by user_id.\n",
    "\n",
    "The query result format is in the following example.\n",
    "\n",
    "**Example 1:**\n",
    "\n",
    "**Input:** \n",
    "\n",
    "**UserVisits table:**\n",
    "\n",
    "| user_id | visit_date |\n",
    "|---------|------------|\n",
    "| 1       | 2020-11-28 |\n",
    "| 1       | 2020-10-20 |\n",
    "| 1       | 2020-12-3  |\n",
    "| 2       | 2020-10-5  |\n",
    "| 2       | 2020-12-9  |\n",
    "| 3       | 2020-11-11 |\n",
    "\n",
    "**Output:** \n",
    "| user_id | biggest_window|\n",
    "|---------|---------------|\n",
    "| 1       | 39            |\n",
    "| 2       | 65            |\n",
    "| 3       | 51            |\n",
    "\n",
    "**Explanation:** \n",
    "- For the first user, the windows in question are between dates:\n",
    "    - 2020-10-20 and 2020-11-28 with a total of 39 days. \n",
    "    - 2020-11-28 and 2020-12-3 with a total of 5 days. \n",
    "    - 2020-12-3 and 2021-1-1 with a total of 29 days.\n",
    "\n",
    "Making the biggest window the one with 39 days.\n",
    "\n",
    "- For the second user, the windows in question are between dates:\n",
    "    - 2020-10-5 and 2020-12-9 with a total of 65 days.\n",
    "    - 2020-12-9 and 2021-1-1 with a total of 23 days.\n",
    "\n",
    "Making the biggest window the one with 65 days.\n",
    "\n",
    "- For the third user, the only window in question is between dates 2020-11-11 and 2021-1-1 with a total of 51 days."
   ]
  },
  {
   "cell_type": "code",
   "execution_count": 0,
   "metadata": {
    "application/vnd.databricks.v1+cell": {
     "cellMetadata": {
      "byteLimit": 2048000,
      "rowLimit": 10000
     },
     "inputWidgets": {},
     "nuid": "7b78bc27-26cd-4523-8646-7369baf68fcb",
     "showTitle": false,
     "tableResultSettingsMap": {},
     "title": ""
    }
   },
   "outputs": [
    {
     "output_type": "stream",
     "name": "stdout",
     "output_type": "stream",
     "text": [
      "+-------+----------+\n|user_id|visit_date|\n+-------+----------+\n|      1|2020-11-28|\n|      1|2020-10-20|\n|      1| 2020-12-3|\n|      2| 2020-10-5|\n|      2| 2020-12-9|\n|      3|2020-11-11|\n+-------+----------+\n\n"
     ]
    }
   ],
   "source": [
    "user_visits_data_1709 = [\n",
    "    (1, \"2020-11-28\"),\n",
    "    (1, \"2020-10-20\"),\n",
    "    (1, \"2020-12-3\"),\n",
    "    (2, \"2020-10-5\"),\n",
    "    (2, \"2020-12-9\"),\n",
    "    (3, \"2020-11-11\"),\n",
    "]\n",
    "\n",
    "user_visits_columns_1709 = [\"user_id\", \"visit_date\"]\n",
    "user_visits_df_1709 = spark.createDataFrame(user_visits_data_1709, user_visits_columns_1709)\n",
    "user_visits_df_1709.show()"
   ]
  },
  {
   "cell_type": "code",
   "execution_count": 0,
   "metadata": {
    "application/vnd.databricks.v1+cell": {
     "cellMetadata": {
      "byteLimit": 2048000,
      "rowLimit": 10000
     },
     "inputWidgets": {},
     "nuid": "96b2ee7c-5026-4252-879d-64ace1c5a0cc",
     "showTitle": false,
     "tableResultSettingsMap": {},
     "title": ""
    }
   },
   "outputs": [],
   "source": [
    "user_visits_df_1709 = user_visits_df_1709\\\n",
    "                            .withColumn(\"visit_date\", to_date(\"visit_date\"))"
   ]
  },
  {
   "cell_type": "code",
   "execution_count": 0,
   "metadata": {
    "application/vnd.databricks.v1+cell": {
     "cellMetadata": {
      "byteLimit": 2048000,
      "rowLimit": 10000
     },
     "inputWidgets": {},
     "nuid": "4c2503f6-0f8d-44bb-a454-f4480feae56e",
     "showTitle": false,
     "tableResultSettingsMap": {},
     "title": ""
    }
   },
   "outputs": [],
   "source": [
    "windowSpec = Window.partitionBy(\"user_id\").orderBy(\"visit_date\")"
   ]
  },
  {
   "cell_type": "code",
   "execution_count": 0,
   "metadata": {
    "application/vnd.databricks.v1+cell": {
     "cellMetadata": {
      "byteLimit": 2048000,
      "rowLimit": 10000
     },
     "inputWidgets": {},
     "nuid": "1dc724b3-5a38-47e4-b1c5-8eb1a2944668",
     "showTitle": false,
     "tableResultSettingsMap": {},
     "title": ""
    }
   },
   "outputs": [],
   "source": [
    "user_visits_df_1709 = user_visits_df_1709\\\n",
    "                            .withColumn(\"next_date\", lead(\"visit_date\").over(windowSpec))\\\n",
    "                                .withColumn( \"next_date\",when(col(\"next_date\").isNull(), lit(\"2021-01-01\"))\\\n",
    "                                    .otherwise(col(\"next_date\")))\\\n",
    "                                        .withColumn(\"diff_days\", datediff(\"next_date\", \"visit_date\"))"
   ]
  },
  {
   "cell_type": "code",
   "execution_count": 0,
   "metadata": {
    "application/vnd.databricks.v1+cell": {
     "cellMetadata": {
      "byteLimit": 2048000,
      "rowLimit": 10000
     },
     "inputWidgets": {},
     "nuid": "b983eba9-bb95-4f78-b12c-f9d42d8ecc3a",
     "showTitle": false,
     "tableResultSettingsMap": {},
     "title": ""
    }
   },
   "outputs": [
    {
     "output_type": "stream",
     "name": "stdout",
     "output_type": "stream",
     "text": [
      "+-------+--------------+\n|user_id|biggest_window|\n+-------+--------------+\n|      1|            39|\n|      2|            65|\n|      3|            51|\n+-------+--------------+\n\n"
     ]
    }
   ],
   "source": [
    "user_visits_df_1709\\\n",
    "    .groupBy(\"user_id\")\\\n",
    "        .agg(max(\"diff_days\").alias(\"biggest_window\"))\\\n",
    "            .orderBy(\"user_id\").show()"
   ]
  }
 ],
 "metadata": {
  "application/vnd.databricks.v1+notebook": {
   "computePreferences": {
    "hardware": {
     "accelerator": null,
     "gpuPoolId": null,
     "memory": null
    }
   },
   "dashboards": [],
   "environmentMetadata": {
    "base_environment": "",
    "environment_version": "2"
   },
   "inputWidgetPreferences": null,
   "language": "python",
   "notebookMetadata": {
    "pythonIndentUnit": 4
   },
   "notebookName": "1709. Biggest Window Between Visits (Medium)-(Solved)",
   "widgets": {}
  },
  "language_info": {
   "name": "python"
  }
 },
 "nbformat": 4,
 "nbformat_minor": 0
}
