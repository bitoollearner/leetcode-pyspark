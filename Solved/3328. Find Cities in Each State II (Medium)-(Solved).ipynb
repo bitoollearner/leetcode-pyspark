{
 "cells": [
  {
   "cell_type": "markdown",
   "metadata": {
    "application/vnd.databricks.v1+cell": {
     "cellMetadata": {
      "byteLimit": 2048000,
      "rowLimit": 10000
     },
     "inputWidgets": {},
     "nuid": "7d1791bd-9552-4116-90b2-daa678bbffb8",
     "showTitle": false,
     "tableResultSettingsMap": {},
     "title": ""
    }
   },
   "source": [
    "## Importing Libraries"
   ]
  },
  {
   "cell_type": "code",
   "execution_count": 0,
   "metadata": {
    "application/vnd.databricks.v1+cell": {
     "cellMetadata": {
      "byteLimit": 2048000,
      "rowLimit": 10000
     },
     "inputWidgets": {},
     "nuid": "2901fbc9-49db-4285-8b94-c460f34d4c4f",
     "showTitle": false,
     "tableResultSettingsMap": {},
     "title": ""
    }
   },
   "outputs": [],
   "source": [
    "from pyspark.sql.functions import *\n",
    "from pyspark.sql.types import *\n",
    "from pyspark.sql.window import Window"
   ]
  },
  {
   "cell_type": "markdown",
   "metadata": {
    "application/vnd.databricks.v1+cell": {
     "cellMetadata": {
      "byteLimit": 2048000,
      "rowLimit": 10000
     },
     "inputWidgets": {},
     "nuid": "655120e7-6b25-417c-a08a-c6925feaa425",
     "showTitle": false,
     "tableResultSettingsMap": {},
     "title": ""
    }
   },
   "source": [
    "**3328. Find Cities in Each State II (Medium)**\n",
    "\n",
    "**Table: cities**\n",
    "\n",
    "| Column Name | Type    | \n",
    "|-------------|---------|\n",
    "| state       | varchar |\n",
    "| city        | varchar |\n",
    "\n",
    "(state, city) is the combination of columns with unique values for this table.\n",
    "Each row of this table contains the state name and the city name within that state.\n",
    "\n",
    "**Write a solution to find all the cities in each state and analyze them based on the following requirements:**\n",
    "- Combine all cities into a comma-separated string for each state.\n",
    "- Only include states that have at least 3 cities.\n",
    "- Only include states where at least one city starts with the same letter as the state name.\n",
    "\n",
    "Return the result table ordered by the count of matching-letter cities in descending order and then by state name in ascending order.\n",
    "\n",
    "The result format is in the following example.\n",
    "\n",
    "**Example:**\n",
    "\n",
    "**Input:**\n",
    "\n",
    "**cities table:**\n",
    "\n",
    "| state        | city          |\n",
    "|--------------|---------------|\n",
    "| New York     | New York City |\n",
    "| New York     | Newark        |\n",
    "| New York     | Buffalo       |\n",
    "| New York     | Rochester     |\n",
    "| California   | San Francisco |\n",
    "| California   | Sacramento    |\n",
    "| California   | San Diego     |\n",
    "| California   | Los Angeles   |\n",
    "| Texas        | Tyler         |\n",
    "| Texas        | Temple        |\n",
    "| Texas        | Taylor        |\n",
    "| Texas        | Dallas        |\n",
    "| Pennsylvania | Philadelphia  |\n",
    "| Pennsylvania | Pittsburgh    |\n",
    "| Pennsylvania | Pottstown     |\n",
    "\n",
    "**Output:**\n",
    "\n",
    "| state       | cities                                    | matching_letter_count |\n",
    "|-------------|-------------------------------------------|-----------------------|\n",
    "| Pennsylvania| Philadelphia, Pittsburgh, Pottstown       | 3                     |\n",
    "| Texas       | Dallas, Taylor, Temple, Tyler             | 3                     |\n",
    "| New York    | Buffalo, Newark, New York City, Rochester | 2                     |\n",
    "\n",
    "\n",
    "**Explanation:**\n",
    "- **Pennsylvania:**\n",
    "  - Has 3 cities (meets minimum requirement)\n",
    "  - All 3 cities start with 'P' (same as state)\n",
    "  - matching_letter_count = 3\n",
    "- **Texas:**\n",
    "  - Has 4 cities (meets minimum requirement)\n",
    "  - 3 cities (Taylor, Temple, Tyler) start with 'T' (same as state)\n",
    "  - matching_letter_count = 3\n",
    "- **New York:**\n",
    "  - Has 4 cities (meets minimum requirement)\n",
    "  - 2 cities (Newark, New York City) start with 'N' (same as state)\n",
    "  - matching_letter_count = 2\n",
    "- **California** is not included in the output because:\n",
    "  - Although it has 4 cities (meets minimum requirement)\n",
    "  - No cities start with 'C' (doesn't meet the matching letter requirement)\n",
    "\n",
    "**Note:**\n",
    "- Results are ordered by matching_letter_count in descending order\n",
    "- When matching_letter_count is the same (Texas and New York both have 2), they are ordered by state name alphabetically\n",
    "- Cities in each row are ordered alphabetically"
   ]
  },
  {
   "cell_type": "code",
   "execution_count": 0,
   "metadata": {
    "application/vnd.databricks.v1+cell": {
     "cellMetadata": {
      "byteLimit": 2048000,
      "rowLimit": 10000
     },
     "inputWidgets": {},
     "nuid": "a2368434-0191-416c-aa1d-12cd44cf48e6",
     "showTitle": false,
     "tableResultSettingsMap": {},
     "title": ""
    }
   },
   "outputs": [
    {
     "output_type": "stream",
     "name": "stdout",
     "output_type": "stream",
     "text": [
      "+------------+-------------+\n|       state|         city|\n+------------+-------------+\n|    New York|New York City|\n|    New York|       Newark|\n|    New York|      Buffalo|\n|    New York|    Rochester|\n|  California|San Francisco|\n|  California|   Sacramento|\n|  California|    San Diego|\n|  California|  Los Angeles|\n|       Texas|        Tyler|\n|       Texas|       Temple|\n|       Texas|       Taylor|\n|       Texas|       Dallas|\n|Pennsylvania| Philadelphia|\n|Pennsylvania|   Pittsburgh|\n|Pennsylvania|    Pottstown|\n+------------+-------------+\n\n"
     ]
    }
   ],
   "source": [
    "cities_data_3328 = [\n",
    "    (\"New York\", \"New York City\"),\n",
    "    (\"New York\", \"Newark\"),\n",
    "    (\"New York\", \"Buffalo\"),\n",
    "    (\"New York\", \"Rochester\"),\n",
    "    (\"California\", \"San Francisco\"),\n",
    "    (\"California\", \"Sacramento\"),\n",
    "    (\"California\", \"San Diego\"),\n",
    "    (\"California\", \"Los Angeles\"),\n",
    "    (\"Texas\", \"Tyler\"),\n",
    "    (\"Texas\", \"Temple\"),\n",
    "    (\"Texas\", \"Taylor\"),\n",
    "    (\"Texas\", \"Dallas\"),\n",
    "    (\"Pennsylvania\", \"Philadelphia\"),\n",
    "    (\"Pennsylvania\", \"Pittsburgh\"),\n",
    "    (\"Pennsylvania\", \"Pottstown\"),\n",
    "]\n",
    "\n",
    "cities_columns_3328 = [\"state\", \"city\"]\n",
    "cities_df_3328 = spark.createDataFrame(cities_data_3328, cities_columns_3328)\n",
    "cities_df_3328.show()"
   ]
  },
  {
   "cell_type": "code",
   "execution_count": 0,
   "metadata": {
    "application/vnd.databricks.v1+cell": {
     "cellMetadata": {
      "byteLimit": 2048000,
      "rowLimit": 10000
     },
     "inputWidgets": {},
     "nuid": "3a3d062c-9e4f-48b8-9264-0b09e44d2964",
     "showTitle": false,
     "tableResultSettingsMap": {},
     "title": ""
    }
   },
   "outputs": [],
   "source": [
    "agg_df_3328 = cities_df_3328\\\n",
    "                .groupBy(\"state\")\\\n",
    "                    .agg(array_sort(collect_list(\"city\")).alias(\"cities_list\"))"
   ]
  },
  {
   "cell_type": "code",
   "execution_count": 0,
   "metadata": {
    "application/vnd.databricks.v1+cell": {
     "cellMetadata": {
      "byteLimit": 2048000,
      "rowLimit": 10000
     },
     "inputWidgets": {},
     "nuid": "31a0899d-2a72-4a04-bd23-d683515cbc9a",
     "showTitle": false,
     "tableResultSettingsMap": {},
     "title": ""
    }
   },
   "outputs": [],
   "source": [
    "agg_df_3328 = agg_df_3328\\\n",
    "                .withColumn(\n",
    "                    \"matching_letter_count\",\n",
    "                    expr(\"size(filter(cities_list, x -> lower(substring(x,1,1)) = lower(substring(state,1,1))))\")\n",
    "                    )"
   ]
  },
  {
   "cell_type": "code",
   "execution_count": 0,
   "metadata": {
    "application/vnd.databricks.v1+cell": {
     "cellMetadata": {
      "byteLimit": 2048000,
      "rowLimit": 10000
     },
     "inputWidgets": {},
     "nuid": "60cf19d5-b037-4daf-9e07-45153e33bd53",
     "showTitle": false,
     "tableResultSettingsMap": {},
     "title": ""
    }
   },
   "outputs": [],
   "source": [
    "agg_df_3328 = agg_df_3328\\\n",
    "                .withColumn(\"num_cities\", size(col(\"cities_list\")))\\\n",
    "                    .filter((col(\"num_cities\") >= 3) & (col(\"matching_letter_count\") > 0))"
   ]
  },
  {
   "cell_type": "code",
   "execution_count": 0,
   "metadata": {
    "application/vnd.databricks.v1+cell": {
     "cellMetadata": {
      "byteLimit": 2048000,
      "rowLimit": 10000
     },
     "inputWidgets": {},
     "nuid": "f298cdc2-e25d-4447-b4e2-a88ac6ea1e33",
     "showTitle": false,
     "tableResultSettingsMap": {},
     "title": ""
    }
   },
   "outputs": [],
   "source": [
    "agg_df_3328 = agg_df_3328\\\n",
    "                .withColumn(\"cities\", concat_ws(\", \", col(\"cities_list\")))"
   ]
  },
  {
   "cell_type": "code",
   "execution_count": 0,
   "metadata": {
    "application/vnd.databricks.v1+cell": {
     "cellMetadata": {
      "byteLimit": 2048000,
      "rowLimit": 10000
     },
     "inputWidgets": {},
     "nuid": "1d9276ad-d116-4f3f-9173-bb8258caa3fb",
     "showTitle": false,
     "tableResultSettingsMap": {},
     "title": ""
    }
   },
   "outputs": [
    {
     "output_type": "display_data",
     "data": {
      "text/html": [
       "<style scoped>\n",
       "  .table-result-container {\n",
       "    max-height: 300px;\n",
       "    overflow: auto;\n",
       "  }\n",
       "  table, th, td {\n",
       "    border: 1px solid black;\n",
       "    border-collapse: collapse;\n",
       "  }\n",
       "  th, td {\n",
       "    padding: 5px;\n",
       "  }\n",
       "  th {\n",
       "    text-align: left;\n",
       "  }\n",
       "</style><div class='table-result-container'><table class='table-result'><thead style='background-color: white'><tr><th>state</th><th>cities</th><th>matching_letter_count</th></tr></thead><tbody><tr><td>Pennsylvania</td><td>Philadelphia, Pittsburgh, Pottstown</td><td>3</td></tr><tr><td>Texas</td><td>Dallas, Taylor, Temple, Tyler</td><td>3</td></tr><tr><td>New York</td><td>Buffalo, New York City, Newark, Rochester</td><td>2</td></tr></tbody></table></div>"
      ]
     },
     "metadata": {
      "application/vnd.databricks.v1+output": {
       "addedWidgets": {},
       "aggData": [],
       "aggError": "",
       "aggOverflow": false,
       "aggSchema": [],
       "aggSeriesLimitReached": false,
       "aggType": "",
       "arguments": {},
       "columnCustomDisplayInfos": {},
       "data": [
        [
         "Pennsylvania",
         "Philadelphia, Pittsburgh, Pottstown",
         3
        ],
        [
         "Texas",
         "Dallas, Taylor, Temple, Tyler",
         3
        ],
        [
         "New York",
         "Buffalo, New York City, Newark, Rochester",
         2
        ]
       ],
       "datasetInfos": [],
       "dbfsResultPath": null,
       "isJsonSchema": true,
       "metadata": {},
       "overflow": false,
       "plotOptions": {
        "customPlotOptions": {},
        "displayType": "table",
        "pivotAggregation": null,
        "pivotColumns": null,
        "xColumns": null,
        "yColumns": null
       },
       "removedWidgets": [],
       "schema": [
        {
         "metadata": "{}",
         "name": "state",
         "type": "\"string\""
        },
        {
         "metadata": "{}",
         "name": "cities",
         "type": "\"string\""
        },
        {
         "metadata": "{}",
         "name": "matching_letter_count",
         "type": "\"integer\""
        }
       ],
       "type": "table"
      }
     },
     "output_type": "display_data"
    }
   ],
   "source": [
    "agg_df_3328\\\n",
    "    .select(\"state\", \"cities\", \"matching_letter_count\")\\\n",
    "        .orderBy(col(\"matching_letter_count\").desc(), col(\"state\").asc()).display()"
   ]
  }
 ],
 "metadata": {
  "application/vnd.databricks.v1+notebook": {
   "computePreferences": {
    "hardware": {
     "accelerator": null,
     "gpuPoolId": null,
     "memory": null
    }
   },
   "dashboards": [],
   "environmentMetadata": {
    "base_environment": "",
    "environment_version": "2"
   },
   "inputWidgetPreferences": null,
   "language": "python",
   "notebookMetadata": {
    "pythonIndentUnit": 4
   },
   "notebookName": "3328. Find Cities in Each State II (Medium)-(Solved)",
   "widgets": {}
  },
  "language_info": {
   "name": "python"
  }
 },
 "nbformat": 4,
 "nbformat_minor": 0
}
