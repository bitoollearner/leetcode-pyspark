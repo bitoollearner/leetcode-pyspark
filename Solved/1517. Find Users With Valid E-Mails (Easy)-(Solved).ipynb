{
 "cells": [
  {
   "cell_type": "markdown",
   "metadata": {
    "application/vnd.databricks.v1+cell": {
     "cellMetadata": {
      "byteLimit": 2048000,
      "rowLimit": 10000
     },
     "inputWidgets": {},
     "nuid": "44cd2565-3e27-417c-8c6c-7b2d8f1b94c5",
     "showTitle": false,
     "tableResultSettingsMap": {},
     "title": ""
    }
   },
   "source": [
    "## Importing Libraries"
   ]
  },
  {
   "cell_type": "code",
   "execution_count": 0,
   "metadata": {
    "application/vnd.databricks.v1+cell": {
     "cellMetadata": {
      "byteLimit": 2048000,
      "rowLimit": 10000
     },
     "inputWidgets": {},
     "nuid": "e6da106f-4e0b-41e0-9f75-6e329535d5c0",
     "showTitle": false,
     "tableResultSettingsMap": {},
     "title": ""
    }
   },
   "outputs": [],
   "source": [
    "from pyspark.sql.functions import *\n",
    "from pyspark.sql.types import *\n",
    "from pyspark.sql.window import Window"
   ]
  },
  {
   "cell_type": "markdown",
   "metadata": {
    "application/vnd.databricks.v1+cell": {
     "cellMetadata": {
      "byteLimit": 2048000,
      "rowLimit": 10000
     },
     "inputWidgets": {},
     "nuid": "f0267197-68d5-4180-8492-6999c905acb1",
     "showTitle": false,
     "tableResultSettingsMap": {},
     "title": ""
    }
   },
   "source": [
    "**1517. Find Users With Valid E-Mails (Easy)**\n",
    "\n",
    "**Table: Users**\n",
    "\n",
    "| Column Name   | Type    |\n",
    "|---------------|---------|\n",
    "| user_id       | int     |\n",
    "| name          | varchar |\n",
    "| mail          | varchar |\n",
    "\n",
    "user_id is the primary key (column with unique values) for this table.\n",
    "This table contains information of the users signed up in a website. Some e-mails are invalid.\n",
    " \n",
    "**Write a solution to find the users who have valid emails.**\n",
    "\n",
    "A valid e-mail has a prefix name and a domain where:\n",
    "\n",
    "The prefix name is a string that may contain letters (upper or lower case), digits, underscore '_', period '.', and/or dash '-'. The prefix name must start with a letter.\n",
    "The domain is '@leetcode.com'.\n",
    "Return the result table in any order.\n",
    "\n",
    "The result format is in the following example.\n",
    "\n",
    "**Example 1:**\n",
    "\n",
    "**Input:**\n",
    "**Users table:**\n",
    "| user_id | name      | mail                    |\n",
    "|---------|-----------|-------------------------|\n",
    "| 1       | Winston   | winston@leetcode.com    |\n",
    "| 2       | Jonathan  | jonathanisgreat         |\n",
    "| 3       | Annabelle | bella-@leetcode.com     |\n",
    "| 4       | Sally     | sally.come@leetcode.com |\n",
    "| 5       | Marwan    | quarz#2020@leetcode.com |\n",
    "| 6       | David     | david69@gmail.com       |\n",
    "| 7       | Shapiro   | .shapo@leetcode.com     |\n",
    "\n",
    "**Output:**\n",
    "| user_id | name      | mail                    |\n",
    "|---------|-----------|-------------------------|\n",
    "| 1       | Winston   | winston@leetcode.com    |\n",
    "| 3       | Annabelle | bella-@leetcode.com     |\n",
    "| 4       | Sally     | sally.come@leetcode.com |\n",
    "\n",
    "**Explanation:**\n",
    "- The mail of user 2 does not have a domain.\n",
    "- The mail of user 5 has the # sign which is not allowed.\n",
    "- The mail of user 6 does not have the leetcode domain.\n",
    "- The mail of user 7 starts with a period."
   ]
  },
  {
   "cell_type": "code",
   "execution_count": 0,
   "metadata": {
    "application/vnd.databricks.v1+cell": {
     "cellMetadata": {
      "byteLimit": 2048000,
      "rowLimit": 10000
     },
     "inputWidgets": {},
     "nuid": "e98c62a4-8cd4-48d6-9337-86cf54c19ddd",
     "showTitle": false,
     "tableResultSettingsMap": {},
     "title": ""
    }
   },
   "outputs": [
    {
     "output_type": "stream",
     "name": "stdout",
     "output_type": "stream",
     "text": [
      "+-------+---------+--------------------+\n|user_id|     name|                mail|\n+-------+---------+--------------------+\n|      1|  Winston|winston@leetcode.com|\n|      2| Jonathan|     jonathanisgreat|\n|      3|Annabelle| bella-@leetcode.com|\n|      4|    Sally|sally.come@leetco...|\n|      5|   Marwan|quarz#2020@leetco...|\n|      6|    David|   david69@gmail.com|\n|      7|  Shapiro| .shapo@leetcode.com|\n+-------+---------+--------------------+\n\n"
     ]
    }
   ],
   "source": [
    "users_data_1517 = [\n",
    "    (1, \"Winston\", \"winston@leetcode.com\"),\n",
    "    (2, \"Jonathan\", \"jonathanisgreat\"),\n",
    "    (3, \"Annabelle\", \"bella-@leetcode.com\"),\n",
    "    (4, \"Sally\", \"sally.come@leetcode.com\"),\n",
    "    (5, \"Marwan\", \"quarz#2020@leetcode.com\"),\n",
    "    (6, \"David\", \"david69@gmail.com\"),\n",
    "    (7, \"Shapiro\", \".shapo@leetcode.com\"),\n",
    "]\n",
    "\n",
    "users_columns_1517 = [\"user_id\", \"name\", \"mail\"]\n",
    "users_df_1517 = spark.createDataFrame(users_data_1517, users_columns_1517)\n",
    "users_df_1517.show()"
   ]
  },
  {
   "cell_type": "code",
   "execution_count": 0,
   "metadata": {
    "application/vnd.databricks.v1+cell": {
     "cellMetadata": {
      "byteLimit": 2048000,
      "rowLimit": 10000
     },
     "inputWidgets": {},
     "nuid": "50358bd1-fdb9-4a14-8198-de32bb829e4b",
     "showTitle": false,
     "tableResultSettingsMap": {},
     "title": ""
    }
   },
   "outputs": [
    {
     "output_type": "display_data",
     "data": {
      "text/html": [
       "<style scoped>\n",
       "  .table-result-container {\n",
       "    max-height: 300px;\n",
       "    overflow: auto;\n",
       "  }\n",
       "  table, th, td {\n",
       "    border: 1px solid black;\n",
       "    border-collapse: collapse;\n",
       "  }\n",
       "  th, td {\n",
       "    padding: 5px;\n",
       "  }\n",
       "  th {\n",
       "    text-align: left;\n",
       "  }\n",
       "</style><div class='table-result-container'><table class='table-result'><thead style='background-color: white'><tr><th>user_id</th><th>name</th><th>mail</th></tr></thead><tbody><tr><td>1</td><td>Winston</td><td>winston@leetcode.com</td></tr><tr><td>3</td><td>Annabelle</td><td>bella-@leetcode.com</td></tr><tr><td>4</td><td>Sally</td><td>sally.come@leetcode.com</td></tr></tbody></table></div>"
      ]
     },
     "metadata": {
      "application/vnd.databricks.v1+output": {
       "addedWidgets": {},
       "aggData": [],
       "aggError": "",
       "aggOverflow": false,
       "aggSchema": [],
       "aggSeriesLimitReached": false,
       "aggType": "",
       "arguments": {},
       "columnCustomDisplayInfos": {},
       "data": [
        [
         1,
         "Winston",
         "winston@leetcode.com"
        ],
        [
         3,
         "Annabelle",
         "bella-@leetcode.com"
        ],
        [
         4,
         "Sally",
         "sally.come@leetcode.com"
        ]
       ],
       "datasetInfos": [],
       "dbfsResultPath": null,
       "isJsonSchema": true,
       "metadata": {},
       "overflow": false,
       "plotOptions": {
        "customPlotOptions": {},
        "displayType": "table",
        "pivotAggregation": null,
        "pivotColumns": null,
        "xColumns": null,
        "yColumns": null
       },
       "removedWidgets": [],
       "schema": [
        {
         "metadata": "{}",
         "name": "user_id",
         "type": "\"long\""
        },
        {
         "metadata": "{}",
         "name": "name",
         "type": "\"string\""
        },
        {
         "metadata": "{}",
         "name": "mail",
         "type": "\"string\""
        }
       ],
       "type": "table"
      }
     },
     "output_type": "display_data"
    }
   ],
   "source": [
    "pattern = r\"^[A-Za-z][A-Za-z0-9_.-]*@leetcode\\.com$\"\n",
    "\n",
    "display(users_df_1517.filter(col(\"mail\").rlike(pattern)))"
   ]
  }
 ],
 "metadata": {
  "application/vnd.databricks.v1+notebook": {
   "computePreferences": {
    "hardware": {
     "accelerator": null,
     "gpuPoolId": null,
     "memory": null
    }
   },
   "dashboards": [],
   "environmentMetadata": {
    "base_environment": "",
    "environment_version": "2"
   },
   "inputWidgetPreferences": null,
   "language": "python",
   "notebookMetadata": {
    "pythonIndentUnit": 4
   },
   "notebookName": "1517. Find Users With Valid E-Mails (Easy)-(Solved)",
   "widgets": {}
  },
  "language_info": {
   "name": "python"
  }
 },
 "nbformat": 4,
 "nbformat_minor": 0
}
