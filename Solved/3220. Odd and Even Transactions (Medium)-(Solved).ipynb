{
 "cells": [
  {
   "cell_type": "markdown",
   "metadata": {
    "application/vnd.databricks.v1+cell": {
     "cellMetadata": {},
     "inputWidgets": {},
     "nuid": "7d1791bd-9552-4116-90b2-daa678bbffb8",
     "showTitle": false,
     "tableResultSettingsMap": {},
     "title": ""
    }
   },
   "source": [
    "## Importing Libraries"
   ]
  },
  {
   "cell_type": "code",
   "execution_count": 0,
   "metadata": {
    "application/vnd.databricks.v1+cell": {
     "cellMetadata": {},
     "inputWidgets": {},
     "nuid": "2901fbc9-49db-4285-8b94-c460f34d4c4f",
     "showTitle": false,
     "tableResultSettingsMap": {},
     "title": ""
    }
   },
   "outputs": [],
   "source": [
    "from pyspark.sql.functions import *\n",
    "from pyspark.sql.types import *\n",
    "from pyspark.sql.window import Window"
   ]
  },
  {
   "cell_type": "markdown",
   "metadata": {
    "application/vnd.databricks.v1+cell": {
     "cellMetadata": {},
     "inputWidgets": {},
     "nuid": "655120e7-6b25-417c-a08a-c6925feaa425",
     "showTitle": false,
     "tableResultSettingsMap": {},
     "title": ""
    }
   },
   "source": [
    "**3220. Odd and Even Transactions (Medium)**\n",
    "\n",
    "**Table: transactions**\n",
    "\n",
    "| Column Name      | Type | \n",
    "|------------------|------|\n",
    "| transaction_id   | int  |\n",
    "| amount           | int  |\n",
    "| transaction_date | date |\n",
    "\n",
    "The transactions_id column uniquely identifies each row in this table.\n",
    "Each row of this table contains the transaction id, amount and transaction date.\n",
    "\n",
    "**Write a solution to find the sum of amounts for odd and even transactions for each day. If there are no odd or even transactions for a specific date, display as 0.**\n",
    "\n",
    "Return the result table ordered by transaction_date in ascending order.\n",
    "\n",
    "The result format is in the following example.\n",
    "\n",
    "**Example:**\n",
    "\n",
    "**Input:**\n",
    "\n",
    "**transactions table:**\n",
    "\n",
    "| transaction_id | amount | transaction_date |\n",
    "|----------------|--------|------------------|\n",
    "| 1              | 150    | 2024-07-01       |\n",
    "| 2              | 200    | 2024-07-01       |\n",
    "| 3              | 75     | 2024-07-01       |\n",
    "| 4              | 300    | 2024-07-02       |\n",
    "| 5              | 50     | 2024-07-02       |\n",
    "| 6              | 120    | 2024-07-03       |\n",
    "  \n",
    "**Output:**\n",
    "\n",
    "| transaction_date | odd_sum | even_sum |\n",
    "|------------------|---------|----------|\n",
    "| 2024-07-01       | 75      | 350      |\n",
    "| 2024-07-02       | 0       | 350      |\n",
    "| 2024-07-03       | 0       | 120      |\n",
    "  \n",
    "**Explanation:**\n",
    "\n",
    "- **For transaction dates:**\n",
    "  - **2024-07-01:**\n",
    "    - Sum of amounts for odd transactions: 75\n",
    "    - Sum of amounts for even transactions: 150 + 200 = 350\n",
    "  - **2024-07-02:**\n",
    "    - Sum of amounts for odd transactions: 0\n",
    "    - Sum of amounts for even transactions: 300 + 50 = 350\n",
    "  - **2024-07-03:**\n",
    "    - Sum of amounts for odd transactions: 0\n",
    "    - Sum of amounts for even transactions: 120\n",
    "\n",
    "**Note:** The output table is ordered by transaction_date in ascending order."
   ]
  },
  {
   "cell_type": "code",
   "execution_count": 0,
   "metadata": {
    "application/vnd.databricks.v1+cell": {
     "cellMetadata": {},
     "inputWidgets": {},
     "nuid": "a2368434-0191-416c-aa1d-12cd44cf48e6",
     "showTitle": false,
     "tableResultSettingsMap": {},
     "title": ""
    }
   },
   "outputs": [],
   "source": [
    "transactions_data_3220 = [\n",
    "    (1, 150, \"2024-07-01\"),\n",
    "    (2, 200, \"2024-07-01\"),\n",
    "    (3, 75, \"2024-07-01\"),\n",
    "    (4, 300, \"2024-07-02\"),\n",
    "    (5, 50, \"2024-07-02\"),\n",
    "    (6, 120, \"2024-07-03\")\n",
    "]\n",
    "\n",
    "transactions_columns_3220 = [\"transaction_id\", \"amount\", \"transaction_date\"]\n",
    "transactions_df_3220 = spark.createDataFrame(transactions_data_3220, transactions_columns_3220)\n",
    "transactions_df_3220.show()"
   ]
  }
 ],
 "metadata": {
  "application/vnd.databricks.v1+notebook": {
   "computePreferences": null,
   "dashboards": [],
   "environmentMetadata": {
    "base_environment": "",
    "environment_version": "1"
   },
   "inputWidgetPreferences": null,
   "language": "python",
   "notebookMetadata": {
    "pythonIndentUnit": 4
   },
   "notebookName": "3220. Odd and Even Transactions (Medium)",
   "widgets": {}
  }
 },
 "nbformat": 4,
 "nbformat_minor": 0
}