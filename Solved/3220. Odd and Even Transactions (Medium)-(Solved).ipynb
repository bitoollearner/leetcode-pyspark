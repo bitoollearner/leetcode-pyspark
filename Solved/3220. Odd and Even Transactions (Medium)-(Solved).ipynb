{
 "cells": [
  {
   "cell_type": "markdown",
   "metadata": {
    "application/vnd.databricks.v1+cell": {
     "cellMetadata": {
      "byteLimit": 2048000,
      "rowLimit": 10000
     },
     "inputWidgets": {},
     "nuid": "7d1791bd-9552-4116-90b2-daa678bbffb8",
     "showTitle": false,
     "tableResultSettingsMap": {},
     "title": ""
    }
   },
   "source": [
    "## Importing Libraries"
   ]
  },
  {
   "cell_type": "code",
   "execution_count": 0,
   "metadata": {
    "application/vnd.databricks.v1+cell": {
     "cellMetadata": {
      "byteLimit": 2048000,
      "rowLimit": 10000
     },
     "inputWidgets": {},
     "nuid": "2901fbc9-49db-4285-8b94-c460f34d4c4f",
     "showTitle": false,
     "tableResultSettingsMap": {},
     "title": ""
    }
   },
   "outputs": [],
   "source": [
    "from pyspark.sql.functions import *\n",
    "from pyspark.sql.types import *\n",
    "from pyspark.sql.window import Window"
   ]
  },
  {
   "cell_type": "markdown",
   "metadata": {
    "application/vnd.databricks.v1+cell": {
     "cellMetadata": {
      "byteLimit": 2048000,
      "rowLimit": 10000
     },
     "inputWidgets": {},
     "nuid": "655120e7-6b25-417c-a08a-c6925feaa425",
     "showTitle": false,
     "tableResultSettingsMap": {},
     "title": ""
    }
   },
   "source": [
    "**3220. Odd and Even Transactions (Medium)**\n",
    "\n",
    "**Table: transactions**\n",
    "\n",
    "| Column Name      | Type | \n",
    "|------------------|------|\n",
    "| transaction_id   | int  |\n",
    "| amount           | int  |\n",
    "| transaction_date | date |\n",
    "\n",
    "The transactions_id column uniquely identifies each row in this table.\n",
    "Each row of this table contains the transaction id, amount and transaction date.\n",
    "\n",
    "**Write a solution to find the sum of amounts for odd and even transactions for each day. If there are no odd or even transactions for a specific date, display as 0.**\n",
    "\n",
    "Return the result table ordered by transaction_date in ascending order.\n",
    "\n",
    "The result format is in the following example.\n",
    "\n",
    "**Example:**\n",
    "\n",
    "**Input:**\n",
    "\n",
    "**transactions table:**\n",
    "\n",
    "| transaction_id | amount | transaction_date |\n",
    "|----------------|--------|------------------|\n",
    "| 1              | 150    | 2024-07-01       |\n",
    "| 2              | 200    | 2024-07-01       |\n",
    "| 3              | 75     | 2024-07-01       |\n",
    "| 4              | 300    | 2024-07-02       |\n",
    "| 5              | 50     | 2024-07-02       |\n",
    "| 6              | 120    | 2024-07-03       |\n",
    "  \n",
    "**Output:**\n",
    "\n",
    "| transaction_date | odd_sum | even_sum |\n",
    "|------------------|---------|----------|\n",
    "| 2024-07-01       | 75      | 350      |\n",
    "| 2024-07-02       | 0       | 350      |\n",
    "| 2024-07-03       | 0       | 120      |\n",
    "  \n",
    "**Explanation:**\n",
    "\n",
    "- **For transaction dates:**\n",
    "  - **2024-07-01:**\n",
    "    - Sum of amounts for odd transactions: 75\n",
    "    - Sum of amounts for even transactions: 150 + 200 = 350\n",
    "  - **2024-07-02:**\n",
    "    - Sum of amounts for odd transactions: 0\n",
    "    - Sum of amounts for even transactions: 300 + 50 = 350\n",
    "  - **2024-07-03:**\n",
    "    - Sum of amounts for odd transactions: 0\n",
    "    - Sum of amounts for even transactions: 120\n",
    "\n",
    "**Note:** The output table is ordered by transaction_date in ascending order."
   ]
  },
  {
   "cell_type": "code",
   "execution_count": 0,
   "metadata": {
    "application/vnd.databricks.v1+cell": {
     "cellMetadata": {
      "byteLimit": 2048000,
      "rowLimit": 10000
     },
     "inputWidgets": {},
     "nuid": "a2368434-0191-416c-aa1d-12cd44cf48e6",
     "showTitle": false,
     "tableResultSettingsMap": {},
     "title": ""
    }
   },
   "outputs": [
    {
     "output_type": "stream",
     "name": "stdout",
     "output_type": "stream",
     "text": [
      "+--------------+------+----------------+\n|transaction_id|amount|transaction_date|\n+--------------+------+----------------+\n|             1|   150|      2024-07-01|\n|             2|   200|      2024-07-01|\n|             3|    75|      2024-07-01|\n|             4|   300|      2024-07-02|\n|             5|    50|      2024-07-02|\n|             6|   120|      2024-07-03|\n+--------------+------+----------------+\n\n"
     ]
    }
   ],
   "source": [
    "transactions_data_3220 = [\n",
    "    (1, 150, \"2024-07-01\"),\n",
    "    (2, 200, \"2024-07-01\"),\n",
    "    (3, 75, \"2024-07-01\"),\n",
    "    (4, 300, \"2024-07-02\"),\n",
    "    (5, 50, \"2024-07-02\"),\n",
    "    (6, 120, \"2024-07-03\")\n",
    "]\n",
    "\n",
    "transactions_columns_3220 = [\"transaction_id\", \"amount\", \"transaction_date\"]\n",
    "transactions_df_3220 = spark.createDataFrame(transactions_data_3220, transactions_columns_3220)\n",
    "transactions_df_3220.show()"
   ]
  },
  {
   "cell_type": "code",
   "execution_count": 0,
   "metadata": {
    "application/vnd.databricks.v1+cell": {
     "cellMetadata": {
      "byteLimit": 2048000,
      "rowLimit": 10000
     },
     "inputWidgets": {},
     "nuid": "8dede241-8158-409c-b72c-23f4f29c1571",
     "showTitle": false,
     "tableResultSettingsMap": {},
     "title": ""
    }
   },
   "outputs": [
    {
     "output_type": "display_data",
     "data": {
      "text/html": [
       "<style scoped>\n",
       "  .table-result-container {\n",
       "    max-height: 300px;\n",
       "    overflow: auto;\n",
       "  }\n",
       "  table, th, td {\n",
       "    border: 1px solid black;\n",
       "    border-collapse: collapse;\n",
       "  }\n",
       "  th, td {\n",
       "    padding: 5px;\n",
       "  }\n",
       "  th {\n",
       "    text-align: left;\n",
       "  }\n",
       "</style><div class='table-result-container'><table class='table-result'><thead style='background-color: white'><tr><th>transaction_date</th><th>odd_sum</th><th>even_sum</th></tr></thead><tbody><tr><td>2024-07-01</td><td>75</td><td>350</td></tr><tr><td>2024-07-02</td><td>0</td><td>350</td></tr><tr><td>2024-07-03</td><td>0</td><td>120</td></tr></tbody></table></div>"
      ]
     },
     "metadata": {
      "application/vnd.databricks.v1+output": {
       "addedWidgets": {},
       "aggData": [],
       "aggError": "",
       "aggOverflow": false,
       "aggSchema": [],
       "aggSeriesLimitReached": false,
       "aggType": "",
       "arguments": {},
       "columnCustomDisplayInfos": {},
       "data": [
        [
         "2024-07-01",
         75,
         350
        ],
        [
         "2024-07-02",
         0,
         350
        ],
        [
         "2024-07-03",
         0,
         120
        ]
       ],
       "datasetInfos": [],
       "dbfsResultPath": null,
       "isJsonSchema": true,
       "metadata": {},
       "overflow": false,
       "plotOptions": {
        "customPlotOptions": {},
        "displayType": "table",
        "pivotAggregation": null,
        "pivotColumns": null,
        "xColumns": null,
        "yColumns": null
       },
       "removedWidgets": [],
       "schema": [
        {
         "metadata": "{}",
         "name": "transaction_date",
         "type": "\"string\""
        },
        {
         "metadata": "{}",
         "name": "odd_sum",
         "type": "\"long\""
        },
        {
         "metadata": "{}",
         "name": "even_sum",
         "type": "\"long\""
        }
       ],
       "type": "table"
      }
     },
     "output_type": "display_data"
    }
   ],
   "source": [
    "transactions_df_3220\\\n",
    "    .groupBy(\"transaction_date\")\\\n",
    "        .agg(\n",
    "            sum(when(col(\"amount\") % 2 != 0, col(\"amount\")).otherwise(0)).alias(\"odd_sum\"),\n",
    "            sum(when(col(\"amount\") % 2 == 0, col(\"amount\")).otherwise(0)).alias(\"even_sum\")\n",
    "            ).orderBy(\"transaction_date\").display()"
   ]
  }
 ],
 "metadata": {
  "application/vnd.databricks.v1+notebook": {
   "computePreferences": {
    "hardware": {
     "accelerator": null,
     "gpuPoolId": null,
     "memory": null
    }
   },
   "dashboards": [],
   "environmentMetadata": {
    "base_environment": "",
    "environment_version": "2"
   },
   "inputWidgetPreferences": null,
   "language": "python",
   "notebookMetadata": {
    "pythonIndentUnit": 4
   },
   "notebookName": "3220. Odd and Even Transactions (Medium)-(Solved)",
   "widgets": {}
  },
  "language_info": {
   "name": "python"
  }
 },
 "nbformat": 4,
 "nbformat_minor": 0
}
