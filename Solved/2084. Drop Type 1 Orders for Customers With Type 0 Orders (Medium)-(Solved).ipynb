{
 "cells": [
  {
   "cell_type": "markdown",
   "metadata": {
    "application/vnd.databricks.v1+cell": {
     "cellMetadata": {},
     "inputWidgets": {},
     "nuid": "83d38679-f742-44bb-952b-b541e178ddc8",
     "showTitle": false,
     "tableResultSettingsMap": {},
     "title": ""
    }
   },
   "source": [
    "## Importing Libraries"
   ]
  },
  {
   "cell_type": "code",
   "execution_count": 0,
   "metadata": {
    "application/vnd.databricks.v1+cell": {
     "cellMetadata": {},
     "inputWidgets": {},
     "nuid": "1daf4387-60f2-4c66-b119-d9ce2cd54aa2",
     "showTitle": false,
     "tableResultSettingsMap": {},
     "title": ""
    }
   },
   "outputs": [],
   "source": [
    "from pyspark.sql.functions import *\n",
    "from pyspark.sql.types import *\n",
    "from pyspark.sql.window import Window"
   ]
  },
  {
   "cell_type": "markdown",
   "metadata": {
    "application/vnd.databricks.v1+cell": {
     "cellMetadata": {},
     "inputWidgets": {},
     "nuid": "83ab9b20-fd4f-4392-ae0c-ff0580c3c7c1",
     "showTitle": false,
     "tableResultSettingsMap": {},
     "title": ""
    }
   },
   "source": [
    "**2084. Drop Type 1 Orders for Customers With Type 0 Orders (Medium)**\n",
    "\n",
    "**Table: Orders**\n",
    "\n",
    "| Column Name | Type |\n",
    "|-------------|------|\n",
    "| order_id    | int  | \n",
    "| customer_id | int  |\n",
    "| order_type  | int  | \n",
    "\n",
    "order_id is the column with unique values for this table.\n",
    "Each row of this table indicates the ID of an order, the ID of the customer who ordered it, and the order type.\n",
    "The orders could be of type 0 or type 1.\n",
    " \n",
    "**Write a solution to report all the orders based on the following criteria:**\n",
    "- If a customer has at least one order of type 0, do not report any order of type 1 from that customer.\n",
    "- Otherwise, report all the orders of the customer.\n",
    "\n",
    "Return the result table in any order.\n",
    "\n",
    "The result format is in the following example.\n",
    "\n",
    "**Example 1:**\n",
    "\n",
    "**Input:**\n",
    "\n",
    "**Orders table:**\n",
    "\n",
    "| order_id | customer_id | order_type |\n",
    "|----------|-------------|------------|\n",
    "| 1        | 1           | 0          |\n",
    "| 2        | 1           | 0          |\n",
    "| 11       | 2           | 0          |\n",
    "| 12       | 2           | 1          |\n",
    "| 21       | 3           | 1          |\n",
    "| 22       | 3           | 0          |\n",
    "| 31       | 4           | 1          |\n",
    "| 32       | 4           | 1          |\n",
    "\n",
    "**Output:**\n",
    "| order_id | customer_id | order_type |\n",
    "|----------|-------------|------------|\n",
    "| 31       | 4           | 1          |\n",
    "| 32       | 4           | 1          |\n",
    "| 1        | 1           | 0          |\n",
    "| 2        | 1           | 0          |\n",
    "| 11       | 2           | 0          |\n",
    "| 22       | 3           | 0          |\n",
    "\n",
    "**Explanation:**\n",
    "- Customer 1 has two orders of type 0. We return both of them.\n",
    "- Customer 2 has one order of type 0 and one order of type 1. We only return the order of type 0.\n",
    "- Customer 3 has one order of type 0 and one order of type 1. We only return the order of type 0.\n",
    "- Customer 4 has two orders of type 1. We return both of them."
   ]
  },
  {
   "cell_type": "code",
   "execution_count": 0,
   "metadata": {
    "application/vnd.databricks.v1+cell": {
     "cellMetadata": {},
     "inputWidgets": {},
     "nuid": "e39af07f-85df-4e21-8a5f-c65604a811f3",
     "showTitle": false,
     "tableResultSettingsMap": {},
     "title": ""
    }
   },
   "outputs": [],
   "source": [
    "orders_data_2084 = [\n",
    "    (1, 1, 0),\n",
    "    (2, 1, 0),\n",
    "    (11, 2, 0),\n",
    "    (12, 2, 1),\n",
    "    (21, 3, 1),\n",
    "    (22, 3, 0),\n",
    "    (31, 4, 1),\n",
    "    (32, 4, 1)\n",
    "]\n",
    "\n",
    "orders_columns_2084 = [\"order_id\", \"customer_id\", \"order_type\"]\n",
    "orders_df_2084 = spark.createDataFrame(orders_data_2084, orders_columns_2084)\n",
    "orders_df_2084.show()"
   ]
  }
 ],
 "metadata": {
  "application/vnd.databricks.v1+notebook": {
   "computePreferences": null,
   "dashboards": [],
   "environmentMetadata": {
    "base_environment": "",
    "environment_version": "1"
   },
   "inputWidgetPreferences": null,
   "language": "python",
   "notebookMetadata": {
    "pythonIndentUnit": 4
   },
   "notebookName": "2084. Drop Type 1 Orders for Customers With Type 0 Orders (Medium)-(Solved)",
   "widgets": {}
  },
  "language_info": {
   "name": "python"
  }
 },
 "nbformat": 4,
 "nbformat_minor": 0
}
