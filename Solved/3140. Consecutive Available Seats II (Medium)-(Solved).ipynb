{
 "cells": [
  {
   "cell_type": "markdown",
   "metadata": {
    "application/vnd.databricks.v1+cell": {
     "cellMetadata": {},
     "inputWidgets": {},
     "nuid": "7d1791bd-9552-4116-90b2-daa678bbffb8",
     "showTitle": false,
     "tableResultSettingsMap": {},
     "title": ""
    }
   },
   "source": [
    "## Importing Libraries"
   ]
  },
  {
   "cell_type": "code",
   "execution_count": 0,
   "metadata": {
    "application/vnd.databricks.v1+cell": {
     "cellMetadata": {},
     "inputWidgets": {},
     "nuid": "2901fbc9-49db-4285-8b94-c460f34d4c4f",
     "showTitle": false,
     "tableResultSettingsMap": {},
     "title": ""
    }
   },
   "outputs": [],
   "source": [
    "from pyspark.sql.functions import *\n",
    "from pyspark.sql.types import *\n",
    "from pyspark.sql.window import Window"
   ]
  },
  {
   "cell_type": "markdown",
   "metadata": {
    "application/vnd.databricks.v1+cell": {
     "cellMetadata": {},
     "inputWidgets": {},
     "nuid": "655120e7-6b25-417c-a08a-c6925feaa425",
     "showTitle": false,
     "tableResultSettingsMap": {},
     "title": ""
    }
   },
   "source": [
    "**3140. Consecutive Available Seats II (Medium)**\n",
    "\n",
    "**Table: Cinema**\n",
    "\n",
    "| Column Name | Type |\n",
    "|-------------|------|\n",
    "| seat_id     | int  |\n",
    "| free        | bool |\n",
    "\n",
    "seat_id is an auto-increment column for this table.\n",
    "Each row of this table indicates whether the ith seat is free or not. 1 means free while 0 means occupied.\n",
    "\n",
    "**Write a solution to find the length of longest consecutive sequence of available seats in the cinema.**\n",
    "**Note:**\n",
    "- There will always be at most one longest consecutive sequence.\n",
    "- If there are multiple consecutive sequences with the same length, include all of them in the output.\n",
    "\n",
    "Return the result table ordered by first_seat_id in ascending order.\n",
    "\n",
    "The result format is in the following example.\n",
    "\n",
    "**Example:**\n",
    "\n",
    "**Input:**\n",
    "\n",
    "**Cinema table:**\n",
    "\n",
    "| seat_id | free |\n",
    "|---------|------|\n",
    "| 1       | 1    |\n",
    "| 2       | 0    |\n",
    "| 3       | 1    |\n",
    "| 4       | 1    |\n",
    "| 5       | 1    |\n",
    "\n",
    "**Output:**\n",
    "\n",
    "| first_seat_id   | last_seat_id   | consecutive_seats_len |\n",
    "|-----------------|----------------|-----------------------|\n",
    "| 3               | 5              | 3                     |\n",
    "\n",
    "**Explanation:**\n",
    "- Longest consecutive sequence of available seats starts from seat 3 and ends at seat 5 with a length of 3.\n",
    "\n",
    "Output table is ordered by first_seat_id in ascending order."
   ]
  },
  {
   "cell_type": "code",
   "execution_count": 0,
   "metadata": {
    "application/vnd.databricks.v1+cell": {
     "cellMetadata": {},
     "inputWidgets": {},
     "nuid": "a2368434-0191-416c-aa1d-12cd44cf48e6",
     "showTitle": false,
     "tableResultSettingsMap": {},
     "title": ""
    }
   },
   "outputs": [],
   "source": [
    "cinema_data_3140 = [\n",
    "    (1, 1),\n",
    "    (2, 0),\n",
    "    (3, 1),\n",
    "    (4, 1),\n",
    "    (5, 1),\n",
    "]\n",
    "\n",
    "cinema_columns_3140 = [\"seat_id\", \"free\"]\n",
    "cinema_df_3140 = spark.createDataFrame(cinema_data_3140, cinema_columns_3140)\n",
    "cinema_df_3140.show()"
   ]
  }
 ],
 "metadata": {
  "application/vnd.databricks.v1+notebook": {
   "computePreferences": null,
   "dashboards": [],
   "environmentMetadata": {
    "base_environment": "",
    "environment_version": "1"
   },
   "inputWidgetPreferences": null,
   "language": "python",
   "notebookMetadata": {
    "pythonIndentUnit": 4
   },
   "notebookName": "3140. Consecutive Available Seats II (Medium)-(Solved)",
   "widgets": {}
  },
  "language_info": {
   "name": "python"
  }
 },
 "nbformat": 4,
 "nbformat_minor": 0
}
