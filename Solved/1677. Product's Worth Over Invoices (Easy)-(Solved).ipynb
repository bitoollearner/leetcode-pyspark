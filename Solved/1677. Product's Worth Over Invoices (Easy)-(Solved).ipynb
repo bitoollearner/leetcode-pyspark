{
 "cells": [
  {
   "cell_type": "markdown",
   "metadata": {
    "application/vnd.databricks.v1+cell": {
     "cellMetadata": {},
     "inputWidgets": {},
     "nuid": "f6ac9266-658c-4507-8a37-ecc81334b06d",
     "showTitle": false,
     "tableResultSettingsMap": {},
     "title": ""
    }
   },
   "source": [
    "## Importing Libraries"
   ]
  },
  {
   "cell_type": "code",
   "execution_count": 0,
   "metadata": {
    "application/vnd.databricks.v1+cell": {
     "cellMetadata": {},
     "inputWidgets": {},
     "nuid": "d6194993-9312-4b46-8365-d6a73d8cb0b0",
     "showTitle": false,
     "tableResultSettingsMap": {},
     "title": ""
    }
   },
   "outputs": [],
   "source": [
    "from pyspark.sql.functions import *\n",
    "from pyspark.sql.types import *\n",
    "from pyspark.sql.window import Window"
   ]
  },
  {
   "cell_type": "markdown",
   "metadata": {
    "application/vnd.databricks.v1+cell": {
     "cellMetadata": {},
     "inputWidgets": {},
     "nuid": "23f6a680-8f01-4976-83fa-88103e49c6b8",
     "showTitle": false,
     "tableResultSettingsMap": {},
     "title": ""
    }
   },
   "source": [
    "**1677. Product's Worth Over Invoices (Easy)**\n",
    "\n",
    "**Table: Product**\n",
    "\n",
    "| Column Name | Type    |\n",
    "|-------------|---------|\n",
    "| product_id  | int     |\n",
    "| name        | varchar |\n",
    "\n",
    "product_id is the column with unique values for this table.\n",
    "This table contains the ID and the name of the product. The name consists of only lowercase English letters. No two products have the same name.\n",
    " \n",
    "**Table: Invoice**\n",
    "\n",
    "| Column Name | Type |\n",
    "|-------------|------|\n",
    "| invoice_id  | int  |\n",
    "| product_id  | int  |\n",
    "| rest        | int  |\n",
    "| paid        | int  |\n",
    "| canceled    | int  |\n",
    "| refunded    | int  |\n",
    "\n",
    "invoice_id is the column with unique values for this table and the id of this invoice.\n",
    "product_id is the id of the product for this invoice.\n",
    "rest is the amount left to pay for this invoice.\n",
    "paid is the amount paid for this invoice.\n",
    "canceled is the amount canceled for this invoice.\n",
    "refunded is the amount refunded for this invoice.\n",
    " \n",
    "**Write a solution that will, for all products, return each product name with the total amount due, paid, canceled, and refunded across all invoices.**\n",
    "\n",
    "Return the result table ordered by product_name.\n",
    "\n",
    "The result format is in the following example.\n",
    "\n",
    "**Example 1:**\n",
    "\n",
    "**Input:** \n",
    "\n",
    "**Product table:**\n",
    "\n",
    "| product_id | name  |\n",
    "|------------|-------|\n",
    "| 0          | ham   |\n",
    "| 1          | bacon |\n",
    "\n",
    "**Invoice table:**\n",
    "| invoice_id | product_id | rest | paid | canceled | refunded |\n",
    "|------------|------------|------|------|----------|----------|\n",
    "| 23         | 0          | 2    | 0    | 5        | 0        |\n",
    "| 12         | 0          | 0    | 4    | 0        | 3        |\n",
    "| 1          | 1          | 1    | 1    | 0        | 1        |\n",
    "| 2          | 1          | 1    | 0    | 1        | 1        |\n",
    "| 3          | 1          | 0    | 1    | 1        | 1        |\n",
    "| 4          | 1          | 1    | 1    | 1        | 0        |\n",
    "\n",
    "**Output:** \n",
    "| name  | rest | paid | canceled | refunded |\n",
    "|-------|------|------|----------|----------|\n",
    "| bacon | 3    | 3    | 3        | 3        |\n",
    "| ham   | 2    | 4    | 5        | 3        |\n",
    "\n",
    "**Explanation:** \n",
    "- The amount of money left to pay for bacon is 1 + 1 + 0 + 1 = 3\n",
    "- The amount of money paid for bacon is 1 + 0 + 1 + 1 = 3\n",
    "- The amount of money canceled for bacon is 0 + 1 + 1 + 1 = 3\n",
    "- The amount of money refunded for bacon is 1 + 1 + 1 + 0 = 3\n",
    "- The amount of money left to pay for ham is 2 + 0 = 2\n",
    "- The amount of money paid for ham is 0 + 4 = 4\n",
    "- The amount of money canceled for ham is 5 + 0 = 5\n",
    "- The amount of money refunded for ham is 0 + 3 = 3"
   ]
  },
  {
   "cell_type": "code",
   "execution_count": 0,
   "metadata": {
    "application/vnd.databricks.v1+cell": {
     "cellMetadata": {},
     "inputWidgets": {},
     "nuid": "a762f84d-f622-4403-b695-4066e5bdbaf0",
     "showTitle": false,
     "tableResultSettingsMap": {},
     "title": ""
    }
   },
   "outputs": [],
   "source": [
    "product_data_1677 = [(0, \"ham\"), (1, \"bacon\")]\n",
    "\n",
    "product_columns_1677 = [\"product_id\", \"name\"]\n",
    "product_df_1677 = spark.createDataFrame(product_data_1677, product_columns_1677)\n",
    "product_df_1677.show()\n",
    "\n",
    "invoice_data_1677 = [\n",
    "    (23, 0, 2, 0, 5, 0),\n",
    "    (12, 0, 0, 4, 0, 3),\n",
    "    (1, 1, 1, 1, 0, 1),\n",
    "    (2, 1, 1, 0, 1, 1),\n",
    "    (3, 1, 0, 1, 1, 1),\n",
    "    (4, 1, 1, 1, 1, 0)\n",
    "]\n",
    "\n",
    "invoice_columns_1677 = [\"invoice_id\", \"product_id\", \"rest\", \"paid\", \"canceled\", \"refunded\"]\n",
    "invoice_df_1677 = spark.createDataFrame(invoice_data_1677, invoice_columns_1677)\n",
    "invoice_df_1677.show()\n"
   ]
  }
 ],
 "metadata": {
  "application/vnd.databricks.v1+notebook": {
   "computePreferences": null,
   "dashboards": [],
   "environmentMetadata": {
    "base_environment": "",
    "environment_version": "1"
   },
   "inputWidgetPreferences": null,
   "language": "python",
   "notebookMetadata": {
    "pythonIndentUnit": 4
   },
   "notebookName": "1677. Product's Worth Over Invoices (Easy)-(Solved)",
   "widgets": {}
  },
  "language_info": {
   "name": "python"
  }
 },
 "nbformat": 4,
 "nbformat_minor": 0
}
