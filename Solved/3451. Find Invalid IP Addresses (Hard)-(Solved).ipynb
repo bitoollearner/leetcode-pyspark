{
 "cells": [
  {
   "cell_type": "markdown",
   "metadata": {
    "application/vnd.databricks.v1+cell": {
     "cellMetadata": {
      "byteLimit": 2048000,
      "rowLimit": 10000
     },
     "inputWidgets": {},
     "nuid": "7d1791bd-9552-4116-90b2-daa678bbffb8",
     "showTitle": false,
     "tableResultSettingsMap": {},
     "title": ""
    }
   },
   "source": [
    "## Importing Libraries"
   ]
  },
  {
   "cell_type": "code",
   "execution_count": 0,
   "metadata": {
    "application/vnd.databricks.v1+cell": {
     "cellMetadata": {
      "byteLimit": 2048000,
      "rowLimit": 10000
     },
     "inputWidgets": {},
     "nuid": "2901fbc9-49db-4285-8b94-c460f34d4c4f",
     "showTitle": false,
     "tableResultSettingsMap": {},
     "title": ""
    }
   },
   "outputs": [],
   "source": [
    "from pyspark.sql.functions import *\n",
    "from pyspark.sql.types import *\n",
    "from pyspark.sql.window import Window"
   ]
  },
  {
   "cell_type": "markdown",
   "metadata": {
    "application/vnd.databricks.v1+cell": {
     "cellMetadata": {
      "byteLimit": 2048000,
      "rowLimit": 10000
     },
     "inputWidgets": {},
     "nuid": "655120e7-6b25-417c-a08a-c6925feaa425",
     "showTitle": false,
     "tableResultSettingsMap": {},
     "title": ""
    }
   },
   "source": [
    "**3451. Find Invalid IP Addresses (Hard)**\n",
    "\n",
    "**Table: logs**\n",
    "\n",
    "| Column Name | Type    |\n",
    "|-------------|---------|\n",
    "| log_id      | int     |\n",
    "| ip          | varchar |\n",
    "| status_code | int     |\n",
    "\n",
    "log_id is the unique key for this table.\n",
    "Each row contains server access log information including IP address and HTTP status code.\n",
    "\n",
    "**Write a solution to find invalid IP addresses. An IPv4 address is invalid if it meets any of these conditions:**\n",
    "- Contains numbers greater than 255 in any octet\n",
    "- Has leading zeros in any octet (like 01.02.03.04)\n",
    "- Has less or more than 4 octets\n",
    "\n",
    "Return the result table ordered by invalid_count, ip in descending order respectively. \n",
    "\n",
    "The result format is in the following example.\n",
    "\n",
    "**Example:**\n",
    "\n",
    "**Input:**\n",
    "\n",
    "**logs table:**\n",
    "\n",
    "| log_id | ip            | status_code | \n",
    "|--------|---------------|-------------|\n",
    "| 1      | 192.168.1.1   | 200         | \n",
    "| 2      | 256.1.2.3     | 404         | \n",
    "| 3      | 192.168.001.1 | 200         | \n",
    "| 4      | 192.168.1.1   | 200         | \n",
    "| 5      | 192.168.1     | 500         | \n",
    "| 6      | 256.1.2.3     | 404         | \n",
    "| 7      | 192.168.001.1 | 200         | \n",
    "\n",
    "**Output:**\n",
    "| ip            | invalid_count|\n",
    "|---------------|--------------|\n",
    "| 256.1.2.3     | 2            |\n",
    "| 192.168.001.1 | 2            |\n",
    "| 192.168.1     | 1            |\n",
    "\n",
    "**Explanation:**\n",
    "- 256.1.2.3 is invalid because 256 > 255\n",
    "- 192.168.001.1 is invalid because of leading zeros\n",
    "- 192.168.1 is invalid because it has only 3 octets\n",
    "\n",
    "The output table is ordered by invalid_count, ip in descending order respectively."
   ]
  },
  {
   "cell_type": "code",
   "execution_count": 0,
   "metadata": {
    "application/vnd.databricks.v1+cell": {
     "cellMetadata": {
      "byteLimit": 2048000,
      "rowLimit": 10000
     },
     "inputWidgets": {},
     "nuid": "a2368434-0191-416c-aa1d-12cd44cf48e6",
     "showTitle": false,
     "tableResultSettingsMap": {},
     "title": ""
    }
   },
   "outputs": [
    {
     "output_type": "stream",
     "name": "stdout",
     "output_type": "stream",
     "text": [
      "+------+-------------+-----------+\n|log_id|           ip|status_code|\n+------+-------------+-----------+\n|     1|  192.168.1.1|        200|\n|     2|    256.1.2.3|        404|\n|     3|192.168.001.1|        200|\n|     4|  192.168.1.1|        200|\n|     5|    192.168.1|        500|\n|     6|    256.1.2.3|        404|\n|     7|192.168.001.1|        200|\n+------+-------------+-----------+\n\n"
     ]
    }
   ],
   "source": [
    "logs_data_3451 = [\n",
    "    (1, \"192.168.1.1\", 200),\n",
    "    (2, \"256.1.2.3\", 404),\n",
    "    (3, \"192.168.001.1\", 200),\n",
    "    (4, \"192.168.1.1\", 200),\n",
    "    (5, \"192.168.1\", 500),\n",
    "    (6, \"256.1.2.3\", 404),\n",
    "    (7, \"192.168.001.1\", 200),\n",
    "]\n",
    "\n",
    "logs_columns_3451 = [\"log_id\", \"ip\", \"status_code\"]\n",
    "logs_df_3451 = spark.createDataFrame(logs_data_3451, logs_columns_3451)\n",
    "logs_df_3451.show()"
   ]
  },
  {
   "cell_type": "code",
   "execution_count": 0,
   "metadata": {
    "application/vnd.databricks.v1+cell": {
     "cellMetadata": {
      "byteLimit": 2048000,
      "rowLimit": 10000
     },
     "inputWidgets": {},
     "nuid": "fd6702c0-e944-4ead-96d4-25fab1aeecdd",
     "showTitle": false,
     "tableResultSettingsMap": {},
     "title": ""
    }
   },
   "outputs": [],
   "source": [
    "octets = split(col(\"ip\"), \"\\.\")"
   ]
  },
  {
   "cell_type": "code",
   "execution_count": 0,
   "metadata": {
    "application/vnd.databricks.v1+cell": {
     "cellMetadata": {
      "byteLimit": 2048000,
      "rowLimit": 10000
     },
     "inputWidgets": {},
     "nuid": "0f58336b-fe19-496b-a1eb-272a0b736b33",
     "showTitle": false,
     "tableResultSettingsMap": {},
     "title": ""
    }
   },
   "outputs": [],
   "source": [
    "invalid_df_341 = logs_df_3451\\\n",
    "    .withColumn(\"is_invalid\",\n",
    "                when(\n",
    "                (size(octets) != 4) |\n",
    "                (octets[0].cast(\"int\") > 255) |\n",
    "                (octets[1].cast(\"int\") > 255) |\n",
    "                (octets[2].cast(\"int\") > 255) |\n",
    "                (octets[3].cast(\"int\") > 255) |\n",
    "                ((length(octets[0]) > 1) & (octets[0].startswith(\"0\"))) |\n",
    "                ((length(octets[1]) > 1) & (octets[1].startswith(\"0\"))) |\n",
    "                ((length(octets[2]) > 1) & (octets[2].startswith(\"0\"))) |\n",
    "                ((length(octets[3]) > 1) & (octets[3].startswith(\"0\"))),\n",
    "                1\n",
    "                ).otherwise(0)\n",
    "            )"
   ]
  },
  {
   "cell_type": "code",
   "execution_count": 0,
   "metadata": {
    "application/vnd.databricks.v1+cell": {
     "cellMetadata": {
      "byteLimit": 2048000,
      "rowLimit": 10000
     },
     "inputWidgets": {},
     "nuid": "7aaa2990-b65f-45e3-857b-575fcd91f352",
     "showTitle": false,
     "tableResultSettingsMap": {},
     "title": ""
    }
   },
   "outputs": [
    {
     "output_type": "display_data",
     "data": {
      "text/html": [
       "<style scoped>\n",
       "  .table-result-container {\n",
       "    max-height: 300px;\n",
       "    overflow: auto;\n",
       "  }\n",
       "  table, th, td {\n",
       "    border: 1px solid black;\n",
       "    border-collapse: collapse;\n",
       "  }\n",
       "  th, td {\n",
       "    padding: 5px;\n",
       "  }\n",
       "  th {\n",
       "    text-align: left;\n",
       "  }\n",
       "</style><div class='table-result-container'><table class='table-result'><thead style='background-color: white'><tr><th>ip</th><th>invalid_count</th></tr></thead><tbody><tr><td>256.1.2.3</td><td>2</td></tr><tr><td>192.168.001.1</td><td>2</td></tr><tr><td>192.168.1</td><td>1</td></tr></tbody></table></div>"
      ]
     },
     "metadata": {
      "application/vnd.databricks.v1+output": {
       "addedWidgets": {},
       "aggData": [],
       "aggError": "",
       "aggOverflow": false,
       "aggSchema": [],
       "aggSeriesLimitReached": false,
       "aggType": "",
       "arguments": {},
       "columnCustomDisplayInfos": {},
       "data": [
        [
         "256.1.2.3",
         2
        ],
        [
         "192.168.001.1",
         2
        ],
        [
         "192.168.1",
         1
        ]
       ],
       "datasetInfos": [],
       "dbfsResultPath": null,
       "isJsonSchema": true,
       "metadata": {},
       "overflow": false,
       "plotOptions": {
        "customPlotOptions": {},
        "displayType": "table",
        "pivotAggregation": null,
        "pivotColumns": null,
        "xColumns": null,
        "yColumns": null
       },
       "removedWidgets": [],
       "schema": [
        {
         "metadata": "{}",
         "name": "ip",
         "type": "\"string\""
        },
        {
         "metadata": "{}",
         "name": "invalid_count",
         "type": "\"long\""
        }
       ],
       "type": "table"
      }
     },
     "output_type": "display_data"
    }
   ],
   "source": [
    "invalid_df_341\\\n",
    "    .filter(col(\"is_invalid\") == 1) \\\n",
    "        .groupBy(\"ip\") \\\n",
    "            .agg(sum(\"is_invalid\").alias(\"invalid_count\")) \\\n",
    "                .orderBy(col(\"invalid_count\").desc(), col(\"ip\").desc()).display()"
   ]
  }
 ],
 "metadata": {
  "application/vnd.databricks.v1+notebook": {
   "computePreferences": {
    "hardware": {
     "accelerator": null,
     "gpuPoolId": null,
     "memory": null
    }
   },
   "dashboards": [],
   "environmentMetadata": {
    "base_environment": "",
    "environment_version": "2"
   },
   "inputWidgetPreferences": null,
   "language": "python",
   "notebookMetadata": {
    "pythonIndentUnit": 4
   },
   "notebookName": "3451. Find Invalid IP Addresses (Hard)-(Solved)",
   "widgets": {}
  },
  "language_info": {
   "name": "python"
  }
 },
 "nbformat": 4,
 "nbformat_minor": 0
}
