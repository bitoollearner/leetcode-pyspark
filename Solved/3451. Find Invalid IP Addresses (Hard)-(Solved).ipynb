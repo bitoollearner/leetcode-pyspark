{
 "cells": [
  {
   "cell_type": "markdown",
   "metadata": {
    "application/vnd.databricks.v1+cell": {
     "cellMetadata": {},
     "inputWidgets": {},
     "nuid": "7d1791bd-9552-4116-90b2-daa678bbffb8",
     "showTitle": false,
     "tableResultSettingsMap": {},
     "title": ""
    }
   },
   "source": [
    "## Importing Libraries"
   ]
  },
  {
   "cell_type": "code",
   "execution_count": 0,
   "metadata": {
    "application/vnd.databricks.v1+cell": {
     "cellMetadata": {},
     "inputWidgets": {},
     "nuid": "2901fbc9-49db-4285-8b94-c460f34d4c4f",
     "showTitle": false,
     "tableResultSettingsMap": {},
     "title": ""
    }
   },
   "outputs": [],
   "source": [
    "from pyspark.sql.functions import *\n",
    "from pyspark.sql.types import *\n",
    "from pyspark.sql.window import Window"
   ]
  },
  {
   "cell_type": "markdown",
   "metadata": {
    "application/vnd.databricks.v1+cell": {
     "cellMetadata": {},
     "inputWidgets": {},
     "nuid": "655120e7-6b25-417c-a08a-c6925feaa425",
     "showTitle": false,
     "tableResultSettingsMap": {},
     "title": ""
    }
   },
   "source": [
    "**3451. Find Invalid IP Addresses (Hard)**\n",
    "\n",
    "**Table: logs**\n",
    "\n",
    "| Column Name | Type    |\n",
    "|-------------|---------|\n",
    "| log_id      | int     |\n",
    "| ip          | varchar |\n",
    "| status_code | int     |\n",
    "\n",
    "log_id is the unique key for this table.\n",
    "Each row contains server access log information including IP address and HTTP status code.\n",
    "\n",
    "**Write a solution to find invalid IP addresses. An IPv4 address is invalid if it meets any of these conditions:**\n",
    "- Contains numbers greater than 255 in any octet\n",
    "- Has leading zeros in any octet (like 01.02.03.04)\n",
    "- Has less or more than 4 octets\n",
    "\n",
    "Return the result table ordered by invalid_count, ip in descending order respectively. \n",
    "\n",
    "The result format is in the following example.\n",
    "\n",
    "**Example:**\n",
    "\n",
    "**Input:**\n",
    "\n",
    "**logs table:**\n",
    "\n",
    "| log_id | ip            | status_code | \n",
    "|--------|---------------|-------------|\n",
    "| 1      | 192.168.1.1   | 200         | \n",
    "| 2      | 256.1.2.3     | 404         | \n",
    "| 3      | 192.168.001.1 | 200         | \n",
    "| 4      | 192.168.1.1   | 200         | \n",
    "| 5      | 192.168.1     | 500         | \n",
    "| 6      | 256.1.2.3     | 404         | \n",
    "| 7      | 192.168.001.1 | 200         | \n",
    "\n",
    "**Output:**\n",
    "| ip            | invalid_count|\n",
    "|---------------|--------------|\n",
    "| 256.1.2.3     | 2            |\n",
    "| 192.168.001.1 | 2            |\n",
    "| 192.168.1     | 1            |\n",
    "\n",
    "**Explanation:**\n",
    "- 256.1.2.3 is invalid because 256 > 255\n",
    "- 192.168.001.1 is invalid because of leading zeros\n",
    "- 192.168.1 is invalid because it has only 3 octets\n",
    "\n",
    "The output table is ordered by invalid_count, ip in descending order respectively."
   ]
  },
  {
   "cell_type": "code",
   "execution_count": 0,
   "metadata": {
    "application/vnd.databricks.v1+cell": {
     "cellMetadata": {},
     "inputWidgets": {},
     "nuid": "a2368434-0191-416c-aa1d-12cd44cf48e6",
     "showTitle": false,
     "tableResultSettingsMap": {},
     "title": ""
    }
   },
   "outputs": [],
   "source": [
    "logs_data_3451 = [\n",
    "    (1, \"192.168.1.1\", 200),\n",
    "    (2, \"256.1.2.3\", 404),\n",
    "    (3, \"192.168.001.1\", 200),\n",
    "    (4, \"192.168.1.1\", 200),\n",
    "    (5, \"192.168.1\", 500),\n",
    "    (6, \"256.1.2.3\", 404),\n",
    "    (7, \"192.168.001.1\", 200),\n",
    "]\n",
    "\n",
    "logs_columns_3451 = [\"log_id\", \"ip\", \"status_code\"]\n",
    "logs_df_3451 = spark.createDataFrame(logs_data_3451, logs_columns_3451)\n",
    "logs_df_3451.show()"
   ]
  }
 ],
 "metadata": {
  "application/vnd.databricks.v1+notebook": {
   "computePreferences": null,
   "dashboards": [],
   "environmentMetadata": {
    "base_environment": "",
    "environment_version": "1"
   },
   "inputWidgetPreferences": null,
   "language": "python",
   "notebookMetadata": {
    "pythonIndentUnit": 4
   },
   "notebookName": "3451. Find Invalid IP Addresses (Hard)",
   "widgets": {}
  }
 },
 "nbformat": 4,
 "nbformat_minor": 0
}