{
 "cells": [
  {
   "cell_type": "markdown",
   "metadata": {
    "application/vnd.databricks.v1+cell": {
     "cellMetadata": {
      "byteLimit": 2048000,
      "rowLimit": 10000
     },
     "inputWidgets": {},
     "nuid": "a23f6d56-6d8d-44bc-b796-cedda9e17c21",
     "showTitle": false,
     "tableResultSettingsMap": {},
     "title": ""
    }
   },
   "source": [
    "## Importing Libraries"
   ]
  },
  {
   "cell_type": "code",
   "execution_count": 0,
   "metadata": {
    "application/vnd.databricks.v1+cell": {
     "cellMetadata": {
      "byteLimit": 2048000,
      "rowLimit": 10000
     },
     "inputWidgets": {},
     "nuid": "0a69d78b-43d7-4f9e-a05d-026985c2539f",
     "showTitle": false,
     "tableResultSettingsMap": {},
     "title": ""
    }
   },
   "outputs": [],
   "source": [
    "from pyspark.sql.functions import *\n",
    "from pyspark.sql.types import *\n",
    "from pyspark.sql.window import Window"
   ]
  },
  {
   "cell_type": "markdown",
   "metadata": {
    "application/vnd.databricks.v1+cell": {
     "cellMetadata": {
      "byteLimit": 2048000,
      "rowLimit": 10000
     },
     "inputWidgets": {},
     "nuid": "2a54b88b-06bd-43e4-978a-c0c5d33ca5bb",
     "showTitle": false,
     "tableResultSettingsMap": {},
     "title": ""
    }
   },
   "source": [
    "**2173. Longest Winning Streak (Hard)**\n",
    "\n",
    "**Table: Matches**\n",
    "\n",
    "| Column Name | Type |\n",
    "|-------------|------|\n",
    "| player_id   | int  |\n",
    "| match_day   | date |\n",
    "| result      | enum |\n",
    "\n",
    "(player_id, match_day) is the primary key (combination of columns with unique values) for this table.\n",
    "Each row of this table contains the ID of a player, the day of the match they played, and the result of that match.\n",
    "The result column is an ENUM (category) type of ('Win', 'Draw', 'Lose').\n",
    " \n",
    "The winning streak of a player is the number of consecutive wins uninterrupted by draws or losses.\n",
    "\n",
    "**Write a solution to count the longest winning streak for each player.**\n",
    "\n",
    "Return the result table in any order.\n",
    "\n",
    "The result format is in the following example.\n",
    "\n",
    "**Example 1:**\n",
    "\n",
    "**Input:** \n",
    "\n",
    "**Matches table:**\n",
    "\n",
    "| player_id | match_day  | result |\n",
    "|-----------|------------|--------|\n",
    "| 1         | 2022-01-17 | Win    |\n",
    "| 1         | 2022-01-18 | Win    |\n",
    "| 1         | 2022-01-25 | Win    |\n",
    "| 1         | 2022-01-31 | Draw   |\n",
    "| 1         | 2022-02-08 | Win    |\n",
    "| 2         | 2022-02-06 | Lose   |\n",
    "| 2         | 2022-02-08 | Lose   |\n",
    "| 3         | 2022-03-30 | Win    |\n",
    "\n",
    "**Output:** \n",
    "| player_id | longest_streak |\n",
    "|-----------|----------------|\n",
    "| 1         | 3              |\n",
    "| 2         | 0              |\n",
    "| 3         | 1              |\n",
    "\n",
    "**Explanation:** \n",
    "\n",
    "Player 1:\n",
    "- From 2022-01-17 to 2022-01-25, player 1 won 3 consecutive matches.\n",
    "- On 2022-01-31, player 1 had a draw.\n",
    "- On 2022-02-08, player 1 won a match.\n",
    "- The longest winning streak was 3 matches.\n",
    "\n",
    "Player 2:\n",
    "- From 2022-02-06 to 2022-02-08, player 2 lost 2 consecutive matches.\n",
    "- The longest winning streak was 0 matches.\n",
    "\n",
    "Player 3:\n",
    "- On 2022-03-30, player 3 won a match.\n",
    "- The longest winning streak was 1 match.\n",
    " \n",
    "**Follow up:** If we are interested in calculating the longest streak without losing (i.e., win or draw), how will your solution change?"
   ]
  },
  {
   "cell_type": "code",
   "execution_count": 0,
   "metadata": {
    "application/vnd.databricks.v1+cell": {
     "cellMetadata": {
      "byteLimit": 2048000,
      "rowLimit": 10000
     },
     "inputWidgets": {},
     "nuid": "c260f510-542b-4067-a6f4-ffed86995056",
     "showTitle": false,
     "tableResultSettingsMap": {},
     "title": ""
    }
   },
   "outputs": [
    {
     "output_type": "stream",
     "name": "stdout",
     "output_type": "stream",
     "text": [
      "+---------+----------+------+\n|player_id| match_day|result|\n+---------+----------+------+\n|        1|2022-01-17|   Win|\n|        1|2022-01-18|   Win|\n|        1|2022-01-25|   Win|\n|        1|2022-01-31|  Draw|\n|        1|2022-02-08|   Win|\n|        2|2022-02-06|  Lose|\n|        2|2022-02-08|  Lose|\n|        3|2022-03-30|   Win|\n+---------+----------+------+\n\n"
     ]
    }
   ],
   "source": [
    "matches_data_2173 = [\n",
    "    (1, \"2022-01-17\", \"Win\"),\n",
    "    (1, \"2022-01-18\", \"Win\"),\n",
    "    (1, \"2022-01-25\", \"Win\"),\n",
    "    (1, \"2022-01-31\", \"Draw\"),\n",
    "    (1, \"2022-02-08\", \"Win\"),\n",
    "    (2, \"2022-02-06\", \"Lose\"),\n",
    "    (2, \"2022-02-08\", \"Lose\"),\n",
    "    (3, \"2022-03-30\", \"Win\"),\n",
    "]\n",
    "\n",
    "matches_columns_2173 = [\"player_id\", \"match_day\", \"result\"]\n",
    "matches_df_2173 = spark.createDataFrame(matches_data_2173, matches_columns_2173)\n",
    "matches_df_2173.show()"
   ]
  },
  {
   "cell_type": "code",
   "execution_count": 0,
   "metadata": {
    "application/vnd.databricks.v1+cell": {
     "cellMetadata": {
      "byteLimit": 2048000,
      "rowLimit": 10000
     },
     "inputWidgets": {},
     "nuid": "6e15f662-c352-4a67-8a3c-846a6616f645",
     "showTitle": false,
     "tableResultSettingsMap": {},
     "title": ""
    }
   },
   "outputs": [],
   "source": [
    "windowSpec = Window.partitionBy(\"player_id\").orderBy(\"match_day\")"
   ]
  },
  {
   "cell_type": "code",
   "execution_count": 0,
   "metadata": {
    "application/vnd.databricks.v1+cell": {
     "cellMetadata": {
      "byteLimit": 2048000,
      "rowLimit": 10000
     },
     "inputWidgets": {},
     "nuid": "1cb85a12-fa85-4804-9109-acde5613daf7",
     "showTitle": false,
     "tableResultSettingsMap": {},
     "title": ""
    }
   },
   "outputs": [],
   "source": [
    "df_flagged_2173 = matches_df_2173\\\n",
    "                    .withColumn( \"is_win\", \n",
    "                                when(col(\"result\") == \"Win\", 1).otherwise(0)\n",
    "                                )\\\n",
    "                    .withColumn( \"is_break\", \n",
    "                                when(col(\"result\") != \"Win\", 1).otherwise(0)\n",
    "                                )"
   ]
  },
  {
   "cell_type": "code",
   "execution_count": 0,
   "metadata": {
    "application/vnd.databricks.v1+cell": {
     "cellMetadata": {
      "byteLimit": 2048000,
      "rowLimit": 10000
     },
     "inputWidgets": {},
     "nuid": "7d399918-15fe-4861-9e26-286c2012ab9f",
     "showTitle": false,
     "tableResultSettingsMap": {},
     "title": ""
    }
   },
   "outputs": [],
   "source": [
    "df_grouped_2173 = df_flagged_2173\\\n",
    "                        .withColumn( \"streak_group\", sum(\"is_break\").over(windowSpec))"
   ]
  },
  {
   "cell_type": "code",
   "execution_count": 0,
   "metadata": {
    "application/vnd.databricks.v1+cell": {
     "cellMetadata": {
      "byteLimit": 2048000,
      "rowLimit": 10000
     },
     "inputWidgets": {},
     "nuid": "99840cd9-d89d-4552-bf34-abe79dfab664",
     "showTitle": false,
     "tableResultSettingsMap": {},
     "title": ""
    }
   },
   "outputs": [],
   "source": [
    "df_streaks_2173 = df_grouped_2173\\\n",
    "                    .groupBy(\"player_id\", \"streak_group\") \\\n",
    "                        .agg(sum(\"is_win\").alias(\"streak_len\"))"
   ]
  },
  {
   "cell_type": "code",
   "execution_count": 0,
   "metadata": {
    "application/vnd.databricks.v1+cell": {
     "cellMetadata": {
      "byteLimit": 2048000,
      "rowLimit": 10000
     },
     "inputWidgets": {},
     "nuid": "e0708d0d-f520-4506-92e4-62a40c34c317",
     "showTitle": false,
     "tableResultSettingsMap": {},
     "title": ""
    }
   },
   "outputs": [
    {
     "output_type": "stream",
     "name": "stdout",
     "output_type": "stream",
     "text": [
      "+---------+--------------+\n|player_id|longest_streak|\n+---------+--------------+\n|        1|             3|\n|        2|             0|\n|        3|             1|\n+---------+--------------+\n\n"
     ]
    }
   ],
   "source": [
    "df_streaks_2173\\\n",
    "    .groupBy(\"player_id\") \\\n",
    "        .agg(max(\"streak_len\").alias(\"longest_streak\")).show()"
   ]
  }
 ],
 "metadata": {
  "application/vnd.databricks.v1+notebook": {
   "computePreferences": {
    "hardware": {
     "accelerator": null,
     "gpuPoolId": null,
     "memory": null
    }
   },
   "dashboards": [],
   "environmentMetadata": {
    "base_environment": "",
    "environment_version": "2"
   },
   "inputWidgetPreferences": null,
   "language": "python",
   "notebookMetadata": {
    "pythonIndentUnit": 4
   },
   "notebookName": "2173. Longest Winning Streak (Hard)-(Solved)",
   "widgets": {}
  },
  "language_info": {
   "name": "python"
  }
 },
 "nbformat": 4,
 "nbformat_minor": 0
}
