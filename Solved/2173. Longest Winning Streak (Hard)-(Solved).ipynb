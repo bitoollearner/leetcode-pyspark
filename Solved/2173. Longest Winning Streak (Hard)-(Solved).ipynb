{
 "cells": [
  {
   "cell_type": "markdown",
   "metadata": {
    "application/vnd.databricks.v1+cell": {
     "cellMetadata": {},
     "inputWidgets": {},
     "nuid": "a23f6d56-6d8d-44bc-b796-cedda9e17c21",
     "showTitle": false,
     "tableResultSettingsMap": {},
     "title": ""
    }
   },
   "source": [
    "## Importing Libraries"
   ]
  },
  {
   "cell_type": "code",
   "execution_count": 0,
   "metadata": {
    "application/vnd.databricks.v1+cell": {
     "cellMetadata": {},
     "inputWidgets": {},
     "nuid": "0a69d78b-43d7-4f9e-a05d-026985c2539f",
     "showTitle": false,
     "tableResultSettingsMap": {},
     "title": ""
    }
   },
   "outputs": [],
   "source": [
    "from pyspark.sql.functions import *\n",
    "from pyspark.sql.types import *\n",
    "from pyspark.sql.window import Window"
   ]
  },
  {
   "cell_type": "markdown",
   "metadata": {
    "application/vnd.databricks.v1+cell": {
     "cellMetadata": {},
     "inputWidgets": {},
     "nuid": "2a54b88b-06bd-43e4-978a-c0c5d33ca5bb",
     "showTitle": false,
     "tableResultSettingsMap": {},
     "title": ""
    }
   },
   "source": [
    "**2173. Longest Winning Streak (Hard)**\n",
    "\n",
    "**Table: Matches**\n",
    "\n",
    "| Column Name | Type |\n",
    "|-------------|------|\n",
    "| player_id   | int  |\n",
    "| match_day   | date |\n",
    "| result      | enum |\n",
    "\n",
    "(player_id, match_day) is the primary key (combination of columns with unique values) for this table.\n",
    "Each row of this table contains the ID of a player, the day of the match they played, and the result of that match.\n",
    "The result column is an ENUM (category) type of ('Win', 'Draw', 'Lose').\n",
    " \n",
    "The winning streak of a player is the number of consecutive wins uninterrupted by draws or losses.\n",
    "\n",
    "**Write a solution to count the longest winning streak for each player.**\n",
    "\n",
    "Return the result table in any order.\n",
    "\n",
    "The result format is in the following example.\n",
    "\n",
    "**Example 1:**\n",
    "\n",
    "**Input:** \n",
    "\n",
    "**Matches table:**\n",
    "\n",
    "| player_id | match_day  | result |\n",
    "|-----------|------------|--------|\n",
    "| 1         | 2022-01-17 | Win    |\n",
    "| 1         | 2022-01-18 | Win    |\n",
    "| 1         | 2022-01-25 | Win    |\n",
    "| 1         | 2022-01-31 | Draw   |\n",
    "| 1         | 2022-02-08 | Win    |\n",
    "| 2         | 2022-02-06 | Lose   |\n",
    "| 2         | 2022-02-08 | Lose   |\n",
    "| 3         | 2022-03-30 | Win    |\n",
    "\n",
    "**Output:** \n",
    "| player_id | longest_streak |\n",
    "|-----------|----------------|\n",
    "| 1         | 3              |\n",
    "| 2         | 0              |\n",
    "| 3         | 1              |\n",
    "\n",
    "**Explanation:** \n",
    "\n",
    "Player 1:\n",
    "- From 2022-01-17 to 2022-01-25, player 1 won 3 consecutive matches.\n",
    "- On 2022-01-31, player 1 had a draw.\n",
    "- On 2022-02-08, player 1 won a match.\n",
    "- The longest winning streak was 3 matches.\n",
    "\n",
    "Player 2:\n",
    "- From 2022-02-06 to 2022-02-08, player 2 lost 2 consecutive matches.\n",
    "- The longest winning streak was 0 matches.\n",
    "\n",
    "Player 3:\n",
    "- On 2022-03-30, player 3 won a match.\n",
    "- The longest winning streak was 1 match.\n",
    " \n",
    "**Follow up:** If we are interested in calculating the longest streak without losing (i.e., win or draw), how will your solution change?"
   ]
  },
  {
   "cell_type": "code",
   "execution_count": 0,
   "metadata": {
    "application/vnd.databricks.v1+cell": {
     "cellMetadata": {},
     "inputWidgets": {},
     "nuid": "c260f510-542b-4067-a6f4-ffed86995056",
     "showTitle": false,
     "tableResultSettingsMap": {},
     "title": ""
    }
   },
   "outputs": [],
   "source": [
    "matches_data_2173 = [\n",
    "    (1, \"2022-01-17\", \"Win\"),\n",
    "    (1, \"2022-01-18\", \"Win\"),\n",
    "    (1, \"2022-01-25\", \"Win\"),\n",
    "    (1, \"2022-01-31\", \"Draw\"),\n",
    "    (1, \"2022-02-08\", \"Win\"),\n",
    "    (2, \"2022-02-06\", \"Lose\"),\n",
    "    (2, \"2022-02-08\", \"Lose\"),\n",
    "    (3, \"2022-03-30\", \"Win\"),\n",
    "]\n",
    "\n",
    "matches_columns_2173 = [\"player_id\", \"match_day\", \"result\"]\n",
    "matches_df_2173 = spark.createDataFrame(matches_data_2173, matches_columns_2173)\n",
    "matches_df_2173.show()"
   ]
  }
 ],
 "metadata": {
  "application/vnd.databricks.v1+notebook": {
   "computePreferences": null,
   "dashboards": [],
   "environmentMetadata": {
    "base_environment": "",
    "environment_version": "1"
   },
   "inputWidgetPreferences": null,
   "language": "python",
   "notebookMetadata": {
    "pythonIndentUnit": 4
   },
   "notebookName": "2173. Longest Winning Streak (Hard)-(Solved)",
   "widgets": {}
  },
  "language_info": {
   "name": "python"
  }
 },
 "nbformat": 4,
 "nbformat_minor": 0
}
