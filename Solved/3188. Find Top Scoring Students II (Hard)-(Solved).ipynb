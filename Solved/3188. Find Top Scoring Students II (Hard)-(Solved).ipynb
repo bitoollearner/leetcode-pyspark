{
 "cells": [
  {
   "cell_type": "markdown",
   "metadata": {
    "application/vnd.databricks.v1+cell": {
     "cellMetadata": {
      "byteLimit": 2048000,
      "rowLimit": 10000
     },
     "inputWidgets": {},
     "nuid": "7d1791bd-9552-4116-90b2-daa678bbffb8",
     "showTitle": false,
     "tableResultSettingsMap": {},
     "title": ""
    }
   },
   "source": [
    "## Importing Libraries"
   ]
  },
  {
   "cell_type": "code",
   "execution_count": 0,
   "metadata": {
    "application/vnd.databricks.v1+cell": {
     "cellMetadata": {
      "byteLimit": 2048000,
      "rowLimit": 10000
     },
     "inputWidgets": {},
     "nuid": "2901fbc9-49db-4285-8b94-c460f34d4c4f",
     "showTitle": false,
     "tableResultSettingsMap": {},
     "title": ""
    }
   },
   "outputs": [],
   "source": [
    "from pyspark.sql.functions import *\n",
    "from pyspark.sql.types import *\n",
    "from pyspark.sql.window import Window"
   ]
  },
  {
   "cell_type": "markdown",
   "metadata": {
    "application/vnd.databricks.v1+cell": {
     "cellMetadata": {
      "byteLimit": 2048000,
      "rowLimit": 10000
     },
     "inputWidgets": {},
     "nuid": "655120e7-6b25-417c-a08a-c6925feaa425",
     "showTitle": false,
     "tableResultSettingsMap": {},
     "title": ""
    }
   },
   "source": [
    "**3188. Find Top Scoring Students II (Hard)**\n",
    "\n",
    "**Table: students**\n",
    "\n",
    "| Column Name | Type     | \n",
    "|-------------|----------|\n",
    "| student_id  | int      |\n",
    "| name        | varchar  |\n",
    "| major       | varchar  |\n",
    "\n",
    "student_id is the primary key for this table. \n",
    "Each row contains the student ID, student name, and their major.\n",
    "\n",
    "**Table: courses**\n",
    "\n",
    "| Column Name | Type              |       \n",
    "|-------------|-------------------|\n",
    "| course_id   | int               |    \n",
    "| name        | varchar           |      \n",
    "| credits     | int               |           \n",
    "| major       | varchar           |       \n",
    "| mandatory   | enum              |      \n",
    "\n",
    "course_id is the primary key for this table. \n",
    "mandatory is an enum type of ('Yes', 'No').\n",
    "Each row contains the course ID, course name, credits, major it belongs to, and whether the course is mandatory.\n",
    "\n",
    "**Table: enrollments**\n",
    "\n",
    "| Column Name | Type     | \n",
    "|-------------|----------|\n",
    "| student_id  | int      |\n",
    "| course_id   | int      |\n",
    "| semester    | varchar  |\n",
    "| grade       | varchar  |\n",
    "| GPA         | decimal  | \n",
    "\n",
    "(student_id, course_id, semester) is the primary key (combination of columns with unique values) for this table.\n",
    "Each row contains the student ID, course ID, semester, and grade received.\n",
    "\n",
    "**Write a solution to find the students who meet the following criteria:**\n",
    "- Have taken all mandatory courses and at least two elective courses offered in their major.\n",
    "- Achieved a grade of A in all mandatory courses and at least B in elective courses.\n",
    "- Maintained an average GPA of at least 2.5 across all their courses (including those outside their major).\n",
    "\n",
    "Return the result table ordered by student_id in ascending order.\n",
    "\n",
    "**Example:**\n",
    "\n",
    "**Input:**\n",
    "\n",
    "**students table:**\n",
    "\n",
    "| student_id | name             | major            |\n",
    "|------------|------------------|------------------|\n",
    "| 1          | Alice            | Computer Science |\n",
    "| 2          | Bob              | Computer Science |\n",
    "| 3          | Charlie          | Mathematics      |\n",
    "| 4          | David            | Mathematics      |\n",
    " \n",
    "**courses table:**\n",
    "\n",
    "| course_id | name              | credits | major            | mandatory|\n",
    "|-----------|-------------------|---------|------------------|----------|\n",
    "| 101       | Algorithms        | 3       | Computer Science | yes      |\n",
    "| 102       | Data Structures   | 3       | Computer Science | yes      |\n",
    "| 103       | Calculus          | 4       | Mathematics      | yes      |\n",
    "| 104       | Linear Algebra    | 4       | Mathematics      | yes      |\n",
    "| 105       | Machine Learning  | 3       | Computer Science | no       |\n",
    "| 106       | Probability       | 3       | Mathematics      | no       |\n",
    "| 107       | Operating Systems | 3       | Computer Science | no       |\n",
    "| 108       | Statistics        | 3       | Mathematics      | no       |\n",
    " \n",
    "**enrollments table:**\n",
    "\n",
    "| student_id | course_id | semester    | grade | GPA |\n",
    "|------------|-----------|-------------|-------|-----|\n",
    "| 1          | 101       | Fall 2023   | A     | 4.0 |\n",
    "| 1          | 102       | Spring 2023 | A     | 4.0 |\n",
    "| 1          | 105       | Spring 2023 | A     | 4.0 |\n",
    "| 1          | 107       | Fall 2023   | B     | 3.5 |\n",
    "| 2          | 101       | Fall 2023   | A     | 4.0 |\n",
    "| 2          | 102       | Spring 2023 | B     | 3.0 |\n",
    "| 3          | 103       | Fall 2023   | A     | 4.0 |\n",
    "| 3          | 104       | Spring 2023 | A     | 4.0 |\n",
    "| 3          | 106       | Spring 2023 | A     | 4.0 |\n",
    "| 3          | 108       | Fall 2023   | B     | 3.5 |\n",
    "| 4          | 103       | Fall 2023   | B     | 3.0 |\n",
    "| 4          | 104       | Spring 2023 | B     | 3.0 |\n",
    "\n",
    " \n",
    "**Output:**\n",
    "\n",
    "| student_id |\n",
    "|------------|\n",
    "| 1          |\n",
    "| 3          |\n",
    "\n",
    "**Explanation:**\n",
    "- Alice (student_id 1) is a Computer Science major and has taken both Algorithms and Data Structures, receiving an A in both. She has also taken Machine Learning and Operating Systems as electives, receiving an A and B respectively.\n",
    "- Bob (student_id 2) is a Computer Science major but did not receive an A in all required courses.\n",
    "- Charlie (student_id 3) is a Mathematics major and has taken both Calculus and Linear Algebra, receiving an A in both. He has also taken Probability and Statistics as electives, receiving an A and B respectively.\n",
    "- David (student_id 4) is a Mathematics major but did not receive an A in all required courses.\n",
    "\n",
    "**Note:** Output table is ordered by student_id in ascending order."
   ]
  },
  {
   "cell_type": "code",
   "execution_count": 0,
   "metadata": {
    "application/vnd.databricks.v1+cell": {
     "cellMetadata": {
      "byteLimit": 2048000,
      "rowLimit": 10000
     },
     "inputWidgets": {},
     "nuid": "a2368434-0191-416c-aa1d-12cd44cf48e6",
     "showTitle": false,
     "tableResultSettingsMap": {},
     "title": ""
    }
   },
   "outputs": [
    {
     "output_type": "stream",
     "name": "stdout",
     "output_type": "stream",
     "text": [
      "+----------+-------+----------------+\n|student_id|   name|   student_major|\n+----------+-------+----------------+\n|         1|  Alice|Computer Science|\n|         2|    Bob|Computer Science|\n|         3|Charlie|     Mathematics|\n|         4|  David|     Mathematics|\n+----------+-------+----------------+\n\n+---------+-----------------+-------+----------------+---------+\n|course_id|             name|credits|    course_major|mandatory|\n+---------+-----------------+-------+----------------+---------+\n|      101|       Algorithms|      3|Computer Science|      yes|\n|      102|  Data Structures|      3|Computer Science|      yes|\n|      103|         Calculus|      4|     Mathematics|      yes|\n|      104|   Linear Algebra|      4|     Mathematics|      yes|\n|      105| Machine Learning|      3|Computer Science|       no|\n|      106|      Probability|      3|     Mathematics|       no|\n|      107|Operating Systems|      3|Computer Science|       no|\n|      108|       Statistics|      3|     Mathematics|       no|\n+---------+-----------------+-------+----------------+---------+\n\n+----------+---------+-----------+-----+---+\n|student_id|course_id|   semester|grade|GPA|\n+----------+---------+-----------+-----+---+\n|         1|      101|  Fall 2023|    A|4.0|\n|         1|      102|Spring 2023|    A|4.0|\n|         1|      105|Spring 2023|    A|4.0|\n|         1|      107|  Fall 2023|    B|3.5|\n|         2|      101|  Fall 2023|    A|4.0|\n|         2|      102|Spring 2023|    B|3.0|\n|         3|      103|  Fall 2023|    A|4.0|\n|         3|      104|Spring 2023|    A|4.0|\n|         3|      106|Spring 2023|    A|4.0|\n|         3|      108|  Fall 2023|    B|3.5|\n|         4|      103|  Fall 2023|    B|3.0|\n|         4|      104|Spring 2023|    B|3.0|\n+----------+---------+-----------+-----+---+\n\n"
     ]
    }
   ],
   "source": [
    "students_data_3188 = [\n",
    "    (1, \"Alice\", \"Computer Science\"),\n",
    "    (2, \"Bob\", \"Computer Science\"),\n",
    "    (3, \"Charlie\", \"Mathematics\"),\n",
    "    (4, \"David\", \"Mathematics\")\n",
    "]\n",
    "\n",
    "students_columns_3188 = [\"student_id\", \"name\", \"student_major\"]\n",
    "students_df_3188 = spark.createDataFrame(students_data_3188, students_columns_3188)\n",
    "students_df_3188.show()\n",
    "\n",
    "courses_data_3188 = [\n",
    "    (101, \"Algorithms\", 3, \"Computer Science\", \"yes\"),\n",
    "    (102, \"Data Structures\", 3, \"Computer Science\", \"yes\"),\n",
    "    (103, \"Calculus\", 4, \"Mathematics\", \"yes\"),\n",
    "    (104, \"Linear Algebra\", 4, \"Mathematics\", \"yes\"),\n",
    "    (105, \"Machine Learning\", 3, \"Computer Science\", \"no\"),\n",
    "    (106, \"Probability\", 3, \"Mathematics\", \"no\"),\n",
    "    (107, \"Operating Systems\", 3, \"Computer Science\", \"no\"),\n",
    "    (108, \"Statistics\", 3, \"Mathematics\", \"no\")\n",
    "]\n",
    "\n",
    "courses_columns_3188 = [\"course_id\", \"name\", \"credits\", \"course_major\", \"mandatory\"]\n",
    "courses_df_3188 = spark.createDataFrame(courses_data_3188, courses_columns_3188)\n",
    "courses_df_3188.show()\n",
    "\n",
    "enrollments_data_3188 = [\n",
    "    (1, 101, \"Fall 2023\", \"A\", 4.0),\n",
    "    (1, 102, \"Spring 2023\", \"A\", 4.0),\n",
    "    (1, 105, \"Spring 2023\", \"A\", 4.0),\n",
    "    (1, 107, \"Fall 2023\", \"B\", 3.5),\n",
    "    (2, 101, \"Fall 2023\", \"A\", 4.0),\n",
    "    (2, 102, \"Spring 2023\", \"B\", 3.0),\n",
    "    (3, 103, \"Fall 2023\", \"A\", 4.0),\n",
    "    (3, 104, \"Spring 2023\", \"A\", 4.0),\n",
    "    (3, 106, \"Spring 2023\", \"A\", 4.0),\n",
    "    (3, 108, \"Fall 2023\", \"B\", 3.5),\n",
    "    (4, 103, \"Fall 2023\", \"B\", 3.0),\n",
    "    (4, 104, \"Spring 2023\", \"B\", 3.0)\n",
    "]\n",
    "\n",
    "enrollments_columns_3188 = [\"student_id\", \"course_id\", \"semester\", \"grade\", \"GPA\"]\n",
    "enrollments_df_3188 = spark.createDataFrame(enrollments_data_3188, enrollments_columns_3188)\n",
    "enrollments_df_3188.show()\n"
   ]
  },
  {
   "cell_type": "code",
   "execution_count": 0,
   "metadata": {
    "application/vnd.databricks.v1+cell": {
     "cellMetadata": {
      "byteLimit": 2048000,
      "rowLimit": 10000
     },
     "inputWidgets": {},
     "nuid": "b9a666b9-1bcd-4c57-afa7-862cd9123f23",
     "showTitle": false,
     "tableResultSettingsMap": {},
     "title": ""
    }
   },
   "outputs": [],
   "source": [
    "enroll_courses_3188 = enrollments_df_3188\\\n",
    "                            .join(courses_df_3188, \"course_id\")"
   ]
  },
  {
   "cell_type": "code",
   "execution_count": 0,
   "metadata": {
    "application/vnd.databricks.v1+cell": {
     "cellMetadata": {
      "byteLimit": 2048000,
      "rowLimit": 10000
     },
     "inputWidgets": {},
     "nuid": "5cde8a6b-de4b-4ec2-a236-ea6864ccd7b5",
     "showTitle": false,
     "tableResultSettingsMap": {},
     "title": ""
    }
   },
   "outputs": [],
   "source": [
    "student_courses_3188 = enroll_courses_3188\\\n",
    "                            .join(students_df_3188, \"student_id\")"
   ]
  },
  {
   "cell_type": "code",
   "execution_count": 0,
   "metadata": {
    "application/vnd.databricks.v1+cell": {
     "cellMetadata": {
      "byteLimit": 2048000,
      "rowLimit": 10000
     },
     "inputWidgets": {},
     "nuid": "59aefcf7-173d-47f5-ad05-8dcc17c54d3e",
     "showTitle": false,
     "tableResultSettingsMap": {},
     "title": ""
    }
   },
   "outputs": [],
   "source": [
    "student_gpa_3188 = student_courses_3188\\\n",
    "                        .groupBy(\"student_id\")\\\n",
    "                            .agg(avg(\"GPA\").alias(\"avg_gpa\"))\\\n",
    "                                .filter(col(\"avg_gpa\") >= 2.5)"
   ]
  },
  {
   "cell_type": "code",
   "execution_count": 0,
   "metadata": {
    "application/vnd.databricks.v1+cell": {
     "cellMetadata": {
      "byteLimit": 2048000,
      "rowLimit": 10000
     },
     "inputWidgets": {},
     "nuid": "a80ffbcd-9fd5-4555-886d-9e052f374879",
     "showTitle": false,
     "tableResultSettingsMap": {},
     "title": ""
    }
   },
   "outputs": [],
   "source": [
    "mandatory_courses_3188 = courses_df_3188\\\n",
    "                            .filter(col(\"mandatory\") == \"yes\")\\\n",
    "                                .groupBy(\"course_major\")\\\n",
    "                                    .agg(countDistinct(\"course_id\").alias(\"total_mandatory\"))"
   ]
  },
  {
   "cell_type": "code",
   "execution_count": 0,
   "metadata": {
    "application/vnd.databricks.v1+cell": {
     "cellMetadata": {
      "byteLimit": 2048000,
      "rowLimit": 10000
     },
     "inputWidgets": {},
     "nuid": "5eb887d5-3405-4b02-8bea-93ee8e98a7e2",
     "showTitle": false,
     "tableResultSettingsMap": {},
     "title": ""
    }
   },
   "outputs": [],
   "source": [
    "mandatory_check_3188 = student_courses_3188\\\n",
    "                            .filter((col(\"mandatory\") == \"yes\") & (col(\"grade\") == \"A\"))\\\n",
    "                                .groupBy(\"student_id\", \"student_major\")\\\n",
    "                                    .agg(countDistinct(\"course_id\").alias(\"mandatory_A_count\"))"
   ]
  },
  {
   "cell_type": "code",
   "execution_count": 0,
   "metadata": {
    "application/vnd.databricks.v1+cell": {
     "cellMetadata": {
      "byteLimit": 2048000,
      "rowLimit": 10000
     },
     "inputWidgets": {},
     "nuid": "7e247520-5899-4912-9a36-818d215e19be",
     "showTitle": false,
     "tableResultSettingsMap": {},
     "title": ""
    }
   },
   "outputs": [],
   "source": [
    "mandatory_valid_3188 = mandatory_check_3188\\\n",
    "                            .join( mandatory_courses_3188, mandatory_check_3188[\"student_major\"] == mandatory_courses_3188[\"course_major\"],\"inner\")\\\n",
    "                                .filter(col(\"mandatory_A_count\") == col(\"total_mandatory\"))\\\n",
    "                                    .select(col(\"student_id\"), col(\"student_major\"))"
   ]
  },
  {
   "cell_type": "code",
   "execution_count": 0,
   "metadata": {
    "application/vnd.databricks.v1+cell": {
     "cellMetadata": {
      "byteLimit": 2048000,
      "rowLimit": 10000
     },
     "inputWidgets": {},
     "nuid": "038b95d1-a917-4464-abf8-dc47c91b1f41",
     "showTitle": false,
     "tableResultSettingsMap": {},
     "title": ""
    }
   },
   "outputs": [],
   "source": [
    "elective_check_3188 = student_courses_3188\\\n",
    "                            .filter((col(\"mandatory\") == \"no\") & (col(\"grade\").isin([\"A\", \"B\"])))\\\n",
    "                                .groupBy(\"student_id\", \"student_major\")\\\n",
    "                                    .agg(countDistinct(\"course_id\").alias(\"elective_B_count\"))\\\n",
    "                                        .filter(col(\"elective_B_count\") >= 2)"
   ]
  },
  {
   "cell_type": "code",
   "execution_count": 0,
   "metadata": {
    "application/vnd.databricks.v1+cell": {
     "cellMetadata": {
      "byteLimit": 2048000,
      "rowLimit": 10000
     },
     "inputWidgets": {},
     "nuid": "fe074ff3-37a5-4892-adef-fd244152d274",
     "showTitle": false,
     "tableResultSettingsMap": {},
     "title": ""
    }
   },
   "outputs": [
    {
     "output_type": "display_data",
     "data": {
      "text/html": [
       "<style scoped>\n",
       "  .table-result-container {\n",
       "    max-height: 300px;\n",
       "    overflow: auto;\n",
       "  }\n",
       "  table, th, td {\n",
       "    border: 1px solid black;\n",
       "    border-collapse: collapse;\n",
       "  }\n",
       "  th, td {\n",
       "    padding: 5px;\n",
       "  }\n",
       "  th {\n",
       "    text-align: left;\n",
       "  }\n",
       "</style><div class='table-result-container'><table class='table-result'><thead style='background-color: white'><tr><th>student_id</th></tr></thead><tbody><tr><td>1</td></tr><tr><td>3</td></tr></tbody></table></div>"
      ]
     },
     "metadata": {
      "application/vnd.databricks.v1+output": {
       "addedWidgets": {},
       "aggData": [],
       "aggError": "",
       "aggOverflow": false,
       "aggSchema": [],
       "aggSeriesLimitReached": false,
       "aggType": "",
       "arguments": {},
       "columnCustomDisplayInfos": {},
       "data": [
        [
         1
        ],
        [
         3
        ]
       ],
       "datasetInfos": [],
       "dbfsResultPath": null,
       "isJsonSchema": true,
       "metadata": {},
       "overflow": false,
       "plotOptions": {
        "customPlotOptions": {},
        "displayType": "table",
        "pivotAggregation": null,
        "pivotColumns": null,
        "xColumns": null,
        "yColumns": null
       },
       "removedWidgets": [],
       "schema": [
        {
         "metadata": "{}",
         "name": "student_id",
         "type": "\"long\""
        }
       ],
       "type": "table"
      }
     },
     "output_type": "display_data"
    }
   ],
   "source": [
    "mandatory_valid_3188.alias(\"mv\")\\\n",
    "    .join(\n",
    "        elective_check_3188.alias(\"ec\"), \n",
    "        (col(\"mv.student_id\") == col(\"ec.student_id\")) & \n",
    "        (col(\"mv.student_major\") == col(\"ec.student_major\")), \n",
    "        \"inner\")\\\n",
    "            .join(student_gpa_3188.alias(\"sg\"), col(\"mv.student_id\") == col(\"sg.student_id\"), \"inner\")\\\n",
    "                .select(col(\"mv.student_id\").alias(\"student_id\")).distinct().orderBy(\"student_id\").display()"
   ]
  }
 ],
 "metadata": {
  "application/vnd.databricks.v1+notebook": {
   "computePreferences": {
    "hardware": {
     "accelerator": null,
     "gpuPoolId": null,
     "memory": null
    }
   },
   "dashboards": [],
   "environmentMetadata": {
    "base_environment": "",
    "environment_version": "2"
   },
   "inputWidgetPreferences": null,
   "language": "python",
   "notebookMetadata": {
    "pythonIndentUnit": 4
   },
   "notebookName": "3188. Find Top Scoring Students II (Hard)-(Solved)",
   "widgets": {}
  },
  "language_info": {
   "name": "python"
  }
 },
 "nbformat": 4,
 "nbformat_minor": 0
}
