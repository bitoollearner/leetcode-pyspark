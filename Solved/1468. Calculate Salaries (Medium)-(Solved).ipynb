{
 "cells": [
  {
   "cell_type": "markdown",
   "metadata": {
    "application/vnd.databricks.v1+cell": {
     "cellMetadata": {
      "byteLimit": 2048000,
      "rowLimit": 10000
     },
     "inputWidgets": {},
     "nuid": "24f8e8c0-d56b-4821-a900-bbe934dce4d7",
     "showTitle": false,
     "tableResultSettingsMap": {},
     "title": ""
    }
   },
   "source": [
    "## Importing Libraries"
   ]
  },
  {
   "cell_type": "code",
   "execution_count": 0,
   "metadata": {
    "application/vnd.databricks.v1+cell": {
     "cellMetadata": {
      "byteLimit": 2048000,
      "rowLimit": 10000
     },
     "inputWidgets": {},
     "nuid": "243b190c-af0b-4bd1-9507-8e2be2fceca3",
     "showTitle": false,
     "tableResultSettingsMap": {},
     "title": ""
    }
   },
   "outputs": [],
   "source": [
    "from pyspark.sql.functions import *\n",
    "from pyspark.sql.types import *\n",
    "from pyspark.sql.window import Window"
   ]
  },
  {
   "cell_type": "markdown",
   "metadata": {
    "application/vnd.databricks.v1+cell": {
     "cellMetadata": {
      "byteLimit": 2048000,
      "rowLimit": 10000
     },
     "inputWidgets": {},
     "nuid": "2d9dc49c-3f2c-4ff6-8e98-5e72a86b1bac",
     "showTitle": false,
     "tableResultSettingsMap": {},
     "title": ""
    }
   },
   "source": [
    "**1468. Calculate Salaries (Medium)**\n",
    "\n",
    "**Table Salaries:**\n",
    "\n",
    "| Column Name   | Type    |\n",
    "|---------------|---------|\n",
    "| company_id    | int     |\n",
    "| employee_id   | int     |\n",
    "| employee_name | varchar |\n",
    "| salary        | int     |\n",
    "\n",
    "In SQL,(company_id, employee_id) is the primary key for this table.\n",
    "This table contains the company id, the id, the name, and the salary for an employee.\n",
    " \n",
    "**Find the salaries of the employees after applying taxes. Round the salary to the nearest integer.**\n",
    "\n",
    "The tax rate is calculated for each company based on the following criteria:\n",
    "- 0% If the max salary of any employee in the company is less than $1000.\n",
    "- 24% If the max salary of any employee in the company is in the range [1000, 10000] inclusive.\n",
    "- 49% If the max salary of any employee in the company is greater than $10000.\n",
    "\n",
    "Return the result table in any order.\n",
    "\n",
    "The result format is in the following example.\n",
    "\n",
    "**Example 1:**\n",
    "\n",
    "**Input:** \n",
    "\n",
    "**Salaries table:**\n",
    "\n",
    "| company_id | employee_id | employee_name | salary |\n",
    "|------------|-------------|---------------|--------|\n",
    "| 1          | 1           | Tony          | 2000   |\n",
    "| 1          | 2           | Pronub        | 21300  |\n",
    "| 1          | 3           | Tyrrox        | 10800  |\n",
    "| 2          | 1           | Pam           | 300    |\n",
    "| 2          | 7           | Bassem        | 450    |\n",
    "| 2          | 9           | Hermione      | 700    |\n",
    "| 3          | 7           | Bocaben       | 100    |\n",
    "| 3          | 2           | Ognjen        | 2200   |\n",
    "| 3          | 13          | Nyancat       | 3300   |\n",
    "| 3          | 15          | Morninngcat   | 7777   |\n",
    "\n",
    "**Output:** \n",
    "| company_id | employee_id | employee_name | salary |\n",
    "|------------|-------------|---------------|--------|\n",
    "| 1          | 1           | Tony          | 1020   |\n",
    "| 1          | 2           | Pronub        | 10863  |\n",
    "| 1          | 3           | Tyrrox        | 5508   |\n",
    "| 2          | 1           | Pam           | 300    |\n",
    "| 2          | 7           | Bassem        | 450    |\n",
    "| 2          | 9           | Hermione      | 700    |\n",
    "| 3          | 7           | Bocaben       | 76     |\n",
    "| 3          | 2           | Ognjen        | 1672   |\n",
    "| 3          | 13          | Nyancat       | 2508   |\n",
    "| 3          | 15          | Morninngcat   | 5911   |\n",
    "\n",
    "**Explanation:** \n",
    "- For company 1, Max salary is 21300. Employees in company 1 have taxes = 49%\n",
    "- For company 2, Max salary is 700. Employees in company 2 have taxes = 0%\n",
    "- For company 3, Max salary is 7777. Employees in company 3 have taxes = 24%\n",
    "- The salary after taxes = salary - (taxes percentage / 100) * salary\n",
    "- For example, Salary for Morninngcat (3, 15) after taxes = 7777 - 7777 * (24 / 100) = 7777 - 1866.48 = 5910.52, which is rounded to 5911."
   ]
  },
  {
   "cell_type": "code",
   "execution_count": 0,
   "metadata": {
    "application/vnd.databricks.v1+cell": {
     "cellMetadata": {
      "byteLimit": 2048000,
      "rowLimit": 10000
     },
     "inputWidgets": {},
     "nuid": "5d66d20c-58e2-4ee9-8356-d736216372c3",
     "showTitle": false,
     "tableResultSettingsMap": {},
     "title": ""
    }
   },
   "outputs": [
    {
     "output_type": "stream",
     "name": "stdout",
     "output_type": "stream",
     "text": [
      "+----------+-----------+-------------+------+\n|company_id|employee_id|employee_name|salary|\n+----------+-----------+-------------+------+\n|         1|          1|         Tony|  2000|\n|         1|          2|       Pronub| 21300|\n|         1|          3|       Tyrrox| 10800|\n|         2|          1|          Pam|   300|\n|         2|          7|       Bassem|   450|\n|         2|          9|     Hermione|   700|\n|         3|          7|      Bocaben|   100|\n|         3|          2|       Ognjen|  2200|\n|         3|         13|      Nyancat|  3300|\n|         3|         15|  Morninngcat|  7777|\n+----------+-----------+-------------+------+\n\n"
     ]
    }
   ],
   "source": [
    "salaries_data_1468 = [\n",
    "    (1, 1, \"Tony\", 2000),\n",
    "    (1, 2, \"Pronub\", 21300),\n",
    "    (1, 3, \"Tyrrox\", 10800),\n",
    "    (2, 1, \"Pam\", 300),\n",
    "    (2, 7, \"Bassem\", 450),\n",
    "    (2, 9, \"Hermione\", 700),\n",
    "    (3, 7, \"Bocaben\", 100),\n",
    "    (3, 2, \"Ognjen\", 2200),\n",
    "    (3, 13, \"Nyancat\", 3300),\n",
    "    (3, 15, \"Morninngcat\", 7777)\n",
    "]\n",
    "\n",
    "salaries_columns_1468 = [\"company_id\", \"employee_id\", \"employee_name\", \"salary\"]\n",
    "salaries_df_1468 = spark.createDataFrame(salaries_data_1468, salaries_columns_1468 )\n",
    "salaries_df_1468.show()"
   ]
  },
  {
   "cell_type": "code",
   "execution_count": 0,
   "metadata": {
    "application/vnd.databricks.v1+cell": {
     "cellMetadata": {
      "byteLimit": 2048000,
      "rowLimit": 10000
     },
     "inputWidgets": {},
     "nuid": "abfd89b3-814d-4fc9-abbb-d406f8080e66",
     "showTitle": false,
     "tableResultSettingsMap": {},
     "title": ""
    }
   },
   "outputs": [],
   "source": [
    "max_salary_df_1468 = salaries_df_1468\\\n",
    "                            .groupBy(\"company_id\")\\\n",
    "                                .agg(max(\"salary\").alias(\"max_salary\"))"
   ]
  },
  {
   "cell_type": "code",
   "execution_count": 0,
   "metadata": {
    "application/vnd.databricks.v1+cell": {
     "cellMetadata": {
      "byteLimit": 2048000,
      "rowLimit": 10000
     },
     "inputWidgets": {},
     "nuid": "81810f9d-5d84-4c58-805d-96ba8e2726f3",
     "showTitle": false,
     "tableResultSettingsMap": {},
     "title": ""
    }
   },
   "outputs": [],
   "source": [
    "tax_rate_df_1468 = max_salary_df_1468\\\n",
    "                            .withColumn(\"tax_rate\",\n",
    "                                        when(col(\"max_salary\") < 1000, 0.0)\n",
    "                                        .when((col(\"max_salary\") >= 1000) & (col(\"max_salary\") <= 10000), 0.24).otherwise(0.49)\n",
    "                                        )"
   ]
  },
  {
   "cell_type": "code",
   "execution_count": 0,
   "metadata": {
    "application/vnd.databricks.v1+cell": {
     "cellMetadata": {
      "byteLimit": 2048000,
      "rowLimit": 10000
     },
     "inputWidgets": {},
     "nuid": "880f49a8-ff0f-4c5a-8efd-df6c0860e274",
     "showTitle": false,
     "tableResultSettingsMap": {},
     "title": ""
    }
   },
   "outputs": [
    {
     "output_type": "stream",
     "name": "stdout",
     "output_type": "stream",
     "text": [
      "+----------+-----------+-------------+------+\n|company_id|employee_id|employee_name|salary|\n+----------+-----------+-------------+------+\n|         1|          1|         Tony|  1020|\n|         1|          2|       Pronub| 10863|\n|         1|          3|       Tyrrox|  5508|\n|         2|          1|          Pam|   300|\n|         2|          7|       Bassem|   450|\n|         2|          9|     Hermione|   700|\n|         3|          7|      Bocaben|    76|\n|         3|          2|       Ognjen|  1672|\n|         3|         13|      Nyancat|  2508|\n|         3|         15|  Morninngcat|  5911|\n+----------+-----------+-------------+------+\n\n"
     ]
    }
   ],
   "source": [
    "salaries_df_1468\\\n",
    "    .join(tax_rate_df_1468, on=\"company_id\", how=\"inner\")\\\n",
    "        .withColumn(\"salary\",round(col(\"salary\") * (1 - col(\"tax_rate\"))).cast(\"int\"))\\\n",
    "            .select(\"company_id\", \"employee_id\", \"employee_name\", \"salary\").show()"
   ]
  }
 ],
 "metadata": {
  "application/vnd.databricks.v1+notebook": {
   "computePreferences": {
    "hardware": {
     "accelerator": null,
     "gpuPoolId": null,
     "memory": null
    }
   },
   "dashboards": [],
   "environmentMetadata": {
    "base_environment": "",
    "environment_version": "2"
   },
   "inputWidgetPreferences": null,
   "language": "python",
   "notebookMetadata": {
    "pythonIndentUnit": 4
   },
   "notebookName": "1468. Calculate Salaries (Medium)-(Solved)",
   "widgets": {}
  },
  "language_info": {
   "name": "python"
  }
 },
 "nbformat": 4,
 "nbformat_minor": 0
}
