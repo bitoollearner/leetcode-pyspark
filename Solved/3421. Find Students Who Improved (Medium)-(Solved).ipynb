{
 "cells": [
  {
   "cell_type": "markdown",
   "metadata": {
    "application/vnd.databricks.v1+cell": {
     "cellMetadata": {
      "byteLimit": 2048000,
      "rowLimit": 10000
     },
     "inputWidgets": {},
     "nuid": "7d1791bd-9552-4116-90b2-daa678bbffb8",
     "showTitle": false,
     "tableResultSettingsMap": {},
     "title": ""
    }
   },
   "source": [
    "## Importing Libraries"
   ]
  },
  {
   "cell_type": "code",
   "execution_count": 0,
   "metadata": {
    "application/vnd.databricks.v1+cell": {
     "cellMetadata": {
      "byteLimit": 2048000,
      "rowLimit": 10000
     },
     "inputWidgets": {},
     "nuid": "2901fbc9-49db-4285-8b94-c460f34d4c4f",
     "showTitle": false,
     "tableResultSettingsMap": {},
     "title": ""
    }
   },
   "outputs": [],
   "source": [
    "from pyspark.sql.functions import *\n",
    "from pyspark.sql.types import *\n",
    "from pyspark.sql.window import Window"
   ]
  },
  {
   "cell_type": "markdown",
   "metadata": {
    "application/vnd.databricks.v1+cell": {
     "cellMetadata": {
      "byteLimit": 2048000,
      "rowLimit": 10000
     },
     "inputWidgets": {},
     "nuid": "655120e7-6b25-417c-a08a-c6925feaa425",
     "showTitle": false,
     "tableResultSettingsMap": {},
     "title": ""
    }
   },
   "source": [
    "**3421. Find Students Who Improved (Medium)**\n",
    "\n",
    "**Table: Scores**\n",
    "\n",
    "| Column Name | Type    |\n",
    "|-------------|---------|\n",
    "| student_id  | int     |\n",
    "| subject     | varchar |\n",
    "| score       | int     |\n",
    "| exam_date   | varchar |\n",
    "\n",
    "(student_id, subject, exam_date) is the primary key for this table.\n",
    "Each row contains information about a student's score in a specific subject on a particular exam date. score is between 0 and 100 (inclusive).\n",
    "\n",
    "**Write a solution to find the students who have shown improvement. A student is considered to have shown improvement if they meet both of these conditions:**\n",
    "\n",
    "- Have taken exams in the same subject on at least two different dates\n",
    "- Their latest score in that subject is higher than their first score\n",
    "\n",
    "Return the result table ordered by student_id, subject in ascending order.\n",
    "\n",
    "The result format is in the following example.\n",
    "\n",
    "**Example:**\n",
    "\n",
    "**Input:**\n",
    "\n",
    "**Scores table:**\n",
    "\n",
    "| student_id | subject  | score | exam_date  |\n",
    "|------------|----------|-------|------------|\n",
    "| 101        | Math     | 70    | 2023-01-15 |\n",
    "| 101        | Math     | 85    | 2023-02-15 |\n",
    "| 101        | Physics  | 65    | 2023-01-15 |\n",
    "| 101        | Physics  | 60    | 2023-02-15 |\n",
    "| 102        | Math     | 80    | 2023-01-15 |\n",
    "| 102        | Math     | 85    | 2023-02-15 |\n",
    "| 103        | Math     | 90    | 2023-01-15 |\n",
    "| 104        | Physics  | 75    | 2023-01-15 |\n",
    "| 104        | Physics  | 85    | 2023-02-15 |\n",
    "\n",
    "**Output:**\n",
    "\n",
    "| student_id | subject  | first_score | latest_score |\n",
    "|------------|----------|-------------|--------------|\n",
    "| 101        | Math     | 70          | 85           |\n",
    "| 102        | Math     | 80          | 85           |\n",
    "| 104        | Physics  | 75          | 85           |\n",
    "\n",
    "**Explanation:**\n",
    "\n",
    "- Student 101 in Math: Improved from 70 to 85\n",
    "- Student 101 in Physics: No improvement (dropped from 65 to 60)\n",
    "- Student 102 in Math: Improved from 80 to 85\n",
    "- Student 103 in Math: Only one exam, not eligible\n",
    "- Student 104 in Physics: Improved from 75 to 85\n",
    "\n",
    "Result table is ordered by student_id, subject."
   ]
  },
  {
   "cell_type": "code",
   "execution_count": 0,
   "metadata": {
    "application/vnd.databricks.v1+cell": {
     "cellMetadata": {
      "byteLimit": 2048000,
      "rowLimit": 10000
     },
     "inputWidgets": {},
     "nuid": "a2368434-0191-416c-aa1d-12cd44cf48e6",
     "showTitle": false,
     "tableResultSettingsMap": {},
     "title": ""
    }
   },
   "outputs": [
    {
     "output_type": "stream",
     "name": "stdout",
     "output_type": "stream",
     "text": [
      "+----------+-------+-----+----------+\n|student_id|subject|score| exam_date|\n+----------+-------+-----+----------+\n|       101|   Math|   70|2023-01-15|\n|       101|   Math|   85|2023-02-15|\n|       101|Physics|   65|2023-01-15|\n|       101|Physics|   60|2023-02-15|\n|       102|   Math|   80|2023-01-15|\n|       102|   Math|   85|2023-02-15|\n|       103|   Math|   90|2023-01-15|\n|       104|Physics|   75|2023-01-15|\n|       104|Physics|   85|2023-02-15|\n+----------+-------+-----+----------+\n\n"
     ]
    }
   ],
   "source": [
    "scores_data_3421 = [\n",
    "    (101, \"Math\", 70, \"2023-01-15\"),\n",
    "    (101, \"Math\", 85, \"2023-02-15\"),\n",
    "    (101, \"Physics\", 65, \"2023-01-15\"),\n",
    "    (101, \"Physics\", 60, \"2023-02-15\"),\n",
    "    (102, \"Math\", 80, \"2023-01-15\"),\n",
    "    (102, \"Math\", 85, \"2023-02-15\"),\n",
    "    (103, \"Math\", 90, \"2023-01-15\"),\n",
    "    (104, \"Physics\", 75, \"2023-01-15\"),\n",
    "    (104, \"Physics\", 85, \"2023-02-15\")\n",
    "]\n",
    "\n",
    "scores_columns_3421 = [\"student_id\", \"subject\", \"score\", \"exam_date\"]\n",
    "scores_df_3421 = spark.createDataFrame(scores_data_3421, scores_columns_3421)\n",
    "scores_df_3421.show()"
   ]
  },
  {
   "cell_type": "code",
   "execution_count": 0,
   "metadata": {
    "application/vnd.databricks.v1+cell": {
     "cellMetadata": {
      "byteLimit": 2048000,
      "rowLimit": 10000
     },
     "inputWidgets": {},
     "nuid": "2de7f61c-c35c-4f97-a69f-5de3993dff0a",
     "showTitle": false,
     "tableResultSettingsMap": {},
     "title": ""
    }
   },
   "outputs": [],
   "source": [
    "w_asc = Window.partitionBy(\"student_id\", \"subject\").orderBy(\"exam_date\")\n",
    "w_desc = Window.partitionBy(\"student_id\", \"subject\").orderBy(col(\"exam_date\").desc())"
   ]
  },
  {
   "cell_type": "code",
   "execution_count": 0,
   "metadata": {
    "application/vnd.databricks.v1+cell": {
     "cellMetadata": {
      "byteLimit": 2048000,
      "rowLimit": 10000
     },
     "inputWidgets": {},
     "nuid": "f76631bf-9fdb-44e6-b2cc-09ab151e49dd",
     "showTitle": false,
     "tableResultSettingsMap": {},
     "title": ""
    }
   },
   "outputs": [],
   "source": [
    "first_score_df_3421 = scores_df_3421\\\n",
    "                        .withColumn(\"rn\", row_number().over(w_asc)) \\\n",
    "                            .filter(col(\"rn\") == 1) \\\n",
    "                                .select(\"student_id\", \"subject\", col(\"score\").alias(\"first_score\"))"
   ]
  },
  {
   "cell_type": "code",
   "execution_count": 0,
   "metadata": {
    "application/vnd.databricks.v1+cell": {
     "cellMetadata": {
      "byteLimit": 2048000,
      "rowLimit": 10000
     },
     "inputWidgets": {},
     "nuid": "1ef95b03-fe5c-4831-aed1-08d827f8df4a",
     "showTitle": false,
     "tableResultSettingsMap": {},
     "title": ""
    }
   },
   "outputs": [],
   "source": [
    "latest_score_df_3421 = scores_df_3421\\\n",
    "                        .withColumn(\"rn\", row_number().over(w_desc)) \\\n",
    "                            .filter(col(\"rn\") == 1) \\\n",
    "                                .select(\"student_id\", \"subject\", col(\"score\").alias(\"latest_score\"))"
   ]
  },
  {
   "cell_type": "code",
   "execution_count": 0,
   "metadata": {
    "application/vnd.databricks.v1+cell": {
     "cellMetadata": {
      "byteLimit": 2048000,
      "rowLimit": 10000
     },
     "inputWidgets": {},
     "nuid": "a2227e26-86ce-400b-998d-6d258095575f",
     "showTitle": false,
     "tableResultSettingsMap": {},
     "title": ""
    }
   },
   "outputs": [
    {
     "output_type": "display_data",
     "data": {
      "text/html": [
       "<style scoped>\n",
       "  .table-result-container {\n",
       "    max-height: 300px;\n",
       "    overflow: auto;\n",
       "  }\n",
       "  table, th, td {\n",
       "    border: 1px solid black;\n",
       "    border-collapse: collapse;\n",
       "  }\n",
       "  th, td {\n",
       "    padding: 5px;\n",
       "  }\n",
       "  th {\n",
       "    text-align: left;\n",
       "  }\n",
       "</style><div class='table-result-container'><table class='table-result'><thead style='background-color: white'><tr><th>student_id</th><th>subject</th><th>first_score</th><th>latest_score</th></tr></thead><tbody><tr><td>101</td><td>Math</td><td>70</td><td>85</td></tr><tr><td>102</td><td>Math</td><td>80</td><td>85</td></tr><tr><td>104</td><td>Physics</td><td>75</td><td>85</td></tr></tbody></table></div>"
      ]
     },
     "metadata": {
      "application/vnd.databricks.v1+output": {
       "addedWidgets": {},
       "aggData": [],
       "aggError": "",
       "aggOverflow": false,
       "aggSchema": [],
       "aggSeriesLimitReached": false,
       "aggType": "",
       "arguments": {},
       "columnCustomDisplayInfos": {},
       "data": [
        [
         101,
         "Math",
         70,
         85
        ],
        [
         102,
         "Math",
         80,
         85
        ],
        [
         104,
         "Physics",
         75,
         85
        ]
       ],
       "datasetInfos": [],
       "dbfsResultPath": null,
       "isJsonSchema": true,
       "metadata": {},
       "overflow": false,
       "plotOptions": {
        "customPlotOptions": {},
        "displayType": "table",
        "pivotAggregation": null,
        "pivotColumns": null,
        "xColumns": null,
        "yColumns": null
       },
       "removedWidgets": [],
       "schema": [
        {
         "metadata": "{}",
         "name": "student_id",
         "type": "\"long\""
        },
        {
         "metadata": "{}",
         "name": "subject",
         "type": "\"string\""
        },
        {
         "metadata": "{}",
         "name": "first_score",
         "type": "\"long\""
        },
        {
         "metadata": "{}",
         "name": "latest_score",
         "type": "\"long\""
        }
       ],
       "type": "table"
      }
     },
     "output_type": "display_data"
    }
   ],
   "source": [
    "first_score_df_3421\\\n",
    "    .join(latest_score_df_3421, [\"student_id\", \"subject\"]) \\\n",
    "        .filter(col(\"latest_score\") > col(\"first_score\")) \\\n",
    "            .orderBy(\"student_id\", \"subject\").display()"
   ]
  }
 ],
 "metadata": {
  "application/vnd.databricks.v1+notebook": {
   "computePreferences": {
    "hardware": {
     "accelerator": null,
     "gpuPoolId": null,
     "memory": null
    }
   },
   "dashboards": [],
   "environmentMetadata": {
    "base_environment": "",
    "environment_version": "2"
   },
   "inputWidgetPreferences": null,
   "language": "python",
   "notebookMetadata": {
    "pythonIndentUnit": 4
   },
   "notebookName": "3421. Find Students Who Improved (Medium)-(Solved)",
   "widgets": {}
  },
  "language_info": {
   "name": "python"
  }
 },
 "nbformat": 4,
 "nbformat_minor": 0
}
