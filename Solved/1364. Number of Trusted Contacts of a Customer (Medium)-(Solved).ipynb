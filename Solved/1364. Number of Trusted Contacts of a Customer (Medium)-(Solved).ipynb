{
 "cells": [
  {
   "cell_type": "markdown",
   "metadata": {
    "application/vnd.databricks.v1+cell": {
     "cellMetadata": {
      "byteLimit": 2048000,
      "rowLimit": 10000
     },
     "inputWidgets": {},
     "nuid": "516a210c-988a-43a8-9004-cb03ad7c2481",
     "showTitle": false,
     "tableResultSettingsMap": {},
     "title": ""
    }
   },
   "source": [
    "## Importing Libraries"
   ]
  },
  {
   "cell_type": "code",
   "execution_count": 0,
   "metadata": {
    "application/vnd.databricks.v1+cell": {
     "cellMetadata": {
      "byteLimit": 2048000,
      "rowLimit": 10000
     },
     "inputWidgets": {},
     "nuid": "9333a394-5bb0-4f1f-8f10-60b56c9fb68e",
     "showTitle": false,
     "tableResultSettingsMap": {},
     "title": ""
    }
   },
   "outputs": [],
   "source": [
    "from pyspark.sql.functions import *\n",
    "from pyspark.sql.types import *\n",
    "from pyspark.sql.window import Window"
   ]
  },
  {
   "cell_type": "markdown",
   "metadata": {
    "application/vnd.databricks.v1+cell": {
     "cellMetadata": {
      "byteLimit": 2048000,
      "rowLimit": 10000
     },
     "inputWidgets": {},
     "nuid": "b718c875-1030-4207-a68c-5fad8635212a",
     "showTitle": false,
     "tableResultSettingsMap": {},
     "title": ""
    }
   },
   "source": [
    "**1364. Number of Trusted Contacts of a Customer (Medium)**\n",
    "\n",
    "**Table: Customers**\n",
    "\n",
    "| Column Name   | Type    |\n",
    "|---------------|---------|\n",
    "| customer_id   | int     |\n",
    "| customer_name | varchar |\n",
    "| email         | varchar |\n",
    "\n",
    "customer_id is the column of unique values for this table.\n",
    "Each row of this table contains the name and the email of a customer of an online shop.\n",
    " \n",
    "**Table: Contacts**\n",
    "\n",
    "| Column Name   | Type    |\n",
    "|---------------|---------|\n",
    "| user_id       | id      |\n",
    "| contact_name  | varchar |\n",
    "| contact_email | varchar |\n",
    "\n",
    "(user_id, contact_email) is the primary key (combination of columns with unique values) for this table.\n",
    "Each row of this table contains the name and email of one contact of customer with user_id.\n",
    "This table contains information about people each customer trust. The contact may or may not exist in the Customers table.\n",
    " \n",
    "**Table: Invoices**\n",
    "\n",
    "| Column Name  | Type    |\n",
    "|--------------|---------|\n",
    "| invoice_id   | int     |\n",
    "| price        | int     |\n",
    "| user_id      | int     |\n",
    "\n",
    "invoice_id is the column of unique values for this table.\n",
    "Each row of this table indicates that user_id has an invoice with invoice_id and a price.\n",
    " \n",
    "**Write a solution to find the following for each invoice_id:**\n",
    "- customer_name: The name of the customer the invoice is related to.\n",
    "- price: The price of the invoice.\n",
    "- contacts_cnt: The number of contacts related to the customer.\n",
    "- trusted_contacts_cnt: The number of contacts related to the customer and at the same time they are customers to the shop. (i.e their email exists in the Customers table.)\n",
    "\n",
    "Return the result table ordered by invoice_id.\n",
    "\n",
    "The result format is in the following example.\n",
    "\n",
    "**Example 1:**\n",
    "\n",
    "**Input:** \n",
    "\n",
    "**Customers table:**\n",
    "| customer_id | customer_name | email              |\n",
    "|-------------|---------------|--------------------|\n",
    "| 1           | Alice         | alice@leetcode.com |\n",
    "| 2           | Bob           | bob@leetcode.com   |\n",
    "| 13          | John          | john@leetcode.com  |\n",
    "| 6           | Alex          | alex@leetcode.com  |\n",
    "\n",
    "**Contacts table:**\n",
    "| user_id     | contact_name | contact_email      |\n",
    "|-------------|--------------|--------------------|\n",
    "| 1           | Bob          | bob@leetcode.com   |\n",
    "| 1           | John         | john@leetcode.com  |\n",
    "| 1           | Jal          | jal@leetcode.com   |\n",
    "| 2           | Omar         | omar@leetcode.com  |\n",
    "| 2           | Meir         | meir@leetcode.com  |\n",
    "| 6           | Alice        | alice@leetcode.com |\n",
    "\n",
    "**Invoices table:**\n",
    "| invoice_id | price | user_id |\n",
    "|------------|-------|---------|\n",
    "| 77         | 100   | 1       |\n",
    "| 88         | 200   | 1       |\n",
    "| 99         | 300   | 2       |\n",
    "| 66         | 400   | 2       |\n",
    "| 55         | 500   | 13      |\n",
    "| 44         | 60    | 6       |\n",
    "\n",
    "**Output:** \n",
    "| invoice_id | customer_name | price | contacts_cnt | trusted_contacts_cnt |\n",
    "|------------|---------------|-------|--------------|----------------------|\n",
    "| 44         | Alex          | 60    | 1            | 1                    |\n",
    "| 55         | John          | 500   | 0            | 0                    |\n",
    "| 66         | Bob           | 400   | 2            | 0                    |\n",
    "| 77         | Alice         | 100   | 3            | 2                    |\n",
    "| 88         | Alice         | 200   | 3            | 2                    |\n",
    "| 99         | Bob           | 300   | 2            | 0                    |\n",
    "\n",
    "**Explanation:** \n",
    "- Alice has three contacts, two of them are trusted contacts (Bob and John).\n",
    "- Bob has two contacts, none of them is a trusted contact.\n",
    "- Alex has one contact and it is a trusted contact (Alice).\n",
    "- John doesn't have any contacts."
   ]
  },
  {
   "cell_type": "code",
   "execution_count": 0,
   "metadata": {
    "application/vnd.databricks.v1+cell": {
     "cellMetadata": {
      "byteLimit": 2048000,
      "rowLimit": 10000
     },
     "inputWidgets": {},
     "nuid": "01e4d778-a8a5-48a7-8ebb-7033f0b84d62",
     "showTitle": false,
     "tableResultSettingsMap": {},
     "title": ""
    }
   },
   "outputs": [
    {
     "output_type": "stream",
     "name": "stdout",
     "output_type": "stream",
     "text": [
      "+-----------+-------------+------------------+\n|customer_id|customer_name|             email|\n+-----------+-------------+------------------+\n|          1|        Alice|alice@leetcode.com|\n|          2|          Bob|  bob@leetcode.com|\n|         13|         John| john@leetcode.com|\n|          6|         Alex| alex@leetcode.com|\n+-----------+-------------+------------------+\n\n+-------+------------+------------------+\n|user_id|contact_name|     contact_email|\n+-------+------------+------------------+\n|      1|         Bob|  bob@leetcode.com|\n|      1|        John| john@leetcode.com|\n|      1|         Jal|  jal@leetcode.com|\n|      2|        Omar| omar@leetcode.com|\n|      2|        Meir| meir@leetcode.com|\n|      6|       Alice|alice@leetcode.com|\n+-------+------------+------------------+\n\n+----------+-----+-------+\n|invoice_id|price|user_id|\n+----------+-----+-------+\n|        77|  100|      1|\n|        88|  200|      1|\n|        99|  300|      2|\n|        66|  400|      2|\n|        55|  500|     13|\n|        44|   60|      6|\n+----------+-----+-------+\n\n"
     ]
    }
   ],
   "source": [
    "customers_data_1364 = [\n",
    "    (1, \"Alice\", \"alice@leetcode.com\"),\n",
    "    (2, \"Bob\", \"bob@leetcode.com\"),\n",
    "    (13, \"John\", \"john@leetcode.com\"),\n",
    "    (6, \"Alex\", \"alex@leetcode.com\")\n",
    "]\n",
    "\n",
    "customers_columns_1364 = [\"customer_id\", \"customer_name\", \"email\"]\n",
    "customers_df_1364 = spark.createDataFrame(customers_data_1364, customers_columns_1364)\n",
    "customers_df_1364.show()\n",
    "\n",
    "contacts_data_1364 = [\n",
    "    (1, \"Bob\", \"bob@leetcode.com\"),\n",
    "    (1, \"John\", \"john@leetcode.com\"),\n",
    "    (1, \"Jal\", \"jal@leetcode.com\"),\n",
    "    (2, \"Omar\", \"omar@leetcode.com\"),\n",
    "    (2, \"Meir\", \"meir@leetcode.com\"),\n",
    "    (6, \"Alice\", \"alice@leetcode.com\")\n",
    "]\n",
    "contacts_columns_1364 = [\"user_id\", \"contact_name\", \"contact_email\"]\n",
    "contacts_df_1364 = spark.createDataFrame(contacts_data_1364, contacts_columns_1364)\n",
    "contacts_df_1364.show()\n",
    "\n",
    "invoices_data_1364 = [\n",
    "    (77, 100, 1),\n",
    "    (88, 200, 1),\n",
    "    (99, 300, 2),\n",
    "    (66, 400, 2),\n",
    "    (55, 500, 13),\n",
    "    (44, 60, 6)\n",
    "]\n",
    "invoices_columns_1364 = [\"invoice_id\", \"price\", \"user_id\"]\n",
    "invoices_df_1364 = spark.createDataFrame(invoices_data_1364, invoices_columns_1364)\n",
    "invoices_df_1364.show()"
   ]
  },
  {
   "cell_type": "code",
   "execution_count": 0,
   "metadata": {
    "application/vnd.databricks.v1+cell": {
     "cellMetadata": {
      "byteLimit": 2048000,
      "rowLimit": 10000
     },
     "inputWidgets": {},
     "nuid": "3f86b225-6576-4994-a361-f2f1eb1b9ef2",
     "showTitle": false,
     "tableResultSettingsMap": {},
     "title": ""
    }
   },
   "outputs": [],
   "source": [
    "contacts_cnt_df_1364 = contacts_df_1364.groupBy(\"user_id\").agg(count(\"*\").alias(\"contacts_cnt\"))"
   ]
  },
  {
   "cell_type": "code",
   "execution_count": 0,
   "metadata": {
    "application/vnd.databricks.v1+cell": {
     "cellMetadata": {
      "byteLimit": 2048000,
      "rowLimit": 10000
     },
     "inputWidgets": {},
     "nuid": "c83e776a-fef9-42c3-8499-ffc8023ba58e",
     "showTitle": false,
     "tableResultSettingsMap": {},
     "title": ""
    }
   },
   "outputs": [],
   "source": [
    "trusted_contacts_df_1364 = contacts_df_1364\\\n",
    "                                .join(customers_df_1364,contacts_df_1364.contact_email == customers_df_1364.email,how=\"inner\")\\\n",
    "                                    .groupBy(\"user_id\").agg(count(\"*\").alias(\"trusted_contacts_cnt\"))"
   ]
  },
  {
   "cell_type": "code",
   "execution_count": 0,
   "metadata": {
    "application/vnd.databricks.v1+cell": {
     "cellMetadata": {
      "byteLimit": 2048000,
      "rowLimit": 10000
     },
     "inputWidgets": {},
     "nuid": "07360c0a-a6e0-443e-9de4-85a01c929399",
     "showTitle": false,
     "tableResultSettingsMap": {},
     "title": ""
    }
   },
   "outputs": [],
   "source": [
    "invoice_customer_df_1364 = invoices_df_1364\\\n",
    "                        .join(customers_df_1364,invoices_df_1364.user_id == customers_df_1364.customer_id,how=\"left\")\\\n",
    "                            .select(\"invoice_id\", \"customer_name\", \"price\", \"user_id\")"
   ]
  },
  {
   "cell_type": "code",
   "execution_count": 0,
   "metadata": {
    "application/vnd.databricks.v1+cell": {
     "cellMetadata": {
      "byteLimit": 2048000,
      "rowLimit": 10000
     },
     "inputWidgets": {},
     "nuid": "9badac9c-7a4f-48fb-a3d4-440f68af5a43",
     "showTitle": false,
     "tableResultSettingsMap": {},
     "title": ""
    }
   },
   "outputs": [
    {
     "output_type": "stream",
     "name": "stdout",
     "output_type": "stream",
     "text": [
      "+----------+-------------+-----+------------+--------------------+\n|invoice_id|customer_name|price|contacts_cnt|trusted_contacts_cnt|\n+----------+-------------+-----+------------+--------------------+\n|        44|         Alex|   60|           1|                   1|\n|        55|         John|  500|           0|                   0|\n|        66|          Bob|  400|           2|                   0|\n|        77|        Alice|  100|           3|                   2|\n|        88|        Alice|  200|           3|                   2|\n|        99|          Bob|  300|           2|                   0|\n+----------+-------------+-----+------------+--------------------+\n\n"
     ]
    }
   ],
   "source": [
    "invoice_customer_df_1364 \\\n",
    "    .join(contacts_cnt_df_1364, \"user_id\", \"left\") \\\n",
    "    .join(trusted_contacts_df_1364, \"user_id\", \"left\") \\\n",
    "    .select(\n",
    "        \"invoice_id\",\n",
    "        \"customer_name\",\n",
    "        \"price\",\n",
    "        coalesce(\"contacts_cnt\", lit(0)).alias(\"contacts_cnt\"),\n",
    "        coalesce(\"trusted_contacts_cnt\", lit(0)).alias(\"trusted_contacts_cnt\")\n",
    "    ) \\\n",
    "    .orderBy(\"invoice_id\").show()"
   ]
  }
 ],
 "metadata": {
  "application/vnd.databricks.v1+notebook": {
   "computePreferences": {
    "hardware": {
     "accelerator": null,
     "gpuPoolId": null,
     "memory": null
    }
   },
   "dashboards": [],
   "environmentMetadata": {
    "base_environment": "",
    "environment_version": "2"
   },
   "inputWidgetPreferences": null,
   "language": "python",
   "notebookMetadata": {
    "pythonIndentUnit": 4
   },
   "notebookName": "1364. Number of Trusted Contacts of a Customer (Medium)-(Solved)",
   "widgets": {}
  },
  "language_info": {
   "name": "python"
  }
 },
 "nbformat": 4,
 "nbformat_minor": 0
}
