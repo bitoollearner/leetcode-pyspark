{
 "cells": [
  {
   "cell_type": "markdown",
   "metadata": {
    "application/vnd.databricks.v1+cell": {
     "cellMetadata": {
      "byteLimit": 2048000,
      "rowLimit": 10000
     },
     "inputWidgets": {},
     "nuid": "a23f6d56-6d8d-44bc-b796-cedda9e17c21",
     "showTitle": false,
     "tableResultSettingsMap": {},
     "title": ""
    }
   },
   "source": [
    "## Importing Libraries"
   ]
  },
  {
   "cell_type": "code",
   "execution_count": 0,
   "metadata": {
    "application/vnd.databricks.v1+cell": {
     "cellMetadata": {
      "byteLimit": 2048000,
      "rowLimit": 10000
     },
     "inputWidgets": {},
     "nuid": "0a69d78b-43d7-4f9e-a05d-026985c2539f",
     "showTitle": false,
     "tableResultSettingsMap": {},
     "title": ""
    }
   },
   "outputs": [],
   "source": [
    "from pyspark.sql.functions import *\n",
    "from pyspark.sql.types import *\n",
    "from pyspark.sql.window import Window"
   ]
  },
  {
   "cell_type": "markdown",
   "metadata": {
    "application/vnd.databricks.v1+cell": {
     "cellMetadata": {
      "byteLimit": 2048000,
      "rowLimit": 10000
     },
     "inputWidgets": {},
     "nuid": "2a54b88b-06bd-43e4-978a-c0c5d33ca5bb",
     "showTitle": false,
     "tableResultSettingsMap": {},
     "title": ""
    }
   },
   "source": [
    "**2199. Finding the Topic of Each Post (Hard)**\n",
    "\n",
    "**Table: Keywords**\n",
    "\n",
    "| Column Name | Type    |\n",
    "|-------------|---------|\n",
    "| topic_id    | int     |\n",
    "| word        | varchar |\n",
    "\n",
    "(topic_id, word) is the primary key (combination of columns with unique values) for this table.\n",
    "Each row of this table contains the id of a topic and a word that is used to express this topic.\n",
    "There may be more than one word to express the same topic and one word may be used to express multiple topics.\n",
    " \n",
    "**Table: Posts**\n",
    "\n",
    "| Column Name | Type    |\n",
    "|-------------|---------|\n",
    "| post_id     | int     |\n",
    "| content     | varchar |\n",
    "\n",
    "post_id is the primary key (column with unique values) for this table.\n",
    "Each row of this table contains the ID of a post and its content.\n",
    "Content will consist only of English letters and spaces.\n",
    " \n",
    "Leetcode has collected some posts from its social media website and is interested in finding the topics of each post. Each topic can be expressed by one or more keywords. If a keyword of a certain topic exists in the content of a post (case insensitive) then the post has this topic.\n",
    "\n",
    "**Write a solution to find the topics of each post according to the following rules:**\n",
    "- If the post does not have keywords from any topic, its topic should be \"Ambiguous!\".\n",
    "- If the post has at least one keyword of any topic, its topic should be a string of the IDs of its topics sorted in ascending order and separated by commas ','. The string should not contain duplicate IDs.\n",
    "\n",
    "Return the result table in any order.\n",
    "\n",
    "The result format is in the following example.\n",
    "\n",
    "**Example 1:**\n",
    "\n",
    "**Input:** \n",
    "\n",
    "**Keywords table:**\n",
    "\n",
    "| topic_id | word     |\n",
    "|----------|----------|\n",
    "| 1        | handball |\n",
    "| 1        | football |\n",
    "| 3        | WAR      |\n",
    "| 2        | Vaccine  |\n",
    "\n",
    "**Posts table:**\n",
    "| post_id | content                                                                |\n",
    "|---------|------------------------------------------------------------------------|\n",
    "| 1       | We call it soccer They call it football hahaha                         |\n",
    "| 2       | Americans prefer basketball while Europeans love handball and football |\n",
    "| 3       | stop the war and play handball                                         |\n",
    "| 4       | warning I planted some flowers this morning and then got vaccinated    |\n",
    "\n",
    "**Output:** \n",
    "| post_id | topic      |\n",
    "|---------|------------|\n",
    "| 1       | 1          |\n",
    "| 2       | 1          |\n",
    "| 3       | 1,3        |\n",
    "| 4       | Ambiguous! |\n",
    "\n",
    "**Explanation:** \n",
    "\n",
    "1: \"We call it soccer They call it football hahaha\"\n",
    "\"football\" expresses topic 1. There is no other word that expresses any other topic.\n",
    "\n",
    "2: \"Americans prefer basketball while Europeans love handball and football\"\n",
    "\"handball\" expresses topic 1. \"football\" expresses topic 1. \n",
    "There is no other word that expresses any other topic.\n",
    "\n",
    "3: \"stop the war and play handball\"\n",
    "\"war\" expresses topic 3. \"handball\" expresses topic 1.\n",
    "There is no other word that expresses any other topic.\n",
    "\n",
    "4: \"warning I planted some flowers this morning and then got vaccinated\"\n",
    "There is no word in this sentence that expresses any topic. Note that \"warning\" is different from \"war\" although they have a common prefix. \n",
    "This post is ambiguous.\n",
    "\n",
    "**Note** that it is okay to have one word that expresses more than one topic."
   ]
  },
  {
   "cell_type": "code",
   "execution_count": 0,
   "metadata": {
    "application/vnd.databricks.v1+cell": {
     "cellMetadata": {
      "byteLimit": 2048000,
      "rowLimit": 10000
     },
     "inputWidgets": {},
     "nuid": "c260f510-542b-4067-a6f4-ffed86995056",
     "showTitle": false,
     "tableResultSettingsMap": {},
     "title": ""
    }
   },
   "outputs": [
    {
     "output_type": "stream",
     "name": "stdout",
     "output_type": "stream",
     "text": [
      "+--------+--------+\n|topic_id|    word|\n+--------+--------+\n|       1|handball|\n|       1|football|\n|       3|     WAR|\n|       2| Vaccine|\n+--------+--------+\n\n+-------+--------------------+\n|post_id|             content|\n+-------+--------------------+\n|      1|We call it soccer...|\n|      2|Americans prefer ...|\n|      3|stop the war and ...|\n|      4|warning I planted...|\n+-------+--------------------+\n\n"
     ]
    }
   ],
   "source": [
    "keywords_data_2199 = [\n",
    "    (1, \"handball\"),\n",
    "    (1, \"football\"),\n",
    "    (3, \"WAR\"),\n",
    "    (2, \"Vaccine\"),\n",
    "]\n",
    "\n",
    "keywords_columns_2199 = [\"topic_id\", \"word\"]\n",
    "df_keywords_2199 = spark.createDataFrame(keywords_data_2199, keywords_columns_2199)\n",
    "df_keywords_2199.show()\n",
    "\n",
    "posts_data_2199 = [\n",
    "    (1, \"We call it soccer They call it football hahaha\"),\n",
    "    (2, \"Americans prefer basketball while Europeans love handball and football\"),\n",
    "    (3, \"stop the war and play handball\"),\n",
    "    (4, \"warning I planted some flowers this morning and then got vaccinated\"),\n",
    "]\n",
    "\n",
    "posts_columns_2199 = [\"post_id\", \"content\"]\n",
    "df_posts_2199 = spark.createDataFrame(posts_data_2199, posts_columns_2199)\n",
    "df_posts_2199.show()"
   ]
  },
  {
   "cell_type": "code",
   "execution_count": 0,
   "metadata": {
    "application/vnd.databricks.v1+cell": {
     "cellMetadata": {
      "byteLimit": 2048000,
      "rowLimit": 10000
     },
     "inputWidgets": {},
     "nuid": "1c776241-1eb7-4ddd-9829-692f0e764744",
     "showTitle": false,
     "tableResultSettingsMap": {},
     "title": ""
    }
   },
   "outputs": [],
   "source": [
    "df_posts_2199 = df_posts_2199\\\n",
    "                    .withColumn(\"content\", lower(col(\"content\")))\n",
    "\n",
    "df_keywords_2199 = df_keywords_2199\\\n",
    "                    .withColumn(\"word\", lower(col(\"word\")))"
   ]
  },
  {
   "cell_type": "code",
   "execution_count": 0,
   "metadata": {
    "application/vnd.databricks.v1+cell": {
     "cellMetadata": {
      "byteLimit": 2048000,
      "rowLimit": 10000
     },
     "inputWidgets": {},
     "nuid": "d87fffc3-894f-49d6-908e-53a76c9f698a",
     "showTitle": false,
     "tableResultSettingsMap": {},
     "title": ""
    }
   },
   "outputs": [],
   "source": [
    "joined_df_2199 = df_posts_2199\\\n",
    "                    .crossJoin(df_keywords_2199)\\\n",
    "                        .filter(\n",
    "                            expr(\"content rlike concat('(^| )', word, '( |$)')\")\n",
    "                            )"
   ]
  },
  {
   "cell_type": "code",
   "execution_count": 0,
   "metadata": {
    "application/vnd.databricks.v1+cell": {
     "cellMetadata": {
      "byteLimit": 2048000,
      "rowLimit": 10000
     },
     "inputWidgets": {},
     "nuid": "c80f9912-3638-4b2d-85d5-06b4f2badbd7",
     "showTitle": false,
     "tableResultSettingsMap": {},
     "title": ""
    }
   },
   "outputs": [],
   "source": [
    "topics_df_2199 = joined_df_2199\\\n",
    "                    .groupBy(\"post_id\")\\\n",
    "                        .agg(\n",
    "                            concat_ws(\",\", sort_array(collect_set(\"topic_id\"))).alias(\"topic\")\n",
    "                            )"
   ]
  },
  {
   "cell_type": "code",
   "execution_count": 0,
   "metadata": {
    "application/vnd.databricks.v1+cell": {
     "cellMetadata": {
      "byteLimit": 2048000,
      "rowLimit": 10000
     },
     "inputWidgets": {},
     "nuid": "3e43fdea-a681-4900-8f35-4cdd6613be00",
     "showTitle": false,
     "tableResultSettingsMap": {},
     "title": ""
    }
   },
   "outputs": [
    {
     "output_type": "stream",
     "name": "stdout",
     "output_type": "stream",
     "text": [
      "+-------+----------+\n|post_id|     topic|\n+-------+----------+\n|      1|         1|\n|      2|         1|\n|      3|       1,3|\n|      4|Ambiguous!|\n+-------+----------+\n\n"
     ]
    }
   ],
   "source": [
    "df_posts_2199\\\n",
    "    .join(topics_df_2199, \"post_id\", \"left\")\\\n",
    "        .withColumn( \"topic\",\n",
    "                    when(col(\"topic\").isNull(), lit(\"Ambiguous!\"))\\\n",
    "                        .otherwise(col(\"topic\"))\n",
    "                        ).select(\"post_id\", \"topic\").show()"
   ]
  }
 ],
 "metadata": {
  "application/vnd.databricks.v1+notebook": {
   "computePreferences": {
    "hardware": {
     "accelerator": null,
     "gpuPoolId": null,
     "memory": null
    }
   },
   "dashboards": [],
   "environmentMetadata": {
    "base_environment": "",
    "environment_version": "2"
   },
   "inputWidgetPreferences": null,
   "language": "python",
   "notebookMetadata": {
    "pythonIndentUnit": 4
   },
   "notebookName": "2199. Finding the Topic of Each Post (Hard)-(Solved)",
   "widgets": {}
  },
  "language_info": {
   "name": "python"
  }
 },
 "nbformat": 4,
 "nbformat_minor": 0
}
