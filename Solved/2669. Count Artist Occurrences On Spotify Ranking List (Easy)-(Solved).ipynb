{
 "cells": [
  {
   "cell_type": "markdown",
   "metadata": {
    "application/vnd.databricks.v1+cell": {
     "cellMetadata": {
      "byteLimit": 2048000,
      "rowLimit": 10000
     },
     "inputWidgets": {},
     "nuid": "4e9d71b1-88e9-445c-820a-b842e217a4e7",
     "showTitle": false,
     "tableResultSettingsMap": {},
     "title": ""
    }
   },
   "source": [
    "## Importing Libraries"
   ]
  },
  {
   "cell_type": "code",
   "execution_count": 0,
   "metadata": {
    "application/vnd.databricks.v1+cell": {
     "cellMetadata": {
      "byteLimit": 2048000,
      "rowLimit": 10000
     },
     "inputWidgets": {},
     "nuid": "e6624c4d-8cb8-4ac4-8c72-81d1b4ecdb57",
     "showTitle": false,
     "tableResultSettingsMap": {},
     "title": ""
    }
   },
   "outputs": [],
   "source": [
    "from pyspark.sql.functions import *\n",
    "from pyspark.sql.types import *\n",
    "from pyspark.sql.window import Window"
   ]
  },
  {
   "cell_type": "markdown",
   "metadata": {
    "application/vnd.databricks.v1+cell": {
     "cellMetadata": {
      "byteLimit": 2048000,
      "rowLimit": 10000
     },
     "inputWidgets": {},
     "nuid": "c3788fe5-f4c9-420f-ad72-ec1a39310a2a",
     "showTitle": false,
     "tableResultSettingsMap": {},
     "title": ""
    }
   },
   "source": [
    "**2669. Count Artist Occurrences On Spotify Ranking List (Easy)**\n",
    "\n",
    "**Table: Spotify**\n",
    "\n",
    "| Column Name | Type    | \n",
    "|-------------|---------| \n",
    "| id          | int     | \n",
    "| track_name  | varchar |\n",
    "| artist      | varchar |\n",
    "\n",
    "id is the primary key (column with unique values) for this table.\n",
    "Each row contains an id, track_name, and artist.\n",
    "\n",
    "**Write a solution to find how many times each artist appeared on the Spotify ranking list.**\n",
    "\n",
    "Return the result table having the artist's name along with the corresponding number of occurrences ordered by occurrence count in descending order. If the occurrences are equal, then it’s ordered by the artist’s name in ascending order.\n",
    "\n",
    "The result format is in the following example​​​​​.\n",
    "\n",
    "**Example 1:**\n",
    "\n",
    "**Input:**\n",
    "\n",
    "**Spotify table:**\n",
    "\n",
    "| id      | track_name         | artist     |  \n",
    "|---------|--------------------|------------|\n",
    "| 303651  | Heart Won't Forget | Sia        |\n",
    "| 1046089 | Shape of you       | Ed Sheeran |\n",
    "| 33445   | I'm the one        | DJ Khalid  |\n",
    "| 811266  | Young Dumb & Broke | DJ Khalid  | \n",
    "| 505727  | Happier            | Ed Sheeran |\n",
    "\n",
    "**Output:**\n",
    "| artist     | occurrences | \n",
    "|------------|-------------|\n",
    "| DJ Khalid  | 2           |\n",
    "| Ed Sheeran | 2           |\n",
    "| Sia        | 1           | \n",
    "\n",
    "**Explanation:** The count of occurrences is listed in descending order under the column name \"occurrences\". If the number of occurrences is the same, the artist's names are sorted in ascending order."
   ]
  },
  {
   "cell_type": "code",
   "execution_count": 0,
   "metadata": {
    "application/vnd.databricks.v1+cell": {
     "cellMetadata": {
      "byteLimit": 2048000,
      "rowLimit": 10000
     },
     "inputWidgets": {},
     "nuid": "137536ea-9bec-4171-8dc2-4bf8b0d771b4",
     "showTitle": false,
     "tableResultSettingsMap": {},
     "title": ""
    }
   },
   "outputs": [
    {
     "output_type": "stream",
     "name": "stdout",
     "output_type": "stream",
     "text": [
      "+-------+------------------+----------+\n|     id|        track_name|    artist|\n+-------+------------------+----------+\n| 303651|Heart Won't Forget|       Sia|\n|1046089|      Shape of you|Ed Sheeran|\n|  33445|       I'm the one| DJ Khalid|\n| 811266|Young Dumb & Broke| DJ Khalid|\n| 505727|           Happier|Ed Sheeran|\n+-------+------------------+----------+\n\n"
     ]
    }
   ],
   "source": [
    "spotify_data_2669 = [\n",
    "    (303651, \"Heart Won't Forget\", \"Sia\"),\n",
    "    (1046089, \"Shape of you\", \"Ed Sheeran\"),\n",
    "    (33445, \"I'm the one\", \"DJ Khalid\"),\n",
    "    (811266, \"Young Dumb & Broke\", \"DJ Khalid\"),\n",
    "    (505727, \"Happier\", \"Ed Sheeran\"),\n",
    "]\n",
    "\n",
    "spotify_columns_2669 = [\"id\", \"track_name\", \"artist\"]\n",
    "spotify_df_2669 = spark.createDataFrame(spotify_data_2669, spotify_columns_2669)\n",
    "spotify_df_2669.show()"
   ]
  },
  {
   "cell_type": "code",
   "execution_count": 0,
   "metadata": {
    "application/vnd.databricks.v1+cell": {
     "cellMetadata": {
      "byteLimit": 2048000,
      "rowLimit": 10000
     },
     "inputWidgets": {},
     "nuid": "d8cfc9be-e847-4e0a-9fd5-7652d74bde8f",
     "showTitle": false,
     "tableResultSettingsMap": {},
     "title": ""
    }
   },
   "outputs": [
    {
     "output_type": "display_data",
     "data": {
      "text/html": [
       "<style scoped>\n",
       "  .table-result-container {\n",
       "    max-height: 300px;\n",
       "    overflow: auto;\n",
       "  }\n",
       "  table, th, td {\n",
       "    border: 1px solid black;\n",
       "    border-collapse: collapse;\n",
       "  }\n",
       "  th, td {\n",
       "    padding: 5px;\n",
       "  }\n",
       "  th {\n",
       "    text-align: left;\n",
       "  }\n",
       "</style><div class='table-result-container'><table class='table-result'><thead style='background-color: white'><tr><th>artist</th><th>occurrences</th></tr></thead><tbody><tr><td>DJ Khalid</td><td>2</td></tr><tr><td>Ed Sheeran</td><td>2</td></tr><tr><td>Sia</td><td>1</td></tr></tbody></table></div>"
      ]
     },
     "metadata": {
      "application/vnd.databricks.v1+output": {
       "addedWidgets": {},
       "aggData": [],
       "aggError": "",
       "aggOverflow": false,
       "aggSchema": [],
       "aggSeriesLimitReached": false,
       "aggType": "",
       "arguments": {},
       "columnCustomDisplayInfos": {},
       "data": [
        [
         "DJ Khalid",
         2
        ],
        [
         "Ed Sheeran",
         2
        ],
        [
         "Sia",
         1
        ]
       ],
       "datasetInfos": [],
       "dbfsResultPath": null,
       "isJsonSchema": true,
       "metadata": {},
       "overflow": false,
       "plotOptions": {
        "customPlotOptions": {},
        "displayType": "table",
        "pivotAggregation": null,
        "pivotColumns": null,
        "xColumns": null,
        "yColumns": null
       },
       "removedWidgets": [],
       "schema": [
        {
         "metadata": "{}",
         "name": "artist",
         "type": "\"string\""
        },
        {
         "metadata": "{}",
         "name": "occurrences",
         "type": "\"long\""
        }
       ],
       "type": "table"
      }
     },
     "output_type": "display_data"
    }
   ],
   "source": [
    "spotify_df_2669\\\n",
    "    .groupBy(\"artist\")\\\n",
    "        .agg(count(\"*\").alias(\"occurrences\"))\\\n",
    "            .orderBy(col(\"occurrences\").desc(), col(\"artist\").asc()).display()"
   ]
  }
 ],
 "metadata": {
  "application/vnd.databricks.v1+notebook": {
   "computePreferences": {
    "hardware": {
     "accelerator": null,
     "gpuPoolId": null,
     "memory": null
    }
   },
   "dashboards": [],
   "environmentMetadata": {
    "base_environment": "",
    "environment_version": "2"
   },
   "inputWidgetPreferences": null,
   "language": "python",
   "notebookMetadata": {
    "pythonIndentUnit": 4
   },
   "notebookName": "2669. Count Artist Occurrences On Spotify Ranking List (Easy)-(Solved)",
   "widgets": {}
  },
  "language_info": {
   "name": "python"
  }
 },
 "nbformat": 4,
 "nbformat_minor": 0
}
