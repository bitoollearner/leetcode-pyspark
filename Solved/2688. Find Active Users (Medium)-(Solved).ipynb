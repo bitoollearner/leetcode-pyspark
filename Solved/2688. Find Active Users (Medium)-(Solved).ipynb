{
 "cells": [
  {
   "cell_type": "markdown",
   "metadata": {
    "application/vnd.databricks.v1+cell": {
     "cellMetadata": {
      "byteLimit": 2048000,
      "rowLimit": 10000
     },
     "inputWidgets": {},
     "nuid": "4e9d71b1-88e9-445c-820a-b842e217a4e7",
     "showTitle": false,
     "tableResultSettingsMap": {},
     "title": ""
    }
   },
   "source": [
    "## Importing Libraries"
   ]
  },
  {
   "cell_type": "code",
   "execution_count": 0,
   "metadata": {
    "application/vnd.databricks.v1+cell": {
     "cellMetadata": {
      "byteLimit": 2048000,
      "rowLimit": 10000
     },
     "inputWidgets": {},
     "nuid": "e6624c4d-8cb8-4ac4-8c72-81d1b4ecdb57",
     "showTitle": false,
     "tableResultSettingsMap": {},
     "title": ""
    }
   },
   "outputs": [],
   "source": [
    "from pyspark.sql.functions import *\n",
    "from pyspark.sql.types import *\n",
    "from pyspark.sql.window import Window"
   ]
  },
  {
   "cell_type": "markdown",
   "metadata": {
    "application/vnd.databricks.v1+cell": {
     "cellMetadata": {
      "byteLimit": 2048000,
      "rowLimit": 10000
     },
     "inputWidgets": {},
     "nuid": "c3788fe5-f4c9-420f-ad72-ec1a39310a2a",
     "showTitle": false,
     "tableResultSettingsMap": {},
     "title": ""
    }
   },
   "source": [
    "**2688. Find Active Users (Medium)**\n",
    "\n",
    "**Table: Users**\n",
    "\n",
    "| Column Name | Type     | \n",
    "|-------------|----------| \n",
    "| user_id     | int      | \n",
    "| item        | varchar  |\n",
    "| created_at  | datetime |\n",
    "| amount      | int      |\n",
    "\n",
    "This table may contain duplicate records. \n",
    "Each row includes the user ID, the purchased item, the date of purchase, and the purchase amount.\n",
    "\n",
    "**Write a solution to identify active users. An active user is a user that has made a second purchase within 7 days of any other of their purchases.**\n",
    "\n",
    "For example, if the ending date is May 31, 2023. So any date between May 31, 2023, and June 7, 2023 (inclusive) would be considered \"within 7 days\" of May 31, 2023.\n",
    "\n",
    "Return a list of user_id which denotes the list of active users in any order.\n",
    "\n",
    "The result format is in the following example.\n",
    "\n",
    "**Example 1:**\n",
    "\n",
    "**Input:**\n",
    "\n",
    "**Users table:**\n",
    "\n",
    "| user_id | item              | created_at | amount |  \n",
    "|---------|-------------------|------------|--------|\n",
    "| 5       | Smart Crock Pot   | 2021-09-18 | 698882 |\n",
    "| 6       | Smart Lock        | 2021-09-14 | 11487  |\n",
    "| 6       | Smart Thermostat  | 2021-09-10 | 674762 |\n",
    "| 8       | Smart Light Strip | 2021-09-29 | 630773 |\n",
    "| 4       | Smart Cat Feeder  | 2021-09-02 | 693545 |\n",
    "| 4       | Smart Bed         | 2021-09-13 | 170249 |\n",
    "\n",
    "**Output:**\n",
    "| user_id | \n",
    "|---------|\n",
    "| 6       | \n",
    "\n",
    "**Explanation:** \n",
    "- User with user_id 5 has only one transaction, so he is not an active user.\n",
    "- User with user_id 6 has two transaction his first transaction was on 2021-09-10 and second transation was on 2021-09-14. The distance between the first and second transactions date is <= 7 days. So he is an active user. \n",
    "- User with user_id 8 has only one transaction, so he is not an active user.  \n",
    "- User with user_id 4 has two transaction his first transaction was on 2021-09-02 and second transation was on 2021-09-13. The distance between the first and second transactions date is > 7 days. So he is not an active user."
   ]
  },
  {
   "cell_type": "code",
   "execution_count": 0,
   "metadata": {
    "application/vnd.databricks.v1+cell": {
     "cellMetadata": {
      "byteLimit": 2048000,
      "rowLimit": 10000
     },
     "inputWidgets": {},
     "nuid": "137536ea-9bec-4171-8dc2-4bf8b0d771b4",
     "showTitle": false,
     "tableResultSettingsMap": {},
     "title": ""
    }
   },
   "outputs": [
    {
     "output_type": "stream",
     "name": "stdout",
     "output_type": "stream",
     "text": [
      "+-------+-----------------+----------+------+\n|user_id|             item|created_at|amount|\n+-------+-----------------+----------+------+\n|      5|  Smart Crock Pot|2021-09-18|698882|\n|      6|       Smart Lock|2021-09-14| 11487|\n|      6| Smart Thermostat|2021-09-10|674762|\n|      8|Smart Light Strip|2021-09-29|630773|\n|      4| Smart Cat Feeder|2021-09-02|693545|\n|      4|        Smart Bed|2021-09-13|170249|\n+-------+-----------------+----------+------+\n\n"
     ]
    }
   ],
   "source": [
    "users_data_2688 = [\n",
    "    (5, \"Smart Crock Pot\", \"2021-09-18\", 698882),\n",
    "    (6, \"Smart Lock\", \"2021-09-14\", 11487),\n",
    "    (6, \"Smart Thermostat\", \"2021-09-10\", 674762),\n",
    "    (8, \"Smart Light Strip\", \"2021-09-29\", 630773),\n",
    "    (4, \"Smart Cat Feeder\", \"2021-09-02\", 693545),\n",
    "    (4, \"Smart Bed\", \"2021-09-13\", 170249),\n",
    "]\n",
    "\n",
    "users_columns_2688 = [\"user_id\", \"item\", \"created_at\", \"amount\"]\n",
    "users_df_2688 = spark.createDataFrame(users_data_2688, users_columns_2688)\n",
    "users_df_2688.show()"
   ]
  },
  {
   "cell_type": "code",
   "execution_count": 0,
   "metadata": {
    "application/vnd.databricks.v1+cell": {
     "cellMetadata": {
      "byteLimit": 2048000,
      "rowLimit": 10000
     },
     "inputWidgets": {},
     "nuid": "d9169107-4994-49b9-8ffe-4f464866bf68",
     "showTitle": false,
     "tableResultSettingsMap": {},
     "title": ""
    }
   },
   "outputs": [],
   "source": [
    "windowSpec = Window.partitionBy(\"user_id\").orderBy(\"created_at\")"
   ]
  },
  {
   "cell_type": "code",
   "execution_count": 0,
   "metadata": {
    "application/vnd.databricks.v1+cell": {
     "cellMetadata": {
      "byteLimit": 2048000,
      "rowLimit": 10000
     },
     "inputWidgets": {},
     "nuid": "15ca8586-8174-438c-ba02-b21635918d60",
     "showTitle": false,
     "tableResultSettingsMap": {},
     "title": ""
    }
   },
   "outputs": [],
   "source": [
    "users_df_2688 = users_df_2688\\\n",
    "                    .withColumn(\"created_at\", col(\"created_at\").cast(\"date\"))\\\n",
    "                        .withColumn(\"prev_date\", lag(\"created_at\").over(windowSpec))\\\n",
    "                            .withColumn(\"days_diff\", datediff(col(\"created_at\"), col(\"prev_date\")))"
   ]
  },
  {
   "cell_type": "code",
   "execution_count": 0,
   "metadata": {
    "application/vnd.databricks.v1+cell": {
     "cellMetadata": {
      "byteLimit": 2048000,
      "rowLimit": 10000
     },
     "inputWidgets": {},
     "nuid": "939d08d3-52fe-4c08-b5da-d130c40d245b",
     "showTitle": false,
     "tableResultSettingsMap": {},
     "title": ""
    }
   },
   "outputs": [
    {
     "output_type": "display_data",
     "data": {
      "text/html": [
       "<style scoped>\n",
       "  .table-result-container {\n",
       "    max-height: 300px;\n",
       "    overflow: auto;\n",
       "  }\n",
       "  table, th, td {\n",
       "    border: 1px solid black;\n",
       "    border-collapse: collapse;\n",
       "  }\n",
       "  th, td {\n",
       "    padding: 5px;\n",
       "  }\n",
       "  th {\n",
       "    text-align: left;\n",
       "  }\n",
       "</style><div class='table-result-container'><table class='table-result'><thead style='background-color: white'><tr><th>user_id</th></tr></thead><tbody><tr><td>6</td></tr></tbody></table></div>"
      ]
     },
     "metadata": {
      "application/vnd.databricks.v1+output": {
       "addedWidgets": {},
       "aggData": [],
       "aggError": "",
       "aggOverflow": false,
       "aggSchema": [],
       "aggSeriesLimitReached": false,
       "aggType": "",
       "arguments": {},
       "columnCustomDisplayInfos": {},
       "data": [
        [
         6
        ]
       ],
       "datasetInfos": [],
       "dbfsResultPath": null,
       "isJsonSchema": true,
       "metadata": {},
       "overflow": false,
       "plotOptions": {
        "customPlotOptions": {},
        "displayType": "table",
        "pivotAggregation": null,
        "pivotColumns": null,
        "xColumns": null,
        "yColumns": null
       },
       "removedWidgets": [],
       "schema": [
        {
         "metadata": "{}",
         "name": "user_id",
         "type": "\"long\""
        }
       ],
       "type": "table"
      }
     },
     "output_type": "display_data"
    }
   ],
   "source": [
    "users_df_2688\\\n",
    "    .filter(col(\"days_diff\") <= 7)\\\n",
    "        .select(\"user_id\")\\\n",
    "            .distinct().display()"
   ]
  }
 ],
 "metadata": {
  "application/vnd.databricks.v1+notebook": {
   "computePreferences": {
    "hardware": {
     "accelerator": null,
     "gpuPoolId": null,
     "memory": null
    }
   },
   "dashboards": [],
   "environmentMetadata": {
    "base_environment": "",
    "environment_version": "2"
   },
   "inputWidgetPreferences": null,
   "language": "python",
   "notebookMetadata": {
    "pythonIndentUnit": 4
   },
   "notebookName": "2688. Find Active Users (Medium)-(Solved)",
   "widgets": {}
  },
  "language_info": {
   "name": "python"
  }
 },
 "nbformat": 4,
 "nbformat_minor": 0
}
