{
 "cells": [
  {
   "cell_type": "markdown",
   "metadata": {
    "application/vnd.databricks.v1+cell": {
     "cellMetadata": {},
     "inputWidgets": {},
     "nuid": "4e9d71b1-88e9-445c-820a-b842e217a4e7",
     "showTitle": false,
     "tableResultSettingsMap": {},
     "title": ""
    }
   },
   "source": [
    "## Importing Libraries"
   ]
  },
  {
   "cell_type": "code",
   "execution_count": 0,
   "metadata": {
    "application/vnd.databricks.v1+cell": {
     "cellMetadata": {},
     "inputWidgets": {},
     "nuid": "e6624c4d-8cb8-4ac4-8c72-81d1b4ecdb57",
     "showTitle": false,
     "tableResultSettingsMap": {},
     "title": ""
    }
   },
   "outputs": [],
   "source": [
    "from pyspark.sql.functions import *\n",
    "from pyspark.sql.types import *\n",
    "from pyspark.sql.window import Window"
   ]
  },
  {
   "cell_type": "markdown",
   "metadata": {
    "application/vnd.databricks.v1+cell": {
     "cellMetadata": {},
     "inputWidgets": {},
     "nuid": "c3788fe5-f4c9-420f-ad72-ec1a39310a2a",
     "showTitle": false,
     "tableResultSettingsMap": {},
     "title": ""
    }
   },
   "source": [
    "**2362. Generate the Invoice (Hard)**\n",
    "\n",
    "**Table: Products**\n",
    "\n",
    "| Column Name | Type |\n",
    "|-------------|------|\n",
    "| product_id  | int  |\n",
    "| price       | int  |\n",
    "\n",
    "product_id contains unique values.\n",
    "Each row in this table shows the ID of a product and the price of one unit.\n",
    " \n",
    "**Table: Purchases**\n",
    "\n",
    "| Column Name | Type |\n",
    "|-------------|------|\n",
    "| invoice_id  | int  |\n",
    "| product_id  | int  |\n",
    "| quantity    | int  |\n",
    "\n",
    "(invoice_id, product_id) is the primary key (combination of columns with unique values) for this table.\n",
    "Each row in this table shows the quantity ordered from one product in an invoice. \n",
    " \n",
    "**Write a solution to show the details of the invoice with the highest price. If two or more invoices have the same price, return the details of the one with the smallest invoice_id.**\n",
    "\n",
    "Return the result table in any order.\n",
    "\n",
    "The result format is shown in the following example.\n",
    "\n",
    "**Example 1:**\n",
    "\n",
    "**Input:** \n",
    "\n",
    "**Products table:**\n",
    "| product_id | price |\n",
    "|------------|-------|\n",
    "| 1          | 100   |\n",
    "| 2          | 200   |\n",
    "\n",
    "**Purchases table:**\n",
    "| invoice_id | product_id | quantity |\n",
    "|------------|------------|----------|\n",
    "| 1          | 1          | 2        |\n",
    "| 3          | 2          | 1        |\n",
    "| 2          | 2          | 3        |\n",
    "| 2          | 1          | 4        |\n",
    "| 4          | 1          | 10       |\n",
    "\n",
    "**Output:** \n",
    "| product_id | quantity | price |\n",
    "|------------|----------|-------|\n",
    "| 2          | 3        | 600   |\n",
    "| 1          | 4        | 400   |\n",
    "\n",
    "**Explanation:** \n",
    "- Invoice 1: price = (2 * 100) = $200\n",
    "- Invoice 2: price = (4 * 100) + (3 * 200) = $1000\n",
    "- Invoice 3: price = (1 * 200) = $200\n",
    "- Invoice 4: price = (10 * 100) = $1000\n",
    "\n",
    "The highest price is $1000, and the invoices with the highest prices are 2 and 4. We return the details of the one with the smallest ID, which is invoice 2."
   ]
  },
  {
   "cell_type": "code",
   "execution_count": 0,
   "metadata": {
    "application/vnd.databricks.v1+cell": {
     "cellMetadata": {},
     "inputWidgets": {},
     "nuid": "137536ea-9bec-4171-8dc2-4bf8b0d771b4",
     "showTitle": false,
     "tableResultSettingsMap": {},
     "title": ""
    }
   },
   "outputs": [],
   "source": [
    "products_data_2362 = [\n",
    "    (1, 100),\n",
    "    (2, 200),\n",
    "]\n",
    "\n",
    "products_columns_2362 = [\"product_id\", \"price\"]\n",
    "products_df_2362 = spark.createDataFrame(products_data_2362, products_columns_2362)\n",
    "products_df_2362.show()\n",
    "\n",
    "purchases_data_2362 = [\n",
    "    (1, 1, 2),\n",
    "    (3, 2, 1),\n",
    "    (2, 2, 3),\n",
    "    (2, 1, 4),\n",
    "    (4, 1, 10),\n",
    "]\n",
    "\n",
    "purchases_columns_2362 = [\"invoice_id\", \"product_id\", \"quantity\"]\n",
    "purchases_df_2362 = spark.createDataFrame(purchases_data_2362, purchases_columns_2362)\n",
    "purchases_df_2362.show()\n"
   ]
  }
 ],
 "metadata": {
  "application/vnd.databricks.v1+notebook": {
   "computePreferences": null,
   "dashboards": [],
   "environmentMetadata": {
    "base_environment": "",
    "environment_version": "1"
   },
   "inputWidgetPreferences": null,
   "language": "python",
   "notebookMetadata": {
    "pythonIndentUnit": 4
   },
   "notebookName": "2362. Generate the Invoice (Hard)-(Solved)",
   "widgets": {}
  },
  "language_info": {
   "name": "python"
  }
 },
 "nbformat": 4,
 "nbformat_minor": 0
}
