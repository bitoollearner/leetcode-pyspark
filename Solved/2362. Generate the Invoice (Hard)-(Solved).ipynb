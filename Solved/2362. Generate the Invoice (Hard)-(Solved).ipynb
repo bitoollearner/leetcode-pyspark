{
 "cells": [
  {
   "cell_type": "markdown",
   "metadata": {
    "application/vnd.databricks.v1+cell": {
     "cellMetadata": {
      "byteLimit": 2048000,
      "rowLimit": 10000
     },
     "inputWidgets": {},
     "nuid": "4e9d71b1-88e9-445c-820a-b842e217a4e7",
     "showTitle": false,
     "tableResultSettingsMap": {},
     "title": ""
    }
   },
   "source": [
    "## Importing Libraries"
   ]
  },
  {
   "cell_type": "code",
   "execution_count": 0,
   "metadata": {
    "application/vnd.databricks.v1+cell": {
     "cellMetadata": {
      "byteLimit": 2048000,
      "rowLimit": 10000
     },
     "inputWidgets": {},
     "nuid": "e6624c4d-8cb8-4ac4-8c72-81d1b4ecdb57",
     "showTitle": false,
     "tableResultSettingsMap": {},
     "title": ""
    }
   },
   "outputs": [],
   "source": [
    "from pyspark.sql.functions import *\n",
    "from pyspark.sql.types import *\n",
    "from pyspark.sql.window import Window"
   ]
  },
  {
   "cell_type": "markdown",
   "metadata": {
    "application/vnd.databricks.v1+cell": {
     "cellMetadata": {
      "byteLimit": 2048000,
      "rowLimit": 10000
     },
     "inputWidgets": {},
     "nuid": "c3788fe5-f4c9-420f-ad72-ec1a39310a2a",
     "showTitle": false,
     "tableResultSettingsMap": {},
     "title": ""
    }
   },
   "source": [
    "**2362. Generate the Invoice (Hard)**\n",
    "\n",
    "**Table: Products**\n",
    "\n",
    "| Column Name | Type |\n",
    "|-------------|------|\n",
    "| product_id  | int  |\n",
    "| price       | int  |\n",
    "\n",
    "product_id contains unique values.\n",
    "Each row in this table shows the ID of a product and the price of one unit.\n",
    " \n",
    "**Table: Purchases**\n",
    "\n",
    "| Column Name | Type |\n",
    "|-------------|------|\n",
    "| invoice_id  | int  |\n",
    "| product_id  | int  |\n",
    "| quantity    | int  |\n",
    "\n",
    "(invoice_id, product_id) is the primary key (combination of columns with unique values) for this table.\n",
    "Each row in this table shows the quantity ordered from one product in an invoice. \n",
    " \n",
    "**Write a solution to show the details of the invoice with the highest price. If two or more invoices have the same price, return the details of the one with the smallest invoice_id.**\n",
    "\n",
    "Return the result table in any order.\n",
    "\n",
    "The result format is shown in the following example.\n",
    "\n",
    "**Example 1:**\n",
    "\n",
    "**Input:** \n",
    "\n",
    "**Products table:**\n",
    "| product_id | price |\n",
    "|------------|-------|\n",
    "| 1          | 100   |\n",
    "| 2          | 200   |\n",
    "\n",
    "**Purchases table:**\n",
    "| invoice_id | product_id | quantity |\n",
    "|------------|------------|----------|\n",
    "| 1          | 1          | 2        |\n",
    "| 3          | 2          | 1        |\n",
    "| 2          | 2          | 3        |\n",
    "| 2          | 1          | 4        |\n",
    "| 4          | 1          | 10       |\n",
    "\n",
    "**Output:** \n",
    "| product_id | quantity | price |\n",
    "|------------|----------|-------|\n",
    "| 2          | 3        | 600   |\n",
    "| 1          | 4        | 400   |\n",
    "\n",
    "**Explanation:** \n",
    "- Invoice 1: price = (2 * 100) = $200\n",
    "- Invoice 2: price = (4 * 100) + (3 * 200) = $1000\n",
    "- Invoice 3: price = (1 * 200) = $200\n",
    "- Invoice 4: price = (10 * 100) = $1000\n",
    "\n",
    "The highest price is $1000, and the invoices with the highest prices are 2 and 4. We return the details of the one with the smallest ID, which is invoice 2."
   ]
  },
  {
   "cell_type": "code",
   "execution_count": 0,
   "metadata": {
    "application/vnd.databricks.v1+cell": {
     "cellMetadata": {
      "byteLimit": 2048000,
      "rowLimit": 10000
     },
     "inputWidgets": {},
     "nuid": "137536ea-9bec-4171-8dc2-4bf8b0d771b4",
     "showTitle": false,
     "tableResultSettingsMap": {},
     "title": ""
    }
   },
   "outputs": [
    {
     "output_type": "stream",
     "name": "stdout",
     "output_type": "stream",
     "text": [
      "+----------+-----+\n|product_id|price|\n+----------+-----+\n|         1|  100|\n|         2|  200|\n+----------+-----+\n\n+----------+----------+--------+\n|invoice_id|product_id|quantity|\n+----------+----------+--------+\n|         1|         1|       2|\n|         3|         2|       1|\n|         2|         2|       3|\n|         2|         1|       4|\n|         4|         1|      10|\n+----------+----------+--------+\n\n"
     ]
    }
   ],
   "source": [
    "products_data_2362 = [\n",
    "    (1, 100),\n",
    "    (2, 200),\n",
    "]\n",
    "\n",
    "products_columns_2362 = [\"product_id\", \"price\"]\n",
    "products_df_2362 = spark.createDataFrame(products_data_2362, products_columns_2362)\n",
    "products_df_2362.show()\n",
    "\n",
    "purchases_data_2362 = [\n",
    "    (1, 1, 2),\n",
    "    (3, 2, 1),\n",
    "    (2, 2, 3),\n",
    "    (2, 1, 4),\n",
    "    (4, 1, 10),\n",
    "]\n",
    "\n",
    "purchases_columns_2362 = [\"invoice_id\", \"product_id\", \"quantity\"]\n",
    "purchases_df_2362 = spark.createDataFrame(purchases_data_2362, purchases_columns_2362)\n",
    "purchases_df_2362.show()\n"
   ]
  },
  {
   "cell_type": "code",
   "execution_count": 0,
   "metadata": {
    "application/vnd.databricks.v1+cell": {
     "cellMetadata": {
      "byteLimit": 2048000,
      "rowLimit": 10000
     },
     "inputWidgets": {},
     "nuid": "4645e803-c679-4c17-aba0-99aea4e7b4cc",
     "showTitle": false,
     "tableResultSettingsMap": {},
     "title": ""
    }
   },
   "outputs": [],
   "source": [
    "invoice_df_2362 = purchases_df_2362.join(products_df_2362, on=\"product_id\")\\\n",
    "                        .withColumn(\"price\", col(\"price\") * col(\"quantity\"))        "
   ]
  },
  {
   "cell_type": "code",
   "execution_count": 0,
   "metadata": {
    "application/vnd.databricks.v1+cell": {
     "cellMetadata": {
      "byteLimit": 2048000,
      "rowLimit": 10000
     },
     "inputWidgets": {},
     "nuid": "004813ed-12f6-4b6d-9122-4103befe3f15",
     "showTitle": false,
     "tableResultSettingsMap": {},
     "title": ""
    }
   },
   "outputs": [],
   "source": [
    "total_invoice_df_2362 = invoice_df_2362\\\n",
    "                            .groupBy(\"invoice_id\").agg(sum(\"price\").alias(\"total_price\"))"
   ]
  },
  {
   "cell_type": "code",
   "execution_count": 0,
   "metadata": {
    "application/vnd.databricks.v1+cell": {
     "cellMetadata": {
      "byteLimit": 2048000,
      "rowLimit": 10000
     },
     "inputWidgets": {},
     "nuid": "78dc4937-f5a1-4c35-83de-a2114d81c4e9",
     "showTitle": false,
     "tableResultSettingsMap": {},
     "title": ""
    }
   },
   "outputs": [],
   "source": [
    "max_invoice_id_2362 = total_invoice_df_2362\\\n",
    "                            .orderBy(desc(\"total_price\"), asc(\"invoice_id\")).limit(1)\\\n",
    "                                .select(\"invoice_id\")"
   ]
  },
  {
   "cell_type": "code",
   "execution_count": 0,
   "metadata": {
    "application/vnd.databricks.v1+cell": {
     "cellMetadata": {
      "byteLimit": 2048000,
      "rowLimit": 10000
     },
     "inputWidgets": {},
     "nuid": "4ae26f5e-47ad-48b6-9711-9aec055b11c5",
     "showTitle": false,
     "tableResultSettingsMap": {},
     "title": ""
    }
   },
   "outputs": [
    {
     "output_type": "stream",
     "name": "stdout",
     "output_type": "stream",
     "text": [
      "+----------+--------+-----+\n|product_id|quantity|price|\n+----------+--------+-----+\n|         2|       3|  600|\n|         1|       4|  400|\n+----------+--------+-----+\n\n"
     ]
    }
   ],
   "source": [
    "invoice_df_2362\\\n",
    "    .join(max_invoice_id_2362, on=\"invoice_id\")\\\n",
    "        .select(\"product_id\", \"quantity\", \"price\").show()"
   ]
  }
 ],
 "metadata": {
  "application/vnd.databricks.v1+notebook": {
   "computePreferences": {
    "hardware": {
     "accelerator": null,
     "gpuPoolId": null,
     "memory": null
    }
   },
   "dashboards": [],
   "environmentMetadata": {
    "base_environment": "",
    "environment_version": "2"
   },
   "inputWidgetPreferences": null,
   "language": "python",
   "notebookMetadata": {
    "pythonIndentUnit": 4
   },
   "notebookName": "2362. Generate the Invoice (Hard)-(Solved)",
   "widgets": {}
  },
  "language_info": {
   "name": "python"
  }
 },
 "nbformat": 4,
 "nbformat_minor": 0
}
