{
 "cells": [
  {
   "cell_type": "markdown",
   "metadata": {
    "application/vnd.databricks.v1+cell": {
     "cellMetadata": {},
     "inputWidgets": {},
     "nuid": "83d38679-f742-44bb-952b-b541e178ddc8",
     "showTitle": false,
     "tableResultSettingsMap": {},
     "title": ""
    }
   },
   "source": [
    "## Importing Libraries"
   ]
  },
  {
   "cell_type": "code",
   "execution_count": 0,
   "metadata": {
    "application/vnd.databricks.v1+cell": {
     "cellMetadata": {},
     "inputWidgets": {},
     "nuid": "1daf4387-60f2-4c66-b119-d9ce2cd54aa2",
     "showTitle": false,
     "tableResultSettingsMap": {},
     "title": ""
    }
   },
   "outputs": [],
   "source": [
    "from pyspark.sql.functions import *\n",
    "from pyspark.sql.types import *\n",
    "from pyspark.sql.window import Window"
   ]
  },
  {
   "cell_type": "markdown",
   "metadata": {
    "application/vnd.databricks.v1+cell": {
     "cellMetadata": {},
     "inputWidgets": {},
     "nuid": "83ab9b20-fd4f-4392-ae0c-ff0580c3c7c1",
     "showTitle": false,
     "tableResultSettingsMap": {},
     "title": ""
    }
   },
   "source": [
    "**2026. Low-Quality Problems (Easy)**\n",
    "\n",
    "**Table: Problems**\n",
    "\n",
    "| Column Name | Type |\n",
    "|-------------|------|\n",
    "| problem_id  | int  |\n",
    "| likes       | int  |\n",
    "| dislikes    | int  |\n",
    "\n",
    "In SQL, problem_id is the primary key column for this table.\n",
    "Each row of this table indicates the number of likes and dislikes for a LeetCode problem.\n",
    " \n",
    "**Find the IDs of the low-quality problems. A LeetCode problem is low-quality if the like percentage of the problem (number of likes divided by the total number of votes) is strictly less than 60%.**\n",
    "\n",
    "Return the result table ordered by problem_id in ascending order.\n",
    "\n",
    "The result format is in the following example.\n",
    "\n",
    "**Example 1:**\n",
    "\n",
    "**Input:** \n",
    "\n",
    "**Problems table:**\n",
    "\n",
    "| problem_id | likes | dislikes |\n",
    "|------------|-------|----------|\n",
    "| 6          | 1290  | 425      |\n",
    "| 11         | 2677  | 8659     |\n",
    "| 1          | 4446  | 2760     |\n",
    "| 7          | 8569  | 6086     |\n",
    "| 13         | 2050  | 4164     |\n",
    "| 10         | 9002  | 7446     |\n",
    "\n",
    "**Output:** \n",
    "| problem_id |\n",
    "|------------|\n",
    "| 7          |\n",
    "| 10         |\n",
    "| 11         |\n",
    "| 13         |\n",
    "\n",
    "**Explanation:** The like percentages are as follows:\n",
    "- Problem 1: (4446 / (4446 + 2760)) * 100 = 61.69858%\n",
    "- Problem 6: (1290 / (1290 + 425)) * 100 = 75.21866%\n",
    "- Problem 7: (8569 / (8569 + 6086)) * 100 = 58.47151%\n",
    "- Problem 10: (9002 / (9002 + 7446)) * 100 = 54.73006%\n",
    "- Problem 11: (2677 / (2677 + 8659)) * 100 = 23.61503%\n",
    "- Problem 13: (2050 / (2050 + 4164)) * 100 = 32.99002%\n",
    "- Problems 7, 10, 11, and 13 are low-quality problems because their like percentages are less than 60%."
   ]
  },
  {
   "cell_type": "code",
   "execution_count": 0,
   "metadata": {
    "application/vnd.databricks.v1+cell": {
     "cellMetadata": {},
     "inputWidgets": {},
     "nuid": "e39af07f-85df-4e21-8a5f-c65604a811f3",
     "showTitle": false,
     "tableResultSettingsMap": {},
     "title": ""
    }
   },
   "outputs": [],
   "source": [
    "problems_data_2026 = [\n",
    "    (6, 1290, 425),\n",
    "    (11, 2677, 8659),\n",
    "    (1, 4446, 2760),\n",
    "    (7, 8569, 6086),\n",
    "    (13, 2050, 4164),\n",
    "    (10, 9002, 7446),\n",
    "]\n",
    "\n",
    "problems_columns_2026 = [\"problem_id\", \"likes\", \"dislikes\"]\n",
    "problems_df_2026 = spark.createDataFrame(problems_data_2026, problems_columns_2026)\n",
    "problems_df_2026.show()"
   ]
  }
 ],
 "metadata": {
  "application/vnd.databricks.v1+notebook": {
   "computePreferences": null,
   "dashboards": [],
   "environmentMetadata": {
    "base_environment": "",
    "environment_version": "1"
   },
   "inputWidgetPreferences": null,
   "language": "python",
   "notebookMetadata": {
    "pythonIndentUnit": 4
   },
   "notebookName": "2026. Low-Quality Problems (Easy)",
   "widgets": {}
  }
 },
 "nbformat": 4,
 "nbformat_minor": 0
}