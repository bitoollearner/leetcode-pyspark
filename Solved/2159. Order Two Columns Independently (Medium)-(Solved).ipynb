{
 "cells": [
  {
   "cell_type": "markdown",
   "metadata": {
    "application/vnd.databricks.v1+cell": {
     "cellMetadata": {
      "byteLimit": 2048000,
      "rowLimit": 10000
     },
     "inputWidgets": {},
     "nuid": "a23f6d56-6d8d-44bc-b796-cedda9e17c21",
     "showTitle": false,
     "tableResultSettingsMap": {},
     "title": ""
    }
   },
   "source": [
    "## Importing Libraries"
   ]
  },
  {
   "cell_type": "code",
   "execution_count": 0,
   "metadata": {
    "application/vnd.databricks.v1+cell": {
     "cellMetadata": {
      "byteLimit": 2048000,
      "rowLimit": 10000
     },
     "inputWidgets": {},
     "nuid": "0a69d78b-43d7-4f9e-a05d-026985c2539f",
     "showTitle": false,
     "tableResultSettingsMap": {},
     "title": ""
    }
   },
   "outputs": [],
   "source": [
    "from pyspark.sql.functions import *\n",
    "from pyspark.sql.types import *\n",
    "from pyspark.sql.window import Window"
   ]
  },
  {
   "cell_type": "markdown",
   "metadata": {
    "application/vnd.databricks.v1+cell": {
     "cellMetadata": {
      "byteLimit": 2048000,
      "rowLimit": 10000
     },
     "inputWidgets": {},
     "nuid": "2a54b88b-06bd-43e4-978a-c0c5d33ca5bb",
     "showTitle": false,
     "tableResultSettingsMap": {},
     "title": ""
    }
   },
   "source": [
    "**2159. Order Two Columns Independently (Medium)**\n",
    "\n",
    "**Table: Data**\n",
    "\n",
    "| Column Name | Type |\n",
    "|-------------|------|\n",
    "| first_col   | int  |\n",
    "| second_col  | int  |\n",
    "\n",
    "This table may contain duplicate rows.\n",
    " \n",
    "**Write a solution to independently:**\n",
    "- order first_col in ascending order.\n",
    "- order second_col in descending order.\n",
    "\n",
    "The result format is in the following example.\n",
    "\n",
    "**Example 1:**\n",
    "\n",
    "**Input:** \n",
    "\n",
    "**Data table:**\n",
    "\n",
    "| first_col | second_col |\n",
    "|-----------|------------|\n",
    "| 4         | 2          |\n",
    "| 2         | 3          |\n",
    "| 3         | 1          |\n",
    "| 1         | 4          |\n",
    "\n",
    "**Output:** \n",
    "| first_col | second_col |\n",
    "|-----------|------------|\n",
    "| 1         | 4          |\n",
    "| 2         | 3          |\n",
    "| 3         | 2          |\n",
    "| 4         | 1          |\n"
   ]
  },
  {
   "cell_type": "code",
   "execution_count": 0,
   "metadata": {
    "application/vnd.databricks.v1+cell": {
     "cellMetadata": {
      "byteLimit": 2048000,
      "rowLimit": 10000
     },
     "inputWidgets": {},
     "nuid": "c260f510-542b-4067-a6f4-ffed86995056",
     "showTitle": false,
     "tableResultSettingsMap": {},
     "title": ""
    }
   },
   "outputs": [
    {
     "output_type": "stream",
     "name": "stdout",
     "output_type": "stream",
     "text": [
      "+---------+----------+\n|first_col|second_col|\n+---------+----------+\n|        4|         2|\n|        2|         3|\n|        3|         1|\n|        1|         4|\n+---------+----------+\n\n"
     ]
    }
   ],
   "source": [
    "data_2159 = [\n",
    "    (4, 2),\n",
    "    (2, 3),\n",
    "    (3, 1),\n",
    "    (1, 4)\n",
    "]\n",
    "\n",
    "columns_2159 = [\"first_col\", \"second_col\"]\n",
    "data_df_2159 = spark.createDataFrame(data_2159, columns_2159)\n",
    "data_df_2159.show()"
   ]
  },
  {
   "cell_type": "code",
   "execution_count": 0,
   "metadata": {
    "application/vnd.databricks.v1+cell": {
     "cellMetadata": {
      "byteLimit": 2048000,
      "rowLimit": 10000
     },
     "inputWidgets": {},
     "nuid": "b7e39d97-14f7-4b12-98ab-276e077129b2",
     "showTitle": false,
     "tableResultSettingsMap": {},
     "title": ""
    }
   },
   "outputs": [],
   "source": [
    "w1 = Window.orderBy(\"first_col\")"
   ]
  },
  {
   "cell_type": "code",
   "execution_count": 0,
   "metadata": {
    "application/vnd.databricks.v1+cell": {
     "cellMetadata": {
      "byteLimit": 2048000,
      "rowLimit": 10000
     },
     "inputWidgets": {},
     "nuid": "2c4d30fb-aa46-4b2f-859d-2c5203f9dfe5",
     "showTitle": false,
     "tableResultSettingsMap": {},
     "title": ""
    }
   },
   "outputs": [
    {
     "output_type": "stream",
     "name": "stderr",
     "output_type": "stream",
     "text": [
      "/databricks/python/lib/python3.11/site-packages/pyspark/sql/connect/expressions.py:1017: UserWarning: WARN WindowExpression: No Partition Defined for Window operation! Moving all data to a single partition, this can cause serious performance degradation.\n  warnings.warn(\n"
     ]
    }
   ],
   "source": [
    "first_ordered_df_2159 = data_df_2159\\\n",
    "                            .select(\"first_col\") \\\n",
    "                                .withColumn(\"rn\", row_number().over(w1))\n"
   ]
  },
  {
   "cell_type": "code",
   "execution_count": 0,
   "metadata": {
    "application/vnd.databricks.v1+cell": {
     "cellMetadata": {
      "byteLimit": 2048000,
      "rowLimit": 10000
     },
     "inputWidgets": {},
     "nuid": "676e422a-4a68-4854-a804-4080399d9039",
     "showTitle": false,
     "tableResultSettingsMap": {},
     "title": ""
    }
   },
   "outputs": [],
   "source": [
    "w2 = Window.orderBy(col(\"second_col\").desc())"
   ]
  },
  {
   "cell_type": "code",
   "execution_count": 0,
   "metadata": {
    "application/vnd.databricks.v1+cell": {
     "cellMetadata": {
      "byteLimit": 2048000,
      "rowLimit": 10000
     },
     "inputWidgets": {},
     "nuid": "0d579955-ef07-4caf-baab-8bbd3656f4cb",
     "showTitle": false,
     "tableResultSettingsMap": {},
     "title": ""
    }
   },
   "outputs": [
    {
     "output_type": "stream",
     "name": "stderr",
     "output_type": "stream",
     "text": [
      "/databricks/python/lib/python3.11/site-packages/pyspark/sql/connect/expressions.py:1017: UserWarning: WARN WindowExpression: No Partition Defined for Window operation! Moving all data to a single partition, this can cause serious performance degradation.\n  warnings.warn(\n"
     ]
    }
   ],
   "source": [
    "second_ordered_df_2159 = data_df_2159\\\n",
    "                            .select(\"second_col\") \\\n",
    "                                .withColumn(\"rn\", row_number().over(w2))"
   ]
  },
  {
   "cell_type": "code",
   "execution_count": 0,
   "metadata": {
    "application/vnd.databricks.v1+cell": {
     "cellMetadata": {
      "byteLimit": 2048000,
      "rowLimit": 10000
     },
     "inputWidgets": {},
     "nuid": "a08de934-aa4e-4f28-a2ec-009882184597",
     "showTitle": false,
     "tableResultSettingsMap": {},
     "title": ""
    }
   },
   "outputs": [
    {
     "output_type": "stream",
     "name": "stderr",
     "output_type": "stream",
     "text": [
      "/databricks/python/lib/python3.11/site-packages/pyspark/sql/connect/expressions.py:1017: UserWarning: WARN WindowExpression: No Partition Defined for Window operation! Moving all data to a single partition, this can cause serious performance degradation.\n  warnings.warn(\n"
     ]
    },
    {
     "output_type": "stream",
     "name": "stdout",
     "output_type": "stream",
     "text": [
      "+---------+----------+\n|first_col|second_col|\n+---------+----------+\n|        1|         4|\n|        2|         3|\n|        3|         2|\n|        4|         1|\n+---------+----------+\n\n"
     ]
    }
   ],
   "source": [
    "first_ordered_df_2159\\\n",
    "    .join(second_ordered_df_2159, \"rn\") \\\n",
    "        .select(\"first_col\", \"second_col\") \\\n",
    "            .orderBy(\"first_col\").show()"
   ]
  }
 ],
 "metadata": {
  "application/vnd.databricks.v1+notebook": {
   "computePreferences": {
    "hardware": {
     "accelerator": null,
     "gpuPoolId": null,
     "memory": null
    }
   },
   "dashboards": [],
   "environmentMetadata": {
    "base_environment": "",
    "environment_version": "2"
   },
   "inputWidgetPreferences": null,
   "language": "python",
   "notebookMetadata": {
    "pythonIndentUnit": 4
   },
   "notebookName": "2159. Order Two Columns Independently (Medium)-(Solved)",
   "widgets": {}
  },
  "language_info": {
   "name": "python"
  }
 },
 "nbformat": 4,
 "nbformat_minor": 0
}
