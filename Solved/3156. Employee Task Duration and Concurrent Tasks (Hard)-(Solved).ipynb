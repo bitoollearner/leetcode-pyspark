{
 "cells": [
  {
   "cell_type": "markdown",
   "metadata": {
    "application/vnd.databricks.v1+cell": {
     "cellMetadata": {
      "byteLimit": 2048000,
      "rowLimit": 10000
     },
     "inputWidgets": {},
     "nuid": "7d1791bd-9552-4116-90b2-daa678bbffb8",
     "showTitle": false,
     "tableResultSettingsMap": {},
     "title": ""
    }
   },
   "source": [
    "## Importing Libraries"
   ]
  },
  {
   "cell_type": "code",
   "execution_count": 0,
   "metadata": {
    "application/vnd.databricks.v1+cell": {
     "cellMetadata": {
      "byteLimit": 2048000,
      "rowLimit": 10000
     },
     "inputWidgets": {},
     "nuid": "2901fbc9-49db-4285-8b94-c460f34d4c4f",
     "showTitle": false,
     "tableResultSettingsMap": {},
     "title": ""
    }
   },
   "outputs": [],
   "source": [
    "from pyspark.sql.functions import *\n",
    "from pyspark.sql.types import *\n",
    "from pyspark.sql.window import Window\n",
    "import pandas as pd"
   ]
  },
  {
   "cell_type": "markdown",
   "metadata": {
    "application/vnd.databricks.v1+cell": {
     "cellMetadata": {
      "byteLimit": 2048000,
      "rowLimit": 10000
     },
     "inputWidgets": {},
     "nuid": "655120e7-6b25-417c-a08a-c6925feaa425",
     "showTitle": false,
     "tableResultSettingsMap": {},
     "title": ""
    }
   },
   "source": [
    "**3156. Employee Task Duration and Concurrent Tasks (Hard)**\n",
    "\n",
    "**Table: Tasks**\n",
    "\n",
    "| Column Name   | Type     |\n",
    "|---------------|----------|\n",
    "| task_id       | int      |\n",
    "| employee_id   | int      |\n",
    "| start_time    | datetime |\n",
    "| end_time      | datetime |\n",
    "\n",
    "(task_id, employee_id) is the primary key for this table.\n",
    "Each row in this table contains the task identifier, the employee identifier, and the start and end times of each task.\n",
    "\n",
    "**Write a solution to find the total duration of tasks for each employee and the maximum number of concurrent tasks an employee handled at any point in time. The total duration should be rounded down to the nearest number of full hours.**\n",
    "\n",
    "Return the result table ordered by employee_id ascending order.\n",
    "\n",
    "The result format is in the following example.\n",
    "\n",
    "**Example:**\n",
    "\n",
    "**Input:**\n",
    "\n",
    "**Tasks table:**\n",
    "\n",
    "| task_id | employee_id | start_time          | end_time            |\n",
    "|---------|-------------|---------------------|---------------------|\n",
    "| 1       | 1001        | 2023-05-01 08:00:00 | 2023-05-01 09:00:00 |\n",
    "| 2       | 1001        | 2023-05-01 08:30:00 | 2023-05-01 10:30:00 |\n",
    "| 3       | 1001        | 2023-05-01 11:00:00 | 2023-05-01 12:00:00 |\n",
    "| 7       | 1001        | 2023-05-01 13:00:00 | 2023-05-01 15:30:00 |\n",
    "| 4       | 1002        | 2023-05-01 09:00:00 | 2023-05-01 10:00:00 |\n",
    "| 5       | 1002        | 2023-05-01 09:30:00 | 2023-05-01 11:30:00 |\n",
    "| 6       | 1003        | 2023-05-01 14:00:00 | 2023-05-01 16:00:00 |\n",
    "\n",
    "**Output:**\n",
    "\n",
    "| employee_id | total_task_hours | max_concurrent_tasks |\n",
    "|-------------|------------------|----------------------|\n",
    "| 1001        | 6                | 2                    |\n",
    "| 1002        | 2                | 2                    |\n",
    "| 1003        | 2                | 1                    |\n",
    "\n",
    "**Explanation:**\n",
    "- For employee ID 1001:\n",
    "  - Task 1 and Task 2 overlap from 08:30 to 09:00 (30 minutes).\n",
    "  - Task 7 has a duration of 150 minutes (2 hours and 30 minutes).\n",
    "  - Total task time: 60 (Task 1) + 120 (Task 2) + 60 (Task 3) + 150 (Task 7) - 30 (overlap) = 360 minutes = 6 hours.\n",
    "  - Maximum concurrent tasks: 2 (during the overlap period).\n",
    "- For employee ID 1002:\n",
    "  - Task 4 and Task 5 overlap from 09:30 to 10:00 (30 minutes).\n",
    "  - Total task time: 60 (Task 4) + 120 (Task 5) - 30 (overlap) = 150 minutes = 2 hours and 30 minutes.\n",
    "  - Total task hours (rounded down): 2 hours.\n",
    "  - Maximum concurrent tasks: 2 (during the overlap period).\n",
    "- For employee ID 1003:\n",
    "  - No overlapping tasks.\n",
    "  - Total task time: 120 minutes = 2 hours.\n",
    "  - Maximum concurrent tasks: 1.\n",
    "\n",
    "**Note:** Output table is ordered by employee_id in ascending order."
   ]
  },
  {
   "cell_type": "code",
   "execution_count": 0,
   "metadata": {
    "application/vnd.databricks.v1+cell": {
     "cellMetadata": {
      "byteLimit": 2048000,
      "rowLimit": 10000
     },
     "inputWidgets": {},
     "nuid": "a2368434-0191-416c-aa1d-12cd44cf48e6",
     "showTitle": false,
     "tableResultSettingsMap": {},
     "title": ""
    }
   },
   "outputs": [
    {
     "output_type": "stream",
     "name": "stdout",
     "output_type": "stream",
     "text": [
      "+-------+-----------+-------------------+-------------------+\n|task_id|employee_id|         start_time|           end_time|\n+-------+-----------+-------------------+-------------------+\n|      1|       1001|2023-05-01 08:00:00|2023-05-01 09:00:00|\n|      2|       1001|2023-05-01 08:30:00|2023-05-01 10:30:00|\n|      3|       1001|2023-05-01 11:00:00|2023-05-01 12:00:00|\n|      7|       1001|2023-05-01 13:00:00|2023-05-01 15:30:00|\n|      4|       1002|2023-05-01 09:00:00|2023-05-01 10:00:00|\n|      5|       1002|2023-05-01 09:30:00|2023-05-01 11:30:00|\n|      6|       1003|2023-05-01 14:00:00|2023-05-01 16:00:00|\n+-------+-----------+-------------------+-------------------+\n\n"
     ]
    }
   ],
   "source": [
    "tasks_data_3156 = [\n",
    "    (1, 1001, \"2023-05-01 08:00:00\", \"2023-05-01 09:00:00\"),\n",
    "    (2, 1001, \"2023-05-01 08:30:00\", \"2023-05-01 10:30:00\"),\n",
    "    (3, 1001, \"2023-05-01 11:00:00\", \"2023-05-01 12:00:00\"),\n",
    "    (7, 1001, \"2023-05-01 13:00:00\", \"2023-05-01 15:30:00\"),\n",
    "    (4, 1002, \"2023-05-01 09:00:00\", \"2023-05-01 10:00:00\"),\n",
    "    (5, 1002, \"2023-05-01 09:30:00\", \"2023-05-01 11:30:00\"),\n",
    "    (6, 1003, \"2023-05-01 14:00:00\", \"2023-05-01 16:00:00\")\n",
    "]\n",
    "\n",
    "tasks_columns_3156 = [\"task_id\", \"employee_id\", \"start_time\", \"end_time\"]\n",
    "tasks_df_3156 = spark.createDataFrame(tasks_data_3156, tasks_columns_3156)\n",
    "tasks_df_3156.show()"
   ]
  },
  {
   "cell_type": "code",
   "execution_count": 0,
   "metadata": {
    "application/vnd.databricks.v1+cell": {
     "cellMetadata": {
      "byteLimit": 2048000,
      "rowLimit": 10000
     },
     "inputWidgets": {},
     "nuid": "35c921d5-486e-49e4-81eb-fd6325cbf65f",
     "showTitle": false,
     "tableResultSettingsMap": {},
     "title": ""
    }
   },
   "outputs": [],
   "source": [
    "tasks_df_3156 = tasks_df_3156\\\n",
    "                    .withColumn(\"start_time\", col(\"start_time\").cast(\"timestamp\")) \\\n",
    "                        .withColumn(\"end_time\", col(\"end_time\").cast(\"timestamp\"))"
   ]
  },
  {
   "cell_type": "code",
   "execution_count": 0,
   "metadata": {
    "application/vnd.databricks.v1+cell": {
     "cellMetadata": {
      "byteLimit": 2048000,
      "rowLimit": 10000
     },
     "inputWidgets": {},
     "nuid": "fb096a1e-b81e-42be-9378-9c0802f5b2d5",
     "showTitle": false,
     "tableResultSettingsMap": {},
     "title": ""
    }
   },
   "outputs": [],
   "source": [
    "window_spec = Window.partitionBy(\"employee_id\").orderBy(\"start_time\")"
   ]
  },
  {
   "cell_type": "code",
   "execution_count": 0,
   "metadata": {
    "application/vnd.databricks.v1+cell": {
     "cellMetadata": {
      "byteLimit": 2048000,
      "rowLimit": 10000
     },
     "inputWidgets": {},
     "nuid": "e9333c9c-b08d-4d9e-898e-d2e599e57d3a",
     "showTitle": false,
     "tableResultSettingsMap": {},
     "title": ""
    }
   },
   "outputs": [],
   "source": [
    "tasks_df_3156 = tasks_df_3156\\\n",
    "                    .withColumn(\"prev_end\", lag(\"end_time\").over(window_spec))\\\n",
    "                    .withColumn( \"prev_end\", coalesce(\"prev_end\", lit(\"1970-01-01 00:00:00\").cast(\"timestamp\")))\\\n",
    "                    .withColumn( \"effective_start\",\n",
    "                                when(col(\"start_time\") > col(\"prev_end\"), col(\"start_time\")).otherwise(col(\"prev_end\")))\\\n",
    "                    .withColumn( \"effective_duration_hours\",\n",
    "                                when(col(\"end_time\") > col(\"effective_start\"), ((col(\"end_time\").cast(\"long\") - col(\"effective_start\").cast(\"long\")) / 3600)).otherwise(0))"
   ]
  },
  {
   "cell_type": "code",
   "execution_count": 0,
   "metadata": {
    "application/vnd.databricks.v1+cell": {
     "cellMetadata": {
      "byteLimit": 2048000,
      "rowLimit": 10000
     },
     "inputWidgets": {},
     "nuid": "3cd18f8d-c7f5-4c3c-91be-fe5536cf5b0c",
     "showTitle": false,
     "tableResultSettingsMap": {},
     "title": ""
    }
   },
   "outputs": [],
   "source": [
    "total_hours_df_3156 = tasks_df_3156\\\n",
    "                        .groupBy(\"employee_id\")\\\n",
    "                            .agg(\n",
    "                                floor(sum(\"effective_duration_hours\")).alias(\"total_task_hours\")\n",
    "                                )"
   ]
  },
  {
   "cell_type": "code",
   "execution_count": 0,
   "metadata": {
    "application/vnd.databricks.v1+cell": {
     "cellMetadata": {
      "byteLimit": 2048000,
      "rowLimit": 10000
     },
     "inputWidgets": {},
     "nuid": "def6cc43-886a-46fd-b5e6-e545070a8335",
     "showTitle": false,
     "tableResultSettingsMap": {},
     "title": ""
    }
   },
   "outputs": [],
   "source": [
    "start_events_3156 = tasks_df_3156\\\n",
    "                        .select(\"employee_id\", col(\"start_time\").alias(\"time\"))\\\n",
    "                            .withColumn(\"delta\", lit(1))"
   ]
  },
  {
   "cell_type": "code",
   "execution_count": 0,
   "metadata": {
    "application/vnd.databricks.v1+cell": {
     "cellMetadata": {
      "byteLimit": 2048000,
      "rowLimit": 10000
     },
     "inputWidgets": {},
     "nuid": "21b72ed7-342e-469b-b0d0-143b62248484",
     "showTitle": false,
     "tableResultSettingsMap": {},
     "title": ""
    }
   },
   "outputs": [],
   "source": [
    "end_events_3156 = tasks_df_3156\\\n",
    "                        .select(\"employee_id\", col(\"end_time\").alias(\"time\"))\\\n",
    "                            .withColumn(\"delta\", lit(-1))"
   ]
  },
  {
   "cell_type": "code",
   "execution_count": 0,
   "metadata": {
    "application/vnd.databricks.v1+cell": {
     "cellMetadata": {
      "byteLimit": 2048000,
      "rowLimit": 10000
     },
     "inputWidgets": {},
     "nuid": "10c64a69-3e52-4d18-9277-be02ea82ad06",
     "showTitle": false,
     "tableResultSettingsMap": {},
     "title": ""
    }
   },
   "outputs": [],
   "source": [
    "events_df_3156 = start_events_3156.union(end_events_3156)"
   ]
  },
  {
   "cell_type": "code",
   "execution_count": 0,
   "metadata": {
    "application/vnd.databricks.v1+cell": {
     "cellMetadata": {
      "byteLimit": 2048000,
      "rowLimit": 10000
     },
     "inputWidgets": {},
     "nuid": "c474970c-c40c-4af5-a58b-c0066b1aa159",
     "showTitle": false,
     "tableResultSettingsMap": {},
     "title": ""
    }
   },
   "outputs": [],
   "source": [
    "window_spec2 = Window.partitionBy(\"employee_id\").orderBy(\"time\").rowsBetween(Window.unboundedPreceding, 0)"
   ]
  },
  {
   "cell_type": "code",
   "execution_count": 0,
   "metadata": {
    "application/vnd.databricks.v1+cell": {
     "cellMetadata": {
      "byteLimit": 2048000,
      "rowLimit": 10000
     },
     "inputWidgets": {},
     "nuid": "63fdf0bb-8dff-4952-9797-bcbda49ffc06",
     "showTitle": false,
     "tableResultSettingsMap": {},
     "title": ""
    }
   },
   "outputs": [],
   "source": [
    "events_df_3156 = events_df_3156\\\n",
    "                    .withColumn(\"concurrent\", sum(\"delta\").over(window_spec2))"
   ]
  },
  {
   "cell_type": "code",
   "execution_count": 0,
   "metadata": {
    "application/vnd.databricks.v1+cell": {
     "cellMetadata": {
      "byteLimit": 2048000,
      "rowLimit": 10000
     },
     "inputWidgets": {},
     "nuid": "c11a0faa-255c-4746-8e73-f4ce12c753c9",
     "showTitle": false,
     "tableResultSettingsMap": {},
     "title": ""
    }
   },
   "outputs": [],
   "source": [
    "max_concurrent_df_3156 = events_df_3156\\\n",
    "                            .groupBy(\"employee_id\")\\\n",
    "                                .agg(\n",
    "                                    max(\"concurrent\").alias(\"max_concurrent_tasks\")\n",
    "                                    )"
   ]
  },
  {
   "cell_type": "code",
   "execution_count": 0,
   "metadata": {
    "application/vnd.databricks.v1+cell": {
     "cellMetadata": {
      "byteLimit": 2048000,
      "rowLimit": 10000
     },
     "inputWidgets": {},
     "nuid": "811334bb-f8e7-4a25-9dc3-e5dd8c0c98bc",
     "showTitle": false,
     "tableResultSettingsMap": {},
     "title": ""
    }
   },
   "outputs": [
    {
     "output_type": "display_data",
     "data": {
      "text/html": [
       "<style scoped>\n",
       "  .table-result-container {\n",
       "    max-height: 300px;\n",
       "    overflow: auto;\n",
       "  }\n",
       "  table, th, td {\n",
       "    border: 1px solid black;\n",
       "    border-collapse: collapse;\n",
       "  }\n",
       "  th, td {\n",
       "    padding: 5px;\n",
       "  }\n",
       "  th {\n",
       "    text-align: left;\n",
       "  }\n",
       "</style><div class='table-result-container'><table class='table-result'><thead style='background-color: white'><tr><th>employee_id</th><th>total_task_hours</th><th>max_concurrent_tasks</th></tr></thead><tbody><tr><td>1001</td><td>6</td><td>2</td></tr><tr><td>1002</td><td>2</td><td>2</td></tr><tr><td>1003</td><td>2</td><td>1</td></tr></tbody></table></div>"
      ]
     },
     "metadata": {
      "application/vnd.databricks.v1+output": {
       "addedWidgets": {},
       "aggData": [],
       "aggError": "",
       "aggOverflow": false,
       "aggSchema": [],
       "aggSeriesLimitReached": false,
       "aggType": "",
       "arguments": {},
       "columnCustomDisplayInfos": {},
       "data": [
        [
         1001,
         6,
         2
        ],
        [
         1002,
         2,
         2
        ],
        [
         1003,
         2,
         1
        ]
       ],
       "datasetInfos": [],
       "dbfsResultPath": null,
       "isJsonSchema": true,
       "metadata": {},
       "overflow": false,
       "plotOptions": {
        "customPlotOptions": {},
        "displayType": "table",
        "pivotAggregation": null,
        "pivotColumns": null,
        "xColumns": null,
        "yColumns": null
       },
       "removedWidgets": [],
       "schema": [
        {
         "metadata": "{}",
         "name": "employee_id",
         "type": "\"long\""
        },
        {
         "metadata": "{}",
         "name": "total_task_hours",
         "type": "\"long\""
        },
        {
         "metadata": "{}",
         "name": "max_concurrent_tasks",
         "type": "\"long\""
        }
       ],
       "type": "table"
      }
     },
     "output_type": "display_data"
    }
   ],
   "source": [
    "total_hours_df_3156\\\n",
    "    .join(max_concurrent_df_3156, on=\"employee_id\")\\\n",
    "        .orderBy(\"employee_id\").display()"
   ]
  }
 ],
 "metadata": {
  "application/vnd.databricks.v1+notebook": {
   "computePreferences": {
    "hardware": {
     "accelerator": null,
     "gpuPoolId": null,
     "memory": null
    }
   },
   "dashboards": [],
   "environmentMetadata": {
    "base_environment": "",
    "environment_version": "2"
   },
   "inputWidgetPreferences": null,
   "language": "python",
   "notebookMetadata": {
    "pythonIndentUnit": 4
   },
   "notebookName": "3156. Employee Task Duration and Concurrent Tasks (Hard)-(Solved)",
   "widgets": {}
  },
  "language_info": {
   "name": "python"
  }
 },
 "nbformat": 4,
 "nbformat_minor": 0
}
