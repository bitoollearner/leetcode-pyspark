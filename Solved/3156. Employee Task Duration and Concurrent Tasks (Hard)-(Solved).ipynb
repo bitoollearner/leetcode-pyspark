{
 "cells": [
  {
   "cell_type": "markdown",
   "metadata": {
    "application/vnd.databricks.v1+cell": {
     "cellMetadata": {},
     "inputWidgets": {},
     "nuid": "7d1791bd-9552-4116-90b2-daa678bbffb8",
     "showTitle": false,
     "tableResultSettingsMap": {},
     "title": ""
    }
   },
   "source": [
    "## Importing Libraries"
   ]
  },
  {
   "cell_type": "code",
   "execution_count": 0,
   "metadata": {
    "application/vnd.databricks.v1+cell": {
     "cellMetadata": {},
     "inputWidgets": {},
     "nuid": "2901fbc9-49db-4285-8b94-c460f34d4c4f",
     "showTitle": false,
     "tableResultSettingsMap": {},
     "title": ""
    }
   },
   "outputs": [],
   "source": [
    "from pyspark.sql.functions import *\n",
    "from pyspark.sql.types import *\n",
    "from pyspark.sql.window import Window"
   ]
  },
  {
   "cell_type": "markdown",
   "metadata": {
    "application/vnd.databricks.v1+cell": {
     "cellMetadata": {},
     "inputWidgets": {},
     "nuid": "655120e7-6b25-417c-a08a-c6925feaa425",
     "showTitle": false,
     "tableResultSettingsMap": {},
     "title": ""
    }
   },
   "source": [
    "**3156. Employee Task Duration and Concurrent Tasks (Hard)**\n",
    "\n",
    "**Table: Tasks**\n",
    "\n",
    "| Column Name   | Type     |\n",
    "|---------------|----------|\n",
    "| task_id       | int      |\n",
    "| employee_id   | int      |\n",
    "| start_time    | datetime |\n",
    "| end_time      | datetime |\n",
    "\n",
    "(task_id, employee_id) is the primary key for this table.\n",
    "Each row in this table contains the task identifier, the employee identifier, and the start and end times of each task.\n",
    "\n",
    "**Write a solution to find the total duration of tasks for each employee and the maximum number of concurrent tasks an employee handled at any point in time. The total duration should be rounded down to the nearest number of full hours.**\n",
    "\n",
    "Return the result table ordered by employee_id ascending order.\n",
    "\n",
    "The result format is in the following example.\n",
    "\n",
    "**Example:**\n",
    "\n",
    "**Input:**\n",
    "\n",
    "**Tasks table:**\n",
    "\n",
    "| task_id | employee_id | start_time          | end_time            |\n",
    "|---------|-------------|---------------------|---------------------|\n",
    "| 1       | 1001        | 2023-05-01 08:00:00 | 2023-05-01 09:00:00 |\n",
    "| 2       | 1001        | 2023-05-01 08:30:00 | 2023-05-01 10:30:00 |\n",
    "| 3       | 1001        | 2023-05-01 11:00:00 | 2023-05-01 12:00:00 |\n",
    "| 7       | 1001        | 2023-05-01 13:00:00 | 2023-05-01 15:30:00 |\n",
    "| 4       | 1002        | 2023-05-01 09:00:00 | 2023-05-01 10:00:00 |\n",
    "| 5       | 1002        | 2023-05-01 09:30:00 | 2023-05-01 11:30:00 |\n",
    "| 6       | 1003        | 2023-05-01 14:00:00 | 2023-05-01 16:00:00 |\n",
    "\n",
    "**Output:**\n",
    "\n",
    "| employee_id | total_task_hours | max_concurrent_tasks |\n",
    "|-------------|------------------|----------------------|\n",
    "| 1001        | 6                | 2                    |\n",
    "| 1002        | 2                | 2                    |\n",
    "| 1003        | 2                | 1                    |\n",
    "\n",
    "**Explanation:**\n",
    "- For employee ID 1001:\n",
    "  - Task 1 and Task 2 overlap from 08:30 to 09:00 (30 minutes).\n",
    "  - Task 7 has a duration of 150 minutes (2 hours and 30 minutes).\n",
    "  - Total task time: 60 (Task 1) + 120 (Task 2) + 60 (Task 3) + 150 (Task 7) - 30 (overlap) = 360 minutes = 6 hours.\n",
    "  - Maximum concurrent tasks: 2 (during the overlap period).\n",
    "- For employee ID 1002:\n",
    "  - Task 4 and Task 5 overlap from 09:30 to 10:00 (30 minutes).\n",
    "  - Total task time: 60 (Task 4) + 120 (Task 5) - 30 (overlap) = 150 minutes = 2 hours and 30 minutes.\n",
    "  - Total task hours (rounded down): 2 hours.\n",
    "  - Maximum concurrent tasks: 2 (during the overlap period).\n",
    "- For employee ID 1003:\n",
    "  - No overlapping tasks.\n",
    "  - Total task time: 120 minutes = 2 hours.\n",
    "  - Maximum concurrent tasks: 1.\n",
    "\n",
    "**Note:** Output table is ordered by employee_id in ascending order."
   ]
  },
  {
   "cell_type": "code",
   "execution_count": 0,
   "metadata": {
    "application/vnd.databricks.v1+cell": {
     "cellMetadata": {},
     "inputWidgets": {},
     "nuid": "a2368434-0191-416c-aa1d-12cd44cf48e6",
     "showTitle": false,
     "tableResultSettingsMap": {},
     "title": ""
    }
   },
   "outputs": [],
   "source": [
    "tasks_data_3156 = [\n",
    "    (1, 1001, \"2023-05-01 08:00:00\", \"2023-05-01 09:00:00\"),\n",
    "    (2, 1001, \"2023-05-01 08:30:00\", \"2023-05-01 10:30:00\"),\n",
    "    (3, 1001, \"2023-05-01 11:00:00\", \"2023-05-01 12:00:00\"),\n",
    "    (7, 1001, \"2023-05-01 13:00:00\", \"2023-05-01 15:30:00\"),\n",
    "    (4, 1002, \"2023-05-01 09:00:00\", \"2023-05-01 10:00:00\"),\n",
    "    (5, 1002, \"2023-05-01 09:30:00\", \"2023-05-01 11:30:00\"),\n",
    "    (6, 1003, \"2023-05-01 14:00:00\", \"2023-05-01 16:00:00\")\n",
    "]\n",
    "\n",
    "tasks_columns_3156 = [\"task_id\", \"employee_id\", \"start_time\", \"end_time\"]\n",
    "tasks_df_3156 = spark.createDataFrame(tasks_data_3156, tasks_columns_3156)\n",
    "tasks_df_3156.show()"
   ]
  }
 ],
 "metadata": {
  "application/vnd.databricks.v1+notebook": {
   "computePreferences": null,
   "dashboards": [],
   "environmentMetadata": {
    "base_environment": "",
    "environment_version": "1"
   },
   "inputWidgetPreferences": null,
   "language": "python",
   "notebookMetadata": {
    "pythonIndentUnit": 4
   },
   "notebookName": "3156. Employee Task Duration and Concurrent Tasks (Hard)",
   "widgets": {}
  }
 },
 "nbformat": 4,
 "nbformat_minor": 0
}