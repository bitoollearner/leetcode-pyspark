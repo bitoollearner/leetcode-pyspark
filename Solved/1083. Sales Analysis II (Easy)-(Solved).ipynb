{
 "cells": [
  {
   "cell_type": "markdown",
   "metadata": {
    "application/vnd.databricks.v1+cell": {
     "cellMetadata": {
      "byteLimit": 2048000,
      "rowLimit": 10000
     },
     "inputWidgets": {},
     "nuid": "3f2ab884-5b2e-4c2a-b90f-eba6d7208edf",
     "showTitle": false,
     "tableResultSettingsMap": {},
     "title": ""
    }
   },
   "source": [
    "## Importing Libraries"
   ]
  },
  {
   "cell_type": "code",
   "execution_count": 0,
   "metadata": {
    "application/vnd.databricks.v1+cell": {
     "cellMetadata": {
      "byteLimit": 2048000,
      "rowLimit": 10000
     },
     "inputWidgets": {},
     "nuid": "26c9d69f-b471-43b4-aaee-40c41d01994e",
     "showTitle": false,
     "tableResultSettingsMap": {},
     "title": ""
    }
   },
   "outputs": [],
   "source": [
    "from pyspark.sql.functions import *\n",
    "from pyspark.sql.types import *\n",
    "from pyspark.sql.window import Window"
   ]
  },
  {
   "cell_type": "markdown",
   "metadata": {
    "application/vnd.databricks.v1+cell": {
     "cellMetadata": {
      "byteLimit": 2048000,
      "rowLimit": 10000
     },
     "inputWidgets": {},
     "nuid": "fa1c2280-e46c-403e-8996-25b01a84ec72",
     "showTitle": false,
     "tableResultSettingsMap": {},
     "title": ""
    }
   },
   "source": [
    "**1083. Sales Analysis II (Easy)**\n",
    "\n",
    "**Table: Product**\n",
    "\n",
    "| Column Name  | Type    |\n",
    "|--------------|---------|\n",
    "| product_id   | int     |\n",
    "| product_name | varchar |\n",
    "| unit_price   | int     |\n",
    "\n",
    "product_id is the primary key (column with unique values) of this table.\n",
    "Each row of this table indicates the name and the price of each product.\n",
    "\n",
    "**Table: Sales**\n",
    "\n",
    "| Column Name | Type    |\n",
    "|-------------|---------|\n",
    "| seller_id   | int     |\n",
    "| product_id  | int     |\n",
    "| buyer_id    | int     |\n",
    "| sale_date   | date    |\n",
    "| quantity    | int     |\n",
    "| price       | int     |\n",
    "\n",
    "This table might have repeated rows.\n",
    "product_id is a foreign key (reference column) to the Product table.\n",
    "buyer_id is never NULL. \n",
    "sale_date is never NULL. \n",
    "Each row of this table contains some information about one sale.\n",
    " \n",
    "**Write a solution to report the buyers who have bought S8 but not iPhone. Note that S8 and iPhone are products presented in the Product table.**\n",
    "\n",
    "Return the result table in any order.\n",
    "\n",
    "The result format is in the following example.\n",
    "\n",
    "**Example 1:**\n",
    "\n",
    "**Input:** \n",
    "\n",
    "**Product table:**\n",
    "\n",
    "| product_id | product_name | unit_price |\n",
    "|------------|--------------|------------|\n",
    "| 1          | S8           | 1000       |\n",
    "| 2          | G4           | 800        |\n",
    "| 3          | iPhone       | 1400       |\n",
    "\n",
    "**Sales table:**\n",
    "| seller_id | product_id | buyer_id | sale_date  | quantity | price |\n",
    "|-----------|------------|----------|------------|----------|-------|\n",
    "| 1         | 1          | 1        | 2019-01-21 | 2        | 2000  |\n",
    "| 1         | 2          | 2        | 2019-02-17 | 1        | 800   |\n",
    "| 2         | 1          | 3        | 2019-06-02 | 1        | 800   |\n",
    "| 3         | 3          | 3        | 2019-05-13 | 2        | 2800  |\n",
    "\n",
    "**Output:** \n",
    "| buyer_id    |\n",
    "|-------------|\n",
    "| 1           |\n",
    "\n",
    "**Explanation:** The buyer with id 1 bought an S8 but did not buy an iPhone. The buyer with id 3 bought both."
   ]
  },
  {
   "cell_type": "code",
   "execution_count": 0,
   "metadata": {
    "application/vnd.databricks.v1+cell": {
     "cellMetadata": {
      "byteLimit": 2048000,
      "rowLimit": 10000
     },
     "inputWidgets": {},
     "nuid": "dddf2382-d3f5-49ba-9108-34f298edfb81",
     "showTitle": false,
     "tableResultSettingsMap": {},
     "title": ""
    }
   },
   "outputs": [],
   "source": [
    "product_data_1083 = [\n",
    "    (1, \"S8\", 1000),\n",
    "    (2, \"G4\", 800),\n",
    "    (3, \"iPhone\", 1400),\n",
    "]\n",
    "\n",
    "product_columns_1083 = [\"product_id\", \"product_name\", \"unit_price\"]\n",
    "product_df_1083 = spark.createDataFrame(product_data_1083, product_columns_1083)\n",
    "product_df_1083.show()\n",
    "\n",
    "sales_data_1083 = [\n",
    "    (1, 1, 1, \"2019-01-21\", 2, 2000),\n",
    "    (1, 2, 2, \"2019-02-17\", 1, 800),\n",
    "    (2, 1, 3, \"2019-06-02\", 1, 800),\n",
    "    (3, 3, 3, \"2019-05-13\", 2, 2800),\n",
    "]\n",
    "\n",
    "sales_columns_1083 = [\"seller_id\", \"product_id\", \"buyer_id\", \"sale_date\", \"quantity\", \"price\"]\n",
    "sales_df_1083 = spark.createDataFrame(sales_data_1083, sales_columns_1083)\n",
    "sales_df_1083.show()"
   ]
  },
  {
   "cell_type": "code",
   "execution_count": 0,
   "metadata": {
    "application/vnd.databricks.v1+cell": {
     "cellMetadata": {
      "byteLimit": 2048000,
      "rowLimit": 10000
     },
     "inputWidgets": {},
     "nuid": "aa12c8a8-f25c-4d46-96ed-ff07741ed6da",
     "showTitle": false,
     "tableResultSettingsMap": {},
     "title": ""
    }
   },
   "outputs": [],
   "source": [
    "sales_product_df_1083 = sales_df_1083\\\n",
    "                        .join(product_df_1083, on=\"product_id\", how=\"inner\")"
   ]
  },
  {
   "cell_type": "code",
   "execution_count": 0,
   "metadata": {
    "application/vnd.databricks.v1+cell": {
     "cellMetadata": {
      "byteLimit": 2048000,
      "rowLimit": 10000
     },
     "inputWidgets": {},
     "nuid": "1bacea51-1b25-4df3-bd81-a3eea4e15c1e",
     "showTitle": false,
     "tableResultSettingsMap": {},
     "title": ""
    }
   },
   "outputs": [],
   "source": [
    "s8_buyers_1083 = sales_product_df_1083\\\n",
    "                .filter(sales_product_df_1083[\"product_name\"] == \"S8\") \\\n",
    "                        .select(\"buyer_id\").distinct()"
   ]
  },
  {
   "cell_type": "code",
   "execution_count": 0,
   "metadata": {
    "application/vnd.databricks.v1+cell": {
     "cellMetadata": {
      "byteLimit": 2048000,
      "rowLimit": 10000
     },
     "inputWidgets": {},
     "nuid": "1b91e3d2-cf0b-4430-bceb-bb9cf71e89d5",
     "showTitle": false,
     "tableResultSettingsMap": {},
     "title": ""
    }
   },
   "outputs": [],
   "source": [
    "iphone_buyers_1083 = sales_product_df_1083\\\n",
    "                    .filter(sales_product_df_1083[\"product_name\"] == \"iPhone\") \\\n",
    "                            .select(\"buyer_id\").distinct()"
   ]
  },
  {
   "cell_type": "code",
   "execution_count": 0,
   "metadata": {
    "application/vnd.databricks.v1+cell": {
     "cellMetadata": {
      "byteLimit": 2048000,
      "rowLimit": 10000
     },
     "inputWidgets": {},
     "nuid": "d61d9261-bccf-42a0-bd6e-0c14f163fe59",
     "showTitle": false,
     "tableResultSettingsMap": {},
     "title": ""
    }
   },
   "outputs": [],
   "source": [
    "s8_buyers_1083.subtract(iphone_buyers_1083).show()"
   ]
  }
 ],
 "metadata": {
  "application/vnd.databricks.v1+notebook": {
   "computePreferences": {
    "hardware": {
     "accelerator": null,
     "gpuPoolId": null,
     "memory": null
    }
   },
   "dashboards": [],
   "environmentMetadata": {
    "base_environment": "",
    "environment_version": "2"
   },
   "inputWidgetPreferences": null,
   "language": "python",
   "notebookMetadata": {
    "pythonIndentUnit": 4
   },
   "notebookName": "1083. Sales Analysis II (Easy)-(Solved)",
   "widgets": {}
  },
  "language_info": {
   "name": "python"
  }
 },
 "nbformat": 4,
 "nbformat_minor": 0
}
