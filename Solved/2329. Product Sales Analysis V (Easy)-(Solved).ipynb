{
 "cells": [
  {
   "cell_type": "markdown",
   "metadata": {
    "application/vnd.databricks.v1+cell": {
     "cellMetadata": {
      "byteLimit": 2048000,
      "rowLimit": 10000
     },
     "inputWidgets": {},
     "nuid": "4e9d71b1-88e9-445c-820a-b842e217a4e7",
     "showTitle": false,
     "tableResultSettingsMap": {},
     "title": ""
    }
   },
   "source": [
    "## Importing Libraries"
   ]
  },
  {
   "cell_type": "code",
   "execution_count": 0,
   "metadata": {
    "application/vnd.databricks.v1+cell": {
     "cellMetadata": {
      "byteLimit": 2048000,
      "rowLimit": 10000
     },
     "inputWidgets": {},
     "nuid": "e6624c4d-8cb8-4ac4-8c72-81d1b4ecdb57",
     "showTitle": false,
     "tableResultSettingsMap": {},
     "title": ""
    }
   },
   "outputs": [],
   "source": [
    "from pyspark.sql.functions import *\n",
    "from pyspark.sql.types import *\n",
    "from pyspark.sql.window import Window"
   ]
  },
  {
   "cell_type": "markdown",
   "metadata": {
    "application/vnd.databricks.v1+cell": {
     "cellMetadata": {
      "byteLimit": 2048000,
      "rowLimit": 10000
     },
     "inputWidgets": {},
     "nuid": "c3788fe5-f4c9-420f-ad72-ec1a39310a2a",
     "showTitle": false,
     "tableResultSettingsMap": {},
     "title": ""
    }
   },
   "source": [
    "**2329. Product Sales Analysis V (Easy)**\n",
    "\n",
    "**Table: Sales**\n",
    "\n",
    "| Column Name | Type  |\n",
    "|-------------|-------|\n",
    "| sale_id     | int   |\n",
    "| product_id  | int   |\n",
    "| user_id     | int   |\n",
    "| quantity    | int   |\n",
    "\n",
    "sale_id contains unique values.\n",
    "product_id is a foreign key (column with unique values) to Product table.\n",
    "Each row of this table shows the ID of the product and the quantity purchased by a user.\n",
    " \n",
    "\n",
    "**Table: Product**\n",
    "\n",
    "| Column Name | Type |\n",
    "|-------------|------|\n",
    "| product_id  | int  |\n",
    "| price       | int  |\n",
    "\n",
    "product_id contains unique values.\n",
    "Each row of this table indicates the price of each product.\n",
    " \n",
    "**Write a solution to report the spending of each user.**\n",
    "\n",
    "Return the resulting table ordered by spending in descending order. In case of a tie, order them by user_id in ascending order.\n",
    "\n",
    "The result format is in the following example.\n",
    "\n",
    "**Example 1:**\n",
    "\n",
    "**Input:** \n",
    "\n",
    "**Sales table:**\n",
    "\n",
    "| sale_id | product_id | user_id | quantity |\n",
    "|---------|------------|---------|----------|\n",
    "| 1       | 1          | 101     | 10       |\n",
    "| 2       | 2          | 101     | 1        |\n",
    "| 3       | 3          | 102     | 3        |\n",
    "| 4       | 3          | 102     | 2        |\n",
    "| 5       | 2          | 103     | 3        |\n",
    "\n",
    "**Product table:**\n",
    "\n",
    "| product_id | price |\n",
    "|------------|-------|\n",
    "| 1          | 10    |\n",
    "| 2          | 25    |\n",
    "| 3          | 15    |\n",
    "\n",
    "**Output:** \n",
    "| user_id | spending |\n",
    "|---------|----------|\n",
    "| 101     | 125      |\n",
    "| 102     | 75       |\n",
    "| 103     | 75       |\n",
    "\n",
    "**Explanation:** \n",
    "- User 101 spent 10 * 10 + 1 * 25 = 125.\n",
    "- User 102 spent 3 * 15 + 2 * 15 = 75.\n",
    "- User 103 spent 3 * 25 = 75.\n",
    "- Users 102 and 103 spent the same amount and we break the tie by their ID while user 101 is on the top."
   ]
  },
  {
   "cell_type": "code",
   "execution_count": 0,
   "metadata": {
    "application/vnd.databricks.v1+cell": {
     "cellMetadata": {
      "byteLimit": 2048000,
      "rowLimit": 10000
     },
     "inputWidgets": {},
     "nuid": "137536ea-9bec-4171-8dc2-4bf8b0d771b4",
     "showTitle": false,
     "tableResultSettingsMap": {},
     "title": ""
    }
   },
   "outputs": [
    {
     "output_type": "stream",
     "name": "stdout",
     "output_type": "stream",
     "text": [
      "+-------+----------+-------+--------+\n|sale_id|product_id|user_id|quantity|\n+-------+----------+-------+--------+\n|      1|         1|    101|      10|\n|      2|         2|    101|       1|\n|      3|         3|    102|       3|\n|      4|         3|    102|       2|\n|      5|         2|    103|       3|\n+-------+----------+-------+--------+\n\n+----------+-----+\n|product_id|price|\n+----------+-----+\n|         1|   10|\n|         2|   25|\n|         3|   15|\n+----------+-----+\n\n"
     ]
    }
   ],
   "source": [
    "sales_data_2329 = [\n",
    "    (1, 1, 101, 10),\n",
    "    (2, 2, 101, 1),\n",
    "    (3, 3, 102, 3),\n",
    "    (4, 3, 102, 2),\n",
    "    (5, 2, 103, 3),\n",
    "]\n",
    "\n",
    "sales_columns_2329 = [\"sale_id\", \"product_id\", \"user_id\", \"quantity\"]\n",
    "sales_df_2329 = spark.createDataFrame(sales_data_2329, sales_columns_2329)\n",
    "sales_df_2329.show()\n",
    "\n",
    "product_data_2329 = [\n",
    "    (1, 10),\n",
    "    (2, 25),\n",
    "    (3, 15),\n",
    "]\n",
    "\n",
    "product_columns_2329 = [\"product_id\", \"price\"]\n",
    "product_df_2329 = spark.createDataFrame(product_data_2329, product_columns_2329)\n",
    "product_df_2329.show()"
   ]
  },
  {
   "cell_type": "code",
   "execution_count": 0,
   "metadata": {
    "application/vnd.databricks.v1+cell": {
     "cellMetadata": {
      "byteLimit": 2048000,
      "rowLimit": 10000
     },
     "inputWidgets": {},
     "nuid": "d94716e5-51c0-4644-a862-f19ede46270a",
     "showTitle": false,
     "tableResultSettingsMap": {},
     "title": ""
    }
   },
   "outputs": [
    {
     "output_type": "stream",
     "name": "stdout",
     "output_type": "stream",
     "text": [
      "+-------+--------+\n|user_id|spending|\n+-------+--------+\n|    101|     125|\n|    102|      75|\n|    103|      75|\n+-------+--------+\n\n"
     ]
    }
   ],
   "source": [
    "sales_df_2329\\\n",
    "    .join(product_df_2329, on=\"product_id\", how=\"inner\")\\\n",
    "        .withColumn(\"spent\", col(\"quantity\") * col(\"price\"))\\\n",
    "            .groupBy(\"user_id\")\\\n",
    "                .agg(sum(\"spent\").alias(\"spending\"))\\\n",
    "                    .orderBy(col(\"spending\").desc(), col(\"user_id\").asc()).show()"
   ]
  }
 ],
 "metadata": {
  "application/vnd.databricks.v1+notebook": {
   "computePreferences": {
    "hardware": {
     "accelerator": null,
     "gpuPoolId": null,
     "memory": null
    }
   },
   "dashboards": [],
   "environmentMetadata": {
    "base_environment": "",
    "environment_version": "2"
   },
   "inputWidgetPreferences": null,
   "language": "python",
   "notebookMetadata": {
    "pythonIndentUnit": 4
   },
   "notebookName": "2329. Product Sales Analysis V (Easy)-(Solved)",
   "widgets": {}
  },
  "language_info": {
   "name": "python"
  }
 },
 "nbformat": 4,
 "nbformat_minor": 0
}
