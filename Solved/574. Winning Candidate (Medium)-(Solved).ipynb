{
 "cells": [
  {
   "cell_type": "markdown",
   "metadata": {
    "application/vnd.databricks.v1+cell": {
     "cellMetadata": {
      "byteLimit": 2048000,
      "rowLimit": 10000
     },
     "inputWidgets": {},
     "nuid": "db7ebec7-889d-4791-9b66-269554c0d581",
     "showTitle": false,
     "tableResultSettingsMap": {},
     "title": ""
    }
   },
   "source": [
    "## Importing Libraries"
   ]
  },
  {
   "cell_type": "code",
   "execution_count": 0,
   "metadata": {
    "application/vnd.databricks.v1+cell": {
     "cellMetadata": {
      "byteLimit": 2048000,
      "rowLimit": 10000
     },
     "inputWidgets": {},
     "nuid": "70352d4b-6bb2-42f3-8465-ba88ab41d730",
     "showTitle": false,
     "tableResultSettingsMap": {},
     "title": ""
    }
   },
   "outputs": [],
   "source": [
    "from pyspark.sql.functions import *\n",
    "from pyspark.sql.types import *\n",
    "from pyspark.sql.window import Window"
   ]
  },
  {
   "cell_type": "markdown",
   "metadata": {
    "application/vnd.databricks.v1+cell": {
     "cellMetadata": {
      "byteLimit": 2048000,
      "rowLimit": 10000
     },
     "inputWidgets": {},
     "nuid": "154313e3-f403-4508-a1d1-a93ae1e178d9",
     "showTitle": false,
     "tableResultSettingsMap": {},
     "title": ""
    }
   },
   "source": [
    "**574. Winning Candidate (Medium)**\n",
    "\n",
    "**Table: Candidate**\n",
    "\n",
    "| Column Name | Type     |\n",
    "|-------------|----------|\n",
    "| id          | int      |\n",
    "| name        | varchar  |\n",
    "\n",
    "id is the column with unique values for this table.\n",
    "Each row of this table contains information about the id and the name of a candidate.\n",
    " \n",
    "**Table: Vote**\n",
    "\n",
    "| Column Name | Type |\n",
    "|-------------|------|\n",
    "| id          | int  |\n",
    "| candidateId | int  |\n",
    "\n",
    "id is an auto-increment primary key (column with unique values).\n",
    "candidateId is a foreign key (reference column) to id from the Candidate table.\n",
    "Each row of this table determines the candidate who got the ith vote in the elections.\n",
    " \n",
    "**Write a solution to report the name of the winning candidate (i.e., the candidate who got the largest number of votes).**\n",
    "\n",
    "The test cases are generated so that exactly one candidate wins the elections.\n",
    "\n",
    "The result format is in the following example.\n",
    "\n",
    "**Example 1:**\n",
    "\n",
    "**Input:**\n",
    "\n",
    "**Candidate table:**\n",
    "\n",
    "| id | name |\n",
    "|----|------|\n",
    "| 1  | A    |\n",
    "| 2  | B    |\n",
    "| 3  | C    |\n",
    "| 4  | D    |\n",
    "| 5  | E    |\n",
    "\n",
    "**Vote table:**\n",
    "| id | candidateId |\n",
    "|----|-------------|\n",
    "| 1  | 2           |\n",
    "| 2  | 4           |\n",
    "| 3  | 3           |\n",
    "| 4  | 2           |\n",
    "| 5  | 5           |\n",
    "\n",
    "**Output:** \n",
    "| name |\n",
    "|------|\n",
    "| B    |\n",
    "\n",
    "**Explanation:** \n",
    "Candidate B has 2 votes. Candidates C, D, and E have 1 vote each.\n",
    "The winner is candidate B."
   ]
  },
  {
   "cell_type": "code",
   "execution_count": 0,
   "metadata": {
    "application/vnd.databricks.v1+cell": {
     "cellMetadata": {
      "byteLimit": 2048000,
      "rowLimit": 10000
     },
     "inputWidgets": {},
     "nuid": "787ef081-e08b-4a47-9b9a-a1a07b8b2b93",
     "showTitle": false,
     "tableResultSettingsMap": {},
     "title": ""
    }
   },
   "outputs": [],
   "source": [
    "candidate_data_574 = [\n",
    "    (1, 'A'),\n",
    "    (2, 'B'),\n",
    "    (3, 'C'),\n",
    "    (4, 'D'),\n",
    "    (5, 'E')\n",
    "]\n",
    "\n",
    "candidate_columns_574 = ['id', 'name']\n",
    "df_candidate_574 = spark.createDataFrame(candidate_data_574, candidate_columns_574)\n",
    "df_candidate_574.show()\n",
    "\n",
    "vote_data_574 = [\n",
    "    (1, 2),\n",
    "    (2, 4),\n",
    "    (3, 3),\n",
    "    (4, 2),\n",
    "    (5, 5)\n",
    "]\n",
    "\n",
    "vote_columns_574 = ['id', 'candidateId']\n",
    "df_vote_574 = spark.createDataFrame(vote_data_574, vote_columns_574)\n",
    "df_vote_574.show()"
   ]
  },
  {
   "cell_type": "code",
   "execution_count": 0,
   "metadata": {
    "application/vnd.databricks.v1+cell": {
     "cellMetadata": {
      "byteLimit": 2048000,
      "rowLimit": 10000
     },
     "inputWidgets": {},
     "nuid": "a07a2bfc-0e5a-4361-acd9-9ec6fe4832b4",
     "showTitle": false,
     "tableResultSettingsMap": {},
     "title": ""
    }
   },
   "outputs": [],
   "source": [
    "df_candidate_574\\\n",
    "    .join(df_vote_574, df_vote_574.candidateId == df_candidate_574.id)\\\n",
    "        .groupBy(\"name\").agg(count(col(\"candidateId\")).alias(\"votes\"))\\\n",
    "            .orderBy(col(\"votes\").desc())\\\n",
    "                .select(\"name\").limit(1).show()"
   ]
  }
 ],
 "metadata": {
  "application/vnd.databricks.v1+notebook": {
   "computePreferences": {
    "hardware": {
     "accelerator": null,
     "gpuPoolId": null,
     "memory": null
    }
   },
   "dashboards": [],
   "environmentMetadata": {
    "base_environment": "",
    "environment_version": "2"
   },
   "inputWidgetPreferences": null,
   "language": "python",
   "notebookMetadata": {
    "pythonIndentUnit": 4
   },
   "notebookName": "574. Winning Candidate (Medium)-(Solved)",
   "widgets": {}
  },
  "language_info": {
   "name": "python"
  }
 },
 "nbformat": 4,
 "nbformat_minor": 0
}
