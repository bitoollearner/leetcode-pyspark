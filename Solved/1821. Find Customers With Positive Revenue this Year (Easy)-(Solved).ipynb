{
 "cells": [
  {
   "cell_type": "markdown",
   "metadata": {
    "application/vnd.databricks.v1+cell": {
     "cellMetadata": {
      "byteLimit": 2048000,
      "rowLimit": 10000
     },
     "inputWidgets": {},
     "nuid": "fadf709d-de3d-4bfc-b69f-3b489de68bef",
     "showTitle": false,
     "tableResultSettingsMap": {},
     "title": ""
    }
   },
   "source": [
    "## Importing Libraries"
   ]
  },
  {
   "cell_type": "code",
   "execution_count": 0,
   "metadata": {
    "application/vnd.databricks.v1+cell": {
     "cellMetadata": {
      "byteLimit": 2048000,
      "rowLimit": 10000
     },
     "inputWidgets": {},
     "nuid": "d4a1fef1-aa99-469c-b35f-9b3f3e81c9f7",
     "showTitle": false,
     "tableResultSettingsMap": {},
     "title": ""
    }
   },
   "outputs": [],
   "source": [
    "from pyspark.sql.functions import *\n",
    "from pyspark.sql.types import *\n",
    "from pyspark.sql.window import Window"
   ]
  },
  {
   "cell_type": "markdown",
   "metadata": {
    "application/vnd.databricks.v1+cell": {
     "cellMetadata": {
      "byteLimit": 2048000,
      "rowLimit": 10000
     },
     "inputWidgets": {},
     "nuid": "78daa073-80d8-4f7e-9cfa-10f6eb568909",
     "showTitle": false,
     "tableResultSettingsMap": {},
     "title": ""
    }
   },
   "source": [
    "**1821. Find Customers With Positive Revenue this Year (Easy)**\n",
    "\n",
    "**Table: Customers**\n",
    "\n",
    "| Column Name  | Type |\n",
    "|--------------|------|\n",
    "| customer_id  | int  |\n",
    "| year         | int  |\n",
    "| revenue      | int  |\n",
    "\n",
    "(customer_id, year) is the primary key (combination of columns with unique values) for this table.\n",
    "This table contains the customer ID and the revenue of customers in different years.\n",
    "Note that this revenue can be negative.\n",
    " \n",
    "**Write a solution to report the customers with postive revenue in the year 2021.**\n",
    "\n",
    "Return the result table in any order.\n",
    "\n",
    "The result format is in the following example.\n",
    "\n",
    "**Example 1:**\n",
    "\n",
    "**Input:** \n",
    "\n",
    "**Customers table:**\n",
    "\n",
    "| customer_id | year | revenue |\n",
    "|-------------|------|---------|\n",
    "| 1           | 2018 | 50      |\n",
    "| 1           | 2021 | 30      |\n",
    "| 1           | 2020 | 70      |\n",
    "| 2           | 2021 | -50     |\n",
    "| 3           | 2018 | 10      |\n",
    "| 3           | 2016 | 50      |\n",
    "| 4           | 2021 | 20      |\n",
    "\n",
    "**Output:** \n",
    "| customer_id |\n",
    "|-------------|\n",
    "| 1           |\n",
    "| 4           |\n",
    "\n",
    "**Explanation:** \n",
    "- Customer 1 has revenue equal to 30 in the year 2021.\n",
    "- Customer 2 has revenue equal to -50 in the year 2021.\n",
    "- Customer 3 has no revenue in the year 2021.\n",
    "- Customer 4 has revenue equal to 20 in the year 2021.\n",
    "- Thus only customers 1 and 4 have positive revenue in the year 2021."
   ]
  },
  {
   "cell_type": "code",
   "execution_count": 0,
   "metadata": {
    "application/vnd.databricks.v1+cell": {
     "cellMetadata": {
      "byteLimit": 2048000,
      "rowLimit": 10000
     },
     "inputWidgets": {},
     "nuid": "7b78bc27-26cd-4523-8646-7369baf68fcb",
     "showTitle": false,
     "tableResultSettingsMap": {},
     "title": ""
    }
   },
   "outputs": [
    {
     "output_type": "stream",
     "name": "stdout",
     "output_type": "stream",
     "text": [
      "+-----------+----+-------+\n|customer_id|year|revenue|\n+-----------+----+-------+\n|          1|2018|     50|\n|          1|2021|     30|\n|          1|2020|     70|\n|          2|2021|    -50|\n|          3|2018|     10|\n|          3|2016|     50|\n|          4|2021|     20|\n+-----------+----+-------+\n\n"
     ]
    }
   ],
   "source": [
    "customers_data_1821 = [\n",
    "    (1, 2018, 50),\n",
    "    (1, 2021, 30),\n",
    "    (1, 2020, 70),\n",
    "    (2, 2021, -50),\n",
    "    (3, 2018, 10),\n",
    "    (3, 2016, 50),\n",
    "    (4, 2021, 20),\n",
    "]\n",
    "\n",
    "customers_columns_1821 = [\"customer_id\", \"year\", \"revenue\"]\n",
    "customers_df_1821 = spark.createDataFrame(customers_data_1821, customers_columns_1821)\n",
    "customers_df_1821.show()\n"
   ]
  },
  {
   "cell_type": "code",
   "execution_count": 0,
   "metadata": {
    "application/vnd.databricks.v1+cell": {
     "cellMetadata": {
      "byteLimit": 2048000,
      "rowLimit": 10000
     },
     "inputWidgets": {},
     "nuid": "d79404f2-b494-4395-bf67-5c9b8d6b4ca7",
     "showTitle": false,
     "tableResultSettingsMap": {},
     "title": ""
    }
   },
   "outputs": [
    {
     "output_type": "stream",
     "name": "stdout",
     "output_type": "stream",
     "text": [
      "+-----------+\n|customer_id|\n+-----------+\n|          1|\n|          4|\n+-----------+\n\n"
     ]
    }
   ],
   "source": [
    "customers_df_1821\\\n",
    "    .filter(\n",
    "        (col(\"year\") == 2021) & (col(\"revenue\") > 0))\\\n",
    "            .select(\"customer_id\").distinct().show()"
   ]
  }
 ],
 "metadata": {
  "application/vnd.databricks.v1+notebook": {
   "computePreferences": {
    "hardware": {
     "accelerator": null,
     "gpuPoolId": null,
     "memory": null
    }
   },
   "dashboards": [],
   "environmentMetadata": {
    "base_environment": "",
    "environment_version": "2"
   },
   "inputWidgetPreferences": null,
   "language": "python",
   "notebookMetadata": {
    "pythonIndentUnit": 4
   },
   "notebookName": "1821. Find Customers With Positive Revenue this Year (Easy)-(Solved)",
   "widgets": {}
  },
  "language_info": {
   "name": "python"
  }
 },
 "nbformat": 4,
 "nbformat_minor": 0
}
