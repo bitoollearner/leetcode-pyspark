{
 "cells": [
  {
   "cell_type": "markdown",
   "metadata": {
    "application/vnd.databricks.v1+cell": {
     "cellMetadata": {
      "byteLimit": 2048000,
      "rowLimit": 10000
     },
     "inputWidgets": {},
     "nuid": "e405a61e-83e0-4a83-8234-4a55e28c9c87",
     "showTitle": false,
     "tableResultSettingsMap": {},
     "title": ""
    }
   },
   "source": [
    "## Importing Libraries"
   ]
  },
  {
   "cell_type": "code",
   "execution_count": 0,
   "metadata": {
    "application/vnd.databricks.v1+cell": {
     "cellMetadata": {
      "byteLimit": 2048000,
      "rowLimit": 10000
     },
     "inputWidgets": {},
     "nuid": "bb35cd35-f82a-443f-90d7-d161591cdb61",
     "showTitle": false,
     "tableResultSettingsMap": {},
     "title": ""
    }
   },
   "outputs": [],
   "source": [
    "from pyspark.sql.functions import *\n",
    "from pyspark.sql.types import *\n",
    "from pyspark.sql.window import Window"
   ]
  },
  {
   "cell_type": "markdown",
   "metadata": {
    "application/vnd.databricks.v1+cell": {
     "cellMetadata": {
      "byteLimit": 2048000,
      "rowLimit": 10000
     },
     "inputWidgets": {},
     "nuid": "29ed3054-4879-4c88-8f36-f775ffecdfe0",
     "showTitle": false,
     "tableResultSettingsMap": {},
     "title": ""
    }
   },
   "source": [
    "**1907. Count Salary Categories (Medium)**\n",
    "\n",
    "Table: Accounts\n",
    "\n",
    "| Column Name | Type |\n",
    "|-------------|------|\n",
    "| account_id  | int  |\n",
    "| income      | int  |\n",
    "\n",
    "account_id is the primary key (column with unique values) for this table.\n",
    "Each row contains information about the monthly income for one bank account.\n",
    " \n",
    "**Write a solution to calculate the number of bank accounts for each salary category. The salary categories are:**\n",
    "- \"Low Salary\": All the salaries strictly less than $20000.\n",
    "- \"Average Salary\": All the salaries in the inclusive range [$20000, $50000].\n",
    "- \"High Salary\": All the salaries strictly greater than $50000.\n",
    "\n",
    "The result table must contain all three categories. If there are no accounts in a category, return 0.\n",
    "\n",
    "Return the result table in any order.\n",
    "\n",
    "The result format is in the following example.\n",
    "\n",
    "**Example 1:**\n",
    "\n",
    "**Input:**\n",
    "**Accounts table:**\n",
    "| account_id | income |\n",
    "|------------|--------|\n",
    "| 3          | 108939 |\n",
    "| 2          | 12747  |\n",
    "| 8          | 87709  |\n",
    "| 6          | 91796  |\n",
    "\n",
    "**Output:**\n",
    "| category       | accounts_count |\n",
    "|----------------|----------------|\n",
    "| Low Salary     | 1              |\n",
    "| Average Salary | 0              |\n",
    "| High Salary    | 3              |\n",
    "\n",
    "**Explanation:**\n",
    "- Low Salary: Account 2.\n",
    "- Average Salary: No accounts.\n",
    "- High Salary: Accounts 3, 6, and 8."
   ]
  },
  {
   "cell_type": "code",
   "execution_count": 0,
   "metadata": {
    "application/vnd.databricks.v1+cell": {
     "cellMetadata": {
      "byteLimit": 2048000,
      "rowLimit": 10000
     },
     "inputWidgets": {},
     "nuid": "64a3f754-3c0a-4ca1-af02-4d6f736ea2e9",
     "showTitle": false,
     "tableResultSettingsMap": {},
     "title": ""
    }
   },
   "outputs": [
    {
     "output_type": "stream",
     "name": "stdout",
     "output_type": "stream",
     "text": [
      "+----------+------+\n|account_id|income|\n+----------+------+\n|         3|108939|\n|         2| 12747|\n|         8| 87709|\n|         6| 91796|\n+----------+------+\n\n"
     ]
    }
   ],
   "source": [
    "accounts_data_1907 = [\n",
    "    (3, 108939),\n",
    "    (2, 12747),\n",
    "    (8, 87709),\n",
    "    (6, 91796)\n",
    "]\n",
    "\n",
    "accounts_columns_1907 = [\"account_id\", \"income\"]\n",
    "accounts_df_1907 = spark.createDataFrame(accounts_data_1907, schema=accounts_columns_1907)\n",
    "accounts_df_1907.show()"
   ]
  },
  {
   "cell_type": "code",
   "execution_count": 0,
   "metadata": {
    "application/vnd.databricks.v1+cell": {
     "cellMetadata": {
      "byteLimit": 2048000,
      "rowLimit": 10000
     },
     "inputWidgets": {},
     "nuid": "9d2f4655-9616-41bd-a04f-4be7134b2b7a",
     "showTitle": false,
     "tableResultSettingsMap": {},
     "title": ""
    }
   },
   "outputs": [],
   "source": [
    "categorized_df_1907 = accounts_df_1907\\\n",
    "                        .withColumn(\"category\",\n",
    "                                    when(col(\"income\") < 20000, lit(\"Low Salary\"))\n",
    "                                    .when((col(\"income\") >= 20000) & (col(\"income\") <= 50000), lit(\"Average Salary\"))\n",
    "                                    .otherwise(lit(\"High Salary\"))\n",
    "                                    )"
   ]
  },
  {
   "cell_type": "code",
   "execution_count": 0,
   "metadata": {
    "application/vnd.databricks.v1+cell": {
     "cellMetadata": {
      "byteLimit": 2048000,
      "rowLimit": 10000
     },
     "inputWidgets": {},
     "nuid": "479c0144-7e0c-446e-b6be-edc29d640640",
     "showTitle": false,
     "tableResultSettingsMap": {},
     "title": ""
    }
   },
   "outputs": [],
   "source": [
    "counts_df_1907 = categorized_df_1907\\\n",
    "                        .groupBy(\"category\").agg(count(\"*\").alias(\"accounts_count\"))"
   ]
  },
  {
   "cell_type": "code",
   "execution_count": 0,
   "metadata": {
    "application/vnd.databricks.v1+cell": {
     "cellMetadata": {
      "byteLimit": 2048000,
      "rowLimit": 10000
     },
     "inputWidgets": {},
     "nuid": "98581fcd-6aa6-4262-b5ee-731e83a5268e",
     "showTitle": false,
     "tableResultSettingsMap": {},
     "title": ""
    }
   },
   "outputs": [],
   "source": [
    "all_categories_df_1907 = spark.createDataFrame([(\"Low Salary\",), (\"Average Salary\",), (\"High Salary\",)],[\"category\"])"
   ]
  },
  {
   "cell_type": "code",
   "execution_count": 0,
   "metadata": {
    "application/vnd.databricks.v1+cell": {
     "cellMetadata": {
      "byteLimit": 2048000,
      "rowLimit": 10000
     },
     "inputWidgets": {},
     "nuid": "c01a13b8-513c-4723-b46a-22ab1bc04e19",
     "showTitle": false,
     "tableResultSettingsMap": {},
     "title": ""
    }
   },
   "outputs": [
    {
     "output_type": "stream",
     "name": "stdout",
     "output_type": "stream",
     "text": [
      "+--------------+--------------+\n|      category|accounts_count|\n+--------------+--------------+\n|    Low Salary|             1|\n|Average Salary|             0|\n|   High Salary|             3|\n+--------------+--------------+\n\n"
     ]
    }
   ],
   "source": [
    "all_categories_df_1907.join(counts_df_1907, \"category\", \"left\").fillna(0).show()"
   ]
  }
 ],
 "metadata": {
  "application/vnd.databricks.v1+notebook": {
   "computePreferences": {
    "hardware": {
     "accelerator": null,
     "gpuPoolId": null,
     "memory": null
    }
   },
   "dashboards": [],
   "environmentMetadata": {
    "base_environment": "",
    "environment_version": "2"
   },
   "inputWidgetPreferences": null,
   "language": "python",
   "notebookMetadata": {
    "pythonIndentUnit": 4
   },
   "notebookName": "1907. Count Salary Categories (Medium)-(Solved)",
   "widgets": {}
  },
  "language_info": {
   "name": "python"
  }
 },
 "nbformat": 4,
 "nbformat_minor": 0
}
