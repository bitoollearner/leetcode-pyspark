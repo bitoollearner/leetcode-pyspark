{
 "cells": [
  {
   "cell_type": "markdown",
   "metadata": {
    "application/vnd.databricks.v1+cell": {
     "cellMetadata": {
      "byteLimit": 2048000,
      "rowLimit": 10000
     },
     "inputWidgets": {},
     "nuid": "0ed8dffa-321f-4c46-9c26-eab4697564e1",
     "showTitle": false,
     "tableResultSettingsMap": {},
     "title": ""
    }
   },
   "source": [
    "## Importing Libraries"
   ]
  },
  {
   "cell_type": "code",
   "execution_count": 0,
   "metadata": {
    "application/vnd.databricks.v1+cell": {
     "cellMetadata": {
      "byteLimit": 2048000,
      "rowLimit": 10000
     },
     "inputWidgets": {},
     "nuid": "32262244-24bc-48fa-bd93-742430471ee1",
     "showTitle": false,
     "tableResultSettingsMap": {},
     "title": ""
    }
   },
   "outputs": [],
   "source": [
    "from pyspark.sql.functions import *\n",
    "from pyspark.sql.types import *\n",
    "from pyspark.sql.window import Window"
   ]
  },
  {
   "cell_type": "markdown",
   "metadata": {
    "application/vnd.databricks.v1+cell": {
     "cellMetadata": {
      "byteLimit": 2048000,
      "rowLimit": 10000
     },
     "inputWidgets": {},
     "nuid": "a61af395-4df3-4983-a3b7-73cf13f963ec",
     "showTitle": false,
     "tableResultSettingsMap": {},
     "title": ""
    }
   },
   "source": [
    "**181. Employees Earning More Than Their Managers (Easy)**\n",
    "\n",
    "**Table: Employee**\n",
    "\n",
    "| Column Name | Type    |\n",
    "|-------------|---------|\n",
    "| id          | int     |\n",
    "| name        | varchar |\n",
    "| salary      | int     |\n",
    "| managerId   | int     |\n",
    "\n",
    "id is the primary key (column with unique values) for this table.\n",
    "Each row of this table indicates the ID of an employee, their name, salary, and the ID of their manager.\n",
    " \n",
    "**Write a solution to find the employees who earn more than their managers.**\n",
    "\n",
    "Return the result table in any order.\n",
    "\n",
    "The result format is in the following example.\n",
    "\n",
    "**Example 1:**\n",
    "\n",
    "**Input:**\n",
    "**Employee table:**\n",
    "\n",
    "| id | name  | salary | managerId |\n",
    "|----|-------|--------|-----------|\n",
    "| 1  | Joe   | 70000  | 3         |\n",
    "| 2  | Henry | 80000  | 4         |\n",
    "| 3  | Sam   | 60000  | Null      |\n",
    "| 4  | Max   | 90000  | Null      |\n",
    "\n",
    "**Output:**\n",
    "| Employee |\n",
    "|----------|\n",
    "| Joe      |\n",
    "\n",
    "**Explanation:** Joe is the only employee who earns more than his manager."
   ]
  },
  {
   "cell_type": "code",
   "execution_count": 0,
   "metadata": {
    "application/vnd.databricks.v1+cell": {
     "cellMetadata": {
      "byteLimit": 2048000,
      "rowLimit": 10000
     },
     "inputWidgets": {},
     "nuid": "99c4df4a-77b6-4154-96d0-151cf203b1f6",
     "showTitle": false,
     "tableResultSettingsMap": {},
     "title": ""
    }
   },
   "outputs": [
    {
     "output_type": "stream",
     "name": "stdout",
     "output_type": "stream",
     "text": [
      "+---+-----+------+---------+\n| id| name|salary|managerId|\n+---+-----+------+---------+\n|  1|  Joe| 70000|        3|\n|  2|Henry| 80000|        4|\n|  3|  Sam| 60000|     NULL|\n|  4|  Max| 90000|     NULL|\n+---+-----+------+---------+\n\n"
     ]
    }
   ],
   "source": [
    "data_181 = [\n",
    "    (1, \"Joe\", 70000, 3),\n",
    "    (2, \"Henry\", 80000, 4),\n",
    "    (3, \"Sam\", 60000, None),\n",
    "    (4, \"Max\", 90000, None)\n",
    "]\n",
    "\n",
    "columns_181 = [\"id\", \"name\", \"salary\", \"managerId\"]\n",
    "df_181 = spark.createDataFrame(data_181, columns_181)\n",
    "df_181_left = spark.createDataFrame(data_181, columns_181)\n",
    "df_181.show()"
   ]
  },
  {
   "cell_type": "code",
   "execution_count": 0,
   "metadata": {
    "application/vnd.databricks.v1+cell": {
     "cellMetadata": {
      "byteLimit": 2048000,
      "rowLimit": 10000
     },
     "inputWidgets": {},
     "nuid": "da2b374d-5e36-43fd-8969-724522810032",
     "showTitle": false,
     "tableResultSettingsMap": {},
     "title": ""
    }
   },
   "outputs": [
    {
     "output_type": "stream",
     "name": "stdout",
     "output_type": "stream",
     "text": [
      "+----+\n|name|\n+----+\n| Joe|\n+----+\n\n"
     ]
    }
   ],
   "source": [
    "df_181\\\n",
    "    .join(df_181_left, df_181.managerId == df_181_left.id)\\\n",
    "        .select(df_181[\"name\"])\\\n",
    "            .filter(df_181[\"salary\"] > df_181_left[\"salary\"]).show()"
   ]
  }
 ],
 "metadata": {
  "application/vnd.databricks.v1+notebook": {
   "computePreferences": {
    "hardware": {
     "accelerator": null,
     "gpuPoolId": null,
     "memory": null
    }
   },
   "dashboards": [],
   "environmentMetadata": {
    "base_environment": "",
    "environment_version": "2"
   },
   "inputWidgetPreferences": null,
   "language": "python",
   "notebookMetadata": {
    "pythonIndentUnit": 4
   },
   "notebookName": "181. Employees Earning More Than Their Managers (Easy)-(Solved)",
   "widgets": {}
  },
  "language_info": {
   "name": "python"
  }
 },
 "nbformat": 4,
 "nbformat_minor": 0
}
