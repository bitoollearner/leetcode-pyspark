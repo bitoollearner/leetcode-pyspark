{
 "cells": [
  {
   "cell_type": "markdown",
   "metadata": {
    "application/vnd.databricks.v1+cell": {
     "cellMetadata": {
      "byteLimit": 2048000,
      "rowLimit": 10000
     },
     "inputWidgets": {},
     "nuid": "a23f6d56-6d8d-44bc-b796-cedda9e17c21",
     "showTitle": false,
     "tableResultSettingsMap": {},
     "title": ""
    }
   },
   "source": [
    "## Importing Libraries"
   ]
  },
  {
   "cell_type": "code",
   "execution_count": 0,
   "metadata": {
    "application/vnd.databricks.v1+cell": {
     "cellMetadata": {
      "byteLimit": 2048000,
      "rowLimit": 10000
     },
     "inputWidgets": {},
     "nuid": "0a69d78b-43d7-4f9e-a05d-026985c2539f",
     "showTitle": false,
     "tableResultSettingsMap": {},
     "title": ""
    }
   },
   "outputs": [],
   "source": [
    "from pyspark.sql.functions import *\n",
    "from pyspark.sql.types import *\n",
    "from pyspark.sql.window import Window"
   ]
  },
  {
   "cell_type": "markdown",
   "metadata": {
    "application/vnd.databricks.v1+cell": {
     "cellMetadata": {
      "byteLimit": 2048000,
      "rowLimit": 10000
     },
     "inputWidgets": {},
     "nuid": "2a54b88b-06bd-43e4-978a-c0c5d33ca5bb",
     "showTitle": false,
     "tableResultSettingsMap": {},
     "title": ""
    }
   },
   "source": [
    "**2118. Build the Equation (Hard)**\n",
    "\n",
    "**Table: Terms**\n",
    "\n",
    "| Column Name | Type |\n",
    "|-------------|------|\n",
    "| power       | int  |\n",
    "| factor      | int  |\n",
    "\n",
    "power is the column with unique values for this table.\n",
    "Each row of this table contains information about one term of the equation.\n",
    "power is an integer in the range [0, 100].\n",
    "factor is an integer in the range [-100, 100] and cannot be zero.\n",
    " \n",
    "You have a very powerful program that can solve any equation of one variable in the world. The equation passed to the program must be formatted as follows:\n",
    "- The left-hand side (LHS) should contain all the terms.\n",
    "- The right-hand side (RHS) should be zero.\n",
    "- Each term of the LHS should follow the format \"<sign><fact>X^<pow>\" where:\n",
    "  - <sign> is either \"+\" or \"-\".\n",
    "  - <fact> is the absolute value of the factor.\n",
    "  - <pow> is the value of the power.\n",
    "- If the power is 1, do not add \"^<pow>\".\n",
    "  - For example, if power = 1 and factor = 3, the term will be \"+3X\".\n",
    "- If the power is 0, add neither \"X\" nor \"^<pow>\".\n",
    "  - For example, if power = 0 and factor = -3, the term will be \"-3\".\n",
    "- The powers in the LHS should be sorted in descending order.\n",
    "\n",
    "**Write a solution to build the equation.**\n",
    "\n",
    "The result format is in the following example.\n",
    "\n",
    "**Example 1:**\n",
    "\n",
    "**Input:** \n",
    "\n",
    "**Terms table:**\n",
    "\n",
    "| power | factor |\n",
    "|-------|--------|\n",
    "| 2     | 1      |\n",
    "| 1     | -4     |\n",
    "| 0     | 2      |\n",
    "\n",
    "**Output:** \n",
    "| equation     |\n",
    "|--------------|\n",
    "| +1X^2-4X+2=0 |\n",
    "\n",
    "**Example 2:**\n",
    "\n",
    "**Input:** \n",
    "\n",
    "**Terms table:**\n",
    "\n",
    "| power | factor |\n",
    "|-------|--------|\n",
    "| 4     | -4     |\n",
    "| 2     | 1      |\n",
    "| 1     | -1     |\n",
    "\n",
    "**Output:** \n",
    "| equation        |\n",
    "|-----------------|\n",
    "| -4X^4+1X^2-1X=0 |\n",
    " \n",
    "**Follow up:** What will be changed in your solution if the power is not a primary key but each power should be unique in the answer?"
   ]
  },
  {
   "cell_type": "code",
   "execution_count": 0,
   "metadata": {
    "application/vnd.databricks.v1+cell": {
     "cellMetadata": {
      "byteLimit": 2048000,
      "rowLimit": 10000
     },
     "inputWidgets": {},
     "nuid": "c260f510-542b-4067-a6f4-ffed86995056",
     "showTitle": false,
     "tableResultSettingsMap": {},
     "title": ""
    }
   },
   "outputs": [
    {
     "output_type": "stream",
     "name": "stdout",
     "output_type": "stream",
     "text": [
      "+-----+------+\n|power|factor|\n+-----+------+\n|    2|     1|\n|    1|    -4|\n|    0|     2|\n+-----+------+\n\n"
     ]
    }
   ],
   "source": [
    "terms_data_2118 = [\n",
    "    (2, 1),\n",
    "    (1, -4),\n",
    "    (0, 2)\n",
    "]\n",
    "\n",
    "terms_columns_2118 = [\"power\", \"factor\"]\n",
    "\n",
    "terms_df_2118 = spark.createDataFrame(terms_data_2118, terms_columns_2118)\n",
    "terms_df_2118.show()"
   ]
  },
  {
   "cell_type": "code",
   "execution_count": 0,
   "metadata": {
    "application/vnd.databricks.v1+cell": {
     "cellMetadata": {
      "byteLimit": 2048000,
      "rowLimit": 10000
     },
     "inputWidgets": {},
     "nuid": "12ff0f48-924e-4a74-98ea-4b57ddb77b9e",
     "showTitle": false,
     "tableResultSettingsMap": {},
     "title": ""
    }
   },
   "outputs": [],
   "source": [
    "df_terms_2118 = terms_df_2118\\\n",
    "                    .withColumn( \"term\",\n",
    "                                concat(\n",
    "                                    when(col(\"factor\") > 0, lit(\"+\")).otherwise(lit(\"\")),col(\"factor\"),\n",
    "                                    when(col(\"power\") == 0, lit(\"\"))\n",
    "                                    .when(col(\"power\") == 1, lit(\"X\"))\n",
    "                                    .otherwise(concat(lit(\"X^\"), col(\"power\")))\n",
    "                                    )\n",
    "                                )"
   ]
  },
  {
   "cell_type": "code",
   "execution_count": 0,
   "metadata": {
    "application/vnd.databricks.v1+cell": {
     "cellMetadata": {
      "byteLimit": 2048000,
      "rowLimit": 10000
     },
     "inputWidgets": {},
     "nuid": "f4e51909-d194-4ecd-adef-4a19d4718a79",
     "showTitle": false,
     "tableResultSettingsMap": {},
     "title": ""
    }
   },
   "outputs": [],
   "source": [
    "df_terms_2118 = df_terms_2118.orderBy(col(\"power\").desc())"
   ]
  },
  {
   "cell_type": "code",
   "execution_count": 0,
   "metadata": {
    "application/vnd.databricks.v1+cell": {
     "cellMetadata": {
      "byteLimit": 2048000,
      "rowLimit": 10000
     },
     "inputWidgets": {},
     "nuid": "a9518e2b-620f-43f4-ae1f-4f140ed189bf",
     "showTitle": false,
     "tableResultSettingsMap": {},
     "title": ""
    }
   },
   "outputs": [
    {
     "output_type": "stream",
     "name": "stdout",
     "output_type": "stream",
     "text": [
      "+------------+\n|    equation|\n+------------+\n|+1X^2-4X+2=0|\n+------------+\n\n"
     ]
    }
   ],
   "source": [
    "df_terms_2118\\\n",
    "    .select(\n",
    "        concat_ws(\"\", collect_list(\"term\")).alias(\"lhs\"))\\\n",
    "            .withColumn(\"equation\", concat(col(\"lhs\"), lit(\"=0\"))) \\\n",
    "                .select(\"equation\").show()"
   ]
  }
 ],
 "metadata": {
  "application/vnd.databricks.v1+notebook": {
   "computePreferences": {
    "hardware": {
     "accelerator": null,
     "gpuPoolId": null,
     "memory": null
    }
   },
   "dashboards": [],
   "environmentMetadata": {
    "base_environment": "",
    "environment_version": "2"
   },
   "inputWidgetPreferences": null,
   "language": "python",
   "notebookMetadata": {
    "pythonIndentUnit": 4
   },
   "notebookName": "2118. Build the Equation (Hard)-(Solved)",
   "widgets": {}
  },
  "language_info": {
   "name": "python"
  }
 },
 "nbformat": 4,
 "nbformat_minor": 0
}
