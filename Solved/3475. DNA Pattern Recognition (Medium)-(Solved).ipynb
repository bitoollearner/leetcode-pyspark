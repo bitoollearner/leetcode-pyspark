{
 "cells": [
  {
   "cell_type": "markdown",
   "metadata": {
    "application/vnd.databricks.v1+cell": {
     "cellMetadata": {
      "byteLimit": 2048000,
      "rowLimit": 10000
     },
     "inputWidgets": {},
     "nuid": "7d1791bd-9552-4116-90b2-daa678bbffb8",
     "showTitle": false,
     "tableResultSettingsMap": {},
     "title": ""
    }
   },
   "source": [
    "## Importing Libraries"
   ]
  },
  {
   "cell_type": "code",
   "execution_count": 0,
   "metadata": {
    "application/vnd.databricks.v1+cell": {
     "cellMetadata": {
      "byteLimit": 2048000,
      "rowLimit": 10000
     },
     "inputWidgets": {},
     "nuid": "2901fbc9-49db-4285-8b94-c460f34d4c4f",
     "showTitle": false,
     "tableResultSettingsMap": {},
     "title": ""
    }
   },
   "outputs": [],
   "source": [
    "from pyspark.sql.functions import *\n",
    "from pyspark.sql.types import *\n",
    "from pyspark.sql.window import Window"
   ]
  },
  {
   "cell_type": "markdown",
   "metadata": {
    "application/vnd.databricks.v1+cell": {
     "cellMetadata": {
      "byteLimit": 2048000,
      "rowLimit": 10000
     },
     "inputWidgets": {},
     "nuid": "655120e7-6b25-417c-a08a-c6925feaa425",
     "showTitle": false,
     "tableResultSettingsMap": {},
     "title": ""
    }
   },
   "source": [
    "**3475. DNA Pattern Recognition (Medium)**\n",
    "\n",
    "**Table: Samples**\n",
    "\n",
    "| Column Name    | Type    | \n",
    "|----------------|---------|\n",
    "| sample_id      | int     |\n",
    "| dna_sequence   | varchar |\n",
    "| species        | varchar |\n",
    "\n",
    "sample_id is the unique key for this table.\n",
    "Each row contains a DNA sequence represented as a string of characters (A, T, G, C) and the species it was collected from.\n",
    "\n",
    "**Biologists are studying basic patterns in DNA sequences. Write a solution to identify sample_id with the following patterns:**\n",
    "- Sequences that start with ATG (a common start codon)\n",
    "- Sequences that end with either TAA, TAG, or TGA (stop codons)\n",
    "- Sequences containing the motif ATAT (a simple repeated pattern)\n",
    "- Sequences that have at least 3 consecutive G (like GGG or GGGG)\n",
    "\n",
    "Return the result table ordered by sample_id in ascending order.\n",
    "\n",
    "The result format is in the following example.\n",
    "\n",
    "**Example:**\n",
    "\n",
    "**Input:**\n",
    "\n",
    "**Samples table:**\n",
    "\n",
    "| sample_id | dna_sequence     | species   |\n",
    "|-----------|------------------|-----------|\n",
    "| 1         | ATGCTAGCTAGCTAA  | Human     |\n",
    "| 2         | GGGTCAATCATC     | Human     |\n",
    "| 3         | ATATATCGTAGCTA   | Human     |\n",
    "| 4         | ATGGGGTCATCATAA  | Mouse     |\n",
    "| 5         | TCAGTCAGTCAG     | Mouse     |\n",
    "| 6         | ATATCGCGCTAG     | Zebrafish |\n",
    "| 7         | CGTATGCGTCGTA    | Zebrafish |\n",
    "\n",
    "**Output:**\n",
    "| sample_id | dna_sequence     | species     | has_start   | has_stop   | has_atat   | has_ggg    |\n",
    "|-----------|------------------|-------------|-------------|------------|------------|------------|\n",
    "| 1         | ATGCTAGCTAGCTAA  | Human       | 1           | 1          | 0          | 0          |\n",
    "| 2         | GGGTCAATCATC     | Human       | 0           | 0          | 0          | 1          |\n",
    "| 3         | ATATATCGTAGCTA   | Human       | 0           | 0          | 1          | 0          |\n",
    "| 4         | ATGGGGTCATCATAA  | Mouse       | 1           | 1          | 0          | 1          |\n",
    "| 5         | TCAGTCAGTCAG     | Mouse       | 0           | 0          | 0          | 0          |\n",
    "| 6         | ATATCGCGCTAG     | Zebrafish   | 0           | 1          | 1          | 0          |\n",
    "| 7         | CGTATGCGTCGTA    | Zebrafish   | 0           | 0          | 0          | 0          |\n",
    "\n",
    "\n",
    "**Explanation:**\n",
    "- Sample 1 (ATGCTAGCTAGCTAA):\n",
    "  - Starts with ATG (has_start = 1)\n",
    "  - Ends with TAA (has_stop = 1)\n",
    "  - Does not contain ATAT (has_atat = 0)\n",
    "  - Does not contain at least 3 consecutive 'G's (has_ggg = 0)\n",
    "- Sample 2 (GGGTCAATCATC):\n",
    "  - Does not start with ATG (has_start = 0)\n",
    "  - Does not end with TAA, TAG, or TGA (has_stop = 0)\n",
    "  - Does not contain ATAT (has_atat = 0)\n",
    "  - Contains GGG (has_ggg = 1)\n",
    "- Sample 3 (ATATATCGTAGCTA):\n",
    "  - Does not start with ATG (has_start = 0)\n",
    "  - Does not end with TAA, TAG, or TGA (has_stop = 0)\n",
    "  - Contains ATAT (has_atat = 1)\n",
    "  - Does not contain at least 3 consecutive 'G's (has_ggg = 0)\n",
    "- Sample 4 (ATGGGGTCATCATAA):\n",
    "  - Starts with ATG (has_start = 1)\n",
    "  - Ends with TAA (has_stop = 1)\n",
    "  - Does not contain ATAT (has_atat = 0)\n",
    "  - Contains GGGG (has_ggg = 1)\n",
    "- Sample 5 (TCAGTCAGTCAG):\n",
    "  - Does not match any patterns (all fields = 0)\n",
    "- Sample 6 (ATATCGCGCTAG):\n",
    "  - Does not start with ATG (has_start = 0)\n",
    "  - Ends with TAG (has_stop = 1)\n",
    "  - Starts with ATAT (has_atat = 1)\n",
    "  - Does not contain at least 3 consecutive 'G's (has_ggg = 0)\n",
    "- Sample 7 (CGTATGCGTCGTA):\n",
    "  - Does not start with ATG (has_start = 0)\n",
    "  - Does not end with TAA, \"TAG\", or \"TGA\" (has_stop = 0)\n",
    "  - Does not contain ATAT (has_atat = 0)\n",
    "  - Does not contain at least 3 consecutive 'G's (has_ggg = 0)\n",
    "\n",
    "**Note:**\n",
    "- The result is ordered by sample_id in ascending order\n",
    "- For each pattern, 1 indicates the pattern is present and 0 indicates it is not present"
   ]
  },
  {
   "cell_type": "code",
   "execution_count": 0,
   "metadata": {
    "application/vnd.databricks.v1+cell": {
     "cellMetadata": {
      "byteLimit": 2048000,
      "rowLimit": 10000
     },
     "inputWidgets": {},
     "nuid": "a2368434-0191-416c-aa1d-12cd44cf48e6",
     "showTitle": false,
     "tableResultSettingsMap": {},
     "title": ""
    }
   },
   "outputs": [
    {
     "output_type": "stream",
     "name": "stdout",
     "output_type": "stream",
     "text": [
      "+---------+---------------+---------+\n|sample_id|   dna_sequence|  species|\n+---------+---------------+---------+\n|        1|ATGCTAGCTAGCTAA|    Human|\n|        2|   GGGTCAATCATC|    Human|\n|        3| ATATATCGTAGCTA|    Human|\n|        4|ATGGGGTCATCATAA|    Mouse|\n|        5|   TCAGTCAGTCAG|    Mouse|\n|        6|   ATATCGCGCTAG|Zebrafish|\n|        7|  CGTATGCGTCGTA|Zebrafish|\n+---------+---------------+---------+\n\n"
     ]
    }
   ],
   "source": [
    "samples_data_3475 = [\n",
    "    (1, \"ATGCTAGCTAGCTAA\", \"Human\"),\n",
    "    (2, \"GGGTCAATCATC\", \"Human\"),\n",
    "    (3, \"ATATATCGTAGCTA\", \"Human\"),\n",
    "    (4, \"ATGGGGTCATCATAA\", \"Mouse\"),\n",
    "    (5, \"TCAGTCAGTCAG\", \"Mouse\"),\n",
    "    (6, \"ATATCGCGCTAG\", \"Zebrafish\"),\n",
    "    (7, \"CGTATGCGTCGTA\", \"Zebrafish\"),\n",
    "]\n",
    "\n",
    "samples_columns_3475 = [\"sample_id\", \"dna_sequence\", \"species\"]\n",
    "samples_df_3475 = spark.createDataFrame(samples_data_3475, samples_columns_3475)\n",
    "samples_df_3475.show()"
   ]
  },
  {
   "cell_type": "code",
   "execution_count": 0,
   "metadata": {
    "application/vnd.databricks.v1+cell": {
     "cellMetadata": {
      "byteLimit": 2048000,
      "rowLimit": 10000
     },
     "inputWidgets": {},
     "nuid": "f79c66b9-3b36-4a09-abb4-9d6e41516eab",
     "showTitle": false,
     "tableResultSettingsMap": {},
     "title": ""
    }
   },
   "outputs": [
    {
     "output_type": "display_data",
     "data": {
      "text/html": [
       "<style scoped>\n",
       "  .table-result-container {\n",
       "    max-height: 300px;\n",
       "    overflow: auto;\n",
       "  }\n",
       "  table, th, td {\n",
       "    border: 1px solid black;\n",
       "    border-collapse: collapse;\n",
       "  }\n",
       "  th, td {\n",
       "    padding: 5px;\n",
       "  }\n",
       "  th {\n",
       "    text-align: left;\n",
       "  }\n",
       "</style><div class='table-result-container'><table class='table-result'><thead style='background-color: white'><tr><th>sample_id</th><th>dna_sequence</th><th>species</th><th>has_start</th><th>has_stop</th><th>has_atat</th><th>has_ggg</th></tr></thead><tbody><tr><td>1</td><td>ATGCTAGCTAGCTAA</td><td>Human</td><td>1</td><td>1</td><td>0</td><td>0</td></tr><tr><td>2</td><td>GGGTCAATCATC</td><td>Human</td><td>0</td><td>0</td><td>0</td><td>1</td></tr><tr><td>3</td><td>ATATATCGTAGCTA</td><td>Human</td><td>0</td><td>0</td><td>1</td><td>0</td></tr><tr><td>4</td><td>ATGGGGTCATCATAA</td><td>Mouse</td><td>1</td><td>1</td><td>0</td><td>1</td></tr><tr><td>5</td><td>TCAGTCAGTCAG</td><td>Mouse</td><td>0</td><td>0</td><td>0</td><td>0</td></tr><tr><td>6</td><td>ATATCGCGCTAG</td><td>Zebrafish</td><td>0</td><td>1</td><td>1</td><td>0</td></tr><tr><td>7</td><td>CGTATGCGTCGTA</td><td>Zebrafish</td><td>0</td><td>0</td><td>0</td><td>0</td></tr></tbody></table></div>"
      ]
     },
     "metadata": {
      "application/vnd.databricks.v1+output": {
       "addedWidgets": {},
       "aggData": [],
       "aggError": "",
       "aggOverflow": false,
       "aggSchema": [],
       "aggSeriesLimitReached": false,
       "aggType": "",
       "arguments": {},
       "columnCustomDisplayInfos": {},
       "data": [
        [
         1,
         "ATGCTAGCTAGCTAA",
         "Human",
         1,
         1,
         0,
         0
        ],
        [
         2,
         "GGGTCAATCATC",
         "Human",
         0,
         0,
         0,
         1
        ],
        [
         3,
         "ATATATCGTAGCTA",
         "Human",
         0,
         0,
         1,
         0
        ],
        [
         4,
         "ATGGGGTCATCATAA",
         "Mouse",
         1,
         1,
         0,
         1
        ],
        [
         5,
         "TCAGTCAGTCAG",
         "Mouse",
         0,
         0,
         0,
         0
        ],
        [
         6,
         "ATATCGCGCTAG",
         "Zebrafish",
         0,
         1,
         1,
         0
        ],
        [
         7,
         "CGTATGCGTCGTA",
         "Zebrafish",
         0,
         0,
         0,
         0
        ]
       ],
       "datasetInfos": [],
       "dbfsResultPath": null,
       "isJsonSchema": true,
       "metadata": {},
       "overflow": false,
       "plotOptions": {
        "customPlotOptions": {},
        "displayType": "table",
        "pivotAggregation": null,
        "pivotColumns": null,
        "xColumns": null,
        "yColumns": null
       },
       "removedWidgets": [],
       "schema": [
        {
         "metadata": "{}",
         "name": "sample_id",
         "type": "\"long\""
        },
        {
         "metadata": "{}",
         "name": "dna_sequence",
         "type": "\"string\""
        },
        {
         "metadata": "{}",
         "name": "species",
         "type": "\"string\""
        },
        {
         "metadata": "{}",
         "name": "has_start",
         "type": "\"integer\""
        },
        {
         "metadata": "{}",
         "name": "has_stop",
         "type": "\"integer\""
        },
        {
         "metadata": "{}",
         "name": "has_atat",
         "type": "\"integer\""
        },
        {
         "metadata": "{}",
         "name": "has_ggg",
         "type": "\"integer\""
        }
       ],
       "type": "table"
      }
     },
     "output_type": "display_data"
    }
   ],
   "source": [
    "samples_df_3475\\\n",
    "    .withColumn( \"has_start\", when(col(\"dna_sequence\").rlike(\"^ATG\"), 1).otherwise(0))\\\n",
    "        .withColumn( \"has_stop\", when(col(\"dna_sequence\").rlike(\"(TAA|TAG|TGA)$\"), 1).otherwise(0))\\\n",
    "            .withColumn( \"has_atat\", when(col(\"dna_sequence\").rlike(\"ATAT\"), 1).otherwise(0))\\\n",
    "                .withColumn( \"has_ggg\", when(col(\"dna_sequence\").rlike(\"G{3,}\"), 1).otherwise(0))\\\n",
    "                    .orderBy(\"sample_id\").display()"
   ]
  }
 ],
 "metadata": {
  "application/vnd.databricks.v1+notebook": {
   "computePreferences": {
    "hardware": {
     "accelerator": null,
     "gpuPoolId": null,
     "memory": null
    }
   },
   "dashboards": [],
   "environmentMetadata": {
    "base_environment": "",
    "environment_version": "2"
   },
   "inputWidgetPreferences": null,
   "language": "python",
   "notebookMetadata": {
    "pythonIndentUnit": 4
   },
   "notebookName": "3475. DNA Pattern Recognition (Medium)-(Solved)",
   "widgets": {}
  },
  "language_info": {
   "name": "python"
  }
 },
 "nbformat": 4,
 "nbformat_minor": 0
}
