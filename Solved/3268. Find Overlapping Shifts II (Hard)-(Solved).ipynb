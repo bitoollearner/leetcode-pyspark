{
 "cells": [
  {
   "cell_type": "markdown",
   "metadata": {
    "application/vnd.databricks.v1+cell": {
     "cellMetadata": {
      "byteLimit": 2048000,
      "rowLimit": 10000
     },
     "inputWidgets": {},
     "nuid": "7d1791bd-9552-4116-90b2-daa678bbffb8",
     "showTitle": false,
     "tableResultSettingsMap": {},
     "title": ""
    }
   },
   "source": [
    "## Importing Libraries"
   ]
  },
  {
   "cell_type": "code",
   "execution_count": 0,
   "metadata": {
    "application/vnd.databricks.v1+cell": {
     "cellMetadata": {
      "byteLimit": 2048000,
      "rowLimit": 10000
     },
     "inputWidgets": {},
     "nuid": "2901fbc9-49db-4285-8b94-c460f34d4c4f",
     "showTitle": false,
     "tableResultSettingsMap": {},
     "title": ""
    }
   },
   "outputs": [],
   "source": [
    "from pyspark.sql.functions import *\n",
    "from pyspark.sql.types import *\n",
    "from pyspark.sql.window import Window"
   ]
  },
  {
   "cell_type": "markdown",
   "metadata": {
    "application/vnd.databricks.v1+cell": {
     "cellMetadata": {
      "byteLimit": 2048000,
      "rowLimit": 10000
     },
     "inputWidgets": {},
     "nuid": "655120e7-6b25-417c-a08a-c6925feaa425",
     "showTitle": false,
     "tableResultSettingsMap": {},
     "title": ""
    }
   },
   "source": [
    "**3268. Find Overlapping Shifts II (Hard)**\n",
    "\n",
    "**Table: EmployeeShifts**\n",
    "\n",
    "| Column Name      | Type     |\n",
    "|------------------|----------|\n",
    "| employee_id      | int      |\n",
    "| start_time       | datetime |\n",
    "| end_time         | datetime |\n",
    "\n",
    "(employee_id, start_time) is the unique key for this table.\n",
    "This table contains information about the shifts worked by employees, including the start time, and end time.\n",
    "\n",
    "**Write a solution to analyze overlapping shifts for each employee. Two shifts are considered overlapping if they occur on the same date and one shift's end_time is later than another shift's start_time.**\n",
    "\n",
    "For each employee, calculate the following:\n",
    "- The maximum number of shifts that overlap at any given time.\n",
    "- The total duration of all overlaps in minutes.\n",
    "\n",
    "Return the result table ordered by employee_id in ascending order.\n",
    "\n",
    "The query result format is in the following example.\n",
    "\n",
    "**Example:**\n",
    "\n",
    "**Input:**\n",
    "\n",
    "**EmployeeShifts table:**\n",
    "\n",
    "| employee_id | start_time          | end_time            |\n",
    "|-------------|---------------------|---------------------|\n",
    "| 1           | 2023-10-01 09:00:00 | 2023-10-01 17:00:00 |\n",
    "| 1           | 2023-10-01 15:00:00 | 2023-10-01 23:00:00 |\n",
    "| 1           | 2023-10-01 16:00:00 | 2023-10-02 00:00:00 |\n",
    "| 2           | 2023-10-01 09:00:00 | 2023-10-01 17:00:00 |\n",
    "| 2           | 2023-10-01 11:00:00 | 2023-10-01 19:00:00 |\n",
    "| 3           | 2023-10-01 09:00:00 | 2023-10-01 17:00:00 |\n",
    "\n",
    "**Output:**\n",
    "\n",
    "| employee_id | max_overlapping_shifts    | total_overlap_duration |\n",
    "|-------------|---------------------------|------------------------|\n",
    "| 1           | 3                         | 600                    |\n",
    "| 2           | 2                         | 360                    |\n",
    "| 3           | 1                         | 0                      |\n",
    "\n",
    "\n",
    "**Explanation:**\n",
    "- Employee 1 has 3 shifts:\n",
    "  - 2023-10-01 09:00:00 to 2023-10-01 17:00:00\n",
    "  - 2023-10-01 15:00:00 to 2023-10-01 23:00:00\n",
    "  - 2023-10-01 16:00:00 to 2023-10-02 00:00:00\n",
    "\n",
    "The maximum number of overlapping shifts is 3 (from 16:00 to 17:00). The total overlap duration is: - 2 hours (15:00-17:00) between 1st and 2nd shifts - 1 hour (16:00-17:00) between 1st and 3rd shifts - 7 hours (16:00-23:00) between 2nd and 3rd shifts Total: 10 hours = 600 minutes\n",
    "\n",
    "- Employee 2 has 2 shifts:\n",
    "  - 2023-10-01 09:00:00 to 2023-10-01 17:00:00\n",
    "  - 2023-10-01 11:00:00 to 2023-10-01 19:00:00\n",
    "\n",
    "The maximum number of overlapping shifts is 2. The total overlap duration is 6 hours (11:00-17:00) = 360 minutes.\n",
    "- Employee 3 has only 1 shift, so there are no overlaps.\n",
    "\n",
    "The output table contains the employee_id, the maximum number of simultaneous overlaps, and the total overlap duration in minutes for each employee, ordered by employee_id in ascending order."
   ]
  },
  {
   "cell_type": "code",
   "execution_count": 0,
   "metadata": {
    "application/vnd.databricks.v1+cell": {
     "cellMetadata": {
      "byteLimit": 2048000,
      "rowLimit": 10000
     },
     "inputWidgets": {},
     "nuid": "a2368434-0191-416c-aa1d-12cd44cf48e6",
     "showTitle": false,
     "tableResultSettingsMap": {},
     "title": ""
    }
   },
   "outputs": [
    {
     "output_type": "stream",
     "name": "stdout",
     "output_type": "stream",
     "text": [
      "+-----------+-------------------+-------------------+\n|employee_id|         start_time|           end_time|\n+-----------+-------------------+-------------------+\n|          1|2023-10-01 09:00:00|2023-10-01 17:00:00|\n|          1|2023-10-01 15:00:00|2023-10-01 23:00:00|\n|          1|2023-10-01 16:00:00|2023-10-02 00:00:00|\n|          2|2023-10-01 09:00:00|2023-10-01 17:00:00|\n|          2|2023-10-01 11:00:00|2023-10-01 19:00:00|\n|          3|2023-10-01 09:00:00|2023-10-01 17:00:00|\n+-----------+-------------------+-------------------+\n\n"
     ]
    }
   ],
   "source": [
    "shifts_data_3268 = [\n",
    "    (1, \"2023-10-01 09:00:00\", \"2023-10-01 17:00:00\"),\n",
    "    (1, \"2023-10-01 15:00:00\", \"2023-10-01 23:00:00\"),\n",
    "    (1, \"2023-10-01 16:00:00\", \"2023-10-02 00:00:00\"),\n",
    "    (2, \"2023-10-01 09:00:00\", \"2023-10-01 17:00:00\"),\n",
    "    (2, \"2023-10-01 11:00:00\", \"2023-10-01 19:00:00\"),\n",
    "    (3, \"2023-10-01 09:00:00\", \"2023-10-01 17:00:00\")\n",
    "]\n",
    "\n",
    "shifts_columns_3268 = [\"employee_id\", \"start_time\", \"end_time\"]\n",
    "shifts_df_3268 = spark.createDataFrame(shifts_data_3268, shifts_columns_3268)\n",
    "shifts_df_3268.show()"
   ]
  },
  {
   "cell_type": "code",
   "execution_count": 0,
   "metadata": {
    "application/vnd.databricks.v1+cell": {
     "cellMetadata": {
      "byteLimit": 2048000,
      "rowLimit": 10000
     },
     "inputWidgets": {},
     "nuid": "685375e8-ca8b-4eab-a327-d4f0c839dc7d",
     "showTitle": false,
     "tableResultSettingsMap": {},
     "title": ""
    }
   },
   "outputs": [],
   "source": [
    "shifts_df_3268 = shifts_df_3268\\\n",
    "                    .withColumn(\"start_time\", col(\"start_time\").cast(\"timestamp\"))\\\n",
    "                        .withColumn(\"end_time\", col(\"end_time\").cast(\"timestamp\"))"
   ]
  },
  {
   "cell_type": "code",
   "execution_count": 0,
   "metadata": {
    "application/vnd.databricks.v1+cell": {
     "cellMetadata": {
      "byteLimit": 2048000,
      "rowLimit": 10000
     },
     "inputWidgets": {},
     "nuid": "b7ab470b-c3a4-4bac-88f2-3c39f1788ce2",
     "showTitle": false,
     "tableResultSettingsMap": {},
     "title": ""
    }
   },
   "outputs": [],
   "source": [
    "shifts_df_3268 = shifts_df_3268\\\n",
    "                    .withColumn(\"start_date\", to_date(\"start_time\"))\\\n",
    "                        .withColumn(\"end_date\",   to_date(\"end_time\"))\\\n",
    "                            .withColumn(\"date\", explode(sequence(col(\"start_date\"), col(\"end_date\"))))"
   ]
  },
  {
   "cell_type": "code",
   "execution_count": 0,
   "metadata": {
    "application/vnd.databricks.v1+cell": {
     "cellMetadata": {
      "byteLimit": 2048000,
      "rowLimit": 10000
     },
     "inputWidgets": {},
     "nuid": "0bcd69f1-01d6-4eb4-a303-f75e4e9a119a",
     "showTitle": false,
     "tableResultSettingsMap": {},
     "title": ""
    }
   },
   "outputs": [],
   "source": [
    "start_of_day = to_timestamp(concat(col(\"date\").cast(\"string\"), lit(\" 00:00:00\")))\n",
    "start_of_next_day = to_timestamp(concat(date_add(col(\"date\"), 1).cast(\"string\"), lit(\" 00:00:00\")))"
   ]
  },
  {
   "cell_type": "code",
   "execution_count": 0,
   "metadata": {
    "application/vnd.databricks.v1+cell": {
     "cellMetadata": {
      "byteLimit": 2048000,
      "rowLimit": 10000
     },
     "inputWidgets": {},
     "nuid": "d06490de-a646-4b60-96f5-73f6424694ae",
     "showTitle": false,
     "tableResultSettingsMap": {},
     "title": ""
    }
   },
   "outputs": [],
   "source": [
    "segments_3268 = shifts_df_3268\\\n",
    "                    .withColumn(\"seg_start\", greatest(col(\"start_time\"), start_of_day))\\\n",
    "                        .withColumn(\"seg_end\",   least(col(\"end_time\"), start_of_next_day))\\\n",
    "                            .where(col(\"seg_start\") < col(\"seg_end\"))\\\n",
    "                                .select(\n",
    "                                    col(\"employee_id\"),\n",
    "                                    col(\"date\"),\n",
    "                                    col(\"seg_start\").alias(\"start_ts\"),\n",
    "                                    col(\"seg_end\").alias(\"end_ts\")\n",
    "                                    )"
   ]
  },
  {
   "cell_type": "code",
   "execution_count": 0,
   "metadata": {
    "application/vnd.databricks.v1+cell": {
     "cellMetadata": {
      "byteLimit": 2048000,
      "rowLimit": 10000
     },
     "inputWidgets": {},
     "nuid": "4db482eb-2a3c-4c29-ad5a-4170da4ae49b",
     "showTitle": false,
     "tableResultSettingsMap": {},
     "title": ""
    }
   },
   "outputs": [],
   "source": [
    "start_events_3268 = segments_3268\\\n",
    "                        .select(\"employee_id\", \"date\", col(\"start_ts\").alias(\"event_time\")) \\\n",
    "                            .withColumn(\"change\", lit(1))\\\n",
    "                                .withColumn(\"event_order\", lit(1))\n",
    "end_events_3268 = segments_3268\\\n",
    "                        .select(\"employee_id\", \"date\", col(\"end_ts\").alias(\"event_time\")) \\\n",
    "                            .withColumn(\"change\", lit(-1))\\\n",
    "                                .withColumn(\"event_order\", lit(0))\n",
    "\n",
    "events_3268 = start_events_3268\\\n",
    "                    .unionByName(end_events_3268)"
   ]
  },
  {
   "cell_type": "code",
   "execution_count": 0,
   "metadata": {
    "application/vnd.databricks.v1+cell": {
     "cellMetadata": {
      "byteLimit": 2048000,
      "rowLimit": 10000
     },
     "inputWidgets": {},
     "nuid": "41fbf710-b270-4481-9f38-4515feb5a03a",
     "showTitle": false,
     "tableResultSettingsMap": {},
     "title": ""
    }
   },
   "outputs": [],
   "source": [
    "win_order = Window.partitionBy(\"employee_id\", \"date\").orderBy(col(\"event_time\"), col(\"event_order\"))\n",
    "win_cumulative = win_order.rowsBetween(Window.unboundedPreceding, Window.currentRow)"
   ]
  },
  {
   "cell_type": "code",
   "execution_count": 0,
   "metadata": {
    "application/vnd.databricks.v1+cell": {
     "cellMetadata": {
      "byteLimit": 2048000,
      "rowLimit": 10000
     },
     "inputWidgets": {},
     "nuid": "ea597d46-6733-4b20-ac02-62960cc08392",
     "showTitle": false,
     "tableResultSettingsMap": {},
     "title": ""
    }
   },
   "outputs": [],
   "source": [
    "events_3268 = events_3268\\\n",
    "                .withColumn(\"active_shifts\", sum(\"change\").over(win_cumulative))\\\n",
    "                    .withColumn(\"next_event_time\", lead(\"event_time\").over(win_order))\\\n",
    "                        .withColumn(\"duration_sec\", unix_timestamp(col(\"next_event_time\")) - unix_timestamp(col(\"event_time\")))"
   ]
  },
  {
   "cell_type": "code",
   "execution_count": 0,
   "metadata": {
    "application/vnd.databricks.v1+cell": {
     "cellMetadata": {
      "byteLimit": 2048000,
      "rowLimit": 10000
     },
     "inputWidgets": {},
     "nuid": "342e7cf7-d9c4-4cd6-92fd-c1328871079f",
     "showTitle": false,
     "tableResultSettingsMap": {},
     "title": ""
    }
   },
   "outputs": [],
   "source": [
    "comb = ((col(\"active_shifts\") * (col(\"active_shifts\") - 1)) / 2).cast(\"long\")\n",
    "\n",
    "events_3268 = events_3268\\\n",
    "                .withColumn(\"pairwise_overlap_sec\", (col(\"duration_sec\") * comb).cast(\"long\"))"
   ]
  },
  {
   "cell_type": "code",
   "execution_count": 0,
   "metadata": {
    "application/vnd.databricks.v1+cell": {
     "cellMetadata": {
      "byteLimit": 2048000,
      "rowLimit": 10000
     },
     "inputWidgets": {},
     "nuid": "6b82a31b-c2f6-4567-89ee-0356c911db1a",
     "showTitle": false,
     "tableResultSettingsMap": {},
     "title": ""
    }
   },
   "outputs": [],
   "source": [
    "max_overlap = events_3268\\\n",
    "                .groupBy(\"employee_id\")\\\n",
    "                    .agg(max(\"active_shifts\").alias(\"max_overlapping_shifts\"))\n",
    "total_pairwise = events_3268\\\n",
    "                    .groupBy(\"employee_id\")\\\n",
    "                        .agg(sum(\"pairwise_overlap_sec\").alias(\"total_pairwise_overlap_sec\"))"
   ]
  },
  {
   "cell_type": "code",
   "execution_count": 0,
   "metadata": {
    "application/vnd.databricks.v1+cell": {
     "cellMetadata": {
      "byteLimit": 2048000,
      "rowLimit": 10000
     },
     "inputWidgets": {},
     "nuid": "cfdf3053-9181-449e-84a0-0639341d0443",
     "showTitle": false,
     "tableResultSettingsMap": {},
     "title": ""
    }
   },
   "outputs": [
    {
     "output_type": "display_data",
     "data": {
      "text/html": [
       "<style scoped>\n",
       "  .table-result-container {\n",
       "    max-height: 300px;\n",
       "    overflow: auto;\n",
       "  }\n",
       "  table, th, td {\n",
       "    border: 1px solid black;\n",
       "    border-collapse: collapse;\n",
       "  }\n",
       "  th, td {\n",
       "    padding: 5px;\n",
       "  }\n",
       "  th {\n",
       "    text-align: left;\n",
       "  }\n",
       "</style><div class='table-result-container'><table class='table-result'><thead style='background-color: white'><tr><th>employee_id</th><th>max_overlapping_shifts</th><th>total_overlap_duration</th></tr></thead><tbody><tr><td>1</td><td>3</td><td>600</td></tr><tr><td>2</td><td>2</td><td>360</td></tr><tr><td>3</td><td>1</td><td>0</td></tr></tbody></table></div>"
      ]
     },
     "metadata": {
      "application/vnd.databricks.v1+output": {
       "addedWidgets": {},
       "aggData": [],
       "aggError": "",
       "aggOverflow": false,
       "aggSchema": [],
       "aggSeriesLimitReached": false,
       "aggType": "",
       "arguments": {},
       "columnCustomDisplayInfos": {},
       "data": [
        [
         1,
         3,
         600
        ],
        [
         2,
         2,
         360
        ],
        [
         3,
         1,
         0
        ]
       ],
       "datasetInfos": [],
       "dbfsResultPath": null,
       "isJsonSchema": true,
       "metadata": {},
       "overflow": false,
       "plotOptions": {
        "customPlotOptions": {},
        "displayType": "table",
        "pivotAggregation": null,
        "pivotColumns": null,
        "xColumns": null,
        "yColumns": null
       },
       "removedWidgets": [],
       "schema": [
        {
         "metadata": "{}",
         "name": "employee_id",
         "type": "\"long\""
        },
        {
         "metadata": "{}",
         "name": "max_overlapping_shifts",
         "type": "\"long\""
        },
        {
         "metadata": "{}",
         "name": "total_overlap_duration",
         "type": "\"long\""
        }
       ],
       "type": "table"
      }
     },
     "output_type": "display_data"
    }
   ],
   "source": [
    "max_overlap\\\n",
    "    .join(total_pairwise, \"employee_id\", \"left\")\\\n",
    "        .withColumn(\"total_pairwise_overlap_sec\", coalesce(col(\"total_pairwise_overlap_sec\"), lit(0)))\\\n",
    "            .withColumn(\"total_overlap_duration\", (col(\"total_pairwise_overlap_sec\") / 60).cast(\"long\"))\\\n",
    "                .select(\"employee_id\", \"max_overlapping_shifts\", \"total_overlap_duration\").orderBy(\"employee_id\").display()"
   ]
  }
 ],
 "metadata": {
  "application/vnd.databricks.v1+notebook": {
   "computePreferences": {
    "hardware": {
     "accelerator": null,
     "gpuPoolId": null,
     "memory": null
    }
   },
   "dashboards": [],
   "environmentMetadata": {
    "base_environment": "",
    "environment_version": "2"
   },
   "inputWidgetPreferences": null,
   "language": "python",
   "notebookMetadata": {
    "pythonIndentUnit": 4
   },
   "notebookName": "3268. Find Overlapping Shifts II (Hard)-(Solved)",
   "widgets": {}
  },
  "language_info": {
   "name": "python"
  }
 },
 "nbformat": 4,
 "nbformat_minor": 0
}
