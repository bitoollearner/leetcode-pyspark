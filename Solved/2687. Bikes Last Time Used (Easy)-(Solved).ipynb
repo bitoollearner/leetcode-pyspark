{
 "cells": [
  {
   "cell_type": "markdown",
   "metadata": {
    "application/vnd.databricks.v1+cell": {
     "cellMetadata": {
      "byteLimit": 2048000,
      "rowLimit": 10000
     },
     "inputWidgets": {},
     "nuid": "4e9d71b1-88e9-445c-820a-b842e217a4e7",
     "showTitle": false,
     "tableResultSettingsMap": {},
     "title": ""
    }
   },
   "source": [
    "## Importing Libraries"
   ]
  },
  {
   "cell_type": "code",
   "execution_count": 0,
   "metadata": {
    "application/vnd.databricks.v1+cell": {
     "cellMetadata": {
      "byteLimit": 2048000,
      "rowLimit": 10000
     },
     "inputWidgets": {},
     "nuid": "e6624c4d-8cb8-4ac4-8c72-81d1b4ecdb57",
     "showTitle": false,
     "tableResultSettingsMap": {},
     "title": ""
    }
   },
   "outputs": [],
   "source": [
    "from pyspark.sql.functions import *\n",
    "from pyspark.sql.types import *\n",
    "from pyspark.sql.window import Window"
   ]
  },
  {
   "cell_type": "markdown",
   "metadata": {
    "application/vnd.databricks.v1+cell": {
     "cellMetadata": {
      "byteLimit": 2048000,
      "rowLimit": 10000
     },
     "inputWidgets": {},
     "nuid": "c3788fe5-f4c9-420f-ad72-ec1a39310a2a",
     "showTitle": false,
     "tableResultSettingsMap": {},
     "title": ""
    }
   },
   "source": [
    "**2687. Bikes Last Time Used (Easy)**\n",
    "\n",
    "**Table: Bikes**\n",
    "\n",
    "| Column Name | Type     | \n",
    "|-------------|----------| \n",
    "| ride_id     | int      | \n",
    "| bike_number | int      | \n",
    "| start_time  | datetime |\n",
    "| end_time    | datetime |\n",
    "\n",
    "ride_id column contains unique values.\n",
    "Each row contains a ride information that includes ride_id, bike number, start and end time of the ride.\n",
    "It is guaranteed that start_time and end_time are valid datetime values.\n",
    "\n",
    "**Write a solution to find the last time when each bike was used.**\n",
    "\n",
    "Return the result table ordered by the bikes that were most recently used. \n",
    "\n",
    "The result format is in the following example.\n",
    "\n",
    "**Example 1:**\n",
    "\n",
    "**Input:**\n",
    "\n",
    "**Bikes table:**\n",
    "| ride_id | bike_number | start_time          | end_time            |  \n",
    "|---------|-------------|---------------------|---------------------|\n",
    "| 1       | W00576      | 2012-03-25 11:30:00 | 2012-03-25 12:40:00 |\n",
    "| 2       | W00300      | 2012-03-25 10:30:00 | 2012-03-25 10:50:00 |\n",
    "| 3       | W00455      | 2012-03-26 14:30:00 | 2012-03-26 17:40:00 |\n",
    "| 4       | W00455      | 2012-03-25 12:30:00 | 2012-03-25 13:40:00 |\n",
    "| 5       | W00576      | 2012-03-25 08:10:00 | 2012-03-25 09:10:00 |\n",
    "| 6       | W00576      | 2012-03-28 02:30:00 | 2012-03-28 02:50:00 |\n",
    "\n",
    "**Output:**\n",
    "| bike_number | end_time            |  \n",
    "|-------------|---------------------|\n",
    "| W00576      | 2012-03-28 02:50:00 |\n",
    "| W00455      | 2012-03-26 17:40:00 |\n",
    "| W00300      | 2012-03-25 10:50:00 |\n",
    "\n",
    "**Explanation:** \n",
    "- bike with number W00576 has three rides, out of that, most recent ride is with ride_id 6 which ended on 2012-03-28 02:50:00.\n",
    "- bike with number W00300 has only 1 ride so we will include end_time in output directly. \n",
    "- bike with number W00455 has two rides, out of that, most recent ride is with ride_id 3 which ended on 2012-03-26 17:40:00. \n",
    "- Returning output in order by the bike that were most recently used."
   ]
  },
  {
   "cell_type": "code",
   "execution_count": 0,
   "metadata": {
    "application/vnd.databricks.v1+cell": {
     "cellMetadata": {
      "byteLimit": 2048000,
      "rowLimit": 10000
     },
     "inputWidgets": {},
     "nuid": "137536ea-9bec-4171-8dc2-4bf8b0d771b4",
     "showTitle": false,
     "tableResultSettingsMap": {},
     "title": ""
    }
   },
   "outputs": [
    {
     "output_type": "stream",
     "name": "stdout",
     "output_type": "stream",
     "text": [
      "+-------+-----------+-------------------+-------------------+\n|ride_id|bike_number|         start_time|           end_time|\n+-------+-----------+-------------------+-------------------+\n|      1|     W00576|2012-03-25 11:30:00|2012-03-25 12:40:00|\n|      2|     W00300|2012-03-25 10:30:00|2012-03-25 10:50:00|\n|      3|     W00455|2012-03-26 14:30:00|2012-03-26 17:40:00|\n|      4|     W00455|2012-03-25 12:30:00|2012-03-25 13:40:00|\n|      5|     W00576|2012-03-25 08:10:00|2012-03-25 09:10:00|\n|      6|     W00576|2012-03-28 02:30:00|2012-03-28 02:50:00|\n+-------+-----------+-------------------+-------------------+\n\n"
     ]
    }
   ],
   "source": [
    "bikes_data_2687 = [\n",
    "    (1, \"W00576\", \"2012-03-25 11:30:00\", \"2012-03-25 12:40:00\"),\n",
    "    (2, \"W00300\", \"2012-03-25 10:30:00\", \"2012-03-25 10:50:00\"),\n",
    "    (3, \"W00455\", \"2012-03-26 14:30:00\", \"2012-03-26 17:40:00\"),\n",
    "    (4, \"W00455\", \"2012-03-25 12:30:00\", \"2012-03-25 13:40:00\"),\n",
    "    (5, \"W00576\", \"2012-03-25 08:10:00\", \"2012-03-25 09:10:00\"),\n",
    "    (6, \"W00576\", \"2012-03-28 02:30:00\", \"2012-03-28 02:50:00\"),\n",
    "]\n",
    "\n",
    "bikes_columns_2687 = [\"ride_id\", \"bike_number\", \"start_time\", \"end_time\"]\n",
    "bikes_df_2687 = spark.createDataFrame(bikes_data_2687, bikes_columns_2687)\n",
    "bikes_df_2687.show()\n"
   ]
  },
  {
   "cell_type": "code",
   "execution_count": 0,
   "metadata": {
    "application/vnd.databricks.v1+cell": {
     "cellMetadata": {
      "byteLimit": 2048000,
      "rowLimit": 10000
     },
     "inputWidgets": {},
     "nuid": "8cc36563-a907-4b34-97de-ee7eb2eb6f55",
     "showTitle": false,
     "tableResultSettingsMap": {
      "0": {
       "dataGridStateBlob": "{\"version\":1,\"tableState\":{\"columnPinning\":{\"left\":[\"#row_number#\"],\"right\":[]},\"columnSizing\":{\"end_time\":161},\"columnVisibility\":{}},\"settings\":{\"columns\":{}},\"syncTimestamp\":1758361643854}",
       "filterBlob": null,
       "queryPlanFiltersBlob": null,
       "tableResultIndex": 0
      }
     },
     "title": ""
    }
   },
   "outputs": [
    {
     "output_type": "display_data",
     "data": {
      "text/html": [
       "<style scoped>\n",
       "  .table-result-container {\n",
       "    max-height: 300px;\n",
       "    overflow: auto;\n",
       "  }\n",
       "  table, th, td {\n",
       "    border: 1px solid black;\n",
       "    border-collapse: collapse;\n",
       "  }\n",
       "  th, td {\n",
       "    padding: 5px;\n",
       "  }\n",
       "  th {\n",
       "    text-align: left;\n",
       "  }\n",
       "</style><div class='table-result-container'><table class='table-result'><thead style='background-color: white'><tr><th>bike_number</th><th>end_time</th></tr></thead><tbody><tr><td>W00576</td><td>2012-03-28 02:50:00</td></tr><tr><td>W00455</td><td>2012-03-26 17:40:00</td></tr><tr><td>W00300</td><td>2012-03-25 10:50:00</td></tr></tbody></table></div>"
      ]
     },
     "metadata": {
      "application/vnd.databricks.v1+output": {
       "addedWidgets": {},
       "aggData": [],
       "aggError": "",
       "aggOverflow": false,
       "aggSchema": [],
       "aggSeriesLimitReached": false,
       "aggType": "",
       "arguments": {},
       "columnCustomDisplayInfos": {},
       "data": [
        [
         "W00576",
         "2012-03-28 02:50:00"
        ],
        [
         "W00455",
         "2012-03-26 17:40:00"
        ],
        [
         "W00300",
         "2012-03-25 10:50:00"
        ]
       ],
       "datasetInfos": [],
       "dbfsResultPath": null,
       "isJsonSchema": true,
       "metadata": {},
       "overflow": false,
       "plotOptions": {
        "customPlotOptions": {},
        "displayType": "table",
        "pivotAggregation": null,
        "pivotColumns": null,
        "xColumns": null,
        "yColumns": null
       },
       "removedWidgets": [],
       "schema": [
        {
         "metadata": "{}",
         "name": "bike_number",
         "type": "\"string\""
        },
        {
         "metadata": "{}",
         "name": "end_time",
         "type": "\"string\""
        }
       ],
       "type": "table"
      }
     },
     "output_type": "display_data"
    }
   ],
   "source": [
    "bikes_df_2687\\\n",
    "    .groupBy(\"bike_number\")\\\n",
    "        .agg(max(\"end_time\").alias(\"end_time\"))\\\n",
    "            .orderBy(col(\"end_time\").desc()).display()"
   ]
  }
 ],
 "metadata": {
  "application/vnd.databricks.v1+notebook": {
   "computePreferences": {
    "hardware": {
     "accelerator": null,
     "gpuPoolId": null,
     "memory": null
    }
   },
   "dashboards": [],
   "environmentMetadata": {
    "base_environment": "",
    "environment_version": "2"
   },
   "inputWidgetPreferences": null,
   "language": "python",
   "notebookMetadata": {
    "pythonIndentUnit": 4
   },
   "notebookName": "2687. Bikes Last Time Used (Easy)-(Solved)",
   "widgets": {}
  },
  "language_info": {
   "name": "python"
  }
 },
 "nbformat": 4,
 "nbformat_minor": 0
}
