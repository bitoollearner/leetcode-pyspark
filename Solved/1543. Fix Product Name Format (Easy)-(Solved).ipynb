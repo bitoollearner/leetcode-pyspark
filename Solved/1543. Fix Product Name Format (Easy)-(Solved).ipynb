{
 "cells": [
  {
   "cell_type": "markdown",
   "metadata": {
    "application/vnd.databricks.v1+cell": {
     "cellMetadata": {
      "byteLimit": 2048000,
      "rowLimit": 10000
     },
     "inputWidgets": {},
     "nuid": "44cd2565-3e27-417c-8c6c-7b2d8f1b94c5",
     "showTitle": false,
     "tableResultSettingsMap": {},
     "title": ""
    }
   },
   "source": [
    "## Importing Libraries"
   ]
  },
  {
   "cell_type": "code",
   "execution_count": 0,
   "metadata": {
    "application/vnd.databricks.v1+cell": {
     "cellMetadata": {
      "byteLimit": 2048000,
      "rowLimit": 10000
     },
     "inputWidgets": {},
     "nuid": "e6da106f-4e0b-41e0-9f75-6e329535d5c0",
     "showTitle": false,
     "tableResultSettingsMap": {},
     "title": ""
    }
   },
   "outputs": [],
   "source": [
    "from pyspark.sql.functions import *\n",
    "from pyspark.sql.types import *\n",
    "from pyspark.sql.window import Window"
   ]
  },
  {
   "cell_type": "markdown",
   "metadata": {
    "application/vnd.databricks.v1+cell": {
     "cellMetadata": {
      "byteLimit": 2048000,
      "rowLimit": 10000
     },
     "inputWidgets": {},
     "nuid": "f0267197-68d5-4180-8492-6999c905acb1",
     "showTitle": false,
     "tableResultSettingsMap": {},
     "title": ""
    }
   },
   "source": [
    "**1543. Fix Product Name Format (Easy)**\n",
    "\n",
    "**Table: Sales**\n",
    "\n",
    "| Column Name  | Type    |\n",
    "|--------------|---------|\n",
    "| sale_id      | int     |\n",
    "| product_name | varchar |\n",
    "| sale_date    | date    |\n",
    "\n",
    "sale_id is the column with unique values for this table.\n",
    "Each row of this table contains the product name and the date it was sold.\n",
    " \n",
    "Since table Sales was filled manually in the year 2000, product_name may contain leading and/or trailing white spaces, also they are case-insensitive.\n",
    "\n",
    "**Write a solution to report**\n",
    "- product_name in lowercase without leading or trailing white spaces.\n",
    "- sale_date in the format ('YYYY-MM').\n",
    "- total the number of times the product was sold in this month.\n",
    "\n",
    "Return the result table ordered by product_name in ascending order. In case of a tie, order it by sale_date in ascending order.\n",
    "\n",
    "The result format is in the following example.\n",
    "\n",
    "**Example 1:**\n",
    "\n",
    "**Input:** \n",
    "\n",
    "**Sales table:**\n",
    "| sale_id | product_name | sale_date  |\n",
    "|---------|--------------|------------|\n",
    "| 1       | LCPHONE      | 2000-01-16 |\n",
    "| 2       | LCPhone      | 2000-01-17 |\n",
    "| 3       | LcPhOnE      | 2000-02-18 |\n",
    "| 4       | LCKeyCHAiN   | 2000-02-19 |\n",
    "| 5       | LCKeyChain   | 2000-02-28 |\n",
    "| 6       | Matryoshka   | 2000-03-31 |\n",
    "\n",
    "**Output:** \n",
    "| product_name | sale_date | total |\n",
    "|--------------|-----------|-------|\n",
    "| lckeychain   | 2000-02   | 2     |\n",
    "| lcphone      | 2000-01   | 2     |\n",
    "| lcphone      | 2000-02   | 1     |\n",
    "| matryoshka   | 2000-03   | 1     |\n",
    "\n",
    "**Explanation:** \n",
    "- In January, 2 LcPhones were sold. Please note that the product names are not case sensitive and may contain spaces.\n",
    "- In February, 2 LCKeychains and 1 LCPhone were sold.\n",
    "- In March, one matryoshka was sold."
   ]
  },
  {
   "cell_type": "code",
   "execution_count": 0,
   "metadata": {
    "application/vnd.databricks.v1+cell": {
     "cellMetadata": {
      "byteLimit": 2048000,
      "rowLimit": 10000
     },
     "inputWidgets": {},
     "nuid": "e98c62a4-8cd4-48d6-9337-86cf54c19ddd",
     "showTitle": false,
     "tableResultSettingsMap": {},
     "title": ""
    }
   },
   "outputs": [
    {
     "output_type": "stream",
     "name": "stdout",
     "output_type": "stream",
     "text": [
      "+-------+------------+----------+\n|sale_id|product_name| sale_date|\n+-------+------------+----------+\n|      1|    LCPHONE |2000-01-16|\n|      2|     LCPhone|2000-01-17|\n|      3|     LcPhOnE|2000-02-18|\n|      4| LCKeyCHAiN |2000-02-19|\n|      5|  LCKeyChain|2000-02-28|\n|      6|  Matryoshka|2000-03-31|\n+-------+------------+----------+\n\n"
     ]
    }
   ],
   "source": [
    "sales_data_1543 = [\n",
    "    (1, \" LCPHONE \", \"2000-01-16\"),\n",
    "    (2, \"LCPhone\", \"2000-01-17\"),\n",
    "    (3, \"LcPhOnE\", \"2000-02-18\"),\n",
    "    (4, \" LCKeyCHAiN \", \"2000-02-19\"),\n",
    "    (5, \"LCKeyChain\", \"2000-02-28\"),\n",
    "    (6, \"Matryoshka\", \"2000-03-31\"),\n",
    "]\n",
    "\n",
    "sales_columns_1543 = [\"sale_id\", \"product_name\", \"sale_date\"]\n",
    "sales_df_1543 = spark.createDataFrame(sales_data_1543, sales_columns_1543)\n",
    "sales_df_1543.show()"
   ]
  },
  {
   "cell_type": "code",
   "execution_count": 0,
   "metadata": {
    "application/vnd.databricks.v1+cell": {
     "cellMetadata": {
      "byteLimit": 2048000,
      "rowLimit": 10000
     },
     "inputWidgets": {},
     "nuid": "20a5c636-2bea-49d8-9293-676ce6ce0328",
     "showTitle": false,
     "tableResultSettingsMap": {},
     "title": ""
    }
   },
   "outputs": [],
   "source": [
    "sales_df_1543 = sales_df_1543\\\n",
    "                    .withColumn(\"sale_date\", to_date(\"sale_date\"))"
   ]
  },
  {
   "cell_type": "code",
   "execution_count": 0,
   "metadata": {
    "application/vnd.databricks.v1+cell": {
     "cellMetadata": {
      "byteLimit": 2048000,
      "rowLimit": 10000
     },
     "inputWidgets": {},
     "nuid": "c30cac10-95ec-4675-8c28-34c06076d765",
     "showTitle": false,
     "tableResultSettingsMap": {},
     "title": ""
    }
   },
   "outputs": [],
   "source": [
    "cleaned_df_1543 = sales_df_1543\\\n",
    "                        .withColumn( \"product_name\", lower(trim(col(\"product_name\"))))\\\n",
    "                            .withColumn( \"sale_date\", date_format(\"sale_date\", \"yyyy-MM\"))"
   ]
  },
  {
   "cell_type": "code",
   "execution_count": 0,
   "metadata": {
    "application/vnd.databricks.v1+cell": {
     "cellMetadata": {
      "byteLimit": 2048000,
      "rowLimit": 10000
     },
     "inputWidgets": {},
     "nuid": "615c899e-5e14-4252-ae05-145049c77a54",
     "showTitle": false,
     "tableResultSettingsMap": {},
     "title": ""
    }
   },
   "outputs": [
    {
     "output_type": "stream",
     "name": "stdout",
     "output_type": "stream",
     "text": [
      "+------------+---------+-----+\n|product_name|sale_date|total|\n+------------+---------+-----+\n|  lckeychain|  2000-02|    2|\n|     lcphone|  2000-01|    2|\n|     lcphone|  2000-02|    1|\n|  matryoshka|  2000-03|    1|\n+------------+---------+-----+\n\n"
     ]
    }
   ],
   "source": [
    "cleaned_df_1543\\\n",
    "    .groupBy( \"product_name\", \"sale_date\").agg( count(\"*\").alias(\"total\"))\\\n",
    "        .orderBy( col(\"product_name\").asc(), col(\"sale_date\").asc()).show()"
   ]
  }
 ],
 "metadata": {
  "application/vnd.databricks.v1+notebook": {
   "computePreferences": {
    "hardware": {
     "accelerator": null,
     "gpuPoolId": null,
     "memory": null
    }
   },
   "dashboards": [],
   "environmentMetadata": {
    "base_environment": "",
    "environment_version": "2"
   },
   "inputWidgetPreferences": null,
   "language": "python",
   "notebookMetadata": {
    "pythonIndentUnit": 4
   },
   "notebookName": "1543. Fix Product Name Format (Easy)-(Solved)",
   "widgets": {}
  },
  "language_info": {
   "name": "python"
  }
 },
 "nbformat": 4,
 "nbformat_minor": 0
}
