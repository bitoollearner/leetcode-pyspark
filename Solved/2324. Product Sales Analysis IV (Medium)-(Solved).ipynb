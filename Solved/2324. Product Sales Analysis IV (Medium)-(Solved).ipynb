{
 "cells": [
  {
   "cell_type": "markdown",
   "metadata": {
    "application/vnd.databricks.v1+cell": {
     "cellMetadata": {
      "byteLimit": 2048000,
      "rowLimit": 10000
     },
     "inputWidgets": {},
     "nuid": "4e9d71b1-88e9-445c-820a-b842e217a4e7",
     "showTitle": false,
     "tableResultSettingsMap": {},
     "title": ""
    }
   },
   "source": [
    "## Importing Libraries"
   ]
  },
  {
   "cell_type": "code",
   "execution_count": 0,
   "metadata": {
    "application/vnd.databricks.v1+cell": {
     "cellMetadata": {
      "byteLimit": 2048000,
      "rowLimit": 10000
     },
     "inputWidgets": {},
     "nuid": "e6624c4d-8cb8-4ac4-8c72-81d1b4ecdb57",
     "showTitle": false,
     "tableResultSettingsMap": {},
     "title": ""
    }
   },
   "outputs": [],
   "source": [
    "from pyspark.sql.functions import *\n",
    "from pyspark.sql.types import *\n",
    "from pyspark.sql.window import Window"
   ]
  },
  {
   "cell_type": "markdown",
   "metadata": {
    "application/vnd.databricks.v1+cell": {
     "cellMetadata": {
      "byteLimit": 2048000,
      "rowLimit": 10000
     },
     "inputWidgets": {},
     "nuid": "c3788fe5-f4c9-420f-ad72-ec1a39310a2a",
     "showTitle": false,
     "tableResultSettingsMap": {},
     "title": ""
    }
   },
   "source": [
    "**2324. Product Sales Analysis IV (Medium)**\n",
    "\n",
    "**Table: Sales**\n",
    "\n",
    "| Column Name | Type  |\n",
    "|-------------|-------|\n",
    "| sale_id     | int   |\n",
    "| product_id  | int   |\n",
    "| user_id     | int   |\n",
    "| quantity    | int   |\n",
    "\n",
    "sale_id contains unique values.\n",
    "product_id is a foreign key (reference column) to Product table.\n",
    "Each row of this table shows the ID of the product and the quantity purchased by a user.\n",
    " \n",
    "\n",
    "**Table: Product**\n",
    "\n",
    "| Column Name | Type |\n",
    "|-------------|------|\n",
    "| product_id  | int  |\n",
    "| price       | int  |\n",
    "\n",
    "product_id contains unique values.\n",
    "Each row of this table indicates the price of each product.\n",
    " \n",
    "**Write a solution that reports for each user the product id on which the user spent the most money. In case the same user spent the most money on two or more products, report all of them.**\n",
    "\n",
    "Return the resulting table in any order.\n",
    "\n",
    "The result format is in the following example.\n",
    "\n",
    "**Example 1:**\n",
    "\n",
    "**Input:** \n",
    "\n",
    "**Sales table:**\n",
    "\n",
    "| sale_id | product_id | user_id | quantity |\n",
    "|---------|------------|---------|----------|\n",
    "| 1       | 1          | 101     | 10       |\n",
    "| 2       | 3          | 101     | 7        |\n",
    "| 3       | 1          | 102     | 9        |\n",
    "| 4       | 2          | 102     | 6        |\n",
    "| 5       | 3          | 102     | 10       |\n",
    "| 6       | 1          | 102     | 6        |\n",
    "\n",
    "**Product table:**\n",
    "| product_id | price |\n",
    "|------------|-------|\n",
    "| 1          | 10    |\n",
    "| 2          | 25    |\n",
    "| 3          | 15    |\n",
    "\n",
    "**Output:** \n",
    "| user_id | product_id |\n",
    "|---------|------------|\n",
    "| 101     | 3          |\n",
    "| 102     | 1          |\n",
    "| 102     | 2          |\n",
    "| 102     | 3          |\n",
    "\n",
    "**Explanation:** \n",
    "- User 101:\n",
    "  - Spent 10 * 10 = 100 on product 1.\n",
    "  - Spent 7 * 15 = 105 on product 3.\n",
    "\n",
    "User 101 spent the most money on product 3.\n",
    "\n",
    "- User 102:\n",
    "  - Spent (9 + 6) * 10 = 150 on product 1.\n",
    "  - Spent 6 * 25 = 150 on product 2.\n",
    "  - Spent 10 * 15 = 150 on product 3.\n",
    "\n",
    "User 102 spent the most money on products 1, 2, and 3."
   ]
  },
  {
   "cell_type": "code",
   "execution_count": 0,
   "metadata": {
    "application/vnd.databricks.v1+cell": {
     "cellMetadata": {
      "byteLimit": 2048000,
      "rowLimit": 10000
     },
     "inputWidgets": {},
     "nuid": "137536ea-9bec-4171-8dc2-4bf8b0d771b4",
     "showTitle": false,
     "tableResultSettingsMap": {},
     "title": ""
    }
   },
   "outputs": [
    {
     "output_type": "stream",
     "name": "stdout",
     "output_type": "stream",
     "text": [
      "+-------+----------+-------+--------+\n|sale_id|product_id|user_id|quantity|\n+-------+----------+-------+--------+\n|      1|         1|    101|      10|\n|      2|         3|    101|       7|\n|      3|         1|    102|       9|\n|      4|         2|    102|       6|\n|      5|         3|    102|      10|\n|      6|         1|    102|       6|\n+-------+----------+-------+--------+\n\n+----------+-----+\n|product_id|price|\n+----------+-----+\n|         1|   10|\n|         2|   25|\n|         3|   15|\n+----------+-----+\n\n"
     ]
    }
   ],
   "source": [
    "sales_data_2324 = [\n",
    "    (1, 1, 101, 10),\n",
    "    (2, 3, 101, 7),\n",
    "    (3, 1, 102, 9),\n",
    "    (4, 2, 102, 6),\n",
    "    (5, 3, 102, 10),\n",
    "    (6, 1, 102, 6),\n",
    "]\n",
    "\n",
    "sales_columns_2324 = [\"sale_id\", \"product_id\", \"user_id\", \"quantity\"]\n",
    "sales_df_2324 = spark.createDataFrame(sales_data_2324, sales_columns_2324)\n",
    "sales_df_2324.show()\n",
    "\n",
    "product_data_2324 = [\n",
    "    (1, 10),\n",
    "    (2, 25),\n",
    "    (3, 15),\n",
    "]\n",
    "\n",
    "product_columns_2324 = [\"product_id\", \"price\"]\n",
    "product_df_2324 = spark.createDataFrame(product_data_2324, product_columns_2324)\n",
    "product_df_2324.show()"
   ]
  },
  {
   "cell_type": "code",
   "execution_count": 0,
   "metadata": {
    "application/vnd.databricks.v1+cell": {
     "cellMetadata": {
      "byteLimit": 2048000,
      "rowLimit": 10000
     },
     "inputWidgets": {},
     "nuid": "57d9d66f-6226-4586-abc2-50a771986cd7",
     "showTitle": false,
     "tableResultSettingsMap": {},
     "title": ""
    }
   },
   "outputs": [],
   "source": [
    "user_product_spent_2324 = sales_df_2324\\\n",
    "                            .join(product_df_2324, on=\"product_id\", how=\"inner\")\\\n",
    "                                .withColumn(\"spent\", col(\"quantity\") * col(\"price\"))\\\n",
    "                                    .groupBy(\"user_id\", \"product_id\")\\\n",
    "                                        .agg(sum(\"spent\").alias(\"total_spent\"))"
   ]
  },
  {
   "cell_type": "code",
   "execution_count": 0,
   "metadata": {
    "application/vnd.databricks.v1+cell": {
     "cellMetadata": {
      "byteLimit": 2048000,
      "rowLimit": 10000
     },
     "inputWidgets": {},
     "nuid": "4109fc0b-a82c-4353-a37e-60111d0cc284",
     "showTitle": false,
     "tableResultSettingsMap": {},
     "title": ""
    }
   },
   "outputs": [],
   "source": [
    "windowSpec = Window.partitionBy(\"user_id\")"
   ]
  },
  {
   "cell_type": "code",
   "execution_count": 0,
   "metadata": {
    "application/vnd.databricks.v1+cell": {
     "cellMetadata": {
      "byteLimit": 2048000,
      "rowLimit": 10000
     },
     "inputWidgets": {},
     "nuid": "401595a4-f73e-4e1d-8ef8-451c7d9d0b6e",
     "showTitle": false,
     "tableResultSettingsMap": {},
     "title": ""
    }
   },
   "outputs": [
    {
     "output_type": "stream",
     "name": "stdout",
     "output_type": "stream",
     "text": [
      "+-------+----------+\n|user_id|product_id|\n+-------+----------+\n|    101|         3|\n|    102|         1|\n|    102|         2|\n|    102|         3|\n+-------+----------+\n\n"
     ]
    }
   ],
   "source": [
    "user_product_spent_2324\\\n",
    "    .withColumn(\"max_spent\", max(\"total_spent\").over(windowSpec))\\\n",
    "        .filter(col(\"total_spent\") == col(\"max_spent\"))\\\n",
    "            .select(\"user_id\", \"product_id\")\\\n",
    "                .orderBy(\"user_id\", \"product_id\").show()"
   ]
  }
 ],
 "metadata": {
  "application/vnd.databricks.v1+notebook": {
   "computePreferences": {
    "hardware": {
     "accelerator": null,
     "gpuPoolId": null,
     "memory": null
    }
   },
   "dashboards": [],
   "environmentMetadata": {
    "base_environment": "",
    "environment_version": "2"
   },
   "inputWidgetPreferences": null,
   "language": "python",
   "notebookMetadata": {
    "pythonIndentUnit": 4
   },
   "notebookName": "2324. Product Sales Analysis IV (Medium)-(Solved)",
   "widgets": {}
  },
  "language_info": {
   "name": "python"
  }
 },
 "nbformat": 4,
 "nbformat_minor": 0
}
