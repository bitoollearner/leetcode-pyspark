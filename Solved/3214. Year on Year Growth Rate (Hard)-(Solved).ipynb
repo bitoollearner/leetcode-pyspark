{
 "cells": [
  {
   "cell_type": "markdown",
   "metadata": {
    "application/vnd.databricks.v1+cell": {
     "cellMetadata": {
      "byteLimit": 2048000,
      "rowLimit": 10000
     },
     "inputWidgets": {},
     "nuid": "7d1791bd-9552-4116-90b2-daa678bbffb8",
     "showTitle": false,
     "tableResultSettingsMap": {},
     "title": ""
    }
   },
   "source": [
    "## Importing Libraries"
   ]
  },
  {
   "cell_type": "code",
   "execution_count": 0,
   "metadata": {
    "application/vnd.databricks.v1+cell": {
     "cellMetadata": {
      "byteLimit": 2048000,
      "rowLimit": 10000
     },
     "inputWidgets": {},
     "nuid": "2901fbc9-49db-4285-8b94-c460f34d4c4f",
     "showTitle": false,
     "tableResultSettingsMap": {},
     "title": ""
    }
   },
   "outputs": [],
   "source": [
    "from pyspark.sql.functions import *\n",
    "from pyspark.sql.types import *\n",
    "from pyspark.sql.window import Window"
   ]
  },
  {
   "cell_type": "markdown",
   "metadata": {
    "application/vnd.databricks.v1+cell": {
     "cellMetadata": {
      "byteLimit": 2048000,
      "rowLimit": 10000
     },
     "inputWidgets": {},
     "nuid": "655120e7-6b25-417c-a08a-c6925feaa425",
     "showTitle": false,
     "tableResultSettingsMap": {},
     "title": ""
    }
   },
   "source": [
    "**3214. Year on Year Growth Rate (Hard)**\n",
    "\n",
    "**Table: user_transactions**\n",
    "\n",
    "| Column Name      | Type     | \n",
    "|------------------|----------|\n",
    "| transaction_id   | integer  |\n",
    "| product_id       | integer  |\n",
    "| spend            | decimal  |\n",
    "| transaction_date | datetime |\n",
    "\n",
    "The transaction_id column uniquely identifies each row in this table.\n",
    "Each row of this table contains the transaction ID, product ID, the spend amount, and the transaction date.\n",
    "\n",
    "**Write a solution to calculate the year-on-year growth rate for the total spend for each product.**\n",
    "\n",
    "The result table should include the following columns:\n",
    "- year: The year of the transaction.\n",
    "- product_id: The ID of the product.\n",
    "- curr_year_spend: The total spend for the current year.\n",
    "- prev_year_spend: The total spend for the previous year.\n",
    "- yoy_rate: The year-on-year growth rate percentage, rounded to 2 decimal places.\n",
    "\n",
    "Return the result table ordered by product_id,year in ascending order.\n",
    "\n",
    "The result format is in the following example.\n",
    "\n",
    "**Example:**\n",
    "\n",
    "**Input:**\n",
    "\n",
    "**user_transactions table:**\n",
    "\n",
    "| transaction_id | product_id | spend   | transaction_date    |\n",
    "|----------------|------------|---------|---------------------|\n",
    "| 1341           | 123424     | 1500.60 | 2019-12-31 12:00:00 |\n",
    "| 1423           | 123424     | 1000.20 | 2020-12-31 12:00:00 |\n",
    "| 1623           | 123424     | 1246.44 | 2021-12-31 12:00:00 |\n",
    "| 1322           | 123424     | 2145.32 | 2022-12-31 12:00:00 |\n",
    "\n",
    "**Output:**\n",
    "\n",
    "| year | product_id | curr_year_spend| prev_year_spend| yoy_rate |\n",
    "|------|------------|----------------|----------------|----------|\n",
    "| 2019 | 123424     | 1500.60        | NULL           | NULL     |\n",
    "| 2020 | 123424     | 1000.20        | 1500.60        | -33.35   |\n",
    "| 2021 | 123424     | 1246.44        | 1000.20        | 24.62    |\n",
    "| 2022 | 123424     | 2145.32        | 1246.44        | 72.12    |\n",
    "\n",
    "**Explanation:**\n",
    "- For product ID 123424:\n",
    "  - In 2019:\n",
    "    - Current year's spend is 1500.60\n",
    "    - No previous year's spend recorded\n",
    "    - YoY growth rate: NULL\n",
    "  - In 2020:\n",
    "    - Current year's spend is 1000.20\n",
    "    - Previous year's spend is 1500.60\n",
    "    - YoY growth rate: ((1000.20 - 1500.60) / 1500.60) * 100 = -33.35%\n",
    "  - In 2021:\n",
    "    - Current year's spend is 1246.44\n",
    "    - Previous year's spend is 1000.20\n",
    "    - YoY growth rate: ((1246.44 - 1000.20) / 1000.20) * 100 = 24.62%\n",
    "  - In 2022:\n",
    "    - Current year's spend is 2145.32\n",
    "    - Previous year's spend is 1246.44\n",
    "    - YoY growth rate: ((2145.32 - 1246.44) / 1246.44) * 100 = 72.12%\n",
    "\n",
    "**Note:** Output table is ordered by product_id and year in ascending order."
   ]
  },
  {
   "cell_type": "code",
   "execution_count": 0,
   "metadata": {
    "application/vnd.databricks.v1+cell": {
     "cellMetadata": {
      "byteLimit": 2048000,
      "rowLimit": 10000
     },
     "inputWidgets": {},
     "nuid": "a2368434-0191-416c-aa1d-12cd44cf48e6",
     "showTitle": false,
     "tableResultSettingsMap": {},
     "title": ""
    }
   },
   "outputs": [
    {
     "output_type": "stream",
     "name": "stdout",
     "output_type": "stream",
     "text": [
      "+--------------+----------+-------+-------------------+\n|transaction_id|product_id|  spend|   transaction_date|\n+--------------+----------+-------+-------------------+\n|          1341|    123424| 1500.6|2019-12-31 12:00:00|\n|          1423|    123424| 1000.2|2020-12-31 12:00:00|\n|          1623|    123424|1246.44|2021-12-31 12:00:00|\n|          1322|    123424|2145.32|2022-12-31 12:00:00|\n+--------------+----------+-------+-------------------+\n\n"
     ]
    }
   ],
   "source": [
    "user_transactions_data_3214 = [\n",
    "    (1341, 123424, 1500.60, \"2019-12-31 12:00:00\"),\n",
    "    (1423, 123424, 1000.20, \"2020-12-31 12:00:00\"),\n",
    "    (1623, 123424, 1246.44, \"2021-12-31 12:00:00\"),\n",
    "    (1322, 123424, 2145.32, \"2022-12-31 12:00:00\")\n",
    "]\n",
    "\n",
    "user_transactions_columns_3214 = [\"transaction_id\", \"product_id\", \"spend\", \"transaction_date\"]\n",
    "user_transactions_df_3214 = spark.createDataFrame(user_transactions_data_3214, user_transactions_columns_3214)\n",
    "user_transactions_df_3214.show()"
   ]
  },
  {
   "cell_type": "code",
   "execution_count": 0,
   "metadata": {
    "application/vnd.databricks.v1+cell": {
     "cellMetadata": {
      "byteLimit": 2048000,
      "rowLimit": 10000
     },
     "inputWidgets": {},
     "nuid": "5dcead0f-f108-4953-9e9f-b56fa88deb6a",
     "showTitle": false,
     "tableResultSettingsMap": {},
     "title": ""
    }
   },
   "outputs": [],
   "source": [
    "transactions_by_year_3214 = user_transactions_df_3214\\\n",
    "                                .withColumn(\"year\", year(\"transaction_date\"))\\\n",
    "                                    .groupBy(\"product_id\", \"year\")\\\n",
    "                                        .agg(sum(\"spend\").alias(\"curr_year_spend\"))"
   ]
  },
  {
   "cell_type": "code",
   "execution_count": 0,
   "metadata": {
    "application/vnd.databricks.v1+cell": {
     "cellMetadata": {
      "byteLimit": 2048000,
      "rowLimit": 10000
     },
     "inputWidgets": {},
     "nuid": "65024b8d-b7b3-4733-8eaf-8987a45320da",
     "showTitle": false,
     "tableResultSettingsMap": {},
     "title": ""
    }
   },
   "outputs": [],
   "source": [
    "window_spec = Window.partitionBy(\"product_id\").orderBy(\"year\")"
   ]
  },
  {
   "cell_type": "code",
   "execution_count": 0,
   "metadata": {
    "application/vnd.databricks.v1+cell": {
     "cellMetadata": {
      "byteLimit": 2048000,
      "rowLimit": 10000
     },
     "inputWidgets": {},
     "nuid": "07b8807d-6d4e-426e-971d-dc1a90617d83",
     "showTitle": false,
     "tableResultSettingsMap": {},
     "title": ""
    }
   },
   "outputs": [],
   "source": [
    "transactions_with_prev_3214 = transactions_by_year_3214\\\n",
    "                                    .withColumn(\"prev_year_spend\", lag(\"curr_year_spend\").over(window_spec))"
   ]
  },
  {
   "cell_type": "code",
   "execution_count": 0,
   "metadata": {
    "application/vnd.databricks.v1+cell": {
     "cellMetadata": {
      "byteLimit": 2048000,
      "rowLimit": 10000
     },
     "inputWidgets": {},
     "nuid": "07ebe6f3-0292-4359-901f-1b2953b08b28",
     "showTitle": false,
     "tableResultSettingsMap": {},
     "title": ""
    }
   },
   "outputs": [
    {
     "output_type": "display_data",
     "data": {
      "text/html": [
       "<style scoped>\n",
       "  .table-result-container {\n",
       "    max-height: 300px;\n",
       "    overflow: auto;\n",
       "  }\n",
       "  table, th, td {\n",
       "    border: 1px solid black;\n",
       "    border-collapse: collapse;\n",
       "  }\n",
       "  th, td {\n",
       "    padding: 5px;\n",
       "  }\n",
       "  th {\n",
       "    text-align: left;\n",
       "  }\n",
       "</style><div class='table-result-container'><table class='table-result'><thead style='background-color: white'><tr><th>product_id</th><th>year</th><th>curr_year_spend</th><th>prev_year_spend</th><th>yoy_rate</th></tr></thead><tbody><tr><td>123424</td><td>2019</td><td>1500.6</td><td>null</td><td>null</td></tr><tr><td>123424</td><td>2020</td><td>1000.2</td><td>1500.6</td><td>-33.35</td></tr><tr><td>123424</td><td>2021</td><td>1246.44</td><td>1000.2</td><td>24.62</td></tr><tr><td>123424</td><td>2022</td><td>2145.32</td><td>1246.44</td><td>72.12</td></tr></tbody></table></div>"
      ]
     },
     "metadata": {
      "application/vnd.databricks.v1+output": {
       "addedWidgets": {},
       "aggData": [],
       "aggError": "",
       "aggOverflow": false,
       "aggSchema": [],
       "aggSeriesLimitReached": false,
       "aggType": "",
       "arguments": {},
       "columnCustomDisplayInfos": {},
       "data": [
        [
         123424,
         2019,
         1500.6,
         null,
         null
        ],
        [
         123424,
         2020,
         1000.2,
         1500.6,
         -33.35
        ],
        [
         123424,
         2021,
         1246.44,
         1000.2,
         24.62
        ],
        [
         123424,
         2022,
         2145.32,
         1246.44,
         72.12
        ]
       ],
       "datasetInfos": [],
       "dbfsResultPath": null,
       "isJsonSchema": true,
       "metadata": {},
       "overflow": false,
       "plotOptions": {
        "customPlotOptions": {},
        "displayType": "table",
        "pivotAggregation": null,
        "pivotColumns": null,
        "xColumns": null,
        "yColumns": null
       },
       "removedWidgets": [],
       "schema": [
        {
         "metadata": "{}",
         "name": "product_id",
         "type": "\"long\""
        },
        {
         "metadata": "{}",
         "name": "year",
         "type": "\"integer\""
        },
        {
         "metadata": "{}",
         "name": "curr_year_spend",
         "type": "\"double\""
        },
        {
         "metadata": "{}",
         "name": "prev_year_spend",
         "type": "\"double\""
        },
        {
         "metadata": "{}",
         "name": "yoy_rate",
         "type": "\"double\""
        }
       ],
       "type": "table"
      }
     },
     "output_type": "display_data"
    }
   ],
   "source": [
    "transactions_with_prev_3214\\\n",
    "    .withColumn(\"yoy_rate\",\n",
    "                round( (col(\"curr_year_spend\") - col(\"prev_year_spend\")) / col(\"prev_year_spend\") * 100, 2))\\\n",
    "                    .orderBy(\"product_id\", \"year\").display()"
   ]
  }
 ],
 "metadata": {
  "application/vnd.databricks.v1+notebook": {
   "computePreferences": {
    "hardware": {
     "accelerator": null,
     "gpuPoolId": null,
     "memory": null
    }
   },
   "dashboards": [],
   "environmentMetadata": {
    "base_environment": "",
    "environment_version": "2"
   },
   "inputWidgetPreferences": null,
   "language": "python",
   "notebookMetadata": {
    "pythonIndentUnit": 4
   },
   "notebookName": "3214. Year on Year Growth Rate (Hard)-(Solved)",
   "widgets": {}
  },
  "language_info": {
   "name": "python"
  }
 },
 "nbformat": 4,
 "nbformat_minor": 0
}
