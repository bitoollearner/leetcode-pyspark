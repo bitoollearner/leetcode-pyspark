{
 "cells": [
  {
   "cell_type": "markdown",
   "metadata": {
    "application/vnd.databricks.v1+cell": {
     "cellMetadata": {},
     "inputWidgets": {},
     "nuid": "7d1791bd-9552-4116-90b2-daa678bbffb8",
     "showTitle": false,
     "tableResultSettingsMap": {},
     "title": ""
    }
   },
   "source": [
    "## Importing Libraries"
   ]
  },
  {
   "cell_type": "code",
   "execution_count": 0,
   "metadata": {
    "application/vnd.databricks.v1+cell": {
     "cellMetadata": {},
     "inputWidgets": {},
     "nuid": "2901fbc9-49db-4285-8b94-c460f34d4c4f",
     "showTitle": false,
     "tableResultSettingsMap": {},
     "title": ""
    }
   },
   "outputs": [],
   "source": [
    "from pyspark.sql.functions import *\n",
    "from pyspark.sql.types import *\n",
    "from pyspark.sql.window import Window"
   ]
  },
  {
   "cell_type": "markdown",
   "metadata": {
    "application/vnd.databricks.v1+cell": {
     "cellMetadata": {},
     "inputWidgets": {},
     "nuid": "655120e7-6b25-417c-a08a-c6925feaa425",
     "showTitle": false,
     "tableResultSettingsMap": {},
     "title": ""
    }
   },
   "source": [
    "**3214. Year on Year Growth Rate (Hard)**\n",
    "\n",
    "**Table: user_transactions**\n",
    "\n",
    "| Column Name      | Type     | \n",
    "|------------------|----------|\n",
    "| transaction_id   | integer  |\n",
    "| product_id       | integer  |\n",
    "| spend            | decimal  |\n",
    "| transaction_date | datetime |\n",
    "\n",
    "The transaction_id column uniquely identifies each row in this table.\n",
    "Each row of this table contains the transaction ID, product ID, the spend amount, and the transaction date.\n",
    "\n",
    "**Write a solution to calculate the year-on-year growth rate for the total spend for each product.**\n",
    "\n",
    "The result table should include the following columns:\n",
    "- year: The year of the transaction.\n",
    "- product_id: The ID of the product.\n",
    "- curr_year_spend: The total spend for the current year.\n",
    "- prev_year_spend: The total spend for the previous year.\n",
    "- yoy_rate: The year-on-year growth rate percentage, rounded to 2 decimal places.\n",
    "\n",
    "Return the result table ordered by product_id,year in ascending order.\n",
    "\n",
    "The result format is in the following example.\n",
    "\n",
    "**Example:**\n",
    "\n",
    "**Input:**\n",
    "\n",
    "**user_transactions table:**\n",
    "\n",
    "| transaction_id | product_id | spend   | transaction_date    |\n",
    "|----------------|------------|---------|---------------------|\n",
    "| 1341           | 123424     | 1500.60 | 2019-12-31 12:00:00 |\n",
    "| 1423           | 123424     | 1000.20 | 2020-12-31 12:00:00 |\n",
    "| 1623           | 123424     | 1246.44 | 2021-12-31 12:00:00 |\n",
    "| 1322           | 123424     | 2145.32 | 2022-12-31 12:00:00 |\n",
    "\n",
    "**Output:**\n",
    "\n",
    "| year | product_id | curr_year_spend| prev_year_spend| yoy_rate |\n",
    "|------|------------|----------------|----------------|----------|\n",
    "| 2019 | 123424     | 1500.60        | NULL           | NULL     |\n",
    "| 2020 | 123424     | 1000.20        | 1500.60        | -33.35   |\n",
    "| 2021 | 123424     | 1246.44        | 1000.20        | 24.62    |\n",
    "| 2022 | 123424     | 2145.32        | 1246.44        | 72.12    |\n",
    "\n",
    "**Explanation:**\n",
    "- For product ID 123424:\n",
    "  - In 2019:\n",
    "    - Current year's spend is 1500.60\n",
    "    - No previous year's spend recorded\n",
    "    - YoY growth rate: NULL\n",
    "  - In 2020:\n",
    "    - Current year's spend is 1000.20\n",
    "    - Previous year's spend is 1500.60\n",
    "    - YoY growth rate: ((1000.20 - 1500.60) / 1500.60) * 100 = -33.35%\n",
    "  - In 2021:\n",
    "    - Current year's spend is 1246.44\n",
    "    - Previous year's spend is 1000.20\n",
    "    - YoY growth rate: ((1246.44 - 1000.20) / 1000.20) * 100 = 24.62%\n",
    "  - In 2022:\n",
    "    - Current year's spend is 2145.32\n",
    "    - Previous year's spend is 1246.44\n",
    "    - YoY growth rate: ((2145.32 - 1246.44) / 1246.44) * 100 = 72.12%\n",
    "\n",
    "**Note:** Output table is ordered by product_id and year in ascending order."
   ]
  },
  {
   "cell_type": "code",
   "execution_count": 0,
   "metadata": {
    "application/vnd.databricks.v1+cell": {
     "cellMetadata": {},
     "inputWidgets": {},
     "nuid": "a2368434-0191-416c-aa1d-12cd44cf48e6",
     "showTitle": false,
     "tableResultSettingsMap": {},
     "title": ""
    }
   },
   "outputs": [],
   "source": [
    "user_transactions_data_3214 = [\n",
    "    (1341, 123424, 1500.60, \"2019-12-31 12:00:00\"),\n",
    "    (1423, 123424, 1000.20, \"2020-12-31 12:00:00\"),\n",
    "    (1623, 123424, 1246.44, \"2021-12-31 12:00:00\"),\n",
    "    (1322, 123424, 2145.32, \"2022-12-31 12:00:00\")\n",
    "]\n",
    "\n",
    "user_transactions_columns_3214 = [\"transaction_id\", \"product_id\", \"spend\", \"transaction_date\"]\n",
    "user_transactions_df_3214 = spark.createDataFrame(user_transactions_data_3214, user_transactions_columns_3214)\n",
    "user_transactions_df_3214.show()"
   ]
  }
 ],
 "metadata": {
  "application/vnd.databricks.v1+notebook": {
   "computePreferences": null,
   "dashboards": [],
   "environmentMetadata": {
    "base_environment": "",
    "environment_version": "1"
   },
   "inputWidgetPreferences": null,
   "language": "python",
   "notebookMetadata": {
    "pythonIndentUnit": 4
   },
   "notebookName": "3214. Year on Year Growth Rate (Hard)-(Solved)",
   "widgets": {}
  },
  "language_info": {
   "name": "python"
  }
 },
 "nbformat": 4,
 "nbformat_minor": 0
}
