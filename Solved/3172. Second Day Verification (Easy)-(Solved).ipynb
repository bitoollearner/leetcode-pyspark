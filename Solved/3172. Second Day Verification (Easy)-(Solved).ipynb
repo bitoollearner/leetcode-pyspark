{
 "cells": [
  {
   "cell_type": "markdown",
   "metadata": {
    "application/vnd.databricks.v1+cell": {
     "cellMetadata": {
      "byteLimit": 2048000,
      "rowLimit": 10000
     },
     "inputWidgets": {},
     "nuid": "7d1791bd-9552-4116-90b2-daa678bbffb8",
     "showTitle": false,
     "tableResultSettingsMap": {},
     "title": ""
    }
   },
   "source": [
    "## Importing Libraries"
   ]
  },
  {
   "cell_type": "code",
   "execution_count": 0,
   "metadata": {
    "application/vnd.databricks.v1+cell": {
     "cellMetadata": {
      "byteLimit": 2048000,
      "rowLimit": 10000
     },
     "inputWidgets": {},
     "nuid": "2901fbc9-49db-4285-8b94-c460f34d4c4f",
     "showTitle": false,
     "tableResultSettingsMap": {},
     "title": ""
    }
   },
   "outputs": [],
   "source": [
    "from pyspark.sql.functions import *\n",
    "from pyspark.sql.types import *\n",
    "from pyspark.sql.window import Window"
   ]
  },
  {
   "cell_type": "markdown",
   "metadata": {
    "application/vnd.databricks.v1+cell": {
     "cellMetadata": {
      "byteLimit": 2048000,
      "rowLimit": 10000
     },
     "inputWidgets": {},
     "nuid": "655120e7-6b25-417c-a08a-c6925feaa425",
     "showTitle": false,
     "tableResultSettingsMap": {},
     "title": ""
    }
   },
   "source": [
    "**3172. Second Day Verification (Easy)**\n",
    "\n",
    "**Table: emails**\n",
    "\n",
    "| Column Name | Type     | \n",
    "|-------------|----------|\n",
    "| email_id    | int      |\n",
    "| user_id     | int      |\n",
    "| signup_date | datetime |\n",
    "\n",
    "(email_id, user_id) is the primary key (combination of columns with unique values) for this table.\n",
    "Each row of this table contains the email ID, user ID, and signup date.\n",
    "\n",
    "**Table: texts**\n",
    "\n",
    "| Column Name   | Type     | \n",
    "|---------------|----------|\n",
    "| text_id       | int      |\n",
    "| email_id      | int      |\n",
    "| signup_action | enum     |\n",
    "| action_date   | datetime |\n",
    "\n",
    "(text_id, email_id) is the primary key (combination of columns with unique values) for this table. \n",
    "signup_action is an enum type of ('Verified', 'Not Verified'). \n",
    "Each row of this table contains the text ID, email ID, signup action, and action date.\n",
    "\n",
    "**Write a Solution to find the user IDs of those who verified their sign-up on the second day.**\n",
    "\n",
    "Return the result table ordered by user_id in ascending order.\n",
    "\n",
    "The result format is in the following example.\n",
    "\n",
    "**Example:**\n",
    "\n",
    "**Input:**\n",
    "\n",
    "**emails table:**\n",
    "\n",
    "| email_id | user_id | signup_date         |\n",
    "|----------|---------|---------------------|\n",
    "| 125      | 7771    | 2022-06-14 09:30:00|\n",
    "| 433      | 1052    | 2022-07-09 08:15:00|\n",
    "| 234      | 7005    | 2022-08-20 10:00:00|\n",
    "\n",
    "**texts table:**\n",
    "\n",
    "| text_id | email_id | signup_action| action_date         |\n",
    "|---------|----------|--------------|---------------------|\n",
    "| 1       | 125      | Verified     | 2022-06-15 08:30:00|\n",
    "| 2       | 433      | Not Verified | 2022-07-10 10:45:00|\n",
    "| 4       | 234      | Verified     | 2022-08-21 09:30:00|\n",
    "    \n",
    "**Output:**\n",
    "\n",
    "| user_id |\n",
    "|---------|\n",
    "| 7005    |\n",
    "| 7771    |\n",
    "\n",
    "**Explanation:**\n",
    "- User with user_id 7005 and email_id 234 signed up on 2022-08-20 10:00:00 and verified on second day of the signup.\n",
    "- User with user_id 7771 and email_id 125 signed up on 2022-06-14 09:30:00 and verified on second day of the signup."
   ]
  },
  {
   "cell_type": "code",
   "execution_count": 0,
   "metadata": {
    "application/vnd.databricks.v1+cell": {
     "cellMetadata": {
      "byteLimit": 2048000,
      "rowLimit": 10000
     },
     "inputWidgets": {},
     "nuid": "a2368434-0191-416c-aa1d-12cd44cf48e6",
     "showTitle": false,
     "tableResultSettingsMap": {},
     "title": ""
    }
   },
   "outputs": [
    {
     "output_type": "stream",
     "name": "stdout",
     "output_type": "stream",
     "text": [
      "+--------+-------+-------------------+\n|email_id|user_id|        signup_date|\n+--------+-------+-------------------+\n|     125|   7771|2022-06-14 09:30:00|\n|     433|   1052|2022-07-09 08:15:00|\n|     234|   7005|2022-08-20 10:00:00|\n+--------+-------+-------------------+\n\n+-------+--------+-------------+-------------------+\n|text_id|email_id|signup_action|        action_date|\n+-------+--------+-------------+-------------------+\n|      1|     125|     Verified|2022-06-15 08:30:00|\n|      2|     433| Not Verified|2022-07-10 10:45:00|\n|      4|     234|     Verified|2022-08-21 09:30:00|\n+-------+--------+-------------+-------------------+\n\n"
     ]
    }
   ],
   "source": [
    "emails_data_3172 = [\n",
    "    (125, 7771, \"2022-06-14 09:30:00\"),\n",
    "    (433, 1052, \"2022-07-09 08:15:00\"),\n",
    "    (234, 7005, \"2022-08-20 10:00:00\")\n",
    "]\n",
    "\n",
    "emails_columns_3172 = [\"email_id\", \"user_id\", \"signup_date\"]\n",
    "emails_df_3172 = spark.createDataFrame(emails_data_3172, emails_columns_3172)\n",
    "emails_df_3172.show()\n",
    "\n",
    "texts_data_3172 = [\n",
    "    (1, 125, \"Verified\", \"2022-06-15 08:30:00\"),\n",
    "    (2, 433, \"Not Verified\", \"2022-07-10 10:45:00\"),\n",
    "    (4, 234, \"Verified\", \"2022-08-21 09:30:00\")\n",
    "]\n",
    "\n",
    "texts_columns_3172 = [\"text_id\", \"email_id\", \"signup_action\", \"action_date\"]\n",
    "texts_df_3172 = spark.createDataFrame(texts_data_3172, texts_columns_3172)\n",
    "texts_df_3172.show()"
   ]
  },
  {
   "cell_type": "code",
   "execution_count": 0,
   "metadata": {
    "application/vnd.databricks.v1+cell": {
     "cellMetadata": {
      "byteLimit": 2048000,
      "rowLimit": 10000
     },
     "inputWidgets": {},
     "nuid": "17f5ac33-48ad-4d54-8b90-7e44b35af59c",
     "showTitle": false,
     "tableResultSettingsMap": {},
     "title": ""
    }
   },
   "outputs": [],
   "source": [
    "emails_df_3172 = emails_df_3172\\\n",
    "                    .withColumn(\"signup_date\", col(\"signup_date\").cast(\"timestamp\"))"
   ]
  },
  {
   "cell_type": "code",
   "execution_count": 0,
   "metadata": {
    "application/vnd.databricks.v1+cell": {
     "cellMetadata": {
      "byteLimit": 2048000,
      "rowLimit": 10000
     },
     "inputWidgets": {},
     "nuid": "c06002ea-4e04-4be7-900c-8187afd45ee8",
     "showTitle": false,
     "tableResultSettingsMap": {},
     "title": ""
    }
   },
   "outputs": [],
   "source": [
    "texts_df_3172 = texts_df_3172\\\n",
    "                    .withColumn(\"action_date\", col(\"action_date\").cast(\"timestamp\"))"
   ]
  },
  {
   "cell_type": "code",
   "execution_count": 0,
   "metadata": {
    "application/vnd.databricks.v1+cell": {
     "cellMetadata": {
      "byteLimit": 2048000,
      "rowLimit": 10000
     },
     "inputWidgets": {},
     "nuid": "6efa343b-541c-45bb-ae23-7bb9fb691271",
     "showTitle": false,
     "tableResultSettingsMap": {},
     "title": ""
    }
   },
   "outputs": [],
   "source": [
    "df_3172 = emails_df_3172\\\n",
    "                .join(texts_df_3172, on=\"email_id\", how=\"inner\")\\\n",
    "                    .filter(col(\"signup_action\") == \"Verified\")"
   ]
  },
  {
   "cell_type": "code",
   "execution_count": 0,
   "metadata": {
    "application/vnd.databricks.v1+cell": {
     "cellMetadata": {
      "byteLimit": 2048000,
      "rowLimit": 10000
     },
     "inputWidgets": {},
     "nuid": "aeca56b1-5204-44aa-bc59-812aeb1851aa",
     "showTitle": false,
     "tableResultSettingsMap": {},
     "title": ""
    }
   },
   "outputs": [
    {
     "output_type": "display_data",
     "data": {
      "text/html": [
       "<style scoped>\n",
       "  .table-result-container {\n",
       "    max-height: 300px;\n",
       "    overflow: auto;\n",
       "  }\n",
       "  table, th, td {\n",
       "    border: 1px solid black;\n",
       "    border-collapse: collapse;\n",
       "  }\n",
       "  th, td {\n",
       "    padding: 5px;\n",
       "  }\n",
       "  th {\n",
       "    text-align: left;\n",
       "  }\n",
       "</style><div class='table-result-container'><table class='table-result'><thead style='background-color: white'><tr><th>user_id</th></tr></thead><tbody><tr><td>7005</td></tr><tr><td>7771</td></tr></tbody></table></div>"
      ]
     },
     "metadata": {
      "application/vnd.databricks.v1+output": {
       "addedWidgets": {},
       "aggData": [],
       "aggError": "",
       "aggOverflow": false,
       "aggSchema": [],
       "aggSeriesLimitReached": false,
       "aggType": "",
       "arguments": {},
       "columnCustomDisplayInfos": {},
       "data": [
        [
         7005
        ],
        [
         7771
        ]
       ],
       "datasetInfos": [],
       "dbfsResultPath": null,
       "isJsonSchema": true,
       "metadata": {},
       "overflow": false,
       "plotOptions": {
        "customPlotOptions": {},
        "displayType": "table",
        "pivotAggregation": null,
        "pivotColumns": null,
        "xColumns": null,
        "yColumns": null
       },
       "removedWidgets": [],
       "schema": [
        {
         "metadata": "{}",
         "name": "user_id",
         "type": "\"long\""
        }
       ],
       "type": "table"
      }
     },
     "output_type": "display_data"
    }
   ],
   "source": [
    "df_3172\\\n",
    "    .withColumn( \"days_diff\", datediff(col(\"action_date\"), col(\"signup_date\")))\\\n",
    "        .filter(col(\"days_diff\") == 1)\\\n",
    "            .select(\"user_id\").distinct().orderBy(\"user_id\").display()"
   ]
  }
 ],
 "metadata": {
  "application/vnd.databricks.v1+notebook": {
   "computePreferences": {
    "hardware": {
     "accelerator": null,
     "gpuPoolId": null,
     "memory": null
    }
   },
   "dashboards": [],
   "environmentMetadata": {
    "base_environment": "",
    "environment_version": "2"
   },
   "inputWidgetPreferences": null,
   "language": "python",
   "notebookMetadata": {
    "pythonIndentUnit": 4
   },
   "notebookName": "3172. Second Day Verification (Easy)-(Solved)",
   "widgets": {}
  },
  "language_info": {
   "name": "python"
  }
 },
 "nbformat": 4,
 "nbformat_minor": 0
}
