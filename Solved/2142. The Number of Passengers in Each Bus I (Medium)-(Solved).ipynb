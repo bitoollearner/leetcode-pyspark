{
 "cells": [
  {
   "cell_type": "markdown",
   "metadata": {
    "application/vnd.databricks.v1+cell": {
     "cellMetadata": {},
     "inputWidgets": {},
     "nuid": "a23f6d56-6d8d-44bc-b796-cedda9e17c21",
     "showTitle": false,
     "tableResultSettingsMap": {},
     "title": ""
    }
   },
   "source": [
    "## Importing Libraries"
   ]
  },
  {
   "cell_type": "code",
   "execution_count": 0,
   "metadata": {
    "application/vnd.databricks.v1+cell": {
     "cellMetadata": {},
     "inputWidgets": {},
     "nuid": "0a69d78b-43d7-4f9e-a05d-026985c2539f",
     "showTitle": false,
     "tableResultSettingsMap": {},
     "title": ""
    }
   },
   "outputs": [],
   "source": [
    "from pyspark.sql.functions import *\n",
    "from pyspark.sql.types import *\n",
    "from pyspark.sql.window import Window"
   ]
  },
  {
   "cell_type": "markdown",
   "metadata": {
    "application/vnd.databricks.v1+cell": {
     "cellMetadata": {},
     "inputWidgets": {},
     "nuid": "2a54b88b-06bd-43e4-978a-c0c5d33ca5bb",
     "showTitle": false,
     "tableResultSettingsMap": {},
     "title": ""
    }
   },
   "source": [
    "**2142. The Number of Passengers in Each Bus I (Medium)**\n",
    "\n",
    "**Table: Buses**\n",
    "\n",
    "| Column Name  | Type |\n",
    "|--------------|------|\n",
    "| bus_id       | int  |\n",
    "| arrival_time | int  |\n",
    "\n",
    "bus_id is the column with unique values for this table.\n",
    "Each row of this table contains information about the arrival time of a bus at the LeetCode station.\n",
    "No two buses will arrive at the same time.\n",
    " \n",
    "**Table: Passengers**\n",
    "\n",
    "| Column Name  | Type |\n",
    "|--------------|------|\n",
    "| passenger_id | int  |\n",
    "| arrival_time | int  |\n",
    "\n",
    "passenger_id is the column with unique values for this table.\n",
    "Each row of this table contains information about the arrival time of a passenger at the LeetCode station.\n",
    " \n",
    "Buses and passengers arrive at the LeetCode station. If a bus arrives at the station at time tbus and a passenger arrived at time tpassenger where tpassenger <= tbus and the passenger did not catch any bus, the passenger will use that bus.\n",
    "\n",
    "**Write a solution to report the number of users that used each bus.**\n",
    "\n",
    "Return the result table ordered by bus_id in ascending order.\n",
    "\n",
    "The result format is in the following example.\n",
    "\n",
    "**Example 1:**\n",
    "\n",
    "**Input:** \n",
    "\n",
    "**Buses table:**\n",
    "\n",
    "| bus_id | arrival_time |\n",
    "|--------|--------------|\n",
    "| 1      | 2            |\n",
    "| 2      | 4            |\n",
    "| 3      | 7            |\n",
    "\n",
    "**Passengers table:**\n",
    "| passenger_id | arrival_time |\n",
    "|--------------|--------------|\n",
    "| 11           | 1            |\n",
    "| 12           | 5            |\n",
    "| 13           | 6            |\n",
    "| 14           | 7            |\n",
    "\n",
    "**Output:** \n",
    "| bus_id | passengers_cnt |\n",
    "|--------|----------------|\n",
    "| 1      | 1              |\n",
    "| 2      | 0              |\n",
    "| 3      | 3              |\n",
    "\n",
    "**Explanation:** \n",
    "- Passenger 11 arrives at time 1.\n",
    "- Bus 1 arrives at time 2 and collects passenger 11.\n",
    "- Bus 2 arrives at time 4 and does not collect any passengers.\n",
    "- Passenger 12 arrives at time 5.\n",
    "- Passenger 13 arrives at time 6.\n",
    "- Passenger 14 arrives at time 7.\n",
    "- Bus 3 arrives at time 7 and collects passengers 12, 13, and 14."
   ]
  },
  {
   "cell_type": "code",
   "execution_count": 0,
   "metadata": {
    "application/vnd.databricks.v1+cell": {
     "cellMetadata": {},
     "inputWidgets": {},
     "nuid": "c260f510-542b-4067-a6f4-ffed86995056",
     "showTitle": false,
     "tableResultSettingsMap": {},
     "title": ""
    }
   },
   "outputs": [],
   "source": [
    "buses_data_2142 = [\n",
    "    (1, 2),\n",
    "    (2, 4),\n",
    "    (3, 7)\n",
    "]\n",
    "\n",
    "buses_columns_2142 = [\"bus_id\", \"arrival_time\"]\n",
    "buses_df_2142 = spark.createDataFrame(buses_data_2142, buses_columns_2142)\n",
    "buses_df_2142.show()\n",
    "\n",
    "passengers_data_2142 = [\n",
    "    (11, 1),\n",
    "    (12, 5),\n",
    "    (13, 6),\n",
    "    (14, 7)\n",
    "]\n",
    "\n",
    "passengers_columns_2142 = [\"passenger_id\", \"arrival_time\"]\n",
    "passengers_df_2142 = spark.createDataFrame(passengers_data_2142, passengers_columns_2142)\n",
    "passengers_df_2142.show()"
   ]
  }
 ],
 "metadata": {
  "application/vnd.databricks.v1+notebook": {
   "computePreferences": null,
   "dashboards": [],
   "environmentMetadata": {
    "base_environment": "",
    "environment_version": "1"
   },
   "inputWidgetPreferences": null,
   "language": "python",
   "notebookMetadata": {
    "pythonIndentUnit": 4
   },
   "notebookName": "2142. The Number of Passengers in Each Bus I (Medium)",
   "widgets": {}
  }
 },
 "nbformat": 4,
 "nbformat_minor": 0
}