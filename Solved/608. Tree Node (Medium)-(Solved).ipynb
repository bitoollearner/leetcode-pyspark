{
 "cells": [
  {
   "cell_type": "markdown",
   "metadata": {
    "application/vnd.databricks.v1+cell": {
     "cellMetadata": {
      "byteLimit": 2048000,
      "rowLimit": 10000
     },
     "inputWidgets": {},
     "nuid": "5ab27f1b-7c08-44cb-8766-b16c3470b90d",
     "showTitle": false,
     "tableResultSettingsMap": {},
     "title": ""
    }
   },
   "source": [
    "## Importing Libraries"
   ]
  },
  {
   "cell_type": "code",
   "execution_count": 0,
   "metadata": {
    "application/vnd.databricks.v1+cell": {
     "cellMetadata": {
      "byteLimit": 2048000,
      "rowLimit": 10000
     },
     "inputWidgets": {},
     "nuid": "0d316502-e6b4-4432-b3fd-6159096e4951",
     "showTitle": false,
     "tableResultSettingsMap": {},
     "title": ""
    }
   },
   "outputs": [],
   "source": [
    "from pyspark.sql.functions import *\n",
    "from pyspark.sql.types import *\n",
    "from pyspark.sql.window import Window"
   ]
  },
  {
   "cell_type": "markdown",
   "metadata": {
    "application/vnd.databricks.v1+cell": {
     "cellMetadata": {
      "byteLimit": 2048000,
      "rowLimit": 10000
     },
     "inputWidgets": {},
     "nuid": "2e4d3e31-be24-427a-bc7e-362b6765c4fa",
     "showTitle": false,
     "tableResultSettingsMap": {},
     "title": ""
    }
   },
   "source": [
    "\n",
    "**608. Tree Node (Medium)**\n",
    "\n",
    "**Table: Tree**\n",
    "\n",
    "| Column Name | Type |\n",
    "|-------------|------|\n",
    "| id          | int  |\n",
    "| p_id        | int  |\n",
    "\n",
    "id is the column with unique values for this table.\n",
    "Each row of this table contains information about the id of a node and the id of its parent node in a tree.\n",
    "The given structure is always a valid tree.\n",
    " \n",
    "\n",
    "Each node in the tree can be one of three types:\n",
    "\n",
    "- **\"Leaf\":** if the node is a leaf node.\n",
    "- **\"Root\":** if the node is the root of the tree.\n",
    "- **\"Inner\":** If the node is neither a leaf node nor a root node.\n",
    "\n",
    "**Write a solution to report the type of each node in the tree.**\n",
    "\n",
    "Return the result table in any order.\n",
    "\n",
    "The result format is in the following example.\n",
    "\n",
    "**Example 1:**\n",
    "\n",
    "**Input:**\n",
    "**Tree table:**\n",
    "| id | p_id |\n",
    "|----|------|\n",
    "| 1  | null |\n",
    "| 2  | 1    |\n",
    "| 3  | 1    |\n",
    "| 4  | 2    |\n",
    "| 5  | 2    |\n",
    "\n",
    "**Output:**\n",
    "| id | type  |\n",
    "|----|-------|\n",
    "| 1  | Root  |\n",
    "| 2  | Inner |\n",
    "| 3  | Leaf  |\n",
    "| 4  | Leaf  |\n",
    "| 5  | Leaf  |\n",
    "\n",
    "**Explanation:**\n",
    "- Node 1 is the root node because its parent node is null and it has child nodes 2 and 3.\n",
    "- Node 2 is an inner node because it has parent node 1 and child node 4 and 5.\n",
    "- Nodes 3, 4, and 5 are leaf nodes because they have parent nodes and they do not have child nodes.\n",
    "\n",
    "**Example 2:**\n",
    "\n",
    "**Input:**\n",
    "**Tree table:**\n",
    "| id | p_id |\n",
    "|----|------|\n",
    "| 1  | null |\n",
    "\n",
    "**Output:**\n",
    "| id | type  |\n",
    "|----|-------|\n",
    "| 1  | Root  |\n",
    "\n",
    "**Explanation:** If there is only one node on the tree, you only need to output its root attributes.\n",
    " "
   ]
  },
  {
   "cell_type": "code",
   "execution_count": 0,
   "metadata": {
    "application/vnd.databricks.v1+cell": {
     "cellMetadata": {
      "byteLimit": 2048000,
      "rowLimit": 10000
     },
     "inputWidgets": {},
     "nuid": "f6f11a82-8828-41ca-828a-e88f8586b97a",
     "showTitle": false,
     "tableResultSettingsMap": {},
     "title": ""
    }
   },
   "outputs": [],
   "source": [
    "tree_data_608 = [\n",
    "    (1, None),\n",
    "    (2, 1),\n",
    "    (3, 1),\n",
    "    (4, 2),\n",
    "    (5, 2)\n",
    "]\n",
    "\n",
    "tree_columns_608 = [\"id\", \"p_id\"]\n",
    "tree_df_608 = spark.createDataFrame(tree_data_608, tree_columns_608)\n",
    "tree_df_608.show()"
   ]
  },
  {
   "cell_type": "code",
   "execution_count": 0,
   "metadata": {
    "application/vnd.databricks.v1+cell": {
     "cellMetadata": {
      "byteLimit": 2048000,
      "rowLimit": 10000
     },
     "inputWidgets": {},
     "nuid": "ce51c584-a0fc-429f-b987-e5f145a812bd",
     "showTitle": false,
     "tableResultSettingsMap": {},
     "title": ""
    }
   },
   "outputs": [],
   "source": [
    "parents_df_608 = tree_df_608\\\n",
    "                    .select(col(\"p_id\").alias(\"id\")).distinct()\\\n",
    "                        .filter(col(\"id\").isNotNull())"
   ]
  },
  {
   "cell_type": "code",
   "execution_count": 0,
   "metadata": {
    "application/vnd.databricks.v1+cell": {
     "cellMetadata": {
      "byteLimit": 2048000,
      "rowLimit": 10000
     },
     "inputWidgets": {},
     "nuid": "3093ff05-aa3e-4c9b-b18a-9972201e6812",
     "showTitle": false,
     "tableResultSettingsMap": {},
     "title": ""
    }
   },
   "outputs": [],
   "source": [
    "parents_df_608.show()"
   ]
  },
  {
   "cell_type": "code",
   "execution_count": 0,
   "metadata": {
    "application/vnd.databricks.v1+cell": {
     "cellMetadata": {
      "byteLimit": 2048000,
      "rowLimit": 10000
     },
     "inputWidgets": {},
     "nuid": "bcfcef01-0a3e-4560-b6ce-1c499ddb659a",
     "showTitle": false,
     "tableResultSettingsMap": {},
     "title": ""
    }
   },
   "outputs": [],
   "source": [
    "df_with_parent_flag_608 = tree_df_608.join(\n",
    "    parents_df_608.withColumn(\"is_parent\", when(col(\"id\").isNotNull(), 1)),\n",
    "    on=\"id\",\n",
    "    how=\"left\"\n",
    ")"
   ]
  },
  {
   "cell_type": "code",
   "execution_count": 0,
   "metadata": {
    "application/vnd.databricks.v1+cell": {
     "cellMetadata": {
      "byteLimit": 2048000,
      "rowLimit": 10000
     },
     "inputWidgets": {},
     "nuid": "bcd72d13-e401-418c-8751-03cb684ea8eb",
     "showTitle": false,
     "tableResultSettingsMap": {},
     "title": ""
    }
   },
   "outputs": [],
   "source": [
    "df_with_parent_flag_608.show()"
   ]
  },
  {
   "cell_type": "code",
   "execution_count": 0,
   "metadata": {
    "application/vnd.databricks.v1+cell": {
     "cellMetadata": {
      "byteLimit": 2048000,
      "rowLimit": 10000
     },
     "inputWidgets": {},
     "nuid": "f139fc72-7449-4132-b3e4-e604ee0ef1fc",
     "showTitle": false,
     "tableResultSettingsMap": {},
     "title": ""
    }
   },
   "outputs": [],
   "source": [
    "df_with_parent_flag_608\\\n",
    "    .withColumn(\"type\",\n",
    "                when(col(\"p_id\").isNull(), \"Root\")\n",
    "                .when(col(\"is_parent\") == 1, \"Inner\")\n",
    "                .otherwise(\"Leaf\"))\\\n",
    "                    .select(\"id\", \"type\").show()"
   ]
  }
 ],
 "metadata": {
  "application/vnd.databricks.v1+notebook": {
   "computePreferences": {
    "hardware": {
     "accelerator": null,
     "gpuPoolId": null,
     "memory": null
    }
   },
   "dashboards": [],
   "environmentMetadata": {
    "base_environment": "",
    "environment_version": "2"
   },
   "inputWidgetPreferences": null,
   "language": "python",
   "notebookMetadata": {
    "pythonIndentUnit": 4
   },
   "notebookName": "608. Tree Node (Medium)-(Solved)",
   "widgets": {}
  },
  "language_info": {
   "name": "python"
  }
 },
 "nbformat": 4,
 "nbformat_minor": 0
}
