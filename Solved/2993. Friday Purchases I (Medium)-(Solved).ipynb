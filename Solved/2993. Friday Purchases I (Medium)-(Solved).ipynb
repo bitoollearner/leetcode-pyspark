{
 "cells": [
  {
   "cell_type": "markdown",
   "metadata": {
    "application/vnd.databricks.v1+cell": {
     "cellMetadata": {
      "byteLimit": 2048000,
      "rowLimit": 10000
     },
     "inputWidgets": {},
     "nuid": "4e9d71b1-88e9-445c-820a-b842e217a4e7",
     "showTitle": false,
     "tableResultSettingsMap": {},
     "title": ""
    }
   },
   "source": [
    "## Importing Libraries"
   ]
  },
  {
   "cell_type": "code",
   "execution_count": 0,
   "metadata": {
    "application/vnd.databricks.v1+cell": {
     "cellMetadata": {
      "byteLimit": 2048000,
      "rowLimit": 10000
     },
     "inputWidgets": {},
     "nuid": "e6624c4d-8cb8-4ac4-8c72-81d1b4ecdb57",
     "showTitle": false,
     "tableResultSettingsMap": {},
     "title": ""
    }
   },
   "outputs": [],
   "source": [
    "from pyspark.sql.functions import *\n",
    "from pyspark.sql.types import *\n",
    "from pyspark.sql.window import Window"
   ]
  },
  {
   "cell_type": "markdown",
   "metadata": {
    "application/vnd.databricks.v1+cell": {
     "cellMetadata": {
      "byteLimit": 2048000,
      "rowLimit": 10000
     },
     "inputWidgets": {},
     "nuid": "c3788fe5-f4c9-420f-ad72-ec1a39310a2a",
     "showTitle": false,
     "tableResultSettingsMap": {},
     "title": ""
    }
   },
   "source": [
    "**2993. Friday Purchases I (Medium)**\n",
    "\n",
    "**Table: Purchases**\n",
    "\n",
    "| Column Name   | Type |\n",
    "|---------------|------|\n",
    "| user_id       | int  |\n",
    "| purchase_date | date |\n",
    "| amount_spend  | int  |\n",
    "\n",
    "(user_id, purchase_date, amount_spend) is the primary key (combination of columns with unique values) for this table.\n",
    "purchase_date will range from November 1, 2023, to November 30, 2023, inclusive of both dates.\n",
    "Each row contains user id, purchase date, and amount spend.\n",
    "\n",
    "**Write a solution to calculate the total spending by users on each Friday of every week in November 2023. Output only weeks that include at least one purchase on a Friday.**\n",
    "\n",
    "Return the result table ordered by week of month in ascending order.\n",
    "\n",
    "The result format is in the following example.\n",
    "\n",
    "**Example 1:**\n",
    "\n",
    "**Input:**\n",
    "**Purchases table:**\n",
    "\n",
    "| user_id | purchase_date | amount_spend |\n",
    "|---------|---------------|--------------|\n",
    "| 11      | 2023-11-07    | 1126         |\n",
    "| 15      | 2023-11-30    | 7473         |\n",
    "| 17      | 2023-11-14    | 2414         |\n",
    "| 12      | 2023-11-24    | 9692         |\n",
    "| 8       | 2023-11-03    | 5117         |\n",
    "| 1       | 2023-11-16    | 5241         |\n",
    "| 10      | 2023-11-12    | 8266         |\n",
    "| 13      | 2023-11-24    | 12000        |\n",
    "\n",
    "**Output:**\n",
    "| week_of_month | purchase_date | total_amount |\n",
    "|---------------|---------------|--------------|\n",
    "| 1             | 2023-11-03    | 5117         |\n",
    "| 4             | 2023-11-24    | 21692        |\n",
    "\n",
    "**Explanation:**\n",
    "- During the first week of November 2023, transactions amounting to $5,117 occurred on Friday, 2023-11-03.\n",
    "- For the second week of November 2023, there were no transactions on Friday, 2023-11-10.\n",
    "- Similarly, during the third week of November 2023, there were no transactions on Friday, 2023-11-17.\n",
    "- In the fourth week of November 2023, two transactions took place on Friday, 2023-11-24, amounting to $12,000 and $9,692 respectively, summing up to a total of $21,692.\n",
    "\n",
    "Output table is ordered by week_of_month in ascending order."
   ]
  },
  {
   "cell_type": "code",
   "execution_count": 0,
   "metadata": {
    "application/vnd.databricks.v1+cell": {
     "cellMetadata": {
      "byteLimit": 2048000,
      "rowLimit": 10000
     },
     "inputWidgets": {},
     "nuid": "137536ea-9bec-4171-8dc2-4bf8b0d771b4",
     "showTitle": false,
     "tableResultSettingsMap": {},
     "title": ""
    }
   },
   "outputs": [
    {
     "output_type": "stream",
     "name": "stdout",
     "output_type": "stream",
     "text": [
      "+-------+-------------+------------+\n|user_id|purchase_date|amount_spend|\n+-------+-------------+------------+\n|     11|   2023-11-07|        1126|\n|     15|   2023-11-30|        7473|\n|     17|   2023-11-14|        2414|\n|     12|   2023-11-24|        9692|\n|      8|   2023-11-03|        5117|\n|      1|   2023-11-16|        5241|\n|     10|   2023-11-12|        8266|\n|     13|   2023-11-24|       12000|\n+-------+-------------+------------+\n\n"
     ]
    }
   ],
   "source": [
    "purchases_data_2993 = [\n",
    "    (11, \"2023-11-07\", 1126),\n",
    "    (15, \"2023-11-30\", 7473),\n",
    "    (17, \"2023-11-14\", 2414),\n",
    "    (12, \"2023-11-24\", 9692),\n",
    "    (8, \"2023-11-03\", 5117),\n",
    "    (1, \"2023-11-16\", 5241),\n",
    "    (10, \"2023-11-12\", 8266),\n",
    "    (13, \"2023-11-24\", 12000)\n",
    "]\n",
    "\n",
    "purchases_columns_2993 = [ \"user_id\", \"purchase_date\", \"amount_spend\"]\n",
    "purchases_df_2993 = spark.createDataFrame(purchases_data_2993, purchases_columns_2993)\n",
    "purchases_df_2993.show()"
   ]
  },
  {
   "cell_type": "code",
   "execution_count": 0,
   "metadata": {
    "application/vnd.databricks.v1+cell": {
     "cellMetadata": {
      "byteLimit": 2048000,
      "rowLimit": 10000
     },
     "inputWidgets": {},
     "nuid": "ae598995-534c-4909-8ccf-9d903555fc9c",
     "showTitle": false,
     "tableResultSettingsMap": {},
     "title": ""
    }
   },
   "outputs": [],
   "source": [
    "df_fridays_2993 = purchases_df_2993\\\n",
    "                        .filter(dayofweek(col(\"purchase_date\")) == 6)"
   ]
  },
  {
   "cell_type": "code",
   "execution_count": 0,
   "metadata": {
    "application/vnd.databricks.v1+cell": {
     "cellMetadata": {
      "byteLimit": 2048000,
      "rowLimit": 10000
     },
     "inputWidgets": {},
     "nuid": "2c4c5b04-cb39-426a-8fa1-9b7756767bd5",
     "showTitle": false,
     "tableResultSettingsMap": {},
     "title": ""
    }
   },
   "outputs": [],
   "source": [
    "df_fridays_2993 = df_fridays_2993.withColumn(\"week_of_month\", ceil(dayofmonth(col(\"purchase_date\")) / 7))"
   ]
  },
  {
   "cell_type": "code",
   "execution_count": 0,
   "metadata": {
    "application/vnd.databricks.v1+cell": {
     "cellMetadata": {
      "byteLimit": 2048000,
      "rowLimit": 10000
     },
     "inputWidgets": {},
     "nuid": "41d7b3ca-da61-4940-bd6b-876675ff03e9",
     "showTitle": false,
     "tableResultSettingsMap": {},
     "title": ""
    }
   },
   "outputs": [
    {
     "output_type": "display_data",
     "data": {
      "text/html": [
       "<style scoped>\n",
       "  .table-result-container {\n",
       "    max-height: 300px;\n",
       "    overflow: auto;\n",
       "  }\n",
       "  table, th, td {\n",
       "    border: 1px solid black;\n",
       "    border-collapse: collapse;\n",
       "  }\n",
       "  th, td {\n",
       "    padding: 5px;\n",
       "  }\n",
       "  th {\n",
       "    text-align: left;\n",
       "  }\n",
       "</style><div class='table-result-container'><table class='table-result'><thead style='background-color: white'><tr><th>week_of_month</th><th>purchase_date</th><th>total_amount</th></tr></thead><tbody><tr><td>1</td><td>2023-11-03</td><td>5117</td></tr><tr><td>4</td><td>2023-11-24</td><td>21692</td></tr></tbody></table></div>"
      ]
     },
     "metadata": {
      "application/vnd.databricks.v1+output": {
       "addedWidgets": {},
       "aggData": [],
       "aggError": "",
       "aggOverflow": false,
       "aggSchema": [],
       "aggSeriesLimitReached": false,
       "aggType": "",
       "arguments": {},
       "columnCustomDisplayInfos": {},
       "data": [
        [
         1,
         "2023-11-03",
         5117
        ],
        [
         4,
         "2023-11-24",
         21692
        ]
       ],
       "datasetInfos": [],
       "dbfsResultPath": null,
       "isJsonSchema": true,
       "metadata": {},
       "overflow": false,
       "plotOptions": {
        "customPlotOptions": {},
        "displayType": "table",
        "pivotAggregation": null,
        "pivotColumns": null,
        "xColumns": null,
        "yColumns": null
       },
       "removedWidgets": [],
       "schema": [
        {
         "metadata": "{}",
         "name": "week_of_month",
         "type": "\"long\""
        },
        {
         "metadata": "{}",
         "name": "purchase_date",
         "type": "\"string\""
        },
        {
         "metadata": "{}",
         "name": "total_amount",
         "type": "\"long\""
        }
       ],
       "type": "table"
      }
     },
     "output_type": "display_data"
    }
   ],
   "source": [
    "df_fridays_2993\\\n",
    "    .groupBy(\"week_of_month\", \"purchase_date\") \\\n",
    "        .agg(sum(\"amount_spend\").alias(\"total_amount\")) \\\n",
    "            .orderBy(\"week_of_month\").display()"
   ]
  }
 ],
 "metadata": {
  "application/vnd.databricks.v1+notebook": {
   "computePreferences": {
    "hardware": {
     "accelerator": null,
     "gpuPoolId": null,
     "memory": null
    }
   },
   "dashboards": [],
   "environmentMetadata": {
    "base_environment": "",
    "environment_version": "2"
   },
   "inputWidgetPreferences": null,
   "language": "python",
   "notebookMetadata": {
    "pythonIndentUnit": 4
   },
   "notebookName": "2993. Friday Purchases I (Medium)-(Solved)",
   "widgets": {}
  },
  "language_info": {
   "name": "python"
  }
 },
 "nbformat": 4,
 "nbformat_minor": 0
}
