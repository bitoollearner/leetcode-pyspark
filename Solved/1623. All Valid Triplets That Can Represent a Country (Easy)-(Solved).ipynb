{
 "cells": [
  {
   "cell_type": "markdown",
   "metadata": {
    "application/vnd.databricks.v1+cell": {
     "cellMetadata": {},
     "inputWidgets": {},
     "nuid": "f6ac9266-658c-4507-8a37-ecc81334b06d",
     "showTitle": false,
     "tableResultSettingsMap": {},
     "title": ""
    }
   },
   "source": [
    "## Importing Libraries"
   ]
  },
  {
   "cell_type": "code",
   "execution_count": 0,
   "metadata": {
    "application/vnd.databricks.v1+cell": {
     "cellMetadata": {},
     "inputWidgets": {},
     "nuid": "d6194993-9312-4b46-8365-d6a73d8cb0b0",
     "showTitle": false,
     "tableResultSettingsMap": {},
     "title": ""
    }
   },
   "outputs": [],
   "source": [
    "from pyspark.sql.functions import *\n",
    "from pyspark.sql.types import *\n",
    "from pyspark.sql.window import Window"
   ]
  },
  {
   "cell_type": "markdown",
   "metadata": {
    "application/vnd.databricks.v1+cell": {
     "cellMetadata": {},
     "inputWidgets": {},
     "nuid": "23f6a680-8f01-4976-83fa-88103e49c6b8",
     "showTitle": false,
     "tableResultSettingsMap": {},
     "title": ""
    }
   },
   "source": [
    "**1623. All Valid Triplets That Can Represent a Country (Easy)**\n",
    "\n",
    "**Table: SchoolA**\n",
    "\n",
    "| Column Name   | Type    |\n",
    "|---------------|---------|\n",
    "| student_id    | int     |\n",
    "| student_name  | varchar |\n",
    "\n",
    "student_id is the column with unique values for this table.\n",
    "Each row of this table contains the name and the id of a student in school A.\n",
    "All student_name are distinct.\n",
    " \n",
    "**Table: SchoolB**\n",
    "\n",
    "| Column Name   | Type    |\n",
    "|---------------|---------|\n",
    "| student_id    | int     |\n",
    "| student_name  | varchar |\n",
    "\n",
    "student_id is the column with unique values for this table.\n",
    "Each row of this table contains the name and the id of a student in school B.\n",
    "All student_name are distinct.\n",
    " \n",
    "**Table: SchoolC**\n",
    "\n",
    "| Column Name   | Type    |\n",
    "|---------------|---------|\n",
    "| student_id    | int     |\n",
    "| student_name  | varchar |\n",
    "\n",
    "student_id is the column with unique values for this table.\n",
    "Each row of this table contains the name and the id of a student in school C.\n",
    "All student_name are distinct.\n",
    " \n",
    "There is a country with three schools, where each student is enrolled in exactly one school. The country is joining a competition and wants to select one student from each school to represent the country such that:\n",
    "- member_A is selected from SchoolA,\n",
    "- member_B is selected from SchoolB,\n",
    "- member_C is selected from SchoolC, and\n",
    "- The selected students' names and IDs are pairwise distinct (i.e. no two students share the same name, and no two students share the same ID).\n",
    "\n",
    "**Write a solution to find all the possible triplets representing the country under the given constraints.**\n",
    "\n",
    "Return the result table in any order.\n",
    "\n",
    "The result format is in the following example.\n",
    "\n",
    "**Example 1:**\n",
    "\n",
    "**Input:** \n",
    "\n",
    "**SchoolA table:**\n",
    "| student_id | student_name |\n",
    "|------------|--------------|\n",
    "| 1          | Alice        |\n",
    "| 2          | Bob          |\n",
    "\n",
    "**SchoolB table:**\n",
    "| student_id | student_name |\n",
    "|------------|--------------|\n",
    "| 3          | Tom          |\n",
    "\n",
    "**SchoolC table:**\n",
    "| student_id | student_name |\n",
    "|------------|--------------|\n",
    "| 3          | Tom          |\n",
    "| 2          | Jerry        |\n",
    "| 10         | Alice        |\n",
    "\n",
    "**Output:** \n",
    "| member_A | member_B | member_C |\n",
    "|----------|----------|----------|\n",
    "| Alice    | Tom      | Jerry    |\n",
    "| Bob      | Tom      | Alice    |\n",
    "\n",
    "**Explanation:** \n",
    "Let us see all the possible triplets.\n",
    "- (Alice, Tom, Tom) --> Rejected because member_B and member_C have the same name and the same ID.\n",
    "- (Alice, Tom, Jerry) --> Valid triplet.\n",
    "- (Alice, Tom, Alice) --> Rejected because member_A and member_C have the same name.\n",
    "- (Bob, Tom, Tom) --> Rejected because member_B and member_C have the same name and the same ID.\n",
    "- (Bob, Tom, Jerry) --> Rejected because member_A and member_C have the same ID.\n",
    "- (Bob, Tom, Alice) --> Valid triplet."
   ]
  },
  {
   "cell_type": "code",
   "execution_count": 0,
   "metadata": {
    "application/vnd.databricks.v1+cell": {
     "cellMetadata": {},
     "inputWidgets": {},
     "nuid": "a762f84d-f622-4403-b695-4066e5bdbaf0",
     "showTitle": false,
     "tableResultSettingsMap": {},
     "title": ""
    }
   },
   "outputs": [],
   "source": [
    "schoolA_data_1623 = [(1, \"Alice\"), (2, \"Bob\")]\n",
    "\n",
    "schoolA_columns_1623 = [\"student_id\", \"student_name\"]\n",
    "schoolA_df_1623 = spark.createDataFrame(schoolA_data_1623, schoolA_columns_1623)\n",
    "schoolA_df_1623.show()\n",
    "\n",
    "schoolB_data_1623 = [(3, \"Tom\")]\n",
    "\n",
    "schoolB_columns_1623 = [\"student_id\", \"student_name\"]\n",
    "schoolB_df_1623 = spark.createDataFrame(schoolB_data_1623, schoolB_columns_1623)\n",
    "schoolB_df_1623.show()\n",
    "\n",
    "schoolC_data_1623 = [(3, \"Tom\"), (2, \"Jerry\"), (10, \"Alice\")]\n",
    "\n",
    "schoolC_columns_1623 = [\"student_id\", \"student_name\"]\n",
    "schoolC_df_1623 = spark.createDataFrame(schoolC_data_1623, schoolC_columns_1623)\n",
    "schoolC_df_1623.show()"
   ]
  }
 ],
 "metadata": {
  "application/vnd.databricks.v1+notebook": {
   "computePreferences": null,
   "dashboards": [],
   "environmentMetadata": {
    "base_environment": "",
    "environment_version": "1"
   },
   "inputWidgetPreferences": null,
   "language": "python",
   "notebookMetadata": {
    "pythonIndentUnit": 4
   },
   "notebookName": "1623. All Valid Triplets That Can Represent a Country (Easy)-(Solved)",
   "widgets": {}
  },
  "language_info": {
   "name": "python"
  }
 },
 "nbformat": 4,
 "nbformat_minor": 0
}
