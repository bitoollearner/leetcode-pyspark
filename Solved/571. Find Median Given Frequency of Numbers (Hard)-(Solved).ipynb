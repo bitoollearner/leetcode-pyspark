{
 "cells": [
  {
   "cell_type": "markdown",
   "metadata": {
    "application/vnd.databricks.v1+cell": {
     "cellMetadata": {},
     "inputWidgets": {},
     "nuid": "933f6fcf-3b7f-4e22-a9da-47224a7b1132",
     "showTitle": false,
     "tableResultSettingsMap": {},
     "title": ""
    }
   },
   "source": [
    "## Importing Libraries"
   ]
  },
  {
   "cell_type": "code",
   "execution_count": 0,
   "metadata": {
    "application/vnd.databricks.v1+cell": {
     "cellMetadata": {},
     "inputWidgets": {},
     "nuid": "0a044ca2-88c3-4a39-9ad3-12c7b6613c0b",
     "showTitle": false,
     "tableResultSettingsMap": {},
     "title": ""
    }
   },
   "outputs": [],
   "source": [
    "from pyspark.sql.functions import *\n",
    "from pyspark.sql.types import *\n",
    "from pyspark.sql.window import Window"
   ]
  },
  {
   "cell_type": "markdown",
   "metadata": {
    "application/vnd.databricks.v1+cell": {
     "cellMetadata": {},
     "inputWidgets": {},
     "nuid": "f16f61a0-1eda-4a08-9e41-e6bc4f90e5dc",
     "showTitle": false,
     "tableResultSettingsMap": {},
     "title": ""
    }
   },
   "source": [
    "**571. Find Median Given Frequency of Numbers (Hard)**\n",
    "\n",
    "**Table: Numbers**\n",
    "\n",
    "| Column Name | Type |\n",
    "|-------------|------|\n",
    "| num         | int  |\n",
    "| frequency   | int  |\n",
    "\n",
    "num is the primary key (column with unique values) for this table.\n",
    "Each row of this table shows the frequency of a number in the database.\n",
    " \n",
    "The median is the value separating the higher half from the lower half of a data sample.\n",
    "\n",
    "**Write a solution to report the median of all the numbers in the database after decompressing the Numbers table. Round the median to one decimal point.**\n",
    "\n",
    "The result format is in the following example.\n",
    "\n",
    "**Example 1:**\n",
    "\n",
    "**Input:** \n",
    "\n",
    "**Numbers table:**\n",
    "\n",
    "| num | frequency |\n",
    "|-----|-----------|\n",
    "| 0   | 7         |\n",
    "| 1   | 1         |\n",
    "| 2   | 3         |\n",
    "| 3   | 1         |\n",
    "\n",
    "**Output:** \n",
    "| median |\n",
    "|--------|\n",
    "| 0.0    |\n",
    "\n",
    "**Explanation:** \n",
    "If we decompress the Numbers table, we will get [0, 0, 0, 0, 0, 0, 0, 1, 2, 2, 2, 3], so the median is (0 + 0) / 2 = 0."
   ]
  },
  {
   "cell_type": "code",
   "execution_count": 0,
   "metadata": {
    "application/vnd.databricks.v1+cell": {
     "cellMetadata": {},
     "inputWidgets": {},
     "nuid": "99062cca-ba5f-4f53-a7b7-0a79518c0bf0",
     "showTitle": false,
     "tableResultSettingsMap": {},
     "title": ""
    }
   },
   "outputs": [],
   "source": [
    "numbers_data_571 = [\n",
    "    (0, 7),\n",
    "    (1, 1),\n",
    "    (2, 3),\n",
    "    (3, 1)\n",
    "]\n",
    "\n",
    "numbers_columns_571 = ['num', 'frequency']\n",
    "numbers_df_571 = spark.createDataFrame(numbers_data_571, numbers_columns_571)\n",
    "numbers_df_571.show()"
   ]
  }
 ],
 "metadata": {
  "application/vnd.databricks.v1+notebook": {
   "computePreferences": null,
   "dashboards": [],
   "environmentMetadata": {
    "base_environment": "",
    "client": "1"
   },
   "language": "python",
   "notebookMetadata": {
    "pythonIndentUnit": 4
   },
   "notebookName": "571. Find Median Given Frequency of Numbers (Hard)",
   "widgets": {}
  }
 },
 "nbformat": 4,
 "nbformat_minor": 0
}
