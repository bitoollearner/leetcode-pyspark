{
 "cells": [
  {
   "cell_type": "markdown",
   "metadata": {
    "application/vnd.databricks.v1+cell": {
     "cellMetadata": {
      "byteLimit": 2048000,
      "rowLimit": 10000
     },
     "inputWidgets": {},
     "nuid": "933f6fcf-3b7f-4e22-a9da-47224a7b1132",
     "showTitle": false,
     "tableResultSettingsMap": {},
     "title": ""
    }
   },
   "source": [
    "## Importing Libraries"
   ]
  },
  {
   "cell_type": "code",
   "execution_count": 0,
   "metadata": {
    "application/vnd.databricks.v1+cell": {
     "cellMetadata": {
      "byteLimit": 2048000,
      "rowLimit": 10000
     },
     "inputWidgets": {},
     "nuid": "0a044ca2-88c3-4a39-9ad3-12c7b6613c0b",
     "showTitle": false,
     "tableResultSettingsMap": {},
     "title": ""
    }
   },
   "outputs": [],
   "source": [
    "from pyspark.sql.functions import *\n",
    "from pyspark.sql.types import *\n",
    "from pyspark.sql.window import Window"
   ]
  },
  {
   "cell_type": "markdown",
   "metadata": {
    "application/vnd.databricks.v1+cell": {
     "cellMetadata": {
      "byteLimit": 2048000,
      "rowLimit": 10000
     },
     "inputWidgets": {},
     "nuid": "f16f61a0-1eda-4a08-9e41-e6bc4f90e5dc",
     "showTitle": false,
     "tableResultSettingsMap": {},
     "title": ""
    }
   },
   "source": [
    "**571. Find Median Given Frequency of Numbers (Hard)**\n",
    "\n",
    "**Table: Numbers**\n",
    "\n",
    "| Column Name | Type |\n",
    "|-------------|------|\n",
    "| num         | int  |\n",
    "| frequency   | int  |\n",
    "\n",
    "num is the primary key (column with unique values) for this table.\n",
    "Each row of this table shows the frequency of a number in the database.\n",
    " \n",
    "The median is the value separating the higher half from the lower half of a data sample.\n",
    "\n",
    "**Write a solution to report the median of all the numbers in the database after decompressing the Numbers table. Round the median to one decimal point.**\n",
    "\n",
    "The result format is in the following example.\n",
    "\n",
    "**Example 1:**\n",
    "\n",
    "**Input:** \n",
    "\n",
    "**Numbers table:**\n",
    "\n",
    "| num | frequency |\n",
    "|-----|-----------|\n",
    "| 0   | 7         |\n",
    "| 1   | 1         |\n",
    "| 2   | 3         |\n",
    "| 3   | 1         |\n",
    "\n",
    "**Output:** \n",
    "| median |\n",
    "|--------|\n",
    "| 0.0    |\n",
    "\n",
    "**Explanation:** \n",
    "If we decompress the Numbers table, we will get [0, 0, 0, 0, 0, 0, 0, 1, 2, 2, 2, 3], so the median is (0 + 0) / 2 = 0."
   ]
  },
  {
   "cell_type": "code",
   "execution_count": 0,
   "metadata": {
    "application/vnd.databricks.v1+cell": {
     "cellMetadata": {
      "byteLimit": 2048000,
      "rowLimit": 10000
     },
     "inputWidgets": {},
     "nuid": "99062cca-ba5f-4f53-a7b7-0a79518c0bf0",
     "showTitle": false,
     "tableResultSettingsMap": {},
     "title": ""
    }
   },
   "outputs": [
    {
     "output_type": "stream",
     "name": "stdout",
     "output_type": "stream",
     "text": [
      "+---+---------+\n|num|frequency|\n+---+---------+\n|  0|        7|\n|  1|        1|\n|  2|        3|\n|  3|        1|\n+---+---------+\n\n"
     ]
    }
   ],
   "source": [
    "numbers_data_571 = [\n",
    "    (0, 7),\n",
    "    (1, 1),\n",
    "    (2, 3),\n",
    "    (3, 1)\n",
    "]\n",
    "\n",
    "numbers_columns_571 = ['num', 'frequency']\n",
    "numbers_df_571 = spark.createDataFrame(numbers_data_571, numbers_columns_571)\n",
    "numbers_df_571.show()"
   ]
  },
  {
   "cell_type": "code",
   "execution_count": 0,
   "metadata": {
    "application/vnd.databricks.v1+cell": {
     "cellMetadata": {
      "byteLimit": 2048000,
      "rowLimit": 10000
     },
     "inputWidgets": {},
     "nuid": "57d3e4f1-401a-4177-854a-60a72a1ca00a",
     "showTitle": false,
     "tableResultSettingsMap": {},
     "title": ""
    }
   },
   "outputs": [],
   "source": [
    "decompressed_df_571 = numbers_df_571.withColumn(\"decompressed\", explode(expr(\"sequence(1, frequency)\"))) \\\n",
    "                    .select(\"num\")"
   ]
  },
  {
   "cell_type": "code",
   "execution_count": 0,
   "metadata": {
    "application/vnd.databricks.v1+cell": {
     "cellMetadata": {
      "byteLimit": 2048000,
      "rowLimit": 10000
     },
     "inputWidgets": {},
     "nuid": "406e6346-0c1f-4900-a2a1-d18e954a1437",
     "showTitle": false,
     "tableResultSettingsMap": {},
     "title": ""
    }
   },
   "outputs": [],
   "source": [
    "median_value_571 = decompressed_df_571.approxQuantile(\"num\", [0.5], 0.0)[0]"
   ]
  },
  {
   "cell_type": "code",
   "execution_count": 0,
   "metadata": {
    "application/vnd.databricks.v1+cell": {
     "cellMetadata": {
      "byteLimit": 2048000,
      "rowLimit": 10000
     },
     "inputWidgets": {},
     "nuid": "e805b1a4-8ca1-4dc4-82ae-d468479ee58e",
     "showTitle": false,
     "tableResultSettingsMap": {},
     "title": ""
    }
   },
   "outputs": [
    {
     "output_type": "stream",
     "name": "stdout",
     "output_type": "stream",
     "text": [
      "+------+\n|median|\n+------+\n|   0.0|\n+------+\n\n"
     ]
    }
   ],
   "source": [
    "result_df = spark.createDataFrame([(median_value_571,)], [\"median\"])\n",
    "result_df.show()"
   ]
  }
 ],
 "metadata": {
  "application/vnd.databricks.v1+notebook": {
   "computePreferences": {
    "hardware": {
     "accelerator": null,
     "gpuPoolId": null,
     "memory": null
    }
   },
   "dashboards": [],
   "environmentMetadata": {
    "base_environment": "",
    "environment_version": "2"
   },
   "inputWidgetPreferences": null,
   "language": "python",
   "notebookMetadata": {
    "pythonIndentUnit": 4
   },
   "notebookName": "571. Find Median Given Frequency of Numbers (Hard)-(Solved)",
   "widgets": {}
  },
  "language_info": {
   "name": "python"
  }
 },
 "nbformat": 4,
 "nbformat_minor": 0
}
