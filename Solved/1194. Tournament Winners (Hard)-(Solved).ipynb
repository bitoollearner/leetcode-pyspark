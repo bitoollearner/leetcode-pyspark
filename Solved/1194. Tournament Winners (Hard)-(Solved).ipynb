{
 "cells": [
  {
   "cell_type": "markdown",
   "metadata": {
    "application/vnd.databricks.v1+cell": {
     "cellMetadata": {},
     "inputWidgets": {},
     "nuid": "c8535576-d746-40ee-8199-8ccd3e39577f",
     "showTitle": false,
     "tableResultSettingsMap": {},
     "title": ""
    }
   },
   "source": [
    "## Importing Libraries"
   ]
  },
  {
   "cell_type": "code",
   "execution_count": 0,
   "metadata": {
    "application/vnd.databricks.v1+cell": {
     "cellMetadata": {
      "byteLimit": 2048000,
      "rowLimit": 10000
     },
     "inputWidgets": {},
     "nuid": "09da8fc1-d579-4949-bbc7-9132909993c8",
     "showTitle": false,
     "tableResultSettingsMap": {},
     "title": ""
    }
   },
   "outputs": [],
   "source": [
    "from pyspark.sql.functions import *\n",
    "from pyspark.sql.types import *\n",
    "from pyspark.sql.window import Window"
   ]
  },
  {
   "cell_type": "markdown",
   "metadata": {
    "application/vnd.databricks.v1+cell": {
     "cellMetadata": {},
     "inputWidgets": {},
     "nuid": "4567f050-e6f4-4b8b-b899-db2f17021c1d",
     "showTitle": false,
     "tableResultSettingsMap": {},
     "title": ""
    }
   },
   "source": [
    "**1194. Tournament Winners (Hard)**\n",
    "\n",
    "**Table: Players**\n",
    "\n",
    "| Column Name | Type  |\n",
    "|-------------|-------|\n",
    "| player_id   | int   |\n",
    "| group_id    | int   |\n",
    "\n",
    "player_id is the primary key (column with unique values) of this table.\n",
    "Each row of this table indicates the group of each player.\n",
    "\n",
    "**Table: Matches**\n",
    "\n",
    "| Column Name   | Type    |\n",
    "|---------------|---------|\n",
    "| match_id      | int     |\n",
    "| first_player  | int     |\n",
    "| second_player | int     | \n",
    "| first_score   | int     |\n",
    "| second_score  | int     |\n",
    "\n",
    "match_id is the primary key (column with unique values) of this table.\n",
    "Each row is a record of a match, first_player and second_player contain the player_id of each match.\n",
    "first_score and second_score contain the number of points of the first_player and second_player respectively.\n",
    "You may assume that, in each match, players belong to the same group.\n",
    " \n",
    "The winner in each group is the player who scored the maximum total points within the group. In the case of a tie, the lowest player_id wins.\n",
    "\n",
    "**Write a solution to find the winner in each group.**\n",
    "\n",
    "Return the result table in any order.\n",
    "\n",
    "The result format is in the following example.\n",
    "\n",
    "**Example 1:**\n",
    "\n",
    "**Input:** \n",
    "\n",
    "**Players table:**\n",
    "| player_id | group_id   |\n",
    "|-----------|------------|\n",
    "| 15        | 1          |\n",
    "| 25        | 1          |\n",
    "| 30        | 1          |\n",
    "| 45        | 1          |\n",
    "| 10        | 2          |\n",
    "| 35        | 2          |\n",
    "| 50        | 2          |\n",
    "| 20        | 3          |\n",
    "| 40        | 3          |\n",
    "\n",
    "**Matches table:**\n",
    "\n",
    "| match_id   | first_player | second_player | first_score | second_score |\n",
    "|------------|--------------|---------------|-------------|--------------|\n",
    "| 1          | 15           | 45            | 3           | 0            |\n",
    "| 2          | 30           | 25            | 1           | 2            |\n",
    "| 3          | 30           | 15            | 2           | 0            |\n",
    "| 4          | 40           | 20            | 5           | 2            |\n",
    "| 5          | 35           | 50            | 1           | 1            |\n",
    "\n",
    "**Output:** \n",
    "| group_id  | player_id  |\n",
    "|-----------|------------| \n",
    "| 1         | 15         |\n",
    "| 2         | 35         |\n",
    "| 3         | 40         |\n"
   ]
  },
  {
   "cell_type": "code",
   "execution_count": 0,
   "metadata": {
    "application/vnd.databricks.v1+cell": {
     "cellMetadata": {
      "byteLimit": 2048000,
      "rowLimit": 10000
     },
     "inputWidgets": {},
     "nuid": "9b14d03f-22ca-4fa2-b371-32a135a82877",
     "showTitle": false,
     "tableResultSettingsMap": {},
     "title": ""
    }
   },
   "outputs": [
    {
     "output_type": "stream",
     "name": "stdout",
     "output_type": "stream",
     "text": [
      "+---------+--------+\n|player_id|group_id|\n+---------+--------+\n|       15|       1|\n|       25|       1|\n|       30|       1|\n|       45|       1|\n|       10|       2|\n|       35|       2|\n|       50|       2|\n|       20|       3|\n|       40|       3|\n+---------+--------+\n\n+--------+------------+-------------+-----------+------------+\n|match_id|first_player|second_player|first_score|second_score|\n+--------+------------+-------------+-----------+------------+\n|       1|          15|           45|          3|           0|\n|       2|          30|           25|          1|           2|\n|       3|          30|           15|          2|           0|\n|       4|          40|           20|          5|           2|\n|       5|          35|           50|          1|           1|\n+--------+------------+-------------+-----------+------------+\n\n"
     ]
    }
   ],
   "source": [
    "players_data_1194 = [\n",
    "    (15, 1), (25, 1), (30, 1), (45, 1),\n",
    "    (10, 2), (35, 2), (50, 2),\n",
    "    (20, 3), (40, 3)\n",
    "]\n",
    "\n",
    "players_columns_1194 = [\"player_id\", \"group_id\"]\n",
    "players_df_1194 = spark.createDataFrame(players_data_1194, players_columns_1194)\n",
    "players_df_1194.show()\n",
    "\n",
    "matches_data_1194 = [\n",
    "    (1, 15, 45, 3, 0),\n",
    "    (2, 30, 25, 1, 2),\n",
    "    (3, 30, 15, 2, 0),\n",
    "    (4, 40, 20, 5, 2),\n",
    "    (5, 35, 50, 1, 1),\n",
    "]\n",
    "\n",
    "matches_columns_1194 = [\"match_id\", \"first_player\", \"second_player\", \"first_score\", \"second_score\"]\n",
    "matches_df_1194 = spark.createDataFrame(matches_data_1194, matches_columns_1194)\n",
    "matches_df_1194.show()"
   ]
  },
  {
   "cell_type": "code",
   "execution_count": 0,
   "metadata": {
    "application/vnd.databricks.v1+cell": {
     "cellMetadata": {
      "byteLimit": 2048000,
      "rowLimit": 10000
     },
     "inputWidgets": {},
     "nuid": "e27ac139-b4a8-4508-9cfc-4ca08f0ee9a6",
     "showTitle": false,
     "tableResultSettingsMap": {},
     "title": ""
    }
   },
   "outputs": [],
   "source": [
    "first_scores_df_1194 = matches_df_1194.select(\n",
    "    col(\"first_player\").alias(\"player_id\"),\n",
    "    col(\"first_score\").alias(\"score\")\n",
    ")\n",
    "\n",
    "second_scores_df_1194 = matches_df_1194.select(\n",
    "    col(\"second_player\").alias(\"player_id\"),\n",
    "    col(\"second_score\").alias(\"score\")\n",
    ")\n"
   ]
  },
  {
   "cell_type": "code",
   "execution_count": 0,
   "metadata": {
    "application/vnd.databricks.v1+cell": {
     "cellMetadata": {
      "byteLimit": 2048000,
      "rowLimit": 10000
     },
     "inputWidgets": {},
     "nuid": "1f4bb853-c612-4576-8096-7ad5452b2084",
     "showTitle": false,
     "tableResultSettingsMap": {},
     "title": ""
    }
   },
   "outputs": [],
   "source": [
    "all_scores_df_1194 = first_scores_df_1194.union(second_scores_df_1194)"
   ]
  },
  {
   "cell_type": "code",
   "execution_count": 0,
   "metadata": {
    "application/vnd.databricks.v1+cell": {
     "cellMetadata": {
      "byteLimit": 2048000,
      "rowLimit": 10000
     },
     "inputWidgets": {},
     "nuid": "8058ed28-4228-4663-955f-5cc3c8fa143b",
     "showTitle": false,
     "tableResultSettingsMap": {},
     "title": ""
    }
   },
   "outputs": [],
   "source": [
    "player_scores_df_1194 = all_scores_df_1194\\\n",
    "                    .groupBy(\"player_id\")\\\n",
    "                        .agg(sum(\"score\").alias(\"total_score\"))"
   ]
  },
  {
   "cell_type": "code",
   "execution_count": 0,
   "metadata": {
    "application/vnd.databricks.v1+cell": {
     "cellMetadata": {
      "byteLimit": 2048000,
      "rowLimit": 10000
     },
     "inputWidgets": {},
     "nuid": "e697a0a1-56c9-46b5-85d5-9af71c9bd738",
     "showTitle": false,
     "tableResultSettingsMap": {},
     "title": ""
    }
   },
   "outputs": [],
   "source": [
    "players_with_scores_df_1194 = players_df_1194.join(player_scores_df_1194, on=\"player_id\", how=\"left\").fillna(0)"
   ]
  },
  {
   "cell_type": "code",
   "execution_count": 0,
   "metadata": {
    "application/vnd.databricks.v1+cell": {
     "cellMetadata": {
      "byteLimit": 2048000,
      "rowLimit": 10000
     },
     "inputWidgets": {},
     "nuid": "167ccd3e-070e-4478-b775-384f1b4d555b",
     "showTitle": false,
     "tableResultSettingsMap": {},
     "title": ""
    }
   },
   "outputs": [],
   "source": [
    "window_spec = Window.partitionBy(\"group_id\").orderBy(\n",
    "    col(\"total_score\").desc(),\n",
    "    col(\"player_id\").asc()\n",
    ")"
   ]
  },
  {
   "cell_type": "code",
   "execution_count": 0,
   "metadata": {
    "application/vnd.databricks.v1+cell": {
     "cellMetadata": {
      "byteLimit": 2048000,
      "rowLimit": 10000
     },
     "inputWidgets": {},
     "nuid": "5fc72da6-5f39-4438-9dbb-ab08f28c8b06",
     "showTitle": false,
     "tableResultSettingsMap": {},
     "title": ""
    }
   },
   "outputs": [
    {
     "output_type": "stream",
     "name": "stdout",
     "output_type": "stream",
     "text": [
      "+--------+---------+\n|group_id|player_id|\n+--------+---------+\n|       1|       15|\n|       2|       35|\n|       3|       40|\n+--------+---------+\n\n"
     ]
    }
   ],
   "source": [
    "players_with_scores_df_1194\\\n",
    "    .withColumn(\"rank\", row_number().over(window_spec))\\\n",
    "        .filter(col(\"rank\") == 1).select(\"group_id\", \"player_id\").show()"
   ]
  }
 ],
 "metadata": {
  "application/vnd.databricks.v1+notebook": {
   "computePreferences": {
    "hardware": {
     "accelerator": null,
     "gpuPoolId": null,
     "memory": null
    }
   },
   "dashboards": [],
   "environmentMetadata": {
    "base_environment": "",
    "environment_version": "2"
   },
   "inputWidgetPreferences": null,
   "language": "python",
   "notebookMetadata": {
    "pythonIndentUnit": 4
   },
   "notebookName": "1194. Tournament Winners (Hard)-(Solved)",
   "widgets": {}
  },
  "language_info": {
   "name": "python"
  }
 },
 "nbformat": 4,
 "nbformat_minor": 0
}
