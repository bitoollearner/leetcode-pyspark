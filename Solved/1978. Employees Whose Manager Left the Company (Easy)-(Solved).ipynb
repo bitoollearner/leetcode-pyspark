{
 "cells": [
  {
   "cell_type": "markdown",
   "metadata": {
    "application/vnd.databricks.v1+cell": {
     "cellMetadata": {
      "byteLimit": 2048000,
      "rowLimit": 10000
     },
     "inputWidgets": {},
     "nuid": "e405a61e-83e0-4a83-8234-4a55e28c9c87",
     "showTitle": false,
     "tableResultSettingsMap": {},
     "title": ""
    }
   },
   "source": [
    "## Importing Libraries"
   ]
  },
  {
   "cell_type": "code",
   "execution_count": 0,
   "metadata": {
    "application/vnd.databricks.v1+cell": {
     "cellMetadata": {
      "byteLimit": 2048000,
      "rowLimit": 10000
     },
     "inputWidgets": {},
     "nuid": "bb35cd35-f82a-443f-90d7-d161591cdb61",
     "showTitle": false,
     "tableResultSettingsMap": {},
     "title": ""
    }
   },
   "outputs": [],
   "source": [
    "from pyspark.sql.functions import *\n",
    "from pyspark.sql.types import *\n",
    "from pyspark.sql.window import Window"
   ]
  },
  {
   "cell_type": "markdown",
   "metadata": {
    "application/vnd.databricks.v1+cell": {
     "cellMetadata": {
      "byteLimit": 2048000,
      "rowLimit": 10000
     },
     "inputWidgets": {},
     "nuid": "29ed3054-4879-4c88-8f36-f775ffecdfe0",
     "showTitle": false,
     "tableResultSettingsMap": {},
     "title": ""
    }
   },
   "source": [
    "**1978. Employees Whose Manager Left the Company (Easy)**\n",
    "\n",
    "**Table: Employees**\n",
    "\n",
    "| Column Name | Type     |\n",
    "|-------------|----------|\n",
    "| employee_id | int      |\n",
    "| name        | varchar  |\n",
    "| manager_id  | int      |\n",
    "| salary      | int      |\n",
    "\n",
    "In SQL, employee_id is the primary key for this table.\n",
    "This table contains information about the employees, their salary, and the ID of their manager. Some employees do not have a manager (manager_id is null). \n",
    " \n",
    "**Find the IDs of the employees whose salary is strictly less than $30000 and whose manager left the company. When a manager leaves the company, their information is deleted from the Employees table, but the reports still have their manager_id set to the manager that left.**\n",
    "\n",
    "Return the result table ordered by employee_id.\n",
    "\n",
    "The result format is in the following example.\n",
    "\n",
    "**Example 1:**\n",
    "\n",
    "**Input:**\n",
    "**Employees table:**\n",
    "| employee_id | name      | manager_id | salary |\n",
    "|-------------|-----------|------------|--------|\n",
    "| 3           | Mila      | 9          | 60301  |\n",
    "| 12          | Antonella | null       | 31000  |\n",
    "| 13          | Emery     | null       | 67084  |\n",
    "| 1           | Kalel     | 11         | 21241  |\n",
    "| 9           | Mikaela   | null       | 50937  |\n",
    "| 11          | Joziah    | 6          | 28485  |\n",
    "\n",
    "**Output:**\n",
    "| employee_id |\n",
    "|-------------|\n",
    "| 11          |\n",
    "\n",
    "**Explanation:**\n",
    "- The employees with a salary less than $30000 are 1 (Kalel) and 11 (Joziah).\n",
    "- Kalel's manager is employee 11, who is still in the company (Joziah).\n",
    "- Joziah's manager is employee 6, who left the company because there is no row for employee 6 as it was deleted."
   ]
  },
  {
   "cell_type": "code",
   "execution_count": 0,
   "metadata": {
    "application/vnd.databricks.v1+cell": {
     "cellMetadata": {
      "byteLimit": 2048000,
      "rowLimit": 10000
     },
     "inputWidgets": {},
     "nuid": "64a3f754-3c0a-4ca1-af02-4d6f736ea2e9",
     "showTitle": false,
     "tableResultSettingsMap": {},
     "title": ""
    }
   },
   "outputs": [
    {
     "output_type": "stream",
     "name": "stdout",
     "output_type": "stream",
     "text": [
      "+-----------+---------+----------+------+\n|employee_id|     name|manager_id|salary|\n+-----------+---------+----------+------+\n|          3|     Mila|         9| 60301|\n|         12|Antonella|      NULL| 31000|\n|         13|    Emery|      NULL| 67084|\n|          1|    Kalel|        11| 21241|\n|          9|  Mikaela|      NULL| 50937|\n|         11|   Joziah|         6| 28485|\n+-----------+---------+----------+------+\n\n"
     ]
    }
   ],
   "source": [
    "employees_data_1978 = [\n",
    "    (3, \"Mila\", 9, 60301),\n",
    "    (12, \"Antonella\", None, 31000),\n",
    "    (13, \"Emery\", None, 67084),\n",
    "    (1, \"Kalel\", 11, 21241),\n",
    "    (9, \"Mikaela\", None, 50937),\n",
    "    (11, \"Joziah\", 6, 28485)\n",
    "]\n",
    "\n",
    "employees_columns_1978 = [\"employee_id\", \"name\", \"manager_id\", \"salary\"]\n",
    "employees_df_1978 = spark.createDataFrame(employees_data_1978, employees_columns_1978)\n",
    "employees_df_1978.show()"
   ]
  },
  {
   "cell_type": "code",
   "execution_count": 0,
   "metadata": {
    "application/vnd.databricks.v1+cell": {
     "cellMetadata": {
      "byteLimit": 2048000,
      "rowLimit": 10000
     },
     "inputWidgets": {},
     "nuid": "6bb04563-b72c-4977-8eca-9aea78f9f12c",
     "showTitle": false,
     "tableResultSettingsMap": {},
     "title": ""
    }
   },
   "outputs": [
    {
     "output_type": "stream",
     "name": "stdout",
     "output_type": "stream",
     "text": [
      "+-----------+\n|employee_id|\n+-----------+\n|         11|\n+-----------+\n\n"
     ]
    }
   ],
   "source": [
    "employees_df_1978.alias(\"e\")\\\n",
    "    .join(employees_df_1978.alias(\"m\"), col(\"e.manager_id\") == col(\"m.employee_id\"),how=\"left\")\\\n",
    "        .filter((col(\"e.salary\") < 30000) & (col(\"m.employee_id\").isNull()))\\\n",
    "            .select(col(\"e.employee_id\"))\\\n",
    "                .orderBy(\"employee_id\").show()"
   ]
  }
 ],
 "metadata": {
  "application/vnd.databricks.v1+notebook": {
   "computePreferences": {
    "hardware": {
     "accelerator": null,
     "gpuPoolId": null,
     "memory": null
    }
   },
   "dashboards": [],
   "environmentMetadata": {
    "base_environment": "",
    "environment_version": "2"
   },
   "inputWidgetPreferences": null,
   "language": "python",
   "notebookMetadata": {
    "pythonIndentUnit": 4
   },
   "notebookName": "1978. Employees Whose Manager Left the Company (Easy)-(Solved)",
   "widgets": {}
  },
  "language_info": {
   "name": "python"
  }
 },
 "nbformat": 4,
 "nbformat_minor": 0
}
