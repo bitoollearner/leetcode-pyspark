{
 "cells": [
  {
   "cell_type": "markdown",
   "metadata": {
    "application/vnd.databricks.v1+cell": {
     "cellMetadata": {
      "byteLimit": 2048000,
      "rowLimit": 10000
     },
     "inputWidgets": {},
     "nuid": "7d1791bd-9552-4116-90b2-daa678bbffb8",
     "showTitle": false,
     "tableResultSettingsMap": {},
     "title": ""
    }
   },
   "source": [
    "## Importing Libraries"
   ]
  },
  {
   "cell_type": "code",
   "execution_count": 0,
   "metadata": {
    "application/vnd.databricks.v1+cell": {
     "cellMetadata": {
      "byteLimit": 2048000,
      "rowLimit": 10000
     },
     "inputWidgets": {},
     "nuid": "2901fbc9-49db-4285-8b94-c460f34d4c4f",
     "showTitle": false,
     "tableResultSettingsMap": {},
     "title": ""
    }
   },
   "outputs": [],
   "source": [
    "from pyspark.sql.functions import *\n",
    "from pyspark.sql.types import *\n",
    "from pyspark.sql.window import Window"
   ]
  },
  {
   "cell_type": "markdown",
   "metadata": {
    "application/vnd.databricks.v1+cell": {
     "cellMetadata": {
      "byteLimit": 2048000,
      "rowLimit": 10000
     },
     "inputWidgets": {},
     "nuid": "655120e7-6b25-417c-a08a-c6925feaa425",
     "showTitle": false,
     "tableResultSettingsMap": {},
     "title": ""
    }
   },
   "source": [
    "**3198. Find Cities in Each State (Easy)**\n",
    "\n",
    "**Table: cities**\n",
    "\n",
    "| Column Name | Type    | \n",
    "|-------------|---------|\n",
    "| state       | varchar |\n",
    "| city        | varchar |\n",
    "\n",
    "(state, city) is the primary key (combination of columns with unique values) for this table.\n",
    "Each row of this table contains the state name and the city name within that state.\n",
    "\n",
    "**Write a solution to find all the cities in each state and combine them into a single comma-separated string.**\n",
    "\n",
    "Return the result table ordered by state and city in ascending order.\n",
    "\n",
    "The result format is in the following example.\n",
    "\n",
    "**Example:**\n",
    "\n",
    "**Input:**\n",
    "\n",
    "**cities table:**\n",
    "\n",
    "| state       | city          |\n",
    "|-------------|---------------|\n",
    "| California  | Los Angeles   |\n",
    "| California  | San Francisco |\n",
    "| California  | San Diego     |\n",
    "| Texas       | Houston       |\n",
    "| Texas       | Austin        |\n",
    "| Texas       | Dallas        |\n",
    "| New York    | New York City |\n",
    "| New York    | Buffalo       |\n",
    "| New York    | Rochester     |\n",
    "\n",
    "**Output:**\n",
    "\n",
    "| state       | cities                                |\n",
    "|-------------|---------------------------------------|\n",
    "| California  | Los Angeles, San Diego, San Francisco |\n",
    "| New York    | Buffalo, New York City, Rochester     |\n",
    "| Texas       | Austin, Dallas, Houston               |\n",
    "\n",
    "**Explanation:**\n",
    "- **California:** All cities (\"Los Angeles\", \"San Diego\", \"San Francisco\") are listed in a comma-separated string.\n",
    "- **New York:** All cities (\"Buffalo\", \"New York City\", \"Rochester\") are listed in a comma-separated string.\n",
    "- **Texas:** All cities (\"Austin\", \"Dallas\", \"Houston\") are listed in a comma-separated string.\n",
    "\n",
    "**Note:** The output table is ordered by the state name in ascending order."
   ]
  },
  {
   "cell_type": "code",
   "execution_count": 0,
   "metadata": {
    "application/vnd.databricks.v1+cell": {
     "cellMetadata": {
      "byteLimit": 2048000,
      "rowLimit": 10000
     },
     "inputWidgets": {},
     "nuid": "a2368434-0191-416c-aa1d-12cd44cf48e6",
     "showTitle": false,
     "tableResultSettingsMap": {},
     "title": ""
    }
   },
   "outputs": [
    {
     "output_type": "stream",
     "name": "stdout",
     "output_type": "stream",
     "text": [
      "+----------+-------------+\n|     state|         city|\n+----------+-------------+\n|California|  Los Angeles|\n|California|San Francisco|\n|California|    San Diego|\n|     Texas|      Houston|\n|     Texas|       Austin|\n|     Texas|       Dallas|\n|  New York|New York City|\n|  New York|      Buffalo|\n|  New York|    Rochester|\n+----------+-------------+\n\n"
     ]
    }
   ],
   "source": [
    "cities_data_3198 = [\n",
    "    (\"California\", \"Los Angeles\"),\n",
    "    (\"California\", \"San Francisco\"),\n",
    "    (\"California\", \"San Diego\"),\n",
    "    (\"Texas\", \"Houston\"),\n",
    "    (\"Texas\", \"Austin\"),\n",
    "    (\"Texas\", \"Dallas\"),\n",
    "    (\"New York\", \"New York City\"),\n",
    "    (\"New York\", \"Buffalo\"),\n",
    "    (\"New York\", \"Rochester\")\n",
    "]\n",
    "\n",
    "cities_columns_3198 = [\"state\", \"city\"]\n",
    "cities_df_3198 = spark.createDataFrame(cities_data_3198, cities_columns_3198)\n",
    "cities_df_3198.show()"
   ]
  },
  {
   "cell_type": "code",
   "execution_count": 0,
   "metadata": {
    "application/vnd.databricks.v1+cell": {
     "cellMetadata": {
      "byteLimit": 2048000,
      "rowLimit": 10000
     },
     "inputWidgets": {},
     "nuid": "6831159f-d3ae-4520-be8b-69601a3eb7c6",
     "showTitle": false,
     "tableResultSettingsMap": {},
     "title": ""
    }
   },
   "outputs": [],
   "source": [
    "cities_agg_3198 = cities_df_3198\\\n",
    "                    .groupBy(\"state\")\\\n",
    "                        .agg(array_sort(collect_list(\"city\")).alias(\"city_list\"))"
   ]
  },
  {
   "cell_type": "code",
   "execution_count": 0,
   "metadata": {
    "application/vnd.databricks.v1+cell": {
     "cellMetadata": {
      "byteLimit": 2048000,
      "rowLimit": 10000
     },
     "inputWidgets": {},
     "nuid": "6b48165c-1ce1-4646-a09c-a9095b73a6d2",
     "showTitle": false,
     "tableResultSettingsMap": {
      "0": {
       "dataGridStateBlob": "{\"version\":1,\"tableState\":{\"columnPinning\":{\"left\":[\"#row_number#\"],\"right\":[]},\"columnSizing\":{\"cities\":237},\"columnVisibility\":{}},\"settings\":{\"columns\":{}},\"syncTimestamp\":1759676564324}",
       "filterBlob": null,
       "queryPlanFiltersBlob": null,
       "tableResultIndex": 0
      }
     },
     "title": ""
    }
   },
   "outputs": [
    {
     "output_type": "display_data",
     "data": {
      "text/html": [
       "<style scoped>\n",
       "  .table-result-container {\n",
       "    max-height: 300px;\n",
       "    overflow: auto;\n",
       "  }\n",
       "  table, th, td {\n",
       "    border: 1px solid black;\n",
       "    border-collapse: collapse;\n",
       "  }\n",
       "  th, td {\n",
       "    padding: 5px;\n",
       "  }\n",
       "  th {\n",
       "    text-align: left;\n",
       "  }\n",
       "</style><div class='table-result-container'><table class='table-result'><thead style='background-color: white'><tr><th>state</th><th>cities</th></tr></thead><tbody><tr><td>California</td><td>Los Angeles, San Diego, San Francisco</td></tr><tr><td>New York</td><td>Buffalo, New York City, Rochester</td></tr><tr><td>Texas</td><td>Austin, Dallas, Houston</td></tr></tbody></table></div>"
      ]
     },
     "metadata": {
      "application/vnd.databricks.v1+output": {
       "addedWidgets": {},
       "aggData": [],
       "aggError": "",
       "aggOverflow": false,
       "aggSchema": [],
       "aggSeriesLimitReached": false,
       "aggType": "",
       "arguments": {},
       "columnCustomDisplayInfos": {},
       "data": [
        [
         "California",
         "Los Angeles, San Diego, San Francisco"
        ],
        [
         "New York",
         "Buffalo, New York City, Rochester"
        ],
        [
         "Texas",
         "Austin, Dallas, Houston"
        ]
       ],
       "datasetInfos": [],
       "dbfsResultPath": null,
       "isJsonSchema": true,
       "metadata": {},
       "overflow": false,
       "plotOptions": {
        "customPlotOptions": {},
        "displayType": "table",
        "pivotAggregation": null,
        "pivotColumns": null,
        "xColumns": null,
        "yColumns": null
       },
       "removedWidgets": [],
       "schema": [
        {
         "metadata": "{}",
         "name": "state",
         "type": "\"string\""
        },
        {
         "metadata": "{}",
         "name": "cities",
         "type": "\"string\""
        }
       ],
       "type": "table"
      }
     },
     "output_type": "display_data"
    }
   ],
   "source": [
    "cities_agg_3198\\\n",
    "    .withColumn(\"cities\", concat_ws(\", \", col(\"city_list\")))\\\n",
    "        .select(\"state\", \"cities\").orderBy(\"state\").display()"
   ]
  }
 ],
 "metadata": {
  "application/vnd.databricks.v1+notebook": {
   "computePreferences": {
    "hardware": {
     "accelerator": null,
     "gpuPoolId": null,
     "memory": null
    }
   },
   "dashboards": [],
   "environmentMetadata": {
    "base_environment": "",
    "environment_version": "2"
   },
   "inputWidgetPreferences": null,
   "language": "python",
   "notebookMetadata": {
    "pythonIndentUnit": 4
   },
   "notebookName": "3198. Find Cities in Each State (Easy)-(Solved)",
   "widgets": {}
  },
  "language_info": {
   "name": "python"
  }
 },
 "nbformat": 4,
 "nbformat_minor": 0
}
