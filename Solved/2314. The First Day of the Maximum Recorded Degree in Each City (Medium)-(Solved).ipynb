{
 "cells": [
  {
   "cell_type": "markdown",
   "metadata": {
    "application/vnd.databricks.v1+cell": {
     "cellMetadata": {
      "byteLimit": 2048000,
      "rowLimit": 10000
     },
     "inputWidgets": {},
     "nuid": "4e9d71b1-88e9-445c-820a-b842e217a4e7",
     "showTitle": false,
     "tableResultSettingsMap": {},
     "title": ""
    }
   },
   "source": [
    "## Importing Libraries"
   ]
  },
  {
   "cell_type": "code",
   "execution_count": 0,
   "metadata": {
    "application/vnd.databricks.v1+cell": {
     "cellMetadata": {
      "byteLimit": 2048000,
      "rowLimit": 10000
     },
     "inputWidgets": {},
     "nuid": "e6624c4d-8cb8-4ac4-8c72-81d1b4ecdb57",
     "showTitle": false,
     "tableResultSettingsMap": {},
     "title": ""
    }
   },
   "outputs": [],
   "source": [
    "from pyspark.sql.functions import *\n",
    "from pyspark.sql.types import *\n",
    "from pyspark.sql.window import Window"
   ]
  },
  {
   "cell_type": "markdown",
   "metadata": {
    "application/vnd.databricks.v1+cell": {
     "cellMetadata": {
      "byteLimit": 2048000,
      "rowLimit": 10000
     },
     "inputWidgets": {},
     "nuid": "c3788fe5-f4c9-420f-ad72-ec1a39310a2a",
     "showTitle": false,
     "tableResultSettingsMap": {},
     "title": ""
    }
   },
   "source": [
    "**2314. The First Day of the Maximum Recorded Degree in Each City (Medium)**\n",
    "\n",
    "**Table: Weather**\n",
    "\n",
    "| Column Name | Type |\n",
    "|-------------|------|\n",
    "| city_id     | int  |\n",
    "| day         | date |\n",
    "| degree      | int  |\n",
    "\n",
    "(city_id, day) is the primary key (combination of columns with unique values) for this table.\n",
    "Each row in this table contains the degree of the weather of a city on a certain day.\n",
    "All the degrees are recorded in the year 2022.\n",
    " \n",
    "**Write a solution to report the day that has the maximum recorded degree in each city. If the maximum degree was recorded for the same city multiple times, return the earliest day among them.**\n",
    "\n",
    "Return the result table ordered by city_id in ascending order.\n",
    "\n",
    "The result format is shown in the following example.\n",
    "\n",
    "**Example 1:**\n",
    "\n",
    "**Input:** \n",
    "\n",
    "**Weather table:**\n",
    "\n",
    "| city_id | day        | degree |\n",
    "|---------|------------|--------|\n",
    "| 1       | 2022-01-07 | -12    |\n",
    "| 1       | 2022-03-07 | 5      |\n",
    "| 1       | 2022-07-07 | 24     |\n",
    "| 2       | 2022-08-07 | 37     |\n",
    "| 2       | 2022-08-17 | 37     |\n",
    "| 3       | 2022-02-07 | -7     |\n",
    "| 3       | 2022-12-07 | -6     |\n",
    "\n",
    "**Output:** \n",
    "| city_id | day        | degree |\n",
    "|---------|------------|--------|\n",
    "| 1       | 2022-07-07 | 24     |\n",
    "| 2       | 2022-08-07 | 37     |\n",
    "| 3       | 2022-12-07 | -6     |\n",
    "\n",
    "**Explanation:** \n",
    "- For city 1, the maximum degree was recorded on 2022-07-07 with 24 degrees.\n",
    "- For city 2, the maximum degree was recorded on 2022-08-07 and 2022-08-17 with 37 degrees. We choose the earlier date (2022-08-07).\n",
    "- For city 3, the maximum degree was recorded on 2022-12-07 with -6 degrees."
   ]
  },
  {
   "cell_type": "code",
   "execution_count": 0,
   "metadata": {
    "application/vnd.databricks.v1+cell": {
     "cellMetadata": {
      "byteLimit": 2048000,
      "rowLimit": 10000
     },
     "inputWidgets": {},
     "nuid": "137536ea-9bec-4171-8dc2-4bf8b0d771b4",
     "showTitle": false,
     "tableResultSettingsMap": {},
     "title": ""
    }
   },
   "outputs": [
    {
     "output_type": "stream",
     "name": "stdout",
     "output_type": "stream",
     "text": [
      "+-------+----------+------+\n|city_id|       day|degree|\n+-------+----------+------+\n|      1|2022-01-07|   -12|\n|      1|2022-03-07|     5|\n|      1|2022-07-07|    24|\n|      2|2022-08-07|    37|\n|      2|2022-08-17|    37|\n|      3|2022-02-07|    -7|\n|      3|2022-12-07|    -6|\n+-------+----------+------+\n\n"
     ]
    }
   ],
   "source": [
    "weather_data_2314 = [\n",
    "    (1, \"2022-01-07\", -12),\n",
    "    (1, \"2022-03-07\", 5),\n",
    "    (1, \"2022-07-07\", 24),\n",
    "    (2, \"2022-08-07\", 37),\n",
    "    (2, \"2022-08-17\", 37),\n",
    "    (3, \"2022-02-07\", -7),\n",
    "    (3, \"2022-12-07\", -6),\n",
    "]\n",
    "\n",
    "Weather_columns_2314 = [\"city_id\", \"day\", \"degree\"]\n",
    "weather_df_2314 = spark.createDataFrame(weather_data_2314, Weather_columns_2314)\n",
    "weather_df_2314.show()"
   ]
  },
  {
   "cell_type": "code",
   "execution_count": 0,
   "metadata": {
    "application/vnd.databricks.v1+cell": {
     "cellMetadata": {
      "byteLimit": 2048000,
      "rowLimit": 10000
     },
     "inputWidgets": {},
     "nuid": "dacf2a46-ce4d-41d0-9c0e-14b95bfa3832",
     "showTitle": false,
     "tableResultSettingsMap": {},
     "title": ""
    }
   },
   "outputs": [],
   "source": [
    "windowSpec = Window.partitionBy(\"city_id\").orderBy(col(\"degree\").desc(), col(\"day\").asc())"
   ]
  },
  {
   "cell_type": "code",
   "execution_count": 0,
   "metadata": {
    "application/vnd.databricks.v1+cell": {
     "cellMetadata": {
      "byteLimit": 2048000,
      "rowLimit": 10000
     },
     "inputWidgets": {},
     "nuid": "1bc08eab-29d5-4f26-9c0f-1e8149c0342a",
     "showTitle": false,
     "tableResultSettingsMap": {},
     "title": ""
    }
   },
   "outputs": [
    {
     "output_type": "stream",
     "name": "stdout",
     "output_type": "stream",
     "text": [
      "+-------+----------+------+\n|city_id|       day|degree|\n+-------+----------+------+\n|      1|2022-07-07|    24|\n|      2|2022-08-07|    37|\n|      3|2022-12-07|    -6|\n+-------+----------+------+\n\n"
     ]
    }
   ],
   "source": [
    "weather_df_2314\\\n",
    "    .withColumn(\"rn\", row_number().over(windowSpec))\\\n",
    "        .filter(col(\"rn\") == 1)\\\n",
    "            .drop(\"rn\").orderBy(\"city_id\").show()"
   ]
  }
 ],
 "metadata": {
  "application/vnd.databricks.v1+notebook": {
   "computePreferences": {
    "hardware": {
     "accelerator": null,
     "gpuPoolId": null,
     "memory": null
    }
   },
   "dashboards": [],
   "environmentMetadata": {
    "base_environment": "",
    "environment_version": "2"
   },
   "inputWidgetPreferences": null,
   "language": "python",
   "notebookMetadata": {
    "pythonIndentUnit": 4
   },
   "notebookName": "2314. The First Day of the Maximum Recorded Degree in Each City (Medium)-(Solved)",
   "widgets": {}
  },
  "language_info": {
   "name": "python"
  }
 },
 "nbformat": 4,
 "nbformat_minor": 0
}
