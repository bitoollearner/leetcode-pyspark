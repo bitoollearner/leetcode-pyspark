{
 "cells": [
  {
   "cell_type": "markdown",
   "metadata": {
    "application/vnd.databricks.v1+cell": {
     "cellMetadata": {},
     "inputWidgets": {},
     "nuid": "a23f6d56-6d8d-44bc-b796-cedda9e17c21",
     "showTitle": false,
     "tableResultSettingsMap": {},
     "title": ""
    }
   },
   "source": [
    "## Importing Libraries"
   ]
  },
  {
   "cell_type": "code",
   "execution_count": 0,
   "metadata": {
    "application/vnd.databricks.v1+cell": {
     "cellMetadata": {},
     "inputWidgets": {},
     "nuid": "0a69d78b-43d7-4f9e-a05d-026985c2539f",
     "showTitle": false,
     "tableResultSettingsMap": {},
     "title": ""
    }
   },
   "outputs": [],
   "source": [
    "from pyspark.sql.functions import *\n",
    "from pyspark.sql.types import *\n",
    "from pyspark.sql.window import Window"
   ]
  },
  {
   "cell_type": "markdown",
   "metadata": {
    "application/vnd.databricks.v1+cell": {
     "cellMetadata": {},
     "inputWidgets": {},
     "nuid": "2a54b88b-06bd-43e4-978a-c0c5d33ca5bb",
     "showTitle": false,
     "tableResultSettingsMap": {},
     "title": ""
    }
   },
   "source": [
    "**2228. Users With Two Purchases Within Seven Days (Medium)**\n",
    "\n",
    "**Table: Purchases**\n",
    "\n",
    "| Column Name   | Type |\n",
    "|---------------|------|\n",
    "| purchase_id   | int  |\n",
    "| user_id       | int  |\n",
    "| purchase_date | date |\n",
    "\n",
    "purchase_id contains unique values.\n",
    "This table contains logs of the dates that users purchased from a certain retailer.\n",
    " \n",
    "**Write a solution to report the IDs of the users that made any two purchases at most 7 days apart.**\n",
    "\n",
    "Return the result table ordered by user_id.\n",
    "\n",
    "The result format is in the following example.\n",
    "\n",
    "**Example 1:**\n",
    "\n",
    "**Input:** \n",
    "\n",
    "**Purchases table:**\n",
    "\n",
    "| purchase_id | user_id | purchase_date |\n",
    "|-------------|---------|---------------|\n",
    "| 4           | 2       | 2022-03-13    |\n",
    "| 1           | 5       | 2022-02-11    |\n",
    "| 3           | 7       | 2022-06-19    |\n",
    "| 6           | 2       | 2022-03-20    |\n",
    "| 5           | 7       | 2022-06-19    |\n",
    "| 2           | 2       | 2022-06-08    |\n",
    "\n",
    "**Output:** \n",
    "| user_id |\n",
    "|---------|\n",
    "| 2       |\n",
    "| 7       |\n",
    "\n",
    "**Explanation:** \n",
    "- User 2 had two purchases on 2022-03-13 and 2022-03-20. Since the second purchase is within 7 days of the first purchase, we add their ID.\n",
    "- User 5 had only 1 purchase.\n",
    "- User 7 had two purchases on the same day so we add their ID."
   ]
  },
  {
   "cell_type": "code",
   "execution_count": 0,
   "metadata": {
    "application/vnd.databricks.v1+cell": {
     "cellMetadata": {},
     "inputWidgets": {},
     "nuid": "c260f510-542b-4067-a6f4-ffed86995056",
     "showTitle": false,
     "tableResultSettingsMap": {},
     "title": ""
    }
   },
   "outputs": [],
   "source": [
    "purchases_data_2228 = [\n",
    "    (4, 2, \"2022-03-13\"),\n",
    "    (1, 5, \"2022-02-11\"),\n",
    "    (3, 7, \"2022-06-19\"),\n",
    "    (6, 2, \"2022-03-20\"),\n",
    "    (5, 7, \"2022-06-19\"),\n",
    "    (2, 2, \"2022-06-08\")\n",
    "]\n",
    "\n",
    "purchases_columns_2228 = [\"purchase_id\", \"user_id\", \"purchase_date\"]\n",
    "purchases_df_2228 = spark.createDataFrame(purchases_data_2228, purchases_columns_2228)\n",
    "purchases_df_2228.show()"
   ]
  }
 ],
 "metadata": {
  "application/vnd.databricks.v1+notebook": {
   "computePreferences": null,
   "dashboards": [],
   "environmentMetadata": {
    "base_environment": "",
    "environment_version": "1"
   },
   "inputWidgetPreferences": null,
   "language": "python",
   "notebookMetadata": {
    "pythonIndentUnit": 4
   },
   "notebookName": "2228. Users With Two Purchases Within Seven Days (Medium)-(Solved)",
   "widgets": {}
  },
  "language_info": {
   "name": "python"
  }
 },
 "nbformat": 4,
 "nbformat_minor": 0
}
