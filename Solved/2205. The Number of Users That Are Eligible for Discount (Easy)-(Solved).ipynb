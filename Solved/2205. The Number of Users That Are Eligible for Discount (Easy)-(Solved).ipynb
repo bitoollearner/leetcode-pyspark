{
 "cells": [
  {
   "cell_type": "markdown",
   "metadata": {
    "application/vnd.databricks.v1+cell": {
     "cellMetadata": {
      "byteLimit": 2048000,
      "rowLimit": 10000
     },
     "inputWidgets": {},
     "nuid": "a23f6d56-6d8d-44bc-b796-cedda9e17c21",
     "showTitle": false,
     "tableResultSettingsMap": {},
     "title": ""
    }
   },
   "source": [
    "## Importing Libraries"
   ]
  },
  {
   "cell_type": "code",
   "execution_count": 0,
   "metadata": {
    "application/vnd.databricks.v1+cell": {
     "cellMetadata": {
      "byteLimit": 2048000,
      "rowLimit": 10000
     },
     "inputWidgets": {},
     "nuid": "0a69d78b-43d7-4f9e-a05d-026985c2539f",
     "showTitle": false,
     "tableResultSettingsMap": {},
     "title": ""
    }
   },
   "outputs": [],
   "source": [
    "from pyspark.sql.functions import *\n",
    "from pyspark.sql.types import *\n",
    "from pyspark.sql.window import Window"
   ]
  },
  {
   "cell_type": "markdown",
   "metadata": {
    "application/vnd.databricks.v1+cell": {
     "cellMetadata": {
      "byteLimit": 2048000,
      "rowLimit": 10000
     },
     "inputWidgets": {},
     "nuid": "2a54b88b-06bd-43e4-978a-c0c5d33ca5bb",
     "showTitle": false,
     "tableResultSettingsMap": {},
     "title": ""
    }
   },
   "source": [
    "**2205. The Number of Users That Are Eligible for Discount (Easy)**\n",
    "\n",
    "**Table: Purchases**\n",
    "\n",
    "| Column Name | Type     |\n",
    "|-------------|----------|\n",
    "| user_id     | int      |\n",
    "| time_stamp  | datetime |\n",
    "| amount      | int      |\n",
    "\n",
    "(user_id, time_stamp) is the primary key (combination of columns with unique values) for this table.\n",
    "Each row contains information about the purchase time and the amount paid for the user with ID user_id.\n",
    " \n",
    "A user is eligible for a discount if they had a purchase in the inclusive interval of time [startDate, endDate] with at least minAmount amount. To convert the dates to times, both dates should be considered as the start of the day (i.e., endDate = 2022-03-05 should be considered as the time 2022-03-05 00:00:00).\n",
    "\n",
    "**Write a solution to report the number of users that are eligible for a discount.**\n",
    "\n",
    "The result format is in the following example.\n",
    "\n",
    "**Example 1:**\n",
    "\n",
    "**Input:** \n",
    "\n",
    "**Purchases table:**\n",
    "\n",
    "| user_id | time_stamp          | amount |\n",
    "|---------|---------------------|--------|\n",
    "| 1       | 2022-04-20 09:03:00 | 4416   |\n",
    "| 2       | 2022-03-19 19:24:02 | 678    |\n",
    "| 3       | 2022-03-18 12:03:09 | 4523   |\n",
    "| 3       | 2022-03-30 09:43:42 | 626    |\n",
    "\n",
    "startDate = 2022-03-08, endDate = 2022-03-20, minAmount = 1000\n",
    "\n",
    "**Output:** \n",
    "| user_cnt |\n",
    "|----------|\n",
    "| 1        |\n",
    "\n",
    "**Explanation:**\n",
    "\n",
    "Out of the three users, only User 3 is eligible for a discount.\n",
    " - User 1 had one purchase with at least minAmount amount, but not within the time interval.\n",
    " - User 2 had one purchase within the time interval, but with less than minAmount amount.\n",
    " - User 3 is the only user who had a purchase that satisfies both conditions."
   ]
  },
  {
   "cell_type": "code",
   "execution_count": 0,
   "metadata": {
    "application/vnd.databricks.v1+cell": {
     "cellMetadata": {
      "byteLimit": 2048000,
      "rowLimit": 10000
     },
     "inputWidgets": {},
     "nuid": "c260f510-542b-4067-a6f4-ffed86995056",
     "showTitle": false,
     "tableResultSettingsMap": {},
     "title": ""
    }
   },
   "outputs": [
    {
     "output_type": "stream",
     "name": "stdout",
     "output_type": "stream",
     "text": [
      "+-------+-------------------+------+\n|user_id|         time_stamp|amount|\n+-------+-------------------+------+\n|      1|2022-04-20 09:03:00|  4416|\n|      2|2022-03-19 19:24:02|   678|\n|      3|2022-03-18 12:03:09|  4523|\n|      3|2022-03-30 09:43:42|   626|\n+-------+-------------------+------+\n\n"
     ]
    }
   ],
   "source": [
    "purchases_data_2205 = [\n",
    "    (1, \"2022-04-20 09:03:00\", 4416),\n",
    "    (2, \"2022-03-19 19:24:02\", 678),\n",
    "    (3, \"2022-03-18 12:03:09\", 4523),\n",
    "    (3, \"2022-03-30 09:43:42\", 626)\n",
    "]\n",
    "\n",
    "purchases_columns_2205 = [\"user_id\", \"time_stamp\", \"amount\"]\n",
    "purchases_df_2205 = spark.createDataFrame(purchases_data_2205, purchases_columns_2205)\n",
    "purchases_df_2205.show()"
   ]
  },
  {
   "cell_type": "code",
   "execution_count": 0,
   "metadata": {
    "application/vnd.databricks.v1+cell": {
     "cellMetadata": {
      "byteLimit": 2048000,
      "rowLimit": 10000
     },
     "inputWidgets": {},
     "nuid": "dbd0b8ab-e13d-4324-98a9-f7ab76562afe",
     "showTitle": false,
     "tableResultSettingsMap": {},
     "title": ""
    }
   },
   "outputs": [],
   "source": [
    "startDate = \"2022-03-08\"\n",
    "endDate = \"2022-03-20\"\n",
    "minAmount = 1000\n",
    "\n",
    "start_dt = to_timestamp(lit(startDate))\n",
    "end_dt = date_add(to_date(lit(endDate)), 1)\n"
   ]
  },
  {
   "cell_type": "code",
   "execution_count": 0,
   "metadata": {
    "application/vnd.databricks.v1+cell": {
     "cellMetadata": {
      "byteLimit": 2048000,
      "rowLimit": 10000
     },
     "inputWidgets": {},
     "nuid": "a847fa4f-d5e8-4dfa-9487-e22076689f88",
     "showTitle": false,
     "tableResultSettingsMap": {},
     "title": ""
    }
   },
   "outputs": [],
   "source": [
    "eligible_users_df_2205 = purchases_df_2205\\\n",
    "                                .filter(\n",
    "                                    (col(\"amount\") >= minAmount) &\n",
    "                                    (col(\"time_stamp\") >= start_dt) &\n",
    "                                    (col(\"time_stamp\") < end_dt)\n",
    "                                    )\\\n",
    "                                        .select(\"user_id\")\\\n",
    "                                            .distinct()"
   ]
  },
  {
   "cell_type": "code",
   "execution_count": 0,
   "metadata": {
    "application/vnd.databricks.v1+cell": {
     "cellMetadata": {
      "byteLimit": 2048000,
      "rowLimit": 10000
     },
     "inputWidgets": {},
     "nuid": "68aa33df-6249-4f07-af51-cdc3b41a1fa7",
     "showTitle": false,
     "tableResultSettingsMap": {},
     "title": ""
    }
   },
   "outputs": [
    {
     "output_type": "stream",
     "name": "stdout",
     "output_type": "stream",
     "text": [
      "+--------+\n|user_cnt|\n+--------+\n|       1|\n+--------+\n\n"
     ]
    }
   ],
   "source": [
    "eligible_users_df_2205\\\n",
    "    .agg(\n",
    "        count(\"*\").alias(\"user_cnt\")\n",
    "        ).show()"
   ]
  }
 ],
 "metadata": {
  "application/vnd.databricks.v1+notebook": {
   "computePreferences": {
    "hardware": {
     "accelerator": null,
     "gpuPoolId": null,
     "memory": null
    }
   },
   "dashboards": [],
   "environmentMetadata": {
    "base_environment": "",
    "environment_version": "2"
   },
   "inputWidgetPreferences": null,
   "language": "python",
   "notebookMetadata": {
    "pythonIndentUnit": 4
   },
   "notebookName": "2205. The Number of Users That Are Eligible for Discount (Easy)-(Solved)",
   "widgets": {}
  },
  "language_info": {
   "name": "python"
  }
 },
 "nbformat": 4,
 "nbformat_minor": 0
}
