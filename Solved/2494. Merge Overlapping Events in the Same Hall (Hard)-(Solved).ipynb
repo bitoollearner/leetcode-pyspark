{
 "cells": [
  {
   "cell_type": "markdown",
   "metadata": {
    "application/vnd.databricks.v1+cell": {
     "cellMetadata": {
      "byteLimit": 2048000,
      "rowLimit": 10000
     },
     "inputWidgets": {},
     "nuid": "4e9d71b1-88e9-445c-820a-b842e217a4e7",
     "showTitle": false,
     "tableResultSettingsMap": {},
     "title": ""
    }
   },
   "source": [
    "## Importing Libraries"
   ]
  },
  {
   "cell_type": "code",
   "execution_count": 0,
   "metadata": {
    "application/vnd.databricks.v1+cell": {
     "cellMetadata": {
      "byteLimit": 2048000,
      "rowLimit": 10000
     },
     "inputWidgets": {},
     "nuid": "e6624c4d-8cb8-4ac4-8c72-81d1b4ecdb57",
     "showTitle": false,
     "tableResultSettingsMap": {},
     "title": ""
    }
   },
   "outputs": [],
   "source": [
    "from pyspark.sql.functions import *\n",
    "from pyspark.sql.types import *\n",
    "from pyspark.sql.window import Window"
   ]
  },
  {
   "cell_type": "markdown",
   "metadata": {
    "application/vnd.databricks.v1+cell": {
     "cellMetadata": {
      "byteLimit": 2048000,
      "rowLimit": 10000
     },
     "inputWidgets": {},
     "nuid": "c3788fe5-f4c9-420f-ad72-ec1a39310a2a",
     "showTitle": false,
     "tableResultSettingsMap": {},
     "title": ""
    }
   },
   "source": [
    "**2494. Merge Overlapping Events in the Same Hall (Hard)**\n",
    "\n",
    "**Table: HallEvents**\n",
    "\n",
    "| Column Name | Type |\n",
    "|-------------|------|\n",
    "| hall_id     | int  |\n",
    "| start_day   | date |\n",
    "| end_day     | date |\n",
    "\n",
    "This table may contain duplicates rows.\n",
    "Each row of this table indicates the start day and end day of an event and the hall in which the event is held.\n",
    " \n",
    "**Write a solution to merge all the overlapping events that are held in the same hall. Two events overlap if they have at least one day in common.**\n",
    "\n",
    "Return the result table in any order.\n",
    "\n",
    "The result format is in the following example.\n",
    "\n",
    "**Example 1:**\n",
    "\n",
    "**Input:** \n",
    "\n",
    "**HallEvents table:**\n",
    "| hall_id | start_day  | end_day    |\n",
    "|---------|------------|------------|\n",
    "| 1       | 2023-01-13 | 2023-01-14 |\n",
    "| 1       | 2023-01-14 | 2023-01-17 |\n",
    "| 1       | 2023-01-18 | 2023-01-25 |\n",
    "| 2       | 2022-12-09 | 2022-12-23 |\n",
    "| 2       | 2022-12-13 | 2022-12-17 |\n",
    "| 3       | 2022-12-01 | 2023-01-30 |\n",
    "\n",
    "**Output:** \n",
    "| hall_id | start_day  | end_day    |\n",
    "|---------|------------|------------|\n",
    "| 1       | 2023-01-13 | 2023-01-17 |\n",
    "| 1       | 2023-01-18 | 2023-01-25 |\n",
    "| 2       | 2022-12-09 | 2022-12-23 |\n",
    "| 3       | 2022-12-01 | 2023-01-30 |\n",
    "\n",
    "**Explanation:** There are three halls.\n",
    "\n",
    "Hall 1:\n",
    "- The two events [\"2023-01-13\", \"2023-01-14\"] and [\"2023-01-14\", \"2023-01-17\"] overlap. We merge them in one event [\"2023-01-13\", \"2023-01-17\"].\n",
    "- The event [\"2023-01-18\", \"2023-01-25\"] does not overlap with any other event, so we leave it as it is.\n",
    "\n",
    "Hall 2:\n",
    "- The two events [\"2022-12-09\", \"2022-12-23\"] and [\"2022-12-13\", \"2022-12-17\"] overlap. We merge them in one event [\"2022-12-09\", \"2022-12-23\"].\n",
    "\n",
    "Hall 3:\n",
    "- The hall has only one event, so we return it. Note that we only consider the events of each hall separately."
   ]
  },
  {
   "cell_type": "code",
   "execution_count": 0,
   "metadata": {
    "application/vnd.databricks.v1+cell": {
     "cellMetadata": {
      "byteLimit": 2048000,
      "rowLimit": 10000
     },
     "inputWidgets": {},
     "nuid": "137536ea-9bec-4171-8dc2-4bf8b0d771b4",
     "showTitle": false,
     "tableResultSettingsMap": {},
     "title": ""
    }
   },
   "outputs": [
    {
     "output_type": "stream",
     "name": "stdout",
     "output_type": "stream",
     "text": [
      "+-------+----------+----------+\n|hall_id| start_day|   end_day|\n+-------+----------+----------+\n|      1|2023-01-13|2023-01-14|\n|      1|2023-01-14|2023-01-17|\n|      1|2023-01-18|2023-01-25|\n|      2|2022-12-09|2022-12-23|\n|      2|2022-12-13|2022-12-17|\n|      3|2022-12-01|2023-01-30|\n+-------+----------+----------+\n\n"
     ]
    }
   ],
   "source": [
    "hall_events_data_2494 = [\n",
    "    (1, \"2023-01-13\", \"2023-01-14\"),\n",
    "    (1, \"2023-01-14\", \"2023-01-17\"),\n",
    "    (1, \"2023-01-18\", \"2023-01-25\"),\n",
    "    (2, \"2022-12-09\", \"2022-12-23\"),\n",
    "    (2, \"2022-12-13\", \"2022-12-17\"),\n",
    "    (3, \"2022-12-01\", \"2023-01-30\"),\n",
    "]\n",
    "\n",
    "hall_events_columns_2494 = [\"hall_id\", \"start_day\", \"end_day\"]\n",
    "hall_events_df_2494 = spark.createDataFrame(hall_events_data_2494, hall_events_columns_2494)\n",
    "hall_events_df_2494.show()\n"
   ]
  },
  {
   "cell_type": "code",
   "execution_count": 0,
   "metadata": {
    "application/vnd.databricks.v1+cell": {
     "cellMetadata": {
      "byteLimit": 2048000,
      "rowLimit": 10000
     },
     "inputWidgets": {},
     "nuid": "58319bba-1a7b-45df-8618-b9998b71cb1b",
     "showTitle": false,
     "tableResultSettingsMap": {},
     "title": ""
    }
   },
   "outputs": [],
   "source": [
    "hall_events_df_2494 = hall_events_df_2494\\\n",
    "                            .withColumn(\"start_day\", to_date(\"start_day\")) \\\n",
    "                                .withColumn(\"end_day\", to_date(\"end_day\"))"
   ]
  },
  {
   "cell_type": "code",
   "execution_count": 0,
   "metadata": {
    "application/vnd.databricks.v1+cell": {
     "cellMetadata": {
      "byteLimit": 2048000,
      "rowLimit": 10000
     },
     "inputWidgets": {},
     "nuid": "cd2e3661-023e-4692-b1ea-3353d5807857",
     "showTitle": false,
     "tableResultSettingsMap": {},
     "title": ""
    }
   },
   "outputs": [],
   "source": [
    "hall_events_df_2494 = hall_events_df_2494.dropDuplicates()"
   ]
  },
  {
   "cell_type": "code",
   "execution_count": 0,
   "metadata": {
    "application/vnd.databricks.v1+cell": {
     "cellMetadata": {
      "byteLimit": 2048000,
      "rowLimit": 10000
     },
     "inputWidgets": {},
     "nuid": "28dedfb4-f250-4a32-9620-6e0b01b097e9",
     "showTitle": false,
     "tableResultSettingsMap": {},
     "title": ""
    }
   },
   "outputs": [],
   "source": [
    "windowSpec = Window.partitionBy(\"hall_id\").orderBy(\"start_day\")"
   ]
  },
  {
   "cell_type": "code",
   "execution_count": 0,
   "metadata": {
    "application/vnd.databricks.v1+cell": {
     "cellMetadata": {
      "byteLimit": 2048000,
      "rowLimit": 10000
     },
     "inputWidgets": {},
     "nuid": "ddfb4be0-6fd5-4f9d-b3c7-a64749a30ab4",
     "showTitle": false,
     "tableResultSettingsMap": {},
     "title": ""
    }
   },
   "outputs": [],
   "source": [
    "hall_events_df_2494 = hall_events_df_2494\\\n",
    "                            .withColumn(\"prev_end\",lag(\"end_day\").over(windowSpec))"
   ]
  },
  {
   "cell_type": "code",
   "execution_count": 0,
   "metadata": {
    "application/vnd.databricks.v1+cell": {
     "cellMetadata": {
      "byteLimit": 2048000,
      "rowLimit": 10000
     },
     "inputWidgets": {},
     "nuid": "6a14442b-7bf1-4234-9586-7228ab8e85d9",
     "showTitle": false,
     "tableResultSettingsMap": {},
     "title": ""
    }
   },
   "outputs": [],
   "source": [
    "hall_events_df_2494 = hall_events_df_2494\\\n",
    "                            .withColumn(\"new_group\",when((col(\"prev_end\").isNull()) | \n",
    "                                              (col(\"start_day\") > col(\"prev_end\")), 1).otherwise(0)\n",
    "                                        )"
   ]
  },
  {
   "cell_type": "code",
   "execution_count": 0,
   "metadata": {
    "application/vnd.databricks.v1+cell": {
     "cellMetadata": {
      "byteLimit": 2048000,
      "rowLimit": 10000
     },
     "inputWidgets": {},
     "nuid": "d97a3161-3f8e-4dbb-8ce9-aa7ed96961d3",
     "showTitle": false,
     "tableResultSettingsMap": {},
     "title": ""
    }
   },
   "outputs": [],
   "source": [
    "hall_events_df_2494 = hall_events_df_2494\\\n",
    "                            .withColumn(\"group_id\", sum(\"new_group\").over(windowSpec.rowsBetween(Window.unboundedPreceding, 0))\n",
    "                                        )"
   ]
  },
  {
   "cell_type": "code",
   "execution_count": 0,
   "metadata": {
    "application/vnd.databricks.v1+cell": {
     "cellMetadata": {
      "byteLimit": 2048000,
      "rowLimit": 10000
     },
     "inputWidgets": {},
     "nuid": "155d96d7-621e-494c-a60a-c85f1744ac44",
     "showTitle": false,
     "tableResultSettingsMap": {},
     "title": ""
    }
   },
   "outputs": [
    {
     "output_type": "display_data",
     "data": {
      "text/html": [
       "<style scoped>\n",
       "  .table-result-container {\n",
       "    max-height: 300px;\n",
       "    overflow: auto;\n",
       "  }\n",
       "  table, th, td {\n",
       "    border: 1px solid black;\n",
       "    border-collapse: collapse;\n",
       "  }\n",
       "  th, td {\n",
       "    padding: 5px;\n",
       "  }\n",
       "  th {\n",
       "    text-align: left;\n",
       "  }\n",
       "</style><div class='table-result-container'><table class='table-result'><thead style='background-color: white'><tr><th>hall_id</th><th>start_day</th><th>end_day</th></tr></thead><tbody><tr><td>1</td><td>2023-01-13</td><td>2023-01-17</td></tr><tr><td>1</td><td>2023-01-18</td><td>2023-01-25</td></tr><tr><td>2</td><td>2022-12-09</td><td>2022-12-23</td></tr><tr><td>3</td><td>2022-12-01</td><td>2023-01-30</td></tr></tbody></table></div>"
      ]
     },
     "metadata": {
      "application/vnd.databricks.v1+output": {
       "addedWidgets": {},
       "aggData": [],
       "aggError": "",
       "aggOverflow": false,
       "aggSchema": [],
       "aggSeriesLimitReached": false,
       "aggType": "",
       "arguments": {},
       "columnCustomDisplayInfos": {},
       "data": [
        [
         1,
         "2023-01-13",
         "2023-01-17"
        ],
        [
         1,
         "2023-01-18",
         "2023-01-25"
        ],
        [
         2,
         "2022-12-09",
         "2022-12-23"
        ],
        [
         3,
         "2022-12-01",
         "2023-01-30"
        ]
       ],
       "datasetInfos": [],
       "dbfsResultPath": null,
       "isJsonSchema": true,
       "metadata": {},
       "overflow": false,
       "plotOptions": {
        "customPlotOptions": {},
        "displayType": "table",
        "pivotAggregation": null,
        "pivotColumns": null,
        "xColumns": null,
        "yColumns": null
       },
       "removedWidgets": [],
       "schema": [
        {
         "metadata": "{}",
         "name": "hall_id",
         "type": "\"long\""
        },
        {
         "metadata": "{}",
         "name": "start_day",
         "type": "\"date\""
        },
        {
         "metadata": "{}",
         "name": "end_day",
         "type": "\"date\""
        }
       ],
       "type": "table"
      }
     },
     "output_type": "display_data"
    }
   ],
   "source": [
    "hall_events_df_2494\\\n",
    "    .groupBy(\"hall_id\", \"group_id\") \\\n",
    "        .agg(\n",
    "            min(\"start_day\").alias(\"start_day\"),\n",
    "            max(\"end_day\").alias(\"end_day\")\n",
    "            ) \\\n",
    "                .select(\"hall_id\", \"start_day\", \"end_day\") \\\n",
    "                    .orderBy(\"hall_id\", \"start_day\").display()"
   ]
  }
 ],
 "metadata": {
  "application/vnd.databricks.v1+notebook": {
   "computePreferences": {
    "hardware": {
     "accelerator": null,
     "gpuPoolId": null,
     "memory": null
    }
   },
   "dashboards": [],
   "environmentMetadata": {
    "base_environment": "",
    "environment_version": "2"
   },
   "inputWidgetPreferences": null,
   "language": "python",
   "notebookMetadata": {
    "pythonIndentUnit": 4
   },
   "notebookName": "2494. Merge Overlapping Events in the Same Hall (Hard)-(Solved)",
   "widgets": {}
  },
  "language_info": {
   "name": "python"
  }
 },
 "nbformat": 4,
 "nbformat_minor": 0
}
