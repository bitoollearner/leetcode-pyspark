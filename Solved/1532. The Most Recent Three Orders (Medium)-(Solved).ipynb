{
 "cells": [
  {
   "cell_type": "markdown",
   "metadata": {
    "application/vnd.databricks.v1+cell": {
     "cellMetadata": {},
     "inputWidgets": {},
     "nuid": "44cd2565-3e27-417c-8c6c-7b2d8f1b94c5",
     "showTitle": false,
     "tableResultSettingsMap": {},
     "title": ""
    }
   },
   "source": [
    "## Importing Libraries"
   ]
  },
  {
   "cell_type": "code",
   "execution_count": 0,
   "metadata": {
    "application/vnd.databricks.v1+cell": {
     "cellMetadata": {},
     "inputWidgets": {},
     "nuid": "e6da106f-4e0b-41e0-9f75-6e329535d5c0",
     "showTitle": false,
     "tableResultSettingsMap": {},
     "title": ""
    }
   },
   "outputs": [],
   "source": [
    "from pyspark.sql.functions import *\n",
    "from pyspark.sql.types import *\n",
    "from pyspark.sql.window import Window"
   ]
  },
  {
   "cell_type": "markdown",
   "metadata": {
    "application/vnd.databricks.v1+cell": {
     "cellMetadata": {},
     "inputWidgets": {},
     "nuid": "f0267197-68d5-4180-8492-6999c905acb1",
     "showTitle": false,
     "tableResultSettingsMap": {},
     "title": ""
    }
   },
   "source": [
    "**1532. The Most Recent Three Orders (Medium)**\n",
    "\n",
    "**Table: Customers**\n",
    "\n",
    "| Column Name   | Type    |\n",
    "|---------------|---------|\n",
    "| customer_id   | int     |\n",
    "| name          | varchar |\n",
    "\n",
    "customer_id is the column with unique values for this table.\n",
    "This table contains information about customers.\n",
    " \n",
    "**Table: Orders**\n",
    "\n",
    "| Column Name   | Type    |\n",
    "|---------------|---------|\n",
    "| order_id      | int     |\n",
    "| order_date    | date    |\n",
    "| customer_id   | int     |\n",
    "| cost          | int     |\n",
    "\n",
    "order_id is the column with unique values for this table.\n",
    "This table contains information about the orders made by customer_id.\n",
    "Each customer has one order per day.\n",
    " \n",
    "**Write a solution to find the most recent three orders of each user. If a user ordered less than three orders, return all of their orders.**\n",
    "\n",
    "Return the result table ordered by customer_name in ascending order and in case of a tie by the customer_id in ascending order. If there is still a tie, order them by order_date in descending order.\n",
    "\n",
    "The result format is in the following example.\n",
    "\n",
    "**Example 1:**\n",
    "\n",
    "**Input:** \n",
    "\n",
    "**Customers table:**\n",
    "\n",
    "| customer_id | name      |\n",
    "|-------------|-----------|\n",
    "| 1           | Winston   |\n",
    "| 2           | Jonathan  |\n",
    "| 3           | Annabelle |\n",
    "| 4           | Marwan    |\n",
    "| 5           | Khaled    |\n",
    "\n",
    "**Orders table:**\n",
    "| order_id | order_date | customer_id | cost |\n",
    "|----------|------------|-------------|------|\n",
    "| 1        | 2020-07-31 | 1           | 30   |\n",
    "| 2        | 2020-07-30 | 2           | 40   |\n",
    "| 3        | 2020-07-31 | 3           | 70   |\n",
    "| 4        | 2020-07-29 | 4           | 100  |\n",
    "| 5        | 2020-06-10 | 1           | 1010 |\n",
    "| 6        | 2020-08-01 | 2           | 102  |\n",
    "| 7        | 2020-08-01 | 3           | 111  |\n",
    "| 8        | 2020-08-03 | 1           | 99   |\n",
    "| 9        | 2020-08-07 | 2           | 32   |\n",
    "| 10       | 2020-07-15 | 1           | 2    |\n",
    "\n",
    "**Output:** \n",
    "| customer_name | customer_id | order_id | order_date |\n",
    "|---------------|-------------|----------|------------|\n",
    "| Annabelle     | 3           | 7        | 2020-08-01 |\n",
    "| Annabelle     | 3           | 3        | 2020-07-31 |\n",
    "| Jonathan      | 2           | 9        | 2020-08-07 |\n",
    "| Jonathan      | 2           | 6        | 2020-08-01 |\n",
    "| Jonathan      | 2           | 2        | 2020-07-30 |\n",
    "| Marwan        | 4           | 4        | 2020-07-29 |\n",
    "| Winston       | 1           | 8        | 2020-08-03 |\n",
    "| Winston       | 1           | 1        | 2020-07-31 |\n",
    "| Winston       | 1           | 10       | 2020-07-15 |\n",
    "\n",
    "**Explanation:** \n",
    "- Winston has 4 orders, we discard the order of \"2020-06-10\" because it is the oldest order.\n",
    "- Annabelle has only 2 orders, we return them.\n",
    "- Jonathan has exactly 3 orders.\n",
    "- Marwan ordered only one time.\n",
    "\n",
    "We sort the result table by customer_name in ascending order, by customer_id in ascending order, and by order_date in descending order in case of a tie."
   ]
  },
  {
   "cell_type": "code",
   "execution_count": 0,
   "metadata": {
    "application/vnd.databricks.v1+cell": {
     "cellMetadata": {},
     "inputWidgets": {},
     "nuid": "e98c62a4-8cd4-48d6-9337-86cf54c19ddd",
     "showTitle": false,
     "tableResultSettingsMap": {},
     "title": ""
    }
   },
   "outputs": [],
   "source": [
    "customers_data_1532 = [\n",
    "    (1, \"Winston\"),\n",
    "    (2, \"Jonathan\"),\n",
    "    (3, \"Annabelle\"),\n",
    "    (4, \"Marwan\"),\n",
    "    (5, \"Khaled\"),\n",
    "]\n",
    "\n",
    "customers_columns_1532 = [\"customer_id\", \"name\"]\n",
    "customers_df_1532 = spark.createDataFrame(customers_data_1532, customers_columns_1532)\n",
    "customers_df_1532.show()\n",
    "\n",
    "orders_data_1532 = [\n",
    "    (1, \"2020-07-31\", 1, 30),\n",
    "    (2, \"2020-07-30\", 2, 40),\n",
    "    (3, \"2020-07-31\", 3, 70),\n",
    "    (4, \"2020-07-29\", 4, 100),\n",
    "    (5, \"2020-06-10\", 1, 1010),\n",
    "    (6, \"2020-08-01\", 2, 102),\n",
    "    (7, \"2020-08-01\", 3, 111),\n",
    "    (8, \"2020-08-03\", 1, 99),\n",
    "    (9, \"2020-08-07\", 2, 32),\n",
    "    (10, \"2020-07-15\", 1, 2),\n",
    "]\n",
    "orders_columns_1532 = [\"order_id\", \"order_date\", \"customer_id\", \"cost\"]\n",
    "orders_df_1532 = spark.createDataFrame(orders_data_1532, orders_columns_1532)\n",
    "orders_df_1532.show()"
   ]
  }
 ],
 "metadata": {
  "application/vnd.databricks.v1+notebook": {
   "computePreferences": null,
   "dashboards": [],
   "environmentMetadata": {
    "base_environment": "",
    "environment_version": "1"
   },
   "inputWidgetPreferences": null,
   "language": "python",
   "notebookMetadata": {
    "pythonIndentUnit": 4
   },
   "notebookName": "1532. The Most Recent Three Orders (Medium)",
   "widgets": {}
  }
 },
 "nbformat": 4,
 "nbformat_minor": 0
}