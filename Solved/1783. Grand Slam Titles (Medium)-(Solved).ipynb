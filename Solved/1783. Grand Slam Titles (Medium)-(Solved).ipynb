{
 "cells": [
  {
   "cell_type": "markdown",
   "metadata": {
    "application/vnd.databricks.v1+cell": {
     "cellMetadata": {
      "byteLimit": 2048000,
      "rowLimit": 10000
     },
     "inputWidgets": {},
     "nuid": "fadf709d-de3d-4bfc-b69f-3b489de68bef",
     "showTitle": false,
     "tableResultSettingsMap": {},
     "title": ""
    }
   },
   "source": [
    "## Importing Libraries"
   ]
  },
  {
   "cell_type": "code",
   "execution_count": 0,
   "metadata": {
    "application/vnd.databricks.v1+cell": {
     "cellMetadata": {
      "byteLimit": 2048000,
      "rowLimit": 10000
     },
     "inputWidgets": {},
     "nuid": "d4a1fef1-aa99-469c-b35f-9b3f3e81c9f7",
     "showTitle": false,
     "tableResultSettingsMap": {},
     "title": ""
    }
   },
   "outputs": [],
   "source": [
    "from pyspark.sql.functions import *\n",
    "from pyspark.sql.types import *\n",
    "from pyspark.sql.window import Window"
   ]
  },
  {
   "cell_type": "markdown",
   "metadata": {
    "application/vnd.databricks.v1+cell": {
     "cellMetadata": {
      "byteLimit": 2048000,
      "rowLimit": 10000
     },
     "inputWidgets": {},
     "nuid": "78daa073-80d8-4f7e-9cfa-10f6eb568909",
     "showTitle": false,
     "tableResultSettingsMap": {},
     "title": ""
    }
   },
   "source": [
    "**1783. Grand Slam Titles (Medium)**\n",
    "\n",
    "**Table: Players**\n",
    "\n",
    "| Column Name    | Type    |\n",
    "|----------------|---------|\n",
    "| player_id      | int     |\n",
    "| player_name    | varchar |\n",
    "\n",
    "player_id is the primary key (column with unique values) for this table.\n",
    "Each row in this table contains the name and the ID of a tennis player.\n",
    " \n",
    "**Table: Championships**\n",
    "\n",
    "| Column Name   | Type    |\n",
    "|---------------|---------|\n",
    "| year          | int     |\n",
    "| Wimbledon     | int     |\n",
    "| Fr_open       | int     |\n",
    "| US_open       | int     |\n",
    "| Au_open       | int     |\n",
    "\n",
    "year is the primary key (column with unique values) for this table.\n",
    "Each row of this table contains the IDs of the players who won one each tennis tournament of the grand slam.\n",
    " \n",
    "**Write a solution to report the number of grand slam tournaments won by each player. Do not include the players who did not win any tournament.**\n",
    "\n",
    "Return the result table in any order.\n",
    "\n",
    "The result format is in the following example.\n",
    "\n",
    "**Example 1:**\n",
    "\n",
    "**Input:** \n",
    "\n",
    "**Players table:**\n",
    "\n",
    "| player_id | player_name |\n",
    "|-----------|-------------|\n",
    "| 1         | Nadal       |\n",
    "| 2         | Federer     |\n",
    "| 3         | Novak       |\n",
    "\n",
    "**Championships table:**\n",
    "| year | Wimbledon | Fr_open | US_open | Au_open |\n",
    "|------|-----------|---------|---------|---------|\n",
    "| 2018 | 1         | 1       | 1       | 1       |\n",
    "| 2019 | 1         | 1       | 2       | 2       |\n",
    "| 2020 | 2         | 1       | 2       | 2       |\n",
    "\n",
    "**Output:** \n",
    "| player_id | player_name | grand_slams_count |\n",
    "|-----------|-------------|-------------------|\n",
    "| 2         | Federer     | 5                 |\n",
    "| 1         | Nadal       | 7                 |\n",
    "\n",
    "**Explanation:** \n",
    "- Player 1 (Nadal) won 7 titles: Wimbledon (2018, 2019), Fr_open (2018, 2019, 2020), US_open (2018), and Au_open (2018).\n",
    "- Player 2 (Federer) won 5 titles: Wimbledon (2020), US_open (2019, 2020), and Au_open (2019, 2020).\n",
    "- Player 3 (Novak) did not win anything, we did not include them in the result table."
   ]
  },
  {
   "cell_type": "code",
   "execution_count": 0,
   "metadata": {
    "application/vnd.databricks.v1+cell": {
     "cellMetadata": {
      "byteLimit": 2048000,
      "rowLimit": 10000
     },
     "inputWidgets": {},
     "nuid": "7b78bc27-26cd-4523-8646-7369baf68fcb",
     "showTitle": false,
     "tableResultSettingsMap": {},
     "title": ""
    }
   },
   "outputs": [
    {
     "output_type": "stream",
     "name": "stdout",
     "output_type": "stream",
     "text": [
      "+---------+-----------+\n|player_id|player_name|\n+---------+-----------+\n|        1|      Nadal|\n|        2|    Federer|\n|        3|      Novak|\n+---------+-----------+\n\n+----+---------+-------+-------+-------+\n|year|Wimbledon|Fr_open|US_open|Au_open|\n+----+---------+-------+-------+-------+\n|2018|        1|      1|      1|      1|\n|2019|        1|      1|      2|      2|\n|2020|        2|      1|      2|      2|\n+----+---------+-------+-------+-------+\n\n"
     ]
    }
   ],
   "source": [
    "players_data_1783 = [\n",
    "    (1, \"Nadal\"),\n",
    "    (2, \"Federer\"),\n",
    "    (3, \"Novak\"),\n",
    "]\n",
    "players_columns_1783 = [\"player_id\", \"player_name\"]\n",
    "players_df_1783 = spark.createDataFrame(players_data_1783, players_columns_1783)\n",
    "players_df_1783.show()\n",
    "\n",
    "championships_data_1783 = [\n",
    "    (2018, 1, 1, 1, 1),\n",
    "    (2019, 1, 1, 2, 2),\n",
    "    (2020, 2, 1, 2, 2),\n",
    "]\n",
    "\n",
    "championships_columns_1783 = [\"year\", \"Wimbledon\", \"Fr_open\", \"US_open\", \"Au_open\"]\n",
    "championships_df_1783 = spark.createDataFrame(championships_data_1783, championships_columns_1783)\n",
    "championships_df_1783.show()"
   ]
  },
  {
   "cell_type": "code",
   "execution_count": 0,
   "metadata": {
    "application/vnd.databricks.v1+cell": {
     "cellMetadata": {
      "byteLimit": 2048000,
      "rowLimit": 10000
     },
     "inputWidgets": {},
     "nuid": "5611be8a-06c7-4531-ab33-cd878081856f",
     "showTitle": false,
     "tableResultSettingsMap": {},
     "title": ""
    }
   },
   "outputs": [],
   "source": [
    "champ_unpivoted_df_1783 = championships_df_1783\\\n",
    "                                .select( col(\"year\"),\n",
    "                                        explode(\n",
    "                                            array(\n",
    "                                            col(\"Wimbledon\").alias(\"winner\"),\n",
    "                                            col(\"Fr_open\").alias(\"winner\"),\n",
    "                                            col(\"US_open\").alias(\"winner\"),\n",
    "                                            col(\"Au_open\").alias(\"winner\")\n",
    "                                            )\n",
    "                                        ).alias(\"player_id\"))"
   ]
  },
  {
   "cell_type": "code",
   "execution_count": 0,
   "metadata": {
    "application/vnd.databricks.v1+cell": {
     "cellMetadata": {
      "byteLimit": 2048000,
      "rowLimit": 10000
     },
     "inputWidgets": {},
     "nuid": "87400052-0296-4464-ac68-f1caa2bdb182",
     "showTitle": false,
     "tableResultSettingsMap": {},
     "title": ""
    }
   },
   "outputs": [],
   "source": [
    "wins_df_1783 = champ_unpivoted_df_1783\\\n",
    "                        .groupBy(\"player_id\").count()\\\n",
    "                            .withColumnRenamed(\"count\", \"grand_slams_count\")\n"
   ]
  },
  {
   "cell_type": "code",
   "execution_count": 0,
   "metadata": {
    "application/vnd.databricks.v1+cell": {
     "cellMetadata": {
      "byteLimit": 2048000,
      "rowLimit": 10000
     },
     "inputWidgets": {},
     "nuid": "1437af27-4e1f-4a62-9bb2-583514223fac",
     "showTitle": false,
     "tableResultSettingsMap": {},
     "title": ""
    }
   },
   "outputs": [
    {
     "output_type": "stream",
     "name": "stdout",
     "output_type": "stream",
     "text": [
      "+---------+-----------+-----------------+\n|player_id|player_name|grand_slams_count|\n+---------+-----------+-----------------+\n|        1|      Nadal|                7|\n|        2|    Federer|                5|\n+---------+-----------+-----------------+\n\n"
     ]
    }
   ],
   "source": [
    "wins_df_1783\\\n",
    "    .join(players_df_1783, on=\"player_id\")\\\n",
    "        .select(\"player_id\", \"player_name\", \"grand_slams_count\").show()\n"
   ]
  }
 ],
 "metadata": {
  "application/vnd.databricks.v1+notebook": {
   "computePreferences": {
    "hardware": {
     "accelerator": null,
     "gpuPoolId": null,
     "memory": null
    }
   },
   "dashboards": [],
   "environmentMetadata": {
    "base_environment": "",
    "environment_version": "2"
   },
   "inputWidgetPreferences": null,
   "language": "python",
   "notebookMetadata": {
    "pythonIndentUnit": 4
   },
   "notebookName": "1783. Grand Slam Titles (Medium)-(Solved)",
   "widgets": {}
  },
  "language_info": {
   "name": "python"
  }
 },
 "nbformat": 4,
 "nbformat_minor": 0
}
