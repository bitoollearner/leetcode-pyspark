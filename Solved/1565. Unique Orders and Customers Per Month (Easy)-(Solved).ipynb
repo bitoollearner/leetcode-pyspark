{
 "cells": [
  {
   "cell_type": "markdown",
   "metadata": {
    "application/vnd.databricks.v1+cell": {
     "cellMetadata": {},
     "inputWidgets": {},
     "nuid": "44cd2565-3e27-417c-8c6c-7b2d8f1b94c5",
     "showTitle": false,
     "tableResultSettingsMap": {},
     "title": ""
    }
   },
   "source": [
    "## Importing Libraries"
   ]
  },
  {
   "cell_type": "code",
   "execution_count": 0,
   "metadata": {
    "application/vnd.databricks.v1+cell": {
     "cellMetadata": {},
     "inputWidgets": {},
     "nuid": "e6da106f-4e0b-41e0-9f75-6e329535d5c0",
     "showTitle": false,
     "tableResultSettingsMap": {},
     "title": ""
    }
   },
   "outputs": [],
   "source": [
    "from pyspark.sql.functions import *\n",
    "from pyspark.sql.types import *\n",
    "from pyspark.sql.window import Window"
   ]
  },
  {
   "cell_type": "markdown",
   "metadata": {
    "application/vnd.databricks.v1+cell": {
     "cellMetadata": {},
     "inputWidgets": {},
     "nuid": "f0267197-68d5-4180-8492-6999c905acb1",
     "showTitle": false,
     "tableResultSettingsMap": {},
     "title": ""
    }
   },
   "source": [
    "**1565. Unique Orders and Customers Per Month (Easy)**\n",
    "\n",
    "**Table: Orders**\n",
    "\n",
    "| Column Name   | Type    |\n",
    "|---------------|---------|\n",
    "| order_id      | int     |\n",
    "| order_date    | date    |\n",
    "| customer_id   | int     |\n",
    "| invoice       | int     |\n",
    "\n",
    "order_id is the column with unique values for this table.\n",
    "This table contains information about the orders made by customer_id.\n",
    " \n",
    "**Write a solution to find the number of unique orders and the number of unique customers with invoices > $20 for each different month.**\n",
    "\n",
    "Return the result table sorted in any order.\n",
    "\n",
    "The result format is in the following example.\n",
    "\n",
    "**Example 1:**\n",
    "\n",
    "**Input:** \n",
    "\n",
    "**Orders table:**\n",
    "\n",
    "| order_id | order_date | customer_id | invoice    |\n",
    "|----------|------------|-------------|------------|\n",
    "| 1        | 2020-09-15 | 1           | 30         |\n",
    "| 2        | 2020-09-17 | 2           | 90         |\n",
    "| 3        | 2020-10-06 | 3           | 20         |\n",
    "| 4        | 2020-10-20 | 3           | 21         |\n",
    "| 5        | 2020-11-10 | 1           | 10         |\n",
    "| 6        | 2020-11-21 | 2           | 15         |\n",
    "| 7        | 2020-12-01 | 4           | 55         |\n",
    "| 8        | 2020-12-03 | 4           | 77         |\n",
    "| 9        | 2021-01-07 | 3           | 31         |\n",
    "| 10       | 2021-01-15 | 2           | 20         |\n",
    "\n",
    "**Output:** \n",
    "| month   | order_count | customer_count |\n",
    "|---------|-------------|----------------|\n",
    "| 2020-09 | 2           | 2              |\n",
    "| 2020-10 | 1           | 1              |\n",
    "| 2020-12 | 2           | 1              |\n",
    "| 2021-01 | 1           | 1              |\n",
    "\n",
    "**Explanation:** \n",
    "- In September 2020 we have two orders from 2 different customers with invoices > $20.\n",
    "- In October 2020 we have two orders from 1 customer, and only one of the two orders has invoice > $20.\n",
    "- In November 2020 we have two orders from 2 different customers but invoices < $20, so we don't include that month.\n",
    "- In December 2020 we have two orders from 1 customer both with invoices > $20.\n",
    "- In January 2021 we have two orders from 2 different customers, but only one of them with invoice > $20."
   ]
  },
  {
   "cell_type": "code",
   "execution_count": 0,
   "metadata": {
    "application/vnd.databricks.v1+cell": {
     "cellMetadata": {},
     "inputWidgets": {},
     "nuid": "e98c62a4-8cd4-48d6-9337-86cf54c19ddd",
     "showTitle": false,
     "tableResultSettingsMap": {},
     "title": ""
    }
   },
   "outputs": [],
   "source": [
    "orders_data_1565 = [\n",
    "    (1, \"2020-09-15\", 1, 30),\n",
    "    (2, \"2020-09-17\", 2, 90),\n",
    "    (3, \"2020-10-06\", 3, 20),\n",
    "    (4, \"2020-10-20\", 3, 21),\n",
    "    (5, \"2020-11-10\", 1, 10),\n",
    "    (6, \"2020-11-21\", 2, 15),\n",
    "    (7, \"2020-12-01\", 4, 55),\n",
    "    (8, \"2020-12-03\", 4, 77),\n",
    "    (9, \"2021-01-07\", 3, 31),\n",
    "    (10, \"2021-01-15\", 2, 20),\n",
    "]\n",
    "\n",
    "orders_columns_1565 = [\"order_id\", \"order_date\", \"customer_id\", \"invoice\"]\n",
    "orders_df_1565 = spark.createDataFrame(orders_data_1565, orders_columns_1565)\n",
    "orders_df_1565.show()"
   ]
  }
 ],
 "metadata": {
  "application/vnd.databricks.v1+notebook": {
   "computePreferences": null,
   "dashboards": [],
   "environmentMetadata": {
    "base_environment": "",
    "environment_version": "1"
   },
   "inputWidgetPreferences": null,
   "language": "python",
   "notebookMetadata": {
    "pythonIndentUnit": 4
   },
   "notebookName": "1565. Unique Orders and Customers Per Month (Easy)",
   "widgets": {}
  }
 },
 "nbformat": 4,
 "nbformat_minor": 0
}