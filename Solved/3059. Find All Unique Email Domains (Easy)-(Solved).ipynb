{
 "cells": [
  {
   "cell_type": "markdown",
   "metadata": {
    "application/vnd.databricks.v1+cell": {
     "cellMetadata": {
      "byteLimit": 2048000,
      "rowLimit": 10000
     },
     "inputWidgets": {},
     "nuid": "7d1791bd-9552-4116-90b2-daa678bbffb8",
     "showTitle": false,
     "tableResultSettingsMap": {},
     "title": ""
    }
   },
   "source": [
    "## Importing Libraries"
   ]
  },
  {
   "cell_type": "code",
   "execution_count": 0,
   "metadata": {
    "application/vnd.databricks.v1+cell": {
     "cellMetadata": {
      "byteLimit": 2048000,
      "rowLimit": 10000
     },
     "inputWidgets": {},
     "nuid": "2901fbc9-49db-4285-8b94-c460f34d4c4f",
     "showTitle": false,
     "tableResultSettingsMap": {},
     "title": ""
    }
   },
   "outputs": [],
   "source": [
    "from pyspark.sql.functions import *\n",
    "from pyspark.sql.types import *\n",
    "from pyspark.sql.window import Window"
   ]
  },
  {
   "cell_type": "markdown",
   "metadata": {
    "application/vnd.databricks.v1+cell": {
     "cellMetadata": {
      "byteLimit": 2048000,
      "rowLimit": 10000
     },
     "inputWidgets": {},
     "nuid": "655120e7-6b25-417c-a08a-c6925feaa425",
     "showTitle": false,
     "tableResultSettingsMap": {},
     "title": ""
    }
   },
   "source": [
    "**3059. Find All Unique Email Domains (Easy)**\n",
    "\n",
    "**Table: Emails**\n",
    "\n",
    "| Column Name | Type    |\n",
    "|-------------|---------|\n",
    "| id          | int     |\n",
    "| email       | varchar |\n",
    "\n",
    "id is the primary key (column with unique values) for this table.\n",
    "Each row of this table contains an email. The emails will not contain uppercase letters.\n",
    "\n",
    "**Write a solution to find all unique email domains and count the number of individuals associated with each domain. Consider only those domains that end with .com.**\n",
    "\n",
    "Return the result table orderd by email domains in ascending order.\n",
    "\n",
    "The result format is in the following example.\n",
    "\n",
    "**Example 1:**\n",
    "\n",
    "**Input:**\n",
    "**Emails table:**\n",
    "| id  | email                 |\n",
    "|-----|-----------------------|\n",
    "| 336 | hwkiy@test.edu        |\n",
    "| 489 | adcmaf@outlook.com    |\n",
    "| 449 | vrzmwyum@yahoo.com    |\n",
    "| 95  | tof@test.edu          |\n",
    "| 320 | jxhbagkpm@example.org |\n",
    "| 411 | zxcf@outlook.com      |\n",
    "\n",
    "**Output:** \n",
    "| email_domain | count |\n",
    "|--------------|-------|\n",
    "| outlook.com  | 2     |\n",
    "| yahoo.com    | 1     |  \n",
    "\n",
    "**Explanation:** \n",
    "- The valid domains ending with \".com\" are only \"outlook.com\" and \"yahoo.com\", with respective counts of 2 and 1.\n",
    "\n",
    "Output table is ordered by email_domains in ascending order."
   ]
  },
  {
   "cell_type": "code",
   "execution_count": 0,
   "metadata": {
    "application/vnd.databricks.v1+cell": {
     "cellMetadata": {
      "byteLimit": 2048000,
      "rowLimit": 10000
     },
     "inputWidgets": {},
     "nuid": "a2368434-0191-416c-aa1d-12cd44cf48e6",
     "showTitle": false,
     "tableResultSettingsMap": {},
     "title": ""
    }
   },
   "outputs": [
    {
     "output_type": "stream",
     "name": "stdout",
     "output_type": "stream",
     "text": [
      "+---+--------------------+\n| id|               email|\n+---+--------------------+\n|336|      hwkiy@test.edu|\n|489|  adcmaf@outlook.com|\n|449|  vrzmwyum@yahoo.com|\n| 95|        tof@test.edu|\n|320|jxhbagkpm@example...|\n|411|    zxcf@outlook.com|\n+---+--------------------+\n\n"
     ]
    }
   ],
   "source": [
    "emails_data_3059 = [\n",
    "    (336, \"hwkiy@test.edu\"),\n",
    "    (489, \"adcmaf@outlook.com\"),\n",
    "    (449, \"vrzmwyum@yahoo.com\"),\n",
    "    (95, \"tof@test.edu\"),\n",
    "    (320, \"jxhbagkpm@example.org\"),\n",
    "    (411, \"zxcf@outlook.com\"),\n",
    "]\n",
    "\n",
    "emails_columns_3059 = [\"id\", \"email\"]\n",
    "emails_df_3059 = spark.createDataFrame(emails_data_3059, emails_columns_3059)\n",
    "emails_df_3059.show()"
   ]
  },
  {
   "cell_type": "code",
   "execution_count": 0,
   "metadata": {
    "application/vnd.databricks.v1+cell": {
     "cellMetadata": {
      "byteLimit": 2048000,
      "rowLimit": 10000
     },
     "inputWidgets": {},
     "nuid": "8f0d2877-8045-4d06-9f1a-bcff13168c71",
     "showTitle": false,
     "tableResultSettingsMap": {},
     "title": ""
    }
   },
   "outputs": [],
   "source": [
    "emails_with_domain_3059 = emails_df_3059\\\n",
    "                            .withColumn(\"email_domain\", substring_index(col(\"email\"), \"@\", -1))"
   ]
  },
  {
   "cell_type": "code",
   "execution_count": 0,
   "metadata": {
    "application/vnd.databricks.v1+cell": {
     "cellMetadata": {
      "byteLimit": 2048000,
      "rowLimit": 10000
     },
     "inputWidgets": {},
     "nuid": "dad40737-659c-49d0-b6a1-2b426dbf55b9",
     "showTitle": false,
     "tableResultSettingsMap": {},
     "title": ""
    }
   },
   "outputs": [],
   "source": [
    "com_domains_df_3059 = emails_with_domain_3059.filter(col(\"email_domain\").endswith(\".com\"))"
   ]
  },
  {
   "cell_type": "code",
   "execution_count": 0,
   "metadata": {
    "application/vnd.databricks.v1+cell": {
     "cellMetadata": {
      "byteLimit": 2048000,
      "rowLimit": 10000
     },
     "inputWidgets": {},
     "nuid": "9973a0f2-91dd-4622-aedf-43ca52d3eef2",
     "showTitle": false,
     "tableResultSettingsMap": {},
     "title": ""
    }
   },
   "outputs": [
    {
     "output_type": "display_data",
     "data": {
      "text/html": [
       "<style scoped>\n",
       "  .table-result-container {\n",
       "    max-height: 300px;\n",
       "    overflow: auto;\n",
       "  }\n",
       "  table, th, td {\n",
       "    border: 1px solid black;\n",
       "    border-collapse: collapse;\n",
       "  }\n",
       "  th, td {\n",
       "    padding: 5px;\n",
       "  }\n",
       "  th {\n",
       "    text-align: left;\n",
       "  }\n",
       "</style><div class='table-result-container'><table class='table-result'><thead style='background-color: white'><tr><th>email_domain</th><th>count</th></tr></thead><tbody><tr><td>outlook.com</td><td>2</td></tr><tr><td>yahoo.com</td><td>1</td></tr></tbody></table></div>"
      ]
     },
     "metadata": {
      "application/vnd.databricks.v1+output": {
       "addedWidgets": {},
       "aggData": [],
       "aggError": "",
       "aggOverflow": false,
       "aggSchema": [],
       "aggSeriesLimitReached": false,
       "aggType": "",
       "arguments": {},
       "columnCustomDisplayInfos": {},
       "data": [
        [
         "outlook.com",
         2
        ],
        [
         "yahoo.com",
         1
        ]
       ],
       "datasetInfos": [],
       "dbfsResultPath": null,
       "isJsonSchema": true,
       "metadata": {},
       "overflow": false,
       "plotOptions": {
        "customPlotOptions": {},
        "displayType": "table",
        "pivotAggregation": null,
        "pivotColumns": null,
        "xColumns": null,
        "yColumns": null
       },
       "removedWidgets": [],
       "schema": [
        {
         "metadata": "{}",
         "name": "email_domain",
         "type": "\"string\""
        },
        {
         "metadata": "{}",
         "name": "count",
         "type": "\"long\""
        }
       ],
       "type": "table"
      }
     },
     "output_type": "display_data"
    }
   ],
   "source": [
    "com_domains_df_3059\\\n",
    "    .groupBy(\"email_domain\") \\\n",
    "        .agg(count(\"id\").alias(\"count\")) \\\n",
    "            .orderBy(\"email_domain\").display()"
   ]
  }
 ],
 "metadata": {
  "application/vnd.databricks.v1+notebook": {
   "computePreferences": {
    "hardware": {
     "accelerator": null,
     "gpuPoolId": null,
     "memory": null
    }
   },
   "dashboards": [],
   "environmentMetadata": {
    "base_environment": "",
    "environment_version": "2"
   },
   "inputWidgetPreferences": null,
   "language": "python",
   "notebookMetadata": {
    "pythonIndentUnit": 4
   },
   "notebookName": "3059. Find All Unique Email Domains (Easy)-(Solved)",
   "widgets": {}
  },
  "language_info": {
   "name": "python"
  }
 },
 "nbformat": 4,
 "nbformat_minor": 0
}
