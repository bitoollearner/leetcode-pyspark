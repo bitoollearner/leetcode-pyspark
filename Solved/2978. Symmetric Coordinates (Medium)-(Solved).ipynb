{
 "cells": [
  {
   "cell_type": "markdown",
   "metadata": {
    "application/vnd.databricks.v1+cell": {
     "cellMetadata": {
      "byteLimit": 2048000,
      "rowLimit": 10000
     },
     "inputWidgets": {},
     "nuid": "4e9d71b1-88e9-445c-820a-b842e217a4e7",
     "showTitle": false,
     "tableResultSettingsMap": {},
     "title": ""
    }
   },
   "source": [
    "## Importing Libraries"
   ]
  },
  {
   "cell_type": "code",
   "execution_count": 0,
   "metadata": {
    "application/vnd.databricks.v1+cell": {
     "cellMetadata": {
      "byteLimit": 2048000,
      "rowLimit": 10000
     },
     "inputWidgets": {},
     "nuid": "e6624c4d-8cb8-4ac4-8c72-81d1b4ecdb57",
     "showTitle": false,
     "tableResultSettingsMap": {},
     "title": ""
    }
   },
   "outputs": [],
   "source": [
    "from pyspark.sql.functions import *\n",
    "from pyspark.sql.types import *\n",
    "from pyspark.sql.window import Window"
   ]
  },
  {
   "cell_type": "markdown",
   "metadata": {
    "application/vnd.databricks.v1+cell": {
     "cellMetadata": {
      "byteLimit": 2048000,
      "rowLimit": 10000
     },
     "inputWidgets": {},
     "nuid": "c3788fe5-f4c9-420f-ad72-ec1a39310a2a",
     "showTitle": false,
     "tableResultSettingsMap": {},
     "title": ""
    }
   },
   "source": [
    "**2978. Symmetric Coordinates (Medium)**\n",
    "\n",
    "**Table: Coordinates**\n",
    "\n",
    "| Column Name | Type |\n",
    "|-------------|------|\n",
    "| X           | int  |\n",
    "| Y           | int  |\n",
    "\n",
    "Each row includes X and Y, where both are integers. Table may contain duplicate values.\n",
    "Two coordindates (X1, Y1) and (X2, Y2) are said to be symmetric coordintes if X1 == Y2 and X2 == Y1.\n",
    "\n",
    "**Write a solution that outputs, among all these symmetric coordintes, only those unique coordinates that satisfy the condition X1 <= Y1.**\n",
    "\n",
    "Return the result table ordered by X and Y (respectively) in ascending order.\n",
    "\n",
    "The result format is in the following example.\n",
    "\n",
    "**Example 1:**\n",
    "\n",
    "**Input:** \n",
    "**Coordinates table:**\n",
    "\n",
    "| X  | Y  |\n",
    "|----|----|\n",
    "| 20 | 20 |\n",
    "| 20 | 20 |\n",
    "| 20 | 21 |\n",
    "| 23 | 22 |\n",
    "| 22 | 23 |\n",
    "| 21 | 20 |\n",
    "\n",
    "**Output:** \n",
    "| x  | y  |\n",
    "|----|----|\n",
    "| 20 | 20 |\n",
    "| 20 | 21 |\n",
    "| 22 | 23 |\n",
    "\n",
    "**Explanation:**\n",
    "\n",
    "- (20, 20) and (20, 20) are symmetric coordinates because, X1 == Y2 and X2 == Y1. This results in displaying (20, 20) as a distinctive coordinates.\n",
    "- (20, 21) and (21, 20) are symmetric coordinates because, X1 == Y2 and X2 == Y1. However, only (20, 21) will be displayed because X1 <= Y1.\n",
    "- (23, 22) and (22, 23) are symmetric coordinates because, X1 == Y2 and X2 == Y1. However, only (22, 23) will be displayed because X1 <= Y1.\n",
    "\n",
    "The output table is sorted by X and Y in ascending order."
   ]
  },
  {
   "cell_type": "code",
   "execution_count": 0,
   "metadata": {
    "application/vnd.databricks.v1+cell": {
     "cellMetadata": {
      "byteLimit": 2048000,
      "rowLimit": 10000
     },
     "inputWidgets": {},
     "nuid": "137536ea-9bec-4171-8dc2-4bf8b0d771b4",
     "showTitle": false,
     "tableResultSettingsMap": {},
     "title": ""
    }
   },
   "outputs": [
    {
     "output_type": "stream",
     "name": "stdout",
     "output_type": "stream",
     "text": [
      "+---+---+\n|  X|  Y|\n+---+---+\n| 20| 20|\n| 20| 20|\n| 20| 21|\n| 23| 22|\n| 22| 23|\n| 21| 20|\n+---+---+\n\n"
     ]
    }
   ],
   "source": [
    "coordinates_data_2978 = [(20, 20), (20, 20), (20, 21), (23, 22), (22, 23), (21, 20)]\n",
    "\n",
    "coordinates_columns_2978 = [\"X\", \"Y\"]\n",
    "coordinates_df_2978 = spark.createDataFrame(coordinates_data_2978, coordinates_columns_2978)\n",
    "coordinates_df_2978.show()\n"
   ]
  },
  {
   "cell_type": "code",
   "execution_count": 0,
   "metadata": {
    "application/vnd.databricks.v1+cell": {
     "cellMetadata": {
      "byteLimit": 2048000,
      "rowLimit": 10000
     },
     "inputWidgets": {},
     "nuid": "7302ecd5-0e30-4b19-b487-4737ababa939",
     "showTitle": false,
     "tableResultSettingsMap": {},
     "title": ""
    }
   },
   "outputs": [],
   "source": [
    "coordinates_df_2978 = coordinates_df_2978.dropDuplicates()"
   ]
  },
  {
   "cell_type": "code",
   "execution_count": 0,
   "metadata": {
    "application/vnd.databricks.v1+cell": {
     "cellMetadata": {
      "byteLimit": 2048000,
      "rowLimit": 10000
     },
     "inputWidgets": {},
     "nuid": "c0d76f40-83f4-4904-a686-bf01311f9493",
     "showTitle": false,
     "tableResultSettingsMap": {},
     "title": ""
    }
   },
   "outputs": [],
   "source": [
    "df_sym_2978 = coordinates_df_2978\\\n",
    "                    .alias(\"a\").join( coordinates_df_2978.alias(\"b\"), (col(\"a.X\") == col(\"b.Y\")) & (col(\"a.Y\") == col(\"b.X\")))"
   ]
  },
  {
   "cell_type": "code",
   "execution_count": 0,
   "metadata": {
    "application/vnd.databricks.v1+cell": {
     "cellMetadata": {
      "byteLimit": 2048000,
      "rowLimit": 10000
     },
     "inputWidgets": {},
     "nuid": "59b2feb8-9291-4fdf-8858-87163a41dede",
     "showTitle": false,
     "tableResultSettingsMap": {},
     "title": ""
    }
   },
   "outputs": [
    {
     "output_type": "display_data",
     "data": {
      "text/html": [
       "<style scoped>\n",
       "  .table-result-container {\n",
       "    max-height: 300px;\n",
       "    overflow: auto;\n",
       "  }\n",
       "  table, th, td {\n",
       "    border: 1px solid black;\n",
       "    border-collapse: collapse;\n",
       "  }\n",
       "  th, td {\n",
       "    padding: 5px;\n",
       "  }\n",
       "  th {\n",
       "    text-align: left;\n",
       "  }\n",
       "</style><div class='table-result-container'><table class='table-result'><thead style='background-color: white'><tr><th>x</th><th>y</th></tr></thead><tbody><tr><td>20</td><td>20</td></tr><tr><td>20</td><td>21</td></tr><tr><td>22</td><td>23</td></tr></tbody></table></div>"
      ]
     },
     "metadata": {
      "application/vnd.databricks.v1+output": {
       "addedWidgets": {},
       "aggData": [],
       "aggError": "",
       "aggOverflow": false,
       "aggSchema": [],
       "aggSeriesLimitReached": false,
       "aggType": "",
       "arguments": {},
       "columnCustomDisplayInfos": {},
       "data": [
        [
         20,
         20
        ],
        [
         20,
         21
        ],
        [
         22,
         23
        ]
       ],
       "datasetInfos": [],
       "dbfsResultPath": null,
       "isJsonSchema": true,
       "metadata": {},
       "overflow": false,
       "plotOptions": {
        "customPlotOptions": {},
        "displayType": "table",
        "pivotAggregation": null,
        "pivotColumns": null,
        "xColumns": null,
        "yColumns": null
       },
       "removedWidgets": [],
       "schema": [
        {
         "metadata": "{}",
         "name": "x",
         "type": "\"long\""
        },
        {
         "metadata": "{}",
         "name": "y",
         "type": "\"long\""
        }
       ],
       "type": "table"
      }
     },
     "output_type": "display_data"
    }
   ],
   "source": [
    "df_sym_2978\\\n",
    "    .select(\n",
    "        when(col(\"a.X\") <= col(\"a.Y\"), col(\"a.X\")).otherwise(col(\"a.Y\")).alias(\"x\"),\n",
    "        when(col(\"a.X\") <= col(\"a.Y\"), col(\"a.Y\")).otherwise(col(\"a.X\")).alias(\"y\")\n",
    "        ).dropDuplicates().orderBy(\"x\", \"y\").display()"
   ]
  }
 ],
 "metadata": {
  "application/vnd.databricks.v1+notebook": {
   "computePreferences": {
    "hardware": {
     "accelerator": null,
     "gpuPoolId": null,
     "memory": null
    }
   },
   "dashboards": [],
   "environmentMetadata": {
    "base_environment": "",
    "environment_version": "2"
   },
   "inputWidgetPreferences": null,
   "language": "python",
   "notebookMetadata": {
    "pythonIndentUnit": 4
   },
   "notebookName": "2978. Symmetric Coordinates (Medium)-(Solved)",
   "widgets": {}
  },
  "language_info": {
   "name": "python"
  }
 },
 "nbformat": 4,
 "nbformat_minor": 0
}
