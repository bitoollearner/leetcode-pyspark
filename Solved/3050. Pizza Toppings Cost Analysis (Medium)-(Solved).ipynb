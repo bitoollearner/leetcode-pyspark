{
 "cells": [
  {
   "cell_type": "markdown",
   "metadata": {
    "application/vnd.databricks.v1+cell": {
     "cellMetadata": {
      "byteLimit": 2048000,
      "rowLimit": 10000
     },
     "inputWidgets": {},
     "nuid": "4e9d71b1-88e9-445c-820a-b842e217a4e7",
     "showTitle": false,
     "tableResultSettingsMap": {},
     "title": ""
    }
   },
   "source": [
    "## Importing Libraries"
   ]
  },
  {
   "cell_type": "code",
   "execution_count": 0,
   "metadata": {
    "application/vnd.databricks.v1+cell": {
     "cellMetadata": {
      "byteLimit": 2048000,
      "rowLimit": 10000
     },
     "inputWidgets": {},
     "nuid": "e6624c4d-8cb8-4ac4-8c72-81d1b4ecdb57",
     "showTitle": false,
     "tableResultSettingsMap": {},
     "title": ""
    }
   },
   "outputs": [],
   "source": [
    "from pyspark.sql.functions import *\n",
    "from pyspark.sql.types import *\n",
    "from pyspark.sql.window import Window"
   ]
  },
  {
   "cell_type": "markdown",
   "metadata": {
    "application/vnd.databricks.v1+cell": {
     "cellMetadata": {
      "byteLimit": 2048000,
      "rowLimit": 10000
     },
     "inputWidgets": {},
     "nuid": "c3788fe5-f4c9-420f-ad72-ec1a39310a2a",
     "showTitle": false,
     "tableResultSettingsMap": {},
     "title": ""
    }
   },
   "source": [
    "**3050. Pizza Toppings Cost Analysis (Medium)**\n",
    "\n",
    "**Table: Toppings**\n",
    "\n",
    "| Column Name  | Type    | \n",
    "|--------------|---------| \n",
    "| topping_name | varchar | \n",
    "| cost         | decimal |\n",
    "\n",
    "topping_name is the primary key for this table.\n",
    "Each row of this table contains topping name and the cost of the topping. \n",
    "\n",
    "**Write a solution to calculate the total cost of all possible 3-topping pizza combinations from a given list of toppings. The total cost of toppings must be rounded to 2 decimal places.**\n",
    "\n",
    "**Note:**\n",
    "- Do not include the pizzas where a topping is repeated. For example, ‘Pepperoni, Pepperoni, Onion Pizza’.\n",
    "- Toppings must be listed in alphabetical order. For example, 'Chicken, Onions, Sausage'. 'Onion, Sausage, Chicken' is not acceptable.\n",
    "\n",
    "Return the result table ordered by total cost in descending order and combination of toppings in ascending order.\n",
    "\n",
    "The result format is in the following example.\n",
    "\n",
    "**Example 1:**\n",
    "\n",
    "**Input:**\n",
    "\n",
    "**Toppings table:**\n",
    "\n",
    "| topping_name | cost |\n",
    "|--------------|------|\n",
    "| Pepperoni    | 0.50 |\n",
    "| Sausage      | 0.70 |\n",
    "| Chicken      | 0.55 |\n",
    "| Extra Cheese | 0.40 |\n",
    "\n",
    "**Output:**\n",
    "| pizza                          | total_cost | \n",
    "|--------------------------------|------------|\n",
    "| Chicken,Pepperoni,Sausage      | 1.75       |  \n",
    "| Chicken,Extra Cheese,Sausage   | 1.65       |\n",
    "| Extra Cheese,Pepperoni,Sausage | 1.60       |\n",
    "| Chicken,Extra Cheese,Pepperoni | 1.45       | \n",
    "\n",
    "**Explanation:**\n",
    "There are only four different combinations possible with the three topings:\n",
    "- Chicken, Pepperoni, Sausage: Total cost is $1.75 (Chicken $0.55, Pepperoni $0.50, Sausage $0.70).\n",
    "- Chicken, Extra Cheese, Sausage: Total cost is $1.65 (Chicken $0.55, Extra Cheese $0.40, Sausage $0.70).\n",
    "- Extra Cheese, Pepperoni, Sausage: Total cost is $1.60 (Extra Cheese $0.40, Pepperoni $0.50, Sausage $0.70).\n",
    "- Chicken, Extra Cheese, Pepperoni: Total cost is $1.45 (Chicken $0.55, Extra Cheese $0.40, Pepperoni $0.50).\n",
    "\n",
    "Output table is ordered by the total cost in descending order."
   ]
  },
  {
   "cell_type": "code",
   "execution_count": 0,
   "metadata": {
    "application/vnd.databricks.v1+cell": {
     "cellMetadata": {
      "byteLimit": 2048000,
      "rowLimit": 10000
     },
     "inputWidgets": {},
     "nuid": "137536ea-9bec-4171-8dc2-4bf8b0d771b4",
     "showTitle": false,
     "tableResultSettingsMap": {},
     "title": ""
    }
   },
   "outputs": [
    {
     "output_type": "stream",
     "name": "stdout",
     "output_type": "stream",
     "text": [
      "+------------+----+\n|topping_name|cost|\n+------------+----+\n|   Pepperoni| 0.5|\n|     Sausage| 0.7|\n|     Chicken|0.55|\n|Extra Cheese| 0.4|\n+------------+----+\n\n"
     ]
    }
   ],
   "source": [
    "toppings_data_3050 = [\n",
    "    (\"Pepperoni\", 0.50),\n",
    "    (\"Sausage\", 0.70),\n",
    "    (\"Chicken\", 0.55),\n",
    "    (\"Extra Cheese\", 0.40),\n",
    "]\n",
    "\n",
    "toppings_columns_3050 = [\"topping_name\", \"cost\"]\n",
    "toppings_df_3050 = spark.createDataFrame(toppings_data_3050, toppings_columns_3050)\n",
    "toppings_df_3050.show()"
   ]
  },
  {
   "cell_type": "code",
   "execution_count": 0,
   "metadata": {
    "application/vnd.databricks.v1+cell": {
     "cellMetadata": {
      "byteLimit": 2048000,
      "rowLimit": 10000
     },
     "inputWidgets": {},
     "nuid": "98fe0f40-1c3c-4706-b434-f3dd26b926f0",
     "showTitle": false,
     "tableResultSettingsMap": {},
     "title": ""
    }
   },
   "outputs": [],
   "source": [
    "t1_3050 = toppings_df_3050.alias(\"t1_3050\")\n",
    "t2_3050 = toppings_df_3050.alias(\"t2_3050\")\n",
    "t3_3050 = toppings_df_3050.alias(\"t3_3050\")"
   ]
  },
  {
   "cell_type": "code",
   "execution_count": 0,
   "metadata": {
    "application/vnd.databricks.v1+cell": {
     "cellMetadata": {
      "byteLimit": 2048000,
      "rowLimit": 10000
     },
     "inputWidgets": {},
     "nuid": "65db7168-b7bc-4698-9e42-76d10e74da32",
     "showTitle": false,
     "tableResultSettingsMap": {},
     "title": ""
    }
   },
   "outputs": [
    {
     "output_type": "display_data",
     "data": {
      "text/html": [
       "<style scoped>\n",
       "  .table-result-container {\n",
       "    max-height: 300px;\n",
       "    overflow: auto;\n",
       "  }\n",
       "  table, th, td {\n",
       "    border: 1px solid black;\n",
       "    border-collapse: collapse;\n",
       "  }\n",
       "  th, td {\n",
       "    padding: 5px;\n",
       "  }\n",
       "  th {\n",
       "    text-align: left;\n",
       "  }\n",
       "</style><div class='table-result-container'><table class='table-result'><thead style='background-color: white'><tr><th>pizza</th><th>total_cost</th></tr></thead><tbody><tr><td>Chicken,Pepperoni,Sausage</td><td>1.75</td></tr><tr><td>Chicken,Extra Cheese,Sausage</td><td>1.65</td></tr><tr><td>Extra Cheese,Pepperoni,Sausage</td><td>1.6</td></tr><tr><td>Chicken,Extra Cheese,Pepperoni</td><td>1.45</td></tr></tbody></table></div>"
      ]
     },
     "metadata": {
      "application/vnd.databricks.v1+output": {
       "addedWidgets": {},
       "aggData": [],
       "aggError": "",
       "aggOverflow": false,
       "aggSchema": [],
       "aggSeriesLimitReached": false,
       "aggType": "",
       "arguments": {},
       "columnCustomDisplayInfos": {},
       "data": [
        [
         "Chicken,Pepperoni,Sausage",
         1.75
        ],
        [
         "Chicken,Extra Cheese,Sausage",
         1.65
        ],
        [
         "Extra Cheese,Pepperoni,Sausage",
         1.6
        ],
        [
         "Chicken,Extra Cheese,Pepperoni",
         1.45
        ]
       ],
       "datasetInfos": [],
       "dbfsResultPath": null,
       "isJsonSchema": true,
       "metadata": {},
       "overflow": false,
       "plotOptions": {
        "customPlotOptions": {},
        "displayType": "table",
        "pivotAggregation": null,
        "pivotColumns": null,
        "xColumns": null,
        "yColumns": null
       },
       "removedWidgets": [],
       "schema": [
        {
         "metadata": "{}",
         "name": "pizza",
         "type": "\"string\""
        },
        {
         "metadata": "{}",
         "name": "total_cost",
         "type": "\"double\""
        }
       ],
       "type": "table"
      }
     },
     "output_type": "display_data"
    }
   ],
   "source": [
    "t1_3050.join(t2_3050, col(\"t1_3050.topping_name\") < col(\"t2_3050.topping_name\")) \\\n",
    "        .join(t3_3050, col(\"t2_3050.topping_name\") < col(\"t3_3050.topping_name\")) \\\n",
    "        .select(\n",
    "            concat_ws(\",\", \n",
    "                    t1_3050[\"topping_name\"], \n",
    "                    t2_3050[\"topping_name\"], \n",
    "                    t3_3050[\"topping_name\"]\n",
    "            ).alias(\"pizza\"),\n",
    "            round(\n",
    "                t1_3050[\"cost\"] + t2_3050[\"cost\"] + t3_3050[\"cost\"], 2\n",
    "            ).alias(\"total_cost\")\n",
    "        ) \\\n",
    "        .orderBy(col(\"total_cost\").desc(), col(\"pizza\").asc()).display()\n"
   ]
  }
 ],
 "metadata": {
  "application/vnd.databricks.v1+notebook": {
   "computePreferences": {
    "hardware": {
     "accelerator": null,
     "gpuPoolId": null,
     "memory": null
    }
   },
   "dashboards": [],
   "environmentMetadata": {
    "base_environment": "",
    "environment_version": "2"
   },
   "inputWidgetPreferences": null,
   "language": "python",
   "notebookMetadata": {
    "pythonIndentUnit": 4
   },
   "notebookName": "3050. Pizza Toppings Cost Analysis (Medium)-(Solved)",
   "widgets": {}
  },
  "language_info": {
   "name": "python"
  }
 },
 "nbformat": 4,
 "nbformat_minor": 0
}
