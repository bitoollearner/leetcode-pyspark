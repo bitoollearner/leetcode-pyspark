{
 "cells": [
  {
   "cell_type": "markdown",
   "metadata": {
    "application/vnd.databricks.v1+cell": {
     "cellMetadata": {
      "byteLimit": 2048000,
      "rowLimit": 10000
     },
     "inputWidgets": {},
     "nuid": "516a210c-988a-43a8-9004-cb03ad7c2481",
     "showTitle": false,
     "tableResultSettingsMap": {},
     "title": ""
    }
   },
   "source": [
    "## Importing Libraries"
   ]
  },
  {
   "cell_type": "code",
   "execution_count": 0,
   "metadata": {
    "application/vnd.databricks.v1+cell": {
     "cellMetadata": {
      "byteLimit": 2048000,
      "rowLimit": 10000
     },
     "inputWidgets": {},
     "nuid": "9333a394-5bb0-4f1f-8f10-60b56c9fb68e",
     "showTitle": false,
     "tableResultSettingsMap": {},
     "title": ""
    }
   },
   "outputs": [],
   "source": [
    "from pyspark.sql.functions import *\n",
    "from pyspark.sql.types import *\n",
    "from pyspark.sql.window import Window"
   ]
  },
  {
   "cell_type": "markdown",
   "metadata": {
    "application/vnd.databricks.v1+cell": {
     "cellMetadata": {
      "byteLimit": 2048000,
      "rowLimit": 10000
     },
     "inputWidgets": {},
     "nuid": "b718c875-1030-4207-a68c-5fad8635212a",
     "showTitle": false,
     "tableResultSettingsMap": {},
     "title": ""
    }
   },
   "source": [
    "**1341. Movie Rating (Medium)**\n",
    "\n",
    "**Table: Movies**\n",
    "\n",
    "| Column Name   | Type    |\n",
    "|---------------|---------|\n",
    "| movie_id      | int     |\n",
    "| title         | varchar |\n",
    "\n",
    "movie_id is the primary key (column with unique values) for this table.\n",
    "title is the name of the movie.\n",
    " \n",
    "**Table: Users**\n",
    "\n",
    "| Column Name   | Type    |\n",
    "|---------------|---------|\n",
    "| user_id       | int     |\n",
    "| name          | varchar |\n",
    "\n",
    "user_id is the primary key (column with unique values) for this table.\n",
    "The column 'name' has unique values.\n",
    "Table: MovieRating\n",
    "\n",
    "| Column Name   | Type    |\n",
    "|---------------|---------|\n",
    "| movie_id      | int     |\n",
    "| user_id       | int     |\n",
    "| rating        | int     |\n",
    "| created_at    | date    |\n",
    "\n",
    "(movie_id, user_id) is the primary key (column with unique values) for this table.\n",
    "This table contains the rating of a movie by a user in their review.\n",
    "created_at is the user's review date. \n",
    " \n",
    "**Write a solution to:**\n",
    "Find the name of the user who has rated the greatest number of movies. In case of a tie, return the lexicographically smaller user name.\n",
    "Find the movie name with the highest average rating in February 2020. In case of a tie, return the lexicographically smaller movie name.\n",
    "The result format is in the following example.\n",
    "\n",
    "**Example 1:**\n",
    "\n",
    "**Input:**\n",
    "**Movies table:**\n",
    "\n",
    "| movie_id    |  title       |\n",
    "|-------------|--------------|\n",
    "| 1           | Avengers     |\n",
    "| 2           | Frozen 2     |\n",
    "| 3           | Joker        |\n",
    "\n",
    "**Users table:**\n",
    "\n",
    "| user_id     |  name        |\n",
    "|-------------|--------------|\n",
    "| 1           | Daniel       |\n",
    "| 2           | Monica       |\n",
    "| 3           | Maria        |\n",
    "| 4           | James        |\n",
    "\n",
    "**MovieRating table:**\n",
    "\n",
    "| movie_id    | user_id      | rating       | created_at  |\n",
    "|-------------|--------------|--------------|-------------|\n",
    "| 1           | 1            | 3            | 2020-01-12  |\n",
    "| 1           | 2            | 4            | 2020-02-11  |\n",
    "| 1           | 3            | 2            | 2020-02-12  |\n",
    "| 1           | 4            | 1            | 2020-01-01  |\n",
    "| 2           | 1            | 5            | 2020-02-17  | \n",
    "| 2           | 2            | 2            | 2020-02-01  | \n",
    "| 2           | 3            | 2            | 2020-03-01  |\n",
    "| 3           | 1            | 3            | 2020-02-22  | \n",
    "| 3           | 2            | 4            | 2020-02-25  | \n",
    "\n",
    "**Output:**\n",
    "| results      |\n",
    "|--------------|\n",
    "| Daniel       |\n",
    "| Frozen 2     |\n",
    "\n",
    "**Explanation:**\n",
    "Daniel and Monica have rated 3 movies (\"Avengers\", \"Frozen 2\" and \"Joker\") but Daniel is smaller lexicographically.\n",
    "Frozen 2 and Joker have a rating average of 3.5 in February but Frozen 2 is smaller lexicographically."
   ]
  },
  {
   "cell_type": "code",
   "execution_count": 0,
   "metadata": {
    "application/vnd.databricks.v1+cell": {
     "cellMetadata": {
      "byteLimit": 2048000,
      "rowLimit": 10000
     },
     "inputWidgets": {},
     "nuid": "01e4d778-a8a5-48a7-8ebb-7033f0b84d62",
     "showTitle": false,
     "tableResultSettingsMap": {},
     "title": ""
    }
   },
   "outputs": [
    {
     "output_type": "stream",
     "name": "stdout",
     "output_type": "stream",
     "text": [
      "+--------+--------+\n|movie_id|   title|\n+--------+--------+\n|       1|Avengers|\n|       2|Frozen 2|\n|       3|   Joker|\n+--------+--------+\n\n+-------+------+\n|user_id|  name|\n+-------+------+\n|      1|Daniel|\n|      2|Monica|\n|      3| Maria|\n|      4| James|\n+-------+------+\n\n+--------+-------+------+----------+\n|movie_id|user_id|rating|created_at|\n+--------+-------+------+----------+\n|       1|      1|     3|2020-01-12|\n|       1|      2|     4|2020-02-11|\n|       1|      3|     2|2020-02-12|\n|       1|      4|     1|2020-01-01|\n|       2|      1|     5|2020-02-17|\n|       2|      2|     2|2020-02-01|\n|       2|      3|     2|2020-03-01|\n|       3|      1|     3|2020-02-22|\n|       3|      2|     4|2020-02-25|\n+--------+-------+------+----------+\n\n"
     ]
    }
   ],
   "source": [
    "movies_data_1341 = [\n",
    "    (1, \"Avengers\"),\n",
    "    (2, \"Frozen 2\"),\n",
    "    (3, \"Joker\"),\n",
    "]\n",
    "\n",
    "movies_columns_1341 = [\"movie_id\", \"title\"]\n",
    "movies_df_1341 = spark.createDataFrame(movies_data_1341, movies_columns_1341)\n",
    "movies_df_1341.show()\n",
    "\n",
    "users_data_1341 = [\n",
    "    (1, \"Daniel\"),\n",
    "    (2, \"Monica\"),\n",
    "    (3, \"Maria\"),\n",
    "    (4, \"James\"),\n",
    "]\n",
    "\n",
    "users_columns_1341 = [\"user_id\", \"name\"]\n",
    "users_df_1341 = spark.createDataFrame(users_data_1341, users_columns_1341)\n",
    "users_df_1341.show()\n",
    "\n",
    "movie_ratings_data_1341 = [\n",
    "    (1, 1, 3, \"2020-01-12\"),\n",
    "    (1, 2, 4, \"2020-02-11\"),\n",
    "    (1, 3, 2, \"2020-02-12\"),\n",
    "    (1, 4, 1, \"2020-01-01\"),\n",
    "    (2, 1, 5, \"2020-02-17\"),\n",
    "    (2, 2, 2, \"2020-02-01\"),\n",
    "    (2, 3, 2, \"2020-03-01\"),\n",
    "    (3, 1, 3, \"2020-02-22\"),\n",
    "    (3, 2, 4, \"2020-02-25\"),\n",
    "]\n",
    "\n",
    "ratings_columns_1341 = [\"movie_id\", \"user_id\", \"rating\", \"created_at\"]\n",
    "ratings_df_1341 = spark.createDataFrame(movie_ratings_data_1341, ratings_columns_1341)\n",
    "ratings_df_1341.show()"
   ]
  },
  {
   "cell_type": "code",
   "execution_count": 0,
   "metadata": {
    "application/vnd.databricks.v1+cell": {
     "cellMetadata": {
      "byteLimit": 2048000,
      "rowLimit": 10000
     },
     "inputWidgets": {},
     "nuid": "aaf63b86-3e1c-4969-82d8-6a504df8ddbe",
     "showTitle": false,
     "tableResultSettingsMap": {},
     "title": ""
    }
   },
   "outputs": [],
   "source": [
    "user_ratings_df_1341 = ratings_df_1341.groupBy(\"user_id\").agg(count(\"*\").alias(\"rating_count\"))"
   ]
  },
  {
   "cell_type": "code",
   "execution_count": 0,
   "metadata": {
    "application/vnd.databricks.v1+cell": {
     "cellMetadata": {
      "byteLimit": 2048000,
      "rowLimit": 10000
     },
     "inputWidgets": {},
     "nuid": "f0a23a53-c4c7-454b-b596-fae54d978663",
     "showTitle": false,
     "tableResultSettingsMap": {},
     "title": ""
    }
   },
   "outputs": [],
   "source": [
    "user_with_names_df_1341 = user_ratings_df_1341.join(users_df_1341, on=\"user_id\")"
   ]
  },
  {
   "cell_type": "code",
   "execution_count": 0,
   "metadata": {
    "application/vnd.databricks.v1+cell": {
     "cellMetadata": {
      "byteLimit": 2048000,
      "rowLimit": 10000
     },
     "inputWidgets": {},
     "nuid": "f437b72d-70bd-4f74-a91f-c1d2cb69f895",
     "showTitle": false,
     "tableResultSettingsMap": {},
     "title": ""
    }
   },
   "outputs": [],
   "source": [
    "user_window = Window.orderBy(desc(\"rating_count\"), asc(\"name\"))"
   ]
  },
  {
   "cell_type": "code",
   "execution_count": 0,
   "metadata": {
    "application/vnd.databricks.v1+cell": {
     "cellMetadata": {
      "byteLimit": 2048000,
      "rowLimit": 10000
     },
     "inputWidgets": {},
     "nuid": "94d1ec72-0cf3-402f-8977-9e9f3d45513c",
     "showTitle": false,
     "tableResultSettingsMap": {},
     "title": ""
    }
   },
   "outputs": [
    {
     "output_type": "stream",
     "name": "stderr",
     "output_type": "stream",
     "text": [
      "/databricks/python/lib/python3.11/site-packages/pyspark/sql/connect/expressions.py:1017: UserWarning: WARN WindowExpression: No Partition Defined for Window operation! Moving all data to a single partition, this can cause serious performance degradation.\n  warnings.warn(\n"
     ]
    }
   ],
   "source": [
    "top_user_df_1341 = user_with_names_df_1341\\\n",
    "                        .withColumn(\"rank\", row_number().over(user_window)) \\\n",
    "                            .filter(col(\"rank\") == 1) \\\n",
    "                                .select(\"name\")"
   ]
  },
  {
   "cell_type": "code",
   "execution_count": 0,
   "metadata": {
    "application/vnd.databricks.v1+cell": {
     "cellMetadata": {
      "byteLimit": 2048000,
      "rowLimit": 10000
     },
     "inputWidgets": {},
     "nuid": "3921985a-f84a-4be1-b8c4-a5b7ce91a88f",
     "showTitle": false,
     "tableResultSettingsMap": {},
     "title": ""
    }
   },
   "outputs": [],
   "source": [
    "feb_ratings_1341 = ratings_df_1341\\\n",
    "                            .filter(\n",
    "                                (month(\"created_at\") == 2) & (year(\"created_at\") == 2020)\n",
    "                                )"
   ]
  },
  {
   "cell_type": "code",
   "execution_count": 0,
   "metadata": {
    "application/vnd.databricks.v1+cell": {
     "cellMetadata": {
      "byteLimit": 2048000,
      "rowLimit": 10000
     },
     "inputWidgets": {},
     "nuid": "216af5cb-eec5-4c5c-8ea4-b0e8c48bbecd",
     "showTitle": false,
     "tableResultSettingsMap": {},
     "title": ""
    }
   },
   "outputs": [],
   "source": [
    "avg_rating_per_movie_1341 = feb_ratings_1341\\\n",
    "                                .groupBy(\"movie_id\") \\\n",
    "                                    .agg(avg(\"rating\").alias(\"avg_rating\"))"
   ]
  },
  {
   "cell_type": "code",
   "execution_count": 0,
   "metadata": {
    "application/vnd.databricks.v1+cell": {
     "cellMetadata": {
      "byteLimit": 2048000,
      "rowLimit": 10000
     },
     "inputWidgets": {},
     "nuid": "55f6d559-cba0-4f01-93b0-7541a0f80fdf",
     "showTitle": false,
     "tableResultSettingsMap": {},
     "title": ""
    }
   },
   "outputs": [],
   "source": [
    "movie_with_titles_df_1341 = avg_rating_per_movie_1341.join(movies_df_1341, on=\"movie_id\")"
   ]
  },
  {
   "cell_type": "code",
   "execution_count": 0,
   "metadata": {
    "application/vnd.databricks.v1+cell": {
     "cellMetadata": {
      "byteLimit": 2048000,
      "rowLimit": 10000
     },
     "inputWidgets": {},
     "nuid": "decf2d37-5644-4a71-8fa7-8873813d1191",
     "showTitle": false,
     "tableResultSettingsMap": {},
     "title": ""
    }
   },
   "outputs": [],
   "source": [
    "movie_window = Window.orderBy(desc(\"avg_rating\"), asc(\"title\"))"
   ]
  },
  {
   "cell_type": "code",
   "execution_count": 0,
   "metadata": {
    "application/vnd.databricks.v1+cell": {
     "cellMetadata": {
      "byteLimit": 2048000,
      "rowLimit": 10000
     },
     "inputWidgets": {},
     "nuid": "13583eea-b478-4084-acde-9fc66241bbc4",
     "showTitle": false,
     "tableResultSettingsMap": {},
     "title": ""
    }
   },
   "outputs": [
    {
     "output_type": "stream",
     "name": "stderr",
     "output_type": "stream",
     "text": [
      "/databricks/python/lib/python3.11/site-packages/pyspark/sql/connect/expressions.py:1017: UserWarning: WARN WindowExpression: No Partition Defined for Window operation! Moving all data to a single partition, this can cause serious performance degradation.\n  warnings.warn(\n"
     ]
    }
   ],
   "source": [
    "top_movie_df_1341 = movie_with_titles_df_1341\\\n",
    "                        .withColumn(\"rank\", row_number().over(movie_window)) \\\n",
    "                            .filter(col(\"rank\") == 1) \\\n",
    "                                .select(\"title\")"
   ]
  },
  {
   "cell_type": "code",
   "execution_count": 0,
   "metadata": {
    "application/vnd.databricks.v1+cell": {
     "cellMetadata": {
      "byteLimit": 2048000,
      "rowLimit": 10000
     },
     "inputWidgets": {},
     "nuid": "9a7110d7-5f4d-4a9b-a501-f5de46305dab",
     "showTitle": false,
     "tableResultSettingsMap": {},
     "title": ""
    }
   },
   "outputs": [
    {
     "output_type": "stream",
     "name": "stderr",
     "output_type": "stream",
     "text": [
      "/databricks/python/lib/python3.11/site-packages/pyspark/sql/connect/expressions.py:1017: UserWarning: WARN WindowExpression: No Partition Defined for Window operation! Moving all data to a single partition, this can cause serious performance degradation.\n  warnings.warn(\n"
     ]
    },
    {
     "output_type": "stream",
     "name": "stdout",
     "output_type": "stream",
     "text": [
      "+--------+\n| results|\n+--------+\n|  Daniel|\n|Frozen 2|\n+--------+\n\n"
     ]
    }
   ],
   "source": [
    "top_user_df_1341\\\n",
    "    .union(top_movie_df_1341.withColumnRenamed(\"title\", \"name\")) \\\n",
    "        .withColumnRenamed(\"name\", \"results\").show()"
   ]
  }
 ],
 "metadata": {
  "application/vnd.databricks.v1+notebook": {
   "computePreferences": {
    "hardware": {
     "accelerator": null,
     "gpuPoolId": null,
     "memory": null
    }
   },
   "dashboards": [],
   "environmentMetadata": {
    "base_environment": "",
    "environment_version": "2"
   },
   "inputWidgetPreferences": null,
   "language": "python",
   "notebookMetadata": {
    "pythonIndentUnit": 4
   },
   "notebookName": "1341. Movie Rating (Medium)-(Solved)",
   "widgets": {}
  },
  "language_info": {
   "name": "python"
  }
 },
 "nbformat": 4,
 "nbformat_minor": 0
}
