{
 "cells": [
  {
   "cell_type": "markdown",
   "metadata": {
    "application/vnd.databricks.v1+cell": {
     "cellMetadata": {
      "byteLimit": 2048000,
      "rowLimit": 10000
     },
     "inputWidgets": {},
     "nuid": "7d1791bd-9552-4116-90b2-daa678bbffb8",
     "showTitle": false,
     "tableResultSettingsMap": {},
     "title": ""
    }
   },
   "source": [
    "## Importing Libraries"
   ]
  },
  {
   "cell_type": "code",
   "execution_count": 0,
   "metadata": {
    "application/vnd.databricks.v1+cell": {
     "cellMetadata": {
      "byteLimit": 2048000,
      "rowLimit": 10000
     },
     "inputWidgets": {},
     "nuid": "2901fbc9-49db-4285-8b94-c460f34d4c4f",
     "showTitle": false,
     "tableResultSettingsMap": {},
     "title": ""
    }
   },
   "outputs": [],
   "source": [
    "from pyspark.sql.functions import *\n",
    "from pyspark.sql.types import *\n",
    "from pyspark.sql.window import Window"
   ]
  },
  {
   "cell_type": "markdown",
   "metadata": {
    "application/vnd.databricks.v1+cell": {
     "cellMetadata": {
      "byteLimit": 2048000,
      "rowLimit": 10000
     },
     "inputWidgets": {},
     "nuid": "655120e7-6b25-417c-a08a-c6925feaa425",
     "showTitle": false,
     "tableResultSettingsMap": {},
     "title": ""
    }
   },
   "source": [
    "**3482. Analyze Organization Hierarchy (Hard)**\n",
    "\n",
    "**Table: Employees**\n",
    "\n",
    "| Column Name    | Type    | \n",
    "|----------------|---------|\n",
    "| employee_id    | int     |\n",
    "| employee_name  | varchar |\n",
    "| manager_id     | int     |\n",
    "| salary         | int     |\n",
    "| department     | varchar |\n",
    "\n",
    "employee_id is the unique key for this table.\n",
    "Each row contains information about an employee, including their ID, name, their manager's ID, salary, and department.\n",
    "manager_id is null for the top-level manager (CEO).\n",
    "\n",
    "**Write a solution to analyze the organizational hierarchy and answer the following:**\n",
    "- **Hierarchy Levels:** For each employee, determine their level in the organization (CEO is level 1, employees reporting directly to the CEO are level 2, and so on).\n",
    "- **Team Size:** For each employee who is a manager, count the total number of employees under them (direct and indirect reports).\n",
    "- **Salary Budget:** For each manager, calculate the total salary budget they control (sum of salaries of all employees under them, including indirect reports, plus their own salary).\n",
    "\n",
    "Return the result table ordered by the result ordered by level in ascending order, then by budget in descending order, and finally by employee_name in ascending order.\n",
    "\n",
    "The result format is in the following example.\n",
    "\n",
    "**Example:**\n",
    "\n",
    "**Input:**\n",
    "\n",
    "**Employees table:**\n",
    "\n",
    "| employee_id | employee_name | manager_id | salary | department  |\n",
    "|-------------|---------------|------------|--------|-------------|\n",
    "| 1           | Alice         | null       | 12000  | Executive   |\n",
    "| 2           | Bob           | 1          | 10000  | Sales       |\n",
    "| 3           | Charlie       | 1          | 10000  | Engineering |\n",
    "| 4           | David         | 2          | 7500   | Sales       |\n",
    "| 5           | Eva           | 2          | 7500   | Sales       |\n",
    "| 6           | Frank         | 3          | 9000   | Engineering |\n",
    "| 7           | Grace         | 3          | 8500   | Engineering |\n",
    "| 8           | Hank          | 4          | 6000   | Sales       |\n",
    "| 9           | Ivy           | 6          | 7000   | Engineering |\n",
    "| 10          | Judy          | 6          | 7000   | Engineering |\n",
    "\n",
    "**Output:**\n",
    "\n",
    "| employee_id | employee_name | level | team_size | budget |\n",
    "|-------------|---------------|-------|-----------|--------|\n",
    "| 1           | Alice         | 1     | 9         | 84500  |\n",
    "| 3           | Charlie       | 2     | 4         | 41500  |\n",
    "| 2           | Bob           | 2     | 3         | 31000  |\n",
    "| 6           | Frank         | 3     | 2         | 23000  |\n",
    "| 4           | David         | 3     | 1         | 13500  |\n",
    "| 7           | Grace         | 3     | 0         | 8500   |\n",
    "| 5           | Eva           | 3     | 0         | 7500   |\n",
    "| 9           | Ivy           | 4     | 0         | 7000   |\n",
    "| 10          | Judy          | 4     | 0         | 7000   |\n",
    "| 8           | Hank          | 4     | 0         | 6000   |\n",
    "\n",
    "**Explanation:**\n",
    "\n",
    "**Organization Structure:**\n",
    "- Alice (ID: 1) is the CEO (level 1) with no manager\n",
    "- Bob (ID: 2) and Charlie (ID: 3) report directly to Alice (level 2)\n",
    "- David (ID: 4), Eva (ID: 5) report to Bob, while Frank (ID: 6) and Grace (ID: 7) report to Charlie (level 3)\n",
    "- Hank (ID: 8) reports to David, and Ivy (ID: 9) and Judy (ID: 10) report to Frank (level 4)\n",
    "\n",
    "**Level Calculation:**\n",
    "- The CEO (Alice) is at level 1\n",
    "- Each subsequent level of management adds 1 to the level\n",
    "\n",
    "**Team Size Calculation:**\n",
    "- Alice has 9 employees under her (the entire company except herself)\n",
    "- Bob has 3 employees (David, Eva, and Hank)\n",
    "- Charlie has 4 employees (Frank, Grace, Ivy, and Judy)\n",
    "- David has 1 employee (Hank)\n",
    "- Frank has 2 employees (Ivy and Judy)\n",
    "- Eva, Grace, Hank, Ivy, and Judy have no direct reports (team_size = 0)\n",
    "\n",
    "**Budget Calculation:**\n",
    "- Alice's budget: Her salary (12000) + all employees' salaries (72500) = 84500\n",
    "- Charlie's budget: His salary (10000) + Frank's budget (23000) + Grace's salary (8500) = 41500\n",
    "- Bob's budget: His salary (10000) + David's budget (13500) + Eva's salary (7500) = 31000\n",
    "- Frank's budget: His salary (9000) + Ivy's salary (7000) + Judy's salary (7000) = 23000\n",
    "- David's budget: His salary (7500) + Hank's salary (6000) = 13500\n",
    "- Employees with no direct reports have budgets equal to their own salary\n",
    "\n",
    "**Note:**\n",
    "- The result is ordered first by level in ascending order\n",
    "- Within the same level, employees are ordered by budget in descending order then by name in ascending order"
   ]
  },
  {
   "cell_type": "code",
   "execution_count": 0,
   "metadata": {
    "application/vnd.databricks.v1+cell": {
     "cellMetadata": {
      "byteLimit": 2048000,
      "rowLimit": 10000
     },
     "inputWidgets": {},
     "nuid": "a2368434-0191-416c-aa1d-12cd44cf48e6",
     "showTitle": false,
     "tableResultSettingsMap": {},
     "title": ""
    }
   },
   "outputs": [
    {
     "output_type": "stream",
     "name": "stdout",
     "output_type": "stream",
     "text": [
      "+-----------+-------------+----------+------+-----------+\n|employee_id|employee_name|manager_id|salary| department|\n+-----------+-------------+----------+------+-----------+\n|          1|        Alice|      NULL| 12000|  Executive|\n|          2|          Bob|         1| 10000|      Sales|\n|          3|      Charlie|         1| 10000|Engineering|\n|          4|        David|         2|  7500|      Sales|\n|          5|          Eva|         2|  7500|      Sales|\n|          6|        Frank|         3|  9000|Engineering|\n|          7|        Grace|         3|  8500|Engineering|\n|          8|         Hank|         4|  6000|      Sales|\n|          9|          Ivy|         6|  7000|Engineering|\n|         10|         Judy|         6|  7000|Engineering|\n+-----------+-------------+----------+------+-----------+\n\n"
     ]
    }
   ],
   "source": [
    "employees_data_3482 = [\n",
    "    (1, \"Alice\", None, 12000, \"Executive\"),\n",
    "    (2, \"Bob\", 1, 10000, \"Sales\"),\n",
    "    (3, \"Charlie\", 1, 10000, \"Engineering\"),\n",
    "    (4, \"David\", 2, 7500, \"Sales\"),\n",
    "    (5, \"Eva\", 2, 7500, \"Sales\"),\n",
    "    (6, \"Frank\", 3, 9000, \"Engineering\"),\n",
    "    (7, \"Grace\", 3, 8500, \"Engineering\"),\n",
    "    (8, \"Hank\", 4, 6000, \"Sales\"),\n",
    "    (9, \"Ivy\", 6, 7000, \"Engineering\"),\n",
    "    (10, \"Judy\", 6, 7000, \"Engineering\")\n",
    "]\n",
    "\n",
    "employees_columns_3482 = [\"employee_id\", \"employee_name\", \"manager_id\", \"salary\", \"department\"]\n",
    "employees_df_3482 = spark.createDataFrame(employees_data_3482, employees_columns_3482)\n",
    "employees_df_3482.show()"
   ]
  },
  {
   "cell_type": "code",
   "execution_count": 0,
   "metadata": {
    "application/vnd.databricks.v1+cell": {
     "cellMetadata": {
      "byteLimit": 2048000,
      "rowLimit": 10000
     },
     "inputWidgets": {},
     "nuid": "ceb26780-c2fe-4a99-b24b-232f4d66b921",
     "showTitle": false,
     "tableResultSettingsMap": {},
     "title": ""
    }
   },
   "outputs": [],
   "source": [
    "level_df_3482 = employees_df_3482\\\n",
    "                    .filter(col(\"manager_id\").isNull()) \\\n",
    "                        .select(\"employee_id\", lit(1).alias(\"level\"))"
   ]
  },
  {
   "cell_type": "code",
   "execution_count": 0,
   "metadata": {
    "application/vnd.databricks.v1+cell": {
     "cellMetadata": {
      "byteLimit": 2048000,
      "rowLimit": 10000
     },
     "inputWidgets": {},
     "nuid": "3a41a795-4a9c-4fe5-99b1-eab930cf0ac5",
     "showTitle": false,
     "tableResultSettingsMap": {},
     "title": ""
    }
   },
   "outputs": [],
   "source": [
    "hierarchy_df_3482 = level_df_3482\n",
    "next_df_3482 = level_df_3482"
   ]
  },
  {
   "cell_type": "code",
   "execution_count": 0,
   "metadata": {
    "application/vnd.databricks.v1+cell": {
     "cellMetadata": {
      "byteLimit": 2048000,
      "rowLimit": 10000
     },
     "inputWidgets": {},
     "nuid": "a2780e5a-82b7-42be-bd15-1f89f0993067",
     "showTitle": false,
     "tableResultSettingsMap": {},
     "title": ""
    }
   },
   "outputs": [],
   "source": [
    "while True:\n",
    "    expanded = employees_df_3482.alias(\"e\").join(\n",
    "        next_df_3482.alias(\"m\"),\n",
    "        col(\"e.manager_id\") == col(\"m.employee_id\"),\n",
    "        \"inner\"\n",
    "    ).select(\n",
    "        col(\"e.employee_id\"),\n",
    "        (col(\"m.level\") + 1).alias(\"level\")\n",
    "    )\n",
    "\n",
    "    if expanded.subtract(hierarchy_df_3482).count() == 0:\n",
    "        break\n",
    "\n",
    "    hierarchy_df_3482 = hierarchy_df_3482.union(expanded).distinct()\n",
    "    next_df_3482 = expanded\n",
    "\n",
    "employees_with_level_3482 = employees_df_3482\\\n",
    "                                .join(hierarchy_df_3482, \"employee_id\", \"left\")"
   ]
  },
  {
   "cell_type": "code",
   "execution_count": 0,
   "metadata": {
    "application/vnd.databricks.v1+cell": {
     "cellMetadata": {
      "byteLimit": 2048000,
      "rowLimit": 10000
     },
     "inputWidgets": {},
     "nuid": "0e39edc2-9479-4555-8e4f-63c05368aa5e",
     "showTitle": false,
     "tableResultSettingsMap": {},
     "title": ""
    }
   },
   "outputs": [],
   "source": [
    "relation_df_3482 = employees_df_3482\\\n",
    "                        .filter(col(\"manager_id\").isNotNull()) \\\n",
    "                            .select(col(\"manager_id\"), col(\"employee_id\"))"
   ]
  },
  {
   "cell_type": "code",
   "execution_count": 0,
   "metadata": {
    "application/vnd.databricks.v1+cell": {
     "cellMetadata": {
      "byteLimit": 2048000,
      "rowLimit": 10000
     },
     "inputWidgets": {},
     "nuid": "afe718f3-d58a-4e5d-91b6-390d32409c02",
     "showTitle": false,
     "tableResultSettingsMap": {},
     "title": ""
    }
   },
   "outputs": [],
   "source": [
    "closure_df_3482 = relation_df_3482\n",
    "next_df_3482 = relation_df_3482"
   ]
  },
  {
   "cell_type": "code",
   "execution_count": 0,
   "metadata": {
    "application/vnd.databricks.v1+cell": {
     "cellMetadata": {
      "byteLimit": 2048000,
      "rowLimit": 10000
     },
     "inputWidgets": {},
     "nuid": "3f77ed31-1e65-48bf-9b71-807c365c773a",
     "showTitle": false,
     "tableResultSettingsMap": {},
     "title": ""
    }
   },
   "outputs": [],
   "source": [
    "while True:\n",
    "    expanded = next_df_3482.alias(\"a\").join(\n",
    "        relation_df_3482.alias(\"b\"),\n",
    "        col(\"a.employee_id\") == col(\"b.manager_id\"),\n",
    "        \"inner\"\n",
    "    ).select(\n",
    "        col(\"a.manager_id\"),\n",
    "        col(\"b.employee_id\")\n",
    "    ).distinct()\n",
    "\n",
    "    # Stop if no new relationships found\n",
    "    if expanded.subtract(closure_df_3482).count() == 0:\n",
    "        break\n",
    "\n",
    "    closure_df_3482 = closure_df_3482.union(expanded).distinct()\n",
    "    next_df_3482 = expanded\n",
    "\n",
    "team_df_3482 = closure_df_3482\\\n",
    "                    .groupBy(\"manager_id\").agg(count(\"employee_id\").alias(\"team_size\"))"
   ]
  },
  {
   "cell_type": "code",
   "execution_count": 0,
   "metadata": {
    "application/vnd.databricks.v1+cell": {
     "cellMetadata": {
      "byteLimit": 2048000,
      "rowLimit": 10000
     },
     "inputWidgets": {},
     "nuid": "c24fd8b7-1d26-4533-9f3d-86b56a227390",
     "showTitle": false,
     "tableResultSettingsMap": {},
     "title": ""
    }
   },
   "outputs": [],
   "source": [
    "budget_df_3482 = closure_df_3482\\\n",
    "                    .join( employees_df_3482.select(\"employee_id\", \"salary\"),\"employee_id\",\"left\")\\\n",
    "                        .groupBy(\"manager_id\").agg(sum(\"salary\").alias(\"sub_salary\"))"
   ]
  },
  {
   "cell_type": "code",
   "execution_count": 0,
   "metadata": {
    "application/vnd.databricks.v1+cell": {
     "cellMetadata": {
      "byteLimit": 2048000,
      "rowLimit": 10000
     },
     "inputWidgets": {},
     "nuid": "9bad2898-3509-4ec5-a1a6-b141e6a5a9ae",
     "showTitle": false,
     "tableResultSettingsMap": {},
     "title": ""
    }
   },
   "outputs": [],
   "source": [
    "budget_df_3482 = budget_df_3482\\\n",
    "                    .join( employees_df_3482.select(col(\"employee_id\").alias(\"manager_id\"), \"salary\"), \"manager_id\", \"left\")\\\n",
    "                        .withColumn( \"budget\", col(\"sub_salary\") + col(\"salary\"))\\\n",
    "                            .select(\"manager_id\", \"budget\")"
   ]
  },
  {
   "cell_type": "code",
   "execution_count": 0,
   "metadata": {
    "application/vnd.databricks.v1+cell": {
     "cellMetadata": {
      "byteLimit": 2048000,
      "rowLimit": 10000
     },
     "inputWidgets": {},
     "nuid": "4c1a6431-525a-4647-a2bb-668d2da0a261",
     "showTitle": false,
     "tableResultSettingsMap": {},
     "title": ""
    }
   },
   "outputs": [
    {
     "output_type": "display_data",
     "data": {
      "text/html": [
       "<style scoped>\n",
       "  .table-result-container {\n",
       "    max-height: 300px;\n",
       "    overflow: auto;\n",
       "  }\n",
       "  table, th, td {\n",
       "    border: 1px solid black;\n",
       "    border-collapse: collapse;\n",
       "  }\n",
       "  th, td {\n",
       "    padding: 5px;\n",
       "  }\n",
       "  th {\n",
       "    text-align: left;\n",
       "  }\n",
       "</style><div class='table-result-container'><table class='table-result'><thead style='background-color: white'><tr><th>employee_id</th><th>employee_name</th><th>level</th><th>team_size</th><th>budget</th></tr></thead><tbody><tr><td>1</td><td>Alice</td><td>1</td><td>9</td><td>84500</td></tr><tr><td>3</td><td>Charlie</td><td>2</td><td>4</td><td>41500</td></tr><tr><td>2</td><td>Bob</td><td>2</td><td>3</td><td>31000</td></tr><tr><td>6</td><td>Frank</td><td>3</td><td>2</td><td>23000</td></tr><tr><td>4</td><td>David</td><td>3</td><td>1</td><td>13500</td></tr><tr><td>7</td><td>Grace</td><td>3</td><td>0</td><td>8500</td></tr><tr><td>5</td><td>Eva</td><td>3</td><td>0</td><td>7500</td></tr><tr><td>9</td><td>Ivy</td><td>4</td><td>0</td><td>7000</td></tr><tr><td>10</td><td>Judy</td><td>4</td><td>0</td><td>7000</td></tr><tr><td>8</td><td>Hank</td><td>4</td><td>0</td><td>6000</td></tr></tbody></table></div>"
      ]
     },
     "metadata": {
      "application/vnd.databricks.v1+output": {
       "addedWidgets": {},
       "aggData": [],
       "aggError": "",
       "aggOverflow": false,
       "aggSchema": [],
       "aggSeriesLimitReached": false,
       "aggType": "",
       "arguments": {},
       "columnCustomDisplayInfos": {},
       "data": [
        [
         1,
         "Alice",
         1,
         9,
         84500
        ],
        [
         3,
         "Charlie",
         2,
         4,
         41500
        ],
        [
         2,
         "Bob",
         2,
         3,
         31000
        ],
        [
         6,
         "Frank",
         3,
         2,
         23000
        ],
        [
         4,
         "David",
         3,
         1,
         13500
        ],
        [
         7,
         "Grace",
         3,
         0,
         8500
        ],
        [
         5,
         "Eva",
         3,
         0,
         7500
        ],
        [
         9,
         "Ivy",
         4,
         0,
         7000
        ],
        [
         10,
         "Judy",
         4,
         0,
         7000
        ],
        [
         8,
         "Hank",
         4,
         0,
         6000
        ]
       ],
       "datasetInfos": [],
       "dbfsResultPath": null,
       "isJsonSchema": true,
       "metadata": {},
       "overflow": false,
       "plotOptions": {
        "customPlotOptions": {},
        "displayType": "table",
        "pivotAggregation": null,
        "pivotColumns": null,
        "xColumns": null,
        "yColumns": null
       },
       "removedWidgets": [],
       "schema": [
        {
         "metadata": "{}",
         "name": "employee_id",
         "type": "\"long\""
        },
        {
         "metadata": "{}",
         "name": "employee_name",
         "type": "\"string\""
        },
        {
         "metadata": "{}",
         "name": "level",
         "type": "\"integer\""
        },
        {
         "metadata": "{}",
         "name": "team_size",
         "type": "\"long\""
        },
        {
         "metadata": "{}",
         "name": "budget",
         "type": "\"long\""
        }
       ],
       "type": "table"
      }
     },
     "output_type": "display_data"
    }
   ],
   "source": [
    "employees_with_level_3482 \\\n",
    "    .join(team_df_3482, employees_with_level_3482.employee_id == team_df_3482.manager_id, \"left\") \\\n",
    "        .join(budget_df_3482, employees_with_level_3482.employee_id == budget_df_3482.manager_id, \"left\") \\\n",
    "            .select(\n",
    "                \"employee_id\",\n",
    "                \"employee_name\",\n",
    "                \"level\",\n",
    "                coalesce(\"team_size\", lit(0)).alias(\"team_size\"),\n",
    "                coalesce(\"budget\", col(\"salary\")).alias(\"budget\")\n",
    "                ) \\\n",
    "                    .orderBy(\"level\", desc(\"budget\"), \"employee_name\").display()"
   ]
  }
 ],
 "metadata": {
  "application/vnd.databricks.v1+notebook": {
   "computePreferences": {
    "hardware": {
     "accelerator": null,
     "gpuPoolId": null,
     "memory": null
    }
   },
   "dashboards": [],
   "environmentMetadata": {
    "base_environment": "",
    "environment_version": "2"
   },
   "inputWidgetPreferences": null,
   "language": "python",
   "notebookMetadata": {
    "pythonIndentUnit": 4
   },
   "notebookName": "3482. Analyze Organization Hierarchy (Hard)-(Solved)",
   "widgets": {}
  },
  "language_info": {
   "name": "python"
  }
 },
 "nbformat": 4,
 "nbformat_minor": 0
}
