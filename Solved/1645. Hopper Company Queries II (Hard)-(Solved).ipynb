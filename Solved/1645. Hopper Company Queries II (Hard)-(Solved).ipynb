{
 "cells": [
  {
   "cell_type": "markdown",
   "metadata": {
    "application/vnd.databricks.v1+cell": {
     "cellMetadata": {
      "byteLimit": 2048000,
      "rowLimit": 10000
     },
     "inputWidgets": {},
     "nuid": "f6ac9266-658c-4507-8a37-ecc81334b06d",
     "showTitle": false,
     "tableResultSettingsMap": {},
     "title": ""
    }
   },
   "source": [
    "## Importing Libraries"
   ]
  },
  {
   "cell_type": "code",
   "execution_count": 0,
   "metadata": {
    "application/vnd.databricks.v1+cell": {
     "cellMetadata": {
      "byteLimit": 2048000,
      "rowLimit": 10000
     },
     "inputWidgets": {},
     "nuid": "d6194993-9312-4b46-8365-d6a73d8cb0b0",
     "showTitle": false,
     "tableResultSettingsMap": {},
     "title": ""
    }
   },
   "outputs": [],
   "source": [
    "from pyspark.sql.functions import *\n",
    "from pyspark.sql.types import *\n",
    "from pyspark.sql.window import Window"
   ]
  },
  {
   "cell_type": "markdown",
   "metadata": {
    "application/vnd.databricks.v1+cell": {
     "cellMetadata": {
      "byteLimit": 2048000,
      "rowLimit": 10000
     },
     "inputWidgets": {},
     "nuid": "23f6a680-8f01-4976-83fa-88103e49c6b8",
     "showTitle": false,
     "tableResultSettingsMap": {},
     "title": ""
    }
   },
   "source": [
    "**1645. Hopper Company Queries II (Hard)**\n",
    "\n",
    "**Table: Drivers**\n",
    "\n",
    "| Column Name | Type    |\n",
    "|-------------|---------|\n",
    "| driver_id   | int     |\n",
    "| join_date   | date    |\n",
    "\n",
    "driver_id is the column with unique values for this table.\n",
    "Each row of this table contains the driver's ID and the date they joined the Hopper company.\n",
    " \n",
    "**Table: Rides**\n",
    "\n",
    "| Column Name  | Type    |\n",
    "|--------------|---------|\n",
    "| ride_id      | int     |\n",
    "| user_id      | int     |\n",
    "| requested_at | date    |\n",
    "\n",
    "ride_id is the column with unique values for this table.\n",
    "Each row of this table contains the ID of a ride, the user's ID that requested it, and the day they requested it.\n",
    "There may be some ride requests in this table that were not accepted.\n",
    " \n",
    "**Table: AcceptedRides**\n",
    "\n",
    "| Column Name   | Type    |\n",
    "|---------------|---------|\n",
    "| ride_id       | int     |\n",
    "| driver_id     | int     |\n",
    "| ride_distance | int     |\n",
    "| ride_duration | int     |\n",
    "\n",
    "ride_id is the column with unique values for this table.\n",
    "Each row of this table contains some information about an accepted ride.\n",
    "It is guaranteed that each accepted ride exists in the Rides table.\n",
    " \n",
    "**Write a solution to report the percentage of working drivers (working_percentage) for each month of 2020 where:**\n",
    "\n",
    "Note that if the number of available drivers during a month is zero, we consider the working_percentage to be 0.\n",
    "\n",
    "Return the result table ordered by month in ascending order, where month is the month's number (January is 1, February is 2, etc.). Round working_percentage to the nearest 2 decimal places.\n",
    "\n",
    "The result format is in the following example.\n",
    "\n",
    "**Example 1:**\n",
    "\n",
    "**Input:** \n",
    "\n",
    "**Drivers table:**\n",
    "\n",
    "| driver_id | join_date  |\n",
    "|-----------|------------|\n",
    "| 10        | 2019-12-10 |\n",
    "| 8         | 2020-1-13  |\n",
    "| 5         | 2020-2-16  |\n",
    "| 7         | 2020-3-8   |\n",
    "| 4         | 2020-5-17  |\n",
    "| 1         | 2020-10-24 |\n",
    "| 6         | 2021-1-5   |\n",
    "\n",
    "**Rides table:**\n",
    "| ride_id | user_id | requested_at |\n",
    "|---------|---------|--------------|\n",
    "| 6       | 75      | 2019-12-9    |\n",
    "| 1       | 54      | 2020-2-9     |\n",
    "| 10      | 63      | 2020-3-4     |\n",
    "| 19      | 39      | 2020-4-6     |\n",
    "| 3       | 41      | 2020-6-3     |\n",
    "| 13      | 52      | 2020-6-22    |\n",
    "| 7       | 69      | 2020-7-16    |\n",
    "| 17      | 70      | 2020-8-25    |\n",
    "| 20      | 81      | 2020-11-2    |\n",
    "| 5       | 57      | 2020-11-9    |\n",
    "| 2       | 42      | 2020-12-9    |\n",
    "| 11      | 68      | 2021-1-11    |\n",
    "| 15      | 32      | 2021-1-17    |\n",
    "| 12      | 11      | 2021-1-19    |\n",
    "| 14      | 18      | 2021-1-27    |\n",
    "\n",
    "**AcceptedRides table:**\n",
    "| ride_id | driver_id | ride_distance | ride_duration |\n",
    "|---------|-----------|---------------|---------------|\n",
    "| 10      | 10        | 63            | 38            |\n",
    "| 13      | 10        | 73            | 96            |\n",
    "| 7       | 8         | 100           | 28            |\n",
    "| 17      | 7         | 119           | 68            |\n",
    "| 20      | 1         | 121           | 92            |\n",
    "| 5       | 7         | 42            | 101           |\n",
    "| 2       | 4         | 6             | 38            |\n",
    "| 11      | 8         | 37            | 43            |\n",
    "| 15      | 8         | 108           | 82            |\n",
    "| 12      | 8         | 38            | 34            |\n",
    "| 14      | 1         | 90            | 74            |\n",
    "\n",
    "**Output:** \n",
    "| month | working_percentage |\n",
    "|-------|--------------------|\n",
    "| 1     | 0.00               |\n",
    "| 2     | 0.00               |\n",
    "| 3     | 25.00              |\n",
    "| 4     | 0.00               |\n",
    "| 5     | 0.00               |\n",
    "| 6     | 20.00              |\n",
    "| 7     | 20.00              |\n",
    "| 8     | 20.00              |\n",
    "| 9     | 0.00               |\n",
    "| 10    | 0.00               |\n",
    "| 11    | 33.33              |\n",
    "| 12    | 16.67              |\n",
    "\n",
    "**Explanation:** \n",
    "- By the end of January --> two active drivers (10, 8) and no accepted rides. The percentage is 0%.\n",
    "- By the end of February --> three active drivers (10, 8, 5) and no accepted rides. The percentage is 0%.\n",
    "- By the end of March --> four active drivers (10, 8, 5, 7) and one accepted ride by driver (10). The percentage is (1 / 4) * 100 = 25%.\n",
    "- By the end of April --> four active drivers (10, 8, 5, 7) and no accepted rides. The percentage is 0%.\n",
    "- By the end of May --> five active drivers (10, 8, 5, 7, 4) and no accepted rides. The percentage is 0%.\n",
    "- By the end of June --> five active drivers (10, 8, 5, 7, 4) and one accepted ride by driver (10). The percentage is (1 / 5) * 100 = 20%.\n",
    "- By the end of July --> five active drivers (10, 8, 5, 7, 4) and one accepted ride by driver (8). The percentage is (1 / 5) * 100 = 20%.\n",
    "- By the end of August --> five active drivers (10, 8, 5, 7, 4) and one accepted ride by driver (7). The percentage is (1 / 5) * 100 = 20%.\n",
    "- By the end of September --> five active drivers (10, 8, 5, 7, 4) and no accepted rides. The percentage is 0%.\n",
    "- By the end of October --> six active drivers (10, 8, 5, 7, 4, 1) and no accepted rides. The percentage is 0%.\n",
    "- By the end of November --> six active drivers (10, 8, 5, 7, 4, 1) and two accepted rides by two different drivers (1, 7). The percentage is (2 / 6) * 100 = 33.33%.\n",
    "- By the end of December --> six active drivers (10, 8, 5, 7, 4, 1) and one accepted ride by driver (4). The percentage is (1 / 6) * 100 = 16.67%."
   ]
  },
  {
   "cell_type": "code",
   "execution_count": 0,
   "metadata": {
    "application/vnd.databricks.v1+cell": {
     "cellMetadata": {
      "byteLimit": 2048000,
      "rowLimit": 10000
     },
     "inputWidgets": {},
     "nuid": "a762f84d-f622-4403-b695-4066e5bdbaf0",
     "showTitle": false,
     "tableResultSettingsMap": {},
     "title": ""
    }
   },
   "outputs": [
    {
     "output_type": "stream",
     "name": "stdout",
     "output_type": "stream",
     "text": [
      "+---------+----------+\n|driver_id| join_date|\n+---------+----------+\n|       10|2019-12-10|\n|        8|2020-01-13|\n|        5|2020-02-16|\n|        7|2020-03-08|\n|        4|2020-05-17|\n|        1|2020-10-24|\n|        6|2021-01-05|\n+---------+----------+\n\n+-------+-------+------------+\n|ride_id|user_id|requested_at|\n+-------+-------+------------+\n|     10|     63|  2020-03-04|\n|     13|     52|  2020-06-22|\n|      7|     69|  2020-07-16|\n|     17|     70|  2020-08-25|\n|     20|     81|  2020-11-02|\n|      5|     57|  2020-11-09|\n|      2|     42|  2020-12-09|\n+-------+-------+------------+\n\n+-------+---------+\n|ride_id|driver_id|\n+-------+---------+\n|     10|       10|\n|     13|       10|\n|      7|        8|\n|     17|        7|\n|     20|        1|\n|      5|        7|\n|      2|        4|\n|     11|        8|\n|     15|        8|\n|     12|        8|\n|     14|        1|\n+-------+---------+\n\n"
     ]
    }
   ],
   "source": [
    "driver_data_1645 = [(10, \"2019-12-10\"), (8, \"2020-01-13\"), (5, \"2020-02-16\"), (7, \"2020-03-08\"),\n",
    "               (4, \"2020-05-17\"), (1, \"2020-10-24\"), (6, \"2021-01-05\")]\n",
    "\n",
    "driver_data_columns_1645 = [\"driver_id\", \"join_date\"]\n",
    "driver_df_1645 = spark.createDataFrame(driver_data_1645, driver_data_columns_1645)\n",
    "driver_df_1645.show()\n",
    "\n",
    "ride_data_1645 = [(10, 63, \"2020-03-04\"), (13, 52, \"2020-06-22\"), (7, 69, \"2020-07-16\"), (17, 70, \"2020-08-25\"),\n",
    "             (20, 81, \"2020-11-02\"), (5, 57, \"2020-11-09\"), (2, 42, \"2020-12-09\")]\n",
    "\n",
    "ride_data_columns_1645 = [\"ride_id\", \"user_id\", \"requested_at\"]\n",
    "ride_df_1645 = spark.createDataFrame(ride_data_1645, ride_data_columns_1645)\n",
    "ride_df_1645.show()\n",
    "\n",
    "accepted_ride_data_1645 = [(10, 10), (13, 10), (7, 8), (17, 7), (20, 1), (5, 7), (2, 4), (11, 8), (15, 8), (12, 8), (14, 1)]\n",
    "\n",
    "accepted_ride_columns_1645 = [\"ride_id\", \"driver_id\"]\n",
    "accepted_ride_df_1645 = spark.createDataFrame(accepted_ride_data_1645, accepted_ride_columns_1645)\n",
    "accepted_ride_df_1645.show()"
   ]
  },
  {
   "cell_type": "code",
   "execution_count": 0,
   "metadata": {
    "application/vnd.databricks.v1+cell": {
     "cellMetadata": {
      "byteLimit": 2048000,
      "rowLimit": 10000
     },
     "inputWidgets": {},
     "nuid": "cafd1784-9939-47b4-86ef-9cfe7c6c1517",
     "showTitle": false,
     "tableResultSettingsMap": {},
     "title": ""
    }
   },
   "outputs": [],
   "source": [
    "months_df_1645 = spark.createDataFrame([(m,) for m in range(1, 13)], [\"month\"])"
   ]
  },
  {
   "cell_type": "code",
   "execution_count": 0,
   "metadata": {
    "application/vnd.databricks.v1+cell": {
     "cellMetadata": {
      "byteLimit": 2048000,
      "rowLimit": 10000
     },
     "inputWidgets": {},
     "nuid": "d2f41479-8a14-46b9-81c5-c5fe0efa1ef6",
     "showTitle": false,
     "tableResultSettingsMap": {},
     "title": ""
    }
   },
   "outputs": [],
   "source": [
    "drivers_active_df_1645 = driver_df_1645\\\n",
    "                            .withColumn(\"join_month\", month(\"join_date\"))\\\n",
    "                                .withColumn(\"join_year\", year(\"join_date\"))\\\n",
    "                                    .filter(col(\"join_date\") <= lit(\"2020-12-31\"))"
   ]
  },
  {
   "cell_type": "code",
   "execution_count": 0,
   "metadata": {
    "application/vnd.databricks.v1+cell": {
     "cellMetadata": {
      "byteLimit": 2048000,
      "rowLimit": 10000
     },
     "inputWidgets": {},
     "nuid": "9624f196-5806-4548-b8a0-545ab24efe02",
     "showTitle": false,
     "tableResultSettingsMap": {},
     "title": ""
    }
   },
   "outputs": [],
   "source": [
    "active_drivers_per_month_df_1645 = months_df_1645\\\n",
    "                                        .crossJoin(drivers_active_df_1645)\\\n",
    "                                            .filter( \n",
    "                                                    (col(\"join_year\") < 2020) | \n",
    "                                                    ((col(\"join_year\") == 2020) & \n",
    "                                                     (col(\"join_month\") <= col(\"month\")))\n",
    "                                                    )\\\n",
    "                                                        .groupBy(\"month\")\\\n",
    "                                                            .agg(countDistinct(\"driver_id\").alias(\"active_drivers\"))"
   ]
  },
  {
   "cell_type": "code",
   "execution_count": 0,
   "metadata": {
    "application/vnd.databricks.v1+cell": {
     "cellMetadata": {
      "byteLimit": 2048000,
      "rowLimit": 10000
     },
     "inputWidgets": {},
     "nuid": "af3c1816-7394-4197-844a-7e4022572588",
     "showTitle": false,
     "tableResultSettingsMap": {},
     "title": ""
    }
   },
   "outputs": [],
   "source": [
    "rides_2020_df_1645 = ride_df_1645\\\n",
    "                            .filter(year(\"requested_at\") == 2020)\n",
    "\n",
    "accepted_2020_df_1645 = accepted_ride_df_1645\\\n",
    "                            .join(rides_2020_df_1645, \"ride_id\", \"inner\")"
   ]
  },
  {
   "cell_type": "code",
   "execution_count": 0,
   "metadata": {
    "application/vnd.databricks.v1+cell": {
     "cellMetadata": {
      "byteLimit": 2048000,
      "rowLimit": 10000
     },
     "inputWidgets": {},
     "nuid": "097b6702-f926-487b-b26b-027c4f2980c2",
     "showTitle": false,
     "tableResultSettingsMap": {},
     "title": ""
    }
   },
   "outputs": [],
   "source": [
    "working_drivers_df_1645 = accepted_2020_df_1645\\\n",
    "                                .withColumn(\"month\", month(\"requested_at\"))\\\n",
    "                                    .groupBy(\"month\")\\\n",
    "                                        .agg(countDistinct(\"driver_id\").alias(\"working_drivers\"))"
   ]
  },
  {
   "cell_type": "code",
   "execution_count": 0,
   "metadata": {
    "application/vnd.databricks.v1+cell": {
     "cellMetadata": {
      "byteLimit": 2048000,
      "rowLimit": 10000
     },
     "inputWidgets": {},
     "nuid": "6c074d7a-658d-40e5-8f65-81085f27de3b",
     "showTitle": false,
     "tableResultSettingsMap": {},
     "title": ""
    }
   },
   "outputs": [
    {
     "output_type": "stream",
     "name": "stdout",
     "output_type": "stream",
     "text": [
      "+-----+------------------+\n|month|working_percentage|\n+-----+------------------+\n|    1|               0.0|\n|    2|               0.0|\n|    3|              25.0|\n|    4|               0.0|\n|    5|               0.0|\n|    6|              20.0|\n|    7|              20.0|\n|    8|              20.0|\n|    9|               0.0|\n|   10|               0.0|\n|   11|             33.33|\n|   12|             16.67|\n+-----+------------------+\n\n"
     ]
    }
   ],
   "source": [
    "months_df_1645\\\n",
    "    .join(active_drivers_per_month_df_1645, \"month\", \"left\")\\\n",
    "        .join(working_drivers_df_1645, \"month\", \"left\")\\\n",
    "            .fillna(0, subset=[\"active_drivers\", \"working_drivers\"])\\\n",
    "                .withColumn(\n",
    "                 \"working_percentage\",\n",
    "                 when(col(\"active_drivers\") == 0, lit(0.0))\n",
    "                  .otherwise((col(\"working_drivers\") / col(\"active_drivers\")) * 100)\n",
    "             )\\\n",
    "             .withColumn(\"working_percentage\", round(\"working_percentage\", 2))\\\n",
    "                 .select(\"month\", \"working_percentage\")\\\n",
    "                     .orderBy(\"month\").show()"
   ]
  }
 ],
 "metadata": {
  "application/vnd.databricks.v1+notebook": {
   "computePreferences": {
    "hardware": {
     "accelerator": null,
     "gpuPoolId": null,
     "memory": null
    }
   },
   "dashboards": [],
   "environmentMetadata": {
    "base_environment": "",
    "environment_version": "2"
   },
   "inputWidgetPreferences": null,
   "language": "python",
   "notebookMetadata": {
    "pythonIndentUnit": 4
   },
   "notebookName": "1645. Hopper Company Queries II (Hard)-(Solved)",
   "widgets": {}
  },
  "language_info": {
   "name": "python"
  }
 },
 "nbformat": 4,
 "nbformat_minor": 0
}
