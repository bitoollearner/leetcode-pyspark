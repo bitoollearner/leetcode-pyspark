{
 "cells": [
  {
   "cell_type": "markdown",
   "metadata": {
    "application/vnd.databricks.v1+cell": {
     "cellMetadata": {},
     "inputWidgets": {},
     "nuid": "4e9d71b1-88e9-445c-820a-b842e217a4e7",
     "showTitle": false,
     "tableResultSettingsMap": {},
     "title": ""
    }
   },
   "source": [
    "## Importing Libraries"
   ]
  },
  {
   "cell_type": "code",
   "execution_count": 0,
   "metadata": {
    "application/vnd.databricks.v1+cell": {
     "cellMetadata": {},
     "inputWidgets": {},
     "nuid": "e6624c4d-8cb8-4ac4-8c72-81d1b4ecdb57",
     "showTitle": false,
     "tableResultSettingsMap": {},
     "title": ""
    }
   },
   "outputs": [],
   "source": [
    "from pyspark.sql.functions import *\n",
    "from pyspark.sql.types import *\n",
    "from pyspark.sql.window import Window"
   ]
  },
  {
   "cell_type": "markdown",
   "metadata": {
    "application/vnd.databricks.v1+cell": {
     "cellMetadata": {},
     "inputWidgets": {},
     "nuid": "c3788fe5-f4c9-420f-ad72-ec1a39310a2a",
     "showTitle": false,
     "tableResultSettingsMap": {},
     "title": ""
    }
   },
   "source": [
    "**2987. Find Expensive Cities (Easy)**\n",
    "\n",
    "**Table: Listings**\n",
    "\n",
    "| Column Name | Type    |\n",
    "|-------------|---------|\n",
    "| listing_id  | int     |\n",
    "| city        | varchar |\n",
    "| price       | int     |\n",
    "\n",
    "listing_id is column of unique values for this table.\n",
    "This table contains listing_id, city, and price.\n",
    "\n",
    "**Write a solution to find cities where the average home prices exceed the national average home price.**\n",
    "\n",
    "Return the result table sorted by city in ascending order.\n",
    "\n",
    "The result format is in the following example.\n",
    "\n",
    "**Example 1:**\n",
    "\n",
    "**Input:** \n",
    "**Listings table:**\n",
    "\n",
    "| listing_id | city         | price   | \n",
    "|------------|--------------|---------|\n",
    "| 113        | LosAngeles   | 7560386 | \n",
    "| 136        | SanFrancisco | 2380268 |     \n",
    "| 92         | Chicago      | 9833209 | \n",
    "| 60         | Chicago      | 5147582 | \n",
    "| 8          | Chicago      | 5274441 |  \n",
    "| 79         | SanFrancisco | 8372065 | \n",
    "| 37         | Chicago      | 7939595 | \n",
    "| 53         | LosAngeles   | 4965123 | \n",
    "| 178        | SanFrancisco | 999207  | \n",
    "| 51         | NewYork      | 5951718 | \n",
    "| 121        | NewYork      | 2893760 | \n",
    "\n",
    "**Output**\n",
    "| city       | \n",
    "|------------|\n",
    "| Chicago    | \n",
    "| LosAngeles |  \n",
    "\n",
    "**Explanation**\n",
    "\n",
    "The national average home price is $6,122,059.45. Among the cities listed:\n",
    "- Chicago has an average price of $7,048,706.75\n",
    "- Los Angeles has an average price of $6,277,754.5\n",
    "- San Francisco has an average price of $3,900,513.33\n",
    "- New York has an average price of $4,422,739\n",
    "\n",
    "Only Chicago and Los Angeles have average home prices exceeding the national average. Therefore, these two cities are included in the output table. The output table is sorted in ascending order based on the city names."
   ]
  },
  {
   "cell_type": "code",
   "execution_count": 0,
   "metadata": {
    "application/vnd.databricks.v1+cell": {
     "cellMetadata": {},
     "inputWidgets": {},
     "nuid": "137536ea-9bec-4171-8dc2-4bf8b0d771b4",
     "showTitle": false,
     "tableResultSettingsMap": {},
     "title": ""
    }
   },
   "outputs": [],
   "source": [
    "listings_data_2987 = [\n",
    "    (113, \"LosAngeles\", 7560386),\n",
    "    (136, \"SanFrancisco\", 2380268),\n",
    "    (92, \"Chicago\", 9833209),\n",
    "    (60, \"Chicago\", 5147582),\n",
    "    (8, \"Chicago\", 5274441),\n",
    "    (79, \"SanFrancisco\", 8372065),\n",
    "    (37, \"Chicago\", 7939595),\n",
    "    (53, \"LosAngeles\", 4965123),\n",
    "    (178, \"SanFrancisco\", 999207),\n",
    "    (51, \"NewYork\", 5951718),\n",
    "    (121, \"NewYork\", 2893760)\n",
    "]\n",
    "\n",
    "listings_columns_2987 = [\"listing_id\", \"city\", \"price\"]\n",
    "listings_df_2987 = spark.createDataFrame(listings_data_2987, listings_columns_2987)\n",
    "listings_df_2987.show()\n"
   ]
  }
 ],
 "metadata": {
  "application/vnd.databricks.v1+notebook": {
   "computePreferences": null,
   "dashboards": [],
   "environmentMetadata": {
    "base_environment": "",
    "environment_version": "1"
   },
   "inputWidgetPreferences": null,
   "language": "python",
   "notebookMetadata": {
    "pythonIndentUnit": 4
   },
   "notebookName": "2987. Find Expensive Cities (Easy)-(Solved)",
   "widgets": {}
  },
  "language_info": {
   "name": "python"
  }
 },
 "nbformat": 4,
 "nbformat_minor": 0
}
