{
 "cells": [
  {
   "cell_type": "markdown",
   "metadata": {
    "application/vnd.databricks.v1+cell": {
     "cellMetadata": {},
     "inputWidgets": {},
     "nuid": "e405a61e-83e0-4a83-8234-4a55e28c9c87",
     "showTitle": false,
     "tableResultSettingsMap": {},
     "title": ""
    }
   },
   "source": [
    "## Importing Libraries"
   ]
  },
  {
   "cell_type": "code",
   "execution_count": 0,
   "metadata": {
    "application/vnd.databricks.v1+cell": {
     "cellMetadata": {},
     "inputWidgets": {},
     "nuid": "bb35cd35-f82a-443f-90d7-d161591cdb61",
     "showTitle": false,
     "tableResultSettingsMap": {},
     "title": ""
    }
   },
   "outputs": [],
   "source": [
    "from pyspark.sql.functions import *\n",
    "from pyspark.sql.types import *\n",
    "from pyspark.sql.window import Window"
   ]
  },
  {
   "cell_type": "markdown",
   "metadata": {
    "application/vnd.databricks.v1+cell": {
     "cellMetadata": {},
     "inputWidgets": {},
     "nuid": "29ed3054-4879-4c88-8f36-f775ffecdfe0",
     "showTitle": false,
     "tableResultSettingsMap": {},
     "title": ""
    }
   },
   "source": [
    "**1949. Strong Friendship (Medium)**\n",
    "\n",
    "**Table: Friendship**\n",
    "\n",
    "| Column Name | Type |\n",
    "|-------------|------|\n",
    "| user1_id    | int  |\n",
    "| user2_id    | int  |\n",
    "\n",
    "(user1_id, user2_id) is the primary key (combination of columns with unique values) for this table.\n",
    "Each row of this table indicates that the users user1_id and user2_id are friends.\n",
    "Note that user1_id < user2_id.\n",
    " \n",
    "A friendship between a pair of friends x and y is strong if x and y have at least three common friends.\n",
    "\n",
    "**Write a solution to find all the strong friendships.**\n",
    "\n",
    "Note that the result table should not contain duplicates with user1_id < user2_id.\n",
    "\n",
    "Return the result table in any order.\n",
    "\n",
    "The result format is in the following example.\n",
    "\n",
    "**Example 1:**\n",
    "\n",
    "**Input:** \n",
    "\n",
    "**Friendship table:**\n",
    "\n",
    "| user1_id | user2_id |\n",
    "|----------|----------|\n",
    "| 1        | 2        |\n",
    "| 1        | 3        |\n",
    "| 2        | 3        |\n",
    "| 1        | 4        |\n",
    "| 2        | 4        |\n",
    "| 1        | 5        |\n",
    "| 2        | 5        |\n",
    "| 1        | 7        |\n",
    "| 3        | 7        |\n",
    "| 1        | 6        |\n",
    "| 3        | 6        |\n",
    "| 2        | 6        |\n",
    "\n",
    "**Output:** \n",
    "| user1_id | user2_id | common_friend |\n",
    "|----------|----------|---------------|\n",
    "| 1        | 2        | 4             |\n",
    "| 1        | 3        | 3             |\n",
    "\n",
    "**Explanation:** \n",
    "- Users 1 and 2 have 4 common friends (3, 4, 5, and 6).\n",
    "- Users 1 and 3 have 3 common friends (2, 6, and 7).\n",
    "\n",
    "We did not include the friendship of users 2 and 3 because they only have two common friends (1 and 6)."
   ]
  },
  {
   "cell_type": "code",
   "execution_count": 0,
   "metadata": {
    "application/vnd.databricks.v1+cell": {
     "cellMetadata": {},
     "inputWidgets": {},
     "nuid": "64a3f754-3c0a-4ca1-af02-4d6f736ea2e9",
     "showTitle": false,
     "tableResultSettingsMap": {},
     "title": ""
    }
   },
   "outputs": [],
   "source": [
    "friendship_data_1949 = [\n",
    "    (1, 2), (1, 3), (2, 3), (1, 4), (2, 4),\n",
    "    (1, 5), (2, 5), (1, 7), (3, 7), (1, 6),\n",
    "    (3, 6), (2, 6)\n",
    "]\n",
    "\n",
    "friendship_columns_1949 = [\"user1_id\", \"user2_id\"]\n",
    "friendship_df_1949 = spark.createDataFrame(friendship_data_1949, friendship_columns_1949)\n",
    "friendship_df_1949.show()"
   ]
  }
 ],
 "metadata": {
  "application/vnd.databricks.v1+notebook": {
   "computePreferences": null,
   "dashboards": [],
   "environmentMetadata": {
    "base_environment": "",
    "environment_version": "1"
   },
   "inputWidgetPreferences": null,
   "language": "python",
   "notebookMetadata": {
    "pythonIndentUnit": 4
   },
   "notebookName": "1949. Strong Friendship (Medium)-(Solved)",
   "widgets": {}
  },
  "language_info": {
   "name": "python"
  }
 },
 "nbformat": 4,
 "nbformat_minor": 0
}
