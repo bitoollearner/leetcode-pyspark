{
 "cells": [
  {
   "cell_type": "markdown",
   "metadata": {
    "application/vnd.databricks.v1+cell": {
     "cellMetadata": {
      "byteLimit": 2048000,
      "rowLimit": 10000
     },
     "inputWidgets": {},
     "nuid": "4e9d71b1-88e9-445c-820a-b842e217a4e7",
     "showTitle": false,
     "tableResultSettingsMap": {},
     "title": ""
    }
   },
   "source": [
    "## Importing Libraries"
   ]
  },
  {
   "cell_type": "code",
   "execution_count": 0,
   "metadata": {
    "application/vnd.databricks.v1+cell": {
     "cellMetadata": {
      "byteLimit": 2048000,
      "rowLimit": 10000
     },
     "inputWidgets": {},
     "nuid": "e6624c4d-8cb8-4ac4-8c72-81d1b4ecdb57",
     "showTitle": false,
     "tableResultSettingsMap": {},
     "title": ""
    }
   },
   "outputs": [],
   "source": [
    "from pyspark.sql.functions import *\n",
    "from pyspark.sql.types import *\n",
    "from pyspark.sql.window import Window"
   ]
  },
  {
   "cell_type": "markdown",
   "metadata": {
    "application/vnd.databricks.v1+cell": {
     "cellMetadata": {
      "byteLimit": 2048000,
      "rowLimit": 10000
     },
     "inputWidgets": {},
     "nuid": "c3788fe5-f4c9-420f-ad72-ec1a39310a2a",
     "showTitle": false,
     "tableResultSettingsMap": {},
     "title": ""
    }
   },
   "source": [
    "**3052. Maximize Items (Hard)**\n",
    "\n",
    "**Table: Inventory**\n",
    "\n",
    "| Column Name    | Type    | \n",
    "|----------------|---------| \n",
    "| item_id        | int     | \n",
    "| item_type      | varchar |\n",
    "| item_category  | varchar |\n",
    "| square_footage | decimal |\n",
    "\n",
    "item_id is the column of unique values for this table.\n",
    "Each row includes item id, item type, item category and sqaure footage.\n",
    "\n",
    "Leetcode warehouse wants to maximize the number of items it can stock in a 500,000 square feet warehouse. It wants to stock as many prime items as possible, and afterwards use the remaining square footage to stock the most number of non-prime items.\n",
    "\n",
    "**Write a solution to find the number of prime and non-prime items that can be stored in the 500,000 square feet warehouse. Output the item type with prime_eligible followed by not_prime and the maximum number of items that can be stocked.**\n",
    "\n",
    "**Note:**\n",
    "- Item count must be a whole number (integer).\n",
    "- If the count for the not_prime category is 0, you should output 0 for that particular category.\n",
    "\n",
    "Return the result table ordered by item count in descending order.\n",
    "\n",
    "The result format is in the following example.\n",
    "\n",
    "**Example 1:**\n",
    "\n",
    "**Input:**\n",
    "\n",
    "**Inventory table:**\n",
    "\n",
    "| item_id | item_type      | item_category | square_footage | \n",
    "|---------|----------------|---------------|----------------|\n",
    "| 1374    | prime_eligible | Watches       | 68.00          | \n",
    "| 4245    | not_prime      | Art           | 26.40          | \n",
    "| 5743    | prime_eligible | Software      | 325.00         | \n",
    "| 8543    | not_prime      | Clothing      | 64.50          |  \n",
    "| 2556    | not_prime      | Shoes         | 15.00          |\n",
    "| 2452    | prime_eligible | Scientific    | 85.00          |\n",
    "| 3255    | not_prime      | Furniture     | 22.60          | \n",
    "| 1672    | prime_eligible | Beauty        | 8.50           |  \n",
    "| 4256    | prime_eligible | Furniture     | 55.50          |\n",
    "| 6325    | prime_eligible | Food          | 13.20          | \n",
    "\n",
    "**Output:**\n",
    "| item_type      | item_count  | \n",
    "|----------------|-------------|\n",
    "| prime_eligible | 5400        | \n",
    "| not_prime      | 8           | \n",
    "\n",
    "**Explanation:** \n",
    "- The prime-eligible category comprises a total of 6 items, amounting to a combined square footage of 555.20 (68 + 325 + 85 + 8.50 + 55.50 + 13.20). It is possible to store 900 combinations of these 6 items, totaling 5400 items and occupying 499,680 square footage.\n",
    "- In the not_prime category, there are a total of 4 items with a combined square footage of 128.50. After deducting the storage used by prime-eligible items (500,000 - 499,680 = 320), there is room for 2 combinations of non-prime items, accommodating a total of 8 non-prime items within the available 320 square footage.\n",
    "\n",
    "Output table is ordered by item count in descending order."
   ]
  },
  {
   "cell_type": "code",
   "execution_count": 0,
   "metadata": {
    "application/vnd.databricks.v1+cell": {
     "cellMetadata": {
      "byteLimit": 2048000,
      "rowLimit": 10000
     },
     "inputWidgets": {},
     "nuid": "137536ea-9bec-4171-8dc2-4bf8b0d771b4",
     "showTitle": false,
     "tableResultSettingsMap": {},
     "title": ""
    }
   },
   "outputs": [
    {
     "output_type": "stream",
     "name": "stdout",
     "output_type": "stream",
     "text": [
      "+-------+--------------+-------------+--------------+\n|item_id|     item_type|item_category|square_footage|\n+-------+--------------+-------------+--------------+\n|   1374|prime_eligible|      Watches|          68.0|\n|   4245|     not_prime|          Art|          26.4|\n|   5743|prime_eligible|     Software|         325.0|\n|   8543|     not_prime|     Clothing|          64.5|\n|   2556|     not_prime|        Shoes|          15.0|\n|   2452|prime_eligible|   Scientific|          85.0|\n|   3255|     not_prime|    Furniture|          22.6|\n|   1672|prime_eligible|       Beauty|           8.5|\n|   4256|prime_eligible|    Furniture|          55.5|\n|   6325|prime_eligible|         Food|          13.2|\n+-------+--------------+-------------+--------------+\n\n"
     ]
    }
   ],
   "source": [
    "inventory_data_3052 = [\n",
    "    (1374, \"prime_eligible\", \"Watches\", 68.00),\n",
    "    (4245, \"not_prime\", \"Art\", 26.40),\n",
    "    (5743, \"prime_eligible\", \"Software\", 325.00),\n",
    "    (8543, \"not_prime\", \"Clothing\", 64.50),\n",
    "    (2556, \"not_prime\", \"Shoes\", 15.00),\n",
    "    (2452, \"prime_eligible\", \"Scientific\", 85.00),\n",
    "    (3255, \"not_prime\", \"Furniture\", 22.60),\n",
    "    (1672, \"prime_eligible\", \"Beauty\", 8.50),\n",
    "    (4256, \"prime_eligible\", \"Furniture\", 55.50),\n",
    "    (6325, \"prime_eligible\", \"Food\", 13.20),\n",
    "]\n",
    "\n",
    "inventory_columns_3052 = [\"item_id\", \"item_type\", \"item_category\", \"square_footage\"]\n",
    "inventory_df_3052 = spark.createDataFrame(inventory_data_3052, inventory_columns_3052)\n",
    "inventory_df_3052.show()"
   ]
  },
  {
   "cell_type": "code",
   "execution_count": 0,
   "metadata": {
    "application/vnd.databricks.v1+cell": {
     "cellMetadata": {
      "byteLimit": 2048000,
      "rowLimit": 10000
     },
     "inputWidgets": {},
     "nuid": "42005a11-4e25-44bb-953a-56e7682fccf4",
     "showTitle": false,
     "tableResultSettingsMap": {},
     "title": ""
    }
   },
   "outputs": [],
   "source": [
    "total_capacity = 500000"
   ]
  },
  {
   "cell_type": "code",
   "execution_count": 0,
   "metadata": {
    "application/vnd.databricks.v1+cell": {
     "cellMetadata": {
      "byteLimit": 2048000,
      "rowLimit": 10000
     },
     "inputWidgets": {},
     "nuid": "c8fc2a12-013a-458b-ba06-6fe2297fe2e4",
     "showTitle": false,
     "tableResultSettingsMap": {},
     "title": ""
    }
   },
   "outputs": [],
   "source": [
    "summary_df_3052 = inventory_df_3052\\\n",
    "                        .groupBy(\"item_type\") \\\n",
    "                            .agg(\n",
    "                                sum(\"square_footage\").alias(\"total_sq_ft\"),\n",
    "                                count(\"item_id\").alias(\"num_items\")\n",
    "                                )"
   ]
  },
  {
   "cell_type": "code",
   "execution_count": 0,
   "metadata": {
    "application/vnd.databricks.v1+cell": {
     "cellMetadata": {
      "byteLimit": 2048000,
      "rowLimit": 10000
     },
     "inputWidgets": {},
     "nuid": "6d31a769-bf1d-4ddd-a7bf-d663f3fc1bb1",
     "showTitle": false,
     "tableResultSettingsMap": {},
     "title": ""
    }
   },
   "outputs": [],
   "source": [
    "prime_row = summary_df_3052\\\n",
    "                .filter(col(\"item_type\") == \"prime_eligible\").collect()[0]"
   ]
  },
  {
   "cell_type": "code",
   "execution_count": 0,
   "metadata": {
    "application/vnd.databricks.v1+cell": {
     "cellMetadata": {
      "byteLimit": 2048000,
      "rowLimit": 10000
     },
     "inputWidgets": {},
     "nuid": "6ef535b1-d5c9-4e92-a258-0ba737bd8a54",
     "showTitle": false,
     "tableResultSettingsMap": {},
     "title": ""
    }
   },
   "outputs": [],
   "source": [
    "prime_max = int((total_capacity // prime_row[\"total_sq_ft\"]) * prime_row[\"num_items\"])"
   ]
  },
  {
   "cell_type": "code",
   "execution_count": 0,
   "metadata": {
    "application/vnd.databricks.v1+cell": {
     "cellMetadata": {
      "byteLimit": 2048000,
      "rowLimit": 10000
     },
     "inputWidgets": {},
     "nuid": "0b606045-9987-4c8e-b226-ee7fb57ae286",
     "showTitle": false,
     "tableResultSettingsMap": {},
     "title": ""
    }
   },
   "outputs": [],
   "source": [
    "remaining_capacity = total_capacity - (prime_max * prime_row[\"total_sq_ft\"] / prime_row[\"num_items\"])"
   ]
  },
  {
   "cell_type": "code",
   "execution_count": 0,
   "metadata": {
    "application/vnd.databricks.v1+cell": {
     "cellMetadata": {
      "byteLimit": 2048000,
      "rowLimit": 10000
     },
     "inputWidgets": {},
     "nuid": "49d5a6ba-f6f7-4294-b430-a3f348b636b3",
     "showTitle": false,
     "tableResultSettingsMap": {},
     "title": ""
    }
   },
   "outputs": [],
   "source": [
    "non_prime_row = summary_df_3052.filter(col(\"item_type\") == \"not_prime\").collect()[0]"
   ]
  },
  {
   "cell_type": "code",
   "execution_count": 0,
   "metadata": {
    "application/vnd.databricks.v1+cell": {
     "cellMetadata": {
      "byteLimit": 2048000,
      "rowLimit": 10000
     },
     "inputWidgets": {},
     "nuid": "eb9b5e71-01ad-4c6b-bd37-2492963a127f",
     "showTitle": false,
     "tableResultSettingsMap": {},
     "title": ""
    }
   },
   "outputs": [],
   "source": [
    "if remaining_capacity > 0:\n",
    "    non_prime_max = int((remaining_capacity // non_prime_row[\"total_sq_ft\"]) * non_prime_row[\"num_items\"])\n",
    "else:\n",
    "    non_prime_max = 0"
   ]
  },
  {
   "cell_type": "code",
   "execution_count": 0,
   "metadata": {
    "application/vnd.databricks.v1+cell": {
     "cellMetadata": {
      "byteLimit": 2048000,
      "rowLimit": 10000
     },
     "inputWidgets": {},
     "nuid": "9e45f851-46a1-4a70-be24-ffdec7a4dcf8",
     "showTitle": false,
     "tableResultSettingsMap": {},
     "title": ""
    }
   },
   "outputs": [],
   "source": [
    "result_data = [\n",
    "    (\"prime_eligible\", prime_max),\n",
    "    (\"not_prime\", non_prime_max)\n",
    "]"
   ]
  },
  {
   "cell_type": "code",
   "execution_count": 0,
   "metadata": {
    "application/vnd.databricks.v1+cell": {
     "cellMetadata": {
      "byteLimit": 2048000,
      "rowLimit": 10000
     },
     "inputWidgets": {},
     "nuid": "aafc60e6-d594-491c-bd16-5bf4e52b43b8",
     "showTitle": false,
     "tableResultSettingsMap": {},
     "title": ""
    }
   },
   "outputs": [],
   "source": [
    "result_df = spark.createDataFrame(result_data, [\"item_type\", \"item_count\"]) \\\n",
    "                 .orderBy(col(\"item_count\").desc())"
   ]
  },
  {
   "cell_type": "code",
   "execution_count": 0,
   "metadata": {
    "application/vnd.databricks.v1+cell": {
     "cellMetadata": {
      "byteLimit": 2048000,
      "rowLimit": 10000
     },
     "inputWidgets": {},
     "nuid": "4bd927ac-e1c7-4834-b156-8834a07bf67d",
     "showTitle": false,
     "tableResultSettingsMap": {},
     "title": ""
    }
   },
   "outputs": [
    {
     "output_type": "display_data",
     "data": {
      "text/html": [
       "<style scoped>\n",
       "  .table-result-container {\n",
       "    max-height: 300px;\n",
       "    overflow: auto;\n",
       "  }\n",
       "  table, th, td {\n",
       "    border: 1px solid black;\n",
       "    border-collapse: collapse;\n",
       "  }\n",
       "  th, td {\n",
       "    padding: 5px;\n",
       "  }\n",
       "  th {\n",
       "    text-align: left;\n",
       "  }\n",
       "</style><div class='table-result-container'><table class='table-result'><thead style='background-color: white'><tr><th>item_type</th><th>item_count</th></tr></thead><tbody><tr><td>prime_eligible</td><td>5400</td></tr><tr><td>not_prime</td><td>8</td></tr></tbody></table></div>"
      ]
     },
     "metadata": {
      "application/vnd.databricks.v1+output": {
       "addedWidgets": {},
       "aggData": [],
       "aggError": "",
       "aggOverflow": false,
       "aggSchema": [],
       "aggSeriesLimitReached": false,
       "aggType": "",
       "arguments": {},
       "columnCustomDisplayInfos": {},
       "data": [
        [
         "prime_eligible",
         5400
        ],
        [
         "not_prime",
         8
        ]
       ],
       "datasetInfos": [],
       "dbfsResultPath": null,
       "isJsonSchema": true,
       "metadata": {},
       "overflow": false,
       "plotOptions": {
        "customPlotOptions": {},
        "displayType": "table",
        "pivotAggregation": null,
        "pivotColumns": null,
        "xColumns": null,
        "yColumns": null
       },
       "removedWidgets": [],
       "schema": [
        {
         "metadata": "{}",
         "name": "item_type",
         "type": "\"string\""
        },
        {
         "metadata": "{}",
         "name": "item_count",
         "type": "\"long\""
        }
       ],
       "type": "table"
      }
     },
     "output_type": "display_data"
    }
   ],
   "source": [
    "result_df.display()"
   ]
  }
 ],
 "metadata": {
  "application/vnd.databricks.v1+notebook": {
   "computePreferences": {
    "hardware": {
     "accelerator": null,
     "gpuPoolId": null,
     "memory": null
    }
   },
   "dashboards": [],
   "environmentMetadata": {
    "base_environment": "",
    "environment_version": "2"
   },
   "inputWidgetPreferences": null,
   "language": "python",
   "notebookMetadata": {
    "pythonIndentUnit": 4
   },
   "notebookName": "3052. Maximize Items (Hard)-(Solved)",
   "widgets": {}
  },
  "language_info": {
   "name": "python"
  }
 },
 "nbformat": 4,
 "nbformat_minor": 0
}
