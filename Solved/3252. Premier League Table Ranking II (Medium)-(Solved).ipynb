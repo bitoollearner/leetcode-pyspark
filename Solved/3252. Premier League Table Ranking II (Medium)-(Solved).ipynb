{
 "cells": [
  {
   "cell_type": "markdown",
   "metadata": {
    "application/vnd.databricks.v1+cell": {
     "cellMetadata": {
      "byteLimit": 2048000,
      "rowLimit": 10000
     },
     "inputWidgets": {},
     "nuid": "7d1791bd-9552-4116-90b2-daa678bbffb8",
     "showTitle": false,
     "tableResultSettingsMap": {},
     "title": ""
    }
   },
   "source": [
    "## Importing Libraries"
   ]
  },
  {
   "cell_type": "code",
   "execution_count": 0,
   "metadata": {
    "application/vnd.databricks.v1+cell": {
     "cellMetadata": {
      "byteLimit": 2048000,
      "rowLimit": 10000
     },
     "inputWidgets": {},
     "nuid": "2901fbc9-49db-4285-8b94-c460f34d4c4f",
     "showTitle": false,
     "tableResultSettingsMap": {},
     "title": ""
    }
   },
   "outputs": [],
   "source": [
    "from pyspark.sql.functions import *\n",
    "from pyspark.sql.types import *\n",
    "from pyspark.sql.window import Window"
   ]
  },
  {
   "cell_type": "markdown",
   "metadata": {
    "application/vnd.databricks.v1+cell": {
     "cellMetadata": {
      "byteLimit": 2048000,
      "rowLimit": 10000
     },
     "inputWidgets": {},
     "nuid": "655120e7-6b25-417c-a08a-c6925feaa425",
     "showTitle": false,
     "tableResultSettingsMap": {},
     "title": ""
    }
   },
   "source": [
    "**3252. Premier League Table Ranking II (Medium)**\n",
    "\n",
    "**Table: TeamStats**\n",
    "\n",
    "| Column Name      | Type    |\n",
    "|------------------|---------|\n",
    "| team_id          | int     |\n",
    "| team_name        | varchar |\n",
    "| matches_played   | int     |\n",
    "| wins             | int     |\n",
    "| draws            | int     |\n",
    "| losses           | int     |\n",
    "\n",
    "team_id is the unique key for this table.\n",
    "This table contains team id, team name, matches_played, wins, draws, and losses.\n",
    "\n",
    "**Write a solution to calculate the points, position, and tier for each team in the league. Points are calculated as follows:**\n",
    "\n",
    "- 3 points for a **win**\n",
    "- 1 point for a **draw**\n",
    "- 0 points for a **loss**\n",
    "\n",
    "**Note:** Teams with the same points must be assigned the same position.\n",
    "\n",
    "**Tier ranking:**\n",
    "\n",
    "- Divide the league into 3 tiers based on points:\n",
    "- Tier 1: Top 33% of teams\n",
    "- Tier 2: Middle 33% of teams\n",
    "- Tier 3: Bottom 34% of teams\n",
    "- In case of ties at tier boundaries, place tied teams in the higher tier.\n",
    "\n",
    "Return the result table ordered by points in descending, and then by team_name in ascending order.\n",
    "\n",
    "The query result format is in the following example.\n",
    "\n",
    "**Example:**\n",
    "\n",
    "**Input:**\n",
    "\n",
    "**TeamStats table:**\n",
    "\n",
    "| team_id | team_name         | matches_played | wins | draws | losses |\n",
    "|---------|-------------------|----------------|------|-------|--------|\n",
    "| 1       | Chelsea           | 22             | 13   | 2     | 7      |\n",
    "| 2       | Nottingham Forest | 27             | 6    | 6     | 15     |\n",
    "| 3       | Liverpool         | 17             | 1    | 8     | 8      |\n",
    "| 4       | Aston Villa       | 20             | 1    | 6     | 13     |\n",
    "| 5       | Fulham            | 31             | 18   | 1     | 12     |\n",
    "| 6       | Burnley           | 26             | 6    | 9     | 11     |\n",
    "| 7       | Newcastle United  | 33             | 11   | 10    | 12     |\n",
    "| 8       | Sheffield United  | 20             | 18   | 2     | 0      |\n",
    "| 9       | Luton Town        | 5              | 4    | 0     | 1      |\n",
    "| 10      | Everton           | 14             | 2    | 6     | 6      |\n",
    "\n",
    "\n",
    "**Output:**\n",
    "\n",
    "| team_name         | points | position | tier    |\n",
    "|-------------------|--------|----------|---------|\n",
    "| Sheffield United  | 56     | 1        | Tier 1  |\n",
    "| Fulham            | 55     | 2        | Tier 1  |\n",
    "| Newcastle United  | 43     | 3        | Tier 1  |\n",
    "| Chelsea           | 41     | 4        | Tier 1  |\n",
    "| Burnley           | 27     | 5        | Tier 2  |\n",
    "| Nottingham Forest | 24     | 6        | Tier 2  |\n",
    "| Everton           | 12     | 7        | Tier 2  |\n",
    "| Luton Town        | 12     | 7        | Tier 2  |\n",
    "| Liverpool         | 11     | 9        | Tier 3  |\n",
    "| Aston Villa       | 9      | 10       | Tier 3  |\n",
    "\n",
    "**Explanation:**\n",
    "- Sheffield United has 56 points (18 wins * 3 points + 2 draws * 1 point) and is in position 1.\n",
    "- Fulham has 55 points (18 wins * 3 points + 1 draw * 1 point) and is in position 2.\n",
    "- Newcastle United has 43 points (11 wins * 3 points + 10 draws * 1 point) and is in position 3.\n",
    "- Chelsea has 41 points (13 wins * 3 points + 2 draws * 1 point) and is in position 4.\n",
    "- Burnley has 27 points (6 wins * 3 points + 9 draws * 1 point) and is in position 5.\n",
    "- Nottingham Forest has 24 points (6 wins * 3 points + 6 draws * 1 point) and is in position 6.\n",
    "- Everton and Luton Town both have 12 points, with Everton having 2 wins * 3 points + 6 draws * 1 point, and Luton Town having 4 wins * 3 points. Both teams share position 7.\n",
    "- Liverpool has 11 points (1 win * 3 points + 8 draws * 1 point) and is in position 9.\n",
    "- Aston Villa has 9 points (1 win * 3 points + 6 draws * 1 point) and is in position 10.\n",
    "\n",
    "**Tier Calculation:**\n",
    "- **Tier 1:** The top 33% of teams based on points. Sheffield United, Fulham, Newcastle United, and Chelsea fall into Tier 1.\n",
    "- **Tier 2:** The middle 33% of teams. Burnley, Nottingham Forest, Everton, and Luton Town fall into Tier 2.\n",
    "- **Tier 3:** The bottom 34% of teams. Liverpool and Aston Villa fall into Tier 3."
   ]
  },
  {
   "cell_type": "code",
   "execution_count": 0,
   "metadata": {
    "application/vnd.databricks.v1+cell": {
     "cellMetadata": {
      "byteLimit": 2048000,
      "rowLimit": 10000
     },
     "inputWidgets": {},
     "nuid": "a2368434-0191-416c-aa1d-12cd44cf48e6",
     "showTitle": false,
     "tableResultSettingsMap": {},
     "title": ""
    }
   },
   "outputs": [
    {
     "output_type": "stream",
     "name": "stdout",
     "output_type": "stream",
     "text": [
      "+-------+-----------------+--------------+----+-----+------+\n|team_id|        team_name|matches_played|wins|draws|losses|\n+-------+-----------------+--------------+----+-----+------+\n|      1|          Chelsea|            22|  13|    2|     7|\n|      2|Nottingham Forest|            27|   6|    6|    15|\n|      3|        Liverpool|            17|   1|    8|     8|\n|      4|      Aston Villa|            20|   1|    6|    13|\n|      5|           Fulham|            31|  18|    1|    12|\n|      6|          Burnley|            26|   6|    9|    11|\n|      7| Newcastle United|            33|  11|   10|    12|\n|      8| Sheffield United|            20|  18|    2|     0|\n|      9|       Luton Town|             5|   4|    0|     1|\n|     10|          Everton|            14|   2|    6|     6|\n+-------+-----------------+--------------+----+-----+------+\n\n"
     ]
    }
   ],
   "source": [
    "team_data_3252 = [\n",
    "    (1, \"Chelsea\", 22, 13, 2, 7),\n",
    "    (2, \"Nottingham Forest\", 27, 6, 6, 15),\n",
    "    (3, \"Liverpool\", 17, 1, 8, 8),\n",
    "    (4, \"Aston Villa\", 20, 1, 6, 13),\n",
    "    (5, \"Fulham\", 31, 18, 1, 12),\n",
    "    (6, \"Burnley\", 26, 6, 9, 11),\n",
    "    (7, \"Newcastle United\", 33, 11, 10, 12),\n",
    "    (8, \"Sheffield United\", 20, 18, 2, 0),\n",
    "    (9, \"Luton Town\", 5, 4, 0, 1),\n",
    "    (10, \"Everton\", 14, 2, 6, 6)\n",
    "]\n",
    "\n",
    "team_columns_3252 = [\"team_id\", \"team_name\", \"matches_played\", \"wins\", \"draws\", \"losses\"]\n",
    "team_df_3252 = spark.createDataFrame(team_data_3252, team_columns_3252)\n",
    "team_df_3252.show()"
   ]
  },
  {
   "cell_type": "code",
   "execution_count": 0,
   "metadata": {
    "application/vnd.databricks.v1+cell": {
     "cellMetadata": {
      "byteLimit": 2048000,
      "rowLimit": 10000
     },
     "inputWidgets": {},
     "nuid": "5901e562-b093-47e4-9d92-97fb2925d9bb",
     "showTitle": false,
     "tableResultSettingsMap": {},
     "title": ""
    }
   },
   "outputs": [],
   "source": [
    "team_points_3252 = team_df_3252\\\n",
    "                        .withColumn(\"points\", col(\"wins\") * 3 + col(\"draws\"))"
   ]
  },
  {
   "cell_type": "code",
   "execution_count": 0,
   "metadata": {
    "application/vnd.databricks.v1+cell": {
     "cellMetadata": {
      "byteLimit": 2048000,
      "rowLimit": 10000
     },
     "inputWidgets": {},
     "nuid": "ef7aa00a-f945-45ce-af1f-07fde19bd97b",
     "showTitle": false,
     "tableResultSettingsMap": {},
     "title": ""
    }
   },
   "outputs": [],
   "source": [
    "window_spec = Window.orderBy(col(\"points\").desc(), col(\"team_name\").asc())"
   ]
  },
  {
   "cell_type": "code",
   "execution_count": 0,
   "metadata": {
    "application/vnd.databricks.v1+cell": {
     "cellMetadata": {
      "byteLimit": 2048000,
      "rowLimit": 10000
     },
     "inputWidgets": {},
     "nuid": "3033637a-a3d1-4018-a9c4-2fe8367863b1",
     "showTitle": false,
     "tableResultSettingsMap": {},
     "title": ""
    }
   },
   "outputs": [
    {
     "output_type": "stream",
     "name": "stderr",
     "output_type": "stream",
     "text": [
      "/databricks/python/lib/python3.11/site-packages/pyspark/sql/connect/expressions.py:1017: UserWarning: WARN WindowExpression: No Partition Defined for Window operation! Moving all data to a single partition, this can cause serious performance degradation.\n  warnings.warn(\n"
     ]
    }
   ],
   "source": [
    "team_ranked_3252 = team_points_3252\\\n",
    "                        .withColumn(\"position\", rank().over(window_spec))"
   ]
  },
  {
   "cell_type": "code",
   "execution_count": 0,
   "metadata": {
    "application/vnd.databricks.v1+cell": {
     "cellMetadata": {
      "byteLimit": 2048000,
      "rowLimit": 10000
     },
     "inputWidgets": {},
     "nuid": "f303f003-c089-45ef-b526-592738016972",
     "showTitle": false,
     "tableResultSettingsMap": {},
     "title": ""
    }
   },
   "outputs": [],
   "source": [
    "total_teams = team_df_3252.count()\n",
    "tier1_limit = int(total_teams * 0.33)\n",
    "tier2_limit = int(total_teams * 0.66)"
   ]
  },
  {
   "cell_type": "code",
   "execution_count": 0,
   "metadata": {
    "application/vnd.databricks.v1+cell": {
     "cellMetadata": {
      "byteLimit": 2048000,
      "rowLimit": 10000
     },
     "inputWidgets": {},
     "nuid": "71172861-940c-412d-83bc-2e05efcc3727",
     "showTitle": false,
     "tableResultSettingsMap": {},
     "title": ""
    }
   },
   "outputs": [
    {
     "output_type": "stream",
     "name": "stderr",
     "output_type": "stream",
     "text": [
      "/databricks/python/lib/python3.11/site-packages/pyspark/sql/connect/expressions.py:1017: UserWarning: WARN WindowExpression: No Partition Defined for Window operation! Moving all data to a single partition, this can cause serious performance degradation.\n  warnings.warn(\n"
     ]
    }
   ],
   "source": [
    "team_ranked_row_3252 = team_ranked_3252\\\n",
    "                            .withColumn(\"row_num\", row_number().over(window_spec))"
   ]
  },
  {
   "cell_type": "code",
   "execution_count": 0,
   "metadata": {
    "application/vnd.databricks.v1+cell": {
     "cellMetadata": {
      "byteLimit": 2048000,
      "rowLimit": 10000
     },
     "inputWidgets": {},
     "nuid": "b6824da5-2832-4c3c-97bb-25afa2d048c7",
     "showTitle": false,
     "tableResultSettingsMap": {},
     "title": ""
    }
   },
   "outputs": [
    {
     "output_type": "stream",
     "name": "stderr",
     "output_type": "stream",
     "text": [
      "/databricks/python/lib/python3.11/site-packages/pyspark/sql/connect/expressions.py:1017: UserWarning: WARN WindowExpression: No Partition Defined for Window operation! Moving all data to a single partition, this can cause serious performance degradation.\n  warnings.warn(\n"
     ]
    }
   ],
   "source": [
    "team_with_tier_3252 = team_ranked_row_3252\\\n",
    "                            .withColumn(\"tier\",\n",
    "                                        when(col(\"row_num\") <= tier1_limit, \"Tier 1\")\n",
    "                                        .when(col(\"row_num\") <= tier2_limit, \"Tier 2\")\n",
    "                                        .otherwise(\"Tier 3\")\n",
    "                                        )"
   ]
  },
  {
   "cell_type": "code",
   "execution_count": 0,
   "metadata": {
    "application/vnd.databricks.v1+cell": {
     "cellMetadata": {
      "byteLimit": 2048000,
      "rowLimit": 10000
     },
     "inputWidgets": {},
     "nuid": "19cd098c-4ed4-450e-a36b-32deabea5db9",
     "showTitle": false,
     "tableResultSettingsMap": {},
     "title": ""
    }
   },
   "outputs": [
    {
     "output_type": "stream",
     "name": "stderr",
     "output_type": "stream",
     "text": [
      "/databricks/python/lib/python3.11/site-packages/pyspark/sql/connect/expressions.py:1017: UserWarning: WARN WindowExpression: No Partition Defined for Window operation! Moving all data to a single partition, this can cause serious performance degradation.\n  warnings.warn(\n"
     ]
    },
    {
     "output_type": "display_data",
     "data": {
      "text/html": [
       "<style scoped>\n",
       "  .table-result-container {\n",
       "    max-height: 300px;\n",
       "    overflow: auto;\n",
       "  }\n",
       "  table, th, td {\n",
       "    border: 1px solid black;\n",
       "    border-collapse: collapse;\n",
       "  }\n",
       "  th, td {\n",
       "    padding: 5px;\n",
       "  }\n",
       "  th {\n",
       "    text-align: left;\n",
       "  }\n",
       "</style><div class='table-result-container'><table class='table-result'><thead style='background-color: white'><tr><th>team_name</th><th>points</th><th>position</th><th>tier</th></tr></thead><tbody><tr><td>Sheffield United</td><td>56</td><td>1</td><td>Tier 1</td></tr><tr><td>Fulham</td><td>55</td><td>2</td><td>Tier 1</td></tr><tr><td>Newcastle United</td><td>43</td><td>3</td><td>Tier 1</td></tr><tr><td>Chelsea</td><td>41</td><td>4</td><td>Tier 2</td></tr><tr><td>Burnley</td><td>27</td><td>5</td><td>Tier 2</td></tr><tr><td>Nottingham Forest</td><td>24</td><td>6</td><td>Tier 2</td></tr><tr><td>Everton</td><td>12</td><td>7</td><td>Tier 3</td></tr><tr><td>Luton Town</td><td>12</td><td>8</td><td>Tier 3</td></tr><tr><td>Liverpool</td><td>11</td><td>9</td><td>Tier 3</td></tr><tr><td>Aston Villa</td><td>9</td><td>10</td><td>Tier 3</td></tr></tbody></table></div>"
      ]
     },
     "metadata": {
      "application/vnd.databricks.v1+output": {
       "addedWidgets": {},
       "aggData": [],
       "aggError": "",
       "aggOverflow": false,
       "aggSchema": [],
       "aggSeriesLimitReached": false,
       "aggType": "",
       "arguments": {},
       "columnCustomDisplayInfos": {},
       "data": [
        [
         "Sheffield United",
         56,
         1,
         "Tier 1"
        ],
        [
         "Fulham",
         55,
         2,
         "Tier 1"
        ],
        [
         "Newcastle United",
         43,
         3,
         "Tier 1"
        ],
        [
         "Chelsea",
         41,
         4,
         "Tier 2"
        ],
        [
         "Burnley",
         27,
         5,
         "Tier 2"
        ],
        [
         "Nottingham Forest",
         24,
         6,
         "Tier 2"
        ],
        [
         "Everton",
         12,
         7,
         "Tier 3"
        ],
        [
         "Luton Town",
         12,
         8,
         "Tier 3"
        ],
        [
         "Liverpool",
         11,
         9,
         "Tier 3"
        ],
        [
         "Aston Villa",
         9,
         10,
         "Tier 3"
        ]
       ],
       "datasetInfos": [],
       "dbfsResultPath": null,
       "isJsonSchema": true,
       "metadata": {},
       "overflow": false,
       "plotOptions": {
        "customPlotOptions": {},
        "displayType": "table",
        "pivotAggregation": null,
        "pivotColumns": null,
        "xColumns": null,
        "yColumns": null
       },
       "removedWidgets": [],
       "schema": [
        {
         "metadata": "{}",
         "name": "team_name",
         "type": "\"string\""
        },
        {
         "metadata": "{}",
         "name": "points",
         "type": "\"long\""
        },
        {
         "metadata": "{}",
         "name": "position",
         "type": "\"integer\""
        },
        {
         "metadata": "{}",
         "name": "tier",
         "type": "\"string\""
        }
       ],
       "type": "table"
      }
     },
     "output_type": "display_data"
    }
   ],
   "source": [
    "team_with_tier_3252\\\n",
    "    .select(\"team_name\", \"points\", \"position\", \"tier\")\\\n",
    "        .orderBy(col(\"points\").desc(), col(\"team_name\").asc()).display()"
   ]
  }
 ],
 "metadata": {
  "application/vnd.databricks.v1+notebook": {
   "computePreferences": {
    "hardware": {
     "accelerator": null,
     "gpuPoolId": null,
     "memory": null
    }
   },
   "dashboards": [],
   "environmentMetadata": {
    "base_environment": "",
    "environment_version": "2"
   },
   "inputWidgetPreferences": null,
   "language": "python",
   "notebookMetadata": {
    "pythonIndentUnit": 4
   },
   "notebookName": "3252. Premier League Table Ranking II (Medium)-(Solved)",
   "widgets": {}
  },
  "language_info": {
   "name": "python"
  }
 },
 "nbformat": 4,
 "nbformat_minor": 0
}
