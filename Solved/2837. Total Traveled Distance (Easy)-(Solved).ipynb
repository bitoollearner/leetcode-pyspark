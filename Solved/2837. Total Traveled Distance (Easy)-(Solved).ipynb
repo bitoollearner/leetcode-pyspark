{
 "cells": [
  {
   "cell_type": "markdown",
   "metadata": {
    "application/vnd.databricks.v1+cell": {
     "cellMetadata": {
      "byteLimit": 2048000,
      "rowLimit": 10000
     },
     "inputWidgets": {},
     "nuid": "4e9d71b1-88e9-445c-820a-b842e217a4e7",
     "showTitle": false,
     "tableResultSettingsMap": {},
     "title": ""
    }
   },
   "source": [
    "## Importing Libraries"
   ]
  },
  {
   "cell_type": "code",
   "execution_count": 0,
   "metadata": {
    "application/vnd.databricks.v1+cell": {
     "cellMetadata": {
      "byteLimit": 2048000,
      "rowLimit": 10000
     },
     "inputWidgets": {},
     "nuid": "e6624c4d-8cb8-4ac4-8c72-81d1b4ecdb57",
     "showTitle": false,
     "tableResultSettingsMap": {},
     "title": ""
    }
   },
   "outputs": [],
   "source": [
    "from pyspark.sql.functions import *\n",
    "from pyspark.sql.types import *\n",
    "from pyspark.sql.window import Window"
   ]
  },
  {
   "cell_type": "markdown",
   "metadata": {
    "application/vnd.databricks.v1+cell": {
     "cellMetadata": {
      "byteLimit": 2048000,
      "rowLimit": 10000
     },
     "inputWidgets": {},
     "nuid": "c3788fe5-f4c9-420f-ad72-ec1a39310a2a",
     "showTitle": false,
     "tableResultSettingsMap": {},
     "title": ""
    }
   },
   "source": [
    "**2837. Total Traveled Distance (Easy)**\n",
    "\n",
    "**Table: Users**\n",
    "\n",
    "| Column Name | Type    |\n",
    "|-------------|---------|\n",
    "| user_id     | int     |\n",
    "| name        | varchar |\n",
    "\n",
    "user_id is the column with unique values for this table.\n",
    "Each row of this table contains user id and name.\n",
    "\n",
    "**Table: Rides**\n",
    "\n",
    "| Column Name  | Type |\n",
    "|--------------|------|\n",
    "| ride_id      | int  |\n",
    "| user_id      | int  | \n",
    "| distance     | int  |\n",
    "\n",
    "ride_id is the column of unique values for this table.\n",
    "Each row of this table contains ride id, user id, and traveled distance.\n",
    "\n",
    "**Write a solution to calculate the distance traveled by each user. If there is a user who hasn't completed any rides, then their distance should be considered as 0. Output the user_id, name and total traveled distance.**\n",
    "\n",
    "Return the result table ordered by user_id in ascending order.\n",
    "\n",
    "The result format is in the following example.\n",
    "\n",
    "**Example 1:**\n",
    "\n",
    "**Input:** \n",
    "\n",
    "**Users table:**\n",
    "| user_id | name    |\n",
    "|---------|---------|\n",
    "| 17      | Addison |\n",
    "| 14      | Ethan   |\n",
    "| 4       | Michael |\n",
    "| 2       | Avery   |\n",
    "| 10      | Eleanor |\n",
    "\n",
    "**Rides table:**\n",
    "| ride_id | user_id | distance |\n",
    "|---------|---------|----------|\n",
    "| 72      | 17      | 160      |\n",
    "| 42      | 14      | 161      |\n",
    "| 45      | 4       | 59       |\n",
    "| 32      | 2       | 197      |\n",
    "| 15      | 4       | 357      |\n",
    "| 56      | 2       | 196      |\n",
    "| 10      | 14      | 25       |\n",
    "\n",
    "**Output:** \n",
    "| user_id | name    | traveled distance |\n",
    "|---------|---------|-------------------|\n",
    "| 2       | Avery   | 393               |\n",
    "| 4       | Michael | 416               |\n",
    "| 10      | Eleanor | 0                 |\n",
    "| 14      | Ethan   | 186               |\n",
    "| 17      | Addison | 160               |\n",
    "\n",
    "**Explanation:** \n",
    "-  User id 2 completed two journeys of 197 and 196, resulting in a combined travel distance of 393.\n",
    "-  User id 4 completed two journeys of 59 and 357, resulting in a combined travel distance of 416.\n",
    "-  User id 14 completed two journeys of 161 and 25, resulting in a combined travel distance of 186.\n",
    "-  User id 16 completed only one journey of 160.\n",
    "-  User id 10 did not complete any journeys, thus the total travel distance remains at 0.\n",
    "\n",
    "Returning the table orderd by user_id in ascending order."
   ]
  },
  {
   "cell_type": "code",
   "execution_count": 0,
   "metadata": {
    "application/vnd.databricks.v1+cell": {
     "cellMetadata": {
      "byteLimit": 2048000,
      "rowLimit": 10000
     },
     "inputWidgets": {},
     "nuid": "137536ea-9bec-4171-8dc2-4bf8b0d771b4",
     "showTitle": false,
     "tableResultSettingsMap": {},
     "title": ""
    }
   },
   "outputs": [
    {
     "output_type": "stream",
     "name": "stdout",
     "output_type": "stream",
     "text": [
      "+-------+-------+\n|user_id|   name|\n+-------+-------+\n|     17|Addison|\n|     14|  Ethan|\n|      4|Michael|\n|      2|  Avery|\n|     10|Eleanor|\n+-------+-------+\n\n+-------+-------+--------+\n|ride_id|user_id|distance|\n+-------+-------+--------+\n|     72|     17|     160|\n|     42|     14|     161|\n|     45|      4|      59|\n|     32|      2|     197|\n|     15|      4|     357|\n|     56|      2|     196|\n|     10|     14|      25|\n+-------+-------+--------+\n\n"
     ]
    }
   ],
   "source": [
    "users_data_2837 = [\n",
    "    (17, \"Addison\"),\n",
    "    (14, \"Ethan\"),\n",
    "    (4, \"Michael\"),\n",
    "    (2, \"Avery\"),\n",
    "    (10, \"Eleanor\")\n",
    "]\n",
    "\n",
    "users_columns_2837 = [\"user_id\", \"name\"]\n",
    "users_df_2837 = spark.createDataFrame(users_data_2837, users_columns_2837)\n",
    "users_df_2837.show()\n",
    "\n",
    "rides_data_2837 = [\n",
    "    (72, 17, 160),\n",
    "    (42, 14, 161),\n",
    "    (45, 4, 59),\n",
    "    (32, 2, 197),\n",
    "    (15, 4, 357),\n",
    "    (56, 2, 196),\n",
    "    (10, 14, 25)\n",
    "]\n",
    "\n",
    "rides_columns_2837 = [\"ride_id\", \"user_id\", \"distance\"]\n",
    "rides_df_2837 = spark.createDataFrame(rides_data_2837, rides_columns_2837)\n",
    "rides_df_2837.show()\n"
   ]
  },
  {
   "cell_type": "code",
   "execution_count": 0,
   "metadata": {
    "application/vnd.databricks.v1+cell": {
     "cellMetadata": {
      "byteLimit": 2048000,
      "rowLimit": 10000
     },
     "inputWidgets": {},
     "nuid": "27a8acda-504d-41cf-8f6a-6202d9c8447f",
     "showTitle": false,
     "tableResultSettingsMap": {},
     "title": ""
    }
   },
   "outputs": [],
   "source": [
    "rides_agg_df_2837 = rides_df_2837\\\n",
    "                        .groupBy(\"user_id\")\\\n",
    "                            .agg(\n",
    "                                sum(\"distance\").alias(\"traveled_distance\")\n",
    "                                )"
   ]
  },
  {
   "cell_type": "code",
   "execution_count": 0,
   "metadata": {
    "application/vnd.databricks.v1+cell": {
     "cellMetadata": {
      "byteLimit": 2048000,
      "rowLimit": 10000
     },
     "inputWidgets": {},
     "nuid": "e731587d-e9ce-4abc-b3de-349e0bb42f4f",
     "showTitle": false,
     "tableResultSettingsMap": {},
     "title": ""
    }
   },
   "outputs": [
    {
     "output_type": "display_data",
     "data": {
      "text/html": [
       "<style scoped>\n",
       "  .table-result-container {\n",
       "    max-height: 300px;\n",
       "    overflow: auto;\n",
       "  }\n",
       "  table, th, td {\n",
       "    border: 1px solid black;\n",
       "    border-collapse: collapse;\n",
       "  }\n",
       "  th, td {\n",
       "    padding: 5px;\n",
       "  }\n",
       "  th {\n",
       "    text-align: left;\n",
       "  }\n",
       "</style><div class='table-result-container'><table class='table-result'><thead style='background-color: white'><tr><th>user_id</th><th>name</th><th>traveled_distance</th></tr></thead><tbody><tr><td>2</td><td>Avery</td><td>393</td></tr><tr><td>4</td><td>Michael</td><td>416</td></tr><tr><td>10</td><td>Eleanor</td><td>0</td></tr><tr><td>14</td><td>Ethan</td><td>186</td></tr><tr><td>17</td><td>Addison</td><td>160</td></tr></tbody></table></div>"
      ]
     },
     "metadata": {
      "application/vnd.databricks.v1+output": {
       "addedWidgets": {},
       "aggData": [],
       "aggError": "",
       "aggOverflow": false,
       "aggSchema": [],
       "aggSeriesLimitReached": false,
       "aggType": "",
       "arguments": {},
       "columnCustomDisplayInfos": {},
       "data": [
        [
         2,
         "Avery",
         393
        ],
        [
         4,
         "Michael",
         416
        ],
        [
         10,
         "Eleanor",
         0
        ],
        [
         14,
         "Ethan",
         186
        ],
        [
         17,
         "Addison",
         160
        ]
       ],
       "datasetInfos": [],
       "dbfsResultPath": null,
       "isJsonSchema": true,
       "metadata": {},
       "overflow": false,
       "plotOptions": {
        "customPlotOptions": {},
        "displayType": "table",
        "pivotAggregation": null,
        "pivotColumns": null,
        "xColumns": null,
        "yColumns": null
       },
       "removedWidgets": [],
       "schema": [
        {
         "metadata": "{}",
         "name": "user_id",
         "type": "\"long\""
        },
        {
         "metadata": "{}",
         "name": "name",
         "type": "\"string\""
        },
        {
         "metadata": "{}",
         "name": "traveled_distance",
         "type": "\"long\""
        }
       ],
       "type": "table"
      }
     },
     "output_type": "display_data"
    }
   ],
   "source": [
    "users_df_2837\\\n",
    "    .join(rides_agg_df_2837, on=\"user_id\", how=\"left\") \\\n",
    "        .withColumn(\"traveled_distance\", coalesce(\"traveled_distance\", lit(0))) \\\n",
    "            .orderBy(\"user_id\").display()"
   ]
  }
 ],
 "metadata": {
  "application/vnd.databricks.v1+notebook": {
   "computePreferences": {
    "hardware": {
     "accelerator": null,
     "gpuPoolId": null,
     "memory": null
    }
   },
   "dashboards": [],
   "environmentMetadata": {
    "base_environment": "",
    "environment_version": "2"
   },
   "inputWidgetPreferences": null,
   "language": "python",
   "notebookMetadata": {
    "pythonIndentUnit": 4
   },
   "notebookName": "2837. Total Traveled Distance (Easy)-(Solved)",
   "widgets": {}
  },
  "language_info": {
   "name": "python"
  }
 },
 "nbformat": 4,
 "nbformat_minor": 0
}
