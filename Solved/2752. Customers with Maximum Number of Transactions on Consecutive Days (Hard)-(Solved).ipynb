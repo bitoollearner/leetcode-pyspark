{
 "cells": [
  {
   "cell_type": "markdown",
   "metadata": {
    "application/vnd.databricks.v1+cell": {
     "cellMetadata": {
      "byteLimit": 2048000,
      "rowLimit": 10000
     },
     "inputWidgets": {},
     "nuid": "4e9d71b1-88e9-445c-820a-b842e217a4e7",
     "showTitle": false,
     "tableResultSettingsMap": {},
     "title": ""
    }
   },
   "source": [
    "## Importing Libraries"
   ]
  },
  {
   "cell_type": "code",
   "execution_count": 0,
   "metadata": {
    "application/vnd.databricks.v1+cell": {
     "cellMetadata": {
      "byteLimit": 2048000,
      "rowLimit": 10000
     },
     "inputWidgets": {},
     "nuid": "e6624c4d-8cb8-4ac4-8c72-81d1b4ecdb57",
     "showTitle": false,
     "tableResultSettingsMap": {},
     "title": ""
    }
   },
   "outputs": [],
   "source": [
    "from pyspark.sql.functions import *\n",
    "from pyspark.sql.types import *\n",
    "from pyspark.sql.window import Window"
   ]
  },
  {
   "cell_type": "markdown",
   "metadata": {
    "application/vnd.databricks.v1+cell": {
     "cellMetadata": {
      "byteLimit": 2048000,
      "rowLimit": 10000
     },
     "inputWidgets": {},
     "nuid": "c3788fe5-f4c9-420f-ad72-ec1a39310a2a",
     "showTitle": false,
     "tableResultSettingsMap": {},
     "title": ""
    }
   },
   "source": [
    "**2752. Customers with Maximum Number of Transactions on Consecutive Days (Hard)**\n",
    "\n",
    "**Table: Transactions**\n",
    "\n",
    "| Column Name      | Type |\n",
    "|------------------|------|\n",
    "| transaction_id   | int  |\n",
    "| customer_id      | int  |\n",
    "| transaction_date | date |\n",
    "| amount           | int  |\n",
    "\n",
    "transaction_id is the column with unique values of this table.\n",
    "Each row contains information about transactions that includes unique (customer_id, transaction_date) along with the corresponding customer_id and amount.   \n",
    "\n",
    "**Write a solution to find all customer_id who made the maximum number of transactions on consecutive days.**\n",
    "\n",
    "Return all customer_id with the maximum number of consecutive transactions. Order the result table by customer_id in ascending order.\n",
    "\n",
    "The result format is in the following example.\n",
    "\n",
    "**Example 1:**\n",
    "\n",
    "**Input:** \n",
    "\n",
    "**Transactions table:**\n",
    "| transaction_id | customer_id | transaction_date | amount |\n",
    "|----------------|-------------|------------------|--------|\n",
    "| 1              | 101         | 2023-05-01       | 100    |\n",
    "| 2              | 101         | 2023-05-02       | 150    |\n",
    "| 3              | 101         | 2023-05-03       | 200    |\n",
    "| 4              | 102         | 2023-05-01       | 50     |\n",
    "| 5              | 102         | 2023-05-03       | 100    |\n",
    "| 6              | 102         | 2023-05-04       | 200    |\n",
    "| 7              | 105         | 2023-05-01       | 100    |\n",
    "| 8              | 105         | 2023-05-02       | 150    |\n",
    "| 9              | 105         | 2023-05-03       | 200    |\n",
    "\n",
    "**Output:** \n",
    "| customer_id | \n",
    "|-------------|\n",
    "| 101         | \n",
    "| 105         | \n",
    "\n",
    "**Explanation:** \n",
    "- customer_id 101 has a total of 3 transactions, and all of them are consecutive.\n",
    "- customer_id 102 has a total of 3 transactions, but only 2 of them are consecutive. \n",
    "- customer_id 105 has a total of 3 transactions, and all of them are consecutive.\n",
    "In total, the highest number of consecutive transactions is 3, achieved by customer_id 101 and 105. The customer_id are sorted in ascending order."
   ]
  },
  {
   "cell_type": "code",
   "execution_count": 0,
   "metadata": {
    "application/vnd.databricks.v1+cell": {
     "cellMetadata": {
      "byteLimit": 2048000,
      "rowLimit": 10000
     },
     "inputWidgets": {},
     "nuid": "137536ea-9bec-4171-8dc2-4bf8b0d771b4",
     "showTitle": false,
     "tableResultSettingsMap": {},
     "title": ""
    }
   },
   "outputs": [
    {
     "output_type": "stream",
     "name": "stdout",
     "output_type": "stream",
     "text": [
      "+--------------+-----------+----------------+------+\n|transaction_id|customer_id|transaction_date|amount|\n+--------------+-----------+----------------+------+\n|             1|        101|      2023-05-01|   100|\n|             2|        101|      2023-05-02|   150|\n|             3|        101|      2023-05-03|   200|\n|             4|        102|      2023-05-01|    50|\n|             5|        102|      2023-05-03|   100|\n|             6|        102|      2023-05-04|   200|\n|             7|        105|      2023-05-01|   100|\n|             8|        105|      2023-05-02|   150|\n|             9|        105|      2023-05-03|   200|\n+--------------+-----------+----------------+------+\n\n"
     ]
    }
   ],
   "source": [
    "transactions_data_2752 = [\n",
    "    (1, 101, \"2023-05-01\", 100),\n",
    "    (2, 101, \"2023-05-02\", 150),\n",
    "    (3, 101, \"2023-05-03\", 200),\n",
    "    (4, 102, \"2023-05-01\", 50),\n",
    "    (5, 102, \"2023-05-03\", 100),\n",
    "    (6, 102, \"2023-05-04\", 200),\n",
    "    (7, 105, \"2023-05-01\", 100),\n",
    "    (8, 105, \"2023-05-02\", 150),\n",
    "    (9, 105, \"2023-05-03\", 200),\n",
    "]\n",
    "\n",
    "transactions_columns_2752 = [\"transaction_id\", \"customer_id\", \"transaction_date\", \"amount\"]\n",
    "transactions_df_2752 = spark.createDataFrame(transactions_data_2752, transactions_columns_2752)\n",
    "transactions_df_2752.show()\n"
   ]
  },
  {
   "cell_type": "code",
   "execution_count": 0,
   "metadata": {
    "application/vnd.databricks.v1+cell": {
     "cellMetadata": {
      "byteLimit": 2048000,
      "rowLimit": 10000
     },
     "inputWidgets": {},
     "nuid": "83d7e14c-fca9-4237-93e9-372d5747f659",
     "showTitle": false,
     "tableResultSettingsMap": {},
     "title": ""
    }
   },
   "outputs": [],
   "source": [
    "transactions_df_2752 = transactions_df_2752.withColumn(\"transaction_date\", col(\"transaction_date\").cast(\"date\"))"
   ]
  },
  {
   "cell_type": "code",
   "execution_count": 0,
   "metadata": {
    "application/vnd.databricks.v1+cell": {
     "cellMetadata": {
      "byteLimit": 2048000,
      "rowLimit": 10000
     },
     "inputWidgets": {},
     "nuid": "812b0771-4c73-4836-805c-7ca1bbd2c305",
     "showTitle": false,
     "tableResultSettingsMap": {},
     "title": ""
    }
   },
   "outputs": [],
   "source": [
    "windowSpec = Window.partitionBy(\"customer_id\").orderBy(\"transaction_date\")"
   ]
  },
  {
   "cell_type": "code",
   "execution_count": 0,
   "metadata": {
    "application/vnd.databricks.v1+cell": {
     "cellMetadata": {
      "byteLimit": 2048000,
      "rowLimit": 10000
     },
     "inputWidgets": {},
     "nuid": "755d4290-b976-4034-aa3d-7db7a30ddc18",
     "showTitle": false,
     "tableResultSettingsMap": {},
     "title": ""
    }
   },
   "outputs": [],
   "source": [
    "transactions_df_2752 = transactions_df_2752\\\n",
    "                            .withColumn(\"prev_date\", lag(\"transaction_date\").over(windowSpec))"
   ]
  },
  {
   "cell_type": "code",
   "execution_count": 0,
   "metadata": {
    "application/vnd.databricks.v1+cell": {
     "cellMetadata": {
      "byteLimit": 2048000,
      "rowLimit": 10000
     },
     "inputWidgets": {},
     "nuid": "9f9358c0-a62e-4796-8655-63d37c685784",
     "showTitle": false,
     "tableResultSettingsMap": {},
     "title": ""
    }
   },
   "outputs": [],
   "source": [
    "transactions_df_2752 = transactions_df_2752\\\n",
    "                            .withColumn(\n",
    "                                    \"break_flag\",\n",
    "                                        ((datediff(col(\"transaction_date\"), col(\"prev_date\")) != 1) | col(\"prev_date\").isNull()).cast(\"int\")\n",
    "                                        )\\\n",
    "                            .withColumn(\n",
    "                                    \"grp\",\n",
    "                                    sum(\"break_flag\").over(Window.partitionBy(\"customer_id\").orderBy(\"transaction_date\").rowsBetween(Window.unboundedPreceding, 0))\n",
    "                                    )"
   ]
  },
  {
   "cell_type": "code",
   "execution_count": 0,
   "metadata": {
    "application/vnd.databricks.v1+cell": {
     "cellMetadata": {
      "byteLimit": 2048000,
      "rowLimit": 10000
     },
     "inputWidgets": {},
     "nuid": "b695f79e-f473-486a-a9da-00e7cb98f8f5",
     "showTitle": false,
     "tableResultSettingsMap": {},
     "title": ""
    }
   },
   "outputs": [],
   "source": [
    "streak_df_2752 = transactions_df_2752\\\n",
    "                        .groupBy(\"customer_id\", \"grp\")\\\n",
    "                            .agg(\n",
    "                                (datediff(max(\"transaction_date\"), min(\"transaction_date\")) + 1).alias(\"streak_length\")\n",
    "                                )"
   ]
  },
  {
   "cell_type": "code",
   "execution_count": 0,
   "metadata": {
    "application/vnd.databricks.v1+cell": {
     "cellMetadata": {
      "byteLimit": 2048000,
      "rowLimit": 10000
     },
     "inputWidgets": {},
     "nuid": "47c7e5de-1ff6-4a0e-b2d3-d8cb327d8151",
     "showTitle": false,
     "tableResultSettingsMap": {},
     "title": ""
    }
   },
   "outputs": [],
   "source": [
    "max_streak_df_2750 = streak_df_2752\\\n",
    "                        .groupBy(\"customer_id\")\\\n",
    "                            .agg(\n",
    "                                max(\"streak_length\").alias(\"max_streak\")\n",
    "                                )"
   ]
  },
  {
   "cell_type": "code",
   "execution_count": 0,
   "metadata": {
    "application/vnd.databricks.v1+cell": {
     "cellMetadata": {
      "byteLimit": 2048000,
      "rowLimit": 10000
     },
     "inputWidgets": {},
     "nuid": "3fa25ba1-6b82-4763-afa5-b3dc6a8e5d84",
     "showTitle": false,
     "tableResultSettingsMap": {},
     "title": ""
    }
   },
   "outputs": [],
   "source": [
    "overall_max_streak = max_streak_df_2750.agg(max(\"max_streak\")).collect()[0][0]"
   ]
  },
  {
   "cell_type": "code",
   "execution_count": 0,
   "metadata": {
    "application/vnd.databricks.v1+cell": {
     "cellMetadata": {
      "byteLimit": 2048000,
      "rowLimit": 10000
     },
     "inputWidgets": {},
     "nuid": "45fc1e19-6381-4fc5-b689-990a284aa943",
     "showTitle": false,
     "tableResultSettingsMap": {},
     "title": ""
    }
   },
   "outputs": [
    {
     "output_type": "display_data",
     "data": {
      "text/html": [
       "<style scoped>\n",
       "  .table-result-container {\n",
       "    max-height: 300px;\n",
       "    overflow: auto;\n",
       "  }\n",
       "  table, th, td {\n",
       "    border: 1px solid black;\n",
       "    border-collapse: collapse;\n",
       "  }\n",
       "  th, td {\n",
       "    padding: 5px;\n",
       "  }\n",
       "  th {\n",
       "    text-align: left;\n",
       "  }\n",
       "</style><div class='table-result-container'><table class='table-result'><thead style='background-color: white'><tr><th>customer_id</th></tr></thead><tbody><tr><td>101</td></tr><tr><td>105</td></tr></tbody></table></div>"
      ]
     },
     "metadata": {
      "application/vnd.databricks.v1+output": {
       "addedWidgets": {},
       "aggData": [],
       "aggError": "",
       "aggOverflow": false,
       "aggSchema": [],
       "aggSeriesLimitReached": false,
       "aggType": "",
       "arguments": {},
       "columnCustomDisplayInfos": {},
       "data": [
        [
         101
        ],
        [
         105
        ]
       ],
       "datasetInfos": [],
       "dbfsResultPath": null,
       "isJsonSchema": true,
       "metadata": {},
       "overflow": false,
       "plotOptions": {
        "customPlotOptions": {},
        "displayType": "table",
        "pivotAggregation": null,
        "pivotColumns": null,
        "xColumns": null,
        "yColumns": null
       },
       "removedWidgets": [],
       "schema": [
        {
         "metadata": "{}",
         "name": "customer_id",
         "type": "\"long\""
        }
       ],
       "type": "table"
      }
     },
     "output_type": "display_data"
    }
   ],
   "source": [
    "max_streak_df_2750\\\n",
    "    .filter(col(\"max_streak\") == overall_max_streak)\\\n",
    "        .select(\"customer_id\").orderBy(\"customer_id\").display()"
   ]
  }
 ],
 "metadata": {
  "application/vnd.databricks.v1+notebook": {
   "computePreferences": {
    "hardware": {
     "accelerator": null,
     "gpuPoolId": null,
     "memory": null
    }
   },
   "dashboards": [],
   "environmentMetadata": {
    "base_environment": "",
    "environment_version": "2"
   },
   "inputWidgetPreferences": null,
   "language": "python",
   "notebookMetadata": {
    "pythonIndentUnit": 4
   },
   "notebookName": "2752. Customers with Maximum Number of Transactions on Consecutive Days (Hard)-(Solved)",
   "widgets": {}
  },
  "language_info": {
   "name": "python"
  }
 },
 "nbformat": 4,
 "nbformat_minor": 0
}
