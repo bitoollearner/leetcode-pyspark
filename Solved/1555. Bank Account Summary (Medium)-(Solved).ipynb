{
 "cells": [
  {
   "cell_type": "markdown",
   "metadata": {
    "application/vnd.databricks.v1+cell": {
     "cellMetadata": {
      "byteLimit": 2048000,
      "rowLimit": 10000
     },
     "inputWidgets": {},
     "nuid": "44cd2565-3e27-417c-8c6c-7b2d8f1b94c5",
     "showTitle": false,
     "tableResultSettingsMap": {},
     "title": ""
    }
   },
   "source": [
    "## Importing Libraries"
   ]
  },
  {
   "cell_type": "code",
   "execution_count": 0,
   "metadata": {
    "application/vnd.databricks.v1+cell": {
     "cellMetadata": {
      "byteLimit": 2048000,
      "rowLimit": 10000
     },
     "inputWidgets": {},
     "nuid": "e6da106f-4e0b-41e0-9f75-6e329535d5c0",
     "showTitle": false,
     "tableResultSettingsMap": {},
     "title": ""
    }
   },
   "outputs": [],
   "source": [
    "from pyspark.sql.functions import *\n",
    "from pyspark.sql.types import *\n",
    "from pyspark.sql.window import Window"
   ]
  },
  {
   "cell_type": "markdown",
   "metadata": {
    "application/vnd.databricks.v1+cell": {
     "cellMetadata": {
      "byteLimit": 2048000,
      "rowLimit": 10000
     },
     "inputWidgets": {},
     "nuid": "f0267197-68d5-4180-8492-6999c905acb1",
     "showTitle": false,
     "tableResultSettingsMap": {},
     "title": ""
    }
   },
   "source": [
    "**1555. Bank Account Summary (Medium)**\n",
    "\n",
    "**Table: Users**\n",
    "\n",
    "| Column Name  | Type    |\n",
    "|--------------|---------|\n",
    "| user_id      | int     |\n",
    "| user_name    | varchar |\n",
    "| credit       | int     |\n",
    "\n",
    "user_id is the primary key (column with unique values) for this table.\n",
    "Each row of this table contains the current credit information for each user.\n",
    " \n",
    "**Table: Transactions**\n",
    "\n",
    "| Column Name   | Type    |\n",
    "|---------------|---------|\n",
    "| trans_id      | int     |\n",
    "| paid_by       | int     |\n",
    "| paid_to       | int     |\n",
    "| amount        | int     |\n",
    "| transacted_on | date    |\n",
    "\n",
    "trans_id is the primary key (column with unique values) for this table.\n",
    "Each row of this table contains information about the transaction in the bank.\n",
    "User with id (paid_by) transfer money to user with id (paid_to).\n",
    " \n",
    "Leetcode Bank (LCB) helps its coders in making virtual payments. Our bank records all transactions in the table Transaction, we want to find out the current balance of all users and check whether they have breached their credit limit (If their current credit is less than 0).\n",
    "\n",
    "**Write a solution to report.**\n",
    "- user_id,\n",
    "- user_name,\n",
    "- credit, current balance after performing transactions, and\n",
    "- credit_limit_breached, check credit_limit (\"Yes\" or \"No\")\n",
    "\n",
    "Return the result table in any order.\n",
    "\n",
    "The result format is in the following example.\n",
    "\n",
    "**Example 1:**\n",
    "\n",
    "**Input:** \n",
    "\n",
    "**Users table:**\n",
    "\n",
    "| user_id    | user_name    | credit      |\n",
    "|------------|--------------|-------------|\n",
    "| 1          | Moustafa     | 100         |\n",
    "| 2          | Jonathan     | 200         |\n",
    "| 3          | Winston      | 10000       |\n",
    "| 4          | Luis         | 800         | \n",
    "\n",
    "**Transactions table:**\n",
    "\n",
    "| trans_id   | paid_by    | paid_to    | amount   | transacted_on |\n",
    "|------------|------------|------------|----------|---------------|\n",
    "| 1          | 1          | 3          | 400      | 2020-08-01    |\n",
    "| 2          | 3          | 2          | 500      | 2020-08-02    |\n",
    "| 3          | 2          | 1          | 200      | 2020-08-03    |\n",
    "\n",
    "**Output:** \n",
    "| user_id    | user_name  | credit     | credit_limit_breached |\n",
    "|------------|------------|------------|-----------------------|\n",
    "| 1          | Moustafa   | -100       | Yes                   | \n",
    "| 2          | Jonathan   | 500        | No                    |\n",
    "| 3          | Winston    | 9900       | No                    |\n",
    "| 4          | Luis       | 800        | No                    |\n",
    "\n",
    "**Explanation:** \n",
    "- Moustafa paid $400 on \"2020-08-01\" and received $200 on \"2020-08-03\", credit (100 -400 +200) = -$100\n",
    "- Jonathan received $500 on \"2020-08-02\" and paid $200 on \"2020-08-08\", credit (200 +500 -200) = $500\n",
    "- Winston received $400 on \"2020-08-01\" and paid $500 on \"2020-08-03\", credit (10000 +400 -500) = $9990\n",
    "- Luis did not received any transfer, credit = $800"
   ]
  },
  {
   "cell_type": "code",
   "execution_count": 0,
   "metadata": {
    "application/vnd.databricks.v1+cell": {
     "cellMetadata": {
      "byteLimit": 2048000,
      "rowLimit": 10000
     },
     "inputWidgets": {},
     "nuid": "e98c62a4-8cd4-48d6-9337-86cf54c19ddd",
     "showTitle": false,
     "tableResultSettingsMap": {},
     "title": ""
    }
   },
   "outputs": [
    {
     "output_type": "stream",
     "name": "stdout",
     "output_type": "stream",
     "text": [
      "+-------+---------+------+\n|user_id|user_name|credit|\n+-------+---------+------+\n|      1| Moustafa|   100|\n|      2| Jonathan|   200|\n|      3|  Winston| 10000|\n|      4|     Luis|   800|\n+-------+---------+------+\n\n+--------+-------+-------+------+-------------+\n|trans_id|paid_by|paid_to|amount|transacted_on|\n+--------+-------+-------+------+-------------+\n|       1|      1|      3|   400|   2020-08-01|\n|       2|      3|      2|   500|   2020-08-02|\n|       3|      2|      1|   200|   2020-08-03|\n+--------+-------+-------+------+-------------+\n\n"
     ]
    }
   ],
   "source": [
    "users_data_1555 = [\n",
    "    (1, \"Moustafa\", 100),\n",
    "    (2, \"Jonathan\", 200),\n",
    "    (3, \"Winston\", 10000),\n",
    "    (4, \"Luis\", 800),\n",
    "]\n",
    "\n",
    "users_columns_1555 = [\"user_id\", \"user_name\", \"credit\"]\n",
    "users_df_1555 = spark.createDataFrame(users_data_1555, users_columns_1555)\n",
    "users_df_1555.show()\n",
    "\n",
    "transactions_data_1555 = [\n",
    "    (1, 1, 3, 400, \"2020-08-01\"),\n",
    "    (2, 3, 2, 500, \"2020-08-02\"),\n",
    "    (3, 2, 1, 200, \"2020-08-03\"),\n",
    "]\n",
    "\n",
    "transactions_columns_1555 = [\"trans_id\", \"paid_by\", \"paid_to\", \"amount\", \"transacted_on\"]\n",
    "transactions_df_1555 = spark.createDataFrame(transactions_data_1555, transactions_columns_1555)\n",
    "transactions_df_1555.show()\n"
   ]
  },
  {
   "cell_type": "code",
   "execution_count": 0,
   "metadata": {
    "application/vnd.databricks.v1+cell": {
     "cellMetadata": {
      "byteLimit": 2048000,
      "rowLimit": 10000
     },
     "inputWidgets": {},
     "nuid": "320571ff-d17c-4b6d-b651-bd661eb9ade9",
     "showTitle": false,
     "tableResultSettingsMap": {},
     "title": ""
    }
   },
   "outputs": [],
   "source": [
    "outgoing_df_1555 = transactions_df_1555\\\n",
    "                        .groupBy(\"paid_by\").agg(sum(\"amount\").alias(\"total_outgoing\"))"
   ]
  },
  {
   "cell_type": "code",
   "execution_count": 0,
   "metadata": {
    "application/vnd.databricks.v1+cell": {
     "cellMetadata": {
      "byteLimit": 2048000,
      "rowLimit": 10000
     },
     "inputWidgets": {},
     "nuid": "ee981796-1b9d-4df6-8543-e1cce0a8b22d",
     "showTitle": false,
     "tableResultSettingsMap": {},
     "title": ""
    }
   },
   "outputs": [],
   "source": [
    "incoming_df_1555 = transactions_df_1555\\\n",
    "                        .groupBy(\"paid_to\").agg(sum(\"amount\").alias(\"total_incoming\"))\n"
   ]
  },
  {
   "cell_type": "code",
   "execution_count": 0,
   "metadata": {
    "application/vnd.databricks.v1+cell": {
     "cellMetadata": {
      "byteLimit": 2048000,
      "rowLimit": 10000
     },
     "inputWidgets": {},
     "nuid": "31c0812c-3105-4608-832b-9c92d7fda8e2",
     "showTitle": false,
     "tableResultSettingsMap": {},
     "title": ""
    }
   },
   "outputs": [
    {
     "output_type": "stream",
     "name": "stdout",
     "output_type": "stream",
     "text": [
      "+-------+---------+------+---------------------+\n|user_id|user_name|credit|credit_limit_breached|\n+-------+---------+------+---------------------+\n|      1| Moustafa|  -100|                  Yes|\n|      2| Jonathan|   500|                   No|\n|      3|  Winston|  9900|                   No|\n|      4|     Luis|   800|                   No|\n+-------+---------+------+---------------------+\n\n"
     ]
    }
   ],
   "source": [
    "users_df_1555 \\\n",
    "    .join(outgoing_df_1555, users_df_1555.user_id == outgoing_df_1555.paid_by, \"left\") \\\n",
    "        .join(incoming_df_1555, users_df_1555.user_id == incoming_df_1555.paid_to, \"left\") \\\n",
    "            .withColumn(\"total_outgoing\", coalesce(col(\"total_outgoing\"), lit(0))) \\\n",
    "            .withColumn(\"total_incoming\", coalesce(col(\"total_incoming\"), lit(0))) \\\n",
    "            .withColumn(\"credit\", col(\"credit\") - col(\"total_outgoing\") + col(\"total_incoming\")) \\\n",
    "            .withColumn(\"credit_limit_breached\", when(col(\"credit\") < 0, \"Yes\").otherwise(\"No\")) \\\n",
    "    .select(\"user_id\", \"user_name\", \"credit\", \"credit_limit_breached\").show()"
   ]
  }
 ],
 "metadata": {
  "application/vnd.databricks.v1+notebook": {
   "computePreferences": {
    "hardware": {
     "accelerator": null,
     "gpuPoolId": null,
     "memory": null
    }
   },
   "dashboards": [],
   "environmentMetadata": {
    "base_environment": "",
    "environment_version": "2"
   },
   "inputWidgetPreferences": null,
   "language": "python",
   "notebookMetadata": {
    "pythonIndentUnit": 4
   },
   "notebookName": "1555. Bank Account Summary (Medium)-(Solved)",
   "widgets": {}
  },
  "language_info": {
   "name": "python"
  }
 },
 "nbformat": 4,
 "nbformat_minor": 0
}
