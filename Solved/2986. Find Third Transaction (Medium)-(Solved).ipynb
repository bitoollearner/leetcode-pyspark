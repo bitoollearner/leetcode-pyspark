{
 "cells": [
  {
   "cell_type": "markdown",
   "metadata": {
    "application/vnd.databricks.v1+cell": {
     "cellMetadata": {
      "byteLimit": 2048000,
      "rowLimit": 10000
     },
     "inputWidgets": {},
     "nuid": "4e9d71b1-88e9-445c-820a-b842e217a4e7",
     "showTitle": false,
     "tableResultSettingsMap": {},
     "title": ""
    }
   },
   "source": [
    "## Importing Libraries"
   ]
  },
  {
   "cell_type": "code",
   "execution_count": 0,
   "metadata": {
    "application/vnd.databricks.v1+cell": {
     "cellMetadata": {
      "byteLimit": 2048000,
      "rowLimit": 10000
     },
     "inputWidgets": {},
     "nuid": "e6624c4d-8cb8-4ac4-8c72-81d1b4ecdb57",
     "showTitle": false,
     "tableResultSettingsMap": {},
     "title": ""
    }
   },
   "outputs": [],
   "source": [
    "from pyspark.sql.functions import *\n",
    "from pyspark.sql.types import *\n",
    "from pyspark.sql.window import Window"
   ]
  },
  {
   "cell_type": "markdown",
   "metadata": {
    "application/vnd.databricks.v1+cell": {
     "cellMetadata": {
      "byteLimit": 2048000,
      "rowLimit": 10000
     },
     "inputWidgets": {},
     "nuid": "c3788fe5-f4c9-420f-ad72-ec1a39310a2a",
     "showTitle": false,
     "tableResultSettingsMap": {},
     "title": ""
    }
   },
   "source": [
    "**2986. Find Third Transaction (Medium)**\n",
    "\n",
    "**Table: Transactions**\n",
    "\n",
    "| Column Name      | Type     |\n",
    "|------------------|----------|\n",
    "| user_id          | int      |\n",
    "| spend            | decimal  |\n",
    "| transaction_date | datetime |\n",
    "\n",
    "(user_id, transaction_date) is column of unique values for this table.\n",
    "This table contains user_id, spend, and transaction_date.\n",
    "\n",
    "**Write a solution to find the third transaction (if they have at least three transactions) of every user, where the spending on the preceding two transactions is lower than the spending on the third transaction.**\n",
    "\n",
    "Return the result table by user_id in ascending order.\n",
    "\n",
    "The result format is in the following example.\n",
    "\n",
    "**Example 1:**\n",
    "\n",
    "**Input:** \n",
    "**Transactions table:**\n",
    "| user_id | spend  | transaction_date    | \n",
    "|---------|--------|---------------------|\n",
    "| 1       | 65.56  | 2023-11-18 13:49:42 | \n",
    "| 1       | 96.0   | 2023-11-30 02:47:26 |     \n",
    "| 1       | 7.44   | 2023-11-02 12:15:23 | \n",
    "| 1       | 49.78  | 2023-11-12 00:13:46 | \n",
    "| 2       | 40.89  | 2023-11-21 04:39:15 |  \n",
    "| 2       | 100.44 | 2023-11-20 07:39:34 | \n",
    "| 3       | 37.33  | 2023-11-03 06:22:02 | \n",
    "| 3       | 13.89  | 2023-11-11 16:00:14 | \n",
    "| 3       | 7.0    | 2023-11-29 22:32:36 | \n",
    "\n",
    "**Output**\n",
    "| user_id | third_transaction_spend | third_transaction_date | \n",
    "|---------|-------------------------|------------------------|\n",
    "| 1       | 65.56                   | 2023-11-18 13:49:42    |  \n",
    "\n",
    "**Explanation**\n",
    "- For user_id 1, their third transaction occurred on 2023-11-18 at 13:49:42 with an amount of $65.56, surpassing the expenditures of the previous two transactions which were $7.44 on 2023-11-02 at 12:15:23 and $49.78 on 2023-11-12 at 00:13:46. Thus, this third transaction will be included in the output table.\n",
    "- user_id 2 only has a total of 2 transactions, so there isn't a third transaction to consider.\n",
    "- For user_id 3, the amount of $7.0 for their third transaction is less than that of the preceding two transactions, so it won't be included.\n",
    "\n",
    "Output table is ordered by user_id in ascending order."
   ]
  },
  {
   "cell_type": "code",
   "execution_count": 0,
   "metadata": {
    "application/vnd.databricks.v1+cell": {
     "cellMetadata": {
      "byteLimit": 2048000,
      "rowLimit": 10000
     },
     "inputWidgets": {},
     "nuid": "137536ea-9bec-4171-8dc2-4bf8b0d771b4",
     "showTitle": false,
     "tableResultSettingsMap": {},
     "title": ""
    }
   },
   "outputs": [
    {
     "output_type": "stream",
     "name": "stdout",
     "output_type": "stream",
     "text": [
      "+-------+------+-------------------+\n|user_id| spend|   transaction_date|\n+-------+------+-------------------+\n|      1| 65.56|2023-11-18 13:49:42|\n|      1|  96.0|2023-11-30 02:47:26|\n|      1|  7.44|2023-11-02 12:15:23|\n|      1| 49.78|2023-11-12 00:13:46|\n|      2| 40.89|2023-11-21 04:39:15|\n|      2|100.44|2023-11-20 07:39:34|\n|      3| 37.33|2023-11-03 06:22:02|\n|      3| 13.89|2023-11-11 16:00:14|\n|      3|   7.0|2023-11-29 22:32:36|\n+-------+------+-------------------+\n\n"
     ]
    }
   ],
   "source": [
    "transactions_data_2986 = [\n",
    "    (1, 65.56, \"2023-11-18 13:49:42\"),\n",
    "    (1, 96.0, \"2023-11-30 02:47:26\"),\n",
    "    (1, 7.44, \"2023-11-02 12:15:23\"),\n",
    "    (1, 49.78, \"2023-11-12 00:13:46\"),\n",
    "    (2, 40.89, \"2023-11-21 04:39:15\"),\n",
    "    (2, 100.44, \"2023-11-20 07:39:34\"),\n",
    "    (3, 37.33, \"2023-11-03 06:22:02\"),\n",
    "    (3, 13.89, \"2023-11-11 16:00:14\"),\n",
    "    (3, 7.00, \"2023-11-29 22:32:36\")\n",
    "]\n",
    "\n",
    "transactions_columns_2986 = [\"user_id\", \"spend\", \"transaction_date\"]\n",
    "transactions_df_2986 = spark.createDataFrame(transactions_data_2986, transactions_columns_2986)\n",
    "transactions_df_2986.show()\n"
   ]
  },
  {
   "cell_type": "code",
   "execution_count": 0,
   "metadata": {
    "application/vnd.databricks.v1+cell": {
     "cellMetadata": {
      "byteLimit": 2048000,
      "rowLimit": 10000
     },
     "inputWidgets": {},
     "nuid": "a56aae55-3d4e-4f38-9961-cb2f3094a4ea",
     "showTitle": false,
     "tableResultSettingsMap": {},
     "title": ""
    }
   },
   "outputs": [],
   "source": [
    "transactions_df_2986 = transactions_df_2986\\\n",
    "                            .withColumn(\"transaction_date\", to_timestamp(\"transaction_date\"))"
   ]
  },
  {
   "cell_type": "code",
   "execution_count": 0,
   "metadata": {
    "application/vnd.databricks.v1+cell": {
     "cellMetadata": {
      "byteLimit": 2048000,
      "rowLimit": 10000
     },
     "inputWidgets": {},
     "nuid": "b44b9c15-f437-4d90-8fcf-4d598176dc98",
     "showTitle": false,
     "tableResultSettingsMap": {},
     "title": ""
    }
   },
   "outputs": [],
   "source": [
    "window_spec = Window.partitionBy(\"user_id\").orderBy(\"transaction_date\")"
   ]
  },
  {
   "cell_type": "code",
   "execution_count": 0,
   "metadata": {
    "application/vnd.databricks.v1+cell": {
     "cellMetadata": {
      "byteLimit": 2048000,
      "rowLimit": 10000
     },
     "inputWidgets": {},
     "nuid": "eef22f68-da9f-4b4b-b0e6-f03133b0d13e",
     "showTitle": false,
     "tableResultSettingsMap": {},
     "title": ""
    }
   },
   "outputs": [],
   "source": [
    "transactions_df_2986 = transactions_df_2986\\\n",
    "                            .withColumn(\"txn_number\", row_number().over(window_spec)) \\\n",
    "                                .withColumn(\"prev1\", lag(\"spend\", 1).over(window_spec)) \\\n",
    "                                    .withColumn(\"prev2\", lag(\"spend\", 2).over(window_spec))"
   ]
  },
  {
   "cell_type": "code",
   "execution_count": 0,
   "metadata": {
    "application/vnd.databricks.v1+cell": {
     "cellMetadata": {
      "byteLimit": 2048000,
      "rowLimit": 10000
     },
     "inputWidgets": {},
     "nuid": "5ffad660-12fa-4839-9762-0c60f38e2109",
     "showTitle": false,
     "tableResultSettingsMap": {},
     "title": ""
    }
   },
   "outputs": [
    {
     "output_type": "display_data",
     "data": {
      "text/html": [
       "<style scoped>\n",
       "  .table-result-container {\n",
       "    max-height: 300px;\n",
       "    overflow: auto;\n",
       "  }\n",
       "  table, th, td {\n",
       "    border: 1px solid black;\n",
       "    border-collapse: collapse;\n",
       "  }\n",
       "  th, td {\n",
       "    padding: 5px;\n",
       "  }\n",
       "  th {\n",
       "    text-align: left;\n",
       "  }\n",
       "</style><div class='table-result-container'><table class='table-result'><thead style='background-color: white'><tr><th>user_id</th><th>third_transaction_spend</th><th>third_transaction_date</th></tr></thead><tbody><tr><td>1</td><td>65.56</td><td>2023-11-18T13:49:42.000Z</td></tr></tbody></table></div>"
      ]
     },
     "metadata": {
      "application/vnd.databricks.v1+output": {
       "addedWidgets": {},
       "aggData": [],
       "aggError": "",
       "aggOverflow": false,
       "aggSchema": [],
       "aggSeriesLimitReached": false,
       "aggType": "",
       "arguments": {},
       "columnCustomDisplayInfos": {},
       "data": [
        [
         1,
         65.56,
         "2023-11-18T13:49:42.000Z"
        ]
       ],
       "datasetInfos": [],
       "dbfsResultPath": null,
       "isJsonSchema": true,
       "metadata": {},
       "overflow": false,
       "plotOptions": {
        "customPlotOptions": {},
        "displayType": "table",
        "pivotAggregation": null,
        "pivotColumns": null,
        "xColumns": null,
        "yColumns": null
       },
       "removedWidgets": [],
       "schema": [
        {
         "metadata": "{}",
         "name": "user_id",
         "type": "\"long\""
        },
        {
         "metadata": "{}",
         "name": "third_transaction_spend",
         "type": "\"double\""
        },
        {
         "metadata": "{}",
         "name": "third_transaction_date",
         "type": "\"timestamp\""
        }
       ],
       "type": "table"
      }
     },
     "output_type": "display_data"
    }
   ],
   "source": [
    "transactions_df_2986\\\n",
    "    .filter(\n",
    "        (col(\"txn_number\") == 3) &\n",
    "        (col(\"prev1\") < col(\"spend\")) &\n",
    "        (col(\"prev2\") < col(\"spend\")))\\\n",
    "            .select(\n",
    "                \"user_id\",\n",
    "                col(\"spend\").alias(\"third_transaction_spend\"),\n",
    "                col(\"transaction_date\").alias(\"third_transaction_date\")).orderBy(\"user_id\").display()"
   ]
  }
 ],
 "metadata": {
  "application/vnd.databricks.v1+notebook": {
   "computePreferences": {
    "hardware": {
     "accelerator": null,
     "gpuPoolId": null,
     "memory": null
    }
   },
   "dashboards": [],
   "environmentMetadata": {
    "base_environment": "",
    "environment_version": "2"
   },
   "inputWidgetPreferences": null,
   "language": "python",
   "notebookMetadata": {
    "pythonIndentUnit": 4
   },
   "notebookName": "2986. Find Third Transaction (Medium)-(Solved)",
   "widgets": {}
  },
  "language_info": {
   "name": "python"
  }
 },
 "nbformat": 4,
 "nbformat_minor": 0
}
