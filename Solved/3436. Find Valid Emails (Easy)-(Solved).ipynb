{
 "cells": [
  {
   "cell_type": "markdown",
   "metadata": {
    "application/vnd.databricks.v1+cell": {
     "cellMetadata": {
      "byteLimit": 2048000,
      "rowLimit": 10000
     },
     "inputWidgets": {},
     "nuid": "7d1791bd-9552-4116-90b2-daa678bbffb8",
     "showTitle": false,
     "tableResultSettingsMap": {},
     "title": ""
    }
   },
   "source": [
    "## Importing Libraries"
   ]
  },
  {
   "cell_type": "code",
   "execution_count": 0,
   "metadata": {
    "application/vnd.databricks.v1+cell": {
     "cellMetadata": {
      "byteLimit": 2048000,
      "rowLimit": 10000
     },
     "inputWidgets": {},
     "nuid": "2901fbc9-49db-4285-8b94-c460f34d4c4f",
     "showTitle": false,
     "tableResultSettingsMap": {},
     "title": ""
    }
   },
   "outputs": [],
   "source": [
    "from pyspark.sql.functions import *\n",
    "from pyspark.sql.types import *\n",
    "from pyspark.sql.window import Window"
   ]
  },
  {
   "cell_type": "markdown",
   "metadata": {
    "application/vnd.databricks.v1+cell": {
     "cellMetadata": {
      "byteLimit": 2048000,
      "rowLimit": 10000
     },
     "inputWidgets": {},
     "nuid": "655120e7-6b25-417c-a08a-c6925feaa425",
     "showTitle": false,
     "tableResultSettingsMap": {},
     "title": ""
    }
   },
   "source": [
    "**3436. Find Valid Emails (Easy)**\n",
    "\n",
    "**Table: Users**\n",
    "\n",
    "| Column Name     | Type    |\n",
    "|-----------------|---------|\n",
    "| user_id         | int     |\n",
    "| email           | varchar |\n",
    "\n",
    "(user_id) is the unique key for this table.\n",
    "Each row contains a user's unique ID and email address.\n",
    "\n",
    "**Write a solution to find all the valid email addresses. A valid email address meets the following criteria:**\n",
    "- It contains exactly one @ symbol.\n",
    "- It ends with .com.\n",
    "- The part before the @ symbol contains only alphanumeric characters and underscores.\n",
    "- The part after the @ symbol and before .com contains a domain name that contains only letters.\n",
    "\n",
    "Return the result table ordered by user_id in ascending order.\n",
    "\n",
    "**Example:**\n",
    "\n",
    "**Input:**\n",
    "\n",
    "**Users table:**\n",
    "\n",
    "| user_id | email               |\n",
    "|---------|---------------------|\n",
    "| 1       | alice@example.com   |\n",
    "| 2       | bob_at_example.com  |\n",
    "| 3       | charlie@example.net |\n",
    "| 4       | david@domain.com    |\n",
    "| 5       | eve@invalid         |\n",
    "\n",
    "**Output:**\n",
    "\n",
    "| user_id | email             |\n",
    "|---------|-------------------|\n",
    "| 1       | alice@example.com |\n",
    "| 4       | david@domain.com  |\n",
    "\n",
    "**Explanation:**\n",
    "\n",
    "- **alice@example.com** is valid because it contains one @, alice is alphanumeric, and example.com starts with a letter and ends with .com.\n",
    "- **bob_at_example.com** is invalid because it contains an underscore instead of an @.\n",
    "- **charlie@example.net** is invalid because the domain does not end with .com.\n",
    "- **david@domain.com** is valid because it meets all criteria.\n",
    "- **eve@invalid** is invalid because the domain does not end with .com.\n",
    "\n",
    "Result table is ordered by user_id in ascending order."
   ]
  },
  {
   "cell_type": "code",
   "execution_count": 0,
   "metadata": {
    "application/vnd.databricks.v1+cell": {
     "cellMetadata": {
      "byteLimit": 2048000,
      "rowLimit": 10000
     },
     "inputWidgets": {},
     "nuid": "a2368434-0191-416c-aa1d-12cd44cf48e6",
     "showTitle": false,
     "tableResultSettingsMap": {},
     "title": ""
    }
   },
   "outputs": [
    {
     "output_type": "stream",
     "name": "stdout",
     "output_type": "stream",
     "text": [
      "+-------+-------------------+\n|user_id|              email|\n+-------+-------------------+\n|      1|  alice@example.com|\n|      2| bob_at_example.com|\n|      3|charlie@example.net|\n|      4|   david@domain.com|\n|      5|        eve@invalid|\n+-------+-------------------+\n\n"
     ]
    }
   ],
   "source": [
    "users_data_3436 = [\n",
    "    (1, \"alice@example.com\"),\n",
    "    (2, \"bob_at_example.com\"),\n",
    "    (3, \"charlie@example.net\"),\n",
    "    (4, \"david@domain.com\"),\n",
    "    (5, \"eve@invalid\")\n",
    "]\n",
    "\n",
    "users_columns_3436 = [\"user_id\", \"email\"]\n",
    "users_df_3436 = spark.createDataFrame(users_data_3436, users_columns_3436)\n",
    "users_df_3436.show()"
   ]
  },
  {
   "cell_type": "code",
   "execution_count": 0,
   "metadata": {
    "application/vnd.databricks.v1+cell": {
     "cellMetadata": {
      "byteLimit": 2048000,
      "rowLimit": 10000
     },
     "inputWidgets": {},
     "nuid": "e6fefed6-9ba4-4f57-929f-1515c2b1d6e9",
     "showTitle": false,
     "tableResultSettingsMap": {},
     "title": ""
    }
   },
   "outputs": [],
   "source": [
    "valid_email_pattern = r\"^[A-Za-z0-9_]+@[A-Za-z]+\\.com$\""
   ]
  },
  {
   "cell_type": "code",
   "execution_count": 0,
   "metadata": {
    "application/vnd.databricks.v1+cell": {
     "cellMetadata": {
      "byteLimit": 2048000,
      "rowLimit": 10000
     },
     "inputWidgets": {},
     "nuid": "60fe254c-5e2f-4c82-acbc-4e9107f7c70f",
     "showTitle": false,
     "tableResultSettingsMap": {},
     "title": ""
    }
   },
   "outputs": [
    {
     "output_type": "display_data",
     "data": {
      "text/html": [
       "<style scoped>\n",
       "  .table-result-container {\n",
       "    max-height: 300px;\n",
       "    overflow: auto;\n",
       "  }\n",
       "  table, th, td {\n",
       "    border: 1px solid black;\n",
       "    border-collapse: collapse;\n",
       "  }\n",
       "  th, td {\n",
       "    padding: 5px;\n",
       "  }\n",
       "  th {\n",
       "    text-align: left;\n",
       "  }\n",
       "</style><div class='table-result-container'><table class='table-result'><thead style='background-color: white'><tr><th>user_id</th><th>email</th></tr></thead><tbody><tr><td>1</td><td>alice@example.com</td></tr><tr><td>4</td><td>david@domain.com</td></tr></tbody></table></div>"
      ]
     },
     "metadata": {
      "application/vnd.databricks.v1+output": {
       "addedWidgets": {},
       "aggData": [],
       "aggError": "",
       "aggOverflow": false,
       "aggSchema": [],
       "aggSeriesLimitReached": false,
       "aggType": "",
       "arguments": {},
       "columnCustomDisplayInfos": {},
       "data": [
        [
         1,
         "alice@example.com"
        ],
        [
         4,
         "david@domain.com"
        ]
       ],
       "datasetInfos": [],
       "dbfsResultPath": null,
       "isJsonSchema": true,
       "metadata": {},
       "overflow": false,
       "plotOptions": {
        "customPlotOptions": {},
        "displayType": "table",
        "pivotAggregation": null,
        "pivotColumns": null,
        "xColumns": null,
        "yColumns": null
       },
       "removedWidgets": [],
       "schema": [
        {
         "metadata": "{}",
         "name": "user_id",
         "type": "\"long\""
        },
        {
         "metadata": "{}",
         "name": "email",
         "type": "\"string\""
        }
       ],
       "type": "table"
      }
     },
     "output_type": "display_data"
    }
   ],
   "source": [
    "users_df_3436\\\n",
    "    .filter(col(\"email\").rlike(valid_email_pattern)) \\\n",
    "        .orderBy(\"user_id\").display()"
   ]
  }
 ],
 "metadata": {
  "application/vnd.databricks.v1+notebook": {
   "computePreferences": {
    "hardware": {
     "accelerator": null,
     "gpuPoolId": null,
     "memory": null
    }
   },
   "dashboards": [],
   "environmentMetadata": {
    "base_environment": "",
    "environment_version": "2"
   },
   "inputWidgetPreferences": null,
   "language": "python",
   "notebookMetadata": {
    "pythonIndentUnit": 4
   },
   "notebookName": "3436. Find Valid Emails (Easy)-(Solved)",
   "widgets": {}
  },
  "language_info": {
   "name": "python"
  }
 },
 "nbformat": 4,
 "nbformat_minor": 0
}
