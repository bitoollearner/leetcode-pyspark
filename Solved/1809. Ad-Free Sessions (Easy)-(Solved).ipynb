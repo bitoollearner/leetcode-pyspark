{
 "cells": [
  {
   "cell_type": "markdown",
   "metadata": {
    "application/vnd.databricks.v1+cell": {
     "cellMetadata": {
      "byteLimit": 2048000,
      "rowLimit": 10000
     },
     "inputWidgets": {},
     "nuid": "fadf709d-de3d-4bfc-b69f-3b489de68bef",
     "showTitle": false,
     "tableResultSettingsMap": {},
     "title": ""
    }
   },
   "source": [
    "## Importing Libraries"
   ]
  },
  {
   "cell_type": "code",
   "execution_count": 0,
   "metadata": {
    "application/vnd.databricks.v1+cell": {
     "cellMetadata": {
      "byteLimit": 2048000,
      "rowLimit": 10000
     },
     "inputWidgets": {},
     "nuid": "d4a1fef1-aa99-469c-b35f-9b3f3e81c9f7",
     "showTitle": false,
     "tableResultSettingsMap": {},
     "title": ""
    }
   },
   "outputs": [],
   "source": [
    "from pyspark.sql.functions import *\n",
    "from pyspark.sql.types import *\n",
    "from pyspark.sql.window import Window"
   ]
  },
  {
   "cell_type": "markdown",
   "metadata": {
    "application/vnd.databricks.v1+cell": {
     "cellMetadata": {
      "byteLimit": 2048000,
      "rowLimit": 10000
     },
     "inputWidgets": {},
     "nuid": "78daa073-80d8-4f7e-9cfa-10f6eb568909",
     "showTitle": false,
     "tableResultSettingsMap": {},
     "title": ""
    }
   },
   "source": [
    "**1809. Ad-Free Sessions (Easy)**\n",
    "\n",
    "**Table: Playback**\n",
    "\n",
    "| Column Name | Type |\n",
    "|-------------|------|\n",
    "| session_id  | int  |\n",
    "| customer_id | int  |\n",
    "| start_time  | int  |\n",
    "| end_time    | int  |\n",
    "\n",
    "session_id is the column with unique values for this table.\n",
    "customer_id is the ID of the customer watching this session.\n",
    "The session runs during the inclusive interval between start_time and end_time.\n",
    "It is guaranteed that start_time <= end_time and that two sessions for the same customer do not intersect.\n",
    " \n",
    "**Table: Ads**\n",
    "\n",
    "| Column Name | Type |\n",
    "|-------------|------|\n",
    "| ad_id       | int  |\n",
    "| customer_id | int  |\n",
    "| timestamp   | int  |\n",
    "\n",
    "ad_id is the column with unique values for this table.\n",
    "customer_id is the ID of the customer viewing this ad.\n",
    "timestamp is the moment of time at which the ad was shown.\n",
    " \n",
    "**Write a solution to report all the sessions that did not get shown any ads.**\n",
    "\n",
    "Return the result table in any order.\n",
    "\n",
    "The result format is in the following example.\n",
    "\n",
    "**Example 1:**\n",
    "\n",
    "**Input:** \n",
    "\n",
    "**Playback table:**\n",
    "\n",
    "| session_id | customer_id | start_time | end_time |\n",
    "|------------|-------------|------------|----------|\n",
    "| 1          | 1           | 1          | 5        |\n",
    "| 2          | 1           | 15         | 23       |\n",
    "| 3          | 2           | 10         | 12       |\n",
    "| 4          | 2           | 17         | 28       |\n",
    "| 5          | 2           | 2          | 8        |\n",
    "\n",
    "**Ads table:**\n",
    "| ad_id | customer_id | timestamp |\n",
    "|-------|-------------|-----------|\n",
    "| 1     | 1           | 5         |\n",
    "| 2     | 2           | 17        |\n",
    "| 3     | 2           | 20        |\n",
    "\n",
    "**Output:** \n",
    "| session_id |\n",
    "|------------|\n",
    "| 2          |\n",
    "| 3          |\n",
    "| 5          |\n",
    "\n",
    "**Explanation:** \n",
    "- The ad with ID 1 was shown to user 1 at time 5 while they were in session 1.\n",
    "- The ad with ID 2 was shown to user 2 at time 17 while they were in session 4.\n",
    "- The ad with ID 3 was shown to user 2 at time 20 while they were in session 4.\n",
    "\n",
    "We can see that sessions 1 and 4 had at least one ad. Sessions 2, 3, and 5 did not have any ads, so we return them."
   ]
  },
  {
   "cell_type": "code",
   "execution_count": 0,
   "metadata": {
    "application/vnd.databricks.v1+cell": {
     "cellMetadata": {
      "byteLimit": 2048000,
      "rowLimit": 10000
     },
     "inputWidgets": {},
     "nuid": "7b78bc27-26cd-4523-8646-7369baf68fcb",
     "showTitle": false,
     "tableResultSettingsMap": {},
     "title": ""
    }
   },
   "outputs": [
    {
     "output_type": "stream",
     "name": "stdout",
     "output_type": "stream",
     "text": [
      "+----------+-----------+----------+--------+\n|session_id|customer_id|start_time|end_time|\n+----------+-----------+----------+--------+\n|         1|          1|         1|       5|\n|         2|          1|        15|      23|\n|         3|          2|        10|      12|\n|         4|          2|        17|      28|\n|         5|          2|         2|       8|\n+----------+-----------+----------+--------+\n\n+-----+-----------+---------+\n|ad_id|customer_id|timestamp|\n+-----+-----------+---------+\n|    1|          1|        5|\n|    2|          2|       17|\n|    3|          2|       20|\n+-----+-----------+---------+\n\n"
     ]
    }
   ],
   "source": [
    "playback_data_1809 = [\n",
    "    (1, 1, 1, 5),\n",
    "    (2, 1, 15, 23),\n",
    "    (3, 2, 10, 12),\n",
    "    (4, 2, 17, 28),\n",
    "    (5, 2, 2, 8),\n",
    "]\n",
    "\n",
    "playback_columns_1809 = [\"session_id\", \"customer_id\", \"start_time\", \"end_time\"]\n",
    "playback_df_1809 = spark.createDataFrame(playback_data_1809, playback_columns_1809)\n",
    "playback_df_1809.show()\n",
    "\n",
    "ads_data_1809 = [\n",
    "    (1, 1, 5),\n",
    "    (2, 2, 17),\n",
    "    (3, 2, 20),\n",
    "]\n",
    "\n",
    "ads_columns_1809 = [\"ad_id\", \"customer_id\", \"timestamp\"]\n",
    "ads_df_1809 = spark.createDataFrame(ads_data_1809, ads_columns_1809)\n",
    "ads_df_1809.show()"
   ]
  },
  {
   "cell_type": "code",
   "execution_count": 0,
   "metadata": {
    "application/vnd.databricks.v1+cell": {
     "cellMetadata": {
      "byteLimit": 2048000,
      "rowLimit": 10000
     },
     "inputWidgets": {},
     "nuid": "165fee69-a5ef-4e45-8150-10c685559726",
     "showTitle": false,
     "tableResultSettingsMap": {},
     "title": ""
    }
   },
   "outputs": [],
   "source": [
    "joined_df_1809 = playback_df_1809\\\n",
    "                        .join(ads_df_1809, \"customer_id\", \"left\")"
   ]
  },
  {
   "cell_type": "code",
   "execution_count": 0,
   "metadata": {
    "application/vnd.databricks.v1+cell": {
     "cellMetadata": {
      "byteLimit": 2048000,
      "rowLimit": 10000
     },
     "inputWidgets": {},
     "nuid": "cc064303-77db-474f-b820-953ebda3a9ed",
     "showTitle": false,
     "tableResultSettingsMap": {},
     "title": ""
    }
   },
   "outputs": [],
   "source": [
    "ad_sessions_df_1809 = joined_df_1809\\\n",
    "                        .filter(\n",
    "                            (col(\"timestamp\").isNotNull()) &\n",
    "                            (col(\"timestamp\") >= col(\"start_time\")) &\n",
    "                            (col(\"timestamp\") <= col(\"end_time\"))\n",
    "                            )\\\n",
    "                                .select(\"session_id\").distinct()"
   ]
  },
  {
   "cell_type": "code",
   "execution_count": 0,
   "metadata": {
    "application/vnd.databricks.v1+cell": {
     "cellMetadata": {
      "byteLimit": 2048000,
      "rowLimit": 10000
     },
     "inputWidgets": {},
     "nuid": "183e55bc-7ec1-4060-8a17-61801f6a1949",
     "showTitle": false,
     "tableResultSettingsMap": {},
     "title": ""
    }
   },
   "outputs": [
    {
     "output_type": "stream",
     "name": "stdout",
     "output_type": "stream",
     "text": [
      "+----------+\n|session_id|\n+----------+\n|         2|\n|         3|\n|         5|\n+----------+\n\n"
     ]
    }
   ],
   "source": [
    "playback_df_1809\\\n",
    "    .select(\"session_id\").subtract(ad_sessions_df_1809).show()"
   ]
  }
 ],
 "metadata": {
  "application/vnd.databricks.v1+notebook": {
   "computePreferences": {
    "hardware": {
     "accelerator": null,
     "gpuPoolId": null,
     "memory": null
    }
   },
   "dashboards": [],
   "environmentMetadata": {
    "base_environment": "",
    "environment_version": "2"
   },
   "inputWidgetPreferences": null,
   "language": "python",
   "notebookMetadata": {
    "pythonIndentUnit": 4
   },
   "notebookName": "1809. Ad-Free Sessions (Easy)-(Solved)",
   "widgets": {}
  },
  "language_info": {
   "name": "python"
  }
 },
 "nbformat": 4,
 "nbformat_minor": 0
}
