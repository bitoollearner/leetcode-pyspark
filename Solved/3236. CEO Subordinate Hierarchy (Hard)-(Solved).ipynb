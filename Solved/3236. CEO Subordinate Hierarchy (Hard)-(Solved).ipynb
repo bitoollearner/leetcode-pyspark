{
 "cells": [
  {
   "cell_type": "markdown",
   "metadata": {
    "application/vnd.databricks.v1+cell": {
     "cellMetadata": {
      "byteLimit": 2048000,
      "rowLimit": 10000
     },
     "inputWidgets": {},
     "nuid": "7d1791bd-9552-4116-90b2-daa678bbffb8",
     "showTitle": false,
     "tableResultSettingsMap": {},
     "title": ""
    }
   },
   "source": [
    "## Importing Libraries"
   ]
  },
  {
   "cell_type": "code",
   "execution_count": 0,
   "metadata": {
    "application/vnd.databricks.v1+cell": {
     "cellMetadata": {
      "byteLimit": 2048000,
      "rowLimit": 10000
     },
     "inputWidgets": {},
     "nuid": "2901fbc9-49db-4285-8b94-c460f34d4c4f",
     "showTitle": false,
     "tableResultSettingsMap": {},
     "title": ""
    }
   },
   "outputs": [],
   "source": [
    "from pyspark.sql.functions import *\n",
    "from pyspark.sql.types import *\n",
    "from pyspark.sql.window import Window"
   ]
  },
  {
   "cell_type": "markdown",
   "metadata": {
    "application/vnd.databricks.v1+cell": {
     "cellMetadata": {
      "byteLimit": 2048000,
      "rowLimit": 10000
     },
     "inputWidgets": {},
     "nuid": "655120e7-6b25-417c-a08a-c6925feaa425",
     "showTitle": false,
     "tableResultSettingsMap": {},
     "title": ""
    }
   },
   "source": [
    "**3236. CEO Subordinate Hierarchy (Hard)**\n",
    "\n",
    "**Table: Employees**\n",
    "\n",
    "| Column Name   | Type    |\n",
    "|---------------|---------|\n",
    "| employee_id   | int     |\n",
    "| employee_name | varchar |\n",
    "| manager_id    | int     |\n",
    "| salary        | int     |\n",
    "\n",
    "employee_id is the unique identifier for this table.\n",
    "manager_id is the employee_id of the employee's manager. The CEO has a NULL manager_id.\n",
    "\n",
    "**Write a solution to find subordinates of the CEO (both direct and indirect), along with their level in the hierarchy and their salary difference from the CEO.**\n",
    "\n",
    "The result should have the following columns:\n",
    "\n",
    "The query result format is in the following example.\n",
    "- subordinate_id: The employee_id of the subordinate\n",
    "- subordinate_name: The name of the subordinate\n",
    "- hierarchy_level: The level of the subordinate in the hierarchy (1 for direct reports, 2 for their direct reports, and so on)\n",
    "- salary_difference: The difference between the subordinate's salary and the CEO's salary\n",
    "\n",
    "Return the result table ordered by hierarchy_level ascending, and then by subordinate_id ascending.\n",
    "\n",
    "The query result format is in the following example.\n",
    "\n",
    "**Example:**\n",
    "\n",
    "**Input:**\n",
    "\n",
    "**Employees table:**\n",
    "\n",
    "| employee_id | employee_name  | manager_id | salary  |\n",
    "|-------------|----------------|------------|---------|\n",
    "| 1           | Alice          | NULL       | 150000  |\n",
    "| 2           | Bob            | 1          | 120000  |\n",
    "| 3           | Charlie        | 1          | 110000  |\n",
    "| 4           | David          | 2          | 105000  |\n",
    "| 5           | Eve            | 2          | 100000  |\n",
    "| 6           | Frank          | 3          | 95000   |\n",
    "| 7           | Grace          | 3          | 98000   |\n",
    "| 8           | Helen          | 5          | 90000   |\n",
    "\n",
    "**Output:**\n",
    "\n",
    "| subordinate_id | subordinate_name | hierarchy_level  | salary_difference |\n",
    "|----------------|------------------|------------------|-------------------|\n",
    "| 2              | Bob              | 1                | -30000            |\n",
    "| 3              | Charlie          | 1                | -40000            |\n",
    "| 4              | David            | 2                | -45000            |\n",
    "| 5              | Eve              | 2                | -50000            |\n",
    "| 6              | Frank            | 2                | -55000            |\n",
    "| 7              | Grace            | 2                | -52000            |\n",
    "| 8              | Helen            | 3                | -60000            |\n",
    "\n",
    "**Explanation:**\n",
    "\n",
    "- Bob and Charlie are direct subordinates of Alice (CEO) and thus have a hierarchy_level of 1.\n",
    "- David and Eve report to Bob, while Frank and Grace report to Charlie, making them second-level subordinates (hierarchy_level 2).\n",
    "- Helen reports to Eve, making Helen a third-level subordinate (hierarchy_level 3).\n",
    "- Salary differences are calculated relative to Alice's salary of 150000.\n",
    "- The result is ordered by hierarchy_level ascending, and then by subordinate_id ascending.\n",
    "\n",
    "**Note:** The output is ordered first by hierarchy_level in ascending order, then by subordinate_id in ascending order.\n"
   ]
  },
  {
   "cell_type": "code",
   "execution_count": 0,
   "metadata": {
    "application/vnd.databricks.v1+cell": {
     "cellMetadata": {
      "byteLimit": 2048000,
      "rowLimit": 10000
     },
     "inputWidgets": {},
     "nuid": "a2368434-0191-416c-aa1d-12cd44cf48e6",
     "showTitle": false,
     "tableResultSettingsMap": {},
     "title": ""
    }
   },
   "outputs": [
    {
     "output_type": "stream",
     "name": "stdout",
     "output_type": "stream",
     "text": [
      "+-----------+-------------+----------+------+\n|employee_id|employee_name|manager_id|salary|\n+-----------+-------------+----------+------+\n|          1|        Alice|      NULL|150000|\n|          2|          Bob|         1|120000|\n|          3|      Charlie|         1|110000|\n|          4|        David|         2|105000|\n|          5|          Eve|         2|100000|\n|          6|        Frank|         3| 95000|\n|          7|        Grace|         3| 98000|\n|          8|        Helen|         5| 90000|\n+-----------+-------------+----------+------+\n\n"
     ]
    }
   ],
   "source": [
    "employees_data_3236 = [\n",
    "    (1, \"Alice\", None, 150000),\n",
    "    (2, \"Bob\", 1, 120000),\n",
    "    (3, \"Charlie\", 1, 110000),\n",
    "    (4, \"David\", 2, 105000),\n",
    "    (5, \"Eve\", 2, 100000),\n",
    "    (6, \"Frank\", 3, 95000),\n",
    "    (7, \"Grace\", 3, 98000),\n",
    "    (8, \"Helen\", 5, 90000)\n",
    "]\n",
    "\n",
    "employees_columns_3236 = [\"employee_id\", \"employee_name\", \"manager_id\", \"salary\"]\n",
    "employees_df_3236 = spark.createDataFrame(employees_data_3236, employees_columns_3236)\n",
    "employees_df_3236.show()\n"
   ]
  },
  {
   "cell_type": "code",
   "execution_count": 0,
   "metadata": {
    "application/vnd.databricks.v1+cell": {
     "cellMetadata": {
      "byteLimit": 2048000,
      "rowLimit": 10000
     },
     "inputWidgets": {},
     "nuid": "be9d5078-88dc-4d0a-9746-45b821b00352",
     "showTitle": false,
     "tableResultSettingsMap": {},
     "title": ""
    }
   },
   "outputs": [],
   "source": [
    "ceo_3236 = employees_df_3236\\\n",
    "                .filter(col(\"manager_id\").isNull()).collect()[0]\n",
    "ceo_id_3236 = ceo_3236[\"employee_id\"]\n",
    "ceo_salary_3236 = ceo_3236[\"salary\"]"
   ]
  },
  {
   "cell_type": "code",
   "execution_count": 0,
   "metadata": {
    "application/vnd.databricks.v1+cell": {
     "cellMetadata": {
      "byteLimit": 2048000,
      "rowLimit": 10000
     },
     "inputWidgets": {},
     "nuid": "1e31cd23-e9dd-4de0-83d6-93b5cd36ecd4",
     "showTitle": false,
     "tableResultSettingsMap": {},
     "title": ""
    }
   },
   "outputs": [],
   "source": [
    "level1 = employees_df_3236\\\n",
    "            .filter(col(\"manager_id\") == ceo_id_3236) \\\n",
    "                .withColumn(\"hierarchy_level\", lit(1)) \\\n",
    "                    .withColumn(\"salary_difference\", col(\"salary\") - lit(ceo_salary_3236))"
   ]
  },
  {
   "cell_type": "code",
   "execution_count": 0,
   "metadata": {
    "application/vnd.databricks.v1+cell": {
     "cellMetadata": {
      "byteLimit": 2048000,
      "rowLimit": 10000
     },
     "inputWidgets": {},
     "nuid": "5fd38289-9f49-4b1d-936b-245d4f8817d9",
     "showTitle": false,
     "tableResultSettingsMap": {},
     "title": ""
    }
   },
   "outputs": [],
   "source": [
    "emp = employees_df_3236.alias(\"emp\")\n",
    "lvl1 = level1.alias(\"lvl1\")\n",
    "level2 = emp.join(lvl1, emp.manager_id == lvl1.employee_id) \\\n",
    "    .withColumn(\"hierarchy_level\", lit(2)) \\\n",
    "    .withColumn(\"salary_difference\", col(\"emp.salary\") - lit(ceo_salary_3236)) \\\n",
    "    .select(col(\"emp.employee_id\"), col(\"emp.employee_name\"), \"hierarchy_level\", \"salary_difference\")"
   ]
  },
  {
   "cell_type": "code",
   "execution_count": 0,
   "metadata": {
    "application/vnd.databricks.v1+cell": {
     "cellMetadata": {
      "byteLimit": 2048000,
      "rowLimit": 10000
     },
     "inputWidgets": {},
     "nuid": "ac166aa2-c75c-4b2e-8716-04ecc30ed7b4",
     "showTitle": false,
     "tableResultSettingsMap": {},
     "title": ""
    }
   },
   "outputs": [],
   "source": [
    "lvl2 = level2.alias(\"lvl2\")\n",
    "level3 = emp.join(lvl2, emp.manager_id == lvl2.employee_id) \\\n",
    "    .withColumn(\"hierarchy_level\", lit(3)) \\\n",
    "    .withColumn(\"salary_difference\", col(\"emp.salary\") - lit(ceo_salary_3236)) \\\n",
    "    .select(col(\"emp.employee_id\"), col(\"emp.employee_name\"), \"hierarchy_level\", \"salary_difference\")"
   ]
  },
  {
   "cell_type": "code",
   "execution_count": 0,
   "metadata": {
    "application/vnd.databricks.v1+cell": {
     "cellMetadata": {
      "byteLimit": 2048000,
      "rowLimit": 10000
     },
     "inputWidgets": {},
     "nuid": "8de8a6db-b78e-4bb7-a51b-a02a813e764c",
     "showTitle": false,
     "tableResultSettingsMap": {},
     "title": ""
    }
   },
   "outputs": [
    {
     "output_type": "display_data",
     "data": {
      "text/html": [
       "<style scoped>\n",
       "  .table-result-container {\n",
       "    max-height: 300px;\n",
       "    overflow: auto;\n",
       "  }\n",
       "  table, th, td {\n",
       "    border: 1px solid black;\n",
       "    border-collapse: collapse;\n",
       "  }\n",
       "  th, td {\n",
       "    padding: 5px;\n",
       "  }\n",
       "  th {\n",
       "    text-align: left;\n",
       "  }\n",
       "</style><div class='table-result-container'><table class='table-result'><thead style='background-color: white'><tr><th>subordinate_id</th><th>subordinate_name</th><th>hierarchy_level</th><th>salary_difference</th></tr></thead><tbody><tr><td>2</td><td>Bob</td><td>1</td><td>-30000</td></tr><tr><td>3</td><td>Charlie</td><td>1</td><td>-40000</td></tr><tr><td>4</td><td>David</td><td>2</td><td>-45000</td></tr><tr><td>5</td><td>Eve</td><td>2</td><td>-50000</td></tr><tr><td>6</td><td>Frank</td><td>2</td><td>-55000</td></tr><tr><td>7</td><td>Grace</td><td>2</td><td>-52000</td></tr><tr><td>8</td><td>Helen</td><td>3</td><td>-60000</td></tr></tbody></table></div>"
      ]
     },
     "metadata": {
      "application/vnd.databricks.v1+output": {
       "addedWidgets": {},
       "aggData": [],
       "aggError": "",
       "aggOverflow": false,
       "aggSchema": [],
       "aggSeriesLimitReached": false,
       "aggType": "",
       "arguments": {},
       "columnCustomDisplayInfos": {},
       "data": [
        [
         2,
         "Bob",
         1,
         -30000
        ],
        [
         3,
         "Charlie",
         1,
         -40000
        ],
        [
         4,
         "David",
         2,
         -45000
        ],
        [
         5,
         "Eve",
         2,
         -50000
        ],
        [
         6,
         "Frank",
         2,
         -55000
        ],
        [
         7,
         "Grace",
         2,
         -52000
        ],
        [
         8,
         "Helen",
         3,
         -60000
        ]
       ],
       "datasetInfos": [],
       "dbfsResultPath": null,
       "isJsonSchema": true,
       "metadata": {},
       "overflow": false,
       "plotOptions": {
        "customPlotOptions": {},
        "displayType": "table",
        "pivotAggregation": null,
        "pivotColumns": null,
        "xColumns": null,
        "yColumns": null
       },
       "removedWidgets": [],
       "schema": [
        {
         "metadata": "{}",
         "name": "subordinate_id",
         "type": "\"long\""
        },
        {
         "metadata": "{}",
         "name": "subordinate_name",
         "type": "\"string\""
        },
        {
         "metadata": "{}",
         "name": "hierarchy_level",
         "type": "\"integer\""
        },
        {
         "metadata": "{}",
         "name": "salary_difference",
         "type": "\"long\""
        }
       ],
       "type": "table"
      }
     },
     "output_type": "display_data"
    }
   ],
   "source": [
    "level1\\\n",
    "    .select(col(\"employee_id\"), col(\"employee_name\"), \"hierarchy_level\", \"salary_difference\") \\\n",
    "        .union(level2) \\\n",
    "            .union(level3) \\\n",
    "                .withColumnRenamed(\"employee_id\", \"subordinate_id\") \\\n",
    "                    .withColumnRenamed(\"employee_name\", \"subordinate_name\") \\\n",
    "                        .orderBy(\"hierarchy_level\", \"subordinate_id\").display()"
   ]
  }
 ],
 "metadata": {
  "application/vnd.databricks.v1+notebook": {
   "computePreferences": {
    "hardware": {
     "accelerator": null,
     "gpuPoolId": null,
     "memory": null
    }
   },
   "dashboards": [],
   "environmentMetadata": {
    "base_environment": "",
    "environment_version": "2"
   },
   "inputWidgetPreferences": null,
   "language": "python",
   "notebookMetadata": {
    "pythonIndentUnit": 4
   },
   "notebookName": "3236. CEO Subordinate Hierarchy (Hard)-(Solved)",
   "widgets": {}
  },
  "language_info": {
   "name": "python"
  }
 },
 "nbformat": 4,
 "nbformat_minor": 0
}
