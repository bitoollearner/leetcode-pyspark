{
 "cells": [
  {
   "cell_type": "markdown",
   "metadata": {
    "application/vnd.databricks.v1+cell": {
     "cellMetadata": {},
     "inputWidgets": {},
     "nuid": "7d1791bd-9552-4116-90b2-daa678bbffb8",
     "showTitle": false,
     "tableResultSettingsMap": {},
     "title": ""
    }
   },
   "source": [
    "## Importing Libraries"
   ]
  },
  {
   "cell_type": "code",
   "execution_count": 0,
   "metadata": {
    "application/vnd.databricks.v1+cell": {
     "cellMetadata": {},
     "inputWidgets": {},
     "nuid": "2901fbc9-49db-4285-8b94-c460f34d4c4f",
     "showTitle": false,
     "tableResultSettingsMap": {},
     "title": ""
    }
   },
   "outputs": [],
   "source": [
    "from pyspark.sql.functions import *\n",
    "from pyspark.sql.types import *\n",
    "from pyspark.sql.window import Window"
   ]
  },
  {
   "cell_type": "markdown",
   "metadata": {
    "application/vnd.databricks.v1+cell": {
     "cellMetadata": {},
     "inputWidgets": {},
     "nuid": "655120e7-6b25-417c-a08a-c6925feaa425",
     "showTitle": false,
     "tableResultSettingsMap": {},
     "title": ""
    }
   },
   "source": [
    "**3236. CEO Subordinate Hierarchy (Hard)**\n",
    "\n",
    "**Table: Employees**\n",
    "\n",
    "| Column Name   | Type    |\n",
    "|---------------|---------|\n",
    "| employee_id   | int     |\n",
    "| employee_name | varchar |\n",
    "| manager_id    | int     |\n",
    "| salary        | int     |\n",
    "\n",
    "employee_id is the unique identifier for this table.\n",
    "manager_id is the employee_id of the employee's manager. The CEO has a NULL manager_id.\n",
    "\n",
    "**Write a solution to find subordinates of the CEO (both direct and indirect), along with their level in the hierarchy and their salary difference from the CEO.**\n",
    "\n",
    "The result should have the following columns:\n",
    "\n",
    "The query result format is in the following example.\n",
    "- subordinate_id: The employee_id of the subordinate\n",
    "- subordinate_name: The name of the subordinate\n",
    "- hierarchy_level: The level of the subordinate in the hierarchy (1 for direct reports, 2 for their direct reports, and so on)\n",
    "- salary_difference: The difference between the subordinate's salary and the CEO's salary\n",
    "\n",
    "Return the result table ordered by hierarchy_level ascending, and then by subordinate_id ascending.\n",
    "\n",
    "The query result format is in the following example.\n",
    "\n",
    "**Example:**\n",
    "\n",
    "**Input:**\n",
    "\n",
    "**Employees table:**\n",
    "\n",
    "| employee_id | employee_name  | manager_id | salary  |\n",
    "|-------------|----------------|------------|---------|\n",
    "| 1           | Alice          | NULL       | 150000  |\n",
    "| 2           | Bob            | 1          | 120000  |\n",
    "| 3           | Charlie        | 1          | 110000  |\n",
    "| 4           | David          | 2          | 105000  |\n",
    "| 5           | Eve            | 2          | 100000  |\n",
    "| 6           | Frank          | 3          | 95000   |\n",
    "| 7           | Grace          | 3          | 98000   |\n",
    "| 8           | Helen          | 5          | 90000   |\n",
    "\n",
    "**Output:**\n",
    "\n",
    "| subordinate_id | subordinate_name | hierarchy_level  | salary_difference |\n",
    "|----------------|------------------|------------------|-------------------|\n",
    "| 2              | Bob              | 1                | -30000            |\n",
    "| 3              | Charlie          | 1                | -40000            |\n",
    "| 4              | David            | 2                | -45000            |\n",
    "| 5              | Eve              | 2                | -50000            |\n",
    "| 6              | Frank            | 2                | -55000            |\n",
    "| 7              | Grace            | 2                | -52000            |\n",
    "| 8              | Helen            | 3                | -60000            |\n",
    "\n",
    "**Explanation:**\n",
    "\n",
    "- Bob and Charlie are direct subordinates of Alice (CEO) and thus have a hierarchy_level of 1.\n",
    "- David and Eve report to Bob, while Frank and Grace report to Charlie, making them second-level subordinates (hierarchy_level 2).\n",
    "- Helen reports to Eve, making Helen a third-level subordinate (hierarchy_level 3).\n",
    "- Salary differences are calculated relative to Alice's salary of 150000.\n",
    "- The result is ordered by hierarchy_level ascending, and then by subordinate_id ascending.\n",
    "\n",
    "**Note:** The output is ordered first by hierarchy_level in ascending order, then by subordinate_id in ascending order.\n"
   ]
  },
  {
   "cell_type": "code",
   "execution_count": 0,
   "metadata": {
    "application/vnd.databricks.v1+cell": {
     "cellMetadata": {},
     "inputWidgets": {},
     "nuid": "a2368434-0191-416c-aa1d-12cd44cf48e6",
     "showTitle": false,
     "tableResultSettingsMap": {},
     "title": ""
    }
   },
   "outputs": [],
   "source": [
    "employees_data_3236 = [\n",
    "    (1, \"Alice\", None, 150000),\n",
    "    (2, \"Bob\", 1, 120000),\n",
    "    (3, \"Charlie\", 1, 110000),\n",
    "    (4, \"David\", 2, 105000),\n",
    "    (5, \"Eve\", 2, 100000),\n",
    "    (6, \"Frank\", 3, 95000),\n",
    "    (7, \"Grace\", 3, 98000),\n",
    "    (8, \"Helen\", 5, 90000)\n",
    "]\n",
    "\n",
    "employees_columns_3236 = [\"employee_id\", \"employee_name\", \"manager_id\", \"salary\"]\n",
    "employees_df_3236 = spark.createDataFrame(employees_data_3236, employees_columns_3236)\n",
    "employees_df_3236.show()\n"
   ]
  }
 ],
 "metadata": {
  "application/vnd.databricks.v1+notebook": {
   "computePreferences": null,
   "dashboards": [],
   "environmentMetadata": {
    "base_environment": "",
    "environment_version": "1"
   },
   "inputWidgetPreferences": null,
   "language": "python",
   "notebookMetadata": {
    "pythonIndentUnit": 4
   },
   "notebookName": "3236. CEO Subordinate Hierarchy (Hard)-(Solved)",
   "widgets": {}
  },
  "language_info": {
   "name": "python"
  }
 },
 "nbformat": 4,
 "nbformat_minor": 0
}
