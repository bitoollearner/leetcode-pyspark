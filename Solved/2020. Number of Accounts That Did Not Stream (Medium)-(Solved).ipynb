{
 "cells": [
  {
   "cell_type": "markdown",
   "metadata": {
    "application/vnd.databricks.v1+cell": {
     "cellMetadata": {
      "byteLimit": 2048000,
      "rowLimit": 10000
     },
     "inputWidgets": {},
     "nuid": "83d38679-f742-44bb-952b-b541e178ddc8",
     "showTitle": false,
     "tableResultSettingsMap": {},
     "title": ""
    }
   },
   "source": [
    "## Importing Libraries"
   ]
  },
  {
   "cell_type": "code",
   "execution_count": 0,
   "metadata": {
    "application/vnd.databricks.v1+cell": {
     "cellMetadata": {
      "byteLimit": 2048000,
      "rowLimit": 10000
     },
     "inputWidgets": {},
     "nuid": "1daf4387-60f2-4c66-b119-d9ce2cd54aa2",
     "showTitle": false,
     "tableResultSettingsMap": {},
     "title": ""
    }
   },
   "outputs": [],
   "source": [
    "from pyspark.sql.functions import *\n",
    "from pyspark.sql.types import *\n",
    "from pyspark.sql.window import Window"
   ]
  },
  {
   "cell_type": "markdown",
   "metadata": {
    "application/vnd.databricks.v1+cell": {
     "cellMetadata": {
      "byteLimit": 2048000,
      "rowLimit": 10000
     },
     "inputWidgets": {},
     "nuid": "83ab9b20-fd4f-4392-ae0c-ff0580c3c7c1",
     "showTitle": false,
     "tableResultSettingsMap": {},
     "title": ""
    }
   },
   "source": [
    "**2020. Number of Accounts That Did Not Stream (Medium)**\n",
    "\n",
    "**Table: Subscriptions**\n",
    "\n",
    "| Column Name | Type |\n",
    "|-------------|------|\n",
    "| account_id  | int  |\n",
    "| start_date  | date |\n",
    "| end_date    | date |\n",
    "\n",
    "account_id is the primary key column for this table.\n",
    "Each row of this table indicates the start and end dates of an account's subscription.\n",
    "Note that always start_date < end_date.\n",
    " \n",
    "**Table: Streams**\n",
    "\n",
    "| Column Name | Type |\n",
    "|-------------|------|\n",
    "| session_id  | int  |\n",
    "| account_id  | int  |\n",
    "| stream_date | date |\n",
    "\n",
    "session_id is the primary key column for this table.\n",
    "account_id is a foreign key from the Subscriptions table.\n",
    "Each row of this table contains information about the account and the date associated with a stream session.\n",
    " \n",
    "**Write an SQL query to report the number of accounts that bought a subscription in 2021 but did not have any stream session.**\n",
    "\n",
    "The query result format is in the following example.\n",
    "\n",
    "**Example 1:**\n",
    "\n",
    "**Input:** \n",
    "\n",
    "**Subscriptions table:**\n",
    "| account_id | start_date | end_date   |\n",
    "|------------|------------|------------|\n",
    "| 9          | 2021-02-18 | 2021-10-30 |\n",
    "| 3          | 2021-09-21 | 2021-11-13 |\n",
    "| 11         | 2020-02-28 | 2020-08-18 |\n",
    "| 13         | 2021-04-20 | 2021-09-22 |\n",
    "| 4          | 2021-01-26 | 2021-05-08 |\n",
    "| 5          | 2020-09-11 | 2021-01-17 |\n",
    "\n",
    "**Streams table:**\n",
    "| session_id | account_id | stream_date |\n",
    "|------------|------------|-------------|\n",
    "| 14         | 9          | 2020-05-16  |\n",
    "| 16         | 3          | 2021-10-27  |\n",
    "| 18         | 11         | 2020-04-29  |\n",
    "| 17         | 13         | 2021-08-08  |\n",
    "| 19         | 4          | 2020-12-31  |\n",
    "| 13         | 5          | 2021-01-05  |\n",
    "\n",
    "**Output:** \n",
    "| accounts_count |\n",
    "|----------------|\n",
    "| 2              |\n",
    "\n",
    "**Explanation:** Users 4 and 9 did not stream in 2021.\n",
    "User 11 did not subscribe in 2021."
   ]
  },
  {
   "cell_type": "code",
   "execution_count": 0,
   "metadata": {
    "application/vnd.databricks.v1+cell": {
     "cellMetadata": {
      "byteLimit": 2048000,
      "rowLimit": 10000
     },
     "inputWidgets": {},
     "nuid": "e39af07f-85df-4e21-8a5f-c65604a811f3",
     "showTitle": false,
     "tableResultSettingsMap": {},
     "title": ""
    }
   },
   "outputs": [
    {
     "output_type": "stream",
     "name": "stdout",
     "output_type": "stream",
     "text": [
      "+----------+----------+----------+\n|account_id|start_date|  end_date|\n+----------+----------+----------+\n|         9|2021-02-18|2021-10-30|\n|         3|2021-09-21|2021-11-13|\n|        11|2020-02-28|2020-08-18|\n|        13|2021-04-20|2021-09-22|\n|         4|2021-01-26|2021-05-08|\n|         5|2020-09-11|2021-01-17|\n+----------+----------+----------+\n\n+----------+----------+-----------+\n|session_id|account_id|stream_date|\n+----------+----------+-----------+\n|        14|         9| 2020-05-16|\n|        16|         3| 2021-10-27|\n|        18|        11| 2020-04-29|\n|        17|        13| 2021-08-08|\n|        19|         4| 2020-12-31|\n|        13|         5| 2021-01-05|\n+----------+----------+-----------+\n\n"
     ]
    }
   ],
   "source": [
    "subscriptions_data_2020 = [\n",
    "    (9, \"2021-02-18\", \"2021-10-30\"),\n",
    "    (3, \"2021-09-21\", \"2021-11-13\"),\n",
    "    (11, \"2020-02-28\", \"2020-08-18\"),\n",
    "    (13, \"2021-04-20\", \"2021-09-22\"),\n",
    "    (4, \"2021-01-26\", \"2021-05-08\"),\n",
    "    (5, \"2020-09-11\", \"2021-01-17\")\n",
    "]\n",
    "\n",
    "subscriptions_columns_2020 = [\"account_id\", \"start_date\", \"end_date\"]\n",
    "subscriptions_df_2020 = spark.createDataFrame(subscriptions_data_2020, subscriptions_columns_2020)\n",
    "subscriptions_df_2020.show()\n",
    "\n",
    "streams_data_2020 = [\n",
    "    (14, 9, \"2020-05-16\"),\n",
    "    (16, 3, \"2021-10-27\"),\n",
    "    (18, 11, \"2020-04-29\"),\n",
    "    (17, 13, \"2021-08-08\"),\n",
    "    (19, 4, \"2020-12-31\"),\n",
    "    (13, 5, \"2021-01-05\")\n",
    "]\n",
    "\n",
    "streams_columns_2020 = [\"session_id\", \"account_id\", \"stream_date\"]\n",
    "streams_df_2020 = spark.createDataFrame(streams_data_2020, streams_columns_2020)\n",
    "streams_df_2020.show()"
   ]
  },
  {
   "cell_type": "code",
   "execution_count": 0,
   "metadata": {
    "application/vnd.databricks.v1+cell": {
     "cellMetadata": {
      "byteLimit": 2048000,
      "rowLimit": 10000
     },
     "inputWidgets": {},
     "nuid": "0901c1c2-69b2-4da0-b035-e904e9da7390",
     "showTitle": false,
     "tableResultSettingsMap": {},
     "title": ""
    }
   },
   "outputs": [],
   "source": [
    "subscriptions_df_2020 = subscriptions_df_2020\\\n",
    "                            .withColumn(\"start_date\", col(\"start_date\").cast(\"date\")) \\\n",
    "                                .withColumn(\"end_date\", col(\"end_date\").cast(\"date\"))"
   ]
  },
  {
   "cell_type": "code",
   "execution_count": 0,
   "metadata": {
    "application/vnd.databricks.v1+cell": {
     "cellMetadata": {
      "byteLimit": 2048000,
      "rowLimit": 10000
     },
     "inputWidgets": {},
     "nuid": "903bc630-1067-4606-a2b3-05b63ed59c29",
     "showTitle": false,
     "tableResultSettingsMap": {},
     "title": ""
    }
   },
   "outputs": [],
   "source": [
    "streams_df_2020 = streams_df_2020\\\n",
    "                        .withColumn(\"stream_date\", col(\"stream_date\").cast(\"date\"))"
   ]
  },
  {
   "cell_type": "code",
   "execution_count": 0,
   "metadata": {
    "application/vnd.databricks.v1+cell": {
     "cellMetadata": {
      "byteLimit": 2048000,
      "rowLimit": 10000
     },
     "inputWidgets": {},
     "nuid": "4b4707d2-78f1-464e-8d32-84556314f070",
     "showTitle": false,
     "tableResultSettingsMap": {},
     "title": ""
    }
   },
   "outputs": [],
   "source": [
    "subs_2021 = subscriptions_df_2020.filter(year(\"start_date\") == 2021)"
   ]
  },
  {
   "cell_type": "code",
   "execution_count": 0,
   "metadata": {
    "application/vnd.databricks.v1+cell": {
     "cellMetadata": {
      "byteLimit": 2048000,
      "rowLimit": 10000
     },
     "inputWidgets": {},
     "nuid": "3cc33f83-171a-4bc0-8f34-b5ede8d4f5ef",
     "showTitle": false,
     "tableResultSettingsMap": {},
     "title": ""
    }
   },
   "outputs": [],
   "source": [
    "streams_2021 = streams_df_2020.filter(year(\"stream_date\") == 2021)"
   ]
  },
  {
   "cell_type": "code",
   "execution_count": 0,
   "metadata": {
    "application/vnd.databricks.v1+cell": {
     "cellMetadata": {
      "byteLimit": 2048000,
      "rowLimit": 10000
     },
     "inputWidgets": {},
     "nuid": "528f1f88-1726-41d2-a401-51727e965d43",
     "showTitle": false,
     "tableResultSettingsMap": {},
     "title": ""
    }
   },
   "outputs": [
    {
     "output_type": "stream",
     "name": "stdout",
     "output_type": "stream",
     "text": [
      "+--------------+\n|accounts_count|\n+--------------+\n|             2|\n+--------------+\n\n"
     ]
    }
   ],
   "source": [
    "subs_2021.join(streams_2021, \"account_id\", \"left\")\\\n",
    "    .filter(streams_2021[\"session_id\"].isNull())\\\n",
    "        .select(countDistinct(\"account_id\").alias(\"accounts_count\")).show()"
   ]
  }
 ],
 "metadata": {
  "application/vnd.databricks.v1+notebook": {
   "computePreferences": {
    "hardware": {
     "accelerator": null,
     "gpuPoolId": null,
     "memory": null
    }
   },
   "dashboards": [],
   "environmentMetadata": {
    "base_environment": "",
    "environment_version": "2"
   },
   "inputWidgetPreferences": null,
   "language": "python",
   "notebookMetadata": {
    "pythonIndentUnit": 4
   },
   "notebookName": "2020. Number of Accounts That Did Not Stream (Medium)-(Solved)",
   "widgets": {}
  },
  "language_info": {
   "name": "python"
  }
 },
 "nbformat": 4,
 "nbformat_minor": 0
}
