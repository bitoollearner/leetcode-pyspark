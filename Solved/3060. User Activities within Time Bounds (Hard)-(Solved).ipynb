{
 "cells": [
  {
   "cell_type": "markdown",
   "metadata": {
    "application/vnd.databricks.v1+cell": {
     "cellMetadata": {
      "byteLimit": 2048000,
      "rowLimit": 10000
     },
     "inputWidgets": {},
     "nuid": "7d1791bd-9552-4116-90b2-daa678bbffb8",
     "showTitle": false,
     "tableResultSettingsMap": {},
     "title": ""
    }
   },
   "source": [
    "## Importing Libraries"
   ]
  },
  {
   "cell_type": "code",
   "execution_count": 0,
   "metadata": {
    "application/vnd.databricks.v1+cell": {
     "cellMetadata": {
      "byteLimit": 2048000,
      "rowLimit": 10000
     },
     "inputWidgets": {},
     "nuid": "2901fbc9-49db-4285-8b94-c460f34d4c4f",
     "showTitle": false,
     "tableResultSettingsMap": {},
     "title": ""
    }
   },
   "outputs": [],
   "source": [
    "from pyspark.sql.functions import *\n",
    "from pyspark.sql.types import *\n",
    "from pyspark.sql.window import Window"
   ]
  },
  {
   "cell_type": "markdown",
   "metadata": {
    "application/vnd.databricks.v1+cell": {
     "cellMetadata": {
      "byteLimit": 2048000,
      "rowLimit": 10000
     },
     "inputWidgets": {},
     "nuid": "655120e7-6b25-417c-a08a-c6925feaa425",
     "showTitle": false,
     "tableResultSettingsMap": {},
     "title": ""
    }
   },
   "source": [
    "**3060. User Activities within Time Bounds (Hard)**\n",
    "\n",
    "**Table: Sessions**\n",
    "\n",
    "| Column Name   | Type     |\n",
    "|---------------|----------|\n",
    "| user_id       | int      |\n",
    "| session_start | datetime |\n",
    "| session_end   | datetime |\n",
    "| session_id    | int      |\n",
    "| session_type  | enum     |\n",
    "\n",
    "session_id is column of unique values for this table.\n",
    "session_type is an ENUM (category) type of (Viewer, Streamer).\n",
    "This table contains user id, session start, session end, session id and session type.\n",
    "\n",
    "**Write a solution to find the the users who have had at least one consecutive session of the same type (either 'Viewer' or 'Streamer') with a maximum gap of 12 hours between sessions.**\n",
    "\n",
    "Return the result table ordered by user_id in ascending order.\n",
    "\n",
    "The result format is in the following example.\n",
    "\n",
    "**Example:**\n",
    "\n",
    "**Input:**\n",
    "**Sessions table:**\n",
    "| user_id | session_start       | session_end         | session_id | session_type | \n",
    "|---------|---------------------|---------------------|------------|--------------|\n",
    "| 101     | 2023-11-01 08:00:00 | 2023-11-01 09:00:00 | 1          | Viewer       |  \n",
    "| 101     | 2023-11-01 10:00:00 | 2023-11-01 11:00:00 | 2          | Streamer     |   \n",
    "| 102     | 2023-11-01 13:00:00 | 2023-11-01 14:00:00 | 3          | Viewer       | \n",
    "| 102     | 2023-11-01 15:00:00 | 2023-11-01 16:00:00 | 4          | Viewer       | \n",
    "| 101     | 2023-11-02 09:00:00 | 2023-11-02 10:00:00 | 5          | Viewer       | \n",
    "| 102     | 2023-11-02 12:00:00 | 2023-11-02 13:00:00 | 6          | Streamer     | \n",
    "| 101     | 2023-11-02 13:00:00 | 2023-11-02 14:00:00 | 7          | Streamer     | \n",
    "| 102     | 2023-11-02 16:00:00 | 2023-11-02 17:00:00 | 8          | Viewer       | \n",
    "| 103     | 2023-11-01 08:00:00 | 2023-11-01 09:00:00 | 9          | Viewer       | \n",
    "| 103     | 2023-11-02 20:00:00 | 2023-11-02 23:00:00 | 10         | Viewer       | \n",
    "| 103     | 2023-11-03 09:00:00 | 2023-11-03 10:00:00 | 11         | Viewer       | \n",
    "\n",
    "**Output:**\n",
    "| user_id |\n",
    "|---------|\n",
    "| 102     |\n",
    "| 103     |\n",
    "\n",
    "**Explanation:**\n",
    "- User ID 101 will not be included in the final output as they do not have any consecutive sessions of the same session type.\n",
    "- User ID 102 will be included in the final output as they had two viewer sessions with session IDs 3 and 4, respectively, and the time gap between them was less than 12 hours.\n",
    "- User ID 103 participated in two viewer sessions with a gap of less than 12 hours between them, identified by session IDs 10 and 11. Therefore, user 103 will be included in the final output.\n",
    "\n",
    "Output table is ordered by user_id in increasing order."
   ]
  },
  {
   "cell_type": "code",
   "execution_count": 0,
   "metadata": {
    "application/vnd.databricks.v1+cell": {
     "cellMetadata": {
      "byteLimit": 2048000,
      "rowLimit": 10000
     },
     "inputWidgets": {},
     "nuid": "a2368434-0191-416c-aa1d-12cd44cf48e6",
     "showTitle": false,
     "tableResultSettingsMap": {},
     "title": ""
    }
   },
   "outputs": [
    {
     "output_type": "stream",
     "name": "stdout",
     "output_type": "stream",
     "text": [
      "+-------+-------------------+-------------------+----------+------------+\n|user_id|      session_start|        session_end|session_id|session_type|\n+-------+-------------------+-------------------+----------+------------+\n|    101|2023-11-01 08:00:00|2023-11-01 09:00:00|         1|      Viewer|\n|    101|2023-11-01 10:00:00|2023-11-01 11:00:00|         2|    Streamer|\n|    102|2023-11-01 13:00:00|2023-11-01 14:00:00|         3|      Viewer|\n|    102|2023-11-01 15:00:00|2023-11-01 16:00:00|         4|      Viewer|\n|    101|2023-11-02 09:00:00|2023-11-02 10:00:00|         5|      Viewer|\n|    102|2023-11-02 12:00:00|2023-11-02 13:00:00|         6|    Streamer|\n|    101|2023-11-02 13:00:00|2023-11-02 14:00:00|         7|    Streamer|\n|    102|2023-11-02 16:00:00|2023-11-02 17:00:00|         8|      Viewer|\n|    103|2023-11-01 08:00:00|2023-11-01 09:00:00|         9|      Viewer|\n|    103|2023-11-02 20:00:00|2023-11-02 23:00:00|        10|      Viewer|\n|    103|2023-11-03 09:00:00|2023-11-03 10:00:00|        11|      Viewer|\n+-------+-------------------+-------------------+----------+------------+\n\n"
     ]
    }
   ],
   "source": [
    "sessions_data_3060 = [\n",
    "    (101, \"2023-11-01 08:00:00\", \"2023-11-01 09:00:00\", 1, \"Viewer\"),\n",
    "    (101, \"2023-11-01 10:00:00\", \"2023-11-01 11:00:00\", 2, \"Streamer\"),\n",
    "    (102, \"2023-11-01 13:00:00\", \"2023-11-01 14:00:00\", 3, \"Viewer\"),\n",
    "    (102, \"2023-11-01 15:00:00\", \"2023-11-01 16:00:00\", 4, \"Viewer\"),\n",
    "    (101, \"2023-11-02 09:00:00\", \"2023-11-02 10:00:00\", 5, \"Viewer\"),\n",
    "    (102, \"2023-11-02 12:00:00\", \"2023-11-02 13:00:00\", 6, \"Streamer\"),\n",
    "    (101, \"2023-11-02 13:00:00\", \"2023-11-02 14:00:00\", 7, \"Streamer\"),\n",
    "    (102, \"2023-11-02 16:00:00\", \"2023-11-02 17:00:00\", 8, \"Viewer\"),\n",
    "    (103, \"2023-11-01 08:00:00\", \"2023-11-01 09:00:00\", 9, \"Viewer\"),\n",
    "    (103, \"2023-11-02 20:00:00\", \"2023-11-02 23:00:00\", 10, \"Viewer\"),\n",
    "    (103, \"2023-11-03 09:00:00\", \"2023-11-03 10:00:00\", 11, \"Viewer\"),\n",
    "]\n",
    "\n",
    "sessions_columns_3060 = [\"user_id\", \"session_start\", \"session_end\", \"session_id\", \"session_type\"]\n",
    "sessions_df_3060 = spark.createDataFrame(sessions_data_3060, sessions_columns_3060)\n",
    "sessions_df_3060.show()"
   ]
  },
  {
   "cell_type": "code",
   "execution_count": 0,
   "metadata": {
    "application/vnd.databricks.v1+cell": {
     "cellMetadata": {
      "byteLimit": 2048000,
      "rowLimit": 10000
     },
     "inputWidgets": {},
     "nuid": "cbed387c-a844-4d77-a6ba-e898b49508ca",
     "showTitle": false,
     "tableResultSettingsMap": {},
     "title": ""
    }
   },
   "outputs": [],
   "source": [
    "sessions_df_3060 = sessions_df_3060\\\n",
    "                        .withColumn(\"session_start\", col(\"session_start\").cast(\"timestamp\")) \\\n",
    "                            .withColumn(\"session_end\", col(\"session_end\").cast(\"timestamp\"))"
   ]
  },
  {
   "cell_type": "code",
   "execution_count": 0,
   "metadata": {
    "application/vnd.databricks.v1+cell": {
     "cellMetadata": {
      "byteLimit": 2048000,
      "rowLimit": 10000
     },
     "inputWidgets": {},
     "nuid": "726ca09a-f2a4-4df3-83ba-bcadd8c9c44e",
     "showTitle": false,
     "tableResultSettingsMap": {},
     "title": ""
    }
   },
   "outputs": [],
   "source": [
    "windowSpec = Window.partitionBy(\"user_id\").orderBy(\"session_start\")"
   ]
  },
  {
   "cell_type": "code",
   "execution_count": 0,
   "metadata": {
    "application/vnd.databricks.v1+cell": {
     "cellMetadata": {
      "byteLimit": 2048000,
      "rowLimit": 10000
     },
     "inputWidgets": {},
     "nuid": "547345a8-db64-495a-8175-f47e5e284574",
     "showTitle": false,
     "tableResultSettingsMap": {},
     "title": ""
    }
   },
   "outputs": [],
   "source": [
    "sessions_df_3060 = sessions_df_3060\\\n",
    "                        .withColumn(\"prev_end\", lag(\"session_end\").over(windowSpec)) \\\n",
    "                            .withColumn(\"prev_type\", lag(\"session_type\").over(windowSpec))"
   ]
  },
  {
   "cell_type": "code",
   "execution_count": 0,
   "metadata": {
    "application/vnd.databricks.v1+cell": {
     "cellMetadata": {
      "byteLimit": 2048000,
      "rowLimit": 10000
     },
     "inputWidgets": {},
     "nuid": "b3af788b-33db-4006-8e79-9f62c465133f",
     "showTitle": false,
     "tableResultSettingsMap": {},
     "title": ""
    }
   },
   "outputs": [],
   "source": [
    "sessions_df_3060 = sessions_df_3060\\\n",
    "                        .withColumn(\"gap_hours\", (unix_timestamp(col(\"session_start\")) - unix_timestamp(col(\"prev_end\"))) / 3600)"
   ]
  },
  {
   "cell_type": "code",
   "execution_count": 0,
   "metadata": {
    "application/vnd.databricks.v1+cell": {
     "cellMetadata": {
      "byteLimit": 2048000,
      "rowLimit": 10000
     },
     "inputWidgets": {},
     "nuid": "28314437-b74b-427a-957d-695e11a8da4e",
     "showTitle": false,
     "tableResultSettingsMap": {},
     "title": ""
    }
   },
   "outputs": [
    {
     "output_type": "display_data",
     "data": {
      "text/html": [
       "<style scoped>\n",
       "  .table-result-container {\n",
       "    max-height: 300px;\n",
       "    overflow: auto;\n",
       "  }\n",
       "  table, th, td {\n",
       "    border: 1px solid black;\n",
       "    border-collapse: collapse;\n",
       "  }\n",
       "  th, td {\n",
       "    padding: 5px;\n",
       "  }\n",
       "  th {\n",
       "    text-align: left;\n",
       "  }\n",
       "</style><div class='table-result-container'><table class='table-result'><thead style='background-color: white'><tr><th>user_id</th></tr></thead><tbody><tr><td>102</td></tr><tr><td>103</td></tr></tbody></table></div>"
      ]
     },
     "metadata": {
      "application/vnd.databricks.v1+output": {
       "addedWidgets": {},
       "aggData": [],
       "aggError": "",
       "aggOverflow": false,
       "aggSchema": [],
       "aggSeriesLimitReached": false,
       "aggType": "",
       "arguments": {},
       "columnCustomDisplayInfos": {},
       "data": [
        [
         102
        ],
        [
         103
        ]
       ],
       "datasetInfos": [],
       "dbfsResultPath": null,
       "isJsonSchema": true,
       "metadata": {},
       "overflow": false,
       "plotOptions": {
        "customPlotOptions": {},
        "displayType": "table",
        "pivotAggregation": null,
        "pivotColumns": null,
        "xColumns": null,
        "yColumns": null
       },
       "removedWidgets": [],
       "schema": [
        {
         "metadata": "{}",
         "name": "user_id",
         "type": "\"long\""
        }
       ],
       "type": "table"
      }
     },
     "output_type": "display_data"
    }
   ],
   "source": [
    "sessions_df_3060\\\n",
    "    .filter((col(\"session_type\") == col(\"prev_type\")) & (col(\"gap_hours\") <= 12)) \\\n",
    "        .select(\"user_id\").distinct() \\\n",
    "            .orderBy(\"user_id\").display()"
   ]
  }
 ],
 "metadata": {
  "application/vnd.databricks.v1+notebook": {
   "computePreferences": {
    "hardware": {
     "accelerator": null,
     "gpuPoolId": null,
     "memory": null
    }
   },
   "dashboards": [],
   "environmentMetadata": {
    "base_environment": "",
    "environment_version": "2"
   },
   "inputWidgetPreferences": null,
   "language": "python",
   "notebookMetadata": {
    "pythonIndentUnit": 4
   },
   "notebookName": "3060. User Activities within Time Bounds (Hard)-(Solved)",
   "widgets": {}
  },
  "language_info": {
   "name": "python"
  }
 },
 "nbformat": 4,
 "nbformat_minor": 0
}
