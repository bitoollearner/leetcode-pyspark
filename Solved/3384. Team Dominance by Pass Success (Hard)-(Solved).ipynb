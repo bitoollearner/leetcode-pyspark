{
 "cells": [
  {
   "cell_type": "markdown",
   "metadata": {
    "application/vnd.databricks.v1+cell": {
     "cellMetadata": {
      "byteLimit": 2048000,
      "rowLimit": 10000
     },
     "inputWidgets": {},
     "nuid": "7d1791bd-9552-4116-90b2-daa678bbffb8",
     "showTitle": false,
     "tableResultSettingsMap": {},
     "title": ""
    }
   },
   "source": [
    "## Importing Libraries"
   ]
  },
  {
   "cell_type": "code",
   "execution_count": 0,
   "metadata": {
    "application/vnd.databricks.v1+cell": {
     "cellMetadata": {
      "byteLimit": 2048000,
      "rowLimit": 10000
     },
     "inputWidgets": {},
     "nuid": "2901fbc9-49db-4285-8b94-c460f34d4c4f",
     "showTitle": false,
     "tableResultSettingsMap": {},
     "title": ""
    }
   },
   "outputs": [],
   "source": [
    "from pyspark.sql.functions import *\n",
    "from pyspark.sql.types import *\n",
    "from pyspark.sql.window import Window"
   ]
  },
  {
   "cell_type": "markdown",
   "metadata": {
    "application/vnd.databricks.v1+cell": {
     "cellMetadata": {
      "byteLimit": 2048000,
      "rowLimit": 10000
     },
     "inputWidgets": {},
     "nuid": "655120e7-6b25-417c-a08a-c6925feaa425",
     "showTitle": false,
     "tableResultSettingsMap": {},
     "title": ""
    }
   },
   "source": [
    "**3384. Team Dominance by Pass Success (Hard)**\n",
    "\n",
    "**Table: Teams**\n",
    "\n",
    "| Column Name | Type    |\n",
    "|-------------|---------|\n",
    "| player_id   | int     |\n",
    "| team_name   | varchar | \n",
    "\n",
    "player_id is the unique key for this table.\n",
    "Each row contains the unique identifier for player and the name of one of the teams participating in that match.\n",
    "\n",
    "**Table: Passes**\n",
    "\n",
    "| Column Name | Type    |\n",
    "|-------------|---------|\n",
    "| pass_from   | int     |\n",
    "| time_stamp  | varchar |\n",
    "| pass_to     | int     |\n",
    "\n",
    "(pass_from, time_stamp) is the primary key for this table.\n",
    "pass_from is a foreign key to player_id from Teams table.\n",
    "\n",
    "Each row represents a pass made during a match, time_stamp represents the time in minutes (00:00-90:00) when the pass was made,\n",
    "pass_to is the player_id of the player receiving the pass.\n",
    "\n",
    "**Write a solution to calculate the dominance score for each team in both halves of the match. The rules are as follows:**\n",
    "\n",
    "- A match is divided into two halves: first half (00:00-45:00 minutes) and second half (45:01-90:00 minutes)\n",
    "- The dominance score is calculated based on successful and intercepted passes:\n",
    "  - When pass_to is a player from the same team: +1 point\n",
    "  - When pass_to is a player from the opposing team (interception): -1 point\n",
    "- A higher dominance score indicates better passing performance\n",
    "\n",
    "Return the result table ordered by team_name and half_number in ascending order.\n",
    "\n",
    "The result format is in the following example.\n",
    "\n",
    "**Example:**\n",
    "\n",
    "**Input:**\n",
    "\n",
    "**Teams table:**\n",
    "\n",
    "| player_id  | team_name |\n",
    "|------------|-----------|\n",
    "| 1          | Arsenal   |\n",
    "| 2          | Arsenal   |\n",
    "| 3          | Arsenal   |\n",
    "| 4          | Chelsea   |\n",
    "| 5          | Chelsea   |\n",
    "| 6          | Chelsea   |\n",
    "\n",
    "**Passes table:**\n",
    "\n",
    "| pass_from | time_stamp | pass_to |\n",
    "|-----------|------------|---------|\n",
    "| 1         | 00:15      | 2       |\n",
    "| 2         | 00:45      | 3       |\n",
    "| 3         | 01:15      | 1       |\n",
    "| 4         | 00:30      | 1       |\n",
    "| 2         | 46:00      | 3       |\n",
    "| 3         | 46:15      | 4       |\n",
    "| 1         | 46:45      | 2       |\n",
    "| 5         | 46:30      | 6       |\n",
    "\n",
    "**Output:**\n",
    "\n",
    "| team_name | half_number | dominance |\n",
    "|-----------|-------------|-----------|\n",
    "| Arsenal   | 1           | 3         |\n",
    "| Arsenal   | 2           | 1         |\n",
    "| Chelsea   | 1           | -1        |\n",
    "| Chelsea   | 2           | 1         |\n",
    "\n",
    "**Explanation:**\n",
    "\n",
    "- **First Half (00:00-45:00):**\n",
    "  - Arsenal's passes:\n",
    "    - 1 → 2 (00:15): Successful pass (+1)\n",
    "    - 2 → 3 (00:45): Successful pass (+1)\n",
    "    - 3 → 1 (01:15): Successful pass (+1)\n",
    "  - Chelsea's passes:\n",
    "    - 4 → 1 (00:30): Intercepted by Arsenal (-1)\n",
    "\n",
    "- **Second Half (45:01-90:00):**\n",
    "  - Arsenal's passes:\n",
    "    - 2 → 3 (46:00): Successful pass (+1)\n",
    "    - 3 → 4 (46:15): Intercepted by Chelsea (-1)\n",
    "    - 1 → 2 (46:45): Successful pass (+1)\n",
    "  - Chelsea's passes:\n",
    "    - 5 → 6 (46:30): Successful pass (+1)\n",
    "\n",
    "The results are ordered by team_name and then half_number\n"
   ]
  },
  {
   "cell_type": "code",
   "execution_count": 0,
   "metadata": {
    "application/vnd.databricks.v1+cell": {
     "cellMetadata": {
      "byteLimit": 2048000,
      "rowLimit": 10000
     },
     "inputWidgets": {},
     "nuid": "a2368434-0191-416c-aa1d-12cd44cf48e6",
     "showTitle": false,
     "tableResultSettingsMap": {},
     "title": ""
    }
   },
   "outputs": [
    {
     "output_type": "stream",
     "name": "stdout",
     "output_type": "stream",
     "text": [
      "+---------+---------+\n|player_id|team_name|\n+---------+---------+\n|        1|  Arsenal|\n|        2|  Arsenal|\n|        3|  Arsenal|\n|        4|  Chelsea|\n|        5|  Chelsea|\n|        6|  Chelsea|\n+---------+---------+\n\n+---------+----------+-------+\n|pass_from|time_stamp|pass_to|\n+---------+----------+-------+\n|        1|     00:15|      2|\n|        2|     00:45|      3|\n|        3|     01:15|      1|\n|        4|     00:30|      1|\n|        2|     46:00|      3|\n|        3|     46:15|      4|\n|        1|     46:45|      2|\n|        5|     46:30|      6|\n+---------+----------+-------+\n\n"
     ]
    }
   ],
   "source": [
    "teams_data_3384 = [\n",
    "    (1, \"Arsenal\"),\n",
    "    (2, \"Arsenal\"),\n",
    "    (3, \"Arsenal\"),\n",
    "    (4, \"Chelsea\"),\n",
    "    (5, \"Chelsea\"),\n",
    "    (6, \"Chelsea\")\n",
    "]\n",
    "\n",
    "teams_columns_3384 = [\"player_id\", \"team_name\"]\n",
    "teams_df_3384 = spark.createDataFrame(teams_data_3384, teams_columns_3384)\n",
    "teams_df_3384.show()\n",
    "\n",
    "passes_data_3384 = [\n",
    "    (1, \"00:15\", 2),  \n",
    "    (2, \"00:45\", 3),  \n",
    "    (3, \"01:15\", 1),  \n",
    "    (4, \"00:30\", 1),  \n",
    "    (2, \"46:00\", 3),  \n",
    "    (3, \"46:15\", 4),  \n",
    "    (1, \"46:45\", 2),  \n",
    "    (5, \"46:30\", 6)   \n",
    "]\n",
    "\n",
    "passes_columns_3384 = [\"pass_from\", \"time_stamp\", \"pass_to\"]\n",
    "passes_df_3384 = spark.createDataFrame(passes_data_3384, passes_columns_3384)\n",
    "passes_df_3384.show()"
   ]
  },
  {
   "cell_type": "code",
   "execution_count": 0,
   "metadata": {
    "application/vnd.databricks.v1+cell": {
     "cellMetadata": {
      "byteLimit": 2048000,
      "rowLimit": 10000
     },
     "inputWidgets": {},
     "nuid": "8745ee23-6035-439d-a7bd-25b30575bed6",
     "showTitle": false,
     "tableResultSettingsMap": {},
     "title": ""
    }
   },
   "outputs": [],
   "source": [
    "passes_df_3384 = passes_df_3384 \\\n",
    "                    .join(teams_df_3384\\\n",
    "                        .withColumnRenamed(\"player_id\", \"pass_from\"), on=\"pass_from\") \\\n",
    "                        .withColumnRenamed(\"team_name\", \"from_team\") \\\n",
    "                    .join(teams_df_3384\\\n",
    "                        .withColumnRenamed(\"player_id\", \"pass_to\"), on=\"pass_to\") \\\n",
    "                        .withColumnRenamed(\"team_name\", \"to_team\")"
   ]
  },
  {
   "cell_type": "code",
   "execution_count": 0,
   "metadata": {
    "application/vnd.databricks.v1+cell": {
     "cellMetadata": {
      "byteLimit": 2048000,
      "rowLimit": 10000
     },
     "inputWidgets": {},
     "nuid": "bbe39e77-a34e-4104-8879-e3662f09d075",
     "showTitle": false,
     "tableResultSettingsMap": {},
     "title": ""
    }
   },
   "outputs": [],
   "source": [
    "passes_df_3384 = passes_df_3384\\\n",
    "                    .withColumn( \"minute\", split(col(\"time_stamp\"), \":\").getItem(0).cast(\"int\") * 60 + split(col(\"time_stamp\"), \":\").getItem(1).cast(\"int\"))\\\n",
    "                        .withColumn(\"half_number\", when(col(\"minute\") <= 45*60, 1).otherwise(2))\\\n",
    "                            .withColumn( \"dominance_point\", when(col(\"from_team\") == col(\"to_team\"), 1).otherwise(-1))"
   ]
  },
  {
   "cell_type": "code",
   "execution_count": 0,
   "metadata": {
    "application/vnd.databricks.v1+cell": {
     "cellMetadata": {
      "byteLimit": 2048000,
      "rowLimit": 10000
     },
     "inputWidgets": {},
     "nuid": "f93abb86-31a4-413d-8839-a93d6d554841",
     "showTitle": false,
     "tableResultSettingsMap": {},
     "title": ""
    }
   },
   "outputs": [
    {
     "output_type": "display_data",
     "data": {
      "text/html": [
       "<style scoped>\n",
       "  .table-result-container {\n",
       "    max-height: 300px;\n",
       "    overflow: auto;\n",
       "  }\n",
       "  table, th, td {\n",
       "    border: 1px solid black;\n",
       "    border-collapse: collapse;\n",
       "  }\n",
       "  th, td {\n",
       "    padding: 5px;\n",
       "  }\n",
       "  th {\n",
       "    text-align: left;\n",
       "  }\n",
       "</style><div class='table-result-container'><table class='table-result'><thead style='background-color: white'><tr><th>team_name</th><th>half_number</th><th>dominance</th></tr></thead><tbody><tr><td>Arsenal</td><td>1</td><td>3</td></tr><tr><td>Arsenal</td><td>2</td><td>1</td></tr><tr><td>Chelsea</td><td>1</td><td>-1</td></tr><tr><td>Chelsea</td><td>2</td><td>1</td></tr></tbody></table></div>"
      ]
     },
     "metadata": {
      "application/vnd.databricks.v1+output": {
       "addedWidgets": {},
       "aggData": [],
       "aggError": "",
       "aggOverflow": false,
       "aggSchema": [],
       "aggSeriesLimitReached": false,
       "aggType": "",
       "arguments": {},
       "columnCustomDisplayInfos": {},
       "data": [
        [
         "Arsenal",
         1,
         3
        ],
        [
         "Arsenal",
         2,
         1
        ],
        [
         "Chelsea",
         1,
         -1
        ],
        [
         "Chelsea",
         2,
         1
        ]
       ],
       "datasetInfos": [],
       "dbfsResultPath": null,
       "isJsonSchema": true,
       "metadata": {},
       "overflow": false,
       "plotOptions": {
        "customPlotOptions": {},
        "displayType": "table",
        "pivotAggregation": null,
        "pivotColumns": null,
        "xColumns": null,
        "yColumns": null
       },
       "removedWidgets": [],
       "schema": [
        {
         "metadata": "{}",
         "name": "team_name",
         "type": "\"string\""
        },
        {
         "metadata": "{}",
         "name": "half_number",
         "type": "\"integer\""
        },
        {
         "metadata": "{}",
         "name": "dominance",
         "type": "\"long\""
        }
       ],
       "type": "table"
      }
     },
     "output_type": "display_data"
    }
   ],
   "source": [
    "passes_df_3384\\\n",
    "    .groupBy(\"from_team\", \"half_number\") \\\n",
    "        .sum(\"dominance_point\") \\\n",
    "            .withColumnRenamed(\"from_team\", \"team_name\") \\\n",
    "                .withColumnRenamed(\"sum(dominance_point)\", \"dominance\") \\\n",
    "                    .orderBy(\"team_name\", \"half_number\").display()"
   ]
  }
 ],
 "metadata": {
  "application/vnd.databricks.v1+notebook": {
   "computePreferences": {
    "hardware": {
     "accelerator": null,
     "gpuPoolId": null,
     "memory": null
    }
   },
   "dashboards": [],
   "environmentMetadata": {
    "base_environment": "",
    "environment_version": "2"
   },
   "inputWidgetPreferences": null,
   "language": "python",
   "notebookMetadata": {
    "pythonIndentUnit": 4
   },
   "notebookName": "3384. Team Dominance by Pass Success (Hard)-(Solved)",
   "widgets": {}
  },
  "language_info": {
   "name": "python"
  }
 },
 "nbformat": 4,
 "nbformat_minor": 0
}
