{
 "cells": [
  {
   "cell_type": "markdown",
   "metadata": {
    "application/vnd.databricks.v1+cell": {
     "cellMetadata": {
      "byteLimit": 2048000,
      "rowLimit": 10000
     },
     "inputWidgets": {},
     "nuid": "5ab27f1b-7c08-44cb-8766-b16c3470b90d",
     "showTitle": false,
     "tableResultSettingsMap": {},
     "title": ""
    }
   },
   "source": [
    "## Importing Libraries"
   ]
  },
  {
   "cell_type": "code",
   "execution_count": 0,
   "metadata": {
    "application/vnd.databricks.v1+cell": {
     "cellMetadata": {
      "byteLimit": 2048000,
      "rowLimit": 10000
     },
     "inputWidgets": {},
     "nuid": "0d316502-e6b4-4432-b3fd-6159096e4951",
     "showTitle": false,
     "tableResultSettingsMap": {},
     "title": ""
    }
   },
   "outputs": [],
   "source": [
    "from pyspark.sql.functions import *\n",
    "from pyspark.sql.types import *\n",
    "from pyspark.sql.window import Window"
   ]
  },
  {
   "cell_type": "markdown",
   "metadata": {
    "application/vnd.databricks.v1+cell": {
     "cellMetadata": {
      "byteLimit": 2048000,
      "rowLimit": 10000
     },
     "inputWidgets": {},
     "nuid": "2e4d3e31-be24-427a-bc7e-362b6765c4fa",
     "showTitle": false,
     "tableResultSettingsMap": {},
     "title": ""
    }
   },
   "source": [
    "**603. Consecutive Available Seats (Easy)**\n",
    "\n",
    "**Table: Cinema**\n",
    "\n",
    "| Column Name | Type |\n",
    "|-------------|------|\n",
    "| seat_id     | int  |\n",
    "| free        | bool |\n",
    "\n",
    "seat_id is an auto-increment column for this table.\n",
    "\n",
    "Each row of this table indicates whether the ith seat is free or not. 1 means free while 0 means occupied.\n",
    " \n",
    "**Find all the consecutive available seats in the cinema.**\n",
    "\n",
    "Return the result table ordered by seat_id in ascending order.\n",
    "\n",
    "The test cases are generated so that more than two seats are consecutively available.\n",
    "\n",
    "The result format is in the following example.\n",
    "\n",
    "**Example 1:**\n",
    "\n",
    "**Input:** \n",
    "\n",
    "**Cinema table:**\n",
    "\n",
    "| seat_id | free |\n",
    "|---------|------|\n",
    "| 1       | 1    |\n",
    "| 2       | 0    |\n",
    "| 3       | 1    |\n",
    "| 4       | 1    |\n",
    "| 5       | 1    |\n",
    "\n",
    "**Output:** \n",
    "| seat_id |\n",
    "|---------|\n",
    "| 3       |\n",
    "| 4       |\n",
    "| 5       |\n",
    "\n"
   ]
  },
  {
   "cell_type": "code",
   "execution_count": 0,
   "metadata": {
    "application/vnd.databricks.v1+cell": {
     "cellMetadata": {
      "byteLimit": 2048000,
      "rowLimit": 10000
     },
     "inputWidgets": {},
     "nuid": "f6f11a82-8828-41ca-828a-e88f8586b97a",
     "showTitle": false,
     "tableResultSettingsMap": {},
     "title": ""
    }
   },
   "outputs": [
    {
     "output_type": "stream",
     "name": "stdout",
     "output_type": "stream",
     "text": [
      "+-------+----+\n|seat_id|free|\n+-------+----+\n|      1|   1|\n|      2|   0|\n|      3|   1|\n|      4|   1|\n|      5|   1|\n+-------+----+\n\n"
     ]
    }
   ],
   "source": [
    "cinema_data_603 = [\n",
    "    (1, 1),\n",
    "    (2, 0),\n",
    "    (3, 1),\n",
    "    (4, 1),\n",
    "    (5, 1)\n",
    "]\n",
    "\n",
    "cinema_columns_603 = ['seat_id', 'free']\n",
    "cinema_df_603 = spark.createDataFrame(cinema_data_603, cinema_columns_603)\n",
    "cinema_df_603.show()"
   ]
  },
  {
   "cell_type": "code",
   "execution_count": 0,
   "metadata": {
    "application/vnd.databricks.v1+cell": {
     "cellMetadata": {
      "byteLimit": 2048000,
      "rowLimit": 10000
     },
     "inputWidgets": {},
     "nuid": "1357c9e8-253e-4278-bfe6-f671370181f3",
     "showTitle": false,
     "tableResultSettingsMap": {},
     "title": ""
    }
   },
   "outputs": [],
   "source": [
    "w = Window.orderBy(\"seat_id\")"
   ]
  },
  {
   "cell_type": "code",
   "execution_count": 0,
   "metadata": {
    "application/vnd.databricks.v1+cell": {
     "cellMetadata": {
      "byteLimit": 2048000,
      "rowLimit": 10000
     },
     "inputWidgets": {},
     "nuid": "25afc2bd-4309-4edd-bd9f-ad2ae54c2a51",
     "showTitle": false,
     "tableResultSettingsMap": {},
     "title": ""
    }
   },
   "outputs": [
    {
     "output_type": "stream",
     "name": "stderr",
     "output_type": "stream",
     "text": [
      "/databricks/python/lib/python3.11/site-packages/pyspark/sql/connect/expressions.py:1017: UserWarning: WARN WindowExpression: No Partition Defined for Window operation! Moving all data to a single partition, this can cause serious performance degradation.\n  warnings.warn(\n"
     ]
    }
   ],
   "source": [
    "cinema_df_603 = cinema_df_603\\\n",
    "                .withColumn(\"prev_free\", lag(\"free\", 1).over(w)) \\\n",
    "                .withColumn(\"next_free\", lead(\"free\", 1).over(w))"
   ]
  },
  {
   "cell_type": "code",
   "execution_count": 0,
   "metadata": {
    "application/vnd.databricks.v1+cell": {
     "cellMetadata": {
      "byteLimit": 2048000,
      "rowLimit": 10000
     },
     "inputWidgets": {},
     "nuid": "bbe3f6ec-3791-4567-930b-5712f4d54727",
     "showTitle": false,
     "tableResultSettingsMap": {},
     "title": ""
    }
   },
   "outputs": [
    {
     "output_type": "stream",
     "name": "stderr",
     "output_type": "stream",
     "text": [
      "/databricks/python/lib/python3.11/site-packages/pyspark/sql/connect/expressions.py:1017: UserWarning: WARN WindowExpression: No Partition Defined for Window operation! Moving all data to a single partition, this can cause serious performance degradation.\n  warnings.warn(\n"
     ]
    },
    {
     "output_type": "stream",
     "name": "stdout",
     "output_type": "stream",
     "text": [
      "+-------+\n|seat_id|\n+-------+\n|      3|\n|      4|\n|      5|\n+-------+\n\n"
     ]
    }
   ],
   "source": [
    "cinema_df_603\\\n",
    "    .filter(((col(\"free\") == 1) & (col(\"next_free\") == 1)) | ((col(\"free\") == 1) & (col(\"prev_free\") == 1)))\\\n",
    "        .select(\"seat_id\").orderBy(\"seat_id\").show()"
   ]
  }
 ],
 "metadata": {
  "application/vnd.databricks.v1+notebook": {
   "computePreferences": {
    "hardware": {
     "accelerator": null,
     "gpuPoolId": null,
     "memory": null
    }
   },
   "dashboards": [],
   "environmentMetadata": {
    "base_environment": "",
    "environment_version": "2"
   },
   "inputWidgetPreferences": null,
   "language": "python",
   "notebookMetadata": {
    "pythonIndentUnit": 4
   },
   "notebookName": "603. Consecutive Available Seats (Easy)-(Solved)",
   "widgets": {}
  },
  "language_info": {
   "name": "python"
  }
 },
 "nbformat": 4,
 "nbformat_minor": 0
}
