{
 "cells": [
  {
   "cell_type": "markdown",
   "metadata": {
    "application/vnd.databricks.v1+cell": {
     "cellMetadata": {
      "byteLimit": 2048000,
      "rowLimit": 10000
     },
     "inputWidgets": {},
     "nuid": "4e9d71b1-88e9-445c-820a-b842e217a4e7",
     "showTitle": false,
     "tableResultSettingsMap": {},
     "title": ""
    }
   },
   "source": [
    "## Importing Libraries"
   ]
  },
  {
   "cell_type": "code",
   "execution_count": 0,
   "metadata": {
    "application/vnd.databricks.v1+cell": {
     "cellMetadata": {
      "byteLimit": 2048000,
      "rowLimit": 10000
     },
     "inputWidgets": {},
     "nuid": "e6624c4d-8cb8-4ac4-8c72-81d1b4ecdb57",
     "showTitle": false,
     "tableResultSettingsMap": {},
     "title": ""
    }
   },
   "outputs": [],
   "source": [
    "from pyspark.sql.functions import *\n",
    "from pyspark.sql.types import *\n",
    "from pyspark.sql.window import Window"
   ]
  },
  {
   "cell_type": "markdown",
   "metadata": {
    "application/vnd.databricks.v1+cell": {
     "cellMetadata": {
      "byteLimit": 2048000,
      "rowLimit": 10000
     },
     "inputWidgets": {},
     "nuid": "c3788fe5-f4c9-420f-ad72-ec1a39310a2a",
     "showTitle": false,
     "tableResultSettingsMap": {},
     "title": ""
    }
   },
   "source": [
    "**2298. Tasks Count in the Weekend (Medium)**\n",
    "\n",
    "**Table: Tasks**\n",
    "\n",
    "| Column Name | Type |\n",
    "|-------------|------|\n",
    "| task_id     | int  |\n",
    "| assignee_id | int  |\n",
    "| submit_date | date |\n",
    "\n",
    "task_id is the primary key (column with unique values) for this table.\n",
    "Each row in this table contains the ID of a task, the id of the assignee, and the submission date.\n",
    " \n",
    "**Write a solution to report:**\n",
    "- the number of tasks that were submitted during the weekend (Saturday, Sunday) as weekend_cnt, and\n",
    "- the number of tasks that were submitted during the working days as working_cnt.\n",
    "\n",
    "Return the result table in any order.\n",
    "\n",
    "The result format is shown in the following example.\n",
    "\n",
    "**Example 1:**\n",
    "\n",
    "**Input:** \n",
    "\n",
    "**Tasks table:**\n",
    "\n",
    "| task_id | assignee_id | submit_date |\n",
    "|---------|-------------|-------------|\n",
    "| 1       | 1           | 2022-06-13  |\n",
    "| 2       | 6           | 2022-06-14  |\n",
    "| 3       | 6           | 2022-06-15  |\n",
    "| 4       | 3           | 2022-06-18  |\n",
    "| 5       | 5           | 2022-06-19  |\n",
    "| 6       | 7           | 2022-06-19  |\n",
    "\n",
    "**Output:** \n",
    "| weekend_cnt | working_cnt |\n",
    "|-------------|-------------|\n",
    "| 3           | 3           |\n",
    "\n",
    "**Explanation:** \n",
    "- Task 1 was submitted on Monday.\n",
    "- Task 2 was submitted on Tuesday.\n",
    "- Task 3 was submitted on Wednesday.\n",
    "- Task 4 was submitted on Saturday.\n",
    "- Task 5 was submitted on Sunday.\n",
    "- Task 6 was submitted on Sunday.\n",
    "- 3 tasks were submitted during the weekend.\n",
    "- 3 tasks were submitted during the working days."
   ]
  },
  {
   "cell_type": "code",
   "execution_count": 0,
   "metadata": {
    "application/vnd.databricks.v1+cell": {
     "cellMetadata": {
      "byteLimit": 2048000,
      "rowLimit": 10000
     },
     "inputWidgets": {},
     "nuid": "137536ea-9bec-4171-8dc2-4bf8b0d771b4",
     "showTitle": false,
     "tableResultSettingsMap": {},
     "title": ""
    }
   },
   "outputs": [
    {
     "output_type": "stream",
     "name": "stdout",
     "output_type": "stream",
     "text": [
      "+-------+-----------+-----------+\n|task_id|assignee_id|submit_date|\n+-------+-----------+-----------+\n|      1|          1| 2022-06-13|\n|      2|          6| 2022-06-14|\n|      3|          6| 2022-06-15|\n|      4|          3| 2022-06-18|\n|      5|          5| 2022-06-19|\n|      6|          7| 2022-06-19|\n+-------+-----------+-----------+\n\n"
     ]
    }
   ],
   "source": [
    "task_data_2298 = [\n",
    "    (1, 1, \"2022-06-13\"),\n",
    "    (2, 6, \"2022-06-14\"),\n",
    "    (3, 6, \"2022-06-15\"),\n",
    "    (4, 3, \"2022-06-18\"),\n",
    "    (5, 5, \"2022-06-19\"),\n",
    "    (6, 7, \"2022-06-19\"),\n",
    "]\n",
    "\n",
    "task_columns_2298 = [\"task_id\", \"assignee_id\", \"submit_date\"]\n",
    "task_df_2298 = spark.createDataFrame(task_data_2298, task_columns_2298)\n",
    "task_df_2298.show()"
   ]
  },
  {
   "cell_type": "code",
   "execution_count": 0,
   "metadata": {
    "application/vnd.databricks.v1+cell": {
     "cellMetadata": {
      "byteLimit": 2048000,
      "rowLimit": 10000
     },
     "inputWidgets": {},
     "nuid": "fc90ae74-f4f2-4d7b-95cc-f07d3e4ff153",
     "showTitle": false,
     "tableResultSettingsMap": {},
     "title": ""
    }
   },
   "outputs": [],
   "source": [
    "task_df_2298 = task_df_2298\\\n",
    "                    .withColumn(\"day_of_week\", dayofweek(\"submit_date\"))"
   ]
  },
  {
   "cell_type": "code",
   "execution_count": 0,
   "metadata": {
    "application/vnd.databricks.v1+cell": {
     "cellMetadata": {
      "byteLimit": 2048000,
      "rowLimit": 10000
     },
     "inputWidgets": {},
     "nuid": "20d5f24c-522b-4c83-8033-6f724bef41d2",
     "showTitle": false,
     "tableResultSettingsMap": {},
     "title": ""
    }
   },
   "outputs": [
    {
     "output_type": "stream",
     "name": "stdout",
     "output_type": "stream",
     "text": [
      "+-----------+-----------+\n|weekend_cnt|working_cnt|\n+-----------+-----------+\n|          3|          3|\n+-----------+-----------+\n\n"
     ]
    }
   ],
   "source": [
    "task_df_2298\\\n",
    "    .agg(\n",
    "        sum(when(col(\"day_of_week\").isin([1, 7]), 1).otherwise(0)).alias(\"weekend_cnt\"),\n",
    "        sum(when(~col(\"day_of_week\").isin([1, 7]), 1).otherwise(0)).alias(\"working_cnt\")\n",
    ").show()"
   ]
  }
 ],
 "metadata": {
  "application/vnd.databricks.v1+notebook": {
   "computePreferences": {
    "hardware": {
     "accelerator": null,
     "gpuPoolId": null,
     "memory": null
    }
   },
   "dashboards": [],
   "environmentMetadata": {
    "base_environment": "",
    "environment_version": "2"
   },
   "inputWidgetPreferences": null,
   "language": "python",
   "notebookMetadata": {
    "pythonIndentUnit": 4
   },
   "notebookName": "2298. Tasks Count in the Weekend (Medium)-(Solved)",
   "widgets": {}
  },
  "language_info": {
   "name": "python"
  }
 },
 "nbformat": 4,
 "nbformat_minor": 0
}
