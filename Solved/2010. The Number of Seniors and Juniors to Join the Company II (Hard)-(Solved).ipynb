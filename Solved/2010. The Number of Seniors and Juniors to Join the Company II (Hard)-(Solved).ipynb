{
 "cells": [
  {
   "cell_type": "markdown",
   "metadata": {
    "application/vnd.databricks.v1+cell": {
     "cellMetadata": {
      "byteLimit": 2048000,
      "rowLimit": 10000
     },
     "inputWidgets": {},
     "nuid": "83d38679-f742-44bb-952b-b541e178ddc8",
     "showTitle": false,
     "tableResultSettingsMap": {},
     "title": ""
    }
   },
   "source": [
    "## Importing Libraries"
   ]
  },
  {
   "cell_type": "code",
   "execution_count": 0,
   "metadata": {
    "application/vnd.databricks.v1+cell": {
     "cellMetadata": {
      "byteLimit": 2048000,
      "rowLimit": 10000
     },
     "inputWidgets": {},
     "nuid": "1daf4387-60f2-4c66-b119-d9ce2cd54aa2",
     "showTitle": false,
     "tableResultSettingsMap": {},
     "title": ""
    }
   },
   "outputs": [],
   "source": [
    "from pyspark.sql.functions import *\n",
    "from pyspark.sql.types import *\n",
    "from pyspark.sql.window import Window"
   ]
  },
  {
   "cell_type": "markdown",
   "metadata": {
    "application/vnd.databricks.v1+cell": {
     "cellMetadata": {
      "byteLimit": 2048000,
      "rowLimit": 10000
     },
     "inputWidgets": {},
     "nuid": "83ab9b20-fd4f-4392-ae0c-ff0580c3c7c1",
     "showTitle": false,
     "tableResultSettingsMap": {},
     "title": ""
    }
   },
   "source": [
    "**2010. The Number of Seniors and Juniors to Join the Company II (Hard)**\n",
    "\n",
    "**Table: Candidates**\n",
    "\n",
    "| Column Name | Type |\n",
    "|-------------|------|\n",
    "| employee_id | int  |\n",
    "| experience  | enum |\n",
    "| salary      | int  |\n",
    "\n",
    "employee_id is the column with unique values for this table.\n",
    "experience is an ENUM (category) of types ('Senior', 'Junior').\n",
    "Each row of this table indicates the id of a candidate, their monthly salary, and their experience.\n",
    "The salary of each candidate is guaranteed to be unique.\n",
    " \n",
    "A company wants to hire new employees. The budget of the company for the salaries is $70000. The company's criteria for hiring are:\n",
    "- Keep hiring the senior with the smallest salary until you cannot hire any more seniors.\n",
    "- Use the remaining budget to hire the junior with the smallest salary.\n",
    "- Keep hiring the junior with the smallest salary until you cannot hire any more juniors.\n",
    "\n",
    "**Write a solution to find the ids of seniors and juniors hired under the mentioned criteria.**\n",
    "\n",
    "Return the result table in any order.\n",
    "\n",
    "The result format is in the following example.\n",
    "\n",
    "**Example 1:**\n",
    "\n",
    "**Input:**\n",
    "\n",
    "**Candidates table:**\n",
    "\n",
    "| employee_id | experience | salary |\n",
    "|-------------|------------|--------|\n",
    "| 1           | Junior     | 10000  |\n",
    "| 9           | Junior     | 15000  |\n",
    "| 2           | Senior     | 20000  |\n",
    "| 11          | Senior     | 16000  |\n",
    "| 13          | Senior     | 50000  |\n",
    "| 4           | Junior     | 40000  |\n",
    "\n",
    "**Output:** \n",
    "| employee_id |\n",
    "|-------------|\n",
    "| 11          |\n",
    "| 2           |\n",
    "| 1           |\n",
    "| 9           |\n",
    "\n",
    "**Explanation:** \n",
    "- We can hire 2 seniors with IDs (11, 2). Since the budget is $70000 and the sum of their salaries is $36000, we still have $34000 but they are not enough to hire the senior candidate with ID 13.\n",
    "- We can hire 2 juniors with IDs (1, 9). Since the remaining budget is $34000 and the sum of their salaries is $25000, we still have $9000 but they are not enough to hire the junior candidate with ID 4.\n",
    "\n",
    "**Example 2:**\n",
    "\n",
    "**Input:**\n",
    "\n",
    "**Candidates table:**\n",
    "\n",
    "| employee_id | experience | salary |\n",
    "|-------------|------------|--------|\n",
    "| 1           | Junior     | 25000  |\n",
    "| 9           | Junior     | 10000  |\n",
    "| 2           | Senior     | 85000  |\n",
    "| 11          | Senior     | 80000  |\n",
    "| 13          | Senior     | 90000  |\n",
    "| 4           | Junior     | 30000  |\n",
    "\n",
    "**Output:** \n",
    "| employee_id |\n",
    "|-------------|\n",
    "| 9           |\n",
    "| 1           |\n",
    "| 4           |\n",
    "\n",
    "**Explanation:** \n",
    "- We cannot hire any seniors with the current budget as we need at least $80000 to hire one senior.\n",
    "- We can hire all three juniors with the remaining budget."
   ]
  },
  {
   "cell_type": "code",
   "execution_count": 0,
   "metadata": {
    "application/vnd.databricks.v1+cell": {
     "cellMetadata": {
      "byteLimit": 2048000,
      "rowLimit": 10000
     },
     "inputWidgets": {},
     "nuid": "e39af07f-85df-4e21-8a5f-c65604a811f3",
     "showTitle": false,
     "tableResultSettingsMap": {},
     "title": ""
    }
   },
   "outputs": [
    {
     "output_type": "stream",
     "name": "stdout",
     "output_type": "stream",
     "text": [
      "+-----------+----------+------+\n|employee_id|experience|salary|\n+-----------+----------+------+\n|          1|    Junior| 10000|\n|          9|    Junior| 15000|\n|          2|    Senior| 20000|\n|         11|    Senior| 16000|\n|         13|    Senior| 50000|\n|          4|    Junior| 40000|\n+-----------+----------+------+\n\n"
     ]
    }
   ],
   "source": [
    "candidates_data_2010 = [\n",
    "    (1, \"Junior\", 10000),\n",
    "    (9, \"Junior\", 15000),\n",
    "    (2, \"Senior\", 20000),\n",
    "    (11, \"Senior\", 16000),\n",
    "    (13, \"Senior\", 50000),\n",
    "    (4, \"Junior\", 40000),\n",
    "]\n",
    "\n",
    "candidates_columns_2010 = [\"employee_id\", \"experience\", \"salary\"]\n",
    "candidates_df_2010 = spark.createDataFrame(candidates_data_2010, candidates_columns_2010)\n",
    "candidates_df_2010.show()"
   ]
  },
  {
   "cell_type": "code",
   "execution_count": 0,
   "metadata": {
    "application/vnd.databricks.v1+cell": {
     "cellMetadata": {
      "byteLimit": 2048000,
      "rowLimit": 10000
     },
     "inputWidgets": {},
     "nuid": "a452c1ac-e075-4a67-8c4a-a595c1d58bb5",
     "showTitle": false,
     "tableResultSettingsMap": {},
     "title": ""
    }
   },
   "outputs": [],
   "source": [
    "budget = 70000"
   ]
  },
  {
   "cell_type": "code",
   "execution_count": 0,
   "metadata": {
    "application/vnd.databricks.v1+cell": {
     "cellMetadata": {
      "byteLimit": 2048000,
      "rowLimit": 10000
     },
     "inputWidgets": {},
     "nuid": "598aa8df-f00c-4d87-835b-921f1954b38e",
     "showTitle": false,
     "tableResultSettingsMap": {},
     "title": ""
    }
   },
   "outputs": [
    {
     "output_type": "stream",
     "name": "stderr",
     "output_type": "stream",
     "text": [
      "/databricks/python/lib/python3.11/site-packages/pyspark/sql/connect/expressions.py:1017: UserWarning: WARN WindowExpression: No Partition Defined for Window operation! Moving all data to a single partition, this can cause serious performance degradation.\n  warnings.warn(\n"
     ]
    }
   ],
   "source": [
    "seniors_df_2010 = candidates_df_2010\\\n",
    "                    .filter(col(\"experience\") == \"Senior\")\\\n",
    "                        .orderBy(\"salary\")\\\n",
    "                            .withColumn(\"cum_salary\", sum(\"salary\").over(Window.orderBy(\"salary\")))\\\n",
    "                                .filter(col(\"cum_salary\") <= budget)"
   ]
  },
  {
   "cell_type": "code",
   "execution_count": 0,
   "metadata": {
    "application/vnd.databricks.v1+cell": {
     "cellMetadata": {
      "byteLimit": 2048000,
      "rowLimit": 10000
     },
     "inputWidgets": {},
     "nuid": "59b90ba3-1083-4d38-9aab-c4d0b4f7bd4d",
     "showTitle": false,
     "tableResultSettingsMap": {},
     "title": ""
    }
   },
   "outputs": [
    {
     "output_type": "stream",
     "name": "stderr",
     "output_type": "stream",
     "text": [
      "/databricks/python/lib/python3.11/site-packages/pyspark/sql/connect/expressions.py:1017: UserWarning: WARN WindowExpression: No Partition Defined for Window operation! Moving all data to a single partition, this can cause serious performance degradation.\n  warnings.warn(\n"
     ]
    }
   ],
   "source": [
    "remaining_budget = budget - seniors_df_2010.agg({\"salary\": \"sum\"}).collect()[0][0]"
   ]
  },
  {
   "cell_type": "code",
   "execution_count": 0,
   "metadata": {
    "application/vnd.databricks.v1+cell": {
     "cellMetadata": {
      "byteLimit": 2048000,
      "rowLimit": 10000
     },
     "inputWidgets": {},
     "nuid": "fd19fedf-1b07-4813-9055-5c3ef4701161",
     "showTitle": false,
     "tableResultSettingsMap": {},
     "title": ""
    }
   },
   "outputs": [
    {
     "output_type": "stream",
     "name": "stderr",
     "output_type": "stream",
     "text": [
      "/databricks/python/lib/python3.11/site-packages/pyspark/sql/connect/expressions.py:1017: UserWarning: WARN WindowExpression: No Partition Defined for Window operation! Moving all data to a single partition, this can cause serious performance degradation.\n  warnings.warn(\n"
     ]
    }
   ],
   "source": [
    "juniors_df_2010 = candidates_df_2010\\\n",
    "                        .filter(col(\"experience\") == \"Junior\")\\\n",
    "                            .orderBy(\"salary\")\\\n",
    "                                .withColumn(\"cum_salary\", sum(\"salary\").over(Window.orderBy(\"salary\")))\\\n",
    "                                    .filter(col(\"cum_salary\") <= remaining_budget)"
   ]
  },
  {
   "cell_type": "code",
   "execution_count": 0,
   "metadata": {
    "application/vnd.databricks.v1+cell": {
     "cellMetadata": {
      "byteLimit": 2048000,
      "rowLimit": 10000
     },
     "inputWidgets": {},
     "nuid": "0c3b01cc-1cb0-4008-be39-8f64ab2b4383",
     "showTitle": false,
     "tableResultSettingsMap": {},
     "title": ""
    }
   },
   "outputs": [
    {
     "output_type": "stream",
     "name": "stderr",
     "output_type": "stream",
     "text": [
      "/databricks/python/lib/python3.11/site-packages/pyspark/sql/connect/expressions.py:1017: UserWarning: WARN WindowExpression: No Partition Defined for Window operation! Moving all data to a single partition, this can cause serious performance degradation.\n  warnings.warn(\n"
     ]
    },
    {
     "output_type": "stream",
     "name": "stdout",
     "output_type": "stream",
     "text": [
      "+-----------+\n|employee_id|\n+-----------+\n|         11|\n|          2|\n|          1|\n|          9|\n+-----------+\n\n"
     ]
    }
   ],
   "source": [
    "seniors_df_2010\\\n",
    "    .unionByName(juniors_df_2010)\\\n",
    "        .select(\"employee_id\").show()"
   ]
  }
 ],
 "metadata": {
  "application/vnd.databricks.v1+notebook": {
   "computePreferences": {
    "hardware": {
     "accelerator": null,
     "gpuPoolId": null,
     "memory": null
    }
   },
   "dashboards": [],
   "environmentMetadata": {
    "base_environment": "",
    "environment_version": "2"
   },
   "inputWidgetPreferences": null,
   "language": "python",
   "notebookMetadata": {
    "pythonIndentUnit": 4
   },
   "notebookName": "2010. The Number of Seniors and Juniors to Join the Company II (Hard)-(Solved)",
   "widgets": {}
  },
  "language_info": {
   "name": "python"
  }
 },
 "nbformat": 4,
 "nbformat_minor": 0
}
