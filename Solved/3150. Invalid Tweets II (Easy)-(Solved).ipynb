{
 "cells": [
  {
   "cell_type": "markdown",
   "metadata": {
    "application/vnd.databricks.v1+cell": {
     "cellMetadata": {},
     "inputWidgets": {},
     "nuid": "7d1791bd-9552-4116-90b2-daa678bbffb8",
     "showTitle": false,
     "tableResultSettingsMap": {},
     "title": ""
    }
   },
   "source": [
    "## Importing Libraries"
   ]
  },
  {
   "cell_type": "code",
   "execution_count": 0,
   "metadata": {
    "application/vnd.databricks.v1+cell": {
     "cellMetadata": {},
     "inputWidgets": {},
     "nuid": "2901fbc9-49db-4285-8b94-c460f34d4c4f",
     "showTitle": false,
     "tableResultSettingsMap": {},
     "title": ""
    }
   },
   "outputs": [],
   "source": [
    "from pyspark.sql.functions import *\n",
    "from pyspark.sql.types import *\n",
    "from pyspark.sql.window import Window"
   ]
  },
  {
   "cell_type": "markdown",
   "metadata": {
    "application/vnd.databricks.v1+cell": {
     "cellMetadata": {},
     "inputWidgets": {},
     "nuid": "655120e7-6b25-417c-a08a-c6925feaa425",
     "showTitle": false,
     "tableResultSettingsMap": {},
     "title": ""
    }
   },
   "source": [
    "**3150. Invalid Tweets II (Easy)**\n",
    "\n",
    "**Table: Tweets**\n",
    "\n",
    "| Column Name    | Type    |\n",
    "|----------------|---------|\n",
    "| tweet_id       | int     |\n",
    "| content        | varchar |\n",
    "\n",
    "tweet_id is the primary key (column with unique values) for this table.\n",
    "This table contains all the tweets in a social media app.\n",
    "\n",
    "**Write a solution to find invalid tweets. A tweet is considered invalid if it meets any of the following criteria:**\n",
    "- It exceeds 140 characters in length.\n",
    "- It has more than 3 mentions.\n",
    "- It includes more than 3 hashtags.\n",
    "\n",
    "Return the result table ordered by tweet_id in ascending order.\n",
    "\n",
    "The result format is in the following example.\n",
    "\n",
    "**Example:**\n",
    "\n",
    "**Input:**\n",
    "\n",
    "**Tweets table:**\n",
    "\n",
    "| tweet_id | content                                                                           |\n",
    "|----------|-----------------------------------------------------------------------------------|\n",
    "| 1        | Traveling, exploring, and living my best life @JaneSmith @SaraJohnson @LisaTaylor |\n",
    "|          | @MikeBrown #Foodie #Fitness #Learning                                             | \n",
    "| 2        | Just had the best dinner with friends! #Foodie #Friends #Fun                      |\n",
    "| 4        | Working hard on my new project #Work #Goals #Productivity #Fun                    |\n",
    "  \n",
    "**Output:**\n",
    "\n",
    "| tweet_id |\n",
    "|----------|\n",
    "| 1        |\n",
    "| 4        |\n",
    "  \n",
    "**Explanation:**\n",
    "- tweet_id 1 contains 4 mentions.\n",
    "- tweet_id 4 contains 4 hashtags.\n",
    "\n",
    "Output table is ordered by tweet_id in ascending order."
   ]
  },
  {
   "cell_type": "code",
   "execution_count": 0,
   "metadata": {
    "application/vnd.databricks.v1+cell": {
     "cellMetadata": {},
     "inputWidgets": {},
     "nuid": "a2368434-0191-416c-aa1d-12cd44cf48e6",
     "showTitle": false,
     "tableResultSettingsMap": {},
     "title": ""
    }
   },
   "outputs": [],
   "source": [
    "tweets_data_3150 = [\n",
    "    (1, \"Traveling, exploring, and living my best life @JaneSmith @SaraJohnson @LisaTaylor @MikeBrown #Foodie #Fitness #Learning\"),\n",
    "    (2, \"Just had the best dinner with friends! #Foodie #Friends #Fun\"),\n",
    "    (4, \"Working hard on my new project #Work #Goals #Productivity #Fun\")\n",
    "]\n",
    "\n",
    "tweets_columns_3150 = [\"tweet_id\", \"content\"]\n",
    "tweets_df_3150 = spark.createDataFrame(tweets_data_3150, tweets_columns_3150)\n",
    "tweets_df_3150.show()"
   ]
  }
 ],
 "metadata": {
  "application/vnd.databricks.v1+notebook": {
   "computePreferences": null,
   "dashboards": [],
   "environmentMetadata": {
    "base_environment": "",
    "environment_version": "1"
   },
   "inputWidgetPreferences": null,
   "language": "python",
   "notebookMetadata": {
    "pythonIndentUnit": 4
   },
   "notebookName": "3150. Invalid Tweets II (Easy)-(Solved)",
   "widgets": {}
  },
  "language_info": {
   "name": "python"
  }
 },
 "nbformat": 4,
 "nbformat_minor": 0
}
