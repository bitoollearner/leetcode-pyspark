{
 "cells": [
  {
   "cell_type": "markdown",
   "metadata": {
    "application/vnd.databricks.v1+cell": {
     "cellMetadata": {},
     "inputWidgets": {},
     "nuid": "7d1791bd-9552-4116-90b2-daa678bbffb8",
     "showTitle": false,
     "tableResultSettingsMap": {},
     "title": ""
    }
   },
   "source": [
    "## Importing Libraries"
   ]
  },
  {
   "cell_type": "code",
   "execution_count": 0,
   "metadata": {
    "application/vnd.databricks.v1+cell": {
     "cellMetadata": {},
     "inputWidgets": {},
     "nuid": "2901fbc9-49db-4285-8b94-c460f34d4c4f",
     "showTitle": false,
     "tableResultSettingsMap": {},
     "title": ""
    }
   },
   "outputs": [],
   "source": [
    "from pyspark.sql.functions import *\n",
    "from pyspark.sql.types import *\n",
    "from pyspark.sql.window import Window"
   ]
  },
  {
   "cell_type": "markdown",
   "metadata": {
    "application/vnd.databricks.v1+cell": {
     "cellMetadata": {},
     "inputWidgets": {},
     "nuid": "655120e7-6b25-417c-a08a-c6925feaa425",
     "showTitle": false,
     "tableResultSettingsMap": {},
     "title": ""
    }
   },
   "source": [
    "**3374. First Letter Capitalization II (Hard)**\n",
    "\n",
    "**Table: user_content**\n",
    "\n",
    "| Column Name | Type    |\n",
    "|-------------|---------|\n",
    "| content_id  | int     |\n",
    "| content_text| varchar |\n",
    "\n",
    "content_id is the unique key for this table.\n",
    "Each row contains a unique ID and the corresponding text content.\n",
    "\n",
    "**Write a solution to transform the text in the content_text column by applying the following rules:**\n",
    "- Convert the first letter of each word to uppercase and the remaining letters to lowercase\n",
    "- Special handling for words containing special characters:\n",
    "  - For words connected with a hyphen -, both parts should be capitalized (e.g., top-rated → Top-Rated)\n",
    "- All other formatting and spacing should remain unchanged\n",
    "\n",
    "Return the result table that includes both the original content_text and the modified text following the above rules.\n",
    "\n",
    "The result format is in the following example.\n",
    "\n",
    "**Example:**\n",
    "\n",
    "**Input:**\n",
    "\n",
    "**user_content table:**\n",
    "\n",
    "| content_id | content_text                    |\n",
    "|------------|---------------------------------|\n",
    "| 1          | hello world of SQL              |\n",
    "| 2          | the QUICK-brown fox             |\n",
    "| 3          | modern-day DATA science         |\n",
    "| 4          | web-based FRONT-end development |\n",
    "\n",
    "**Output:**\n",
    "| content_id | original_text                   | converted_text                  |\n",
    "|------------|---------------------------------|---------------------------------|\n",
    "| 1          | hello world of SQL              | Hello World Of Sql              |\n",
    "| 2          | the QUICK-brown fox             | The Quick-Brown Fox             |\n",
    "| 3          | modern-day DATA science         | Modern-Day Data Science         |\n",
    "| 4          | web-based FRONT-end development | Web-Based Front-End Development |\n",
    "\n",
    "**Explanation:**\n",
    "- For content_id = 1:\n",
    "  - Each word's first letter is capitalized: \"Hello World Of Sql\"\n",
    "- For content_id = 2:\n",
    "  - Contains the hyphenated word \"QUICK-brown\" which becomes \"Quick-Brown\"\n",
    "  - Other words follow normal capitalization rules\n",
    "- For content_id = 3:\n",
    "  - Hyphenated word \"modern-day\" becomes \"Modern-Day\"\n",
    "  - \"DATA\" is converted to \"Data\"\n",
    "- For content_id = 4:\n",
    "  - Contains two hyphenated words: \"web-based\" → \"Web-Based\"\n",
    "  - And \"FRONT-end\" → \"Front-End\""
   ]
  },
  {
   "cell_type": "code",
   "execution_count": 0,
   "metadata": {
    "application/vnd.databricks.v1+cell": {
     "cellMetadata": {},
     "inputWidgets": {},
     "nuid": "a2368434-0191-416c-aa1d-12cd44cf48e6",
     "showTitle": false,
     "tableResultSettingsMap": {},
     "title": ""
    }
   },
   "outputs": [],
   "source": [
    "user_content_data_3374 = [\n",
    "    (1, \"hello world of SQL\"),\n",
    "    (2, \"the QUICK-brown fox\"),\n",
    "    (3, \"modern-day DATA science\"),\n",
    "    (4, \"web-based FRONT-end development\")\n",
    "]\n",
    "\n",
    "user_content_columns_3374 = [\"content_id\", \"content_text\"]\n",
    "user_content_df_3374 = spark.createDataFrame(user_content_data_3374, user_content_columns_3374)\n",
    "user_content_df_3374.show()"
   ]
  }
 ],
 "metadata": {
  "application/vnd.databricks.v1+notebook": {
   "computePreferences": null,
   "dashboards": [],
   "environmentMetadata": {
    "base_environment": "",
    "environment_version": "1"
   },
   "inputWidgetPreferences": null,
   "language": "python",
   "notebookMetadata": {
    "pythonIndentUnit": 4
   },
   "notebookName": "3374. First Letter Capitalization II (Hard)-(Solved)",
   "widgets": {}
  },
  "language_info": {
   "name": "python"
  }
 },
 "nbformat": 4,
 "nbformat_minor": 0
}
