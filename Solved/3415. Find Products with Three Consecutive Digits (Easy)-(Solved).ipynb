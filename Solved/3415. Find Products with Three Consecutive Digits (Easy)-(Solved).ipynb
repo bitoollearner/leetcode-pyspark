{
 "cells": [
  {
   "cell_type": "markdown",
   "metadata": {
    "application/vnd.databricks.v1+cell": {
     "cellMetadata": {
      "byteLimit": 2048000,
      "rowLimit": 10000
     },
     "inputWidgets": {},
     "nuid": "7d1791bd-9552-4116-90b2-daa678bbffb8",
     "showTitle": false,
     "tableResultSettingsMap": {},
     "title": ""
    }
   },
   "source": [
    "## Importing Libraries"
   ]
  },
  {
   "cell_type": "code",
   "execution_count": 0,
   "metadata": {
    "application/vnd.databricks.v1+cell": {
     "cellMetadata": {
      "byteLimit": 2048000,
      "rowLimit": 10000
     },
     "inputWidgets": {},
     "nuid": "2901fbc9-49db-4285-8b94-c460f34d4c4f",
     "showTitle": false,
     "tableResultSettingsMap": {},
     "title": ""
    }
   },
   "outputs": [],
   "source": [
    "from pyspark.sql.functions import *\n",
    "from pyspark.sql.types import *\n",
    "from pyspark.sql.window import Window"
   ]
  },
  {
   "cell_type": "markdown",
   "metadata": {
    "application/vnd.databricks.v1+cell": {
     "cellMetadata": {
      "byteLimit": 2048000,
      "rowLimit": 10000
     },
     "inputWidgets": {},
     "nuid": "655120e7-6b25-417c-a08a-c6925feaa425",
     "showTitle": false,
     "tableResultSettingsMap": {},
     "title": ""
    }
   },
   "source": [
    "**3415. Find Products with Three Consecutive Digits (Easy)**\n",
    "\n",
    "**Table: Products**\n",
    "\n",
    "| Column Name | Type    |\n",
    "|-------------|---------|\n",
    "| product_id  | int     |\n",
    "| name        | varchar |\n",
    "\n",
    "product_id is the unique key for this table.\n",
    "Each row of this table contains the ID and name of a product.\n",
    "\n",
    "**Write a solution to find all products whose names contain a sequence of exactly three digits in a row.**\n",
    "\n",
    "Return the result table ordered by product_id in ascending order.\n",
    "\n",
    "The result format is in the following example.\n",
    "\n",
    " \n",
    "**Example:**\n",
    "\n",
    "**Input:**\n",
    "\n",
    "**products table:**\n",
    "\n",
    "| product_id  | name               |\n",
    "|-------------|--------------------|\n",
    "| 1           | ABC123XYZ          |\n",
    "| 2           | A12B34C            |\n",
    "| 3           | Product56789       |\n",
    "| 4           | NoDigitsHere       |\n",
    "| 5           | 789Product         |\n",
    "| 6           | Item003Description |\n",
    "| 7           | Product12X34       |\n",
    "\n",
    "**Output:**\n",
    "\n",
    "| product_id  | name               |\n",
    "|-------------|--------------------|\n",
    "| 1           | ABC123XYZ          |\n",
    "| 5           | 789Product         |\n",
    "| 6           | Item003Description |\n",
    "\n",
    "**Explanation:**\n",
    "- Product 1: ABC123XYZ contains the digits 123.\n",
    "- Product 5: 789Product contains the digits 789.\n",
    "- Product 6: Item003Description contains 003, which is exactly three digits.\n",
    "\n",
    "**Note:**\n",
    "Results are ordered by product_id in ascending order.\n",
    "Only products with exactly three consecutive digits in their names are included in the result."
   ]
  },
  {
   "cell_type": "code",
   "execution_count": 0,
   "metadata": {
    "application/vnd.databricks.v1+cell": {
     "cellMetadata": {
      "byteLimit": 2048000,
      "rowLimit": 10000
     },
     "inputWidgets": {},
     "nuid": "a2368434-0191-416c-aa1d-12cd44cf48e6",
     "showTitle": false,
     "tableResultSettingsMap": {},
     "title": ""
    }
   },
   "outputs": [
    {
     "output_type": "stream",
     "name": "stdout",
     "output_type": "stream",
     "text": [
      "+----------+------------------+\n|product_id|              name|\n+----------+------------------+\n|         1|         ABC123XYZ|\n|         2|           A12B34C|\n|         3|      Product56789|\n|         4|      NoDigitsHere|\n|         5|        789Product|\n|         6|Item003Description|\n|         7|      Product12X34|\n+----------+------------------+\n\n"
     ]
    }
   ],
   "source": [
    "products_data_3415 = [\n",
    "    (1, \"ABC123XYZ\"),\n",
    "    (2, \"A12B34C\"),\n",
    "    (3, \"Product56789\"),\n",
    "    (4, \"NoDigitsHere\"),\n",
    "    (5, \"789Product\"),\n",
    "    (6, \"Item003Description\"),\n",
    "    (7, \"Product12X34\")\n",
    "]\n",
    "\n",
    "products_columns_3415 = [\"product_id\", \"name\"]\n",
    "products_df_3415 = spark.createDataFrame(products_data_3415, products_columns_3415)\n",
    "products_df_3415.show()"
   ]
  },
  {
   "cell_type": "code",
   "execution_count": 0,
   "metadata": {
    "application/vnd.databricks.v1+cell": {
     "cellMetadata": {
      "byteLimit": 2048000,
      "rowLimit": 10000
     },
     "inputWidgets": {},
     "nuid": "cf95f1c5-e804-4f1b-a738-36640537fcc0",
     "showTitle": false,
     "tableResultSettingsMap": {},
     "title": ""
    }
   },
   "outputs": [
    {
     "output_type": "display_data",
     "data": {
      "text/html": [
       "<style scoped>\n",
       "  .table-result-container {\n",
       "    max-height: 300px;\n",
       "    overflow: auto;\n",
       "  }\n",
       "  table, th, td {\n",
       "    border: 1px solid black;\n",
       "    border-collapse: collapse;\n",
       "  }\n",
       "  th, td {\n",
       "    padding: 5px;\n",
       "  }\n",
       "  th {\n",
       "    text-align: left;\n",
       "  }\n",
       "</style><div class='table-result-container'><table class='table-result'><thead style='background-color: white'><tr><th>product_id</th><th>name</th></tr></thead><tbody><tr><td>1</td><td>ABC123XYZ</td></tr><tr><td>5</td><td>789Product</td></tr><tr><td>6</td><td>Item003Description</td></tr></tbody></table></div>"
      ]
     },
     "metadata": {
      "application/vnd.databricks.v1+output": {
       "addedWidgets": {},
       "aggData": [],
       "aggError": "",
       "aggOverflow": false,
       "aggSchema": [],
       "aggSeriesLimitReached": false,
       "aggType": "",
       "arguments": {},
       "columnCustomDisplayInfos": {},
       "data": [
        [
         1,
         "ABC123XYZ"
        ],
        [
         5,
         "789Product"
        ],
        [
         6,
         "Item003Description"
        ]
       ],
       "datasetInfos": [],
       "dbfsResultPath": null,
       "isJsonSchema": true,
       "metadata": {},
       "overflow": false,
       "plotOptions": {
        "customPlotOptions": {},
        "displayType": "table",
        "pivotAggregation": null,
        "pivotColumns": null,
        "xColumns": null,
        "yColumns": null
       },
       "removedWidgets": [],
       "schema": [
        {
         "metadata": "{}",
         "name": "product_id",
         "type": "\"long\""
        },
        {
         "metadata": "{}",
         "name": "name",
         "type": "\"string\""
        }
       ],
       "type": "table"
      }
     },
     "output_type": "display_data"
    }
   ],
   "source": [
    "products_df_3415\\\n",
    "    .filter(col(\"name\").rlike(r'(?<!\\d)\\d{3}(?!\\d)')) \\\n",
    "        .orderBy(\"product_id\").display()"
   ]
  }
 ],
 "metadata": {
  "application/vnd.databricks.v1+notebook": {
   "computePreferences": {
    "hardware": {
     "accelerator": null,
     "gpuPoolId": null,
     "memory": null
    }
   },
   "dashboards": [],
   "environmentMetadata": {
    "base_environment": "",
    "environment_version": "2"
   },
   "inputWidgetPreferences": null,
   "language": "python",
   "notebookMetadata": {
    "pythonIndentUnit": 4
   },
   "notebookName": "3415. Find Products with Three Consecutive Digits (Easy)-(Solved)",
   "widgets": {}
  },
  "language_info": {
   "name": "python"
  }
 },
 "nbformat": 4,
 "nbformat_minor": 0
}
