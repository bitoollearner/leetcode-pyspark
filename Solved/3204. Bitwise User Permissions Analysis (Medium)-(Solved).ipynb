{
 "cells": [
  {
   "cell_type": "markdown",
   "metadata": {
    "application/vnd.databricks.v1+cell": {
     "cellMetadata": {},
     "inputWidgets": {},
     "nuid": "7d1791bd-9552-4116-90b2-daa678bbffb8",
     "showTitle": false,
     "tableResultSettingsMap": {},
     "title": ""
    }
   },
   "source": [
    "## Importing Libraries"
   ]
  },
  {
   "cell_type": "code",
   "execution_count": 0,
   "metadata": {
    "application/vnd.databricks.v1+cell": {
     "cellMetadata": {},
     "inputWidgets": {},
     "nuid": "2901fbc9-49db-4285-8b94-c460f34d4c4f",
     "showTitle": false,
     "tableResultSettingsMap": {},
     "title": ""
    }
   },
   "outputs": [],
   "source": [
    "from pyspark.sql.functions import *\n",
    "from pyspark.sql.types import *\n",
    "from pyspark.sql.window import Window"
   ]
  },
  {
   "cell_type": "markdown",
   "metadata": {
    "application/vnd.databricks.v1+cell": {
     "cellMetadata": {},
     "inputWidgets": {},
     "nuid": "655120e7-6b25-417c-a08a-c6925feaa425",
     "showTitle": false,
     "tableResultSettingsMap": {},
     "title": ""
    }
   },
   "source": [
    "**3204. Bitwise User Permissions Analysis (Medium)**\n",
    "\n",
    "**Table: user_permissions**\n",
    "\n",
    "| Column Name | Type    |\n",
    "|-------------|---------|\n",
    "| user_id     | int     |\n",
    "| permissions | int     |\n",
    "\n",
    "user_id is the primary key.\n",
    "Each row of this table contains the user ID and their permissions encoded as an integer.\n",
    "Consider that each bit in the permissions integer represents a different access level or feature that a user has.\n",
    "\n",
    "**Write a solution to calculate the following:**\n",
    "- common_perms: The access level granted to all users. This is computed using a bitwise AND operation on the permissions column.\n",
    "- any_perms: The access level granted to any user. This is computed using a bitwise OR operation on the permissions column.\n",
    "\n",
    "Return the result table in any order.\n",
    "\n",
    "The result format is shown in the following example.\n",
    "\n",
    "**Example:**\n",
    "\n",
    "**Input:**\n",
    "\n",
    "**user_permissions table:**\n",
    "\n",
    "| user_id | permissions |\n",
    "|---------|-------------|\n",
    "| 1       | 5           |\n",
    "| 2       | 12          |\n",
    "| 3       | 7           |\n",
    "| 4       | 3           |\n",
    " \n",
    "**Output:**\n",
    "\n",
    "| common_perms | any_perms   |\n",
    "|--------------|-------------|\n",
    "| 0            | 15          |\n",
    "    \n",
    "**Explanation:**\n",
    "- **common_perms:** Represents the bitwise AND result of all permissions:\n",
    "  - For user 1 (5): 5 (binary 0101)\n",
    "  - For user 2 (12): 12 (binary 1100)\n",
    "  - For user 3 (7): 7 (binary 0111)\n",
    "  - For user 4 (3): 3 (binary 0011)\n",
    "  - Bitwise AND: 5 & 12 & 7 & 3 = 0 (binary 0000)\n",
    "- **any_perms:** Represents the bitwise OR result of all permissions:\n",
    "  - Bitwise OR: 5 | 12 | 7 | 3 = 15 (binary 1111)\n"
   ]
  },
  {
   "cell_type": "code",
   "execution_count": 0,
   "metadata": {
    "application/vnd.databricks.v1+cell": {
     "cellMetadata": {},
     "inputWidgets": {},
     "nuid": "a2368434-0191-416c-aa1d-12cd44cf48e6",
     "showTitle": false,
     "tableResultSettingsMap": {},
     "title": ""
    }
   },
   "outputs": [],
   "source": [
    "user_permissions_data_3204 = [\n",
    "    (1, 5),   \n",
    "    (2, 12),  \n",
    "    (3, 7),   \n",
    "    (4, 3)    \n",
    "]\n",
    "\n",
    "user_permissions_columns_3204 = [\"user_id\", \"permissions\"]\n",
    "user_permissions_df_3204 = spark.createDataFrame(user_permissions_data_3204, user_permissions_columns_3204)\n",
    "user_permissions_df_3204.show()"
   ]
  }
 ],
 "metadata": {
  "application/vnd.databricks.v1+notebook": {
   "computePreferences": null,
   "dashboards": [],
   "environmentMetadata": {
    "base_environment": "",
    "environment_version": "1"
   },
   "inputWidgetPreferences": null,
   "language": "python",
   "notebookMetadata": {
    "pythonIndentUnit": 4
   },
   "notebookName": "3204. Bitwise User Permissions Analysis (Medium)",
   "widgets": {}
  }
 },
 "nbformat": 4,
 "nbformat_minor": 0
}