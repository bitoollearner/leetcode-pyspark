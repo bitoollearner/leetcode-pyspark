{
 "cells": [
  {
   "cell_type": "markdown",
   "metadata": {
    "application/vnd.databricks.v1+cell": {
     "cellMetadata": {
      "byteLimit": 2048000,
      "rowLimit": 10000
     },
     "inputWidgets": {},
     "nuid": "7d1791bd-9552-4116-90b2-daa678bbffb8",
     "showTitle": false,
     "tableResultSettingsMap": {},
     "title": ""
    }
   },
   "source": [
    "## Importing Libraries"
   ]
  },
  {
   "cell_type": "code",
   "execution_count": 0,
   "metadata": {
    "application/vnd.databricks.v1+cell": {
     "cellMetadata": {
      "byteLimit": 2048000,
      "rowLimit": 10000
     },
     "inputWidgets": {},
     "nuid": "2901fbc9-49db-4285-8b94-c460f34d4c4f",
     "showTitle": false,
     "tableResultSettingsMap": {},
     "title": ""
    }
   },
   "outputs": [],
   "source": [
    "from pyspark.sql.functions import *\n",
    "from pyspark.sql.types import *\n",
    "from pyspark.sql.window import Window\n",
    "from functools import reduce\n",
    "import operator"
   ]
  },
  {
   "cell_type": "markdown",
   "metadata": {
    "application/vnd.databricks.v1+cell": {
     "cellMetadata": {
      "byteLimit": 2048000,
      "rowLimit": 10000
     },
     "inputWidgets": {},
     "nuid": "655120e7-6b25-417c-a08a-c6925feaa425",
     "showTitle": false,
     "tableResultSettingsMap": {},
     "title": ""
    }
   },
   "source": [
    "**3204. Bitwise User Permissions Analysis (Medium)**\n",
    "\n",
    "**Table: user_permissions**\n",
    "\n",
    "| Column Name | Type    |\n",
    "|-------------|---------|\n",
    "| user_id     | int     |\n",
    "| permissions | int     |\n",
    "\n",
    "user_id is the primary key.\n",
    "Each row of this table contains the user ID and their permissions encoded as an integer.\n",
    "Consider that each bit in the permissions integer represents a different access level or feature that a user has.\n",
    "\n",
    "**Write a solution to calculate the following:**\n",
    "- common_perms: The access level granted to all users. This is computed using a bitwise AND operation on the permissions column.\n",
    "- any_perms: The access level granted to any user. This is computed using a bitwise OR operation on the permissions column.\n",
    "\n",
    "Return the result table in any order.\n",
    "\n",
    "The result format is shown in the following example.\n",
    "\n",
    "**Example:**\n",
    "\n",
    "**Input:**\n",
    "\n",
    "**user_permissions table:**\n",
    "\n",
    "| user_id | permissions |\n",
    "|---------|-------------|\n",
    "| 1       | 5           |\n",
    "| 2       | 12          |\n",
    "| 3       | 7           |\n",
    "| 4       | 3           |\n",
    " \n",
    "**Output:**\n",
    "\n",
    "| common_perms | any_perms   |\n",
    "|--------------|-------------|\n",
    "| 0            | 15          |\n",
    "    \n",
    "**Explanation:**\n",
    "- **common_perms:** Represents the bitwise AND result of all permissions:\n",
    "  - For user 1 (5): 5 (binary 0101)\n",
    "  - For user 2 (12): 12 (binary 1100)\n",
    "  - For user 3 (7): 7 (binary 0111)\n",
    "  - For user 4 (3): 3 (binary 0011)\n",
    "  - Bitwise AND: 5 & 12 & 7 & 3 = 0 (binary 0000)\n",
    "- **any_perms:** Represents the bitwise OR result of all permissions:\n",
    "  - Bitwise OR: 5 | 12 | 7 | 3 = 15 (binary 1111)\n"
   ]
  },
  {
   "cell_type": "code",
   "execution_count": 0,
   "metadata": {
    "application/vnd.databricks.v1+cell": {
     "cellMetadata": {
      "byteLimit": 2048000,
      "rowLimit": 10000
     },
     "inputWidgets": {},
     "nuid": "a2368434-0191-416c-aa1d-12cd44cf48e6",
     "showTitle": false,
     "tableResultSettingsMap": {},
     "title": ""
    }
   },
   "outputs": [
    {
     "output_type": "stream",
     "name": "stdout",
     "output_type": "stream",
     "text": [
      "+-------+-----------+\n|user_id|permissions|\n+-------+-----------+\n|      1|          5|\n|      2|         12|\n|      3|          7|\n|      4|          3|\n+-------+-----------+\n\n"
     ]
    }
   ],
   "source": [
    "user_permissions_data_3204 = [\n",
    "    (1, 5),   \n",
    "    (2, 12),  \n",
    "    (3, 7),   \n",
    "    (4, 3)    \n",
    "]\n",
    "\n",
    "user_permissions_columns_3204 = [\"user_id\", \"permissions\"]\n",
    "user_permissions_df_3204 = spark.createDataFrame(user_permissions_data_3204, user_permissions_columns_3204)\n",
    "user_permissions_df_3204.show()"
   ]
  },
  {
   "cell_type": "code",
   "execution_count": 0,
   "metadata": {
    "application/vnd.databricks.v1+cell": {
     "cellMetadata": {
      "byteLimit": 2048000,
      "rowLimit": 10000
     },
     "inputWidgets": {},
     "nuid": "007298a1-6feb-42e2-8c63-6c91c6f33ad9",
     "showTitle": false,
     "tableResultSettingsMap": {},
     "title": ""
    }
   },
   "outputs": [],
   "source": [
    "permissions_list = [row['permissions'] for row in user_permissions_df_3204.select(\"permissions\").collect()]"
   ]
  },
  {
   "cell_type": "code",
   "execution_count": 0,
   "metadata": {
    "application/vnd.databricks.v1+cell": {
     "cellMetadata": {
      "byteLimit": 2048000,
      "rowLimit": 10000
     },
     "inputWidgets": {},
     "nuid": "4f7510ce-ef2a-4ae6-b043-7a59723e37c3",
     "showTitle": false,
     "tableResultSettingsMap": {},
     "title": ""
    }
   },
   "outputs": [],
   "source": [
    "common_perms = reduce(operator.and_, permissions_list)\n",
    "any_perms = reduce(operator.or_, permissions_list)\n"
   ]
  },
  {
   "cell_type": "code",
   "execution_count": 0,
   "metadata": {
    "application/vnd.databricks.v1+cell": {
     "cellMetadata": {
      "byteLimit": 2048000,
      "rowLimit": 10000
     },
     "inputWidgets": {},
     "nuid": "554fa3e2-3162-4f36-bf8f-70f59db6e230",
     "showTitle": false,
     "tableResultSettingsMap": {},
     "title": ""
    }
   },
   "outputs": [
    {
     "output_type": "display_data",
     "data": {
      "text/html": [
       "<style scoped>\n",
       "  .table-result-container {\n",
       "    max-height: 300px;\n",
       "    overflow: auto;\n",
       "  }\n",
       "  table, th, td {\n",
       "    border: 1px solid black;\n",
       "    border-collapse: collapse;\n",
       "  }\n",
       "  th, td {\n",
       "    padding: 5px;\n",
       "  }\n",
       "  th {\n",
       "    text-align: left;\n",
       "  }\n",
       "</style><div class='table-result-container'><table class='table-result'><thead style='background-color: white'><tr><th>common_perms</th><th>any_perms</th></tr></thead><tbody><tr><td>0</td><td>15</td></tr></tbody></table></div>"
      ]
     },
     "metadata": {
      "application/vnd.databricks.v1+output": {
       "addedWidgets": {},
       "aggData": [],
       "aggError": "",
       "aggOverflow": false,
       "aggSchema": [],
       "aggSeriesLimitReached": false,
       "aggType": "",
       "arguments": {},
       "columnCustomDisplayInfos": {},
       "data": [
        [
         0,
         15
        ]
       ],
       "datasetInfos": [],
       "dbfsResultPath": null,
       "isJsonSchema": true,
       "metadata": {},
       "overflow": false,
       "plotOptions": {
        "customPlotOptions": {},
        "displayType": "table",
        "pivotAggregation": null,
        "pivotColumns": null,
        "xColumns": null,
        "yColumns": null
       },
       "removedWidgets": [],
       "schema": [
        {
         "metadata": "{}",
         "name": "common_perms",
         "type": "\"long\""
        },
        {
         "metadata": "{}",
         "name": "any_perms",
         "type": "\"long\""
        }
       ],
       "type": "table"
      }
     },
     "output_type": "display_data"
    }
   ],
   "source": [
    "result = spark.createDataFrame([(common_perms, any_perms)], [\"common_perms\", \"any_perms\"])\n",
    "result.display()"
   ]
  }
 ],
 "metadata": {
  "application/vnd.databricks.v1+notebook": {
   "computePreferences": {
    "hardware": {
     "accelerator": null,
     "gpuPoolId": null,
     "memory": null
    }
   },
   "dashboards": [],
   "environmentMetadata": {
    "base_environment": "",
    "environment_version": "2"
   },
   "inputWidgetPreferences": null,
   "language": "python",
   "notebookMetadata": {
    "pythonIndentUnit": 4
   },
   "notebookName": "3204. Bitwise User Permissions Analysis (Medium)-(Solved)",
   "widgets": {}
  },
  "language_info": {
   "name": "python"
  }
 },
 "nbformat": 4,
 "nbformat_minor": 0
}
