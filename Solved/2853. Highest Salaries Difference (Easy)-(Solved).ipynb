{
 "cells": [
  {
   "cell_type": "markdown",
   "metadata": {
    "application/vnd.databricks.v1+cell": {
     "cellMetadata": {},
     "inputWidgets": {},
     "nuid": "4e9d71b1-88e9-445c-820a-b842e217a4e7",
     "showTitle": false,
     "tableResultSettingsMap": {},
     "title": ""
    }
   },
   "source": [
    "## Importing Libraries"
   ]
  },
  {
   "cell_type": "code",
   "execution_count": 0,
   "metadata": {
    "application/vnd.databricks.v1+cell": {
     "cellMetadata": {},
     "inputWidgets": {},
     "nuid": "e6624c4d-8cb8-4ac4-8c72-81d1b4ecdb57",
     "showTitle": false,
     "tableResultSettingsMap": {},
     "title": ""
    }
   },
   "outputs": [],
   "source": [
    "from pyspark.sql.functions import *\n",
    "from pyspark.sql.types import *\n",
    "from pyspark.sql.window import Window"
   ]
  },
  {
   "cell_type": "markdown",
   "metadata": {
    "application/vnd.databricks.v1+cell": {
     "cellMetadata": {},
     "inputWidgets": {},
     "nuid": "c3788fe5-f4c9-420f-ad72-ec1a39310a2a",
     "showTitle": false,
     "tableResultSettingsMap": {},
     "title": ""
    }
   },
   "source": [
    "**2853. Highest Salaries Difference (Easy)**\n",
    "\n",
    "**Table: Salaries**\n",
    "\n",
    "| Column Name | Type    | \n",
    "|-------------|---------| \n",
    "| emp_name    | varchar | \n",
    "| department  | varchar | \n",
    "| salary      | int     |\n",
    "\n",
    "(emp_name, department) is the primary key (combination of unique values) for this table.\n",
    "Each row of this table contains emp_name, department and salary. There will be at least one entry for the engineering and marketing departments.\n",
    "\n",
    "**Write a solution to calculate the difference between the highest salaries in the marketing and engineering department. Output the absolute difference in salaries.**\n",
    "\n",
    "Return the result table.\n",
    "\n",
    "The result format is in the following example.\n",
    "\n",
    "**Example 1:**\n",
    "\n",
    "**Input:** \n",
    "\n",
    "**Salaries table:**\n",
    "| emp_name | department  | salary |\n",
    "|----------|-------------|--------|\n",
    "| Kathy    | Engineering | 50000  |\n",
    "| Roy      | Marketing   | 30000  |\n",
    "| Charles  | Engineering | 45000  |\n",
    "| Jack     | Engineering | 85000  | \n",
    "| Benjamin | Marketing   | 34000  |\n",
    "| Anthony  | Marketing   | 42000  |\n",
    "| Edward   | Engineering | 102000 |\n",
    "| Terry    | Engineering | 44000  |\n",
    "| Evelyn   | Marketing   | 53000  |\n",
    "| Arthur   | Engineering | 32000  |\n",
    "\n",
    "**Output:** \n",
    "| salary_difference | \n",
    "|-------------------|\n",
    "| 49000             | \n",
    "\n",
    "**Explanation:** \n",
    "- The Engineering and Marketing departments have the highest salaries of 102,000 and 53,000, respectively. Resulting in an absolute difference of 49,000."
   ]
  },
  {
   "cell_type": "code",
   "execution_count": 0,
   "metadata": {
    "application/vnd.databricks.v1+cell": {
     "cellMetadata": {},
     "inputWidgets": {},
     "nuid": "137536ea-9bec-4171-8dc2-4bf8b0d771b4",
     "showTitle": false,
     "tableResultSettingsMap": {},
     "title": ""
    }
   },
   "outputs": [],
   "source": [
    "salaries_data_2853 = [\n",
    "    (\"Kathy\", \"Engineering\", 50000),\n",
    "    (\"Roy\", \"Marketing\", 30000),\n",
    "    (\"Charles\", \"Engineering\", 45000),\n",
    "    (\"Jack\", \"Engineering\", 85000),\n",
    "    (\"Benjamin\", \"Marketing\", 34000),\n",
    "    (\"Anthony\", \"Marketing\", 42000),\n",
    "    (\"Edward\", \"Engineering\", 102000),\n",
    "    (\"Terry\", \"Engineering\", 44000),\n",
    "    (\"Evelyn\", \"Marketing\", 53000),\n",
    "    (\"Arthur\", \"Engineering\", 32000),\n",
    "]\n",
    "\n",
    "salaries_columns_2853 = [\"emp_name\", \"department\", \"salary\"]\n",
    "salaries_df_2853 = spark.createDataFrame(salaries_data_2853, salaries_columns_2853)\n",
    "salaries_df_2853.show()"
   ]
  }
 ],
 "metadata": {
  "application/vnd.databricks.v1+notebook": {
   "computePreferences": null,
   "dashboards": [],
   "environmentMetadata": {
    "base_environment": "",
    "environment_version": "1"
   },
   "inputWidgetPreferences": null,
   "language": "python",
   "notebookMetadata": {
    "pythonIndentUnit": 4
   },
   "notebookName": "2853. Highest Salaries Difference (Easy)-(Solved)",
   "widgets": {}
  },
  "language_info": {
   "name": "python"
  }
 },
 "nbformat": 4,
 "nbformat_minor": 0
}
