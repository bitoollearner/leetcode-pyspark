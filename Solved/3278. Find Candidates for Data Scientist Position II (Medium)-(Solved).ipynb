{
 "cells": [
  {
   "cell_type": "markdown",
   "metadata": {
    "application/vnd.databricks.v1+cell": {
     "cellMetadata": {
      "byteLimit": 2048000,
      "rowLimit": 10000
     },
     "inputWidgets": {},
     "nuid": "7d1791bd-9552-4116-90b2-daa678bbffb8",
     "showTitle": false,
     "tableResultSettingsMap": {},
     "title": ""
    }
   },
   "source": [
    "## Importing Libraries"
   ]
  },
  {
   "cell_type": "code",
   "execution_count": 0,
   "metadata": {
    "application/vnd.databricks.v1+cell": {
     "cellMetadata": {
      "byteLimit": 2048000,
      "rowLimit": 10000
     },
     "inputWidgets": {},
     "nuid": "2901fbc9-49db-4285-8b94-c460f34d4c4f",
     "showTitle": false,
     "tableResultSettingsMap": {},
     "title": ""
    }
   },
   "outputs": [],
   "source": [
    "from pyspark.sql.functions import *\n",
    "from pyspark.sql.types import *\n",
    "from pyspark.sql.window import Window"
   ]
  },
  {
   "cell_type": "markdown",
   "metadata": {
    "application/vnd.databricks.v1+cell": {
     "cellMetadata": {
      "byteLimit": 2048000,
      "rowLimit": 10000
     },
     "inputWidgets": {},
     "nuid": "655120e7-6b25-417c-a08a-c6925feaa425",
     "showTitle": false,
     "tableResultSettingsMap": {},
     "title": ""
    }
   },
   "source": [
    "**3278. Find Candidates for Data Scientist Position II (Medium)**\n",
    "\n",
    "**Table: Candidates**\n",
    "\n",
    "| Column Name  | Type    | \n",
    "|--------------|---------| \n",
    "| candidate_id | int     | \n",
    "| skill        | varchar |\n",
    "| proficiency  | int     |\n",
    "\n",
    "(candidate_id, skill) is the unique key for this table.\n",
    "Each row includes candidate_id, skill, and proficiency level (1-5).\n",
    "\n",
    "**Table: Projects**\n",
    "\n",
    "| Column Name  | Type    | \n",
    "|--------------|---------| \n",
    "| project_id   | int     | \n",
    "| skill        | varchar |\n",
    "| importance   | int     |\n",
    "\n",
    "(project_id, skill) is the primary key for this table.\n",
    "Each row includes project_id, required skill, and its importance (1-5) for the project. Leetcode is staffing for multiple data science projects. \n",
    "\n",
    "**Write a solution to find the best candidate for each project based on the following criteria:**\n",
    "- Candidates must have all the skills required for a project.\n",
    "- Calculate a score for each candidate-project pair as follows:\n",
    "  - Start with 100 points\n",
    "  - Add 10 points for each skill where proficiency > importance\n",
    "  - Subtract 5 points for each skill where proficiency < importance\n",
    "  - If the candidate's skill proficiency equal to the project's skill importance, the score remains unchanged\n",
    "\n",
    "Include only the top candidate (highest score) for each project. If there’s a tie, choose the candidate with the lower candidate_id. If there is no suitable candidate for a project, do not return that project.\n",
    "\n",
    "Return a result table ordered by project_id in ascending order.\n",
    "\n",
    "The result format is in the following example.\n",
    "\n",
    "**Example:**\n",
    "\n",
    "**Input:**\n",
    "\n",
    "**Candidates table:**\n",
    "\n",
    "| candidate_id | skill     | proficiency |\n",
    "|--------------|-----------|-------------|\n",
    "| 101          | Python    | 5           |\n",
    "| 101          | Tableau   | 3           |\n",
    "| 101          | PostgreSQL| 4           |\n",
    "| 101          | TensorFlow| 2           |\n",
    "| 102          | Python    | 4           |\n",
    "| 102          | Tableau   | 5           |\n",
    "| 102          | PostgreSQL| 4           |\n",
    "| 102          | R         | 4           |\n",
    "| 103          | Python    | 3           |\n",
    "| 103          | Tableau   | 5           |\n",
    "| 103          | PostgreSQL| 5           |\n",
    "| 103          | Spark     | 4           |\n",
    "\n",
    "**Projects table:**\n",
    "\n",
    "| project_id  | skill     | importance |\n",
    "|-------------|-----------|------------|\n",
    "| 501         | Python    | 4          |\n",
    "| 501         | Tableau   | 3          |\n",
    "| 501         | PostgreSQL| 5          |\n",
    "| 502         | Python    | 3          |\n",
    "| 502         | Tableau   | 4          |\n",
    "| 502         | R         | 2          |\n",
    "\n",
    "**Output:**\n",
    "\n",
    "| project_id  | candidate_id | score |\n",
    "|-------------|--------------|-------|\n",
    "| 501         | 101          | 105   |\n",
    "| 502         | 102          | 130   |\n",
    "\n",
    "**Explanation:**\n",
    "- For Project 501, Candidate 101 has the highest score of 105. All other candidates have the same score but Candidate 101 has the lowest candidate_id among them.\n",
    "- For Project 502, Candidate 102 has the highest score of 130.\n",
    "\n",
    "The output table is ordered by project_id in ascending order."
   ]
  },
  {
   "cell_type": "code",
   "execution_count": 0,
   "metadata": {
    "application/vnd.databricks.v1+cell": {
     "cellMetadata": {
      "byteLimit": 2048000,
      "rowLimit": 10000
     },
     "inputWidgets": {},
     "nuid": "a2368434-0191-416c-aa1d-12cd44cf48e6",
     "showTitle": false,
     "tableResultSettingsMap": {},
     "title": ""
    }
   },
   "outputs": [
    {
     "output_type": "stream",
     "name": "stdout",
     "output_type": "stream",
     "text": [
      "+------------+----------+-----------+\n|candidate_id|     skill|proficiency|\n+------------+----------+-----------+\n|         101|    Python|          5|\n|         101|   Tableau|          3|\n|         101|PostgreSQL|          4|\n|         101|TensorFlow|          2|\n|         102|    Python|          4|\n|         102|   Tableau|          5|\n|         102|PostgreSQL|          4|\n|         102|         R|          4|\n|         103|    Python|          3|\n|         103|   Tableau|          5|\n|         103|PostgreSQL|          5|\n|         103|     Spark|          4|\n+------------+----------+-----------+\n\n+----------+----------+----------+\n|project_id|     skill|importance|\n+----------+----------+----------+\n|       501|    Python|         4|\n|       501|   Tableau|         3|\n|       501|PostgreSQL|         5|\n|       502|    Python|         3|\n|       502|   Tableau|         4|\n|       502|         R|         2|\n+----------+----------+----------+\n\n"
     ]
    }
   ],
   "source": [
    "candidates_data_3278 = [\n",
    "    (101, \"Python\", 5),\n",
    "    (101, \"Tableau\", 3),\n",
    "    (101, \"PostgreSQL\", 4),\n",
    "    (101, \"TensorFlow\", 2),\n",
    "    (102, \"Python\", 4),\n",
    "    (102, \"Tableau\", 5),\n",
    "    (102, \"PostgreSQL\", 4),\n",
    "    (102, \"R\", 4),\n",
    "    (103, \"Python\", 3),\n",
    "    (103, \"Tableau\", 5),\n",
    "    (103, \"PostgreSQL\", 5),\n",
    "    (103, \"Spark\", 4)\n",
    "]\n",
    "\n",
    "candidates_columns_3278 = [\"candidate_id\", \"skill\", \"proficiency\"]\n",
    "candidates_df_3278 = spark.createDataFrame(candidates_data_3278, candidates_columns_3278)\n",
    "candidates_df_3278.show()\n",
    "\n",
    "projects_data_3278 = [\n",
    "    (501, \"Python\", 4),\n",
    "    (501, \"Tableau\", 3),\n",
    "    (501, \"PostgreSQL\", 5),\n",
    "    (502, \"Python\", 3),\n",
    "    (502, \"Tableau\", 4),\n",
    "    (502, \"R\", 2)\n",
    "]\n",
    "\n",
    "projects_columns_3278 = [\"project_id\", \"skill\", \"importance\"]\n",
    "projects_df_3278 = spark.createDataFrame(projects_data_3278, projects_columns_3278)\n",
    "projects_df_3278.show()"
   ]
  },
  {
   "cell_type": "code",
   "execution_count": 0,
   "metadata": {
    "application/vnd.databricks.v1+cell": {
     "cellMetadata": {
      "byteLimit": 2048000,
      "rowLimit": 10000
     },
     "inputWidgets": {},
     "nuid": "5af41a82-21b0-41d1-9335-006df581b382",
     "showTitle": false,
     "tableResultSettingsMap": {},
     "title": ""
    }
   },
   "outputs": [],
   "source": [
    "joined_3278 = candidates_df_3278.join(projects_df_3278, \"skill\")"
   ]
  },
  {
   "cell_type": "code",
   "execution_count": 0,
   "metadata": {
    "application/vnd.databricks.v1+cell": {
     "cellMetadata": {
      "byteLimit": 2048000,
      "rowLimit": 10000
     },
     "inputWidgets": {},
     "nuid": "f1e94844-7eda-4150-a62c-b8b491374729",
     "showTitle": false,
     "tableResultSettingsMap": {},
     "title": ""
    }
   },
   "outputs": [],
   "source": [
    "joined_3278 = joined_3278\\\n",
    "                .withColumn( \"score_change\",\n",
    "                            when(col(\"proficiency\") > col(\"importance\"), lit(10))\n",
    "                            .when(col(\"proficiency\") < col(\"importance\"), lit(-5))\n",
    "                            .otherwise(lit(0))\n",
    "                            )"
   ]
  },
  {
   "cell_type": "code",
   "execution_count": 0,
   "metadata": {
    "application/vnd.databricks.v1+cell": {
     "cellMetadata": {
      "byteLimit": 2048000,
      "rowLimit": 10000
     },
     "inputWidgets": {},
     "nuid": "39f79f5a-b5fb-4dc6-88c8-57bb754484e4",
     "showTitle": false,
     "tableResultSettingsMap": {},
     "title": ""
    }
   },
   "outputs": [],
   "source": [
    "score_summary_3278 = joined_3278\\\n",
    "                        .groupBy(\"project_id\", \"candidate_id\")\\\n",
    "                            .agg(\n",
    "                                sum(\"score_change\").alias(\"score_change_total\"),\n",
    "                                countDistinct(\"skill\").alias(\"matched_skills\")\n",
    "                                )"
   ]
  },
  {
   "cell_type": "code",
   "execution_count": 0,
   "metadata": {
    "application/vnd.databricks.v1+cell": {
     "cellMetadata": {
      "byteLimit": 2048000,
      "rowLimit": 10000
     },
     "inputWidgets": {},
     "nuid": "463aeaed-1a2c-4723-abeb-417b32467ef5",
     "showTitle": false,
     "tableResultSettingsMap": {},
     "title": ""
    }
   },
   "outputs": [],
   "source": [
    "project_requirements_3278 = projects_df_3278\\\n",
    "                                .groupBy(\"project_id\")\\\n",
    "                                    .agg(countDistinct(\"skill\").alias(\"required_skills\"))"
   ]
  },
  {
   "cell_type": "code",
   "execution_count": 0,
   "metadata": {
    "application/vnd.databricks.v1+cell": {
     "cellMetadata": {
      "byteLimit": 2048000,
      "rowLimit": 10000
     },
     "inputWidgets": {},
     "nuid": "cd0d0402-64e6-44a1-9a38-1f8af78fcff8",
     "showTitle": false,
     "tableResultSettingsMap": {},
     "title": ""
    }
   },
   "outputs": [],
   "source": [
    "window = Window.partitionBy(\"project_id\").orderBy(col(\"score\").desc(), col(\"candidate_id\").asc())"
   ]
  },
  {
   "cell_type": "code",
   "execution_count": 0,
   "metadata": {
    "application/vnd.databricks.v1+cell": {
     "cellMetadata": {
      "byteLimit": 2048000,
      "rowLimit": 10000
     },
     "inputWidgets": {},
     "nuid": "1e0d9881-f8af-4b11-b613-ed3fca19ace7",
     "showTitle": false,
     "tableResultSettingsMap": {},
     "title": ""
    }
   },
   "outputs": [],
   "source": [
    "qualified_3278 = score_summary_3278\\\n",
    "                .join(project_requirements_3278, \"project_id\")\\\n",
    "                    .filter(col(\"matched_skills\") == col(\"required_skills\"))"
   ]
  },
  {
   "cell_type": "code",
   "execution_count": 0,
   "metadata": {
    "application/vnd.databricks.v1+cell": {
     "cellMetadata": {
      "byteLimit": 2048000,
      "rowLimit": 10000
     },
     "inputWidgets": {},
     "nuid": "79657fd7-40ba-448b-a2e8-998624cbb4cb",
     "showTitle": false,
     "tableResultSettingsMap": {},
     "title": ""
    }
   },
   "outputs": [],
   "source": [
    "qualified_3278 =qualified_3278\\\n",
    "                    .withColumn(\"score\", 100 + col(\"score_change_total\"))\\\n",
    "                        .withColumn(\"rn\", row_number().over(window))"
   ]
  },
  {
   "cell_type": "code",
   "execution_count": 0,
   "metadata": {
    "application/vnd.databricks.v1+cell": {
     "cellMetadata": {
      "byteLimit": 2048000,
      "rowLimit": 10000
     },
     "inputWidgets": {},
     "nuid": "74130461-66df-4ec0-b84f-4a31e9a0d5dd",
     "showTitle": false,
     "tableResultSettingsMap": {},
     "title": ""
    }
   },
   "outputs": [
    {
     "output_type": "display_data",
     "data": {
      "text/html": [
       "<style scoped>\n",
       "  .table-result-container {\n",
       "    max-height: 300px;\n",
       "    overflow: auto;\n",
       "  }\n",
       "  table, th, td {\n",
       "    border: 1px solid black;\n",
       "    border-collapse: collapse;\n",
       "  }\n",
       "  th, td {\n",
       "    padding: 5px;\n",
       "  }\n",
       "  th {\n",
       "    text-align: left;\n",
       "  }\n",
       "</style><div class='table-result-container'><table class='table-result'><thead style='background-color: white'><tr><th>project_id</th><th>candidate_id</th><th>score</th></tr></thead><tbody><tr><td>501</td><td>101</td><td>105</td></tr><tr><td>502</td><td>102</td><td>130</td></tr></tbody></table></div>"
      ]
     },
     "metadata": {
      "application/vnd.databricks.v1+output": {
       "addedWidgets": {},
       "aggData": [],
       "aggError": "",
       "aggOverflow": false,
       "aggSchema": [],
       "aggSeriesLimitReached": false,
       "aggType": "",
       "arguments": {},
       "columnCustomDisplayInfos": {},
       "data": [
        [
         501,
         101,
         105
        ],
        [
         502,
         102,
         130
        ]
       ],
       "datasetInfos": [],
       "dbfsResultPath": null,
       "isJsonSchema": true,
       "metadata": {},
       "overflow": false,
       "plotOptions": {
        "customPlotOptions": {},
        "displayType": "table",
        "pivotAggregation": null,
        "pivotColumns": null,
        "xColumns": null,
        "yColumns": null
       },
       "removedWidgets": [],
       "schema": [
        {
         "metadata": "{}",
         "name": "project_id",
         "type": "\"long\""
        },
        {
         "metadata": "{}",
         "name": "candidate_id",
         "type": "\"long\""
        },
        {
         "metadata": "{}",
         "name": "score",
         "type": "\"long\""
        }
       ],
       "type": "table"
      }
     },
     "output_type": "display_data"
    }
   ],
   "source": [
    "qualified_3278\\\n",
    "    .filter(col(\"rn\") == 1)\\\n",
    "        .select(\"project_id\", \"candidate_id\", \"score\").orderBy(\"project_id\").display()"
   ]
  }
 ],
 "metadata": {
  "application/vnd.databricks.v1+notebook": {
   "computePreferences": {
    "hardware": {
     "accelerator": null,
     "gpuPoolId": null,
     "memory": null
    }
   },
   "dashboards": [],
   "environmentMetadata": {
    "base_environment": "",
    "environment_version": "2"
   },
   "inputWidgetPreferences": null,
   "language": "python",
   "notebookMetadata": {
    "pythonIndentUnit": 4
   },
   "notebookName": "3278. Find Candidates for Data Scientist Position II (Medium)-(Solved)",
   "widgets": {}
  },
  "language_info": {
   "name": "python"
  }
 },
 "nbformat": 4,
 "nbformat_minor": 0
}
