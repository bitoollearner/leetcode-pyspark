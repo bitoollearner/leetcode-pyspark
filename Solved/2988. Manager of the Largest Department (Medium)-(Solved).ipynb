{
 "cells": [
  {
   "cell_type": "markdown",
   "metadata": {
    "application/vnd.databricks.v1+cell": {
     "cellMetadata": {},
     "inputWidgets": {},
     "nuid": "4e9d71b1-88e9-445c-820a-b842e217a4e7",
     "showTitle": false,
     "tableResultSettingsMap": {},
     "title": ""
    }
   },
   "source": [
    "## Importing Libraries"
   ]
  },
  {
   "cell_type": "code",
   "execution_count": 0,
   "metadata": {
    "application/vnd.databricks.v1+cell": {
     "cellMetadata": {},
     "inputWidgets": {},
     "nuid": "e6624c4d-8cb8-4ac4-8c72-81d1b4ecdb57",
     "showTitle": false,
     "tableResultSettingsMap": {},
     "title": ""
    }
   },
   "outputs": [],
   "source": [
    "from pyspark.sql.functions import *\n",
    "from pyspark.sql.types import *\n",
    "from pyspark.sql.window import Window"
   ]
  },
  {
   "cell_type": "markdown",
   "metadata": {
    "application/vnd.databricks.v1+cell": {
     "cellMetadata": {},
     "inputWidgets": {},
     "nuid": "c3788fe5-f4c9-420f-ad72-ec1a39310a2a",
     "showTitle": false,
     "tableResultSettingsMap": {},
     "title": ""
    }
   },
   "source": [
    "**2988. Manager of the Largest Department (Medium)**\n",
    "\n",
    "**Table: Employees**\n",
    "\n",
    "| Column Name | Type    |\n",
    "|-------------|---------|\n",
    "| emp_id      | int     |\n",
    "| emp_name    | varchar |\n",
    "| dep_id      | int     |\n",
    "| position    | varchar |\n",
    "\n",
    "emp_id is column of unique values for this table.\n",
    "This table contains emp_id, emp_name, dep_id, and position.\n",
    "\n",
    "**Write a solution to find the name of the manager from the largest department. There may be multiple largest departments when the number of employees in those departments is the same.**\n",
    "\n",
    "Return the result table sorted by dep_id in ascending order.\n",
    "\n",
    "The result format is in the following example.\n",
    "\n",
    "**Example 1:**\n",
    "\n",
    "**Input:** \n",
    "**Employees table:**\n",
    "| emp_id | emp_name | dep_id | position      | \n",
    "|--------|----------|--------|---------------|\n",
    "| 156    | Michael  | 107    | Manager       |\n",
    "| 112    | Lucas    | 107    | Consultant    |    \n",
    "| 8      | Isabella | 101    | Manager       | \n",
    "| 160    | Joseph   | 100    | Manager       | \n",
    "| 80     | Aiden    | 100    | Engineer      | \n",
    "| 190    | Skylar   | 100    | Freelancer    | \n",
    "| 196    | Stella   | 101    | Coordinator   |\n",
    "| 167    | Audrey   | 100    | Consultant    |\n",
    "| 97     | Nathan   | 101    | Supervisor    |\n",
    "| 128    | Ian      | 101    | Administrator |\n",
    "| 81     | Ethan    | 107    | Administrator |\n",
    "\n",
    "**Output**\n",
    "| manager_name | dep_id | \n",
    "|--------------|--------|\n",
    "| Joseph       | 100    | \n",
    "| Isabella     | 101    | \n",
    "\n",
    "**Explanation**\n",
    "- Departments with IDs 100 and 101 each has a total of 4 employees, while department 107 has 3 employees. Since both departments 100 and 101 have an equal number of employees, their respective managers will be included.\n",
    "\n",
    "Output table is ordered by dep_id in ascending order."
   ]
  },
  {
   "cell_type": "code",
   "execution_count": 0,
   "metadata": {
    "application/vnd.databricks.v1+cell": {
     "cellMetadata": {},
     "inputWidgets": {},
     "nuid": "137536ea-9bec-4171-8dc2-4bf8b0d771b4",
     "showTitle": false,
     "tableResultSettingsMap": {},
     "title": ""
    }
   },
   "outputs": [],
   "source": [
    "employees_data_2988 = [\n",
    "    (156, \"Michael\", 107, \"Manager\"),\n",
    "    (112, \"Lucas\", 107, \"Consultant\"),\n",
    "    (8, \"Isabella\", 101, \"Manager\"),\n",
    "    (160, \"Joseph\", 100, \"Manager\"),\n",
    "    (80, \"Aiden\", 100, \"Engineer\"),\n",
    "    (190, \"Skylar\", 100, \"Freelancer\"),\n",
    "    (196, \"Stella\", 101, \"Coordinator\"),\n",
    "    (167, \"Audrey\", 100, \"Consultant\"),\n",
    "    (97, \"Nathan\", 101, \"Supervisor\"),\n",
    "    (128, \"Ian\", 101, \"Administrator\"),\n",
    "    (81, \"Ethan\", 107, \"Administrator\")\n",
    "]\n",
    "\n",
    "employees_columns_2988 = [\"emp_id\", \"emp_name\", \"dep_id\", \"position\"]\n",
    "employees_df_2988 = spark.createDataFrame(employees_data_2988, employees_columns_2988)\n",
    "employees_df_2988.show()\n"
   ]
  }
 ],
 "metadata": {
  "application/vnd.databricks.v1+notebook": {
   "computePreferences": null,
   "dashboards": [],
   "environmentMetadata": {
    "base_environment": "",
    "environment_version": "1"
   },
   "inputWidgetPreferences": null,
   "language": "python",
   "notebookMetadata": {
    "pythonIndentUnit": 4
   },
   "notebookName": "2988. Manager of the Largest Department (Medium)-(Solved)",
   "widgets": {}
  },
  "language_info": {
   "name": "python"
  }
 },
 "nbformat": 4,
 "nbformat_minor": 0
}
