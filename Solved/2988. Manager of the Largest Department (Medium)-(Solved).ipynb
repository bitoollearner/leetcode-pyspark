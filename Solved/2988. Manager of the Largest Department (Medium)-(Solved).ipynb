{
 "cells": [
  {
   "cell_type": "markdown",
   "metadata": {
    "application/vnd.databricks.v1+cell": {
     "cellMetadata": {
      "byteLimit": 2048000,
      "rowLimit": 10000
     },
     "inputWidgets": {},
     "nuid": "4e9d71b1-88e9-445c-820a-b842e217a4e7",
     "showTitle": false,
     "tableResultSettingsMap": {},
     "title": ""
    }
   },
   "source": [
    "## Importing Libraries"
   ]
  },
  {
   "cell_type": "code",
   "execution_count": 0,
   "metadata": {
    "application/vnd.databricks.v1+cell": {
     "cellMetadata": {
      "byteLimit": 2048000,
      "rowLimit": 10000
     },
     "inputWidgets": {},
     "nuid": "e6624c4d-8cb8-4ac4-8c72-81d1b4ecdb57",
     "showTitle": false,
     "tableResultSettingsMap": {},
     "title": ""
    }
   },
   "outputs": [],
   "source": [
    "from pyspark.sql.functions import *\n",
    "from pyspark.sql.types import *\n",
    "from pyspark.sql.window import Window"
   ]
  },
  {
   "cell_type": "markdown",
   "metadata": {
    "application/vnd.databricks.v1+cell": {
     "cellMetadata": {
      "byteLimit": 2048000,
      "rowLimit": 10000
     },
     "inputWidgets": {},
     "nuid": "c3788fe5-f4c9-420f-ad72-ec1a39310a2a",
     "showTitle": false,
     "tableResultSettingsMap": {},
     "title": ""
    }
   },
   "source": [
    "**2988. Manager of the Largest Department (Medium)**\n",
    "\n",
    "**Table: Employees**\n",
    "\n",
    "| Column Name | Type    |\n",
    "|-------------|---------|\n",
    "| emp_id      | int     |\n",
    "| emp_name    | varchar |\n",
    "| dep_id      | int     |\n",
    "| position    | varchar |\n",
    "\n",
    "emp_id is column of unique values for this table.\n",
    "This table contains emp_id, emp_name, dep_id, and position.\n",
    "\n",
    "**Write a solution to find the name of the manager from the largest department. There may be multiple largest departments when the number of employees in those departments is the same.**\n",
    "\n",
    "Return the result table sorted by dep_id in ascending order.\n",
    "\n",
    "The result format is in the following example.\n",
    "\n",
    "**Example 1:**\n",
    "\n",
    "**Input:** \n",
    "**Employees table:**\n",
    "| emp_id | emp_name | dep_id | position      | \n",
    "|--------|----------|--------|---------------|\n",
    "| 156    | Michael  | 107    | Manager       |\n",
    "| 112    | Lucas    | 107    | Consultant    |    \n",
    "| 8      | Isabella | 101    | Manager       | \n",
    "| 160    | Joseph   | 100    | Manager       | \n",
    "| 80     | Aiden    | 100    | Engineer      | \n",
    "| 190    | Skylar   | 100    | Freelancer    | \n",
    "| 196    | Stella   | 101    | Coordinator   |\n",
    "| 167    | Audrey   | 100    | Consultant    |\n",
    "| 97     | Nathan   | 101    | Supervisor    |\n",
    "| 128    | Ian      | 101    | Administrator |\n",
    "| 81     | Ethan    | 107    | Administrator |\n",
    "\n",
    "**Output**\n",
    "| manager_name | dep_id | \n",
    "|--------------|--------|\n",
    "| Joseph       | 100    | \n",
    "| Isabella     | 101    | \n",
    "\n",
    "**Explanation**\n",
    "- Departments with IDs 100 and 101 each has a total of 4 employees, while department 107 has 3 employees. Since both departments 100 and 101 have an equal number of employees, their respective managers will be included.\n",
    "\n",
    "Output table is ordered by dep_id in ascending order."
   ]
  },
  {
   "cell_type": "code",
   "execution_count": 0,
   "metadata": {
    "application/vnd.databricks.v1+cell": {
     "cellMetadata": {
      "byteLimit": 2048000,
      "rowLimit": 10000
     },
     "inputWidgets": {},
     "nuid": "137536ea-9bec-4171-8dc2-4bf8b0d771b4",
     "showTitle": false,
     "tableResultSettingsMap": {},
     "title": ""
    }
   },
   "outputs": [
    {
     "output_type": "stream",
     "name": "stdout",
     "output_type": "stream",
     "text": [
      "+------+--------+------+-------------+\n|emp_id|emp_name|dep_id|     position|\n+------+--------+------+-------------+\n|   156| Michael|   107|      Manager|\n|   112|   Lucas|   107|   Consultant|\n|     8|Isabella|   101|      Manager|\n|   160|  Joseph|   100|      Manager|\n|    80|   Aiden|   100|     Engineer|\n|   190|  Skylar|   100|   Freelancer|\n|   196|  Stella|   101|  Coordinator|\n|   167|  Audrey|   100|   Consultant|\n|    97|  Nathan|   101|   Supervisor|\n|   128|     Ian|   101|Administrator|\n|    81|   Ethan|   107|Administrator|\n+------+--------+------+-------------+\n\n"
     ]
    }
   ],
   "source": [
    "employees_data_2988 = [\n",
    "    (156, \"Michael\", 107, \"Manager\"),\n",
    "    (112, \"Lucas\", 107, \"Consultant\"),\n",
    "    (8, \"Isabella\", 101, \"Manager\"),\n",
    "    (160, \"Joseph\", 100, \"Manager\"),\n",
    "    (80, \"Aiden\", 100, \"Engineer\"),\n",
    "    (190, \"Skylar\", 100, \"Freelancer\"),\n",
    "    (196, \"Stella\", 101, \"Coordinator\"),\n",
    "    (167, \"Audrey\", 100, \"Consultant\"),\n",
    "    (97, \"Nathan\", 101, \"Supervisor\"),\n",
    "    (128, \"Ian\", 101, \"Administrator\"),\n",
    "    (81, \"Ethan\", 107, \"Administrator\")\n",
    "]\n",
    "\n",
    "employees_columns_2988 = [\"emp_id\", \"emp_name\", \"dep_id\", \"position\"]\n",
    "employees_df_2988 = spark.createDataFrame(employees_data_2988, employees_columns_2988)\n",
    "employees_df_2988.show()\n"
   ]
  },
  {
   "cell_type": "code",
   "execution_count": 0,
   "metadata": {
    "application/vnd.databricks.v1+cell": {
     "cellMetadata": {
      "byteLimit": 2048000,
      "rowLimit": 10000
     },
     "inputWidgets": {},
     "nuid": "64370b02-1c1c-4d08-894b-b8cd791d5053",
     "showTitle": false,
     "tableResultSettingsMap": {},
     "title": ""
    }
   },
   "outputs": [],
   "source": [
    "emp = employees_df_2988.alias(\"e\")"
   ]
  },
  {
   "cell_type": "code",
   "execution_count": 0,
   "metadata": {
    "application/vnd.databricks.v1+cell": {
     "cellMetadata": {
      "byteLimit": 2048000,
      "rowLimit": 10000
     },
     "inputWidgets": {},
     "nuid": "efde1ff0-2f12-49c2-a2ae-5c7fb9b01455",
     "showTitle": false,
     "tableResultSettingsMap": {},
     "title": ""
    }
   },
   "outputs": [],
   "source": [
    "dept_counts_2988 = employees_df_2988\\\n",
    "                        .groupBy(\"dep_id\").agg(count(\"*\").alias(\"emp_count\")).alias(\"dc\")"
   ]
  },
  {
   "cell_type": "code",
   "execution_count": 0,
   "metadata": {
    "application/vnd.databricks.v1+cell": {
     "cellMetadata": {
      "byteLimit": 2048000,
      "rowLimit": 10000
     },
     "inputWidgets": {},
     "nuid": "f89ec2d9-5d25-4a7d-837a-d69b0e7e4e7c",
     "showTitle": false,
     "tableResultSettingsMap": {},
     "title": ""
    }
   },
   "outputs": [],
   "source": [
    "max_count_2988 = dept_counts_2988.agg(max(\"emp_count\").alias(\"max_count\")).collect()[0][\"max_count\"]"
   ]
  },
  {
   "cell_type": "code",
   "execution_count": 0,
   "metadata": {
    "application/vnd.databricks.v1+cell": {
     "cellMetadata": {
      "byteLimit": 2048000,
      "rowLimit": 10000
     },
     "inputWidgets": {},
     "nuid": "99096a63-b224-4d98-b875-d7f71351c1d4",
     "showTitle": false,
     "tableResultSettingsMap": {},
     "title": ""
    }
   },
   "outputs": [],
   "source": [
    "largest_depts_2988 = dept_counts_2988.filter(col(\"emp_count\") == max_count_2988).alias(\"ld\")"
   ]
  },
  {
   "cell_type": "code",
   "execution_count": 0,
   "metadata": {
    "application/vnd.databricks.v1+cell": {
     "cellMetadata": {
      "byteLimit": 2048000,
      "rowLimit": 10000
     },
     "inputWidgets": {},
     "nuid": "f086e513-c03c-4cc5-a047-b9098dc51ee7",
     "showTitle": false,
     "tableResultSettingsMap": {},
     "title": ""
    }
   },
   "outputs": [
    {
     "output_type": "display_data",
     "data": {
      "text/html": [
       "<style scoped>\n",
       "  .table-result-container {\n",
       "    max-height: 300px;\n",
       "    overflow: auto;\n",
       "  }\n",
       "  table, th, td {\n",
       "    border: 1px solid black;\n",
       "    border-collapse: collapse;\n",
       "  }\n",
       "  th, td {\n",
       "    padding: 5px;\n",
       "  }\n",
       "  th {\n",
       "    text-align: left;\n",
       "  }\n",
       "</style><div class='table-result-container'><table class='table-result'><thead style='background-color: white'><tr><th>manager_name</th><th>dep_id</th></tr></thead><tbody><tr><td>Joseph</td><td>100</td></tr><tr><td>Isabella</td><td>101</td></tr></tbody></table></div>"
      ]
     },
     "metadata": {
      "application/vnd.databricks.v1+output": {
       "addedWidgets": {},
       "aggData": [],
       "aggError": "",
       "aggOverflow": false,
       "aggSchema": [],
       "aggSeriesLimitReached": false,
       "aggType": "",
       "arguments": {},
       "columnCustomDisplayInfos": {},
       "data": [
        [
         "Joseph",
         100
        ],
        [
         "Isabella",
         101
        ]
       ],
       "datasetInfos": [],
       "dbfsResultPath": null,
       "isJsonSchema": true,
       "metadata": {},
       "overflow": false,
       "plotOptions": {
        "customPlotOptions": {},
        "displayType": "table",
        "pivotAggregation": null,
        "pivotColumns": null,
        "xColumns": null,
        "yColumns": null
       },
       "removedWidgets": [],
       "schema": [
        {
         "metadata": "{}",
         "name": "manager_name",
         "type": "\"string\""
        },
        {
         "metadata": "{}",
         "name": "dep_id",
         "type": "\"long\""
        }
       ],
       "type": "table"
      }
     },
     "output_type": "display_data"
    }
   ],
   "source": [
    "emp\\\n",
    "    .join(largest_depts_2988, emp.dep_id == col(\"ld.dep_id\"), \"inner\") \\\n",
    "            .filter(col(\"e.position\") == \"Manager\") \\\n",
    "            .select(col(\"e.emp_name\").alias(\"manager_name\"),\n",
    "                    col(\"e.dep_id\").alias(\"dep_id\")) \\\n",
    "            .orderBy(\"dep_id\").display()"
   ]
  }
 ],
 "metadata": {
  "application/vnd.databricks.v1+notebook": {
   "computePreferences": {
    "hardware": {
     "accelerator": null,
     "gpuPoolId": null,
     "memory": null
    }
   },
   "dashboards": [],
   "environmentMetadata": {
    "base_environment": "",
    "environment_version": "2"
   },
   "inputWidgetPreferences": null,
   "language": "python",
   "notebookMetadata": {
    "pythonIndentUnit": 4
   },
   "notebookName": "2988. Manager of the Largest Department (Medium)-(Solved)",
   "widgets": {}
  },
  "language_info": {
   "name": "python"
  }
 },
 "nbformat": 4,
 "nbformat_minor": 0
}
