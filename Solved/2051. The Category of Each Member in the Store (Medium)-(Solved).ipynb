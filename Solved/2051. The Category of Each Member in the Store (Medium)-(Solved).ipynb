{
 "cells": [
  {
   "cell_type": "markdown",
   "metadata": {
    "application/vnd.databricks.v1+cell": {
     "cellMetadata": {
      "byteLimit": 2048000,
      "rowLimit": 10000
     },
     "inputWidgets": {},
     "nuid": "83d38679-f742-44bb-952b-b541e178ddc8",
     "showTitle": false,
     "tableResultSettingsMap": {},
     "title": ""
    }
   },
   "source": [
    "## Importing Libraries"
   ]
  },
  {
   "cell_type": "code",
   "execution_count": 0,
   "metadata": {
    "application/vnd.databricks.v1+cell": {
     "cellMetadata": {
      "byteLimit": 2048000,
      "rowLimit": 10000
     },
     "inputWidgets": {},
     "nuid": "1daf4387-60f2-4c66-b119-d9ce2cd54aa2",
     "showTitle": false,
     "tableResultSettingsMap": {},
     "title": ""
    }
   },
   "outputs": [],
   "source": [
    "from pyspark.sql.functions import *\n",
    "from pyspark.sql.types import *\n",
    "from pyspark.sql.window import Window"
   ]
  },
  {
   "cell_type": "markdown",
   "metadata": {
    "application/vnd.databricks.v1+cell": {
     "cellMetadata": {
      "byteLimit": 2048000,
      "rowLimit": 10000
     },
     "inputWidgets": {},
     "nuid": "83ab9b20-fd4f-4392-ae0c-ff0580c3c7c1",
     "showTitle": false,
     "tableResultSettingsMap": {},
     "title": ""
    }
   },
   "source": [
    "**2051. The Category of Each Member in the Store (Medium)**\n",
    "\n",
    "Table: Members\n",
    "\n",
    "| Column Name | Type    |\n",
    "|-------------|---------|\n",
    "| member_id   | int     |\n",
    "| name        | varchar |\n",
    "\n",
    "member_id is the column with unique values for this table.\n",
    "Each row of this table indicates the name and the ID of a member.\n",
    " \n",
    "**Table: Visits**\n",
    "\n",
    "| Column Name | Type |\n",
    "|-------------|------|\n",
    "| visit_id    | int  |\n",
    "| member_id   | int  |\n",
    "| visit_date  | date |\n",
    "\n",
    "visit_id is the column with unique values for this table.\n",
    "member_id is a foreign key (reference column) to member_id from the Members table.\n",
    "Each row of this table contains information about the date of a visit to the store and the member who visited it.\n",
    " \n",
    "**Table: Purchases**\n",
    "\n",
    "| Column Name    | Type |\n",
    "|----------------|------|\n",
    "| visit_id       | int  |\n",
    "| charged_amount | int  |\n",
    "\n",
    "visit_id is the column with unique values for this table.\n",
    "visit_id is a foreign key (reference column) to visit_id from the Visits table.\n",
    "Each row of this table contains information about the amount charged in a visit to the store.\n",
    " \n",
    "A store wants to categorize its members. There are three tiers:\n",
    "- **\"Diamond\"**: if the conversion rate is greater than or equal to 80.\n",
    "- **\"Gold\"**: if the conversion rate is greater than or equal to 50 and less than 80.\n",
    "- **\"Silver\"**: if the conversion rate is less than 50.\n",
    "- **\"Bronze\"**: if the member never visited the store.\n",
    "\n",
    "The conversion rate of a member is (100 * total number of purchases for the member) / total number of visits for the member.\n",
    "\n",
    "**Write a solution to report the id, the name, and the category of each member.**\n",
    "\n",
    "Return the result table in any order.\n",
    "\n",
    "The result format is in the following example.\n",
    "\n",
    "**Example 1:**\n",
    "\n",
    "**Input:** \n",
    "\n",
    "**Members table:**\n",
    "\n",
    "| member_id | name    |\n",
    "|-----------|---------|\n",
    "| 9         | Alice   |\n",
    "| 11        | Bob     |\n",
    "| 3         | Winston |\n",
    "| 8         | Hercy   |\n",
    "| 1         | Narihan |\n",
    "\n",
    "**Visits table:**\n",
    "| visit_id | member_id | visit_date |\n",
    "|----------|-----------|------------|\n",
    "| 22       | 11        | 2021-10-28 |\n",
    "| 16       | 11        | 2021-01-12 |\n",
    "| 18       | 9         | 2021-12-10 |\n",
    "| 19       | 3         | 2021-10-19 |\n",
    "| 12       | 11        | 2021-03-01 |\n",
    "| 17       | 8         | 2021-05-07 |\n",
    "| 21       | 9         | 2021-05-12 |\n",
    "\n",
    "**Purchases table:**\n",
    "| visit_id | charged_amount |\n",
    "|----------|----------------|\n",
    "| 12       | 2000           |\n",
    "| 18       | 9000           |\n",
    "| 17       | 7000           |\n",
    "\n",
    "**Output:** \n",
    "| member_id | name    | category |\n",
    "|-----------|---------|----------|\n",
    "| 1         | Narihan | Bronze   |\n",
    "| 3         | Winston | Silver   |\n",
    "| 8         | Hercy   | Diamond  |\n",
    "| 9         | Alice   | Gold     |\n",
    "| 11        | Bob     | Silver   |\n",
    "\n",
    "**Explanation:** \n",
    "- User Narihan with id = 1 did not make any visits to the store. She gets a Bronze category.\n",
    "- User Winston with id = 3 visited the store one time and did not purchase anything. The conversion rate = (100 * 0) / 1 = 0. He gets a Silver category.\n",
    "- User Hercy with id = 8 visited the store one time and purchased one time. The conversion rate = (100 * 1) / 1 = 1. He gets a Diamond category.\n",
    "- User Alice with id = 9 visited the store two times and purchased one time. The conversion rate = (100 * 1) / 2 = 50. She gets a Gold category.\n",
    "- User Bob with id = 11 visited the store three times and purchased one time. The conversion rate = (100 * 1) / 3 = 33.33. He gets a Silver category."
   ]
  },
  {
   "cell_type": "code",
   "execution_count": 0,
   "metadata": {
    "application/vnd.databricks.v1+cell": {
     "cellMetadata": {
      "byteLimit": 2048000,
      "rowLimit": 10000
     },
     "inputWidgets": {},
     "nuid": "e39af07f-85df-4e21-8a5f-c65604a811f3",
     "showTitle": false,
     "tableResultSettingsMap": {},
     "title": ""
    }
   },
   "outputs": [
    {
     "output_type": "stream",
     "name": "stdout",
     "output_type": "stream",
     "text": [
      "+---------+-------+\n|member_id|   name|\n+---------+-------+\n|        9|  Alice|\n|       11|    Bob|\n|        3|Winston|\n|        8|  Hercy|\n|        1|Narihan|\n+---------+-------+\n\n+--------+---------+----------+\n|visit_id|member_id|visit_date|\n+--------+---------+----------+\n|      22|       11|2021-10-28|\n|      16|       11|2021-01-12|\n|      18|        9|2021-12-10|\n|      19|        3|2021-10-19|\n|      12|       11|2021-03-01|\n|      17|        8|2021-05-07|\n|      21|        9|2021-05-12|\n+--------+---------+----------+\n\n+--------+--------------+\n|visit_id|charged_amount|\n+--------+--------------+\n|      12|          2000|\n|      18|          9000|\n|      17|          7000|\n+--------+--------------+\n\n"
     ]
    }
   ],
   "source": [
    "members_data_2051 = [\n",
    "    (9, \"Alice\"),\n",
    "    (11, \"Bob\"),\n",
    "    (3, \"Winston\"),\n",
    "    (8, \"Hercy\"),\n",
    "    (1, \"Narihan\"),\n",
    "]\n",
    "\n",
    "members_columns_2051 = [\"member_id\", \"name\"]\n",
    "members_df_2051 = spark.createDataFrame(members_data_2051, members_columns_2051)\n",
    "members_df_2051.show()\n",
    "\n",
    "visits_data_2051 = [\n",
    "    (22, 11, \"2021-10-28\"),\n",
    "    (16, 11, \"2021-01-12\"),\n",
    "    (18, 9, \"2021-12-10\"),\n",
    "    (19, 3, \"2021-10-19\"),\n",
    "    (12, 11, \"2021-03-01\"),\n",
    "    (17, 8, \"2021-05-07\"),\n",
    "    (21, 9, \"2021-05-12\"),\n",
    "]\n",
    "\n",
    "visits_columns_2051 = [\"visit_id\", \"member_id\", \"visit_date\"]\n",
    "visits_df_2051 = spark.createDataFrame(visits_data_2051, visits_columns_2051)\n",
    "visits_df_2051.show()\n",
    "\n",
    "purchases_data_2051 = [\n",
    "    (12, 2000),\n",
    "    (18, 9000),\n",
    "    (17, 7000),\n",
    "]\n",
    "\n",
    "purchases_columns_2051 = [\"visit_id\", \"charged_amount\"]\n",
    "purchases_df_2051 = spark.createDataFrame(purchases_data_2051, purchases_columns_2051)\n",
    "purchases_df_2051.show()"
   ]
  },
  {
   "cell_type": "code",
   "execution_count": 0,
   "metadata": {
    "application/vnd.databricks.v1+cell": {
     "cellMetadata": {
      "byteLimit": 2048000,
      "rowLimit": 10000
     },
     "inputWidgets": {},
     "nuid": "aa1428bc-0022-4d32-a832-07ac1b20f506",
     "showTitle": false,
     "tableResultSettingsMap": {},
     "title": ""
    }
   },
   "outputs": [],
   "source": [
    "visits_with_purchases_df_2051 = visits_df_2051\\\n",
    "                                    .join(purchases_df_2051, \"visit_id\", \"left\")"
   ]
  },
  {
   "cell_type": "code",
   "execution_count": 0,
   "metadata": {
    "application/vnd.databricks.v1+cell": {
     "cellMetadata": {
      "byteLimit": 2048000,
      "rowLimit": 10000
     },
     "inputWidgets": {},
     "nuid": "6d2607be-728f-4cf5-838e-15939ea0e54b",
     "showTitle": false,
     "tableResultSettingsMap": {},
     "title": ""
    }
   },
   "outputs": [],
   "source": [
    "member_stats_df_2051 = visits_with_purchases_df_2051\\\n",
    "                            .groupBy(\"member_id\") \\\n",
    "                                .agg(\n",
    "                                    countDistinct(\"visit_id\").alias(\"total_visits\"),\n",
    "                                    countDistinct(when(col(\"charged_amount\").isNotNull(), \n",
    "                                                       col(\"visit_id\"))).alias(\"total_purchases\")\n",
    "                                    )\\\n",
    "                                        .withColumn( \"conversion_rate\", (col(\"total_purchases\") * 100 / col(\"total_visits\")))"
   ]
  },
  {
   "cell_type": "code",
   "execution_count": 0,
   "metadata": {
    "application/vnd.databricks.v1+cell": {
     "cellMetadata": {
      "byteLimit": 2048000,
      "rowLimit": 10000
     },
     "inputWidgets": {},
     "nuid": "ea57d376-3b81-4259-97e6-8b1f39fc4b18",
     "showTitle": false,
     "tableResultSettingsMap": {},
     "title": ""
    }
   },
   "outputs": [],
   "source": [
    "final_df_2051 = members_df_2051\\\n",
    "                    .join(member_stats_df_2051, \"member_id\", \"left\") \\\n",
    "                        .withColumn(\"total_visits\", when(col(\"total_visits\").isNull(), lit(0)).otherwise(col(\"total_visits\"))) \\\n",
    "                            .withColumn(\"conversion_rate\", when(col(\"conversion_rate\").isNull(), lit(-1)).otherwise(col(\"conversion_rate\")))"
   ]
  },
  {
   "cell_type": "code",
   "execution_count": 0,
   "metadata": {
    "application/vnd.databricks.v1+cell": {
     "cellMetadata": {
      "byteLimit": 2048000,
      "rowLimit": 10000
     },
     "inputWidgets": {},
     "nuid": "d53f21a0-d974-4821-bc71-c2acedf45792",
     "showTitle": false,
     "tableResultSettingsMap": {},
     "title": ""
    }
   },
   "outputs": [
    {
     "output_type": "stream",
     "name": "stdout",
     "output_type": "stream",
     "text": [
      "+---------+-------+--------+\n|member_id|   name|category|\n+---------+-------+--------+\n|        9|  Alice|    Gold|\n|       11|    Bob|  Silver|\n|        3|Winston|  Silver|\n|        8|  Hercy| Diamond|\n|        1|Narihan|  Bronze|\n+---------+-------+--------+\n\n"
     ]
    }
   ],
   "source": [
    "final_df_2051\\\n",
    "    .withColumn( \"category\",\n",
    "                when(col(\"total_visits\") == 0, \"Bronze\")\n",
    "                .when(col(\"conversion_rate\") >= 80, \"Diamond\")\n",
    "                .when((col(\"conversion_rate\") >= 50) & (col(\"conversion_rate\") < 80), \"Gold\")\n",
    "                .when(col(\"conversion_rate\") < 50, \"Silver\")\n",
    "                )\\\n",
    "                    .select(\"member_id\", \"name\", \"category\").show()"
   ]
  }
 ],
 "metadata": {
  "application/vnd.databricks.v1+notebook": {
   "computePreferences": {
    "hardware": {
     "accelerator": null,
     "gpuPoolId": null,
     "memory": null
    }
   },
   "dashboards": [],
   "environmentMetadata": {
    "base_environment": "",
    "environment_version": "2"
   },
   "inputWidgetPreferences": null,
   "language": "python",
   "notebookMetadata": {
    "pythonIndentUnit": 4
   },
   "notebookName": "2051. The Category of Each Member in the Store (Medium)-(Solved)",
   "widgets": {}
  },
  "language_info": {
   "name": "python"
  }
 },
 "nbformat": 4,
 "nbformat_minor": 0
}
