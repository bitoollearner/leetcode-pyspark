{
 "cells": [
  {
   "cell_type": "markdown",
   "metadata": {
    "application/vnd.databricks.v1+cell": {
     "cellMetadata": {
      "byteLimit": 2048000,
      "rowLimit": 10000
     },
     "inputWidgets": {},
     "nuid": "db7ebec7-889d-4791-9b66-269554c0d581",
     "showTitle": false,
     "tableResultSettingsMap": {},
     "title": ""
    }
   },
   "source": [
    "## Importing Libraries"
   ]
  },
  {
   "cell_type": "code",
   "execution_count": 0,
   "metadata": {
    "application/vnd.databricks.v1+cell": {
     "cellMetadata": {
      "byteLimit": 2048000,
      "rowLimit": 10000
     },
     "inputWidgets": {},
     "nuid": "70352d4b-6bb2-42f3-8465-ba88ab41d730",
     "showTitle": false,
     "tableResultSettingsMap": {},
     "title": ""
    }
   },
   "outputs": [],
   "source": [
    "from pyspark.sql.functions import *\n",
    "from pyspark.sql.types import *\n",
    "from pyspark.sql.window import Window"
   ]
  },
  {
   "cell_type": "markdown",
   "metadata": {
    "application/vnd.databricks.v1+cell": {
     "cellMetadata": {
      "byteLimit": 2048000,
      "rowLimit": 10000
     },
     "inputWidgets": {},
     "nuid": "154313e3-f403-4508-a1d1-a93ae1e178d9",
     "showTitle": false,
     "tableResultSettingsMap": {},
     "title": ""
    }
   },
   "source": [
    "**579. Find Cumulative Salary of an Employee (Hard)**\n",
    "\n",
    "**Table: Employee**\n",
    "\n",
    "| Column Name | Type |\n",
    "|-------------|------|\n",
    "| id          | int  |\n",
    "| month       | int  |\n",
    "| salary      | int  |\n",
    "\n",
    "(id, month) is the primary key (combination of columns with unique values) for this table.\n",
    "Each row in the table indicates the salary of an employee in one month during the year 2020.\n",
    " \n",
    "**Write a solution to calculate the cumulative salary summary for every employee in a single unified table.**\n",
    "\n",
    "The cumulative salary summary for an employee can be calculated as follows:\n",
    "\n",
    "- For each month that the employee worked, sum up the salaries in that month and the previous two months. This is their 3-month sum for that month. If an employee did not work for the company in previous months, their effective salary for those months is 0.\n",
    "- Do not include the 3-month sum for the most recent month that the employee worked for in the summary.\n",
    "- Do not include the 3-month sum for any month the employee did not work.\n",
    "\n",
    "Return the result table ordered by id in ascending order. In case of a tie, order it by month in descending order.\n",
    "\n",
    "The result format is in the following example.\n",
    "\n",
    "Example 1:\n",
    "\n",
    "**Input:**\n",
    "**Employee table:**\n",
    "| id | month | salary |\n",
    "|----|-------|--------|\n",
    "| 1  | 1     | 20     |\n",
    "| 2  | 1     | 20     |\n",
    "| 1  | 2     | 30     |\n",
    "| 2  | 2     | 30     |\n",
    "| 3  | 2     | 40     |\n",
    "| 1  | 3     | 40     |\n",
    "| 3  | 3     | 60     |\n",
    "| 1  | 4     | 60     |\n",
    "| 3  | 4     | 70     |\n",
    "| 1  | 7     | 90     |\n",
    "| 1  | 8     | 90     |\n",
    "\n",
    "**Output:**\n",
    "| id | month | Salary |\n",
    "|----|-------|--------|\n",
    "| 1  | 7     | 90     |\n",
    "| 1  | 4     | 130    |\n",
    "| 1  | 3     | 90     |\n",
    "| 1  | 2     | 50     |\n",
    "| 1  | 1     | 20     |\n",
    "| 2  | 1     | 20     |\n",
    "| 3  | 3     | 100    |\n",
    "| 3  | 2     | 40     |\n",
    "\n",
    "**Explanation:**\n",
    "Employee '1' has five salary records excluding their most recent month '8':\n",
    "- 90 for month '7'.\n",
    "- 60 for month '4'.\n",
    "- 40 for month '3'.\n",
    "- 30 for month '2'.\n",
    "- 20 for month '1'.\n",
    "\n",
    "So the cumulative salary summary for this employee is:\n",
    "| id | month | salary |\n",
    "|----|-------|--------|\n",
    "| 1  | 7     | 90     |  (90 + 0 + 0)\n",
    "| 1  | 4     | 130    |  (60 + 40 + 30)\n",
    "| 1  | 3     | 90     |  (40 + 30 + 20)\n",
    "| 1  | 2     | 50     |  (30 + 20 + 0)\n",
    "| 1  | 1     | 20     |  (20 + 0 + 0)\n",
    "\n",
    "Note that the 3-month sum for month '7' is 90 because they did not work during month '6' or month '5'.\n",
    "\n",
    "Employee '2' only has one salary record (month '1') excluding their most recent month '2'.\n",
    "| id | month | salary |\n",
    "|----|-------|--------|\n",
    "| 2  | 1     | 20     |  (20 + 0 + 0)\n",
    "\n",
    "Employee '3' has two salary records excluding their most recent month '4':\n",
    "- 60 for month '3'.\n",
    "- 40 for month '2'.\n",
    "\n",
    "So the cumulative salary summary for this employee is:\n",
    "| id | month | salary |\n",
    "|----|-------|--------|\n",
    "| 3  | 3     | 100    |  (60 + 40 + 0)\n",
    "| 3  | 2     | 40     |  (40 + 0 + 0)\n"
   ]
  },
  {
   "cell_type": "code",
   "execution_count": 0,
   "metadata": {
    "application/vnd.databricks.v1+cell": {
     "cellMetadata": {
      "byteLimit": 2048000,
      "rowLimit": 10000
     },
     "inputWidgets": {},
     "nuid": "787ef081-e08b-4a47-9b9a-a1a07b8b2b93",
     "showTitle": false,
     "tableResultSettingsMap": {},
     "title": ""
    }
   },
   "outputs": [],
   "source": [
    "employee_data_579 = [\n",
    "    (1, 1, 20),\n",
    "    (2, 1, 20),\n",
    "    (1, 2, 30),\n",
    "    (2, 2, 30),\n",
    "    (3, 2, 40),\n",
    "    (1, 3, 40),\n",
    "    (3, 3, 60),\n",
    "    (1, 4, 60),\n",
    "    (3, 4, 70),\n",
    "    (1, 7, 90),\n",
    "    (1, 8, 90)\n",
    "]\n",
    "employee_columns_579 = [\"id\", \"month\", \"salary\"]\n",
    "employee_df_579 = spark.createDataFrame(employee_data_579, employee_columns_579)\n",
    "employee_df_579.show()"
   ]
  },
  {
   "cell_type": "code",
   "execution_count": 0,
   "metadata": {
    "application/vnd.databricks.v1+cell": {
     "cellMetadata": {
      "byteLimit": 2048000,
      "rowLimit": 10000
     },
     "inputWidgets": {},
     "nuid": "aa834c97-caf6-4e5e-a320-48d0d053858b",
     "showTitle": false,
     "tableResultSettingsMap": {},
     "title": ""
    }
   },
   "outputs": [],
   "source": [
    "windowSpec = Window.partitionBy(\"id\").orderBy(col(\"month\"))"
   ]
  },
  {
   "cell_type": "code",
   "execution_count": 0,
   "metadata": {
    "application/vnd.databricks.v1+cell": {
     "cellMetadata": {
      "byteLimit": 2048000,
      "rowLimit": 10000
     },
     "inputWidgets": {},
     "nuid": "2144b64d-d36f-4ecd-ac19-6632eb5fc2fe",
     "showTitle": false,
     "tableResultSettingsMap": {},
     "title": ""
    }
   },
   "outputs": [],
   "source": [
    "df_lagged_579 = employee_df_579 \\\n",
    "    .withColumn(\"salary_lag1\", lag(\"salary\", 1).over(windowSpec)) \\\n",
    "    .withColumn(\"salary_lag2\", lag(\"salary\", 2).over(windowSpec))"
   ]
  },
  {
   "cell_type": "code",
   "execution_count": 0,
   "metadata": {
    "application/vnd.databricks.v1+cell": {
     "cellMetadata": {
      "byteLimit": 2048000,
      "rowLimit": 10000
     },
     "inputWidgets": {},
     "nuid": "0cfb664b-e3d0-4773-aad4-0e8a7e17622e",
     "showTitle": false,
     "tableResultSettingsMap": {},
     "title": ""
    }
   },
   "outputs": [],
   "source": [
    "df_sum_579 = df_lagged_579\\\n",
    "    .withColumn(\"cum_salary\", col(\"salary\") + coalesce(col(\"salary_lag1\"), lit(0)) + coalesce(col(\"salary_lag2\"), lit(0)))"
   ]
  },
  {
   "cell_type": "code",
   "execution_count": 0,
   "metadata": {
    "application/vnd.databricks.v1+cell": {
     "cellMetadata": {
      "byteLimit": 2048000,
      "rowLimit": 10000
     },
     "inputWidgets": {},
     "nuid": "174ee40e-ac0b-4315-994c-4dd7347f5e83",
     "showTitle": false,
     "tableResultSettingsMap": {},
     "title": ""
    }
   },
   "outputs": [],
   "source": [
    "most_recent_df_579 = employee_df_579.groupBy(\"id\").agg(max(\"month\").alias(\"max_month\"))\n"
   ]
  },
  {
   "cell_type": "code",
   "execution_count": 0,
   "metadata": {
    "application/vnd.databricks.v1+cell": {
     "cellMetadata": {
      "byteLimit": 2048000,
      "rowLimit": 10000
     },
     "inputWidgets": {},
     "nuid": "a5afd4ad-26ae-48a3-989c-6edf27b1355e",
     "showTitle": false,
     "tableResultSettingsMap": {},
     "title": ""
    }
   },
   "outputs": [],
   "source": [
    "df_sum_579\\\n",
    "    .join(most_recent_df_579,on='id',how='inner')\\\n",
    "    .filter(col('month') != col('max_month'))\\\n",
    "        .select('id','month','cum_salary').orderBy(col('id')).show()"
   ]
  }
 ],
 "metadata": {
  "application/vnd.databricks.v1+notebook": {
   "computePreferences": {
    "hardware": {
     "accelerator": null,
     "gpuPoolId": null,
     "memory": null
    }
   },
   "dashboards": [],
   "environmentMetadata": {
    "base_environment": "",
    "environment_version": "2"
   },
   "inputWidgetPreferences": null,
   "language": "python",
   "notebookMetadata": {
    "pythonIndentUnit": 4
   },
   "notebookName": "579. Find Cumulative Salary of an Employee (Hard)-(Solved)",
   "widgets": {}
  },
  "language_info": {
   "name": "python"
  }
 },
 "nbformat": 4,
 "nbformat_minor": 0
}
