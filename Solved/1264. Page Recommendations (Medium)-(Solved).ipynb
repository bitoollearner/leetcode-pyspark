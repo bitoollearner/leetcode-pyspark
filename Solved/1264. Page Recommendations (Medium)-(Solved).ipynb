{
 "cells": [
  {
   "cell_type": "markdown",
   "metadata": {
    "application/vnd.databricks.v1+cell": {
     "cellMetadata": {
      "byteLimit": 2048000,
      "rowLimit": 10000
     },
     "inputWidgets": {},
     "nuid": "82383caa-9b15-409a-9acb-968b851c477b",
     "showTitle": false,
     "tableResultSettingsMap": {},
     "title": ""
    }
   },
   "source": [
    "## Importing Libraries"
   ]
  },
  {
   "cell_type": "code",
   "execution_count": 0,
   "metadata": {
    "application/vnd.databricks.v1+cell": {
     "cellMetadata": {
      "byteLimit": 2048000,
      "rowLimit": 10000
     },
     "inputWidgets": {},
     "nuid": "83322872-9913-4063-98cf-4aaea5fd3337",
     "showTitle": false,
     "tableResultSettingsMap": {},
     "title": ""
    }
   },
   "outputs": [],
   "source": [
    "from pyspark.sql.functions import *\n",
    "from pyspark.sql.types import *\n",
    "from pyspark.sql.window import Window"
   ]
  },
  {
   "cell_type": "markdown",
   "metadata": {
    "application/vnd.databricks.v1+cell": {
     "cellMetadata": {
      "byteLimit": 2048000,
      "rowLimit": 10000
     },
     "inputWidgets": {},
     "nuid": "e475f002-2b95-4d27-958c-aeab86c066ed",
     "showTitle": false,
     "tableResultSettingsMap": {},
     "title": ""
    }
   },
   "source": [
    "\n",
    "**1264. Page Recommendations (Medium)**\n",
    "\n",
    "**Table: Friendship**\n",
    "\n",
    "| Column Name   | Type    |\n",
    "|---------------|---------|\n",
    "| user1_id      | int     |\n",
    "| user2_id      | int     |\n",
    "\n",
    "(user1_id, user2_id) is the primary key (combination of columns with unique values) for this table.\n",
    "Each row of this table indicates that there is a friendship relation between user1_id and user2_id.\n",
    " \n",
    "**Table: Likes**\n",
    "\n",
    "| Column Name | Type    |\n",
    "|-------------|---------|\n",
    "| user_id     | int     |\n",
    "| page_id     | int     |\n",
    "\n",
    "(user_id, page_id) is the primary key (combination of columns with unique values) for this table.\n",
    "Each row of this table indicates that user_id likes page_id.\n",
    " \n",
    "**Write a solution to recommend pages to the user with user_id = 1 using the pages that your friends liked. It should not recommend pages you already liked.**\n",
    "\n",
    "Return result table in any order without duplicates.\n",
    "\n",
    "The result format is in the following example.\n",
    "\n",
    "**Example 1:**\n",
    "\n",
    "**Input:** \n",
    "\n",
    "**Friendship table:**\n",
    "| user1_id | user2_id |\n",
    "|----------|----------|\n",
    "| 1        | 2        |\n",
    "| 1        | 3        |\n",
    "| 1        | 4        |\n",
    "| 2        | 3        |\n",
    "| 2        | 4        |\n",
    "| 2        | 5        |\n",
    "| 6        | 1        |\n",
    "\n",
    "**Likes table:**\n",
    "| user_id | page_id |\n",
    "|---------|---------|\n",
    "| 1       | 88      |\n",
    "| 2       | 23      |\n",
    "| 3       | 24      |\n",
    "| 4       | 56      |\n",
    "| 5       | 11      |\n",
    "| 6       | 33      |\n",
    "| 2       | 77      |\n",
    "| 3       | 77      |\n",
    "| 6       | 88      |\n",
    "\n",
    "**Output:** \n",
    "| recommended_page |\n",
    "|------------------|\n",
    "| 23               |\n",
    "| 24               |\n",
    "| 56               |\n",
    "| 33               |\n",
    "| 77               |\n",
    "\n",
    "**Explanation:** \n",
    "- User one is friend with users 2, 3, 4 and 6.\n",
    "- Suggested pages are 23 from user 2, 24 from user 3, 56 from user 3 and 33 from user 6.\n",
    "- Page 77 is suggested from both user 2 and user 3.\n",
    "- Page 88 is not suggested because user 1 already likes it."
   ]
  },
  {
   "cell_type": "code",
   "execution_count": 0,
   "metadata": {
    "application/vnd.databricks.v1+cell": {
     "cellMetadata": {
      "byteLimit": 2048000,
      "rowLimit": 10000
     },
     "inputWidgets": {},
     "nuid": "a073d765-b3a4-4bda-a02f-ac5e3671a222",
     "showTitle": false,
     "tableResultSettingsMap": {},
     "title": ""
    }
   },
   "outputs": [
    {
     "output_type": "stream",
     "name": "stdout",
     "output_type": "stream",
     "text": [
      "+--------+--------+\n|user1_id|user2_id|\n+--------+--------+\n|       1|       2|\n|       1|       3|\n|       1|       4|\n|       2|       3|\n|       2|       4|\n|       2|       5|\n|       6|       1|\n+--------+--------+\n\n+-------+-------+\n|user_id|page_id|\n+-------+-------+\n|      1|     88|\n|      2|     23|\n|      3|     24|\n|      4|     56|\n|      5|     11|\n|      6|     33|\n|      2|     77|\n|      3|     77|\n|      6|     88|\n+-------+-------+\n\n"
     ]
    }
   ],
   "source": [
    "friendship_data_1264 = [\n",
    "    (1, 2), (1, 3), (1, 4), (2, 3), (2, 4), (2, 5), (6, 1)\n",
    "]\n",
    "friendship_columns_1264 = [\"user1_id\", \"user2_id\"]\n",
    "friendship_df_1264 = spark.createDataFrame(friendship_data_1264, friendship_columns_1264)\n",
    "friendship_df_1264.show()\n",
    "\n",
    "likes_data_1264 = [\n",
    "    (1, 88), (2, 23), (3, 24), (4, 56), (5, 11), (6, 33),\n",
    "    (2, 77), (3, 77), (6, 88)\n",
    "]\n",
    "likes_columns_1264 = [\"user_id\", \"page_id\"]\n",
    "likes_df_1264 = spark.createDataFrame(likes_data_1264, likes_columns_1264)\n",
    "likes_df_1264.show()"
   ]
  },
  {
   "cell_type": "code",
   "execution_count": 0,
   "metadata": {
    "application/vnd.databricks.v1+cell": {
     "cellMetadata": {
      "byteLimit": 2048000,
      "rowLimit": 10000
     },
     "inputWidgets": {},
     "nuid": "873328e7-54b8-42f6-82ab-57db03081034",
     "showTitle": false,
     "tableResultSettingsMap": {},
     "title": ""
    }
   },
   "outputs": [],
   "source": [
    "friends_df_1264 = friendship_df_1264\\\n",
    "                    .filter((col(\"user1_id\") == 1) | (col(\"user2_id\") == 1)) \\\n",
    "                    .withColumn(\n",
    "                        \"friend_id\",\n",
    "                        when(col(\"user1_id\") == 1, col(\"user2_id\")).otherwise(col(\"user1_id\"))\n",
    "                    ).select(\"friend_id\")"
   ]
  },
  {
   "cell_type": "code",
   "execution_count": 0,
   "metadata": {
    "application/vnd.databricks.v1+cell": {
     "cellMetadata": {
      "byteLimit": 2048000,
      "rowLimit": 10000
     },
     "inputWidgets": {},
     "nuid": "634fd9a8-f983-4345-a190-4607480aa282",
     "showTitle": false,
     "tableResultSettingsMap": {},
     "title": ""
    }
   },
   "outputs": [],
   "source": [
    "friends_likes_df_1264 = friends_df_1264\\\n",
    "                    .join(likes_df_1264, friends_df_1264.friend_id == likes_df_1264.user_id) \\\n",
    "                    .select(\"page_id\").distinct()"
   ]
  },
  {
   "cell_type": "code",
   "execution_count": 0,
   "metadata": {
    "application/vnd.databricks.v1+cell": {
     "cellMetadata": {
      "byteLimit": 2048000,
      "rowLimit": 10000
     },
     "inputWidgets": {},
     "nuid": "51d8a569-7292-4988-bfad-a338b39526bf",
     "showTitle": false,
     "tableResultSettingsMap": {},
     "title": ""
    }
   },
   "outputs": [],
   "source": [
    "user_likes_df_1264 = likes_df_1264.filter(col(\"user_id\") == 1).select(\"page_id\")"
   ]
  },
  {
   "cell_type": "code",
   "execution_count": 0,
   "metadata": {
    "application/vnd.databricks.v1+cell": {
     "cellMetadata": {
      "byteLimit": 2048000,
      "rowLimit": 10000
     },
     "inputWidgets": {},
     "nuid": "4ba50c18-3774-4a12-bb2f-410befe36c64",
     "showTitle": false,
     "tableResultSettingsMap": {},
     "title": ""
    }
   },
   "outputs": [
    {
     "output_type": "stream",
     "name": "stdout",
     "output_type": "stream",
     "text": [
      "+----------------+\n|recommended_page|\n+----------------+\n|              23|\n|              24|\n|              56|\n|              33|\n|              77|\n+----------------+\n\n"
     ]
    }
   ],
   "source": [
    "friends_likes_df_1264\\\n",
    "    .join(user_likes_df_1264, on=\"page_id\", how=\"left_anti\") \\\n",
    "    .withColumnRenamed(\"page_id\", \"recommended_page\").show()"
   ]
  }
 ],
 "metadata": {
  "application/vnd.databricks.v1+notebook": {
   "computePreferences": {
    "hardware": {
     "accelerator": null,
     "gpuPoolId": null,
     "memory": null
    }
   },
   "dashboards": [],
   "environmentMetadata": {
    "base_environment": "",
    "environment_version": "2"
   },
   "inputWidgetPreferences": null,
   "language": "python",
   "notebookMetadata": {
    "pythonIndentUnit": 4
   },
   "notebookName": "1264. Page Recommendations (Medium)-(Solved)",
   "widgets": {}
  },
  "language_info": {
   "name": "python"
  }
 },
 "nbformat": 4,
 "nbformat_minor": 0
}
