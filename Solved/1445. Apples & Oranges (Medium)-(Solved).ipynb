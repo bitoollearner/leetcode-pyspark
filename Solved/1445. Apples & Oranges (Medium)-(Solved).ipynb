{
 "cells": [
  {
   "cell_type": "markdown",
   "metadata": {
    "application/vnd.databricks.v1+cell": {
     "cellMetadata": {},
     "inputWidgets": {},
     "nuid": "24f8e8c0-d56b-4821-a900-bbe934dce4d7",
     "showTitle": false,
     "tableResultSettingsMap": {},
     "title": ""
    }
   },
   "source": [
    "## Importing Libraries"
   ]
  },
  {
   "cell_type": "code",
   "execution_count": 0,
   "metadata": {
    "application/vnd.databricks.v1+cell": {
     "cellMetadata": {},
     "inputWidgets": {},
     "nuid": "243b190c-af0b-4bd1-9507-8e2be2fceca3",
     "showTitle": false,
     "tableResultSettingsMap": {},
     "title": ""
    }
   },
   "outputs": [],
   "source": [
    "from pyspark.sql.functions import *\n",
    "from pyspark.sql.types import *\n",
    "from pyspark.sql.window import Window"
   ]
  },
  {
   "cell_type": "markdown",
   "metadata": {
    "application/vnd.databricks.v1+cell": {
     "cellMetadata": {},
     "inputWidgets": {},
     "nuid": "2d9dc49c-3f2c-4ff6-8e98-5e72a86b1bac",
     "showTitle": false,
     "tableResultSettingsMap": {},
     "title": ""
    }
   },
   "source": [
    "**1445. Apples & Oranges (Medium)**\n",
    "\n",
    "**Table: Sales**\n",
    "\n",
    "| Column Name   | Type    |\n",
    "|---------------|---------|\n",
    "| sale_date     | date    |\n",
    "| fruit         | enum    | \n",
    "| sold_num      | int     | \n",
    "\n",
    "(sale_date, fruit) is the primary key (combination of columns with unique values) of this table.\n",
    "This table contains the sales of \"apples\" and \"oranges\" sold each day.\n",
    " \n",
    "**Write a solution to report the difference between the number of apples and oranges sold each day.**\n",
    "\n",
    "Return the result table ordered by sale_date.\n",
    "\n",
    "The result format is in the following example.\n",
    "\n",
    "**Example 1:**\n",
    "\n",
    "**Input:** \n",
    "\n",
    "**Sales table:**\n",
    "\n",
    "| sale_date  | fruit      | sold_num    |\n",
    "|------------|------------|-------------|\n",
    "| 2020-05-01 | apples     | 10          |\n",
    "| 2020-05-01 | oranges    | 8           |\n",
    "| 2020-05-02 | apples     | 15          |\n",
    "| 2020-05-02 | oranges    | 15          |\n",
    "| 2020-05-03 | apples     | 20          |\n",
    "| 2020-05-03 | oranges    | 0           |\n",
    "| 2020-05-04 | apples     | 15          |\n",
    "| 2020-05-04 | oranges    | 16          |\n",
    "\n",
    "**Output:** \n",
    "| sale_date  | diff         |\n",
    "|------------|--------------|\n",
    "| 2020-05-01 | 2            |\n",
    "| 2020-05-02 | 0            |\n",
    "| 2020-05-03 | 20           |\n",
    "| 2020-05-04 | -1           |\n",
    "\n",
    "**Explanation:** \n",
    "- Day 2020-05-01, 10 apples and 8 oranges were sold (Difference  10 - 8 = 2).\n",
    "- Day 2020-05-02, 15 apples and 15 oranges were sold (Difference 15 - 15 = 0).\n",
    "- Day 2020-05-03, 20 apples and 0 oranges were sold (Difference 20 - 0 = 20).\n",
    "- Day 2020-05-04, 15 apples and 16 oranges were sold (Difference 15 - 16 = -1)."
   ]
  },
  {
   "cell_type": "code",
   "execution_count": 0,
   "metadata": {
    "application/vnd.databricks.v1+cell": {
     "cellMetadata": {},
     "inputWidgets": {},
     "nuid": "5d66d20c-58e2-4ee9-8356-d736216372c3",
     "showTitle": false,
     "tableResultSettingsMap": {},
     "title": ""
    }
   },
   "outputs": [],
   "source": [
    "sales_data_1445 = [\n",
    "    (\"2020-05-01\", \"apples\", 10),\n",
    "    (\"2020-05-01\", \"oranges\", 8),\n",
    "    (\"2020-05-02\", \"apples\", 15),\n",
    "    (\"2020-05-02\", \"oranges\", 15),\n",
    "    (\"2020-05-03\", \"apples\", 20),\n",
    "    (\"2020-05-03\", \"oranges\", 0),\n",
    "    (\"2020-05-04\", \"apples\", 15),\n",
    "    (\"2020-05-04\", \"oranges\", 16)\n",
    "]\n",
    "\n",
    "sales_columns_1445 = [\"sale_date\", \"fruit\", \"sold_num\"]\n",
    "sales_df_1445 = spark.createDataFrame(sales_data_1445, sales_columns_1445)\n",
    "sales_df_1445.show()"
   ]
  }
 ],
 "metadata": {
  "application/vnd.databricks.v1+notebook": {
   "computePreferences": null,
   "dashboards": [],
   "environmentMetadata": {
    "base_environment": "",
    "environment_version": "1"
   },
   "inputWidgetPreferences": null,
   "language": "python",
   "notebookMetadata": {
    "pythonIndentUnit": 4
   },
   "notebookName": "1445. Apples & Oranges (Medium)-(Solved)",
   "widgets": {}
  },
  "language_info": {
   "name": "python"
  }
 },
 "nbformat": 4,
 "nbformat_minor": 0
}
