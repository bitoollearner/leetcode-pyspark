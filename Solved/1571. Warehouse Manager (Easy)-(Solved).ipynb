{
 "cells": [
  {
   "cell_type": "markdown",
   "metadata": {
    "application/vnd.databricks.v1+cell": {
     "cellMetadata": {},
     "inputWidgets": {},
     "nuid": "44cd2565-3e27-417c-8c6c-7b2d8f1b94c5",
     "showTitle": false,
     "tableResultSettingsMap": {},
     "title": ""
    }
   },
   "source": [
    "## Importing Libraries"
   ]
  },
  {
   "cell_type": "code",
   "execution_count": 0,
   "metadata": {
    "application/vnd.databricks.v1+cell": {
     "cellMetadata": {},
     "inputWidgets": {},
     "nuid": "e6da106f-4e0b-41e0-9f75-6e329535d5c0",
     "showTitle": false,
     "tableResultSettingsMap": {},
     "title": ""
    }
   },
   "outputs": [],
   "source": [
    "from pyspark.sql.functions import *\n",
    "from pyspark.sql.types import *\n",
    "from pyspark.sql.window import Window"
   ]
  },
  {
   "cell_type": "markdown",
   "metadata": {
    "application/vnd.databricks.v1+cell": {
     "cellMetadata": {},
     "inputWidgets": {},
     "nuid": "f0267197-68d5-4180-8492-6999c905acb1",
     "showTitle": false,
     "tableResultSettingsMap": {},
     "title": ""
    }
   },
   "source": [
    "**1571. Warehouse Manager (Easy)**\n",
    "\n",
    "**Table: Warehouse**\n",
    "\n",
    "| Column Name  | Type    |\n",
    "|--------------|---------|\n",
    "| name         | varchar |\n",
    "| product_id   | int     |\n",
    "| units        | int     |\n",
    "\n",
    "(name, product_id) is the primary key (combination of columns with unique values) for this table.\n",
    "Each row of this table contains the information of the products in each warehouse.\n",
    " \n",
    "**Table: Products**\n",
    "\n",
    "| Column Name   | Type    |\n",
    "|---------------|---------|\n",
    "| product_id    | int     |\n",
    "| product_name  | varchar |\n",
    "| Width         | int     |\n",
    "| Length        | int     |\n",
    "| Height        | int     |\n",
    "\n",
    "product_id is the primary key (column with unique values) for this table.\n",
    "Each row of this table contains information about the product dimensions (Width, Lenght, and Height) in feets of each product.\n",
    " \n",
    "**Write a solution to report the number of cubic feet of volume the inventory occupies in each warehouse.**\n",
    "\n",
    "Return the result table in any order.\n",
    "\n",
    "The query result format is in the following example.\n",
    "\n",
    "**Example 1:**\n",
    "\n",
    "**Input:** \n",
    "\n",
    "**Warehouse table:**\n",
    "| name       | product_id   | units       |\n",
    "|------------|--------------|-------------|\n",
    "| LCHouse1   | 1            | 1           |\n",
    "| LCHouse1   | 2            | 10          |\n",
    "| LCHouse1   | 3            | 5           |\n",
    "| LCHouse2   | 1            | 2           |\n",
    "| LCHouse2   | 2            | 2           |\n",
    "| LCHouse3   | 4            | 1           |\n",
    "\n",
    "**Products table:**\n",
    "| product_id | product_name | Width      | Length   | Height    |\n",
    "|------------|--------------|------------|----------|-----------|\n",
    "| 1          | LC-TV        | 5          | 50       | 40        |\n",
    "| 2          | LC-KeyChain  | 5          | 5        | 5         |\n",
    "| 3          | LC-Phone     | 2          | 10       | 10        |\n",
    "| 4          | LC-T-Shirt   | 4          | 10       | 20        |\n",
    "\n",
    "**Output:** \n",
    "| warehouse_name | volume     | \n",
    "|----------------|------------|\n",
    "| LCHouse1       | 12250      | \n",
    "| LCHouse2       | 20250      |\n",
    "| LCHouse3       | 800        |\n",
    "\n",
    "**Explanation:** \n",
    "- Volume of product_id = 1 (LC-TV), 5x50x40 = 10000\n",
    "- Volume of product_id = 2 (LC-KeyChain), 5x5x5 = 125 \n",
    "- Volume of product_id = 3 (LC-Phone), 2x10x10 = 200\n",
    "- Volume of product_id = 4 (LC-T-Shirt), 4x10x20 = 800\n",
    "- LCHouse1: 1 unit of LC-TV + 10 units of LC-KeyChain + 5 units of LC-Phone.\n",
    "    - Total volume: 1*10000 + 10*125  + 5*200 = 12250 cubic feet\n",
    "- LCHouse2: 2 units of LC-TV + 2 units of LC-KeyChain.\n",
    "    - Total volume: 2*10000 + 2*125 = 20250 cubic feet\n",
    "- LCHouse3: 1 unit of LC-T-Shirt.\n",
    "    - Total volume: 1*800 = 800 cubic feet."
   ]
  },
  {
   "cell_type": "code",
   "execution_count": 0,
   "metadata": {
    "application/vnd.databricks.v1+cell": {
     "cellMetadata": {},
     "inputWidgets": {},
     "nuid": "e98c62a4-8cd4-48d6-9337-86cf54c19ddd",
     "showTitle": false,
     "tableResultSettingsMap": {},
     "title": ""
    }
   },
   "outputs": [],
   "source": [
    "warehouse_data_1571 = [\n",
    "    (\"LCHouse1\", 1, 1),\n",
    "    (\"LCHouse1\", 2, 10),\n",
    "    (\"LCHouse1\", 3, 5),\n",
    "    (\"LCHouse2\", 1, 2),\n",
    "    (\"LCHouse2\", 2, 2),\n",
    "    (\"LCHouse3\", 4, 1),\n",
    "]\n",
    "\n",
    "warehouse_columns_1571 = [\"name\", \"product_id\", \"units\"]\n",
    "warehouse_df_1571 = spark.createDataFrame(warehouse_data_1571, warehouse_columns_1571)\n",
    "warehouse_df_1571.show()\n",
    "\n",
    "products_data_1571 = [\n",
    "    (1, \"LC-TV\", 5, 50, 40),\n",
    "    (2, \"LC-KeyChain\", 5, 5, 5),\n",
    "    (3, \"LC-Phone\", 2, 10, 10),\n",
    "    (4, \"LC-T-Shirt\", 4, 10, 20),\n",
    "]\n",
    "\n",
    "products_columns_1571 = [\"product_id\", \"product_name\", \"Width\", \"Length\", \"Height\"]\n",
    "products_df_1571 = spark.createDataFrame(products_data_1571, products_columns_1571)\n",
    "products_df_1571.show()"
   ]
  }
 ],
 "metadata": {
  "application/vnd.databricks.v1+notebook": {
   "computePreferences": null,
   "dashboards": [],
   "environmentMetadata": {
    "base_environment": "",
    "environment_version": "1"
   },
   "inputWidgetPreferences": null,
   "language": "python",
   "notebookMetadata": {
    "pythonIndentUnit": 4
   },
   "notebookName": "1571. Warehouse Manager (Easy)",
   "widgets": {}
  }
 },
 "nbformat": 4,
 "nbformat_minor": 0
}