{
 "cells": [
  {
   "cell_type": "markdown",
   "metadata": {
    "application/vnd.databricks.v1+cell": {
     "cellMetadata": {},
     "inputWidgets": {},
     "nuid": "44cd2565-3e27-417c-8c6c-7b2d8f1b94c5",
     "showTitle": false,
     "tableResultSettingsMap": {},
     "title": ""
    }
   },
   "source": [
    "## Importing Libraries"
   ]
  },
  {
   "cell_type": "code",
   "execution_count": 0,
   "metadata": {
    "application/vnd.databricks.v1+cell": {
     "cellMetadata": {},
     "inputWidgets": {},
     "nuid": "e6da106f-4e0b-41e0-9f75-6e329535d5c0",
     "showTitle": false,
     "tableResultSettingsMap": {},
     "title": ""
    }
   },
   "outputs": [],
   "source": [
    "from pyspark.sql.functions import *\n",
    "from pyspark.sql.types import *\n",
    "from pyspark.sql.window import Window"
   ]
  },
  {
   "cell_type": "markdown",
   "metadata": {
    "application/vnd.databricks.v1+cell": {
     "cellMetadata": {},
     "inputWidgets": {},
     "nuid": "f0267197-68d5-4180-8492-6999c905acb1",
     "showTitle": false,
     "tableResultSettingsMap": {},
     "title": ""
    }
   },
   "source": [
    "**1511. Customer Order Frequency (Easy)**\n",
    "\n",
    "**Table: Customers**\n",
    "\n",
    "| Column Name   | Type    |\n",
    "|---------------|---------|\n",
    "| customer_id   | int     |\n",
    "| name          | varchar |\n",
    "| country       | varchar |\n",
    "\n",
    "customer_id is the column with unique values for this table.\n",
    "This table contains information about the customers in the company.\n",
    " \n",
    "**Table: Product**\n",
    "\n",
    "| Column Name   | Type    |\n",
    "|---------------|---------|\n",
    "| product_id    | int     |\n",
    "| description   | varchar |\n",
    "| price         | int     |\n",
    "\n",
    "product_id is the column with unique values for this table.\n",
    "This table contains information on the products in the company.\n",
    "price is the product cost.\n",
    " \n",
    "**Table: Orders**\n",
    "\n",
    "| Column Name   | Type    |\n",
    "|---------------|---------|\n",
    "| order_id      | int     |\n",
    "| customer_id   | int     |\n",
    "| product_id    | int     |\n",
    "| order_date    | date    |\n",
    "| quantity      | int     |\n",
    "\n",
    "order_id is the column with unique values for this table.\n",
    "This table contains information on customer orders.\n",
    "customer_id is the id of the customer who bought \"quantity\" products with id \"product_id\".\n",
    "Order_date is the date in format ('YYYY-MM-DD') when the order was shipped.\n",
    " \n",
    "**Write a solution to report the customer_id and customer_name of customers who have spent at least $100 in each month of June and July 2020.**\n",
    "\n",
    "Return the result table in any order.\n",
    "\n",
    "The result format is in the following example.\n",
    "\n",
    "**Example 1:**\n",
    "\n",
    "**Input:** \n",
    "\n",
    "**Customers table:**\n",
    "| customer_id  | name      | country     |\n",
    "|--------------|-----------|-------------|\n",
    "| 1            | Winston   | USA         |\n",
    "| 2            | Jonathan  | Peru        |\n",
    "| 3            | Moustafa  | Egypt       |\n",
    "\n",
    "**Product table:**\n",
    "| product_id   | description | price       |\n",
    "|--------------|-------------|-------------|\n",
    "| 10           | LC Phone    | 300         |\n",
    "| 20           | LC T-Shirt  | 10          |\n",
    "| 30           | LC Book     | 45          |\n",
    "| 40           | LC Keychain | 2           |\n",
    "\n",
    "**Orders table:**\n",
    "| order_id     | customer_id | product_id  | order_date  | quantity  |\n",
    "|--------------|-------------|-------------|-------------|-----------|\n",
    "| 1            | 1           | 10          | 2020-06-10  | 1         |\n",
    "| 2            | 1           | 20          | 2020-07-01  | 1         |\n",
    "| 3            | 1           | 30          | 2020-07-08  | 2         |\n",
    "| 4            | 2           | 10          | 2020-06-15  | 2         |\n",
    "| 5            | 2           | 40          | 2020-07-01  | 10        |\n",
    "| 6            | 3           | 20          | 2020-06-24  | 2         |\n",
    "| 7            | 3           | 30          | 2020-06-25  | 2         |\n",
    "| 9            | 3           | 30          | 2020-05-08  | 3         |\n",
    "\n",
    "**Output:** \n",
    "| customer_id  | name       |  \n",
    "|--------------|------------|\n",
    "| 1            | Winston    |\n",
    "\n",
    "**Explanation:** \n",
    "- Winston spent $300 (300 * 1) in June and $100 ( 10 * 1 + 45 * 2) in July 2020.\n",
    "- Jonathan spent $600 (300 * 2) in June and $20 ( 2 * 10) in July 2020.\n",
    "- Moustafa spent $110 (10 * 2 + 45 * 2) in June and $0 in July 2020."
   ]
  },
  {
   "cell_type": "code",
   "execution_count": 0,
   "metadata": {
    "application/vnd.databricks.v1+cell": {
     "cellMetadata": {},
     "inputWidgets": {},
     "nuid": "e98c62a4-8cd4-48d6-9337-86cf54c19ddd",
     "showTitle": false,
     "tableResultSettingsMap": {},
     "title": ""
    }
   },
   "outputs": [],
   "source": [
    "customers_data_1511 = [\n",
    "    (1, \"Winston\", \"USA\"),\n",
    "    (2, \"Jonathan\", \"Peru\"),\n",
    "    (3, \"Moustafa\", \"Egypt\"),\n",
    "]\n",
    "\n",
    "customers_columns_1511 = [\"customer_id\", \"name\", \"country\"]\n",
    "customers_df_1511 = spark.createDataFrame(customers_data_1511, customers_columns_1511)\n",
    "customers_df_1511.show()\n",
    "\n",
    "product_data_1511 = [\n",
    "    (10, \"LC Phone\", 300),\n",
    "    (20, \"LC T-Shirt\", 10),\n",
    "    (30, \"LC Book\", 45),\n",
    "    (40, \"LC Keychain\", 2),\n",
    "]\n",
    "\n",
    "product_columns_1511 = [\"product_id\", \"description\", \"price\"]\n",
    "product_df_1511 = spark.createDataFrame(product_data_1511, product_columns_1511)\n",
    "product_df_1511.show()\n",
    "\n",
    "orders_data_1511 = [\n",
    "    (1, 1, 10, \"2020-06-10\", 1),\n",
    "    (2, 1, 20, \"2020-07-01\", 1),\n",
    "    (3, 1, 30, \"2020-07-08\", 2),\n",
    "    (4, 2, 10, \"2020-06-15\", 2),\n",
    "    (5, 2, 40, \"2020-07-01\", 10),\n",
    "    (6, 3, 20, \"2020-06-24\", 2),\n",
    "    (7, 3, 30, \"2020-06-25\", 2),\n",
    "    (9, 3, 30, \"2020-05-08\", 3),\n",
    "]\n",
    "\n",
    "orders_columns_1511 = [\"order_id\", \"customer_id\", \"product_id\", \"order_date\", \"quantity\"]\n",
    "orders_df_1511 = spark.createDataFrame(orders_data_1511, orders_columns_1511)\n",
    "orders_df_1511.show()"
   ]
  }
 ],
 "metadata": {
  "application/vnd.databricks.v1+notebook": {
   "computePreferences": null,
   "dashboards": [],
   "environmentMetadata": {
    "base_environment": "",
    "environment_version": "1"
   },
   "inputWidgetPreferences": null,
   "language": "python",
   "notebookMetadata": {
    "pythonIndentUnit": 4
   },
   "notebookName": "1511. Customer Order Frequency (Easy)",
   "widgets": {}
  }
 },
 "nbformat": 4,
 "nbformat_minor": 0
}