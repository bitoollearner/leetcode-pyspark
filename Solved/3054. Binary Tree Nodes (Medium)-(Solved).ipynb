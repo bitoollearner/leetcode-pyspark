{
 "cells": [
  {
   "cell_type": "markdown",
   "metadata": {
    "application/vnd.databricks.v1+cell": {
     "cellMetadata": {
      "byteLimit": 2048000,
      "rowLimit": 10000
     },
     "inputWidgets": {},
     "nuid": "7d1791bd-9552-4116-90b2-daa678bbffb8",
     "showTitle": false,
     "tableResultSettingsMap": {},
     "title": ""
    }
   },
   "source": [
    "## Importing Libraries"
   ]
  },
  {
   "cell_type": "code",
   "execution_count": 0,
   "metadata": {
    "application/vnd.databricks.v1+cell": {
     "cellMetadata": {
      "byteLimit": 2048000,
      "rowLimit": 10000
     },
     "inputWidgets": {},
     "nuid": "2901fbc9-49db-4285-8b94-c460f34d4c4f",
     "showTitle": false,
     "tableResultSettingsMap": {},
     "title": ""
    }
   },
   "outputs": [],
   "source": [
    "from pyspark.sql.functions import *\n",
    "from pyspark.sql.types import *\n",
    "from pyspark.sql.window import Window"
   ]
  },
  {
   "cell_type": "markdown",
   "metadata": {
    "application/vnd.databricks.v1+cell": {
     "cellMetadata": {
      "byteLimit": 2048000,
      "rowLimit": 10000
     },
     "inputWidgets": {},
     "nuid": "655120e7-6b25-417c-a08a-c6925feaa425",
     "showTitle": false,
     "tableResultSettingsMap": {},
     "title": ""
    }
   },
   "source": [
    "**3054. Binary Tree Nodes (Medium)**\n",
    "\n",
    "**Table: Tree**\n",
    "\n",
    "| Column Name | Type | \n",
    "|-------------|------| \n",
    "| N           | int  | \n",
    "| P           | int  |\n",
    "\n",
    "N is the column of unique values for this table.\n",
    "Each row includes N and P, where N represents the value of a node in Binary Tree, and P is the parent of N.\n",
    "\n",
    "**Write a solution to find the node type of the Binary Tree. Output one of the following for each node:**\n",
    "- **Root:** if the node is the root node.\n",
    "- **Leaf:** if the node is the leaf node.\n",
    "- **Inner:** if the node is neither root nor leaf node.\n",
    "\n",
    "Return the result table ordered by node value in ascending order.\n",
    "\n",
    "The result format is in the following example.\n",
    "\n",
    "**Example 1:**\n",
    "\n",
    "**Input:**\n",
    "\n",
    "**Tree table:**\n",
    "\n",
    "| N | P    | \n",
    "|---|------|\n",
    "| 1 | 2    |\n",
    "| 3 | 2    | \n",
    "| 6 | 8    | \n",
    "| 9 | 8    | \n",
    "| 2 | 5    | \n",
    "| 8 | 5    | \n",
    "| 5 | null | \n",
    "\n",
    "**Output:**\n",
    "| N | Type  | \n",
    "|---|-------|\n",
    "| 1 | Leaf  | \n",
    "| 2 | Inner |\n",
    "| 3 | Leaf  |\n",
    "| 5 | Root  |\n",
    "| 6 | Leaf  |\n",
    "| 8 | Inner |\n",
    "| 9 | Leaf  |    \n",
    "\n",
    "**Explanation:** \n",
    "- Node 5 is the root node since it has no parent node.\n",
    "- Nodes 1, 3, 6, and 9 are leaf nodes because they don't have any child nodes.\n",
    "- Nodes 2, and 8 are inner nodes as they serve as parents to some of the nodes in the structure."
   ]
  },
  {
   "cell_type": "code",
   "execution_count": 0,
   "metadata": {
    "application/vnd.databricks.v1+cell": {
     "cellMetadata": {
      "byteLimit": 2048000,
      "rowLimit": 10000
     },
     "inputWidgets": {},
     "nuid": "a2368434-0191-416c-aa1d-12cd44cf48e6",
     "showTitle": false,
     "tableResultSettingsMap": {},
     "title": ""
    }
   },
   "outputs": [
    {
     "output_type": "stream",
     "name": "stdout",
     "output_type": "stream",
     "text": [
      "+---+----+\n|  N|   P|\n+---+----+\n|  1|   2|\n|  3|   2|\n|  6|   8|\n|  9|   8|\n|  2|   5|\n|  8|   5|\n|  5|NULL|\n+---+----+\n\n"
     ]
    }
   ],
   "source": [
    "tree_data_3054 = [\n",
    "    (1, 2),\n",
    "    (3, 2),\n",
    "    (6, 8),\n",
    "    (9, 8),\n",
    "    (2, 5),\n",
    "    (8, 5),\n",
    "    (5, None)\n",
    "]\n",
    "\n",
    "tree_columns_3054 = [\"N\", \"P\"]\n",
    "tree_df_3054 = spark.createDataFrame(tree_data_3054, tree_columns_3054)\n",
    "tree_df_3054.show()"
   ]
  },
  {
   "cell_type": "code",
   "execution_count": 0,
   "metadata": {
    "application/vnd.databricks.v1+cell": {
     "cellMetadata": {
      "byteLimit": 2048000,
      "rowLimit": 10000
     },
     "inputWidgets": {},
     "nuid": "64cb4926-4c7e-462f-b820-6c6b84ba68c9",
     "showTitle": false,
     "tableResultSettingsMap": {},
     "title": ""
    }
   },
   "outputs": [],
   "source": [
    "parent_nodes_df_3054 = tree_df_3054\\\n",
    "                            .select(\"P\").where(col(\"P\").isNotNull()).distinct()"
   ]
  },
  {
   "cell_type": "code",
   "execution_count": 0,
   "metadata": {
    "application/vnd.databricks.v1+cell": {
     "cellMetadata": {
      "byteLimit": 2048000,
      "rowLimit": 10000
     },
     "inputWidgets": {},
     "nuid": "b37c39e8-a765-4ac1-9875-6789656f7969",
     "showTitle": false,
     "tableResultSettingsMap": {
      "0": {
       "dataGridStateBlob": "{\"version\":1,\"tableState\":{\"columnPinning\":{\"left\":[\"#row_number#\"],\"right\":[]},\"columnSizing\":{},\"columnVisibility\":{}},\"settings\":{\"columns\":{}},\"syncTimestamp\":1759424410263}",
       "filterBlob": null,
       "queryPlanFiltersBlob": null,
       "tableResultIndex": 0
      }
     },
     "title": ""
    }
   },
   "outputs": [
    {
     "output_type": "display_data",
     "data": {
      "text/html": [
       "<style scoped>\n",
       "  .table-result-container {\n",
       "    max-height: 300px;\n",
       "    overflow: auto;\n",
       "  }\n",
       "  table, th, td {\n",
       "    border: 1px solid black;\n",
       "    border-collapse: collapse;\n",
       "  }\n",
       "  th, td {\n",
       "    padding: 5px;\n",
       "  }\n",
       "  th {\n",
       "    text-align: left;\n",
       "  }\n",
       "</style><div class='table-result-container'><table class='table-result'><thead style='background-color: white'><tr><th>N</th><th>Type</th></tr></thead><tbody><tr><td>1</td><td>Leaf</td></tr><tr><td>2</td><td>Inner</td></tr><tr><td>3</td><td>Leaf</td></tr><tr><td>5</td><td>Root</td></tr><tr><td>6</td><td>Leaf</td></tr><tr><td>8</td><td>Inner</td></tr><tr><td>9</td><td>Leaf</td></tr></tbody></table></div>"
      ]
     },
     "metadata": {
      "application/vnd.databricks.v1+output": {
       "addedWidgets": {},
       "aggData": [],
       "aggError": "",
       "aggOverflow": false,
       "aggSchema": [],
       "aggSeriesLimitReached": false,
       "aggType": "",
       "arguments": {},
       "columnCustomDisplayInfos": {},
       "data": [
        [
         1,
         "Leaf"
        ],
        [
         2,
         "Inner"
        ],
        [
         3,
         "Leaf"
        ],
        [
         5,
         "Root"
        ],
        [
         6,
         "Leaf"
        ],
        [
         8,
         "Inner"
        ],
        [
         9,
         "Leaf"
        ]
       ],
       "datasetInfos": [],
       "dbfsResultPath": null,
       "isJsonSchema": true,
       "metadata": {},
       "overflow": false,
       "plotOptions": {
        "customPlotOptions": {},
        "displayType": "table",
        "pivotAggregation": null,
        "pivotColumns": null,
        "xColumns": null,
        "yColumns": null
       },
       "removedWidgets": [],
       "schema": [
        {
         "metadata": "{}",
         "name": "N",
         "type": "\"long\""
        },
        {
         "metadata": "{}",
         "name": "Type",
         "type": "\"string\""
        }
       ],
       "type": "table"
      }
     },
     "output_type": "display_data"
    }
   ],
   "source": [
    "tree_df_3054\\\n",
    "    .withColumn( \"Type\",\n",
    "                when(col(\"P\").isNull(), \"Root\")\n",
    "                .when(col(\"N\").isin([row.P for row in parent_nodes_df_3054.collect()]), \"Inner\")\n",
    "                .otherwise(\"Leaf\")\n",
    "                ).select('N','Type').orderBy(\"N\").display()"
   ]
  }
 ],
 "metadata": {
  "application/vnd.databricks.v1+notebook": {
   "computePreferences": {
    "hardware": {
     "accelerator": null,
     "gpuPoolId": null,
     "memory": null
    }
   },
   "dashboards": [],
   "environmentMetadata": {
    "base_environment": "",
    "environment_version": "2"
   },
   "inputWidgetPreferences": null,
   "language": "python",
   "notebookMetadata": {
    "pythonIndentUnit": 4
   },
   "notebookName": "3054. Binary Tree Nodes (Medium)-(Solved)",
   "widgets": {}
  },
  "language_info": {
   "name": "python"
  }
 },
 "nbformat": 4,
 "nbformat_minor": 0
}
