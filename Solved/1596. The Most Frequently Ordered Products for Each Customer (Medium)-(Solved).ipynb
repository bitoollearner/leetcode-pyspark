{
 "cells": [
  {
   "cell_type": "markdown",
   "metadata": {
    "application/vnd.databricks.v1+cell": {
     "cellMetadata": {
      "byteLimit": 2048000,
      "rowLimit": 10000
     },
     "inputWidgets": {},
     "nuid": "44cd2565-3e27-417c-8c6c-7b2d8f1b94c5",
     "showTitle": false,
     "tableResultSettingsMap": {},
     "title": ""
    }
   },
   "source": [
    "## Importing Libraries"
   ]
  },
  {
   "cell_type": "code",
   "execution_count": 0,
   "metadata": {
    "application/vnd.databricks.v1+cell": {
     "cellMetadata": {
      "byteLimit": 2048000,
      "rowLimit": 10000
     },
     "inputWidgets": {},
     "nuid": "e6da106f-4e0b-41e0-9f75-6e329535d5c0",
     "showTitle": false,
     "tableResultSettingsMap": {},
     "title": ""
    }
   },
   "outputs": [],
   "source": [
    "from pyspark.sql.functions import *\n",
    "from pyspark.sql.types import *\n",
    "from pyspark.sql.window import Window"
   ]
  },
  {
   "cell_type": "markdown",
   "metadata": {
    "application/vnd.databricks.v1+cell": {
     "cellMetadata": {
      "byteLimit": 2048000,
      "rowLimit": 10000
     },
     "inputWidgets": {},
     "nuid": "f0267197-68d5-4180-8492-6999c905acb1",
     "showTitle": false,
     "tableResultSettingsMap": {},
     "title": ""
    }
   },
   "source": [
    "**1596. The Most Frequently Ordered Products for Each Customer (Medium)**\n",
    "\n",
    "**Table: Customers**\n",
    "\n",
    "| Column Name   | Type    |\n",
    "|---------------|---------|\n",
    "| customer_id   | int     |\n",
    "| name          | varchar |\n",
    "\n",
    "customer_id is the column with unique values for this table.\n",
    "This table contains information about the customers.\n",
    " \n",
    "**Table: Orders**\n",
    "\n",
    "| Column Name   | Type    |\n",
    "|---------------|---------|\n",
    "| order_id      | int     |\n",
    "| order_date    | date    |\n",
    "| customer_id   | int     |\n",
    "| product_id    | int     |\n",
    "\n",
    "order_id is the column with unique values for this table.\n",
    "This table contains information about the orders made by customer_id.\n",
    "No customer will order the same product more than once in a single day.\n",
    " \n",
    "**Table: Products**\n",
    "\n",
    "| Column Name   | Type    |\n",
    "|---------------|---------|\n",
    "| product_id    | int     |\n",
    "| product_name  | varchar |\n",
    "| price         | int     |\n",
    "\n",
    "product_id is the column with unique values for this table.\n",
    "This table contains information about the products.\n",
    " \n",
    "**Write a solution to find the most frequently ordered product(s) for each customer.**\n",
    "\n",
    "The result table should have the product_id and product_name for each customer_id who ordered at least one order.\n",
    "\n",
    "Return the result table in any order.\n",
    "\n",
    "The result format is in the following example.\n",
    "\n",
    "Example 1:\n",
    "\n",
    "Input: \n",
    "\n",
    "**Customers table:**\n",
    "| customer_id | name  |\n",
    "|-------------|-------|\n",
    "| 1           | Alice |\n",
    "| 2           | Bob   |\n",
    "| 3           | Tom   |\n",
    "| 4           | Jerry |\n",
    "| 5           | John  |\n",
    "\n",
    "**Orders table:**\n",
    "| order_id | order_date | customer_id | product_id |\n",
    "|----------|------------|-------------|------------|\n",
    "| 1        | 2020-07-31 | 1           | 1          |\n",
    "| 2        | 2020-07-30 | 2           | 2          |\n",
    "| 3        | 2020-08-29 | 3           | 3          |\n",
    "| 4        | 2020-07-29 | 4           | 1          |\n",
    "| 5        | 2020-06-10 | 1           | 2          |\n",
    "| 6        | 2020-08-01 | 2           | 1          |\n",
    "| 7        | 2020-08-01 | 3           | 3          |\n",
    "| 8        | 2020-08-03 | 1           | 2          |\n",
    "| 9        | 2020-08-07 | 2           | 3          |\n",
    "| 10       | 2020-07-15 | 1           | 2          |\n",
    "\n",
    "**Products table:**\n",
    "| product_id | product_name | price |\n",
    "|------------|--------------|-------|\n",
    "| 1          | keyboard     | 120   |\n",
    "| 2          | mouse        | 80    |\n",
    "| 3          | screen       | 600   |\n",
    "| 4          | hard disk    | 450   |\n",
    "\n",
    "**Output:** \n",
    "| customer_id | product_id | product_name |\n",
    "|-------------|------------|--------------|\n",
    "| 1           | 2          | mouse        |\n",
    "| 2           | 1          | keyboard     |\n",
    "| 2           | 2          | mouse        |\n",
    "| 2           | 3          | screen       |\n",
    "| 3           | 3          | screen       |\n",
    "| 4           | 1          | keyboard     |\n",
    "\n",
    "**Explanation:** \n",
    "- Alice (customer 1) ordered the mouse three times and the keyboard one time, so the mouse is the most frequently ordered product for them.\n",
    "- Bob (customer 2) ordered the keyboard, the mouse, and the screen one time, so those are the most frequently ordered products for them.\n",
    "- Tom (customer 3) only ordered the screen (two times), so that is the most frequently ordered product for them.\n",
    "- Jerry (customer 4) only ordered the keyboard (one time), so that is the most frequently ordered product for them.\n",
    "- John (customer 5) did not order anything, so we do not include them in the result table."
   ]
  },
  {
   "cell_type": "code",
   "execution_count": 0,
   "metadata": {
    "application/vnd.databricks.v1+cell": {
     "cellMetadata": {
      "byteLimit": 2048000,
      "rowLimit": 10000
     },
     "inputWidgets": {},
     "nuid": "e98c62a4-8cd4-48d6-9337-86cf54c19ddd",
     "showTitle": false,
     "tableResultSettingsMap": {},
     "title": ""
    }
   },
   "outputs": [
    {
     "output_type": "stream",
     "name": "stdout",
     "output_type": "stream",
     "text": [
      "+-----------+-----+\n|customer_id| name|\n+-----------+-----+\n|          1|Alice|\n|          2|  Bob|\n|          3|  Tom|\n|          4|Jerry|\n|          5| John|\n+-----------+-----+\n\n+--------+----------+-----------+----------+\n|order_id|order_date|customer_id|product_id|\n+--------+----------+-----------+----------+\n|       1|2020-07-31|          1|         1|\n|       2|2020-07-30|          2|         2|\n|       3|2020-08-29|          3|         3|\n|       4|2020-07-29|          4|         1|\n|       5|2020-06-10|          1|         2|\n|       6|2020-08-01|          2|         1|\n|       7|2020-08-01|          3|         3|\n|       8|2020-08-03|          1|         2|\n|       9|2020-08-07|          2|         3|\n|      10|2020-07-15|          1|         2|\n+--------+----------+-----------+----------+\n\n+----------+------------+-----+\n|product_id|product_name|price|\n+----------+------------+-----+\n|         1|    keyboard|  120|\n|         2|       mouse|   80|\n|         3|      screen|  600|\n|         4|   hard disk|  450|\n+----------+------------+-----+\n\n"
     ]
    }
   ],
   "source": [
    "customers_data_1596 = [\n",
    "    (1, \"Alice\"),\n",
    "    (2, \"Bob\"),\n",
    "    (3, \"Tom\"),\n",
    "    (4, \"Jerry\"),\n",
    "    (5, \"John\"),\n",
    "]\n",
    "\n",
    "customers_columns_1596 = [\"customer_id\", \"name\"]\n",
    "customers_df_1596 = spark.createDataFrame(customers_data_1596, customers_columns_1596)\n",
    "customers_df_1596.show()\n",
    "\n",
    "orders_data_1596 = [\n",
    "    (1, \"2020-07-31\", 1, 1),\n",
    "    (2, \"2020-07-30\", 2, 2),\n",
    "    (3, \"2020-08-29\", 3, 3),\n",
    "    (4, \"2020-07-29\", 4, 1),\n",
    "    (5, \"2020-06-10\", 1, 2),\n",
    "    (6, \"2020-08-01\", 2, 1),\n",
    "    (7, \"2020-08-01\", 3, 3),\n",
    "    (8, \"2020-08-03\", 1, 2),\n",
    "    (9, \"2020-08-07\", 2, 3),\n",
    "    (10, \"2020-07-15\", 1, 2),\n",
    "]\n",
    "\n",
    "orders_columns_1596 = [\"order_id\", \"order_date\", \"customer_id\", \"product_id\"]\n",
    "orders_df_1596 = spark.createDataFrame(orders_data_1596, orders_columns_1596)\n",
    "orders_df_1596.show()\n",
    "\n",
    "products_data_1596 = [\n",
    "    (1, \"keyboard\", 120),\n",
    "    (2, \"mouse\", 80),\n",
    "    (3, \"screen\", 600),\n",
    "    (4, \"hard disk\", 450),\n",
    "]\n",
    "\n",
    "products_columns_1596 = [\"product_id\", \"product_name\", \"price\"]\n",
    "products_df_1596 = spark.createDataFrame(products_data_1596, products_columns_1596)\n",
    "products_df_1596.show()"
   ]
  },
  {
   "cell_type": "code",
   "execution_count": 0,
   "metadata": {
    "application/vnd.databricks.v1+cell": {
     "cellMetadata": {
      "byteLimit": 2048000,
      "rowLimit": 10000
     },
     "inputWidgets": {},
     "nuid": "96c07942-f3eb-4337-9bd6-b4ef00a1376f",
     "showTitle": false,
     "tableResultSettingsMap": {},
     "title": ""
    }
   },
   "outputs": [],
   "source": [
    "order_counts_df_1596 = orders_df_1596\\\n",
    "                            .groupBy(\"customer_id\", \"product_id\")\\\n",
    "                                .agg(count(\"*\").alias(\"order_count\"))"
   ]
  },
  {
   "cell_type": "code",
   "execution_count": 0,
   "metadata": {
    "application/vnd.databricks.v1+cell": {
     "cellMetadata": {
      "byteLimit": 2048000,
      "rowLimit": 10000
     },
     "inputWidgets": {},
     "nuid": "da683814-2734-47b3-abaa-fb01f840ac66",
     "showTitle": false,
     "tableResultSettingsMap": {},
     "title": ""
    }
   },
   "outputs": [],
   "source": [
    "max_counts_df_1596 = order_counts_df_1596\\\n",
    "                            .groupBy(\"customer_id\")\\\n",
    "                                .agg(max(\"order_count\").alias(\"max_count\"))"
   ]
  },
  {
   "cell_type": "code",
   "execution_count": 0,
   "metadata": {
    "application/vnd.databricks.v1+cell": {
     "cellMetadata": {
      "byteLimit": 2048000,
      "rowLimit": 10000
     },
     "inputWidgets": {},
     "nuid": "7164736a-5f19-4674-bab0-2b5a9255616f",
     "showTitle": false,
     "tableResultSettingsMap": {},
     "title": ""
    }
   },
   "outputs": [],
   "source": [
    "top_products_df_1596 = order_counts_df_1596\\\n",
    "                                .join(max_counts_df_1596, on=\"customer_id\", how=\"inner\")\\\n",
    "                                    .filter(\"order_count = max_count\")\n"
   ]
  },
  {
   "cell_type": "code",
   "execution_count": 0,
   "metadata": {
    "application/vnd.databricks.v1+cell": {
     "cellMetadata": {
      "byteLimit": 2048000,
      "rowLimit": 10000
     },
     "inputWidgets": {},
     "nuid": "5841792c-3249-43c4-954b-297764bcb533",
     "showTitle": false,
     "tableResultSettingsMap": {},
     "title": ""
    }
   },
   "outputs": [
    {
     "output_type": "stream",
     "name": "stdout",
     "output_type": "stream",
     "text": [
      "+-----------+----------+------------+\n|customer_id|product_id|product_name|\n+-----------+----------+------------+\n|          2|         2|       mouse|\n|          3|         3|      screen|\n|          4|         1|    keyboard|\n|          1|         2|       mouse|\n|          2|         1|    keyboard|\n|          2|         3|      screen|\n+-----------+----------+------------+\n\n"
     ]
    }
   ],
   "source": [
    "top_products_df_1596\\\n",
    "    .join(products_df_1596, on=\"product_id\", how=\"inner\")\\\n",
    "    .select(\"customer_id\", \"product_id\", \"product_name\").show()"
   ]
  }
 ],
 "metadata": {
  "application/vnd.databricks.v1+notebook": {
   "computePreferences": {
    "hardware": {
     "accelerator": null,
     "gpuPoolId": null,
     "memory": null
    }
   },
   "dashboards": [],
   "environmentMetadata": {
    "base_environment": "",
    "environment_version": "2"
   },
   "inputWidgetPreferences": null,
   "language": "python",
   "notebookMetadata": {
    "pythonIndentUnit": 4
   },
   "notebookName": "1596. The Most Frequently Ordered Products for Each Customer (Medium)-(Solved)",
   "widgets": {}
  },
  "language_info": {
   "name": "python"
  }
 },
 "nbformat": 4,
 "nbformat_minor": 0
}
