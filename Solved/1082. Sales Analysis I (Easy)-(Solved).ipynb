{
 "cells": [
  {
   "cell_type": "markdown",
   "metadata": {
    "application/vnd.databricks.v1+cell": {
     "cellMetadata": {},
     "inputWidgets": {},
     "nuid": "3f2ab884-5b2e-4c2a-b90f-eba6d7208edf",
     "showTitle": false,
     "tableResultSettingsMap": {},
     "title": ""
    }
   },
   "source": [
    "## Importing Libraries"
   ]
  },
  {
   "cell_type": "code",
   "execution_count": 0,
   "metadata": {
    "application/vnd.databricks.v1+cell": {
     "cellMetadata": {},
     "inputWidgets": {},
     "nuid": "26c9d69f-b471-43b4-aaee-40c41d01994e",
     "showTitle": false,
     "tableResultSettingsMap": {},
     "title": ""
    }
   },
   "outputs": [],
   "source": [
    "from pyspark.sql.functions import *\n",
    "from pyspark.sql.types import *\n",
    "from pyspark.sql.window import Window"
   ]
  },
  {
   "cell_type": "markdown",
   "metadata": {
    "application/vnd.databricks.v1+cell": {
     "cellMetadata": {},
     "inputWidgets": {},
     "nuid": "fa1c2280-e46c-403e-8996-25b01a84ec72",
     "showTitle": false,
     "tableResultSettingsMap": {},
     "title": ""
    }
   },
   "source": [
    "**1082. Sales Analysis I (Easy)**\n",
    "\n",
    "**Table: Product**\n",
    "\n",
    "| Column Name  | Type    |\n",
    "|--------------|---------|\n",
    "| product_id   | int     |\n",
    "| product_name | varchar |\n",
    "| unit_price   | int     |\n",
    "\n",
    "product_id is the primary key (column with unique values) of this table.\n",
    "Each row of this table indicates the name and the price of each product.\n",
    "\n",
    "**Table: Sales**\n",
    "\n",
    "| Column Name | Type    |\n",
    "|-------------|---------|\n",
    "| seller_id   | int     |\n",
    "| product_id  | int     |\n",
    "| buyer_id    | int     |\n",
    "| sale_date   | date    |\n",
    "| quantity    | int     |\n",
    "| price       | int     |\n",
    "\n",
    "This table can have repeated rows.\n",
    "product_id is a foreign key (reference column) to the Product table.\n",
    "Each row of this table contains some information about one sale.\n",
    " \n",
    "**Write a solution that reports the best seller by total sales price, If there is a tie, report them all.**\n",
    "\n",
    "Return the result table in any order.\n",
    "\n",
    "The result format is in the following example.\n",
    "\n",
    "**Example 1:**\n",
    "\n",
    "**Input:** \n",
    "\n",
    "**Product table:**\n",
    "\n",
    "| product_id | product_name | unit_price |\n",
    "|------------|--------------|------------|\n",
    "| 1          | S8           | 1000       |\n",
    "| 2          | G4           | 800        |\n",
    "| 3          | iPhone       | 1400       |\n",
    "\n",
    "**Sales table:**\n",
    "| seller_id | product_id | buyer_id | sale_date  | quantity | price |\n",
    "|-----------|------------|----------|------------|----------|-------|\n",
    "| 1         | 1          | 1        | 2019-01-21 | 2        | 2000  |\n",
    "| 1         | 2          | 2        | 2019-02-17 | 1        | 800   |\n",
    "| 2         | 2          | 3        | 2019-06-02 | 1        | 800   |\n",
    "| 3         | 3          | 4        | 2019-05-13 | 2        | 2800  |\n",
    "\n",
    "**Output:** \n",
    "| seller_id   |\n",
    "|-------------|\n",
    "| 1           |\n",
    "| 3           |\n",
    "\n",
    "**Explanation:** Both sellers with id 1 and 3 sold products with the most total price of 2800."
   ]
  },
  {
   "cell_type": "code",
   "execution_count": 0,
   "metadata": {
    "application/vnd.databricks.v1+cell": {
     "cellMetadata": {},
     "inputWidgets": {},
     "nuid": "dddf2382-d3f5-49ba-9108-34f298edfb81",
     "showTitle": false,
     "tableResultSettingsMap": {},
     "title": ""
    }
   },
   "outputs": [],
   "source": [
    "sales_data_1082 = [\n",
    "    (1, 1, 1, \"2019-01-21\", 2, 2000),\n",
    "    (1, 2, 2, \"2019-02-17\", 1, 800),\n",
    "    (2, 2, 3, \"2019-06-02\", 1, 800),\n",
    "    (3, 3, 4, \"2019-05-13\", 2, 2800),\n",
    "]\n",
    "\n",
    "sales_columns_1082 = [\"seller_id\", \"product_id\", \"buyer_id\", \"sale_date\", \"quantity\", \"price\"]\n",
    "sales_df_1082 = spark.createDataFrame(sales_data_1082, sales_columns_1082)\n",
    "sales_df_1082.show()"
   ]
  }
 ],
 "metadata": {
  "application/vnd.databricks.v1+notebook": {
   "computePreferences": null,
   "dashboards": [],
   "environmentMetadata": {
    "base_environment": "",
    "environment_version": "1"
   },
   "inputWidgetPreferences": null,
   "language": "python",
   "notebookMetadata": {
    "pythonIndentUnit": 4
   },
   "notebookName": "1082. Sales Analysis I (Easy)",
   "widgets": {}
  }
 },
 "nbformat": 4,
 "nbformat_minor": 0
}