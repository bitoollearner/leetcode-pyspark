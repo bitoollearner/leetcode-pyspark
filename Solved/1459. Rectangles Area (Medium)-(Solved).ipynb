{
 "cells": [
  {
   "cell_type": "markdown",
   "metadata": {
    "application/vnd.databricks.v1+cell": {
     "cellMetadata": {},
     "inputWidgets": {},
     "nuid": "24f8e8c0-d56b-4821-a900-bbe934dce4d7",
     "showTitle": false,
     "tableResultSettingsMap": {},
     "title": ""
    }
   },
   "source": [
    "## Importing Libraries"
   ]
  },
  {
   "cell_type": "code",
   "execution_count": 0,
   "metadata": {
    "application/vnd.databricks.v1+cell": {
     "cellMetadata": {},
     "inputWidgets": {},
     "nuid": "243b190c-af0b-4bd1-9507-8e2be2fceca3",
     "showTitle": false,
     "tableResultSettingsMap": {},
     "title": ""
    }
   },
   "outputs": [],
   "source": [
    "from pyspark.sql.functions import *\n",
    "from pyspark.sql.types import *\n",
    "from pyspark.sql.window import Window"
   ]
  },
  {
   "cell_type": "markdown",
   "metadata": {
    "application/vnd.databricks.v1+cell": {
     "cellMetadata": {},
     "inputWidgets": {},
     "nuid": "2d9dc49c-3f2c-4ff6-8e98-5e72a86b1bac",
     "showTitle": false,
     "tableResultSettingsMap": {},
     "title": ""
    }
   },
   "source": [
    "**1459. Rectangles Area (Medium)**\n",
    "\n",
    "**Table: Points**\n",
    "\n",
    "| Column Name   | Type    |\n",
    "|---------------|---------|\n",
    "| id            | int     |\n",
    "| x_value       | int     |\n",
    "| y_value       | int     |\n",
    "\n",
    "id is the column with unique values for this table.\n",
    "Each point is represented as a 2D coordinate (x_value, y_value).\n",
    " \n",
    "**Write a solution to report all possible axis-aligned rectangles with a non-zero area that can be formed by any two points from the Points table.**\n",
    "\n",
    "Each row in the result should contain three columns (p1, p2, area) where:\n",
    "- p1 and p2 are the id's of the two points that determine the opposite corners of a rectangle.\n",
    "- area is the area of the rectangle and must be non-zero.\n",
    "\n",
    "Return the result table ordered by area in descending order. If there is a tie, order them by p1 in ascending order. If there is still a tie, order them by p2 in ascending order.\n",
    "\n",
    "The result format is in the following table.\n",
    "\n",
    "**Example 1:**\n",
    "\n",
    "![](https://fastly.jsdelivr.net/gh/doocs/leetcode@main/solution/1400-1499/1459.Rectangles%20Area/images/rect.png)\n",
    "\n",
    "**Input:** \n",
    "\n",
    "**Points table:**\n",
    "| id       | x_value     | y_value     |\n",
    "|----------|-------------|-------------|\n",
    "| 1        | 2           | 7           |\n",
    "| 2        | 4           | 8           |\n",
    "| 3        | 2           | 10          |\n",
    "\n",
    "**Output:** \n",
    "| p1       | p2          | area        |\n",
    "|----------|-------------|-------------|\n",
    "| 2        | 3           | 4           |\n",
    "| 1        | 2           | 2           |\n",
    "\n",
    "**Explanation:** \n",
    "- The rectangle formed by p1 = 2 and p2 = 3 has an area equal to |4-2| * |8-10| = 4.\n",
    "- The rectangle formed by p1 = 1 and p2 = 2 has an area equal to |2-4| * |7-8| = 2.\n",
    "\n",
    "**Note** that the rectangle formed by p1 = 1 and p2 = 3 is invalid because the area is 0."
   ]
  },
  {
   "cell_type": "code",
   "execution_count": 0,
   "metadata": {
    "application/vnd.databricks.v1+cell": {
     "cellMetadata": {},
     "inputWidgets": {},
     "nuid": "5d66d20c-58e2-4ee9-8356-d736216372c3",
     "showTitle": false,
     "tableResultSettingsMap": {},
     "title": ""
    }
   },
   "outputs": [],
   "source": [
    "points_data_1459 = [\n",
    "    (1, 2, 7),\n",
    "    (2, 4, 8),\n",
    "    (3, 2, 10)\n",
    "]\n",
    "\n",
    "points_columns_1459 = [\"id\", \"x_value\", \"y_value\"]\n",
    "points_df_1459= spark.createDataFrame(points_data_1459, points_columns_1459 )\n",
    "points_df_1459.show()"
   ]
  }
 ],
 "metadata": {
  "application/vnd.databricks.v1+notebook": {
   "computePreferences": null,
   "dashboards": [],
   "environmentMetadata": {
    "base_environment": "",
    "environment_version": "1"
   },
   "inputWidgetPreferences": null,
   "language": "python",
   "notebookMetadata": {
    "pythonIndentUnit": 4
   },
   "notebookName": "1459. Rectangles Area (Medium)-(Solved)",
   "widgets": {}
  },
  "language_info": {
   "name": "python"
  }
 },
 "nbformat": 4,
 "nbformat_minor": 0
}
