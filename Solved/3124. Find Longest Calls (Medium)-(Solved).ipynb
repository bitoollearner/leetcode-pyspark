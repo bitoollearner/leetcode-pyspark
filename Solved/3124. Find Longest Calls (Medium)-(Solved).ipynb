{
 "cells": [
  {
   "cell_type": "markdown",
   "metadata": {
    "application/vnd.databricks.v1+cell": {
     "cellMetadata": {},
     "inputWidgets": {},
     "nuid": "7d1791bd-9552-4116-90b2-daa678bbffb8",
     "showTitle": false,
     "tableResultSettingsMap": {},
     "title": ""
    }
   },
   "source": [
    "## Importing Libraries"
   ]
  },
  {
   "cell_type": "code",
   "execution_count": 0,
   "metadata": {
    "application/vnd.databricks.v1+cell": {
     "cellMetadata": {},
     "inputWidgets": {},
     "nuid": "2901fbc9-49db-4285-8b94-c460f34d4c4f",
     "showTitle": false,
     "tableResultSettingsMap": {},
     "title": ""
    }
   },
   "outputs": [],
   "source": [
    "from pyspark.sql.functions import *\n",
    "from pyspark.sql.types import *\n",
    "from pyspark.sql.window import Window"
   ]
  },
  {
   "cell_type": "markdown",
   "metadata": {
    "application/vnd.databricks.v1+cell": {
     "cellMetadata": {},
     "inputWidgets": {},
     "nuid": "655120e7-6b25-417c-a08a-c6925feaa425",
     "showTitle": false,
     "tableResultSettingsMap": {},
     "title": ""
    }
   },
   "source": [
    "**3124. Find Longest Calls (Medium)**\n",
    "\n",
    "**Table: Contacts**\n",
    "\n",
    "| Column Name | Type    |\n",
    "|-------------|---------|\n",
    "| id          | int     |\n",
    "| first_name  | varchar |\n",
    "| last_name   | varchar |\n",
    "\n",
    "id is the primary key (column with unique values) of this table.\n",
    "id is a foreign key (reference column) to Calls table.\n",
    "Each row of this table contains id, first_name, and last_name.\n",
    "\n",
    "**Table: Calls**\n",
    "\n",
    "| Column Name | Type |\n",
    "|-------------|------|\n",
    "| contact_id  | int  |\n",
    "| type        | enum |\n",
    "| duration    | int  |\n",
    "\n",
    "(contact_id, type, duration) is the primary key (column with unique values) of this table.\n",
    "type is an ENUM (category) type of ('incoming', 'outgoing').\n",
    "Each row of this table contains information about calls, comprising of contact_id, type, and duration in seconds.\n",
    "\n",
    "**Write a solution to find the three longest incoming and outgoing calls.**\n",
    "\n",
    "Return the result table ordered by type, duration, and first_name in descending order and duration must be formatted as HH:MM:SS.\n",
    "\n",
    "The result format is in the following example.\n",
    "\n",
    "**Example 1:**\n",
    "\n",
    "**Input:**\n",
    "\n",
    "**Contacts table:**\n",
    "\n",
    "| id | first_name | last_name |\n",
    "|----|------------|-----------|\n",
    "| 1  | John       | Doe       |\n",
    "| 2  | Jane       | Smith     |\n",
    "| 3  | Alice      | Johnson   |\n",
    "| 4  | Michael    | Brown     |\n",
    "| 5  | Emily      | Davis     |\n",
    "\n",
    "**Calls table:**\n",
    "\n",
    "| contact_id | type     | duration |\n",
    "|------------|----------|----------|\n",
    "| 1          | incoming | 120      |\n",
    "| 1          | outgoing | 180      |\n",
    "| 2          | incoming | 300      |\n",
    "| 2          | outgoing | 240      |\n",
    "| 3          | incoming | 150      |\n",
    "| 3          | outgoing | 360      |\n",
    "| 4          | incoming | 420      |\n",
    "| 4          | outgoing | 200      |\n",
    "| 5          | incoming | 180      |\n",
    "| 5          | outgoing | 280      |\n",
    "        \n",
    "**Output:**\n",
    "\n",
    "| first_name| type     | duration_formatted|\n",
    "|-----------|----------|-------------------|\n",
    "| Alice     | outgoing | 00:06:00          |\n",
    "| Emily     | outgoing | 00:04:40          |\n",
    "| Jane      | outgoing | 00:04:00          |\n",
    "| Michael   | incoming | 00:07:00          |\n",
    "| Jane      | incoming | 00:05:00          |\n",
    "| Emily     | incoming | 00:03:00          |\n",
    "\n",
    "\n",
    "**Explanation:**\n",
    "- Alice had an outgoing call lasting 6 minutes.\n",
    "- Emily had an outgoing call lasting 4 minutes and 40 seconds.\n",
    "- Jane had an outgoing call lasting 4 minutes.\n",
    "- Michael had an incoming call lasting 7 minutes.\n",
    "- Jane had an incoming call lasting 5 minutes.\n",
    "- Emily had an incoming call lasting 3 minutes.\n",
    "\n",
    "**Note:** Output table is sorted by type, duration, and first_name in descending order."
   ]
  },
  {
   "cell_type": "code",
   "execution_count": 0,
   "metadata": {
    "application/vnd.databricks.v1+cell": {
     "cellMetadata": {},
     "inputWidgets": {},
     "nuid": "a2368434-0191-416c-aa1d-12cd44cf48e6",
     "showTitle": false,
     "tableResultSettingsMap": {},
     "title": ""
    }
   },
   "outputs": [],
   "source": [
    "contacts_data_3124 = [\n",
    "    (1, \"John\", \"Doe\"),\n",
    "    (2, \"Jane\", \"Smith\"),\n",
    "    (3, \"Alice\", \"Johnson\"),\n",
    "    (4, \"Michael\", \"Brown\"),\n",
    "    (5, \"Emily\", \"Davis\"),\n",
    "]\n",
    "\n",
    "contacts_columns_3124 = [\"id\", \"first_name\", \"last_name\"]\n",
    "contacts_df_3124 = spark.createDataFrame(contacts_data_3124, contacts_columns_3124)\n",
    "contacts_df_3124.show()\n",
    "\n",
    "calls_data_3124 = [\n",
    "    (1, \"incoming\", 120),\n",
    "    (1, \"outgoing\", 180),\n",
    "    (2, \"incoming\", 300),\n",
    "    (2, \"outgoing\", 240),\n",
    "    (3, \"incoming\", 150),\n",
    "    (3, \"outgoing\", 360),\n",
    "    (4, \"incoming\", 420),\n",
    "    (4, \"outgoing\", 200),\n",
    "    (5, \"incoming\", 180),\n",
    "    (5, \"outgoing\", 280),\n",
    "]\n",
    "\n",
    "calls_columns_3124 = [\"contact_id\", \"type\", \"duration\"]\n",
    "calls_df_3124 = spark.createDataFrame(calls_data_3124, calls_columns_3124)\n",
    "calls_df_3124.show()"
   ]
  }
 ],
 "metadata": {
  "application/vnd.databricks.v1+notebook": {
   "computePreferences": null,
   "dashboards": [],
   "environmentMetadata": {
    "base_environment": "",
    "environment_version": "1"
   },
   "inputWidgetPreferences": null,
   "language": "python",
   "notebookMetadata": {
    "pythonIndentUnit": 4
   },
   "notebookName": "3124. Find Longest Calls (Medium)-(Solved)",
   "widgets": {}
  },
  "language_info": {
   "name": "python"
  }
 },
 "nbformat": 4,
 "nbformat_minor": 0
}
