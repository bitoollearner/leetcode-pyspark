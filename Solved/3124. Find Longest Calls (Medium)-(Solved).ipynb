{
 "cells": [
  {
   "cell_type": "markdown",
   "metadata": {
    "application/vnd.databricks.v1+cell": {
     "cellMetadata": {
      "byteLimit": 2048000,
      "rowLimit": 10000
     },
     "inputWidgets": {},
     "nuid": "7d1791bd-9552-4116-90b2-daa678bbffb8",
     "showTitle": false,
     "tableResultSettingsMap": {},
     "title": ""
    }
   },
   "source": [
    "## Importing Libraries"
   ]
  },
  {
   "cell_type": "code",
   "execution_count": 0,
   "metadata": {
    "application/vnd.databricks.v1+cell": {
     "cellMetadata": {
      "byteLimit": 2048000,
      "rowLimit": 10000
     },
     "inputWidgets": {},
     "nuid": "2901fbc9-49db-4285-8b94-c460f34d4c4f",
     "showTitle": false,
     "tableResultSettingsMap": {},
     "title": ""
    }
   },
   "outputs": [],
   "source": [
    "from pyspark.sql.functions import *\n",
    "from pyspark.sql.types import *\n",
    "from pyspark.sql.window import Window"
   ]
  },
  {
   "cell_type": "markdown",
   "metadata": {
    "application/vnd.databricks.v1+cell": {
     "cellMetadata": {
      "byteLimit": 2048000,
      "rowLimit": 10000
     },
     "inputWidgets": {},
     "nuid": "655120e7-6b25-417c-a08a-c6925feaa425",
     "showTitle": false,
     "tableResultSettingsMap": {},
     "title": ""
    }
   },
   "source": [
    "**3124. Find Longest Calls (Medium)**\n",
    "\n",
    "**Table: Contacts**\n",
    "\n",
    "| Column Name | Type    |\n",
    "|-------------|---------|\n",
    "| id          | int     |\n",
    "| first_name  | varchar |\n",
    "| last_name   | varchar |\n",
    "\n",
    "id is the primary key (column with unique values) of this table.\n",
    "id is a foreign key (reference column) to Calls table.\n",
    "Each row of this table contains id, first_name, and last_name.\n",
    "\n",
    "**Table: Calls**\n",
    "\n",
    "| Column Name | Type |\n",
    "|-------------|------|\n",
    "| contact_id  | int  |\n",
    "| type        | enum |\n",
    "| duration    | int  |\n",
    "\n",
    "(contact_id, type, duration) is the primary key (column with unique values) of this table.\n",
    "type is an ENUM (category) type of ('incoming', 'outgoing').\n",
    "Each row of this table contains information about calls, comprising of contact_id, type, and duration in seconds.\n",
    "\n",
    "**Write a solution to find the three longest incoming and outgoing calls.**\n",
    "\n",
    "Return the result table ordered by type, duration, and first_name in descending order and duration must be formatted as HH:MM:SS.\n",
    "\n",
    "The result format is in the following example.\n",
    "\n",
    "**Example 1:**\n",
    "\n",
    "**Input:**\n",
    "\n",
    "**Contacts table:**\n",
    "\n",
    "| id | first_name | last_name |\n",
    "|----|------------|-----------|\n",
    "| 1  | John       | Doe       |\n",
    "| 2  | Jane       | Smith     |\n",
    "| 3  | Alice      | Johnson   |\n",
    "| 4  | Michael    | Brown     |\n",
    "| 5  | Emily      | Davis     |\n",
    "\n",
    "**Calls table:**\n",
    "\n",
    "| contact_id | type     | duration |\n",
    "|------------|----------|----------|\n",
    "| 1          | incoming | 120      |\n",
    "| 1          | outgoing | 180      |\n",
    "| 2          | incoming | 300      |\n",
    "| 2          | outgoing | 240      |\n",
    "| 3          | incoming | 150      |\n",
    "| 3          | outgoing | 360      |\n",
    "| 4          | incoming | 420      |\n",
    "| 4          | outgoing | 200      |\n",
    "| 5          | incoming | 180      |\n",
    "| 5          | outgoing | 280      |\n",
    "        \n",
    "**Output:**\n",
    "\n",
    "| first_name| type     | duration_formatted|\n",
    "|-----------|----------|-------------------|\n",
    "| Alice     | outgoing | 00:06:00          |\n",
    "| Emily     | outgoing | 00:04:40          |\n",
    "| Jane      | outgoing | 00:04:00          |\n",
    "| Michael   | incoming | 00:07:00          |\n",
    "| Jane      | incoming | 00:05:00          |\n",
    "| Emily     | incoming | 00:03:00          |\n",
    "\n",
    "\n",
    "**Explanation:**\n",
    "- Alice had an outgoing call lasting 6 minutes.\n",
    "- Emily had an outgoing call lasting 4 minutes and 40 seconds.\n",
    "- Jane had an outgoing call lasting 4 minutes.\n",
    "- Michael had an incoming call lasting 7 minutes.\n",
    "- Jane had an incoming call lasting 5 minutes.\n",
    "- Emily had an incoming call lasting 3 minutes.\n",
    "\n",
    "**Note:** Output table is sorted by type, duration, and first_name in descending order."
   ]
  },
  {
   "cell_type": "code",
   "execution_count": 0,
   "metadata": {
    "application/vnd.databricks.v1+cell": {
     "cellMetadata": {
      "byteLimit": 2048000,
      "rowLimit": 10000
     },
     "inputWidgets": {},
     "nuid": "a2368434-0191-416c-aa1d-12cd44cf48e6",
     "showTitle": false,
     "tableResultSettingsMap": {},
     "title": ""
    }
   },
   "outputs": [
    {
     "output_type": "stream",
     "name": "stdout",
     "output_type": "stream",
     "text": [
      "+---+----------+---------+\n| id|first_name|last_name|\n+---+----------+---------+\n|  1|      John|      Doe|\n|  2|      Jane|    Smith|\n|  3|     Alice|  Johnson|\n|  4|   Michael|    Brown|\n|  5|     Emily|    Davis|\n+---+----------+---------+\n\n+----------+--------+--------+\n|contact_id|    type|duration|\n+----------+--------+--------+\n|         1|incoming|     120|\n|         1|outgoing|     180|\n|         2|incoming|     300|\n|         2|outgoing|     240|\n|         3|incoming|     150|\n|         3|outgoing|     360|\n|         4|incoming|     420|\n|         4|outgoing|     200|\n|         5|incoming|     180|\n|         5|outgoing|     280|\n+----------+--------+--------+\n\n"
     ]
    }
   ],
   "source": [
    "contacts_data_3124 = [\n",
    "    (1, \"John\", \"Doe\"),\n",
    "    (2, \"Jane\", \"Smith\"),\n",
    "    (3, \"Alice\", \"Johnson\"),\n",
    "    (4, \"Michael\", \"Brown\"),\n",
    "    (5, \"Emily\", \"Davis\"),\n",
    "]\n",
    "\n",
    "contacts_columns_3124 = [\"id\", \"first_name\", \"last_name\"]\n",
    "contacts_df_3124 = spark.createDataFrame(contacts_data_3124, contacts_columns_3124)\n",
    "contacts_df_3124.show()\n",
    "\n",
    "calls_data_3124 = [\n",
    "    (1, \"incoming\", 120),\n",
    "    (1, \"outgoing\", 180),\n",
    "    (2, \"incoming\", 300),\n",
    "    (2, \"outgoing\", 240),\n",
    "    (3, \"incoming\", 150),\n",
    "    (3, \"outgoing\", 360),\n",
    "    (4, \"incoming\", 420),\n",
    "    (4, \"outgoing\", 200),\n",
    "    (5, \"incoming\", 180),\n",
    "    (5, \"outgoing\", 280),\n",
    "]\n",
    "\n",
    "calls_columns_3124 = [\"contact_id\", \"type\", \"duration\"]\n",
    "calls_df_3124 = spark.createDataFrame(calls_data_3124, calls_columns_3124)\n",
    "calls_df_3124.show()"
   ]
  },
  {
   "cell_type": "code",
   "execution_count": 0,
   "metadata": {
    "application/vnd.databricks.v1+cell": {
     "cellMetadata": {
      "byteLimit": 2048000,
      "rowLimit": 10000
     },
     "inputWidgets": {},
     "nuid": "78439716-b6e2-491f-98cf-58ee1a17c2e1",
     "showTitle": false,
     "tableResultSettingsMap": {},
     "title": ""
    }
   },
   "outputs": [],
   "source": [
    "df_3124 = contacts_df_3124\\\n",
    "                .join( calls_df_3124, contacts_df_3124.id == calls_df_3124.contact_id, \"inner\")"
   ]
  },
  {
   "cell_type": "code",
   "execution_count": 0,
   "metadata": {
    "application/vnd.databricks.v1+cell": {
     "cellMetadata": {
      "byteLimit": 2048000,
      "rowLimit": 10000
     },
     "inputWidgets": {},
     "nuid": "204f2bef-89f4-473e-9407-068dd7e948da",
     "showTitle": false,
     "tableResultSettingsMap": {},
     "title": ""
    }
   },
   "outputs": [],
   "source": [
    "window_spec = Window.partitionBy(\"type\").orderBy(desc(\"duration\"), desc(\"first_name\"))"
   ]
  },
  {
   "cell_type": "code",
   "execution_count": 0,
   "metadata": {
    "application/vnd.databricks.v1+cell": {
     "cellMetadata": {
      "byteLimit": 2048000,
      "rowLimit": 10000
     },
     "inputWidgets": {},
     "nuid": "e3b3e37f-cb0f-44bd-a368-48a158e06056",
     "showTitle": false,
     "tableResultSettingsMap": {},
     "title": ""
    }
   },
   "outputs": [],
   "source": [
    "df_ranked_3124 = df_3124\\\n",
    "                    .withColumn(\"rank\", row_number().over(window_spec))"
   ]
  },
  {
   "cell_type": "code",
   "execution_count": 0,
   "metadata": {
    "application/vnd.databricks.v1+cell": {
     "cellMetadata": {
      "byteLimit": 2048000,
      "rowLimit": 10000
     },
     "inputWidgets": {},
     "nuid": "72757390-7cfb-48e0-b4d0-6882d64dcb9e",
     "showTitle": false,
     "tableResultSettingsMap": {},
     "title": ""
    }
   },
   "outputs": [],
   "source": [
    "df_top3_3124 = df_ranked_3124\\\n",
    "                    .filter(col(\"rank\") <= 3)"
   ]
  },
  {
   "cell_type": "code",
   "execution_count": 0,
   "metadata": {
    "application/vnd.databricks.v1+cell": {
     "cellMetadata": {
      "byteLimit": 2048000,
      "rowLimit": 10000
     },
     "inputWidgets": {},
     "nuid": "97097a3b-4e06-417e-9c7a-23596f9ce105",
     "showTitle": false,
     "tableResultSettingsMap": {},
     "title": ""
    }
   },
   "outputs": [],
   "source": [
    "df_top3_3124 = df_top3_3124\\\n",
    "                .withColumn( \"hours\", floor(col(\"duration\") / 3600))\\\n",
    "                    .withColumn( \"minutes\", floor((col(\"duration\") % 3600) / 60))\\\n",
    "                        .withColumn( \"seconds\", col(\"duration\") % 60)\\\n",
    "                            .withColumn( \"duration_formatted\", \n",
    "                                        concat_ws(\":\",\n",
    "                                                  lpad(col(\"hours\").cast(\"string\"), 2, \"0\"),\n",
    "                                                  lpad(col(\"minutes\").cast(\"string\"), 2, \"0\"),\n",
    "                                                  lpad(col(\"seconds\").cast(\"string\"), 2, \"0\")\n",
    "                                                  )\n",
    "                                        )"
   ]
  },
  {
   "cell_type": "code",
   "execution_count": 0,
   "metadata": {
    "application/vnd.databricks.v1+cell": {
     "cellMetadata": {
      "byteLimit": 2048000,
      "rowLimit": 10000
     },
     "inputWidgets": {},
     "nuid": "e02093ad-367f-4753-98e8-04755c9662d3",
     "showTitle": false,
     "tableResultSettingsMap": {},
     "title": ""
    }
   },
   "outputs": [
    {
     "output_type": "display_data",
     "data": {
      "text/html": [
       "<style scoped>\n",
       "  .table-result-container {\n",
       "    max-height: 300px;\n",
       "    overflow: auto;\n",
       "  }\n",
       "  table, th, td {\n",
       "    border: 1px solid black;\n",
       "    border-collapse: collapse;\n",
       "  }\n",
       "  th, td {\n",
       "    padding: 5px;\n",
       "  }\n",
       "  th {\n",
       "    text-align: left;\n",
       "  }\n",
       "</style><div class='table-result-container'><table class='table-result'><thead style='background-color: white'><tr><th>first_name</th><th>type</th><th>duration_formatted</th></tr></thead><tbody><tr><td>Alice</td><td>outgoing</td><td>00:06:00</td></tr><tr><td>Emily</td><td>outgoing</td><td>00:04:40</td></tr><tr><td>Jane</td><td>outgoing</td><td>00:04:00</td></tr><tr><td>Michael</td><td>incoming</td><td>00:07:00</td></tr><tr><td>Jane</td><td>incoming</td><td>00:05:00</td></tr><tr><td>Emily</td><td>incoming</td><td>00:03:00</td></tr></tbody></table></div>"
      ]
     },
     "metadata": {
      "application/vnd.databricks.v1+output": {
       "addedWidgets": {},
       "aggData": [],
       "aggError": "",
       "aggOverflow": false,
       "aggSchema": [],
       "aggSeriesLimitReached": false,
       "aggType": "",
       "arguments": {},
       "columnCustomDisplayInfos": {},
       "data": [
        [
         "Alice",
         "outgoing",
         "00:06:00"
        ],
        [
         "Emily",
         "outgoing",
         "00:04:40"
        ],
        [
         "Jane",
         "outgoing",
         "00:04:00"
        ],
        [
         "Michael",
         "incoming",
         "00:07:00"
        ],
        [
         "Jane",
         "incoming",
         "00:05:00"
        ],
        [
         "Emily",
         "incoming",
         "00:03:00"
        ]
       ],
       "datasetInfos": [],
       "dbfsResultPath": null,
       "isJsonSchema": true,
       "metadata": {},
       "overflow": false,
       "plotOptions": {
        "customPlotOptions": {},
        "displayType": "table",
        "pivotAggregation": null,
        "pivotColumns": null,
        "xColumns": null,
        "yColumns": null
       },
       "removedWidgets": [],
       "schema": [
        {
         "metadata": "{}",
         "name": "first_name",
         "type": "\"string\""
        },
        {
         "metadata": "{}",
         "name": "type",
         "type": "\"string\""
        },
        {
         "metadata": "{}",
         "name": "duration_formatted",
         "type": "\"string\""
        }
       ],
       "type": "table"
      }
     },
     "output_type": "display_data"
    }
   ],
   "source": [
    "df_top3_3124\\\n",
    "    .select(\"first_name\", \"type\", \"duration_formatted\", \"duration\") \\\n",
    "        .orderBy(col(\"type\").desc(), col(\"duration\").desc(), col(\"first_name\").desc()) \\\n",
    "            .drop(\"duration\").display()"
   ]
  }
 ],
 "metadata": {
  "application/vnd.databricks.v1+notebook": {
   "computePreferences": {
    "hardware": {
     "accelerator": null,
     "gpuPoolId": null,
     "memory": null
    }
   },
   "dashboards": [],
   "environmentMetadata": {
    "base_environment": "",
    "environment_version": "2"
   },
   "inputWidgetPreferences": null,
   "language": "python",
   "notebookMetadata": {
    "pythonIndentUnit": 4
   },
   "notebookName": "3124. Find Longest Calls (Medium)-(Solved)",
   "widgets": {}
  },
  "language_info": {
   "name": "python"
  }
 },
 "nbformat": 4,
 "nbformat_minor": 0
}
