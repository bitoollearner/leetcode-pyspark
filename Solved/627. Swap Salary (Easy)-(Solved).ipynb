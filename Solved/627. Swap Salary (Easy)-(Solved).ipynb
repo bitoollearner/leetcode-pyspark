{
 "cells": [
  {
   "cell_type": "markdown",
   "metadata": {
    "application/vnd.databricks.v1+cell": {
     "cellMetadata": {
      "byteLimit": 2048000,
      "rowLimit": 10000
     },
     "inputWidgets": {},
     "nuid": "4cd0cff4-1b3d-443e-8f60-5eaa3c44b351",
     "showTitle": false,
     "tableResultSettingsMap": {},
     "title": ""
    }
   },
   "source": [
    "## Importing Libraries"
   ]
  },
  {
   "cell_type": "code",
   "execution_count": 0,
   "metadata": {
    "application/vnd.databricks.v1+cell": {
     "cellMetadata": {
      "byteLimit": 2048000,
      "rowLimit": 10000
     },
     "inputWidgets": {},
     "nuid": "97710283-7ef7-4994-bdf7-ab35e4e4acd8",
     "showTitle": false,
     "tableResultSettingsMap": {},
     "title": ""
    }
   },
   "outputs": [],
   "source": [
    "from pyspark.sql.functions import *\n",
    "from pyspark.sql.types import *\n",
    "from pyspark.sql.window import Window"
   ]
  },
  {
   "cell_type": "markdown",
   "metadata": {
    "application/vnd.databricks.v1+cell": {
     "cellMetadata": {
      "byteLimit": 2048000,
      "rowLimit": 10000
     },
     "inputWidgets": {},
     "nuid": "d438d974-0dc5-432f-af61-ceb185a0700c",
     "showTitle": false,
     "tableResultSettingsMap": {},
     "title": ""
    }
   },
   "source": [
    "**627. Swap Salary (Easy)**\n",
    "\n",
    "**Table: Salary**\n",
    "\n",
    "| Column Name | Type     |\n",
    "|-------------|----------|\n",
    "| id          | int      |\n",
    "| name        | varchar  |\n",
    "| sex         | ENUM     |\n",
    "| salary      | int      |\n",
    "\n",
    "id is the primary key (column with unique values) for this table.\n",
    "The sex column is ENUM (category) value of type ('m', 'f').\n",
    "The table contains information about an employee.\n",
    " \n",
    "**Write a solution to swap all 'f' and 'm' values (i.e., change all 'f' values to 'm' and vice versa) with a single update statement and no intermediate temporary tables.**\n",
    "\n",
    "Note that you must write a single update statement, do not write any select statement for this problem.\n",
    "\n",
    "The result format is in the following example.\n",
    "\n",
    "**Example 1:**\n",
    "\n",
    "**Input:**\n",
    "**Salary table:**\n",
    "| id | name | sex | salary |\n",
    "|----|------|-----|--------|\n",
    "| 1  | A    | m   | 2500   |\n",
    "| 2  | B    | f   | 1500   |\n",
    "| 3  | C    | m   | 5500   |\n",
    "| 4  | D    | f   | 500    |\n",
    "\n",
    "**Output:**\n",
    "| id | name | sex | salary |\n",
    "|----|------|-----|--------|\n",
    "| 1  | A    | f   | 2500   |\n",
    "| 2  | B    | m   | 1500   |\n",
    "| 3  | C    | f   | 5500   |\n",
    "| 4  | D    | m   | 500    |\n",
    "\n",
    "**Explanation:**\n",
    "- (1, A) and (3, C) were changed from 'm' to 'f'.\n",
    "- (2, B) and (4, D) were changed from 'f' to 'm'."
   ]
  },
  {
   "cell_type": "code",
   "execution_count": 0,
   "metadata": {
    "application/vnd.databricks.v1+cell": {
     "cellMetadata": {
      "byteLimit": 2048000,
      "rowLimit": 10000
     },
     "inputWidgets": {},
     "nuid": "c899699d-2ed8-4227-ba6f-ca46f3f95a7f",
     "showTitle": false,
     "tableResultSettingsMap": {},
     "title": ""
    }
   },
   "outputs": [
    {
     "output_type": "stream",
     "name": "stdout",
     "output_type": "stream",
     "text": [
      "+---+----+---+------+\n| id|name|sex|salary|\n+---+----+---+------+\n|  1|   A|  m|  2500|\n|  2|   B|  f|  1500|\n|  3|   C|  m|  5500|\n|  4|   D|  f|   500|\n+---+----+---+------+\n\n"
     ]
    }
   ],
   "source": [
    "salary_data_627 = [\n",
    "    (1, \"A\", \"m\", 2500),\n",
    "    (2, \"B\", \"f\", 1500),\n",
    "    (3, \"C\", \"m\", 5500),\n",
    "    (4, \"D\", \"f\", 500)\n",
    "]\n",
    "\n",
    "salary_columns_627 = [\"id\", \"name\", \"sex\", \"salary\"]\n",
    "salary_df_627 = spark.createDataFrame(salary_data_627, salary_columns_627)\n",
    "salary_df_627.show()"
   ]
  },
  {
   "cell_type": "code",
   "execution_count": 0,
   "metadata": {
    "application/vnd.databricks.v1+cell": {
     "cellMetadata": {
      "byteLimit": 2048000,
      "rowLimit": 10000
     },
     "inputWidgets": {},
     "nuid": "aa5f9e7b-c280-435c-a4d1-9b76ffc4ce81",
     "showTitle": false,
     "tableResultSettingsMap": {},
     "title": ""
    }
   },
   "outputs": [
    {
     "output_type": "stream",
     "name": "stdout",
     "output_type": "stream",
     "text": [
      "+---+----+---+------+\n| id|name|sex|salary|\n+---+----+---+------+\n|  1|   A|  f|  2500|\n|  2|   B|  m|  1500|\n|  3|   C|  f|  5500|\n|  4|   D|  m|   500|\n+---+----+---+------+\n\n"
     ]
    }
   ],
   "source": [
    "salary_df_627\\\n",
    "    .withColumn(\"sex\",\n",
    "            when(col(\"sex\") == \"m\", \"f\")\n",
    "            .when(col(\"sex\") == \"f\", \"m\")\n",
    "            .otherwise(col(\"sex\"))\n",
    ").show()\n"
   ]
  }
 ],
 "metadata": {
  "application/vnd.databricks.v1+notebook": {
   "computePreferences": {
    "hardware": {
     "accelerator": null,
     "gpuPoolId": null,
     "memory": null
    }
   },
   "dashboards": [],
   "environmentMetadata": {
    "base_environment": "",
    "environment_version": "2"
   },
   "inputWidgetPreferences": null,
   "language": "python",
   "notebookMetadata": {
    "pythonIndentUnit": 4
   },
   "notebookName": "627. Swap Salary (Easy)-(Solved)",
   "widgets": {}
  },
  "language_info": {
   "name": "python"
  }
 },
 "nbformat": 4,
 "nbformat_minor": 0
}
