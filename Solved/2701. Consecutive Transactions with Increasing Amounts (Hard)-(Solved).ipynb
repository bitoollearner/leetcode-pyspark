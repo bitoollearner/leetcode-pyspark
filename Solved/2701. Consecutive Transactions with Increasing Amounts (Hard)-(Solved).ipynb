{
 "cells": [
  {
   "cell_type": "markdown",
   "metadata": {
    "application/vnd.databricks.v1+cell": {
     "cellMetadata": {
      "byteLimit": 2048000,
      "rowLimit": 10000
     },
     "inputWidgets": {},
     "nuid": "4e9d71b1-88e9-445c-820a-b842e217a4e7",
     "showTitle": false,
     "tableResultSettingsMap": {},
     "title": ""
    }
   },
   "source": [
    "## Importing Libraries"
   ]
  },
  {
   "cell_type": "code",
   "execution_count": 0,
   "metadata": {
    "application/vnd.databricks.v1+cell": {
     "cellMetadata": {
      "byteLimit": 2048000,
      "rowLimit": 10000
     },
     "inputWidgets": {},
     "nuid": "e6624c4d-8cb8-4ac4-8c72-81d1b4ecdb57",
     "showTitle": false,
     "tableResultSettingsMap": {},
     "title": ""
    }
   },
   "outputs": [],
   "source": [
    "from pyspark.sql.functions import *\n",
    "from pyspark.sql.types import *\n",
    "from pyspark.sql.window import Window"
   ]
  },
  {
   "cell_type": "markdown",
   "metadata": {
    "application/vnd.databricks.v1+cell": {
     "cellMetadata": {
      "byteLimit": 2048000,
      "rowLimit": 10000
     },
     "inputWidgets": {},
     "nuid": "c3788fe5-f4c9-420f-ad72-ec1a39310a2a",
     "showTitle": false,
     "tableResultSettingsMap": {},
     "title": ""
    }
   },
   "source": [
    "**2701. Consecutive Transactions with Increasing Amounts (Hard)**\n",
    "\n",
    "**Table: Transactions**\n",
    "\n",
    "| Column Name      | Type |\n",
    "|------------------|------|\n",
    "| transaction_id   | int  |\n",
    "| customer_id      | int  |\n",
    "| transaction_date | date |\n",
    "| amount           | int  |\n",
    "\n",
    "transaction_id is the primary key of this table. \n",
    "Each row contains information about transactions that includes unique (customer_id, transaction_date) along with the corresponding customer_id and amount.  \n",
    "\n",
    "**Write an SQL query to find the customers who have made consecutive transactions with increasing amount for at least three consecutive days. Include the customer_id, start date of the consecutive transactions period and the end date of the consecutive transactions period. There can be multiple consecutive transactions by a customer.**\n",
    "\n",
    "Return the result table ordered by customer_id in ascending order.\n",
    "\n",
    "The query result format is in the following example.\n",
    "\n",
    "**Example 1:**\n",
    "\n",
    "**Input:** \n",
    "\n",
    "**Transactions table:**\n",
    "| transaction_id | customer_id | transaction_date | amount |\n",
    "|----------------|-------------|------------------|--------|\n",
    "| 1              | 101         | 2023-05-01       | 100    |\n",
    "| 2              | 101         | 2023-05-02       | 150    |\n",
    "| 3              | 101         | 2023-05-03       | 200    |\n",
    "| 4              | 102         | 2023-05-01       | 50     |\n",
    "| 5              | 102         | 2023-05-03       | 100    |\n",
    "| 6              | 102         | 2023-05-04       | 200    |\n",
    "| 7              | 105         | 2023-05-01       | 100    |\n",
    "| 8              | 105         | 2023-05-02       | 150    |\n",
    "| 9              | 105         | 2023-05-03       | 200    |\n",
    "| 10             | 105         | 2023-05-04       | 300    |\n",
    "| 11             | 105         | 2023-05-12       | 250    |\n",
    "| 12             | 105         | 2023-05-13       | 260    |\n",
    "| 13             | 105         | 2023-05-14       | 270    |\n",
    "\n",
    "**Output:** \n",
    "| customer_id | consecutive_start | consecutive_end | \n",
    "|-------------|-------------------|-----------------|\n",
    "| 101         |  2023-05-01       | 2023-05-03      | \n",
    "| 105         |  2023-05-01       | 2023-05-04      |\n",
    "| 105         |  2023-05-12       | 2023-05-14      | \n",
    "\n",
    "Explanation: \n",
    "- customer_id 101 has made consecutive transactions with increasing amounts from May 1st, 2023, to May 3rd, 2023\n",
    "- customer_id 102 does not have any consecutive transactions for at least 3 days. \n",
    "- customer_id 105 has two sets of consecutive transactions: from May 1st, 2023, to May 4th, 2023, and from May 12th, 2023, to May 14th, 2023. \n",
    "\n",
    "customer_id is sorted in ascending order.\n"
   ]
  },
  {
   "cell_type": "code",
   "execution_count": 0,
   "metadata": {
    "application/vnd.databricks.v1+cell": {
     "cellMetadata": {
      "byteLimit": 2048000,
      "rowLimit": 10000
     },
     "inputWidgets": {},
     "nuid": "137536ea-9bec-4171-8dc2-4bf8b0d771b4",
     "showTitle": false,
     "tableResultSettingsMap": {},
     "title": ""
    }
   },
   "outputs": [
    {
     "output_type": "stream",
     "name": "stdout",
     "output_type": "stream",
     "text": [
      "+--------------+-----------+----------------+------+\n|transaction_id|customer_id|transaction_date|amount|\n+--------------+-----------+----------------+------+\n|             1|        101|      2023-05-01|   100|\n|             2|        101|      2023-05-02|   150|\n|             3|        101|      2023-05-03|   200|\n|             4|        102|      2023-05-01|    50|\n|             5|        102|      2023-05-03|   100|\n|             6|        102|      2023-05-04|   200|\n|             7|        105|      2023-05-01|   100|\n|             8|        105|      2023-05-02|   150|\n|             9|        105|      2023-05-03|   200|\n|            10|        105|      2023-05-04|   300|\n|            11|        105|      2023-05-12|   250|\n|            12|        105|      2023-05-13|   260|\n|            13|        105|      2023-05-14|   270|\n+--------------+-----------+----------------+------+\n\n"
     ]
    }
   ],
   "source": [
    "transactions_data_2701 = [\n",
    "    (1, 101, \"2023-05-01\", 100),\n",
    "    (2, 101, \"2023-05-02\", 150),\n",
    "    (3, 101, \"2023-05-03\", 200),\n",
    "    (4, 102, \"2023-05-01\", 50),\n",
    "    (5, 102, \"2023-05-03\", 100),\n",
    "    (6, 102, \"2023-05-04\", 200),\n",
    "    (7, 105, \"2023-05-01\", 100),\n",
    "    (8, 105, \"2023-05-02\", 150),\n",
    "    (9, 105, \"2023-05-03\", 200),\n",
    "    (10, 105, \"2023-05-04\", 300),\n",
    "    (11, 105, \"2023-05-12\", 250),\n",
    "    (12, 105, \"2023-05-13\", 260),\n",
    "    (13, 105, \"2023-05-14\", 270),\n",
    "]\n",
    "\n",
    "transactions_columns_2701 = [\"transaction_id\", \"customer_id\", \"transaction_date\", \"amount\"]\n",
    "transactions_df_2701 = spark.createDataFrame(transactions_data_2701, transactions_columns_2701)\n",
    "transactions_df_2701.show()\n"
   ]
  },
  {
   "cell_type": "code",
   "execution_count": 0,
   "metadata": {
    "application/vnd.databricks.v1+cell": {
     "cellMetadata": {
      "byteLimit": 2048000,
      "rowLimit": 10000
     },
     "inputWidgets": {},
     "nuid": "5d203e8d-9554-4727-a798-9b32222565f1",
     "showTitle": false,
     "tableResultSettingsMap": {},
     "title": ""
    }
   },
   "outputs": [],
   "source": [
    "transactions_df_2701 = transactions_df_2701.withColumn(\"transaction_date\", col(\"transaction_date\").cast(\"date\"))"
   ]
  },
  {
   "cell_type": "code",
   "execution_count": 0,
   "metadata": {
    "application/vnd.databricks.v1+cell": {
     "cellMetadata": {
      "byteLimit": 2048000,
      "rowLimit": 10000
     },
     "inputWidgets": {},
     "nuid": "a91a02fe-cadf-48ff-95c7-6ea415b41b4b",
     "showTitle": false,
     "tableResultSettingsMap": {},
     "title": ""
    }
   },
   "outputs": [],
   "source": [
    "windowSpec = Window.partitionBy(\"customer_id\").orderBy(\"transaction_date\")"
   ]
  },
  {
   "cell_type": "code",
   "execution_count": 0,
   "metadata": {
    "application/vnd.databricks.v1+cell": {
     "cellMetadata": {
      "byteLimit": 2048000,
      "rowLimit": 10000
     },
     "inputWidgets": {},
     "nuid": "7d439a73-e33a-432b-8f53-c504a5d97cbd",
     "showTitle": false,
     "tableResultSettingsMap": {},
     "title": ""
    }
   },
   "outputs": [],
   "source": [
    "transactions_df_2701 = transactions_df_2701\\\n",
    "                            .withColumn(\"prev_date\", lag(\"transaction_date\").over(windowSpec))\\\n",
    "                                .withColumn(\"prev_amount\", lag(\"amount\").over(windowSpec))"
   ]
  },
  {
   "cell_type": "code",
   "execution_count": 0,
   "metadata": {
    "application/vnd.databricks.v1+cell": {
     "cellMetadata": {
      "byteLimit": 2048000,
      "rowLimit": 10000
     },
     "inputWidgets": {},
     "nuid": "c7892a7a-3200-4870-891b-60595fc86ffb",
     "showTitle": false,
     "tableResultSettingsMap": {},
     "title": ""
    }
   },
   "outputs": [],
   "source": [
    "transactions_df_2701 = transactions_df_2701\\\n",
    "                            .withColumn(\"break_flag\",\n",
    "                                        when(col(\"prev_date\").isNull(), 1)\n",
    "                                        .otherwise(((datediff(col(\"transaction_date\"), col(\"prev_date\")) != 1) | \n",
    "                                                    (col(\"amount\") <= col(\"prev_amount\"))).cast(\"int\")\n",
    "                                                   )\n",
    "                                        )"
   ]
  },
  {
   "cell_type": "code",
   "execution_count": 0,
   "metadata": {
    "application/vnd.databricks.v1+cell": {
     "cellMetadata": {
      "byteLimit": 2048000,
      "rowLimit": 10000
     },
     "inputWidgets": {},
     "nuid": "eabec684-2c4f-44b6-bded-882afd8f7c03",
     "showTitle": false,
     "tableResultSettingsMap": {},
     "title": ""
    }
   },
   "outputs": [],
   "source": [
    "transactions_df_2701 = transactions_df_2701\\\n",
    "                                .withColumn(\"grp\", sum(\"break_flag\").over(windowSpec.rowsBetween(Window.unboundedPreceding, 0)))"
   ]
  },
  {
   "cell_type": "code",
   "execution_count": 0,
   "metadata": {
    "application/vnd.databricks.v1+cell": {
     "cellMetadata": {
      "byteLimit": 2048000,
      "rowLimit": 10000
     },
     "inputWidgets": {},
     "nuid": "4b3bbbc0-add1-48ec-9953-d99365d38ec9",
     "showTitle": false,
     "tableResultSettingsMap": {},
     "title": ""
    }
   },
   "outputs": [
    {
     "output_type": "display_data",
     "data": {
      "text/html": [
       "<style scoped>\n",
       "  .table-result-container {\n",
       "    max-height: 300px;\n",
       "    overflow: auto;\n",
       "  }\n",
       "  table, th, td {\n",
       "    border: 1px solid black;\n",
       "    border-collapse: collapse;\n",
       "  }\n",
       "  th, td {\n",
       "    padding: 5px;\n",
       "  }\n",
       "  th {\n",
       "    text-align: left;\n",
       "  }\n",
       "</style><div class='table-result-container'><table class='table-result'><thead style='background-color: white'><tr><th>customer_id</th><th>consecutive_start</th><th>consecutive_end</th></tr></thead><tbody><tr><td>101</td><td>2023-05-01</td><td>2023-05-03</td></tr><tr><td>105</td><td>2023-05-01</td><td>2023-05-04</td></tr><tr><td>105</td><td>2023-05-12</td><td>2023-05-14</td></tr></tbody></table></div>"
      ]
     },
     "metadata": {
      "application/vnd.databricks.v1+output": {
       "addedWidgets": {},
       "aggData": [],
       "aggError": "",
       "aggOverflow": false,
       "aggSchema": [],
       "aggSeriesLimitReached": false,
       "aggType": "",
       "arguments": {},
       "columnCustomDisplayInfos": {},
       "data": [
        [
         101,
         "2023-05-01",
         "2023-05-03"
        ],
        [
         105,
         "2023-05-01",
         "2023-05-04"
        ],
        [
         105,
         "2023-05-12",
         "2023-05-14"
        ]
       ],
       "datasetInfos": [],
       "dbfsResultPath": null,
       "isJsonSchema": true,
       "metadata": {},
       "overflow": false,
       "plotOptions": {
        "customPlotOptions": {},
        "displayType": "table",
        "pivotAggregation": null,
        "pivotColumns": null,
        "xColumns": null,
        "yColumns": null
       },
       "removedWidgets": [],
       "schema": [
        {
         "metadata": "{}",
         "name": "customer_id",
         "type": "\"long\""
        },
        {
         "metadata": "{}",
         "name": "consecutive_start",
         "type": "\"date\""
        },
        {
         "metadata": "{}",
         "name": "consecutive_end",
         "type": "\"date\""
        }
       ],
       "type": "table"
      }
     },
     "output_type": "display_data"
    }
   ],
   "source": [
    "transactions_df_2701\\\n",
    "    .groupBy(\"customer_id\", \"grp\")\\\n",
    "        .agg(\n",
    "            min(\"transaction_date\").alias(\"consecutive_start\"),\n",
    "            max(\"transaction_date\").alias(\"consecutive_end\"),\n",
    "            count(\"*\").alias(\"streak_length\")\n",
    "            )\\\n",
    "                .filter(col(\"streak_length\") >= 3)\\\n",
    "                    .select(\"customer_id\", \"consecutive_start\", \"consecutive_end\")\\\n",
    "                        .orderBy(\"customer_id\", \"consecutive_start\").display()"
   ]
  }
 ],
 "metadata": {
  "application/vnd.databricks.v1+notebook": {
   "computePreferences": {
    "hardware": {
     "accelerator": null,
     "gpuPoolId": null,
     "memory": null
    }
   },
   "dashboards": [],
   "environmentMetadata": {
    "base_environment": "",
    "environment_version": "2"
   },
   "inputWidgetPreferences": null,
   "language": "python",
   "notebookMetadata": {
    "pythonIndentUnit": 4
   },
   "notebookName": "2701. Consecutive Transactions with Increasing Amounts (Hard)-(Solved)",
   "widgets": {}
  },
  "language_info": {
   "name": "python"
  }
 },
 "nbformat": 4,
 "nbformat_minor": 0
}
