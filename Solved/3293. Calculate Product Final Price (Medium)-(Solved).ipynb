{
 "cells": [
  {
   "cell_type": "markdown",
   "metadata": {
    "application/vnd.databricks.v1+cell": {
     "cellMetadata": {},
     "inputWidgets": {},
     "nuid": "7d1791bd-9552-4116-90b2-daa678bbffb8",
     "showTitle": false,
     "tableResultSettingsMap": {},
     "title": ""
    }
   },
   "source": [
    "## Importing Libraries"
   ]
  },
  {
   "cell_type": "code",
   "execution_count": 0,
   "metadata": {
    "application/vnd.databricks.v1+cell": {
     "cellMetadata": {},
     "inputWidgets": {},
     "nuid": "2901fbc9-49db-4285-8b94-c460f34d4c4f",
     "showTitle": false,
     "tableResultSettingsMap": {},
     "title": ""
    }
   },
   "outputs": [],
   "source": [
    "from pyspark.sql.functions import *\n",
    "from pyspark.sql.types import *\n",
    "from pyspark.sql.window import Window"
   ]
  },
  {
   "cell_type": "markdown",
   "metadata": {
    "application/vnd.databricks.v1+cell": {
     "cellMetadata": {},
     "inputWidgets": {},
     "nuid": "655120e7-6b25-417c-a08a-c6925feaa425",
     "showTitle": false,
     "tableResultSettingsMap": {},
     "title": ""
    }
   },
   "source": [
    "**3293. Calculate Product Final Price (Medium)**\n",
    "\n",
    "**Table: Products**\n",
    "\n",
    "| Column Name| Type    | \n",
    "|------------|---------| \n",
    "| product_id | int     | \n",
    "| category   | varchar |\n",
    "| price      | decimal |\n",
    "\n",
    "product_id is the unique key for this table.\n",
    "Each row includes the product's ID, its category, and its price.\n",
    "\n",
    "**Table: Discounts**\n",
    "\n",
    "| Column Name| Type    | \n",
    "|------------|---------| \n",
    "| category   | varchar |\n",
    "| discount   | int     |\n",
    "\n",
    "category is the primary key for this table.\n",
    "Each row contains a product category and the percentage discount applied to that category (values range from 0 to 100).\n",
    "\n",
    "**Write a solution to find the final price of each product after applying the category discount. If a product's category has no associated discount, its price remains unchanged.**\n",
    "\n",
    "Return the result table ordered by product_id in ascending order.\n",
    "\n",
    "The result format is in the following example.\n",
    "\n",
    "**Example:**\n",
    "\n",
    "**Input:**\n",
    "\n",
    "**Products table:**\n",
    "\n",
    "| product_id | category    | price |\n",
    "|------------|-------------|-------|\n",
    "| 1          | Electronics | 1000  |\n",
    "| 2          | Clothing    | 50    |\n",
    "| 3          | Electronics | 1200  | \n",
    "| 4          | Home        | 500   |\n",
    "  \n",
    "**Discounts table:**\n",
    "\n",
    "| category   | discount |\n",
    "|------------|----------|\n",
    "| Electronics| 10       |\n",
    "| Clothing   | 20       |\n",
    "  \n",
    "**Output:**\n",
    "\n",
    "| product_id | final_price| category    |\n",
    "|------------|------------|-------------|\n",
    "| 1          | 900        | Electronics |\n",
    "| 2          | 40         | Clothing    |\n",
    "| 3          | 1080       | Electronics |\n",
    "| 4          | 500        | Home        |\n",
    "  \n",
    "**Explanation:**\n",
    "- For product 1, it belongs to the Electronics category which has a 10% discount, so the final price is 1000 - (10% of 1000) = 900.\n",
    "- For product 2, it belongs to the Clothing category which has a 20% discount, so the final price is 50 - (20% of 50) = 40.\n",
    "- For product 3, it belongs to the Electronics category and receives a 10% discount, so the final price is 1200 - (10% of 1200) = 1080.\n",
    "- For product 4, no discount is available for the Home category, so the final price remains 500.\n",
    "\n",
    "Result table is ordered by product_id in ascending order."
   ]
  },
  {
   "cell_type": "code",
   "execution_count": 0,
   "metadata": {
    "application/vnd.databricks.v1+cell": {
     "cellMetadata": {},
     "inputWidgets": {},
     "nuid": "a2368434-0191-416c-aa1d-12cd44cf48e6",
     "showTitle": false,
     "tableResultSettingsMap": {},
     "title": ""
    }
   },
   "outputs": [],
   "source": [
    "products_data_3293 = [\n",
    "    (1, \"Electronics\", 1000),\n",
    "    (2, \"Clothing\", 50),\n",
    "    (3, \"Electronics\", 1200),\n",
    "    (4, \"Home\", 500)\n",
    "]\n",
    "\n",
    "products_columns_3293 = [\"product_id\", \"category\", \"price\"]\n",
    "products_df_3293 = spark.createDataFrame(products_data_3293,products_columns_3293)\n",
    "products_df_3293.show()\n",
    "\n",
    "discounts_data_3293 = [\n",
    "    (\"Electronics\", 10),\n",
    "    (\"Clothing\", 20)\n",
    "]\n",
    "\n",
    "discounts_columns_3293 = [\"category\", \"discount\"]\n",
    "discounts_df_3293 = spark.createDataFrame(discounts_data_3293, discounts_columns_3293)\n",
    "discounts_df_3293.show()\n"
   ]
  }
 ],
 "metadata": {
  "application/vnd.databricks.v1+notebook": {
   "computePreferences": null,
   "dashboards": [],
   "environmentMetadata": {
    "base_environment": "",
    "environment_version": "1"
   },
   "inputWidgetPreferences": null,
   "language": "python",
   "notebookMetadata": {
    "pythonIndentUnit": 4
   },
   "notebookName": "3293. Calculate Product Final Price (Medium)-(Solved)",
   "widgets": {}
  },
  "language_info": {
   "name": "python"
  }
 },
 "nbformat": 4,
 "nbformat_minor": 0
}
