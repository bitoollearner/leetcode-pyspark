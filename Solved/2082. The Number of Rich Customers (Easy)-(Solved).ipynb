{
 "cells": [
  {
   "cell_type": "markdown",
   "metadata": {
    "application/vnd.databricks.v1+cell": {
     "cellMetadata": {
      "byteLimit": 2048000,
      "rowLimit": 10000
     },
     "inputWidgets": {},
     "nuid": "83d38679-f742-44bb-952b-b541e178ddc8",
     "showTitle": false,
     "tableResultSettingsMap": {},
     "title": ""
    }
   },
   "source": [
    "## Importing Libraries"
   ]
  },
  {
   "cell_type": "code",
   "execution_count": 0,
   "metadata": {
    "application/vnd.databricks.v1+cell": {
     "cellMetadata": {
      "byteLimit": 2048000,
      "rowLimit": 10000
     },
     "inputWidgets": {},
     "nuid": "1daf4387-60f2-4c66-b119-d9ce2cd54aa2",
     "showTitle": false,
     "tableResultSettingsMap": {},
     "title": ""
    }
   },
   "outputs": [],
   "source": [
    "from pyspark.sql.functions import *\n",
    "from pyspark.sql.types import *\n",
    "from pyspark.sql.window import Window"
   ]
  },
  {
   "cell_type": "markdown",
   "metadata": {
    "application/vnd.databricks.v1+cell": {
     "cellMetadata": {
      "byteLimit": 2048000,
      "rowLimit": 10000
     },
     "inputWidgets": {},
     "nuid": "83ab9b20-fd4f-4392-ae0c-ff0580c3c7c1",
     "showTitle": false,
     "tableResultSettingsMap": {},
     "title": ""
    }
   },
   "source": [
    "**2082. The Number of Rich Customers (Easy)**\n",
    "\n",
    "**Table: Store**\n",
    "\n",
    "| Column Name | Type |\n",
    "|-------------|------|\n",
    "| bill_id     | int  |\n",
    "| customer_id | int  |\n",
    "| amount      | int  |\n",
    "\n",
    "bill_id is the primary key (column with unique values) for this table.\n",
    "Each row contains information about the amount of one bill and the customer associated with it.\n",
    " \n",
    "**Write a solution to report the number of customers who had at least one bill with an amount strictly greater than 500.**\n",
    "\n",
    "The result format is in the following example.\n",
    "\n",
    "**Example 1:**\n",
    "\n",
    "**Input:** \n",
    "\n",
    "**Store table:**\n",
    "\n",
    "| bill_id | customer_id | amount |\n",
    "|---------|-------------|--------|\n",
    "| 6       | 1           | 549    |\n",
    "| 8       | 1           | 834    |\n",
    "| 4       | 2           | 394    |\n",
    "| 11      | 3           | 657    |\n",
    "| 13      | 3           | 257    |\n",
    "\n",
    "**Output:** \n",
    "| rich_count |\n",
    "|------------|\n",
    "| 2          |\n",
    "\n",
    "**Explanation:** \n",
    "- Customer 1 has two bills with amounts strictly greater than 500.\n",
    "- Customer 2 does not have any bills with an amount strictly greater than 500.\n",
    "- Customer 3 has one bill with an amount strictly greater than 500."
   ]
  },
  {
   "cell_type": "code",
   "execution_count": 0,
   "metadata": {
    "application/vnd.databricks.v1+cell": {
     "cellMetadata": {
      "byteLimit": 2048000,
      "rowLimit": 10000
     },
     "inputWidgets": {},
     "nuid": "e39af07f-85df-4e21-8a5f-c65604a811f3",
     "showTitle": false,
     "tableResultSettingsMap": {},
     "title": ""
    }
   },
   "outputs": [
    {
     "output_type": "stream",
     "name": "stdout",
     "output_type": "stream",
     "text": [
      "+-------+-----------+------+\n|bill_id|customer_id|amount|\n+-------+-----------+------+\n|      6|          1|   549|\n|      8|          1|   834|\n|      4|          2|   394|\n|     11|          3|   657|\n|     13|          3|   257|\n+-------+-----------+------+\n\n"
     ]
    }
   ],
   "source": [
    "store_data_2082 = [\n",
    "    (6, 1, 549),\n",
    "    (8, 1, 834),\n",
    "    (4, 2, 394),\n",
    "    (11, 3, 657),\n",
    "    (13, 3, 257)\n",
    "]\n",
    "\n",
    "store_columns_2082 = [\"bill_id\", \"customer_id\", \"amount\"]\n",
    "store_df_2082 = spark.createDataFrame(store_data_2082, store_columns_2082)\n",
    "store_df_2082.show()"
   ]
  },
  {
   "cell_type": "code",
   "execution_count": 0,
   "metadata": {
    "application/vnd.databricks.v1+cell": {
     "cellMetadata": {
      "byteLimit": 2048000,
      "rowLimit": 10000
     },
     "inputWidgets": {},
     "nuid": "2c102211-709e-40f5-9a6f-b2d42aa4a427",
     "showTitle": false,
     "tableResultSettingsMap": {},
     "title": ""
    }
   },
   "outputs": [
    {
     "output_type": "stream",
     "name": "stdout",
     "output_type": "stream",
     "text": [
      "+----------+\n|rich_count|\n+----------+\n|         2|\n+----------+\n\n"
     ]
    }
   ],
   "source": [
    "store_df_2082\\\n",
    "    .filter(col(\"amount\") > 500)\\\n",
    "        .agg(\n",
    "            countDistinct(\"customer_id\").alias(\"rich_count\")\n",
    "            ).show()"
   ]
  }
 ],
 "metadata": {
  "application/vnd.databricks.v1+notebook": {
   "computePreferences": {
    "hardware": {
     "accelerator": null,
     "gpuPoolId": null,
     "memory": null
    }
   },
   "dashboards": [],
   "environmentMetadata": {
    "base_environment": "",
    "environment_version": "2"
   },
   "inputWidgetPreferences": null,
   "language": "python",
   "notebookMetadata": {
    "pythonIndentUnit": 4
   },
   "notebookName": "2082. The Number of Rich Customers (Easy)-(Solved)",
   "widgets": {}
  },
  "language_info": {
   "name": "python"
  }
 },
 "nbformat": 4,
 "nbformat_minor": 0
}
