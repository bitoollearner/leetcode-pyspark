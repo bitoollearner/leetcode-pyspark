{
 "cells": [
  {
   "cell_type": "markdown",
   "metadata": {
    "application/vnd.databricks.v1+cell": {
     "cellMetadata": {
      "byteLimit": 2048000,
      "rowLimit": 10000
     },
     "inputWidgets": {},
     "nuid": "82383caa-9b15-409a-9acb-968b851c477b",
     "showTitle": false,
     "tableResultSettingsMap": {},
     "title": ""
    }
   },
   "source": [
    "## Importing Libraries"
   ]
  },
  {
   "cell_type": "code",
   "execution_count": 0,
   "metadata": {
    "application/vnd.databricks.v1+cell": {
     "cellMetadata": {
      "byteLimit": 2048000,
      "rowLimit": 10000
     },
     "inputWidgets": {},
     "nuid": "83322872-9913-4063-98cf-4aaea5fd3337",
     "showTitle": false,
     "tableResultSettingsMap": {},
     "title": ""
    }
   },
   "outputs": [],
   "source": [
    "from pyspark.sql.functions import *\n",
    "from pyspark.sql.types import *\n",
    "from pyspark.sql.window import Window"
   ]
  },
  {
   "cell_type": "markdown",
   "metadata": {
    "application/vnd.databricks.v1+cell": {
     "cellMetadata": {
      "byteLimit": 2048000,
      "rowLimit": 10000
     },
     "inputWidgets": {},
     "nuid": "e475f002-2b95-4d27-958c-aeab86c066ed",
     "showTitle": false,
     "tableResultSettingsMap": {},
     "title": ""
    }
   },
   "source": [
    "**1251. Average Selling Price (Easy)**\n",
    "\n",
    "**Table: Prices**\n",
    "\n",
    "| Column Name   | Type    |\n",
    "|---------------|---------|\n",
    "| product_id    | int     |\n",
    "| start_date    | date    |\n",
    "| end_date      | date    |\n",
    "| price         | int     |\n",
    "\n",
    "(product_id, start_date, end_date) is the primary key (combination of columns with unique values) for this table.\n",
    "Each row of this table indicates the price of the product_id in the period from start_date to end_date.\n",
    "For each product_id there will be no two overlapping periods. That means there will be no two intersecting periods for the same product_id.\n",
    " \n",
    "**Table: UnitsSold**\n",
    "\n",
    "| Column Name   | Type    |\n",
    "|---------------|---------|\n",
    "| product_id    | int     |\n",
    "| purchase_date | date    |\n",
    "| units         | int     |\n",
    "\n",
    "This table may contain duplicate rows.\n",
    "Each row of this table indicates the date, units, and product_id of each product sold. \n",
    " \n",
    "**Write a solution to find the average selling price for each product. average_price should be rounded to 2 decimal places. If a product does not have any sold units, its average selling price is assumed to be 0.**\n",
    "\n",
    "Return the result table in any order.\n",
    "\n",
    "The result format is in the following example.\n",
    "\n",
    "**Example 1:**\n",
    "\n",
    "**Input:**\n",
    "**Prices table:**\n",
    "| product_id | start_date | end_date   | price  |\n",
    "|------------|------------|------------|--------|\n",
    "| 1          | 2019-02-17 | 2019-02-28 | 5      |\n",
    "| 1          | 2019-03-01 | 2019-03-22 | 20     |\n",
    "| 2          | 2019-02-01 | 2019-02-20 | 15     |\n",
    "| 2          | 2019-02-21 | 2019-03-31 | 30     |\n",
    "\n",
    "**UnitsSold table:**\n",
    "| product_id | purchase_date | units |\n",
    "|------------|---------------|-------|\n",
    "| 1          | 2019-02-25    | 100   |\n",
    "| 1          | 2019-03-01    | 15    |\n",
    "| 2          | 2019-02-10    | 200   |\n",
    "| 2          | 2019-03-22    | 30    |\n",
    "\n",
    "**Output:**\n",
    "| product_id | average_price |\n",
    "|------------|---------------|\n",
    "| 1          | 6.96          |\n",
    "| 2          | 16.96         |\n",
    "\n",
    "**Explanation:**\n",
    "- Average selling price = Total Price of Product / Number of products sold.\n",
    "- Average selling price for product 1 = ((100 * 5) + (15 * 20)) / 115 = 6.96\n",
    "- Average selling price for product 2 = ((200 * 15) + (30 * 30)) / 230 = 16.96"
   ]
  },
  {
   "cell_type": "code",
   "execution_count": 0,
   "metadata": {
    "application/vnd.databricks.v1+cell": {
     "cellMetadata": {
      "byteLimit": 2048000,
      "rowLimit": 10000
     },
     "inputWidgets": {},
     "nuid": "a073d765-b3a4-4bda-a02f-ac5e3671a222",
     "showTitle": false,
     "tableResultSettingsMap": {},
     "title": ""
    }
   },
   "outputs": [],
   "source": [
    "prices_data_1251 = [\n",
    "    (1, \"2019-02-17\", \"2019-02-28\", 5),\n",
    "    (1, \"2019-03-01\", \"2019-03-22\", 20),\n",
    "    (2, \"2019-02-01\", \"2019-02-20\", 15),\n",
    "    (2, \"2019-02-21\", \"2019-03-31\", 30),\n",
    "]\n",
    "\n",
    "prices_columns_1251 = [\"product_id\", \"start_date\", \"end_date\", \"price\"]\n",
    "prices_df_1251 = spark.createDataFrame(prices_data_1251, prices_columns_1251)\n",
    "prices_df_1251.show()\n",
    "\n",
    "units_sold_data_1251 = [\n",
    "    (1, \"2019-02-25\", 100),\n",
    "    (1, \"2019-03-01\", 15),\n",
    "    (2, \"2019-02-10\", 200),\n",
    "    (2, \"2019-03-22\", 30),\n",
    "]\n",
    "\n",
    "units_sold_columns_1251 = [\"product_id\", \"purchase_date\", \"units\"]\n",
    "units_sold_df_1251 = spark.createDataFrame(units_sold_data_1251, units_sold_columns_1251)\n",
    "units_sold_df_1251.show()"
   ]
  },
  {
   "cell_type": "code",
   "execution_count": 0,
   "metadata": {
    "application/vnd.databricks.v1+cell": {
     "cellMetadata": {
      "byteLimit": 2048000,
      "rowLimit": 10000
     },
     "inputWidgets": {},
     "nuid": "08c9ad74-e9cb-4097-9e37-559d2ca8677d",
     "showTitle": false,
     "tableResultSettingsMap": {},
     "title": ""
    }
   },
   "outputs": [],
   "source": [
    "prices_df_1251 = prices_df_1251\\\n",
    "                    .withColumn(\"start_date\", to_date(\"start_date\")) \\\n",
    "                    .withColumn(\"end_date\", to_date(\"end_date\"))\n",
    "\n",
    "units_sold_df_1251 = units_sold_df_1251\\\n",
    "                    .withColumn(\"purchase_date\", to_date(\"purchase_date\"))"
   ]
  },
  {
   "cell_type": "code",
   "execution_count": 0,
   "metadata": {
    "application/vnd.databricks.v1+cell": {
     "cellMetadata": {
      "byteLimit": 2048000,
      "rowLimit": 10000
     },
     "inputWidgets": {},
     "nuid": "d6f6f1c6-a138-4a28-bbbf-84af913266e4",
     "showTitle": false,
     "tableResultSettingsMap": {},
     "title": ""
    }
   },
   "outputs": [],
   "source": [
    "joined_df_1251 = units_sold_df_1251\\\n",
    "                    .join(prices_df_1251,on=\"product_id\")\\\n",
    "                        .where((col(\"purchase_date\") >= col(\"start_date\")) & (col(\"purchase_date\") <= col(\"end_date\")))\\\n",
    "                            .withColumn(\"revenue\", col(\"price\") * col(\"units\"))"
   ]
  },
  {
   "cell_type": "code",
   "execution_count": 0,
   "metadata": {
    "application/vnd.databricks.v1+cell": {
     "cellMetadata": {
      "byteLimit": 2048000,
      "rowLimit": 10000
     },
     "inputWidgets": {},
     "nuid": "6e8ca218-cb29-4a38-bcb9-e3e574f542e4",
     "showTitle": false,
     "tableResultSettingsMap": {},
     "title": ""
    }
   },
   "outputs": [],
   "source": [
    "agg_df_1251 = joined_df_1251.groupBy(\"product_id\")\\\n",
    "                    .agg(\n",
    "                        sum(\"revenue\").alias(\"total_revenue\"),\n",
    "                        sum(\"units\").alias(\"total_units\")\n",
    "                    )\\\n",
    "                    .withColumn(\"average_price\", round(col(\"total_revenue\") / col(\"total_units\"), 2)) \\\n",
    "                    .select(\"product_id\", \"average_price\")"
   ]
  },
  {
   "cell_type": "code",
   "execution_count": 0,
   "metadata": {
    "application/vnd.databricks.v1+cell": {
     "cellMetadata": {
      "byteLimit": 2048000,
      "rowLimit": 10000
     },
     "inputWidgets": {},
     "nuid": "4e787f92-7392-4104-91c5-5929b6798a9d",
     "showTitle": false,
     "tableResultSettingsMap": {},
     "title": ""
    }
   },
   "outputs": [],
   "source": [
    "all_products_df_1251 = prices_df_1251.select(\"product_id\").distinct()\n",
    "\n",
    "all_products_df_1251.join(agg_df_1251, on=\"product_id\", how=\"left\").fillna(0).show()"
   ]
  }
 ],
 "metadata": {
  "application/vnd.databricks.v1+notebook": {
   "computePreferences": {
    "hardware": {
     "accelerator": null,
     "gpuPoolId": null,
     "memory": null
    }
   },
   "dashboards": [],
   "environmentMetadata": {
    "base_environment": "",
    "environment_version": "2"
   },
   "inputWidgetPreferences": null,
   "language": "python",
   "notebookMetadata": {
    "pythonIndentUnit": 4
   },
   "notebookName": "1251. Average Selling Price (Easy)-(Solved)",
   "widgets": {}
  },
  "language_info": {
   "name": "python"
  }
 },
 "nbformat": 4,
 "nbformat_minor": 0
}
