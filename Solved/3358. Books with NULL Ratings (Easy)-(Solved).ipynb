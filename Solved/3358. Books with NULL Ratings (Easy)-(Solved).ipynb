{
 "cells": [
  {
   "cell_type": "markdown",
   "metadata": {
    "application/vnd.databricks.v1+cell": {
     "cellMetadata": {
      "byteLimit": 2048000,
      "rowLimit": 10000
     },
     "inputWidgets": {},
     "nuid": "7d1791bd-9552-4116-90b2-daa678bbffb8",
     "showTitle": false,
     "tableResultSettingsMap": {},
     "title": ""
    }
   },
   "source": [
    "## Importing Libraries"
   ]
  },
  {
   "cell_type": "code",
   "execution_count": 0,
   "metadata": {
    "application/vnd.databricks.v1+cell": {
     "cellMetadata": {
      "byteLimit": 2048000,
      "rowLimit": 10000
     },
     "inputWidgets": {},
     "nuid": "2901fbc9-49db-4285-8b94-c460f34d4c4f",
     "showTitle": false,
     "tableResultSettingsMap": {},
     "title": ""
    }
   },
   "outputs": [],
   "source": [
    "from pyspark.sql.functions import *\n",
    "from pyspark.sql.types import *\n",
    "from pyspark.sql.window import Window"
   ]
  },
  {
   "cell_type": "markdown",
   "metadata": {
    "application/vnd.databricks.v1+cell": {
     "cellMetadata": {
      "byteLimit": 2048000,
      "rowLimit": 10000
     },
     "inputWidgets": {},
     "nuid": "655120e7-6b25-417c-a08a-c6925feaa425",
     "showTitle": false,
     "tableResultSettingsMap": {},
     "title": ""
    }
   },
   "source": [
    "**3358. Books with NULL Ratings (Easy)**\n",
    "\n",
    "**Table: books**\n",
    "\n",
    "| Column Name    | Type    |\n",
    "|----------------|---------|\n",
    "| book_id        | int     |\n",
    "| title          | varchar |\n",
    "| author         | varchar |\n",
    "| published_year | int     |\n",
    "| rating         | decimal |\n",
    "\n",
    "book_id is the unique key for this table.\n",
    "Each row of this table contains information about a book including its unique ID, title, author, publication year, and rating.\n",
    "rating can be NULL, indicating that the book hasn't been rated yet.\n",
    "\n",
    "**Write a solution to find all books that have not been rated yet (i.e., have a NULL rating).**\n",
    "\n",
    "Return the result table ordered by book_id in ascending order.\n",
    "\n",
    "The result format is in the following example.\n",
    " \n",
    "**Example:**\n",
    "**Input:**\n",
    "**books table:**\n",
    "\n",
    "| book_id | title                  | author           | published_year | rating |\n",
    "|---------|------------------------|------------------|----------------|--------|\n",
    "| 1       | The Great Gatsby       | F. Scott         | 1925           | 4.5    |\n",
    "| 2       | To Kill a Mockingbird  | Harper Lee       | 1960           | NULL   |\n",
    "| 3       | Pride and Prejudice    | Jane Austen      | 1813           | 4.8    |\n",
    "| 4       | The Catcher in the Rye | J.D. Salinger    | 1951           | NULL   |\n",
    "| 5       | Animal Farm            | George Orwell    | 1945           | 4.2    |\n",
    "| 6       | Lord of the Flies      | William Golding  | 1954           | NULL   |\n",
    "\n",
    "**Output:**\n",
    "\n",
    "| book_id | title                  | author           | published_year |\n",
    "|---------|------------------------|------------------|----------------|\n",
    "| 2       | To Kill a Mockingbird  | Harper Lee       | 1960           |\n",
    "| 4       | The Catcher in the Rye | J.D. Salinger    | 1951           |\n",
    "| 6       | Lord of the Flies      | William Golding  | 1954           |\n",
    "\n",
    "**Explanation:**\n",
    "- The books with book_id 2, 4, and 6 have NULL ratings.\n",
    "- These books are included in the result table.\n",
    "- The other books (book_id 1, 3, and 5) have ratings and are not included.\n",
    "\n",
    "The result is ordered by book_id in ascending order\n"
   ]
  },
  {
   "cell_type": "code",
   "execution_count": 0,
   "metadata": {
    "application/vnd.databricks.v1+cell": {
     "cellMetadata": {
      "byteLimit": 2048000,
      "rowLimit": 10000
     },
     "inputWidgets": {},
     "nuid": "a2368434-0191-416c-aa1d-12cd44cf48e6",
     "showTitle": false,
     "tableResultSettingsMap": {},
     "title": ""
    }
   },
   "outputs": [
    {
     "output_type": "stream",
     "name": "stdout",
     "output_type": "stream",
     "text": [
      "+-------+--------------------+---------------+--------------+------+\n|book_id|               title|         author|published_year|rating|\n+-------+--------------------+---------------+--------------+------+\n|      1|    The Great Gatsby|       F. Scott|          1925|   4.5|\n|      2|To Kill a Mocking...|     Harper Lee|          1960|  NULL|\n|      3| Pride and Prejudice|    Jane Austen|          1813|   4.8|\n|      4|The Catcher in th...|  J.D. Salinger|          1951|  NULL|\n|      5|         Animal Farm|  George Orwell|          1945|   4.2|\n|      6|   Lord of the Flies|William Golding|          1954|  NULL|\n+-------+--------------------+---------------+--------------+------+\n\n"
     ]
    }
   ],
   "source": [
    "books_data_3358 = [\n",
    "    (1, \"The Great Gatsby\", \"F. Scott\", 1925, 4.5),\n",
    "    (2, \"To Kill a Mockingbird\", \"Harper Lee\", 1960, None),\n",
    "    (3, \"Pride and Prejudice\", \"Jane Austen\", 1813, 4.8),\n",
    "    (4, \"The Catcher in the Rye\", \"J.D. Salinger\", 1951, None),\n",
    "    (5, \"Animal Farm\", \"George Orwell\", 1945, 4.2),\n",
    "    (6, \"Lord of the Flies\", \"William Golding\", 1954, None),\n",
    "]\n",
    "\n",
    "books_columns_3358 = [\"book_id\", \"title\", \"author\", \"published_year\", \"rating\"]\n",
    "books_df_3358 = spark.createDataFrame(books_data_3358, books_columns_3358)\n",
    "books_df_3358.show()"
   ]
  },
  {
   "cell_type": "code",
   "execution_count": 0,
   "metadata": {
    "application/vnd.databricks.v1+cell": {
     "cellMetadata": {
      "byteLimit": 2048000,
      "rowLimit": 10000
     },
     "inputWidgets": {},
     "nuid": "6fdf174c-d385-4b19-9f13-f7e50c1269e3",
     "showTitle": false,
     "tableResultSettingsMap": {},
     "title": ""
    }
   },
   "outputs": [
    {
     "output_type": "display_data",
     "data": {
      "text/html": [
       "<style scoped>\n",
       "  .table-result-container {\n",
       "    max-height: 300px;\n",
       "    overflow: auto;\n",
       "  }\n",
       "  table, th, td {\n",
       "    border: 1px solid black;\n",
       "    border-collapse: collapse;\n",
       "  }\n",
       "  th, td {\n",
       "    padding: 5px;\n",
       "  }\n",
       "  th {\n",
       "    text-align: left;\n",
       "  }\n",
       "</style><div class='table-result-container'><table class='table-result'><thead style='background-color: white'><tr><th>book_id</th><th>title</th><th>author</th><th>published_year</th></tr></thead><tbody><tr><td>2</td><td>To Kill a Mockingbird</td><td>Harper Lee</td><td>1960</td></tr><tr><td>4</td><td>The Catcher in the Rye</td><td>J.D. Salinger</td><td>1951</td></tr><tr><td>6</td><td>Lord of the Flies</td><td>William Golding</td><td>1954</td></tr></tbody></table></div>"
      ]
     },
     "metadata": {
      "application/vnd.databricks.v1+output": {
       "addedWidgets": {},
       "aggData": [],
       "aggError": "",
       "aggOverflow": false,
       "aggSchema": [],
       "aggSeriesLimitReached": false,
       "aggType": "",
       "arguments": {},
       "columnCustomDisplayInfos": {},
       "data": [
        [
         2,
         "To Kill a Mockingbird",
         "Harper Lee",
         1960
        ],
        [
         4,
         "The Catcher in the Rye",
         "J.D. Salinger",
         1951
        ],
        [
         6,
         "Lord of the Flies",
         "William Golding",
         1954
        ]
       ],
       "datasetInfos": [],
       "dbfsResultPath": null,
       "isJsonSchema": true,
       "metadata": {},
       "overflow": false,
       "plotOptions": {
        "customPlotOptions": {},
        "displayType": "table",
        "pivotAggregation": null,
        "pivotColumns": null,
        "xColumns": null,
        "yColumns": null
       },
       "removedWidgets": [],
       "schema": [
        {
         "metadata": "{}",
         "name": "book_id",
         "type": "\"long\""
        },
        {
         "metadata": "{}",
         "name": "title",
         "type": "\"string\""
        },
        {
         "metadata": "{}",
         "name": "author",
         "type": "\"string\""
        },
        {
         "metadata": "{}",
         "name": "published_year",
         "type": "\"long\""
        }
       ],
       "type": "table"
      }
     },
     "output_type": "display_data"
    }
   ],
   "source": [
    "books_df_3358\\\n",
    "    .filter(col(\"rating\").isNull())\\\n",
    "        .select(\"book_id\", \"title\", \"author\", \"published_year\")\\\n",
    "            .orderBy(\"book_id\").display()"
   ]
  }
 ],
 "metadata": {
  "application/vnd.databricks.v1+notebook": {
   "computePreferences": {
    "hardware": {
     "accelerator": null,
     "gpuPoolId": null,
     "memory": null
    }
   },
   "dashboards": [],
   "environmentMetadata": {
    "base_environment": "",
    "environment_version": "2"
   },
   "inputWidgetPreferences": null,
   "language": "python",
   "notebookMetadata": {
    "pythonIndentUnit": 4
   },
   "notebookName": "3358. Books with NULL Ratings (Easy)-(Solved)",
   "widgets": {}
  },
  "language_info": {
   "name": "python"
  }
 },
 "nbformat": 4,
 "nbformat_minor": 0
}
