{
 "cells": [
  {
   "cell_type": "markdown",
   "metadata": {
    "application/vnd.databricks.v1+cell": {
     "cellMetadata": {
      "byteLimit": 2048000,
      "rowLimit": 10000
     },
     "inputWidgets": {},
     "nuid": "e405a61e-83e0-4a83-8234-4a55e28c9c87",
     "showTitle": false,
     "tableResultSettingsMap": {},
     "title": ""
    }
   },
   "source": [
    "## Importing Libraries"
   ]
  },
  {
   "cell_type": "code",
   "execution_count": 0,
   "metadata": {
    "application/vnd.databricks.v1+cell": {
     "cellMetadata": {
      "byteLimit": 2048000,
      "rowLimit": 10000
     },
     "inputWidgets": {},
     "nuid": "bb35cd35-f82a-443f-90d7-d161591cdb61",
     "showTitle": false,
     "tableResultSettingsMap": {},
     "title": ""
    }
   },
   "outputs": [],
   "source": [
    "from pyspark.sql.functions import *\n",
    "from pyspark.sql.types import *\n",
    "from pyspark.sql.window import Window"
   ]
  },
  {
   "cell_type": "markdown",
   "metadata": {
    "application/vnd.databricks.v1+cell": {
     "cellMetadata": {
      "byteLimit": 2048000,
      "rowLimit": 10000
     },
     "inputWidgets": {},
     "nuid": "29ed3054-4879-4c88-8f36-f775ffecdfe0",
     "showTitle": false,
     "tableResultSettingsMap": {},
     "title": ""
    }
   },
   "source": [
    "**1934. Confirmation Rate (Medium)**\n",
    "\n",
    "**Table: Signups**\n",
    "\n",
    "| Column Name    | Type     |\n",
    "|----------------|----------|\n",
    "| user_id        | int      |\n",
    "| time_stamp     | datetime |\n",
    "\n",
    "user_id is the column of unique values for this table.\n",
    "Each row contains information about the signup time for the user with ID user_id.\n",
    " \n",
    "**Table: Confirmations**\n",
    "\n",
    "| Column Name    | Type     |\n",
    "|----------------|----------|\n",
    "| user_id        | int      |\n",
    "| time_stamp     | datetime |\n",
    "| action         | ENUM     |\n",
    "\n",
    "(user_id, time_stamp) is the primary key (combination of columns with unique values) for this table.\n",
    "user_id is a foreign key (reference column) to the Signups table.\n",
    "action is an ENUM (category) of the type ('confirmed', 'timeout')\n",
    "Each row of this table indicates that the user with ID user_id requested a confirmation message at time_stamp and that confirmation message was either confirmed ('confirmed') or expired without confirming ('timeout').\n",
    " \n",
    "The confirmation rate of a user is the number of 'confirmed' messages divided by the total number of requested confirmation messages. The confirmation rate of a user that did not request any confirmation messages is 0. Round the confirmation rate to two decimal places.\n",
    "\n",
    "**Write a solution to find the confirmation rate of each user.**\n",
    "\n",
    "Return the result table in any order.\n",
    "\n",
    "The result format is in the following example.\n",
    "\n",
    "**Example 1:**\n",
    "\n",
    "**Input:**\n",
    "**Signups table:**\n",
    "| user_id | time_stamp          |\n",
    "|---------|---------------------|\n",
    "| 3       | 2020-03-21 10:16:13 |\n",
    "| 7       | 2020-01-04 13:57:59 |\n",
    "| 2       | 2020-07-29 23:09:44 |\n",
    "| 6       | 2020-12-09 10:39:37 |\n",
    "\n",
    "**Confirmations table:**\n",
    "| user_id | time_stamp          | action    |\n",
    "|---------|---------------------|-----------|\n",
    "| 3       | 2021-01-06 03:30:46 | timeout   |\n",
    "| 3       | 2021-07-14 14:00:00 | timeout   |\n",
    "| 7       | 2021-06-12 11:57:29 | confirmed |\n",
    "| 7       | 2021-06-13 12:58:28 | confirmed |\n",
    "| 7       | 2021-06-14 13:59:27 | confirmed |\n",
    "| 2       | 2021-01-22 00:00:00 | confirmed |\n",
    "| 2       | 2021-02-28 23:59:59 | timeout   |\n",
    "\n",
    "**Output:**\n",
    "| user_id | confirmation_rate |\n",
    "|---------|-------------------|\n",
    "| 6       | 0.00              |\n",
    "| 3       | 0.00              |\n",
    "| 7       | 1.00              |\n",
    "| 2       | 0.50              |\n",
    "\n",
    "**Explanation:**\n",
    "- User 6 did not request any confirmation messages. The confirmation rate is 0.\n",
    "- User 3 made 2 requests and both timed out. The confirmation rate is 0.\n",
    "- User 7 made 3 requests and all were confirmed. The confirmation rate is 1.\n",
    "- User 2 made 2 requests where one was confirmed and the other timed out. The confirmation rate is 1 / 2 = 0.5."
   ]
  },
  {
   "cell_type": "code",
   "execution_count": 0,
   "metadata": {
    "application/vnd.databricks.v1+cell": {
     "cellMetadata": {
      "byteLimit": 2048000,
      "rowLimit": 10000
     },
     "inputWidgets": {},
     "nuid": "64a3f754-3c0a-4ca1-af02-4d6f736ea2e9",
     "showTitle": false,
     "tableResultSettingsMap": {},
     "title": ""
    }
   },
   "outputs": [
    {
     "output_type": "stream",
     "name": "stdout",
     "output_type": "stream",
     "text": [
      "+-------+-------------------+\n|user_id|         time_stamp|\n+-------+-------------------+\n|      3|2020-03-21 10:16:13|\n|      7|2020-01-04 13:57:59|\n|      2|2020-07-29 23:09:44|\n|      6|2020-12-09 10:39:37|\n+-------+-------------------+\n\n+-------+-------------------+---------+\n|user_id|         time_stamp|   action|\n+-------+-------------------+---------+\n|      3|2021-01-06 03:30:46|  timeout|\n|      3|2021-07-14 14:00:00|  timeout|\n|      7|2021-06-12 11:57:29|confirmed|\n|      7|2021-06-13 12:58:28|confirmed|\n|      7|2021-06-14 13:59:27|confirmed|\n|      2|2021-01-22 00:00:00|confirmed|\n|      2|2021-02-28 23:59:59|  timeout|\n+-------+-------------------+---------+\n\n"
     ]
    }
   ],
   "source": [
    "signups_data_1934 = [\n",
    "    (3, \"2020-03-21 10:16:13\"),\n",
    "    (7, \"2020-01-04 13:57:59\"),\n",
    "    (2, \"2020-07-29 23:09:44\"),\n",
    "    (6, \"2020-12-09 10:39:37\")\n",
    "]\n",
    "signups_columns_1934 = [\"user_id\", \"time_stamp\"]\n",
    "signups_df_1934 = spark.createDataFrame(signups_data_1934, signups_columns_1934)\n",
    "signups_df_1934.show()\n",
    "\n",
    "confirmations_data_1934 = [\n",
    "    (3, \"2021-01-06 03:30:46\", \"timeout\"),\n",
    "    (3, \"2021-07-14 14:00:00\", \"timeout\"),\n",
    "    (7, \"2021-06-12 11:57:29\", \"confirmed\"),\n",
    "    (7, \"2021-06-13 12:58:28\", \"confirmed\"),\n",
    "    (7, \"2021-06-14 13:59:27\", \"confirmed\"),\n",
    "    (2, \"2021-01-22 00:00:00\", \"confirmed\"),\n",
    "    (2, \"2021-02-28 23:59:59\", \"timeout\")\n",
    "]\n",
    "\n",
    "confirmations_columns_1934 = [\"user_id\", \"time_stamp\", \"action\"]\n",
    "confirmations_df_1934 = spark.createDataFrame(confirmations_data_1934, confirmations_columns_1934)\n",
    "confirmations_df_1934.show()"
   ]
  },
  {
   "cell_type": "code",
   "execution_count": 0,
   "metadata": {
    "application/vnd.databricks.v1+cell": {
     "cellMetadata": {
      "byteLimit": 2048000,
      "rowLimit": 10000
     },
     "inputWidgets": {},
     "nuid": "ddd944d3-e8ac-418b-95b3-ffde143eb8b5",
     "showTitle": false,
     "tableResultSettingsMap": {},
     "title": ""
    }
   },
   "outputs": [],
   "source": [
    "confirmations_agg_df_1934 = confirmations_df_1934\\\n",
    "                            .groupBy(\"user_id\")\\\n",
    "                                .agg(\n",
    "                                    count(\"*\").alias(\"total_requests\"),\n",
    "                                    sum(when(col(\"action\") == \"confirmed\", 1).otherwise(0)).alias(\"confirmed_requests\")\n",
    "                                )"
   ]
  },
  {
   "cell_type": "code",
   "execution_count": 0,
   "metadata": {
    "application/vnd.databricks.v1+cell": {
     "cellMetadata": {
      "byteLimit": 2048000,
      "rowLimit": 10000
     },
     "inputWidgets": {},
     "nuid": "1f367f99-3f06-41b2-b829-7569c0419bfe",
     "showTitle": false,
     "tableResultSettingsMap": {},
     "title": ""
    }
   },
   "outputs": [
    {
     "output_type": "stream",
     "name": "stdout",
     "output_type": "stream",
     "text": [
      "+-------+-----------------+\n|user_id|confirmation_rate|\n+-------+-----------------+\n|      3|              0.0|\n|      7|              1.0|\n|      2|              0.5|\n|      6|              0.0|\n+-------+-----------------+\n\n"
     ]
    }
   ],
   "source": [
    "signups_df_1934\\\n",
    "    .join(\n",
    "        confirmations_agg_df_1934, on=\"user_id\", how=\"left\")\\\n",
    "            .withColumn(\n",
    "                \"confirmation_rate\",\n",
    "                when(col(\"total_requests\").isNull(), 0.0)\n",
    "                .otherwise(col(\"confirmed_requests\") / col(\"total_requests\"))\n",
    "                )\\\n",
    "                    .select(\"user_id\",round(\"confirmation_rate\", 2).alias(\"confirmation_rate\")\n",
    "                            ).show()"
   ]
  }
 ],
 "metadata": {
  "application/vnd.databricks.v1+notebook": {
   "computePreferences": {
    "hardware": {
     "accelerator": null,
     "gpuPoolId": null,
     "memory": null
    }
   },
   "dashboards": [],
   "environmentMetadata": {
    "base_environment": "",
    "environment_version": "2"
   },
   "inputWidgetPreferences": null,
   "language": "python",
   "notebookMetadata": {
    "pythonIndentUnit": 4
   },
   "notebookName": "1934. Confirmation Rate (Medium)-(Solved)",
   "widgets": {}
  },
  "language_info": {
   "name": "python"
  }
 },
 "nbformat": 4,
 "nbformat_minor": 0
}
