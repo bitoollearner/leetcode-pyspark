{
 "cells": [
  {
   "cell_type": "markdown",
   "metadata": {
    "application/vnd.databricks.v1+cell": {
     "cellMetadata": {
      "byteLimit": 2048000,
      "rowLimit": 10000
     },
     "inputWidgets": {},
     "nuid": "7d1791bd-9552-4116-90b2-daa678bbffb8",
     "showTitle": false,
     "tableResultSettingsMap": {},
     "title": ""
    }
   },
   "source": [
    "## Importing Libraries"
   ]
  },
  {
   "cell_type": "code",
   "execution_count": 0,
   "metadata": {
    "application/vnd.databricks.v1+cell": {
     "cellMetadata": {
      "byteLimit": 2048000,
      "rowLimit": 10000
     },
     "inputWidgets": {},
     "nuid": "2901fbc9-49db-4285-8b94-c460f34d4c4f",
     "showTitle": false,
     "tableResultSettingsMap": {},
     "title": ""
    }
   },
   "outputs": [],
   "source": [
    "from pyspark.sql.functions import *\n",
    "from pyspark.sql.types import *\n",
    "from pyspark.sql.window import Window"
   ]
  },
  {
   "cell_type": "markdown",
   "metadata": {
    "application/vnd.databricks.v1+cell": {
     "cellMetadata": {
      "byteLimit": 2048000,
      "rowLimit": 10000
     },
     "inputWidgets": {},
     "nuid": "655120e7-6b25-417c-a08a-c6925feaa425",
     "showTitle": false,
     "tableResultSettingsMap": {},
     "title": ""
    }
   },
   "source": [
    "**3182. Find Top Scoring Students (Medium)**\n",
    "\n",
    "**Table: students**\n",
    "\n",
    "| Column Name | Type     | \n",
    "|-------------|----------|\n",
    "| student_id  | int      |\n",
    "| name        | varchar  |\n",
    "| major       | varchar  |\n",
    "\n",
    "student_id is the primary key (combination of columns with unique values) for this table.\n",
    "Each row of this table contains the student ID, student name, and their major.\n",
    "\n",
    "**Table: courses**\n",
    "\n",
    "| Column Name | Type     | \n",
    "|-------------|----------|\n",
    "| course_id   | int      |\n",
    "| name        | varchar  |\n",
    "| credits     | int      |\n",
    "| major       | varchar  |\n",
    "\n",
    "course_id is the primary key (combination of columns with unique values) for this table.\n",
    "Each row of this table contains the course ID, course name, the number of credits for the course, and the major it belongs to.\n",
    "\n",
    "**Table: enrollments**\n",
    "\n",
    "| Column Name | Type     | \n",
    "|-------------|----------|\n",
    "| student_id  | int      |\n",
    "| course_id   | int      |\n",
    "| semester    | varchar  |\n",
    "| grade       | varchar  |\n",
    "\n",
    "(student_id, course_id, semester) is the primary key (combination of columns with unique values) for this table.\n",
    "Each row of this table contains the student ID, course ID, semester, and grade received.\n",
    "\n",
    "**Write a solution to find the students who have taken all courses offered in their major and have achieved a grade of A in all these courses.**\n",
    "\n",
    "Return the result table ordered by student_id in ascending order.\n",
    "\n",
    "The result format is in the following example.\n",
    "\n",
    "**Example:**\n",
    "\n",
    "**Input:**\n",
    "\n",
    "**students table:**\n",
    "\n",
    "| student_id | name             | major            |\n",
    "|------------|------------------|------------------|\n",
    "| 1          | Alice            | Computer Science |\n",
    "| 2          | Bob              | Computer Science |\n",
    "| 3          | Charlie          | Mathematics      |\n",
    "| 4          | David            | Mathematics      |\n",
    "\n",
    "**courses table:**\n",
    "\n",
    "| course_id | name            | credits | major            |\n",
    "|-----------|-----------------|---------|------------------|\n",
    "| 101       | Algorithms      | 3       | Computer Science |\n",
    "| 102       | Data Structures | 3       | Computer Science |\n",
    "| 103       | Calculus        | 4       | Mathematics      |\n",
    "| 104       | Linear Algebra  | 4       | Mathematics      |\n",
    "\n",
    "**enrollments table:**\n",
    "\n",
    "| student_id | course_id | semester | grade |\n",
    "|------------|-----------|----------|-------|\n",
    "| 1          | 101       | Fall 2023| A     |\n",
    "| 1          | 102       | Fall 2023| A     |\n",
    "| 2          | 101       | Fall 2023| B     |\n",
    "| 2          | 102       | Fall 2023| A     |\n",
    "| 3          | 103       | Fall 2023| A     |\n",
    "| 3          | 104       | Fall 2023| A     |\n",
    "| 4          | 103       | Fall 2023| A     |\n",
    "| 4          | 104       | Fall 2023| B     |\n",
    "\n",
    "**Output:**\n",
    "\n",
    "| student_id |\n",
    "|------------|\n",
    "| 1          |\n",
    "| 3          |\n",
    "\n",
    "**Explanation:**\n",
    "- Alice (student_id 1) is a Computer Science major and has taken both \"Algorithms\" and \"Data Structures\", receiving an 'A' in both.\n",
    "- Bob (student_id 2) is a Computer Science major but did not receive an 'A' in all required courses.\n",
    "- Charlie (student_id 3) is a Mathematics major and has taken both \"Calculus\" and \"Linear Algebra\", receiving an 'A' in both.\n",
    "- David (student_id 4) is a Mathematics major but did not receive an 'A' in all required courses.\n",
    "\n",
    "**Note:** Output table is ordered by student_id in ascending order."
   ]
  },
  {
   "cell_type": "code",
   "execution_count": 0,
   "metadata": {
    "application/vnd.databricks.v1+cell": {
     "cellMetadata": {
      "byteLimit": 2048000,
      "rowLimit": 10000
     },
     "inputWidgets": {},
     "nuid": "a2368434-0191-416c-aa1d-12cd44cf48e6",
     "showTitle": false,
     "tableResultSettingsMap": {},
     "title": ""
    }
   },
   "outputs": [
    {
     "output_type": "stream",
     "name": "stdout",
     "output_type": "stream",
     "text": [
      "+----------+-------+----------------+\n|student_id|   name|           major|\n+----------+-------+----------------+\n|         1|  Alice|Computer Science|\n|         2|    Bob|Computer Science|\n|         3|Charlie|     Mathematics|\n|         4|  David|     Mathematics|\n+----------+-------+----------------+\n\n+---------+---------------+-------+----------------+\n|course_id|           name|credits|           major|\n+---------+---------------+-------+----------------+\n|      101|     Algorithms|      3|Computer Science|\n|      102|Data Structures|      3|Computer Science|\n|      103|       Calculus|      4|     Mathematics|\n|      104| Linear Algebra|      4|     Mathematics|\n+---------+---------------+-------+----------------+\n\n+----------+---------+---------+-----+\n|student_id|course_id| semester|grade|\n+----------+---------+---------+-----+\n|         1|      101|Fall 2023|    A|\n|         1|      102|Fall 2023|    A|\n|         2|      101|Fall 2023|    B|\n|         2|      102|Fall 2023|    A|\n|         3|      103|Fall 2023|    A|\n|         3|      104|Fall 2023|    A|\n|         4|      103|Fall 2023|    A|\n|         4|      104|Fall 2023|    B|\n+----------+---------+---------+-----+\n\n"
     ]
    }
   ],
   "source": [
    "students_data_3182 = [\n",
    "    (1, \"Alice\", \"Computer Science\"),\n",
    "    (2, \"Bob\", \"Computer Science\"),\n",
    "    (3, \"Charlie\", \"Mathematics\"),\n",
    "    (4, \"David\", \"Mathematics\")\n",
    "]\n",
    "\n",
    "students_columns_3182 = [\"student_id\", \"name\", \"major\"]\n",
    "students_df_3182 = spark.createDataFrame(students_data_3182, students_columns_3182)\n",
    "students_df_3182.show()\n",
    "\n",
    "courses_data_3182 = [\n",
    "    (101, \"Algorithms\", 3, \"Computer Science\"),\n",
    "    (102, \"Data Structures\", 3, \"Computer Science\"),\n",
    "    (103, \"Calculus\", 4, \"Mathematics\"),\n",
    "    (104, \"Linear Algebra\", 4, \"Mathematics\")\n",
    "]\n",
    "\n",
    "courses_columns_3182 = [\"course_id\", \"name\", \"credits\", \"major\"]\n",
    "courses_df_3182 = spark.createDataFrame(courses_data_3182, courses_columns_3182)\n",
    "courses_df_3182.show()\n",
    "\n",
    "enrollments_data_3182 = [\n",
    "    (1, 101, \"Fall 2023\", \"A\"),\n",
    "    (1, 102, \"Fall 2023\", \"A\"),\n",
    "    (2, 101, \"Fall 2023\", \"B\"),\n",
    "    (2, 102, \"Fall 2023\", \"A\"),\n",
    "    (3, 103, \"Fall 2023\", \"A\"),\n",
    "    (3, 104, \"Fall 2023\", \"A\"),\n",
    "    (4, 103, \"Fall 2023\", \"A\"),\n",
    "    (4, 104, \"Fall 2023\", \"B\")\n",
    "]\n",
    "\n",
    "enrollments_columns_3182 = [\"student_id\", \"course_id\", \"semester\", \"grade\"]\n",
    "enrollments_df_3182 = spark.createDataFrame(enrollments_data_3182, enrollments_columns_3182)\n",
    "enrollments_df_3182.show()\n"
   ]
  },
  {
   "cell_type": "code",
   "execution_count": 0,
   "metadata": {
    "application/vnd.databricks.v1+cell": {
     "cellMetadata": {
      "byteLimit": 2048000,
      "rowLimit": 10000
     },
     "inputWidgets": {},
     "nuid": "9814f523-8a94-43fb-abd5-072908e7dc1c",
     "showTitle": false,
     "tableResultSettingsMap": {},
     "title": ""
    }
   },
   "outputs": [],
   "source": [
    "courses_per_major_3182 = courses_df_3182\\\n",
    "                            .groupBy(\"major\")\\\n",
    "                                .agg(countDistinct(\"course_id\").alias(\"total_courses\"))"
   ]
  },
  {
   "cell_type": "code",
   "execution_count": 0,
   "metadata": {
    "application/vnd.databricks.v1+cell": {
     "cellMetadata": {
      "byteLimit": 2048000,
      "rowLimit": 10000
     },
     "inputWidgets": {},
     "nuid": "0e25c0f1-3d54-469b-b682-a4d60151b4e4",
     "showTitle": false,
     "tableResultSettingsMap": {},
     "title": ""
    }
   },
   "outputs": [],
   "source": [
    "a_courses_3182 = enrollments_df_3182\\\n",
    "                    .filter(col(\"grade\") == \"A\") \\\n",
    "                        .join(courses_df_3182.select(\"course_id\", \"major\"), on=\"course_id\", how=\"inner\") \\\n",
    "                            .groupBy(\"student_id\", \"major\") \\\n",
    "                                .agg(countDistinct(\"course_id\").alias(\"a_courses_count\"))"
   ]
  },
  {
   "cell_type": "code",
   "execution_count": 0,
   "metadata": {
    "application/vnd.databricks.v1+cell": {
     "cellMetadata": {
      "byteLimit": 2048000,
      "rowLimit": 10000
     },
     "inputWidgets": {},
     "nuid": "3c5e2b33-3c11-4b96-b22d-d74409fcd35d",
     "showTitle": false,
     "tableResultSettingsMap": {},
     "title": ""
    }
   },
   "outputs": [
    {
     "output_type": "display_data",
     "data": {
      "text/html": [
       "<style scoped>\n",
       "  .table-result-container {\n",
       "    max-height: 300px;\n",
       "    overflow: auto;\n",
       "  }\n",
       "  table, th, td {\n",
       "    border: 1px solid black;\n",
       "    border-collapse: collapse;\n",
       "  }\n",
       "  th, td {\n",
       "    padding: 5px;\n",
       "  }\n",
       "  th {\n",
       "    text-align: left;\n",
       "  }\n",
       "</style><div class='table-result-container'><table class='table-result'><thead style='background-color: white'><tr><th>student_id</th></tr></thead><tbody><tr><td>1</td></tr><tr><td>3</td></tr></tbody></table></div>"
      ]
     },
     "metadata": {
      "application/vnd.databricks.v1+output": {
       "addedWidgets": {},
       "aggData": [],
       "aggError": "",
       "aggOverflow": false,
       "aggSchema": [],
       "aggSeriesLimitReached": false,
       "aggType": "",
       "arguments": {},
       "columnCustomDisplayInfos": {},
       "data": [
        [
         1
        ],
        [
         3
        ]
       ],
       "datasetInfos": [],
       "dbfsResultPath": null,
       "isJsonSchema": true,
       "metadata": {},
       "overflow": false,
       "plotOptions": {
        "customPlotOptions": {},
        "displayType": "table",
        "pivotAggregation": null,
        "pivotColumns": null,
        "xColumns": null,
        "yColumns": null
       },
       "removedWidgets": [],
       "schema": [
        {
         "metadata": "{}",
         "name": "student_id",
         "type": "\"long\""
        }
       ],
       "type": "table"
      }
     },
     "output_type": "display_data"
    }
   ],
   "source": [
    "a_courses_3182\\\n",
    "    .join(courses_per_major_3182, on=\"major\", how=\"inner\") \\\n",
    "        .filter(col(\"a_courses_count\") == col(\"total_courses\")) \\\n",
    "            .select(\"student_id\") \\\n",
    "                .orderBy(\"student_id\").display()"
   ]
  }
 ],
 "metadata": {
  "application/vnd.databricks.v1+notebook": {
   "computePreferences": {
    "hardware": {
     "accelerator": null,
     "gpuPoolId": null,
     "memory": null
    }
   },
   "dashboards": [],
   "environmentMetadata": {
    "base_environment": "",
    "environment_version": "2"
   },
   "inputWidgetPreferences": null,
   "language": "python",
   "notebookMetadata": {
    "pythonIndentUnit": 4
   },
   "notebookName": "3182. Find Top Scoring Students (Medium)-(Solved)",
   "widgets": {}
  },
  "language_info": {
   "name": "python"
  }
 },
 "nbformat": 4,
 "nbformat_minor": 0
}
