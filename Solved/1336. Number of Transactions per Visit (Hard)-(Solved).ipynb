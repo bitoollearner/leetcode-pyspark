{
 "cells": [
  {
   "cell_type": "markdown",
   "metadata": {
    "application/vnd.databricks.v1+cell": {
     "cellMetadata": {
      "byteLimit": 2048000,
      "rowLimit": 10000
     },
     "inputWidgets": {},
     "nuid": "516a210c-988a-43a8-9004-cb03ad7c2481",
     "showTitle": false,
     "tableResultSettingsMap": {},
     "title": ""
    }
   },
   "source": [
    "## Importing Libraries"
   ]
  },
  {
   "cell_type": "code",
   "execution_count": 0,
   "metadata": {
    "application/vnd.databricks.v1+cell": {
     "cellMetadata": {
      "byteLimit": 2048000,
      "rowLimit": 10000
     },
     "inputWidgets": {},
     "nuid": "9333a394-5bb0-4f1f-8f10-60b56c9fb68e",
     "showTitle": false,
     "tableResultSettingsMap": {},
     "title": ""
    }
   },
   "outputs": [],
   "source": [
    "from pyspark.sql.functions import *\n",
    "from pyspark.sql.types import *\n",
    "from pyspark.sql.window import Window"
   ]
  },
  {
   "cell_type": "markdown",
   "metadata": {
    "application/vnd.databricks.v1+cell": {
     "cellMetadata": {
      "byteLimit": 2048000,
      "rowLimit": 10000
     },
     "inputWidgets": {},
     "nuid": "b718c875-1030-4207-a68c-5fad8635212a",
     "showTitle": false,
     "tableResultSettingsMap": {},
     "title": ""
    }
   },
   "source": [
    "**1336. Number of Transactions per Visit (Hard)**\n",
    "\n",
    "**Table: Visits**\n",
    "\n",
    "| Column Name   | Type    |\n",
    "|---------------|---------|\n",
    "| user_id       | int     |\n",
    "| visit_date    | date    |\n",
    "\n",
    "(user_id, visit_date) is the primary key (combination of columns with unique values) for this table.\n",
    "Each row of this table indicates that user_id has visited the bank in visit_date.\n",
    " \n",
    "**Table: Transactions**\n",
    "\n",
    "| Column Name      | Type    |\n",
    "|------------------|---------|\n",
    "| user_id          | int     |\n",
    "| transaction_date | date    |\n",
    "| amount           | int     |\n",
    "\n",
    "This table may contain duplicates rows.\n",
    "Each row of this table indicates that user_id has done a transaction of amount in transaction_date.\n",
    "It is guaranteed that the user has visited the bank in the transaction_date.(i.e The Visits table contains (user_id, transaction_date) in one row)\n",
    " \n",
    "A bank wants to draw a chart of the number of transactions bank visitors did in one visit to the bank and the corresponding number of visitors who have done this number of transaction in one visit.\n",
    "\n",
    "**Write a solution to find how many users visited the bank and didn't do any transactions, how many visited the bank and did one transaction, and so on.**\n",
    "\n",
    "The result table will contain two columns:\n",
    "- transactions_count which is the number of transactions done in one visit.\n",
    "- visits_count which is the corresponding number of users who did transactions_count in one visit to the bank.\n",
    "\n",
    "transactions_count should take all values from 0 to max(transactions_count) done by one or more users.\n",
    "\n",
    "Return the result table ordered by transactions_count.\n",
    "\n",
    "The result format is in the following example.\n",
    "\n",
    "**Example 1:**\n",
    "![](https://fastly.jsdelivr.net/gh/doocs/leetcode@main/solution/1300-1399/1336.Number%20of%20Transactions%20per%20Visit/images/chart.png)\n",
    "\n",
    "**Input:** \n",
    "\n",
    "**Visits table:**\n",
    "\n",
    "| user_id | visit_date |\n",
    "|---------|------------|\n",
    "| 1       | 2020-01-01 |\n",
    "| 2       | 2020-01-02 |\n",
    "| 12      | 2020-01-01 |\n",
    "| 19      | 2020-01-03 |\n",
    "| 1       | 2020-01-02 |\n",
    "| 2       | 2020-01-03 |\n",
    "| 1       | 2020-01-04 |\n",
    "| 7       | 2020-01-11 |\n",
    "| 9       | 2020-01-25 |\n",
    "| 8       | 2020-01-28 |\n",
    "\n",
    "**Transactions table:**\n",
    "| user_id | transaction_date | amount |\n",
    "|---------|------------------|--------|\n",
    "| 1       | 2020-01-02       | 120    |\n",
    "| 2       | 2020-01-03       | 22     |\n",
    "| 7       | 2020-01-11       | 232    |\n",
    "| 1       | 2020-01-04       | 7      |\n",
    "| 9       | 2020-01-25       | 33     |\n",
    "| 9       | 2020-01-25       | 66     |\n",
    "| 8       | 2020-01-28       | 1      |\n",
    "| 9       | 2020-01-25       | 99     |\n",
    "\n",
    "**Output:** \n",
    "| transactions_count | visits_count |\n",
    "|--------------------|--------------|\n",
    "| 0                  | 4            |\n",
    "| 1                  | 5            |\n",
    "| 2                  | 0            |\n",
    "| 3                  | 1            |\n",
    "\n",
    "**Explanation:** The chart drawn for this example is shown above.\n",
    "* For transactions_count = 0, The visits (1, \"2020-01-01\"), (2, \"2020-01-02\"), (12, \"2020-01-01\") and (19, \"2020-01-03\") did no transactions so visits_count = 4.\n",
    "* For transactions_count = 1, The visits (2, \"2020-01-03\"), (7, \"2020-01-11\"), (8, \"2020-01-28\"), (1, \"2020-01-02\") and (1, \"2020-01-04\") did one transaction so visits_count = 5.\n",
    "* For transactions_count = 2, No customers visited the bank and did two transactions so visits_count = 0.\n",
    "* For transactions_count = 3, The visit (9, \"2020-01-25\") did three transactions so visits_count = 1.\n",
    "* For transactions_count >= 4, No customers visited the bank and did more than three transactions so we will stop at transactions_count = 3"
   ]
  },
  {
   "cell_type": "code",
   "execution_count": 0,
   "metadata": {
    "application/vnd.databricks.v1+cell": {
     "cellMetadata": {
      "byteLimit": 2048000,
      "rowLimit": 10000
     },
     "inputWidgets": {},
     "nuid": "01e4d778-a8a5-48a7-8ebb-7033f0b84d62",
     "showTitle": false,
     "tableResultSettingsMap": {},
     "title": ""
    }
   },
   "outputs": [
    {
     "output_type": "stream",
     "name": "stdout",
     "output_type": "stream",
     "text": [
      "+-------+----------+\n|user_id|visit_date|\n+-------+----------+\n|      1|2020-01-01|\n|      2|2020-01-02|\n|     12|2020-01-01|\n|     19|2020-01-03|\n|      1|2020-01-02|\n|      2|2020-01-03|\n|      1|2020-01-04|\n|      7|2020-01-11|\n|      9|2020-01-25|\n|      8|2020-01-28|\n+-------+----------+\n\n+-------+----------------+------+\n|user_id|transaction_date|amount|\n+-------+----------------+------+\n|      1|      2020-01-02|   120|\n|      2|      2020-01-03|    22|\n|      7|      2020-01-11|   232|\n|      1|      2020-01-04|     7|\n|      9|      2020-01-25|    33|\n|      9|      2020-01-25|    66|\n|      8|      2020-01-28|     1|\n|      9|      2020-01-25|    99|\n+-------+----------------+------+\n\n"
     ]
    }
   ],
   "source": [
    "visits_data_1336 = [\n",
    "    (1, \"2020-01-01\"), (2, \"2020-01-02\"), (12, \"2020-01-01\"), (19, \"2020-01-03\"),\n",
    "    (1, \"2020-01-02\"), (2, \"2020-01-03\"), (1, \"2020-01-04\"), (7, \"2020-01-11\"),\n",
    "    (9, \"2020-01-25\"), (8, \"2020-01-28\")\n",
    "]\n",
    "\n",
    "visits_columns_1336 = [\"user_id\", \"visit_date\"]\n",
    "visits_df_1336 = spark.createDataFrame(visits_data_1336, visits_columns_1336)\n",
    "visits_df_1336.show()\n",
    "\n",
    "transactions_data_1336 = [\n",
    "    (1, \"2020-01-02\", 120), (2, \"2020-01-03\", 22), (7, \"2020-01-11\", 232),\n",
    "    (1, \"2020-01-04\", 7), (9, \"2020-01-25\", 33), (9, \"2020-01-25\", 66),\n",
    "    (8, \"2020-01-28\", 1), (9, \"2020-01-25\", 99)\n",
    "]\n",
    "\n",
    "transactions_columns_1336 = [\"user_id\", \"transaction_date\", \"amount\"]\n",
    "transactions_df_1336 = spark.createDataFrame(transactions_data_1336, transactions_columns_1336)\n",
    "transactions_df_1336.show()\n"
   ]
  },
  {
   "cell_type": "code",
   "execution_count": 0,
   "metadata": {
    "application/vnd.databricks.v1+cell": {
     "cellMetadata": {
      "byteLimit": 2048000,
      "rowLimit": 10000
     },
     "inputWidgets": {},
     "nuid": "111420ef-6ec5-4b4f-ab78-e283e752fb61",
     "showTitle": false,
     "tableResultSettingsMap": {},
     "title": ""
    }
   },
   "outputs": [],
   "source": [
    "txn_count_df_1336 = transactions_df_1336\\\n",
    "                        .groupBy(\"user_id\", \"transaction_date\") \\\n",
    "                            .agg(count(\"*\").alias(\"transactions_count\"))"
   ]
  },
  {
   "cell_type": "code",
   "execution_count": 0,
   "metadata": {
    "application/vnd.databricks.v1+cell": {
     "cellMetadata": {
      "byteLimit": 2048000,
      "rowLimit": 10000
     },
     "inputWidgets": {},
     "nuid": "2665e0ed-f374-40b0-9b76-512dec54ce8a",
     "showTitle": false,
     "tableResultSettingsMap": {},
     "title": ""
    }
   },
   "outputs": [],
   "source": [
    "visit_txn_df_1336 = visits_df_1336\\\n",
    "                    .join(txn_count_df_1336,\n",
    "                        (visits_df_1336.user_id == txn_count_df_1336.user_id) &\n",
    "                        (visits_df_1336.visit_date == txn_count_df_1336.transaction_date),how=\"left\")\\\n",
    "                            .select(visits_df_1336.user_id,visits_df_1336.visit_date,coalesce(col(\"transactions_count\"), lit(0)).cast(\"int\").alias(\"transactions_count\"))"
   ]
  },
  {
   "cell_type": "code",
   "execution_count": 0,
   "metadata": {
    "application/vnd.databricks.v1+cell": {
     "cellMetadata": {
      "byteLimit": 2048000,
      "rowLimit": 10000
     },
     "inputWidgets": {},
     "nuid": "e41ae754-6eb3-4ea3-b6a9-d898281656d0",
     "showTitle": false,
     "tableResultSettingsMap": {},
     "title": ""
    }
   },
   "outputs": [],
   "source": [
    "agg_df_1336 = visit_txn_df_1336\\\n",
    "                .groupBy(\"transactions_count\")\\\n",
    "                    .agg(count(\"*\").alias(\"visits_count\"))"
   ]
  },
  {
   "cell_type": "code",
   "execution_count": 0,
   "metadata": {
    "application/vnd.databricks.v1+cell": {
     "cellMetadata": {
      "byteLimit": 2048000,
      "rowLimit": 10000
     },
     "inputWidgets": {},
     "nuid": "0af913ec-dc3f-4ae9-bde2-c38e421e7362",
     "showTitle": false,
     "tableResultSettingsMap": {},
     "title": ""
    }
   },
   "outputs": [],
   "source": [
    "max_count = agg_df_1336.agg(max(\"transactions_count\")).collect()[0][0]\n",
    "full_range = spark.createDataFrame([(i,) for i in range(max_count + 1)], [\"transactions_count\"])"
   ]
  },
  {
   "cell_type": "code",
   "execution_count": 0,
   "metadata": {
    "application/vnd.databricks.v1+cell": {
     "cellMetadata": {
      "byteLimit": 2048000,
      "rowLimit": 10000
     },
     "inputWidgets": {},
     "nuid": "249cc102-1b70-40a2-be1c-5678373c22ae",
     "showTitle": false,
     "tableResultSettingsMap": {},
     "title": ""
    }
   },
   "outputs": [
    {
     "output_type": "stream",
     "name": "stdout",
     "output_type": "stream",
     "text": [
      "+------------------+------------+\n|transactions_count|visits_count|\n+------------------+------------+\n|                 0|           4|\n|                 1|           5|\n|                 2|           0|\n|                 3|           1|\n+------------------+------------+\n\n"
     ]
    }
   ],
   "source": [
    "full_range\\\n",
    "    .join(agg_df_1336, on=\"transactions_count\", how=\"left\") \\\n",
    "        .fillna(0, subset=[\"visits_count\"]) \\\n",
    "            .orderBy(\"transactions_count\").show()"
   ]
  }
 ],
 "metadata": {
  "application/vnd.databricks.v1+notebook": {
   "computePreferences": {
    "hardware": {
     "accelerator": null,
     "gpuPoolId": null,
     "memory": null
    }
   },
   "dashboards": [],
   "environmentMetadata": {
    "base_environment": "",
    "environment_version": "2"
   },
   "inputWidgetPreferences": null,
   "language": "python",
   "notebookMetadata": {
    "pythonIndentUnit": 4
   },
   "notebookName": "1336. Number of Transactions per Visit (Hard)-(Solved)",
   "widgets": {}
  },
  "language_info": {
   "name": "python"
  }
 },
 "nbformat": 4,
 "nbformat_minor": 0
}
