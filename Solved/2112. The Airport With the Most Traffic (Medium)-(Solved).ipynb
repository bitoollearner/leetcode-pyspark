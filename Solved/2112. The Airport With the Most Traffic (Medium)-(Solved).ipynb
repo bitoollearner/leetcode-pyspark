{
 "cells": [
  {
   "cell_type": "markdown",
   "metadata": {
    "application/vnd.databricks.v1+cell": {
     "cellMetadata": {
      "byteLimit": 2048000,
      "rowLimit": 10000
     },
     "inputWidgets": {},
     "nuid": "a23f6d56-6d8d-44bc-b796-cedda9e17c21",
     "showTitle": false,
     "tableResultSettingsMap": {},
     "title": ""
    }
   },
   "source": [
    "## Importing Libraries"
   ]
  },
  {
   "cell_type": "code",
   "execution_count": 0,
   "metadata": {
    "application/vnd.databricks.v1+cell": {
     "cellMetadata": {
      "byteLimit": 2048000,
      "rowLimit": 10000
     },
     "inputWidgets": {},
     "nuid": "0a69d78b-43d7-4f9e-a05d-026985c2539f",
     "showTitle": false,
     "tableResultSettingsMap": {},
     "title": ""
    }
   },
   "outputs": [],
   "source": [
    "from pyspark.sql.functions import *\n",
    "from pyspark.sql.types import *\n",
    "from pyspark.sql.window import Window"
   ]
  },
  {
   "cell_type": "markdown",
   "metadata": {
    "application/vnd.databricks.v1+cell": {
     "cellMetadata": {
      "byteLimit": 2048000,
      "rowLimit": 10000
     },
     "inputWidgets": {},
     "nuid": "2a54b88b-06bd-43e4-978a-c0c5d33ca5bb",
     "showTitle": false,
     "tableResultSettingsMap": {},
     "title": ""
    }
   },
   "source": [
    "**2112. The Airport With the Most Traffic (Medium)**\n",
    "\n",
    "**Table: Flights**\n",
    "\n",
    "| Column Name       | Type |\n",
    "|-------------------|------|\n",
    "| departure_airport | int  |\n",
    "| arrival_airport   | int  |\n",
    "| flights_count     | int  |\n",
    "\n",
    "(departure_airport, arrival_airport) is the primary key column (combination of columns with unique values) for this table.\n",
    "Each row of this table indicates that there were flights_count flights that departed from departure_airport and arrived at arrival_airport.\n",
    " \n",
    "**Write a solution to report the ID of the airport with the most traffic. The airport with the most traffic is the airport that has the largest total number of flights that either departed from or arrived at the airport. If there is more than one airport with the most traffic, report them all.**\n",
    "\n",
    "Return the result table in any order.\n",
    "\n",
    "The result format is in the following example.\n",
    "\n",
    "**Example 1:**\n",
    "\n",
    "**Input:** \n",
    "\n",
    "**Flights table:**\n",
    "\n",
    "| departure_airport | arrival_airport | flights_count |\n",
    "|-------------------|-----------------|---------------|\n",
    "| 1                 | 2               | 4             |\n",
    "| 2                 | 1               | 5             |\n",
    "| 2                 | 4               | 5             |\n",
    "\n",
    "**Output:** \n",
    "| airport_id |\n",
    "|------------|\n",
    "| 2          |\n",
    "\n",
    "**Explanation:** \n",
    "- Airport 1 was engaged with 9 flights (4 departures, 5 arrivals).\n",
    "- Airport 2 was engaged with 14 flights (10 departures, 4 arrivals).\n",
    "- Airport 4 was engaged with 5 flights (5 arrivals).\n",
    "- The airport with the most traffic is airport 2.\n",
    "\n",
    "**Example 2:**\n",
    "\n",
    "**Input:** \n",
    "\n",
    "**Flights table:**\n",
    "\n",
    "| departure_airport | arrival_airport | flights_count |\n",
    "|-------------------|-----------------|---------------|\n",
    "| 1                 | 2               | 4             |\n",
    "| 2                 | 1               | 5             |\n",
    "| 3                 | 4               | 5             |\n",
    "| 4                 | 3               | 4             |\n",
    "| 5                 | 6               | 7             |\n",
    "\n",
    "**Output:** \n",
    "| airport_id |\n",
    "|------------|\n",
    "| 1          |\n",
    "| 2          |\n",
    "| 3          |\n",
    "| 4          |\n",
    "\n",
    "**Explanation:** \n",
    "- Airport 1 was engaged with 9 flights (4 departures, 5 arrivals).\n",
    "- Airport 2 was engaged with 9 flights (5 departures, 4 arrivals).\n",
    "- Airport 3 was engaged with 9 flights (5 departures, 4 arrivals).\n",
    "- Airport 4 was engaged with 9 flights (4 departures, 5 arrivals).\n",
    "- Airport 5 was engaged with 7 flights (7 departures).\n",
    "- Airport 6 was engaged with 7 flights (7 arrivals).\n",
    "\n",
    "The airports with the most traffic are airports 1, 2, 3, and 4."
   ]
  },
  {
   "cell_type": "code",
   "execution_count": 0,
   "metadata": {
    "application/vnd.databricks.v1+cell": {
     "cellMetadata": {
      "byteLimit": 2048000,
      "rowLimit": 10000
     },
     "inputWidgets": {},
     "nuid": "c260f510-542b-4067-a6f4-ffed86995056",
     "showTitle": false,
     "tableResultSettingsMap": {},
     "title": ""
    }
   },
   "outputs": [
    {
     "output_type": "stream",
     "name": "stdout",
     "output_type": "stream",
     "text": [
      "+-----------------+---------------+-------------+\n|departure_airport|arrival_airport|flights_count|\n+-----------------+---------------+-------------+\n|                1|              2|            4|\n|                2|              1|            5|\n|                2|              4|            5|\n+-----------------+---------------+-------------+\n\n"
     ]
    }
   ],
   "source": [
    "flights_data_2112 = [\n",
    "    (1, 2, 4),\n",
    "    (2, 1, 5),\n",
    "    (2, 4, 5)\n",
    "]\n",
    "\n",
    "flights_columns_2112 = [\"departure_airport\", \"arrival_airport\", \"flights_count\"]\n",
    "\n",
    "flights_df_2112 = spark.createDataFrame(flights_data_2112, flights_columns_2112)\n",
    "flights_df_2112.show()"
   ]
  },
  {
   "cell_type": "code",
   "execution_count": 0,
   "metadata": {
    "application/vnd.databricks.v1+cell": {
     "cellMetadata": {
      "byteLimit": 2048000,
      "rowLimit": 10000
     },
     "inputWidgets": {},
     "nuid": "944f2273-28f2-4f3a-86c5-5b27f8fbaf8a",
     "showTitle": false,
     "tableResultSettingsMap": {},
     "title": ""
    }
   },
   "outputs": [],
   "source": [
    "departures_df_2112 = flights_df_2112\\\n",
    "                        .groupBy(\"departure_airport\") \\\n",
    "                            .agg(sum(\"flights_count\").alias(\"departures\")) \\\n",
    "                                .withColumnRenamed(\"departure_airport\", \"airport_id\")"
   ]
  },
  {
   "cell_type": "code",
   "execution_count": 0,
   "metadata": {
    "application/vnd.databricks.v1+cell": {
     "cellMetadata": {
      "byteLimit": 2048000,
      "rowLimit": 10000
     },
     "inputWidgets": {},
     "nuid": "8bdeef49-3147-4866-99e9-05a97c19fdca",
     "showTitle": false,
     "tableResultSettingsMap": {},
     "title": ""
    }
   },
   "outputs": [],
   "source": [
    "arrivals_df_2112 = flights_df_2112\\\n",
    "                        .groupBy(\"arrival_airport\") \\\n",
    "                            .agg(sum(\"flights_count\").alias(\"arrivals\")) \\\n",
    "                                .withColumnRenamed(\"arrival_airport\", \"airport_id\")"
   ]
  },
  {
   "cell_type": "code",
   "execution_count": 0,
   "metadata": {
    "application/vnd.databricks.v1+cell": {
     "cellMetadata": {
      "byteLimit": 2048000,
      "rowLimit": 10000
     },
     "inputWidgets": {},
     "nuid": "8c3ac504-9f4e-43be-8dfa-bc04095eaecc",
     "showTitle": false,
     "tableResultSettingsMap": {},
     "title": ""
    }
   },
   "outputs": [],
   "source": [
    "traffic_df_2112 = departures_df_2112\\\n",
    "                        .unionByName(arrivals_df_2112, allowMissingColumns=True) \\\n",
    "                            .groupBy(\"airport_id\") \\\n",
    "                                .agg(\n",
    "                                    sum(coalesce(col(\"departures\"), lit(0))).alias(\"total_departures\"),\n",
    "                                    sum(coalesce(col(\"arrivals\"), lit(0))).alias(\"total_arrivals\")\n",
    "                                    )\\\n",
    "                                        .withColumn(\"total_traffic\", col(\"total_departures\") + col(\"total_arrivals\"))\n"
   ]
  },
  {
   "cell_type": "code",
   "execution_count": 0,
   "metadata": {
    "application/vnd.databricks.v1+cell": {
     "cellMetadata": {
      "byteLimit": 2048000,
      "rowLimit": 10000
     },
     "inputWidgets": {},
     "nuid": "52ca1012-778d-4c8a-b5d8-ba3999f3e541",
     "showTitle": false,
     "tableResultSettingsMap": {},
     "title": ""
    }
   },
   "outputs": [],
   "source": [
    "max_traffic_df_2112 = traffic_df_2112\\\n",
    "                            .agg(\n",
    "                                max(\"total_traffic\").alias(\"max_traffic\")).collect()[0][\"max_traffic\"]\n"
   ]
  },
  {
   "cell_type": "code",
   "execution_count": 0,
   "metadata": {
    "application/vnd.databricks.v1+cell": {
     "cellMetadata": {
      "byteLimit": 2048000,
      "rowLimit": 10000
     },
     "inputWidgets": {},
     "nuid": "5039b176-d7a5-4f30-b449-27823e143e76",
     "showTitle": false,
     "tableResultSettingsMap": {},
     "title": ""
    }
   },
   "outputs": [
    {
     "output_type": "stream",
     "name": "stdout",
     "output_type": "stream",
     "text": [
      "+----------+\n|airport_id|\n+----------+\n|         2|\n+----------+\n\n"
     ]
    }
   ],
   "source": [
    "traffic_df_2112\\\n",
    "    .filter(col(\"total_traffic\") == max_traffic_df_2112) \\\n",
    "        .select(\"airport_id\").show()"
   ]
  }
 ],
 "metadata": {
  "application/vnd.databricks.v1+notebook": {
   "computePreferences": {
    "hardware": {
     "accelerator": null,
     "gpuPoolId": null,
     "memory": null
    }
   },
   "dashboards": [],
   "environmentMetadata": {
    "base_environment": "",
    "environment_version": "2"
   },
   "inputWidgetPreferences": null,
   "language": "python",
   "notebookMetadata": {
    "pythonIndentUnit": 4
   },
   "notebookName": "2112. The Airport With the Most Traffic (Medium)-(Solved)",
   "widgets": {}
  },
  "language_info": {
   "name": "python"
  }
 },
 "nbformat": 4,
 "nbformat_minor": 0
}
