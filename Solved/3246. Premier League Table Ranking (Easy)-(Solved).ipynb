{
 "cells": [
  {
   "cell_type": "markdown",
   "metadata": {
    "application/vnd.databricks.v1+cell": {
     "cellMetadata": {},
     "inputWidgets": {},
     "nuid": "7d1791bd-9552-4116-90b2-daa678bbffb8",
     "showTitle": false,
     "tableResultSettingsMap": {},
     "title": ""
    }
   },
   "source": [
    "## Importing Libraries"
   ]
  },
  {
   "cell_type": "code",
   "execution_count": 0,
   "metadata": {
    "application/vnd.databricks.v1+cell": {
     "cellMetadata": {},
     "inputWidgets": {},
     "nuid": "2901fbc9-49db-4285-8b94-c460f34d4c4f",
     "showTitle": false,
     "tableResultSettingsMap": {},
     "title": ""
    }
   },
   "outputs": [],
   "source": [
    "from pyspark.sql.functions import *\n",
    "from pyspark.sql.types import *\n",
    "from pyspark.sql.window import Window"
   ]
  },
  {
   "cell_type": "markdown",
   "metadata": {
    "application/vnd.databricks.v1+cell": {
     "cellMetadata": {},
     "inputWidgets": {},
     "nuid": "655120e7-6b25-417c-a08a-c6925feaa425",
     "showTitle": false,
     "tableResultSettingsMap": {},
     "title": ""
    }
   },
   "source": [
    "**3246. Premier League Table Ranking (Easy)**\n",
    "\n",
    "**Table: TeamStats**\n",
    "\n",
    "| Column Name      | Type    |\n",
    "|------------------|---------|\n",
    "| team_id          | int     |\n",
    "| team_name        | varchar |\n",
    "| matches_played   | int     |\n",
    "| wins             | int     |\n",
    "| draws            | int     |\n",
    "| losses           | int     |\n",
    "\n",
    "team_id is the unique key for this table.\n",
    "This table contains team id, team name, matches_played, wins, draws, and losses.\n",
    "\n",
    "**Write a solution to calculate the points and rank for each team in the league. Points are calculated as follows:**\n",
    "- 3 points for a win\n",
    "- 1 point for a draw\n",
    "- 0 points for a loss\n",
    "\n",
    "Note: Teams with the same points must be assigned the same rank.\n",
    "\n",
    "Return the result table ordered by points in descending, and then by team_name in ascending order.\n",
    "\n",
    "The query result format is in the following example.\n",
    "\n",
    "**Example:**\n",
    "\n",
    "**Input:**\n",
    "\n",
    "**TeamStats table:**\n",
    "\n",
    "| team_id | team_name       | matches_played | wins | draws | losses |\n",
    "|---------|-----------------|----------------|------|-------|--------|\n",
    "| 1       | Manchester City | 10             | 6    | 2     | 2      |\n",
    "| 2       | Liverpool       | 10             | 6    | 2     | 2      |\n",
    "| 3       | Chelsea         | 10             | 5    | 3     | 2      |\n",
    "| 4       | Arsenal         | 10             | 4    | 4     | 2      |\n",
    "| 5       | Tottenham       | 10             | 3    | 5     | 2      |\n",
    "\n",
    "**Output:**\n",
    "\n",
    "| team_id | team_name       | points | position |\n",
    "|---------|-----------------|--------|----------|\n",
    "| 2       | Liverpool       | 20     | 1        |\n",
    "| 1       | Manchester City | 20     | 1        |\n",
    "| 3       | Chelsea         | 18     | 3        |\n",
    "| 4       | Arsenal         | 16     | 4        |\n",
    "| 5       | Tottenham       | 14     | 5        |\n",
    "\n",
    "**Explanation:**\n",
    "- Manchester City and Liverpool both have 20 points (6 wins * 3 points + 2 draws * 1 point), so they share position 1.\n",
    "- Chelsea has 18 points (5 wins * 3 points + 3 draws * 1 point) and is position 3rd.\n",
    "- Arsenal has 16 points (4 wins * 3 points + 4 draws * 1 point) and is position 4th.\n",
    "- Tottenham has 14 points (3 wins * 3 points + 5 draws * 1 point) and is position 5th.\n",
    "\n",
    "The output table is ordered by points in descending order, then by team_name in ascending order."
   ]
  },
  {
   "cell_type": "code",
   "execution_count": 0,
   "metadata": {
    "application/vnd.databricks.v1+cell": {
     "cellMetadata": {},
     "inputWidgets": {},
     "nuid": "a2368434-0191-416c-aa1d-12cd44cf48e6",
     "showTitle": false,
     "tableResultSettingsMap": {},
     "title": ""
    }
   },
   "outputs": [],
   "source": [
    "team_data_3246 = [\n",
    "    (1, \"Manchester City\", 10, 6, 2, 2),\n",
    "    (2, \"Liverpool\", 10, 6, 2, 2),\n",
    "    (3, \"Chelsea\", 10, 5, 3, 2),\n",
    "    (4, \"Arsenal\", 10, 4, 4, 2),\n",
    "    (5, \"Tottenham\", 10, 3, 5, 2)\n",
    "]\n",
    "\n",
    "team_columns_3246 = [\"team_id\", \"team_name\", \"matches_played\", \"wins\", \"draws\", \"losses\"]\n",
    "team_df_3246 = spark.createDataFrame(team_data_3246, team_columns_3246)\n",
    "team_df_3246.show()"
   ]
  }
 ],
 "metadata": {
  "application/vnd.databricks.v1+notebook": {
   "computePreferences": null,
   "dashboards": [],
   "environmentMetadata": {
    "base_environment": "",
    "environment_version": "1"
   },
   "inputWidgetPreferences": null,
   "language": "python",
   "notebookMetadata": {
    "pythonIndentUnit": 4
   },
   "notebookName": "3246. Premier League Table Ranking (Easy)-(Solved)",
   "widgets": {}
  },
  "language_info": {
   "name": "python"
  }
 },
 "nbformat": 4,
 "nbformat_minor": 0
}
