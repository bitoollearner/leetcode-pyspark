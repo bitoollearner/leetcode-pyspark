{
 "cells": [
  {
   "cell_type": "markdown",
   "metadata": {
    "application/vnd.databricks.v1+cell": {
     "cellMetadata": {
      "byteLimit": 2048000,
      "rowLimit": 10000
     },
     "inputWidgets": {},
     "nuid": "7d1791bd-9552-4116-90b2-daa678bbffb8",
     "showTitle": false,
     "tableResultSettingsMap": {},
     "title": ""
    }
   },
   "source": [
    "## Importing Libraries"
   ]
  },
  {
   "cell_type": "code",
   "execution_count": 0,
   "metadata": {
    "application/vnd.databricks.v1+cell": {
     "cellMetadata": {
      "byteLimit": 2048000,
      "rowLimit": 10000
     },
     "inputWidgets": {},
     "nuid": "2901fbc9-49db-4285-8b94-c460f34d4c4f",
     "showTitle": false,
     "tableResultSettingsMap": {},
     "title": ""
    }
   },
   "outputs": [],
   "source": [
    "from pyspark.sql.functions import *\n",
    "from pyspark.sql.types import *\n",
    "from pyspark.sql.window import Window"
   ]
  },
  {
   "cell_type": "markdown",
   "metadata": {
    "application/vnd.databricks.v1+cell": {
     "cellMetadata": {
      "byteLimit": 2048000,
      "rowLimit": 10000
     },
     "inputWidgets": {},
     "nuid": "655120e7-6b25-417c-a08a-c6925feaa425",
     "showTitle": false,
     "tableResultSettingsMap": {},
     "title": ""
    }
   },
   "source": [
    "**3246. Premier League Table Ranking (Easy)**\n",
    "\n",
    "**Table: TeamStats**\n",
    "\n",
    "| Column Name      | Type    |\n",
    "|------------------|---------|\n",
    "| team_id          | int     |\n",
    "| team_name        | varchar |\n",
    "| matches_played   | int     |\n",
    "| wins             | int     |\n",
    "| draws            | int     |\n",
    "| losses           | int     |\n",
    "\n",
    "team_id is the unique key for this table.\n",
    "This table contains team id, team name, matches_played, wins, draws, and losses.\n",
    "\n",
    "**Write a solution to calculate the points and rank for each team in the league. Points are calculated as follows:**\n",
    "- 3 points for a win\n",
    "- 1 point for a draw\n",
    "- 0 points for a loss\n",
    "\n",
    "Note: Teams with the same points must be assigned the same rank.\n",
    "\n",
    "Return the result table ordered by points in descending, and then by team_name in ascending order.\n",
    "\n",
    "The query result format is in the following example.\n",
    "\n",
    "**Example:**\n",
    "\n",
    "**Input:**\n",
    "\n",
    "**TeamStats table:**\n",
    "\n",
    "| team_id | team_name       | matches_played | wins | draws | losses |\n",
    "|---------|-----------------|----------------|------|-------|--------|\n",
    "| 1       | Manchester City | 10             | 6    | 2     | 2      |\n",
    "| 2       | Liverpool       | 10             | 6    | 2     | 2      |\n",
    "| 3       | Chelsea         | 10             | 5    | 3     | 2      |\n",
    "| 4       | Arsenal         | 10             | 4    | 4     | 2      |\n",
    "| 5       | Tottenham       | 10             | 3    | 5     | 2      |\n",
    "\n",
    "**Output:**\n",
    "\n",
    "| team_id | team_name       | points | position |\n",
    "|---------|-----------------|--------|----------|\n",
    "| 2       | Liverpool       | 20     | 1        |\n",
    "| 1       | Manchester City | 20     | 1        |\n",
    "| 3       | Chelsea         | 18     | 3        |\n",
    "| 4       | Arsenal         | 16     | 4        |\n",
    "| 5       | Tottenham       | 14     | 5        |\n",
    "\n",
    "**Explanation:**\n",
    "- Manchester City and Liverpool both have 20 points (6 wins * 3 points + 2 draws * 1 point), so they share position 1.\n",
    "- Chelsea has 18 points (5 wins * 3 points + 3 draws * 1 point) and is position 3rd.\n",
    "- Arsenal has 16 points (4 wins * 3 points + 4 draws * 1 point) and is position 4th.\n",
    "- Tottenham has 14 points (3 wins * 3 points + 5 draws * 1 point) and is position 5th.\n",
    "\n",
    "The output table is ordered by points in descending order, then by team_name in ascending order."
   ]
  },
  {
   "cell_type": "code",
   "execution_count": 0,
   "metadata": {
    "application/vnd.databricks.v1+cell": {
     "cellMetadata": {
      "byteLimit": 2048000,
      "rowLimit": 10000
     },
     "inputWidgets": {},
     "nuid": "a2368434-0191-416c-aa1d-12cd44cf48e6",
     "showTitle": false,
     "tableResultSettingsMap": {},
     "title": ""
    }
   },
   "outputs": [
    {
     "output_type": "stream",
     "name": "stdout",
     "output_type": "stream",
     "text": [
      "+-------+---------------+--------------+----+-----+------+\n|team_id|      team_name|matches_played|wins|draws|losses|\n+-------+---------------+--------------+----+-----+------+\n|      1|Manchester City|            10|   6|    2|     2|\n|      2|      Liverpool|            10|   6|    2|     2|\n|      3|        Chelsea|            10|   5|    3|     2|\n|      4|        Arsenal|            10|   4|    4|     2|\n|      5|      Tottenham|            10|   3|    5|     2|\n+-------+---------------+--------------+----+-----+------+\n\n"
     ]
    }
   ],
   "source": [
    "team_data_3246 = [\n",
    "    (1, \"Manchester City\", 10, 6, 2, 2),\n",
    "    (2, \"Liverpool\", 10, 6, 2, 2),\n",
    "    (3, \"Chelsea\", 10, 5, 3, 2),\n",
    "    (4, \"Arsenal\", 10, 4, 4, 2),\n",
    "    (5, \"Tottenham\", 10, 3, 5, 2)\n",
    "]\n",
    "\n",
    "team_columns_3246 = [\"team_id\", \"team_name\", \"matches_played\", \"wins\", \"draws\", \"losses\"]\n",
    "team_df_3246 = spark.createDataFrame(team_data_3246, team_columns_3246)\n",
    "team_df_3246.show()"
   ]
  },
  {
   "cell_type": "code",
   "execution_count": 0,
   "metadata": {
    "application/vnd.databricks.v1+cell": {
     "cellMetadata": {
      "byteLimit": 2048000,
      "rowLimit": 10000
     },
     "inputWidgets": {},
     "nuid": "ca370bc4-f95e-43d3-aa63-091729b3502b",
     "showTitle": false,
     "tableResultSettingsMap": {},
     "title": ""
    }
   },
   "outputs": [],
   "source": [
    "team_points_3246 = team_df_3246\\\n",
    "                        .withColumn(\"points\", col(\"wins\") * 3 + col(\"draws\") * 1)"
   ]
  },
  {
   "cell_type": "code",
   "execution_count": 0,
   "metadata": {
    "application/vnd.databricks.v1+cell": {
     "cellMetadata": {
      "byteLimit": 2048000,
      "rowLimit": 10000
     },
     "inputWidgets": {},
     "nuid": "657e2bb9-6d5c-42ad-b3f7-22e96941e7e0",
     "showTitle": false,
     "tableResultSettingsMap": {},
     "title": ""
    }
   },
   "outputs": [],
   "source": [
    "window_spec = Window.orderBy(col(\"points\").desc(), col(\"team_name\").asc())"
   ]
  },
  {
   "cell_type": "code",
   "execution_count": 0,
   "metadata": {
    "application/vnd.databricks.v1+cell": {
     "cellMetadata": {
      "byteLimit": 2048000,
      "rowLimit": 10000
     },
     "inputWidgets": {},
     "nuid": "e8ed547c-2e20-4763-877a-0b90f59f0a42",
     "showTitle": false,
     "tableResultSettingsMap": {},
     "title": ""
    }
   },
   "outputs": [
    {
     "output_type": "stream",
     "name": "stderr",
     "output_type": "stream",
     "text": [
      "/databricks/python/lib/python3.11/site-packages/pyspark/sql/connect/expressions.py:1017: UserWarning: WARN WindowExpression: No Partition Defined for Window operation! Moving all data to a single partition, this can cause serious performance degradation.\n  warnings.warn(\n"
     ]
    },
    {
     "output_type": "display_data",
     "data": {
      "text/html": [
       "<style scoped>\n",
       "  .table-result-container {\n",
       "    max-height: 300px;\n",
       "    overflow: auto;\n",
       "  }\n",
       "  table, th, td {\n",
       "    border: 1px solid black;\n",
       "    border-collapse: collapse;\n",
       "  }\n",
       "  th, td {\n",
       "    padding: 5px;\n",
       "  }\n",
       "  th {\n",
       "    text-align: left;\n",
       "  }\n",
       "</style><div class='table-result-container'><table class='table-result'><thead style='background-color: white'><tr><th>team_id</th><th>team_name</th><th>points</th><th>position</th></tr></thead><tbody><tr><td>2</td><td>Liverpool</td><td>20</td><td>1</td></tr><tr><td>1</td><td>Manchester City</td><td>20</td><td>2</td></tr><tr><td>3</td><td>Chelsea</td><td>18</td><td>3</td></tr><tr><td>4</td><td>Arsenal</td><td>16</td><td>4</td></tr><tr><td>5</td><td>Tottenham</td><td>14</td><td>5</td></tr></tbody></table></div>"
      ]
     },
     "metadata": {
      "application/vnd.databricks.v1+output": {
       "addedWidgets": {},
       "aggData": [],
       "aggError": "",
       "aggOverflow": false,
       "aggSchema": [],
       "aggSeriesLimitReached": false,
       "aggType": "",
       "arguments": {},
       "columnCustomDisplayInfos": {},
       "data": [
        [
         2,
         "Liverpool",
         20,
         1
        ],
        [
         1,
         "Manchester City",
         20,
         2
        ],
        [
         3,
         "Chelsea",
         18,
         3
        ],
        [
         4,
         "Arsenal",
         16,
         4
        ],
        [
         5,
         "Tottenham",
         14,
         5
        ]
       ],
       "datasetInfos": [],
       "dbfsResultPath": null,
       "isJsonSchema": true,
       "metadata": {},
       "overflow": false,
       "plotOptions": {
        "customPlotOptions": {},
        "displayType": "table",
        "pivotAggregation": null,
        "pivotColumns": null,
        "xColumns": null,
        "yColumns": null
       },
       "removedWidgets": [],
       "schema": [
        {
         "metadata": "{}",
         "name": "team_id",
         "type": "\"long\""
        },
        {
         "metadata": "{}",
         "name": "team_name",
         "type": "\"string\""
        },
        {
         "metadata": "{}",
         "name": "points",
         "type": "\"long\""
        },
        {
         "metadata": "{}",
         "name": "position",
         "type": "\"integer\""
        }
       ],
       "type": "table"
      }
     },
     "output_type": "display_data"
    }
   ],
   "source": [
    "team_points_3246\\\n",
    "    .withColumn(\"position\", rank().over(window_spec))\\\n",
    "        .select(\"team_id\", \"team_name\", \"points\", \"position\").display()"
   ]
  }
 ],
 "metadata": {
  "application/vnd.databricks.v1+notebook": {
   "computePreferences": {
    "hardware": {
     "accelerator": null,
     "gpuPoolId": null,
     "memory": null
    }
   },
   "dashboards": [],
   "environmentMetadata": {
    "base_environment": "",
    "environment_version": "2"
   },
   "inputWidgetPreferences": null,
   "language": "python",
   "notebookMetadata": {
    "pythonIndentUnit": 4
   },
   "notebookName": "3246. Premier League Table Ranking (Easy)-(Solved)",
   "widgets": {}
  },
  "language_info": {
   "name": "python"
  }
 },
 "nbformat": 4,
 "nbformat_minor": 0
}
