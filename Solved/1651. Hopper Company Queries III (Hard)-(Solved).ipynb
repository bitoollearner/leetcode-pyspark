{
 "cells": [
  {
   "cell_type": "markdown",
   "metadata": {
    "application/vnd.databricks.v1+cell": {
     "cellMetadata": {
      "byteLimit": 2048000,
      "rowLimit": 10000
     },
     "inputWidgets": {},
     "nuid": "f6ac9266-658c-4507-8a37-ecc81334b06d",
     "showTitle": false,
     "tableResultSettingsMap": {},
     "title": ""
    }
   },
   "source": [
    "## Importing Libraries"
   ]
  },
  {
   "cell_type": "code",
   "execution_count": 0,
   "metadata": {
    "application/vnd.databricks.v1+cell": {
     "cellMetadata": {
      "byteLimit": 2048000,
      "rowLimit": 10000
     },
     "inputWidgets": {},
     "nuid": "d6194993-9312-4b46-8365-d6a73d8cb0b0",
     "showTitle": false,
     "tableResultSettingsMap": {},
     "title": ""
    }
   },
   "outputs": [],
   "source": [
    "from pyspark.sql.functions import *\n",
    "from pyspark.sql.types import *\n",
    "from pyspark.sql.window import Window"
   ]
  },
  {
   "cell_type": "markdown",
   "metadata": {
    "application/vnd.databricks.v1+cell": {
     "cellMetadata": {
      "byteLimit": 2048000,
      "rowLimit": 10000
     },
     "inputWidgets": {},
     "nuid": "23f6a680-8f01-4976-83fa-88103e49c6b8",
     "showTitle": false,
     "tableResultSettingsMap": {},
     "title": ""
    }
   },
   "source": [
    "**1651. Hopper Company Queries III (Hard)**\n",
    "\n",
    "**Table: Drivers**\n",
    "\n",
    "| Column Name | Type    |\n",
    "|-------------|---------|\n",
    "| driver_id   | int     |\n",
    "| join_date   | date    |\n",
    "\n",
    "driver_id is the column with unique values for this table.\n",
    "Each row of this table contains the driver's ID and the date they joined the Hopper company.\n",
    " \n",
    "**Table: Rides**\n",
    "\n",
    "| Column Name  | Type    |\n",
    "|--------------|---------|\n",
    "| ride_id      | int     |\n",
    "| user_id      | int     |\n",
    "| requested_at | date    |\n",
    "\n",
    "ride_id is the column with unique values for this table.\n",
    "Each row of this table contains the ID of a ride, the user's ID that requested it, and the day they requested it.\n",
    "There may be some ride requests in this table that were not accepted.\n",
    " \n",
    "**Table: AcceptedRides**\n",
    "\n",
    "| Column Name   | Type    |\n",
    "|---------------|---------|\n",
    "| ride_id       | int     |\n",
    "| driver_id     | int     |\n",
    "| ride_distance | int     |\n",
    "| ride_duration | int     |\n",
    "\n",
    "ride_id is the column with unique values for this table.\n",
    "Each row of this table contains some information about an accepted ride.\n",
    "It is guaranteed that each accepted ride exists in the Rides table.\n",
    " \n",
    "**Write a solution to compute the average_ride_distance and average_ride_duration of every 3-month window starting from January - March 2020 to October - December 2020. Round average_ride_distance and average_ride_duration to the nearest two decimal places.**\n",
    "\n",
    "The average_ride_distance is calculated by summing up the total ride_distance values from the three months and dividing it by 3. The average_ride_duration is calculated in a similar way.\n",
    "\n",
    "Return the result table ordered by month in ascending order, where month is the starting month's number (January is 1, February is 2, etc.).\n",
    "\n",
    "The result format is in the following example.\n",
    "\n",
    "**Example 1:**\n",
    "\n",
    "**Input:** \n",
    "\n",
    "**Drivers table:**\n",
    "\n",
    "| driver_id | join_date  |\n",
    "|-----------|------------|\n",
    "| 10        | 2019-12-10 |\n",
    "| 8         | 2020-1-13  |\n",
    "| 5         | 2020-2-16  |\n",
    "| 7         | 2020-3-8   |\n",
    "| 4         | 2020-5-17  |\n",
    "| 1         | 2020-10-24 |\n",
    "| 6         | 2021-1-5   |\n",
    "\n",
    "**Rides table:**\n",
    "| ride_id | user_id | requested_at |\n",
    "|---------|---------|--------------|\n",
    "| 6       | 75      | 2019-12-9    |\n",
    "| 1       | 54      | 2020-2-9     |\n",
    "| 10      | 63      | 2020-3-4     |\n",
    "| 19      | 39      | 2020-4-6     |\n",
    "| 3       | 41      | 2020-6-3     |\n",
    "| 13      | 52      | 2020-6-22    |\n",
    "| 7       | 69      | 2020-7-16    |\n",
    "| 17      | 70      | 2020-8-25    |\n",
    "| 20      | 81      | 2020-11-2    |\n",
    "| 5       | 57      | 2020-11-9    |\n",
    "| 2       | 42      | 2020-12-9    |\n",
    "| 11      | 68      | 2021-1-11    |\n",
    "| 15      | 32      | 2021-1-17    |\n",
    "| 12      | 11      | 2021-1-19    |\n",
    "| 14      | 18      | 2021-1-27    |\n",
    "\n",
    "**AcceptedRides table:**\n",
    "| ride_id | driver_id | ride_distance | ride_duration |\n",
    "|---------|-----------|---------------|---------------|\n",
    "| 10      | 10        | 63            | 38            |\n",
    "| 13      | 10        | 73            | 96            |\n",
    "| 7       | 8         | 100           | 28            |\n",
    "| 17      | 7         | 119           | 68            |\n",
    "| 20      | 1         | 121           | 92            |\n",
    "| 5       | 7         | 42            | 101           |\n",
    "| 2       | 4         | 6             | 38            |\n",
    "| 11      | 8         | 37            | 43            |\n",
    "| 15      | 8         | 108           | 82            |\n",
    "| 12      | 8         | 38            | 34            |\n",
    "| 14      | 1         | 90            | 74            |\n",
    "\n",
    "**Output:** \n",
    "| month | average_ride_distance | average_ride_duration |\n",
    "|-------|-----------------------|-----------------------|\n",
    "| 1     | 21.00                 | 12.67                 |\n",
    "| 2     | 21.00                 | 12.67                 |\n",
    "| 3     | 21.00                 | 12.67                 |\n",
    "| 4     | 24.33                 | 32.00                 |\n",
    "| 5     | 57.67                 | 41.33                 |\n",
    "| 6     | 97.33                 | 64.00                 |\n",
    "| 7     | 73.00                 | 32.00                 |\n",
    "| 8     | 39.67                 | 22.67                 |\n",
    "| 9     | 54.33                 | 64.33                 |\n",
    "| 10    | 56.33                 | 77.00                 |\n",
    "\n",
    "**Explanation:** \n",
    "- By the end of January --> average_ride_distance = (0+0+63)/3=21, average_ride_duration = (0+0+38)/3=12.67\n",
    "- By the end of February --> average_ride_distance = (0+63+0)/3=21, average_ride_duration = (0+38+0)/3=12.67\n",
    "- By the end of March --> average_ride_distance = (63+0+0)/3=21, average_ride_duration = (38+0+0)/3=12.67\n",
    "- By the end of April --> average_ride_distance = (0+0+73)/3=24.33, average_ride_duration = (0+0+96)/3=32.00\n",
    "- By the end of May --> average_ride_distance = (0+73+100)/3=57.67, average_ride_duration = (0+96+28)/3=41.33\n",
    "- By the end of June --> average_ride_distance = (73+100+119)/3=97.33, average_ride_duration = (96+28+68)/3=64.00\n",
    "- By the end of July --> average_ride_distance = (100+119+0)/3=73.00, average_ride_duration = (28+68+0)/3=32.00\n",
    "- By the end of August --> average_ride_distance = (119+0+0)/3=39.67, average_ride_duration = (68+0+0)/3=22.67\n",
    "- By the end of Septemeber --> average_ride_distance = (0+0+163)/3=54.33, average_ride_duration = (0+0+193)/3=64.33\n",
    "- By the end of October --> average_ride_distance = (0+163+6)/3=56.33, average_ride_duration = (0+193+38)/3=77.00"
   ]
  },
  {
   "cell_type": "code",
   "execution_count": 0,
   "metadata": {
    "application/vnd.databricks.v1+cell": {
     "cellMetadata": {
      "byteLimit": 2048000,
      "rowLimit": 10000
     },
     "inputWidgets": {},
     "nuid": "a762f84d-f622-4403-b695-4066e5bdbaf0",
     "showTitle": false,
     "tableResultSettingsMap": {},
     "title": ""
    }
   },
   "outputs": [
    {
     "output_type": "stream",
     "name": "stdout",
     "output_type": "stream",
     "text": [
      "+-------+---------+-------------+-------------+\n|ride_id|driver_id|ride_distance|ride_duration|\n+-------+---------+-------------+-------------+\n|     10|       10|           63|           38|\n|     13|       10|           73|           96|\n|      7|        8|          100|           28|\n|     17|        7|          119|           68|\n|     20|        1|          121|           92|\n|      5|        7|           42|          101|\n|      2|        4|            6|           38|\n|     11|        8|           37|           43|\n|     15|        8|          108|           82|\n|     12|        8|           38|           34|\n|     14|        1|           90|           74|\n+-------+---------+-------------+-------------+\n\n+-------+-------+------------+\n|ride_id|user_id|requested_at|\n+-------+-------+------------+\n|     10|     63|  2020-03-04|\n|     13|     52|  2020-06-22|\n|      7|     69|  2020-07-16|\n|     17|     70|  2020-08-25|\n|     20|     81|  2020-11-02|\n|      5|     57|  2020-11-09|\n|      2|     42|  2020-12-09|\n|     11|     68|  2021-01-11|\n|     15|     32|  2021-01-17|\n|     12|     11|  2021-01-19|\n|     14|     18|  2021-01-27|\n+-------+-------+------------+\n\n"
     ]
    }
   ],
   "source": [
    "accepted_rides_data_1651 = [\n",
    "    (10, 10, 63, 38), (13, 10, 73, 96), (7, 8, 100, 28),\n",
    "    (17, 7, 119, 68), (20, 1, 121, 92), (5, 7, 42, 101),\n",
    "    (2, 4, 6, 38), (11, 8, 37, 43), (15, 8, 108, 82),\n",
    "    (12, 8, 38, 34), (14, 1, 90, 74)\n",
    "]\n",
    "\n",
    "accepted_rides_columns_1651 = [\"ride_id\", \"driver_id\", \"ride_distance\", \"ride_duration\"]\n",
    "accepted_rides_df_1651 = spark.createDataFrame(accepted_rides_data_1651, accepted_rides_columns_1651)\n",
    "accepted_rides_df_1651.show()\n",
    "\n",
    "data_rides_1651 = [\n",
    "    (10, 63, \"2020-03-04\"), (13, 52, \"2020-06-22\"), (7, 69, \"2020-07-16\"),\n",
    "    (17, 70, \"2020-08-25\"), (20, 81, \"2020-11-02\"), (5, 57, \"2020-11-09\"),\n",
    "    (2, 42, \"2020-12-09\"), (11, 68, \"2021-01-11\"), (15, 32, \"2021-01-17\"),\n",
    "    (12, 11, \"2021-01-19\"), (14, 18, \"2021-01-27\")\n",
    "]\n",
    "\n",
    "columns_rides_1651 = [\"ride_id\", \"user_id\", \"requested_at\"]\n",
    "rides_df_1651 = spark.createDataFrame(data_rides_1651, columns_rides_1651)\n",
    "rides_df_1651.show()"
   ]
  },
  {
   "cell_type": "code",
   "execution_count": 0,
   "metadata": {
    "application/vnd.databricks.v1+cell": {
     "cellMetadata": {
      "byteLimit": 2048000,
      "rowLimit": 10000
     },
     "inputWidgets": {},
     "nuid": "ca7fc839-d4ba-4e80-8d94-08762bdb684b",
     "showTitle": false,
     "tableResultSettingsMap": {},
     "title": ""
    }
   },
   "outputs": [],
   "source": [
    "rides_2020_df_1651 = rides_df_1651\\\n",
    "                        .withColumn( \"requested_at\",\n",
    "                                    coalesce(\n",
    "                                        to_date(\"requested_at\", \"yyyy-MM-dd\"),\n",
    "                                        to_date(\"requested_at\", \"yyyy-M-d\")\n",
    "                                    )\n",
    "                                )\\\n",
    "                                    .filter(year(\"requested_at\") == 2020)\\\n",
    "                                        .withColumn(\"month\", month(\"requested_at\"))\\\n",
    "                                            .select(\"ride_id\", \"month\")"
   ]
  },
  {
   "cell_type": "code",
   "execution_count": 0,
   "metadata": {
    "application/vnd.databricks.v1+cell": {
     "cellMetadata": {
      "byteLimit": 2048000,
      "rowLimit": 10000
     },
     "inputWidgets": {},
     "nuid": "a214a11d-f742-49dd-8c82-ce7ef7e307d8",
     "showTitle": false,
     "tableResultSettingsMap": {},
     "title": ""
    }
   },
   "outputs": [],
   "source": [
    "accepted_2020_df_1651 = accepted_rides_df_1651\\\n",
    "                                .join(rides_2020_df_1651, on=\"ride_id\", how=\"inner\")"
   ]
  },
  {
   "cell_type": "code",
   "execution_count": 0,
   "metadata": {
    "application/vnd.databricks.v1+cell": {
     "cellMetadata": {
      "byteLimit": 2048000,
      "rowLimit": 10000
     },
     "inputWidgets": {},
     "nuid": "263f63ba-91b7-4be2-b472-ede18b99f80f",
     "showTitle": false,
     "tableResultSettingsMap": {},
     "title": ""
    }
   },
   "outputs": [],
   "source": [
    "monthly_totals_df_1651 = accepted_2020_df_1651\\\n",
    "                            .groupBy(\"month\")\\\n",
    "                                .agg(\n",
    "                                    sum(\"ride_distance\").alias(\"total_distance\"),\n",
    "                                    sum(\"ride_duration\").alias(\"total_duration\")\n",
    "                                    )"
   ]
  },
  {
   "cell_type": "code",
   "execution_count": 0,
   "metadata": {
    "application/vnd.databricks.v1+cell": {
     "cellMetadata": {
      "byteLimit": 2048000,
      "rowLimit": 10000
     },
     "inputWidgets": {},
     "nuid": "af94514f-f262-42ca-a280-be2a8ad3fd02",
     "showTitle": false,
     "tableResultSettingsMap": {},
     "title": ""
    }
   },
   "outputs": [],
   "source": [
    "months_df_1651 = spark.createDataFrame([(m,) for m in range(1, 13)], [\"month\"])\n",
    "\n",
    "monthly_full_df_1651 = months_df_1651\\\n",
    "                    .join(monthly_totals_df_1651, on=\"month\", how=\"left\")\\\n",
    "                        .na.fill({\"total_distance\": 0, \"total_duration\": 0}).orderBy(\"month\")\n"
   ]
  },
  {
   "cell_type": "code",
   "execution_count": 0,
   "metadata": {
    "application/vnd.databricks.v1+cell": {
     "cellMetadata": {
      "byteLimit": 2048000,
      "rowLimit": 10000
     },
     "inputWidgets": {},
     "nuid": "cb979d51-7086-4db3-96bf-6ff5a624a61b",
     "showTitle": false,
     "tableResultSettingsMap": {},
     "title": ""
    }
   },
   "outputs": [],
   "source": [
    "windowSpec = Window.orderBy(\"month\").rowsBetween(0, 2)"
   ]
  },
  {
   "cell_type": "code",
   "execution_count": 0,
   "metadata": {
    "application/vnd.databricks.v1+cell": {
     "cellMetadata": {
      "byteLimit": 2048000,
      "rowLimit": 10000
     },
     "inputWidgets": {},
     "nuid": "66ec2974-5f8b-4fa3-9260-53e68c288bdc",
     "showTitle": false,
     "tableResultSettingsMap": {},
     "title": ""
    }
   },
   "outputs": [
    {
     "output_type": "stream",
     "name": "stderr",
     "output_type": "stream",
     "text": [
      "/databricks/python/lib/python3.11/site-packages/pyspark/sql/connect/expressions.py:1017: UserWarning: WARN WindowExpression: No Partition Defined for Window operation! Moving all data to a single partition, this can cause serious performance degradation.\n  warnings.warn(\n"
     ]
    },
    {
     "output_type": "stream",
     "name": "stdout",
     "output_type": "stream",
     "text": [
      "+-----+---------------------+---------------------+\n|month|average_ride_distance|average_ride_duration|\n+-----+---------------------+---------------------+\n|    1|                 21.0|                12.67|\n|    2|                 21.0|                12.67|\n|    3|                 21.0|                12.67|\n|    4|                24.33|                 32.0|\n|    5|                57.67|                41.33|\n|    6|                97.33|                 64.0|\n|    7|                 73.0|                 32.0|\n|    8|                39.67|                22.67|\n|    9|                54.33|                64.33|\n|   10|                56.33|                 77.0|\n+-----+---------------------+---------------------+\n\n"
     ]
    }
   ],
   "source": [
    "monthly_full_df_1651\\\n",
    "    .withColumn(\"sum_dist_3m\", sum(\"total_distance\").over(windowSpec))\\\n",
    "        .withColumn(\"sum_dur_3m\",  sum(\"total_duration\").over(windowSpec))\\\n",
    "            .filter(F.col(\"month\") <= 10)\\\n",
    "                .select(\n",
    "                    col(\"month\"),\n",
    "                    round(col(\"sum_dist_3m\") / lit(3), 2).alias(\"average_ride_distance\"),\n",
    "                    round(col(\"sum_dur_3m\")  / lit(3), 2).alias(\"average_ride_duration\")\n",
    "                    )\\\n",
    "                        .orderBy(\"month\").show()"
   ]
  }
 ],
 "metadata": {
  "application/vnd.databricks.v1+notebook": {
   "computePreferences": {
    "hardware": {
     "accelerator": null,
     "gpuPoolId": null,
     "memory": null
    }
   },
   "dashboards": [],
   "environmentMetadata": {
    "base_environment": "",
    "environment_version": "2"
   },
   "inputWidgetPreferences": null,
   "language": "python",
   "notebookMetadata": {
    "pythonIndentUnit": 4
   },
   "notebookName": "1651. Hopper Company Queries III (Hard)-(Solved)",
   "widgets": {}
  },
  "language_info": {
   "name": "python"
  }
 },
 "nbformat": 4,
 "nbformat_minor": 0
}
