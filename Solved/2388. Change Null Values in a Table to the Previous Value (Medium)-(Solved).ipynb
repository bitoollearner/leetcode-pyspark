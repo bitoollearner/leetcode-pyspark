{
 "cells": [
  {
   "cell_type": "markdown",
   "metadata": {
    "application/vnd.databricks.v1+cell": {
     "cellMetadata": {},
     "inputWidgets": {},
     "nuid": "4e9d71b1-88e9-445c-820a-b842e217a4e7",
     "showTitle": false,
     "tableResultSettingsMap": {},
     "title": ""
    }
   },
   "source": [
    "## Importing Libraries"
   ]
  },
  {
   "cell_type": "code",
   "execution_count": 0,
   "metadata": {
    "application/vnd.databricks.v1+cell": {
     "cellMetadata": {},
     "inputWidgets": {},
     "nuid": "e6624c4d-8cb8-4ac4-8c72-81d1b4ecdb57",
     "showTitle": false,
     "tableResultSettingsMap": {},
     "title": ""
    }
   },
   "outputs": [],
   "source": [
    "from pyspark.sql.functions import *\n",
    "from pyspark.sql.types import *\n",
    "from pyspark.sql.window import Window"
   ]
  },
  {
   "cell_type": "markdown",
   "metadata": {
    "application/vnd.databricks.v1+cell": {
     "cellMetadata": {},
     "inputWidgets": {},
     "nuid": "c3788fe5-f4c9-420f-ad72-ec1a39310a2a",
     "showTitle": false,
     "tableResultSettingsMap": {},
     "title": ""
    }
   },
   "source": [
    "**2388. Change Null Values in a Table to the Previous Value (Medium)**\n",
    "\n",
    "**Table: CoffeeShop**\n",
    "\n",
    "| Column Name | Type    |\n",
    "|-------------|---------|\n",
    "| id          | int     |\n",
    "| drink       | varchar |\n",
    "\n",
    "id is the primary key (column with unique values) for this table.\n",
    "Each row in this table shows the order id and the name of the drink ordered. Some drink rows are nulls.\n",
    " \n",
    "**Write a solution to replace the null values of the drink with the name of the drink of the previous row that is not null. It is guaranteed that the drink on the first row of the table is not null.**\n",
    "\n",
    "Return the result table in the same order as the input.\n",
    "\n",
    "The result format is shown in the following example.\n",
    "\n",
    "**Example 1:**\n",
    "\n",
    "**Input:** \n",
    "\n",
    "**CoffeeShop table:**\n",
    "| id | drink             |\n",
    "|----|-------------------|\n",
    "| 9  | Rum and Coke      |\n",
    "| 6  | null              |\n",
    "| 7  | null              |\n",
    "| 3  | St Germain Spritz |\n",
    "| 1  | Orange Margarita  |\n",
    "| 2  | null              |\n",
    "\n",
    "**Output:** \n",
    "| id | drink             |\n",
    "|----|-------------------|\n",
    "| 9  | Rum and Coke      |\n",
    "| 6  | Rum and Coke      |\n",
    "| 7  | Rum and Coke      |\n",
    "| 3  | St Germain Spritz |\n",
    "| 1  | Orange Margarita  |\n",
    "| 2  | Orange Margarita  |\n",
    "\n",
    "**Explanation:** \n",
    "\n",
    "- For ID 6, the previous value that is not null is from ID 9. We replace the null with \"Rum and Coke\".\n",
    "- For ID 7, the previous value that is not null is from ID 9. We replace the null with \"Rum and Coke;.\n",
    "- For ID 2, the previous value that is not null is from ID 1. We replace the null with \"Orange Margarita\".\n",
    "\n",
    "Note that the rows in the output are the same as in the input.\n"
   ]
  },
  {
   "cell_type": "code",
   "execution_count": 0,
   "metadata": {
    "application/vnd.databricks.v1+cell": {
     "cellMetadata": {},
     "inputWidgets": {},
     "nuid": "137536ea-9bec-4171-8dc2-4bf8b0d771b4",
     "showTitle": false,
     "tableResultSettingsMap": {},
     "title": ""
    }
   },
   "outputs": [],
   "source": [
    "coffee_data_2388 = [\n",
    "    (9, \"Rum and Coke\"),\n",
    "    (6, None),\n",
    "    (7, None),\n",
    "    (3, \"St Germain Spritz\"),\n",
    "    (1, \"Orange Margarita\"),\n",
    "    (2, None),\n",
    "]\n",
    "\n",
    "coffee_columns_2388 = [\"id\", \"drink\"]\n",
    "coffee_df_2388 = spark.createDataFrame(coffee_data_2388, coffee_columns_2388)\n",
    "coffee_df_2388.show()"
   ]
  }
 ],
 "metadata": {
  "application/vnd.databricks.v1+notebook": {
   "computePreferences": null,
   "dashboards": [],
   "environmentMetadata": {
    "base_environment": "",
    "environment_version": "1"
   },
   "inputWidgetPreferences": null,
   "language": "python",
   "notebookMetadata": {
    "pythonIndentUnit": 4
   },
   "notebookName": "2388. Change Null Values in a Table to the Previous Value (Medium)-(Solved)",
   "widgets": {}
  },
  "language_info": {
   "name": "python"
  }
 },
 "nbformat": 4,
 "nbformat_minor": 0
}
