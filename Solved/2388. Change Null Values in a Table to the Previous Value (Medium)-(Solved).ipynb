{
 "cells": [
  {
   "cell_type": "markdown",
   "metadata": {
    "application/vnd.databricks.v1+cell": {
     "cellMetadata": {
      "byteLimit": 2048000,
      "rowLimit": 10000
     },
     "inputWidgets": {},
     "nuid": "4e9d71b1-88e9-445c-820a-b842e217a4e7",
     "showTitle": false,
     "tableResultSettingsMap": {},
     "title": ""
    }
   },
   "source": [
    "## Importing Libraries"
   ]
  },
  {
   "cell_type": "code",
   "execution_count": 0,
   "metadata": {
    "application/vnd.databricks.v1+cell": {
     "cellMetadata": {
      "byteLimit": 2048000,
      "rowLimit": 10000
     },
     "inputWidgets": {},
     "nuid": "e6624c4d-8cb8-4ac4-8c72-81d1b4ecdb57",
     "showTitle": false,
     "tableResultSettingsMap": {},
     "title": ""
    }
   },
   "outputs": [],
   "source": [
    "from pyspark.sql.functions import *\n",
    "from pyspark.sql.types import *\n",
    "from pyspark.sql.window import Window"
   ]
  },
  {
   "cell_type": "markdown",
   "metadata": {
    "application/vnd.databricks.v1+cell": {
     "cellMetadata": {
      "byteLimit": 2048000,
      "rowLimit": 10000
     },
     "inputWidgets": {},
     "nuid": "c3788fe5-f4c9-420f-ad72-ec1a39310a2a",
     "showTitle": false,
     "tableResultSettingsMap": {},
     "title": ""
    }
   },
   "source": [
    "**2388. Change Null Values in a Table to the Previous Value (Medium)**\n",
    "\n",
    "**Table: CoffeeShop**\n",
    "\n",
    "| Column Name | Type    |\n",
    "|-------------|---------|\n",
    "| id          | int     |\n",
    "| drink       | varchar |\n",
    "\n",
    "id is the primary key (column with unique values) for this table.\n",
    "Each row in this table shows the order id and the name of the drink ordered. Some drink rows are nulls.\n",
    " \n",
    "**Write a solution to replace the null values of the drink with the name of the drink of the previous row that is not null. It is guaranteed that the drink on the first row of the table is not null.**\n",
    "\n",
    "Return the result table in the same order as the input.\n",
    "\n",
    "The result format is shown in the following example.\n",
    "\n",
    "**Example 1:**\n",
    "\n",
    "**Input:** \n",
    "\n",
    "**CoffeeShop table:**\n",
    "| id | drink             |\n",
    "|----|-------------------|\n",
    "| 9  | Rum and Coke      |\n",
    "| 6  | null              |\n",
    "| 7  | null              |\n",
    "| 3  | St Germain Spritz |\n",
    "| 1  | Orange Margarita  |\n",
    "| 2  | null              |\n",
    "\n",
    "**Output:** \n",
    "| id | drink             |\n",
    "|----|-------------------|\n",
    "| 9  | Rum and Coke      |\n",
    "| 6  | Rum and Coke      |\n",
    "| 7  | Rum and Coke      |\n",
    "| 3  | St Germain Spritz |\n",
    "| 1  | Orange Margarita  |\n",
    "| 2  | Orange Margarita  |\n",
    "\n",
    "**Explanation:** \n",
    "\n",
    "- For ID 6, the previous value that is not null is from ID 9. We replace the null with \"Rum and Coke\".\n",
    "- For ID 7, the previous value that is not null is from ID 9. We replace the null with \"Rum and Coke;.\n",
    "- For ID 2, the previous value that is not null is from ID 1. We replace the null with \"Orange Margarita\".\n",
    "\n",
    "Note that the rows in the output are the same as in the input.\n"
   ]
  },
  {
   "cell_type": "code",
   "execution_count": 0,
   "metadata": {
    "application/vnd.databricks.v1+cell": {
     "cellMetadata": {
      "byteLimit": 2048000,
      "rowLimit": 10000
     },
     "inputWidgets": {},
     "nuid": "137536ea-9bec-4171-8dc2-4bf8b0d771b4",
     "showTitle": false,
     "tableResultSettingsMap": {},
     "title": ""
    }
   },
   "outputs": [
    {
     "output_type": "stream",
     "name": "stdout",
     "output_type": "stream",
     "text": [
      "+---+-----------------+\n| id|            drink|\n+---+-----------------+\n|  9|     Rum and Coke|\n|  6|             NULL|\n|  7|             NULL|\n|  3|St Germain Spritz|\n|  1| Orange Margarita|\n|  2|             NULL|\n+---+-----------------+\n\n"
     ]
    }
   ],
   "source": [
    "coffee_data_2388 = [\n",
    "    (9, \"Rum and Coke\"),\n",
    "    (6, None),\n",
    "    (7, None),\n",
    "    (3, \"St Germain Spritz\"),\n",
    "    (1, \"Orange Margarita\"),\n",
    "    (2, None),\n",
    "]\n",
    "\n",
    "coffee_columns_2388 = [\"id\", \"drink\"]\n",
    "coffee_df_2388 = spark.createDataFrame(coffee_data_2388, coffee_columns_2388)\n",
    "coffee_df_2388.show()"
   ]
  },
  {
   "cell_type": "code",
   "execution_count": 0,
   "metadata": {
    "application/vnd.databricks.v1+cell": {
     "cellMetadata": {
      "byteLimit": 2048000,
      "rowLimit": 10000
     },
     "inputWidgets": {},
     "nuid": "6f57c00c-ffb9-479b-89bc-72b7afc288c8",
     "showTitle": false,
     "tableResultSettingsMap": {},
     "title": ""
    }
   },
   "outputs": [],
   "source": [
    "coffee_df_2388 = coffee_df_2388.withColumn(\"row_order\", monotonically_increasing_id())"
   ]
  },
  {
   "cell_type": "code",
   "execution_count": 0,
   "metadata": {
    "application/vnd.databricks.v1+cell": {
     "cellMetadata": {
      "byteLimit": 2048000,
      "rowLimit": 10000
     },
     "inputWidgets": {},
     "nuid": "41b8fb5b-e9c8-46d3-a358-4294ba08cdf5",
     "showTitle": false,
     "tableResultSettingsMap": {},
     "title": ""
    }
   },
   "outputs": [],
   "source": [
    "window_spec = Window.orderBy(\"row_order\").rowsBetween(Window.unboundedPreceding, 0)"
   ]
  },
  {
   "cell_type": "code",
   "execution_count": 0,
   "metadata": {
    "application/vnd.databricks.v1+cell": {
     "cellMetadata": {
      "byteLimit": 2048000,
      "rowLimit": 10000
     },
     "inputWidgets": {},
     "nuid": "59d0d1d6-c17a-43ff-9c3f-63472bc59f8d",
     "showTitle": false,
     "tableResultSettingsMap": {
      "0": {
       "dataGridStateBlob": "{\"version\":1,\"tableState\":{\"columnPinning\":{\"left\":[\"#row_number#\"],\"right\":[]},\"columnSizing\":{\"drink\":143},\"columnVisibility\":{}},\"settings\":{\"columns\":{}},\"syncTimestamp\":1756699932868}",
       "filterBlob": null,
       "queryPlanFiltersBlob": null,
       "tableResultIndex": 0
      }
     },
     "title": ""
    }
   },
   "outputs": [
    {
     "output_type": "display_data",
     "data": {
      "text/html": [
       "<style scoped>\n",
       "  .table-result-container {\n",
       "    max-height: 300px;\n",
       "    overflow: auto;\n",
       "  }\n",
       "  table, th, td {\n",
       "    border: 1px solid black;\n",
       "    border-collapse: collapse;\n",
       "  }\n",
       "  th, td {\n",
       "    padding: 5px;\n",
       "  }\n",
       "  th {\n",
       "    text-align: left;\n",
       "  }\n",
       "</style><div class='table-result-container'><table class='table-result'><thead style='background-color: white'><tr><th>id</th><th>drink</th></tr></thead><tbody><tr><td>9</td><td>Rum and Coke</td></tr><tr><td>6</td><td>Rum and Coke</td></tr><tr><td>7</td><td>Rum and Coke</td></tr><tr><td>3</td><td>St Germain Spritz</td></tr><tr><td>1</td><td>Orange Margarita</td></tr><tr><td>2</td><td>Orange Margarita</td></tr></tbody></table></div>"
      ]
     },
     "metadata": {
      "application/vnd.databricks.v1+output": {
       "addedWidgets": {},
       "aggData": [],
       "aggError": "",
       "aggOverflow": false,
       "aggSchema": [],
       "aggSeriesLimitReached": false,
       "aggType": "",
       "arguments": {},
       "columnCustomDisplayInfos": {},
       "data": [
        [
         9,
         "Rum and Coke"
        ],
        [
         6,
         "Rum and Coke"
        ],
        [
         7,
         "Rum and Coke"
        ],
        [
         3,
         "St Germain Spritz"
        ],
        [
         1,
         "Orange Margarita"
        ],
        [
         2,
         "Orange Margarita"
        ]
       ],
       "datasetInfos": [],
       "dbfsResultPath": null,
       "isJsonSchema": true,
       "metadata": {},
       "overflow": false,
       "plotOptions": {
        "customPlotOptions": {},
        "displayType": "table",
        "pivotAggregation": null,
        "pivotColumns": null,
        "xColumns": null,
        "yColumns": null
       },
       "removedWidgets": [],
       "schema": [
        {
         "metadata": "{}",
         "name": "id",
         "type": "\"long\""
        },
        {
         "metadata": "{}",
         "name": "drink",
         "type": "\"string\""
        }
       ],
       "type": "table"
      }
     },
     "output_type": "display_data"
    }
   ],
   "source": [
    "coffee_df_2388\\\n",
    "    .withColumn(\"drink\", last(\"drink\", ignorenulls=True).over(window_spec)) \\\n",
    "        .select(\"id\", \"drink\").display()"
   ]
  }
 ],
 "metadata": {
  "application/vnd.databricks.v1+notebook": {
   "computePreferences": {
    "hardware": {
     "accelerator": null,
     "gpuPoolId": null,
     "memory": null
    }
   },
   "dashboards": [],
   "environmentMetadata": {
    "base_environment": "",
    "environment_version": "2"
   },
   "inputWidgetPreferences": null,
   "language": "python",
   "notebookMetadata": {
    "pythonIndentUnit": 4
   },
   "notebookName": "2388. Change Null Values in a Table to the Previous Value (Medium)-(Solved)",
   "widgets": {}
  },
  "language_info": {
   "name": "python"
  }
 },
 "nbformat": 4,
 "nbformat_minor": 0
}
