{
 "cells": [
  {
   "cell_type": "markdown",
   "metadata": {
    "application/vnd.databricks.v1+cell": {
     "cellMetadata": {},
     "inputWidgets": {},
     "nuid": "4e9d71b1-88e9-445c-820a-b842e217a4e7",
     "showTitle": false,
     "tableResultSettingsMap": {},
     "title": ""
    }
   },
   "source": [
    "## Importing Libraries"
   ]
  },
  {
   "cell_type": "code",
   "execution_count": 0,
   "metadata": {
    "application/vnd.databricks.v1+cell": {
     "cellMetadata": {},
     "inputWidgets": {},
     "nuid": "e6624c4d-8cb8-4ac4-8c72-81d1b4ecdb57",
     "showTitle": false,
     "tableResultSettingsMap": {},
     "title": ""
    }
   },
   "outputs": [],
   "source": [
    "from pyspark.sql.functions import *\n",
    "from pyspark.sql.types import *\n",
    "from pyspark.sql.window import Window"
   ]
  },
  {
   "cell_type": "markdown",
   "metadata": {
    "application/vnd.databricks.v1+cell": {
     "cellMetadata": {},
     "inputWidgets": {},
     "nuid": "c3788fe5-f4c9-420f-ad72-ec1a39310a2a",
     "showTitle": false,
     "tableResultSettingsMap": {},
     "title": ""
    }
   },
   "source": [
    "**2394. Employees With Deductions (Medium)**\n",
    "\n",
    "**Table: Employees**\n",
    "\n",
    "| Column Name  | Type |\n",
    "|--------------|------|\n",
    "| employee_id  | int  |\n",
    "| needed_hours | int  |\n",
    "\n",
    "employee_id is column with unique values for this table.\n",
    "Each row contains the id of an employee and the minimum number of hours needed for them to work to get their salary.\n",
    " \n",
    "\n",
    "**Table: Logs**\n",
    "| Column Name | Type     |\n",
    "|-------------|----------|\n",
    "| employee_id | int      |\n",
    "| in_time     | datetime |\n",
    "| out_time    | datetime |\n",
    "\n",
    "(employee_id, in_time, out_time) is the primary key (combination of columns with unique values) for this table.\n",
    "Each row of this table shows the time stamps for an employee. in_time is the time the employee started to work, and out_time is the time the employee ended work.\n",
    "All the times are in October 2022. out_time can be one day after in_time which means the employee worked after the midnight.\n",
    " \n",
    "In a company, each employee must work a certain number of hours every month. Employees work in sessions. The number of hours an employee worked can be calculated from the sum of the number of minutes the employee worked in all of their sessions. The number of minutes in each session is rounded up.\n",
    "\n",
    "For example, if the employee worked for 51 minutes and 2 seconds in a session, we consider it 52 minutes.\n",
    "\n",
    "**Write a solution to report the IDs of the employees that will be deducted. In other words, report the IDs of the employees that did not work the needed hours.**\n",
    "\n",
    "Return the result table in any order.\n",
    "\n",
    "The result format is in the following example.\n",
    "\n",
    "**Example 1:**\n",
    "\n",
    "**Input:** \n",
    "\n",
    "**Employees table:**\n",
    "\n",
    "| employee_id | needed_hours |\n",
    "|-------------|--------------|\n",
    "| 1           | 20           |\n",
    "| 2           | 12           |\n",
    "| 3           | 2            |\n",
    "\n",
    "**Logs table:**\n",
    "| employee_id | in_time             | out_time            |\n",
    "|-------------|---------------------|---------------------|\n",
    "| 1           | 2022-10-01 09:00:00 | 2022-10-01 17:00:00 |\n",
    "| 1           | 2022-10-06 09:05:04 | 2022-10-06 17:09:03 |\n",
    "| 1           | 2022-10-12 23:00:00 | 2022-10-13 03:00:01 |\n",
    "| 2           | 2022-10-29 12:00:00 | 2022-10-29 23:58:58 |\n",
    "\n",
    "**Output:** \n",
    "| employee_id |\n",
    "|-------------|\n",
    "| 2           |\n",
    "| 3           |\n",
    "\n",
    "**Explanation:** \n",
    "- Employee 1:\n",
    "  - Worked for three sessions:\n",
    "    - On 2022-10-01, they worked for 8 hours.\n",
    "    - On 2022-10-06, they worked for 8 hours and 4 minutes.\n",
    "    - On 2022-10-12, they worked for 4 hours and 1 minute. Note that they worked through midnight.\n",
    "  - Employee 1 worked a total of 20 hours and 5 minutes across sessions and will not be deducted.\n",
    "- Employee 2:\n",
    "  - Worked for one session:\n",
    "    - On 2022-10-29, they worked for 11 hours and 59 minutes.\n",
    "  - Employee 2 did not work their hours and will be deducted.\n",
    "- Employee 3:\n",
    "  - Did not work any session.\n",
    "  - Employee 3 did not work their hours and will be deducted."
   ]
  },
  {
   "cell_type": "code",
   "execution_count": 0,
   "metadata": {
    "application/vnd.databricks.v1+cell": {
     "cellMetadata": {},
     "inputWidgets": {},
     "nuid": "137536ea-9bec-4171-8dc2-4bf8b0d771b4",
     "showTitle": false,
     "tableResultSettingsMap": {},
     "title": ""
    }
   },
   "outputs": [],
   "source": [
    "employees_data_2394 = [\n",
    "    (1, 20),\n",
    "    (2, 12),\n",
    "    (3, 2)\n",
    "]\n",
    "\n",
    "employees_columns_2394 = [\"employee_id\", \"needed_hours\"]\n",
    "employees_df_2394 = spark.createDataFrame(employees_data_2394, employees_columns_2394)\n",
    "employees_df_2394.show()\n",
    "\n",
    "logs_data_2394 = [\n",
    "    (1, \"2022-10-01 09:00:00\", \"2022-10-01 17:00:00\"),\n",
    "    (1, \"2022-10-06 09:05:04\", \"2022-10-06 17:09:03\"),\n",
    "    (1, \"2022-10-12 23:00:00\", \"2022-10-13 03:00:01\"),\n",
    "    (2, \"2022-10-29 12:00:00\", \"2022-10-29 23:58:58\")\n",
    "]\n",
    "\n",
    "logs_columns_2394 = [\"employee_id\", \"in_time\", \"out_time\"]\n",
    "logs_df_2394 = spark.createDataFrame(logs_data_2394, logs_columns_2394)\n",
    "logs_df_2394.show()"
   ]
  }
 ],
 "metadata": {
  "application/vnd.databricks.v1+notebook": {
   "computePreferences": null,
   "dashboards": [],
   "environmentMetadata": {
    "base_environment": "",
    "environment_version": "1"
   },
   "inputWidgetPreferences": null,
   "language": "python",
   "notebookMetadata": {
    "pythonIndentUnit": 4
   },
   "notebookName": "2394. Employees With Deductions (Medium)-(Solved)",
   "widgets": {}
  },
  "language_info": {
   "name": "python"
  }
 },
 "nbformat": 4,
 "nbformat_minor": 0
}
