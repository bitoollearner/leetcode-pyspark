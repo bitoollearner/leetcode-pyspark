{
 "cells": [
  {
   "cell_type": "markdown",
   "metadata": {
    "application/vnd.databricks.v1+cell": {
     "cellMetadata": {},
     "inputWidgets": {},
     "nuid": "24f8e8c0-d56b-4821-a900-bbe934dce4d7",
     "showTitle": false,
     "tableResultSettingsMap": {},
     "title": ""
    }
   },
   "source": [
    "## Importing Libraries"
   ]
  },
  {
   "cell_type": "code",
   "execution_count": 0,
   "metadata": {
    "application/vnd.databricks.v1+cell": {
     "cellMetadata": {},
     "inputWidgets": {},
     "nuid": "243b190c-af0b-4bd1-9507-8e2be2fceca3",
     "showTitle": false,
     "tableResultSettingsMap": {},
     "title": ""
    }
   },
   "outputs": [],
   "source": [
    "from pyspark.sql.functions import *\n",
    "from pyspark.sql.types import *\n",
    "from pyspark.sql.window import Window"
   ]
  },
  {
   "cell_type": "markdown",
   "metadata": {
    "application/vnd.databricks.v1+cell": {
     "cellMetadata": {},
     "inputWidgets": {},
     "nuid": "2d9dc49c-3f2c-4ff6-8e98-5e72a86b1bac",
     "showTitle": false,
     "tableResultSettingsMap": {},
     "title": ""
    }
   },
   "source": [
    "**1421. NPV Queries (Easy)**\n",
    "\n",
    "**Table: NPV**\n",
    "\n",
    "| Column Name   | Type    |\n",
    "|---------------|---------|\n",
    "| id            | int     |\n",
    "| year          | int     |\n",
    "| npv           | int     |\n",
    "\n",
    "(id, year) is the primary key (combination of columns with unique values) of this table.\n",
    "The table has information about the id and the year of each inventory and the corresponding net present value.\n",
    " \n",
    "**Table: Queries**\n",
    "\n",
    "| Column Name   | Type    |\n",
    "|---------------|---------|\n",
    "| id            | int     |\n",
    "| year          | int     |\n",
    "\n",
    "(id, year) is the primary key (combination of columns with unique values) of this table.\n",
    "The table has information about the id and the year of each inventory query.\n",
    " \n",
    "**Write a solution to find the npv of each query of the Queries table.**\n",
    "\n",
    "Return the result table in any order.\n",
    "\n",
    "The result format is in the following example.\n",
    "\n",
    "**Example 1:**\n",
    "\n",
    "**Input:** \n",
    "\n",
    "**NPV table:**\n",
    "| id   | year   | npv    |\n",
    "|------|--------|--------|\n",
    "| 1    | 2018   | 100    |\n",
    "| 7    | 2020   | 30     |\n",
    "| 13   | 2019   | 40     |\n",
    "| 1    | 2019   | 113    |\n",
    "| 2    | 2008   | 121    |\n",
    "| 3    | 2009   | 12     |\n",
    "| 11   | 2020   | 99     |\n",
    "| 7    | 2019   | 0      |\n",
    "\n",
    "**Queries table:**\n",
    "| id   | year   |\n",
    "|------|--------|\n",
    "| 1    | 2019   |\n",
    "| 2    | 2008   |\n",
    "| 3    | 2009   |\n",
    "| 7    | 2018   |\n",
    "| 7    | 2019   |\n",
    "| 7    | 2020   |\n",
    "| 13   | 2019   |\n",
    "\n",
    "**Output:** \n",
    "| id   | year   | npv    |\n",
    "|------|--------|--------|\n",
    "| 1    | 2019   | 113    |\n",
    "| 2    | 2008   | 121    |\n",
    "| 3    | 2009   | 12     |\n",
    "| 7    | 2018   | 0      |\n",
    "| 7    | 2019   | 0      |\n",
    "| 7    | 2020   | 30     |\n",
    "| 13   | 2019   | 40     |\n",
    "\n",
    "**Explanation:** \n",
    "- The npv value of (7, 2018) is not present in the NPV table, we consider it 0.\n",
    "- The npv values of all other queries can be found in the NPV table."
   ]
  },
  {
   "cell_type": "code",
   "execution_count": 0,
   "metadata": {
    "application/vnd.databricks.v1+cell": {
     "cellMetadata": {},
     "inputWidgets": {},
     "nuid": "5d66d20c-58e2-4ee9-8356-d736216372c3",
     "showTitle": false,
     "tableResultSettingsMap": {},
     "title": ""
    }
   },
   "outputs": [],
   "source": [
    "npv_data_1421 = [\n",
    "    (1, 2018, 100),\n",
    "    (7, 2020, 30),\n",
    "    (13, 2019, 40),\n",
    "    (1, 2019, 113),\n",
    "    (2, 2008, 121),\n",
    "    (3, 2009, 12),\n",
    "    (11, 2020, 99),\n",
    "    (7, 2019, 0)\n",
    "]\n",
    "\n",
    "npv_columns_1421 = [\"id\", \"year\", \"npv\"]\n",
    "npv_df_1421 = spark.createDataFrame(npv_data_1421, npv_columns_1421)\n",
    "npv_df_1421.show()\n",
    "\n",
    "queries_data_1421 = [\n",
    "    (1, 2019),\n",
    "    (2, 2008),\n",
    "    (3, 2009),\n",
    "    (7, 2018),\n",
    "    (7, 2019),\n",
    "    (7, 2020),\n",
    "    (13, 2019)\n",
    "]\n",
    "\n",
    "queries_columns_1421 = [\"id\", \"year\"]\n",
    "queries_df_1421 = spark.createDataFrame(queries_data_1421, queries_columns_1421)\n",
    "queries_df_1421.show()"
   ]
  }
 ],
 "metadata": {
  "application/vnd.databricks.v1+notebook": {
   "computePreferences": null,
   "dashboards": [],
   "environmentMetadata": {
    "base_environment": "",
    "environment_version": "1"
   },
   "inputWidgetPreferences": null,
   "language": "python",
   "notebookMetadata": {
    "pythonIndentUnit": 4
   },
   "notebookName": "1421. NPV Queries (Easy)-(Solved)",
   "widgets": {}
  },
  "language_info": {
   "name": "python"
  }
 },
 "nbformat": 4,
 "nbformat_minor": 0
}
