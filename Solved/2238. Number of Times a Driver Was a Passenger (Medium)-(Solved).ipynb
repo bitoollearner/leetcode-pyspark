{
 "cells": [
  {
   "cell_type": "markdown",
   "metadata": {
    "application/vnd.databricks.v1+cell": {
     "cellMetadata": {
      "byteLimit": 2048000,
      "rowLimit": 10000
     },
     "inputWidgets": {},
     "nuid": "a23f6d56-6d8d-44bc-b796-cedda9e17c21",
     "showTitle": false,
     "tableResultSettingsMap": {},
     "title": ""
    }
   },
   "source": [
    "## Importing Libraries"
   ]
  },
  {
   "cell_type": "code",
   "execution_count": 0,
   "metadata": {
    "application/vnd.databricks.v1+cell": {
     "cellMetadata": {
      "byteLimit": 2048000,
      "rowLimit": 10000
     },
     "inputWidgets": {},
     "nuid": "0a69d78b-43d7-4f9e-a05d-026985c2539f",
     "showTitle": false,
     "tableResultSettingsMap": {},
     "title": ""
    }
   },
   "outputs": [],
   "source": [
    "from pyspark.sql.functions import *\n",
    "from pyspark.sql.types import *\n",
    "from pyspark.sql.window import Window"
   ]
  },
  {
   "cell_type": "markdown",
   "metadata": {
    "application/vnd.databricks.v1+cell": {
     "cellMetadata": {
      "byteLimit": 2048000,
      "rowLimit": 10000
     },
     "inputWidgets": {},
     "nuid": "2a54b88b-06bd-43e4-978a-c0c5d33ca5bb",
     "showTitle": false,
     "tableResultSettingsMap": {},
     "title": ""
    }
   },
   "source": [
    "**2238. Number of Times a Driver Was a Passenger (Medium)**\n",
    "\n",
    "**Table: Rides**\n",
    "\n",
    "| Column Name  | Type |\n",
    "|--------------|------|\n",
    "| ride_id      | int  |\n",
    "| driver_id    | int  |\n",
    "| passenger_id | int  |\n",
    "\n",
    "ride_id is the column with unique values for this table.\n",
    "Each row of this table contains the ID of the driver and the ID of the passenger that rode in ride_id.\n",
    "Note that driver_id != passenger_id.\n",
    " \n",
    "**Write a solution to report the ID of each driver and the number of times they were a passenger.**\n",
    "\n",
    "Return the result table in any order.\n",
    "\n",
    "The result format is in the following example.\n",
    "\n",
    "**Example 1:**\n",
    "\n",
    "**Input:** \n",
    "\n",
    "**Rides table:**\n",
    "\n",
    "| ride_id | driver_id | passenger_id |\n",
    "|---------|-----------|--------------|\n",
    "| 1       | 7         | 1            |\n",
    "| 2       | 7         | 2            |\n",
    "| 3       | 11        | 1            |\n",
    "| 4       | 11        | 7            |\n",
    "| 5       | 11        | 7            |\n",
    "| 6       | 11        | 3            |\n",
    "\n",
    "**Output:** \n",
    "| driver_id | cnt |\n",
    "|-----------|-----|\n",
    "| 7         | 2   |\n",
    "| 11        | 0   |\n",
    "\n",
    "**Explanation:** \n",
    "- There are two drivers in all the given rides: 7 and 11.\n",
    "- The driver with ID = 7 was a passenger two times.\n",
    "- The driver with ID = 11 was never a passenger."
   ]
  },
  {
   "cell_type": "code",
   "execution_count": 0,
   "metadata": {
    "application/vnd.databricks.v1+cell": {
     "cellMetadata": {
      "byteLimit": 2048000,
      "rowLimit": 10000
     },
     "inputWidgets": {},
     "nuid": "c260f510-542b-4067-a6f4-ffed86995056",
     "showTitle": false,
     "tableResultSettingsMap": {},
     "title": ""
    }
   },
   "outputs": [
    {
     "output_type": "stream",
     "name": "stdout",
     "output_type": "stream",
     "text": [
      "+-------+---------+------------+\n|ride_id|driver_id|passenger_id|\n+-------+---------+------------+\n|      1|        7|           1|\n|      2|        7|           2|\n|      3|       11|           1|\n|      4|       11|           7|\n|      5|       11|           7|\n|      6|       11|           3|\n+-------+---------+------------+\n\n"
     ]
    }
   ],
   "source": [
    "rides_data_2238 = [\n",
    "    (1, 7, 1),\n",
    "    (2, 7, 2),\n",
    "    (3, 11, 1),\n",
    "    (4, 11, 7),\n",
    "    (5, 11, 7),\n",
    "    (6, 11, 3),\n",
    "]\n",
    "\n",
    "rides_columns_2238 = [\"ride_id\", \"driver_id\", \"passenger_id\"]\n",
    "rides_df_2238 = spark.createDataFrame(rides_data_2238, rides_columns_2238)\n",
    "rides_df_2238.show()"
   ]
  },
  {
   "cell_type": "code",
   "execution_count": 0,
   "metadata": {
    "application/vnd.databricks.v1+cell": {
     "cellMetadata": {
      "byteLimit": 2048000,
      "rowLimit": 10000
     },
     "inputWidgets": {},
     "nuid": "13f3b83e-4fe6-4c52-bc22-37dd23c8a36e",
     "showTitle": false,
     "tableResultSettingsMap": {},
     "title": ""
    }
   },
   "outputs": [],
   "source": [
    "drivers_df_2238 = rides_df_2238.select(\"driver_id\").distinct()"
   ]
  },
  {
   "cell_type": "code",
   "execution_count": 0,
   "metadata": {
    "application/vnd.databricks.v1+cell": {
     "cellMetadata": {
      "byteLimit": 2048000,
      "rowLimit": 10000
     },
     "inputWidgets": {},
     "nuid": "3cc7ccb4-5072-4eab-9672-5e5c9e45536b",
     "showTitle": false,
     "tableResultSettingsMap": {},
     "title": ""
    }
   },
   "outputs": [],
   "source": [
    "passenger_counts_2238 = rides_df_2238\\\n",
    "                            .groupBy(\"passenger_id\").count() \\\n",
    "                                .withColumnRenamed(\"passenger_id\", \"driver_id\") \\\n",
    "                                    .withColumnRenamed(\"count\", \"cnt\")"
   ]
  },
  {
   "cell_type": "code",
   "execution_count": 0,
   "metadata": {
    "application/vnd.databricks.v1+cell": {
     "cellMetadata": {
      "byteLimit": 2048000,
      "rowLimit": 10000
     },
     "inputWidgets": {},
     "nuid": "9c241600-ff85-4b57-ac32-4eb8f1074e94",
     "showTitle": false,
     "tableResultSettingsMap": {},
     "title": ""
    }
   },
   "outputs": [
    {
     "output_type": "stream",
     "name": "stdout",
     "output_type": "stream",
     "text": [
      "+---------+---+\n|driver_id|cnt|\n+---------+---+\n|        7|  2|\n|       11|  0|\n+---------+---+\n\n"
     ]
    }
   ],
   "source": [
    "drivers_df_2238\\\n",
    "    .join(passenger_counts_2238, on=\"driver_id\", how=\"left\") \\\n",
    "        .fillna(0, subset=[\"cnt\"]) \\\n",
    "            .orderBy(\"driver_id\").show()"
   ]
  }
 ],
 "metadata": {
  "application/vnd.databricks.v1+notebook": {
   "computePreferences": {
    "hardware": {
     "accelerator": null,
     "gpuPoolId": null,
     "memory": null
    }
   },
   "dashboards": [],
   "environmentMetadata": {
    "base_environment": "",
    "environment_version": "2"
   },
   "inputWidgetPreferences": null,
   "language": "python",
   "notebookMetadata": {
    "pythonIndentUnit": 4
   },
   "notebookName": "2238. Number of Times a Driver Was a Passenger (Medium)-(Solved)",
   "widgets": {}
  },
  "language_info": {
   "name": "python"
  }
 },
 "nbformat": 4,
 "nbformat_minor": 0
}
