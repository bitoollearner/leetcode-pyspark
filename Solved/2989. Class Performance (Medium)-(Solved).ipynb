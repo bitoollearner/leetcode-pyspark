{
 "cells": [
  {
   "cell_type": "markdown",
   "metadata": {
    "application/vnd.databricks.v1+cell": {
     "cellMetadata": {
      "byteLimit": 2048000,
      "rowLimit": 10000
     },
     "inputWidgets": {},
     "nuid": "4e9d71b1-88e9-445c-820a-b842e217a4e7",
     "showTitle": false,
     "tableResultSettingsMap": {},
     "title": ""
    }
   },
   "source": [
    "## Importing Libraries"
   ]
  },
  {
   "cell_type": "code",
   "execution_count": 0,
   "metadata": {
    "application/vnd.databricks.v1+cell": {
     "cellMetadata": {
      "byteLimit": 2048000,
      "rowLimit": 10000
     },
     "inputWidgets": {},
     "nuid": "e6624c4d-8cb8-4ac4-8c72-81d1b4ecdb57",
     "showTitle": false,
     "tableResultSettingsMap": {},
     "title": ""
    }
   },
   "outputs": [],
   "source": [
    "from pyspark.sql.functions import *\n",
    "from pyspark.sql.types import *\n",
    "from pyspark.sql.window import Window"
   ]
  },
  {
   "cell_type": "markdown",
   "metadata": {
    "application/vnd.databricks.v1+cell": {
     "cellMetadata": {
      "byteLimit": 2048000,
      "rowLimit": 10000
     },
     "inputWidgets": {},
     "nuid": "c3788fe5-f4c9-420f-ad72-ec1a39310a2a",
     "showTitle": false,
     "tableResultSettingsMap": {},
     "title": ""
    }
   },
   "source": [
    "**2989. Class Performance (Medium)**\n",
    "\n",
    "**Table: Scores**\n",
    "\n",
    "| Column Name  | Type    |\n",
    "|--------------|---------|\n",
    "| student_id   | int     |\n",
    "| student_name | varchar |\n",
    "| assignment1  | int     |\n",
    "| assignment2  | int     |\n",
    "| assignment3  | int     |\n",
    "\n",
    "student_id is column of unique values for this table.\n",
    "This table contains student_id, student_name, assignment1, assignment2, and assignment3.\n",
    "\n",
    "**Write a solution to calculate the difference in the total score (sum of all 3 assignments) between the highest score obtained by students and the lowest score obtained by them.**\n",
    "\n",
    "Return the result table in any order.\n",
    "\n",
    "The result format is in the following example.\n",
    "\n",
    "**Example 1:**\n",
    "\n",
    "**Input:** \n",
    "**Scores table:**\n",
    "\n",
    "| student_id | student_name | assignment1 | assignment2 | assignment3 |\n",
    "|------------|--------------|-------------|-------------|-------------|\n",
    "| 309        | Owen         | 88          | 47          | 87          |\n",
    "| 321        | Claire       | 98          | 95          | 37          |     \n",
    "| 338        | Julian       | 100         | 64          | 43          |  \n",
    "| 423        | Peyton       | 60          | 44          | 47          |  \n",
    "| 896        | David        | 32          | 37          | 50          | \n",
    "| 235        | Camila       | 31          | 53          | 69          | \n",
    "\n",
    "**Output**\n",
    "| difference_in_score | \n",
    "|---------------------|\n",
    "| 111                 | \n",
    "\n",
    "**Explanation**\n",
    "- student_id 309 has a total score of 88 + 47 + 87 = 222.\n",
    "- student_id 321 has a total score of 98 + 95 + 37 = 230.\n",
    "- student_id 338 has a total score of 100 + 64 + 43 = 207.\n",
    "- student_id 423 has a total score of 60 + 44 + 47 = 151.\n",
    "- student_id 896 has a total score of 32 + 37 + 50 = 119.\n",
    "- student_id 235 has a total score of 31 + 53 + 69 = 153.\n",
    "\n",
    "student_id 321 has the highest score of 230, while student_id 896 has the lowest score of 119. Therefore, the difference between them is 111."
   ]
  },
  {
   "cell_type": "code",
   "execution_count": 0,
   "metadata": {
    "application/vnd.databricks.v1+cell": {
     "cellMetadata": {
      "byteLimit": 2048000,
      "rowLimit": 10000
     },
     "inputWidgets": {},
     "nuid": "137536ea-9bec-4171-8dc2-4bf8b0d771b4",
     "showTitle": false,
     "tableResultSettingsMap": {},
     "title": ""
    }
   },
   "outputs": [
    {
     "output_type": "stream",
     "name": "stdout",
     "output_type": "stream",
     "text": [
      "+----------+------------+-----------+-----------+-----------+\n|student_id|student_name|assignment1|assignment2|assignment3|\n+----------+------------+-----------+-----------+-----------+\n|       309|        Owen|         88|         47|         87|\n|       321|      Claire|         98|         95|         37|\n|       338|      Julian|        100|         64|         43|\n|       423|      Peyton|         60|         44|         47|\n|       896|       David|         32|         37|         50|\n|       235|      Camila|         31|         53|         69|\n+----------+------------+-----------+-----------+-----------+\n\n"
     ]
    }
   ],
   "source": [
    "scores_data_2989 = [\n",
    "    (309, \"Owen\", 88, 47, 87),\n",
    "    (321, \"Claire\", 98, 95, 37),\n",
    "    (338, \"Julian\", 100, 64, 43),\n",
    "    (423, \"Peyton\", 60, 44, 47),\n",
    "    (896, \"David\", 32, 37, 50),\n",
    "    (235, \"Camila\", 31, 53, 69)\n",
    "]\n",
    "\n",
    "scores_columns_2989 = [\"student_id\", \"student_name\", \"assignment1\", \"assignment2\", \"assignment3\"]\n",
    "scores_df_2989 = spark.createDataFrame(scores_data_2989, scores_columns_2989)\n",
    "scores_df_2989.show()\n"
   ]
  },
  {
   "cell_type": "code",
   "execution_count": 0,
   "metadata": {
    "application/vnd.databricks.v1+cell": {
     "cellMetadata": {
      "byteLimit": 2048000,
      "rowLimit": 10000
     },
     "inputWidgets": {},
     "nuid": "29d3d978-4eeb-4c16-a675-2644b42de5a3",
     "showTitle": false,
     "tableResultSettingsMap": {},
     "title": ""
    }
   },
   "outputs": [],
   "source": [
    "df_total_2989 = scores_df_2989\\\n",
    "                    .withColumn(\n",
    "                        \"total_score\", col(\"assignment1\") + col(\"assignment2\") + col(\"assignment3\"))"
   ]
  },
  {
   "cell_type": "code",
   "execution_count": 0,
   "metadata": {
    "application/vnd.databricks.v1+cell": {
     "cellMetadata": {
      "byteLimit": 2048000,
      "rowLimit": 10000
     },
     "inputWidgets": {},
     "nuid": "dc5ad5e2-e938-4ad0-90c7-c54974df82e9",
     "showTitle": false,
     "tableResultSettingsMap": {},
     "title": ""
    }
   },
   "outputs": [],
   "source": [
    "agg_df_2989 = df_total_2989\\\n",
    "                    .agg(\n",
    "                        max(\"total_score\").alias(\"max_score\"),\n",
    "                        min(\"total_score\").alias(\"min_score\")\n",
    "                        )"
   ]
  },
  {
   "cell_type": "code",
   "execution_count": 0,
   "metadata": {
    "application/vnd.databricks.v1+cell": {
     "cellMetadata": {
      "byteLimit": 2048000,
      "rowLimit": 10000
     },
     "inputWidgets": {},
     "nuid": "c4b0d97f-2bb4-41dd-a7e7-0baadd1cb859",
     "showTitle": false,
     "tableResultSettingsMap": {},
     "title": ""
    }
   },
   "outputs": [
    {
     "output_type": "display_data",
     "data": {
      "text/html": [
       "<style scoped>\n",
       "  .table-result-container {\n",
       "    max-height: 300px;\n",
       "    overflow: auto;\n",
       "  }\n",
       "  table, th, td {\n",
       "    border: 1px solid black;\n",
       "    border-collapse: collapse;\n",
       "  }\n",
       "  th, td {\n",
       "    padding: 5px;\n",
       "  }\n",
       "  th {\n",
       "    text-align: left;\n",
       "  }\n",
       "</style><div class='table-result-container'><table class='table-result'><thead style='background-color: white'><tr><th>difference_in_score</th></tr></thead><tbody><tr><td>111</td></tr></tbody></table></div>"
      ]
     },
     "metadata": {
      "application/vnd.databricks.v1+output": {
       "addedWidgets": {},
       "aggData": [],
       "aggError": "",
       "aggOverflow": false,
       "aggSchema": [],
       "aggSeriesLimitReached": false,
       "aggType": "",
       "arguments": {},
       "columnCustomDisplayInfos": {},
       "data": [
        [
         111
        ]
       ],
       "datasetInfos": [],
       "dbfsResultPath": null,
       "isJsonSchema": true,
       "metadata": {},
       "overflow": false,
       "plotOptions": {
        "customPlotOptions": {},
        "displayType": "table",
        "pivotAggregation": null,
        "pivotColumns": null,
        "xColumns": null,
        "yColumns": null
       },
       "removedWidgets": [],
       "schema": [
        {
         "metadata": "{}",
         "name": "difference_in_score",
         "type": "\"long\""
        }
       ],
       "type": "table"
      }
     },
     "output_type": "display_data"
    }
   ],
   "source": [
    "agg_df_2989\\\n",
    "    .withColumn(\n",
    "    \"difference_in_score\", col(\"max_score\") - col(\"min_score\"))\\\n",
    "        .select(\"difference_in_score\").display()"
   ]
  }
 ],
 "metadata": {
  "application/vnd.databricks.v1+notebook": {
   "computePreferences": {
    "hardware": {
     "accelerator": null,
     "gpuPoolId": null,
     "memory": null
    }
   },
   "dashboards": [],
   "environmentMetadata": {
    "base_environment": "",
    "environment_version": "2"
   },
   "inputWidgetPreferences": null,
   "language": "python",
   "notebookMetadata": {
    "pythonIndentUnit": 4
   },
   "notebookName": "2989. Class Performance (Medium)-(Solved)",
   "widgets": {}
  },
  "language_info": {
   "name": "python"
  }
 },
 "nbformat": 4,
 "nbformat_minor": 0
}
