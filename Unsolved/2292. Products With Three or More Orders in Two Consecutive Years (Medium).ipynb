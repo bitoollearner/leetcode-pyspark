{
 "cells": [
  {
   "cell_type": "markdown",
   "metadata": {
    "application/vnd.databricks.v1+cell": {
     "cellMetadata": {},
     "inputWidgets": {},
     "nuid": "4e9d71b1-88e9-445c-820a-b842e217a4e7",
     "showTitle": false,
     "tableResultSettingsMap": {},
     "title": ""
    }
   },
   "source": [
    "## Importing Libraries"
   ]
  },
  {
   "cell_type": "code",
   "execution_count": 0,
   "metadata": {
    "application/vnd.databricks.v1+cell": {
     "cellMetadata": {},
     "inputWidgets": {},
     "nuid": "e6624c4d-8cb8-4ac4-8c72-81d1b4ecdb57",
     "showTitle": false,
     "tableResultSettingsMap": {},
     "title": ""
    }
   },
   "outputs": [],
   "source": [
    "from pyspark.sql.functions import *\n",
    "from pyspark.sql.types import *\n",
    "from pyspark.sql.window import Window"
   ]
  },
  {
   "cell_type": "markdown",
   "metadata": {
    "application/vnd.databricks.v1+cell": {
     "cellMetadata": {},
     "inputWidgets": {},
     "nuid": "c3788fe5-f4c9-420f-ad72-ec1a39310a2a",
     "showTitle": false,
     "tableResultSettingsMap": {},
     "title": ""
    }
   },
   "source": [
    "**2292. Products With Three or More Orders in Two Consecutive Years (Medium)**\n",
    "\n",
    "**Table: Orders**\n",
    "\n",
    "| Column Name   | Type |\n",
    "|---------------|------|\n",
    "| order_id      | int  |\n",
    "| product_id    | int  |\n",
    "| quantity      | int  |\n",
    "| purchase_date | date |\n",
    "\n",
    "order_id contains unique values.\n",
    "Each row in this table contains the ID of an order, the id of the product purchased, the quantity, and the purchase date.\n",
    " \n",
    "**Write a solution to report the IDs of all the products that were ordered three or more times in two consecutive years.**\n",
    "\n",
    "Return the result table in any order.\n",
    "\n",
    "The result format is shown in the following example.\n",
    "\n",
    "**Example 1:**\n",
    "\n",
    "**Input:** \n",
    "\n",
    "**Orders table:**\n",
    "\n",
    "| order_id | product_id | quantity | purchase_date |\n",
    "|----------|------------|----------|---------------|\n",
    "| 1        | 1          | 7        | 2020-03-16    |\n",
    "| 2        | 1          | 4        | 2020-12-02    |\n",
    "| 3        | 1          | 7        | 2020-05-10    |\n",
    "| 4        | 1          | 6        | 2021-12-23    |\n",
    "| 5        | 1          | 5        | 2021-05-21    |\n",
    "| 6        | 1          | 6        | 2021-10-11    |\n",
    "| 7        | 2          | 6        | 2022-10-11    |\n",
    "\n",
    "**Output:** \n",
    "| product_id |\n",
    "|------------|\n",
    "| 1          |\n",
    "\n",
    "**Explanation:** \n",
    "- Product 1 was ordered in 2020 three times and in 2021 three times. Since it was ordered three times in two consecutive years, we include it in the answer.\n",
    "- Product 2 was ordered one time in 2022. We do not include it in the answer."
   ]
  },
  {
   "cell_type": "code",
   "execution_count": 0,
   "metadata": {
    "application/vnd.databricks.v1+cell": {
     "cellMetadata": {},
     "inputWidgets": {},
     "nuid": "137536ea-9bec-4171-8dc2-4bf8b0d771b4",
     "showTitle": false,
     "tableResultSettingsMap": {},
     "title": ""
    }
   },
   "outputs": [],
   "source": [
    "orders_data_2292 = [\n",
    "    (1, 1, 7, \"2020-03-16\"),\n",
    "    (2, 1, 4, \"2020-12-02\"),\n",
    "    (3, 1, 7, \"2020-05-10\"),\n",
    "    (4, 1, 6, \"2021-12-23\"),\n",
    "    (5, 1, 5, \"2021-05-21\"),\n",
    "    (6, 1, 6, \"2021-10-11\"),\n",
    "    (7, 2, 6, \"2022-10-11\"),\n",
    "]\n",
    "\n",
    "orders_columns_2292 = [\"order_id\", \"product_id\", \"quantity\", \"purchase_date\"]\n",
    "orders_df_2292 = spark.createDataFrame(orders_data_2292,orders_columns_2292)\n",
    "orders_df_2292.show()"
   ]
  }
 ],
 "metadata": {
  "application/vnd.databricks.v1+notebook": {
   "computePreferences": null,
   "dashboards": [],
   "environmentMetadata": {
    "base_environment": "",
    "environment_version": "1"
   },
   "inputWidgetPreferences": null,
   "language": "python",
   "notebookMetadata": {
    "pythonIndentUnit": 4
   },
   "notebookName": "2292. Products With Three or More Orders in Two Consecutive Years (Medium)",
   "widgets": {}
  }
 },
 "nbformat": 4,
 "nbformat_minor": 0
}