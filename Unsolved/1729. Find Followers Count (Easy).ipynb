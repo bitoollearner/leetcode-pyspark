{
 "cells": [
  {
   "cell_type": "markdown",
   "metadata": {
    "application/vnd.databricks.v1+cell": {
     "cellMetadata": {},
     "inputWidgets": {},
     "nuid": "fadf709d-de3d-4bfc-b69f-3b489de68bef",
     "showTitle": false,
     "tableResultSettingsMap": {},
     "title": ""
    }
   },
   "source": [
    "## Importing Libraries"
   ]
  },
  {
   "cell_type": "code",
   "execution_count": 0,
   "metadata": {
    "application/vnd.databricks.v1+cell": {
     "cellMetadata": {},
     "inputWidgets": {},
     "nuid": "d4a1fef1-aa99-469c-b35f-9b3f3e81c9f7",
     "showTitle": false,
     "tableResultSettingsMap": {},
     "title": ""
    }
   },
   "outputs": [],
   "source": [
    "from pyspark.sql.functions import *\n",
    "from pyspark.sql.types import *\n",
    "from pyspark.sql.window import Window"
   ]
  },
  {
   "cell_type": "markdown",
   "metadata": {
    "application/vnd.databricks.v1+cell": {
     "cellMetadata": {},
     "inputWidgets": {},
     "nuid": "78daa073-80d8-4f7e-9cfa-10f6eb568909",
     "showTitle": false,
     "tableResultSettingsMap": {},
     "title": ""
    }
   },
   "source": [
    "**1729. Find Followers Count (Easy)**\n",
    "\n",
    "**Table: Followers**\n",
    "\n",
    "| Column Name | Type |\n",
    "|-------------|------|\n",
    "| user_id     | int  |\n",
    "| follower_id | int  |\n",
    "\n",
    "(user_id, follower_id) is the primary key (combination of columns with unique values) for this table.\n",
    "This table contains the IDs of a user and a follower in a social media app where the follower follows the user.\n",
    " \n",
    "**Write a solution that will, for each user, return the number of followers.**\n",
    "\n",
    "Return the result table ordered by user_id in ascending order.\n",
    "\n",
    "The result format is in the following example.\n",
    "\n",
    "**Example 1:**\n",
    "\n",
    "**Input:**\n",
    "**Followers table:**\n",
    "| user_id | follower_id |\n",
    "|---------|-------------|\n",
    "| 0       | 1           |\n",
    "| 1       | 0           |\n",
    "| 2       | 0           |\n",
    "| 2       | 1           |\n",
    "\n",
    "**Output:**\n",
    "| user_id | followers_count|\n",
    "|---------|----------------|\n",
    "| 0       | 1              |\n",
    "| 1       | 1              |\n",
    "| 2       | 2              |\n",
    "\n",
    "**Explanation:**\n",
    "- The followers of 0 are {1}\n",
    "- The followers of 1 are {0}\n",
    "- The followers of 2 are {0,1}"
   ]
  },
  {
   "cell_type": "code",
   "execution_count": 0,
   "metadata": {
    "application/vnd.databricks.v1+cell": {
     "cellMetadata": {},
     "inputWidgets": {},
     "nuid": "7b78bc27-26cd-4523-8646-7369baf68fcb",
     "showTitle": false,
     "tableResultSettingsMap": {},
     "title": ""
    }
   },
   "outputs": [],
   "source": [
    "followers_data_1729 = [\n",
    "    (0, 1),\n",
    "    (1, 0),\n",
    "    (2, 0),\n",
    "    (2, 1)\n",
    "]\n",
    "followers_columns_1729 = [\"user_id\", \"follower_id\"]\n",
    "followers_df_1729 = spark.createDataFrame(followers_data_1729, followers_columns_1729)\n",
    "followers_df_1729.show()"
   ]
  }
 ],
 "metadata": {
  "application/vnd.databricks.v1+notebook": {
   "computePreferences": null,
   "dashboards": [],
   "environmentMetadata": {
    "base_environment": "",
    "environment_version": "1"
   },
   "inputWidgetPreferences": null,
   "language": "python",
   "notebookMetadata": {
    "pythonIndentUnit": 4
   },
   "notebookName": "1729. Find Followers Count (Easy)",
   "widgets": {}
  },
  "language_info": {
   "name": "python"
  }
 },
 "nbformat": 4,
 "nbformat_minor": 0
}
