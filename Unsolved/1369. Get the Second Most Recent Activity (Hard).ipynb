{
 "cells": [
  {
   "cell_type": "markdown",
   "metadata": {
    "application/vnd.databricks.v1+cell": {
     "cellMetadata": {},
     "inputWidgets": {},
     "nuid": "516a210c-988a-43a8-9004-cb03ad7c2481",
     "showTitle": false,
     "tableResultSettingsMap": {},
     "title": ""
    }
   },
   "source": [
    "## Importing Libraries"
   ]
  },
  {
   "cell_type": "code",
   "execution_count": 0,
   "metadata": {
    "application/vnd.databricks.v1+cell": {
     "cellMetadata": {},
     "inputWidgets": {},
     "nuid": "9333a394-5bb0-4f1f-8f10-60b56c9fb68e",
     "showTitle": false,
     "tableResultSettingsMap": {},
     "title": ""
    }
   },
   "outputs": [],
   "source": [
    "from pyspark.sql.functions import *\n",
    "from pyspark.sql.types import *\n",
    "from pyspark.sql.window import Window"
   ]
  },
  {
   "cell_type": "markdown",
   "metadata": {
    "application/vnd.databricks.v1+cell": {
     "cellMetadata": {},
     "inputWidgets": {},
     "nuid": "b718c875-1030-4207-a68c-5fad8635212a",
     "showTitle": false,
     "tableResultSettingsMap": {},
     "title": ""
    }
   },
   "source": [
    "**1369. Get the Second Most Recent Activity (Hard)**\n",
    "\n",
    "**Table: UserActivity**\n",
    "\n",
    "| Column Name   | Type    |\n",
    "|---------------|---------|\n",
    "| username      | varchar |\n",
    "| activity      | varchar |\n",
    "| startDate     | Date    |\n",
    "| endDate       | Date    |\n",
    "\n",
    "This table may contain duplicates rows.\n",
    "This table contains information about the activity performed by each user in a period of time.\n",
    "A person with username performed an activity from startDate to endDate.\n",
    " \n",
    "**Write a solution to show the second most recent activity of each user.**\n",
    "\n",
    "If the user only has one activity, return that one. A user cannot perform more than one activity at the same time.\n",
    "\n",
    "Return the result table in any order.\n",
    "\n",
    "The result format is in the following example.\n",
    "\n",
    "**Example 1:**\n",
    "\n",
    "**Input:** \n",
    "\n",
    "**UserActivity table:**\n",
    "\n",
    "| username   | activity     | startDate   | endDate     |\n",
    "|------------|--------------|-------------|-------------|\n",
    "| Alice      | Travel       | 2020-02-12  | 2020-02-20  |\n",
    "| Alice      | Dancing      | 2020-02-21  | 2020-02-23  |\n",
    "| Alice      | Travel       | 2020-02-24  | 2020-02-28  |\n",
    "| Bob        | Travel       | 2020-02-11  | 2020-02-18  |\n",
    "\n",
    "**Output:** \n",
    "| username   | activity     | startDate   | endDate     |\n",
    "|------------|--------------|-------------|-------------|\n",
    "| Alice      | Dancing      | 2020-02-21  | 2020-02-23  |\n",
    "| Bob        | Travel       | 2020-02-11  | 2020-02-18  |\n",
    "\n",
    "**Explanation:** \n",
    "The most recent activity of Alice is Travel from 2020-02-24 to 2020-02-28, before that she was dancing from 2020-02-21 to 2020-02-23.\n",
    "Bob only has one record, we just take that one."
   ]
  },
  {
   "cell_type": "code",
   "execution_count": 0,
   "metadata": {
    "application/vnd.databricks.v1+cell": {
     "cellMetadata": {},
     "inputWidgets": {},
     "nuid": "01e4d778-a8a5-48a7-8ebb-7033f0b84d62",
     "showTitle": false,
     "tableResultSettingsMap": {},
     "title": ""
    }
   },
   "outputs": [],
   "source": [
    "user_activity_data_1369 = [\n",
    "    (\"Alice\", \"Travel\", \"2020-02-12\", \"2020-02-20\"),\n",
    "    (\"Alice\", \"Dancing\", \"2020-02-21\", \"2020-02-23\"),\n",
    "    (\"Alice\", \"Travel\", \"2020-02-24\", \"2020-02-28\"),\n",
    "    (\"Bob\", \"Travel\", \"2020-02-11\", \"2020-02-18\")\n",
    "]\n",
    "\n",
    "user_activity_columns_1369 = [\"username\", \"activity\", \"startDate\", \"endDate\"]\n",
    "user_activity_df_1369 = spark.createDataFrame(user_activity_data_1369, user_activity_columns_1369)\n",
    "user_activity_df_1369.show()"
   ]
  }
 ],
 "metadata": {
  "application/vnd.databricks.v1+notebook": {
   "computePreferences": null,
   "dashboards": [],
   "environmentMetadata": {
    "base_environment": "",
    "environment_version": "1"
   },
   "inputWidgetPreferences": null,
   "language": "python",
   "notebookMetadata": {
    "pythonIndentUnit": 4
   },
   "notebookName": "1369. Get the Second Most Recent Activity (Hard)",
   "widgets": {}
  },
  "language_info": {
   "name": "python"
  }
 },
 "nbformat": 4,
 "nbformat_minor": 0
}
