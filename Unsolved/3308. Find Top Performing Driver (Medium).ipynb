{
 "cells": [
  {
   "cell_type": "markdown",
   "metadata": {
    "application/vnd.databricks.v1+cell": {
     "cellMetadata": {},
     "inputWidgets": {},
     "nuid": "7d1791bd-9552-4116-90b2-daa678bbffb8",
     "showTitle": false,
     "tableResultSettingsMap": {},
     "title": ""
    }
   },
   "source": [
    "## Importing Libraries"
   ]
  },
  {
   "cell_type": "code",
   "execution_count": 0,
   "metadata": {
    "application/vnd.databricks.v1+cell": {
     "cellMetadata": {},
     "inputWidgets": {},
     "nuid": "2901fbc9-49db-4285-8b94-c460f34d4c4f",
     "showTitle": false,
     "tableResultSettingsMap": {},
     "title": ""
    }
   },
   "outputs": [],
   "source": [
    "from pyspark.sql.functions import *\n",
    "from pyspark.sql.types import *\n",
    "from pyspark.sql.window import Window"
   ]
  },
  {
   "cell_type": "markdown",
   "metadata": {
    "application/vnd.databricks.v1+cell": {
     "cellMetadata": {},
     "inputWidgets": {},
     "nuid": "655120e7-6b25-417c-a08a-c6925feaa425",
     "showTitle": false,
     "tableResultSettingsMap": {},
     "title": ""
    }
   },
   "source": [
    "**3308. Find Top Performing Driver (Medium)**\n",
    "\n",
    "**Table: Drivers**\n",
    "\n",
    "| Column Name  | Type    |\n",
    "|--------------|---------|\n",
    "| driver_id    | int     |\n",
    "| name         | varchar |\n",
    "| age          | int     |\n",
    "| experience   | int     |\n",
    "| accidents    | int     |\n",
    "\n",
    "(driver_id) is the unique key for this table.\n",
    "Each row includes a driver's ID, their name, age, years of driving experience, and the number of accidents they’ve had.\n",
    "\n",
    "**Table: Vehicles**\n",
    "| Column Name  | Type    |\n",
    "|--------------|---------|\n",
    "| vehicle_id   | int     |\n",
    "| driver_id    | int     |\n",
    "| model        | varchar |\n",
    "| fuel_type    | varchar |\n",
    "| mileage      | int     |\n",
    "\n",
    "(vehicle_id, driver_id, fuel_type) is the unique key for this table.\n",
    "Each row includes the vehicle's ID, the driver who operates it, the model, fuel type, and mileage.\n",
    "\n",
    "**Table: Trips**\n",
    "| Column Name  | Type    |\n",
    "|--------------|---------|\n",
    "| trip_id      | int     |\n",
    "| vehicle_id   | int     |\n",
    "| distance     | int     |\n",
    "| duration     | int     |\n",
    "| rating       | int     |\n",
    "\n",
    "(trip_id) is the unique key for this table.\n",
    "Each row includes a trip's ID, the vehicle used, the distance covered (in miles), the trip duration (in minutes), and the passenger's rating (1-5).\n",
    "Uber is analyzing drivers based on their trips. \n",
    "\n",
    "**Write a solution to find the top-performing driver for each fuel type based on the following criteria:**\n",
    "- A driver's performance is calculated as the average rating across all their trips. Average rating should be rounded to 2 decimal places.\n",
    "- If two drivers have the same average rating, the driver with the longer total distance traveled should be ranked higher.\n",
    "- If there is still a tie, choose the driver with the fewest accidents.\n",
    "\n",
    "Return the result table ordered by fuel_type in ascending order.\n",
    "\n",
    "The result format is in the following example.\n",
    "\n",
    "**Example:**\n",
    "\n",
    "**Input:**\n",
    "\n",
    "**Drivers table:**\n",
    "\n",
    "| driver_id | name     | age | experience | accidents |\n",
    "|-----------|----------|-----|------------|-----------|\n",
    "| 1         | Alice    | 34  | 10         | 1         |\n",
    "| 2         | Bob      | 45  | 20         | 3         |\n",
    "| 3         | Charlie  | 28  | 5          | 0         |\n",
    "\n",
    "**Vehicles table:**\n",
    "\n",
    "| vehicle_id | driver_id | model   | fuel_type | mileage |\n",
    "|------------|-----------|---------|-----------|---------|\n",
    "| 100        | 1         | Sedan   | Gasoline  | 20000   |\n",
    "| 101        | 2         | SUV     | Electric  | 30000   |\n",
    "| 102        | 3         | Coupe   | Gasoline  | 15000   |\n",
    "\n",
    "**Trips table:**\n",
    "\n",
    "| trip_id | vehicle_id | distance | duration | rating |\n",
    "|---------|------------|----------|----------|--------|\n",
    "| 201     | 100        | 50       | 30       | 5      |\n",
    "| 202     | 100        | 30       | 20       | 4      |\n",
    "| 203     | 101        | 100      | 60       | 4      |\n",
    "| 204     | 101        | 80       | 50       | 5      |\n",
    "| 205     | 102        | 40       | 30       | 5      |\n",
    "| 206     | 102        | 60       | 40       | 5      |\n",
    "\n",
    "**Output:**\n",
    "| fuel_type | driver_id | rating | distance |\n",
    "|-----------|-----------|--------|----------|\n",
    "| Electric  | 2         | 4.50   | 180      |\n",
    "| Gasoline  | 3         | 5.00   | 100      |\n",
    "\n",
    "**Explanation:**\n",
    "- For fuel type Gasoline, both Alice (Driver 1) and Charlie (Driver 3) have trips. Charlie has an average rating of 5.0, while Alice has 4.5. Therefore, Charlie is selected.\n",
    "- For fuel type Electric, Bob (Driver 2) is the only driver with an average rating of 4.5, so he is selected.\n",
    "\n",
    "The output table is ordered by fuel_type in ascending order."
   ]
  },
  {
   "cell_type": "code",
   "execution_count": 0,
   "metadata": {
    "application/vnd.databricks.v1+cell": {
     "cellMetadata": {},
     "inputWidgets": {},
     "nuid": "a2368434-0191-416c-aa1d-12cd44cf48e6",
     "showTitle": false,
     "tableResultSettingsMap": {},
     "title": ""
    }
   },
   "outputs": [],
   "source": [
    "drivers_data_3308 = [\n",
    "    (1, \"Alice\", 34, 10, 1),\n",
    "    (2, \"Bob\", 45, 20, 3),\n",
    "    (3, \"Charlie\", 28, 5, 0)\n",
    "]\n",
    "\n",
    "drivers_columns_3308 = [\"driver_id\", \"name\", \"age\", \"experience\", \"accidents\"]\n",
    "drivers_df_3308 = spark.createDataFrame(drivers_data_3308, drivers_columns_3308)\n",
    "drivers_df_3308.show()\n",
    "\n",
    "vehicles_data_3308 = [\n",
    "    (100, 1, \"Sedan\", \"Gasoline\", 20000),\n",
    "    (101, 2, \"SUV\", \"Electric\", 30000),\n",
    "    (102, 3, \"Coupe\", \"Gasoline\", 15000)\n",
    "]\n",
    "\n",
    "vehicles_columns_3308 = [\"vehicle_id\", \"driver_id\", \"model\", \"fuel_type\", \"mileage\"]\n",
    "vehicles_df_3308 = spark.createDataFrame(vehicles_data_3308, vehicles_columns_3308)\n",
    "vehicles_df_3308.show()\n",
    "\n",
    "trips_data_3308 = [\n",
    "    (201, 100, 50, 30, 5),\n",
    "    (202, 100, 30, 20, 4),\n",
    "    (203, 101, 100, 60, 4),\n",
    "    (204, 101, 80, 50, 5),\n",
    "    (205, 102, 40, 30, 5),\n",
    "    (206, 102, 60, 40, 5)\n",
    "]\n",
    "\n",
    "trips_columns_3308 = [\"trip_id\", \"vehicle_id\", \"distance\", \"duration\", \"rating\"]\n",
    "trips_df_3308 = spark.createDataFrame(trips_data_3308, trips_columns_3308)\n",
    "trips_df_3308.show()\n"
   ]
  }
 ],
 "metadata": {
  "application/vnd.databricks.v1+notebook": {
   "computePreferences": null,
   "dashboards": [],
   "environmentMetadata": {
    "base_environment": "",
    "environment_version": "1"
   },
   "inputWidgetPreferences": null,
   "language": "python",
   "notebookMetadata": {
    "pythonIndentUnit": 4
   },
   "notebookName": "3308. Find Top Performing Driver (Medium)",
   "widgets": {}
  },
  "language_info": {
   "name": "python"
  }
 },
 "nbformat": 4,
 "nbformat_minor": 0
}
