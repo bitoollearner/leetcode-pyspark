{
 "cells": [
  {
   "cell_type": "markdown",
   "metadata": {
    "application/vnd.databricks.v1+cell": {
     "cellMetadata": {},
     "inputWidgets": {},
     "nuid": "4e9d71b1-88e9-445c-820a-b842e217a4e7",
     "showTitle": false,
     "tableResultSettingsMap": {},
     "title": ""
    }
   },
   "source": [
    "## Importing Libraries"
   ]
  },
  {
   "cell_type": "code",
   "execution_count": 0,
   "metadata": {
    "application/vnd.databricks.v1+cell": {
     "cellMetadata": {},
     "inputWidgets": {},
     "nuid": "e6624c4d-8cb8-4ac4-8c72-81d1b4ecdb57",
     "showTitle": false,
     "tableResultSettingsMap": {},
     "title": ""
    }
   },
   "outputs": [],
   "source": [
    "from pyspark.sql.functions import *\n",
    "from pyspark.sql.types import *\n",
    "from pyspark.sql.window import Window"
   ]
  },
  {
   "cell_type": "markdown",
   "metadata": {
    "application/vnd.databricks.v1+cell": {
     "cellMetadata": {},
     "inputWidgets": {},
     "nuid": "c3788fe5-f4c9-420f-ad72-ec1a39310a2a",
     "showTitle": false,
     "tableResultSettingsMap": {},
     "title": ""
    }
   },
   "source": [
    "**2720. Popularity Percentage (Hard)**\n",
    "\n",
    "**Table: Friends**\n",
    "\n",
    "| Column Name | Type |\n",
    "|-------------|------|\n",
    "| user1       | int  |\n",
    "| user2       | int  |\n",
    "\n",
    "(user1, user2) is the primary key (combination of unique values) of this table.\n",
    "Each row contains information about friendship where user1 and user2 are friends.\n",
    "\n",
    "**Write a solution to find the popularity percentage for each user on Meta/Facebook. The popularity percentage is defined as the total number of friends the user has divided by the total number of users on the platform, then converted into a percentage by multiplying by 100, rounded to 2 decimal places.**\n",
    "\n",
    "Return the result table ordered by user1 in ascending order.\n",
    "\n",
    "The result format is in the following example.\n",
    "\n",
    "**Example 1:**\n",
    "\n",
    "**Input:** \n",
    "\n",
    "**Friends table:**\n",
    "\n",
    "| user1 | user2 | \n",
    "|-------|-------|\n",
    "| 2     | 1     | \n",
    "| 1     | 3     | \n",
    "| 4     | 1     | \n",
    "| 1     | 5     | \n",
    "| 1     | 6     |\n",
    "| 2     | 6     | \n",
    "| 7     | 2     | \n",
    "| 8     | 3     | \n",
    "| 3     | 9     |  \n",
    "\n",
    "**Output:** \n",
    "| user1 | percentage_popularity |\n",
    "|-------|-----------------------|\n",
    "| 1     | 55.56                 |\n",
    "| 2     | 33.33                 |\n",
    "| 3     | 33.33                 |\n",
    "| 4     | 11.11                 |\n",
    "| 5     | 11.11                 |\n",
    "| 6     | 22.22                 |\n",
    "| 7     | 11.11                 |\n",
    "| 8     | 11.11                 |\n",
    "| 9     | 11.11                 |\n",
    "\n",
    "**Explanation:** \n",
    "\n",
    "There are total 9 users on the platform.\n",
    "- User \"1\" has friendships with 2, 3, 4, 5 and 6. Therefore, the percentage popularity for user 1 would be calculated as (5/9) * 100 = 55.56.\n",
    "- User \"2\" has friendships with 1, 6 and 7. Therefore, the percentage popularity for user 2 would be calculated as (3/9) * 100 = 33.33.\n",
    "- User \"3\" has friendships with 1, 8 and 9. Therefore, the percentage popularity for user 3 would be calculated as (3/9) * 100 = 33.33.\n",
    "- User \"4\" has friendships with 1. Therefore, the percentage popularity for user 4 would be calculated as (1/9) * 100 = 11.11.\n",
    "- User \"5\" has friendships with 1. Therefore, the percentage popularity for user 5 would be calculated as (1/9) * 100 = 11.11.\n",
    "- User \"6\" has friendships with 1 and 2. Therefore, the percentage popularity for user 6 would be calculated as (2/9) * 100 = 22.22.\n",
    "- User \"7\" has friendships with 2. Therefore, the percentage popularity for user 7 would be calculated as (1/9) * 100 = 11.11.\n",
    "- User \"8\" has friendships with 3. Therefore, the percentage popularity for user 8 would be calculated as (1/9) * 100 = 11.11.\n",
    "- User \"9\" has friendships with 3. Therefore, the percentage popularity for user 9 would be calculated as (1/9) * 100 = 11.11.\n",
    "\n",
    "user1 is sorted in ascending order."
   ]
  },
  {
   "cell_type": "code",
   "execution_count": 0,
   "metadata": {
    "application/vnd.databricks.v1+cell": {
     "cellMetadata": {},
     "inputWidgets": {},
     "nuid": "137536ea-9bec-4171-8dc2-4bf8b0d771b4",
     "showTitle": false,
     "tableResultSettingsMap": {},
     "title": ""
    }
   },
   "outputs": [],
   "source": [
    "friends_data_2720 = [\n",
    "    (2, 1), (1, 3), (4, 1), (1, 5), (1, 6), \n",
    "    (2, 6), (7, 2), (8, 3), (3, 9)\n",
    "]\n",
    "\n",
    "friends_columns_2720 = [\"user1\", \"user2\"]\n",
    "friends_df_2720 = spark.createDataFrame(friends_data_2720, friends_columns_2720)\n",
    "friends_df_2720.show()\n"
   ]
  }
 ],
 "metadata": {
  "application/vnd.databricks.v1+notebook": {
   "computePreferences": null,
   "dashboards": [],
   "environmentMetadata": {
    "base_environment": "",
    "environment_version": "1"
   },
   "inputWidgetPreferences": null,
   "language": "python",
   "notebookMetadata": {
    "pythonIndentUnit": 4
   },
   "notebookName": "2720. Popularity Percentage (Hard)",
   "widgets": {}
  }
 },
 "nbformat": 4,
 "nbformat_minor": 0
}