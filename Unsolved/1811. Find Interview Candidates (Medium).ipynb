{
 "cells": [
  {
   "cell_type": "markdown",
   "metadata": {
    "application/vnd.databricks.v1+cell": {
     "cellMetadata": {},
     "inputWidgets": {},
     "nuid": "fadf709d-de3d-4bfc-b69f-3b489de68bef",
     "showTitle": false,
     "tableResultSettingsMap": {},
     "title": ""
    }
   },
   "source": [
    "## Importing Libraries"
   ]
  },
  {
   "cell_type": "code",
   "execution_count": 0,
   "metadata": {
    "application/vnd.databricks.v1+cell": {
     "cellMetadata": {},
     "inputWidgets": {},
     "nuid": "d4a1fef1-aa99-469c-b35f-9b3f3e81c9f7",
     "showTitle": false,
     "tableResultSettingsMap": {},
     "title": ""
    }
   },
   "outputs": [],
   "source": [
    "from pyspark.sql.functions import *\n",
    "from pyspark.sql.types import *\n",
    "from pyspark.sql.window import Window"
   ]
  },
  {
   "cell_type": "markdown",
   "metadata": {
    "application/vnd.databricks.v1+cell": {
     "cellMetadata": {},
     "inputWidgets": {},
     "nuid": "78daa073-80d8-4f7e-9cfa-10f6eb568909",
     "showTitle": false,
     "tableResultSettingsMap": {},
     "title": ""
    }
   },
   "source": [
    "**1811. Find Interview Candidates (Medium)**\n",
    "\n",
    "**Table: Contests**\n",
    "\n",
    "| Column Name  | Type |\n",
    "|--------------|------|\n",
    "| contest_id   | int  |\n",
    "| gold_medal   | int  |\n",
    "| silver_medal | int  |\n",
    "| bronze_medal | int  |\n",
    "\n",
    "contest_id is the column with unique values for this table.\n",
    "This table contains the LeetCode contest ID and the user IDs of the gold, silver, and bronze medalists.\n",
    "It is guaranteed that any consecutive contests have consecutive IDs and that no ID is skipped.\n",
    " \n",
    "**Table: Users**\n",
    "\n",
    "| Column Name | Type    |\n",
    "|-------------|---------|\n",
    "| user_id     | int     |\n",
    "| mail        | varchar |\n",
    "| name        | varchar |\n",
    "\n",
    "user_id is the column with unique values for this table.\n",
    "This table contains information about the users.\n",
    " \n",
    "**Write a solution to report the name and the mail of all interview candidates. A user is an interview candidate if at least one of these two conditions is true:**\n",
    "- The user won any medal in three or more consecutive contests.\n",
    "- The user won the gold medal in three or more different contests (not necessarily consecutive).\n",
    "\n",
    "Return the result table in any order.\n",
    "\n",
    "The result format is in the following example.\n",
    "\n",
    "**Example 1:**\n",
    "\n",
    "**Input:** \n",
    "\n",
    "**Contests table:**\n",
    "\n",
    "| contest_id | gold_medal | silver_medal | bronze_medal |\n",
    "|------------|------------|--------------|--------------|\n",
    "| 190        | 1          | 5            | 2            |\n",
    "| 191        | 2          | 3            | 5            |\n",
    "| 192        | 5          | 2            | 3            |\n",
    "| 193        | 1          | 3            | 5            |\n",
    "| 194        | 4          | 5            | 2            |\n",
    "| 195        | 4          | 2            | 1            |\n",
    "| 196        | 1          | 5            | 2            |\n",
    "\n",
    "**Users table:**\n",
    "| user_id | mail               | name  |\n",
    "|---------|--------------------|-------|\n",
    "| 1       | sarah@leetcode.com | Sarah |\n",
    "| 2       | bob@leetcode.com   | Bob   |\n",
    "| 3       | alice@leetcode.com | Alice |\n",
    "| 4       | hercy@leetcode.com | Hercy |\n",
    "| 5       | quarz@leetcode.com | Quarz |\n",
    "\n",
    "**Output:** \n",
    "| name  | mail               |\n",
    "|-------|--------------------|\n",
    "| Sarah | sarah@leetcode.com |\n",
    "| Bob   | bob@leetcode.com   |\n",
    "| Alice | alice@leetcode.com |\n",
    "| Quarz | quarz@leetcode.com |\n",
    "\n",
    "**Explanation:** \n",
    "- Sarah won 3 gold medals (190, 193, and 196), so we include her in the result table.\n",
    "- Bob won a medal in 3 consecutive contests (190, 191, and 192), so we include him in the result table.\n",
    "    - Note that he also won a medal in 3 other consecutive contests (194, 195, and 196).\n",
    "- Alice won a medal in 3 consecutive contests (191, 192, and 193), so we include her in the result table.\n",
    "- Quarz won a medal in 5 consecutive contests (190, 191, 192, 193, and 194), so we include them in the result table."
   ]
  },
  {
   "cell_type": "code",
   "execution_count": 0,
   "metadata": {
    "application/vnd.databricks.v1+cell": {
     "cellMetadata": {},
     "inputWidgets": {},
     "nuid": "7b78bc27-26cd-4523-8646-7369baf68fcb",
     "showTitle": false,
     "tableResultSettingsMap": {},
     "title": ""
    }
   },
   "outputs": [],
   "source": [
    "contests_data_1811 = [\n",
    "    (190, 1, 5, 2),\n",
    "    (191, 2, 3, 5),\n",
    "    (192, 5, 2, 3),\n",
    "    (193, 1, 3, 5),\n",
    "    (194, 4, 5, 2),\n",
    "    (195, 4, 2, 1),\n",
    "    (196, 1, 5, 2),\n",
    "]\n",
    "\n",
    "contests_columns_1811 = [\"contest_id\", \"gold_medal\", \"silver_medal\", \"bronze_medal\"]\n",
    "contests_df_1811 = spark.createDataFrame(contests_data_1811, contests_columns_1811)\n",
    "contests_df_1811.show()\n",
    "\n",
    "users_data_1811 = [\n",
    "    (1, \"sarah@leetcode.com\", \"Sarah\"),\n",
    "    (2, \"bob@leetcode.com\", \"Bob\"),\n",
    "    (3, \"alice@leetcode.com\", \"Alice\"),\n",
    "    (4, \"hercy@leetcode.com\", \"Hercy\"),\n",
    "    (5, \"quarz@leetcode.com\", \"Quarz\"),\n",
    "]\n",
    "\n",
    "users_columns_1811 = [\"user_id\", \"mail\", \"name\"]\n",
    "users_df_1811 = spark.createDataFrame(users_data_1811, users_columns_1811)\n",
    "users_df_1811.show()"
   ]
  }
 ],
 "metadata": {
  "application/vnd.databricks.v1+notebook": {
   "computePreferences": null,
   "dashboards": [],
   "environmentMetadata": {
    "base_environment": "",
    "environment_version": "1"
   },
   "inputWidgetPreferences": null,
   "language": "python",
   "notebookMetadata": {
    "pythonIndentUnit": 4
   },
   "notebookName": "1811. Find Interview Candidates (Medium)",
   "widgets": {}
  },
  "language_info": {
   "name": "python"
  }
 },
 "nbformat": 4,
 "nbformat_minor": 0
}
