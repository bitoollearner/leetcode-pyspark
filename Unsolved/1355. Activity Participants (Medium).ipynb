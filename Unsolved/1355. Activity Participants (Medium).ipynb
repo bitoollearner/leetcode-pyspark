{
 "cells": [
  {
   "cell_type": "markdown",
   "metadata": {
    "application/vnd.databricks.v1+cell": {
     "cellMetadata": {},
     "inputWidgets": {},
     "nuid": "516a210c-988a-43a8-9004-cb03ad7c2481",
     "showTitle": false,
     "tableResultSettingsMap": {},
     "title": ""
    }
   },
   "source": [
    "## Importing Libraries"
   ]
  },
  {
   "cell_type": "code",
   "execution_count": 0,
   "metadata": {
    "application/vnd.databricks.v1+cell": {
     "cellMetadata": {},
     "inputWidgets": {},
     "nuid": "9333a394-5bb0-4f1f-8f10-60b56c9fb68e",
     "showTitle": false,
     "tableResultSettingsMap": {},
     "title": ""
    }
   },
   "outputs": [],
   "source": [
    "from pyspark.sql.functions import *\n",
    "from pyspark.sql.types import *\n",
    "from pyspark.sql.window import Window"
   ]
  },
  {
   "cell_type": "markdown",
   "metadata": {
    "application/vnd.databricks.v1+cell": {
     "cellMetadata": {},
     "inputWidgets": {},
     "nuid": "b718c875-1030-4207-a68c-5fad8635212a",
     "showTitle": false,
     "tableResultSettingsMap": {},
     "title": ""
    }
   },
   "source": [
    "**1355. Activity Participants (Medium)**\n",
    "\n",
    "**Table: Friends**\n",
    "\n",
    "| Column Name   | Type    |\n",
    "|---------------|---------|\n",
    "| id            | int     |\n",
    "| name          | varchar |\n",
    "| activity      | varchar |\n",
    "\n",
    "id is the id of the friend and the primary key for this table in SQL.\n",
    "name is the name of the friend.\n",
    "activity is the name of the activity which the friend takes part in.\n",
    " \n",
    "**Table: Activities**\n",
    "\n",
    "| Column Name   | Type    |\n",
    "|---------------|---------|\n",
    "| id            | int     |\n",
    "| name          | varchar |\n",
    "\n",
    "In SQL, id is the primary key for this table.\n",
    "name is the name of the activity.\n",
    " \n",
    "**Find the names of all the activities with neither the maximum nor the minimum number of participants.**\n",
    "\n",
    "Each activity in the Activities table is performed by any person in the table Friends.\n",
    "\n",
    "Return the result table in any order.\n",
    "\n",
    "The result format is in the following example.\n",
    "\n",
    "**Example 1:**\n",
    "\n",
    "**Input:** \n",
    "\n",
    "**Friends table:**\n",
    "\n",
    "| id   | name         | activity      |\n",
    "|------|--------------|---------------|\n",
    "| 1    | Jonathan D.  | Eating        |\n",
    "| 2    | Jade W.      | Singing       |\n",
    "| 3    | Victor J.    | Singing       |\n",
    "| 4    | Elvis Q.     | Eating        |\n",
    "| 5    | Daniel A.    | Eating        |\n",
    "| 6    | Bob B.       | Horse Riding  |\n",
    "\n",
    "**Activities table:**\n",
    "| id   | name         |\n",
    "|------|--------------|\n",
    "| 1    | Eating       |\n",
    "| 2    | Singing      |\n",
    "| 3    | Horse Riding |\n",
    "\n",
    "**Output:** \n",
    "| activity     |\n",
    "|--------------|\n",
    "| Singing      |\n",
    "\n",
    "**Explanation:** \n",
    "Eating activity is performed by 3 friends, maximum number of participants, (Jonathan D. , Elvis Q. and Daniel A.)\n",
    "Horse Riding activity is performed by 1 friend, minimum number of participants, (Bob B.)\n",
    "Singing is performed by 2 friends (Victor J. and Jade W.)"
   ]
  },
  {
   "cell_type": "code",
   "execution_count": 0,
   "metadata": {
    "application/vnd.databricks.v1+cell": {
     "cellMetadata": {},
     "inputWidgets": {},
     "nuid": "01e4d778-a8a5-48a7-8ebb-7033f0b84d62",
     "showTitle": false,
     "tableResultSettingsMap": {},
     "title": ""
    }
   },
   "outputs": [],
   "source": [
    "friends_data_1355 = [\n",
    "    (1, \"Jonathan D.\", \"Eating\"),\n",
    "    (2, \"Jade W.\", \"Singing\"),\n",
    "    (3, \"Victor J.\", \"Singing\"),\n",
    "    (4, \"Elvis Q.\", \"Eating\"),\n",
    "    (5, \"Daniel A.\", \"Eating\"),\n",
    "    (6, \"Bob B.\", \"Horse Riding\")\n",
    "]\n",
    "friends_columns_1355 = [\"id\", \"name\", \"activity\"]\n",
    "friends_df_1355 = spark.createDataFrame(friends_data_1355, friends_columns_1355)\n",
    "friends_df_1355.show()\n",
    "\n",
    "activities_data_1355 = [\n",
    "    (1, \"Eating\"),\n",
    "    (2, \"Singing\"),\n",
    "    (3, \"Horse Riding\")\n",
    "]\n",
    "activities_columns_1355 = [\"id\", \"name\"]\n",
    "activities_df_1355 = spark.createDataFrame(activities_data_1355, activities_columns_1355)\n",
    "activities_df_1355.show()"
   ]
  }
 ],
 "metadata": {
  "application/vnd.databricks.v1+notebook": {
   "computePreferences": null,
   "dashboards": [],
   "environmentMetadata": {
    "base_environment": "",
    "environment_version": "1"
   },
   "inputWidgetPreferences": null,
   "language": "python",
   "notebookMetadata": {
    "pythonIndentUnit": 4
   },
   "notebookName": "1355. Activity Participants (Medium)",
   "widgets": {}
  },
  "language_info": {
   "name": "python"
  }
 },
 "nbformat": 4,
 "nbformat_minor": 0
}
