{
 "cells": [
  {
   "cell_type": "markdown",
   "metadata": {
    "application/vnd.databricks.v1+cell": {
     "cellMetadata": {},
     "inputWidgets": {},
     "nuid": "4e9d71b1-88e9-445c-820a-b842e217a4e7",
     "showTitle": false,
     "tableResultSettingsMap": {},
     "title": ""
    }
   },
   "source": [
    "## Importing Libraries"
   ]
  },
  {
   "cell_type": "code",
   "execution_count": 0,
   "metadata": {
    "application/vnd.databricks.v1+cell": {
     "cellMetadata": {},
     "inputWidgets": {},
     "nuid": "e6624c4d-8cb8-4ac4-8c72-81d1b4ecdb57",
     "showTitle": false,
     "tableResultSettingsMap": {},
     "title": ""
    }
   },
   "outputs": [],
   "source": [
    "from pyspark.sql.functions import *\n",
    "from pyspark.sql.types import *\n",
    "from pyspark.sql.window import Window"
   ]
  },
  {
   "cell_type": "markdown",
   "metadata": {
    "application/vnd.databricks.v1+cell": {
     "cellMetadata": {},
     "inputWidgets": {},
     "nuid": "c3788fe5-f4c9-420f-ad72-ec1a39310a2a",
     "showTitle": false,
     "tableResultSettingsMap": {},
     "title": ""
    }
   },
   "source": [
    "**2377. Sort the Olympic Table (Easy)**\n",
    "\n",
    "**Table: Olympic**\n",
    "\n",
    "| Column Name   | Type    |\n",
    "|---------------|---------|\n",
    "| country       | varchar |\n",
    "| gold_medals   | int     |\n",
    "| silver_medals | int     |\n",
    "| bronze_medals | int     |\n",
    "\n",
    "country is the primary key for this table.\n",
    "Each row in this table shows a country name and the number of gold, silver, and bronze medals it won in the Olympic games.\n",
    " \n",
    "The Olympic table is sorted according to the following rules:\n",
    "- The country with more gold medals comes first.\n",
    "- If there is a tie in the gold medals, the country with more silver medals comes first.\n",
    "- If there is a tie in the silver medals, the country with more bronze medals comes first.\n",
    "- If there is a tie in the bronze medals, the countries with the tie are sorted in ascending order lexicographically.\n",
    "\n",
    "**Write a solution to sort the Olympic table.**\n",
    "\n",
    "The result format is shown in the following example.\n",
    "\n",
    "**Example 1:**\n",
    "\n",
    "**Input:** \n",
    "\n",
    "**Olympic table:**\n",
    "\n",
    "| country     | gold_medals | silver_medals | bronze_medals |\n",
    "|-------------|-------------|---------------|---------------|\n",
    "| China       | 10          | 10            | 20            |\n",
    "| South Sudan | 0           | 0             | 1             |\n",
    "| USA         | 10          | 10            | 20            |\n",
    "| Israel      | 2           | 2             | 3             |\n",
    "| Egypt       | 2           | 2             | 2             |\n",
    "\n",
    "**Output:** \n",
    "| country     | gold_medals | silver_medals | bronze_medals |\n",
    "|-------------|-------------|---------------|---------------|\n",
    "| China       | 10          | 10            | 20            |\n",
    "| USA         | 10          | 10            | 20            |\n",
    "| Israel      | 2           | 2             | 3             |\n",
    "| Egypt       | 2           | 2             | 2             |\n",
    "| South Sudan | 0           | 0             | 1             |\n",
    "\n",
    "**Explanation:** \n",
    "The tie between China and USA is broken by their lexicographical names. Since \"China\" is lexicographically smaller than \"USA\", it comes first.\n",
    "Israel comes before Egypt because it has more bronze medals."
   ]
  },
  {
   "cell_type": "code",
   "execution_count": 0,
   "metadata": {
    "application/vnd.databricks.v1+cell": {
     "cellMetadata": {},
     "inputWidgets": {},
     "nuid": "137536ea-9bec-4171-8dc2-4bf8b0d771b4",
     "showTitle": false,
     "tableResultSettingsMap": {},
     "title": ""
    }
   },
   "outputs": [],
   "source": [
    "olympic_data_2377 = [\n",
    "    (\"China\", 10, 10, 20),\n",
    "    (\"South Sudan\", 0, 0, 1),\n",
    "    (\"USA\", 10, 10, 20),\n",
    "    (\"Israel\", 2, 2, 3),\n",
    "    (\"Egypt\", 2, 2, 2),\n",
    "]\n",
    "\n",
    "olympic_columns_2377 = [\"country\", \"gold_medals\", \"silver_medals\", \"bronze_medals\"]\n",
    "olympic_df_2377 = spark.createDataFrame(olympic_data_2377, olympic_columns_2377)\n",
    "olympic_df_2377.show()"
   ]
  }
 ],
 "metadata": {
  "application/vnd.databricks.v1+notebook": {
   "computePreferences": null,
   "dashboards": [],
   "environmentMetadata": {
    "base_environment": "",
    "environment_version": "1"
   },
   "inputWidgetPreferences": null,
   "language": "python",
   "notebookMetadata": {
    "pythonIndentUnit": 4
   },
   "notebookName": "2377. Sort the Olympic Table (Easy)",
   "widgets": {}
  },
  "language_info": {
   "name": "python"
  }
 },
 "nbformat": 4,
 "nbformat_minor": 0
}
