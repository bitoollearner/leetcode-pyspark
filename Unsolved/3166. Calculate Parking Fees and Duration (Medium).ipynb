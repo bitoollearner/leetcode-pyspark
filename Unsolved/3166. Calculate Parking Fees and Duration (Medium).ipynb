{
 "cells": [
  {
   "cell_type": "markdown",
   "metadata": {
    "application/vnd.databricks.v1+cell": {
     "cellMetadata": {},
     "inputWidgets": {},
     "nuid": "7d1791bd-9552-4116-90b2-daa678bbffb8",
     "showTitle": false,
     "tableResultSettingsMap": {},
     "title": ""
    }
   },
   "source": [
    "## Importing Libraries"
   ]
  },
  {
   "cell_type": "code",
   "execution_count": 0,
   "metadata": {
    "application/vnd.databricks.v1+cell": {
     "cellMetadata": {},
     "inputWidgets": {},
     "nuid": "2901fbc9-49db-4285-8b94-c460f34d4c4f",
     "showTitle": false,
     "tableResultSettingsMap": {},
     "title": ""
    }
   },
   "outputs": [],
   "source": [
    "from pyspark.sql.functions import *\n",
    "from pyspark.sql.types import *\n",
    "from pyspark.sql.window import Window"
   ]
  },
  {
   "cell_type": "markdown",
   "metadata": {
    "application/vnd.databricks.v1+cell": {
     "cellMetadata": {},
     "inputWidgets": {},
     "nuid": "655120e7-6b25-417c-a08a-c6925feaa425",
     "showTitle": false,
     "tableResultSettingsMap": {},
     "title": ""
    }
   },
   "source": [
    "**3166. Calculate Parking Fees and Duration (Medium)**\n",
    "\n",
    "**Table: ParkingTransactions**\n",
    "\n",
    "\n",
    "| Column Name  | Type      |\n",
    "|--------------|-----------|\n",
    "| lot_id       | int       |\n",
    "| car_id       | int       |\n",
    "| entry_time   | datetime  |\n",
    "| exit_time    | datetime  |\n",
    "| fee_paid     | decimal   |\n",
    "\n",
    "\n",
    "(lot_id, car_id, entry_time) is the primary key (combination of columns with unique values) for this table.\n",
    "Each row of this table contains the ID of the parking lot, the ID of the car, the entry and exit times, and the fee paid for the parking duration.\n",
    "\n",
    "**Write a solution to find the total parking fee paid by each car across all parking lots, and the average hourly fee (rounded to 2 decimal places) paid by each car. Also, find the parking lot where each car spent the most total time.**\n",
    "\n",
    "Return the result table ordered by car_id in ascending order.\n",
    "\n",
    "Note: Test cases are generated in such a way that an individual car cannot be in multiple parking lots at the same time.\n",
    "\n",
    "The result format is in the following example.\n",
    "\n",
    "**Example:**\n",
    "\n",
    "**Input:**\n",
    "\n",
    "**ParkingTransactions table:**\n",
    "\n",
    "| lot_id | car_id | entry_time          | exit_time           | fee_paid |\n",
    "|--------|--------|---------------------|---------------------|----------|\n",
    "| 1      | 1001   | 2023-06-01 08:00:00 | 2023-06-01 10:30:00 | 5.00     |\n",
    "| 1      | 1001   | 2023-06-02 11:00:00 | 2023-06-02 12:45:00 | 3.00     |\n",
    "| 2      | 1001   | 2023-06-01 10:45:00 | 2023-06-01 12:00:00 | 6.00     |\n",
    "| 2      | 1002   | 2023-06-01 09:00:00 | 2023-06-01 11:30:00 | 4.00     |\n",
    "| 3      | 1001   | 2023-06-03 07:00:00 | 2023-06-03 09:00:00 | 4.00     |\n",
    "| 3      | 1002   | 2023-06-02 12:00:00 | 2023-06-02 14:00:00 | 2.00     |\n",
    "\n",
    "**Output:**\n",
    "\n",
    "| car_id | total_fee_paid | avg_hourly_fee | most_time_lot |\n",
    "|--------|----------------|----------------|---------------|\n",
    "| 1001   | 18.00          | 2.40           | 1             |\n",
    "| 1002   | 6.00           | 1.33           | 2             |\n",
    "\n",
    "**Explanation:**\n",
    "- For car ID 1001:\n",
    "  - From 2023-06-01 08:00:00 to 2023-06-01 10:30:00 in lot 1: 2.5 hours, fee 5.00\n",
    "  - From 2023-06-02 11:00:00 to 2023-06-02 12:45:00 in lot 1: 1.75 hours, fee 3.00\n",
    "  - From 2023-06-01 10:45:00 to 2023-06-01 12:00:00 in lot 2: 1.25 hours, fee 6.00\n",
    "  - From 2023-06-03 07:00:00 to 2023-06-03 09:00:00 in lot 3: 2 hours, fee 4.00\n",
    "\n",
    "Total fee paid: 18.00, total hours: 7.5, average hourly fee: 2.40, most time spent in lot 1: 4.25 hours.\n",
    "- For car ID 1002:\n",
    "  - From 2023-06-01 09:00:00 to 2023-06-01 11:30:00 in lot 2: 2.5 hours, fee 4.00\n",
    "  - From 2023-06-02 12:00:00 to 2023-06-02 14:00:00 in lot 3: 2 hours, fee 2.00\n",
    "\n",
    "Total fee paid: 6.00, total hours: 4.5, average hourly fee: 1.33, most time spent in lot 2: 2.5 hours.\n",
    "\n",
    "**Note:** Output table is ordered by car_id in ascending order."
   ]
  },
  {
   "cell_type": "code",
   "execution_count": 0,
   "metadata": {
    "application/vnd.databricks.v1+cell": {
     "cellMetadata": {},
     "inputWidgets": {},
     "nuid": "a2368434-0191-416c-aa1d-12cd44cf48e6",
     "showTitle": false,
     "tableResultSettingsMap": {},
     "title": ""
    }
   },
   "outputs": [],
   "source": [
    "parking_transactions_data_3166 = [\n",
    "    (1, 1001, \"2023-06-01 08:00:00\", \"2023-06-01 10:30:00\", 5.00),\n",
    "    (1, 1001, \"2023-06-02 11:00:00\", \"2023-06-02 12:45:00\", 3.00),\n",
    "    (2, 1001, \"2023-06-01 10:45:00\", \"2023-06-01 12:00:00\", 6.00),\n",
    "    (2, 1002, \"2023-06-01 09:00:00\", \"2023-06-01 11:30:00\", 4.00),\n",
    "    (3, 1001, \"2023-06-03 07:00:00\", \"2023-06-03 09:00:00\", 4.00),\n",
    "    (3, 1002, \"2023-06-02 12:00:00\", \"2023-06-02 14:00:00\", 2.00)\n",
    "]\n",
    "\n",
    "parking_transactions_columns_3166 = [\"lot_id\", \"car_id\", \"entry_time\", \"exit_time\", \"fee_paid\"]\n",
    "parking_transactions_df_3166 = spark.createDataFrame(parking_transactions_data_3166, parking_transactions_columns_3166)\n",
    "parking_transactions_df_3166.show()"
   ]
  }
 ],
 "metadata": {
  "application/vnd.databricks.v1+notebook": {
   "computePreferences": null,
   "dashboards": [],
   "environmentMetadata": {
    "base_environment": "",
    "environment_version": "1"
   },
   "inputWidgetPreferences": null,
   "language": "python",
   "notebookMetadata": {
    "pythonIndentUnit": 4
   },
   "notebookName": "3166. Calculate Parking Fees and Duration (Medium)",
   "widgets": {}
  },
  "language_info": {
   "name": "python"
  }
 },
 "nbformat": 4,
 "nbformat_minor": 0
}
