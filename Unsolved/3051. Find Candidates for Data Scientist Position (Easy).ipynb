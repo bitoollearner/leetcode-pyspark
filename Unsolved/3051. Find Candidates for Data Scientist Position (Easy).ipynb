{
 "cells": [
  {
   "cell_type": "markdown",
   "metadata": {
    "application/vnd.databricks.v1+cell": {
     "cellMetadata": {},
     "inputWidgets": {},
     "nuid": "4e9d71b1-88e9-445c-820a-b842e217a4e7",
     "showTitle": false,
     "tableResultSettingsMap": {},
     "title": ""
    }
   },
   "source": [
    "## Importing Libraries"
   ]
  },
  {
   "cell_type": "code",
   "execution_count": 0,
   "metadata": {
    "application/vnd.databricks.v1+cell": {
     "cellMetadata": {},
     "inputWidgets": {},
     "nuid": "e6624c4d-8cb8-4ac4-8c72-81d1b4ecdb57",
     "showTitle": false,
     "tableResultSettingsMap": {},
     "title": ""
    }
   },
   "outputs": [],
   "source": [
    "from pyspark.sql.functions import *\n",
    "from pyspark.sql.types import *\n",
    "from pyspark.sql.window import Window"
   ]
  },
  {
   "cell_type": "markdown",
   "metadata": {
    "application/vnd.databricks.v1+cell": {
     "cellMetadata": {},
     "inputWidgets": {},
     "nuid": "c3788fe5-f4c9-420f-ad72-ec1a39310a2a",
     "showTitle": false,
     "tableResultSettingsMap": {},
     "title": ""
    }
   },
   "source": [
    "**3051. Find Candidates for Data Scientist Position (Easy)**\n",
    "\n",
    "**Table: Candidates**\n",
    "\n",
    "| Column Name  | Type    | \n",
    "|--------------|---------| \n",
    "| candidate_id | int     | \n",
    "| skill        | varchar |\n",
    "\n",
    "(candidate_id, skill) is the primary key (columns with unique values) for this table.\n",
    "Each row includes candidate_id and skill.\n",
    "\n",
    "**Write a query to find the candidates best suited for a Data Scientist position. The candidate must be proficient in Python, Tableau, and PostgreSQL.**\n",
    "\n",
    "Return the result table ordered by candidate_id in ascending order.\n",
    "\n",
    "The result format is in the following example.\n",
    "\n",
    "**Example 1:**\n",
    "\n",
    "**Input:**\n",
    "\n",
    "**Candidates table:**\n",
    "\n",
    "| candidate_id  | skill        | \n",
    "|---------------|--------------|\n",
    "| 123           | Python       |\n",
    "| 234           | R            | \n",
    "| 123           | Tableau      | \n",
    "| 123           | PostgreSQL   | \n",
    "| 234           | PowerBI      | \n",
    "| 234           | SQL Server   | \n",
    "| 147           | Python       | \n",
    "| 147           | Tableau      | \n",
    "| 147           | Java         |\n",
    "| 147           | PostgreSQL   |\n",
    "| 256           | Tableau      |\n",
    "| 102           | DataAnalysis |\n",
    "\n",
    "**Output:**\n",
    "| candidate_id |  \n",
    "|--------------|\n",
    "| 123          |  \n",
    "| 147          | \n",
    "\n",
    "**Explanation:**\n",
    "- Candidates 123 and 147 possess the necessary skills in Python, Tableau, and PostgreSQL for the data scientist position.\n",
    "- Candidates 234 and 102 do not possess any of the required skills for this position.\n",
    "- Candidate 256 has proficiency in Tableau but is missing skills in Python and PostgreSQL.\n",
    "\n",
    "The output table is sorted by candidate_id in ascending order."
   ]
  },
  {
   "cell_type": "code",
   "execution_count": 0,
   "metadata": {
    "application/vnd.databricks.v1+cell": {
     "cellMetadata": {},
     "inputWidgets": {},
     "nuid": "137536ea-9bec-4171-8dc2-4bf8b0d771b4",
     "showTitle": false,
     "tableResultSettingsMap": {},
     "title": ""
    }
   },
   "outputs": [],
   "source": [
    "candidates_data_3051 = [\n",
    "    (123, \"Python\"),\n",
    "    (234, \"R\"),\n",
    "    (123, \"Tableau\"),\n",
    "    (123, \"PostgreSQL\"),\n",
    "    (234, \"PowerBI\"),\n",
    "    (234, \"SQL Server\"),\n",
    "    (147, \"Python\"),\n",
    "    (147, \"Tableau\"),\n",
    "    (147, \"Java\"),\n",
    "    (147, \"PostgreSQL\"),\n",
    "    (256, \"Tableau\"),\n",
    "    (102, \"DataAnalysis\"),\n",
    "]\n",
    "\n",
    "candidates_columns_3051 = [\"candidate_id\", \"skill\"]\n",
    "candidates_df_3051 = spark.createDataFrame(candidates_data_3051, candidates_columns_3051)\n",
    "candidates_df_3051.show()"
   ]
  }
 ],
 "metadata": {
  "application/vnd.databricks.v1+notebook": {
   "computePreferences": null,
   "dashboards": [],
   "environmentMetadata": {
    "base_environment": "",
    "environment_version": "1"
   },
   "inputWidgetPreferences": null,
   "language": "python",
   "notebookMetadata": {
    "pythonIndentUnit": 4
   },
   "notebookName": "3051. Find Candidates for Data Scientist Position (Easy)",
   "widgets": {}
  },
  "language_info": {
   "name": "python"
  }
 },
 "nbformat": 4,
 "nbformat_minor": 0
}
