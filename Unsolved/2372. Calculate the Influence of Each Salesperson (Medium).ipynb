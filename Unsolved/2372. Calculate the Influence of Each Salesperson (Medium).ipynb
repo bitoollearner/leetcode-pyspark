{
 "cells": [
  {
   "cell_type": "markdown",
   "metadata": {
    "application/vnd.databricks.v1+cell": {
     "cellMetadata": {},
     "inputWidgets": {},
     "nuid": "4e9d71b1-88e9-445c-820a-b842e217a4e7",
     "showTitle": false,
     "tableResultSettingsMap": {},
     "title": ""
    }
   },
   "source": [
    "## Importing Libraries"
   ]
  },
  {
   "cell_type": "code",
   "execution_count": 0,
   "metadata": {
    "application/vnd.databricks.v1+cell": {
     "cellMetadata": {},
     "inputWidgets": {},
     "nuid": "e6624c4d-8cb8-4ac4-8c72-81d1b4ecdb57",
     "showTitle": false,
     "tableResultSettingsMap": {},
     "title": ""
    }
   },
   "outputs": [],
   "source": [
    "from pyspark.sql.functions import *\n",
    "from pyspark.sql.types import *\n",
    "from pyspark.sql.window import Window"
   ]
  },
  {
   "cell_type": "markdown",
   "metadata": {
    "application/vnd.databricks.v1+cell": {
     "cellMetadata": {},
     "inputWidgets": {},
     "nuid": "c3788fe5-f4c9-420f-ad72-ec1a39310a2a",
     "showTitle": false,
     "tableResultSettingsMap": {},
     "title": ""
    }
   },
   "source": [
    "**2372. Calculate the Influence of Each Salesperson (Medium)**\n",
    "\n",
    "**Table: Salesperson**\n",
    "\n",
    "| Column Name    | Type    |\n",
    "|----------------|---------|\n",
    "| salesperson_id | int     |\n",
    "| name           | varchar |\n",
    "\n",
    "salesperson_id contains unique values.\n",
    "Each row in this table shows the ID of a salesperson.\n",
    " \n",
    "**Table: Customer**\n",
    "\n",
    "| Column Name    | Type |\n",
    "|----------------|------|\n",
    "| customer_id    | int  |\n",
    "| salesperson_id | int  |\n",
    "\n",
    "customer_id contains unique values.\n",
    "salesperson_id is a foreign key (reference column) from the Salesperson table.\n",
    "Each row in this table shows the ID of a customer and the ID of the salesperson. \n",
    " \n",
    "**Table: Sales**\n",
    "\n",
    "| Column Name | Type |\n",
    "|-------------|------|\n",
    "| sale_id     | int  |\n",
    "| customer_id | int  |\n",
    "| price       | int  |\n",
    "\n",
    "sale_id contains unique values.\n",
    "customer_id is a foreign key (reference column) from the Customer table.\n",
    "Each row in this table shows ID of a customer and the price they paid for the sale with sale_id.\n",
    " \n",
    "**Write a solution to report the sum of prices paid by the customers of each salesperson. If a salesperson does not have any customers, the total value should be 0.**\n",
    "\n",
    "Return the result table in any order.\n",
    "\n",
    "The result format is shown in the following example.\n",
    "\n",
    "**Example 1:**\n",
    "\n",
    "**Input:** \n",
    "\n",
    "**Salesperson table:**\n",
    "\n",
    "| salesperson_id | name  |\n",
    "|----------------|-------|\n",
    "| 1              | Alice |\n",
    "| 2              | Bob   |\n",
    "| 3              | Jerry |\n",
    "\n",
    "**Customer table:**\n",
    "| customer_id | salesperson_id |\n",
    "|-------------|----------------|\n",
    "| 1           | 1              |\n",
    "| 2           | 1              |\n",
    "| 3           | 2              |\n",
    "\n",
    "**Sales table:**\n",
    "| sale_id | customer_id | price |\n",
    "|---------|-------------|-------|\n",
    "| 1       | 2           | 892   |\n",
    "| 2       | 1           | 354   |\n",
    "| 3       | 3           | 988   |\n",
    "| 4       | 3           | 856   |\n",
    "\n",
    "**Output:** \n",
    "| salesperson_id | name  | total |\n",
    "|----------------|-------|-------|\n",
    "| 1              | Alice | 1246  |\n",
    "| 2              | Bob   | 1844  |\n",
    "| 3              | Jerry | 0     |\n",
    "\n",
    "**Explanation:** \n",
    "\n",
    "Alice is the salesperson for customers 1 and 2.\n",
    "  - Customer 1 made one purchase with 354.\n",
    "  - Customer 2 made one purchase with 892.\n",
    "\n",
    "The total for Alice is 354 + 892 = 1246.\n",
    "\n",
    "Bob is the salesperson for customers 3.\n",
    "  - Customer 1 made one purchase with 988 and 856.\n",
    "\n",
    "The total for Bob is 988 + 856 = 1844.\n",
    "\n",
    "Jerry is not the salesperson of any customer.\n",
    "\n",
    "The total for Jerry is 0."
   ]
  },
  {
   "cell_type": "code",
   "execution_count": 0,
   "metadata": {
    "application/vnd.databricks.v1+cell": {
     "cellMetadata": {},
     "inputWidgets": {},
     "nuid": "137536ea-9bec-4171-8dc2-4bf8b0d771b4",
     "showTitle": false,
     "tableResultSettingsMap": {},
     "title": ""
    }
   },
   "outputs": [],
   "source": [
    "salesperson_data_2372 = [\n",
    "    (1, \"Alice\"),\n",
    "    (2, \"Bob\"),\n",
    "    (3, \"Jerry\"),\n",
    "]\n",
    "\n",
    "salesperson_columns_2372 = [\"salesperson_id\", \"name\"]\n",
    "salesperson_df_2372 = spark.createDataFrame(salesperson_data_2372, salesperson_columns_2372)\n",
    "salesperson_df_2372.show()\n",
    "\n",
    "customer_data_2372 = [\n",
    "    (1, 1),\n",
    "    (2, 1),\n",
    "    (3, 2),\n",
    "]\n",
    "\n",
    "customer_columns_2372 = [\"customer_id\", \"salesperson_id\"]\n",
    "customer_df_2372 = spark.createDataFrame(customer_data_2372, customer_columns_2372)\n",
    "customer_df_2372.show()\n",
    "\n",
    "sales_data_2372 = [\n",
    "    (1, 2, 892),\n",
    "    (2, 1, 354),\n",
    "    (3, 3, 988),\n",
    "    (4, 3, 856),\n",
    "]\n",
    "\n",
    "sales_columns_2372 = [\"sale_id\", \"customer_id\", \"price\"]\n",
    "sales_df_2372 = spark.createDataFrame(sales_data_2372, sales_columns_2372)\n",
    "sales_df_2372.show()"
   ]
  }
 ],
 "metadata": {
  "application/vnd.databricks.v1+notebook": {
   "computePreferences": null,
   "dashboards": [],
   "environmentMetadata": {
    "base_environment": "",
    "environment_version": "1"
   },
   "inputWidgetPreferences": null,
   "language": "python",
   "notebookMetadata": {
    "pythonIndentUnit": 4
   },
   "notebookName": "2372. Calculate the Influence of Each Salesperson (Medium)",
   "widgets": {}
  }
 },
 "nbformat": 4,
 "nbformat_minor": 0
}