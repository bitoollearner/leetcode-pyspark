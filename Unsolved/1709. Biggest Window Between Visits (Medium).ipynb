{
 "cells": [
  {
   "cell_type": "markdown",
   "metadata": {
    "application/vnd.databricks.v1+cell": {
     "cellMetadata": {},
     "inputWidgets": {},
     "nuid": "fadf709d-de3d-4bfc-b69f-3b489de68bef",
     "showTitle": false,
     "tableResultSettingsMap": {},
     "title": ""
    }
   },
   "source": [
    "## Importing Libraries"
   ]
  },
  {
   "cell_type": "code",
   "execution_count": 0,
   "metadata": {
    "application/vnd.databricks.v1+cell": {
     "cellMetadata": {},
     "inputWidgets": {},
     "nuid": "d4a1fef1-aa99-469c-b35f-9b3f3e81c9f7",
     "showTitle": false,
     "tableResultSettingsMap": {},
     "title": ""
    }
   },
   "outputs": [],
   "source": [
    "from pyspark.sql.functions import *\n",
    "from pyspark.sql.types import *\n",
    "from pyspark.sql.window import Window"
   ]
  },
  {
   "cell_type": "markdown",
   "metadata": {
    "application/vnd.databricks.v1+cell": {
     "cellMetadata": {},
     "inputWidgets": {},
     "nuid": "78daa073-80d8-4f7e-9cfa-10f6eb568909",
     "showTitle": false,
     "tableResultSettingsMap": {},
     "title": ""
    }
   },
   "source": [
    "**1709. Biggest Window Between Visits (Medium)**\n",
    "\n",
    "**Table: UserVisits**\n",
    "\n",
    "| Column Name | Type |\n",
    "|-------------|------|\n",
    "| user_id     | int  |\n",
    "| visit_date  | date |\n",
    "\n",
    "This table does not have a primary key, it might contain duplicate rows.\n",
    "This table contains logs of the dates that users visited a certain retailer.\n",
    " \n",
    "Assume today's date is '2021-1-1'.\n",
    "\n",
    "**Write a solution that will, for each user_id, find out the largest window of days between each visit and the one right after it (or today if you are considering the last visit).**\n",
    "\n",
    "Return the result table ordered by user_id.\n",
    "\n",
    "The query result format is in the following example.\n",
    "\n",
    "**Example 1:**\n",
    "\n",
    "**Input:** \n",
    "\n",
    "**UserVisits table:**\n",
    "\n",
    "| user_id | visit_date |\n",
    "|---------|------------|\n",
    "| 1       | 2020-11-28 |\n",
    "| 1       | 2020-10-20 |\n",
    "| 1       | 2020-12-3  |\n",
    "| 2       | 2020-10-5  |\n",
    "| 2       | 2020-12-9  |\n",
    "| 3       | 2020-11-11 |\n",
    "\n",
    "**Output:** \n",
    "| user_id | biggest_window|\n",
    "|---------|---------------|\n",
    "| 1       | 39            |\n",
    "| 2       | 65            |\n",
    "| 3       | 51            |\n",
    "\n",
    "**Explanation:** \n",
    "- For the first user, the windows in question are between dates:\n",
    "    - 2020-10-20 and 2020-11-28 with a total of 39 days. \n",
    "    - 2020-11-28 and 2020-12-3 with a total of 5 days. \n",
    "    - 2020-12-3 and 2021-1-1 with a total of 29 days.\n",
    "\n",
    "Making the biggest window the one with 39 days.\n",
    "\n",
    "- For the second user, the windows in question are between dates:\n",
    "    - 2020-10-5 and 2020-12-9 with a total of 65 days.\n",
    "    - 2020-12-9 and 2021-1-1 with a total of 23 days.\n",
    "\n",
    "Making the biggest window the one with 65 days.\n",
    "\n",
    "- For the third user, the only window in question is between dates 2020-11-11 and 2021-1-1 with a total of 51 days."
   ]
  },
  {
   "cell_type": "code",
   "execution_count": 0,
   "metadata": {
    "application/vnd.databricks.v1+cell": {
     "cellMetadata": {},
     "inputWidgets": {},
     "nuid": "7b78bc27-26cd-4523-8646-7369baf68fcb",
     "showTitle": false,
     "tableResultSettingsMap": {},
     "title": ""
    }
   },
   "outputs": [],
   "source": [
    "user_visits_data_1709 = [\n",
    "    (1, \"2020-11-28\"),\n",
    "    (1, \"2020-10-20\"),\n",
    "    (1, \"2020-12-3\"),\n",
    "    (2, \"2020-10-5\"),\n",
    "    (2, \"2020-12-9\"),\n",
    "    (3, \"2020-11-11\"),\n",
    "]\n",
    "\n",
    "user_visits_columns_1709 = [\"user_id\", \"visit_date\"]\n",
    "user_visits_df_1709 = spark.createDataFrame(user_visits_data_1709, user_visits_columns_1709)\n",
    "user_visits_df_1709.show()"
   ]
  }
 ],
 "metadata": {
  "application/vnd.databricks.v1+notebook": {
   "computePreferences": null,
   "dashboards": [],
   "environmentMetadata": {
    "base_environment": "",
    "environment_version": "1"
   },
   "inputWidgetPreferences": null,
   "language": "python",
   "notebookMetadata": {
    "pythonIndentUnit": 4
   },
   "notebookName": "1709. Biggest Window Between Visits (Medium)",
   "widgets": {}
  }
 },
 "nbformat": 4,
 "nbformat_minor": 0
}