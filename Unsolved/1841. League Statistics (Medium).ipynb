{
 "cells": [
  {
   "cell_type": "markdown",
   "metadata": {
    "application/vnd.databricks.v1+cell": {
     "cellMetadata": {},
     "inputWidgets": {},
     "nuid": "fadf709d-de3d-4bfc-b69f-3b489de68bef",
     "showTitle": false,
     "tableResultSettingsMap": {},
     "title": ""
    }
   },
   "source": [
    "## Importing Libraries"
   ]
  },
  {
   "cell_type": "code",
   "execution_count": 0,
   "metadata": {
    "application/vnd.databricks.v1+cell": {
     "cellMetadata": {},
     "inputWidgets": {},
     "nuid": "d4a1fef1-aa99-469c-b35f-9b3f3e81c9f7",
     "showTitle": false,
     "tableResultSettingsMap": {},
     "title": ""
    }
   },
   "outputs": [],
   "source": [
    "from pyspark.sql.functions import *\n",
    "from pyspark.sql.types import *\n",
    "from pyspark.sql.window import Window"
   ]
  },
  {
   "cell_type": "markdown",
   "metadata": {
    "application/vnd.databricks.v1+cell": {
     "cellMetadata": {},
     "inputWidgets": {},
     "nuid": "78daa073-80d8-4f7e-9cfa-10f6eb568909",
     "showTitle": false,
     "tableResultSettingsMap": {},
     "title": ""
    }
   },
   "source": [
    "**1841. League Statistics (Medium)**\n",
    "\n",
    "**Table: Teams**\n",
    "\n",
    "| Column Name    | Type    |\n",
    "|----------------|---------|\n",
    "| team_id        | int     |\n",
    "| team_name      | varchar |\n",
    "\n",
    "team_id is the column with unique values for this table.\n",
    "Each row contains information about one team in the league.\n",
    " \n",
    "\n",
    "**Table: Matches**\n",
    "\n",
    "| Column Name     | Type    |\n",
    "|-----------------|---------|\n",
    "| home_team_id    | int     |\n",
    "| away_team_id    | int     |\n",
    "| home_team_goals | int     |\n",
    "| away_team_goals | int     |\n",
    "\n",
    "(home_team_id, away_team_id) is the primary key (combination of columns with unique values) for this table.\n",
    "Each row contains information about one match.\n",
    "home_team_goals is the number of goals scored by the home team.\n",
    "away_team_goals is the number of goals scored by the away team.\n",
    "The winner of the match is the team with the higher number of goals.\n",
    " \n",
    "**Write a solution to report the statistics of the league. The statistics should be built using the played matches where the winning team gets three points and the losing team gets no points. If a match ends with a draw, both teams get one point.**\n",
    "\n",
    "Each row of the result table should contain:\n",
    "- team_name - The name of the team in the Teams table.\n",
    "- matches_played - The number of matches played as either a home or away team.\n",
    "- points - The total points the team has so far.\n",
    "- goal_for - The total number of goals scored by the team across all matches.\n",
    "- goal_against - The total number of goals scored by opponent teams against this team across all matches.\n",
    "- goal_diff - The result of goal_for - goal_against.\n",
    "\n",
    "Return the result table ordered by points in descending order. If two or more teams have the same points, order them by goal_diff in descending order. If there is still a tie, order them by team_name in lexicographical order.\n",
    "\n",
    "The result format is in the following example.\n",
    "\n",
    "**Example 1:**\n",
    "\n",
    "**Input:** \n",
    "\n",
    "**Teams table:**\n",
    "\n",
    "| team_id | team_name |\n",
    "|---------|-----------|\n",
    "| 1       | Ajax      |\n",
    "| 4       | Dortmund  |\n",
    "| 6       | Arsenal   |\n",
    "\n",
    "**Matches table:**\n",
    "| home_team_id | away_team_id | home_team_goals | away_team_goals |\n",
    "|--------------|--------------|-----------------|-----------------|\n",
    "| 1            | 4            | 0               | 1               |\n",
    "| 1            | 6            | 3               | 3               |\n",
    "| 4            | 1            | 5               | 2               |\n",
    "| 6            | 1            | 0               | 0               |\n",
    "\n",
    "**Output:** \n",
    "| team_name | matches_played | points | goal_for | goal_against | goal_diff |\n",
    "|-----------|----------------|--------|----------|--------------|-----------|\n",
    "| Dortmund  | 2              | 6      | 6        | 2            | 4         |\n",
    "| Arsenal   | 2              | 2      | 3        | 3            | 0         |\n",
    "| Ajax      | 4              | 2      | 5        | 9            | -4        |\n",
    "\n",
    "**Explanation:** \n",
    "- Ajax (team_id=1) played 4 matches: 2 losses and 2 draws. Total points = 0 + 0 + 1 + 1 = 2.\n",
    "- Dortmund (team_id=4) played 2 matches: 2 wins. Total points = 3 + 3 = 6.\n",
    "- Arsenal (team_id=6) played 2 matches: 2 draws. Total points = 1 + 1 = 2.\n",
    "- Dortmund is the first team in the table. Ajax and Arsenal have the same points, but since Arsenal has a higher goal_diff than Ajax, Arsenal comes before Ajax in the table."
   ]
  },
  {
   "cell_type": "code",
   "execution_count": 0,
   "metadata": {
    "application/vnd.databricks.v1+cell": {
     "cellMetadata": {},
     "inputWidgets": {},
     "nuid": "7b78bc27-26cd-4523-8646-7369baf68fcb",
     "showTitle": false,
     "tableResultSettingsMap": {},
     "title": ""
    }
   },
   "outputs": [],
   "source": [
    "teams_data_1841 = [\n",
    "    (1, \"Ajax\"),\n",
    "    (4, \"Dortmund\"),\n",
    "    (6, \"Arsenal\"),\n",
    "]\n",
    "\n",
    "teams_columns_1841 = [\"team_id\", \"team_name\"]\n",
    "teams_df_1841 = spark.createDataFrame(teams_data_1841, teams_columns_1841)\n",
    "teams_df_1841.show()\n",
    "\n",
    "matches_data_1841 = [\n",
    "    (1, 4, 0, 1),\n",
    "    (1, 6, 3, 3),\n",
    "    (4, 1, 5, 2),\n",
    "    (6, 1, 0, 0),\n",
    "]\n",
    "\n",
    "matches_columns_1841 = [\"home_team_id\", \"away_team_id\", \"home_team_goals\", \"away_team_goals\"]\n",
    "matches_df_1841 = spark.createDataFrame(matches_data_1841, matches_columns_1841)\n",
    "matches_df_1841.show()"
   ]
  }
 ],
 "metadata": {
  "application/vnd.databricks.v1+notebook": {
   "computePreferences": null,
   "dashboards": [],
   "environmentMetadata": {
    "base_environment": "",
    "environment_version": "1"
   },
   "inputWidgetPreferences": null,
   "language": "python",
   "notebookMetadata": {
    "pythonIndentUnit": 4
   },
   "notebookName": "1841. League Statistics (Medium)",
   "widgets": {}
  },
  "language_info": {
   "name": "python"
  }
 },
 "nbformat": 4,
 "nbformat_minor": 0
}
