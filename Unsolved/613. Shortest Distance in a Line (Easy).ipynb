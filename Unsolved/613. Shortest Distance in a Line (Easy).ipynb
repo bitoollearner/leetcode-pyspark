{
 "cells": [
  {
   "cell_type": "markdown",
   "metadata": {
    "application/vnd.databricks.v1+cell": {
     "cellMetadata": {},
     "inputWidgets": {},
     "nuid": "5ab27f1b-7c08-44cb-8766-b16c3470b90d",
     "showTitle": false,
     "tableResultSettingsMap": {},
     "title": ""
    }
   },
   "source": [
    "## Importing Libraries"
   ]
  },
  {
   "cell_type": "code",
   "execution_count": 0,
   "metadata": {
    "application/vnd.databricks.v1+cell": {
     "cellMetadata": {},
     "inputWidgets": {},
     "nuid": "0d316502-e6b4-4432-b3fd-6159096e4951",
     "showTitle": false,
     "tableResultSettingsMap": {},
     "title": ""
    }
   },
   "outputs": [],
   "source": [
    "from pyspark.sql.functions import *\n",
    "from pyspark.sql.types import *\n",
    "from pyspark.sql.window import Window"
   ]
  },
  {
   "cell_type": "markdown",
   "metadata": {
    "application/vnd.databricks.v1+cell": {
     "cellMetadata": {},
     "inputWidgets": {},
     "nuid": "2e4d3e31-be24-427a-bc7e-362b6765c4fa",
     "showTitle": false,
     "tableResultSettingsMap": {},
     "title": ""
    }
   },
   "source": [
    "**613. Shortest Distance in a Line (Easy)**\n",
    "\n",
    "**Table: Point**\n",
    "\n",
    "| Column Name | Type |\n",
    "|-------------|------|\n",
    "| x           | int  |\n",
    "\n",
    "In SQL, x is the primary key column for this table.\n",
    "Each row of this table indicates the position of a point on the X-axis.\n",
    "\n",
    "**Find the shortest distance between any two points from the Point table.**\n",
    "\n",
    "The result format is in the following example.\n",
    "\n",
    "**Example 1:**\n",
    "\n",
    "**Input:** \n",
    "\n",
    "**Point table:**\n",
    "\n",
    "| x  |\n",
    "|----|\n",
    "| -1 |\n",
    "| 0  |\n",
    "| 2  |\n",
    "\n",
    "**Output:** \n",
    "| shortest |\n",
    "|----------|\n",
    "| 1        |\n",
    "\n",
    "**Explanation:** The shortest distance is between points -1 and 0 which is |(-1) - 0| = 1.\n",
    "\n",
    "**Follow up:** How could you optimize your solution if the Point table is ordered in ascending order?"
   ]
  },
  {
   "cell_type": "code",
   "execution_count": 0,
   "metadata": {
    "application/vnd.databricks.v1+cell": {
     "cellMetadata": {},
     "inputWidgets": {},
     "nuid": "f6f11a82-8828-41ca-828a-e88f8586b97a",
     "showTitle": false,
     "tableResultSettingsMap": {},
     "title": ""
    }
   },
   "outputs": [],
   "source": [
    "point_data_613 = [(-1,), (0,), (2,)]\n",
    "point_columns_613 = ['x']\n",
    "\n",
    "point_df_613 = spark.createDataFrame(point_data_613, point_columns_613)\n",
    "point_df_613.show()"
   ]
  }
 ],
 "metadata": {
  "application/vnd.databricks.v1+notebook": {
   "computePreferences": null,
   "dashboards": [],
   "environmentMetadata": {
    "base_environment": "",
    "environment_version": "1"
   },
   "inputWidgetPreferences": null,
   "language": "python",
   "notebookMetadata": {
    "pythonIndentUnit": 4
   },
   "notebookName": "613. Shortest Distance in a Line (Easy)",
   "widgets": {}
  },
  "language_info": {
   "name": "python"
  }
 },
 "nbformat": 4,
 "nbformat_minor": 0
}
