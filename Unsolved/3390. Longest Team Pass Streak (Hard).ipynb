{
 "cells": [
  {
   "cell_type": "markdown",
   "metadata": {
    "application/vnd.databricks.v1+cell": {
     "cellMetadata": {},
     "inputWidgets": {},
     "nuid": "7d1791bd-9552-4116-90b2-daa678bbffb8",
     "showTitle": false,
     "tableResultSettingsMap": {},
     "title": ""
    }
   },
   "source": [
    "## Importing Libraries"
   ]
  },
  {
   "cell_type": "code",
   "execution_count": 0,
   "metadata": {
    "application/vnd.databricks.v1+cell": {
     "cellMetadata": {},
     "inputWidgets": {},
     "nuid": "2901fbc9-49db-4285-8b94-c460f34d4c4f",
     "showTitle": false,
     "tableResultSettingsMap": {},
     "title": ""
    }
   },
   "outputs": [],
   "source": [
    "from pyspark.sql.functions import *\n",
    "from pyspark.sql.types import *\n",
    "from pyspark.sql.window import Window"
   ]
  },
  {
   "cell_type": "markdown",
   "metadata": {
    "application/vnd.databricks.v1+cell": {
     "cellMetadata": {},
     "inputWidgets": {},
     "nuid": "655120e7-6b25-417c-a08a-c6925feaa425",
     "showTitle": false,
     "tableResultSettingsMap": {},
     "title": ""
    }
   },
   "source": [
    "**3390. Longest Team Pass Streak (Hard)**\n",
    "\n",
    "**Table: Teams**\n",
    "\n",
    "| Column Name | Type    |\n",
    "|-------------|---------|\n",
    "| player_id   | int     |\n",
    "| team_name   | varchar | \n",
    "\n",
    "player_id is the unique key for this table.\n",
    "Each row contains the unique identifier for player and the name of one of the teams participating in that match.\n",
    "\n",
    "**Table: Passes**\n",
    "\n",
    "| Column Name | Type    |\n",
    "|-------------|---------|\n",
    "| pass_from   | int     |\n",
    "| time_stamp  | varchar |\n",
    "| pass_to     | int     |\n",
    "\n",
    "(pass_from, time_stamp) is the unique key for this table.\n",
    "pass_from is a foreign key to player_id from Teams table.\n",
    "Each row represents a pass made during a match, time_stamp represents the time in minutes (00:00-90:00) when the pass was made,\n",
    "pass_to is the player_id of the player receiving the pass.\n",
    "\n",
    "**Write a solution to find the longest successful pass streak for each team during the match. The rules are as follows:**\n",
    "\n",
    "- A successful pass streak is defined as consecutive passes where:\n",
    "  - Both the pass_from and pass_to players belong to the same team\n",
    "- A streak breaks when either:\n",
    "  - The pass is intercepted (received by a player from the opposing team)\n",
    "\n",
    "Return the result table ordered by team_name in ascending order.\n",
    "\n",
    "The result format is in the following example.\n",
    "\n",
    "**Example:**\n",
    "\n",
    "**Input:**\n",
    "\n",
    "**Teams table:**\n",
    "\n",
    "| player_id | team_name |\n",
    "|-----------|-----------|\n",
    "| 1         | Arsenal   |\n",
    "| 2         | Arsenal   |\n",
    "| 3         | Arsenal   |\n",
    "| 4         | Arsenal   |\n",
    "| 5         | Chelsea   |\n",
    "| 6         | Chelsea   |\n",
    "| 7         | Chelsea   |\n",
    "| 8         | Chelsea   |\n",
    "\n",
    "**Passes table:**\n",
    "\n",
    "| pass_from | time_stamp | pass_to |\n",
    "|-----------|------------|---------|\n",
    "| 1         | 00:05      | 2       |\n",
    "| 2         | 00:07      | 3       |\n",
    "| 3         | 00:08      | 4       |\n",
    "| 4         | 00:10      | 5       |\n",
    "| 6         | 00:15      | 7       |\n",
    "| 7         | 00:17      | 8       |\n",
    "| 8         | 00:20      | 6       |\n",
    "| 6         | 00:22      | 5       |\n",
    "| 1         | 00:25      | 2       |\n",
    "| 2         | 00:27      | 3       |\n",
    "\n",
    "**Output:**\n",
    "\n",
    "| team_name | longest_streak |\n",
    "|-----------|----------------|\n",
    "| Arsenal   | 3              |\n",
    "| Chelsea   | 4              |\n",
    "\n",
    "\n",
    "**Explanation:**\n",
    "- Arsenal's streaks:\n",
    "  - First streak: 3 passes (1→2→3→4) ended when player 4 passed to Chelsea's player 5\n",
    "  - Second streak: 2 passes (1→2→3)\n",
    "  - Longest streak = 3\n",
    "- Chelsea's streaks:\n",
    "  - First streak: 3 passes (6→7→8→6→5)\n",
    "  - Longest streak = 4"
   ]
  },
  {
   "cell_type": "code",
   "execution_count": 0,
   "metadata": {
    "application/vnd.databricks.v1+cell": {
     "cellMetadata": {},
     "inputWidgets": {},
     "nuid": "a2368434-0191-416c-aa1d-12cd44cf48e6",
     "showTitle": false,
     "tableResultSettingsMap": {},
     "title": ""
    }
   },
   "outputs": [],
   "source": [
    "teams_data_3390 = [\n",
    "    (1, \"Arsenal\"),\n",
    "    (2, \"Arsenal\"),\n",
    "    (3, \"Arsenal\"),\n",
    "    (4, \"Arsenal\"),\n",
    "    (5, \"Chelsea\"),\n",
    "    (6, \"Chelsea\"),\n",
    "    (7, \"Chelsea\"),\n",
    "    (8, \"Chelsea\")\n",
    "]\n",
    "\n",
    "teams_columns_3390 = [\"player_id\", \"team_name\"]\n",
    "teams_df_3390 = spark.createDataFrame(teams_data_3390, teams_columns_3390)\n",
    "teams_df_3390.show()\n",
    "\n",
    "passes_data_3390 = [\n",
    "    (1, \"00:05\", 2),  \n",
    "    (2, \"00:07\", 3),  \n",
    "    (3, \"00:08\", 4),  \n",
    "    (4, \"00:10\", 5),  \n",
    "    (6, \"00:15\", 7),  \n",
    "    (7, \"00:17\", 8),  \n",
    "    (8, \"00:20\", 6),  \n",
    "    (6, \"00:22\", 5),  \n",
    "    (1, \"00:25\", 2),  \n",
    "    (2, \"00:27\", 3)   \n",
    "]\n",
    "\n",
    "passes_columns_3390 = [\"pass_from\", \"time_stamp\", \"pass_to\"]\n",
    "passes_df_3390 = spark.createDataFrame(passes_data_3390, passes_columns_3390)\n",
    "passes_df_3390.show()"
   ]
  }
 ],
 "metadata": {
  "application/vnd.databricks.v1+notebook": {
   "computePreferences": null,
   "dashboards": [],
   "environmentMetadata": {
    "base_environment": "",
    "environment_version": "1"
   },
   "inputWidgetPreferences": null,
   "language": "python",
   "notebookMetadata": {
    "pythonIndentUnit": 4
   },
   "notebookName": "3390. Longest Team Pass Streak (Hard)",
   "widgets": {}
  },
  "language_info": {
   "name": "python"
  }
 },
 "nbformat": 4,
 "nbformat_minor": 0
}
