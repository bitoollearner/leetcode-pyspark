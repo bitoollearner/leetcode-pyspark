{
 "cells": [
  {
   "cell_type": "markdown",
   "metadata": {
    "application/vnd.databricks.v1+cell": {
     "cellMetadata": {},
     "inputWidgets": {},
     "nuid": "3f2ab884-5b2e-4c2a-b90f-eba6d7208edf",
     "showTitle": false,
     "tableResultSettingsMap": {},
     "title": ""
    }
   },
   "source": [
    "## Importing Libraries"
   ]
  },
  {
   "cell_type": "code",
   "execution_count": 0,
   "metadata": {
    "application/vnd.databricks.v1+cell": {
     "cellMetadata": {},
     "inputWidgets": {},
     "nuid": "26c9d69f-b471-43b4-aaee-40c41d01994e",
     "showTitle": false,
     "tableResultSettingsMap": {},
     "title": ""
    }
   },
   "outputs": [],
   "source": [
    "from pyspark.sql.functions import *\n",
    "from pyspark.sql.types import *\n",
    "from pyspark.sql.window import Window"
   ]
  },
  {
   "cell_type": "markdown",
   "metadata": {
    "application/vnd.databricks.v1+cell": {
     "cellMetadata": {},
     "inputWidgets": {},
     "nuid": "fa1c2280-e46c-403e-8996-25b01a84ec72",
     "showTitle": false,
     "tableResultSettingsMap": {},
     "title": ""
    }
   },
   "source": [
    "**1112. Highest Grade For Each Student (Medium)**\n",
    "\n",
    "**Table: Enrollments**\n",
    "\n",
    "| Column Name   | Type    |\n",
    "|---------------|---------|\n",
    "| student_id    | int     |\n",
    "| course_id     | int     |\n",
    "| grade         | int     |\n",
    "\n",
    "(student_id, course_id) is the primary key (combination of columns with unique values) of this table.\n",
    "grade is never NULL.\n",
    " \n",
    "**Write a solution to find the highest grade with its corresponding course for each student. In case of a tie, you should find the course with the smallest course_id.**\n",
    "\n",
    "Return the result table ordered by student_id in ascending order.\n",
    "\n",
    "The result format is in the following example.\n",
    "\n",
    "**Example 1:**\n",
    "\n",
    "**Input:** \n",
    "\n",
    "**Enrollments table:**\n",
    "\n",
    "| student_id | course_id | grade |\n",
    "|------------|-----------|-------|\n",
    "| 2          | 2         | 95    |\n",
    "| 2          | 3         | 95    |\n",
    "| 1          | 1         | 90    |\n",
    "| 1          | 2         | 99    |\n",
    "| 3          | 1         | 80    |\n",
    "| 3          | 2         | 75    |\n",
    "| 3          | 3         | 82    |\n",
    "\n",
    "**Output:** \n",
    "| student_id | course_id | grade |\n",
    "|------------|-----------|-------|\n",
    "| 1          | 2         | 99    |\n",
    "| 2          | 2         | 95    |\n",
    "| 3          | 3         | 82    |\n"
   ]
  },
  {
   "cell_type": "code",
   "execution_count": 0,
   "metadata": {
    "application/vnd.databricks.v1+cell": {
     "cellMetadata": {},
     "inputWidgets": {},
     "nuid": "dddf2382-d3f5-49ba-9108-34f298edfb81",
     "showTitle": false,
     "tableResultSettingsMap": {},
     "title": ""
    }
   },
   "outputs": [],
   "source": [
    "enrollments_data_1112 = [\n",
    "    (2, 2, 95),\n",
    "    (2, 3, 95),\n",
    "    (1, 1, 90),\n",
    "    (1, 2, 99),\n",
    "    (3, 1, 80),\n",
    "    (3, 2, 75),\n",
    "    (3, 3, 82),\n",
    "]\n",
    "\n",
    "enrollments_columns_1112 = [\"student_id\", \"course_id\", \"grade\"]\n",
    "enrollments_df_1112 = spark.createDataFrame(enrollments_data_1112, enrollments_columns_1112)\n",
    "enrollments_df_1112.show()"
   ]
  }
 ],
 "metadata": {
  "application/vnd.databricks.v1+notebook": {
   "computePreferences": null,
   "dashboards": [],
   "environmentMetadata": {
    "base_environment": "",
    "environment_version": "1"
   },
   "inputWidgetPreferences": null,
   "language": "python",
   "notebookMetadata": {
    "pythonIndentUnit": 4
   },
   "notebookName": "1112. Highest Grade For Each Student (Medium)",
   "widgets": {}
  }
 },
 "nbformat": 4,
 "nbformat_minor": 0
}