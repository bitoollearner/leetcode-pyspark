{
 "cells": [
  {
   "cell_type": "markdown",
   "metadata": {
    "application/vnd.databricks.v1+cell": {
     "cellMetadata": {},
     "inputWidgets": {},
     "nuid": "4e9d71b1-88e9-445c-820a-b842e217a4e7",
     "showTitle": false,
     "tableResultSettingsMap": {},
     "title": ""
    }
   },
   "source": [
    "## Importing Libraries"
   ]
  },
  {
   "cell_type": "code",
   "execution_count": 0,
   "metadata": {
    "application/vnd.databricks.v1+cell": {
     "cellMetadata": {},
     "inputWidgets": {},
     "nuid": "e6624c4d-8cb8-4ac4-8c72-81d1b4ecdb57",
     "showTitle": false,
     "tableResultSettingsMap": {},
     "title": ""
    }
   },
   "outputs": [],
   "source": [
    "from pyspark.sql.functions import *\n",
    "from pyspark.sql.types import *\n",
    "from pyspark.sql.window import Window"
   ]
  },
  {
   "cell_type": "markdown",
   "metadata": {
    "application/vnd.databricks.v1+cell": {
     "cellMetadata": {},
     "inputWidgets": {},
     "nuid": "c3788fe5-f4c9-420f-ad72-ec1a39310a2a",
     "showTitle": false,
     "tableResultSettingsMap": {},
     "title": ""
    }
   },
   "source": [
    "**2253. Dynamic Unpivoting of a Table (Hard)**\n",
    "\n",
    "**Table: Products**\n",
    "\n",
    "| Column Name | Type    |\n",
    "|-------------|---------|\n",
    "| product_id  | int     |\n",
    "| store_name1 | int     |\n",
    "| store_name2 | int     |\n",
    "|      :      | int     |\n",
    "|      :      | int     |\n",
    "|      :      | int     |\n",
    "| store_namen | int     |\n",
    "\n",
    "product_id is the primary key for this table.\n",
    "Each row in this table indicates the product's price in n different stores.\n",
    "If the product is not available in a store, the price will be null in that store's column.\n",
    "The names of the stores may change from one testcase to another. There will be at least 1 store and at most 30 stores.\n",
    " \n",
    "**Important note:** This problem targets those who have a good experience with PySpark. If you are a beginner, we recommend that you skip it for now.\n",
    "\n",
    "Implement the procedure UnpivotProducts to reorganize the Products table so that each row has the id of one product, the name of a store where it is sold, and its price in that store. If a product is not available in a store, do not include a row with that product_id and store combination in the result table. There should be three columns: product_id, store, and price.\n",
    "\n",
    "The procedure should return the table after reorganizing it.\n",
    "\n",
    "Return the result table in any order.\n",
    "\n",
    "The query result format is in the following example.\n",
    "\n",
    "**Example 1:**\n",
    "\n",
    "**Input:** \n",
    "\n",
    "**Products table:**\n",
    "\n",
    "| product_id | LC_Store | Nozama | Shop | Souq |\n",
    "|------------|----------|--------|------|------|\n",
    "| 1          | 100      | null   | 110  | null |\n",
    "| 2          | null     | 200    | null | 190  |\n",
    "| 3          | null     | null   | 1000 | 1900 |\n",
    "\n",
    "**Output:** \n",
    "| product_id | store    | price |\n",
    "|------------|----------|-------|\n",
    "| 1          | LC_Store | 100   |\n",
    "| 1          | Shop     | 110   |\n",
    "| 2          | Nozama   | 200   |\n",
    "| 2          | Souq     | 190   |\n",
    "| 3          | Shop     | 1000  |\n",
    "| 3          | Souq     | 1900  |\n",
    "\n",
    "**Explanation:** \n",
    "- Product 1 is sold in LC_Store and Shop with prices of 100 and 110 respectively.\n",
    "- Product 2 is sold in Nozama and Souq with prices of 200 and 190.\n",
    "- Product 3 is sold in Shop and Souq with prices of 1000 and 1900."
   ]
  },
  {
   "cell_type": "code",
   "execution_count": 0,
   "metadata": {
    "application/vnd.databricks.v1+cell": {
     "cellMetadata": {},
     "inputWidgets": {},
     "nuid": "137536ea-9bec-4171-8dc2-4bf8b0d771b4",
     "showTitle": false,
     "tableResultSettingsMap": {},
     "title": ""
    }
   },
   "outputs": [],
   "source": [
    "products_data_2253 = [\n",
    "    (1, 100, None, 110, None),\n",
    "    (2, None, 200, None, 190),\n",
    "    (3, None, None, 1000, 1900),\n",
    "]\n",
    "\n",
    "products_columns_2253 = [\"product_id\", \"LC_Store\", \"Nozama\", \"Shop\", \"Souq\"]\n",
    "products_df_2253 = spark.createDataFrame(products_data_2253, products_columns_2253)\n",
    "products_df_2253.show()"
   ]
  }
 ],
 "metadata": {
  "application/vnd.databricks.v1+notebook": {
   "computePreferences": null,
   "dashboards": [],
   "environmentMetadata": {
    "base_environment": "",
    "environment_version": "1"
   },
   "inputWidgetPreferences": null,
   "language": "python",
   "notebookMetadata": {
    "pythonIndentUnit": 4
   },
   "notebookName": "2253. Dynamic Unpivoting of a Table (Hard)",
   "widgets": {}
  }
 },
 "nbformat": 4,
 "nbformat_minor": 0
}