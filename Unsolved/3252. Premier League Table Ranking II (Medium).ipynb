{
 "cells": [
  {
   "cell_type": "markdown",
   "metadata": {
    "application/vnd.databricks.v1+cell": {
     "cellMetadata": {},
     "inputWidgets": {},
     "nuid": "7d1791bd-9552-4116-90b2-daa678bbffb8",
     "showTitle": false,
     "tableResultSettingsMap": {},
     "title": ""
    }
   },
   "source": [
    "## Importing Libraries"
   ]
  },
  {
   "cell_type": "code",
   "execution_count": 0,
   "metadata": {
    "application/vnd.databricks.v1+cell": {
     "cellMetadata": {},
     "inputWidgets": {},
     "nuid": "2901fbc9-49db-4285-8b94-c460f34d4c4f",
     "showTitle": false,
     "tableResultSettingsMap": {},
     "title": ""
    }
   },
   "outputs": [],
   "source": [
    "from pyspark.sql.functions import *\n",
    "from pyspark.sql.types import *\n",
    "from pyspark.sql.window import Window"
   ]
  },
  {
   "cell_type": "markdown",
   "metadata": {
    "application/vnd.databricks.v1+cell": {
     "cellMetadata": {},
     "inputWidgets": {},
     "nuid": "655120e7-6b25-417c-a08a-c6925feaa425",
     "showTitle": false,
     "tableResultSettingsMap": {},
     "title": ""
    }
   },
   "source": [
    "**3252. Premier League Table Ranking II (Medium)**\n",
    "\n",
    "**Table: TeamStats**\n",
    "\n",
    "| Column Name      | Type    |\n",
    "|------------------|---------|\n",
    "| team_id          | int     |\n",
    "| team_name        | varchar |\n",
    "| matches_played   | int     |\n",
    "| wins             | int     |\n",
    "| draws            | int     |\n",
    "| losses           | int     |\n",
    "\n",
    "team_id is the unique key for this table.\n",
    "This table contains team id, team name, matches_played, wins, draws, and losses.\n",
    "\n",
    "**Write a solution to calculate the points, position, and tier for each team in the league. Points are calculated as follows:**\n",
    "\n",
    "- 3 points for a **win**\n",
    "- 1 point for a **draw**\n",
    "- 0 points for a **loss**\n",
    "\n",
    "**Note:** Teams with the same points must be assigned the same position.\n",
    "\n",
    "**Tier ranking:**\n",
    "\n",
    "- Divide the league into 3 tiers based on points:\n",
    "- Tier 1: Top 33% of teams\n",
    "- Tier 2: Middle 33% of teams\n",
    "- Tier 3: Bottom 34% of teams\n",
    "- In case of ties at tier boundaries, place tied teams in the higher tier.\n",
    "\n",
    "Return the result table ordered by points in descending, and then by team_name in ascending order.\n",
    "\n",
    "The query result format is in the following example.\n",
    "\n",
    "**Example:**\n",
    "\n",
    "**Input:**\n",
    "\n",
    "**TeamStats table:**\n",
    "\n",
    "| team_id | team_name         | matches_played | wins | draws | losses |\n",
    "|---------|-------------------|----------------|------|-------|--------|\n",
    "| 1       | Chelsea           | 22             | 13   | 2     | 7      |\n",
    "| 2       | Nottingham Forest | 27             | 6    | 6     | 15     |\n",
    "| 3       | Liverpool         | 17             | 1    | 8     | 8      |\n",
    "| 4       | Aston Villa       | 20             | 1    | 6     | 13     |\n",
    "| 5       | Fulham            | 31             | 18   | 1     | 12     |\n",
    "| 6       | Burnley           | 26             | 6    | 9     | 11     |\n",
    "| 7       | Newcastle United  | 33             | 11   | 10    | 12     |\n",
    "| 8       | Sheffield United  | 20             | 18   | 2     | 0      |\n",
    "| 9       | Luton Town        | 5              | 4    | 0     | 1      |\n",
    "| 10      | Everton           | 14             | 2    | 6     | 6      |\n",
    "\n",
    "\n",
    "**Output:**\n",
    "\n",
    "| team_name         | points | position | tier    |\n",
    "|-------------------|--------|----------|---------|\n",
    "| Sheffield United  | 56     | 1        | Tier 1  |\n",
    "| Fulham            | 55     | 2        | Tier 1  |\n",
    "| Newcastle United  | 43     | 3        | Tier 1  |\n",
    "| Chelsea           | 41     | 4        | Tier 1  |\n",
    "| Burnley           | 27     | 5        | Tier 2  |\n",
    "| Nottingham Forest | 24     | 6        | Tier 2  |\n",
    "| Everton           | 12     | 7        | Tier 2  |\n",
    "| Luton Town        | 12     | 7        | Tier 2  |\n",
    "| Liverpool         | 11     | 9        | Tier 3  |\n",
    "| Aston Villa       | 9      | 10       | Tier 3  |\n",
    "\n",
    "**Explanation:**\n",
    "- Sheffield United has 56 points (18 wins * 3 points + 2 draws * 1 point) and is in position 1.\n",
    "- Fulham has 55 points (18 wins * 3 points + 1 draw * 1 point) and is in position 2.\n",
    "- Newcastle United has 43 points (11 wins * 3 points + 10 draws * 1 point) and is in position 3.\n",
    "- Chelsea has 41 points (13 wins * 3 points + 2 draws * 1 point) and is in position 4.\n",
    "- Burnley has 27 points (6 wins * 3 points + 9 draws * 1 point) and is in position 5.\n",
    "- Nottingham Forest has 24 points (6 wins * 3 points + 6 draws * 1 point) and is in position 6.\n",
    "- Everton and Luton Town both have 12 points, with Everton having 2 wins * 3 points + 6 draws * 1 point, and Luton Town having 4 wins * 3 points. Both teams share position 7.\n",
    "- Liverpool has 11 points (1 win * 3 points + 8 draws * 1 point) and is in position 9.\n",
    "- Aston Villa has 9 points (1 win * 3 points + 6 draws * 1 point) and is in position 10.\n",
    "\n",
    "**Tier Calculation:**\n",
    "- **Tier 1:** The top 33% of teams based on points. Sheffield United, Fulham, Newcastle United, and Chelsea fall into Tier 1.\n",
    "- **Tier 2:** The middle 33% of teams. Burnley, Nottingham Forest, Everton, and Luton Town fall into Tier 2.\n",
    "- **Tier 3:** The bottom 34% of teams. Liverpool and Aston Villa fall into Tier 3."
   ]
  },
  {
   "cell_type": "code",
   "execution_count": 0,
   "metadata": {
    "application/vnd.databricks.v1+cell": {
     "cellMetadata": {},
     "inputWidgets": {},
     "nuid": "a2368434-0191-416c-aa1d-12cd44cf48e6",
     "showTitle": false,
     "tableResultSettingsMap": {},
     "title": ""
    }
   },
   "outputs": [],
   "source": [
    "team_data_3252 = [\n",
    "    (1, \"Chelsea\", 22, 13, 2, 7),\n",
    "    (2, \"Nottingham Forest\", 27, 6, 6, 15),\n",
    "    (3, \"Liverpool\", 17, 1, 8, 8),\n",
    "    (4, \"Aston Villa\", 20, 1, 6, 13),\n",
    "    (5, \"Fulham\", 31, 18, 1, 12),\n",
    "    (6, \"Burnley\", 26, 6, 9, 11),\n",
    "    (7, \"Newcastle United\", 33, 11, 10, 12),\n",
    "    (8, \"Sheffield United\", 20, 18, 2, 0),\n",
    "    (9, \"Luton Town\", 5, 4, 0, 1),\n",
    "    (10, \"Everton\", 14, 2, 6, 6)\n",
    "]\n",
    "\n",
    "team_columns_3252 = [\"team_id\", \"team_name\", \"matches_played\", \"wins\", \"draws\", \"losses\"]\n",
    "team_df_3252 = spark.createDataFrame(team_data_3252, team_columns_3252)\n",
    "team_df_3252.show()"
   ]
  }
 ],
 "metadata": {
  "application/vnd.databricks.v1+notebook": {
   "computePreferences": null,
   "dashboards": [],
   "environmentMetadata": {
    "base_environment": "",
    "environment_version": "1"
   },
   "inputWidgetPreferences": null,
   "language": "python",
   "notebookMetadata": {
    "pythonIndentUnit": 4
   },
   "notebookName": "3252. Premier League Table Ranking II (Medium)",
   "widgets": {}
  },
  "language_info": {
   "name": "python"
  }
 },
 "nbformat": 4,
 "nbformat_minor": 0
}
