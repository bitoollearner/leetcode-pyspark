{
 "cells": [
  {
   "cell_type": "markdown",
   "metadata": {
    "application/vnd.databricks.v1+cell": {
     "cellMetadata": {},
     "inputWidgets": {},
     "nuid": "5ab27f1b-7c08-44cb-8766-b16c3470b90d",
     "showTitle": false,
     "tableResultSettingsMap": {},
     "title": ""
    }
   },
   "source": [
    "## Importing Libraries"
   ]
  },
  {
   "cell_type": "code",
   "execution_count": 0,
   "metadata": {
    "application/vnd.databricks.v1+cell": {
     "cellMetadata": {},
     "inputWidgets": {},
     "nuid": "0d316502-e6b4-4432-b3fd-6159096e4951",
     "showTitle": false,
     "tableResultSettingsMap": {},
     "title": ""
    }
   },
   "outputs": [],
   "source": [
    "from pyspark.sql.functions import *\n",
    "from pyspark.sql.types import *\n",
    "from pyspark.sql.window import Window"
   ]
  },
  {
   "cell_type": "markdown",
   "metadata": {
    "application/vnd.databricks.v1+cell": {
     "cellMetadata": {},
     "inputWidgets": {},
     "nuid": "2e4d3e31-be24-427a-bc7e-362b6765c4fa",
     "showTitle": false,
     "tableResultSettingsMap": {},
     "title": ""
    }
   },
   "source": [
    "**602. Friend Requests II: Who Has the Most Friends (Medium)**\n",
    "\n",
    "**Table: RequestAccepted**\n",
    "\n",
    "| Column Name    | Type    |\n",
    "|----------------|---------|\n",
    "| requester_id   | int     |\n",
    "| accepter_id    | int     |\n",
    "| accept_date    | date    |\n",
    "\n",
    "(requester_id, accepter_id) is the primary key (combination of columns with unique values) for this table.\n",
    "This table contains the ID of the user who sent the request, the ID of the user who received the request, and the date when the request was accepted.\n",
    " \n",
    "**Write a solution to find the people who have the most friends and the most friends number.**\n",
    "\n",
    "The test cases are generated so that only one person has the most friends.\n",
    "\n",
    "The result format is in the following example.\n",
    "\n",
    "**Example 1:**\n",
    "\n",
    "**Input:**\n",
    "**RequestAccepted table:**\n",
    "| requester_id | accepter_id | accept_date |\n",
    "|--------------|-------------|-------------|\n",
    "| 1            | 2           | 2016/06/03  |\n",
    "| 1            | 3           | 2016/06/08  |\n",
    "| 2            | 3           | 2016/06/08  |\n",
    "| 3            | 4           | 2016/06/09  |\n",
    "\n",
    "**Output:**\n",
    "| id | num |\n",
    "|----|-----|\n",
    "| 3  | 3   |\n",
    "\n",
    "**Explanation:**\n",
    "The person with id 3 is a friend of people 1, 2, and 4, so he has three friends in total, which is the most number than any others.\n",
    " \n",
    "\n",
    "**Follow up:** In the real world, multiple people could have the same most number of friends. Could you find all these people in this case?\n"
   ]
  },
  {
   "cell_type": "code",
   "execution_count": 0,
   "metadata": {
    "application/vnd.databricks.v1+cell": {
     "cellMetadata": {},
     "inputWidgets": {},
     "nuid": "f6f11a82-8828-41ca-828a-e88f8586b97a",
     "showTitle": false,
     "tableResultSettingsMap": {},
     "title": ""
    }
   },
   "outputs": [],
   "source": [
    "request_accepted_data_602 = [\n",
    "    (1, 2, '2016-06-03'),\n",
    "    (1, 3, '2016-06-08'),\n",
    "    (2, 3, '2016-06-08'),\n",
    "    (3, 4, '2016-06-09')\n",
    "]\n",
    "\n",
    "request_accepted_columns_602 = [\"requester_id\", \"accepter_id\", \"accept_date\"]\n",
    "request_accepted_df_602 = spark.createDataFrame(request_accepted_data_602, request_accepted_columns_602)\n",
    "request_accepted_df_602.show()"
   ]
  }
 ],
 "metadata": {
  "application/vnd.databricks.v1+notebook": {
   "computePreferences": null,
   "dashboards": [],
   "environmentMetadata": {
    "base_environment": "",
    "environment_version": "1"
   },
   "inputWidgetPreferences": null,
   "language": "python",
   "notebookMetadata": {
    "pythonIndentUnit": 4
   },
   "notebookName": "602. Friend Requests II_ Who Has the Most Friends (Medium)",
   "widgets": {}
  },
  "language_info": {
   "name": "python"
  }
 },
 "nbformat": 4,
 "nbformat_minor": 0
}
