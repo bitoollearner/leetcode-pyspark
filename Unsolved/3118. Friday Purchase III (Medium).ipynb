{
 "cells": [
  {
   "cell_type": "markdown",
   "metadata": {
    "application/vnd.databricks.v1+cell": {
     "cellMetadata": {},
     "inputWidgets": {},
     "nuid": "7d1791bd-9552-4116-90b2-daa678bbffb8",
     "showTitle": false,
     "tableResultSettingsMap": {},
     "title": ""
    }
   },
   "source": [
    "## Importing Libraries"
   ]
  },
  {
   "cell_type": "code",
   "execution_count": 0,
   "metadata": {
    "application/vnd.databricks.v1+cell": {
     "cellMetadata": {},
     "inputWidgets": {},
     "nuid": "2901fbc9-49db-4285-8b94-c460f34d4c4f",
     "showTitle": false,
     "tableResultSettingsMap": {},
     "title": ""
    }
   },
   "outputs": [],
   "source": [
    "from pyspark.sql.functions import *\n",
    "from pyspark.sql.types import *\n",
    "from pyspark.sql.window import Window"
   ]
  },
  {
   "cell_type": "markdown",
   "metadata": {
    "application/vnd.databricks.v1+cell": {
     "cellMetadata": {},
     "inputWidgets": {},
     "nuid": "655120e7-6b25-417c-a08a-c6925feaa425",
     "showTitle": false,
     "tableResultSettingsMap": {},
     "title": ""
    }
   },
   "source": [
    "**3118. Friday Purchase III (Medium)**\n",
    "\n",
    "**Table: Purchases**\n",
    "\n",
    "| Column Name   | Type |\n",
    "|---------------|------|\n",
    "| user_id       | int  |\n",
    "| purchase_date | date |\n",
    "| amount_spend  | int  |\n",
    "\n",
    "(user_id, purchase_date, amount_spend) is the primary key (combination of columns with unique values) for this table.\n",
    "purchase_date will range from November 1, 2023, to November 30, 2023, inclusive of both dates.\n",
    "Each row contains user_id, purchase_date, and amount_spend.\n",
    "\n",
    "**Table: Users**\n",
    "\n",
    "| Column Name | Type |\n",
    "|-------------|------|\n",
    "| user_id     | int  |\n",
    "| membership  | enum |\n",
    "\n",
    "user_id is the primary key for this table.\n",
    "membership is an ENUM (category) type of ('Standard', 'Premium', 'VIP').\n",
    "Each row of this table indicates the user_id, membership type.\n",
    "\n",
    "**Write a solution to calculate the total spending by Premium and VIP members on each Friday of every week in November 2023.  If there are no purchases on a particular Friday by Premium or VIP members, it should be considered as 0.**\n",
    "\n",
    "Return the result table ordered by week of the month,  and membership in ascending order.\n",
    "\n",
    "The result format is in the following example.\n",
    "\n",
    "**Example:**\n",
    "\n",
    "**Input:**\n",
    "\n",
    "**Purchases table:**\n",
    "\n",
    "| user_id | purchase_date | amount_spend |\n",
    "|---------|---------------|--------------|\n",
    "| 11      | 2023-11-03    | 1126         |\n",
    "| 15      | 2023-11-10    | 7473         |\n",
    "| 17      | 2023-11-17    | 2414         |\n",
    "| 12      | 2023-11-24    | 9692         |\n",
    "| 8       | 2023-11-24    | 5117         |\n",
    "| 1       | 2023-11-24    | 5241         |\n",
    "| 10      | 2023-11-22    | 8266         |\n",
    "| 13      | 2023-11-21    | 12000        |\n",
    "\n",
    "**Users table:**\n",
    "\n",
    "| user_id | membership |\n",
    "|---------|------------|\n",
    "| 11      | Premium    |\n",
    "| 15      | VIP        |\n",
    "| 17      | Standard   |\n",
    "| 12      | VIP        |\n",
    "| 8       | Premium    |\n",
    "| 1       | VIP        |\n",
    "| 10      | Standard   |\n",
    "| 13      | Premium    |\n",
    "\n",
    "**Output:**\n",
    "\n",
    "| week_of_month | membership  | total_amount |\n",
    "|---------------|-------------|--------------|\n",
    "| 1             | Premium     | 1126         |\n",
    "| 1             | VIP         | 0            |\n",
    "| 2             | Premium     | 0            |\n",
    "| 2             | VIP         | 7473         |\n",
    "| 3             | Premium     | 0            |\n",
    "| 3             | VIP         | 0            |\n",
    "| 4             | Premium     | 5117         |\n",
    "| 4             | VIP         | 14933        |\n",
    "        \n",
    "**Explanation:**\n",
    "- During the first week of November 2023, a transaction occurred on Friday, 2023-11-03, by a Premium member amounting to $1,126. No transactions were made by VIP members on this day, resulting in a value of 0.\n",
    "- For the second week of November 2023, there was a transaction on Friday, 2023-11-10, and it was made by a VIP member, amounting to $7,473. Since there were no purchases by Premium members that Friday, the output shows 0 for Premium members.\n",
    "- Similarly, during the third week of November 2023, no transactions by Premium or VIP members occurred on Friday, 2023-11-17, which shows 0 for both categories in this week.\n",
    "- In the fourth week of November 2023, transactions occurred on Friday, 2023-11-24, involving one Premium member purchase of $5,117 and VIP member purchases totaling $14,933 ($9,692 from one and $5,241 from another).\n",
    "\n",
    "**Note:** The output table is ordered by week_of_month and membership in ascending order."
   ]
  },
  {
   "cell_type": "code",
   "execution_count": 0,
   "metadata": {
    "application/vnd.databricks.v1+cell": {
     "cellMetadata": {},
     "inputWidgets": {},
     "nuid": "a2368434-0191-416c-aa1d-12cd44cf48e6",
     "showTitle": false,
     "tableResultSettingsMap": {},
     "title": ""
    }
   },
   "outputs": [],
   "source": [
    "purchases_data_3118 = [\n",
    "    (11, \"2023-11-03\", 1126),\n",
    "    (15, \"2023-11-10\", 7473),\n",
    "    (17, \"2023-11-17\", 2414),\n",
    "    (12, \"2023-11-24\", 9692),\n",
    "    (8, \"2023-11-24\", 5117),\n",
    "    (1, \"2023-11-24\", 5241),\n",
    "    (10, \"2023-11-22\", 8266),\n",
    "    (13, \"2023-11-21\", 12000),\n",
    "]\n",
    "\n",
    "purchases_columns_3118 = [\"user_id\", \"purchase_date\", \"amount_spend\"]\n",
    "purchases_df_3118 = spark.createDataFrame(purchases_data_3118, purchases_columns_3118)\n",
    "purchases_df_3118.show()\n",
    "\n",
    "users_data_3118 = [\n",
    "    (11, \"Premium\"),\n",
    "    (15, \"VIP\"),\n",
    "    (17, \"Standard\"),\n",
    "    (12, \"VIP\"),\n",
    "    (8, \"Premium\"),\n",
    "    (1, \"VIP\"),\n",
    "    (10, \"Standard\"),\n",
    "    (13, \"Premium\"),\n",
    "]\n",
    "\n",
    "users_columns_3118 = [\"user_id\", \"membership\"]\n",
    "users_df_3118 = spark.createDataFrame(users_data_3118, users_columns_3118)\n",
    "users_df_3118.show()\n"
   ]
  }
 ],
 "metadata": {
  "application/vnd.databricks.v1+notebook": {
   "computePreferences": null,
   "dashboards": [],
   "environmentMetadata": {
    "base_environment": "",
    "environment_version": "1"
   },
   "inputWidgetPreferences": null,
   "language": "python",
   "notebookMetadata": {
    "pythonIndentUnit": 4
   },
   "notebookName": "3118. Friday Purchase III (Medium)",
   "widgets": {}
  },
  "language_info": {
   "name": "python"
  }
 },
 "nbformat": 4,
 "nbformat_minor": 0
}
