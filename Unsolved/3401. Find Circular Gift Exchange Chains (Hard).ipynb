{
 "cells": [
  {
   "cell_type": "markdown",
   "metadata": {
    "application/vnd.databricks.v1+cell": {
     "cellMetadata": {},
     "inputWidgets": {},
     "nuid": "7d1791bd-9552-4116-90b2-daa678bbffb8",
     "showTitle": false,
     "tableResultSettingsMap": {},
     "title": ""
    }
   },
   "source": [
    "## Importing Libraries"
   ]
  },
  {
   "cell_type": "code",
   "execution_count": 0,
   "metadata": {
    "application/vnd.databricks.v1+cell": {
     "cellMetadata": {},
     "inputWidgets": {},
     "nuid": "2901fbc9-49db-4285-8b94-c460f34d4c4f",
     "showTitle": false,
     "tableResultSettingsMap": {},
     "title": ""
    }
   },
   "outputs": [],
   "source": [
    "from pyspark.sql.functions import *\n",
    "from pyspark.sql.types import *\n",
    "from pyspark.sql.window import Window"
   ]
  },
  {
   "cell_type": "markdown",
   "metadata": {
    "application/vnd.databricks.v1+cell": {
     "cellMetadata": {},
     "inputWidgets": {},
     "nuid": "655120e7-6b25-417c-a08a-c6925feaa425",
     "showTitle": false,
     "tableResultSettingsMap": {},
     "title": ""
    }
   },
   "source": [
    "**3401. Find Circular Gift Exchange Chains (Hard)**\n",
    "\n",
    "**Table: SecretSanta**\n",
    "\n",
    "| Column Name | Type |\n",
    "|-------------|------|\n",
    "| giver_id    | int  |\n",
    "| receiver_id | int  |\n",
    "| gift_value  | int  |\n",
    "\n",
    "(giver_id, receiver_id) is the unique key for this table.   \n",
    "Each row represents a record of a gift exchange between two employees, giver_id represents the employee who gives a gift, receiver_id represents the employee who receives the gift and gift_value represents the value of the gift given.  \n",
    "\n",
    "**Write a solution to find the total gift value and length of circular chains of Secret Santa gift exchanges:**\n",
    "\n",
    "A circular chain is defined as a series of exchanges where:\n",
    "- Each employee gives a gift to exactly one other employee.\n",
    "- Each employee receives a gift from exactly one other employee.\n",
    "- The exchanges form a continuous loop (e.g., employee A gives a gift to B, B gives to C, and C gives back to A).\n",
    "\n",
    "Return the result ordered by the chain length and total gift value of the chain in descending order. \n",
    "\n",
    "The result format is in the following example.\n",
    "\n",
    "**Example:**\n",
    "\n",
    "**Input:**\n",
    "\n",
    "**SecretSanta table:**\n",
    "\n",
    "| giver_id | receiver_id | gift_value |\n",
    "|----------|-------------|------------|\n",
    "| 1        | 2           | 20         |\n",
    "| 2        | 3           | 30         |\n",
    "| 3        | 1           | 40         |\n",
    "| 4        | 5           | 25         |\n",
    "| 5        | 4           | 35         |\n",
    "\n",
    "\n",
    "**Output:**\n",
    "\n",
    "| chain_id | chain_length | total_gift_value |\n",
    "|----------|--------------|------------------|\n",
    "| 1        | 3            | 90               |\n",
    "| 2        | 2            | 60               |\n",
    "\n",
    "**Explanation:**\n",
    "\n",
    "- Chain 1 involves employees 1, 2, and 3:\n",
    "  - Employee 1 gives a gift to 2, employee 2 gives a gift to 3, and employee 3 gives a gift to 1.\n",
    "  - Total gift value for this chain = 20 + 30 + 40 = 90.\n",
    "- Chain 2 involves employees 4 and 5:\n",
    "  - Employee 4 gives a gift to 5, and employee 5 gives a gift to 4.\n",
    "  - Total gift value for this chain = 25 + 35 = 60.\n",
    "\n",
    "The result table is ordered by the chain length and total gift value of the chain in descending order."
   ]
  },
  {
   "cell_type": "code",
   "execution_count": 0,
   "metadata": {
    "application/vnd.databricks.v1+cell": {
     "cellMetadata": {},
     "inputWidgets": {},
     "nuid": "a2368434-0191-416c-aa1d-12cd44cf48e6",
     "showTitle": false,
     "tableResultSettingsMap": {},
     "title": ""
    }
   },
   "outputs": [],
   "source": [
    "secretsanta_data_3401 = [\n",
    "    (1, 2, 20),\n",
    "    (2, 3, 30),\n",
    "    (3, 1, 40),\n",
    "    (4, 5, 25),\n",
    "    (5, 4, 35)\n",
    "]\n",
    "\n",
    "secretsanta_columns_3401 = [\"giver_id\", \"receiver_id\", \"gift_value\"]\n",
    "secretsanta_df_3401 = spark.createDataFrame(secretsanta_data_3401, secretsanta_columns_3401)\n",
    "secretsanta_df_3401.show()"
   ]
  }
 ],
 "metadata": {
  "application/vnd.databricks.v1+notebook": {
   "computePreferences": null,
   "dashboards": [],
   "environmentMetadata": {
    "base_environment": "",
    "environment_version": "1"
   },
   "inputWidgetPreferences": null,
   "language": "python",
   "notebookMetadata": {
    "pythonIndentUnit": 4
   },
   "notebookName": "3401. Find Circular Gift Exchange Chains (Hard)",
   "widgets": {}
  },
  "language_info": {
   "name": "python"
  }
 },
 "nbformat": 4,
 "nbformat_minor": 0
}
