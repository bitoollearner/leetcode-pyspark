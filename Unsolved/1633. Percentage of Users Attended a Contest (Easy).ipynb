{
 "cells": [
  {
   "cell_type": "markdown",
   "metadata": {
    "application/vnd.databricks.v1+cell": {
     "cellMetadata": {},
     "inputWidgets": {},
     "nuid": "f6ac9266-658c-4507-8a37-ecc81334b06d",
     "showTitle": false,
     "tableResultSettingsMap": {},
     "title": ""
    }
   },
   "source": [
    "## Importing Libraries"
   ]
  },
  {
   "cell_type": "code",
   "execution_count": 0,
   "metadata": {
    "application/vnd.databricks.v1+cell": {
     "cellMetadata": {},
     "inputWidgets": {},
     "nuid": "d6194993-9312-4b46-8365-d6a73d8cb0b0",
     "showTitle": false,
     "tableResultSettingsMap": {},
     "title": ""
    }
   },
   "outputs": [],
   "source": [
    "from pyspark.sql.functions import *\n",
    "from pyspark.sql.types import *\n",
    "from pyspark.sql.window import Window"
   ]
  },
  {
   "cell_type": "markdown",
   "metadata": {
    "application/vnd.databricks.v1+cell": {
     "cellMetadata": {},
     "inputWidgets": {},
     "nuid": "23f6a680-8f01-4976-83fa-88103e49c6b8",
     "showTitle": false,
     "tableResultSettingsMap": {},
     "title": ""
    }
   },
   "source": [
    "**1633. Percentage of Users Attended a Contest (Easy)**\n",
    "\n",
    "**Table: Users**\n",
    "\n",
    "| Column Name | Type    |\n",
    "|-------------|---------|\n",
    "| user_id     | int     |\n",
    "| user_name   | varchar |\n",
    "\n",
    "user_id is the primary key (column with unique values) for this table.\n",
    "Each row of this table contains the name and the id of a user.\n",
    " \n",
    "\n",
    "**Table: Register**\n",
    "\n",
    "| Column Name | Type    |\n",
    "|-------------|---------|\n",
    "| contest_id  | int     |\n",
    "| user_id     | int     |\n",
    "\n",
    "(contest_id, user_id) is the primary key (combination of columns with unique values) for this table.\n",
    "Each row of this table contains the id of a user and the contest they registered into.\n",
    " \n",
    "**Write a solution to find the percentage of the users registered in each contest rounded to two decimals.**\n",
    "\n",
    "Return the result table ordered by percentage in descending order. In case of a tie, order it by contest_id in ascending order.\n",
    "\n",
    "The result format is in the following example.\n",
    "\n",
    "**Example 1:**\n",
    "\n",
    "**Input:**\n",
    "**Users table:**\n",
    "\n",
    "| user_id | user_name |\n",
    "|---------|-----------|\n",
    "| 6       | Alice     |\n",
    "| 2       | Bob       |\n",
    "| 7       | Alex      |\n",
    "\n",
    "**Register table:**\n",
    "| contest_id | user_id |\n",
    "|------------|---------|\n",
    "| 215        | 6       |\n",
    "| 209        | 2       |\n",
    "| 208        | 2       |\n",
    "| 210        | 6       |\n",
    "| 208        | 6       |\n",
    "| 209        | 7       |\n",
    "| 209        | 6       |\n",
    "| 215        | 7       |\n",
    "| 208        | 7       |\n",
    "| 210        | 2       |\n",
    "| 207        | 2       |\n",
    "| 210        | 7       |\n",
    "\n",
    "**Output:**\n",
    "| contest_id | percentage |\n",
    "|------------|------------|\n",
    "| 208        | 100.0      |\n",
    "| 209        | 100.0      |\n",
    "| 210        | 100.0      |\n",
    "| 215        | 66.67      |\n",
    "| 207        | 33.33      |\n",
    "\n",
    "**Explanation:**\n",
    "- All the users registered in contests 208, 209, and 210. The percentage is 100% and we sort them in the answer table by contest_id in ascending order.\n",
    "- Alice and Alex registered in contest 215 and the percentage is ((2/3) * 100) = 66.67%\n",
    "- Bob registered in contest 207 and the percentage is ((1/3) * 100) = 33.33%"
   ]
  },
  {
   "cell_type": "code",
   "execution_count": 0,
   "metadata": {
    "application/vnd.databricks.v1+cell": {
     "cellMetadata": {},
     "inputWidgets": {},
     "nuid": "a762f84d-f622-4403-b695-4066e5bdbaf0",
     "showTitle": false,
     "tableResultSettingsMap": {},
     "title": ""
    }
   },
   "outputs": [],
   "source": [
    "users_data_1633 = [\n",
    "    (6, \"Alice\"),\n",
    "    (2, \"Bob\"),\n",
    "    (7, \"Alex\")\n",
    "]\n",
    "users_columns_1633 = [\"user_id\", \"user_name\"]\n",
    "users_df_1633 = spark.createDataFrame(users_data_1633, users_columns_1633)\n",
    "users_df_1633.show()\n",
    "\n",
    "register_data_1633 = [\n",
    "    (215, 6),\n",
    "    (209, 2),\n",
    "    (208, 2),\n",
    "    (210, 6),\n",
    "    (208, 6),\n",
    "    (209, 7),\n",
    "    (209, 6),\n",
    "    (215, 7),\n",
    "    (208, 7),\n",
    "    (210, 2),\n",
    "    (207, 2),\n",
    "    (210, 7)\n",
    "]\n",
    "register_columns_1633 = [\"contest_id\", \"user_id\"]\n",
    "register_df_1633 = spark.createDataFrame(register_data_1633, register_columns_1633)\n",
    "register_df_1633.show()"
   ]
  }
 ],
 "metadata": {
  "application/vnd.databricks.v1+notebook": {
   "computePreferences": null,
   "dashboards": [],
   "environmentMetadata": {
    "base_environment": "",
    "environment_version": "1"
   },
   "inputWidgetPreferences": null,
   "language": "python",
   "notebookMetadata": {
    "pythonIndentUnit": 4
   },
   "notebookName": "1633. Percentage of Users Attended a Contest (Easy)",
   "widgets": {}
  },
  "language_info": {
   "name": "python"
  }
 },
 "nbformat": 4,
 "nbformat_minor": 0
}
