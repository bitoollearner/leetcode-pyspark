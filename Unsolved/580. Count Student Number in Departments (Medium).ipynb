{
 "cells": [
  {
   "cell_type": "markdown",
   "metadata": {
    "application/vnd.databricks.v1+cell": {
     "cellMetadata": {},
     "inputWidgets": {},
     "nuid": "db7ebec7-889d-4791-9b66-269554c0d581",
     "showTitle": false,
     "tableResultSettingsMap": {},
     "title": ""
    }
   },
   "source": [
    "## Importing Libraries"
   ]
  },
  {
   "cell_type": "code",
   "execution_count": 0,
   "metadata": {
    "application/vnd.databricks.v1+cell": {
     "cellMetadata": {},
     "inputWidgets": {},
     "nuid": "70352d4b-6bb2-42f3-8465-ba88ab41d730",
     "showTitle": false,
     "tableResultSettingsMap": {},
     "title": ""
    }
   },
   "outputs": [],
   "source": [
    "from pyspark.sql.functions import *\n",
    "from pyspark.sql.types import *\n",
    "from pyspark.sql.window import Window"
   ]
  },
  {
   "cell_type": "markdown",
   "metadata": {
    "application/vnd.databricks.v1+cell": {
     "cellMetadata": {},
     "inputWidgets": {},
     "nuid": "154313e3-f403-4508-a1d1-a93ae1e178d9",
     "showTitle": false,
     "tableResultSettingsMap": {},
     "title": ""
    }
   },
   "source": [
    "**580. Count Student Number in Departments (Medium)**\n",
    "\n",
    "A university uses 2 data tables, student and department, to store data about its students and the departments associated with each major.\n",
    "\n",
    "The student is described as follow:\n",
    "\n",
    "| Column Name  | Type      |\n",
    "|--------------|-----------|\n",
    "| student_id   | Integer   |\n",
    "| student_name | String    |\n",
    "| gender       | Character |\n",
    "| dept_id      | Integer   |\n",
    "\n",
    "where student_id is the student's ID number, student_name is the student's name, gender is their gender, and dept_id is the department ID \n",
    "associated with their declared major.\n",
    "\n",
    "And the department table is described as below:\n",
    "\n",
    "| Column Name | Type    |\n",
    "|-------------|---------|\n",
    "| dept_id     | Integer |\n",
    "| dept_name   | String  |\n",
    "\n",
    "where dept_id is the department's ID number and dept_name is the department name.\n",
    "\n",
    "**Write a query to print the respective department name and number of students majoring in each department for all departments in the department table (even ones with no current students).**\n",
    "\n",
    "Sort your results by descending number of students; if two or more departments have the same number of students, then sort those departments alphabetically by department name.\n",
    "\n",
    "\n",
    "\n",
    "Here is an example input:\n",
    "student table:\n",
    "\n",
    "| student_id | student_name | gender | dept_id |\n",
    "|------------|--------------|--------|---------|\n",
    "| 1          | Jack         | M      | 1       |\n",
    "| 2          | Jane         | F      | 1       |\n",
    "| 3          | Mark         | M      | 2       |\n",
    "\n",
    "department table:\n",
    "\n",
    "| dept_id | dept_name   |\n",
    "|---------|-------------|\n",
    "| 1       | Engineering |\n",
    "| 2       | Science     |\n",
    "| 3       | Law         |\n",
    "\n",
    "The Output should be:\n",
    "\n",
    "| dept_name   | student_number |\n",
    "|-------------|----------------|\n",
    "| Engineering | 2              |\n",
    "| Science     | 1              |\n",
    "| Law         | 0              |\n"
   ]
  },
  {
   "cell_type": "code",
   "execution_count": 0,
   "metadata": {
    "application/vnd.databricks.v1+cell": {
     "cellMetadata": {},
     "inputWidgets": {},
     "nuid": "787ef081-e08b-4a47-9b9a-a1a07b8b2b93",
     "showTitle": false,
     "tableResultSettingsMap": {},
     "title": ""
    }
   },
   "outputs": [],
   "source": [
    "student_data_580 = [\n",
    "    (1, \"Jack\", \"M\", 1),\n",
    "    (2, \"Jane\", \"F\", 1),\n",
    "    (3, \"Mark\", \"M\", 2)\n",
    "]\n",
    "\n",
    "student_columns_580 = [\"student_id\", \"student_name\", \"gender\", \"dept_id\"]\n",
    "student_df_580 = spark.createDataFrame(student_data_580, student_columns_580)\n",
    "student_df_580.show()\n",
    "\n",
    "department_data_580 = [\n",
    "    (1, \"Engineering\"),\n",
    "    (2, \"Science\"),\n",
    "    (3, \"Law\")\n",
    "]\n",
    "\n",
    "department_columns_580 = [\"dept_id\", \"dept_name\"]\n",
    "department_df_580 = spark.createDataFrame(department_data_580, department_columns_580)\n",
    "department_df_580.show()"
   ]
  }
 ],
 "metadata": {
  "application/vnd.databricks.v1+notebook": {
   "computePreferences": null,
   "dashboards": [],
   "environmentMetadata": {
    "base_environment": "",
    "environment_version": "1"
   },
   "inputWidgetPreferences": null,
   "language": "python",
   "notebookMetadata": {
    "pythonIndentUnit": 4
   },
   "notebookName": "580. Count Student Number in Departments (Medium)",
   "widgets": {}
  },
  "language_info": {
   "name": "python"
  }
 },
 "nbformat": 4,
 "nbformat_minor": 0
}
