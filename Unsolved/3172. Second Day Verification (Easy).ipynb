{
 "cells": [
  {
   "cell_type": "markdown",
   "metadata": {
    "application/vnd.databricks.v1+cell": {
     "cellMetadata": {},
     "inputWidgets": {},
     "nuid": "7d1791bd-9552-4116-90b2-daa678bbffb8",
     "showTitle": false,
     "tableResultSettingsMap": {},
     "title": ""
    }
   },
   "source": [
    "## Importing Libraries"
   ]
  },
  {
   "cell_type": "code",
   "execution_count": 0,
   "metadata": {
    "application/vnd.databricks.v1+cell": {
     "cellMetadata": {},
     "inputWidgets": {},
     "nuid": "2901fbc9-49db-4285-8b94-c460f34d4c4f",
     "showTitle": false,
     "tableResultSettingsMap": {},
     "title": ""
    }
   },
   "outputs": [],
   "source": [
    "from pyspark.sql.functions import *\n",
    "from pyspark.sql.types import *\n",
    "from pyspark.sql.window import Window"
   ]
  },
  {
   "cell_type": "markdown",
   "metadata": {
    "application/vnd.databricks.v1+cell": {
     "cellMetadata": {},
     "inputWidgets": {},
     "nuid": "655120e7-6b25-417c-a08a-c6925feaa425",
     "showTitle": false,
     "tableResultSettingsMap": {},
     "title": ""
    }
   },
   "source": [
    "**3172. Second Day Verification (Easy)**\n",
    "\n",
    "**Table: emails**\n",
    "\n",
    "| Column Name | Type     | \n",
    "|-------------|----------|\n",
    "| email_id    | int      |\n",
    "| user_id     | int      |\n",
    "| signup_date | datetime |\n",
    "\n",
    "(email_id, user_id) is the primary key (combination of columns with unique values) for this table.\n",
    "Each row of this table contains the email ID, user ID, and signup date.\n",
    "\n",
    "**Table: texts**\n",
    "\n",
    "| Column Name   | Type     | \n",
    "|---------------|----------|\n",
    "| text_id       | int      |\n",
    "| email_id      | int      |\n",
    "| signup_action | enum     |\n",
    "| action_date   | datetime |\n",
    "\n",
    "(text_id, email_id) is the primary key (combination of columns with unique values) for this table. \n",
    "signup_action is an enum type of ('Verified', 'Not Verified'). \n",
    "Each row of this table contains the text ID, email ID, signup action, and action date.\n",
    "\n",
    "**Write a Solution to find the user IDs of those who verified their sign-up on the second day.**\n",
    "\n",
    "Return the result table ordered by user_id in ascending order.\n",
    "\n",
    "The result format is in the following example.\n",
    "\n",
    "**Example:**\n",
    "\n",
    "**Input:**\n",
    "\n",
    "**emails table:**\n",
    "\n",
    "| email_id | user_id | signup_date         |\n",
    "|----------|---------|---------------------|\n",
    "| 125      | 7771    | 2022-06-14 09:30:00|\n",
    "| 433      | 1052    | 2022-07-09 08:15:00|\n",
    "| 234      | 7005    | 2022-08-20 10:00:00|\n",
    "\n",
    "**texts table:**\n",
    "\n",
    "| text_id | email_id | signup_action| action_date         |\n",
    "|---------|----------|--------------|---------------------|\n",
    "| 1       | 125      | Verified     | 2022-06-15 08:30:00|\n",
    "| 2       | 433      | Not Verified | 2022-07-10 10:45:00|\n",
    "| 4       | 234      | Verified     | 2022-08-21 09:30:00|\n",
    "    \n",
    "**Output:**\n",
    "\n",
    "| user_id |\n",
    "|---------|\n",
    "| 7005    |\n",
    "| 7771    |\n",
    "\n",
    "**Explanation:**\n",
    "- User with user_id 7005 and email_id 234 signed up on 2022-08-20 10:00:00 and verified on second day of the signup.\n",
    "- User with user_id 7771 and email_id 125 signed up on 2022-06-14 09:30:00 and verified on second day of the signup."
   ]
  },
  {
   "cell_type": "code",
   "execution_count": 0,
   "metadata": {
    "application/vnd.databricks.v1+cell": {
     "cellMetadata": {},
     "inputWidgets": {},
     "nuid": "a2368434-0191-416c-aa1d-12cd44cf48e6",
     "showTitle": false,
     "tableResultSettingsMap": {},
     "title": ""
    }
   },
   "outputs": [],
   "source": [
    "emails_data_3172 = [\n",
    "    (125, 7771, \"2022-06-14 09:30:00\"),\n",
    "    (433, 1052, \"2022-07-09 08:15:00\"),\n",
    "    (234, 7005, \"2022-08-20 10:00:00\")\n",
    "]\n",
    "\n",
    "emails_columns_3172 = [\"email_id\", \"user_id\", \"signup_date\"]\n",
    "emails_df_3172 = spark.createDataFrame(emails_data_3172, emails_columns_3172)\n",
    "emails_df_3172.show()\n",
    "\n",
    "texts_data_3172 = [\n",
    "    (1, 125, \"Verified\", \"2022-06-15 08:30:00\"),\n",
    "    (2, 433, \"Not Verified\", \"2022-07-10 10:45:00\"),\n",
    "    (4, 234, \"Verified\", \"2022-08-21 09:30:00\")\n",
    "]\n",
    "\n",
    "texts_columns_3172 = [\"text_id\", \"email_id\", \"signup_action\", \"action_date\"]\n",
    "texts_df_3172 = spark.createDataFrame(texts_data_3172, texts_columns_3172)\n",
    "texts_df_3172.show()"
   ]
  }
 ],
 "metadata": {
  "application/vnd.databricks.v1+notebook": {
   "computePreferences": null,
   "dashboards": [],
   "environmentMetadata": {
    "base_environment": "",
    "environment_version": "1"
   },
   "inputWidgetPreferences": null,
   "language": "python",
   "notebookMetadata": {
    "pythonIndentUnit": 4
   },
   "notebookName": "3172. Second Day Verification (Easy)",
   "widgets": {}
  }
 },
 "nbformat": 4,
 "nbformat_minor": 0
}