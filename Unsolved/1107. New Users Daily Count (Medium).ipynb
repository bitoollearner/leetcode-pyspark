{
 "cells": [
  {
   "cell_type": "markdown",
   "metadata": {
    "application/vnd.databricks.v1+cell": {
     "cellMetadata": {},
     "inputWidgets": {},
     "nuid": "3f2ab884-5b2e-4c2a-b90f-eba6d7208edf",
     "showTitle": false,
     "tableResultSettingsMap": {},
     "title": ""
    }
   },
   "source": [
    "## Importing Libraries"
   ]
  },
  {
   "cell_type": "code",
   "execution_count": 0,
   "metadata": {
    "application/vnd.databricks.v1+cell": {
     "cellMetadata": {},
     "inputWidgets": {},
     "nuid": "26c9d69f-b471-43b4-aaee-40c41d01994e",
     "showTitle": false,
     "tableResultSettingsMap": {},
     "title": ""
    }
   },
   "outputs": [],
   "source": [
    "from pyspark.sql.functions import *\n",
    "from pyspark.sql.types import *\n",
    "from pyspark.sql.window import Window"
   ]
  },
  {
   "cell_type": "markdown",
   "metadata": {
    "application/vnd.databricks.v1+cell": {
     "cellMetadata": {},
     "inputWidgets": {},
     "nuid": "fa1c2280-e46c-403e-8996-25b01a84ec72",
     "showTitle": false,
     "tableResultSettingsMap": {},
     "title": ""
    }
   },
   "source": [
    "**1107. New Users Daily Count (Medium)**\n",
    "\n",
    "**Table: Traffic**\n",
    "\n",
    "| Column Name   | Type    |\n",
    "|---------------|---------|\n",
    "| user_id       | int     |\n",
    "| activity      | enum    |\n",
    "| activity_date | date    |\n",
    "\n",
    "This table may have duplicate rows.\n",
    "The activity column is an ENUM (category) type of ('login', 'logout', 'jobs', 'groups', 'homepage').\n",
    " \n",
    "**Write a solution to reports for every date within at most 90 days from today, the number of users that logged in for the first time on that date. Assume today is 2019-06-30.**\n",
    "\n",
    "Return the result table in any order.\n",
    "\n",
    "The result format is in the following example.\n",
    "\n",
    "**Example 1:**\n",
    "\n",
    "**Input:** \n",
    "\n",
    "**Traffic table:**\n",
    "\n",
    "| user_id | activity | activity_date |\n",
    "|---------|----------|---------------|\n",
    "| 1       | login    | 2019-05-01    |\n",
    "| 1       | homepage | 2019-05-01    |\n",
    "| 1       | logout   | 2019-05-01    |\n",
    "| 2       | login    | 2019-06-21    |\n",
    "| 2       | logout   | 2019-06-21    |\n",
    "| 3       | login    | 2019-01-01    |\n",
    "| 3       | jobs     | 2019-01-01    |\n",
    "| 3       | logout   | 2019-01-01    |\n",
    "| 4       | login    | 2019-06-21    |\n",
    "| 4       | groups   | 2019-06-21    |\n",
    "| 4       | logout   | 2019-06-21    |\n",
    "| 5       | login    | 2019-03-01    |\n",
    "| 5       | logout   | 2019-03-01    |\n",
    "| 5       | login    | 2019-06-21    |\n",
    "| 5       | logout   | 2019-06-21    |\n",
    "\n",
    "**Output:** \n",
    "| login_date | user_count  |\n",
    "|------------|-------------|\n",
    "| 2019-05-01 | 1           |\n",
    "| 2019-06-21 | 2           |\n",
    "\n",
    "**Explanation:** \n",
    "Note that we only care about dates with non zero user count.\n",
    "The user with id 5 first logged in on 2019-03-01 so he's not counted on 2019-06-21."
   ]
  },
  {
   "cell_type": "code",
   "execution_count": 0,
   "metadata": {
    "application/vnd.databricks.v1+cell": {
     "cellMetadata": {},
     "inputWidgets": {},
     "nuid": "dddf2382-d3f5-49ba-9108-34f298edfb81",
     "showTitle": false,
     "tableResultSettingsMap": {},
     "title": ""
    }
   },
   "outputs": [],
   "source": [
    "traffic_data_1107 = [\n",
    "    (1, \"login\", \"2019-05-01\"),\n",
    "    (1, \"homepage\", \"2019-05-01\"),\n",
    "    (1, \"logout\", \"2019-05-01\"),\n",
    "    (2, \"login\", \"2019-06-21\"),\n",
    "    (2, \"logout\", \"2019-06-21\"),\n",
    "    (3, \"login\", \"2019-01-01\"),\n",
    "    (3, \"jobs\", \"2019-01-01\"),\n",
    "    (3, \"logout\", \"2019-01-01\"),\n",
    "    (4, \"login\", \"2019-06-21\"),\n",
    "    (4, \"groups\", \"2019-06-21\"),\n",
    "    (4, \"logout\", \"2019-06-21\"),\n",
    "    (5, \"login\", \"2019-03-01\"),\n",
    "    (5, \"logout\", \"2019-03-01\"),\n",
    "    (5, \"login\", \"2019-06-21\"),\n",
    "    (5, \"logout\", \"2019-06-21\"),\n",
    "]\n",
    "\n",
    "traffic_columns_1107 = [\"user_id\", \"activity\", \"activity_date\"]\n",
    "traffic_df_1107 = spark.createDataFrame(traffic_data_1107, traffic_columns_1107)\n",
    "traffic_df_1107.show()"
   ]
  }
 ],
 "metadata": {
  "application/vnd.databricks.v1+notebook": {
   "computePreferences": null,
   "dashboards": [],
   "environmentMetadata": {
    "base_environment": "",
    "environment_version": "1"
   },
   "inputWidgetPreferences": null,
   "language": "python",
   "notebookMetadata": {
    "pythonIndentUnit": 4
   },
   "notebookName": "1107. New Users Daily Count (Medium)",
   "widgets": {}
  },
  "language_info": {
   "name": "python"
  }
 },
 "nbformat": 4,
 "nbformat_minor": 0
}
