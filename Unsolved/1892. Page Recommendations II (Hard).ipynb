{
 "cells": [
  {
   "cell_type": "markdown",
   "metadata": {
    "application/vnd.databricks.v1+cell": {
     "cellMetadata": {},
     "inputWidgets": {},
     "nuid": "fadf709d-de3d-4bfc-b69f-3b489de68bef",
     "showTitle": false,
     "tableResultSettingsMap": {},
     "title": ""
    }
   },
   "source": [
    "## Importing Libraries"
   ]
  },
  {
   "cell_type": "code",
   "execution_count": 0,
   "metadata": {
    "application/vnd.databricks.v1+cell": {
     "cellMetadata": {},
     "inputWidgets": {},
     "nuid": "d4a1fef1-aa99-469c-b35f-9b3f3e81c9f7",
     "showTitle": false,
     "tableResultSettingsMap": {},
     "title": ""
    }
   },
   "outputs": [],
   "source": [
    "from pyspark.sql.functions import *\n",
    "from pyspark.sql.types import *\n",
    "from pyspark.sql.window import Window"
   ]
  },
  {
   "cell_type": "markdown",
   "metadata": {
    "application/vnd.databricks.v1+cell": {
     "cellMetadata": {},
     "inputWidgets": {},
     "nuid": "78daa073-80d8-4f7e-9cfa-10f6eb568909",
     "showTitle": false,
     "tableResultSettingsMap": {},
     "title": ""
    }
   },
   "source": [
    "**1892. Page Recommendations II (Hard)**\n",
    "\n",
    "**Table: Friendship**\n",
    "\n",
    "| Column Name   | Type    |\n",
    "|---------------|---------|\n",
    "| user1_id      | int     |\n",
    "| user2_id      | int     |\n",
    "\n",
    "(user1_id, user2_id) is the primary key (combination of columns with unique values) for this table.\n",
    "Each row of this table indicates that the users user1_id and user2_id are friends.\n",
    " \n",
    "**Table: Likes**\n",
    "\n",
    "| Column Name | Type    |\n",
    "|-------------|---------|\n",
    "| user_id     | int     |\n",
    "| page_id     | int     |\n",
    "\n",
    "(user_id, page_id) is the primary key (combination of columns with unique values) for this table.\n",
    "Each row of this table indicates that user_id likes page_id.\n",
    " \n",
    "You are implementing a page recommendation system for a social media website. Your system will recommend a page to user_id if the page is liked by at least one friend of user_id and is not liked by user_id.\n",
    "\n",
    "**Write a solution to find all the possible page recommendations for every user. Each recommendation should appear as a row in the result table with these columns:**\n",
    "- user_id: The ID of the user that your system is making the recommendation to.\n",
    "- page_id: The ID of the page that will be recommended to user_id.\n",
    "- friends_likes: The number of the friends of user_id that like page_id.\n",
    "\n",
    "Return the result table in any order.\n",
    "\n",
    "The result format is in the following example.\n",
    "\n",
    "**Example 1:**\n",
    "\n",
    "**Input:** \n",
    "\n",
    "**Friendship table:**\n",
    "\n",
    "| user1_id | user2_id |\n",
    "|----------|----------|\n",
    "| 1        | 2        |\n",
    "| 1        | 3        |\n",
    "| 1        | 4        |\n",
    "| 2        | 3        |\n",
    "| 2        | 4        |\n",
    "| 2        | 5        |\n",
    "| 6        | 1        |\n",
    "\n",
    "**Likes table:**\n",
    "| user_id | page_id |\n",
    "|---------|---------|\n",
    "| 1       | 88      |\n",
    "| 2       | 23      |\n",
    "| 3       | 24      |\n",
    "| 4       | 56      |\n",
    "| 5       | 11      |\n",
    "| 6       | 33      |\n",
    "| 2       | 77      |\n",
    "| 3       | 77      |\n",
    "| 6       | 88      |\n",
    "\n",
    "**Output:** \n",
    "| user_id | page_id | friends_likes |\n",
    "|---------|---------|---------------|\n",
    "| 1       | 77      | 2             |\n",
    "| 1       | 23      | 1             |\n",
    "| 1       | 24      | 1             |\n",
    "| 1       | 56      | 1             |\n",
    "| 1       | 33      | 1             |\n",
    "| 2       | 24      | 1             |\n",
    "| 2       | 56      | 1             |\n",
    "| 2       | 11      | 1             |\n",
    "| 2       | 88      | 1             |\n",
    "| 3       | 88      | 1             |\n",
    "| 3       | 23      | 1             |\n",
    "| 4       | 88      | 1             |\n",
    "| 4       | 77      | 1             |\n",
    "| 4       | 23      | 1             |\n",
    "| 5       | 77      | 1             |\n",
    "| 5       | 23      | 1             |\n",
    "\n",
    "**Explanation:** \n",
    "- Take user 1 as an example:\n",
    "  - User 1 is friends with users 2, 3, 4, and 6.\n",
    "  - Recommended pages are 23 (user 2 liked it), 24 (user 3 liked it), 56 (user 3 liked it), 33 (user 6 liked it), and 77 (user 2 and user 3 liked it).\n",
    "  - Note that page 88 is not recommended because user 1 already liked it.\n",
    "\n",
    "- Another example is user 6:\n",
    "  - User 6 is friends with user 1.\n",
    "  - User 1 only liked page 88, but user 6 already liked it. Hence, user 6 has no recommendations.\n",
    "\n",
    "You can recommend pages for users 2, 3, 4, and 5 using a similar process."
   ]
  },
  {
   "cell_type": "code",
   "execution_count": 0,
   "metadata": {
    "application/vnd.databricks.v1+cell": {
     "cellMetadata": {},
     "inputWidgets": {},
     "nuid": "7b78bc27-26cd-4523-8646-7369baf68fcb",
     "showTitle": false,
     "tableResultSettingsMap": {},
     "title": ""
    }
   },
   "outputs": [],
   "source": [
    "friendship_data_1892 = [\n",
    "    (1, 2), (1, 3), (1, 4), (2, 3), (2, 4), (2, 5), (6, 1)\n",
    "]\n",
    "\n",
    "friendship_columns_1892 = [\"user1_id\", \"user2_id\"]\n",
    "friendship_df_1892 = spark.createDataFrame(friendship_data_1892, friendship_columns_1892)\n",
    "friendship_df_1892.show()\n",
    "\n",
    "likes_data_1892 = [\n",
    "    (1, 88), (2, 23), (3, 24), (4, 56), (5, 11), (6, 33),\n",
    "    (2, 77), (3, 77), (6, 88)\n",
    "]\n",
    "\n",
    "likes_columns_1892 = [\"user_id\", \"page_id\"]\n",
    "likes_df_1892 = spark.createDataFrame(likes_data_1892, likes_columns_1892)\n",
    "likes_df_1892.show()\n"
   ]
  }
 ],
 "metadata": {
  "application/vnd.databricks.v1+notebook": {
   "computePreferences": null,
   "dashboards": [],
   "environmentMetadata": {
    "base_environment": "",
    "environment_version": "1"
   },
   "inputWidgetPreferences": null,
   "language": "python",
   "notebookMetadata": {
    "pythonIndentUnit": 4
   },
   "notebookName": "1892. Page Recommendations II (Hard)",
   "widgets": {}
  },
  "language_info": {
   "name": "python"
  }
 },
 "nbformat": 4,
 "nbformat_minor": 0
}
