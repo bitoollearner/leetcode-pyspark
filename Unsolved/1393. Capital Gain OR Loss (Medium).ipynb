{
 "cells": [
  {
   "cell_type": "markdown",
   "metadata": {
    "application/vnd.databricks.v1+cell": {
     "cellMetadata": {},
     "inputWidgets": {},
     "nuid": "516a210c-988a-43a8-9004-cb03ad7c2481",
     "showTitle": false,
     "tableResultSettingsMap": {},
     "title": ""
    }
   },
   "source": [
    "## Importing Libraries"
   ]
  },
  {
   "cell_type": "code",
   "execution_count": 0,
   "metadata": {
    "application/vnd.databricks.v1+cell": {
     "cellMetadata": {},
     "inputWidgets": {},
     "nuid": "9333a394-5bb0-4f1f-8f10-60b56c9fb68e",
     "showTitle": false,
     "tableResultSettingsMap": {},
     "title": ""
    }
   },
   "outputs": [],
   "source": [
    "from pyspark.sql.functions import *\n",
    "from pyspark.sql.types import *\n",
    "from pyspark.sql.window import Window"
   ]
  },
  {
   "cell_type": "markdown",
   "metadata": {
    "application/vnd.databricks.v1+cell": {
     "cellMetadata": {},
     "inputWidgets": {},
     "nuid": "b718c875-1030-4207-a68c-5fad8635212a",
     "showTitle": false,
     "tableResultSettingsMap": {},
     "title": ""
    }
   },
   "source": [
    "**1393. Capital Gain/Loss (Medium)**\n",
    "\n",
    "**Table: Stocks**\n",
    "\n",
    "| Column Name   | Type    |\n",
    "|---------------|---------|\n",
    "| stock_name    | varchar |\n",
    "| operation     | enum    |\n",
    "| operation_day | int     |\n",
    "| price         | int     |\n",
    "\n",
    "(stock_name, operation_day) is the primary key (combination of columns with unique values) for this table.\n",
    "The operation column is an ENUM (category) of type ('Sell', 'Buy')\n",
    "Each row of this table indicates that the stock which has stock_name had an operation on the day operation_day with the price.\n",
    "It is guaranteed that each 'Sell' operation for a stock has a corresponding 'Buy' operation in a previous day. It is also guaranteed that each 'Buy' operation for a stock has a corresponding 'Sell' operation in an upcoming day.\n",
    " \n",
    "**Write a solution to report the Capital gain/loss for each stock.**\n",
    "\n",
    "The Capital gain/loss of a stock is the total gain or loss after buying and selling the stock one or many times.\n",
    "\n",
    "Return the result table in any order.\n",
    "\n",
    "The result format is in the following example.\n",
    "\n",
    "**Example 1:**\n",
    "\n",
    "**Input:**\n",
    "**Stocks table:**\n",
    "| stock_name    | operation | operation_day | price  |\n",
    "|---------------|-----------|---------------|--------|\n",
    "| Leetcode      | Buy       | 1             | 1000   |\n",
    "| Corona Masks  | Buy       | 2             | 10     |\n",
    "| Leetcode      | Sell      | 5             | 9000   |\n",
    "| Handbags      | Buy       | 17            | 30000  |\n",
    "| Corona Masks  | Sell      | 3             | 1010   |\n",
    "| Corona Masks  | Buy       | 4             | 1000   |\n",
    "| Corona Masks  | Sell      | 5             | 500    |\n",
    "| Corona Masks  | Buy       | 6             | 1000   |\n",
    "| Handbags      | Sell      | 29            | 7000   |\n",
    "| Corona Masks  | Sell      | 10            | 10000  |\n",
    "\n",
    "**Output:**\n",
    "| stock_name    | capital_gain_loss |\n",
    "|---------------|-------------------|\n",
    "| Corona Masks  | 9500              |\n",
    "| Leetcode      | 8000              |\n",
    "| Handbags      | -23000            |\n",
    "\n",
    "**Explanation:**\n",
    "- Leetcode stock was bought at day 1 for 1000$ and was sold at day 5 for 9000$. Capital gain = 9000 - 1000 = 8000$.\n",
    "- Handbags stock was bought at day 17 for 30000$ and was sold at day 29 for 7000$. Capital loss = 7000 - 30000 = -23000$.\n",
    "- Corona Masks stock was bought at day 1 for 10$ and was sold at day 3 for 1010$. It was bought again at day 4 for 1000$ and was sold at day 5 for 500$. At last, it was bought at day 6 for 1000$ and was sold at day 10 for 10000$. Capital gain/loss is the sum of capital gains/losses for each ('Buy' --> 'Sell') operation = (1010 - 10) + (500 - 1000) + (10000 - 1000) = 1000 - 500 + 9000 = 9500$.\n"
   ]
  },
  {
   "cell_type": "code",
   "execution_count": 0,
   "metadata": {
    "application/vnd.databricks.v1+cell": {
     "cellMetadata": {},
     "inputWidgets": {},
     "nuid": "01e4d778-a8a5-48a7-8ebb-7033f0b84d62",
     "showTitle": false,
     "tableResultSettingsMap": {},
     "title": ""
    }
   },
   "outputs": [],
   "source": [
    "stocks_data_1393 = [\n",
    "    (\"Leetcode\", \"Buy\", 1, 1000),\n",
    "    (\"Corona Masks\", \"Buy\", 2, 10),\n",
    "    (\"Leetcode\", \"Sell\", 5, 9000),\n",
    "    (\"Handbags\", \"Buy\", 17, 30000),\n",
    "    (\"Corona Masks\", \"Sell\", 3, 1010),\n",
    "    (\"Corona Masks\", \"Buy\", 4, 1000),\n",
    "    (\"Corona Masks\", \"Sell\", 5, 500),\n",
    "    (\"Corona Masks\", \"Buy\", 6, 1000),\n",
    "    (\"Handbags\", \"Sell\", 29, 7000),\n",
    "    (\"Corona Masks\", \"Sell\", 10, 10000),\n",
    "]\n",
    "\n",
    "stocks_columns_1393 = [\"stock_name\", \"operation\", \"operation_day\", \"price\"]\n",
    "stocks_df_1393 = spark.createDataFrame(stocks_data_1393, stocks_columns_1393)\n",
    "stocks_df_1393.show()"
   ]
  }
 ],
 "metadata": {
  "application/vnd.databricks.v1+notebook": {
   "computePreferences": null,
   "dashboards": [],
   "environmentMetadata": {
    "base_environment": "",
    "environment_version": "1"
   },
   "inputWidgetPreferences": null,
   "language": "python",
   "notebookMetadata": {
    "pythonIndentUnit": 4
   },
   "notebookName": "1393. Capital Gain OR Loss (Medium)",
   "widgets": {}
  }
 },
 "nbformat": 4,
 "nbformat_minor": 0
}