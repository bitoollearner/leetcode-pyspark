{
 "cells": [
  {
   "cell_type": "markdown",
   "metadata": {
    "application/vnd.databricks.v1+cell": {
     "cellMetadata": {},
     "inputWidgets": {},
     "nuid": "4e9d71b1-88e9-445c-820a-b842e217a4e7",
     "showTitle": false,
     "tableResultSettingsMap": {},
     "title": ""
    }
   },
   "source": [
    "## Importing Libraries"
   ]
  },
  {
   "cell_type": "code",
   "execution_count": 0,
   "metadata": {
    "application/vnd.databricks.v1+cell": {
     "cellMetadata": {},
     "inputWidgets": {},
     "nuid": "e6624c4d-8cb8-4ac4-8c72-81d1b4ecdb57",
     "showTitle": false,
     "tableResultSettingsMap": {},
     "title": ""
    }
   },
   "outputs": [],
   "source": [
    "from pyspark.sql.functions import *\n",
    "from pyspark.sql.types import *\n",
    "from pyspark.sql.window import Window"
   ]
  },
  {
   "cell_type": "markdown",
   "metadata": {
    "application/vnd.databricks.v1+cell": {
     "cellMetadata": {},
     "inputWidgets": {},
     "nuid": "c3788fe5-f4c9-420f-ad72-ec1a39310a2a",
     "showTitle": false,
     "tableResultSettingsMap": {},
     "title": ""
    }
   },
   "source": [
    "**2752. Customers with Maximum Number of Transactions on Consecutive Days (Hard)**\n",
    "\n",
    "**Table: Transactions**\n",
    "\n",
    "| Column Name      | Type |\n",
    "|------------------|------|\n",
    "| transaction_id   | int  |\n",
    "| customer_id      | int  |\n",
    "| transaction_date | date |\n",
    "| amount           | int  |\n",
    "\n",
    "transaction_id is the column with unique values of this table.\n",
    "Each row contains information about transactions that includes unique (customer_id, transaction_date) along with the corresponding customer_id and amount.   \n",
    "\n",
    "**Write a solution to find all customer_id who made the maximum number of transactions on consecutive days.**\n",
    "\n",
    "Return all customer_id with the maximum number of consecutive transactions. Order the result table by customer_id in ascending order.\n",
    "\n",
    "The result format is in the following example.\n",
    "\n",
    "**Example 1:**\n",
    "\n",
    "**Input:** \n",
    "\n",
    "**Transactions table:**\n",
    "| transaction_id | customer_id | transaction_date | amount |\n",
    "|----------------|-------------|------------------|--------|\n",
    "| 1              | 101         | 2023-05-01       | 100    |\n",
    "| 2              | 101         | 2023-05-02       | 150    |\n",
    "| 3              | 101         | 2023-05-03       | 200    |\n",
    "| 4              | 102         | 2023-05-01       | 50     |\n",
    "| 5              | 102         | 2023-05-03       | 100    |\n",
    "| 6              | 102         | 2023-05-04       | 200    |\n",
    "| 7              | 105         | 2023-05-01       | 100    |\n",
    "| 8              | 105         | 2023-05-02       | 150    |\n",
    "| 9              | 105         | 2023-05-03       | 200    |\n",
    "\n",
    "**Output:** \n",
    "| customer_id | \n",
    "|-------------|\n",
    "| 101         | \n",
    "| 105         | \n",
    "\n",
    "**Explanation:** \n",
    "- customer_id 101 has a total of 3 transactions, and all of them are consecutive.\n",
    "- customer_id 102 has a total of 3 transactions, but only 2 of them are consecutive. \n",
    "- customer_id 105 has a total of 3 transactions, and all of them are consecutive.\n",
    "In total, the highest number of consecutive transactions is 3, achieved by customer_id 101 and 105. The customer_id are sorted in ascending order."
   ]
  },
  {
   "cell_type": "code",
   "execution_count": 0,
   "metadata": {
    "application/vnd.databricks.v1+cell": {
     "cellMetadata": {},
     "inputWidgets": {},
     "nuid": "137536ea-9bec-4171-8dc2-4bf8b0d771b4",
     "showTitle": false,
     "tableResultSettingsMap": {},
     "title": ""
    }
   },
   "outputs": [],
   "source": [
    "transactions_data_2752 = [\n",
    "    (1, 101, \"2023-05-01\", 100),\n",
    "    (2, 101, \"2023-05-02\", 150),\n",
    "    (3, 101, \"2023-05-03\", 200),\n",
    "    (4, 102, \"2023-05-01\", 50),\n",
    "    (5, 102, \"2023-05-03\", 100),\n",
    "    (6, 102, \"2023-05-04\", 200),\n",
    "    (7, 105, \"2023-05-01\", 100),\n",
    "    (8, 105, \"2023-05-02\", 150),\n",
    "    (9, 105, \"2023-05-03\", 200),\n",
    "]\n",
    "\n",
    "transactions_columns_2752 = [\"transaction_id\", \"customer_id\", \"transaction_date\", \"amount\"]\n",
    "transactions_df_2752 = spark.createDataFrame(transactions_data_2752, transactions_columns_2752)\n",
    "transactions_df_2752.show()\n"
   ]
  }
 ],
 "metadata": {
  "application/vnd.databricks.v1+notebook": {
   "computePreferences": null,
   "dashboards": [],
   "environmentMetadata": {
    "base_environment": "",
    "environment_version": "1"
   },
   "inputWidgetPreferences": null,
   "language": "python",
   "notebookMetadata": {
    "pythonIndentUnit": 4
   },
   "notebookName": "2752. Customers with Maximum Number of Transactions on Consecutive Days (Hard)",
   "widgets": {}
  },
  "language_info": {
   "name": "python"
  }
 },
 "nbformat": 4,
 "nbformat_minor": 0
}
