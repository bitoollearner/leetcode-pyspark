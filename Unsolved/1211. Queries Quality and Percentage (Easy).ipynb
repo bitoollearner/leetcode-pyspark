{
 "cells": [
  {
   "cell_type": "markdown",
   "metadata": {
    "application/vnd.databricks.v1+cell": {
     "cellMetadata": {},
     "inputWidgets": {},
     "nuid": "82383caa-9b15-409a-9acb-968b851c477b",
     "showTitle": false,
     "tableResultSettingsMap": {},
     "title": ""
    }
   },
   "source": [
    "## Importing Libraries"
   ]
  },
  {
   "cell_type": "code",
   "execution_count": 0,
   "metadata": {
    "application/vnd.databricks.v1+cell": {
     "cellMetadata": {},
     "inputWidgets": {},
     "nuid": "83322872-9913-4063-98cf-4aaea5fd3337",
     "showTitle": false,
     "tableResultSettingsMap": {},
     "title": ""
    }
   },
   "outputs": [],
   "source": [
    "from pyspark.sql.functions import *\n",
    "from pyspark.sql.types import *\n",
    "from pyspark.sql.window import Window"
   ]
  },
  {
   "cell_type": "markdown",
   "metadata": {
    "application/vnd.databricks.v1+cell": {
     "cellMetadata": {},
     "inputWidgets": {},
     "nuid": "e475f002-2b95-4d27-958c-aeab86c066ed",
     "showTitle": false,
     "tableResultSettingsMap": {},
     "title": ""
    }
   },
   "source": [
    "**1211. Queries Quality and Percentage (Easy)**\n",
    "\n",
    "**Table: Queries**\n",
    "\n",
    "| Column Name | Type    |\n",
    "|-------------|---------|\n",
    "| query_name  | varchar |\n",
    "| result      | varchar |\n",
    "| position    | int     |\n",
    "| rating      | int     |\n",
    "\n",
    "This table may have duplicate rows.\n",
    "This table contains information collected from some queries on a database.\n",
    "The position column has a value from 1 to 500.\n",
    "The rating column has a value from 1 to 5. Query with rating less than 3 is a poor query.\n",
    " \n",
    "We define query quality as:\n",
    "\n",
    "The average of the ratio between query rating and its position.\n",
    "\n",
    "We also define poor query percentage as:\n",
    "\n",
    "The percentage of all queries with rating less than 3.\n",
    "\n",
    "**Write a solution to find each query_name, the quality and poor_query_percentage.**\n",
    "\n",
    "Both quality and poor_query_percentage should be rounded to 2 decimal places.\n",
    "\n",
    "Return the result table in any order.\n",
    "\n",
    "The result format is in the following example.\n",
    "\n",
    "**Example 1:**\n",
    "\n",
    "**Input:**\n",
    "**Queries table:**\n",
    "| query_name | result            | position | rating |\n",
    "|------------|-------------------|----------|--------|\n",
    "| Dog        | Golden Retriever  | 1        | 5      |\n",
    "| Dog        | German Shepherd   | 2        | 5      |\n",
    "| Dog        | Mule              | 200      | 1      |\n",
    "| Cat        | Shirazi           | 5        | 2      |\n",
    "| Cat        | Siamese           | 3        | 3      |\n",
    "| Cat        | Sphynx            | 7        | 4      |\n",
    "\n",
    "**Output:**\n",
    "| query_name | quality | poor_query_percentage |\n",
    "|------------|---------|-----------------------|\n",
    "| Dog        | 2.50    | 33.33                 |\n",
    "| Cat        | 0.66    | 33.33                 |\n",
    "\n",
    "**Explanation:**\n",
    "Dog queries quality is ((5 / 1) + (5 / 2) + (1 / 200)) / 3 = 2.50\n",
    "Dog queries poor_ query_percentage is (1 / 3) * 100 = 33.33\n",
    "\n",
    "Cat queries quality equals ((2 / 5) + (3 / 3) + (4 / 7)) / 3 = 0.66\n",
    "Cat queries poor_ query_percentage is (1 / 3) * 100 = 33.33"
   ]
  },
  {
   "cell_type": "code",
   "execution_count": 0,
   "metadata": {
    "application/vnd.databricks.v1+cell": {
     "cellMetadata": {},
     "inputWidgets": {},
     "nuid": "a073d765-b3a4-4bda-a02f-ac5e3671a222",
     "showTitle": false,
     "tableResultSettingsMap": {},
     "title": ""
    }
   },
   "outputs": [],
   "source": [
    "queries_data_1211 = [\n",
    "    (\"Dog\", \"Golden Retriever\", 1, 5),\n",
    "    (\"Dog\", \"German Shepherd\", 2, 5),\n",
    "    (\"Dog\", \"Mule\", 200, 1),\n",
    "    (\"Cat\", \"Shirazi\", 5, 2),\n",
    "    (\"Cat\", \"Siamese\", 3, 3),\n",
    "    (\"Cat\", \"Sphynx\", 7, 4),\n",
    "]\n",
    "\n",
    "queries_columns_1211 = [\"query_name\", \"result\", \"position\", \"rating\"]\n",
    "queries_df_1211 = spark.createDataFrame(queries_data_1211, queries_columns_1211)\n",
    "queries_df_1211.show()"
   ]
  }
 ],
 "metadata": {
  "application/vnd.databricks.v1+notebook": {
   "computePreferences": null,
   "dashboards": [],
   "environmentMetadata": {
    "base_environment": "",
    "environment_version": "1"
   },
   "inputWidgetPreferences": null,
   "language": "python",
   "notebookMetadata": {
    "pythonIndentUnit": 4
   },
   "notebookName": "1211. Queries Quality and Percentage (Easy)",
   "widgets": {}
  },
  "language_info": {
   "name": "python"
  }
 },
 "nbformat": 4,
 "nbformat_minor": 0
}
