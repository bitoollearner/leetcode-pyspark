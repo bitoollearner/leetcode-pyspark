{
 "cells": [
  {
   "cell_type": "markdown",
   "metadata": {
    "application/vnd.databricks.v1+cell": {
     "cellMetadata": {},
     "inputWidgets": {},
     "nuid": "7d1791bd-9552-4116-90b2-daa678bbffb8",
     "showTitle": false,
     "tableResultSettingsMap": {},
     "title": ""
    }
   },
   "source": [
    "## Importing Libraries"
   ]
  },
  {
   "cell_type": "code",
   "execution_count": 0,
   "metadata": {
    "application/vnd.databricks.v1+cell": {
     "cellMetadata": {},
     "inputWidgets": {},
     "nuid": "2901fbc9-49db-4285-8b94-c460f34d4c4f",
     "showTitle": false,
     "tableResultSettingsMap": {},
     "title": ""
    }
   },
   "outputs": [],
   "source": [
    "from pyspark.sql.functions import *\n",
    "from pyspark.sql.types import *\n",
    "from pyspark.sql.window import Window"
   ]
  },
  {
   "cell_type": "markdown",
   "metadata": {
    "application/vnd.databricks.v1+cell": {
     "cellMetadata": {},
     "inputWidgets": {},
     "nuid": "655120e7-6b25-417c-a08a-c6925feaa425",
     "showTitle": false,
     "tableResultSettingsMap": {},
     "title": ""
    }
   },
   "source": [
    "**3482. Analyze Organization Hierarchy (Hard)**\n",
    "\n",
    "**Table: Employees**\n",
    "\n",
    "| Column Name    | Type    | \n",
    "|----------------|---------|\n",
    "| employee_id    | int     |\n",
    "| employee_name  | varchar |\n",
    "| manager_id     | int     |\n",
    "| salary         | int     |\n",
    "| department     | varchar |\n",
    "\n",
    "employee_id is the unique key for this table.\n",
    "Each row contains information about an employee, including their ID, name, their manager's ID, salary, and department.\n",
    "manager_id is null for the top-level manager (CEO).\n",
    "\n",
    "**Write a solution to analyze the organizational hierarchy and answer the following:**\n",
    "- **Hierarchy Levels:** For each employee, determine their level in the organization (CEO is level 1, employees reporting directly to the CEO are level 2, and so on).\n",
    "- **Team Size:** For each employee who is a manager, count the total number of employees under them (direct and indirect reports).\n",
    "- **Salary Budget:** For each manager, calculate the total salary budget they control (sum of salaries of all employees under them, including indirect reports, plus their own salary).\n",
    "\n",
    "Return the result table ordered by the result ordered by level in ascending order, then by budget in descending order, and finally by employee_name in ascending order.\n",
    "\n",
    "The result format is in the following example.\n",
    "\n",
    "**Example:**\n",
    "\n",
    "**Input:**\n",
    "\n",
    "**Employees table:**\n",
    "\n",
    "| employee_id | employee_name | manager_id | salary | department  |\n",
    "|-------------|---------------|------------|--------|-------------|\n",
    "| 1           | Alice         | null       | 12000  | Executive   |\n",
    "| 2           | Bob           | 1          | 10000  | Sales       |\n",
    "| 3           | Charlie       | 1          | 10000  | Engineering |\n",
    "| 4           | David         | 2          | 7500   | Sales       |\n",
    "| 5           | Eva           | 2          | 7500   | Sales       |\n",
    "| 6           | Frank         | 3          | 9000   | Engineering |\n",
    "| 7           | Grace         | 3          | 8500   | Engineering |\n",
    "| 8           | Hank          | 4          | 6000   | Sales       |\n",
    "| 9           | Ivy           | 6          | 7000   | Engineering |\n",
    "| 10          | Judy          | 6          | 7000   | Engineering |\n",
    "\n",
    "**Output:**\n",
    "\n",
    "| employee_id | employee_name | level | team_size | budget |\n",
    "|-------------|---------------|-------|-----------|--------|\n",
    "| 1           | Alice         | 1     | 9         | 84500  |\n",
    "| 3           | Charlie       | 2     | 4         | 41500  |\n",
    "| 2           | Bob           | 2     | 3         | 31000  |\n",
    "| 6           | Frank         | 3     | 2         | 23000  |\n",
    "| 4           | David         | 3     | 1         | 13500  |\n",
    "| 7           | Grace         | 3     | 0         | 8500   |\n",
    "| 5           | Eva           | 3     | 0         | 7500   |\n",
    "| 9           | Ivy           | 4     | 0         | 7000   |\n",
    "| 10          | Judy          | 4     | 0         | 7000   |\n",
    "| 8           | Hank          | 4     | 0         | 6000   |\n",
    "\n",
    "**Explanation:**\n",
    "\n",
    "**Organization Structure:**\n",
    "- Alice (ID: 1) is the CEO (level 1) with no manager\n",
    "- Bob (ID: 2) and Charlie (ID: 3) report directly to Alice (level 2)\n",
    "- David (ID: 4), Eva (ID: 5) report to Bob, while Frank (ID: 6) and Grace (ID: 7) report to Charlie (level 3)\n",
    "- Hank (ID: 8) reports to David, and Ivy (ID: 9) and Judy (ID: 10) report to Frank (level 4)\n",
    "\n",
    "**Level Calculation:**\n",
    "- The CEO (Alice) is at level 1\n",
    "- Each subsequent level of management adds 1 to the level\n",
    "\n",
    "**Team Size Calculation:**\n",
    "- Alice has 9 employees under her (the entire company except herself)\n",
    "- Bob has 3 employees (David, Eva, and Hank)\n",
    "- Charlie has 4 employees (Frank, Grace, Ivy, and Judy)\n",
    "- David has 1 employee (Hank)\n",
    "- Frank has 2 employees (Ivy and Judy)\n",
    "- Eva, Grace, Hank, Ivy, and Judy have no direct reports (team_size = 0)\n",
    "\n",
    "**Budget Calculation:**\n",
    "- Alice's budget: Her salary (12000) + all employees' salaries (72500) = 84500\n",
    "- Charlie's budget: His salary (10000) + Frank's budget (23000) + Grace's salary (8500) = 41500\n",
    "- Bob's budget: His salary (10000) + David's budget (13500) + Eva's salary (7500) = 31000\n",
    "- Frank's budget: His salary (9000) + Ivy's salary (7000) + Judy's salary (7000) = 23000\n",
    "- David's budget: His salary (7500) + Hank's salary (6000) = 13500\n",
    "- Employees with no direct reports have budgets equal to their own salary\n",
    "\n",
    "**Note:**\n",
    "- The result is ordered first by level in ascending order\n",
    "- Within the same level, employees are ordered by budget in descending order then by name in ascending order"
   ]
  },
  {
   "cell_type": "code",
   "execution_count": 0,
   "metadata": {
    "application/vnd.databricks.v1+cell": {
     "cellMetadata": {},
     "inputWidgets": {},
     "nuid": "a2368434-0191-416c-aa1d-12cd44cf48e6",
     "showTitle": false,
     "tableResultSettingsMap": {},
     "title": ""
    }
   },
   "outputs": [],
   "source": [
    "employees_data_3482 = [\n",
    "    (1, \"Alice\", None, 12000, \"Executive\"),\n",
    "    (2, \"Bob\", 1, 10000, \"Sales\"),\n",
    "    (3, \"Charlie\", 1, 10000, \"Engineering\"),\n",
    "    (4, \"David\", 2, 7500, \"Sales\"),\n",
    "    (5, \"Eva\", 2, 7500, \"Sales\"),\n",
    "    (6, \"Frank\", 3, 9000, \"Engineering\"),\n",
    "    (7, \"Grace\", 3, 8500, \"Engineering\"),\n",
    "    (8, \"Hank\", 4, 6000, \"Sales\"),\n",
    "    (9, \"Ivy\", 6, 7000, \"Engineering\"),\n",
    "    (10, \"Judy\", 6, 7000, \"Engineering\")\n",
    "]\n",
    "\n",
    "employees_columns_3482 = [\"employee_id\", \"employee_name\", \"manager_id\", \"salary\", \"department\"]\n",
    "employees_df_3482 = spark.createDataFrame(data, employees_columns_3482)\n",
    "employees_df_3482.show()"
   ]
  }
 ],
 "metadata": {
  "application/vnd.databricks.v1+notebook": {
   "computePreferences": null,
   "dashboards": [],
   "environmentMetadata": {
    "base_environment": "",
    "environment_version": "1"
   },
   "inputWidgetPreferences": null,
   "language": "python",
   "notebookMetadata": {
    "pythonIndentUnit": 4
   },
   "notebookName": "3482. Analyze Organization Hierarchy (Hard)",
   "widgets": {}
  },
  "language_info": {
   "name": "python"
  }
 },
 "nbformat": 4,
 "nbformat_minor": 0
}
