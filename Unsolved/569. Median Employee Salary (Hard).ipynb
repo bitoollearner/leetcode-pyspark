{
 "cells": [
  {
   "cell_type": "markdown",
   "metadata": {
    "application/vnd.databricks.v1+cell": {
     "cellMetadata": {},
     "inputWidgets": {},
     "nuid": "933f6fcf-3b7f-4e22-a9da-47224a7b1132",
     "showTitle": false,
     "tableResultSettingsMap": {},
     "title": ""
    }
   },
   "source": [
    "## Importing Libraries"
   ]
  },
  {
   "cell_type": "code",
   "execution_count": 0,
   "metadata": {
    "application/vnd.databricks.v1+cell": {
     "cellMetadata": {},
     "inputWidgets": {},
     "nuid": "0a044ca2-88c3-4a39-9ad3-12c7b6613c0b",
     "showTitle": false,
     "tableResultSettingsMap": {},
     "title": ""
    }
   },
   "outputs": [],
   "source": [
    "from pyspark.sql.functions import *\n",
    "from pyspark.sql.types import *\n",
    "from pyspark.sql.window import Window"
   ]
  },
  {
   "cell_type": "markdown",
   "metadata": {
    "application/vnd.databricks.v1+cell": {
     "cellMetadata": {},
     "inputWidgets": {},
     "nuid": "f16f61a0-1eda-4a08-9e41-e6bc4f90e5dc",
     "showTitle": false,
     "tableResultSettingsMap": {},
     "title": ""
    }
   },
   "source": [
    "**569. Median Employee Salary (Hard)**\n",
    "\n",
    "**Table: Employee**\n",
    "\n",
    "| Column Name  | Type    |\n",
    "|--------------|---------|\n",
    "| id           | int     |\n",
    "| company      | varchar |\n",
    "| salary       | int     |\n",
    "\n",
    "id is the primary key (column with unique values) for this table.\n",
    "Each row of this table indicates the company and the salary of one employee.\n",
    " \n",
    "**Write a solution to find the rows that contain the median salary of each company. While calculating the median, when you sort the salaries of the company, break the ties by id.**\n",
    "\n",
    "Return the result table in any order.\n",
    "\n",
    "The result format is in the following example.\n",
    "\n",
    "**Example 1:**\n",
    "\n",
    "**Input:** \n",
    "\n",
    "**Employee table:**\n",
    "\n",
    "| id | company | salary |\n",
    "|----|---------|--------|\n",
    "| 1  | A       | 2341   |\n",
    "| 2  | A       | 341    |\n",
    "| 3  | A       | 15     |\n",
    "| 4  | A       | 15314  |\n",
    "| 5  | A       | 451    |\n",
    "| 6  | A       | 513    |\n",
    "| 7  | B       | 15     |\n",
    "| 8  | B       | 13     |\n",
    "| 9  | B       | 1154   |\n",
    "| 10 | B       | 1345   |\n",
    "| 11 | B       | 1221   |\n",
    "| 12 | B       | 234    |\n",
    "| 13 | C       | 2345   |\n",
    "| 14 | C       | 2645   |\n",
    "| 15 | C       | 2645   |\n",
    "| 16 | C       | 2652   |\n",
    "| 17 | C       | 65     |\n",
    "\n",
    "**Output:** \n",
    "| id | company | salary |\n",
    "|----|---------|--------|\n",
    "| 5  | A       | 451    |\n",
    "| 6  | A       | 513    |\n",
    "| 12 | B       | 234    |\n",
    "| 9  | B       | 1154   |\n",
    "| 14 | C       | 2645   |\n",
    "\n",
    "**Explanation:** \n",
    "\n",
    "For company A, the rows sorted are as follows:\n",
    "| id | company | salary |\n",
    "|----|---------|--------|\n",
    "| 3  | A       | 15     |\n",
    "| 2  | A       | 341    |\n",
    "| 5  | A       | 451    | <-- median\n",
    "| 6  | A       | 513    | <-- median\n",
    "| 1  | A       | 2341   |\n",
    "| 4  | A       | 15314  |\n",
    "\n",
    "For company B, the rows sorted are as follows:\n",
    "| id | company | salary |\n",
    "|----|---------|--------|\n",
    "| 8  | B       | 13     |\n",
    "| 7  | B       | 15     |\n",
    "| 12 | B       | 234    | <-- median\n",
    "| 11 | B       | 1221   | <-- median\n",
    "| 9  | B       | 1154   |\n",
    "| 10 | B       | 1345   |\n",
    "\n",
    "For company C, the rows sorted are as follows:\n",
    "| id | company | salary |\n",
    "|----|---------|--------|\n",
    "| 17 | C       | 65     |\n",
    "| 13 | C       | 2345   |\n",
    "| 14 | C       | 2645   | <-- median\n",
    "| 15 | C       | 2645   | \n",
    "| 16 | C       | 2652   |\n",
    " \n",
    "\n",
    "**Follow up:** Could you solve it without using any built-in or window functions?"
   ]
  },
  {
   "cell_type": "code",
   "execution_count": 0,
   "metadata": {
    "application/vnd.databricks.v1+cell": {
     "cellMetadata": {},
     "inputWidgets": {},
     "nuid": "99062cca-ba5f-4f53-a7b7-0a79518c0bf0",
     "showTitle": false,
     "tableResultSettingsMap": {},
     "title": ""
    }
   },
   "outputs": [],
   "source": [
    "employee_data_569 = [\n",
    "    (1, 'A', 2341), (2, 'A', 341), (3, 'A', 15),\n",
    "    (4, 'A', 15314), (5, 'A', 451), (6, 'A', 513),\n",
    "    (7, 'B', 15), (8, 'B', 13), (9, 'B', 1154),\n",
    "    (10, 'B', 1345), (11, 'B', 1221), (12, 'B', 234),\n",
    "    (13, 'C', 2345), (14, 'C', 2645), (15, 'C', 2645),\n",
    "    (16, 'C', 2652), (17, 'C', 65)\n",
    "]\n",
    "\n",
    "employee_columns_569 = ['id', 'company', 'salary']\n",
    "employee_df_569 = spark.createDataFrame(employee_data_569, employee_columns_569)\n",
    "employee_df_569.show()"
   ]
  }
 ],
 "metadata": {
  "application/vnd.databricks.v1+notebook": {
   "computePreferences": null,
   "dashboards": [],
   "environmentMetadata": {
    "base_environment": "",
    "environment_version": "1"
   },
   "inputWidgetPreferences": null,
   "language": "python",
   "notebookMetadata": {
    "pythonIndentUnit": 4
   },
   "notebookName": "569. Median Employee Salary (Hard)",
   "widgets": {}
  },
  "language_info": {
   "name": "python"
  }
 },
 "nbformat": 4,
 "nbformat_minor": 0
}
