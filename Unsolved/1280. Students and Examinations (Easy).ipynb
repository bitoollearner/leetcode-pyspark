{
 "cells": [
  {
   "cell_type": "markdown",
   "metadata": {
    "application/vnd.databricks.v1+cell": {
     "cellMetadata": {},
     "inputWidgets": {},
     "nuid": "82383caa-9b15-409a-9acb-968b851c477b",
     "showTitle": false,
     "tableResultSettingsMap": {},
     "title": ""
    }
   },
   "source": [
    "## Importing Libraries"
   ]
  },
  {
   "cell_type": "code",
   "execution_count": 0,
   "metadata": {
    "application/vnd.databricks.v1+cell": {
     "cellMetadata": {},
     "inputWidgets": {},
     "nuid": "83322872-9913-4063-98cf-4aaea5fd3337",
     "showTitle": false,
     "tableResultSettingsMap": {},
     "title": ""
    }
   },
   "outputs": [],
   "source": [
    "from pyspark.sql.functions import *\n",
    "from pyspark.sql.types import *\n",
    "from pyspark.sql.window import Window"
   ]
  },
  {
   "cell_type": "markdown",
   "metadata": {
    "application/vnd.databricks.v1+cell": {
     "cellMetadata": {},
     "inputWidgets": {},
     "nuid": "e475f002-2b95-4d27-958c-aeab86c066ed",
     "showTitle": false,
     "tableResultSettingsMap": {},
     "title": ""
    }
   },
   "source": [
    "**1280. Students and Examinations (Easy)**\n",
    "\n",
    "**Table: Students**\n",
    "\n",
    "| Column Name   | Type    |\n",
    "|---------------|---------|\n",
    "| student_id    | int     |\n",
    "| student_name  | varchar |\n",
    "\n",
    "student_id is the primary key (column with unique values) for this table.\n",
    "Each row of this table contains the ID and the name of one student in the school.\n",
    " \n",
    "**Table: Subjects**\n",
    "\n",
    "| Column Name  | Type    |\n",
    "|--------------|---------|\n",
    "| subject_name | varchar |\n",
    "\n",
    "subject_name is the primary key (column with unique values) for this table.\n",
    "Each row of this table contains the name of one subject in the school.\n",
    " \n",
    "**Table: Examinations**\n",
    "\n",
    "| Column Name  | Type    |\n",
    "|--------------|---------|\n",
    "| student_id   | int     |\n",
    "| subject_name | varchar |\n",
    "\n",
    "There is no primary key (column with unique values) for this table. It may contain duplicates.\n",
    "Each student from the Students table takes every course from the Subjects table.\n",
    "Each row of this table indicates that a student with ID student_id attended the exam of subject_name.\n",
    " \n",
    "**Write a solution to find the number of times each student attended each exam.**\n",
    "\n",
    "Return the result table ordered by student_id and subject_name.\n",
    "\n",
    "The result format is in the following example.\n",
    "\n",
    "**Example 1:**\n",
    "\n",
    "**Input:**\n",
    "**Students table:**\n",
    "| student_id | student_name |\n",
    "|------------|--------------|\n",
    "| 1          | Alice        |\n",
    "| 2          | Bob          |\n",
    "| 13         | John         |\n",
    "| 6          | Alex         |\n",
    "\n",
    "**Subjects table:**\n",
    "\n",
    "| subject_name |\n",
    "|--------------|\n",
    "| Math         |\n",
    "| Physics      |\n",
    "| Programming  |\n",
    "\n",
    "**Examinations table:**\n",
    "| student_id | subject_name |\n",
    "|------------|--------------|\n",
    "| 1          | Math         |\n",
    "| 1          | Physics      |\n",
    "| 1          | Programming  |\n",
    "| 2          | Programming  |\n",
    "| 1          | Physics      |\n",
    "| 1          | Math         |\n",
    "| 13         | Math         |\n",
    "| 13         | Programming  |\n",
    "| 13         | Physics      |\n",
    "| 2          | Math         |\n",
    "| 1          | Math         |\n",
    "\n",
    "**Output:**\n",
    "| student_id | student_name | subject_name | attended_exams |\n",
    "|------------|--------------|--------------|----------------|\n",
    "| 1          | Alice        | Math         | 3              |\n",
    "| 1          | Alice        | Physics      | 2              |\n",
    "| 1          | Alice        | Programming  | 1              |\n",
    "| 2          | Bob          | Math         | 1              |\n",
    "| 2          | Bob          | Physics      | 0              |\n",
    "| 2          | Bob          | Programming  | 1              |\n",
    "| 6          | Alex         | Math         | 0              |\n",
    "| 6          | Alex         | Physics      | 0              |\n",
    "| 6          | Alex         | Programming  | 0              |\n",
    "| 13         | John         | Math         | 1              |\n",
    "| 13         | John         | Physics      | 1              |\n",
    "| 13         | John         | Programming  | 1              |\n",
    "\n",
    "**Explanation:**\n",
    "- The result table should contain all students and all subjects.\n",
    "- Alice attended the Math exam 3 times, the Physics exam 2 times, and the Programming exam 1 time.\n",
    "- Bob attended the Math exam 1 time, the Programming exam 1 time, and did not attend the Physics exam.\n",
    "- Alex did not attend any exams.\n",
    "- John attended the Math exam 1 time, the Physics exam 1 time, and the Programming exam 1 time."
   ]
  },
  {
   "cell_type": "code",
   "execution_count": 0,
   "metadata": {
    "application/vnd.databricks.v1+cell": {
     "cellMetadata": {},
     "inputWidgets": {},
     "nuid": "a073d765-b3a4-4bda-a02f-ac5e3671a222",
     "showTitle": false,
     "tableResultSettingsMap": {},
     "title": ""
    }
   },
   "outputs": [],
   "source": [
    "students_data_1280 = [\n",
    "    (1, \"Alice\"),\n",
    "    (2, \"Bob\"),\n",
    "    (13, \"John\"),\n",
    "    (6, \"Alex\"),\n",
    "]\n",
    "\n",
    "students_columns_1280 = [\"student_id\", \"student_name\"]\n",
    "students_df_1280 = spark.createDataFrame(students_data_1280, students_columns_1280)\n",
    "students_df_1280.show()\n",
    "\n",
    "subjects_data_1280 = [\n",
    "    (\"Math\",),\n",
    "    (\"Physics\",),\n",
    "    (\"Programming\",),\n",
    "]\n",
    "\n",
    "subjects_columns_1280 = [\"subject_name\"]\n",
    "subjects_df_1280 = spark.createDataFrame(subjects_data_1280, subjects_columns_1280)\n",
    "subjects_df_1280.show()\n",
    "\n",
    "examinations_data_1280 = [\n",
    "    (1, \"Math\"),\n",
    "    (1, \"Physics\"),\n",
    "    (1, \"Programming\"),\n",
    "    (2, \"Programming\"),\n",
    "    (1, \"Physics\"),\n",
    "    (1, \"Math\"),\n",
    "    (13, \"Math\"),\n",
    "    (13, \"Programming\"),\n",
    "    (13, \"Physics\"),\n",
    "    (2, \"Math\"),\n",
    "    (1, \"Math\"),\n",
    "]\n",
    "\n",
    "examinations_columns_1280 = [\"student_id\", \"subject_name\"]\n",
    "examinations_df_1280 = spark.createDataFrame(examinations_data_1280, examinations_columns_1280)\n",
    "examinations_df_1280.show()"
   ]
  }
 ],
 "metadata": {
  "application/vnd.databricks.v1+notebook": {
   "computePreferences": null,
   "dashboards": [],
   "environmentMetadata": {
    "base_environment": "",
    "environment_version": "1"
   },
   "inputWidgetPreferences": null,
   "language": "python",
   "notebookMetadata": {
    "pythonIndentUnit": 4
   },
   "notebookName": "1280. Students and Examinations (Easy)",
   "widgets": {}
  },
  "language_info": {
   "name": "python"
  }
 },
 "nbformat": 4,
 "nbformat_minor": 0
}
