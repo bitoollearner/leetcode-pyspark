{
 "cells": [
  {
   "cell_type": "markdown",
   "metadata": {
    "application/vnd.databricks.v1+cell": {
     "cellMetadata": {},
     "inputWidgets": {},
     "nuid": "7d1791bd-9552-4116-90b2-daa678bbffb8",
     "showTitle": false,
     "tableResultSettingsMap": {},
     "title": ""
    }
   },
   "source": [
    "## Importing Libraries"
   ]
  },
  {
   "cell_type": "code",
   "execution_count": 0,
   "metadata": {
    "application/vnd.databricks.v1+cell": {
     "cellMetadata": {},
     "inputWidgets": {},
     "nuid": "2901fbc9-49db-4285-8b94-c460f34d4c4f",
     "showTitle": false,
     "tableResultSettingsMap": {},
     "title": ""
    }
   },
   "outputs": [],
   "source": [
    "from pyspark.sql.functions import *\n",
    "from pyspark.sql.types import *\n",
    "from pyspark.sql.window import Window"
   ]
  },
  {
   "cell_type": "markdown",
   "metadata": {
    "application/vnd.databricks.v1+cell": {
     "cellMetadata": {},
     "inputWidgets": {},
     "nuid": "655120e7-6b25-417c-a08a-c6925feaa425",
     "showTitle": false,
     "tableResultSettingsMap": {},
     "title": ""
    }
   },
   "source": [
    "**3384. Team Dominance by Pass Success (Hard)**\n",
    "\n",
    "**Table: Teams**\n",
    "\n",
    "| Column Name | Type    |\n",
    "|-------------|---------|\n",
    "| player_id   | int     |\n",
    "| team_name   | varchar | \n",
    "\n",
    "player_id is the unique key for this table.\n",
    "Each row contains the unique identifier for player and the name of one of the teams participating in that match.\n",
    "\n",
    "**Table: Passes**\n",
    "\n",
    "| Column Name | Type    |\n",
    "|-------------|---------|\n",
    "| pass_from   | int     |\n",
    "| time_stamp  | varchar |\n",
    "| pass_to     | int     |\n",
    "\n",
    "(pass_from, time_stamp) is the primary key for this table.\n",
    "pass_from is a foreign key to player_id from Teams table.\n",
    "\n",
    "Each row represents a pass made during a match, time_stamp represents the time in minutes (00:00-90:00) when the pass was made,\n",
    "pass_to is the player_id of the player receiving the pass.\n",
    "\n",
    "**Write a solution to calculate the dominance score for each team in both halves of the match. The rules are as follows:**\n",
    "\n",
    "- A match is divided into two halves: first half (00:00-45:00 minutes) and second half (45:01-90:00 minutes)\n",
    "- The dominance score is calculated based on successful and intercepted passes:\n",
    "  - When pass_to is a player from the same team: +1 point\n",
    "  - When pass_to is a player from the opposing team (interception): -1 point\n",
    "- A higher dominance score indicates better passing performance\n",
    "\n",
    "Return the result table ordered by team_name and half_number in ascending order.\n",
    "\n",
    "The result format is in the following example.\n",
    "\n",
    "**Example:**\n",
    "\n",
    "**Input:**\n",
    "\n",
    "**Teams table:**\n",
    "\n",
    "| player_id  | team_name |\n",
    "|------------|-----------|\n",
    "| 1          | Arsenal   |\n",
    "| 2          | Arsenal   |\n",
    "| 3          | Arsenal   |\n",
    "| 4          | Chelsea   |\n",
    "| 5          | Chelsea   |\n",
    "| 6          | Chelsea   |\n",
    "\n",
    "**Passes table:**\n",
    "\n",
    "| pass_from | time_stamp | pass_to |\n",
    "|-----------|------------|---------|\n",
    "| 1         | 00:15      | 2       |\n",
    "| 2         | 00:45      | 3       |\n",
    "| 3         | 01:15      | 1       |\n",
    "| 4         | 00:30      | 1       |\n",
    "| 2         | 46:00      | 3       |\n",
    "| 3         | 46:15      | 4       |\n",
    "| 1         | 46:45      | 2       |\n",
    "| 5         | 46:30      | 6       |\n",
    "\n",
    "**Output:**\n",
    "\n",
    "| team_name | half_number | dominance |\n",
    "|-----------|-------------|-----------|\n",
    "| Arsenal   | 1           | 3         |\n",
    "| Arsenal   | 2           | 1         |\n",
    "| Chelsea   | 1           | -1        |\n",
    "| Chelsea   | 2           | 1         |\n",
    "\n",
    "**Explanation:**\n",
    "\n",
    "- **First Half (00:00-45:00):**\n",
    "  - Arsenal's passes:\n",
    "    - 1 → 2 (00:15): Successful pass (+1)\n",
    "    - 2 → 3 (00:45): Successful pass (+1)\n",
    "    - 3 → 1 (01:15): Successful pass (+1)\n",
    "  - Chelsea's passes:\n",
    "    - 4 → 1 (00:30): Intercepted by Arsenal (-1)\n",
    "\n",
    "- **Second Half (45:01-90:00):**\n",
    "  - Arsenal's passes:\n",
    "    - 2 → 3 (46:00): Successful pass (+1)\n",
    "    - 3 → 4 (46:15): Intercepted by Chelsea (-1)\n",
    "    - 1 → 2 (46:45): Successful pass (+1)\n",
    "  - Chelsea's passes:\n",
    "    - 5 → 6 (46:30): Successful pass (+1)\n",
    "\n",
    "The results are ordered by team_name and then half_number\n"
   ]
  },
  {
   "cell_type": "code",
   "execution_count": 0,
   "metadata": {
    "application/vnd.databricks.v1+cell": {
     "cellMetadata": {},
     "inputWidgets": {},
     "nuid": "a2368434-0191-416c-aa1d-12cd44cf48e6",
     "showTitle": false,
     "tableResultSettingsMap": {},
     "title": ""
    }
   },
   "outputs": [],
   "source": [
    "teams_data_3384 = [\n",
    "    (1, \"Arsenal\"),\n",
    "    (2, \"Arsenal\"),\n",
    "    (3, \"Arsenal\"),\n",
    "    (4, \"Chelsea\"),\n",
    "    (5, \"Chelsea\"),\n",
    "    (6, \"Chelsea\")\n",
    "]\n",
    "\n",
    "teams_columns_3384 = [\"player_id\", \"team_name\"]\n",
    "teams_df_3384 = spark.createDataFrame(teams_data_3384, teams_columns_3384)\n",
    "teams_df_3384.show()\n",
    "\n",
    "passes_data_3384 = [\n",
    "    (1, \"00:15\", 2),  \n",
    "    (2, \"00:45\", 3),  \n",
    "    (3, \"01:15\", 1),  \n",
    "    (4, \"00:30\", 1),  \n",
    "    (2, \"46:00\", 3),  \n",
    "    (3, \"46:15\", 4),  \n",
    "    (1, \"46:45\", 2),  \n",
    "    (5, \"46:30\", 6)   \n",
    "]\n",
    "\n",
    "passes_columns_3384 = [\"pass_from\", \"time_stamp\", \"pass_to\"]\n",
    "passes_df_3384 = spark.createDataFrame(passes_data_3384, passes_columns_3384)\n",
    "passes_df_3384.show()"
   ]
  }
 ],
 "metadata": {
  "application/vnd.databricks.v1+notebook": {
   "computePreferences": null,
   "dashboards": [],
   "environmentMetadata": {
    "base_environment": "",
    "environment_version": "1"
   },
   "inputWidgetPreferences": null,
   "language": "python",
   "notebookMetadata": {
    "pythonIndentUnit": 4
   },
   "notebookName": "3384. Team Dominance by Pass Success (Hard)",
   "widgets": {}
  },
  "language_info": {
   "name": "python"
  }
 },
 "nbformat": 4,
 "nbformat_minor": 0
}
