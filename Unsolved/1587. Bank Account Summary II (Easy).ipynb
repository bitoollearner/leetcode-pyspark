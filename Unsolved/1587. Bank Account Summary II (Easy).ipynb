{
 "cells": [
  {
   "cell_type": "markdown",
   "metadata": {
    "application/vnd.databricks.v1+cell": {
     "cellMetadata": {},
     "inputWidgets": {},
     "nuid": "44cd2565-3e27-417c-8c6c-7b2d8f1b94c5",
     "showTitle": false,
     "tableResultSettingsMap": {},
     "title": ""
    }
   },
   "source": [
    "## Importing Libraries"
   ]
  },
  {
   "cell_type": "code",
   "execution_count": 0,
   "metadata": {
    "application/vnd.databricks.v1+cell": {
     "cellMetadata": {},
     "inputWidgets": {},
     "nuid": "e6da106f-4e0b-41e0-9f75-6e329535d5c0",
     "showTitle": false,
     "tableResultSettingsMap": {},
     "title": ""
    }
   },
   "outputs": [],
   "source": [
    "from pyspark.sql.functions import *\n",
    "from pyspark.sql.types import *\n",
    "from pyspark.sql.window import Window"
   ]
  },
  {
   "cell_type": "markdown",
   "metadata": {
    "application/vnd.databricks.v1+cell": {
     "cellMetadata": {},
     "inputWidgets": {},
     "nuid": "f0267197-68d5-4180-8492-6999c905acb1",
     "showTitle": false,
     "tableResultSettingsMap": {},
     "title": ""
    }
   },
   "source": [
    "**1587. Bank Account Summary II (Easy)**\n",
    "\n",
    "**Table: Users**\n",
    "\n",
    "| Column Name  | Type    |\n",
    "|--------------|---------|\n",
    "| account      | int     |\n",
    "| name         | varchar |\n",
    "\n",
    "account is the primary key (column with unique values) for this table.\n",
    "Each row of this table contains the account number of each user in the bank.\n",
    "There will be no two users having the same name in the table.\n",
    " \n",
    "\n",
    "**Table: Transactions**\n",
    "\n",
    "| Column Name   | Type    |\n",
    "|---------------|---------|\n",
    "| trans_id      | int     |\n",
    "| account       | int     |\n",
    "| amount        | int     |\n",
    "| transacted_on | date    |\n",
    "\n",
    "trans_id is the primary key (column with unique values) for this table.\n",
    "Each row of this table contains all changes made to all accounts.\n",
    "amount is positive if the user received money and negative if they transferred money.\n",
    "All accounts start with a balance of 0.\n",
    " \n",
    "**Write a solution to report the name and balance of users with a balance higher than 10000. The balance of an account is equal to the sum of the amounts of all transactions involving that account.**\n",
    "\n",
    "Return the result table in any order.\n",
    "\n",
    "The result format is in the following example.\n",
    "\n",
    "**Example 1:**\n",
    "\n",
    "**Input:**\n",
    "**Users table:**\n",
    "\n",
    "| account    | name         |\n",
    "|------------|--------------|\n",
    "| 900001     | Alice        |\n",
    "| 900002     | Bob          |\n",
    "| 900003     | Charlie      |\n",
    "\n",
    "**Transactions table:**\n",
    "| trans_id   | account    | amount     | transacted_on |\n",
    "|------------|------------|------------|---------------|\n",
    "| 1          | 900001     | 7000       |  2020-08-01   |\n",
    "| 2          | 900001     | 7000       |  2020-09-01   |\n",
    "| 3          | 900001     | -3000      |  2020-09-02   |\n",
    "| 4          | 900002     | 1000       |  2020-09-12   |\n",
    "| 5          | 900003     | 6000       |  2020-08-07   |\n",
    "| 6          | 900003     | 6000       |  2020-09-07   |\n",
    "| 7          | 900003     | -4000      |  2020-09-11   |\n",
    "\n",
    "**Output:**\n",
    "\n",
    "| name       | balance    |\n",
    "|------------|------------|\n",
    "| Alice      | 11000      |\n",
    "\n",
    "**Explanation:**\n",
    "- Alice's balance is (7000 + 7000 - 3000) = 11000.\n",
    "- Bob's balance is 1000.\n",
    "- Charlie's balance is (6000 + 6000 - 4000) = 8000."
   ]
  },
  {
   "cell_type": "code",
   "execution_count": 0,
   "metadata": {
    "application/vnd.databricks.v1+cell": {
     "cellMetadata": {},
     "inputWidgets": {},
     "nuid": "e98c62a4-8cd4-48d6-9337-86cf54c19ddd",
     "showTitle": false,
     "tableResultSettingsMap": {},
     "title": ""
    }
   },
   "outputs": [],
   "source": [
    "users_data_1587 = [\n",
    "    (900001, \"Alice\"),\n",
    "    (900002, \"Bob\"),\n",
    "    (900003, \"Charlie\")\n",
    "]\n",
    "users_columns_1587 = [\"account\", \"name\"]\n",
    "users_df_1587 = spark.createDataFrame(users_data_1587, users_columns_1587)\n",
    "users_df_1587.show()\n",
    "\n",
    "transactions_data_1587 = [\n",
    "    (1, 900001, 7000, \"2020-08-01\"),\n",
    "    (2, 900001, 7000, \"2020-09-01\"),\n",
    "    (3, 900001, -3000, \"2020-09-02\"),\n",
    "    (4, 900002, 1000, \"2020-09-12\"),\n",
    "    (5, 900003, 6000, \"2020-08-07\"),\n",
    "    (6, 900003, 6000, \"2020-09-07\"),\n",
    "    (7, 900003, -4000, \"2020-09-11\")\n",
    "]\n",
    "\n",
    "transactions_columns_1587 = [\"trans_id\", \"account\", \"amount\", \"transacted_on\"]\n",
    "transactions_df_1587 = spark.createDataFrame(transactions_data_1587, transactions_columns_1587)\n",
    "transactions_df_1587.show()"
   ]
  }
 ],
 "metadata": {
  "application/vnd.databricks.v1+notebook": {
   "computePreferences": null,
   "dashboards": [],
   "environmentMetadata": {
    "base_environment": "",
    "environment_version": "1"
   },
   "inputWidgetPreferences": null,
   "language": "python",
   "notebookMetadata": {
    "pythonIndentUnit": 4
   },
   "notebookName": "1587. Bank Account Summary II (Easy)",
   "widgets": {}
  },
  "language_info": {
   "name": "python"
  }
 },
 "nbformat": 4,
 "nbformat_minor": 0
}
