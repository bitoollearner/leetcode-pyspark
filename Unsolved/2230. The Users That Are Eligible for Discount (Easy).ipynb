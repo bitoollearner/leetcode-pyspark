{
 "cells": [
  {
   "cell_type": "markdown",
   "metadata": {
    "application/vnd.databricks.v1+cell": {
     "cellMetadata": {},
     "inputWidgets": {},
     "nuid": "a23f6d56-6d8d-44bc-b796-cedda9e17c21",
     "showTitle": false,
     "tableResultSettingsMap": {},
     "title": ""
    }
   },
   "source": [
    "## Importing Libraries"
   ]
  },
  {
   "cell_type": "code",
   "execution_count": 0,
   "metadata": {
    "application/vnd.databricks.v1+cell": {
     "cellMetadata": {},
     "inputWidgets": {},
     "nuid": "0a69d78b-43d7-4f9e-a05d-026985c2539f",
     "showTitle": false,
     "tableResultSettingsMap": {},
     "title": ""
    }
   },
   "outputs": [],
   "source": [
    "from pyspark.sql.functions import *\n",
    "from pyspark.sql.types import *\n",
    "from pyspark.sql.window import Window"
   ]
  },
  {
   "cell_type": "markdown",
   "metadata": {
    "application/vnd.databricks.v1+cell": {
     "cellMetadata": {},
     "inputWidgets": {},
     "nuid": "2a54b88b-06bd-43e4-978a-c0c5d33ca5bb",
     "showTitle": false,
     "tableResultSettingsMap": {},
     "title": ""
    }
   },
   "source": [
    "**2230. The Users That Are Eligible for Discount (Easy)**\n",
    "\n",
    "**Table: Purchases**\n",
    "\n",
    "| Column Name | Type     |\n",
    "|-------------|----------|\n",
    "| user_id     | int      |\n",
    "| time_stamp  | datetime |\n",
    "| amount      | int      |\n",
    "\n",
    "(user_id, time_stamp) is the primary key (combination of columns with unique values) for this table.\n",
    "Each row contains information about the purchase time and the amount paid for the user with ID user_id.\n",
    " \n",
    "A user is eligible for a discount if they had a purchase in the inclusive interval of time [startDate, endDate] with at least minAmount amount. To convert the dates to times, both dates should be considered as the start of the day (i.e., endDate = 2022-03-05 should be considered as the time 2022-03-05 00:00:00).\n",
    "\n",
    "**Write a solution to report the IDs of the users that are eligible for a discount.**\n",
    "\n",
    "Return the result table ordered by user_id.\n",
    "\n",
    "The result format is in the following example.\n",
    "\n",
    "**Example 1:**\n",
    "\n",
    "**Input:**\n",
    "\n",
    "**Purchases table:**\n",
    "\n",
    "| user_id | time_stamp          | amount |\n",
    "|---------|---------------------|--------|\n",
    "| 1       | 2022-04-20 09:03:00 | 4416   |\n",
    "| 2       | 2022-03-19 19:24:02 | 678    |\n",
    "| 3       | 2022-03-18 12:03:09 | 4523   |\n",
    "| 3       | 2022-03-30 09:43:42 | 626    |\n",
    "\n",
    "startDate = 2022-03-08, endDate = 2022-03-20, minAmount = 1000\n",
    "\n",
    "**Output:**\n",
    "| user_id |\n",
    "|---------|\n",
    "| 3       |\n",
    "\n",
    "**Explanation:**\n",
    "\n",
    "- Out of the three users, only User 3 is eligible for a discount.\n",
    "  - User 1 had one purchase with at least minAmount amount, but not within the time interval.\n",
    "  - User 2 had one purchase within the time interval, but with less than minAmount amount.\n",
    "  - User 3 is the only user who had a purchase that satisfies both conditions."
   ]
  },
  {
   "cell_type": "code",
   "execution_count": 0,
   "metadata": {
    "application/vnd.databricks.v1+cell": {
     "cellMetadata": {},
     "inputWidgets": {},
     "nuid": "c260f510-542b-4067-a6f4-ffed86995056",
     "showTitle": false,
     "tableResultSettingsMap": {},
     "title": ""
    }
   },
   "outputs": [],
   "source": [
    "purchases_data_2230 = [\n",
    "    (1, \"2022-04-20 09:03:00\", 4416),\n",
    "    (2, \"2022-03-19 19:24:02\", 678),\n",
    "    (3, \"2022-03-18 12:03:09\", 4523),\n",
    "    (3, \"2022-03-30 09:43:42\", 626),\n",
    "]\n",
    "\n",
    "purchases_columns_2230 = [\"user_id\", \"time_stamp\", \"amount\"]\n",
    "purchases_df_2230 = spark.createDataFrame(purchases_data_2230, purchases_columns_2230)\n",
    "purchases_df_2230.show()"
   ]
  }
 ],
 "metadata": {
  "application/vnd.databricks.v1+notebook": {
   "computePreferences": null,
   "dashboards": [],
   "environmentMetadata": {
    "base_environment": "",
    "environment_version": "1"
   },
   "inputWidgetPreferences": null,
   "language": "python",
   "notebookMetadata": {
    "pythonIndentUnit": 4
   },
   "notebookName": "2230. The Users That Are Eligible for Discount (Easy)",
   "widgets": {}
  },
  "language_info": {
   "name": "python"
  }
 },
 "nbformat": 4,
 "nbformat_minor": 0
}
