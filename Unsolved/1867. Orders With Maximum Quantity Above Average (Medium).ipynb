{
 "cells": [
  {
   "cell_type": "markdown",
   "metadata": {
    "application/vnd.databricks.v1+cell": {
     "cellMetadata": {},
     "inputWidgets": {},
     "nuid": "fadf709d-de3d-4bfc-b69f-3b489de68bef",
     "showTitle": false,
     "tableResultSettingsMap": {},
     "title": ""
    }
   },
   "source": [
    "## Importing Libraries"
   ]
  },
  {
   "cell_type": "code",
   "execution_count": 0,
   "metadata": {
    "application/vnd.databricks.v1+cell": {
     "cellMetadata": {},
     "inputWidgets": {},
     "nuid": "d4a1fef1-aa99-469c-b35f-9b3f3e81c9f7",
     "showTitle": false,
     "tableResultSettingsMap": {},
     "title": ""
    }
   },
   "outputs": [],
   "source": [
    "from pyspark.sql.functions import *\n",
    "from pyspark.sql.types import *\n",
    "from pyspark.sql.window import Window"
   ]
  },
  {
   "cell_type": "markdown",
   "metadata": {
    "application/vnd.databricks.v1+cell": {
     "cellMetadata": {},
     "inputWidgets": {},
     "nuid": "78daa073-80d8-4f7e-9cfa-10f6eb568909",
     "showTitle": false,
     "tableResultSettingsMap": {},
     "title": ""
    }
   },
   "source": [
    "**1867. Orders With Maximum Quantity Above Average (Medium)**\n",
    "\n",
    "**Table: OrdersDetails**\n",
    "\n",
    "| Column Name | Type |\n",
    "|-------------|------|\n",
    "| order_id    | int  |\n",
    "| product_id  | int  |\n",
    "| quantity    | int  |\n",
    "\n",
    "(order_id, product_id) is the primary key (combination of columns with unique values) for this table.\n",
    "A single order is represented as multiple rows, one row for each product in the order.\n",
    "Each row of this table contains the quantity ordered of the product product_id in the order order_id.\n",
    " \n",
    "You are running an e-commerce site that is looking for imbalanced orders. An imbalanced order is one whose maximum quantity is strictly greater than the average quantity of every order (including itself).\n",
    "\n",
    "The average quantity of an order is calculated as (total quantity of all products in the order) / (number of different products in the order). The maximum quantity of an order is the highest quantity of any single product in the order.\n",
    "\n",
    "**Write a solution to find the order_id of all imbalanced orders.**\n",
    "\n",
    "Return the result table in any order.\n",
    "\n",
    "The result format is in the following example.\n",
    "\n",
    "**Example 1:**\n",
    "\n",
    "**Input:** \n",
    "\n",
    "**OrdersDetails table:**\n",
    "\n",
    "| order_id | product_id | quantity |\n",
    "|----------|------------|----------|\n",
    "| 1        | 1          | 12       |\n",
    "| 1        | 2          | 10       |\n",
    "| 1        | 3          | 15       |\n",
    "| 2        | 1          | 8        |\n",
    "| 2        | 4          | 4        |\n",
    "| 2        | 5          | 6        |\n",
    "| 3        | 3          | 5        |\n",
    "| 3        | 4          | 18       |\n",
    "| 4        | 5          | 2        |\n",
    "| 4        | 6          | 8        |\n",
    "| 5        | 7          | 9        |\n",
    "| 5        | 8          | 9        |\n",
    "| 3        | 9          | 20       |\n",
    "| 2        | 9          | 4        |\n",
    "\n",
    "**Output:** \n",
    "| order_id |\n",
    "|----------|\n",
    "| 1        |\n",
    "| 3        |\n",
    "\n",
    "**Explanation:** \n",
    "\n",
    "The average quantity of each order is:\n",
    "- order_id=1: (12+10+15)/3 = 12.3333333\n",
    "- order_id=2: (8+4+6+4)/4 = 5.5\n",
    "- order_id=3: (5+18+20)/3 = 14.333333\n",
    "- order_id=4: (2+8)/2 = 5\n",
    "- order_id=5: (9+9)/2 = 9\n",
    "\n",
    "The maximum quantity of each order is:\n",
    "- order_id=1: max(12, 10, 15) = 15\n",
    "- order_id=2: max(8, 4, 6, 4) = 8\n",
    "- order_id=3: max(5, 18, 20) = 20\n",
    "- order_id=4: max(2, 8) = 8\n",
    "- order_id=5: max(9, 9) = 9\n",
    "\n",
    "Orders 1 and 3 are imbalanced because they have a maximum quantity that exceeds the average quantity of every order."
   ]
  },
  {
   "cell_type": "code",
   "execution_count": 0,
   "metadata": {
    "application/vnd.databricks.v1+cell": {
     "cellMetadata": {},
     "inputWidgets": {},
     "nuid": "7b78bc27-26cd-4523-8646-7369baf68fcb",
     "showTitle": false,
     "tableResultSettingsMap": {},
     "title": ""
    }
   },
   "outputs": [],
   "source": [
    "orders_data_1867 = [\n",
    "    (1, 1, 12),\n",
    "    (1, 2, 10),\n",
    "    (1, 3, 15),\n",
    "    (2, 1, 8),\n",
    "    (2, 4, 4),\n",
    "    (2, 5, 6),\n",
    "    (3, 3, 5),\n",
    "    (3, 4, 18),\n",
    "    (4, 5, 2),\n",
    "    (4, 6, 8),\n",
    "    (5, 7, 9),\n",
    "    (5, 8, 9),\n",
    "    (3, 9, 20),\n",
    "    (2, 9, 4),\n",
    "]\n",
    "\n",
    "orders_columns_1867 = [\"order_id\", \"product_id\", \"quantity\"]\n",
    "orders_df_1867 = spark.createDataFrame(orders_data_1867, orders_columns_1867)\n",
    "orders_df_1867.show()\n"
   ]
  }
 ],
 "metadata": {
  "application/vnd.databricks.v1+notebook": {
   "computePreferences": null,
   "dashboards": [],
   "environmentMetadata": {
    "base_environment": "",
    "environment_version": "1"
   },
   "inputWidgetPreferences": null,
   "language": "python",
   "notebookMetadata": {
    "pythonIndentUnit": 4
   },
   "notebookName": "1867. Orders With Maximum Quantity Above Average (Medium)",
   "widgets": {}
  },
  "language_info": {
   "name": "python"
  }
 },
 "nbformat": 4,
 "nbformat_minor": 0
}
