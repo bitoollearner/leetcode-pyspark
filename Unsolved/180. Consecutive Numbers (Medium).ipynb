{
 "cells": [
  {
   "cell_type": "markdown",
   "metadata": {
    "application/vnd.databricks.v1+cell": {
     "cellMetadata": {},
     "inputWidgets": {},
     "nuid": "2c9baaef-93d5-4122-a5c9-f192313cef89",
     "showTitle": false,
     "tableResultSettingsMap": {},
     "title": ""
    }
   },
   "source": [
    "## Importing Libraries"
   ]
  },
  {
   "cell_type": "code",
   "execution_count": 0,
   "metadata": {
    "application/vnd.databricks.v1+cell": {
     "cellMetadata": {},
     "inputWidgets": {},
     "nuid": "0604c27b-9256-4407-bcb5-0c587bdc6293",
     "showTitle": false,
     "tableResultSettingsMap": {},
     "title": ""
    }
   },
   "outputs": [],
   "source": [
    "from pyspark.sql.functions import *\n",
    "from pyspark.sql.types import *\n",
    "from pyspark.sql.window import Window"
   ]
  },
  {
   "cell_type": "markdown",
   "metadata": {
    "application/vnd.databricks.v1+cell": {
     "cellMetadata": {},
     "inputWidgets": {},
     "nuid": "90cf18cc-bf86-44b1-a7a4-76764e5f51f8",
     "showTitle": false,
     "tableResultSettingsMap": {},
     "title": ""
    }
   },
   "source": [
    "**180. Consecutive Numbers (Medium)**\n",
    "\n",
    "**Table: Logs**\n",
    "\n",
    "| Column Name | Type    |\n",
    "|-------------|---------|\n",
    "| id          | int     |\n",
    "| num         | varchar |\n",
    "\n",
    "In SQL, id is the primary key for this table.\n",
    "id is an autoincrement column starting from 1.\n",
    " \n",
    "**Find all numbers that appear at least three times consecutively.**\n",
    "\n",
    "Return the result table in any order.\n",
    "\n",
    "The result format is in the following example.\n",
    "\n",
    "**Example 1:**\n",
    "\n",
    "**Input:**\n",
    "**Logs table:**\n",
    "\n",
    "| id | num |\n",
    "|----|-----|\n",
    "| 1  | 1   |\n",
    "| 2  | 1   |\n",
    "| 3  | 1   |\n",
    "| 4  | 2   |\n",
    "| 5  | 1   |\n",
    "| 6  | 2   |\n",
    "| 7  | 2   |\n",
    "\n",
    "**Output:**\n",
    "| ConsecutiveNums |\n",
    "|-----------------|\n",
    "| 1               |\n",
    "\n",
    "**Explanation:** 1 is the only number that appears consecutively for at least three times."
   ]
  },
  {
   "cell_type": "code",
   "execution_count": 0,
   "metadata": {
    "application/vnd.databricks.v1+cell": {
     "cellMetadata": {},
     "inputWidgets": {},
     "nuid": "74d40b53-9736-425b-8315-5876bab78810",
     "showTitle": false,
     "tableResultSettingsMap": {},
     "title": ""
    }
   },
   "outputs": [],
   "source": [
    "data_180 = [\n",
    "    (1, 1),\n",
    "    (2, 1),\n",
    "    (3, 1),\n",
    "    (4, 2),\n",
    "    (5, 1),\n",
    "    (6, 2),\n",
    "    (7, 2)\n",
    "]\n",
    "\n",
    "schema_180 = [\"id\", \"num\"]\n",
    "\n",
    "df_180 = spark.createDataFrame(data_180, schema=schema_180)\n",
    "df_180.show()"
   ]
  }
 ],
 "metadata": {
  "application/vnd.databricks.v1+notebook": {
   "computePreferences": null,
   "dashboards": [],
   "environmentMetadata": {
    "base_environment": "",
    "client": "1"
   },
   "language": "python",
   "notebookMetadata": {
    "pythonIndentUnit": 4
   },
   "notebookName": "180. Consecutive Numbers (Medium)",
   "widgets": {}
  }
 },
 "nbformat": 4,
 "nbformat_minor": 0
}
