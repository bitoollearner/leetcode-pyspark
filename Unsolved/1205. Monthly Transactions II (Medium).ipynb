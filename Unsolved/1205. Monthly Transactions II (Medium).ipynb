{
 "cells": [
  {
   "cell_type": "markdown",
   "metadata": {
    "application/vnd.databricks.v1+cell": {
     "cellMetadata": {},
     "inputWidgets": {},
     "nuid": "82383caa-9b15-409a-9acb-968b851c477b",
     "showTitle": false,
     "tableResultSettingsMap": {},
     "title": ""
    }
   },
   "source": [
    "## Importing Libraries"
   ]
  },
  {
   "cell_type": "code",
   "execution_count": 0,
   "metadata": {
    "application/vnd.databricks.v1+cell": {
     "cellMetadata": {},
     "inputWidgets": {},
     "nuid": "83322872-9913-4063-98cf-4aaea5fd3337",
     "showTitle": false,
     "tableResultSettingsMap": {},
     "title": ""
    }
   },
   "outputs": [],
   "source": [
    "from pyspark.sql.functions import *\n",
    "from pyspark.sql.types import *\n",
    "from pyspark.sql.window import Window"
   ]
  },
  {
   "cell_type": "markdown",
   "metadata": {
    "application/vnd.databricks.v1+cell": {
     "cellMetadata": {},
     "inputWidgets": {},
     "nuid": "e475f002-2b95-4d27-958c-aeab86c066ed",
     "showTitle": false,
     "tableResultSettingsMap": {},
     "title": ""
    }
   },
   "source": [
    "**1205. Monthly Transactions II (Medium)**\n",
    "\n",
    "**Table: Transactions**\n",
    "\n",
    "| Column Name    | Type    |\n",
    "|----------------|---------|\n",
    "| id             | int     |\n",
    "| country        | varchar |\n",
    "| state          | enum    |\n",
    "| amount         | int     |\n",
    "| trans_date     | date    |\n",
    "\n",
    "id is the column of unique values of this table.\n",
    "The table has information about incoming transactions.\n",
    "The state column is an ENUM (category) of type [\"approved\", \"declined\"].\n",
    "\n",
    "**Table: Chargebacks**\n",
    "\n",
    "| Column Name    | Type    |\n",
    "|----------------|---------|\n",
    "| trans_id       | int     |\n",
    "| trans_date     | date    |\n",
    "\n",
    "Chargebacks contains basic information regarding incoming chargebacks from some transactions placed in Transactions table.\n",
    "trans_id is a foreign key (reference column) to the id column of Transactions table.\n",
    "Each chargeback corresponds to a transaction made previously even if they were not approved.\n",
    " \n",
    "**Write a solution to find for each month and country: the number of approved transactions and their total amount, the number of chargebacks, and their total amount.**\n",
    "\n",
    "Note: In your solution, given the month and country, ignore rows with all zeros.\n",
    "\n",
    "Return the result table in any order.\n",
    "\n",
    "The result format is in the following example.\n",
    "\n",
    "**Example 1:**\n",
    "\n",
    "**Input:** \n",
    "\n",
    "**Transactions table:**\n",
    "\n",
    "| id  | country | state    | amount | trans_date |\n",
    "|-----|---------|----------|--------|------------|\n",
    "| 101 | US      | approved | 1000   | 2019-05-18 |\n",
    "| 102 | US      | declined | 2000   | 2019-05-19 |\n",
    "| 103 | US      | approved | 3000   | 2019-06-10 |\n",
    "| 104 | US      | declined | 4000   | 2019-06-13 |\n",
    "| 105 | US      | approved | 5000   | 2019-06-15 |\n",
    "\n",
    "**Chargebacks table:**\n",
    "| trans_id | trans_date |\n",
    "|----------|------------|\n",
    "| 102      | 2019-05-29 |\n",
    "| 101      | 2019-06-30 |\n",
    "| 105      | 2019-09-18 |\n",
    "\n",
    "**Output:** \n",
    "| month   | country | approved_count | approved_amount | chargeback_count | chargeback_amount |\n",
    "|---------|---------|----------------|-----------------|------------------|-------------------|\n",
    "| 2019-05 | US      | 1              | 1000            | 1                | 2000              |\n",
    "| 2019-06 | US      | 2              | 8000            | 1                | 1000              |\n",
    "| 2019-09 | US      | 0              | 0               | 1                | 5000              |\n"
   ]
  },
  {
   "cell_type": "code",
   "execution_count": 0,
   "metadata": {
    "application/vnd.databricks.v1+cell": {
     "cellMetadata": {},
     "inputWidgets": {},
     "nuid": "a073d765-b3a4-4bda-a02f-ac5e3671a222",
     "showTitle": false,
     "tableResultSettingsMap": {},
     "title": ""
    }
   },
   "outputs": [],
   "source": [
    "transactions_data_1205 = [\n",
    "    (101, \"US\", \"approved\", 1000, \"2019-05-18\"),\n",
    "    (102, \"US\", \"declined\", 2000, \"2019-05-19\"),\n",
    "    (103, \"US\", \"approved\", 3000, \"2019-06-10\"),\n",
    "    (104, \"US\", \"declined\", 4000, \"2019-06-13\"),\n",
    "    (105, \"US\", \"approved\", 5000, \"2019-06-15\"),\n",
    "]\n",
    "\n",
    "transactions_columns_1205 = [\"id\", \"country\", \"state\", \"amount\", \"trans_date\"]\n",
    "transactions_df_1205 = spark.createDataFrame(transactions_data_1205, transactions_columns_1205)\n",
    "transactions_df_1205.show()\n",
    "\n",
    "chargebacks_data_1205 = [\n",
    "    (102, \"2019-05-29\"),\n",
    "    (101, \"2019-06-30\"),\n",
    "    (105, \"2019-09-18\"),\n",
    "]\n",
    "\n",
    "chargebacks_columns_1205 = [\"trans_id\", \"trans_date\"]\n",
    "chargebacks_df_1205 = spark.createDataFrame(chargebacks_data_1205, chargebacks_columns_1205)\n",
    "chargebacks_df_1205.show()"
   ]
  }
 ],
 "metadata": {
  "application/vnd.databricks.v1+notebook": {
   "computePreferences": null,
   "dashboards": [],
   "environmentMetadata": {
    "base_environment": "",
    "environment_version": "1"
   },
   "inputWidgetPreferences": null,
   "language": "python",
   "notebookMetadata": {
    "pythonIndentUnit": 4
   },
   "notebookName": "1205. Monthly Transactions II (Medium)",
   "widgets": {}
  },
  "language_info": {
   "name": "python"
  }
 },
 "nbformat": 4,
 "nbformat_minor": 0
}
