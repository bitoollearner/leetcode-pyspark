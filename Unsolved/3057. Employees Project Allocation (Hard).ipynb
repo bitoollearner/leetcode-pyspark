{
 "cells": [
  {
   "cell_type": "markdown",
   "metadata": {
    "application/vnd.databricks.v1+cell": {
     "cellMetadata": {},
     "inputWidgets": {},
     "nuid": "7d1791bd-9552-4116-90b2-daa678bbffb8",
     "showTitle": false,
     "tableResultSettingsMap": {},
     "title": ""
    }
   },
   "source": [
    "## Importing Libraries"
   ]
  },
  {
   "cell_type": "code",
   "execution_count": 0,
   "metadata": {
    "application/vnd.databricks.v1+cell": {
     "cellMetadata": {},
     "inputWidgets": {},
     "nuid": "2901fbc9-49db-4285-8b94-c460f34d4c4f",
     "showTitle": false,
     "tableResultSettingsMap": {},
     "title": ""
    }
   },
   "outputs": [],
   "source": [
    "from pyspark.sql.functions import *\n",
    "from pyspark.sql.types import *\n",
    "from pyspark.sql.window import Window"
   ]
  },
  {
   "cell_type": "markdown",
   "metadata": {
    "application/vnd.databricks.v1+cell": {
     "cellMetadata": {},
     "inputWidgets": {},
     "nuid": "655120e7-6b25-417c-a08a-c6925feaa425",
     "showTitle": false,
     "tableResultSettingsMap": {},
     "title": ""
    }
   },
   "source": [
    "**3057. Employees Project Allocation (Hard)**\n",
    "\n",
    "**Table: Project**\n",
    "\n",
    "| Column Name | Type    |\n",
    "|-------------|---------|\n",
    "| project_id  | int     |\n",
    "| employee_id | int     |\n",
    "| workload    | int     |\n",
    "\n",
    "employee_id is the primary key (column with unique values) of this table.\n",
    "employee_id is a foreign key (reference column) to Employee table.\n",
    "Each row of this table indicates that the employee with employee_id is working on the project with project_id and the workload of the project.\n",
    "\n",
    "**Table: Employees**\n",
    "\n",
    "| Column Name      | Type    |\n",
    "|------------------|---------|\n",
    "| employee_id      | int     |\n",
    "| name             | varchar |\n",
    "| team             | varchar |\n",
    "\n",
    "employee_id is the primary key (column with unique values) of this table.\n",
    "Each row of this table contains information about one employee.\n",
    "\n",
    "**Write a solution to find the employees who are allocated to projects with a workload that exceeds the average workload of all employees for their respective teams.**\n",
    "\n",
    "Return the result table ordered by employee_id, project_id in ascending order.\n",
    "\n",
    "The result format is in the following example.\n",
    "\n",
    "**Example 1:**\n",
    "\n",
    "**Input:**\n",
    "**Project table:**\n",
    "| project_id  | employee_id | workload |\n",
    "|-------------|-------------|----------|\n",
    "| 1           | 1           |  45      |\n",
    "| 1           | 2           |  90      | \n",
    "| 2           | 3           |  12      |\n",
    "| 2           | 4           |  68      |\n",
    "\n",
    "**Employees table:**\n",
    "| employee_id | name   | team |\n",
    "|-------------|--------|------|\n",
    "| 1           | Khaled | A    |\n",
    "| 2           | Ali    | B    |\n",
    "| 3           | John   | B    |\n",
    "| 4           | Doe    | A    |\n",
    "\n",
    "**Output:**\n",
    "| employee_id | project_id | employee_name | project_workload |\n",
    "|-------------|------------|---------------|------------------|  \n",
    "| 2           | 1          | Ali           | 90               | \n",
    "| 4           | 2          | Doe           | 68               | \n",
    "\n",
    "**Explanation:**\n",
    "- Employee with ID 1 has a project workload of 45 and belongs to Team A, where the average workload is 56.50. Since his project workload does not exceed the team's average workload, he will be excluded.\n",
    "- Employee with ID 2 has a project workload of 90 and belongs to Team B, where the average workload is 51.00. Since his project workload does exceed the team's average workload, he will be included.\n",
    "- Employee with ID 3 has a project workload of 12 and belongs to Team B, where the average workload is 51.00. Since his project workload does not exceed the team's average workload, he will be excluded.\n",
    "- Employee with ID 4 has a project workload of 68 and belongs to Team A, where the average workload is 56.50. Since his project workload does exceed the team's average workload, he will be included.\n",
    "\n",
    "Result table orderd by employee_id, project_id in ascending order."
   ]
  },
  {
   "cell_type": "code",
   "execution_count": 0,
   "metadata": {
    "application/vnd.databricks.v1+cell": {
     "cellMetadata": {},
     "inputWidgets": {},
     "nuid": "a2368434-0191-416c-aa1d-12cd44cf48e6",
     "showTitle": false,
     "tableResultSettingsMap": {},
     "title": ""
    }
   },
   "outputs": [],
   "source": [
    "project_data_3057 = [\n",
    "    (1, 1, 45),\n",
    "    (1, 2, 90),\n",
    "    (2, 3, 12),\n",
    "    (2, 4, 68),\n",
    "]\n",
    "\n",
    "project_columns_3057 = [\"project_id\", \"employee_id\", \"workload\"]\n",
    "project_df_3057 = spark.createDataFrame(project_data_3057, project_columns_3057)\n",
    "project_df_3057.show()\n",
    "\n",
    "employees_data_3057 = [\n",
    "    (1, \"Khaled\", \"A\"),\n",
    "    (2, \"Ali\", \"B\"),\n",
    "    (3, \"John\", \"B\"),\n",
    "    (4, \"Doe\", \"A\"),\n",
    "]\n",
    "\n",
    "employees_columns_3057 = [\"employee_id\", \"name\", \"team\"]\n",
    "employees_df_3057 = spark.createDataFrame(employees_data_3057, employees_columns_3057)\n",
    "employees_df_3057.show()"
   ]
  }
 ],
 "metadata": {
  "application/vnd.databricks.v1+notebook": {
   "computePreferences": null,
   "dashboards": [],
   "environmentMetadata": {
    "base_environment": "",
    "environment_version": "1"
   },
   "inputWidgetPreferences": null,
   "language": "python",
   "notebookMetadata": {
    "pythonIndentUnit": 4
   },
   "notebookName": "3057. Employees Project Allocation (Hard)",
   "widgets": {}
  },
  "language_info": {
   "name": "python"
  }
 },
 "nbformat": 4,
 "nbformat_minor": 0
}
