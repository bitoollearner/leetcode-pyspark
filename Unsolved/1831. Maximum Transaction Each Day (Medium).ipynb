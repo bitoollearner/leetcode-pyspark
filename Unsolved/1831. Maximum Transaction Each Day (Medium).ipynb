{
 "cells": [
  {
   "cell_type": "markdown",
   "metadata": {
    "application/vnd.databricks.v1+cell": {
     "cellMetadata": {},
     "inputWidgets": {},
     "nuid": "fadf709d-de3d-4bfc-b69f-3b489de68bef",
     "showTitle": false,
     "tableResultSettingsMap": {},
     "title": ""
    }
   },
   "source": [
    "## Importing Libraries"
   ]
  },
  {
   "cell_type": "code",
   "execution_count": 0,
   "metadata": {
    "application/vnd.databricks.v1+cell": {
     "cellMetadata": {},
     "inputWidgets": {},
     "nuid": "d4a1fef1-aa99-469c-b35f-9b3f3e81c9f7",
     "showTitle": false,
     "tableResultSettingsMap": {},
     "title": ""
    }
   },
   "outputs": [],
   "source": [
    "from pyspark.sql.functions import *\n",
    "from pyspark.sql.types import *\n",
    "from pyspark.sql.window import Window"
   ]
  },
  {
   "cell_type": "markdown",
   "metadata": {
    "application/vnd.databricks.v1+cell": {
     "cellMetadata": {},
     "inputWidgets": {},
     "nuid": "78daa073-80d8-4f7e-9cfa-10f6eb568909",
     "showTitle": false,
     "tableResultSettingsMap": {},
     "title": ""
    }
   },
   "source": [
    "**1831. Maximum Transaction Each Day (Medium)**\n",
    "\n",
    "**Table: Transactions**\n",
    "\n",
    "| Column Name    | Type     |\n",
    "|----------------|----------|\n",
    "| transaction_id | int      |\n",
    "| day            | datetime |\n",
    "| amount         | int      |\n",
    "\n",
    "transaction_id is the column with unique values for this table.\n",
    "Each row contains information about one transaction.\n",
    " \n",
    "**Write a solution to report the IDs of the transactions with the maximum amount on their respective day. If in one day there are multiple such transactions, return all of them.**\n",
    "\n",
    "Return the result table ordered by transaction_id in ascending order.\n",
    "\n",
    "The result format is in the following example.\n",
    "\n",
    "**Example 1:**\n",
    "\n",
    "**Input:** \n",
    "\n",
    "**Transactions table:**\n",
    "\n",
    "| transaction_id | day                | amount |\n",
    "|----------------|--------------------|--------|\n",
    "| 8              | 2021-4-3 15:57:28  | 57     |\n",
    "| 9              | 2021-4-28 08:47:25 | 21     |\n",
    "| 1              | 2021-4-29 13:28:30 | 58     |\n",
    "| 5              | 2021-4-28 16:39:59 | 40     |\n",
    "| 6              | 2021-4-29 23:39:28 | 58     |\n",
    "\n",
    "**Output:** \n",
    "| transaction_id |\n",
    "|----------------|\n",
    "| 1              |\n",
    "| 5              |\n",
    "| 6              |\n",
    "| 8              |\n",
    "\n",
    "**Explanation:** \n",
    "- \"2021-4-3\"  --> We have one transaction with ID 8, so we add 8 to the result table.\n",
    "- \"2021-4-28\" --> We have two transactions with IDs 5 and 9. The transaction with ID 5 has an amount of 40, while the transaction with ID 9 has an amount of 21. We only include the transaction with ID 5 as it has the maximum amount this day.\n",
    "- \"2021-4-29\" --> We have two transactions with IDs 1 and 6. Both transactions have the same amount of 58, so we include both in the result table.\n",
    "\n",
    "We order the result table by transaction_id after collecting these IDs."
   ]
  },
  {
   "cell_type": "code",
   "execution_count": 0,
   "metadata": {
    "application/vnd.databricks.v1+cell": {
     "cellMetadata": {},
     "inputWidgets": {},
     "nuid": "7b78bc27-26cd-4523-8646-7369baf68fcb",
     "showTitle": false,
     "tableResultSettingsMap": {},
     "title": ""
    }
   },
   "outputs": [],
   "source": [
    "transactions_data_1831 = [\n",
    "    (8, \"2021-04-03 15:57:28\", 57),\n",
    "    (9, \"2021-04-28 08:47:25\", 21),\n",
    "    (1, \"2021-04-29 13:28:30\", 58),\n",
    "    (5, \"2021-04-28 16:39:59\", 40),\n",
    "    (6, \"2021-04-29 23:39:28\", 58),\n",
    "]\n",
    "\n",
    "transactions_columns_1831 = [\"transaction_id\", \"day\", \"amount\"]\n",
    "transactions_df_1831 = spark.createDataFrame(transactions_data_1831, transactions_columns_1831)\n",
    "transactions_df_1831.show()\n"
   ]
  }
 ],
 "metadata": {
  "application/vnd.databricks.v1+notebook": {
   "computePreferences": null,
   "dashboards": [],
   "environmentMetadata": {
    "base_environment": "",
    "environment_version": "1"
   },
   "inputWidgetPreferences": null,
   "language": "python",
   "notebookMetadata": {
    "pythonIndentUnit": 4
   },
   "notebookName": "1831. Maximum Transaction Each Day (Medium)",
   "widgets": {}
  }
 },
 "nbformat": 4,
 "nbformat_minor": 0
}