{
 "cells": [
  {
   "cell_type": "markdown",
   "metadata": {
    "application/vnd.databricks.v1+cell": {
     "cellMetadata": {},
     "inputWidgets": {},
     "nuid": "7d1791bd-9552-4116-90b2-daa678bbffb8",
     "showTitle": false,
     "tableResultSettingsMap": {},
     "title": ""
    }
   },
   "source": [
    "## Importing Libraries"
   ]
  },
  {
   "cell_type": "code",
   "execution_count": 0,
   "metadata": {
    "application/vnd.databricks.v1+cell": {
     "cellMetadata": {},
     "inputWidgets": {},
     "nuid": "2901fbc9-49db-4285-8b94-c460f34d4c4f",
     "showTitle": false,
     "tableResultSettingsMap": {},
     "title": ""
    }
   },
   "outputs": [],
   "source": [
    "from pyspark.sql.functions import *\n",
    "from pyspark.sql.types import *\n",
    "from pyspark.sql.window import Window"
   ]
  },
  {
   "cell_type": "markdown",
   "metadata": {
    "application/vnd.databricks.v1+cell": {
     "cellMetadata": {},
     "inputWidgets": {},
     "nuid": "655120e7-6b25-417c-a08a-c6925feaa425",
     "showTitle": false,
     "tableResultSettingsMap": {},
     "title": ""
    }
   },
   "source": [
    "**3278. Find Candidates for Data Scientist Position II (Medium)**\n",
    "\n",
    "**Table: Candidates**\n",
    "\n",
    "| Column Name  | Type    | \n",
    "|--------------|---------| \n",
    "| candidate_id | int     | \n",
    "| skill        | varchar |\n",
    "| proficiency  | int     |\n",
    "\n",
    "(candidate_id, skill) is the unique key for this table.\n",
    "Each row includes candidate_id, skill, and proficiency level (1-5).\n",
    "\n",
    "**Table: Projects**\n",
    "\n",
    "| Column Name  | Type    | \n",
    "|--------------|---------| \n",
    "| project_id   | int     | \n",
    "| skill        | varchar |\n",
    "| importance   | int     |\n",
    "\n",
    "(project_id, skill) is the primary key for this table.\n",
    "Each row includes project_id, required skill, and its importance (1-5) for the project. Leetcode is staffing for multiple data science projects. \n",
    "\n",
    "**Write a solution to find the best candidate for each project based on the following criteria:**\n",
    "- Candidates must have all the skills required for a project.\n",
    "- Calculate a score for each candidate-project pair as follows:\n",
    "  - Start with 100 points\n",
    "  - Add 10 points for each skill where proficiency > importance\n",
    "  - Subtract 5 points for each skill where proficiency < importance\n",
    "  - If the candidate's skill proficiency equal to the project's skill importance, the score remains unchanged\n",
    "\n",
    "Include only the top candidate (highest score) for each project. If there’s a tie, choose the candidate with the lower candidate_id. If there is no suitable candidate for a project, do not return that project.\n",
    "\n",
    "Return a result table ordered by project_id in ascending order.\n",
    "\n",
    "The result format is in the following example.\n",
    "\n",
    "**Example:**\n",
    "\n",
    "**Input:**\n",
    "\n",
    "**Candidates table:**\n",
    "\n",
    "| candidate_id | skill     | proficiency |\n",
    "|--------------|-----------|-------------|\n",
    "| 101          | Python    | 5           |\n",
    "| 101          | Tableau   | 3           |\n",
    "| 101          | PostgreSQL| 4           |\n",
    "| 101          | TensorFlow| 2           |\n",
    "| 102          | Python    | 4           |\n",
    "| 102          | Tableau   | 5           |\n",
    "| 102          | PostgreSQL| 4           |\n",
    "| 102          | R         | 4           |\n",
    "| 103          | Python    | 3           |\n",
    "| 103          | Tableau   | 5           |\n",
    "| 103          | PostgreSQL| 5           |\n",
    "| 103          | Spark     | 4           |\n",
    "\n",
    "**Projects table:**\n",
    "\n",
    "| project_id  | skill     | importance |\n",
    "|-------------|-----------|------------|\n",
    "| 501         | Python    | 4          |\n",
    "| 501         | Tableau   | 3          |\n",
    "| 501         | PostgreSQL| 5          |\n",
    "| 502         | Python    | 3          |\n",
    "| 502         | Tableau   | 4          |\n",
    "| 502         | R         | 2          |\n",
    "\n",
    "**Output:**\n",
    "\n",
    "| project_id  | candidate_id | score |\n",
    "|-------------|--------------|-------|\n",
    "| 501         | 101          | 105   |\n",
    "| 502         | 102          | 130   |\n",
    "\n",
    "**Explanation:**\n",
    "- For Project 501, Candidate 101 has the highest score of 105. All other candidates have the same score but Candidate 101 has the lowest candidate_id among them.\n",
    "- For Project 502, Candidate 102 has the highest score of 130.\n",
    "\n",
    "The output table is ordered by project_id in ascending order."
   ]
  },
  {
   "cell_type": "code",
   "execution_count": 0,
   "metadata": {
    "application/vnd.databricks.v1+cell": {
     "cellMetadata": {},
     "inputWidgets": {},
     "nuid": "a2368434-0191-416c-aa1d-12cd44cf48e6",
     "showTitle": false,
     "tableResultSettingsMap": {},
     "title": ""
    }
   },
   "outputs": [],
   "source": [
    "candidates_data_3278 = [\n",
    "    (101, \"Python\", 5),\n",
    "    (101, \"Tableau\", 3),\n",
    "    (101, \"PostgreSQL\", 4),\n",
    "    (101, \"TensorFlow\", 2),\n",
    "    (102, \"Python\", 4),\n",
    "    (102, \"Tableau\", 5),\n",
    "    (102, \"PostgreSQL\", 4),\n",
    "    (102, \"R\", 4),\n",
    "    (103, \"Python\", 3),\n",
    "    (103, \"Tableau\", 5),\n",
    "    (103, \"PostgreSQL\", 5),\n",
    "    (103, \"Spark\", 4)\n",
    "]\n",
    "\n",
    "candidates_columns_3278 = [\"candidate_id\", \"skill\", \"proficiency\"]\n",
    "candidates_df_3278 = spark.createDataFrame(candidates_data_3278, candidates_columns_3278)\n",
    "candidates_df_3278.show()\n",
    "\n",
    "projects_data_3278 = [\n",
    "    (501, \"Python\", 4),\n",
    "    (501, \"Tableau\", 3),\n",
    "    (501, \"PostgreSQL\", 5),\n",
    "    (502, \"Python\", 3),\n",
    "    (502, \"Tableau\", 4),\n",
    "    (502, \"R\", 2)\n",
    "]\n",
    "\n",
    "projects_columns_3278 = [\"project_id\", \"skill\", \"importance\"]\n",
    "projects_df_3278 = spark.createDataFrame(projects_data_3278, projects_columns_3278)\n",
    "projects_df_3278.show()"
   ]
  }
 ],
 "metadata": {
  "application/vnd.databricks.v1+notebook": {
   "computePreferences": null,
   "dashboards": [],
   "environmentMetadata": {
    "base_environment": "",
    "environment_version": "1"
   },
   "inputWidgetPreferences": null,
   "language": "python",
   "notebookMetadata": {
    "pythonIndentUnit": 4
   },
   "notebookName": "3278. Find Candidates for Data Scientist Position II (Medium)",
   "widgets": {}
  },
  "language_info": {
   "name": "python"
  }
 },
 "nbformat": 4,
 "nbformat_minor": 0
}
