{
 "cells": [
  {
   "cell_type": "markdown",
   "metadata": {
    "application/vnd.databricks.v1+cell": {
     "cellMetadata": {},
     "inputWidgets": {},
     "nuid": "516a210c-988a-43a8-9004-cb03ad7c2481",
     "showTitle": false,
     "tableResultSettingsMap": {},
     "title": ""
    }
   },
   "source": [
    "## Importing Libraries"
   ]
  },
  {
   "cell_type": "code",
   "execution_count": 0,
   "metadata": {
    "application/vnd.databricks.v1+cell": {
     "cellMetadata": {},
     "inputWidgets": {},
     "nuid": "9333a394-5bb0-4f1f-8f10-60b56c9fb68e",
     "showTitle": false,
     "tableResultSettingsMap": {},
     "title": ""
    }
   },
   "outputs": [],
   "source": [
    "from pyspark.sql.functions import *\n",
    "from pyspark.sql.types import *\n",
    "from pyspark.sql.window import Window"
   ]
  },
  {
   "cell_type": "markdown",
   "metadata": {
    "application/vnd.databricks.v1+cell": {
     "cellMetadata": {},
     "inputWidgets": {},
     "nuid": "b718c875-1030-4207-a68c-5fad8635212a",
     "showTitle": false,
     "tableResultSettingsMap": {},
     "title": ""
    }
   },
   "source": [
    "**1327. List the Products Ordered in a Period (Easy)**\n",
    "\n",
    "**Table: Products**\n",
    "\n",
    "| Column Name      | Type    |\n",
    "|------------------|---------|\n",
    "| product_id       | int     |\n",
    "| product_name     | varchar |\n",
    "| product_category | varchar |\n",
    "\n",
    "product_id is the primary key (column with unique values) for this table.\n",
    "This table contains data about the company's products.\n",
    " \n",
    "\n",
    "**Table: Orders**\n",
    "\n",
    "| Column Name   | Type    |\n",
    "|---------------|---------|\n",
    "| product_id    | int     |\n",
    "| order_date    | date    |\n",
    "| unit          | int     |\n",
    "\n",
    "This table may have duplicate rows.\n",
    "product_id is a foreign key (reference column) to the Products table.\n",
    "unit is the number of products ordered in order_date.\n",
    " \n",
    "**Write a solution to get the names of products that have at least 100 units ordered in February 2020 and their amount.**\n",
    "\n",
    "Return the result table in any order.\n",
    "\n",
    "The result format is in the following example.\n",
    "\n",
    "**Example 1:**\n",
    "\n",
    "**Input:**\n",
    "**Products table:**\n",
    "| product_id  | product_name          | product_category |\n",
    "|-------------|-----------------------|------------------|\n",
    "| 1           | Leetcode Solutions    | Book             |\n",
    "| 2           | Jewels of Stringology | Book             |\n",
    "| 3           | HP                    | Laptop           |\n",
    "| 4           | Lenovo                | Laptop           |\n",
    "| 5           | Leetcode Kit          | T-shirt          |\n",
    "\n",
    "**Orders table:**\n",
    "| product_id   | order_date   | unit     |\n",
    "|--------------|--------------|----------|\n",
    "| 1            | 2020-02-05   | 60       |\n",
    "| 1            | 2020-02-10   | 70       |\n",
    "| 2            | 2020-01-18   | 30       |\n",
    "| 2            | 2020-02-11   | 80       |\n",
    "| 3            | 2020-02-17   | 2        |\n",
    "| 3            | 2020-02-24   | 3        |\n",
    "| 4            | 2020-03-01   | 20       |\n",
    "| 4            | 2020-03-04   | 30       |\n",
    "| 4            | 2020-03-04   | 60       |\n",
    "| 5            | 2020-02-25   | 50       |\n",
    "| 5            | 2020-02-27   | 50       |\n",
    "| 5            | 2020-03-01   | 50       |\n",
    "\n",
    "**Output:**\n",
    "| product_name       | unit    |\n",
    "|--------------------|---------|\n",
    "| Leetcode Solutions | 130     |\n",
    "| Leetcode Kit       | 100     |\n",
    "\n",
    "**Explanation:**\n",
    "- Products with product_id = 1 is ordered in February a total of (60 + 70) = 130.\n",
    "- Products with product_id = 2 is ordered in February a total of 80.\n",
    "- Products with product_id = 3 is ordered in February a total of (2 + 3) = 5.\n",
    "- Products with product_id = 4 was not ordered in February 2020.\n",
    "- Products with product_id = 5 is ordered in February a total of (50 + 50) = 100."
   ]
  },
  {
   "cell_type": "code",
   "execution_count": 0,
   "metadata": {
    "application/vnd.databricks.v1+cell": {
     "cellMetadata": {},
     "inputWidgets": {},
     "nuid": "01e4d778-a8a5-48a7-8ebb-7033f0b84d62",
     "showTitle": false,
     "tableResultSettingsMap": {},
     "title": ""
    }
   },
   "outputs": [],
   "source": [
    "products_data_1327 = [\n",
    "    (1, \"Leetcode Solutions\", \"Book\"),\n",
    "    (2, \"Jewels of Stringology\", \"Book\"),\n",
    "    (3, \"HP\", \"Laptop\"),\n",
    "    (4, \"Lenovo\", \"Laptop\"),\n",
    "    (5, \"Leetcode Kit\", \"T-shirt\"),\n",
    "]\n",
    "\n",
    "products_columns_1327 = [\"product_id\", \"product_name\", \"product_category\"]\n",
    "products_df_1327 = spark.createDataFrame(products_data_1327, products_columns_1327)\n",
    "products_df_1327.show()\n",
    "\n",
    "orders_data_1327 = [\n",
    "    (1, \"2020-02-05\", 60),\n",
    "    (1, \"2020-02-10\", 70),\n",
    "    (2, \"2020-01-18\", 30),\n",
    "    (2, \"2020-02-11\", 80),\n",
    "    (3, \"2020-02-17\", 2),\n",
    "    (3, \"2020-02-24\", 3),\n",
    "    (4, \"2020-03-01\", 20),\n",
    "    (4, \"2020-03-04\", 30),\n",
    "    (4, \"2020-03-04\", 60),\n",
    "    (5, \"2020-02-25\", 50),\n",
    "    (5, \"2020-02-27\", 50),\n",
    "    (5, \"2020-03-01\", 50),\n",
    "]\n",
    "\n",
    "orders_columns_1327 = [\"product_id\", \"order_date\", \"unit\"]\n",
    "orders_df_1327 = spark.createDataFrame(orders_data_1327, orders_columns_1327)\n",
    "orders_df_1327.show()\n"
   ]
  }
 ],
 "metadata": {
  "application/vnd.databricks.v1+notebook": {
   "computePreferences": null,
   "dashboards": [],
   "environmentMetadata": {
    "base_environment": "",
    "environment_version": "1"
   },
   "inputWidgetPreferences": null,
   "language": "python",
   "notebookMetadata": {
    "pythonIndentUnit": 4
   },
   "notebookName": "1327. List the Products Ordered in a Period (Easy)",
   "widgets": {}
  },
  "language_info": {
   "name": "python"
  }
 },
 "nbformat": 4,
 "nbformat_minor": 0
}
