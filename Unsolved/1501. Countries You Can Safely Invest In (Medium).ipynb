{
 "cells": [
  {
   "cell_type": "markdown",
   "metadata": {
    "application/vnd.databricks.v1+cell": {
     "cellMetadata": {},
     "inputWidgets": {},
     "nuid": "44cd2565-3e27-417c-8c6c-7b2d8f1b94c5",
     "showTitle": false,
     "tableResultSettingsMap": {},
     "title": ""
    }
   },
   "source": [
    "## Importing Libraries"
   ]
  },
  {
   "cell_type": "code",
   "execution_count": 0,
   "metadata": {
    "application/vnd.databricks.v1+cell": {
     "cellMetadata": {},
     "inputWidgets": {},
     "nuid": "e6da106f-4e0b-41e0-9f75-6e329535d5c0",
     "showTitle": false,
     "tableResultSettingsMap": {},
     "title": ""
    }
   },
   "outputs": [],
   "source": [
    "from pyspark.sql.functions import *\n",
    "from pyspark.sql.types import *\n",
    "from pyspark.sql.window import Window"
   ]
  },
  {
   "cell_type": "markdown",
   "metadata": {
    "application/vnd.databricks.v1+cell": {
     "cellMetadata": {},
     "inputWidgets": {},
     "nuid": "f0267197-68d5-4180-8492-6999c905acb1",
     "showTitle": false,
     "tableResultSettingsMap": {},
     "title": ""
    }
   },
   "source": [
    "**1501. Countries You Can Safely Invest In (Medium)**\n",
    "\n",
    "**Table Person:**\n",
    "\n",
    "| Column Name    | Type    |\n",
    "|----------------|---------|\n",
    "| id             | int     |\n",
    "| name           | varchar |\n",
    "| phone_number   | varchar |\n",
    "\n",
    "id is the column of unique values for this table.\n",
    "Each row of this table contains the name of a person and their phone number.\n",
    "Phone number will be in the form 'xxx-yyyyyyy' where xxx is the country code (3 characters) and yyyyyyy is the phone number (7 characters) where x and y are digits. Both can contain leading zeros.\n",
    " \n",
    "**Table Country:**\n",
    "\n",
    "| Column Name    | Type    |\n",
    "|----------------|---------|\n",
    "| name           | varchar |\n",
    "| country_code   | varchar |\n",
    "\n",
    "country_code is the column of unique values for this table.\n",
    "Each row of this table contains the country name and its code. country_code will be in the form 'xxx' where x is digits.\n",
    " \n",
    "**Table Calls:**\n",
    "\n",
    "| Column Name | Type |\n",
    "|-------------|------|\n",
    "| caller_id   | int  |\n",
    "| callee_id   | int  |\n",
    "| duration    | int  |\n",
    "\n",
    "This table may contain duplicate rows.\n",
    "Each row of this table contains the caller id, callee id and the duration of the call in minutes. caller_id != callee_id\n",
    " \n",
    "A telecommunications company wants to invest in new countries. The company intends to invest in the countries where the average call duration of the calls in this country is strictly greater than the global average call duration.\n",
    "\n",
    "**Write a solution to find the countries where this company can invest.**\n",
    "\n",
    "Return the result table in any order.\n",
    "\n",
    "The result format is in the following example.\n",
    "\n",
    "**Example 1:**\n",
    "\n",
    "**Input:** \n",
    "\n",
    "**Person table:**\n",
    "| id | name     | phone_number |\n",
    "|----|----------|--------------|\n",
    "| 3  | Jonathan | 051-1234567  |\n",
    "| 12 | Elvis    | 051-7654321  |\n",
    "| 1  | Moncef   | 212-1234567  |\n",
    "| 2  | Maroua   | 212-6523651  |\n",
    "| 7  | Meir     | 972-1234567  |\n",
    "| 9  | Rachel   | 972-0011100  |\n",
    "\n",
    "**Country table:**\n",
    "| name     | country_code |\n",
    "|----------|--------------|\n",
    "| Peru     | 051          |\n",
    "| Israel   | 972          |\n",
    "| Morocco  | 212          |\n",
    "| Germany  | 049          |\n",
    "| Ethiopia | 251          |\n",
    "\n",
    "**Calls table:**\n",
    "| caller_id | callee_id | duration |\n",
    "|-----------|-----------|----------|\n",
    "| 1         | 9         | 33       |\n",
    "| 2         | 9         | 4        |\n",
    "| 1         | 2         | 59       |\n",
    "| 3         | 12        | 102      |\n",
    "| 3         | 12        | 330      |\n",
    "| 12        | 3         | 5        |\n",
    "| 7         | 9         | 13       |\n",
    "| 7         | 1         | 3        |\n",
    "| 9         | 7         | 1        |\n",
    "| 1         | 7         | 7        |\n",
    "\n",
    "**Output:** \n",
    "| country  |\n",
    "|----------|\n",
    "| Peru     |\n",
    "\n",
    "**Explanation:** \n",
    "- The average call duration for Peru is (102 + 102 + 330 + 330 + 5 + 5) / 6 = 145.666667\n",
    "- The average call duration for Israel is (33 + 4 + 13 + 13 + 3 + 1 + 1 + 7) / 8 = 9.37500\n",
    "- The average call duration for Morocco is (33 + 4 + 59 + 59 + 3 + 7) / 6 = 27.5000 \n",
    "- Global call duration average = (2 * (33 + 4 + 59 + 102 + 330 + 5 + 13 + 3 + 1 + 7)) / 20 = 55.70000\n",
    "- Since Peru is the only country where the average call duration is greater than the global average, it is the only recommended country."
   ]
  },
  {
   "cell_type": "code",
   "execution_count": 0,
   "metadata": {
    "application/vnd.databricks.v1+cell": {
     "cellMetadata": {},
     "inputWidgets": {},
     "nuid": "e98c62a4-8cd4-48d6-9337-86cf54c19ddd",
     "showTitle": false,
     "tableResultSettingsMap": {},
     "title": ""
    }
   },
   "outputs": [],
   "source": [
    "person_data_1501 = [\n",
    "    (3, \"Jonathan\", \"051-1234567\"),\n",
    "    (12, \"Elvis\", \"051-7654321\"),\n",
    "    (1, \"Moncef\", \"212-1234567\"),\n",
    "    (2, \"Maroua\", \"212-6523651\"),\n",
    "    (7, \"Meir\", \"972-1234567\"),\n",
    "    (9, \"Rachel\", \"972-0011100\"),\n",
    "]\n",
    "\n",
    "person_columns_1501 = [\"id\", \"name\", \"phone_number\"]\n",
    "person_df_1501 = spark.createDataFrame(person_data_1501, person_columns_1501)\n",
    "person_df_1501.show()\n",
    "\n",
    "country_data_1501 = [\n",
    "    (\"Peru\", \"051\"),\n",
    "    (\"Israel\", \"972\"),\n",
    "    (\"Morocco\", \"212\"),\n",
    "    (\"Germany\", \"049\"),\n",
    "    (\"Ethiopia\", \"251\"),\n",
    "]\n",
    "\n",
    "country_columns_1501 = [\"country\", \"country_code\"]\n",
    "country_df_1501 = spark.createDataFrame(country_data_1501, country_columns_1501)\n",
    "country_df_1501.show()\n",
    "\n",
    "calls_data_1501 = [\n",
    "    (1, 9, 33),\n",
    "    (2, 9, 4),\n",
    "    (1, 2, 59),\n",
    "    (3, 12, 102),\n",
    "    (3, 12, 330),\n",
    "    (12, 3, 5),\n",
    "    (7, 9, 13),\n",
    "    (7, 1, 3),\n",
    "    (9, 7, 1),\n",
    "    (1, 7, 7),\n",
    "]\n",
    "\n",
    "calls_columns_1501 = [\"caller_id\", \"callee_id\", \"duration\"]\n",
    "calls_df_1501 = spark.createDataFrame(calls_data_1501, calls_columns_1501)\n",
    "calls_df_1501.show()\n",
    "\n"
   ]
  }
 ],
 "metadata": {
  "application/vnd.databricks.v1+notebook": {
   "computePreferences": null,
   "dashboards": [],
   "environmentMetadata": {
    "base_environment": "",
    "environment_version": "1"
   },
   "inputWidgetPreferences": null,
   "language": "python",
   "notebookMetadata": {
    "pythonIndentUnit": 4
   },
   "notebookName": "1501. Countries You Can Safely Invest In (Medium)",
   "widgets": {}
  },
  "language_info": {
   "name": "python"
  }
 },
 "nbformat": 4,
 "nbformat_minor": 0
}
