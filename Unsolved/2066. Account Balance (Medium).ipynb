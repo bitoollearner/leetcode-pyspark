{
 "cells": [
  {
   "cell_type": "markdown",
   "metadata": {
    "application/vnd.databricks.v1+cell": {
     "cellMetadata": {},
     "inputWidgets": {},
     "nuid": "83d38679-f742-44bb-952b-b541e178ddc8",
     "showTitle": false,
     "tableResultSettingsMap": {},
     "title": ""
    }
   },
   "source": [
    "## Importing Libraries"
   ]
  },
  {
   "cell_type": "code",
   "execution_count": 0,
   "metadata": {
    "application/vnd.databricks.v1+cell": {
     "cellMetadata": {},
     "inputWidgets": {},
     "nuid": "1daf4387-60f2-4c66-b119-d9ce2cd54aa2",
     "showTitle": false,
     "tableResultSettingsMap": {},
     "title": ""
    }
   },
   "outputs": [],
   "source": [
    "from pyspark.sql.functions import *\n",
    "from pyspark.sql.types import *\n",
    "from pyspark.sql.window import Window"
   ]
  },
  {
   "cell_type": "markdown",
   "metadata": {
    "application/vnd.databricks.v1+cell": {
     "cellMetadata": {},
     "inputWidgets": {},
     "nuid": "83ab9b20-fd4f-4392-ae0c-ff0580c3c7c1",
     "showTitle": false,
     "tableResultSettingsMap": {},
     "title": ""
    }
   },
   "source": [
    "**2066. Account Balance (Medium)**\n",
    "\n",
    "**Table: Transactions**\n",
    "\n",
    "| Column Name | Type |\n",
    "|-------------|------|\n",
    "| account_id  | int  |\n",
    "| day         | date |\n",
    "| type        | ENUM |\n",
    "| amount      | int  |\n",
    "\n",
    "(account_id, day) is the primary key (combination of columns with unique values) for this table.\n",
    "Each row contains information about one transaction, including the transaction type, the day it occurred on, and the amount.\n",
    "type is an ENUM (category) of the type ('Deposit','Withdraw') \n",
    " \n",
    "**Write a solution to report the balance of each user after each transaction. You may assume that the balance of each account before any transaction is 0 and that the balance will never be below 0 at any moment.**\n",
    "\n",
    "Return the result table in ascending order by account_id, then by day in case of a tie.\n",
    "\n",
    "The result format is in the following example.\n",
    "\n",
    "**Example 1:**\n",
    "\n",
    "**Input:** \n",
    "\n",
    "**Transactions table:**\n",
    "\n",
    "| account_id | day        | type     | amount |\n",
    "|------------|------------|----------|--------|\n",
    "| 1          | 2021-11-07 | Deposit  | 2000   |\n",
    "| 1          | 2021-11-09 | Withdraw | 1000   |\n",
    "| 1          | 2021-11-11 | Deposit  | 3000   |\n",
    "| 2          | 2021-12-07 | Deposit  | 7000   |\n",
    "| 2          | 2021-12-12 | Withdraw | 7000   |\n",
    "\n",
    "**Output:** \n",
    "| account_id | day        | balance |\n",
    "|------------|------------|---------|\n",
    "| 1          | 2021-11-07 | 2000    |\n",
    "| 1          | 2021-11-09 | 1000    |\n",
    "| 1          | 2021-11-11 | 4000    |\n",
    "| 2          | 2021-12-07 | 7000    |\n",
    "| 2          | 2021-12-12 | 0       |\n",
    "\n",
    "**Explanation:** \n",
    "- Account 1:\n",
    "  - Initial balance is 0.\n",
    "  - 2021-11-07 --> deposit 2000. Balance is 0 + 2000 = 2000.\n",
    "  - 2021-11-09 --> withdraw 1000. Balance is 2000 - 1000 = 1000.\n",
    "  - 2021-11-11 --> deposit 3000. Balance is 1000 + 3000 = 4000.\n",
    "- Account 2:\n",
    "  - Initial balance is 0.\n",
    "  - 2021-12-07 --> deposit 7000. Balance is 0 + 7000 = 7000.\n",
    "  - 2021-12-12 --> withdraw 7000. Balance is 7000 - 7000 = 0."
   ]
  },
  {
   "cell_type": "code",
   "execution_count": 0,
   "metadata": {
    "application/vnd.databricks.v1+cell": {
     "cellMetadata": {},
     "inputWidgets": {},
     "nuid": "e39af07f-85df-4e21-8a5f-c65604a811f3",
     "showTitle": false,
     "tableResultSettingsMap": {},
     "title": ""
    }
   },
   "outputs": [],
   "source": [
    "transactions_data_2066 = [\n",
    "    (1, \"2021-11-07\", \"Deposit\", 2000),\n",
    "    (1, \"2021-11-09\", \"Withdraw\", 1000),\n",
    "    (1, \"2021-11-11\", \"Deposit\", 3000),\n",
    "    (2, \"2021-12-07\", \"Deposit\", 7000),\n",
    "    (2, \"2021-12-12\", \"Withdraw\", 7000),\n",
    "]\n",
    "\n",
    "transactions_columns_2066 = [\"account_id\", \"day\", \"type\", \"amount\"]\n",
    "transactions_df_2066 = spark.createDataFrame(transactions_data_2066, transactions_columns_2066)\n",
    "transactions_df_2066.show()"
   ]
  }
 ],
 "metadata": {
  "application/vnd.databricks.v1+notebook": {
   "computePreferences": null,
   "dashboards": [],
   "environmentMetadata": {
    "base_environment": "",
    "environment_version": "1"
   },
   "inputWidgetPreferences": null,
   "language": "python",
   "notebookMetadata": {
    "pythonIndentUnit": 4
   },
   "notebookName": "2066. Account Balance (Medium)",
   "widgets": {}
  },
  "language_info": {
   "name": "python"
  }
 },
 "nbformat": 4,
 "nbformat_minor": 0
}
