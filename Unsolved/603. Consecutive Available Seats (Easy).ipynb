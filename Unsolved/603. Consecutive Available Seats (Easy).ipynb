{
 "cells": [
  {
   "cell_type": "markdown",
   "metadata": {
    "application/vnd.databricks.v1+cell": {
     "cellMetadata": {},
     "inputWidgets": {},
     "nuid": "5ab27f1b-7c08-44cb-8766-b16c3470b90d",
     "showTitle": false,
     "tableResultSettingsMap": {},
     "title": ""
    }
   },
   "source": [
    "## Importing Libraries"
   ]
  },
  {
   "cell_type": "code",
   "execution_count": 0,
   "metadata": {
    "application/vnd.databricks.v1+cell": {
     "cellMetadata": {},
     "inputWidgets": {},
     "nuid": "0d316502-e6b4-4432-b3fd-6159096e4951",
     "showTitle": false,
     "tableResultSettingsMap": {},
     "title": ""
    }
   },
   "outputs": [],
   "source": [
    "from pyspark.sql.functions import *\n",
    "from pyspark.sql.types import *\n",
    "from pyspark.sql.window import Window"
   ]
  },
  {
   "cell_type": "markdown",
   "metadata": {
    "application/vnd.databricks.v1+cell": {
     "cellMetadata": {},
     "inputWidgets": {},
     "nuid": "2e4d3e31-be24-427a-bc7e-362b6765c4fa",
     "showTitle": false,
     "tableResultSettingsMap": {},
     "title": ""
    }
   },
   "source": [
    "**603. Consecutive Available Seats (Easy)**\n",
    "\n",
    "**Table: Cinema**\n",
    "\n",
    "| Column Name | Type |\n",
    "|-------------|------|\n",
    "| seat_id     | int  |\n",
    "| free        | bool |\n",
    "\n",
    "seat_id is an auto-increment column for this table.\n",
    "\n",
    "Each row of this table indicates whether the ith seat is free or not. 1 means free while 0 means occupied.\n",
    " \n",
    "**Find all the consecutive available seats in the cinema.**\n",
    "\n",
    "Return the result table ordered by seat_id in ascending order.\n",
    "\n",
    "The test cases are generated so that more than two seats are consecutively available.\n",
    "\n",
    "The result format is in the following example.\n",
    "\n",
    "**Example 1:**\n",
    "\n",
    "**Input:** \n",
    "\n",
    "**Cinema table:**\n",
    "\n",
    "| seat_id | free |\n",
    "|---------|------|\n",
    "| 1       | 1    |\n",
    "| 2       | 0    |\n",
    "| 3       | 1    |\n",
    "| 4       | 1    |\n",
    "| 5       | 1    |\n",
    "\n",
    "**Output:** \n",
    "| seat_id |\n",
    "|---------|\n",
    "| 3       |\n",
    "| 4       |\n",
    "| 5       |\n",
    "\n"
   ]
  },
  {
   "cell_type": "code",
   "execution_count": 0,
   "metadata": {
    "application/vnd.databricks.v1+cell": {
     "cellMetadata": {},
     "inputWidgets": {},
     "nuid": "f6f11a82-8828-41ca-828a-e88f8586b97a",
     "showTitle": false,
     "tableResultSettingsMap": {},
     "title": ""
    }
   },
   "outputs": [],
   "source": [
    "cinema_data_603 = [\n",
    "    (1, 1),\n",
    "    (2, 0),\n",
    "    (3, 1),\n",
    "    (4, 1),\n",
    "    (5, 1)\n",
    "]\n",
    "\n",
    "cinema_columns_603 = ['seat_id', 'free']\n",
    "cinema_df_603 = spark.createDataFrame(cinema_data_603, cinema_columns_603)\n",
    "cinema_df_603.show()"
   ]
  }
 ],
 "metadata": {
  "application/vnd.databricks.v1+notebook": {
   "computePreferences": null,
   "dashboards": [],
   "environmentMetadata": {
    "base_environment": "",
    "environment_version": "1"
   },
   "inputWidgetPreferences": null,
   "language": "python",
   "notebookMetadata": {
    "pythonIndentUnit": 4
   },
   "notebookName": "603. Consecutive Available Seats (Easy)",
   "widgets": {}
  },
  "language_info": {
   "name": "python"
  }
 },
 "nbformat": 4,
 "nbformat_minor": 0
}
