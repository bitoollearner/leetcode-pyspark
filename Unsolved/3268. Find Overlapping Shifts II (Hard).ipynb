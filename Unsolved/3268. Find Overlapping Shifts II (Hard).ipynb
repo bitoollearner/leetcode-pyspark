{
 "cells": [
  {
   "cell_type": "markdown",
   "metadata": {
    "application/vnd.databricks.v1+cell": {
     "cellMetadata": {},
     "inputWidgets": {},
     "nuid": "7d1791bd-9552-4116-90b2-daa678bbffb8",
     "showTitle": false,
     "tableResultSettingsMap": {},
     "title": ""
    }
   },
   "source": [
    "## Importing Libraries"
   ]
  },
  {
   "cell_type": "code",
   "execution_count": 0,
   "metadata": {
    "application/vnd.databricks.v1+cell": {
     "cellMetadata": {},
     "inputWidgets": {},
     "nuid": "2901fbc9-49db-4285-8b94-c460f34d4c4f",
     "showTitle": false,
     "tableResultSettingsMap": {},
     "title": ""
    }
   },
   "outputs": [],
   "source": [
    "from pyspark.sql.functions import *\n",
    "from pyspark.sql.types import *\n",
    "from pyspark.sql.window import Window"
   ]
  },
  {
   "cell_type": "markdown",
   "metadata": {
    "application/vnd.databricks.v1+cell": {
     "cellMetadata": {},
     "inputWidgets": {},
     "nuid": "655120e7-6b25-417c-a08a-c6925feaa425",
     "showTitle": false,
     "tableResultSettingsMap": {},
     "title": ""
    }
   },
   "source": [
    "**3268. Find Overlapping Shifts II (Hard)**\n",
    "\n",
    "**Table: EmployeeShifts**\n",
    "\n",
    "| Column Name      | Type     |\n",
    "|------------------|----------|\n",
    "| employee_id      | int      |\n",
    "| start_time       | datetime |\n",
    "| end_time         | datetime |\n",
    "\n",
    "(employee_id, start_time) is the unique key for this table.\n",
    "This table contains information about the shifts worked by employees, including the start time, and end time.\n",
    "\n",
    "**Write a solution to analyze overlapping shifts for each employee. Two shifts are considered overlapping if they occur on the same date and one shift's end_time is later than another shift's start_time.**\n",
    "\n",
    "For each employee, calculate the following:\n",
    "- The maximum number of shifts that overlap at any given time.\n",
    "- The total duration of all overlaps in minutes.\n",
    "\n",
    "Return the result table ordered by employee_id in ascending order.\n",
    "\n",
    "The query result format is in the following example.\n",
    "\n",
    "**Example:**\n",
    "\n",
    "**Input:**\n",
    "\n",
    "**EmployeeShifts table:**\n",
    "\n",
    "| employee_id | start_time          | end_time            |\n",
    "|-------------|---------------------|---------------------|\n",
    "| 1           | 2023-10-01 09:00:00 | 2023-10-01 17:00:00 |\n",
    "| 1           | 2023-10-01 15:00:00 | 2023-10-01 23:00:00 |\n",
    "| 1           | 2023-10-01 16:00:00 | 2023-10-02 00:00:00 |\n",
    "| 2           | 2023-10-01 09:00:00 | 2023-10-01 17:00:00 |\n",
    "| 2           | 2023-10-01 11:00:00 | 2023-10-01 19:00:00 |\n",
    "| 3           | 2023-10-01 09:00:00 | 2023-10-01 17:00:00 |\n",
    "\n",
    "**Output:**\n",
    "\n",
    "| employee_id | max_overlapping_shifts    | total_overlap_duration |\n",
    "|-------------|---------------------------|------------------------|\n",
    "| 1           | 3                         | 600                    |\n",
    "| 2           | 2                         | 360                    |\n",
    "| 3           | 1                         | 0                      |\n",
    "\n",
    "\n",
    "**Explanation:**\n",
    "- Employee 1 has 3 shifts:\n",
    "  - 2023-10-01 09:00:00 to 2023-10-01 17:00:00\n",
    "  - 2023-10-01 15:00:00 to 2023-10-01 23:00:00\n",
    "  - 2023-10-01 16:00:00 to 2023-10-02 00:00:00\n",
    "\n",
    "The maximum number of overlapping shifts is 3 (from 16:00 to 17:00). The total overlap duration is: - 2 hours (15:00-17:00) between 1st and 2nd shifts - 1 hour (16:00-17:00) between 1st and 3rd shifts - 7 hours (16:00-23:00) between 2nd and 3rd shifts Total: 10 hours = 600 minutes\n",
    "\n",
    "- Employee 2 has 2 shifts:\n",
    "  - 2023-10-01 09:00:00 to 2023-10-01 17:00:00\n",
    "  - 2023-10-01 11:00:00 to 2023-10-01 19:00:00\n",
    "\n",
    "The maximum number of overlapping shifts is 2. The total overlap duration is 6 hours (11:00-17:00) = 360 minutes.\n",
    "- Employee 3 has only 1 shift, so there are no overlaps.\n",
    "\n",
    "The output table contains the employee_id, the maximum number of simultaneous overlaps, and the total overlap duration in minutes for each employee, ordered by employee_id in ascending order."
   ]
  },
  {
   "cell_type": "code",
   "execution_count": 0,
   "metadata": {
    "application/vnd.databricks.v1+cell": {
     "cellMetadata": {},
     "inputWidgets": {},
     "nuid": "a2368434-0191-416c-aa1d-12cd44cf48e6",
     "showTitle": false,
     "tableResultSettingsMap": {},
     "title": ""
    }
   },
   "outputs": [],
   "source": [
    "shifts_data_3268 = [\n",
    "    (1, \"2023-10-01 09:00:00\", \"2023-10-01 17:00:00\"),\n",
    "    (1, \"2023-10-01 15:00:00\", \"2023-10-01 23:00:00\"),\n",
    "    (1, \"2023-10-01 16:00:00\", \"2023-10-02 00:00:00\"),\n",
    "    (2, \"2023-10-01 09:00:00\", \"2023-10-01 17:00:00\"),\n",
    "    (2, \"2023-10-01 11:00:00\", \"2023-10-01 19:00:00\"),\n",
    "    (3, \"2023-10-01 09:00:00\", \"2023-10-01 17:00:00\")\n",
    "]\n",
    "\n",
    "shifts_columns_3268 = [\"employee_id\", \"start_time\", \"end_time\"]\n",
    "shifts_df_3268 = spark.createDataFrame(shifts_data_3268, shifts_columns_3268)\n",
    "shifts_df_3268.show()"
   ]
  }
 ],
 "metadata": {
  "application/vnd.databricks.v1+notebook": {
   "computePreferences": null,
   "dashboards": [],
   "environmentMetadata": {
    "base_environment": "",
    "environment_version": "1"
   },
   "inputWidgetPreferences": null,
   "language": "python",
   "notebookMetadata": {
    "pythonIndentUnit": 4
   },
   "notebookName": "3268. Find Overlapping Shifts II (Hard)",
   "widgets": {}
  }
 },
 "nbformat": 4,
 "nbformat_minor": 0
}