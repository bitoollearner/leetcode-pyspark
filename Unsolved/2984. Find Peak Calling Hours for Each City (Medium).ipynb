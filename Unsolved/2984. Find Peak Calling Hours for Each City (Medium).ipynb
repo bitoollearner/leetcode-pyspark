{
 "cells": [
  {
   "cell_type": "markdown",
   "metadata": {
    "application/vnd.databricks.v1+cell": {
     "cellMetadata": {},
     "inputWidgets": {},
     "nuid": "4e9d71b1-88e9-445c-820a-b842e217a4e7",
     "showTitle": false,
     "tableResultSettingsMap": {},
     "title": ""
    }
   },
   "source": [
    "## Importing Libraries"
   ]
  },
  {
   "cell_type": "code",
   "execution_count": 0,
   "metadata": {
    "application/vnd.databricks.v1+cell": {
     "cellMetadata": {},
     "inputWidgets": {},
     "nuid": "e6624c4d-8cb8-4ac4-8c72-81d1b4ecdb57",
     "showTitle": false,
     "tableResultSettingsMap": {},
     "title": ""
    }
   },
   "outputs": [],
   "source": [
    "from pyspark.sql.functions import *\n",
    "from pyspark.sql.types import *\n",
    "from pyspark.sql.window import Window"
   ]
  },
  {
   "cell_type": "markdown",
   "metadata": {
    "application/vnd.databricks.v1+cell": {
     "cellMetadata": {},
     "inputWidgets": {},
     "nuid": "c3788fe5-f4c9-420f-ad72-ec1a39310a2a",
     "showTitle": false,
     "tableResultSettingsMap": {},
     "title": ""
    }
   },
   "source": [
    "**2984. Find Peak Calling Hours for Each City (Medium)**\n",
    "\n",
    "**Table: Calls**\n",
    "\n",
    "| Column Name  | Type     |\n",
    "|--------------|----------|\n",
    "| caller_id    | int      |\n",
    "| recipient_id | int      |\n",
    "| call_time    | datetime |\n",
    "| city         | varchar  |\n",
    "\n",
    "(caller_id, recipient_id, call_time) is the primary key (combination of columns with unique values) for this table.\n",
    "Each row contains caller id, recipient id, call time, and city.\n",
    "\n",
    "**Write a solution to find the peak calling hour for each city. If multiple hours have the same number of calls, all of those hours will be recognized as peak hours for that specific city.**\n",
    "\n",
    "Return the result table ordered by peak calling hour and city in descending order.\n",
    "\n",
    "The result format is in the following example.\n",
    "\n",
    "**Example 1:**\n",
    "\n",
    "**Input:**\n",
    "**Calls table:**\n",
    "| caller_id | recipient_id | call_time           | city     |\n",
    "|-----------|--------------|---------------------|----------|\n",
    "| 8         | 4            | 2021-08-24 22:46:07 | Houston  |\n",
    "| 4         | 8            | 2021-08-24 22:57:13 | Houston  |  \n",
    "| 5         | 1            | 2021-08-11 21:28:44 | Houston  |  \n",
    "| 8         | 3            | 2021-08-17 22:04:15 | Houston  |\n",
    "| 11        | 3            | 2021-08-17 13:07:00 | New York |\n",
    "| 8         | 11           | 2021-08-17 14:22:22 | New York |\n",
    "\n",
    "**Output:** \n",
    "| city     | peak_calling_hour | number_of_calls |\n",
    "|----------|-------------------|-----------------|\n",
    "| Houston  | 22                | 3               |\n",
    "| New York | 14                | 1               |\n",
    "| New York | 13                | 1               |\n",
    "\n",
    "**Explanation:** \n",
    "\n",
    "- For Houston:\n",
    "  - The peak time is 22:00, with a total of 3 calls recorded. \n",
    "- For New York:\n",
    "  - Both 13:00 and 14:00 hours have equal call counts of 1, so both times are considered peak hours.\n",
    "\n",
    "Output table is ordered by peak_calling_hour and city in descending order."
   ]
  },
  {
   "cell_type": "code",
   "execution_count": 0,
   "metadata": {
    "application/vnd.databricks.v1+cell": {
     "cellMetadata": {},
     "inputWidgets": {},
     "nuid": "137536ea-9bec-4171-8dc2-4bf8b0d771b4",
     "showTitle": false,
     "tableResultSettingsMap": {},
     "title": ""
    }
   },
   "outputs": [],
   "source": [
    "calls_data_2984 = [\n",
    "    (8, 4, \"2021-08-24 22:46:07\", \"Houston\"),\n",
    "    (4, 8, \"2021-08-24 22:57:13\", \"Houston\"),\n",
    "    (5, 1, \"2021-08-11 21:28:44\", \"Houston\"),\n",
    "    (8, 3, \"2021-08-17 22:04:15\", \"Houston\"),\n",
    "    (11, 3, \"2021-08-17 13:07:00\", \"New York\"),\n",
    "    (8, 11, \"2021-08-17 14:22:22\", \"New York\")\n",
    "]\n",
    "\n",
    "calls_columns_2984 = [\"caller_id\", \"recipient_id\", \"call_time\", \"city\"]\n",
    "calls_df_2984 = spark.createDataFrame(calls_data_2984, calls_columns_2984)\n",
    "calls_df_2984.show()"
   ]
  }
 ],
 "metadata": {
  "application/vnd.databricks.v1+notebook": {
   "computePreferences": null,
   "dashboards": [],
   "environmentMetadata": {
    "base_environment": "",
    "environment_version": "1"
   },
   "inputWidgetPreferences": null,
   "language": "python",
   "notebookMetadata": {
    "pythonIndentUnit": 4
   },
   "notebookName": "2984. Find Peak Calling Hours for Each City (Medium)",
   "widgets": {}
  },
  "language_info": {
   "name": "python"
  }
 },
 "nbformat": 4,
 "nbformat_minor": 0
}
