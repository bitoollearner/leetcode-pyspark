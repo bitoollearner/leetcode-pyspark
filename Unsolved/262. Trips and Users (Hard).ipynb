{
 "cells": [
  {
   "cell_type": "markdown",
   "metadata": {
    "application/vnd.databricks.v1+cell": {
     "cellMetadata": {},
     "inputWidgets": {},
     "nuid": "933f6fcf-3b7f-4e22-a9da-47224a7b1132",
     "showTitle": false,
     "tableResultSettingsMap": {},
     "title": ""
    }
   },
   "source": [
    "## Importing Libraries"
   ]
  },
  {
   "cell_type": "code",
   "execution_count": 0,
   "metadata": {
    "application/vnd.databricks.v1+cell": {
     "cellMetadata": {},
     "inputWidgets": {},
     "nuid": "0a044ca2-88c3-4a39-9ad3-12c7b6613c0b",
     "showTitle": false,
     "tableResultSettingsMap": {},
     "title": ""
    }
   },
   "outputs": [],
   "source": [
    "from pyspark.sql.functions import *\n",
    "from pyspark.sql.types import *\n",
    "from pyspark.sql.window import Window"
   ]
  },
  {
   "cell_type": "markdown",
   "metadata": {
    "application/vnd.databricks.v1+cell": {
     "cellMetadata": {},
     "inputWidgets": {},
     "nuid": "f16f61a0-1eda-4a08-9e41-e6bc4f90e5dc",
     "showTitle": false,
     "tableResultSettingsMap": {},
     "title": ""
    }
   },
   "source": [
    "**262. Trips and Users (Hard)**\n",
    "\n",
    "**Table: Trips**\n",
    "\n",
    "| Column Name | Type     |\n",
    "|-------------|----------|\n",
    "| id          | int      |\n",
    "| client_id   | int      |\n",
    "| driver_id   | int      |\n",
    "| city_id     | int      |\n",
    "| status      | enum     |\n",
    "| request_at  | varchar  |     \n",
    "\n",
    "id is the primary key (column with unique values) for this table.\n",
    "The table holds all taxi trips. Each trip has a unique id, while client_id and driver_id are foreign keys to the users_id at the Users table.\n",
    "Status is an ENUM (category) type of ('completed', 'cancelled_by_driver', 'cancelled_by_client').\n",
    " \n",
    "**Table: Users**\n",
    "\n",
    "| Column Name | Type     |\n",
    "|-------------|----------|\n",
    "| users_id    | int      |\n",
    "| banned      | enum     |\n",
    "| role        | enum     |\n",
    "\n",
    "users_id is the primary key (column with unique values) for this table.\n",
    "The table holds all users. Each user has a unique users_id, and role is an ENUM type of ('client', 'driver', 'partner').\n",
    "banned is an ENUM (category) type of ('Yes', 'No').\n",
    " \n",
    "The **cancellation rate** is computed by dividing the number of canceled (by client or driver) requests with unbanned users by the total number of requests with unbanned users on that day.\n",
    "\n",
    "**Write a solution to find the cancellation rate of requests with unbanned users (both client and driver must not be banned) each day between \"2013-10-01\" and \"2013-10-03\". Round Cancellation Rate to two decimal points.**\n",
    "\n",
    "Return the result table in **any order**.\n",
    "\n",
    "The result format is in the following example.\n",
    "\n",
    "**Example 1:**\n",
    "\n",
    "**Input:**\n",
    "**Trips table:**\n",
    "| id | client_id | driver_id | city_id | status              | request_at |\n",
    "|----|-----------|-----------|---------|---------------------|------------|\n",
    "| 1  | 1         | 10        | 1       | completed           | 2013-10-01 |\n",
    "| 2  | 2         | 11        | 1       | cancelled_by_driver | 2013-10-01 |\n",
    "| 3  | 3         | 12        | 6       | completed           | 2013-10-01 |\n",
    "| 4  | 4         | 13        | 6       | cancelled_by_client | 2013-10-01 |\n",
    "| 5  | 1         | 10        | 1       | completed           | 2013-10-02 |\n",
    "| 6  | 2         | 11        | 6       | completed           | 2013-10-02 |\n",
    "| 7  | 3         | 12        | 6       | completed           | 2013-10-02 |\n",
    "| 8  | 2         | 12        | 12      | completed           | 2013-10-03 |\n",
    "| 9  | 3         | 10        | 12      | completed           | 2013-10-03 |\n",
    "| 10 | 4         | 13        | 12      | cancelled_by_driver | 2013-10-03 |\n",
    "\n",
    "**Users table:**\n",
    "| users_id | banned | role   |\n",
    "|----------|--------|--------|\n",
    "| 1        | No     | client |\n",
    "| 2        | Yes    | client |\n",
    "| 3        | No     | client |\n",
    "| 4        | No     | client |\n",
    "| 10       | No     | driver |\n",
    "| 11       | No     | driver |\n",
    "| 12       | No     | driver |\n",
    "| 13       | No     | driver |\n",
    "\n",
    "**Output:**\n",
    "| Day        | Cancellation Rate |\n",
    "|------------|-------------------|\n",
    "| 2013-10-01 | 0.33              |\n",
    "| 2013-10-02 | 0.00              |\n",
    "| 2013-10-03 | 0.50              |\n",
    "\n",
    "**Explanation:**\n",
    "\n",
    "**On 2013-10-01:**\n",
    "- There were 4 requests in total, 2 of which were canceled.\n",
    "- However, the request with Id=2 was made by a banned client (User_Id=2), so it is ignored in the calculation.\n",
    "- Hence there are 3 unbanned requests in total, 1 of which was canceled.\n",
    "- The Cancellation Rate is (1 / 3) = 0.33\n",
    "\n",
    "**On 2013-10-02:**\n",
    "- There were 3 requests in total, 0 of which were canceled.\n",
    "- The request with Id=6 was made by a banned client, so it is ignored.\n",
    "- Hence there are 2 unbanned requests in total, 0 of which were canceled.\n",
    "- The Cancellation Rate is (0 / 2) = 0.00\n",
    "\n",
    "**On 2013-10-03:**\n",
    "- There were 3 requests in total, 1 of which was canceled.\n",
    "- The request with Id=8 was made by a banned client, so it is ignored.\n",
    "- Hence there are 2 unbanned request in total, 1 of which were canceled.\n",
    "- The Cancellation Rate is (1 / 2) = 0.50"
   ]
  },
  {
   "cell_type": "code",
   "execution_count": 0,
   "metadata": {
    "application/vnd.databricks.v1+cell": {
     "cellMetadata": {},
     "inputWidgets": {},
     "nuid": "99062cca-ba5f-4f53-a7b7-0a79518c0bf0",
     "showTitle": false,
     "tableResultSettingsMap": {},
     "title": ""
    }
   },
   "outputs": [],
   "source": [
    "trips_data_262 = [\n",
    "    (1, 1, 10, 1, \"completed\", \"2013-10-01\"),\n",
    "    (2, 2, 11, 1, \"cancelled_by_driver\", \"2013-10-01\"),\n",
    "    (3, 3, 12, 6, \"completed\", \"2013-10-01\"),\n",
    "    (4, 4, 13, 6, \"cancelled_by_client\", \"2013-10-01\"),\n",
    "    (5, 1, 10, 1, \"completed\", \"2013-10-02\"),\n",
    "    (6, 2, 11, 6, \"completed\", \"2013-10-02\"),\n",
    "    (7, 3, 12, 6, \"completed\", \"2013-10-02\"),\n",
    "    (8, 2, 12, 12, \"completed\", \"2013-10-03\"),\n",
    "    (9, 3, 10, 12, \"completed\", \"2013-10-03\"),\n",
    "    (10, 4, 13, 12, \"cancelled_by_driver\", \"2013-10-03\")\n",
    "]\n",
    "\n",
    "users_data_262 = [\n",
    "    (1, \"No\", \"client\"),\n",
    "    (2, \"Yes\", \"client\"),\n",
    "    (3, \"No\", \"client\"),\n",
    "    (4, \"No\", \"client\"),\n",
    "    (10, \"No\", \"driver\"),\n",
    "    (11, \"No\", \"driver\"),\n",
    "    (12, \"No\", \"driver\"),\n",
    "    (13, \"No\", \"driver\")\n",
    "]\n",
    "\n",
    "trips_columns_262 = [\"id\", \"client_id\", \"driver_id\", \"city_id\", \"status\", \"request_at\"]\n",
    "trips_df_262 = spark.createDataFrame(trips_data_262, trips_columns_262)\n",
    "trips_df_262.show()\n",
    "\n",
    "users_columns_262 = [\"users_id\", \"banned\", \"role\"]\n",
    "users_df_262 = spark.createDataFrame(users_data_262, users_columns_262)\n",
    "users_df_262.show()"
   ]
  }
 ],
 "metadata": {
  "application/vnd.databricks.v1+notebook": {
   "computePreferences": null,
   "dashboards": [],
   "environmentMetadata": {
    "base_environment": "",
    "environment_version": "1"
   },
   "inputWidgetPreferences": null,
   "language": "python",
   "notebookMetadata": {
    "pythonIndentUnit": 4
   },
   "notebookName": "262. Trips and Users (Hard)",
   "widgets": {}
  },
  "language_info": {
   "name": "python"
  }
 },
 "nbformat": 4,
 "nbformat_minor": 0
}
