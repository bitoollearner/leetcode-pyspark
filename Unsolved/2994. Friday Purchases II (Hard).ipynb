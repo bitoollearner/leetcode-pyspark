{
 "cells": [
  {
   "cell_type": "markdown",
   "metadata": {
    "application/vnd.databricks.v1+cell": {
     "cellMetadata": {},
     "inputWidgets": {},
     "nuid": "4e9d71b1-88e9-445c-820a-b842e217a4e7",
     "showTitle": false,
     "tableResultSettingsMap": {},
     "title": ""
    }
   },
   "source": [
    "## Importing Libraries"
   ]
  },
  {
   "cell_type": "code",
   "execution_count": 0,
   "metadata": {
    "application/vnd.databricks.v1+cell": {
     "cellMetadata": {},
     "inputWidgets": {},
     "nuid": "e6624c4d-8cb8-4ac4-8c72-81d1b4ecdb57",
     "showTitle": false,
     "tableResultSettingsMap": {},
     "title": ""
    }
   },
   "outputs": [],
   "source": [
    "from pyspark.sql.functions import *\n",
    "from pyspark.sql.types import *\n",
    "from pyspark.sql.window import Window"
   ]
  },
  {
   "cell_type": "markdown",
   "metadata": {
    "application/vnd.databricks.v1+cell": {
     "cellMetadata": {},
     "inputWidgets": {},
     "nuid": "c3788fe5-f4c9-420f-ad72-ec1a39310a2a",
     "showTitle": false,
     "tableResultSettingsMap": {},
     "title": ""
    }
   },
   "source": [
    "**2994. Friday Purchases II (Hard)**\n",
    "\n",
    "**Table: Purchases**\n",
    "\n",
    "| Column Name   | Type |\n",
    "|---------------|------|\n",
    "| user_id       | int  |\n",
    "| purchase_date | date |\n",
    "| amount_spend  | int  |\n",
    "\n",
    "(user_id, purchase_date, amount_spend) is the primary key (combination of columns with unique values) for this table.\n",
    "purchase_date will range from November 1, 2023, to November 30, 2023, inclusive of both dates.\n",
    "Each row contains user id, purchase date, and amount spend.\n",
    "\n",
    "**Write a solution to calculate the total spending by users on each Friday of every week in November 2023. If there are no purchases on a particular Friday of a week, it will be considered as 0.**\n",
    "\n",
    "Return the result table ordered by week of month in ascending order.\n",
    "\n",
    "The result format is in the following example.\n",
    "\n",
    "**Example 1:**\n",
    "\n",
    "**Input:**\n",
    "**Purchases table:**\n",
    "\n",
    "| user_id | purchase_date | amount_spend |\n",
    "|---------|---------------|--------------|\n",
    "| 11      | 2023-11-07    | 1126         |\n",
    "| 15      | 2023-11-30    | 7473         |\n",
    "| 17      | 2023-11-14    | 2414         |\n",
    "| 12      | 2023-11-24    | 9692         |\n",
    "| 8       | 2023-11-03    | 5117         |\n",
    "| 1       | 2023-11-16    | 5241         |\n",
    "| 10      | 2023-11-12    | 8266         |\n",
    "| 13      | 2023-11-24    | 12000        |\n",
    "\n",
    "**Output:**\n",
    "\n",
    "| week_of_month | purchase_date | total_amount |\n",
    "|---------------|---------------|--------------|\n",
    "| 1             | 2023-11-03    | 5117         |\n",
    "| 2             | 2023-11-10    | 0            |\n",
    "| 3             | 2023-11-17    | 0            |\n",
    "| 4             | 2023-11-24    | 21692        |\n",
    "\n",
    "**Explanation:**\n",
    "- During the first week of November 2023, transactions amounting to $5,117 occurred on Friday, 2023-11-03.\n",
    "- For the second week of November 2023, there were no transactions on Friday, 2023-11-10, resulting in a value of 0 in the output table for that day.\n",
    "- Similarly, during the third week of November 2023, there were no transactions on Friday, 2023-11-17, reflected as 0 in the output table for that specific day.\n",
    "- In the fourth week of November 2023, two transactions took place on Friday, 2023-11-24, amounting to $12,000 and $9,692 respectively, summing up to a total of $21,692.\n",
    "\n",
    "Output table is ordered by week_of_month in ascending order."
   ]
  },
  {
   "cell_type": "code",
   "execution_count": 0,
   "metadata": {
    "application/vnd.databricks.v1+cell": {
     "cellMetadata": {},
     "inputWidgets": {},
     "nuid": "137536ea-9bec-4171-8dc2-4bf8b0d771b4",
     "showTitle": false,
     "tableResultSettingsMap": {},
     "title": ""
    }
   },
   "outputs": [],
   "source": [
    "purchases_data_2994 = [\n",
    "    (11, \"2023-11-07\", 1126),\n",
    "    (15, \"2023-11-30\", 7473),\n",
    "    (17, \"2023-11-14\", 2414),\n",
    "    (12, \"2023-11-24\", 9692),\n",
    "    (8, \"2023-11-03\", 5117),\n",
    "    (1, \"2023-11-16\", 5241),\n",
    "    (10, \"2023-11-12\", 8266),\n",
    "    (13, \"2023-11-24\", 12000)\n",
    "]\n",
    "\n",
    "purchases_columns_2994 = [\"user_id\",\"purchase_date\",\"amount_spend\"]\n",
    "purchases_df_2994 = spark.createDataFrame(purchases_data_2994, purchases_columns_2994)\n",
    "purchases_df_2994.show()"
   ]
  }
 ],
 "metadata": {
  "application/vnd.databricks.v1+notebook": {
   "computePreferences": null,
   "dashboards": [],
   "environmentMetadata": {
    "base_environment": "",
    "environment_version": "1"
   },
   "inputWidgetPreferences": null,
   "language": "python",
   "notebookMetadata": {
    "pythonIndentUnit": 4
   },
   "notebookName": "2994. Friday Purchases II (Hard)",
   "widgets": {}
  },
  "language_info": {
   "name": "python"
  }
 },
 "nbformat": 4,
 "nbformat_minor": 0
}
