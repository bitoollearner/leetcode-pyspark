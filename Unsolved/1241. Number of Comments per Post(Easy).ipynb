{
 "cells": [
  {
   "cell_type": "markdown",
   "metadata": {
    "application/vnd.databricks.v1+cell": {
     "cellMetadata": {},
     "inputWidgets": {},
     "nuid": "82383caa-9b15-409a-9acb-968b851c477b",
     "showTitle": false,
     "tableResultSettingsMap": {},
     "title": ""
    }
   },
   "source": [
    "## Importing Libraries"
   ]
  },
  {
   "cell_type": "code",
   "execution_count": 0,
   "metadata": {
    "application/vnd.databricks.v1+cell": {
     "cellMetadata": {},
     "inputWidgets": {},
     "nuid": "83322872-9913-4063-98cf-4aaea5fd3337",
     "showTitle": false,
     "tableResultSettingsMap": {},
     "title": ""
    }
   },
   "outputs": [],
   "source": [
    "from pyspark.sql.functions import *\n",
    "from pyspark.sql.types import *\n",
    "from pyspark.sql.window import Window"
   ]
  },
  {
   "cell_type": "markdown",
   "metadata": {
    "application/vnd.databricks.v1+cell": {
     "cellMetadata": {},
     "inputWidgets": {},
     "nuid": "e475f002-2b95-4d27-958c-aeab86c066ed",
     "showTitle": false,
     "tableResultSettingsMap": {},
     "title": ""
    }
   },
   "source": [
    "**1241. Number of Comments per Post(Easy)**\n",
    "\n",
    "**Table: Submissions**\n",
    "\n",
    "| Column Name   | Type     |\n",
    "|---------------|----------|\n",
    "| sub_id        | int      |\n",
    "| parent_id     | int      |\n",
    "\n",
    "This table may have duplicate rows.\n",
    "Each row can be a post or comment on the post.\n",
    "parent_id is null for posts.\n",
    "parent_id for comments is sub_id for another post in the table.\n",
    " \n",
    "**Write a solution to find the number of comments per post. The result table should contain post_id and its corresponding number_of_comments.**\n",
    "\n",
    "The Submissions table may contain duplicate comments. You should count the number of unique comments per post.\n",
    "\n",
    "The Submissions table may contain duplicate posts. You should treat them as one post.\n",
    "\n",
    "The result table should be ordered by post_id in ascending order.\n",
    "\n",
    "The result format is in the following example.\n",
    "\n",
    "**Example 1:**\n",
    "\n",
    "**Input:** \n",
    "\n",
    "**Submissions table:**\n",
    "\n",
    "| sub_id  | parent_id  |\n",
    "|---------|------------|\n",
    "| 1       | Null       |\n",
    "| 2       | Null       |\n",
    "| 1       | Null       |\n",
    "| 12      | Null       |\n",
    "| 3       | 1          |\n",
    "| 5       | 2          |\n",
    "| 3       | 1          |\n",
    "| 4       | 1          |\n",
    "| 9       | 1          |\n",
    "| 10      | 2          |\n",
    "| 6       | 7          |\n",
    "\n",
    "**Output:** \n",
    "| post_id | number_of_comments |\n",
    "|---------|--------------------|\n",
    "| 1       | 3                  |\n",
    "| 2       | 2                  |\n",
    "| 12      | 0                  |\n",
    "\n",
    "**Explanation:** \n",
    "- The post with id 1 has three comments in the table with id 3, 4, and 9. The comment with id 3 is repeated in the table, we counted it only once.\n",
    "- The post with id 2 has two comments in the table with id 5 and 10.\n",
    "- The post with id 12 has no comments in the table.\n",
    "- The comment with id 6 is a comment on a deleted post with id 7 so we ignored it."
   ]
  },
  {
   "cell_type": "code",
   "execution_count": 0,
   "metadata": {
    "application/vnd.databricks.v1+cell": {
     "cellMetadata": {},
     "inputWidgets": {},
     "nuid": "a073d765-b3a4-4bda-a02f-ac5e3671a222",
     "showTitle": false,
     "tableResultSettingsMap": {},
     "title": ""
    }
   },
   "outputs": [],
   "source": [
    "submissions_data_1241 = [\n",
    "    (1, None), (2, None), (1, None), (12, None),\n",
    "    (3, 1), (5, 2), (3, 1), (4, 1), (9, 1),\n",
    "    (10, 2), (6, 7)\n",
    "]\n",
    "\n",
    "submissions_columns_1241 = [\"sub_id\", \"parent_id\"]\n",
    "submissions_df_1241 = spark.createDataFrame(submissions_data_1241, submissions_columns_1241)\n",
    "submissions_df_1241.show()"
   ]
  }
 ],
 "metadata": {
  "application/vnd.databricks.v1+notebook": {
   "computePreferences": null,
   "dashboards": [],
   "environmentMetadata": {
    "base_environment": "",
    "environment_version": "1"
   },
   "inputWidgetPreferences": null,
   "language": "python",
   "notebookMetadata": {
    "pythonIndentUnit": 4
   },
   "notebookName": "1241. Number of Comments per Post(Easy)",
   "widgets": {}
  },
  "language_info": {
   "name": "python"
  }
 },
 "nbformat": 4,
 "nbformat_minor": 0
}
