{
 "cells": [
  {
   "cell_type": "markdown",
   "metadata": {
    "application/vnd.databricks.v1+cell": {
     "cellMetadata": {},
     "inputWidgets": {},
     "nuid": "4e9d71b1-88e9-445c-820a-b842e217a4e7",
     "showTitle": false,
     "tableResultSettingsMap": {},
     "title": ""
    }
   },
   "source": [
    "## Importing Libraries"
   ]
  },
  {
   "cell_type": "code",
   "execution_count": 0,
   "metadata": {
    "application/vnd.databricks.v1+cell": {
     "cellMetadata": {},
     "inputWidgets": {},
     "nuid": "e6624c4d-8cb8-4ac4-8c72-81d1b4ecdb57",
     "showTitle": false,
     "tableResultSettingsMap": {},
     "title": ""
    }
   },
   "outputs": [],
   "source": [
    "from pyspark.sql.functions import *\n",
    "from pyspark.sql.types import *\n",
    "from pyspark.sql.window import Window"
   ]
  },
  {
   "cell_type": "markdown",
   "metadata": {
    "application/vnd.databricks.v1+cell": {
     "cellMetadata": {},
     "inputWidgets": {},
     "nuid": "c3788fe5-f4c9-420f-ad72-ec1a39310a2a",
     "showTitle": false,
     "tableResultSettingsMap": {},
     "title": ""
    }
   },
   "source": [
    "**2991. Top Three Wineries (Hard)**\n",
    "\n",
    "**Table: Wineries**\n",
    "\n",
    "| Column Name | Type     |\n",
    "|-------------|----------|\n",
    "| id          | int      |\n",
    "| country     | varchar  |\n",
    "| points      | int      |\n",
    "| winery      | varchar  |\n",
    "\n",
    "id is column of unique values for this table.\n",
    "This table contains id, country, points, and winery.\n",
    "\n",
    "**Write a solution to find the top three wineries in each country based on their total points. If multiple wineries have the same total points, order them by winery name in ascending order. If there's no second winery, output 'No second winery,' and if there's no third winery, output 'No third winery.'**\n",
    "\n",
    "Return the result table ordered by country in ascending order.\n",
    "\n",
    "The result format is in the following example.\n",
    "\n",
    "**Example 1:**\n",
    "\n",
    "**Input:** \n",
    "**Wineries table:**\n",
    "\n",
    "| id  | country   | points | winery          | \n",
    "|-----|-----------|--------|-----------------|\n",
    "| 103 | Australia | 84     | WhisperingPines | \n",
    "| 737 | Australia | 85     | GrapesGalore    |    \n",
    "| 848 | Australia | 100    | HarmonyHill     | \n",
    "| 222 | Hungary   | 60     | MoonlitCellars  | \n",
    "| 116 | USA       | 47     | RoyalVines      | \n",
    "| 124 | USA       | 45     | Eagle'sNest     | \n",
    "| 648 | India     | 69     | SunsetVines     | \n",
    "| 894 | USA       | 39     | RoyalVines      |  \n",
    "| 677 | USA       | 9      | PacificCrest    |  \n",
    "\n",
    "**Output:**\n",
    "| country   | top_winery          | second_winery     | third_winery         |\n",
    "|-----------|---------------------|-------------------|----------------------|\n",
    "| Australia | HarmonyHill (100)   | GrapesGalore (85) | WhisperingPines (84) |\n",
    "| Hungary   | MoonlitCellars (60) | No second winery  | No third winery      | \n",
    "| India     | SunsetVines (69)    | No second winery  | No third winery      |  \n",
    "| USA       | RoyalVines (86)     | Eagle'sNest (45)  | PacificCrest (9)     | \n",
    "\n",
    "**Explanation**\n",
    "\n",
    "- For Australia\n",
    "  - HarmonyHill Winery accumulates the highest score of 100 points in Australia.\n",
    "  - GrapesGalore Winery has a total of 85 points, securing the second-highest position in Australia.\n",
    "  - WhisperingPines Winery has a total of 80 points, ranking as the third-highest.\n",
    "- For Hungary\n",
    "  - MoonlitCellars is the sole winery, accruing 60 points, automatically making it the highest. There is no second or third winery.\n",
    "- For India\n",
    "  - SunsetVines is the sole winery, earning 69 points, making it the top winery. There is no second or third winery.\n",
    "- For the USA\n",
    "  - RoyalVines Wines accumulates a total of 47 + 39 = 86 points, claiming the highest position in the USA.\n",
    "  - Eagle'sNest has a total of 45 points, securing the second-highest position in the USA.\n",
    "  - PacificCrest accumulates 9 points, ranking as the third-highest winery in the USA\n",
    "\n",
    "Output table is ordered by country in ascending order."
   ]
  },
  {
   "cell_type": "code",
   "execution_count": 0,
   "metadata": {
    "application/vnd.databricks.v1+cell": {
     "cellMetadata": {},
     "inputWidgets": {},
     "nuid": "137536ea-9bec-4171-8dc2-4bf8b0d771b4",
     "showTitle": false,
     "tableResultSettingsMap": {},
     "title": ""
    }
   },
   "outputs": [],
   "source": [
    "wineries_data_2991 = [\n",
    "    (103, \"Australia\", 84, \"WhisperingPines\"),\n",
    "    (737, \"Australia\", 85, \"GrapesGalore\"),\n",
    "    (848, \"Australia\", 100, \"HarmonyHill\"),\n",
    "    (222, \"Hungary\", 60, \"MoonlitCellars\"),\n",
    "    (116, \"USA\", 47, \"RoyalVines\"),\n",
    "    (124, \"USA\", 45, \"Eagle'sNest\"),\n",
    "    (648, \"India\", 69, \"SunsetVines\"),\n",
    "    (894, \"USA\", 39, \"RoyalVines\"),\n",
    "    (677, \"USA\", 9, \"PacificCrest\")\n",
    "]\n",
    "\n",
    "wineries_columns_2991 = [\"id\", \"country\", \"points\", \"winery\"]\n",
    "wineries_df_2991 = spark.createDataFrame(wineries_data_2991, wineries_columns_2991)\n",
    "wineries_df_2991.show()\n"
   ]
  }
 ],
 "metadata": {
  "application/vnd.databricks.v1+notebook": {
   "computePreferences": null,
   "dashboards": [],
   "environmentMetadata": {
    "base_environment": "",
    "environment_version": "1"
   },
   "inputWidgetPreferences": null,
   "language": "python",
   "notebookMetadata": {
    "pythonIndentUnit": 4
   },
   "notebookName": "2991. Top Three Wineries (Hard)",
   "widgets": {}
  },
  "language_info": {
   "name": "python"
  }
 },
 "nbformat": 4,
 "nbformat_minor": 0
}
