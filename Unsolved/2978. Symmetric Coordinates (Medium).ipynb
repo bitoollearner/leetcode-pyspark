{
 "cells": [
  {
   "cell_type": "markdown",
   "metadata": {
    "application/vnd.databricks.v1+cell": {
     "cellMetadata": {},
     "inputWidgets": {},
     "nuid": "4e9d71b1-88e9-445c-820a-b842e217a4e7",
     "showTitle": false,
     "tableResultSettingsMap": {},
     "title": ""
    }
   },
   "source": [
    "## Importing Libraries"
   ]
  },
  {
   "cell_type": "code",
   "execution_count": 0,
   "metadata": {
    "application/vnd.databricks.v1+cell": {
     "cellMetadata": {},
     "inputWidgets": {},
     "nuid": "e6624c4d-8cb8-4ac4-8c72-81d1b4ecdb57",
     "showTitle": false,
     "tableResultSettingsMap": {},
     "title": ""
    }
   },
   "outputs": [],
   "source": [
    "from pyspark.sql.functions import *\n",
    "from pyspark.sql.types import *\n",
    "from pyspark.sql.window import Window"
   ]
  },
  {
   "cell_type": "markdown",
   "metadata": {
    "application/vnd.databricks.v1+cell": {
     "cellMetadata": {},
     "inputWidgets": {},
     "nuid": "c3788fe5-f4c9-420f-ad72-ec1a39310a2a",
     "showTitle": false,
     "tableResultSettingsMap": {},
     "title": ""
    }
   },
   "source": [
    "**2978. Symmetric Coordinates (Medium)**\n",
    "\n",
    "**Table: Coordinates**\n",
    "\n",
    "| Column Name | Type |\n",
    "|-------------|------|\n",
    "| X           | int  |\n",
    "| Y           | int  |\n",
    "\n",
    "Each row includes X and Y, where both are integers. Table may contain duplicate values.\n",
    "Two coordindates (X1, Y1) and (X2, Y2) are said to be symmetric coordintes if X1 == Y2 and X2 == Y1.\n",
    "\n",
    "**Write a solution that outputs, among all these symmetric coordintes, only those unique coordinates that satisfy the condition X1 <= Y1.**\n",
    "\n",
    "Return the result table ordered by X and Y (respectively) in ascending order.\n",
    "\n",
    "The result format is in the following example.\n",
    "\n",
    "**Example 1:**\n",
    "\n",
    "**Input:** \n",
    "**Coordinates table:**\n",
    "\n",
    "| X  | Y  |\n",
    "|----|----|\n",
    "| 20 | 20 |\n",
    "| 20 | 20 |\n",
    "| 20 | 21 |\n",
    "| 23 | 22 |\n",
    "| 22 | 23 |\n",
    "| 21 | 20 |\n",
    "\n",
    "**Output:** \n",
    "| x  | y  |\n",
    "|----|----|\n",
    "| 20 | 20 |\n",
    "| 20 | 21 |\n",
    "| 22 | 23 |\n",
    "\n",
    "**Explanation:**\n",
    "\n",
    "- (20, 20) and (20, 20) are symmetric coordinates because, X1 == Y2 and X2 == Y1. This results in displaying (20, 20) as a distinctive coordinates.\n",
    "- (20, 21) and (21, 20) are symmetric coordinates because, X1 == Y2 and X2 == Y1. However, only (20, 21) will be displayed because X1 <= Y1.\n",
    "- (23, 22) and (22, 23) are symmetric coordinates because, X1 == Y2 and X2 == Y1. However, only (22, 23) will be displayed because X1 <= Y1.\n",
    "\n",
    "The output table is sorted by X and Y in ascending order."
   ]
  },
  {
   "cell_type": "code",
   "execution_count": 0,
   "metadata": {
    "application/vnd.databricks.v1+cell": {
     "cellMetadata": {},
     "inputWidgets": {},
     "nuid": "137536ea-9bec-4171-8dc2-4bf8b0d771b4",
     "showTitle": false,
     "tableResultSettingsMap": {},
     "title": ""
    }
   },
   "outputs": [],
   "source": [
    "coordinates_data_2978 = [(20, 20), (20, 20), (20, 21), (23, 22), (22, 23), (21, 20)]\n",
    "\n",
    "coordinates_columns_2978 = [\"X\", \"Y\"]\n",
    "coordinates_df_2978 = spark.createDataFrame(coordinates_data_2978, coordinates_columns_2978)\n",
    "coordinates_df_2978.show()\n"
   ]
  }
 ],
 "metadata": {
  "application/vnd.databricks.v1+notebook": {
   "computePreferences": null,
   "dashboards": [],
   "environmentMetadata": {
    "base_environment": "",
    "environment_version": "1"
   },
   "inputWidgetPreferences": null,
   "language": "python",
   "notebookMetadata": {
    "pythonIndentUnit": 4
   },
   "notebookName": "2978. Symmetric Coordinates (Medium)",
   "widgets": {}
  },
  "language_info": {
   "name": "python"
  }
 },
 "nbformat": 4,
 "nbformat_minor": 0
}
