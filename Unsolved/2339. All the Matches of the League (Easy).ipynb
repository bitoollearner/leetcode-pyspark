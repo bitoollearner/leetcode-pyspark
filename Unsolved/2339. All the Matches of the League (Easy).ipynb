{
 "cells": [
  {
   "cell_type": "markdown",
   "metadata": {
    "application/vnd.databricks.v1+cell": {
     "cellMetadata": {},
     "inputWidgets": {},
     "nuid": "4e9d71b1-88e9-445c-820a-b842e217a4e7",
     "showTitle": false,
     "tableResultSettingsMap": {},
     "title": ""
    }
   },
   "source": [
    "## Importing Libraries"
   ]
  },
  {
   "cell_type": "code",
   "execution_count": 0,
   "metadata": {
    "application/vnd.databricks.v1+cell": {
     "cellMetadata": {},
     "inputWidgets": {},
     "nuid": "e6624c4d-8cb8-4ac4-8c72-81d1b4ecdb57",
     "showTitle": false,
     "tableResultSettingsMap": {},
     "title": ""
    }
   },
   "outputs": [],
   "source": [
    "from pyspark.sql.functions import *\n",
    "from pyspark.sql.types import *\n",
    "from pyspark.sql.window import Window"
   ]
  },
  {
   "cell_type": "markdown",
   "metadata": {
    "application/vnd.databricks.v1+cell": {
     "cellMetadata": {},
     "inputWidgets": {},
     "nuid": "c3788fe5-f4c9-420f-ad72-ec1a39310a2a",
     "showTitle": false,
     "tableResultSettingsMap": {},
     "title": ""
    }
   },
   "source": [
    "**2339. All the Matches of the League (Easy)**\n",
    "\n",
    "**Table: Teams**\n",
    "\n",
    "| Column Name | Type    |\n",
    "|-------------|---------|\n",
    "| team_name   | varchar |\n",
    "\n",
    "team_name is the column with unique values of this table.\n",
    "Each row of this table shows the name of a team.\n",
    " \n",
    "**Write a solution to report all the possible matches of the league. Note that every two teams play two matches with each other, with one team being the home_team once and the other time being the away_team.**\n",
    "\n",
    "Return the result table in any order.\n",
    "\n",
    "The result format is in the following example.\n",
    "\n",
    "**Example 1:**\n",
    "\n",
    "**Input:** \n",
    "\n",
    "**Teams table:**\n",
    "\n",
    "| team_name   |\n",
    "|-------------|\n",
    "| Leetcode FC |\n",
    "| Ahly SC     |\n",
    "| Real Madrid |\n",
    "\n",
    "**Output:** \n",
    "\n",
    "| home_team   | away_team   |\n",
    "|-------------|-------------|\n",
    "| Real Madrid | Leetcode FC |\n",
    "| Real Madrid | Ahly SC     |\n",
    "| Leetcode FC | Real Madrid |\n",
    "| Leetcode FC | Ahly SC     |\n",
    "| Ahly SC     | Real Madrid |\n",
    "| Ahly SC     | Leetcode FC |\n",
    "\n",
    "**Explanation:** All the matches of the league are shown in the table."
   ]
  },
  {
   "cell_type": "code",
   "execution_count": 0,
   "metadata": {
    "application/vnd.databricks.v1+cell": {
     "cellMetadata": {},
     "inputWidgets": {},
     "nuid": "137536ea-9bec-4171-8dc2-4bf8b0d771b4",
     "showTitle": false,
     "tableResultSettingsMap": {},
     "title": ""
    }
   },
   "outputs": [],
   "source": [
    "teams_data_2339 = [(\"Leetcode FC\",), (\"Ahly SC\",), (\"Real Madrid\",)]\n",
    "\n",
    "teams_df_2339 = spark.createDataFrame(teams_data_2339, [\"team_name\"])\n",
    "teams_df_2339.show()"
   ]
  }
 ],
 "metadata": {
  "application/vnd.databricks.v1+notebook": {
   "computePreferences": null,
   "dashboards": [],
   "environmentMetadata": {
    "base_environment": "",
    "environment_version": "1"
   },
   "inputWidgetPreferences": null,
   "language": "python",
   "notebookMetadata": {
    "pythonIndentUnit": 4
   },
   "notebookName": "2339. All the Matches of the League (Easy)",
   "widgets": {}
  }
 },
 "nbformat": 4,
 "nbformat_minor": 0
}