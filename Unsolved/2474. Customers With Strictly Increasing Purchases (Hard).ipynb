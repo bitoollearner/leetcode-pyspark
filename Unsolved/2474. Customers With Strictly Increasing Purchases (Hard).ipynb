{
 "cells": [
  {
   "cell_type": "markdown",
   "metadata": {
    "application/vnd.databricks.v1+cell": {
     "cellMetadata": {},
     "inputWidgets": {},
     "nuid": "4e9d71b1-88e9-445c-820a-b842e217a4e7",
     "showTitle": false,
     "tableResultSettingsMap": {},
     "title": ""
    }
   },
   "source": [
    "## Importing Libraries"
   ]
  },
  {
   "cell_type": "code",
   "execution_count": 0,
   "metadata": {
    "application/vnd.databricks.v1+cell": {
     "cellMetadata": {},
     "inputWidgets": {},
     "nuid": "e6624c4d-8cb8-4ac4-8c72-81d1b4ecdb57",
     "showTitle": false,
     "tableResultSettingsMap": {},
     "title": ""
    }
   },
   "outputs": [],
   "source": [
    "from pyspark.sql.functions import *\n",
    "from pyspark.sql.types import *\n",
    "from pyspark.sql.window import Window"
   ]
  },
  {
   "cell_type": "markdown",
   "metadata": {
    "application/vnd.databricks.v1+cell": {
     "cellMetadata": {},
     "inputWidgets": {},
     "nuid": "c3788fe5-f4c9-420f-ad72-ec1a39310a2a",
     "showTitle": false,
     "tableResultSettingsMap": {},
     "title": ""
    }
   },
   "source": [
    "**2474. Customers With Strictly Increasing Purchases (Hard)**\n",
    "\n",
    "**Table: Orders**\n",
    "\n",
    "| Column Name  | Type |\n",
    "|--------------|------|\n",
    "| order_id     | int  |\n",
    "| customer_id  | int  |\n",
    "| order_date   | date |\n",
    "| price        | int  |\n",
    "\n",
    "order_id is the column with unique values for this table.\n",
    "Each row contains the id of an order, the id of customer that ordered it, the date of the order, and its price.\n",
    " \n",
    "**Write a solution to report the IDs of the customers with the total purchases strictly increasing yearly.**\n",
    "\n",
    "The total purchases of a customer in one year is the sum of the prices of their orders in that year. If for some year the customer did not make any order, we consider the total purchases 0.\n",
    "The first year to consider for each customer is the year of their first order.\n",
    "The last year to consider for each customer is the year of their last order.\n",
    "Return the result table in any order.\n",
    "\n",
    "The result format is in the following example.\n",
    "\n",
    "**Example 1:**\n",
    "\n",
    "**Input:** \n",
    "\n",
    "**Orders table:**\n",
    "\n",
    "| order_id | customer_id | order_date | price |\n",
    "|----------|-------------|------------|-------|\n",
    "| 1        | 1           | 2019-07-01 | 1100  |\n",
    "| 2        | 1           | 2019-11-01 | 1200  |\n",
    "| 3        | 1           | 2020-05-26 | 3000  |\n",
    "| 4        | 1           | 2021-08-31 | 3100  |\n",
    "| 5        | 1           | 2022-12-07 | 4700  |\n",
    "| 6        | 2           | 2015-01-01 | 700   |\n",
    "| 7        | 2           | 2017-11-07 | 1000  |\n",
    "| 8        | 3           | 2017-01-01 | 900   |\n",
    "| 9        | 3           | 2018-11-07 | 900   |\n",
    "\n",
    "**Output:** \n",
    "| customer_id |\n",
    "|-------------|\n",
    "| 1           |\n",
    "\n",
    "**Explanation:** \n",
    "- Customer 1: The first year is 2019 and the last year is 2022\n",
    "  - 2019: 1100 + 1200 = 2300\n",
    "  - 2020: 3000\n",
    "  - 2021: 3100\n",
    "  - 2022: 4700\n",
    "\n",
    "  We can see that the total purchases are strictly increasing yearly, so we include customer 1 in the answer.\n",
    "\n",
    "- Customer 2: The first year is 2015 and the last year is 2017\n",
    "  - 2015: 700\n",
    "  - 2016: 0\n",
    "  - 2017: 1000\n",
    "\n",
    "  We do not include customer 2 in the answer because the total purchases are not strictly increasing. Note that customer 2 did not make any purchases in 2016.\n",
    "\n",
    "- Customer 3: The first year is 2017, and the last year is 2018\n",
    "  - 2017: 900\n",
    "  - 2018: 900\n",
    "\n",
    " We do not include customer 3 in the answer because the total purchases are not strictly increasing."
   ]
  },
  {
   "cell_type": "code",
   "execution_count": 0,
   "metadata": {
    "application/vnd.databricks.v1+cell": {
     "cellMetadata": {},
     "inputWidgets": {},
     "nuid": "137536ea-9bec-4171-8dc2-4bf8b0d771b4",
     "showTitle": false,
     "tableResultSettingsMap": {},
     "title": ""
    }
   },
   "outputs": [],
   "source": [
    "orders_data_2474 = [\n",
    "    (1, 1, \"2019-07-01\", 1100),\n",
    "    (2, 1, \"2019-11-01\", 1200),\n",
    "    (3, 1, \"2020-05-26\", 3000),\n",
    "    (4, 1, \"2021-08-31\", 3100),\n",
    "    (5, 1, \"2022-12-07\", 4700),\n",
    "    (6, 2, \"2015-01-01\", 700),\n",
    "    (7, 2, \"2017-11-07\", 1000),\n",
    "    (8, 3, \"2017-01-01\", 900),\n",
    "    (9, 3, \"2018-11-07\", 900)\n",
    "]\n",
    "\n",
    "orders_columns_2474 = [\"order_id\", \"customer_id\", \"order_date\", \"price\"]\n",
    "orders_df_2474 = spark.createDataFrame(orders_data_2474, orders_columns_2474)\n",
    "orders_df_2474.show()\n"
   ]
  }
 ],
 "metadata": {
  "application/vnd.databricks.v1+notebook": {
   "computePreferences": null,
   "dashboards": [],
   "environmentMetadata": {
    "base_environment": "",
    "environment_version": "1"
   },
   "inputWidgetPreferences": null,
   "language": "python",
   "notebookMetadata": {
    "pythonIndentUnit": 4
   },
   "notebookName": "2474. Customers With Strictly Increasing Purchases (Hard)",
   "widgets": {}
  }
 },
 "nbformat": 4,
 "nbformat_minor": 0
}