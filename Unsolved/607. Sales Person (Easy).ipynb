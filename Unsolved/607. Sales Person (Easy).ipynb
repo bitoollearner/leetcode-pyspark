{
 "cells": [
  {
   "cell_type": "markdown",
   "metadata": {
    "application/vnd.databricks.v1+cell": {
     "cellMetadata": {},
     "inputWidgets": {},
     "nuid": "5ab27f1b-7c08-44cb-8766-b16c3470b90d",
     "showTitle": false,
     "tableResultSettingsMap": {},
     "title": ""
    }
   },
   "source": [
    "## Importing Libraries"
   ]
  },
  {
   "cell_type": "code",
   "execution_count": 0,
   "metadata": {
    "application/vnd.databricks.v1+cell": {
     "cellMetadata": {},
     "inputWidgets": {},
     "nuid": "0d316502-e6b4-4432-b3fd-6159096e4951",
     "showTitle": false,
     "tableResultSettingsMap": {},
     "title": ""
    }
   },
   "outputs": [],
   "source": [
    "from pyspark.sql.functions import *\n",
    "from pyspark.sql.types import *\n",
    "from pyspark.sql.window import Window"
   ]
  },
  {
   "cell_type": "markdown",
   "metadata": {
    "application/vnd.databricks.v1+cell": {
     "cellMetadata": {},
     "inputWidgets": {},
     "nuid": "2e4d3e31-be24-427a-bc7e-362b6765c4fa",
     "showTitle": false,
     "tableResultSettingsMap": {},
     "title": ""
    }
   },
   "source": [
    "**607. Sales Person (Easy)**\n",
    "\n",
    "**Table: SalesPerson**\n",
    "| Column Name     | Type    |\n",
    "|-----------------|---------|\n",
    "| sales_id        | int     |\n",
    "| name            | varchar |\n",
    "| salary          | int     |\n",
    "| commission_rate | int     |\n",
    "| hire_date       | date    |\n",
    "\n",
    "sales_id is the primary key (column with unique values) for this table.\n",
    "Each row of this table indicates the name and the ID of a salesperson alongside their salary, commission rate, and hire date.\n",
    " \n",
    "**Table: Company**\n",
    "| Column Name | Type    |\n",
    "|-------------|---------|\n",
    "| com_id      | int     |\n",
    "| name        | varchar |\n",
    "| city        | varchar |\n",
    "\n",
    "com_id is the primary key (column with unique values) for this table.\n",
    "Each row of this table indicates the name and the ID of a company and the city in which the company is located.\n",
    " \n",
    "**Table: Orders**\n",
    "| Column Name | Type |\n",
    "|-------------|------|\n",
    "| order_id    | int  |\n",
    "| order_date  | date |\n",
    "| com_id      | int  |\n",
    "| sales_id    | int  |\n",
    "| amount      | int  |\n",
    "\n",
    "order_id is the primary key (column with unique values) for this table.\n",
    "com_id is a foreign key (reference column) to com_id from the Company table.\n",
    "sales_id is a foreign key (reference column) to sales_id from the SalesPerson table.\n",
    "Each row of this table contains information about one order. This includes the ID of the company, the ID of the salesperson, the date of the order, and the amount paid.\n",
    " \n",
    "**Write a solution to find the names of all the salespersons who did not have any orders related to the company with the name \"RED\".**\n",
    "\n",
    "Return the result table in any order.\n",
    "\n",
    "The result format is in the following example.\n",
    "\n",
    "**Example 1:**\n",
    "\n",
    "**Input:**\n",
    "**SalesPerson table:**\n",
    "| sales_id | name | salary | commission_rate | hire_date  |\n",
    "|----------|------|--------|-----------------|------------|\n",
    "| 1        | John | 100000 | 6               | 4/1/2006   |\n",
    "| 2        | Amy  | 12000  | 5               | 5/1/2010   |\n",
    "| 3        | Mark | 65000  | 12              | 12/25/2008 |\n",
    "| 4        | Pam  | 25000  | 25              | 1/1/2005   |\n",
    "| 5        | Alex | 5000   | 10              | 2/3/2007   |\n",
    "\n",
    "**Company table:**\n",
    "| com_id | name   | city     |\n",
    "|--------|--------|----------|\n",
    "| 1      | RED    | Boston   |\n",
    "| 2      | ORANGE | New York |\n",
    "| 3      | YELLOW | Boston   |\n",
    "| 4      | GREEN  | Austin   |\n",
    "\n",
    "**Orders table:**\n",
    "| order_id | order_date | com_id | sales_id | amount |\n",
    "|----------|------------|--------|----------|--------|\n",
    "| 1        | 1/1/2014   | 3      | 4        | 10000  |\n",
    "| 2        | 2/1/2014   | 4      | 5        | 5000   |\n",
    "| 3        | 3/1/2014   | 1      | 1        | 50000  |\n",
    "| 4        | 4/1/2014   | 1      | 4        | 25000  |\n",
    "\n",
    "**Output:**\n",
    "| name |\n",
    "|------|\n",
    "| Amy  |\n",
    "| Mark |\n",
    "| Alex |\n",
    "\n",
    "**Explanation:**\n",
    "According to orders 3 and 4 in the Orders table, it is easy to tell that only salesperson John and Pam have sales to company RED, so we report all the other names in the table salesperson."
   ]
  },
  {
   "cell_type": "code",
   "execution_count": 0,
   "metadata": {
    "application/vnd.databricks.v1+cell": {
     "cellMetadata": {},
     "inputWidgets": {},
     "nuid": "f6f11a82-8828-41ca-828a-e88f8586b97a",
     "showTitle": false,
     "tableResultSettingsMap": {},
     "title": ""
    }
   },
   "outputs": [],
   "source": [
    "sales_data_607 = [\n",
    "    (1, \"John\", 100000, 6, \"2006-04-01\"),\n",
    "    (2, \"Amy\", 12000, 5, \"2010-05-01\"),\n",
    "    (3, \"Mark\", 65000, 12, \"2008-12-25\"),\n",
    "    (4, \"Pam\", 25000, 25, \"2005-01-01\"),\n",
    "    (5, \"Alex\", 5000, 10, \"2007-02-03\")\n",
    "]\n",
    "\n",
    "sales_columns_607 = [\"sales_id\", \"name\", \"salary\", \"commission_rate\", \"hire_date\"]\n",
    "sales_df_607 = spark.createDataFrame(sales_data_607, sales_columns_607)\n",
    "sales_df_607.show()\n",
    "\n",
    "company_data_607 = [\n",
    "    (1, \"RED\", \"Boston\"),\n",
    "    (2, \"ORANGE\", \"New York\"),\n",
    "    (3, \"YELLOW\", \"Boston\"),\n",
    "    (4, \"GREEN\", \"Austin\")\n",
    "]\n",
    "\n",
    "company_columns_607 = [\"com_id\", \"name\", \"city\"]\n",
    "company_df_607 = spark.createDataFrame(company_data_607, company_columns_607)\n",
    "company_df_607.show()\n",
    "\n",
    "orders_data_607 = [\n",
    "    (1, \"2014-01-01\", 3, 4, 10000),\n",
    "    (2, \"2014-02-01\", 4, 5, 5000),\n",
    "    (3, \"2014-03-01\", 1, 1, 50000),\n",
    "    (4, \"2014-04-01\", 1, 4, 25000)\n",
    "]\n",
    "\n",
    "orders_columns_607 = [\"order_id\", \"order_date\", \"com_id\", \"sales_id\", \"amount\"]\n",
    "orders_df_607 = spark.createDataFrame(orders_data_607, orders_columns_607)\n",
    "orders_df_607.show()\n"
   ]
  }
 ],
 "metadata": {
  "application/vnd.databricks.v1+notebook": {
   "computePreferences": null,
   "dashboards": [],
   "environmentMetadata": {
    "base_environment": "",
    "environment_version": "1"
   },
   "inputWidgetPreferences": null,
   "language": "python",
   "notebookMetadata": {
    "pythonIndentUnit": 4
   },
   "notebookName": "607. Sales Person (Easy)",
   "widgets": {}
  },
  "language_info": {
   "name": "python"
  }
 },
 "nbformat": 4,
 "nbformat_minor": 0
}
