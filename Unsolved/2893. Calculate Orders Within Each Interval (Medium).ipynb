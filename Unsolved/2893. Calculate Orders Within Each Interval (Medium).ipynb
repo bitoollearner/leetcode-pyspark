{
 "cells": [
  {
   "cell_type": "markdown",
   "metadata": {
    "application/vnd.databricks.v1+cell": {
     "cellMetadata": {},
     "inputWidgets": {},
     "nuid": "4e9d71b1-88e9-445c-820a-b842e217a4e7",
     "showTitle": false,
     "tableResultSettingsMap": {},
     "title": ""
    }
   },
   "source": [
    "## Importing Libraries"
   ]
  },
  {
   "cell_type": "code",
   "execution_count": 0,
   "metadata": {
    "application/vnd.databricks.v1+cell": {
     "cellMetadata": {},
     "inputWidgets": {},
     "nuid": "e6624c4d-8cb8-4ac4-8c72-81d1b4ecdb57",
     "showTitle": false,
     "tableResultSettingsMap": {},
     "title": ""
    }
   },
   "outputs": [],
   "source": [
    "from pyspark.sql.functions import *\n",
    "from pyspark.sql.types import *\n",
    "from pyspark.sql.window import Window"
   ]
  },
  {
   "cell_type": "markdown",
   "metadata": {
    "application/vnd.databricks.v1+cell": {
     "cellMetadata": {},
     "inputWidgets": {},
     "nuid": "c3788fe5-f4c9-420f-ad72-ec1a39310a2a",
     "showTitle": false,
     "tableResultSettingsMap": {},
     "title": ""
    }
   },
   "source": [
    "**2893. Calculate Orders Within Each Interval (Medium)**\n",
    "\n",
    "**Table: Orders**\n",
    "\n",
    "| Column Name | Type | \n",
    "|-------------|------| \n",
    "| minute      | int  | \n",
    "| order_count | int  |\n",
    "\n",
    "minute is the primary key for this table.\n",
    "Each row of this table contains the minute and number of orders received during that specific minute. The total number of rows will be a multiple of 6.\n",
    "\n",
    "**Write a query to calculate total orders within each interval. Each interval is defined as a combination of 6 minutes.**\n",
    "\n",
    "Minutes 1 to 6 fall within interval 1, while minutes 7 to 12 belong to interval 2, and so forth.\n",
    "Return the result table ordered by interval_no in ascending order.\n",
    "\n",
    "The result format is in the following example.\n",
    "\n",
    "**Example 1:**\n",
    "\n",
    "**Input:** \n",
    "**Orders table:**\n",
    "| minute | order_count | \n",
    "|--------|-------------|\n",
    "| 1      | 0           |\n",
    "| 2      | 2           | \n",
    "| 3      | 4           | \n",
    "| 4      | 6           | \n",
    "| 5      | 1           | \n",
    "| 6      | 4           | \n",
    "| 7      | 1           | \n",
    "| 8      | 2           | \n",
    "| 9      | 4           | \n",
    "| 10     | 1           | \n",
    "| 11     | 4           | \n",
    "| 12     | 6           | \n",
    "\n",
    "**Output:** \n",
    "| interval_no | total_orders | \n",
    "|-------------|--------------|\n",
    "| 1           | 17           | \n",
    "| 2           | 18           |    \n",
    "\n",
    "**Explanation:** \n",
    "- Interval number 1 comprises minutes from 1 to 6. The total orders in these six minutes are (0 + 2 + 4 + 6 + 1 + 4) = 17.\n",
    "- Interval number 2 comprises minutes from 7 to 12. The total orders in these six minutes are (1 + 2 + 4 + 1 + 4 + 6) = 18.\n",
    "\n",
    "Returning table orderd by interval_no in ascending order."
   ]
  },
  {
   "cell_type": "code",
   "execution_count": 0,
   "metadata": {
    "application/vnd.databricks.v1+cell": {
     "cellMetadata": {},
     "inputWidgets": {},
     "nuid": "137536ea-9bec-4171-8dc2-4bf8b0d771b4",
     "showTitle": false,
     "tableResultSettingsMap": {},
     "title": ""
    }
   },
   "outputs": [],
   "source": [
    "orders_data_2893 = [\n",
    "    (1, 0), (2, 2), (3, 4), (4, 6), (5, 1), (6, 4), \n",
    "    (7, 1), (8, 2), (9, 4), (10, 1), (11, 4), (12, 6)\n",
    "]\n",
    "\n",
    "orders_columns_2893 = [\"minute\", \"order_count\"]\n",
    "orders_df_2893 = spark.createDataFrame(orders_data_2893, orders_columns_2893)\n",
    "orders_df_2893.show()"
   ]
  }
 ],
 "metadata": {
  "application/vnd.databricks.v1+notebook": {
   "computePreferences": null,
   "dashboards": [],
   "environmentMetadata": {
    "base_environment": "",
    "environment_version": "1"
   },
   "inputWidgetPreferences": null,
   "language": "python",
   "notebookMetadata": {
    "pythonIndentUnit": 4
   },
   "notebookName": "2893. Calculate Orders Within Each Interval (Medium)",
   "widgets": {}
  },
  "language_info": {
   "name": "python"
  }
 },
 "nbformat": 4,
 "nbformat_minor": 0
}
