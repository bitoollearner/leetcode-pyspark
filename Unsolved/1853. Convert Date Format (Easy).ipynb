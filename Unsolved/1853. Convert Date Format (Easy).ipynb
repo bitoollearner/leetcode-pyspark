{
 "cells": [
  {
   "cell_type": "markdown",
   "metadata": {
    "application/vnd.databricks.v1+cell": {
     "cellMetadata": {},
     "inputWidgets": {},
     "nuid": "fadf709d-de3d-4bfc-b69f-3b489de68bef",
     "showTitle": false,
     "tableResultSettingsMap": {},
     "title": ""
    }
   },
   "source": [
    "## Importing Libraries"
   ]
  },
  {
   "cell_type": "code",
   "execution_count": 0,
   "metadata": {
    "application/vnd.databricks.v1+cell": {
     "cellMetadata": {},
     "inputWidgets": {},
     "nuid": "d4a1fef1-aa99-469c-b35f-9b3f3e81c9f7",
     "showTitle": false,
     "tableResultSettingsMap": {},
     "title": ""
    }
   },
   "outputs": [],
   "source": [
    "from pyspark.sql.functions import *\n",
    "from pyspark.sql.types import *\n",
    "from pyspark.sql.window import Window"
   ]
  },
  {
   "cell_type": "markdown",
   "metadata": {
    "application/vnd.databricks.v1+cell": {
     "cellMetadata": {},
     "inputWidgets": {},
     "nuid": "78daa073-80d8-4f7e-9cfa-10f6eb568909",
     "showTitle": false,
     "tableResultSettingsMap": {},
     "title": ""
    }
   },
   "source": [
    "**1853. Convert Date Format (Easy)**\n",
    "\n",
    "**Table: Days**\n",
    "\n",
    "| Column Name | Type |\n",
    "|-------------|------|\n",
    "| day         | date |\n",
    "\n",
    "day is the column with unique values for this table.\n",
    " \n",
    "**Write a solution to convert each date in Days into a string formatted as \"day_name, month_name day, year\".**\n",
    "\n",
    "Return the result table in any order.\n",
    "\n",
    "The result format is in the following example.\n",
    "\n",
    "**Example 1:**\n",
    "\n",
    "**Input:** \n",
    "\n",
    "**Days table:**\n",
    "\n",
    "| day        |\n",
    "|------------|\n",
    "| 2022-04-12 |\n",
    "| 2021-08-09 |\n",
    "| 2020-06-26 |\n",
    "\n",
    "**Output:** \n",
    "| day                     |\n",
    "|-------------------------|\n",
    "| Tuesday, April 12, 2022 |\n",
    "| Monday, August 9, 2021  |\n",
    "| Friday, June 26, 2020   |\n",
    "\n",
    "**Explanation:** Please note that the output is case-sensitive."
   ]
  },
  {
   "cell_type": "code",
   "execution_count": 0,
   "metadata": {
    "application/vnd.databricks.v1+cell": {
     "cellMetadata": {},
     "inputWidgets": {},
     "nuid": "7b78bc27-26cd-4523-8646-7369baf68fcb",
     "showTitle": false,
     "tableResultSettingsMap": {},
     "title": ""
    }
   },
   "outputs": [],
   "source": [
    "days_data_1853 = [\n",
    "    (\"2022-04-12\",),\n",
    "    (\"2021-08-09\",),\n",
    "    (\"2020-06-26\",),\n",
    "]\n",
    "\n",
    "days_columns_1853 = [\"day\"]\n",
    "days_df_1853 = spark.createDataFrame(days_data_1853, days_columns_1853)\n",
    "days_df_1853.show()"
   ]
  }
 ],
 "metadata": {
  "application/vnd.databricks.v1+notebook": {
   "computePreferences": null,
   "dashboards": [],
   "environmentMetadata": {
    "base_environment": "",
    "environment_version": "1"
   },
   "inputWidgetPreferences": null,
   "language": "python",
   "notebookMetadata": {
    "pythonIndentUnit": 4
   },
   "notebookName": "1853. Convert Date Format (Easy)",
   "widgets": {}
  },
  "language_info": {
   "name": "python"
  }
 },
 "nbformat": 4,
 "nbformat_minor": 0
}
