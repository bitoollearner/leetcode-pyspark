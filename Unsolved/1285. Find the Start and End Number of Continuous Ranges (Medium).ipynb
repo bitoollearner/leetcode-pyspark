{
 "cells": [
  {
   "cell_type": "markdown",
   "metadata": {
    "application/vnd.databricks.v1+cell": {
     "cellMetadata": {},
     "inputWidgets": {},
     "nuid": "82383caa-9b15-409a-9acb-968b851c477b",
     "showTitle": false,
     "tableResultSettingsMap": {},
     "title": ""
    }
   },
   "source": [
    "## Importing Libraries"
   ]
  },
  {
   "cell_type": "code",
   "execution_count": 0,
   "metadata": {
    "application/vnd.databricks.v1+cell": {
     "cellMetadata": {},
     "inputWidgets": {},
     "nuid": "83322872-9913-4063-98cf-4aaea5fd3337",
     "showTitle": false,
     "tableResultSettingsMap": {},
     "title": ""
    }
   },
   "outputs": [],
   "source": [
    "from pyspark.sql.functions import *\n",
    "from pyspark.sql.types import *\n",
    "from pyspark.sql.window import Window"
   ]
  },
  {
   "cell_type": "markdown",
   "metadata": {
    "application/vnd.databricks.v1+cell": {
     "cellMetadata": {},
     "inputWidgets": {},
     "nuid": "e475f002-2b95-4d27-958c-aeab86c066ed",
     "showTitle": false,
     "tableResultSettingsMap": {},
     "title": ""
    }
   },
   "source": [
    "\n",
    "**1285. Find the Start and End Number of Continuous Ranges (Medium)**\n",
    "\n",
    "**Table: Logs**\n",
    "\n",
    "| Column Name   | Type    |\n",
    "|---------------|---------|\n",
    "| log_id        | int     |\n",
    "\n",
    "log_id is the column of unique values for this table.\n",
    "Each row of this table contains the ID in a log Table.\n",
    " \n",
    "**Write a solution to find the start and end number of continuous ranges in the table Logs.**\n",
    "\n",
    "Return the result table ordered by start_id.\n",
    "\n",
    "The result format is in the following example.\n",
    "\n",
    "**Example 1:**\n",
    "\n",
    "**Input:** \n",
    "\n",
    "**Logs table:**\n",
    "\n",
    "| log_id     |\n",
    "|------------|\n",
    "| 1          |\n",
    "| 2          |\n",
    "| 3          |\n",
    "| 7          |\n",
    "| 8          |\n",
    "| 10         |\n",
    "\n",
    "**Output:** \n",
    "| start_id   | end_id       |\n",
    "|------------|--------------|\n",
    "| 1          | 3            |\n",
    "| 7          | 8            |\n",
    "| 10         | 10           |\n",
    "\n",
    "**Explanation:** \n",
    "\n",
    "The result table should contain all ranges in table Logs.\n",
    "- From 1 to 3 is contained in the table.\n",
    "- From 4 to 6 is missing in the table\n",
    "- From 7 to 8 is contained in the table.\n",
    "- Number 9 is missing from the table.\n",
    "- Number 10 is contained in the table."
   ]
  },
  {
   "cell_type": "code",
   "execution_count": 0,
   "metadata": {
    "application/vnd.databricks.v1+cell": {
     "cellMetadata": {},
     "inputWidgets": {},
     "nuid": "a073d765-b3a4-4bda-a02f-ac5e3671a222",
     "showTitle": false,
     "tableResultSettingsMap": {},
     "title": ""
    }
   },
   "outputs": [],
   "source": [
    "logs_data_1285 = [(1,), (2,), (3,), (7,), (8,), (10,)]\n",
    "\n",
    "logs_df_1285 = spark.createDataFrame(logs_data_1285, [\"log_id\"])\n",
    "logs_df_1285.show()"
   ]
  }
 ],
 "metadata": {
  "application/vnd.databricks.v1+notebook": {
   "computePreferences": null,
   "dashboards": [],
   "environmentMetadata": {
    "base_environment": "",
    "environment_version": "1"
   },
   "inputWidgetPreferences": null,
   "language": "python",
   "notebookMetadata": {
    "pythonIndentUnit": 4
   },
   "notebookName": "1285. Find the Start and End Number of Continuous Ranges (Medium)",
   "widgets": {}
  },
  "language_info": {
   "name": "python"
  }
 },
 "nbformat": 4,
 "nbformat_minor": 0
}
