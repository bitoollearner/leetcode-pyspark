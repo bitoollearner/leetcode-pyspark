{
 "cells": [
  {
   "cell_type": "markdown",
   "metadata": {
    "application/vnd.databricks.v1+cell": {
     "cellMetadata": {},
     "inputWidgets": {},
     "nuid": "4e9d71b1-88e9-445c-820a-b842e217a4e7",
     "showTitle": false,
     "tableResultSettingsMap": {},
     "title": ""
    }
   },
   "source": [
    "## Importing Libraries"
   ]
  },
  {
   "cell_type": "code",
   "execution_count": 0,
   "metadata": {
    "application/vnd.databricks.v1+cell": {
     "cellMetadata": {},
     "inputWidgets": {},
     "nuid": "e6624c4d-8cb8-4ac4-8c72-81d1b4ecdb57",
     "showTitle": false,
     "tableResultSettingsMap": {},
     "title": ""
    }
   },
   "outputs": [],
   "source": [
    "from pyspark.sql.functions import *\n",
    "from pyspark.sql.types import *\n",
    "from pyspark.sql.window import Window"
   ]
  },
  {
   "cell_type": "markdown",
   "metadata": {
    "application/vnd.databricks.v1+cell": {
     "cellMetadata": {},
     "inputWidgets": {},
     "nuid": "c3788fe5-f4c9-420f-ad72-ec1a39310a2a",
     "showTitle": false,
     "tableResultSettingsMap": {},
     "title": ""
    }
   },
   "source": [
    "**3052. Maximize Items (Hard)**\n",
    "\n",
    "**Table: Inventory**\n",
    "\n",
    "| Column Name    | Type    | \n",
    "|----------------|---------| \n",
    "| item_id        | int     | \n",
    "| item_type      | varchar |\n",
    "| item_category  | varchar |\n",
    "| square_footage | decimal |\n",
    "\n",
    "item_id is the column of unique values for this table.\n",
    "Each row includes item id, item type, item category and sqaure footage.\n",
    "\n",
    "Leetcode warehouse wants to maximize the number of items it can stock in a 500,000 square feet warehouse. It wants to stock as many prime items as possible, and afterwards use the remaining square footage to stock the most number of non-prime items.\n",
    "\n",
    "**Write a solution to find the number of prime and non-prime items that can be stored in the 500,000 square feet warehouse. Output the item type with prime_eligible followed by not_prime and the maximum number of items that can be stocked.**\n",
    "\n",
    "**Note:**\n",
    "- Item count must be a whole number (integer).\n",
    "- If the count for the not_prime category is 0, you should output 0 for that particular category.\n",
    "\n",
    "Return the result table ordered by item count in descending order.\n",
    "\n",
    "The result format is in the following example.\n",
    "\n",
    "**Example 1:**\n",
    "\n",
    "**Input:**\n",
    "\n",
    "**Inventory table:**\n",
    "\n",
    "| item_id | item_type      | item_category | square_footage | \n",
    "|---------|----------------|---------------|----------------|\n",
    "| 1374    | prime_eligible | Watches       | 68.00          | \n",
    "| 4245    | not_prime      | Art           | 26.40          | \n",
    "| 5743    | prime_eligible | Software      | 325.00         | \n",
    "| 8543    | not_prime      | Clothing      | 64.50          |  \n",
    "| 2556    | not_prime      | Shoes         | 15.00          |\n",
    "| 2452    | prime_eligible | Scientific    | 85.00          |\n",
    "| 3255    | not_prime      | Furniture     | 22.60          | \n",
    "| 1672    | prime_eligible | Beauty        | 8.50           |  \n",
    "| 4256    | prime_eligible | Furniture     | 55.50          |\n",
    "| 6325    | prime_eligible | Food          | 13.20          | \n",
    "\n",
    "**Output:**\n",
    "| item_type      | item_count  | \n",
    "|----------------|-------------|\n",
    "| prime_eligible | 5400        | \n",
    "| not_prime      | 8           | \n",
    "\n",
    "**Explanation:** \n",
    "- The prime-eligible category comprises a total of 6 items, amounting to a combined square footage of 555.20 (68 + 325 + 85 + 8.50 + 55.50 + 13.20). It is possible to store 900 combinations of these 6 items, totaling 5400 items and occupying 499,680 square footage.\n",
    "- In the not_prime category, there are a total of 4 items with a combined square footage of 128.50. After deducting the storage used by prime-eligible items (500,000 - 499,680 = 320), there is room for 2 combinations of non-prime items, accommodating a total of 8 non-prime items within the available 320 square footage.\n",
    "\n",
    "Output table is ordered by item count in descending order."
   ]
  },
  {
   "cell_type": "code",
   "execution_count": 0,
   "metadata": {
    "application/vnd.databricks.v1+cell": {
     "cellMetadata": {},
     "inputWidgets": {},
     "nuid": "137536ea-9bec-4171-8dc2-4bf8b0d771b4",
     "showTitle": false,
     "tableResultSettingsMap": {},
     "title": ""
    }
   },
   "outputs": [],
   "source": [
    "inventory_data_3052 = [\n",
    "    (1374, \"prime_eligible\", \"Watches\", 68.00),\n",
    "    (4245, \"not_prime\", \"Art\", 26.40),\n",
    "    (5743, \"prime_eligible\", \"Software\", 325.00),\n",
    "    (8543, \"not_prime\", \"Clothing\", 64.50),\n",
    "    (2556, \"not_prime\", \"Shoes\", 15.00),\n",
    "    (2452, \"prime_eligible\", \"Scientific\", 85.00),\n",
    "    (3255, \"not_prime\", \"Furniture\", 22.60),\n",
    "    (1672, \"prime_eligible\", \"Beauty\", 8.50),\n",
    "    (4256, \"prime_eligible\", \"Furniture\", 55.50),\n",
    "    (6325, \"prime_eligible\", \"Food\", 13.20),\n",
    "]\n",
    "\n",
    "inventory_columns_3052 = [\"item_id\", \"item_type\", \"item_category\", \"square_footage\"]\n",
    "inventory_df_3052 = spark.createDataFrame(inventory_data_3052, inventory_columns_3052)\n",
    "inventory_df_3052.show()"
   ]
  }
 ],
 "metadata": {
  "application/vnd.databricks.v1+notebook": {
   "computePreferences": null,
   "dashboards": [],
   "environmentMetadata": {
    "base_environment": "",
    "environment_version": "1"
   },
   "inputWidgetPreferences": null,
   "language": "python",
   "notebookMetadata": {
    "pythonIndentUnit": 4
   },
   "notebookName": "3052. Maximize Items (Hard)",
   "widgets": {}
  },
  "language_info": {
   "name": "python"
  }
 },
 "nbformat": 4,
 "nbformat_minor": 0
}
