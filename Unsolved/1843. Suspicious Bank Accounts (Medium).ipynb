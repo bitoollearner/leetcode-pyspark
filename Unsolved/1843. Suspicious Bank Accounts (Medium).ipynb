{
 "cells": [
  {
   "cell_type": "markdown",
   "metadata": {
    "application/vnd.databricks.v1+cell": {
     "cellMetadata": {},
     "inputWidgets": {},
     "nuid": "fadf709d-de3d-4bfc-b69f-3b489de68bef",
     "showTitle": false,
     "tableResultSettingsMap": {},
     "title": ""
    }
   },
   "source": [
    "## Importing Libraries"
   ]
  },
  {
   "cell_type": "code",
   "execution_count": 0,
   "metadata": {
    "application/vnd.databricks.v1+cell": {
     "cellMetadata": {},
     "inputWidgets": {},
     "nuid": "d4a1fef1-aa99-469c-b35f-9b3f3e81c9f7",
     "showTitle": false,
     "tableResultSettingsMap": {},
     "title": ""
    }
   },
   "outputs": [],
   "source": [
    "from pyspark.sql.functions import *\n",
    "from pyspark.sql.types import *\n",
    "from pyspark.sql.window import Window"
   ]
  },
  {
   "cell_type": "markdown",
   "metadata": {
    "application/vnd.databricks.v1+cell": {
     "cellMetadata": {},
     "inputWidgets": {},
     "nuid": "78daa073-80d8-4f7e-9cfa-10f6eb568909",
     "showTitle": false,
     "tableResultSettingsMap": {},
     "title": ""
    }
   },
   "source": [
    "**1843. Suspicious Bank Accounts (Medium)**\n",
    "\n",
    "**Table: Accounts**\n",
    "\n",
    "| Column Name    | Type |\n",
    "|----------------|------|\n",
    "| account_id     | int  |\n",
    "| max_income     | int  |\n",
    "\n",
    "account_id is the column with unique values for this table.\n",
    "Each row contains information about the maximum monthly income for one bank account.\n",
    " \n",
    "**Table: Transactions**\n",
    "\n",
    "| Column Name    | Type     |\n",
    "|----------------|----------|\n",
    "| transaction_id | int      |\n",
    "| account_id     | int      |\n",
    "| type           | ENUM     |\n",
    "| amount         | int      |\n",
    "| day            | datetime |\n",
    "\n",
    "transaction_id is the column with unique values for this table.\n",
    "Each row contains information about one transaction.\n",
    "type is ENUM (category) type of ('Creditor','Debtor') where 'Creditor' means the user deposited money into their account and 'Debtor' means the user withdrew money from their account.\n",
    "amount is the amount of money deposited/withdrawn during the transaction.\n",
    " \n",
    "A bank account is suspicious if the total income exceeds the max_income for this account for two or more consecutive months. The total income of an account in some month is the sum of all its deposits in that month (i.e., transactions of the type 'Creditor').\n",
    "\n",
    "**Write a solution to report the IDs of all suspicious bank accounts.**\n",
    "\n",
    "Return the result table in any order.\n",
    "\n",
    "The result format is in the following example.\n",
    "\n",
    "**Example 1:**\n",
    "\n",
    "**Input:** \n",
    "\n",
    "**Accounts table:**\n",
    "\n",
    "| account_id | max_income |\n",
    "|------------|------------|\n",
    "| 3          | 21000      |\n",
    "| 4          | 10400      |\n",
    "\n",
    "**Transactions table:**\n",
    "\n",
    "| transaction_id | account_id | type     | amount | day                 |\n",
    "|----------------|------------|----------|--------|---------------------|\n",
    "| 2              | 3          | Creditor | 107100 | 2021-06-02 11:38:14 |\n",
    "| 4              | 4          | Creditor | 10400  | 2021-06-20 12:39:18 |\n",
    "| 11             | 4          | Debtor   | 58800  | 2021-07-23 12:41:55 |\n",
    "| 1              | 4          | Creditor | 49300  | 2021-05-03 16:11:04 |\n",
    "| 15             | 3          | Debtor   | 75500  | 2021-05-23 14:40:20 |\n",
    "| 10             | 3          | Creditor | 102100 | 2021-06-15 10:37:16 |\n",
    "| 14             | 4          | Creditor | 56300  | 2021-07-21 12:12:25 |\n",
    "| 19             | 4          | Debtor   | 101100 | 2021-05-09 15:21:49 |\n",
    "| 8              | 3          | Creditor | 64900  | 2021-07-26 15:09:56 |\n",
    "| 7              | 3          | Creditor | 90900  | 2021-06-14 11:23:07 |\n",
    "\n",
    "**Output:** \n",
    "| account_id |\n",
    "|------------|\n",
    "| 3          |\n",
    "\n",
    "**Explanation:** \n",
    "- For account 3:\n",
    "  - In 6-2021, the user had an income of 107100 + 102100 + 90900 = 300100.\n",
    "  - In 7-2021, the user had an income of 64900.\n",
    "\n",
    "We can see that the income exceeded the max income of 21000 for two consecutive months, so we include 3 in the result table.\n",
    "\n",
    "- For account 4:\n",
    "  - In 5-2021, the user had an income of 49300.\n",
    "  - In 6-2021, the user had an income of 10400.\n",
    "  - In 7-2021, the user had an income of 56300.\n",
    "\n",
    "We can see that the income exceeded the max income in May and July, but not in June. Since the account did not exceed the max income for two consecutive months, we do not include it in the result table."
   ]
  },
  {
   "cell_type": "code",
   "execution_count": 0,
   "metadata": {
    "application/vnd.databricks.v1+cell": {
     "cellMetadata": {},
     "inputWidgets": {},
     "nuid": "7b78bc27-26cd-4523-8646-7369baf68fcb",
     "showTitle": false,
     "tableResultSettingsMap": {},
     "title": ""
    }
   },
   "outputs": [],
   "source": [
    "accounts_data_1843 = [\n",
    "    (3, 21000),\n",
    "    (4, 10400),\n",
    "]\n",
    "\n",
    "accounts_columns_1843 = [\"account_id\", \"max_income\"]\n",
    "accounts_df_1843 = spark.createDataFrame(accounts_data_1843, accounts_columns_1843)\n",
    "accounts_df_1843.show()\n",
    "\n",
    "transactions_data_1843 = [\n",
    "    (2, 3, \"Creditor\", 107100, \"2021-06-02 11:38:14\"),\n",
    "    (4, 4, \"Creditor\", 10400, \"2021-06-20 12:39:18\"),\n",
    "    (11, 4, \"Debtor\", 58800, \"2021-07-23 12:41:55\"),\n",
    "    (1, 4, \"Creditor\", 49300, \"2021-05-03 16:11:04\"),\n",
    "    (15, 3, \"Debtor\", 75500, \"2021-05-23 14:40:20\"),\n",
    "    (10, 3, \"Creditor\", 102100, \"2021-06-15 10:37:16\"),\n",
    "    (14, 4, \"Creditor\", 56300, \"2021-07-21 12:12:25\"),\n",
    "    (19, 4, \"Debtor\", 101100, \"2021-05-09 15:21:49\"),\n",
    "    (8, 3, \"Creditor\", 64900, \"2021-07-26 15:09:56\"),\n",
    "    (7, 3, \"Creditor\", 90900, \"2021-06-14 11:23:07\"),\n",
    "]\n",
    "\n",
    "transactions_columns_1843 = [\"transaction_id\", \"account_id\", \"type\", \"amount\", \"day\"]\n",
    "transactions_df_1843 = spark.createDataFrame(transactions_data_1843, transactions_columns_1843)\n",
    "transactions_df_1843.show()"
   ]
  }
 ],
 "metadata": {
  "application/vnd.databricks.v1+notebook": {
   "computePreferences": null,
   "dashboards": [],
   "environmentMetadata": {
    "base_environment": "",
    "environment_version": "1"
   },
   "inputWidgetPreferences": null,
   "language": "python",
   "notebookMetadata": {
    "pythonIndentUnit": 4
   },
   "notebookName": "1843. Suspicious Bank Accounts (Medium)",
   "widgets": {}
  },
  "language_info": {
   "name": "python"
  }
 },
 "nbformat": 4,
 "nbformat_minor": 0
}
