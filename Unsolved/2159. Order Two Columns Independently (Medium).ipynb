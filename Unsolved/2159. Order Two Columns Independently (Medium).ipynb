{
 "cells": [
  {
   "cell_type": "markdown",
   "metadata": {
    "application/vnd.databricks.v1+cell": {
     "cellMetadata": {},
     "inputWidgets": {},
     "nuid": "a23f6d56-6d8d-44bc-b796-cedda9e17c21",
     "showTitle": false,
     "tableResultSettingsMap": {},
     "title": ""
    }
   },
   "source": [
    "## Importing Libraries"
   ]
  },
  {
   "cell_type": "code",
   "execution_count": 0,
   "metadata": {
    "application/vnd.databricks.v1+cell": {
     "cellMetadata": {},
     "inputWidgets": {},
     "nuid": "0a69d78b-43d7-4f9e-a05d-026985c2539f",
     "showTitle": false,
     "tableResultSettingsMap": {},
     "title": ""
    }
   },
   "outputs": [],
   "source": [
    "from pyspark.sql.functions import *\n",
    "from pyspark.sql.types import *\n",
    "from pyspark.sql.window import Window"
   ]
  },
  {
   "cell_type": "markdown",
   "metadata": {
    "application/vnd.databricks.v1+cell": {
     "cellMetadata": {},
     "inputWidgets": {},
     "nuid": "2a54b88b-06bd-43e4-978a-c0c5d33ca5bb",
     "showTitle": false,
     "tableResultSettingsMap": {},
     "title": ""
    }
   },
   "source": [
    "**2159. Order Two Columns Independently (Medium)**\n",
    "\n",
    "**Table: Data**\n",
    "\n",
    "| Column Name | Type |\n",
    "|-------------|------|\n",
    "| first_col   | int  |\n",
    "| second_col  | int  |\n",
    "\n",
    "This table may contain duplicate rows.\n",
    " \n",
    "**Write a solution to independently:**\n",
    "- order first_col in ascending order.\n",
    "- order second_col in descending order.\n",
    "\n",
    "The result format is in the following example.\n",
    "\n",
    "**Example 1:**\n",
    "\n",
    "**Input:** \n",
    "\n",
    "**Data table:**\n",
    "\n",
    "| first_col | second_col |\n",
    "|-----------|------------|\n",
    "| 4         | 2          |\n",
    "| 2         | 3          |\n",
    "| 3         | 1          |\n",
    "| 1         | 4          |\n",
    "\n",
    "**Output:** \n",
    "| first_col | second_col |\n",
    "|-----------|------------|\n",
    "| 1         | 4          |\n",
    "| 2         | 3          |\n",
    "| 3         | 2          |\n",
    "| 4         | 1          |\n"
   ]
  },
  {
   "cell_type": "code",
   "execution_count": 0,
   "metadata": {
    "application/vnd.databricks.v1+cell": {
     "cellMetadata": {},
     "inputWidgets": {},
     "nuid": "c260f510-542b-4067-a6f4-ffed86995056",
     "showTitle": false,
     "tableResultSettingsMap": {},
     "title": ""
    }
   },
   "outputs": [],
   "source": [
    "data_2159 = [\n",
    "    (4, 2),\n",
    "    (2, 3),\n",
    "    (3, 1),\n",
    "    (1, 4)\n",
    "]\n",
    "\n",
    "columns_2159 = [\"first_col\", \"second_col\"]\n",
    "df_2159 = spark.createDataFrame(data_2159, columns_2159)\n",
    "df_2159.show()"
   ]
  }
 ],
 "metadata": {
  "application/vnd.databricks.v1+notebook": {
   "computePreferences": null,
   "dashboards": [],
   "environmentMetadata": {
    "base_environment": "",
    "environment_version": "1"
   },
   "inputWidgetPreferences": null,
   "language": "python",
   "notebookMetadata": {
    "pythonIndentUnit": 4
   },
   "notebookName": "2159. Order Two Columns Independently (Medium)",
   "widgets": {}
  },
  "language_info": {
   "name": "python"
  }
 },
 "nbformat": 4,
 "nbformat_minor": 0
}
