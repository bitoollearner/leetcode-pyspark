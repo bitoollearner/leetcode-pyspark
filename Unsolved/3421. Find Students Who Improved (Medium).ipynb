{
 "cells": [
  {
   "cell_type": "markdown",
   "metadata": {
    "application/vnd.databricks.v1+cell": {
     "cellMetadata": {},
     "inputWidgets": {},
     "nuid": "7d1791bd-9552-4116-90b2-daa678bbffb8",
     "showTitle": false,
     "tableResultSettingsMap": {},
     "title": ""
    }
   },
   "source": [
    "## Importing Libraries"
   ]
  },
  {
   "cell_type": "code",
   "execution_count": 0,
   "metadata": {
    "application/vnd.databricks.v1+cell": {
     "cellMetadata": {},
     "inputWidgets": {},
     "nuid": "2901fbc9-49db-4285-8b94-c460f34d4c4f",
     "showTitle": false,
     "tableResultSettingsMap": {},
     "title": ""
    }
   },
   "outputs": [],
   "source": [
    "from pyspark.sql.functions import *\n",
    "from pyspark.sql.types import *\n",
    "from pyspark.sql.window import Window"
   ]
  },
  {
   "cell_type": "markdown",
   "metadata": {
    "application/vnd.databricks.v1+cell": {
     "cellMetadata": {},
     "inputWidgets": {},
     "nuid": "655120e7-6b25-417c-a08a-c6925feaa425",
     "showTitle": false,
     "tableResultSettingsMap": {},
     "title": ""
    }
   },
   "source": [
    "**3421. Find Students Who Improved (Medium)**\n",
    "\n",
    "**Table: Scores**\n",
    "\n",
    "| Column Name | Type    |\n",
    "|-------------|---------|\n",
    "| student_id  | int     |\n",
    "| subject     | varchar |\n",
    "| score       | int     |\n",
    "| exam_date   | varchar |\n",
    "\n",
    "(student_id, subject, exam_date) is the primary key for this table.\n",
    "Each row contains information about a student's score in a specific subject on a particular exam date. score is between 0 and 100 (inclusive).\n",
    "\n",
    "**Write a solution to find the students who have shown improvement. A student is considered to have shown improvement if they meet both of these conditions:**\n",
    "\n",
    "- Have taken exams in the same subject on at least two different dates\n",
    "- Their latest score in that subject is higher than their first score\n",
    "\n",
    "Return the result table ordered by student_id, subject in ascending order.\n",
    "\n",
    "The result format is in the following example.\n",
    "\n",
    "**Example:**\n",
    "\n",
    "**Input:**\n",
    "\n",
    "**Scores table:**\n",
    "\n",
    "| student_id | subject  | score | exam_date  |\n",
    "|------------|----------|-------|------------|\n",
    "| 101        | Math     | 70    | 2023-01-15 |\n",
    "| 101        | Math     | 85    | 2023-02-15 |\n",
    "| 101        | Physics  | 65    | 2023-01-15 |\n",
    "| 101        | Physics  | 60    | 2023-02-15 |\n",
    "| 102        | Math     | 80    | 2023-01-15 |\n",
    "| 102        | Math     | 85    | 2023-02-15 |\n",
    "| 103        | Math     | 90    | 2023-01-15 |\n",
    "| 104        | Physics  | 75    | 2023-01-15 |\n",
    "| 104        | Physics  | 85    | 2023-02-15 |\n",
    "\n",
    "**Output:**\n",
    "\n",
    "| student_id | subject  | first_score | latest_score |\n",
    "|------------|----------|-------------|--------------|\n",
    "| 101        | Math     | 70          | 85           |\n",
    "| 102        | Math     | 80          | 85           |\n",
    "| 104        | Physics  | 75          | 85           |\n",
    "\n",
    "**Explanation:**\n",
    "\n",
    "- Student 101 in Math: Improved from 70 to 85\n",
    "- Student 101 in Physics: No improvement (dropped from 65 to 60)\n",
    "- Student 102 in Math: Improved from 80 to 85\n",
    "- Student 103 in Math: Only one exam, not eligible\n",
    "- Student 104 in Physics: Improved from 75 to 85\n",
    "\n",
    "Result table is ordered by student_id, subject."
   ]
  },
  {
   "cell_type": "code",
   "execution_count": 0,
   "metadata": {
    "application/vnd.databricks.v1+cell": {
     "cellMetadata": {},
     "inputWidgets": {},
     "nuid": "a2368434-0191-416c-aa1d-12cd44cf48e6",
     "showTitle": false,
     "tableResultSettingsMap": {},
     "title": ""
    }
   },
   "outputs": [],
   "source": [
    "scores_data_3421 = [\n",
    "    (101, \"Math\", 70, \"2023-01-15\"),\n",
    "    (101, \"Math\", 85, \"2023-02-15\"),\n",
    "    (101, \"Physics\", 65, \"2023-01-15\"),\n",
    "    (101, \"Physics\", 60, \"2023-02-15\"),\n",
    "    (102, \"Math\", 80, \"2023-01-15\"),\n",
    "    (102, \"Math\", 85, \"2023-02-15\"),\n",
    "    (103, \"Math\", 90, \"2023-01-15\"),\n",
    "    (104, \"Physics\", 75, \"2023-01-15\"),\n",
    "    (104, \"Physics\", 85, \"2023-02-15\")\n",
    "]\n",
    "\n",
    "scores_columns_3421 = [\"student_id\", \"subject\", \"score\", \"exam_date\"]\n",
    "scores_df_3421 = spark.createDataFrame(scores_data_3421, scores_columns_3421)\n",
    "scores_df_3421.show()"
   ]
  }
 ],
 "metadata": {
  "application/vnd.databricks.v1+notebook": {
   "computePreferences": null,
   "dashboards": [],
   "environmentMetadata": {
    "base_environment": "",
    "environment_version": "1"
   },
   "inputWidgetPreferences": null,
   "language": "python",
   "notebookMetadata": {
    "pythonIndentUnit": 4
   },
   "notebookName": "3421. Find Students Who Improved (Medium)",
   "widgets": {}
  },
  "language_info": {
   "name": "python"
  }
 },
 "nbformat": 4,
 "nbformat_minor": 0
}
