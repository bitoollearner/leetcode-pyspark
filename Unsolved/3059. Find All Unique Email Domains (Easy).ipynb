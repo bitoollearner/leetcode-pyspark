{
 "cells": [
  {
   "cell_type": "markdown",
   "metadata": {
    "application/vnd.databricks.v1+cell": {
     "cellMetadata": {},
     "inputWidgets": {},
     "nuid": "7d1791bd-9552-4116-90b2-daa678bbffb8",
     "showTitle": false,
     "tableResultSettingsMap": {},
     "title": ""
    }
   },
   "source": [
    "## Importing Libraries"
   ]
  },
  {
   "cell_type": "code",
   "execution_count": 0,
   "metadata": {
    "application/vnd.databricks.v1+cell": {
     "cellMetadata": {},
     "inputWidgets": {},
     "nuid": "2901fbc9-49db-4285-8b94-c460f34d4c4f",
     "showTitle": false,
     "tableResultSettingsMap": {},
     "title": ""
    }
   },
   "outputs": [],
   "source": [
    "from pyspark.sql.functions import *\n",
    "from pyspark.sql.types import *\n",
    "from pyspark.sql.window import Window"
   ]
  },
  {
   "cell_type": "markdown",
   "metadata": {
    "application/vnd.databricks.v1+cell": {
     "cellMetadata": {},
     "inputWidgets": {},
     "nuid": "655120e7-6b25-417c-a08a-c6925feaa425",
     "showTitle": false,
     "tableResultSettingsMap": {},
     "title": ""
    }
   },
   "source": [
    "**3059. Find All Unique Email Domains (Easy)**\n",
    "\n",
    "**Table: Emails**\n",
    "\n",
    "| Column Name | Type    |\n",
    "|-------------|---------|\n",
    "| id          | int     |\n",
    "| email       | varchar |\n",
    "\n",
    "id is the primary key (column with unique values) for this table.\n",
    "Each row of this table contains an email. The emails will not contain uppercase letters.\n",
    "\n",
    "**Write a solution to find all unique email domains and count the number of individuals associated with each domain. Consider only those domains that end with .com.**\n",
    "\n",
    "Return the result table orderd by email domains in ascending order.\n",
    "\n",
    "The result format is in the following example.\n",
    "\n",
    "**Example 1:**\n",
    "\n",
    "**Input:**\n",
    "**Emails table:**\n",
    "| id  | email                 |\n",
    "|-----|-----------------------|\n",
    "| 336 | hwkiy@test.edu        |\n",
    "| 489 | adcmaf@outlook.com    |\n",
    "| 449 | vrzmwyum@yahoo.com    |\n",
    "| 95  | tof@test.edu          |\n",
    "| 320 | jxhbagkpm@example.org |\n",
    "| 411 | zxcf@outlook.com      |\n",
    "\n",
    "**Output:** \n",
    "| email_domain | count |\n",
    "|--------------|-------|\n",
    "| outlook.com  | 2     |\n",
    "| yahoo.com    | 1     |  \n",
    "\n",
    "**Explanation:** \n",
    "- The valid domains ending with \".com\" are only \"outlook.com\" and \"yahoo.com\", with respective counts of 2 and 1.\n",
    "\n",
    "Output table is ordered by email_domains in ascending order."
   ]
  },
  {
   "cell_type": "code",
   "execution_count": 0,
   "metadata": {
    "application/vnd.databricks.v1+cell": {
     "cellMetadata": {},
     "inputWidgets": {},
     "nuid": "a2368434-0191-416c-aa1d-12cd44cf48e6",
     "showTitle": false,
     "tableResultSettingsMap": {},
     "title": ""
    }
   },
   "outputs": [],
   "source": [
    "emails_data_3059 = [\n",
    "    (336, \"hwkiy@test.edu\"),\n",
    "    (489, \"adcmaf@outlook.com\"),\n",
    "    (449, \"vrzmwyum@yahoo.com\"),\n",
    "    (95, \"tof@test.edu\"),\n",
    "    (320, \"jxhbagkpm@example.org\"),\n",
    "    (411, \"zxcf@outlook.com\"),\n",
    "]\n",
    "\n",
    "emails_columns_3059 = [\"id\", \"email\"]\n",
    "emails_df_3059 = spark.createDataFrame(emails_data_3059, emails_columns_3059)\n",
    "emails_df_3059.show()"
   ]
  }
 ],
 "metadata": {
  "application/vnd.databricks.v1+notebook": {
   "computePreferences": null,
   "dashboards": [],
   "environmentMetadata": {
    "base_environment": "",
    "environment_version": "1"
   },
   "inputWidgetPreferences": null,
   "language": "python",
   "notebookMetadata": {
    "pythonIndentUnit": 4
   },
   "notebookName": "3059. Find All Unique Email Domains (Easy)",
   "widgets": {}
  },
  "language_info": {
   "name": "python"
  }
 },
 "nbformat": 4,
 "nbformat_minor": 0
}
