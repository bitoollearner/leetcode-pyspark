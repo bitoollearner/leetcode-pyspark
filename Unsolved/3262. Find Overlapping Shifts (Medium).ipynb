{
 "cells": [
  {
   "cell_type": "markdown",
   "metadata": {
    "application/vnd.databricks.v1+cell": {
     "cellMetadata": {},
     "inputWidgets": {},
     "nuid": "7d1791bd-9552-4116-90b2-daa678bbffb8",
     "showTitle": false,
     "tableResultSettingsMap": {},
     "title": ""
    }
   },
   "source": [
    "## Importing Libraries"
   ]
  },
  {
   "cell_type": "code",
   "execution_count": 0,
   "metadata": {
    "application/vnd.databricks.v1+cell": {
     "cellMetadata": {},
     "inputWidgets": {},
     "nuid": "2901fbc9-49db-4285-8b94-c460f34d4c4f",
     "showTitle": false,
     "tableResultSettingsMap": {},
     "title": ""
    }
   },
   "outputs": [],
   "source": [
    "from pyspark.sql.functions import *\n",
    "from pyspark.sql.types import *\n",
    "from pyspark.sql.window import Window"
   ]
  },
  {
   "cell_type": "markdown",
   "metadata": {
    "application/vnd.databricks.v1+cell": {
     "cellMetadata": {},
     "inputWidgets": {},
     "nuid": "655120e7-6b25-417c-a08a-c6925feaa425",
     "showTitle": false,
     "tableResultSettingsMap": {},
     "title": ""
    }
   },
   "source": [
    "**3262. Find Overlapping Shifts (Medium)**\n",
    "\n",
    "**Table: EmployeeShifts**\n",
    "\n",
    "| Column Name      | Type    |\n",
    "|------------------|---------|\n",
    "| employee_id      | int     |\n",
    "| start_time       | time    |\n",
    "| end_time         | time    |\n",
    "\n",
    "(employee_id, start_time) is the unique key for this table.\n",
    "This table contains information about the shifts worked by employees, including the start and end times on a specific date.\n",
    "\n",
    "**Write a solution to count the number of overlapping shifts for each employee. Two shifts are considered overlapping if one shift’s end_time is later than another shift’s start_time.**\n",
    "\n",
    "Return the result table ordered by employee_id in ascending order.\n",
    "\n",
    "The query result format is in the following example.\n",
    "\n",
    "**Example:**\n",
    "\n",
    "**Input:**\n",
    "\n",
    "**EmployeeShifts table:**\n",
    "\n",
    "| employee_id | start_time | end_time |\n",
    "|-------------|------------|----------|\n",
    "| 1           | 08:00:00   | 12:00:00 |\n",
    "| 1           | 11:00:00   | 15:00:00 |\n",
    "| 1           | 14:00:00   | 18:00:00 |\n",
    "| 2           | 09:00:00   | 17:00:00 |\n",
    "| 2           | 16:00:00   | 20:00:00 |\n",
    "| 3           | 10:00:00   | 12:00:00 |\n",
    "| 3           | 13:00:00   | 15:00:00 |\n",
    "| 3           | 16:00:00   | 18:00:00 |\n",
    "| 4           | 08:00:00   | 10:00:00 |\n",
    "| 4           | 09:00:00   | 11:00:00 |\n",
    "\n",
    "**Output:**\n",
    "\n",
    "| employee_id | overlapping_shifts |\n",
    "|-------------|--------------------|\n",
    "| 1           | 2                  |\n",
    "| 2           | 1                  |\n",
    "| 4           | 1                  |\n",
    "\n",
    "**Explanation:**\n",
    "- Employee 1 has 3 shifts:\n",
    "  - 08:00:00 to 12:00:00\n",
    "  - 11:00:00 to 15:00:00\n",
    "  - 14:00:00 to 18:00:00\n",
    "\n",
    "The first shift overlaps with the second, and the second overlaps with the third, resulting in 2 overlapping shifts.\n",
    "- Employee 2 has 2 shifts:\n",
    "  - 09:00:00 to 17:00:00\n",
    "  - 16:00:00 to 20:00:00\n",
    "\n",
    "These shifts overlap with each other, resulting in 1 overlapping shift.\n",
    "- Employee 3 has 3 shifts:\n",
    "  - 10:00:00 to 12:00:00\n",
    "  - 13:00:00 to 15:00:00\n",
    "  - 16:00:00 to 18:00:00\n",
    "\n",
    "None of these shifts overlap, so Employee 3 is not included in the output.\n",
    "- Employee 4 has 2 shifts:\n",
    "  - 08:00:00 to 10:00:00\n",
    "  - 09:00:00 to 11:00:00\n",
    "\n",
    "These shifts overlap with each other, resulting in 1 overlapping shift.\n",
    "\n",
    "The output shows the employee_id and the count of overlapping shifts for each employee who has at least one overlapping shift, ordered by employee_id in ascending order."
   ]
  },
  {
   "cell_type": "code",
   "execution_count": 0,
   "metadata": {
    "application/vnd.databricks.v1+cell": {
     "cellMetadata": {},
     "inputWidgets": {},
     "nuid": "a2368434-0191-416c-aa1d-12cd44cf48e6",
     "showTitle": false,
     "tableResultSettingsMap": {},
     "title": ""
    }
   },
   "outputs": [],
   "source": [
    "shifts_data_3262 = [\n",
    "    (1, \"08:00:00\", \"12:00:00\"),\n",
    "    (1, \"11:00:00\", \"15:00:00\"),\n",
    "    (1, \"14:00:00\", \"18:00:00\"),\n",
    "    (2, \"09:00:00\", \"17:00:00\"),\n",
    "    (2, \"16:00:00\", \"20:00:00\"),\n",
    "    (3, \"10:00:00\", \"12:00:00\"),\n",
    "    (3, \"13:00:00\", \"15:00:00\"),\n",
    "    (3, \"16:00:00\", \"18:00:00\"),\n",
    "    (4, \"08:00:00\", \"10:00:00\"),\n",
    "    (4, \"09:00:00\", \"11:00:00\")\n",
    "]\n",
    "\n",
    "shifts_columns_3262 = [\"employee_id\", \"start_time\", \"end_time\"]\n",
    "shifts_df_3262 = spark.createDataFrame(shifts_data_3262, shifts_columns_3262)\n",
    "shifts_df_3262.show()"
   ]
  }
 ],
 "metadata": {
  "application/vnd.databricks.v1+notebook": {
   "computePreferences": null,
   "dashboards": [],
   "environmentMetadata": {
    "base_environment": "",
    "environment_version": "1"
   },
   "inputWidgetPreferences": null,
   "language": "python",
   "notebookMetadata": {
    "pythonIndentUnit": 4
   },
   "notebookName": "3262. Find Overlapping Shifts (Medium)",
   "widgets": {}
  },
  "language_info": {
   "name": "python"
  }
 },
 "nbformat": 4,
 "nbformat_minor": 0
}
