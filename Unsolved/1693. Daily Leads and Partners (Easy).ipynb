{
 "cells": [
  {
   "cell_type": "markdown",
   "metadata": {
    "application/vnd.databricks.v1+cell": {
     "cellMetadata": {},
     "inputWidgets": {},
     "nuid": "f6ac9266-658c-4507-8a37-ecc81334b06d",
     "showTitle": false,
     "tableResultSettingsMap": {},
     "title": ""
    }
   },
   "source": [
    "## Importing Libraries"
   ]
  },
  {
   "cell_type": "code",
   "execution_count": 0,
   "metadata": {
    "application/vnd.databricks.v1+cell": {
     "cellMetadata": {},
     "inputWidgets": {},
     "nuid": "d6194993-9312-4b46-8365-d6a73d8cb0b0",
     "showTitle": false,
     "tableResultSettingsMap": {},
     "title": ""
    }
   },
   "outputs": [],
   "source": [
    "from pyspark.sql.functions import *\n",
    "from pyspark.sql.types import *\n",
    "from pyspark.sql.window import Window"
   ]
  },
  {
   "cell_type": "markdown",
   "metadata": {
    "application/vnd.databricks.v1+cell": {
     "cellMetadata": {},
     "inputWidgets": {},
     "nuid": "23f6a680-8f01-4976-83fa-88103e49c6b8",
     "showTitle": false,
     "tableResultSettingsMap": {},
     "title": ""
    }
   },
   "source": [
    "**1693. Daily Leads and Partners (Easy)**\n",
    "\n",
    "**Table: DailySales**\n",
    "\n",
    "| Column Name | Type    |\n",
    "|-------------|---------|\n",
    "| date_id     | date    |\n",
    "| make_name   | varchar |\n",
    "| lead_id     | int     |\n",
    "| partner_id  | int     |\n",
    "\n",
    "There is no primary key (column with unique values) for this table. It may contain duplicates.\n",
    "This table contains the date and the name of the product sold and the IDs of the lead and partner it was sold to.\n",
    "The name consists of only lowercase English letters.\n",
    " \n",
    "**For each date_id and make_name, find the number of distinct lead_id's and distinct partner_id's.**\n",
    "\n",
    "Return the result table in any order.\n",
    "\n",
    "The result format is in the following example.\n",
    "\n",
    "**Example 1:**\n",
    "\n",
    "**Input:**\n",
    "**DailySales table:**\n",
    "| date_id   | make_name | lead_id | partner_id |\n",
    "|-----------|-----------|---------|------------|\n",
    "| 2020-12-8 | toyota    | 0       | 1          |\n",
    "| 2020-12-8 | toyota    | 1       | 0          |\n",
    "| 2020-12-8 | toyota    | 1       | 2          |\n",
    "| 2020-12-7 | toyota    | 0       | 2          |\n",
    "| 2020-12-7 | toyota    | 0       | 1          |\n",
    "| 2020-12-8 | honda     | 1       | 2          |\n",
    "| 2020-12-8 | honda     | 2       | 1          |\n",
    "| 2020-12-7 | honda     | 0       | 1          |\n",
    "| 2020-12-7 | honda     | 1       | 2          |\n",
    "| 2020-12-7 | honda     | 2       | 1          |\n",
    "\n",
    "**Output:**\n",
    "| date_id   | make_name | unique_leads | unique_partners |\n",
    "|-----------|-----------|--------------|-----------------|\n",
    "| 2020-12-8 | toyota    | 2            | 3               |\n",
    "| 2020-12-7 | toyota    | 1            | 2               |\n",
    "| 2020-12-8 | honda     | 2            | 2               |\n",
    "| 2020-12-7 | honda     | 3            | 2               |\n",
    "\n",
    "\n",
    "**Explanation:**\n",
    "- For 2020-12-8, toyota gets leads = [0, 1] and partners = [0, 1, 2] while honda gets leads = [1, 2] and partners = [1, 2].\n",
    "- For 2020-12-7, toyota gets leads = [0] and partners = [1, 2] while honda gets leads = [0, 1, 2] and partners = [1, 2]."
   ]
  },
  {
   "cell_type": "code",
   "execution_count": 0,
   "metadata": {
    "application/vnd.databricks.v1+cell": {
     "cellMetadata": {},
     "inputWidgets": {},
     "nuid": "a762f84d-f622-4403-b695-4066e5bdbaf0",
     "showTitle": false,
     "tableResultSettingsMap": {},
     "title": ""
    }
   },
   "outputs": [],
   "source": [
    "daily_sales_data_1693 = [\n",
    "    (\"2020-12-8\", \"toyota\", 0, 1),\n",
    "    (\"2020-12-8\", \"toyota\", 1, 0),\n",
    "    (\"2020-12-8\", \"toyota\", 1, 2),\n",
    "    (\"2020-12-7\", \"toyota\", 0, 2),\n",
    "    (\"2020-12-7\", \"toyota\", 0, 1),\n",
    "    (\"2020-12-8\", \"honda\", 1, 2),\n",
    "    (\"2020-12-8\", \"honda\", 2, 1),\n",
    "    (\"2020-12-7\", \"honda\", 0, 1),\n",
    "    (\"2020-12-7\", \"honda\", 1, 2),\n",
    "    (\"2020-12-7\", \"honda\", 2, 1)\n",
    "]\n",
    "\n",
    "daily_sales_columns_1693 = [\"date_id\", \"make_name\", \"lead_id\", \"partner_id\"]\n",
    "daily_sales_df_1693 = spark.createDataFrame(daily_sales_data_1693, daily_sales_columns_1693)\n",
    "daily_sales_df_1693.show()"
   ]
  }
 ],
 "metadata": {
  "application/vnd.databricks.v1+notebook": {
   "computePreferences": null,
   "dashboards": [],
   "environmentMetadata": {
    "base_environment": "",
    "environment_version": "1"
   },
   "inputWidgetPreferences": null,
   "language": "python",
   "notebookMetadata": {
    "pythonIndentUnit": 4
   },
   "notebookName": "1693. Daily Leads and Partners (Easy)",
   "widgets": {}
  },
  "language_info": {
   "name": "python"
  }
 },
 "nbformat": 4,
 "nbformat_minor": 0
}
