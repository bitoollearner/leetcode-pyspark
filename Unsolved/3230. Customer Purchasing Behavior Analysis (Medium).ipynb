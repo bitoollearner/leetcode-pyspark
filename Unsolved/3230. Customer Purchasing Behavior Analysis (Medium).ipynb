{
 "cells": [
  {
   "cell_type": "markdown",
   "metadata": {
    "application/vnd.databricks.v1+cell": {
     "cellMetadata": {},
     "inputWidgets": {},
     "nuid": "7d1791bd-9552-4116-90b2-daa678bbffb8",
     "showTitle": false,
     "tableResultSettingsMap": {},
     "title": ""
    }
   },
   "source": [
    "## Importing Libraries"
   ]
  },
  {
   "cell_type": "code",
   "execution_count": 0,
   "metadata": {
    "application/vnd.databricks.v1+cell": {
     "cellMetadata": {},
     "inputWidgets": {},
     "nuid": "2901fbc9-49db-4285-8b94-c460f34d4c4f",
     "showTitle": false,
     "tableResultSettingsMap": {},
     "title": ""
    }
   },
   "outputs": [],
   "source": [
    "from pyspark.sql.functions import *\n",
    "from pyspark.sql.types import *\n",
    "from pyspark.sql.window import Window"
   ]
  },
  {
   "cell_type": "markdown",
   "metadata": {
    "application/vnd.databricks.v1+cell": {
     "cellMetadata": {},
     "inputWidgets": {},
     "nuid": "655120e7-6b25-417c-a08a-c6925feaa425",
     "showTitle": false,
     "tableResultSettingsMap": {},
     "title": ""
    }
   },
   "source": [
    "**3230. Customer Purchasing Behavior Analysis (Medium)**\n",
    "\n",
    "**Table: Transactions**\n",
    "\n",
    "| Column Name      | Type    |\n",
    "|------------------|---------|\n",
    "| transaction_id   | int     |\n",
    "| customer_id      | int     |\n",
    "| product_id       | int     |\n",
    "| transaction_date | date    |\n",
    "| amount           | decimal |\n",
    "\n",
    "transaction_id is the unique identifier for this table.\n",
    "Each row of this table contains information about a transaction, including the customer ID, product ID, date, and amount spent.\n",
    "\n",
    "**Table: Products**\n",
    "\n",
    "| Column Name | Type    |\n",
    "|-------------|---------|\n",
    "| product_id  | int     |\n",
    "| category    | varchar |\n",
    "| price       | decimal |\n",
    "\n",
    "product_id is the unique identifier for this table.\n",
    "Each row of this table contains information about a product, including its category and price.\n",
    "\n",
    "**Write a solution to analyze customer purchasing behavior. For each customer, calculate:**\n",
    "- The total amount spent.\n",
    "- The number of transactions.\n",
    "- The number of unique product categories purchased.\n",
    "- The average amount spent. \n",
    "- The most frequently purchased product category (if there is a tie, choose the one with the most recent transaction).\n",
    "- A loyalty score defined as: (Number of transactions * 10) + (Total amount spent / 100).\n",
    "\n",
    "Round total_amount, avg_transaction_amount, and loyalty_score to 2 decimal places.\n",
    "\n",
    "Return the result table ordered by loyalty_score in descending order, then by customer_id in ascending order.\n",
    "\n",
    "The query result format is in the following example.\n",
    "\n",
    "**Example:**\n",
    "\n",
    "**Input:**\n",
    "\n",
    "**Transactions table:**\n",
    "\n",
    "| transaction_id | customer_id | product_id | transaction_date | amount |\n",
    "|----------------|-------------|------------|------------------|--------|\n",
    "| 1              | 101         | 1          | 2023-01-01       | 100.00 |\n",
    "| 2              | 101         | 2          | 2023-01-15       | 150.00 |\n",
    "| 3              | 102         | 1          | 2023-01-01       | 100.00 |\n",
    "| 4              | 102         | 3          | 2023-01-22       | 200.00 |\n",
    "| 5              | 101         | 3          | 2023-02-10       | 200.00 |\n",
    "\n",
    "**Products table:**\n",
    "\n",
    "| product_id | category | price  |\n",
    "|------------|----------|--------|\n",
    "| 1          | A        | 100.00 |\n",
    "| 2          | B        | 150.00 |\n",
    "| 3          | C        | 200.00 |\n",
    "\n",
    "**Output:**\n",
    "\n",
    "| customer_id | total_amount | transaction_count | unique_categories | avg_transaction_amount | top_category | loyalty_score |\n",
    "|-------------|--------------|-------------------|-------------------|------------------------|--------------|---------------|\n",
    "| 101         | 450.00       | 3                 | 3                 | 150.00                 | C            | 34.50         |\n",
    "| 102         | 300.00       | 2                 | 2                 | 150.00                 | C            | 23.00         |\n",
    "\n",
    "**Explanation:**\n",
    "- For customer 101:\n",
    "  - Total amount spent: 100.00 + 150.00 + 200.00 = 450.00\n",
    "  - Number of transactions: 3\n",
    "  - Unique categories: A, B, C (3 categories)\n",
    "  - Average transaction amount: 450.00 / 3 = 150.00\n",
    "  - Top category: C (Customer 101 made 1 purchase each in categories A, B, and C. Since the count is the same for all categories, we choose the most recent transaction, which is category C on 2023-02-10)\n",
    "  - Loyalty score: (3 * 10) + (450.00 / 100) = 34.50\n",
    "\n",
    "- For customer 102:\n",
    "  - Total amount spent: 100.00 + 200.00 = 300.00\n",
    "  - Number of transactions: 2\n",
    "  - Unique categories: A, C (2 categories)\n",
    "  - Average transaction amount: 300.00 / 2 = 150.00\n",
    "  - Top category: C (Customer 102 made 1 purchase each in categories A and C. Since the count is the same for both categories, we choose the most recent transaction, which is category C on 2023-01-22)\n",
    "  - Loyalty score: (2 * 10) + (300.00 / 100) = 23.00\n",
    "\n",
    "**Note:** The output is ordered by loyalty_score in descending order, then by customer_id in ascending order.\n"
   ]
  },
  {
   "cell_type": "code",
   "execution_count": 0,
   "metadata": {
    "application/vnd.databricks.v1+cell": {
     "cellMetadata": {},
     "inputWidgets": {},
     "nuid": "a2368434-0191-416c-aa1d-12cd44cf48e6",
     "showTitle": false,
     "tableResultSettingsMap": {},
     "title": ""
    }
   },
   "outputs": [],
   "source": [
    "transactions_data_3230 = [\n",
    "    (1, 101, 1, \"2023-01-01\", 100.00),\n",
    "    (2, 101, 2, \"2023-01-15\", 150.00),\n",
    "    (3, 102, 1, \"2023-01-01\", 100.00),\n",
    "    (4, 102, 3, \"2023-01-22\", 200.00),\n",
    "    (5, 101, 3, \"2023-02-10\", 200.00)\n",
    "]\n",
    "\n",
    "transactions_columns_3230 = [\"transaction_id\", \"customer_id\", \"product_id\", \"transaction_date\", \"amount\"]\n",
    "transactions_df_3230 = spark.createDataFrame(transactions_data_3230, transactions_columns_3230)\n",
    "transactions_df_3230.show()\n",
    "\n",
    "products_data_3230 = [\n",
    "    (1, \"A\", 100.00),\n",
    "    (2, \"B\", 150.00),\n",
    "    (3, \"C\", 200.00)\n",
    "]\n",
    "\n",
    "products_columns_3230 = [\"product_id\", \"category\", \"price\"]\n",
    "products_df_3230 = spark.createDataFrame(products_data_3230, products_columns_3230)\n",
    "products_df_3230.show()"
   ]
  }
 ],
 "metadata": {
  "application/vnd.databricks.v1+notebook": {
   "computePreferences": null,
   "dashboards": [],
   "environmentMetadata": {
    "base_environment": "",
    "environment_version": "1"
   },
   "inputWidgetPreferences": null,
   "language": "python",
   "notebookMetadata": {
    "pythonIndentUnit": 4
   },
   "notebookName": "3230. Customer Purchasing Behavior Analysis (Medium)",
   "widgets": {}
  },
  "language_info": {
   "name": "python"
  }
 },
 "nbformat": 4,
 "nbformat_minor": 0
}
