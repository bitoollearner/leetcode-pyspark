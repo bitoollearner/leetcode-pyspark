{
 "cells": [
  {
   "cell_type": "markdown",
   "metadata": {
    "application/vnd.databricks.v1+cell": {
     "cellMetadata": {},
     "inputWidgets": {},
     "nuid": "516a210c-988a-43a8-9004-cb03ad7c2481",
     "showTitle": false,
     "tableResultSettingsMap": {},
     "title": ""
    }
   },
   "source": [
    "## Importing Libraries"
   ]
  },
  {
   "cell_type": "code",
   "execution_count": 0,
   "metadata": {
    "application/vnd.databricks.v1+cell": {
     "cellMetadata": {},
     "inputWidgets": {},
     "nuid": "9333a394-5bb0-4f1f-8f10-60b56c9fb68e",
     "showTitle": false,
     "tableResultSettingsMap": {},
     "title": ""
    }
   },
   "outputs": [],
   "source": [
    "from pyspark.sql.functions import *\n",
    "from pyspark.sql.types import *\n",
    "from pyspark.sql.window import Window"
   ]
  },
  {
   "cell_type": "markdown",
   "metadata": {
    "application/vnd.databricks.v1+cell": {
     "cellMetadata": {},
     "inputWidgets": {},
     "nuid": "b718c875-1030-4207-a68c-5fad8635212a",
     "showTitle": false,
     "tableResultSettingsMap": {},
     "title": ""
    }
   },
   "source": [
    "\n",
    "**1322. Ads Performance (Easy)**\n",
    "\n",
    "**Table: Ads**\n",
    "\n",
    "| Column Name   | Type    |\n",
    "|---------------|---------|\n",
    "| ad_id         | int     |\n",
    "| user_id       | int     |\n",
    "| action        | enum    |\n",
    "\n",
    "(ad_id, user_id) is the primary key (combination of columns with unique values) for this table.\n",
    "Each row of this table contains the ID of an Ad, the ID of a user, and the action taken by this user regarding this Ad.\n",
    "The action column is an ENUM (category) type of ('Clicked', 'Viewed', 'Ignored').\n",
    " \n",
    "A company is running Ads and wants to calculate the performance of each Ad.\n",
    "\n",
    "Performance of the Ad is measured using Click-Through Rate (CTR) where:\n",
    "![](https://fastly.jsdelivr.net/gh/doocs/leetcode@main/solution/1300-1399/1322.Ads%20Performance/images/sql1.png)\n",
    "\n",
    "**Write a solution to find the ctr of each Ad. Round ctr to two decimal points.**\n",
    "\n",
    "Return the result table ordered by ctr in descending order and by ad_id in ascending order in case of a tie.\n",
    "\n",
    "The result format is in the following example.\n",
    "\n",
    "**Example 1:**\n",
    "\n",
    "**Input:** \n",
    "\n",
    "**Ads table:**\n",
    "| ad_id | user_id | action  |\n",
    "|-------|---------|---------|\n",
    "| 1     | 1       | Clicked |\n",
    "| 2     | 2       | Clicked |\n",
    "| 3     | 3       | Viewed  |\n",
    "| 5     | 5       | Ignored |\n",
    "| 1     | 7       | Ignored |\n",
    "| 2     | 7       | Viewed  |\n",
    "| 3     | 5       | Clicked |\n",
    "| 1     | 4       | Viewed  |\n",
    "| 2     | 11      | Viewed  |\n",
    "| 1     | 2       | Clicked |\n",
    "\n",
    "**Output:** \n",
    "| ad_id | ctr   |\n",
    "|-------|-------|\n",
    "| 1     | 66.67 |\n",
    "| 3     | 50.00 |\n",
    "| 2     | 33.33 |\n",
    "| 5     | 0.00  |\n",
    "\n",
    "**Explanation:** \n",
    "- for ad_id = 1, ctr = (2/(2+1)) * 100 = 66.67\n",
    "- for ad_id = 2, ctr = (1/(1+2)) * 100 = 33.33\n",
    "- for ad_id = 3, ctr = (1/(1+1)) * 100 = 50.00\n",
    "- for ad_id = 5, ctr = 0.00, Note that ad_id = 5 has no clicks or views.\n",
    "\n",
    "Note that we do not care about Ignored Ads."
   ]
  },
  {
   "cell_type": "code",
   "execution_count": 0,
   "metadata": {
    "application/vnd.databricks.v1+cell": {
     "cellMetadata": {},
     "inputWidgets": {},
     "nuid": "01e4d778-a8a5-48a7-8ebb-7033f0b84d62",
     "showTitle": false,
     "tableResultSettingsMap": {},
     "title": ""
    }
   },
   "outputs": [],
   "source": [
    "ads_data_1322 = [\n",
    "    (1, 1, \"Clicked\"),\n",
    "    (2, 2, \"Clicked\"),\n",
    "    (3, 3, \"Viewed\"),\n",
    "    (5, 5, \"Ignored\"),\n",
    "    (1, 7, \"Ignored\"),\n",
    "    (2, 7, \"Viewed\"),\n",
    "    (3, 5, \"Clicked\"),\n",
    "    (1, 4, \"Viewed\"),\n",
    "    (2, 11, \"Viewed\"),\n",
    "    (1, 2, \"Clicked\")\n",
    "]\n",
    "ads_columns_1322 = [\"ad_id\", \"user_id\", \"action\"]\n",
    "ads_df_1322 = spark.createDataFrame(ads_data_1322, ads_columns_1322)\n",
    "ads_df_1322.show()"
   ]
  }
 ],
 "metadata": {
  "application/vnd.databricks.v1+notebook": {
   "computePreferences": null,
   "dashboards": [],
   "environmentMetadata": {
    "base_environment": "",
    "environment_version": "1"
   },
   "inputWidgetPreferences": null,
   "language": "python",
   "notebookMetadata": {
    "pythonIndentUnit": 4
   },
   "notebookName": "1322. Ads Performance (Easy)",
   "widgets": {}
  },
  "language_info": {
   "name": "python"
  }
 },
 "nbformat": 4,
 "nbformat_minor": 0
}
