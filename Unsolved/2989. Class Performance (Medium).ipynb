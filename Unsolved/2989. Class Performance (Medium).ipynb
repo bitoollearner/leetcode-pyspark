{
 "cells": [
  {
   "cell_type": "markdown",
   "metadata": {
    "application/vnd.databricks.v1+cell": {
     "cellMetadata": {},
     "inputWidgets": {},
     "nuid": "4e9d71b1-88e9-445c-820a-b842e217a4e7",
     "showTitle": false,
     "tableResultSettingsMap": {},
     "title": ""
    }
   },
   "source": [
    "## Importing Libraries"
   ]
  },
  {
   "cell_type": "code",
   "execution_count": 0,
   "metadata": {
    "application/vnd.databricks.v1+cell": {
     "cellMetadata": {},
     "inputWidgets": {},
     "nuid": "e6624c4d-8cb8-4ac4-8c72-81d1b4ecdb57",
     "showTitle": false,
     "tableResultSettingsMap": {},
     "title": ""
    }
   },
   "outputs": [],
   "source": [
    "from pyspark.sql.functions import *\n",
    "from pyspark.sql.types import *\n",
    "from pyspark.sql.window import Window"
   ]
  },
  {
   "cell_type": "markdown",
   "metadata": {
    "application/vnd.databricks.v1+cell": {
     "cellMetadata": {},
     "inputWidgets": {},
     "nuid": "c3788fe5-f4c9-420f-ad72-ec1a39310a2a",
     "showTitle": false,
     "tableResultSettingsMap": {},
     "title": ""
    }
   },
   "source": [
    "**2989. Class Performance (Medium)**\n",
    "\n",
    "**Table: Scores**\n",
    "\n",
    "| Column Name  | Type    |\n",
    "|--------------|---------|\n",
    "| student_id   | int     |\n",
    "| student_name | varchar |\n",
    "| assignment1  | int     |\n",
    "| assignment2  | int     |\n",
    "| assignment3  | int     |\n",
    "\n",
    "student_id is column of unique values for this table.\n",
    "This table contains student_id, student_name, assignment1, assignment2, and assignment3.\n",
    "\n",
    "**Write a solution to calculate the difference in the total score (sum of all 3 assignments) between the highest score obtained by students and the lowest score obtained by them.**\n",
    "\n",
    "Return the result table in any order.\n",
    "\n",
    "The result format is in the following example.\n",
    "\n",
    "**Example 1:**\n",
    "\n",
    "**Input:** \n",
    "**Scores table:**\n",
    "\n",
    "| student_id | student_name | assignment1 | assignment2 | assignment3 |\n",
    "|------------|--------------|-------------|-------------|-------------|\n",
    "| 309        | Owen         | 88          | 47          | 87          |\n",
    "| 321        | Claire       | 98          | 95          | 37          |     \n",
    "| 338        | Julian       | 100         | 64          | 43          |  \n",
    "| 423        | Peyton       | 60          | 44          | 47          |  \n",
    "| 896        | David        | 32          | 37          | 50          | \n",
    "| 235        | Camila       | 31          | 53          | 69          | \n",
    "\n",
    "**Output**\n",
    "| difference_in_score | \n",
    "|---------------------|\n",
    "| 111                 | \n",
    "\n",
    "**Explanation**\n",
    "- student_id 309 has a total score of 88 + 47 + 87 = 222.\n",
    "- student_id 321 has a total score of 98 + 95 + 37 = 230.\n",
    "- student_id 338 has a total score of 100 + 64 + 43 = 207.\n",
    "- student_id 423 has a total score of 60 + 44 + 47 = 151.\n",
    "- student_id 896 has a total score of 32 + 37 + 50 = 119.\n",
    "- student_id 235 has a total score of 31 + 53 + 69 = 153.\n",
    "\n",
    "student_id 321 has the highest score of 230, while student_id 896 has the lowest score of 119. Therefore, the difference between them is 111."
   ]
  },
  {
   "cell_type": "code",
   "execution_count": 0,
   "metadata": {
    "application/vnd.databricks.v1+cell": {
     "cellMetadata": {},
     "inputWidgets": {},
     "nuid": "137536ea-9bec-4171-8dc2-4bf8b0d771b4",
     "showTitle": false,
     "tableResultSettingsMap": {},
     "title": ""
    }
   },
   "outputs": [],
   "source": [
    "scores_data_2989 = [\n",
    "    (309, \"Owen\", 88, 47, 87),\n",
    "    (321, \"Claire\", 98, 95, 37),\n",
    "    (338, \"Julian\", 100, 64, 43),\n",
    "    (423, \"Peyton\", 60, 44, 47),\n",
    "    (896, \"David\", 32, 37, 50),\n",
    "    (235, \"Camila\", 31, 53, 69)\n",
    "]\n",
    "\n",
    "scores_columns_2989 = [\"student_id\", \"student_name\", \"assignment1\", \"assignment2\", \"assignment3\"]\n",
    "scores_df_2989 = spark.createDataFrame(scores_data_2989, scores_columns_2989)\n",
    "scores_df_2989.show()\n"
   ]
  }
 ],
 "metadata": {
  "application/vnd.databricks.v1+notebook": {
   "computePreferences": null,
   "dashboards": [],
   "environmentMetadata": {
    "base_environment": "",
    "environment_version": "1"
   },
   "inputWidgetPreferences": null,
   "language": "python",
   "notebookMetadata": {
    "pythonIndentUnit": 4
   },
   "notebookName": "2989. Class Performance (Medium)",
   "widgets": {}
  },
  "language_info": {
   "name": "python"
  }
 },
 "nbformat": 4,
 "nbformat_minor": 0
}
