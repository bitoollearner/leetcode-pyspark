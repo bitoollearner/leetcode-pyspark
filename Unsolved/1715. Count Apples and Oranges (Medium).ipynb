{
 "cells": [
  {
   "cell_type": "markdown",
   "metadata": {
    "application/vnd.databricks.v1+cell": {
     "cellMetadata": {},
     "inputWidgets": {},
     "nuid": "fadf709d-de3d-4bfc-b69f-3b489de68bef",
     "showTitle": false,
     "tableResultSettingsMap": {},
     "title": ""
    }
   },
   "source": [
    "## Importing Libraries"
   ]
  },
  {
   "cell_type": "code",
   "execution_count": 0,
   "metadata": {
    "application/vnd.databricks.v1+cell": {
     "cellMetadata": {},
     "inputWidgets": {},
     "nuid": "d4a1fef1-aa99-469c-b35f-9b3f3e81c9f7",
     "showTitle": false,
     "tableResultSettingsMap": {},
     "title": ""
    }
   },
   "outputs": [],
   "source": [
    "from pyspark.sql.functions import *\n",
    "from pyspark.sql.types import *\n",
    "from pyspark.sql.window import Window"
   ]
  },
  {
   "cell_type": "markdown",
   "metadata": {
    "application/vnd.databricks.v1+cell": {
     "cellMetadata": {},
     "inputWidgets": {},
     "nuid": "78daa073-80d8-4f7e-9cfa-10f6eb568909",
     "showTitle": false,
     "tableResultSettingsMap": {},
     "title": ""
    }
   },
   "source": [
    "**1715. Count Apples and Oranges (Medium)**\n",
    "\n",
    "**Table: Boxes**\n",
    "\n",
    "| Column Name  | Type |\n",
    "|--------------|------|\n",
    "| box_id       | int  |\n",
    "| chest_id     | int  |\n",
    "| apple_count  | int  |\n",
    "| orange_count | int  |\n",
    "\n",
    "box_id is the column with unique values for this table.\n",
    "chest_id is a foreign key (reference column) of the chests table.\n",
    "This table contains information about the boxes and the number of oranges and apples they have. Each box may include a chest, which also can contain oranges and apples.\n",
    " \n",
    "**Table: Chests**\n",
    "\n",
    "| Column Name  | Type |\n",
    "|--------------|------|\n",
    "| chest_id     | int  |\n",
    "| apple_count  | int  |\n",
    "| orange_count | int  |\n",
    "\n",
    "chest_id is the column with unique values for this table.\n",
    "This table contains information about the chests and the corresponding number of oranges and apples they have.\n",
    " \n",
    "**Write a solution to count the number of apples and oranges in all the boxes. If a box contains a chest, you should also include the number of apples and oranges it has.**\n",
    "\n",
    "The result format is in the following example.\n",
    "\n",
    "**Example 1:**\n",
    "\n",
    "**Input:** \n",
    "\n",
    "**Boxes table:**\n",
    "\n",
    "| box_id | chest_id | apple_count | orange_count |\n",
    "|--------|----------|-------------|--------------|\n",
    "| 2      | null     | 6           | 15           |\n",
    "| 18     | 14       | 4           | 15           |\n",
    "| 19     | 3        | 8           | 4            |\n",
    "| 12     | 2        | 19          | 20           |\n",
    "| 20     | 6        | 12          | 9            |\n",
    "| 8      | 6        | 9           | 9            |\n",
    "| 3      | 14       | 16          | 7            |\n",
    "\n",
    "**Chests table:**\n",
    "| chest_id | apple_count | orange_count |\n",
    "|----------|-------------|--------------|\n",
    "| 6        | 5           | 6            |\n",
    "| 14       | 20          | 10           |\n",
    "| 2        | 8           | 8            |\n",
    "| 3        | 19          | 4            |\n",
    "| 16       | 19          | 19           |\n",
    "\n",
    "**Output:** \n",
    "| apple_count | orange_count |\n",
    "|-------------|--------------|\n",
    "| 151         | 123          |\n",
    "\n",
    "**Explanation:** \n",
    "- box 2 has 6 apples and 15 oranges.\n",
    "- box 18 has 4 + 20 (from the chest) = 24 apples and 15 + 10 (from the chest) = 25 oranges.\n",
    "- box 19 has 8 + 19 (from the chest) = 27 apples and 4 + 4 (from the chest) = 8 oranges.\n",
    "- box 12 has 19 + 8 (from the chest) = 27 apples and 20 + 8 (from the chest) = 28 oranges.\n",
    "- box 20 has 12 + 5 (from the chest) = 17 apples and 9 + 6 (from the chest) = 15 oranges.\n",
    "- box 8 has 9 + 5 (from the chest) = 14 apples and 9 + 6 (from the chest) = 15 oranges.\n",
    "- box 3 has 16 + 20 (from the chest) = 36 apples and 7 + 10 (from the chest) = 17 oranges.\n",
    "- Total number of apples = 6 + 24 + 27 + 27 + 17 + 14 + 36 = 151\n",
    "- Total number of oranges = 15 + 25 + 8 + 28 + 15 + 15 + 17 = 123"
   ]
  },
  {
   "cell_type": "code",
   "execution_count": 0,
   "metadata": {
    "application/vnd.databricks.v1+cell": {
     "cellMetadata": {},
     "inputWidgets": {},
     "nuid": "7b78bc27-26cd-4523-8646-7369baf68fcb",
     "showTitle": false,
     "tableResultSettingsMap": {},
     "title": ""
    }
   },
   "outputs": [],
   "source": [
    "boxes_data_1715 = [\n",
    "    (2, None, 6, 15),\n",
    "    (18, 14, 4, 15),\n",
    "    (19, 3, 8, 4),\n",
    "    (12, 2, 19, 20),\n",
    "    (20, 6, 12, 9),\n",
    "    (8, 6, 9, 9),\n",
    "    (3, 14, 16, 7)\n",
    "]\n",
    "\n",
    "boxes_columns_1715 = [\"box_id\", \"chest_id\", \"apple_count\", \"orange_count\"]\n",
    "boxes_df_1715 = spark.createDataFrame(boxes_data_1715, boxes_columns_1715)\n",
    "boxes_df_1715.show()\n",
    "\n",
    "chests_data_1715 = [\n",
    "    (6, 5, 6),\n",
    "    (14, 20, 10),\n",
    "    (2, 8, 8),\n",
    "    (3, 19, 4),\n",
    "    (16, 19, 19)\n",
    "]\n",
    "\n",
    "chests_columns_1715 = [\"chest_id\", \"apple_count\", \"orange_count\"]\n",
    "chests_df_1715 = spark.createDataFrame(chests_data_1715, chests_columns_1715)\n",
    "chests_df_1715.show()\n",
    "\n"
   ]
  }
 ],
 "metadata": {
  "application/vnd.databricks.v1+notebook": {
   "computePreferences": null,
   "dashboards": [],
   "environmentMetadata": {
    "base_environment": "",
    "environment_version": "1"
   },
   "inputWidgetPreferences": null,
   "language": "python",
   "notebookMetadata": {
    "pythonIndentUnit": 4
   },
   "notebookName": "1715. Count Apples and Oranges (Medium)",
   "widgets": {}
  },
  "language_info": {
   "name": "python"
  }
 },
 "nbformat": 4,
 "nbformat_minor": 0
}
