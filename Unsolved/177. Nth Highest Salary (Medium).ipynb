{
 "cells": [
  {
   "cell_type": "markdown",
   "metadata": {
    "application/vnd.databricks.v1+cell": {
     "cellMetadata": {},
     "inputWidgets": {},
     "nuid": "6555a7e2-9a4c-4919-8959-bf6edcc5ca0e",
     "showTitle": false,
     "tableResultSettingsMap": {},
     "title": ""
    }
   },
   "source": [
    "## Importing Libraries"
   ]
  },
  {
   "cell_type": "code",
   "execution_count": 0,
   "metadata": {
    "application/vnd.databricks.v1+cell": {
     "cellMetadata": {},
     "inputWidgets": {},
     "nuid": "278d9de7-2e50-4a96-b4d4-c8847f1e58c1",
     "showTitle": false,
     "tableResultSettingsMap": {},
     "title": ""
    }
   },
   "outputs": [],
   "source": [
    "from pyspark.sql.functions import *\n",
    "from pyspark.sql.types import *\n",
    "from pyspark.sql.window import Window"
   ]
  },
  {
   "cell_type": "markdown",
   "metadata": {
    "application/vnd.databricks.v1+cell": {
     "cellMetadata": {},
     "inputWidgets": {},
     "nuid": "3734811c-0c8d-4fb4-a170-4e53f123f29a",
     "showTitle": false,
     "tableResultSettingsMap": {},
     "title": ""
    }
   },
   "source": [
    "**177. Nth Highest Salary (Medium)**\n",
    "\n",
    "**Table: Employee**\n",
    "\n",
    "| Column Name | Type |\n",
    "|-------------|------|\n",
    "| id          | int  |\n",
    "| salary      | int  |\n",
    "\n",
    "id is the primary key (column with unique values) for this table. Each row of this table contains information about the salary of an employee.\n",
    " \n",
    "**Write a solution to find the nth highest salary from the Employee table. If there is no nth highest salary, return null.**\n",
    "\n",
    "The result format is in the following example.\n",
    "\n",
    "**Example 1:**\n",
    "\n",
    "**Input:**\n",
    "**Employee table:**\n",
    "| id | salary |\n",
    "|----|--------|\n",
    "| 1  | 100    |\n",
    "| 2  | 200    |\n",
    "| 3  | 300    |\n",
    "\n",
    "\n",
    "**n = 2**\n",
    "**Output:**\n",
    "| getNthHighestSalary(2) |\n",
    "|------------------------|\n",
    "| 200                    |\n",
    "\n",
    "**Example 2:**\n",
    "\n",
    "**Input:**\n",
    "**Employee table:**\n",
    "| id | salary |\n",
    "|----|--------|\n",
    "| 1  | 100    |\n",
    "\n",
    "**n = 2**\n",
    "**Output:**\n",
    "| getNthHighestSalary(2) |\n",
    "|------------------------|\n",
    "| null                   |"
   ]
  },
  {
   "cell_type": "code",
   "execution_count": 0,
   "metadata": {
    "application/vnd.databricks.v1+cell": {
     "cellMetadata": {},
     "inputWidgets": {},
     "nuid": "707dd883-a7ff-47f0-8c01-cf9c4283a851",
     "showTitle": false,
     "tableResultSettingsMap": {},
     "title": ""
    }
   },
   "outputs": [],
   "source": [
    "employee_177 = [(1, 100), (2, 200), (3, 300)]\n",
    "\n",
    "# Define the schema (column names)\n",
    "employee_columns_177 = [\"id\", \"salary\"]\n",
    "employee_df_177 = spark.createDataFrame(employee_177, employee_columns_177)\n",
    "employee_df_177.show()\n"
   ]
  }
 ],
 "metadata": {
  "application/vnd.databricks.v1+notebook": {
   "computePreferences": null,
   "dashboards": [],
   "environmentMetadata": {
    "base_environment": "",
    "environment_version": "1"
   },
   "inputWidgetPreferences": null,
   "language": "python",
   "notebookMetadata": {
    "pythonIndentUnit": 4
   },
   "notebookName": "177. Nth Highest Salary (Medium)",
   "widgets": {}
  },
  "language_info": {
   "name": "python"
  }
 },
 "nbformat": 4,
 "nbformat_minor": 0
}
