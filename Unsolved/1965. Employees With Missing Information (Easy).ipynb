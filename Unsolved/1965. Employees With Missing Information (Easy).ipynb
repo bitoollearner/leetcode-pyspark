{
 "cells": [
  {
   "cell_type": "markdown",
   "metadata": {
    "application/vnd.databricks.v1+cell": {
     "cellMetadata": {},
     "inputWidgets": {},
     "nuid": "e405a61e-83e0-4a83-8234-4a55e28c9c87",
     "showTitle": false,
     "tableResultSettingsMap": {},
     "title": ""
    }
   },
   "source": [
    "## Importing Libraries"
   ]
  },
  {
   "cell_type": "code",
   "execution_count": 0,
   "metadata": {
    "application/vnd.databricks.v1+cell": {
     "cellMetadata": {},
     "inputWidgets": {},
     "nuid": "bb35cd35-f82a-443f-90d7-d161591cdb61",
     "showTitle": false,
     "tableResultSettingsMap": {},
     "title": ""
    }
   },
   "outputs": [],
   "source": [
    "from pyspark.sql.functions import *\n",
    "from pyspark.sql.types import *\n",
    "from pyspark.sql.window import Window"
   ]
  },
  {
   "cell_type": "markdown",
   "metadata": {
    "application/vnd.databricks.v1+cell": {
     "cellMetadata": {},
     "inputWidgets": {},
     "nuid": "29ed3054-4879-4c88-8f36-f775ffecdfe0",
     "showTitle": false,
     "tableResultSettingsMap": {},
     "title": ""
    }
   },
   "source": [
    "**1965. Employees With Missing Information (Easy)**\n",
    "\n",
    "**Table: Employees**\n",
    "\n",
    "| Column Name | Type    |\n",
    "|-------------|---------|\n",
    "| employee_id | int     |\n",
    "| name        | varchar |\n",
    "\n",
    "employee_id is the column with unique values for this table.\n",
    "Each row of this table indicates the name of the employee whose ID is employee_id.\n",
    " \n",
    "**Table: Salaries**\n",
    "\n",
    "| Column Name | Type    |\n",
    "|-------------|---------|\n",
    "| employee_id | int     |\n",
    "| salary      | int     |\n",
    "\n",
    "employee_id is the column with unique values for this table.\n",
    "Each row of this table indicates the salary of the employee whose ID is employee_id.\n",
    " \n",
    "**Write a solution to report the IDs of all the employees with missing information. The information of an employee is missing if:**\n",
    "\n",
    "- The employee's name is missing, or\n",
    "- The employee's salary is missing.\n",
    "Return the result table ordered by employee_id in ascending order.\n",
    "\n",
    "The result format is in the following example.\n",
    "\n",
    "**Example 1:**\n",
    "\n",
    "**Input:**\n",
    "**Employees table:**\n",
    "| employee_id | name     |\n",
    "|-------------|----------|\n",
    "| 2           | Crew     |\n",
    "| 4           | Haven    |\n",
    "| 5           | Kristian |\n",
    "\n",
    "**Salaries table:**\n",
    "| employee_id | salary |\n",
    "|-------------|--------|\n",
    "| 5           | 76071  |\n",
    "| 1           | 22517  |\n",
    "| 4           | 63539  |\n",
    "\n",
    "**Output:**\n",
    "| employee_id |\n",
    "|-------------|\n",
    "| 1           |\n",
    "| 2           |\n",
    "\n",
    "**Explanation:**\n",
    "- Employees 1, 2, 4, and 5 are working at this company.\n",
    "- The name of employee 1 is missing.\n",
    "- The salary of employee 2 is missing.0"
   ]
  },
  {
   "cell_type": "code",
   "execution_count": 0,
   "metadata": {
    "application/vnd.databricks.v1+cell": {
     "cellMetadata": {},
     "inputWidgets": {},
     "nuid": "64a3f754-3c0a-4ca1-af02-4d6f736ea2e9",
     "showTitle": false,
     "tableResultSettingsMap": {},
     "title": ""
    }
   },
   "outputs": [],
   "source": [
    "employees_data_1965 = [\n",
    "    (2, \"Crew\"),\n",
    "    (4, \"Haven\"),\n",
    "    (5, \"Kristian\")\n",
    "]\n",
    "\n",
    "employees_columns_1965 = [\"employee_id\", \"name\"]\n",
    "employees_df_1965 = spark.createDataFrame(employees_data_1965, employees_columns_1965)\n",
    "employees_df_1965.show()\n",
    "\n",
    "salaries_data_1965 = [\n",
    "    (5, 76071),\n",
    "    (1, 22517),\n",
    "    (4, 63539)\n",
    "]\n",
    "\n",
    "salaries_columns_1965 = [\"employee_id\", \"salary\"]\n",
    "salaries_df_1965 = spark.createDataFrame(salaries_data_1965, salaries_columns_1965)\n",
    "salaries_df_1965.show()"
   ]
  }
 ],
 "metadata": {
  "application/vnd.databricks.v1+notebook": {
   "computePreferences": null,
   "dashboards": [],
   "environmentMetadata": {
    "base_environment": "",
    "environment_version": "1"
   },
   "inputWidgetPreferences": null,
   "language": "python",
   "notebookMetadata": {
    "pythonIndentUnit": 4
   },
   "notebookName": "1965. Employees With Missing Information (Easy)",
   "widgets": {}
  },
  "language_info": {
   "name": "python"
  }
 },
 "nbformat": 4,
 "nbformat_minor": 0
}
