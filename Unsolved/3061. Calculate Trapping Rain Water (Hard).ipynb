{
 "cells": [
  {
   "cell_type": "markdown",
   "metadata": {
    "application/vnd.databricks.v1+cell": {
     "cellMetadata": {},
     "inputWidgets": {},
     "nuid": "7d1791bd-9552-4116-90b2-daa678bbffb8",
     "showTitle": false,
     "tableResultSettingsMap": {},
     "title": ""
    }
   },
   "source": [
    "## Importing Libraries"
   ]
  },
  {
   "cell_type": "code",
   "execution_count": 0,
   "metadata": {
    "application/vnd.databricks.v1+cell": {
     "cellMetadata": {},
     "inputWidgets": {},
     "nuid": "2901fbc9-49db-4285-8b94-c460f34d4c4f",
     "showTitle": false,
     "tableResultSettingsMap": {},
     "title": ""
    }
   },
   "outputs": [],
   "source": [
    "from pyspark.sql.functions import *\n",
    "from pyspark.sql.types import *\n",
    "from pyspark.sql.window import Window"
   ]
  },
  {
   "cell_type": "markdown",
   "metadata": {
    "application/vnd.databricks.v1+cell": {
     "cellMetadata": {},
     "inputWidgets": {},
     "nuid": "655120e7-6b25-417c-a08a-c6925feaa425",
     "showTitle": false,
     "tableResultSettingsMap": {},
     "title": ""
    }
   },
   "source": [
    "**3061. Calculate Trapping Rain Water (Hard)**\n",
    "\n",
    "**Table: Heights**\n",
    "\n",
    "\n",
    "| Column Name | Type |\n",
    "|-------------|------|\n",
    "| id          | int  |\n",
    "| height      | int  |\n",
    "\n",
    "id is the primary key (column with unique values) for this table, and it is guaranteed to be in sequential order.\n",
    "Each row of this table contains an id and height.\n",
    "\n",
    "**Write a solution to calculate the amount of rainwater can be trapped between the bars in the landscape, considering that each bar has a width of 1 unit.**\n",
    "\n",
    "Return the result table in any order.\n",
    "\n",
    "The result format is in the following example.\n",
    "\n",
    "**Example 1:**\n",
    "\n",
    "**Input:**\n",
    "**Heights table:**\n",
    "| id  | height |\n",
    "|-----|--------|\n",
    "| 1   | 0      |\n",
    "| 2   | 1      |\n",
    "| 3   | 0      |\n",
    "| 4   | 2      |\n",
    "| 5   | 1      |\n",
    "| 6   | 0      |\n",
    "| 7   | 1      |\n",
    "| 8   | 3      |\n",
    "| 9   | 2      |\n",
    "| 10  | 1      |\n",
    "| 11  | 2      |\n",
    "| 12  | 1      |\n",
    "\n",
    "**Output:**\n",
    "| total_trapped_water | \n",
    "|---------------------|\n",
    "| 6                   | \n",
    "\n",
    "**Explanation:**\n",
    "\n",
    "![](https://fastly.jsdelivr.net/gh/doocs/leetcode@main/solution/3000-3099/3061.Calculate%20Trapping%20Rain%20Water/images/trapping_rain_water.png)\n",
    "\n",
    "The elevation map depicted above (in the black section) is graphically represented with the x-axis denoting the id and the y-axis representing the heights [0,1,0,2,1,0,1,3,2,1,2,1]. In this scenario, 6 units of rainwater are trapped within the blue section."
   ]
  },
  {
   "cell_type": "code",
   "execution_count": 0,
   "metadata": {
    "application/vnd.databricks.v1+cell": {
     "cellMetadata": {},
     "inputWidgets": {},
     "nuid": "a2368434-0191-416c-aa1d-12cd44cf48e6",
     "showTitle": false,
     "tableResultSettingsMap": {},
     "title": ""
    }
   },
   "outputs": [],
   "source": [
    "heights_data_3061 = [\n",
    "    (1, 0), (2, 1), (3, 0), (4, 2), (5, 1), (6, 0), (7, 1), \n",
    "    (8, 3), (9, 2), (10, 1), (11, 2), (12, 1)\n",
    "]\n",
    "\n",
    "heights_columns_3061 = [\"id\", \"height\"]\n",
    "heights_df_3061 = spark.createDataFrame(heights_data_3061, heights_columns_3061)\n",
    "heights_df_3061.show()"
   ]
  }
 ],
 "metadata": {
  "application/vnd.databricks.v1+notebook": {
   "computePreferences": null,
   "dashboards": [],
   "environmentMetadata": {
    "base_environment": "",
    "environment_version": "1"
   },
   "inputWidgetPreferences": null,
   "language": "python",
   "notebookMetadata": {
    "pythonIndentUnit": 4
   },
   "notebookName": "3061. Calculate Trapping Rain Water (Hard)",
   "widgets": {}
  },
  "language_info": {
   "name": "python"
  }
 },
 "nbformat": 4,
 "nbformat_minor": 0
}
