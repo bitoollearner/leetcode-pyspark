{
 "cells": [
  {
   "cell_type": "markdown",
   "metadata": {
    "application/vnd.databricks.v1+cell": {
     "cellMetadata": {},
     "inputWidgets": {},
     "nuid": "3f2ab884-5b2e-4c2a-b90f-eba6d7208edf",
     "showTitle": false,
     "tableResultSettingsMap": {},
     "title": ""
    }
   },
   "source": [
    "## Importing Libraries"
   ]
  },
  {
   "cell_type": "code",
   "execution_count": 0,
   "metadata": {
    "application/vnd.databricks.v1+cell": {
     "cellMetadata": {},
     "inputWidgets": {},
     "nuid": "26c9d69f-b471-43b4-aaee-40c41d01994e",
     "showTitle": false,
     "tableResultSettingsMap": {},
     "title": ""
    }
   },
   "outputs": [],
   "source": [
    "from pyspark.sql.functions import *\n",
    "from pyspark.sql.types import *\n",
    "from pyspark.sql.window import Window"
   ]
  },
  {
   "cell_type": "markdown",
   "metadata": {
    "application/vnd.databricks.v1+cell": {
     "cellMetadata": {},
     "inputWidgets": {},
     "nuid": "fa1c2280-e46c-403e-8996-25b01a84ec72",
     "showTitle": false,
     "tableResultSettingsMap": {},
     "title": ""
    }
   },
   "source": [
    "**1070. Product Sales Analysis III (Medium)**\n",
    "\n",
    "**Table: Sales**\n",
    "\n",
    "| Column Name | Type  |\n",
    "|-------------|-------|\n",
    "| sale_id     | int   |\n",
    "| product_id  | int   |\n",
    "| year        | int   |\n",
    "| quantity    | int   |\n",
    "| price       | int   |\n",
    "\n",
    "(sale_id, year) is the primary key (combination of columns with unique values) of this table.\n",
    "product_id is a foreign key (reference column) to Product table.\n",
    "Each row of this table shows a sale on the product product_id in a certain year.\n",
    "Note that the price is per unit.\n",
    " \n",
    "**Table: Product**\n",
    "\n",
    "| Column Name  | Type    |\n",
    "|--------------|---------|\n",
    "| product_id   | int     |\n",
    "| product_name | varchar |\n",
    "\n",
    "product_id is the primary key (column with unique values) of this table.\n",
    "Each row of this table indicates the product name of each product.\n",
    " \n",
    "**Write a solution to select the product id, year, quantity, and price for the first year of every product sold.**\n",
    "\n",
    "Return the resulting table in any order.\n",
    "\n",
    "The result format is in the following example.\n",
    "\n",
    "**Example 1:**\n",
    "\n",
    "**Input:**\n",
    "**Sales table:**\n",
    "| sale_id | product_id | year | quantity | price |\n",
    "|---------|------------|------|----------|-------| \n",
    "| 1       | 100        | 2008 | 10       | 5000  |\n",
    "| 2       | 100        | 2009 | 12       | 5000  |\n",
    "| 7       | 200        | 2011 | 15       | 9000  |\n",
    "\n",
    "**Product table:**\n",
    "| product_id | product_name |\n",
    "|------------|--------------|\n",
    "| 100        | Nokia        |\n",
    "| 200        | Apple        |\n",
    "| 300        | Samsung      |\n",
    "\n",
    "**Output:**\n",
    "| product_name | first_year | quantity | price |\n",
    "|------------|------------|----------|-------| \n",
    "| Nokia      | 2008       | 10       | 5000  |\n",
    "| Apple      | 2011       | 15       | 9000  |\n"
   ]
  },
  {
   "cell_type": "code",
   "execution_count": 0,
   "metadata": {
    "application/vnd.databricks.v1+cell": {
     "cellMetadata": {},
     "inputWidgets": {},
     "nuid": "dddf2382-d3f5-49ba-9108-34f298edfb81",
     "showTitle": false,
     "tableResultSettingsMap": {},
     "title": ""
    }
   },
   "outputs": [],
   "source": [
    "sales_data_1070 = [\n",
    "    (1, 100, 2008, 10, 5000),\n",
    "    (2, 100, 2009, 12, 5000),\n",
    "    (7, 200, 2011, 15, 9000)\n",
    "]\n",
    "\n",
    "sales_columns_1070 = [\"sale_id\", \"product_id\", \"year\", \"quantity\", \"price\"]\n",
    "sales_df_1070 = spark.createDataFrame(sales_data_1070, sales_columns_1070)\n",
    "sales_df_1070.show()\n",
    "\n",
    "product_data_1070 = [\n",
    "    (100, \"Nokia\"),\n",
    "    (200, \"Apple\"),\n",
    "    (300, \"Samsung\")\n",
    "]\n",
    "\n",
    "product_columns_1070 = [\"product_id\", \"product_name\"]\n",
    "product_df_1070 = spark.createDataFrame(product_data_1070, product_columns_1070)\n",
    "product_df_1070.show()"
   ]
  }
 ],
 "metadata": {
  "application/vnd.databricks.v1+notebook": {
   "computePreferences": null,
   "dashboards": [],
   "environmentMetadata": {
    "base_environment": "",
    "environment_version": "1"
   },
   "inputWidgetPreferences": null,
   "language": "python",
   "notebookMetadata": {
    "pythonIndentUnit": 4
   },
   "notebookName": "1070. Product Sales Analysis III (Medium)",
   "widgets": {}
  },
  "language_info": {
   "name": "python"
  }
 },
 "nbformat": 4,
 "nbformat_minor": 0
}
