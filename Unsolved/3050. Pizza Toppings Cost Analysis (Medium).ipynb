{
 "cells": [
  {
   "cell_type": "markdown",
   "metadata": {
    "application/vnd.databricks.v1+cell": {
     "cellMetadata": {},
     "inputWidgets": {},
     "nuid": "4e9d71b1-88e9-445c-820a-b842e217a4e7",
     "showTitle": false,
     "tableResultSettingsMap": {},
     "title": ""
    }
   },
   "source": [
    "## Importing Libraries"
   ]
  },
  {
   "cell_type": "code",
   "execution_count": 0,
   "metadata": {
    "application/vnd.databricks.v1+cell": {
     "cellMetadata": {},
     "inputWidgets": {},
     "nuid": "e6624c4d-8cb8-4ac4-8c72-81d1b4ecdb57",
     "showTitle": false,
     "tableResultSettingsMap": {},
     "title": ""
    }
   },
   "outputs": [],
   "source": [
    "from pyspark.sql.functions import *\n",
    "from pyspark.sql.types import *\n",
    "from pyspark.sql.window import Window"
   ]
  },
  {
   "cell_type": "markdown",
   "metadata": {
    "application/vnd.databricks.v1+cell": {
     "cellMetadata": {},
     "inputWidgets": {},
     "nuid": "c3788fe5-f4c9-420f-ad72-ec1a39310a2a",
     "showTitle": false,
     "tableResultSettingsMap": {},
     "title": ""
    }
   },
   "source": [
    "**3050. Pizza Toppings Cost Analysis (Medium)**\n",
    "\n",
    "**Table: Toppings**\n",
    "\n",
    "| Column Name  | Type    | \n",
    "|--------------|---------| \n",
    "| topping_name | varchar | \n",
    "| cost         | decimal |\n",
    "\n",
    "topping_name is the primary key for this table.\n",
    "Each row of this table contains topping name and the cost of the topping. \n",
    "\n",
    "**Write a solution to calculate the total cost of all possible 3-topping pizza combinations from a given list of toppings. The total cost of toppings must be rounded to 2 decimal places.**\n",
    "\n",
    "**Note:**\n",
    "- Do not include the pizzas where a topping is repeated. For example, ‘Pepperoni, Pepperoni, Onion Pizza’.\n",
    "- Toppings must be listed in alphabetical order. For example, 'Chicken, Onions, Sausage'. 'Onion, Sausage, Chicken' is not acceptable.\n",
    "\n",
    "Return the result table ordered by total cost in descending order and combination of toppings in ascending order.\n",
    "\n",
    "The result format is in the following example.\n",
    "\n",
    "**Example 1:**\n",
    "\n",
    "**Input:**\n",
    "\n",
    "**Toppings table:**\n",
    "\n",
    "| topping_name | cost |\n",
    "|--------------|------|\n",
    "| Pepperoni    | 0.50 |\n",
    "| Sausage      | 0.70 |\n",
    "| Chicken      | 0.55 |\n",
    "| Extra Cheese | 0.40 |\n",
    "\n",
    "**Output:**\n",
    "| pizza                          | total_cost | \n",
    "|--------------------------------|------------|\n",
    "| Chicken,Pepperoni,Sausage      | 1.75       |  \n",
    "| Chicken,Extra Cheese,Sausage   | 1.65       |\n",
    "| Extra Cheese,Pepperoni,Sausage | 1.60       |\n",
    "| Chicken,Extra Cheese,Pepperoni | 1.45       | \n",
    "\n",
    "**Explanation:**\n",
    "There are only four different combinations possible with the three topings:\n",
    "- Chicken, Pepperoni, Sausage: Total cost is $1.75 (Chicken $0.55, Pepperoni $0.50, Sausage $0.70).\n",
    "- Chicken, Extra Cheese, Sausage: Total cost is $1.65 (Chicken $0.55, Extra Cheese $0.40, Sausage $0.70).\n",
    "- Extra Cheese, Pepperoni, Sausage: Total cost is $1.60 (Extra Cheese $0.40, Pepperoni $0.50, Sausage $0.70).\n",
    "- Chicken, Extra Cheese, Pepperoni: Total cost is $1.45 (Chicken $0.55, Extra Cheese $0.40, Pepperoni $0.50).\n",
    "\n",
    "Output table is ordered by the total cost in descending order."
   ]
  },
  {
   "cell_type": "code",
   "execution_count": 0,
   "metadata": {
    "application/vnd.databricks.v1+cell": {
     "cellMetadata": {},
     "inputWidgets": {},
     "nuid": "137536ea-9bec-4171-8dc2-4bf8b0d771b4",
     "showTitle": false,
     "tableResultSettingsMap": {},
     "title": ""
    }
   },
   "outputs": [],
   "source": [
    "toppings_data_3050 = [\n",
    "    (\"Pepperoni\", 0.50),\n",
    "    (\"Sausage\", 0.70),\n",
    "    (\"Chicken\", 0.55),\n",
    "    (\"Extra Cheese\", 0.40),\n",
    "]\n",
    "\n",
    "toppings_columns_3050 = [\"topping_name\", \"cost\"]\n",
    "toppings_df_3050 = spark.createDataFrame(toppings_data_3050, toppings_columns_3050)\n",
    "toppings_df_3050.show()"
   ]
  }
 ],
 "metadata": {
  "application/vnd.databricks.v1+notebook": {
   "computePreferences": null,
   "dashboards": [],
   "environmentMetadata": {
    "base_environment": "",
    "environment_version": "1"
   },
   "inputWidgetPreferences": null,
   "language": "python",
   "notebookMetadata": {
    "pythonIndentUnit": 4
   },
   "notebookName": "3050. Pizza Toppings Cost Analysis (Medium)",
   "widgets": {}
  },
  "language_info": {
   "name": "python"
  }
 },
 "nbformat": 4,
 "nbformat_minor": 0
}
