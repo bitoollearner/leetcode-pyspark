{
 "cells": [
  {
   "cell_type": "markdown",
   "metadata": {
    "application/vnd.databricks.v1+cell": {
     "cellMetadata": {},
     "inputWidgets": {},
     "nuid": "4e9d71b1-88e9-445c-820a-b842e217a4e7",
     "showTitle": false,
     "tableResultSettingsMap": {},
     "title": ""
    }
   },
   "source": [
    "## Importing Libraries"
   ]
  },
  {
   "cell_type": "code",
   "execution_count": 0,
   "metadata": {
    "application/vnd.databricks.v1+cell": {
     "cellMetadata": {},
     "inputWidgets": {},
     "nuid": "e6624c4d-8cb8-4ac4-8c72-81d1b4ecdb57",
     "showTitle": false,
     "tableResultSettingsMap": {},
     "title": ""
    }
   },
   "outputs": [],
   "source": [
    "from pyspark.sql.functions import *\n",
    "from pyspark.sql.types import *\n",
    "from pyspark.sql.window import Window"
   ]
  },
  {
   "cell_type": "markdown",
   "metadata": {
    "application/vnd.databricks.v1+cell": {
     "cellMetadata": {},
     "inputWidgets": {},
     "nuid": "c3788fe5-f4c9-420f-ad72-ec1a39310a2a",
     "showTitle": false,
     "tableResultSettingsMap": {},
     "title": ""
    }
   },
   "source": [
    "**2480. Form a Chemical Bond (Easy)**\n",
    "\n",
    "**Table: Elements**\n",
    "\n",
    "| Column Name | Type    |\n",
    "|-------------|---------|\n",
    "| symbol      | varchar |\n",
    "| type        | enum    |\n",
    "| electrons   | int     |\n",
    "\n",
    "symbol is the primary key (column with unique values) for this table.\n",
    "Each row of this table contains information of one element.\n",
    "type is an ENUM (category) of type ('Metal', 'Nonmetal', 'Noble')\n",
    " - If type is Noble, electrons is 0.\n",
    " - If type is Metal, electrons is the number of electrons that one atom of this element can give.\n",
    " - If type is Nonmetal, electrons is the number of electrons that one atom of this element needs.\n",
    " \n",
    "Two elements can form a bond if one of them is 'Metal' and the other is 'Nonmetal'.\n",
    "\n",
    "**Write a solution to find all the pairs of elements that can form a bond.**\n",
    "\n",
    "Return the result table in any order.\n",
    "\n",
    "The result format is in the following example.\n",
    "\n",
    "**Example 1:**\n",
    "\n",
    "**Input:** \n",
    "\n",
    "**Elements table:**\n",
    "| symbol | type     | electrons |\n",
    "|--------|----------|-----------|\n",
    "| He     | Noble    | 0         |\n",
    "| Na     | Metal    | 1         |\n",
    "| Ca     | Metal    | 2         |\n",
    "| La     | Metal    | 3         |\n",
    "| Cl     | Nonmetal | 1         |\n",
    "| O      | Nonmetal | 2         |\n",
    "| N      | Nonmetal | 3         |\n",
    "\n",
    "**Output:** \n",
    "| metal | nonmetal |\n",
    "|-------|----------|\n",
    "| La    | Cl       |\n",
    "| Ca    | Cl       |\n",
    "| Na    | Cl       |\n",
    "| La    | O        |\n",
    "| Ca    | O        |\n",
    "| Na    | O        |\n",
    "| La    | N        |\n",
    "| Ca    | N        |\n",
    "| Na    | N        |\n",
    "\n",
    "**Explanation:** \n",
    "- Metal elements are La, Ca, and Na.\n",
    "- Nonmeal elements are Cl, O, and N.\n",
    "- Each Metal element pairs with a Nonmetal element in the output table."
   ]
  },
  {
   "cell_type": "code",
   "execution_count": 0,
   "metadata": {
    "application/vnd.databricks.v1+cell": {
     "cellMetadata": {},
     "inputWidgets": {},
     "nuid": "137536ea-9bec-4171-8dc2-4bf8b0d771b4",
     "showTitle": false,
     "tableResultSettingsMap": {},
     "title": ""
    }
   },
   "outputs": [],
   "source": [
    "elements_data_2480 = [\n",
    "    (\"He\", \"Noble\", 0),\n",
    "    (\"Na\", \"Metal\", 1),\n",
    "    (\"Ca\", \"Metal\", 2),\n",
    "    (\"La\", \"Metal\", 3),\n",
    "    (\"Cl\", \"Nonmetal\", 1),\n",
    "    (\"O\", \"Nonmetal\", 2),\n",
    "    (\"N\", \"Nonmetal\", 3)\n",
    "]\n",
    "\n",
    "elements_columns_2480 = [\"symbol\", \"type\", \"electrons\"]\n",
    "elements_df_2480 = spark.createDataFrame(elements_data_2480, elements_columns_2480)\n",
    "elements_df_2480.show()"
   ]
  }
 ],
 "metadata": {
  "application/vnd.databricks.v1+notebook": {
   "computePreferences": null,
   "dashboards": [],
   "environmentMetadata": {
    "base_environment": "",
    "environment_version": "1"
   },
   "inputWidgetPreferences": null,
   "language": "python",
   "notebookMetadata": {
    "pythonIndentUnit": 4
   },
   "notebookName": "2480. Form a Chemical Bond (Easy)",
   "widgets": {}
  },
  "language_info": {
   "name": "python"
  }
 },
 "nbformat": 4,
 "nbformat_minor": 0
}
