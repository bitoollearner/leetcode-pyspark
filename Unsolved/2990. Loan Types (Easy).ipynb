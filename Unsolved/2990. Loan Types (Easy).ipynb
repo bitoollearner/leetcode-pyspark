{
 "cells": [
  {
   "cell_type": "markdown",
   "metadata": {
    "application/vnd.databricks.v1+cell": {
     "cellMetadata": {},
     "inputWidgets": {},
     "nuid": "4e9d71b1-88e9-445c-820a-b842e217a4e7",
     "showTitle": false,
     "tableResultSettingsMap": {},
     "title": ""
    }
   },
   "source": [
    "## Importing Libraries"
   ]
  },
  {
   "cell_type": "code",
   "execution_count": 0,
   "metadata": {
    "application/vnd.databricks.v1+cell": {
     "cellMetadata": {},
     "inputWidgets": {},
     "nuid": "e6624c4d-8cb8-4ac4-8c72-81d1b4ecdb57",
     "showTitle": false,
     "tableResultSettingsMap": {},
     "title": ""
    }
   },
   "outputs": [],
   "source": [
    "from pyspark.sql.functions import *\n",
    "from pyspark.sql.types import *\n",
    "from pyspark.sql.window import Window"
   ]
  },
  {
   "cell_type": "markdown",
   "metadata": {
    "application/vnd.databricks.v1+cell": {
     "cellMetadata": {},
     "inputWidgets": {},
     "nuid": "c3788fe5-f4c9-420f-ad72-ec1a39310a2a",
     "showTitle": false,
     "tableResultSettingsMap": {},
     "title": ""
    }
   },
   "source": [
    "**2990. Loan Types (Easy)**\n",
    "\n",
    "**Table: Loans**\n",
    "\n",
    "| Column Name | Type    |\n",
    "|-------------|---------|\n",
    "| loan_id     | int     |\n",
    "| user_id     | int     |\n",
    "| loan_type   | varchar |\n",
    "\n",
    "loan_id is column of unique values for this table.\n",
    "This table contains loan_id, user_id, and loan_type.\n",
    "\n",
    "**Write a solution to find all distinct user_id's that have at least one Refinance loan type and at least one Mortgage loan type.**\n",
    "\n",
    "Return the result table ordered by user_id in ascending order.\n",
    "\n",
    "The result format is in the following example.\n",
    "\n",
    "**Example 1:**\n",
    "\n",
    "**Input:**\n",
    "**Loans table:**\n",
    "\n",
    "| loan_id | user_id | loan_type |\n",
    "|---------|---------|-----------|\n",
    "| 683     | 101     | Mortgage  |\n",
    "| 218     | 101     | AutoLoan  |\n",
    "| 802     | 101     | Inschool  |\n",
    "| 593     | 102     | Mortgage  |\n",
    "| 138     | 102     | Refinance |\n",
    "| 294     | 102     | Inschool  |\n",
    "| 308     | 103     | Refinance |\n",
    "| 389     | 104     | Mortgage  |\n",
    "\n",
    "**Output**\n",
    "| user_id | \n",
    "|---------|\n",
    "| 102     | \n",
    "\n",
    "**Explanation**\n",
    "- User_id 101 has three loan types, one of which is a Mortgage. However, this user does not have any loan type categorized as Refinance, so user_id 101 won't be considered.\n",
    "- User_id 102 possesses three loan types: one for Mortgage and one for Refinance. Hence, user_id 102 will be included in the result.\n",
    "- User_id 103 has a loan type of Refinance but lacks a Mortgage loan type, so user_id 103 won't be considered.\n",
    "- User_id 104 has a Mortgage loan type but doesn't have a Refinance loan type, thus, user_id 104 won't be considered.\n",
    "\n",
    "Output table is ordered by user_id in ascending order."
   ]
  },
  {
   "cell_type": "code",
   "execution_count": 0,
   "metadata": {
    "application/vnd.databricks.v1+cell": {
     "cellMetadata": {},
     "inputWidgets": {},
     "nuid": "137536ea-9bec-4171-8dc2-4bf8b0d771b4",
     "showTitle": false,
     "tableResultSettingsMap": {},
     "title": ""
    }
   },
   "outputs": [],
   "source": [
    "loans_data_2990 = [\n",
    "    (683, 101, \"Mortgage\"),\n",
    "    (218, 101, \"AutoLoan\"),\n",
    "    (802, 101, \"Inschool\"),\n",
    "    (593, 102, \"Mortgage\"),\n",
    "    (138, 102, \"Refinance\"),\n",
    "    (294, 102, \"Inschool\"),\n",
    "    (308, 103, \"Refinance\"),\n",
    "    (389, 104, \"Mortgage\")\n",
    "]\n",
    "\n",
    "loans_columns_2990 = [\"loan_id\", \"user_id\", \"loan_type\"]\n",
    "loans_df_2990 = spark.createDataFrame(loans_data_2990, loans_columns_2990)\n",
    "loans_df_2990.show()\n"
   ]
  }
 ],
 "metadata": {
  "application/vnd.databricks.v1+notebook": {
   "computePreferences": null,
   "dashboards": [],
   "environmentMetadata": {
    "base_environment": "",
    "environment_version": "1"
   },
   "inputWidgetPreferences": null,
   "language": "python",
   "notebookMetadata": {
    "pythonIndentUnit": 4
   },
   "notebookName": "2990. Loan Types (Easy)",
   "widgets": {}
  }
 },
 "nbformat": 4,
 "nbformat_minor": 0
}