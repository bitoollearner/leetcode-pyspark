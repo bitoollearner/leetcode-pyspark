{
 "cells": [
  {
   "cell_type": "markdown",
   "metadata": {
    "application/vnd.databricks.v1+cell": {
     "cellMetadata": {},
     "inputWidgets": {},
     "nuid": "4e9d71b1-88e9-445c-820a-b842e217a4e7",
     "showTitle": false,
     "tableResultSettingsMap": {},
     "title": ""
    }
   },
   "source": [
    "## Importing Libraries"
   ]
  },
  {
   "cell_type": "code",
   "execution_count": 0,
   "metadata": {
    "application/vnd.databricks.v1+cell": {
     "cellMetadata": {},
     "inputWidgets": {},
     "nuid": "e6624c4d-8cb8-4ac4-8c72-81d1b4ecdb57",
     "showTitle": false,
     "tableResultSettingsMap": {},
     "title": ""
    }
   },
   "outputs": [],
   "source": [
    "from pyspark.sql.functions import *\n",
    "from pyspark.sql.types import *\n",
    "from pyspark.sql.window import Window"
   ]
  },
  {
   "cell_type": "markdown",
   "metadata": {
    "application/vnd.databricks.v1+cell": {
     "cellMetadata": {},
     "inputWidgets": {},
     "nuid": "c3788fe5-f4c9-420f-ad72-ec1a39310a2a",
     "showTitle": false,
     "tableResultSettingsMap": {},
     "title": ""
    }
   },
   "source": [
    "**2494. Merge Overlapping Events in the Same Hall (Hard)**\n",
    "\n",
    "**Table: HallEvents**\n",
    "\n",
    "| Column Name | Type |\n",
    "|-------------|------|\n",
    "| hall_id     | int  |\n",
    "| start_day   | date |\n",
    "| end_day     | date |\n",
    "\n",
    "This table may contain duplicates rows.\n",
    "Each row of this table indicates the start day and end day of an event and the hall in which the event is held.\n",
    " \n",
    "**Write a solution to merge all the overlapping events that are held in the same hall. Two events overlap if they have at least one day in common.**\n",
    "\n",
    "Return the result table in any order.\n",
    "\n",
    "The result format is in the following example.\n",
    "\n",
    "**Example 1:**\n",
    "\n",
    "**Input:** \n",
    "\n",
    "**HallEvents table:**\n",
    "| hall_id | start_day  | end_day    |\n",
    "|---------|------------|------------|\n",
    "| 1       | 2023-01-13 | 2023-01-14 |\n",
    "| 1       | 2023-01-14 | 2023-01-17 |\n",
    "| 1       | 2023-01-18 | 2023-01-25 |\n",
    "| 2       | 2022-12-09 | 2022-12-23 |\n",
    "| 2       | 2022-12-13 | 2022-12-17 |\n",
    "| 3       | 2022-12-01 | 2023-01-30 |\n",
    "\n",
    "**Output:** \n",
    "| hall_id | start_day  | end_day    |\n",
    "|---------|------------|------------|\n",
    "| 1       | 2023-01-13 | 2023-01-17 |\n",
    "| 1       | 2023-01-18 | 2023-01-25 |\n",
    "| 2       | 2022-12-09 | 2022-12-23 |\n",
    "| 3       | 2022-12-01 | 2023-01-30 |\n",
    "\n",
    "**Explanation:** There are three halls.\n",
    "\n",
    "Hall 1:\n",
    "- The two events [\"2023-01-13\", \"2023-01-14\"] and [\"2023-01-14\", \"2023-01-17\"] overlap. We merge them in one event [\"2023-01-13\", \"2023-01-17\"].\n",
    "- The event [\"2023-01-18\", \"2023-01-25\"] does not overlap with any other event, so we leave it as it is.\n",
    "\n",
    "Hall 2:\n",
    "- The two events [\"2022-12-09\", \"2022-12-23\"] and [\"2022-12-13\", \"2022-12-17\"] overlap. We merge them in one event [\"2022-12-09\", \"2022-12-23\"].\n",
    "\n",
    "Hall 3:\n",
    "- The hall has only one event, so we return it. Note that we only consider the events of each hall separately."
   ]
  },
  {
   "cell_type": "code",
   "execution_count": 0,
   "metadata": {
    "application/vnd.databricks.v1+cell": {
     "cellMetadata": {},
     "inputWidgets": {},
     "nuid": "137536ea-9bec-4171-8dc2-4bf8b0d771b4",
     "showTitle": false,
     "tableResultSettingsMap": {},
     "title": ""
    }
   },
   "outputs": [],
   "source": [
    "hall_events_data_2494 = [\n",
    "    (1, \"2023-01-13\", \"2023-01-14\"),\n",
    "    (1, \"2023-01-14\", \"2023-01-17\"),\n",
    "    (1, \"2023-01-18\", \"2023-01-25\"),\n",
    "    (2, \"2022-12-09\", \"2022-12-23\"),\n",
    "    (2, \"2022-12-13\", \"2022-12-17\"),\n",
    "    (3, \"2022-12-01\", \"2023-01-30\"),\n",
    "]\n",
    "\n",
    "hall_events_columns_2494 = [\"hall_id\", \"start_day\", \"end_day\"]\n",
    "hall_events_df_2494 = spark.createDataFrame(hall_events_data_2494, hall_events_columns_2494)\n",
    "hall_events_df_2494.show()\n"
   ]
  }
 ],
 "metadata": {
  "application/vnd.databricks.v1+notebook": {
   "computePreferences": null,
   "dashboards": [],
   "environmentMetadata": {
    "base_environment": "",
    "environment_version": "1"
   },
   "inputWidgetPreferences": null,
   "language": "python",
   "notebookMetadata": {
    "pythonIndentUnit": 4
   },
   "notebookName": "2494. Merge Overlapping Events in the Same Hall (Hard)",
   "widgets": {}
  }
 },
 "nbformat": 4,
 "nbformat_minor": 0
}