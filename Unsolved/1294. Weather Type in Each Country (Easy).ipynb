{
 "cells": [
  {
   "cell_type": "markdown",
   "metadata": {
    "application/vnd.databricks.v1+cell": {
     "cellMetadata": {},
     "inputWidgets": {},
     "nuid": "82383caa-9b15-409a-9acb-968b851c477b",
     "showTitle": false,
     "tableResultSettingsMap": {},
     "title": ""
    }
   },
   "source": [
    "## Importing Libraries"
   ]
  },
  {
   "cell_type": "code",
   "execution_count": 0,
   "metadata": {
    "application/vnd.databricks.v1+cell": {
     "cellMetadata": {},
     "inputWidgets": {},
     "nuid": "83322872-9913-4063-98cf-4aaea5fd3337",
     "showTitle": false,
     "tableResultSettingsMap": {},
     "title": ""
    }
   },
   "outputs": [],
   "source": [
    "from pyspark.sql.functions import *\n",
    "from pyspark.sql.types import *\n",
    "from pyspark.sql.window import Window"
   ]
  },
  {
   "cell_type": "markdown",
   "metadata": {
    "application/vnd.databricks.v1+cell": {
     "cellMetadata": {},
     "inputWidgets": {},
     "nuid": "e475f002-2b95-4d27-958c-aeab86c066ed",
     "showTitle": false,
     "tableResultSettingsMap": {},
     "title": ""
    }
   },
   "source": [
    "**1294. Weather Type in Each Country (Easy)**\n",
    "\n",
    "**Table: Countries**\n",
    "\n",
    "| Column Name   | Type    |\n",
    "|---------------|---------|\n",
    "| country_id    | int     |\n",
    "| country_name  | varchar |\n",
    "\n",
    "country_id is the primary key (column with unique values) for this table.\n",
    "Each row of this table contains the ID and the name of one country.\n",
    " \n",
    "**Table: Weather**\n",
    "\n",
    "| Column Name   | Type |\n",
    "|---------------|------|\n",
    "| country_id    | int  |\n",
    "| weather_state | int  |\n",
    "| day           | date |\n",
    "\n",
    "(country_id, day) is the primary key (combination of columns with unique values) for this table.\n",
    "Each row of this table indicates the weather state in a country for one day.\n",
    " \n",
    "**Write a solution to find the type of weather in each country for November 2019.**\n",
    "\n",
    "The type of weather is:\n",
    "- **Cold** if the average weather_state is less than or equal 15,\n",
    "- **Hot** if the average weather_state is greater than or equal to 25, and\n",
    "- **Warm** otherwise.\n",
    "\n",
    "Return the result table in any order.\n",
    "\n",
    "The result format is in the following example.\n",
    "\n",
    "**Example 1:**\n",
    "\n",
    "**Input:** \n",
    "\n",
    "**Countries table:**\n",
    "\n",
    "| country_id | country_name |\n",
    "|------------|--------------|\n",
    "| 2          | USA          |\n",
    "| 3          | Australia    |\n",
    "| 7          | Peru         |\n",
    "| 5          | China        |\n",
    "| 8          | Morocco      |\n",
    "| 9          | Spain        |\n",
    "\n",
    "**Weather table:**\n",
    "| country_id | weather_state | day        |\n",
    "|------------|---------------|------------|\n",
    "| 2          | 15            | 2019-11-01 |\n",
    "| 2          | 12            | 2019-10-28 |\n",
    "| 2          | 12            | 2019-10-27 |\n",
    "| 3          | -2            | 2019-11-10 |\n",
    "| 3          | 0             | 2019-11-11 |\n",
    "| 3          | 3             | 2019-11-12 |\n",
    "| 5          | 16            | 2019-11-07 |\n",
    "| 5          | 18            | 2019-11-09 |\n",
    "| 5          | 21            | 2019-11-23 |\n",
    "| 7          | 25            | 2019-11-28 |\n",
    "| 7          | 22            | 2019-12-01 |\n",
    "| 7          | 20            | 2019-12-02 |\n",
    "| 8          | 25            | 2019-11-05 |\n",
    "| 8          | 27            | 2019-11-15 |\n",
    "| 8          | 31            | 2019-11-25 |\n",
    "| 9          | 7             | 2019-10-23 |\n",
    "| 9          | 3             | 2019-12-23 |\n",
    "\n",
    "**Output:** \n",
    "| country_name | weather_type |\n",
    "|--------------|--------------|\n",
    "| USA          | Cold         |\n",
    "| Australia    | Cold         |\n",
    "| Peru         | Hot          |\n",
    "| Morocco      | Hot          |\n",
    "| China        | Warm         |\n",
    "\n",
    "**Explanation:** \n",
    "- Average weather_state in USA in November is (15) / 1 = 15 so weather type is Cold.\n",
    "- Average weather_state in Austraila in November is (-2 + 0 + 3) / 3 = 0.333 so weather type is Cold.\n",
    "- Average weather_state in Peru in November is (25) / 1 = 25 so the weather type is Hot.\n",
    "- Average weather_state in China in November is (16 + 18 + 21) / 3 = 18.333 so weather type is Warm.\n",
    "- Average weather_state in Morocco in November is (25 + 27 + 31) / 3 = 27.667 so weather type is Hot.\n",
    "\n",
    "We know nothing about the average weather_state in Spain in November so we do not include it in the result table."
   ]
  },
  {
   "cell_type": "code",
   "execution_count": 0,
   "metadata": {
    "application/vnd.databricks.v1+cell": {
     "cellMetadata": {},
     "inputWidgets": {},
     "nuid": "a073d765-b3a4-4bda-a02f-ac5e3671a222",
     "showTitle": false,
     "tableResultSettingsMap": {},
     "title": ""
    }
   },
   "outputs": [],
   "source": [
    "countries_data_1294 = [\n",
    "    (2, \"USA\"),\n",
    "    (3, \"Australia\"),\n",
    "    (7, \"Peru\"),\n",
    "    (5, \"China\"),\n",
    "    (8, \"Morocco\"),\n",
    "    (9, \"Spain\")\n",
    "]\n",
    "countries_columns_1294 = [\"country_id\", \"country_name\"]\n",
    "countries_df_1294 = spark.createDataFrame(countries_data_1294, countries_columns_1294)\n",
    "countries_df_1294.show()\n",
    "\n",
    "weather_data_1294 = [\n",
    "    (2, 15, \"2019-11-01\"),\n",
    "    (2, 12, \"2019-10-28\"),\n",
    "    (2, 12, \"2019-10-27\"),\n",
    "    (3, -2, \"2019-11-10\"),\n",
    "    (3, 0, \"2019-11-11\"),\n",
    "    (3, 3, \"2019-11-12\"),\n",
    "    (5, 16, \"2019-11-07\"),\n",
    "    (5, 18, \"2019-11-09\"),\n",
    "    (5, 21, \"2019-11-23\"),\n",
    "    (7, 25, \"2019-11-28\"),\n",
    "    (7, 22, \"2019-12-01\"),\n",
    "    (7, 20, \"2019-12-02\"),\n",
    "    (8, 25, \"2019-11-05\"),\n",
    "    (8, 27, \"2019-11-15\"),\n",
    "    (8, 31, \"2019-11-25\"),\n",
    "    (9, 7, \"2019-10-23\"),\n",
    "    (9, 3, \"2019-12-23\")\n",
    "]\n",
    "\n",
    "weather_columns_1294 = [\"country_id\", \"weather_state\", \"day\"]\n",
    "weather_df_1294 = spark.createDataFrame(weather_data_1294, weather_columns_1294)\n",
    "weather_df_1294.show()"
   ]
  }
 ],
 "metadata": {
  "application/vnd.databricks.v1+notebook": {
   "computePreferences": null,
   "dashboards": [],
   "environmentMetadata": {
    "base_environment": "",
    "environment_version": "1"
   },
   "inputWidgetPreferences": null,
   "language": "python",
   "notebookMetadata": {
    "pythonIndentUnit": 4
   },
   "notebookName": "1294. Weather Type in Each Country (Easy)",
   "widgets": {}
  },
  "language_info": {
   "name": "python"
  }
 },
 "nbformat": 4,
 "nbformat_minor": 0
}
